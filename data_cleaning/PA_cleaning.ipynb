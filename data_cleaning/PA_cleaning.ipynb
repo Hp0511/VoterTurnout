{
 "cells": [
  {
   "cell_type": "code",
   "execution_count": 1,
   "id": "aa200fab",
   "metadata": {},
   "outputs": [],
   "source": [
    "import pandas as pd\n",
    "import glob\n",
    "import os\n",
    "from pprint import pprint"
   ]
  },
  {
   "cell_type": "code",
   "execution_count": 2,
   "id": "c263c4df",
   "metadata": {},
   "outputs": [],
   "source": [
    "#Get all CSV files in the folder of GA\n",
    "all_files = glob.glob(r\"C:\\Huy Phan\\College\\VoterTurnout\\data\\PA\\2016\\*.csv\")\n",
    "\n",
    "# Files that contain both 'precinct' and 'general' in the filename\n",
    "general_files = [\n",
    "    f for f in all_files\n",
    "    if all(word in f.lower() for word in ['precinct', 'general'])\n",
    "]\n",
    "\n",
    "\n",
    "# Files that contain both 'precinct' and 'primary' in the filename\n",
    "primary_files = [\n",
    "    f for f in all_files\n",
    "    if all(word in f.lower() for word in ['precinct', 'primary', 'president'])\n",
    "]\n"
   ]
  },
  {
   "cell_type": "code",
   "execution_count": 3,
   "id": "60d49ea6",
   "metadata": {},
   "outputs": [
    {
     "name": "stdout",
     "output_type": "stream",
     "text": [
      "General files:\n"
     ]
    }
   ],
   "source": [
    "print(\"General files:\")\n",
    "for f in general_files:\n",
    "    print(f)\n"
   ]
  },
  {
   "cell_type": "code",
   "execution_count": 4,
   "id": "4ab13110",
   "metadata": {},
   "outputs": [
    {
     "name": "stdout",
     "output_type": "stream",
     "text": [
      "\n",
      "Primary files:\n"
     ]
    }
   ],
   "source": [
    "print(\"\\nPrimary files:\")\n",
    "for f in primary_files:\n",
    "    print(f)"
   ]
  },
  {
   "cell_type": "code",
   "execution_count": 98,
   "id": "ff5df6c7",
   "metadata": {},
   "outputs": [
    {
     "data": {
      "application/vnd.microsoft.datawrangler.viewer.v0+json": {
       "columns": [
        {
         "name": "index",
         "rawType": "int64",
         "type": "integer"
        },
        {
         "name": "county",
         "rawType": "object",
         "type": "string"
        },
        {
         "name": "precinct_code",
         "rawType": "int64",
         "type": "integer"
        },
        {
         "name": "precinct",
         "rawType": "object",
         "type": "string"
        },
        {
         "name": "party",
         "rawType": "object",
         "type": "string"
        },
        {
         "name": "district",
         "rawType": "float64",
         "type": "float"
        },
        {
         "name": "candidate",
         "rawType": "object",
         "type": "string"
        },
        {
         "name": "votes",
         "rawType": "int64",
         "type": "integer"
        }
       ],
       "ref": "f57fbcbb-029f-4a2e-9c29-3f3d7cd2e38c",
       "rows": [
        [
         "0",
         "King",
         "3562",
         "King3562",
         "Democratic Party",
         null,
         "Bernie Sanders",
         "24"
        ],
        [
         "1",
         "King",
         "3562",
         "King3562",
         "Democratic Party",
         null,
         "Hillary Clinton",
         "117"
        ],
        [
         "2",
         "King",
         "3562",
         "King3562",
         "Democratic Party",
         null,
         "Registered Voters",
         "503"
        ],
        [
         "3",
         "King",
         "3562",
         "King3562",
         "Democratic Party",
         null,
         "Write-In",
         "0"
        ],
        [
         "4",
         "King",
         "3562",
         "King3562",
         "Republican Party",
         null,
         "Ben Carson",
         "1"
        ],
        [
         "5",
         "King",
         "3562",
         "King3562",
         "Republican Party",
         null,
         "Donald J. Trump",
         "101"
        ],
        [
         "6",
         "King",
         "3562",
         "King3562",
         "Republican Party",
         null,
         "John R. Kasich",
         "28"
        ],
        [
         "7",
         "King",
         "3562",
         "King3562",
         "Republican Party",
         null,
         "Registered Voters",
         "503"
        ],
        [
         "8",
         "King",
         "3562",
         "King3562",
         "Republican Party",
         null,
         "Ted Cruz",
         "8"
        ],
        [
         "9",
         "King",
         "3562",
         "King3562",
         "Republican Party",
         null,
         "Write-In",
         "3"
        ],
        [
         "10",
         "King",
         "2381",
         "King2381",
         "Democratic Party",
         null,
         "Bernie Sanders",
         "62"
        ],
        [
         "11",
         "King",
         "2381",
         "King2381",
         "Democratic Party",
         null,
         "Hillary Clinton",
         "76"
        ],
        [
         "12",
         "King",
         "2381",
         "King2381",
         "Democratic Party",
         null,
         "Registered Voters",
         "757"
        ],
        [
         "13",
         "King",
         "2381",
         "King2381",
         "Democratic Party",
         null,
         "Write-In",
         "0"
        ],
        [
         "14",
         "King",
         "2381",
         "King2381",
         "Republican Party",
         null,
         "Ben Carson",
         "6"
        ],
        [
         "15",
         "King",
         "2381",
         "King2381",
         "Republican Party",
         null,
         "Donald J. Trump",
         "94"
        ],
        [
         "16",
         "King",
         "2381",
         "King2381",
         "Republican Party",
         null,
         "John R. Kasich",
         "11"
        ],
        [
         "17",
         "King",
         "2381",
         "King2381",
         "Republican Party",
         null,
         "Registered Voters",
         "757"
        ],
        [
         "18",
         "King",
         "2381",
         "King2381",
         "Republican Party",
         null,
         "Ted Cruz",
         "3"
        ],
        [
         "19",
         "King",
         "2381",
         "King2381",
         "Republican Party",
         null,
         "Write-In",
         "1"
        ],
        [
         "20",
         "King",
         "3400",
         "King3400",
         "Democratic Party",
         null,
         "Bernie Sanders",
         "58"
        ],
        [
         "21",
         "King",
         "3400",
         "King3400",
         "Democratic Party",
         null,
         "Hillary Clinton",
         "34"
        ],
        [
         "22",
         "King",
         "3400",
         "King3400",
         "Democratic Party",
         null,
         "Registered Voters",
         "574"
        ],
        [
         "23",
         "King",
         "3400",
         "King3400",
         "Democratic Party",
         null,
         "Write-In",
         "0"
        ],
        [
         "24",
         "King",
         "3400",
         "King3400",
         "Republican Party",
         null,
         "Ben Carson",
         "4"
        ],
        [
         "25",
         "King",
         "3400",
         "King3400",
         "Republican Party",
         null,
         "Donald J. Trump",
         "45"
        ],
        [
         "26",
         "King",
         "3400",
         "King3400",
         "Republican Party",
         null,
         "John R. Kasich",
         "9"
        ],
        [
         "27",
         "King",
         "3400",
         "King3400",
         "Republican Party",
         null,
         "Registered Voters",
         "574"
        ],
        [
         "28",
         "King",
         "3400",
         "King3400",
         "Republican Party",
         null,
         "Ted Cruz",
         "13"
        ],
        [
         "29",
         "King",
         "3400",
         "King3400",
         "Republican Party",
         null,
         "Write-In",
         "1"
        ],
        [
         "30",
         "King",
         "10",
         "King10",
         "Democratic Party",
         null,
         "Bernie Sanders",
         "22"
        ],
        [
         "31",
         "King",
         "10",
         "King10",
         "Democratic Party",
         null,
         "Hillary Clinton",
         "52"
        ],
        [
         "32",
         "King",
         "10",
         "King10",
         "Democratic Party",
         null,
         "Registered Voters",
         "444"
        ],
        [
         "33",
         "King",
         "10",
         "King10",
         "Democratic Party",
         null,
         "Write-In",
         "0"
        ],
        [
         "34",
         "King",
         "10",
         "King10",
         "Republican Party",
         null,
         "Ben Carson",
         "2"
        ],
        [
         "35",
         "King",
         "10",
         "King10",
         "Republican Party",
         null,
         "Donald J. Trump",
         "34"
        ],
        [
         "36",
         "King",
         "10",
         "King10",
         "Republican Party",
         null,
         "John R. Kasich",
         "11"
        ],
        [
         "37",
         "King",
         "10",
         "King10",
         "Republican Party",
         null,
         "Registered Voters",
         "444"
        ],
        [
         "38",
         "King",
         "10",
         "King10",
         "Republican Party",
         null,
         "Ted Cruz",
         "6"
        ],
        [
         "39",
         "King",
         "10",
         "King10",
         "Republican Party",
         null,
         "Write-In",
         "1"
        ],
        [
         "40",
         "King",
         "13",
         "King13",
         "Democratic Party",
         null,
         "Bernie Sanders",
         "32"
        ],
        [
         "41",
         "King",
         "13",
         "King13",
         "Democratic Party",
         null,
         "Hillary Clinton",
         "30"
        ],
        [
         "42",
         "King",
         "13",
         "King13",
         "Democratic Party",
         null,
         "Registered Voters",
         "472"
        ],
        [
         "43",
         "King",
         "13",
         "King13",
         "Democratic Party",
         null,
         "Write-In",
         "0"
        ],
        [
         "44",
         "King",
         "13",
         "King13",
         "Republican Party",
         null,
         "Ben Carson",
         "2"
        ],
        [
         "45",
         "King",
         "13",
         "King13",
         "Republican Party",
         null,
         "Donald J. Trump",
         "39"
        ],
        [
         "46",
         "King",
         "13",
         "King13",
         "Republican Party",
         null,
         "John R. Kasich",
         "1"
        ],
        [
         "47",
         "King",
         "13",
         "King13",
         "Republican Party",
         null,
         "Registered Voters",
         "472"
        ],
        [
         "48",
         "King",
         "13",
         "King13",
         "Republican Party",
         null,
         "Ted Cruz",
         "2"
        ],
        [
         "49",
         "King",
         "13",
         "King13",
         "Republican Party",
         null,
         "Write-In",
         "0"
        ]
       ],
       "shape": {
        "columns": 7,
        "rows": 52758
       }
      },
      "text/html": [
       "<div>\n",
       "<style scoped>\n",
       "    .dataframe tbody tr th:only-of-type {\n",
       "        vertical-align: middle;\n",
       "    }\n",
       "\n",
       "    .dataframe tbody tr th {\n",
       "        vertical-align: top;\n",
       "    }\n",
       "\n",
       "    .dataframe thead th {\n",
       "        text-align: right;\n",
       "    }\n",
       "</style>\n",
       "<table border=\"1\" class=\"dataframe\">\n",
       "  <thead>\n",
       "    <tr style=\"text-align: right;\">\n",
       "      <th></th>\n",
       "      <th>county</th>\n",
       "      <th>precinct_code</th>\n",
       "      <th>precinct</th>\n",
       "      <th>party</th>\n",
       "      <th>district</th>\n",
       "      <th>candidate</th>\n",
       "      <th>votes</th>\n",
       "    </tr>\n",
       "  </thead>\n",
       "  <tbody>\n",
       "    <tr>\n",
       "      <th>0</th>\n",
       "      <td>King</td>\n",
       "      <td>3562</td>\n",
       "      <td>King3562</td>\n",
       "      <td>Democratic Party</td>\n",
       "      <td>NaN</td>\n",
       "      <td>Bernie Sanders</td>\n",
       "      <td>24</td>\n",
       "    </tr>\n",
       "    <tr>\n",
       "      <th>1</th>\n",
       "      <td>King</td>\n",
       "      <td>3562</td>\n",
       "      <td>King3562</td>\n",
       "      <td>Democratic Party</td>\n",
       "      <td>NaN</td>\n",
       "      <td>Hillary Clinton</td>\n",
       "      <td>117</td>\n",
       "    </tr>\n",
       "    <tr>\n",
       "      <th>2</th>\n",
       "      <td>King</td>\n",
       "      <td>3562</td>\n",
       "      <td>King3562</td>\n",
       "      <td>Democratic Party</td>\n",
       "      <td>NaN</td>\n",
       "      <td>Registered Voters</td>\n",
       "      <td>503</td>\n",
       "    </tr>\n",
       "    <tr>\n",
       "      <th>3</th>\n",
       "      <td>King</td>\n",
       "      <td>3562</td>\n",
       "      <td>King3562</td>\n",
       "      <td>Democratic Party</td>\n",
       "      <td>NaN</td>\n",
       "      <td>Write-In</td>\n",
       "      <td>0</td>\n",
       "    </tr>\n",
       "    <tr>\n",
       "      <th>4</th>\n",
       "      <td>King</td>\n",
       "      <td>3562</td>\n",
       "      <td>King3562</td>\n",
       "      <td>Republican Party</td>\n",
       "      <td>NaN</td>\n",
       "      <td>Ben Carson</td>\n",
       "      <td>1</td>\n",
       "    </tr>\n",
       "    <tr>\n",
       "      <th>...</th>\n",
       "      <td>...</td>\n",
       "      <td>...</td>\n",
       "      <td>...</td>\n",
       "      <td>...</td>\n",
       "      <td>...</td>\n",
       "      <td>...</td>\n",
       "      <td>...</td>\n",
       "    </tr>\n",
       "    <tr>\n",
       "      <th>52753</th>\n",
       "      <td>Yakima</td>\n",
       "      <td>5101</td>\n",
       "      <td>Yakima5101</td>\n",
       "      <td>President Republican Party</td>\n",
       "      <td>NaN</td>\n",
       "      <td>Donald J. Trump</td>\n",
       "      <td>72</td>\n",
       "    </tr>\n",
       "    <tr>\n",
       "      <th>52754</th>\n",
       "      <td>Yakima</td>\n",
       "      <td>5202</td>\n",
       "      <td>Yakima5202</td>\n",
       "      <td>President Republican Party</td>\n",
       "      <td>NaN</td>\n",
       "      <td>Ben Carson</td>\n",
       "      <td>0</td>\n",
       "    </tr>\n",
       "    <tr>\n",
       "      <th>52755</th>\n",
       "      <td>Yakima</td>\n",
       "      <td>5202</td>\n",
       "      <td>Yakima5202</td>\n",
       "      <td>President Republican Party</td>\n",
       "      <td>NaN</td>\n",
       "      <td>Ted Cruz</td>\n",
       "      <td>0</td>\n",
       "    </tr>\n",
       "    <tr>\n",
       "      <th>52756</th>\n",
       "      <td>Yakima</td>\n",
       "      <td>5202</td>\n",
       "      <td>Yakima5202</td>\n",
       "      <td>President Republican Party</td>\n",
       "      <td>NaN</td>\n",
       "      <td>John R. Kasich</td>\n",
       "      <td>0</td>\n",
       "    </tr>\n",
       "    <tr>\n",
       "      <th>52757</th>\n",
       "      <td>Yakima</td>\n",
       "      <td>5202</td>\n",
       "      <td>Yakima5202</td>\n",
       "      <td>President Republican Party</td>\n",
       "      <td>NaN</td>\n",
       "      <td>Donald J. Trump</td>\n",
       "      <td>0</td>\n",
       "    </tr>\n",
       "  </tbody>\n",
       "</table>\n",
       "<p>52758 rows × 7 columns</p>\n",
       "</div>"
      ],
      "text/plain": [
       "       county  precinct_code    precinct                       party  \\\n",
       "0        King           3562    King3562            Democratic Party   \n",
       "1        King           3562    King3562            Democratic Party   \n",
       "2        King           3562    King3562            Democratic Party   \n",
       "3        King           3562    King3562            Democratic Party   \n",
       "4        King           3562    King3562            Republican Party   \n",
       "...       ...            ...         ...                         ...   \n",
       "52753  Yakima           5101  Yakima5101  President Republican Party   \n",
       "52754  Yakima           5202  Yakima5202  President Republican Party   \n",
       "52755  Yakima           5202  Yakima5202  President Republican Party   \n",
       "52756  Yakima           5202  Yakima5202  President Republican Party   \n",
       "52757  Yakima           5202  Yakima5202  President Republican Party   \n",
       "\n",
       "       district          candidate  votes  \n",
       "0           NaN     Bernie Sanders     24  \n",
       "1           NaN    Hillary Clinton    117  \n",
       "2           NaN  Registered Voters    503  \n",
       "3           NaN           Write-In      0  \n",
       "4           NaN         Ben Carson      1  \n",
       "...         ...                ...    ...  \n",
       "52753       NaN    Donald J. Trump     72  \n",
       "52754       NaN         Ben Carson      0  \n",
       "52755       NaN           Ted Cruz      0  \n",
       "52756       NaN     John R. Kasich      0  \n",
       "52757       NaN    Donald J. Trump      0  \n",
       "\n",
       "[52758 rows x 7 columns]"
      ]
     },
     "execution_count": 98,
     "metadata": {},
     "output_type": "execute_result"
    }
   ],
   "source": [
    "# Process primary files\n",
    "primary_df_list = []\n",
    "\n",
    "for file in primary_files:\n",
    "    try:\n",
    "        df = pd.read_csv(file)\n",
    "\n",
    "        # Drop rows where 'precinct' is NaN\n",
    "        if 'precinct' in df.columns:\n",
    "            df = df[df[\"precinct\"].notna()]\n",
    "        \n",
    "        df = df.drop_duplicates()\n",
    "\n",
    "        primary_df_list.append(df)\n",
    "\n",
    "    except Exception as e:\n",
    "        print(f\"Error in {file}: {e}\")\n",
    "\n",
    "# Combine all cleaned files\n",
    "pri_combined_df = pd.concat(primary_df_list, ignore_index=True)\n",
    "# Create a new column \"precinct\" by combining county and precinct\n",
    "pri_combined_df[\"precinct\"] = pri_combined_df[\"county\"].astype(str) + pri_combined_df[\"precinct_code\"].astype(str)\n",
    "pri_combined_df = pri_combined_df.drop(columns=[\"party\"])\n",
    "pri_combined_df = pri_combined_df.rename(columns={\"office\": \"party\"})\n",
    "pri_combined_df\n"
   ]
  },
  {
   "cell_type": "code",
   "execution_count": 99,
   "id": "1da58bec",
   "metadata": {},
   "outputs": [
    {
     "data": {
      "application/vnd.microsoft.datawrangler.viewer.v0+json": {
       "columns": [
        {
         "name": "party",
         "rawType": "object",
         "type": "string"
        },
        {
         "name": "count",
         "rawType": "int64",
         "type": "integer"
        }
       ],
       "ref": "10508ae2-8895-4cbf-97f6-32cb007aa251",
       "rows": [
        [
         "President Republican Party",
         "18392"
        ],
        [
         "Republican Party",
         "15102"
        ],
        [
         "Democratic Party",
         "10068"
        ],
        [
         "President Democratic Party",
         "9196"
        ]
       ],
       "shape": {
        "columns": 1,
        "rows": 4
       }
      },
      "text/plain": [
       "party\n",
       "President Republican Party    18392\n",
       "Republican Party              15102\n",
       "Democratic Party              10068\n",
       "President Democratic Party     9196\n",
       "Name: count, dtype: int64"
      ]
     },
     "execution_count": 99,
     "metadata": {},
     "output_type": "execute_result"
    }
   ],
   "source": [
    "pri_combined_df[\"party\"].value_counts(dropna=False)"
   ]
  },
  {
   "cell_type": "code",
   "execution_count": 100,
   "id": "f0e1e913",
   "metadata": {},
   "outputs": [
    {
     "data": {
      "application/vnd.microsoft.datawrangler.viewer.v0+json": {
       "columns": [
        {
         "name": "index",
         "rawType": "int64",
         "type": "integer"
        },
        {
         "name": "precinct",
         "rawType": "object",
         "type": "string"
        },
        {
         "name": "party",
         "rawType": "object",
         "type": "string"
        },
        {
         "name": "candidate",
         "rawType": "object",
         "type": "string"
        },
        {
         "name": "votes",
         "rawType": "int64",
         "type": "integer"
        }
       ],
       "ref": "493cdda8-28af-466e-9395-05020800e417",
       "rows": [
        [
         "0",
         "King3562",
         "DEM",
         "Bernie Sanders",
         "24"
        ],
        [
         "1",
         "King3562",
         "DEM",
         "Hillary Clinton",
         "117"
        ],
        [
         "2",
         "King3562",
         "DEM",
         "Registered Voters",
         "503"
        ],
        [
         "3",
         "King3562",
         "DEM",
         "Write-In",
         "0"
        ],
        [
         "4",
         "King3562",
         "REP",
         "Ben Carson",
         "1"
        ],
        [
         "5",
         "King3562",
         "REP",
         "Donald J. Trump",
         "101"
        ],
        [
         "6",
         "King3562",
         "REP",
         "John R. Kasich",
         "28"
        ],
        [
         "7",
         "King3562",
         "REP",
         "Registered Voters",
         "503"
        ],
        [
         "8",
         "King3562",
         "REP",
         "Ted Cruz",
         "8"
        ],
        [
         "9",
         "King3562",
         "REP",
         "Write-In",
         "3"
        ],
        [
         "10",
         "King2381",
         "DEM",
         "Bernie Sanders",
         "62"
        ],
        [
         "11",
         "King2381",
         "DEM",
         "Hillary Clinton",
         "76"
        ],
        [
         "12",
         "King2381",
         "DEM",
         "Registered Voters",
         "757"
        ],
        [
         "13",
         "King2381",
         "DEM",
         "Write-In",
         "0"
        ],
        [
         "14",
         "King2381",
         "REP",
         "Ben Carson",
         "6"
        ],
        [
         "15",
         "King2381",
         "REP",
         "Donald J. Trump",
         "94"
        ],
        [
         "16",
         "King2381",
         "REP",
         "John R. Kasich",
         "11"
        ],
        [
         "17",
         "King2381",
         "REP",
         "Registered Voters",
         "757"
        ],
        [
         "18",
         "King2381",
         "REP",
         "Ted Cruz",
         "3"
        ],
        [
         "19",
         "King2381",
         "REP",
         "Write-In",
         "1"
        ],
        [
         "20",
         "King3400",
         "DEM",
         "Bernie Sanders",
         "58"
        ],
        [
         "21",
         "King3400",
         "DEM",
         "Hillary Clinton",
         "34"
        ],
        [
         "22",
         "King3400",
         "DEM",
         "Registered Voters",
         "574"
        ],
        [
         "23",
         "King3400",
         "DEM",
         "Write-In",
         "0"
        ],
        [
         "24",
         "King3400",
         "REP",
         "Ben Carson",
         "4"
        ],
        [
         "25",
         "King3400",
         "REP",
         "Donald J. Trump",
         "45"
        ],
        [
         "26",
         "King3400",
         "REP",
         "John R. Kasich",
         "9"
        ],
        [
         "27",
         "King3400",
         "REP",
         "Registered Voters",
         "574"
        ],
        [
         "28",
         "King3400",
         "REP",
         "Ted Cruz",
         "13"
        ],
        [
         "29",
         "King3400",
         "REP",
         "Write-In",
         "1"
        ],
        [
         "30",
         "King10",
         "DEM",
         "Bernie Sanders",
         "22"
        ],
        [
         "31",
         "King10",
         "DEM",
         "Hillary Clinton",
         "52"
        ],
        [
         "32",
         "King10",
         "DEM",
         "Registered Voters",
         "444"
        ],
        [
         "33",
         "King10",
         "DEM",
         "Write-In",
         "0"
        ],
        [
         "34",
         "King10",
         "REP",
         "Ben Carson",
         "2"
        ],
        [
         "35",
         "King10",
         "REP",
         "Donald J. Trump",
         "34"
        ],
        [
         "36",
         "King10",
         "REP",
         "John R. Kasich",
         "11"
        ],
        [
         "37",
         "King10",
         "REP",
         "Registered Voters",
         "444"
        ],
        [
         "38",
         "King10",
         "REP",
         "Ted Cruz",
         "6"
        ],
        [
         "39",
         "King10",
         "REP",
         "Write-In",
         "1"
        ],
        [
         "40",
         "King13",
         "DEM",
         "Bernie Sanders",
         "32"
        ],
        [
         "41",
         "King13",
         "DEM",
         "Hillary Clinton",
         "30"
        ],
        [
         "42",
         "King13",
         "DEM",
         "Registered Voters",
         "472"
        ],
        [
         "43",
         "King13",
         "DEM",
         "Write-In",
         "0"
        ],
        [
         "44",
         "King13",
         "REP",
         "Ben Carson",
         "2"
        ],
        [
         "45",
         "King13",
         "REP",
         "Donald J. Trump",
         "39"
        ],
        [
         "46",
         "King13",
         "REP",
         "John R. Kasich",
         "1"
        ],
        [
         "47",
         "King13",
         "REP",
         "Registered Voters",
         "472"
        ],
        [
         "48",
         "King13",
         "REP",
         "Ted Cruz",
         "2"
        ],
        [
         "49",
         "King13",
         "REP",
         "Write-In",
         "0"
        ]
       ],
       "shape": {
        "columns": 4,
        "rows": 52758
       }
      },
      "text/html": [
       "<div>\n",
       "<style scoped>\n",
       "    .dataframe tbody tr th:only-of-type {\n",
       "        vertical-align: middle;\n",
       "    }\n",
       "\n",
       "    .dataframe tbody tr th {\n",
       "        vertical-align: top;\n",
       "    }\n",
       "\n",
       "    .dataframe thead th {\n",
       "        text-align: right;\n",
       "    }\n",
       "</style>\n",
       "<table border=\"1\" class=\"dataframe\">\n",
       "  <thead>\n",
       "    <tr style=\"text-align: right;\">\n",
       "      <th></th>\n",
       "      <th>precinct</th>\n",
       "      <th>party</th>\n",
       "      <th>candidate</th>\n",
       "      <th>votes</th>\n",
       "    </tr>\n",
       "  </thead>\n",
       "  <tbody>\n",
       "    <tr>\n",
       "      <th>0</th>\n",
       "      <td>King3562</td>\n",
       "      <td>DEM</td>\n",
       "      <td>Bernie Sanders</td>\n",
       "      <td>24</td>\n",
       "    </tr>\n",
       "    <tr>\n",
       "      <th>1</th>\n",
       "      <td>King3562</td>\n",
       "      <td>DEM</td>\n",
       "      <td>Hillary Clinton</td>\n",
       "      <td>117</td>\n",
       "    </tr>\n",
       "    <tr>\n",
       "      <th>2</th>\n",
       "      <td>King3562</td>\n",
       "      <td>DEM</td>\n",
       "      <td>Registered Voters</td>\n",
       "      <td>503</td>\n",
       "    </tr>\n",
       "    <tr>\n",
       "      <th>3</th>\n",
       "      <td>King3562</td>\n",
       "      <td>DEM</td>\n",
       "      <td>Write-In</td>\n",
       "      <td>0</td>\n",
       "    </tr>\n",
       "    <tr>\n",
       "      <th>4</th>\n",
       "      <td>King3562</td>\n",
       "      <td>REP</td>\n",
       "      <td>Ben Carson</td>\n",
       "      <td>1</td>\n",
       "    </tr>\n",
       "    <tr>\n",
       "      <th>...</th>\n",
       "      <td>...</td>\n",
       "      <td>...</td>\n",
       "      <td>...</td>\n",
       "      <td>...</td>\n",
       "    </tr>\n",
       "    <tr>\n",
       "      <th>52753</th>\n",
       "      <td>Yakima5101</td>\n",
       "      <td>REP</td>\n",
       "      <td>Donald J. Trump</td>\n",
       "      <td>72</td>\n",
       "    </tr>\n",
       "    <tr>\n",
       "      <th>52754</th>\n",
       "      <td>Yakima5202</td>\n",
       "      <td>REP</td>\n",
       "      <td>Ben Carson</td>\n",
       "      <td>0</td>\n",
       "    </tr>\n",
       "    <tr>\n",
       "      <th>52755</th>\n",
       "      <td>Yakima5202</td>\n",
       "      <td>REP</td>\n",
       "      <td>Ted Cruz</td>\n",
       "      <td>0</td>\n",
       "    </tr>\n",
       "    <tr>\n",
       "      <th>52756</th>\n",
       "      <td>Yakima5202</td>\n",
       "      <td>REP</td>\n",
       "      <td>John R. Kasich</td>\n",
       "      <td>0</td>\n",
       "    </tr>\n",
       "    <tr>\n",
       "      <th>52757</th>\n",
       "      <td>Yakima5202</td>\n",
       "      <td>REP</td>\n",
       "      <td>Donald J. Trump</td>\n",
       "      <td>0</td>\n",
       "    </tr>\n",
       "  </tbody>\n",
       "</table>\n",
       "<p>52758 rows × 4 columns</p>\n",
       "</div>"
      ],
      "text/plain": [
       "         precinct party          candidate  votes\n",
       "0        King3562   DEM     Bernie Sanders     24\n",
       "1        King3562   DEM    Hillary Clinton    117\n",
       "2        King3562   DEM  Registered Voters    503\n",
       "3        King3562   DEM           Write-In      0\n",
       "4        King3562   REP         Ben Carson      1\n",
       "...           ...   ...                ...    ...\n",
       "52753  Yakima5101   REP    Donald J. Trump     72\n",
       "52754  Yakima5202   REP         Ben Carson      0\n",
       "52755  Yakima5202   REP           Ted Cruz      0\n",
       "52756  Yakima5202   REP     John R. Kasich      0\n",
       "52757  Yakima5202   REP    Donald J. Trump      0\n",
       "\n",
       "[52758 rows x 4 columns]"
      ]
     },
     "execution_count": 100,
     "metadata": {},
     "output_type": "execute_result"
    }
   ],
   "source": [
    "# Select only the relevant columns\n",
    "primary_data = pri_combined_df[[\"precinct\", \"party\", \"candidate\", \"votes\"]]\n",
    "primary_data.loc[:, \"party\"] = primary_data[\"party\"].replace({\n",
    "    \"President Republican Party\": \"REP\",\n",
    "    \"President Democratic Party\": \"DEM\",\n",
    "    \"Democratic Party\": \"DEM\",\n",
    "    \"Republican Party\": \"REP\"\n",
    "})\n",
    "primary_data = primary_data[primary_data[\"party\"].isin([\"DEM\", \"REP\"])] # Analyzing only republican and democratic\n",
    "\n",
    "primary_data"
   ]
  },
  {
   "cell_type": "code",
   "execution_count": 101,
   "id": "759be944",
   "metadata": {},
   "outputs": [
    {
     "data": {
      "application/vnd.microsoft.datawrangler.viewer.v0+json": {
       "columns": [
        {
         "name": "party",
         "rawType": "object",
         "type": "string"
        },
        {
         "name": "count",
         "rawType": "int64",
         "type": "integer"
        }
       ],
       "ref": "bfd5b0e0-9337-4c7d-8326-191ef5d2ba30",
       "rows": [
        [
         "REP",
         "33494"
        ],
        [
         "DEM",
         "19264"
        ]
       ],
       "shape": {
        "columns": 1,
        "rows": 2
       }
      },
      "text/plain": [
       "party\n",
       "REP    33494\n",
       "DEM    19264\n",
       "Name: count, dtype: int64"
      ]
     },
     "execution_count": 101,
     "metadata": {},
     "output_type": "execute_result"
    }
   ],
   "source": [
    "primary_data[\"party\"].value_counts(dropna=False)"
   ]
  },
  {
   "cell_type": "code",
   "execution_count": 102,
   "id": "5eef8778",
   "metadata": {},
   "outputs": [
    {
     "data": {
      "application/vnd.microsoft.datawrangler.viewer.v0+json": {
       "columns": [
        {
         "name": "candidate",
         "rawType": "object",
         "type": "string"
        },
        {
         "name": "count",
         "rawType": "int64",
         "type": "integer"
        }
       ],
       "ref": "cc9876c7-cded-48b9-ab56-8abdc6933a44",
       "rows": [
        [
         "Bernie Sanders",
         "7115"
        ],
        [
         "Hillary Clinton",
         "7115"
        ],
        [
         "Ben Carson",
         "7115"
        ],
        [
         "Donald J. Trump",
         "7115"
        ],
        [
         "John R. Kasich",
         "7115"
        ],
        [
         "Ted Cruz",
         "7115"
        ]
       ],
       "shape": {
        "columns": 1,
        "rows": 6
       }
      },
      "text/plain": [
       "candidate\n",
       "Bernie Sanders     7115\n",
       "Hillary Clinton    7115\n",
       "Ben Carson         7115\n",
       "Donald J. Trump    7115\n",
       "John R. Kasich     7115\n",
       "Ted Cruz           7115\n",
       "Name: count, dtype: int64"
      ]
     },
     "execution_count": 102,
     "metadata": {},
     "output_type": "execute_result"
    }
   ],
   "source": [
    "#Remove Write-in and Registered Voters\n",
    "primary_data = primary_data[~primary_data[\"candidate\"].isin([\"Registered Voters\", \"Write-In\"])] \n",
    "primary_data[\"candidate\"].value_counts(dropna=False)"
   ]
  },
  {
   "cell_type": "code",
   "execution_count": 103,
   "id": "3d2dcc9d",
   "metadata": {},
   "outputs": [
    {
     "name": "stdout",
     "output_type": "stream",
     "text": [
      "{'Bernie Sanders': 'DEM', 'Hillary Clinton': 'DEM', 'Ben Carson': 'REP', 'Donald J. Trump': 'REP', 'John R. Kasich': 'REP', 'Ted Cruz': 'REP'}\n"
     ]
    }
   ],
   "source": [
    "primary_data[\"candidate\"].unique()\n",
    "candidate_party_map = (\n",
    "    primary_data.dropna(subset=[\"candidate\", \"party\"])\n",
    "                .set_index(\"candidate\")[\"party\"]\n",
    "                .to_dict()\n",
    ")\n",
    "print(candidate_party_map)"
   ]
  },
  {
   "cell_type": "code",
   "execution_count": 104,
   "id": "a359cd18",
   "metadata": {},
   "outputs": [
    {
     "name": "stderr",
     "output_type": "stream",
     "text": [
      "C:\\Users\\ADMIN\\AppData\\Local\\Temp\\ipykernel_24240\\2782897409.py:1: SettingWithCopyWarning: \n",
      "A value is trying to be set on a copy of a slice from a DataFrame.\n",
      "Try using .loc[row_indexer,col_indexer] = value instead\n",
      "\n",
      "See the caveats in the documentation: https://pandas.pydata.org/pandas-docs/stable/user_guide/indexing.html#returning-a-view-versus-a-copy\n",
      "  primary_data.loc[:,\"candidate_column\"] = (\n"
     ]
    },
    {
     "data": {
      "application/vnd.microsoft.datawrangler.viewer.v0+json": {
       "columns": [
        {
         "name": "index",
         "rawType": "int64",
         "type": "integer"
        },
        {
         "name": "precinct",
         "rawType": "object",
         "type": "string"
        },
        {
         "name": "pri_dem_CLINTON",
         "rawType": "int64",
         "type": "integer"
        },
        {
         "name": "pri_dem_SANDERS",
         "rawType": "int64",
         "type": "integer"
        },
        {
         "name": "pri_rep_CARSON",
         "rawType": "int64",
         "type": "integer"
        },
        {
         "name": "pri_rep_CRUZ",
         "rawType": "int64",
         "type": "integer"
        },
        {
         "name": "pri_rep_KASICH",
         "rawType": "int64",
         "type": "integer"
        },
        {
         "name": "pri_rep_TRUMP",
         "rawType": "int64",
         "type": "integer"
        }
       ],
       "ref": "e9313115-eb7b-40f5-a9bf-0d8767a95be8",
       "rows": [
        [
         "0",
         "Adams111",
         "11",
         "6",
         "2",
         "6",
         "2",
         "45"
        ],
        [
         "1",
         "Adams112",
         "14",
         "10",
         "2",
         "6",
         "1",
         "41"
        ],
        [
         "2",
         "Adams113",
         "17",
         "11",
         "8",
         "8",
         "2",
         "59"
        ],
        [
         "3",
         "Adams114",
         "16",
         "19",
         "1",
         "10",
         "13",
         "44"
        ],
        [
         "4",
         "Adams115",
         "18",
         "11",
         "4",
         "5",
         "11",
         "53"
        ],
        [
         "5",
         "Adams121",
         "5",
         "11",
         "8",
         "3",
         "6",
         "76"
        ],
        [
         "6",
         "Adams122",
         "9",
         "7",
         "3",
         "11",
         "6",
         "55"
        ],
        [
         "7",
         "Adams123",
         "2",
         "6",
         "5",
         "4",
         "0",
         "34"
        ],
        [
         "8",
         "Adams211",
         "3",
         "2",
         "0",
         "3",
         "0",
         "14"
        ],
        [
         "9",
         "Adams212",
         "6",
         "9",
         "0",
         "4",
         "4",
         "51"
        ],
        [
         "10",
         "Adams221",
         "0",
         "0",
         "2",
         "2",
         "5",
         "27"
        ],
        [
         "11",
         "Adams222",
         "0",
         "0",
         "3",
         "3",
         "1",
         "15"
        ],
        [
         "12",
         "Adams311",
         "17",
         "20",
         "0",
         "0",
         "0",
         "0"
        ],
        [
         "13",
         "Adams313",
         "0",
         "0",
         "0",
         "0",
         "0",
         "0"
        ],
        [
         "14",
         "Adams321",
         "3",
         "4",
         "2",
         "4",
         "1",
         "32"
        ],
        [
         "15",
         "Adams322",
         "2",
         "2",
         "0",
         "0",
         "0",
         "0"
        ],
        [
         "16",
         "Adams323",
         "0",
         "0",
         "2",
         "4",
         "0",
         "17"
        ],
        [
         "17",
         "Adams324",
         "0",
         "0",
         "0",
         "1",
         "2",
         "12"
        ],
        [
         "18",
         "Adams325",
         "0",
         "0",
         "0",
         "0",
         "0",
         "0"
        ],
        [
         "19",
         "Adams411",
         "0",
         "0",
         "0",
         "0",
         "0",
         "0"
        ],
        [
         "20",
         "Adams412",
         "28",
         "37",
         "10",
         "11",
         "2",
         "55"
        ],
        [
         "21",
         "Adams413",
         "51",
         "19",
         "1",
         "9",
         "4",
         "46"
        ],
        [
         "22",
         "Adams414",
         "26",
         "21",
         "3",
         "16",
         "7",
         "53"
        ],
        [
         "23",
         "Adams415",
         "21",
         "21",
         "4",
         "21",
         "4",
         "60"
        ],
        [
         "24",
         "Adams416",
         "28",
         "17",
         "3",
         "3",
         "2",
         "29"
        ],
        [
         "25",
         "Adams511",
         "26",
         "15",
         "0",
         "2",
         "1",
         "16"
        ],
        [
         "26",
         "Adams512",
         "17",
         "12",
         "2",
         "8",
         "2",
         "49"
        ],
        [
         "27",
         "Adams513",
         "29",
         "23",
         "4",
         "13",
         "1",
         "83"
        ],
        [
         "28",
         "Adams514",
         "17",
         "9",
         "1",
         "18",
         "4",
         "60"
        ],
        [
         "29",
         "Adams515",
         "11",
         "12",
         "1",
         "13",
         "1",
         "48"
        ],
        [
         "30",
         "Adams516",
         "5",
         "10",
         "4",
         "5",
         "5",
         "88"
        ],
        [
         "31",
         "Asotin1",
         "7",
         "18",
         "4",
         "13",
         "2",
         "71"
        ],
        [
         "32",
         "Asotin101",
         "41",
         "29",
         "6",
         "7",
         "0",
         "73"
        ],
        [
         "33",
         "Asotin102",
         "24",
         "28",
         "3",
         "2",
         "8",
         "73"
        ],
        [
         "34",
         "Asotin201",
         "31",
         "40",
         "8",
         "4",
         "3",
         "58"
        ],
        [
         "35",
         "Asotin202",
         "47",
         "58",
         "6",
         "16",
         "12",
         "67"
        ],
        [
         "36",
         "Asotin203",
         "46",
         "39",
         "3",
         "12",
         "11",
         "55"
        ],
        [
         "37",
         "Asotin204",
         "38",
         "40",
         "8",
         "5",
         "2",
         "94"
        ],
        [
         "38",
         "Asotin205",
         "36",
         "30",
         "2",
         "10",
         "8",
         "47"
        ],
        [
         "39",
         "Asotin206",
         "45",
         "43",
         "8",
         "14",
         "7",
         "82"
        ],
        [
         "40",
         "Asotin207",
         "41",
         "27",
         "4",
         "7",
         "3",
         "55"
        ],
        [
         "41",
         "Asotin208",
         "47",
         "39",
         "3",
         "6",
         "6",
         "70"
        ],
        [
         "42",
         "Asotin3",
         "17",
         "14",
         "3",
         "7",
         "9",
         "84"
        ],
        [
         "43",
         "Asotin301",
         "40",
         "36",
         "5",
         "8",
         "15",
         "128"
        ],
        [
         "44",
         "Asotin302",
         "70",
         "52",
         "9",
         "19",
         "15",
         "196"
        ],
        [
         "45",
         "Asotin303",
         "21",
         "8",
         "1",
         "6",
         "1",
         "43"
        ],
        [
         "46",
         "Asotin304",
         "53",
         "33",
         "5",
         "15",
         "9",
         "87"
        ],
        [
         "47",
         "Asotin305",
         "60",
         "65",
         "17",
         "23",
         "7",
         "215"
        ],
        [
         "48",
         "Asotin306",
         "86",
         "55",
         "18",
         "11",
         "16",
         "171"
        ],
        [
         "49",
         "Asotin307",
         "58",
         "47",
         "13",
         "18",
         "6",
         "126"
        ]
       ],
       "shape": {
        "columns": 7,
        "rows": 7115
       }
      },
      "text/html": [
       "<div>\n",
       "<style scoped>\n",
       "    .dataframe tbody tr th:only-of-type {\n",
       "        vertical-align: middle;\n",
       "    }\n",
       "\n",
       "    .dataframe tbody tr th {\n",
       "        vertical-align: top;\n",
       "    }\n",
       "\n",
       "    .dataframe thead th {\n",
       "        text-align: right;\n",
       "    }\n",
       "</style>\n",
       "<table border=\"1\" class=\"dataframe\">\n",
       "  <thead>\n",
       "    <tr style=\"text-align: right;\">\n",
       "      <th>candidate_column</th>\n",
       "      <th>precinct</th>\n",
       "      <th>pri_dem_CLINTON</th>\n",
       "      <th>pri_dem_SANDERS</th>\n",
       "      <th>pri_rep_CARSON</th>\n",
       "      <th>pri_rep_CRUZ</th>\n",
       "      <th>pri_rep_KASICH</th>\n",
       "      <th>pri_rep_TRUMP</th>\n",
       "    </tr>\n",
       "  </thead>\n",
       "  <tbody>\n",
       "    <tr>\n",
       "      <th>0</th>\n",
       "      <td>Adams111</td>\n",
       "      <td>11</td>\n",
       "      <td>6</td>\n",
       "      <td>2</td>\n",
       "      <td>6</td>\n",
       "      <td>2</td>\n",
       "      <td>45</td>\n",
       "    </tr>\n",
       "    <tr>\n",
       "      <th>1</th>\n",
       "      <td>Adams112</td>\n",
       "      <td>14</td>\n",
       "      <td>10</td>\n",
       "      <td>2</td>\n",
       "      <td>6</td>\n",
       "      <td>1</td>\n",
       "      <td>41</td>\n",
       "    </tr>\n",
       "    <tr>\n",
       "      <th>2</th>\n",
       "      <td>Adams113</td>\n",
       "      <td>17</td>\n",
       "      <td>11</td>\n",
       "      <td>8</td>\n",
       "      <td>8</td>\n",
       "      <td>2</td>\n",
       "      <td>59</td>\n",
       "    </tr>\n",
       "    <tr>\n",
       "      <th>3</th>\n",
       "      <td>Adams114</td>\n",
       "      <td>16</td>\n",
       "      <td>19</td>\n",
       "      <td>1</td>\n",
       "      <td>10</td>\n",
       "      <td>13</td>\n",
       "      <td>44</td>\n",
       "    </tr>\n",
       "    <tr>\n",
       "      <th>4</th>\n",
       "      <td>Adams115</td>\n",
       "      <td>18</td>\n",
       "      <td>11</td>\n",
       "      <td>4</td>\n",
       "      <td>5</td>\n",
       "      <td>11</td>\n",
       "      <td>53</td>\n",
       "    </tr>\n",
       "    <tr>\n",
       "      <th>...</th>\n",
       "      <td>...</td>\n",
       "      <td>...</td>\n",
       "      <td>...</td>\n",
       "      <td>...</td>\n",
       "      <td>...</td>\n",
       "      <td>...</td>\n",
       "      <td>...</td>\n",
       "    </tr>\n",
       "    <tr>\n",
       "      <th>7110</th>\n",
       "      <td>Yakima5020</td>\n",
       "      <td>26</td>\n",
       "      <td>11</td>\n",
       "      <td>6</td>\n",
       "      <td>15</td>\n",
       "      <td>12</td>\n",
       "      <td>100</td>\n",
       "    </tr>\n",
       "    <tr>\n",
       "      <th>7111</th>\n",
       "      <td>Yakima5101</td>\n",
       "      <td>19</td>\n",
       "      <td>26</td>\n",
       "      <td>0</td>\n",
       "      <td>6</td>\n",
       "      <td>5</td>\n",
       "      <td>72</td>\n",
       "    </tr>\n",
       "    <tr>\n",
       "      <th>7112</th>\n",
       "      <td>Yakima5202</td>\n",
       "      <td>0</td>\n",
       "      <td>0</td>\n",
       "      <td>0</td>\n",
       "      <td>0</td>\n",
       "      <td>0</td>\n",
       "      <td>0</td>\n",
       "    </tr>\n",
       "    <tr>\n",
       "      <th>7113</th>\n",
       "      <td>Yakima701</td>\n",
       "      <td>26</td>\n",
       "      <td>25</td>\n",
       "      <td>10</td>\n",
       "      <td>3</td>\n",
       "      <td>2</td>\n",
       "      <td>22</td>\n",
       "    </tr>\n",
       "    <tr>\n",
       "      <th>7114</th>\n",
       "      <td>Yakima901</td>\n",
       "      <td>70</td>\n",
       "      <td>33</td>\n",
       "      <td>0</td>\n",
       "      <td>0</td>\n",
       "      <td>0</td>\n",
       "      <td>0</td>\n",
       "    </tr>\n",
       "  </tbody>\n",
       "</table>\n",
       "<p>7115 rows × 7 columns</p>\n",
       "</div>"
      ],
      "text/plain": [
       "candidate_column    precinct  pri_dem_CLINTON  pri_dem_SANDERS  \\\n",
       "0                   Adams111               11                6   \n",
       "1                   Adams112               14               10   \n",
       "2                   Adams113               17               11   \n",
       "3                   Adams114               16               19   \n",
       "4                   Adams115               18               11   \n",
       "...                      ...              ...              ...   \n",
       "7110              Yakima5020               26               11   \n",
       "7111              Yakima5101               19               26   \n",
       "7112              Yakima5202                0                0   \n",
       "7113               Yakima701               26               25   \n",
       "7114               Yakima901               70               33   \n",
       "\n",
       "candidate_column  pri_rep_CARSON  pri_rep_CRUZ  pri_rep_KASICH  pri_rep_TRUMP  \n",
       "0                              2             6               2             45  \n",
       "1                              2             6               1             41  \n",
       "2                              8             8               2             59  \n",
       "3                              1            10              13             44  \n",
       "4                              4             5              11             53  \n",
       "...                          ...           ...             ...            ...  \n",
       "7110                           6            15              12            100  \n",
       "7111                           0             6               5             72  \n",
       "7112                           0             0               0              0  \n",
       "7113                          10             3               2             22  \n",
       "7114                           0             0               0              0  \n",
       "\n",
       "[7115 rows x 7 columns]"
      ]
     },
     "execution_count": 104,
     "metadata": {},
     "output_type": "execute_result"
    }
   ],
   "source": [
    "primary_data.loc[:,\"candidate_column\"] = (\n",
    "    \"pri_\" +\n",
    "    primary_data[\"party\"].str.lower() + \"_\" +\n",
    "    primary_data[\"candidate\"].str.split().str[-1].str.upper()\n",
    ")\n",
    "\n",
    "# pivot the table\n",
    "primary_result = primary_data.pivot_table(\n",
    "    index=\"precinct\",\n",
    "    columns=\"candidate_column\",\n",
    "    values=\"votes\",\n",
    "    aggfunc=\"sum\",  \n",
    "    fill_value=0\n",
    ").reset_index()\n",
    "\n",
    "primary_result"
   ]
  },
  {
   "cell_type": "code",
   "execution_count": 105,
   "id": "f1ef9692",
   "metadata": {},
   "outputs": [
    {
     "name": "stderr",
     "output_type": "stream",
     "text": [
      "C:\\Users\\ADMIN\\AppData\\Local\\Temp\\ipykernel_24240\\1650111261.py:6: DtypeWarning: Columns (5) have mixed types. Specify dtype option on import or set low_memory=False.\n",
      "  df = pd.read_csv(file)\n"
     ]
    },
    {
     "data": {
      "application/vnd.microsoft.datawrangler.viewer.v0+json": {
       "columns": [
        {
         "name": "index",
         "rawType": "int64",
         "type": "integer"
        },
        {
         "name": "county",
         "rawType": "object",
         "type": "string"
        },
        {
         "name": "precinct_code",
         "rawType": "int64",
         "type": "integer"
        },
        {
         "name": "precinct",
         "rawType": "object",
         "type": "string"
        },
        {
         "name": "office",
         "rawType": "object",
         "type": "string"
        },
        {
         "name": "district",
         "rawType": "float64",
         "type": "float"
        },
        {
         "name": "party",
         "rawType": "object",
         "type": "unknown"
        },
        {
         "name": "candidate",
         "rawType": "object",
         "type": "string"
        },
        {
         "name": "votes",
         "rawType": "int64",
         "type": "integer"
        }
       ],
       "ref": "55f6491b-a60d-4292-8954-e8de7d7a1b7a",
       "rows": [
        [
         "0",
         "King",
         "3562",
         "King3562",
         "President",
         null,
         "Constitution",
         "Darrell L. Castle & Scott N. Bradley",
         "0"
        ],
        [
         "1",
         "King",
         "3562",
         "King3562",
         "President",
         null,
         "Democratic",
         "Hillary Clinton & Tim Kaine",
         "266"
        ],
        [
         "2",
         "King",
         "3562",
         "King3562",
         "President",
         null,
         "Green",
         "Jill Stein & Ajamu Baraka",
         "1"
        ],
        [
         "3",
         "King",
         "3562",
         "King3562",
         "President",
         null,
         "Libertarian",
         "Gary Johnson & Bill Weld",
         "14"
        ],
        [
         "4",
         "King",
         "3562",
         "King3562",
         "President",
         null,
         null,
         "Registered Voters",
         "519"
        ],
        [
         "5",
         "King",
         "3562",
         "King3562",
         "President",
         null,
         null,
         "Write-In",
         "7"
        ],
        [
         "6",
         "King",
         "3562",
         "King3562",
         "President",
         null,
         "Republican",
         "Donald J. Trump & Michael R. Pence",
         "185"
        ],
        [
         "7",
         "King",
         "3562",
         "King3562",
         "President",
         null,
         "Socialism & Liberation",
         "Gloria Estela La Riva & Eugene Puryear",
         "0"
        ],
        [
         "8",
         "King",
         "3562",
         "King3562",
         "President",
         null,
         "Socialist Workers",
         "Alyson Kennedy & Osborne Hart",
         "0"
        ],
        [
         "9",
         "King",
         "2381",
         "King2381",
         "President",
         null,
         "Constitution",
         "Darrell L. Castle & Scott N. Bradley",
         "2"
        ],
        [
         "10",
         "King",
         "2381",
         "King2381",
         "President",
         null,
         "Democratic",
         "Hillary Clinton & Tim Kaine",
         "334"
        ],
        [
         "11",
         "King",
         "2381",
         "King2381",
         "President",
         null,
         "Green",
         "Jill Stein & Ajamu Baraka",
         "8"
        ],
        [
         "12",
         "King",
         "2381",
         "King2381",
         "President",
         null,
         "Libertarian",
         "Gary Johnson & Bill Weld",
         "33"
        ],
        [
         "13",
         "King",
         "2381",
         "King2381",
         "President",
         null,
         null,
         "Registered Voters",
         "763"
        ],
        [
         "14",
         "King",
         "2381",
         "King2381",
         "President",
         null,
         null,
         "Write-In",
         "20"
        ],
        [
         "15",
         "King",
         "2381",
         "King2381",
         "President",
         null,
         "Republican",
         "Donald J. Trump & Michael R. Pence",
         "215"
        ],
        [
         "16",
         "King",
         "2381",
         "King2381",
         "President",
         null,
         "Socialism & Liberation",
         "Gloria Estela La Riva & Eugene Puryear",
         "0"
        ],
        [
         "17",
         "King",
         "2381",
         "King2381",
         "President",
         null,
         "Socialist Workers",
         "Alyson Kennedy & Osborne Hart",
         "0"
        ],
        [
         "18",
         "King",
         "3400",
         "King3400",
         "President",
         null,
         "Constitution",
         "Darrell L. Castle & Scott N. Bradley",
         "3"
        ],
        [
         "19",
         "King",
         "3400",
         "King3400",
         "President",
         null,
         "Democratic",
         "Hillary Clinton & Tim Kaine",
         "235"
        ],
        [
         "20",
         "King",
         "3400",
         "King3400",
         "President",
         null,
         "Green",
         "Jill Stein & Ajamu Baraka",
         "11"
        ],
        [
         "21",
         "King",
         "3400",
         "King3400",
         "President",
         null,
         "Libertarian",
         "Gary Johnson & Bill Weld",
         "33"
        ],
        [
         "22",
         "King",
         "3400",
         "King3400",
         "President",
         null,
         null,
         "Registered Voters",
         "557"
        ],
        [
         "23",
         "King",
         "3400",
         "King3400",
         "President",
         null,
         null,
         "Write-In",
         "15"
        ],
        [
         "24",
         "King",
         "3400",
         "King3400",
         "President",
         null,
         "Republican",
         "Donald J. Trump & Michael R. Pence",
         "166"
        ],
        [
         "25",
         "King",
         "3400",
         "King3400",
         "President",
         null,
         "Socialism & Liberation",
         "Gloria Estela La Riva & Eugene Puryear",
         "1"
        ],
        [
         "26",
         "King",
         "3400",
         "King3400",
         "President",
         null,
         "Socialist Workers",
         "Alyson Kennedy & Osborne Hart",
         "1"
        ],
        [
         "27",
         "King",
         "10",
         "King10",
         "President",
         null,
         "Constitution",
         "Darrell L. Castle & Scott N. Bradley",
         "0"
        ],
        [
         "28",
         "King",
         "10",
         "King10",
         "President",
         null,
         "Democratic",
         "Hillary Clinton & Tim Kaine",
         "243"
        ],
        [
         "29",
         "King",
         "10",
         "King10",
         "President",
         null,
         "Green",
         "Jill Stein & Ajamu Baraka",
         "2"
        ],
        [
         "30",
         "King",
         "10",
         "King10",
         "President",
         null,
         "Libertarian",
         "Gary Johnson & Bill Weld",
         "21"
        ],
        [
         "31",
         "King",
         "10",
         "King10",
         "President",
         null,
         null,
         "Registered Voters",
         "472"
        ],
        [
         "32",
         "King",
         "10",
         "King10",
         "President",
         null,
         null,
         "Write-In",
         "15"
        ],
        [
         "33",
         "King",
         "10",
         "King10",
         "President",
         null,
         "Republican",
         "Donald J. Trump & Michael R. Pence",
         "117"
        ],
        [
         "34",
         "King",
         "10",
         "King10",
         "President",
         null,
         "Socialism & Liberation",
         "Gloria Estela La Riva & Eugene Puryear",
         "0"
        ],
        [
         "35",
         "King",
         "10",
         "King10",
         "President",
         null,
         "Socialist Workers",
         "Alyson Kennedy & Osborne Hart",
         "0"
        ],
        [
         "36",
         "King",
         "13",
         "King13",
         "President",
         null,
         "Constitution",
         "Darrell L. Castle & Scott N. Bradley",
         "0"
        ],
        [
         "37",
         "King",
         "13",
         "King13",
         "President",
         null,
         "Democratic",
         "Hillary Clinton & Tim Kaine",
         "149"
        ],
        [
         "38",
         "King",
         "13",
         "King13",
         "President",
         null,
         "Green",
         "Jill Stein & Ajamu Baraka",
         "9"
        ],
        [
         "39",
         "King",
         "13",
         "King13",
         "President",
         null,
         "Libertarian",
         "Gary Johnson & Bill Weld",
         "24"
        ],
        [
         "40",
         "King",
         "13",
         "King13",
         "President",
         null,
         null,
         "Registered Voters",
         "497"
        ],
        [
         "41",
         "King",
         "13",
         "King13",
         "President",
         null,
         null,
         "Write-In",
         "10"
        ],
        [
         "42",
         "King",
         "13",
         "King13",
         "President",
         null,
         "Republican",
         "Donald J. Trump & Michael R. Pence",
         "120"
        ],
        [
         "43",
         "King",
         "13",
         "King13",
         "President",
         null,
         "Socialism & Liberation",
         "Gloria Estela La Riva & Eugene Puryear",
         "1"
        ],
        [
         "44",
         "King",
         "13",
         "King13",
         "President",
         null,
         "Socialist Workers",
         "Alyson Kennedy & Osborne Hart",
         "4"
        ],
        [
         "45",
         "King",
         "14",
         "King14",
         "President",
         null,
         "Constitution",
         "Darrell L. Castle & Scott N. Bradley",
         "3"
        ],
        [
         "46",
         "King",
         "14",
         "King14",
         "President",
         null,
         "Democratic",
         "Hillary Clinton & Tim Kaine",
         "182"
        ],
        [
         "47",
         "King",
         "14",
         "King14",
         "President",
         null,
         "Green",
         "Jill Stein & Ajamu Baraka",
         "6"
        ],
        [
         "48",
         "King",
         "14",
         "King14",
         "President",
         null,
         "Libertarian",
         "Gary Johnson & Bill Weld",
         "17"
        ],
        [
         "49",
         "King",
         "14",
         "King14",
         "President",
         null,
         null,
         "Registered Voters",
         "525"
        ]
       ],
       "shape": {
        "columns": 8,
        "rows": 54916
       }
      },
      "text/html": [
       "<div>\n",
       "<style scoped>\n",
       "    .dataframe tbody tr th:only-of-type {\n",
       "        vertical-align: middle;\n",
       "    }\n",
       "\n",
       "    .dataframe tbody tr th {\n",
       "        vertical-align: top;\n",
       "    }\n",
       "\n",
       "    .dataframe thead th {\n",
       "        text-align: right;\n",
       "    }\n",
       "</style>\n",
       "<table border=\"1\" class=\"dataframe\">\n",
       "  <thead>\n",
       "    <tr style=\"text-align: right;\">\n",
       "      <th></th>\n",
       "      <th>county</th>\n",
       "      <th>precinct_code</th>\n",
       "      <th>precinct</th>\n",
       "      <th>office</th>\n",
       "      <th>district</th>\n",
       "      <th>party</th>\n",
       "      <th>candidate</th>\n",
       "      <th>votes</th>\n",
       "    </tr>\n",
       "  </thead>\n",
       "  <tbody>\n",
       "    <tr>\n",
       "      <th>0</th>\n",
       "      <td>King</td>\n",
       "      <td>3562</td>\n",
       "      <td>King3562</td>\n",
       "      <td>President</td>\n",
       "      <td>NaN</td>\n",
       "      <td>Constitution</td>\n",
       "      <td>Darrell L. Castle &amp; Scott N. Bradley</td>\n",
       "      <td>0</td>\n",
       "    </tr>\n",
       "    <tr>\n",
       "      <th>1</th>\n",
       "      <td>King</td>\n",
       "      <td>3562</td>\n",
       "      <td>King3562</td>\n",
       "      <td>President</td>\n",
       "      <td>NaN</td>\n",
       "      <td>Democratic</td>\n",
       "      <td>Hillary Clinton &amp; Tim Kaine</td>\n",
       "      <td>266</td>\n",
       "    </tr>\n",
       "    <tr>\n",
       "      <th>2</th>\n",
       "      <td>King</td>\n",
       "      <td>3562</td>\n",
       "      <td>King3562</td>\n",
       "      <td>President</td>\n",
       "      <td>NaN</td>\n",
       "      <td>Green</td>\n",
       "      <td>Jill Stein &amp; Ajamu Baraka</td>\n",
       "      <td>1</td>\n",
       "    </tr>\n",
       "    <tr>\n",
       "      <th>3</th>\n",
       "      <td>King</td>\n",
       "      <td>3562</td>\n",
       "      <td>King3562</td>\n",
       "      <td>President</td>\n",
       "      <td>NaN</td>\n",
       "      <td>Libertarian</td>\n",
       "      <td>Gary Johnson &amp; Bill Weld</td>\n",
       "      <td>14</td>\n",
       "    </tr>\n",
       "    <tr>\n",
       "      <th>4</th>\n",
       "      <td>King</td>\n",
       "      <td>3562</td>\n",
       "      <td>King3562</td>\n",
       "      <td>President</td>\n",
       "      <td>NaN</td>\n",
       "      <td>NaN</td>\n",
       "      <td>Registered Voters</td>\n",
       "      <td>519</td>\n",
       "    </tr>\n",
       "    <tr>\n",
       "      <th>...</th>\n",
       "      <td>...</td>\n",
       "      <td>...</td>\n",
       "      <td>...</td>\n",
       "      <td>...</td>\n",
       "      <td>...</td>\n",
       "      <td>...</td>\n",
       "      <td>...</td>\n",
       "      <td>...</td>\n",
       "    </tr>\n",
       "    <tr>\n",
       "      <th>54911</th>\n",
       "      <td>Yakima</td>\n",
       "      <td>5202</td>\n",
       "      <td>Yakima5202</td>\n",
       "      <td>President</td>\n",
       "      <td>NaN</td>\n",
       "      <td>Socialist Workers</td>\n",
       "      <td>Alyson Kennedy / Osborne Hart</td>\n",
       "      <td>0</td>\n",
       "    </tr>\n",
       "    <tr>\n",
       "      <th>54912</th>\n",
       "      <td>Yakima</td>\n",
       "      <td>5202</td>\n",
       "      <td>Yakima5202</td>\n",
       "      <td>President</td>\n",
       "      <td>NaN</td>\n",
       "      <td>Socialism &amp; Liberation</td>\n",
       "      <td>Gloria Estela La Riva / Eugene Puryear</td>\n",
       "      <td>0</td>\n",
       "    </tr>\n",
       "    <tr>\n",
       "      <th>54913</th>\n",
       "      <td>Yakima</td>\n",
       "      <td>5202</td>\n",
       "      <td>Yakima5202</td>\n",
       "      <td>President</td>\n",
       "      <td>NaN</td>\n",
       "      <td>Green</td>\n",
       "      <td>Jill Stein / Ajamu Baraka</td>\n",
       "      <td>0</td>\n",
       "    </tr>\n",
       "    <tr>\n",
       "      <th>54914</th>\n",
       "      <td>Yakima</td>\n",
       "      <td>5202</td>\n",
       "      <td>Yakima5202</td>\n",
       "      <td>President</td>\n",
       "      <td>NaN</td>\n",
       "      <td>Constitution</td>\n",
       "      <td>Darrell L. Castle / Scott N. Bradley</td>\n",
       "      <td>0</td>\n",
       "    </tr>\n",
       "    <tr>\n",
       "      <th>54915</th>\n",
       "      <td>Yakima</td>\n",
       "      <td>5202</td>\n",
       "      <td>Yakima5202</td>\n",
       "      <td>President</td>\n",
       "      <td>NaN</td>\n",
       "      <td>Libertarian</td>\n",
       "      <td>Gary Johnson / Bill Weld</td>\n",
       "      <td>0</td>\n",
       "    </tr>\n",
       "  </tbody>\n",
       "</table>\n",
       "<p>54916 rows × 8 columns</p>\n",
       "</div>"
      ],
      "text/plain": [
       "       county  precinct_code    precinct     office  district  \\\n",
       "0        King           3562    King3562  President       NaN   \n",
       "1        King           3562    King3562  President       NaN   \n",
       "2        King           3562    King3562  President       NaN   \n",
       "3        King           3562    King3562  President       NaN   \n",
       "4        King           3562    King3562  President       NaN   \n",
       "...       ...            ...         ...        ...       ...   \n",
       "54911  Yakima           5202  Yakima5202  President       NaN   \n",
       "54912  Yakima           5202  Yakima5202  President       NaN   \n",
       "54913  Yakima           5202  Yakima5202  President       NaN   \n",
       "54914  Yakima           5202  Yakima5202  President       NaN   \n",
       "54915  Yakima           5202  Yakima5202  President       NaN   \n",
       "\n",
       "                        party                               candidate  votes  \n",
       "0                Constitution    Darrell L. Castle & Scott N. Bradley      0  \n",
       "1                  Democratic             Hillary Clinton & Tim Kaine    266  \n",
       "2                       Green               Jill Stein & Ajamu Baraka      1  \n",
       "3                 Libertarian                Gary Johnson & Bill Weld     14  \n",
       "4                         NaN                       Registered Voters    519  \n",
       "...                       ...                                     ...    ...  \n",
       "54911       Socialist Workers           Alyson Kennedy / Osborne Hart      0  \n",
       "54912  Socialism & Liberation  Gloria Estela La Riva / Eugene Puryear      0  \n",
       "54913                   Green               Jill Stein / Ajamu Baraka      0  \n",
       "54914            Constitution    Darrell L. Castle / Scott N. Bradley      0  \n",
       "54915             Libertarian                Gary Johnson / Bill Weld      0  \n",
       "\n",
       "[54916 rows x 8 columns]"
      ]
     },
     "execution_count": 105,
     "metadata": {},
     "output_type": "execute_result"
    }
   ],
   "source": [
    "# Process general files\n",
    "gen_df_list = []\n",
    "\n",
    "for file in general_files:\n",
    "    try:\n",
    "        df = pd.read_csv(file)\n",
    "\n",
    "        # Select only president\n",
    "        if 'office' in df.columns:\n",
    "            df = df[df[\"office\"] == \"President\" ]\n",
    "\n",
    "        gen_df_list.append(df)\n",
    "\n",
    "    except Exception as e:\n",
    "        print(f\"Error in {file}: {e}\")\n",
    "\n",
    "# Combine all cleaned files\n",
    "gen_combined_df = pd.concat(gen_df_list, ignore_index=True)\n",
    "# Create a new column \"precinct\" by combining county and precinct\n",
    "gen_combined_df[\"precinct\"] = gen_combined_df[\"county\"].astype(str) + gen_combined_df[\"precinct_code\"].astype(str)\n",
    "gen_combined_df\n"
   ]
  },
  {
   "cell_type": "code",
   "execution_count": 106,
   "id": "1bbbd54d",
   "metadata": {},
   "outputs": [
    {
     "data": {
      "application/vnd.microsoft.datawrangler.viewer.v0+json": {
       "columns": [
        {
         "name": "party",
         "rawType": "object",
         "type": "unknown"
        },
        {
         "name": "count",
         "rawType": "int64",
         "type": "integer"
        }
       ],
       "ref": "d8729d9d-a4d5-494e-9973-9d9acdbf5bc8",
       "rows": [
        [
         "Constitution",
         "7126"
        ],
        [
         "Democratic",
         "7126"
        ],
        [
         "Green",
         "7126"
        ],
        [
         "Libertarian",
         "7126"
        ],
        [
         "Republican",
         "7126"
        ],
        [
         "Socialism & Liberation",
         "7126"
        ],
        [
         "Socialist Workers",
         "7126"
        ],
        [
         null,
         "5034"
        ]
       ],
       "shape": {
        "columns": 1,
        "rows": 8
       }
      },
      "text/plain": [
       "party\n",
       "Constitution              7126\n",
       "Democratic                7126\n",
       "Green                     7126\n",
       "Libertarian               7126\n",
       "Republican                7126\n",
       "Socialism & Liberation    7126\n",
       "Socialist Workers         7126\n",
       "NaN                       5034\n",
       "Name: count, dtype: int64"
      ]
     },
     "execution_count": 106,
     "metadata": {},
     "output_type": "execute_result"
    }
   ],
   "source": [
    "general_data = gen_combined_df[[\"precinct\", \"party\", \"candidate\", \"votes\"]]\n",
    "general_data[\"party\"].value_counts(dropna=False)\n"
   ]
  },
  {
   "cell_type": "code",
   "execution_count": 107,
   "id": "a22405a6",
   "metadata": {},
   "outputs": [
    {
     "data": {
      "application/vnd.microsoft.datawrangler.viewer.v0+json": {
       "columns": [
        {
         "name": "candidate",
         "rawType": "object",
         "type": "string"
        },
        {
         "name": "count",
         "rawType": "int64",
         "type": "integer"
        }
       ],
       "ref": "8a26dac3-d71a-4927-aad3-35db190c0016",
       "rows": [
        [
         "Hillary Clinton / Tim Kaine",
         "4609"
        ],
        [
         "Donald J. Trump / Michael R. Pence",
         "4609"
        ],
        [
         "Alyson Kennedy / Osborne Hart",
         "4609"
        ],
        [
         "Gloria Estela La Riva / Eugene Puryear",
         "4609"
        ],
        [
         "Jill Stein / Ajamu Baraka",
         "4609"
        ],
        [
         "Darrell L. Castle / Scott N. Bradley",
         "4609"
        ],
        [
         "Gary Johnson / Bill Weld",
         "4609"
        ],
        [
         "Darrell L. Castle & Scott N. Bradley",
         "2517"
        ],
        [
         "Hillary Clinton & Tim Kaine",
         "2517"
        ],
        [
         "Jill Stein & Ajamu Baraka",
         "2517"
        ],
        [
         "Gary Johnson & Bill Weld",
         "2517"
        ],
        [
         "Registered Voters",
         "2517"
        ],
        [
         "Write-In",
         "2517"
        ],
        [
         "Donald J. Trump & Michael R. Pence",
         "2517"
        ],
        [
         "Gloria Estela La Riva & Eugene Puryear",
         "2517"
        ],
        [
         "Alyson Kennedy & Osborne Hart",
         "2517"
        ]
       ],
       "shape": {
        "columns": 1,
        "rows": 16
       }
      },
      "text/plain": [
       "candidate\n",
       "Hillary Clinton / Tim Kaine               4609\n",
       "Donald J. Trump / Michael R. Pence        4609\n",
       "Alyson Kennedy / Osborne Hart             4609\n",
       "Gloria Estela La Riva / Eugene Puryear    4609\n",
       "Jill Stein / Ajamu Baraka                 4609\n",
       "Darrell L. Castle / Scott N. Bradley      4609\n",
       "Gary Johnson / Bill Weld                  4609\n",
       "Darrell L. Castle & Scott N. Bradley      2517\n",
       "Hillary Clinton & Tim Kaine               2517\n",
       "Jill Stein & Ajamu Baraka                 2517\n",
       "Gary Johnson & Bill Weld                  2517\n",
       "Registered Voters                         2517\n",
       "Write-In                                  2517\n",
       "Donald J. Trump & Michael R. Pence        2517\n",
       "Gloria Estela La Riva & Eugene Puryear    2517\n",
       "Alyson Kennedy & Osborne Hart             2517\n",
       "Name: count, dtype: int64"
      ]
     },
     "execution_count": 107,
     "metadata": {},
     "output_type": "execute_result"
    }
   ],
   "source": [
    "general_data[\"candidate\"].value_counts(dropna=False)"
   ]
  },
  {
   "cell_type": "code",
   "execution_count": 108,
   "id": "8bb5d275",
   "metadata": {},
   "outputs": [
    {
     "name": "stderr",
     "output_type": "stream",
     "text": [
      "C:\\Users\\ADMIN\\AppData\\Local\\Temp\\ipykernel_24240\\1105235521.py:1: SettingWithCopyWarning: \n",
      "A value is trying to be set on a copy of a slice from a DataFrame.\n",
      "Try using .loc[row_indexer,col_indexer] = value instead\n",
      "\n",
      "See the caveats in the documentation: https://pandas.pydata.org/pandas-docs/stable/user_guide/indexing.html#returning-a-view-versus-a-copy\n",
      "  general_data[\"candidate\"] = general_data[\"candidate\"].str.extract(r\"^([^/&]+)\").iloc[:, 0].str.strip()\n"
     ]
    },
    {
     "data": {
      "application/vnd.microsoft.datawrangler.viewer.v0+json": {
       "columns": [
        {
         "name": "candidate",
         "rawType": "object",
         "type": "string"
        },
        {
         "name": "count",
         "rawType": "int64",
         "type": "integer"
        }
       ],
       "ref": "f0073585-688e-4110-ad7b-56fe59dff832",
       "rows": [
        [
         "Darrell L. Castle",
         "7126"
        ],
        [
         "Hillary Clinton",
         "7126"
        ],
        [
         "Jill Stein",
         "7126"
        ],
        [
         "Gary Johnson",
         "7126"
        ],
        [
         "Donald J. Trump",
         "7126"
        ],
        [
         "Gloria Estela La Riva",
         "7126"
        ],
        [
         "Alyson Kennedy",
         "7126"
        ]
       ],
       "shape": {
        "columns": 1,
        "rows": 7
       }
      },
      "text/plain": [
       "candidate\n",
       "Darrell L. Castle        7126\n",
       "Hillary Clinton          7126\n",
       "Jill Stein               7126\n",
       "Gary Johnson             7126\n",
       "Donald J. Trump          7126\n",
       "Gloria Estela La Riva    7126\n",
       "Alyson Kennedy           7126\n",
       "Name: count, dtype: int64"
      ]
     },
     "execution_count": 108,
     "metadata": {},
     "output_type": "execute_result"
    }
   ],
   "source": [
    "general_data[\"candidate\"] = general_data[\"candidate\"].str.extract(r\"^([^/&]+)\").iloc[:, 0].str.strip()\n",
    "general_data = general_data[~general_data[\"candidate\"].isin([\"Registered Voters\", \"Write-In\"])] \n",
    "general_data[\"candidate\"].value_counts(dropna=False)"
   ]
  },
  {
   "cell_type": "code",
   "execution_count": 114,
   "id": "42495558",
   "metadata": {},
   "outputs": [
    {
     "data": {
      "application/vnd.microsoft.datawrangler.viewer.v0+json": {
       "columns": [
        {
         "name": "index",
         "rawType": "int64",
         "type": "integer"
        },
        {
         "name": "precinct",
         "rawType": "object",
         "type": "string"
        },
        {
         "name": "party",
         "rawType": "object",
         "type": "string"
        },
        {
         "name": "candidate",
         "rawType": "object",
         "type": "string"
        },
        {
         "name": "votes",
         "rawType": "int64",
         "type": "integer"
        },
        {
         "name": "candidate_column",
         "rawType": "object",
         "type": "string"
        }
       ],
       "ref": "9b6c0304-0052-40a9-b96a-861a3a0b797f",
       "rows": [
        [
         "1",
         "King3562",
         "DEM",
         "Hillary Clinton",
         "266",
         "gen_dem_CLINTON"
        ],
        [
         "6",
         "King3562",
         "REP",
         "Donald J. Trump",
         "185",
         "gen_rep_TRUMP"
        ],
        [
         "10",
         "King2381",
         "DEM",
         "Hillary Clinton",
         "334",
         "gen_dem_CLINTON"
        ],
        [
         "15",
         "King2381",
         "REP",
         "Donald J. Trump",
         "215",
         "gen_rep_TRUMP"
        ],
        [
         "19",
         "King3400",
         "DEM",
         "Hillary Clinton",
         "235",
         "gen_dem_CLINTON"
        ],
        [
         "24",
         "King3400",
         "REP",
         "Donald J. Trump",
         "166",
         "gen_rep_TRUMP"
        ],
        [
         "28",
         "King10",
         "DEM",
         "Hillary Clinton",
         "243",
         "gen_dem_CLINTON"
        ],
        [
         "33",
         "King10",
         "REP",
         "Donald J. Trump",
         "117",
         "gen_rep_TRUMP"
        ],
        [
         "37",
         "King13",
         "DEM",
         "Hillary Clinton",
         "149",
         "gen_dem_CLINTON"
        ],
        [
         "42",
         "King13",
         "REP",
         "Donald J. Trump",
         "120",
         "gen_rep_TRUMP"
        ],
        [
         "46",
         "King14",
         "DEM",
         "Hillary Clinton",
         "182",
         "gen_dem_CLINTON"
        ],
        [
         "51",
         "King14",
         "REP",
         "Donald J. Trump",
         "138",
         "gen_rep_TRUMP"
        ],
        [
         "55",
         "King3141",
         "DEM",
         "Hillary Clinton",
         "159",
         "gen_dem_CLINTON"
        ],
        [
         "60",
         "King3141",
         "REP",
         "Donald J. Trump",
         "164",
         "gen_rep_TRUMP"
        ],
        [
         "64",
         "King2383",
         "DEM",
         "Hillary Clinton",
         "269",
         "gen_dem_CLINTON"
        ],
        [
         "69",
         "King2383",
         "REP",
         "Donald J. Trump",
         "193",
         "gen_rep_TRUMP"
        ],
        [
         "73",
         "King2652",
         "DEM",
         "Hillary Clinton",
         "415",
         "gen_dem_CLINTON"
        ],
        [
         "78",
         "King2652",
         "REP",
         "Donald J. Trump",
         "215",
         "gen_rep_TRUMP"
        ],
        [
         "82",
         "King22",
         "DEM",
         "Hillary Clinton",
         "423",
         "gen_dem_CLINTON"
        ],
        [
         "87",
         "King22",
         "REP",
         "Donald J. Trump",
         "79",
         "gen_rep_TRUMP"
        ],
        [
         "91",
         "King2384",
         "DEM",
         "Hillary Clinton",
         "173",
         "gen_dem_CLINTON"
        ],
        [
         "96",
         "King2384",
         "REP",
         "Donald J. Trump",
         "168",
         "gen_rep_TRUMP"
        ],
        [
         "100",
         "King3459",
         "DEM",
         "Hillary Clinton",
         "215",
         "gen_dem_CLINTON"
        ],
        [
         "105",
         "King3459",
         "REP",
         "Donald J. Trump",
         "104",
         "gen_rep_TRUMP"
        ],
        [
         "109",
         "King37",
         "DEM",
         "Hillary Clinton",
         "310",
         "gen_dem_CLINTON"
        ],
        [
         "114",
         "King37",
         "REP",
         "Donald J. Trump",
         "343",
         "gen_rep_TRUMP"
        ],
        [
         "118",
         "King3641",
         "DEM",
         "Hillary Clinton",
         "151",
         "gen_dem_CLINTON"
        ],
        [
         "123",
         "King3641",
         "REP",
         "Donald J. Trump",
         "138",
         "gen_rep_TRUMP"
        ],
        [
         "127",
         "King46",
         "DEM",
         "Hillary Clinton",
         "134",
         "gen_dem_CLINTON"
        ],
        [
         "132",
         "King46",
         "REP",
         "Donald J. Trump",
         "86",
         "gen_rep_TRUMP"
        ],
        [
         "136",
         "King53",
         "DEM",
         "Hillary Clinton",
         "191",
         "gen_dem_CLINTON"
        ],
        [
         "141",
         "King53",
         "REP",
         "Donald J. Trump",
         "113",
         "gen_rep_TRUMP"
        ],
        [
         "145",
         "King67",
         "DEM",
         "Hillary Clinton",
         "201",
         "gen_dem_CLINTON"
        ],
        [
         "150",
         "King67",
         "REP",
         "Donald J. Trump",
         "110",
         "gen_rep_TRUMP"
        ],
        [
         "154",
         "King2702",
         "DEM",
         "Hillary Clinton",
         "165",
         "gen_dem_CLINTON"
        ],
        [
         "159",
         "King2702",
         "REP",
         "Donald J. Trump",
         "90",
         "gen_rep_TRUMP"
        ],
        [
         "163",
         "King2703",
         "DEM",
         "Hillary Clinton",
         "91",
         "gen_dem_CLINTON"
        ],
        [
         "168",
         "King2703",
         "REP",
         "Donald J. Trump",
         "56",
         "gen_rep_TRUMP"
        ],
        [
         "172",
         "King3476",
         "DEM",
         "Hillary Clinton",
         "118",
         "gen_dem_CLINTON"
        ],
        [
         "177",
         "King3476",
         "REP",
         "Donald J. Trump",
         "46",
         "gen_rep_TRUMP"
        ],
        [
         "181",
         "King3477",
         "DEM",
         "Hillary Clinton",
         "68",
         "gen_dem_CLINTON"
        ],
        [
         "186",
         "King3477",
         "REP",
         "Donald J. Trump",
         "53",
         "gen_rep_TRUMP"
        ],
        [
         "190",
         "King42",
         "DEM",
         "Hillary Clinton",
         "172",
         "gen_dem_CLINTON"
        ],
        [
         "195",
         "King42",
         "REP",
         "Donald J. Trump",
         "162",
         "gen_rep_TRUMP"
        ],
        [
         "199",
         "King47",
         "DEM",
         "Hillary Clinton",
         "210",
         "gen_dem_CLINTON"
        ],
        [
         "204",
         "King47",
         "REP",
         "Donald J. Trump",
         "171",
         "gen_rep_TRUMP"
        ],
        [
         "208",
         "King48",
         "DEM",
         "Hillary Clinton",
         "91",
         "gen_dem_CLINTON"
        ],
        [
         "213",
         "King48",
         "REP",
         "Donald J. Trump",
         "59",
         "gen_rep_TRUMP"
        ],
        [
         "217",
         "King49",
         "DEM",
         "Hillary Clinton",
         "204",
         "gen_dem_CLINTON"
        ],
        [
         "222",
         "King49",
         "REP",
         "Donald J. Trump",
         "94",
         "gen_rep_TRUMP"
        ]
       ],
       "shape": {
        "columns": 5,
        "rows": 14252
       }
      },
      "text/html": [
       "<div>\n",
       "<style scoped>\n",
       "    .dataframe tbody tr th:only-of-type {\n",
       "        vertical-align: middle;\n",
       "    }\n",
       "\n",
       "    .dataframe tbody tr th {\n",
       "        vertical-align: top;\n",
       "    }\n",
       "\n",
       "    .dataframe thead th {\n",
       "        text-align: right;\n",
       "    }\n",
       "</style>\n",
       "<table border=\"1\" class=\"dataframe\">\n",
       "  <thead>\n",
       "    <tr style=\"text-align: right;\">\n",
       "      <th></th>\n",
       "      <th>precinct</th>\n",
       "      <th>party</th>\n",
       "      <th>candidate</th>\n",
       "      <th>votes</th>\n",
       "      <th>candidate_column</th>\n",
       "    </tr>\n",
       "  </thead>\n",
       "  <tbody>\n",
       "    <tr>\n",
       "      <th>1</th>\n",
       "      <td>King3562</td>\n",
       "      <td>DEM</td>\n",
       "      <td>Hillary Clinton</td>\n",
       "      <td>266</td>\n",
       "      <td>gen_dem_CLINTON</td>\n",
       "    </tr>\n",
       "    <tr>\n",
       "      <th>6</th>\n",
       "      <td>King3562</td>\n",
       "      <td>REP</td>\n",
       "      <td>Donald J. Trump</td>\n",
       "      <td>185</td>\n",
       "      <td>gen_rep_TRUMP</td>\n",
       "    </tr>\n",
       "    <tr>\n",
       "      <th>10</th>\n",
       "      <td>King2381</td>\n",
       "      <td>DEM</td>\n",
       "      <td>Hillary Clinton</td>\n",
       "      <td>334</td>\n",
       "      <td>gen_dem_CLINTON</td>\n",
       "    </tr>\n",
       "    <tr>\n",
       "      <th>15</th>\n",
       "      <td>King2381</td>\n",
       "      <td>REP</td>\n",
       "      <td>Donald J. Trump</td>\n",
       "      <td>215</td>\n",
       "      <td>gen_rep_TRUMP</td>\n",
       "    </tr>\n",
       "    <tr>\n",
       "      <th>19</th>\n",
       "      <td>King3400</td>\n",
       "      <td>DEM</td>\n",
       "      <td>Hillary Clinton</td>\n",
       "      <td>235</td>\n",
       "      <td>gen_dem_CLINTON</td>\n",
       "    </tr>\n",
       "    <tr>\n",
       "      <th>...</th>\n",
       "      <td>...</td>\n",
       "      <td>...</td>\n",
       "      <td>...</td>\n",
       "      <td>...</td>\n",
       "      <td>...</td>\n",
       "    </tr>\n",
       "    <tr>\n",
       "      <th>54896</th>\n",
       "      <td>Yakima5020</td>\n",
       "      <td>REP</td>\n",
       "      <td>Donald J. Trump</td>\n",
       "      <td>240</td>\n",
       "      <td>gen_rep_TRUMP</td>\n",
       "    </tr>\n",
       "    <tr>\n",
       "      <th>54902</th>\n",
       "      <td>Yakima5101</td>\n",
       "      <td>DEM</td>\n",
       "      <td>Hillary Clinton</td>\n",
       "      <td>91</td>\n",
       "      <td>gen_dem_CLINTON</td>\n",
       "    </tr>\n",
       "    <tr>\n",
       "      <th>54903</th>\n",
       "      <td>Yakima5101</td>\n",
       "      <td>REP</td>\n",
       "      <td>Donald J. Trump</td>\n",
       "      <td>176</td>\n",
       "      <td>gen_rep_TRUMP</td>\n",
       "    </tr>\n",
       "    <tr>\n",
       "      <th>54909</th>\n",
       "      <td>Yakima5202</td>\n",
       "      <td>DEM</td>\n",
       "      <td>Hillary Clinton</td>\n",
       "      <td>0</td>\n",
       "      <td>gen_dem_CLINTON</td>\n",
       "    </tr>\n",
       "    <tr>\n",
       "      <th>54910</th>\n",
       "      <td>Yakima5202</td>\n",
       "      <td>REP</td>\n",
       "      <td>Donald J. Trump</td>\n",
       "      <td>0</td>\n",
       "      <td>gen_rep_TRUMP</td>\n",
       "    </tr>\n",
       "  </tbody>\n",
       "</table>\n",
       "<p>14252 rows × 5 columns</p>\n",
       "</div>"
      ],
      "text/plain": [
       "         precinct party        candidate  votes candidate_column\n",
       "1        King3562   DEM  Hillary Clinton    266  gen_dem_CLINTON\n",
       "6        King3562   REP  Donald J. Trump    185    gen_rep_TRUMP\n",
       "10       King2381   DEM  Hillary Clinton    334  gen_dem_CLINTON\n",
       "15       King2381   REP  Donald J. Trump    215    gen_rep_TRUMP\n",
       "19       King3400   DEM  Hillary Clinton    235  gen_dem_CLINTON\n",
       "...           ...   ...              ...    ...              ...\n",
       "54896  Yakima5020   REP  Donald J. Trump    240    gen_rep_TRUMP\n",
       "54902  Yakima5101   DEM  Hillary Clinton     91  gen_dem_CLINTON\n",
       "54903  Yakima5101   REP  Donald J. Trump    176    gen_rep_TRUMP\n",
       "54909  Yakima5202   DEM  Hillary Clinton      0  gen_dem_CLINTON\n",
       "54910  Yakima5202   REP  Donald J. Trump      0    gen_rep_TRUMP\n",
       "\n",
       "[14252 rows x 5 columns]"
      ]
     },
     "execution_count": 114,
     "metadata": {},
     "output_type": "execute_result"
    }
   ],
   "source": [
    "# general_data = general_data[~general_data[\"candidate\"].isin([\"YES\", \"NO\"])]\n",
    "# general_data[\"party\"] = general_data.apply(\n",
    "#     lambda row: candidate_party_map.get(row[\"candidate\"], row[\"party\"]) if pd.isna(row[\"party\"]) else row[\"party\"],\n",
    "#     axis=1\n",
    "# )\n",
    "general_data.loc[:, \"party\"] = general_data[\"party\"].replace({\n",
    "    \"Democratic\": \"DEM\",\n",
    "    \"Republican\": \"REP\"\n",
    "})\n",
    "general_data = general_data[general_data[\"party\"].isin([\"DEM\", \"REP\"])] # Analyzing only republican and democratic\n",
    "general_data"
   ]
  },
  {
   "cell_type": "code",
   "execution_count": 115,
   "id": "daaed088",
   "metadata": {},
   "outputs": [
    {
     "data": {
      "application/vnd.microsoft.datawrangler.viewer.v0+json": {
       "columns": [
        {
         "name": "index",
         "rawType": "int64",
         "type": "integer"
        },
        {
         "name": "precinct",
         "rawType": "object",
         "type": "string"
        },
        {
         "name": "gen_dem_CLINTON",
         "rawType": "int64",
         "type": "integer"
        },
        {
         "name": "gen_rep_TRUMP",
         "rawType": "int64",
         "type": "integer"
        }
       ],
       "ref": "207d7523-9d68-40da-b9b2-e5ba4b32e654",
       "rows": [
        [
         "0",
         "Adams111",
         "24",
         "109"
        ],
        [
         "1",
         "Adams112",
         "26",
         "96"
        ],
        [
         "2",
         "Adams113",
         "56",
         "117"
        ],
        [
         "3",
         "Adams114",
         "54",
         "113"
        ],
        [
         "4",
         "Adams115",
         "48",
         "123"
        ],
        [
         "5",
         "Adams121",
         "19",
         "132"
        ],
        [
         "6",
         "Adams122",
         "16",
         "137"
        ],
        [
         "7",
         "Adams123",
         "10",
         "96"
        ],
        [
         "8",
         "Adams211",
         "4",
         "29"
        ],
        [
         "9",
         "Adams212",
         "14",
         "78"
        ],
        [
         "10",
         "Adams221",
         "3",
         "63"
        ],
        [
         "11",
         "Adams222",
         "4",
         "34"
        ],
        [
         "12",
         "Adams311",
         "46",
         "176"
        ],
        [
         "13",
         "Adams313",
         "2",
         "25"
        ],
        [
         "14",
         "Adams321",
         "15",
         "54"
        ],
        [
         "15",
         "Adams322",
         "5",
         "27"
        ],
        [
         "16",
         "Adams323",
         "6",
         "43"
        ],
        [
         "17",
         "Adams324",
         "2",
         "38"
        ],
        [
         "18",
         "Adams325",
         "6",
         "8"
        ],
        [
         "19",
         "Adams411",
         "21",
         "23"
        ],
        [
         "20",
         "Adams412",
         "143",
         "124"
        ],
        [
         "21",
         "Adams413",
         "140",
         "121"
        ],
        [
         "22",
         "Adams414",
         "93",
         "163"
        ],
        [
         "23",
         "Adams415",
         "89",
         "132"
        ],
        [
         "24",
         "Adams416",
         "99",
         "124"
        ],
        [
         "25",
         "Adams511",
         "67",
         "50"
        ],
        [
         "26",
         "Adams512",
         "59",
         "116"
        ],
        [
         "27",
         "Adams513",
         "88",
         "221"
        ],
        [
         "28",
         "Adams514",
         "66",
         "170"
        ],
        [
         "29",
         "Adams515",
         "43",
         "133"
        ],
        [
         "30",
         "Adams516",
         "31",
         "208"
        ],
        [
         "31",
         "Asotin1",
         "32",
         "153"
        ],
        [
         "32",
         "Asotin101",
         "91",
         "157"
        ],
        [
         "33",
         "Asotin102",
         "73",
         "185"
        ],
        [
         "34",
         "Asotin201",
         "110",
         "131"
        ],
        [
         "35",
         "Asotin202",
         "144",
         "179"
        ],
        [
         "36",
         "Asotin203",
         "136",
         "152"
        ],
        [
         "37",
         "Asotin204",
         "123",
         "208"
        ],
        [
         "38",
         "Asotin205",
         "102",
         "130"
        ],
        [
         "39",
         "Asotin206",
         "137",
         "177"
        ],
        [
         "40",
         "Asotin207",
         "103",
         "126"
        ],
        [
         "41",
         "Asotin208",
         "118",
         "194"
        ],
        [
         "42",
         "Asotin3",
         "37",
         "163"
        ],
        [
         "43",
         "Asotin301",
         "132",
         "272"
        ],
        [
         "44",
         "Asotin302",
         "189",
         "415"
        ],
        [
         "45",
         "Asotin303",
         "42",
         "99"
        ],
        [
         "46",
         "Asotin304",
         "116",
         "212"
        ],
        [
         "47",
         "Asotin305",
         "181",
         "486"
        ],
        [
         "48",
         "Asotin306",
         "199",
         "365"
        ],
        [
         "49",
         "Asotin307",
         "137",
         "278"
        ]
       ],
       "shape": {
        "columns": 3,
        "rows": 7126
       }
      },
      "text/html": [
       "<div>\n",
       "<style scoped>\n",
       "    .dataframe tbody tr th:only-of-type {\n",
       "        vertical-align: middle;\n",
       "    }\n",
       "\n",
       "    .dataframe tbody tr th {\n",
       "        vertical-align: top;\n",
       "    }\n",
       "\n",
       "    .dataframe thead th {\n",
       "        text-align: right;\n",
       "    }\n",
       "</style>\n",
       "<table border=\"1\" class=\"dataframe\">\n",
       "  <thead>\n",
       "    <tr style=\"text-align: right;\">\n",
       "      <th>candidate_column</th>\n",
       "      <th>precinct</th>\n",
       "      <th>gen_dem_CLINTON</th>\n",
       "      <th>gen_rep_TRUMP</th>\n",
       "    </tr>\n",
       "  </thead>\n",
       "  <tbody>\n",
       "    <tr>\n",
       "      <th>0</th>\n",
       "      <td>Adams111</td>\n",
       "      <td>24</td>\n",
       "      <td>109</td>\n",
       "    </tr>\n",
       "    <tr>\n",
       "      <th>1</th>\n",
       "      <td>Adams112</td>\n",
       "      <td>26</td>\n",
       "      <td>96</td>\n",
       "    </tr>\n",
       "    <tr>\n",
       "      <th>2</th>\n",
       "      <td>Adams113</td>\n",
       "      <td>56</td>\n",
       "      <td>117</td>\n",
       "    </tr>\n",
       "    <tr>\n",
       "      <th>3</th>\n",
       "      <td>Adams114</td>\n",
       "      <td>54</td>\n",
       "      <td>113</td>\n",
       "    </tr>\n",
       "    <tr>\n",
       "      <th>4</th>\n",
       "      <td>Adams115</td>\n",
       "      <td>48</td>\n",
       "      <td>123</td>\n",
       "    </tr>\n",
       "    <tr>\n",
       "      <th>...</th>\n",
       "      <td>...</td>\n",
       "      <td>...</td>\n",
       "      <td>...</td>\n",
       "    </tr>\n",
       "    <tr>\n",
       "      <th>7121</th>\n",
       "      <td>Yakima5020</td>\n",
       "      <td>95</td>\n",
       "      <td>240</td>\n",
       "    </tr>\n",
       "    <tr>\n",
       "      <th>7122</th>\n",
       "      <td>Yakima5101</td>\n",
       "      <td>91</td>\n",
       "      <td>176</td>\n",
       "    </tr>\n",
       "    <tr>\n",
       "      <th>7123</th>\n",
       "      <td>Yakima5202</td>\n",
       "      <td>0</td>\n",
       "      <td>0</td>\n",
       "    </tr>\n",
       "    <tr>\n",
       "      <th>7124</th>\n",
       "      <td>Yakima701</td>\n",
       "      <td>97</td>\n",
       "      <td>53</td>\n",
       "    </tr>\n",
       "    <tr>\n",
       "      <th>7125</th>\n",
       "      <td>Yakima901</td>\n",
       "      <td>255</td>\n",
       "      <td>42</td>\n",
       "    </tr>\n",
       "  </tbody>\n",
       "</table>\n",
       "<p>7126 rows × 3 columns</p>\n",
       "</div>"
      ],
      "text/plain": [
       "candidate_column    precinct  gen_dem_CLINTON  gen_rep_TRUMP\n",
       "0                   Adams111               24            109\n",
       "1                   Adams112               26             96\n",
       "2                   Adams113               56            117\n",
       "3                   Adams114               54            113\n",
       "4                   Adams115               48            123\n",
       "...                      ...              ...            ...\n",
       "7121              Yakima5020               95            240\n",
       "7122              Yakima5101               91            176\n",
       "7123              Yakima5202                0              0\n",
       "7124               Yakima701               97             53\n",
       "7125               Yakima901              255             42\n",
       "\n",
       "[7126 rows x 3 columns]"
      ]
     },
     "execution_count": 115,
     "metadata": {},
     "output_type": "execute_result"
    }
   ],
   "source": [
    "general_data[\"candidate_column\"] = (\n",
    "    \"gen_\" +\n",
    "    general_data[\"party\"].str.lower() + \"_\" +\n",
    "    general_data[\"candidate\"].str.split().str[-1].str.upper()\n",
    ")\n",
    "\n",
    "# pivot the table\n",
    "general_result = general_data.pivot_table(\n",
    "    index=\"precinct\",\n",
    "    columns=\"candidate_column\",\n",
    "    values=\"votes\",\n",
    "    aggfunc=\"sum\",  \n",
    "    fill_value=0\n",
    ").reset_index()\n",
    "\n",
    "general_result"
   ]
  },
  {
   "cell_type": "code",
   "execution_count": 116,
   "id": "6686d34b",
   "metadata": {},
   "outputs": [
    {
     "data": {
      "application/vnd.microsoft.datawrangler.viewer.v0+json": {
       "columns": [
        {
         "name": "index",
         "rawType": "int64",
         "type": "integer"
        },
        {
         "name": "precinct",
         "rawType": "object",
         "type": "string"
        },
        {
         "name": "pri_dem_CLINTON",
         "rawType": "int64",
         "type": "integer"
        },
        {
         "name": "pri_dem_SANDERS",
         "rawType": "int64",
         "type": "integer"
        },
        {
         "name": "pri_rep_CARSON",
         "rawType": "int64",
         "type": "integer"
        },
        {
         "name": "pri_rep_CRUZ",
         "rawType": "int64",
         "type": "integer"
        },
        {
         "name": "pri_rep_KASICH",
         "rawType": "int64",
         "type": "integer"
        },
        {
         "name": "pri_rep_TRUMP",
         "rawType": "int64",
         "type": "integer"
        },
        {
         "name": "gen_dem_CLINTON",
         "rawType": "int64",
         "type": "integer"
        },
        {
         "name": "gen_rep_TRUMP",
         "rawType": "int64",
         "type": "integer"
        },
        {
         "name": "rep_primary_total",
         "rawType": "int64",
         "type": "integer"
        },
        {
         "name": "dem_primary_total",
         "rawType": "int64",
         "type": "integer"
        },
        {
         "name": "general_total",
         "rawType": "int64",
         "type": "integer"
        }
       ],
       "ref": "8639dbcd-0e2c-4d1b-8860-f1002d9435fc",
       "rows": [
        [
         "0",
         "Adams111",
         "11",
         "6",
         "2",
         "6",
         "2",
         "45",
         "24",
         "109",
         "55",
         "17",
         "133"
        ],
        [
         "1",
         "Adams112",
         "14",
         "10",
         "2",
         "6",
         "1",
         "41",
         "26",
         "96",
         "50",
         "24",
         "122"
        ],
        [
         "2",
         "Adams113",
         "17",
         "11",
         "8",
         "8",
         "2",
         "59",
         "56",
         "117",
         "77",
         "28",
         "173"
        ],
        [
         "3",
         "Adams114",
         "16",
         "19",
         "1",
         "10",
         "13",
         "44",
         "54",
         "113",
         "68",
         "35",
         "167"
        ],
        [
         "4",
         "Adams115",
         "18",
         "11",
         "4",
         "5",
         "11",
         "53",
         "48",
         "123",
         "73",
         "29",
         "171"
        ],
        [
         "5",
         "Adams121",
         "5",
         "11",
         "8",
         "3",
         "6",
         "76",
         "19",
         "132",
         "93",
         "16",
         "151"
        ],
        [
         "6",
         "Adams122",
         "9",
         "7",
         "3",
         "11",
         "6",
         "55",
         "16",
         "137",
         "75",
         "16",
         "153"
        ],
        [
         "7",
         "Adams123",
         "2",
         "6",
         "5",
         "4",
         "0",
         "34",
         "10",
         "96",
         "43",
         "8",
         "106"
        ],
        [
         "8",
         "Adams211",
         "3",
         "2",
         "0",
         "3",
         "0",
         "14",
         "4",
         "29",
         "17",
         "5",
         "33"
        ],
        [
         "9",
         "Adams212",
         "6",
         "9",
         "0",
         "4",
         "4",
         "51",
         "14",
         "78",
         "59",
         "15",
         "92"
        ],
        [
         "10",
         "Adams221",
         "0",
         "0",
         "2",
         "2",
         "5",
         "27",
         "3",
         "63",
         "36",
         "0",
         "66"
        ],
        [
         "11",
         "Adams222",
         "0",
         "0",
         "3",
         "3",
         "1",
         "15",
         "4",
         "34",
         "22",
         "0",
         "38"
        ],
        [
         "12",
         "Adams311",
         "17",
         "20",
         "0",
         "0",
         "0",
         "0",
         "46",
         "176",
         "0",
         "37",
         "222"
        ],
        [
         "13",
         "Adams313",
         "0",
         "0",
         "0",
         "0",
         "0",
         "0",
         "2",
         "25",
         "0",
         "0",
         "27"
        ],
        [
         "14",
         "Adams321",
         "3",
         "4",
         "2",
         "4",
         "1",
         "32",
         "15",
         "54",
         "39",
         "7",
         "69"
        ],
        [
         "15",
         "Adams322",
         "2",
         "2",
         "0",
         "0",
         "0",
         "0",
         "5",
         "27",
         "0",
         "4",
         "32"
        ],
        [
         "16",
         "Adams323",
         "0",
         "0",
         "2",
         "4",
         "0",
         "17",
         "6",
         "43",
         "23",
         "0",
         "49"
        ],
        [
         "17",
         "Adams324",
         "0",
         "0",
         "0",
         "1",
         "2",
         "12",
         "2",
         "38",
         "15",
         "0",
         "40"
        ],
        [
         "18",
         "Adams325",
         "0",
         "0",
         "0",
         "0",
         "0",
         "0",
         "6",
         "8",
         "0",
         "0",
         "14"
        ],
        [
         "19",
         "Adams411",
         "0",
         "0",
         "0",
         "0",
         "0",
         "0",
         "21",
         "23",
         "0",
         "0",
         "44"
        ],
        [
         "20",
         "Adams412",
         "28",
         "37",
         "10",
         "11",
         "2",
         "55",
         "143",
         "124",
         "78",
         "65",
         "267"
        ],
        [
         "21",
         "Adams413",
         "51",
         "19",
         "1",
         "9",
         "4",
         "46",
         "140",
         "121",
         "60",
         "70",
         "261"
        ],
        [
         "22",
         "Adams414",
         "26",
         "21",
         "3",
         "16",
         "7",
         "53",
         "93",
         "163",
         "79",
         "47",
         "256"
        ],
        [
         "23",
         "Adams415",
         "21",
         "21",
         "4",
         "21",
         "4",
         "60",
         "89",
         "132",
         "89",
         "42",
         "221"
        ],
        [
         "24",
         "Adams416",
         "28",
         "17",
         "3",
         "3",
         "2",
         "29",
         "99",
         "124",
         "37",
         "45",
         "223"
        ],
        [
         "25",
         "Adams511",
         "26",
         "15",
         "0",
         "2",
         "1",
         "16",
         "67",
         "50",
         "19",
         "41",
         "117"
        ],
        [
         "26",
         "Adams512",
         "17",
         "12",
         "2",
         "8",
         "2",
         "49",
         "59",
         "116",
         "61",
         "29",
         "175"
        ],
        [
         "27",
         "Adams513",
         "29",
         "23",
         "4",
         "13",
         "1",
         "83",
         "88",
         "221",
         "101",
         "52",
         "309"
        ],
        [
         "28",
         "Adams514",
         "17",
         "9",
         "1",
         "18",
         "4",
         "60",
         "66",
         "170",
         "83",
         "26",
         "236"
        ],
        [
         "29",
         "Adams515",
         "11",
         "12",
         "1",
         "13",
         "1",
         "48",
         "43",
         "133",
         "63",
         "23",
         "176"
        ],
        [
         "30",
         "Adams516",
         "5",
         "10",
         "4",
         "5",
         "5",
         "88",
         "31",
         "208",
         "102",
         "15",
         "239"
        ],
        [
         "31",
         "Asotin1",
         "7",
         "18",
         "4",
         "13",
         "2",
         "71",
         "32",
         "153",
         "90",
         "25",
         "185"
        ],
        [
         "32",
         "Asotin101",
         "41",
         "29",
         "6",
         "7",
         "0",
         "73",
         "91",
         "157",
         "86",
         "70",
         "248"
        ],
        [
         "33",
         "Asotin102",
         "24",
         "28",
         "3",
         "2",
         "8",
         "73",
         "73",
         "185",
         "86",
         "52",
         "258"
        ],
        [
         "34",
         "Asotin201",
         "31",
         "40",
         "8",
         "4",
         "3",
         "58",
         "110",
         "131",
         "73",
         "71",
         "241"
        ],
        [
         "35",
         "Asotin202",
         "47",
         "58",
         "6",
         "16",
         "12",
         "67",
         "144",
         "179",
         "101",
         "105",
         "323"
        ],
        [
         "36",
         "Asotin203",
         "46",
         "39",
         "3",
         "12",
         "11",
         "55",
         "136",
         "152",
         "81",
         "85",
         "288"
        ],
        [
         "37",
         "Asotin204",
         "38",
         "40",
         "8",
         "5",
         "2",
         "94",
         "123",
         "208",
         "109",
         "78",
         "331"
        ],
        [
         "38",
         "Asotin205",
         "36",
         "30",
         "2",
         "10",
         "8",
         "47",
         "102",
         "130",
         "67",
         "66",
         "232"
        ],
        [
         "39",
         "Asotin206",
         "45",
         "43",
         "8",
         "14",
         "7",
         "82",
         "137",
         "177",
         "111",
         "88",
         "314"
        ],
        [
         "40",
         "Asotin207",
         "41",
         "27",
         "4",
         "7",
         "3",
         "55",
         "103",
         "126",
         "69",
         "68",
         "229"
        ],
        [
         "41",
         "Asotin208",
         "47",
         "39",
         "3",
         "6",
         "6",
         "70",
         "118",
         "194",
         "85",
         "86",
         "312"
        ],
        [
         "42",
         "Asotin3",
         "17",
         "14",
         "3",
         "7",
         "9",
         "84",
         "37",
         "163",
         "103",
         "31",
         "200"
        ],
        [
         "43",
         "Asotin301",
         "40",
         "36",
         "5",
         "8",
         "15",
         "128",
         "132",
         "272",
         "156",
         "76",
         "404"
        ],
        [
         "44",
         "Asotin302",
         "70",
         "52",
         "9",
         "19",
         "15",
         "196",
         "189",
         "415",
         "239",
         "122",
         "604"
        ],
        [
         "45",
         "Asotin303",
         "21",
         "8",
         "1",
         "6",
         "1",
         "43",
         "42",
         "99",
         "51",
         "29",
         "141"
        ],
        [
         "46",
         "Asotin304",
         "53",
         "33",
         "5",
         "15",
         "9",
         "87",
         "116",
         "212",
         "116",
         "86",
         "328"
        ],
        [
         "47",
         "Asotin305",
         "60",
         "65",
         "17",
         "23",
         "7",
         "215",
         "181",
         "486",
         "262",
         "125",
         "667"
        ],
        [
         "48",
         "Asotin306",
         "86",
         "55",
         "18",
         "11",
         "16",
         "171",
         "199",
         "365",
         "216",
         "141",
         "564"
        ],
        [
         "49",
         "Asotin307",
         "58",
         "47",
         "13",
         "18",
         "6",
         "126",
         "137",
         "278",
         "163",
         "105",
         "415"
        ]
       ],
       "shape": {
        "columns": 12,
        "rows": 7115
       }
      },
      "text/html": [
       "<div>\n",
       "<style scoped>\n",
       "    .dataframe tbody tr th:only-of-type {\n",
       "        vertical-align: middle;\n",
       "    }\n",
       "\n",
       "    .dataframe tbody tr th {\n",
       "        vertical-align: top;\n",
       "    }\n",
       "\n",
       "    .dataframe thead th {\n",
       "        text-align: right;\n",
       "    }\n",
       "</style>\n",
       "<table border=\"1\" class=\"dataframe\">\n",
       "  <thead>\n",
       "    <tr style=\"text-align: right;\">\n",
       "      <th>candidate_column</th>\n",
       "      <th>precinct</th>\n",
       "      <th>pri_dem_CLINTON</th>\n",
       "      <th>pri_dem_SANDERS</th>\n",
       "      <th>pri_rep_CARSON</th>\n",
       "      <th>pri_rep_CRUZ</th>\n",
       "      <th>pri_rep_KASICH</th>\n",
       "      <th>pri_rep_TRUMP</th>\n",
       "      <th>gen_dem_CLINTON</th>\n",
       "      <th>gen_rep_TRUMP</th>\n",
       "      <th>rep_primary_total</th>\n",
       "      <th>dem_primary_total</th>\n",
       "      <th>general_total</th>\n",
       "    </tr>\n",
       "  </thead>\n",
       "  <tbody>\n",
       "    <tr>\n",
       "      <th>0</th>\n",
       "      <td>Adams111</td>\n",
       "      <td>11</td>\n",
       "      <td>6</td>\n",
       "      <td>2</td>\n",
       "      <td>6</td>\n",
       "      <td>2</td>\n",
       "      <td>45</td>\n",
       "      <td>24</td>\n",
       "      <td>109</td>\n",
       "      <td>55</td>\n",
       "      <td>17</td>\n",
       "      <td>133</td>\n",
       "    </tr>\n",
       "    <tr>\n",
       "      <th>1</th>\n",
       "      <td>Adams112</td>\n",
       "      <td>14</td>\n",
       "      <td>10</td>\n",
       "      <td>2</td>\n",
       "      <td>6</td>\n",
       "      <td>1</td>\n",
       "      <td>41</td>\n",
       "      <td>26</td>\n",
       "      <td>96</td>\n",
       "      <td>50</td>\n",
       "      <td>24</td>\n",
       "      <td>122</td>\n",
       "    </tr>\n",
       "    <tr>\n",
       "      <th>2</th>\n",
       "      <td>Adams113</td>\n",
       "      <td>17</td>\n",
       "      <td>11</td>\n",
       "      <td>8</td>\n",
       "      <td>8</td>\n",
       "      <td>2</td>\n",
       "      <td>59</td>\n",
       "      <td>56</td>\n",
       "      <td>117</td>\n",
       "      <td>77</td>\n",
       "      <td>28</td>\n",
       "      <td>173</td>\n",
       "    </tr>\n",
       "    <tr>\n",
       "      <th>3</th>\n",
       "      <td>Adams114</td>\n",
       "      <td>16</td>\n",
       "      <td>19</td>\n",
       "      <td>1</td>\n",
       "      <td>10</td>\n",
       "      <td>13</td>\n",
       "      <td>44</td>\n",
       "      <td>54</td>\n",
       "      <td>113</td>\n",
       "      <td>68</td>\n",
       "      <td>35</td>\n",
       "      <td>167</td>\n",
       "    </tr>\n",
       "    <tr>\n",
       "      <th>4</th>\n",
       "      <td>Adams115</td>\n",
       "      <td>18</td>\n",
       "      <td>11</td>\n",
       "      <td>4</td>\n",
       "      <td>5</td>\n",
       "      <td>11</td>\n",
       "      <td>53</td>\n",
       "      <td>48</td>\n",
       "      <td>123</td>\n",
       "      <td>73</td>\n",
       "      <td>29</td>\n",
       "      <td>171</td>\n",
       "    </tr>\n",
       "    <tr>\n",
       "      <th>...</th>\n",
       "      <td>...</td>\n",
       "      <td>...</td>\n",
       "      <td>...</td>\n",
       "      <td>...</td>\n",
       "      <td>...</td>\n",
       "      <td>...</td>\n",
       "      <td>...</td>\n",
       "      <td>...</td>\n",
       "      <td>...</td>\n",
       "      <td>...</td>\n",
       "      <td>...</td>\n",
       "      <td>...</td>\n",
       "    </tr>\n",
       "    <tr>\n",
       "      <th>7110</th>\n",
       "      <td>Yakima5020</td>\n",
       "      <td>26</td>\n",
       "      <td>11</td>\n",
       "      <td>6</td>\n",
       "      <td>15</td>\n",
       "      <td>12</td>\n",
       "      <td>100</td>\n",
       "      <td>95</td>\n",
       "      <td>240</td>\n",
       "      <td>133</td>\n",
       "      <td>37</td>\n",
       "      <td>335</td>\n",
       "    </tr>\n",
       "    <tr>\n",
       "      <th>7111</th>\n",
       "      <td>Yakima5101</td>\n",
       "      <td>19</td>\n",
       "      <td>26</td>\n",
       "      <td>0</td>\n",
       "      <td>6</td>\n",
       "      <td>5</td>\n",
       "      <td>72</td>\n",
       "      <td>91</td>\n",
       "      <td>176</td>\n",
       "      <td>83</td>\n",
       "      <td>45</td>\n",
       "      <td>267</td>\n",
       "    </tr>\n",
       "    <tr>\n",
       "      <th>7112</th>\n",
       "      <td>Yakima5202</td>\n",
       "      <td>0</td>\n",
       "      <td>0</td>\n",
       "      <td>0</td>\n",
       "      <td>0</td>\n",
       "      <td>0</td>\n",
       "      <td>0</td>\n",
       "      <td>0</td>\n",
       "      <td>0</td>\n",
       "      <td>0</td>\n",
       "      <td>0</td>\n",
       "      <td>0</td>\n",
       "    </tr>\n",
       "    <tr>\n",
       "      <th>7113</th>\n",
       "      <td>Yakima701</td>\n",
       "      <td>26</td>\n",
       "      <td>25</td>\n",
       "      <td>10</td>\n",
       "      <td>3</td>\n",
       "      <td>2</td>\n",
       "      <td>22</td>\n",
       "      <td>97</td>\n",
       "      <td>53</td>\n",
       "      <td>37</td>\n",
       "      <td>51</td>\n",
       "      <td>150</td>\n",
       "    </tr>\n",
       "    <tr>\n",
       "      <th>7114</th>\n",
       "      <td>Yakima901</td>\n",
       "      <td>70</td>\n",
       "      <td>33</td>\n",
       "      <td>0</td>\n",
       "      <td>0</td>\n",
       "      <td>0</td>\n",
       "      <td>0</td>\n",
       "      <td>255</td>\n",
       "      <td>42</td>\n",
       "      <td>0</td>\n",
       "      <td>103</td>\n",
       "      <td>297</td>\n",
       "    </tr>\n",
       "  </tbody>\n",
       "</table>\n",
       "<p>7115 rows × 12 columns</p>\n",
       "</div>"
      ],
      "text/plain": [
       "candidate_column    precinct  pri_dem_CLINTON  pri_dem_SANDERS  \\\n",
       "0                   Adams111               11                6   \n",
       "1                   Adams112               14               10   \n",
       "2                   Adams113               17               11   \n",
       "3                   Adams114               16               19   \n",
       "4                   Adams115               18               11   \n",
       "...                      ...              ...              ...   \n",
       "7110              Yakima5020               26               11   \n",
       "7111              Yakima5101               19               26   \n",
       "7112              Yakima5202                0                0   \n",
       "7113               Yakima701               26               25   \n",
       "7114               Yakima901               70               33   \n",
       "\n",
       "candidate_column  pri_rep_CARSON  pri_rep_CRUZ  pri_rep_KASICH  pri_rep_TRUMP  \\\n",
       "0                              2             6               2             45   \n",
       "1                              2             6               1             41   \n",
       "2                              8             8               2             59   \n",
       "3                              1            10              13             44   \n",
       "4                              4             5              11             53   \n",
       "...                          ...           ...             ...            ...   \n",
       "7110                           6            15              12            100   \n",
       "7111                           0             6               5             72   \n",
       "7112                           0             0               0              0   \n",
       "7113                          10             3               2             22   \n",
       "7114                           0             0               0              0   \n",
       "\n",
       "candidate_column  gen_dem_CLINTON  gen_rep_TRUMP  rep_primary_total  \\\n",
       "0                              24            109                 55   \n",
       "1                              26             96                 50   \n",
       "2                              56            117                 77   \n",
       "3                              54            113                 68   \n",
       "4                              48            123                 73   \n",
       "...                           ...            ...                ...   \n",
       "7110                           95            240                133   \n",
       "7111                           91            176                 83   \n",
       "7112                            0              0                  0   \n",
       "7113                           97             53                 37   \n",
       "7114                          255             42                  0   \n",
       "\n",
       "candidate_column  dem_primary_total  general_total  \n",
       "0                                17            133  \n",
       "1                                24            122  \n",
       "2                                28            173  \n",
       "3                                35            167  \n",
       "4                                29            171  \n",
       "...                             ...            ...  \n",
       "7110                             37            335  \n",
       "7111                             45            267  \n",
       "7112                              0              0  \n",
       "7113                             51            150  \n",
       "7114                            103            297  \n",
       "\n",
       "[7115 rows x 12 columns]"
      ]
     },
     "execution_count": 116,
     "metadata": {},
     "output_type": "execute_result"
    }
   ],
   "source": [
    "combined = pd.merge(primary_result, general_result, on=\"precinct\", how=\"inner\")\n",
    "combined[\"rep_primary_total\"] = combined.filter(like=\"pri_rep_\").sum(axis=1)\n",
    "combined[\"dem_primary_total\"] = combined.filter(like=\"pri_dem_\").sum(axis=1)\n",
    "combined[\"general_total\"] = combined.filter(like=\"gen_\").sum(axis=1)\n",
    "combined"
   ]
  },
  {
   "cell_type": "code",
   "execution_count": 112,
   "id": "a6797e92",
   "metadata": {},
   "outputs": [],
   "source": [
    "combined.to_csv(\"WA.csv\", index=False)\n"
   ]
  }
 ],
 "metadata": {
  "kernelspec": {
   "display_name": "Python 3",
   "language": "python",
   "name": "python3"
  },
  "language_info": {
   "codemirror_mode": {
    "name": "ipython",
    "version": 3
   },
   "file_extension": ".py",
   "mimetype": "text/x-python",
   "name": "python",
   "nbconvert_exporter": "python",
   "pygments_lexer": "ipython3",
   "version": "3.11.2"
  }
 },
 "nbformat": 4,
 "nbformat_minor": 5
}
