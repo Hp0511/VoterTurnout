{
 "cells": [
  {
   "cell_type": "code",
   "execution_count": 1,
   "id": "ad1be0fa",
   "metadata": {},
   "outputs": [],
   "source": [
    "# Import all the libraries\n",
    "import pandas as pd\n",
    "import glob\n",
    "import os\n",
    "import re\n",
    "from pprint import pprint"
   ]
  },
  {
   "cell_type": "code",
   "execution_count": 2,
   "id": "c263c4df",
   "metadata": {},
   "outputs": [],
   "source": [
    "#Get all CSV files in the folder of GA\n",
    "all_files = glob.glob(r\"C:\\Huy Phan\\College\\VoterTurnout\\data\\SD\\*.csv\")\n",
    "\n",
    "# Files that contain both 'precinct' and 'general' in the filename\n",
    "general_files = [\n",
    "    f for f in all_files\n",
    "    if all(word in f.lower() for word in ['general'])\n",
    "]\n",
    "\n",
    "# Files that contain both 'precinct' and 'primary' in the filename\n",
    "primary_files = [\n",
    "    f for f in all_files\n",
    "    if all(word in f.lower() for word in ['primary'])\n",
    "]\n"
   ]
  },
  {
   "cell_type": "code",
   "execution_count": 3,
   "id": "60d49ea6",
   "metadata": {},
   "outputs": [
    {
     "name": "stdout",
     "output_type": "stream",
     "text": [
      "General files:\n",
      "C:\\Huy Phan\\College\\VoterTurnout\\data\\SD\\20161108__sd__general__precinct.csv\n"
     ]
    }
   ],
   "source": [
    "print(\"General files:\")\n",
    "for f in general_files:\n",
    "    print(f)\n"
   ]
  },
  {
   "cell_type": "code",
   "execution_count": 4,
   "id": "4ab13110",
   "metadata": {},
   "outputs": [
    {
     "name": "stdout",
     "output_type": "stream",
     "text": [
      "\n",
      "Primary files:\n",
      "C:\\Huy Phan\\College\\VoterTurnout\\data\\SD\\20160607__sd__primary__aurora__precinct.csv\n",
      "C:\\Huy Phan\\College\\VoterTurnout\\data\\SD\\20160607__sd__primary__brule__precinct.csv\n",
      "C:\\Huy Phan\\College\\VoterTurnout\\data\\SD\\20160607__sd__primary__clark__precinct.csv\n",
      "C:\\Huy Phan\\College\\VoterTurnout\\data\\SD\\20160607__sd__primary__clay__precinct.csv\n"
     ]
    }
   ],
   "source": [
    "print(\"\\nPrimary files:\")\n",
    "for f in primary_files:\n",
    "    print(f)"
   ]
  },
  {
   "cell_type": "code",
   "execution_count": 6,
   "id": "ff5df6c7",
   "metadata": {},
   "outputs": [
    {
     "data": {
      "application/vnd.microsoft.datawrangler.viewer.v0+json": {
       "columns": [
        {
         "name": "index",
         "rawType": "int64",
         "type": "integer"
        },
        {
         "name": "county",
         "rawType": "object",
         "type": "string"
        },
        {
         "name": "precinct",
         "rawType": "object",
         "type": "string"
        },
        {
         "name": "office",
         "rawType": "object",
         "type": "string"
        },
        {
         "name": "district",
         "rawType": "float64",
         "type": "float"
        },
        {
         "name": "party",
         "rawType": "object",
         "type": "string"
        },
        {
         "name": "candidate",
         "rawType": "object",
         "type": "string"
        },
        {
         "name": "votes",
         "rawType": "int64",
         "type": "integer"
        }
       ],
       "ref": "5625c2b0-8505-4997-b826-5b9c5e190104",
       "rows": [
        [
         "0",
         "Aurora",
         "AURORA1",
         "President",
         null,
         "Democratic",
         "Bernie Sanders",
         "12"
        ],
        [
         "1",
         "Aurora",
         "AURORA2",
         "President",
         null,
         "Democratic",
         "Bernie Sanders",
         "6"
        ],
        [
         "2",
         "Aurora",
         "AURORA3",
         "President",
         null,
         "Democratic",
         "Bernie Sanders",
         "57"
        ],
        [
         "3",
         "Aurora",
         "AURORA5",
         "President",
         null,
         "Democratic",
         "Bernie Sanders",
         "11"
        ],
        [
         "4",
         "Aurora",
         "AURORA7",
         "President",
         null,
         "Democratic",
         "Bernie Sanders",
         "46"
        ],
        [
         "5",
         "Aurora",
         "AURORA1",
         "President",
         null,
         "Democratic",
         "Hillary Clinton",
         "30"
        ],
        [
         "6",
         "Aurora",
         "AURORA2",
         "President",
         null,
         "Democratic",
         "Hillary Clinton",
         "8"
        ],
        [
         "7",
         "Aurora",
         "AURORA3",
         "President",
         null,
         "Democratic",
         "Hillary Clinton",
         "71"
        ],
        [
         "8",
         "Aurora",
         "AURORA5",
         "President",
         null,
         "Democratic",
         "Hillary Clinton",
         "12"
        ],
        [
         "9",
         "Aurora",
         "AURORA7",
         "President",
         null,
         "Democratic",
         "Hillary Clinton",
         "29"
        ],
        [
         "10",
         "Aurora",
         "AURORA1",
         "President",
         null,
         "Republican",
         "John R. Kasich",
         "8"
        ],
        [
         "11",
         "Aurora",
         "AURORA2",
         "President",
         null,
         "Republican",
         "John R. Kasich",
         "5"
        ],
        [
         "12",
         "Aurora",
         "AURORA3",
         "President",
         null,
         "Republican",
         "John R. Kasich",
         "5"
        ],
        [
         "13",
         "Aurora",
         "AURORA5",
         "President",
         null,
         "Republican",
         "John R. Kasich",
         "5"
        ],
        [
         "14",
         "Aurora",
         "AURORA7",
         "President",
         null,
         "Republican",
         "John R. Kasich",
         "4"
        ],
        [
         "15",
         "Aurora",
         "AURORA1",
         "President",
         null,
         "Republican",
         "Ted Cruz",
         "18"
        ],
        [
         "16",
         "Aurora",
         "AURORA2",
         "President",
         null,
         "Republican",
         "Ted Cruz",
         "12"
        ],
        [
         "17",
         "Aurora",
         "AURORA3",
         "President",
         null,
         "Republican",
         "Ted Cruz",
         "13"
        ],
        [
         "18",
         "Aurora",
         "AURORA5",
         "President",
         null,
         "Republican",
         "Ted Cruz",
         "2"
        ],
        [
         "19",
         "Aurora",
         "AURORA7",
         "President",
         null,
         "Republican",
         "Ted Cruz",
         "5"
        ],
        [
         "20",
         "Aurora",
         "AURORA1",
         "President",
         null,
         "Republican",
         "Donald J. Trump",
         "42"
        ],
        [
         "21",
         "Aurora",
         "AURORA2",
         "President",
         null,
         "Republican",
         "Donald J. Trump",
         "12"
        ],
        [
         "22",
         "Aurora",
         "AURORA3",
         "President",
         null,
         "Republican",
         "Donald J. Trump",
         "42"
        ],
        [
         "23",
         "Aurora",
         "AURORA5",
         "President",
         null,
         "Republican",
         "Donald J. Trump",
         "11"
        ],
        [
         "24",
         "Aurora",
         "AURORA7",
         "President",
         null,
         "Republican",
         "Donald J. Trump",
         "29"
        ],
        [
         "25",
         "Brule",
         "BRULE1",
         "President",
         null,
         "Democratic",
         "Bernie Sanders",
         "118"
        ],
        [
         "26",
         "Brule",
         "BRULE2",
         "President",
         null,
         "Democratic",
         "Bernie Sanders",
         "49"
        ],
        [
         "27",
         "Brule",
         "BRULE3",
         "President",
         null,
         "Democratic",
         "Bernie Sanders",
         "35"
        ],
        [
         "28",
         "Brule",
         "BRULE4",
         "President",
         null,
         "Democratic",
         "Bernie Sanders",
         "3"
        ],
        [
         "29",
         "Brule",
         "BRULE5",
         "President",
         null,
         "Democratic",
         "Bernie Sanders",
         "14"
        ],
        [
         "30",
         "Brule",
         "BRULE1",
         "President",
         null,
         "Democratic",
         "Hillary Clinton",
         "103"
        ],
        [
         "31",
         "Brule",
         "BRULE2",
         "President",
         null,
         "Democratic",
         "Hillary Clinton",
         "46"
        ],
        [
         "32",
         "Brule",
         "BRULE3",
         "President",
         null,
         "Democratic",
         "Hillary Clinton",
         "26"
        ],
        [
         "33",
         "Brule",
         "BRULE4",
         "President",
         null,
         "Democratic",
         "Hillary Clinton",
         "3"
        ],
        [
         "34",
         "Brule",
         "BRULE5",
         "President",
         null,
         "Democratic",
         "Hillary Clinton",
         "4"
        ],
        [
         "35",
         "Brule",
         "BRULE1",
         "President",
         null,
         "Republican",
         "John R. Kasich",
         "44"
        ],
        [
         "36",
         "Brule",
         "BRULE2",
         "President",
         null,
         "Republican",
         "John R. Kasich",
         "5"
        ],
        [
         "37",
         "Brule",
         "BRULE3",
         "President",
         null,
         "Republican",
         "John R. Kasich",
         "6"
        ],
        [
         "38",
         "Brule",
         "BRULE4",
         "President",
         null,
         "Republican",
         "John R. Kasich",
         "1"
        ],
        [
         "39",
         "Brule",
         "BRULE5",
         "President",
         null,
         "Republican",
         "John R. Kasich",
         "2"
        ],
        [
         "40",
         "Brule",
         "BRULE1",
         "President",
         null,
         "Republican",
         "Ted Cruz",
         "34"
        ],
        [
         "41",
         "Brule",
         "BRULE2",
         "President",
         null,
         "Republican",
         "Ted Cruz",
         "8"
        ],
        [
         "42",
         "Brule",
         "BRULE3",
         "President",
         null,
         "Republican",
         "Ted Cruz",
         "15"
        ],
        [
         "43",
         "Brule",
         "BRULE4",
         "President",
         null,
         "Republican",
         "Ted Cruz",
         "2"
        ],
        [
         "44",
         "Brule",
         "BRULE5",
         "President",
         null,
         "Republican",
         "Ted Cruz",
         "2"
        ],
        [
         "45",
         "Brule",
         "BRULE1",
         "President",
         null,
         "Republican",
         "Donald J. Trump",
         "152"
        ],
        [
         "46",
         "Brule",
         "BRULE2",
         "President",
         null,
         "Republican",
         "Donald J. Trump",
         "23"
        ],
        [
         "47",
         "Brule",
         "BRULE3",
         "President",
         null,
         "Republican",
         "Donald J. Trump",
         "38"
        ],
        [
         "48",
         "Brule",
         "BRULE4",
         "President",
         null,
         "Republican",
         "Donald J. Trump",
         "6"
        ],
        [
         "49",
         "Brule",
         "BRULE5",
         "President",
         null,
         "Republican",
         "Donald J. Trump",
         "26"
        ]
       ],
       "shape": {
        "columns": 7,
        "rows": 150
       }
      },
      "text/html": [
       "<div>\n",
       "<style scoped>\n",
       "    .dataframe tbody tr th:only-of-type {\n",
       "        vertical-align: middle;\n",
       "    }\n",
       "\n",
       "    .dataframe tbody tr th {\n",
       "        vertical-align: top;\n",
       "    }\n",
       "\n",
       "    .dataframe thead th {\n",
       "        text-align: right;\n",
       "    }\n",
       "</style>\n",
       "<table border=\"1\" class=\"dataframe\">\n",
       "  <thead>\n",
       "    <tr style=\"text-align: right;\">\n",
       "      <th></th>\n",
       "      <th>county</th>\n",
       "      <th>precinct</th>\n",
       "      <th>office</th>\n",
       "      <th>district</th>\n",
       "      <th>party</th>\n",
       "      <th>candidate</th>\n",
       "      <th>votes</th>\n",
       "    </tr>\n",
       "  </thead>\n",
       "  <tbody>\n",
       "    <tr>\n",
       "      <th>0</th>\n",
       "      <td>Aurora</td>\n",
       "      <td>AURORA1</td>\n",
       "      <td>President</td>\n",
       "      <td>NaN</td>\n",
       "      <td>Democratic</td>\n",
       "      <td>Bernie Sanders</td>\n",
       "      <td>12</td>\n",
       "    </tr>\n",
       "    <tr>\n",
       "      <th>1</th>\n",
       "      <td>Aurora</td>\n",
       "      <td>AURORA2</td>\n",
       "      <td>President</td>\n",
       "      <td>NaN</td>\n",
       "      <td>Democratic</td>\n",
       "      <td>Bernie Sanders</td>\n",
       "      <td>6</td>\n",
       "    </tr>\n",
       "    <tr>\n",
       "      <th>2</th>\n",
       "      <td>Aurora</td>\n",
       "      <td>AURORA3</td>\n",
       "      <td>President</td>\n",
       "      <td>NaN</td>\n",
       "      <td>Democratic</td>\n",
       "      <td>Bernie Sanders</td>\n",
       "      <td>57</td>\n",
       "    </tr>\n",
       "    <tr>\n",
       "      <th>3</th>\n",
       "      <td>Aurora</td>\n",
       "      <td>AURORA5</td>\n",
       "      <td>President</td>\n",
       "      <td>NaN</td>\n",
       "      <td>Democratic</td>\n",
       "      <td>Bernie Sanders</td>\n",
       "      <td>11</td>\n",
       "    </tr>\n",
       "    <tr>\n",
       "      <th>4</th>\n",
       "      <td>Aurora</td>\n",
       "      <td>AURORA7</td>\n",
       "      <td>President</td>\n",
       "      <td>NaN</td>\n",
       "      <td>Democratic</td>\n",
       "      <td>Bernie Sanders</td>\n",
       "      <td>46</td>\n",
       "    </tr>\n",
       "    <tr>\n",
       "      <th>...</th>\n",
       "      <td>...</td>\n",
       "      <td>...</td>\n",
       "      <td>...</td>\n",
       "      <td>...</td>\n",
       "      <td>...</td>\n",
       "      <td>...</td>\n",
       "      <td>...</td>\n",
       "    </tr>\n",
       "    <tr>\n",
       "      <th>145</th>\n",
       "      <td>Clay</td>\n",
       "      <td>CLAY1906 VERMILLION CENTRAL</td>\n",
       "      <td>President</td>\n",
       "      <td>NaN</td>\n",
       "      <td>REP</td>\n",
       "      <td>John R. Kasich</td>\n",
       "      <td>18</td>\n",
       "    </tr>\n",
       "    <tr>\n",
       "      <th>146</th>\n",
       "      <td>Clay</td>\n",
       "      <td>CLAY1906 VERMILLION CENTRAL</td>\n",
       "      <td>President</td>\n",
       "      <td>NaN</td>\n",
       "      <td>REP</td>\n",
       "      <td>Ted Cruz</td>\n",
       "      <td>7</td>\n",
       "    </tr>\n",
       "    <tr>\n",
       "      <th>147</th>\n",
       "      <td>Clay</td>\n",
       "      <td>CLAY1906 VERMILLION CENTRAL</td>\n",
       "      <td>President</td>\n",
       "      <td>NaN</td>\n",
       "      <td>REP</td>\n",
       "      <td>Donald J. Trump</td>\n",
       "      <td>25</td>\n",
       "    </tr>\n",
       "    <tr>\n",
       "      <th>148</th>\n",
       "      <td>Clay</td>\n",
       "      <td>CLAY1906 VERMILLION CENTRAL</td>\n",
       "      <td>President</td>\n",
       "      <td>NaN</td>\n",
       "      <td>DEM</td>\n",
       "      <td>Bernie Sanders</td>\n",
       "      <td>119</td>\n",
       "    </tr>\n",
       "    <tr>\n",
       "      <th>149</th>\n",
       "      <td>Clay</td>\n",
       "      <td>CLAY1906 VERMILLION CENTRAL</td>\n",
       "      <td>President</td>\n",
       "      <td>NaN</td>\n",
       "      <td>DEM</td>\n",
       "      <td>Hillary Clinton</td>\n",
       "      <td>122</td>\n",
       "    </tr>\n",
       "  </tbody>\n",
       "</table>\n",
       "<p>150 rows × 7 columns</p>\n",
       "</div>"
      ],
      "text/plain": [
       "     county                     precinct     office  district       party  \\\n",
       "0    Aurora                      AURORA1  President       NaN  Democratic   \n",
       "1    Aurora                      AURORA2  President       NaN  Democratic   \n",
       "2    Aurora                      AURORA3  President       NaN  Democratic   \n",
       "3    Aurora                      AURORA5  President       NaN  Democratic   \n",
       "4    Aurora                      AURORA7  President       NaN  Democratic   \n",
       "..      ...                          ...        ...       ...         ...   \n",
       "145    Clay  CLAY1906 VERMILLION CENTRAL  President       NaN         REP   \n",
       "146    Clay  CLAY1906 VERMILLION CENTRAL  President       NaN         REP   \n",
       "147    Clay  CLAY1906 VERMILLION CENTRAL  President       NaN         REP   \n",
       "148    Clay  CLAY1906 VERMILLION CENTRAL  President       NaN         DEM   \n",
       "149    Clay  CLAY1906 VERMILLION CENTRAL  President       NaN         DEM   \n",
       "\n",
       "           candidate  votes  \n",
       "0     Bernie Sanders     12  \n",
       "1     Bernie Sanders      6  \n",
       "2     Bernie Sanders     57  \n",
       "3     Bernie Sanders     11  \n",
       "4     Bernie Sanders     46  \n",
       "..               ...    ...  \n",
       "145   John R. Kasich     18  \n",
       "146         Ted Cruz      7  \n",
       "147  Donald J. Trump     25  \n",
       "148   Bernie Sanders    119  \n",
       "149  Hillary Clinton    122  \n",
       "\n",
       "[150 rows x 7 columns]"
      ]
     },
     "execution_count": 6,
     "metadata": {},
     "output_type": "execute_result"
    }
   ],
   "source": [
    "# Process primary files\n",
    "primary_df_list = []\n",
    "\n",
    "for file in primary_files:\n",
    "    try:\n",
    "        df = pd.read_csv(file)\n",
    "        # Filtering out only President \n",
    "        if 'office' in df.columns:\n",
    "            df = df[df[\"office\"] == \"President\"]\n",
    "            \n",
    "        # Combine precinct as county + precinct\n",
    "        df[\"precinct\"] = df[\"county\"].astype(str) + df[\"precinct\"].astype(str)\n",
    "        df[\"precinct\"] = df[\"precinct\"].str.upper()\n",
    "\n",
    "        # Cleaning maybe total precinct\n",
    "        if 'precinct' in df.columns:\n",
    "            df['precinct'] = df['precinct'].astype(str)                  \n",
    "            df = df[df['precinct'].str.upper() != \"TOTAL\"]               \n",
    "            df = df[df['precinct'].str.strip().str.upper() != \"TOTAL\"]   \n",
    "            df = df[df['precinct'].str.upper() != \"NAN\"]                \n",
    "            df = df[~df['precinct'].str.upper().str.contains(r\"\\w*TOTAL\\w*\", na=False)]   \n",
    "\n",
    "        if 'county' in df.columns:\n",
    "            df['county'] = df['county'].astype(str)                  \n",
    "            df = df[df['county'].str.upper() != \"TOTAL\"]               \n",
    "            df = df[df['county'].str.strip().str.upper() != \"TOTAL\"]   \n",
    "            df = df[df['county'].str.upper() != \"NAN\"]       \n",
    "            df = df[~df['county'].str.upper().str.contains(r\"\\w*TOTAL\\w*\", na=False)]               \n",
    "        \n",
    "        # Dropping duplicates value\n",
    "        df = df.drop_duplicates()\n",
    "        primary_df_list.append(df)\n",
    "\n",
    "    except Exception as e:\n",
    "        print(f\"Error in {file}: {e}\")\n",
    "\n",
    "# Combine all cleaned files\n",
    "pri_combined_df = pd.concat(primary_df_list, ignore_index=True)\n",
    "pri_combined_df"
   ]
  },
  {
   "cell_type": "code",
   "execution_count": 29,
   "id": "bbe34b76",
   "metadata": {},
   "outputs": [],
   "source": [
    "# Checking any suspicious precinct, county\n",
    "suspicious_precincts = pri_combined_df[\n",
    "    pri_combined_df[\"precinct\"].isna() |\n",
    "    pri_combined_df[\"precinct\"].str.strip().str.upper().str.contains(r\"\\w*TOTAL\\w*\", na=False) |\n",
    "    pri_combined_df[\"precinct\"].str.strip().str.upper().isin([\"NONE\", \"NAN\"]) |\n",
    "    pri_combined_df[\"county\"].isna() |\n",
    "    pri_combined_df[\"county\"].str.strip().str.upper().str.contains(r\"\\w*TOTAL\\w*\", na=False) |\n",
    "    pri_combined_df[\"county\"].str.strip().str.upper().isin([\"NONE\", \"NAN\"])\n",
    "]"
   ]
  },
  {
   "cell_type": "code",
   "execution_count": 7,
   "id": "f0e1e913",
   "metadata": {},
   "outputs": [
    {
     "data": {
      "application/vnd.microsoft.datawrangler.viewer.v0+json": {
       "columns": [
        {
         "name": "index",
         "rawType": "int64",
         "type": "integer"
        },
        {
         "name": "precinct",
         "rawType": "object",
         "type": "string"
        },
        {
         "name": "party",
         "rawType": "object",
         "type": "string"
        },
        {
         "name": "candidate",
         "rawType": "object",
         "type": "string"
        },
        {
         "name": "votes",
         "rawType": "int64",
         "type": "integer"
        }
       ],
       "ref": "6b4feda0-62b9-420f-b514-452002328460",
       "rows": [
        [
         "0",
         "AURORA1",
         "Democratic",
         "Bernie Sanders",
         "12"
        ],
        [
         "1",
         "AURORA2",
         "Democratic",
         "Bernie Sanders",
         "6"
        ],
        [
         "2",
         "AURORA3",
         "Democratic",
         "Bernie Sanders",
         "57"
        ],
        [
         "3",
         "AURORA5",
         "Democratic",
         "Bernie Sanders",
         "11"
        ],
        [
         "4",
         "AURORA7",
         "Democratic",
         "Bernie Sanders",
         "46"
        ],
        [
         "5",
         "AURORA1",
         "Democratic",
         "Hillary Clinton",
         "30"
        ],
        [
         "6",
         "AURORA2",
         "Democratic",
         "Hillary Clinton",
         "8"
        ],
        [
         "7",
         "AURORA3",
         "Democratic",
         "Hillary Clinton",
         "71"
        ],
        [
         "8",
         "AURORA5",
         "Democratic",
         "Hillary Clinton",
         "12"
        ],
        [
         "9",
         "AURORA7",
         "Democratic",
         "Hillary Clinton",
         "29"
        ],
        [
         "10",
         "AURORA1",
         "Republican",
         "John R. Kasich",
         "8"
        ],
        [
         "11",
         "AURORA2",
         "Republican",
         "John R. Kasich",
         "5"
        ],
        [
         "12",
         "AURORA3",
         "Republican",
         "John R. Kasich",
         "5"
        ],
        [
         "13",
         "AURORA5",
         "Republican",
         "John R. Kasich",
         "5"
        ],
        [
         "14",
         "AURORA7",
         "Republican",
         "John R. Kasich",
         "4"
        ],
        [
         "15",
         "AURORA1",
         "Republican",
         "Ted Cruz",
         "18"
        ],
        [
         "16",
         "AURORA2",
         "Republican",
         "Ted Cruz",
         "12"
        ],
        [
         "17",
         "AURORA3",
         "Republican",
         "Ted Cruz",
         "13"
        ],
        [
         "18",
         "AURORA5",
         "Republican",
         "Ted Cruz",
         "2"
        ],
        [
         "19",
         "AURORA7",
         "Republican",
         "Ted Cruz",
         "5"
        ],
        [
         "20",
         "AURORA1",
         "Republican",
         "Donald J. Trump",
         "42"
        ],
        [
         "21",
         "AURORA2",
         "Republican",
         "Donald J. Trump",
         "12"
        ],
        [
         "22",
         "AURORA3",
         "Republican",
         "Donald J. Trump",
         "42"
        ],
        [
         "23",
         "AURORA5",
         "Republican",
         "Donald J. Trump",
         "11"
        ],
        [
         "24",
         "AURORA7",
         "Republican",
         "Donald J. Trump",
         "29"
        ],
        [
         "25",
         "BRULE1",
         "Democratic",
         "Bernie Sanders",
         "118"
        ],
        [
         "26",
         "BRULE2",
         "Democratic",
         "Bernie Sanders",
         "49"
        ],
        [
         "27",
         "BRULE3",
         "Democratic",
         "Bernie Sanders",
         "35"
        ],
        [
         "28",
         "BRULE4",
         "Democratic",
         "Bernie Sanders",
         "3"
        ],
        [
         "29",
         "BRULE5",
         "Democratic",
         "Bernie Sanders",
         "14"
        ],
        [
         "30",
         "BRULE1",
         "Democratic",
         "Hillary Clinton",
         "103"
        ],
        [
         "31",
         "BRULE2",
         "Democratic",
         "Hillary Clinton",
         "46"
        ],
        [
         "32",
         "BRULE3",
         "Democratic",
         "Hillary Clinton",
         "26"
        ],
        [
         "33",
         "BRULE4",
         "Democratic",
         "Hillary Clinton",
         "3"
        ],
        [
         "34",
         "BRULE5",
         "Democratic",
         "Hillary Clinton",
         "4"
        ],
        [
         "35",
         "BRULE1",
         "Republican",
         "John R. Kasich",
         "44"
        ],
        [
         "36",
         "BRULE2",
         "Republican",
         "John R. Kasich",
         "5"
        ],
        [
         "37",
         "BRULE3",
         "Republican",
         "John R. Kasich",
         "6"
        ],
        [
         "38",
         "BRULE4",
         "Republican",
         "John R. Kasich",
         "1"
        ],
        [
         "39",
         "BRULE5",
         "Republican",
         "John R. Kasich",
         "2"
        ],
        [
         "40",
         "BRULE1",
         "Republican",
         "Ted Cruz",
         "34"
        ],
        [
         "41",
         "BRULE2",
         "Republican",
         "Ted Cruz",
         "8"
        ],
        [
         "42",
         "BRULE3",
         "Republican",
         "Ted Cruz",
         "15"
        ],
        [
         "43",
         "BRULE4",
         "Republican",
         "Ted Cruz",
         "2"
        ],
        [
         "44",
         "BRULE5",
         "Republican",
         "Ted Cruz",
         "2"
        ],
        [
         "45",
         "BRULE1",
         "Republican",
         "Donald J. Trump",
         "152"
        ],
        [
         "46",
         "BRULE2",
         "Republican",
         "Donald J. Trump",
         "23"
        ],
        [
         "47",
         "BRULE3",
         "Republican",
         "Donald J. Trump",
         "38"
        ],
        [
         "48",
         "BRULE4",
         "Republican",
         "Donald J. Trump",
         "6"
        ],
        [
         "49",
         "BRULE5",
         "Republican",
         "Donald J. Trump",
         "26"
        ]
       ],
       "shape": {
        "columns": 4,
        "rows": 150
       }
      },
      "text/html": [
       "<div>\n",
       "<style scoped>\n",
       "    .dataframe tbody tr th:only-of-type {\n",
       "        vertical-align: middle;\n",
       "    }\n",
       "\n",
       "    .dataframe tbody tr th {\n",
       "        vertical-align: top;\n",
       "    }\n",
       "\n",
       "    .dataframe thead th {\n",
       "        text-align: right;\n",
       "    }\n",
       "</style>\n",
       "<table border=\"1\" class=\"dataframe\">\n",
       "  <thead>\n",
       "    <tr style=\"text-align: right;\">\n",
       "      <th></th>\n",
       "      <th>precinct</th>\n",
       "      <th>party</th>\n",
       "      <th>candidate</th>\n",
       "      <th>votes</th>\n",
       "    </tr>\n",
       "  </thead>\n",
       "  <tbody>\n",
       "    <tr>\n",
       "      <th>0</th>\n",
       "      <td>AURORA1</td>\n",
       "      <td>Democratic</td>\n",
       "      <td>Bernie Sanders</td>\n",
       "      <td>12</td>\n",
       "    </tr>\n",
       "    <tr>\n",
       "      <th>1</th>\n",
       "      <td>AURORA2</td>\n",
       "      <td>Democratic</td>\n",
       "      <td>Bernie Sanders</td>\n",
       "      <td>6</td>\n",
       "    </tr>\n",
       "    <tr>\n",
       "      <th>2</th>\n",
       "      <td>AURORA3</td>\n",
       "      <td>Democratic</td>\n",
       "      <td>Bernie Sanders</td>\n",
       "      <td>57</td>\n",
       "    </tr>\n",
       "    <tr>\n",
       "      <th>3</th>\n",
       "      <td>AURORA5</td>\n",
       "      <td>Democratic</td>\n",
       "      <td>Bernie Sanders</td>\n",
       "      <td>11</td>\n",
       "    </tr>\n",
       "    <tr>\n",
       "      <th>4</th>\n",
       "      <td>AURORA7</td>\n",
       "      <td>Democratic</td>\n",
       "      <td>Bernie Sanders</td>\n",
       "      <td>46</td>\n",
       "    </tr>\n",
       "    <tr>\n",
       "      <th>...</th>\n",
       "      <td>...</td>\n",
       "      <td>...</td>\n",
       "      <td>...</td>\n",
       "      <td>...</td>\n",
       "    </tr>\n",
       "    <tr>\n",
       "      <th>145</th>\n",
       "      <td>CLAY1906 VERMILLION CENTRAL</td>\n",
       "      <td>REP</td>\n",
       "      <td>John R. Kasich</td>\n",
       "      <td>18</td>\n",
       "    </tr>\n",
       "    <tr>\n",
       "      <th>146</th>\n",
       "      <td>CLAY1906 VERMILLION CENTRAL</td>\n",
       "      <td>REP</td>\n",
       "      <td>Ted Cruz</td>\n",
       "      <td>7</td>\n",
       "    </tr>\n",
       "    <tr>\n",
       "      <th>147</th>\n",
       "      <td>CLAY1906 VERMILLION CENTRAL</td>\n",
       "      <td>REP</td>\n",
       "      <td>Donald J. Trump</td>\n",
       "      <td>25</td>\n",
       "    </tr>\n",
       "    <tr>\n",
       "      <th>148</th>\n",
       "      <td>CLAY1906 VERMILLION CENTRAL</td>\n",
       "      <td>DEM</td>\n",
       "      <td>Bernie Sanders</td>\n",
       "      <td>119</td>\n",
       "    </tr>\n",
       "    <tr>\n",
       "      <th>149</th>\n",
       "      <td>CLAY1906 VERMILLION CENTRAL</td>\n",
       "      <td>DEM</td>\n",
       "      <td>Hillary Clinton</td>\n",
       "      <td>122</td>\n",
       "    </tr>\n",
       "  </tbody>\n",
       "</table>\n",
       "<p>150 rows × 4 columns</p>\n",
       "</div>"
      ],
      "text/plain": [
       "                        precinct       party        candidate  votes\n",
       "0                        AURORA1  Democratic   Bernie Sanders     12\n",
       "1                        AURORA2  Democratic   Bernie Sanders      6\n",
       "2                        AURORA3  Democratic   Bernie Sanders     57\n",
       "3                        AURORA5  Democratic   Bernie Sanders     11\n",
       "4                        AURORA7  Democratic   Bernie Sanders     46\n",
       "..                           ...         ...              ...    ...\n",
       "145  CLAY1906 VERMILLION CENTRAL         REP   John R. Kasich     18\n",
       "146  CLAY1906 VERMILLION CENTRAL         REP         Ted Cruz      7\n",
       "147  CLAY1906 VERMILLION CENTRAL         REP  Donald J. Trump     25\n",
       "148  CLAY1906 VERMILLION CENTRAL         DEM   Bernie Sanders    119\n",
       "149  CLAY1906 VERMILLION CENTRAL         DEM  Hillary Clinton    122\n",
       "\n",
       "[150 rows x 4 columns]"
      ]
     },
     "execution_count": 7,
     "metadata": {},
     "output_type": "execute_result"
    }
   ],
   "source": [
    "# Select only the relevant columns\n",
    "primary_data = pri_combined_df[[\"precinct\", \"party\", \"candidate\", \"votes\"]]\n",
    "\n",
    "primary_data"
   ]
  },
  {
   "cell_type": "code",
   "execution_count": 8,
   "id": "dc2ffa15",
   "metadata": {},
   "outputs": [
    {
     "data": {
      "application/vnd.microsoft.datawrangler.viewer.v0+json": {
       "columns": [
        {
         "name": "candidate",
         "rawType": "object",
         "type": "string"
        },
        {
         "name": "count",
         "rawType": "int64",
         "type": "integer"
        }
       ],
       "ref": "84b6815e-570a-4a50-a704-230b671948df",
       "rows": [
        [
         "Bernie Sanders",
         "30"
        ],
        [
         "Hillary Clinton",
         "30"
        ],
        [
         "John R. Kasich",
         "30"
        ],
        [
         "Ted Cruz",
         "30"
        ],
        [
         "Donald J. Trump",
         "30"
        ]
       ],
       "shape": {
        "columns": 1,
        "rows": 5
       }
      },
      "text/plain": [
       "candidate\n",
       "Bernie Sanders     30\n",
       "Hillary Clinton    30\n",
       "John R. Kasich     30\n",
       "Ted Cruz           30\n",
       "Donald J. Trump    30\n",
       "Name: count, dtype: int64"
      ]
     },
     "execution_count": 8,
     "metadata": {},
     "output_type": "execute_result"
    }
   ],
   "source": [
    "# Viewing candidate data\n",
    "primary_data[\"candidate\"].value_counts(dropna=False)"
   ]
  },
  {
   "cell_type": "code",
   "execution_count": 9,
   "id": "5eef8778",
   "metadata": {},
   "outputs": [
    {
     "name": "stderr",
     "output_type": "stream",
     "text": [
      "C:\\Users\\ADMIN\\AppData\\Local\\Temp\\ipykernel_36512\\1590360723.py:4: SettingWithCopyWarning: \n",
      "A value is trying to be set on a copy of a slice from a DataFrame.\n",
      "Try using .loc[row_indexer,col_indexer] = value instead\n",
      "\n",
      "See the caveats in the documentation: https://pandas.pydata.org/pandas-docs/stable/user_guide/indexing.html#returning-a-view-versus-a-copy\n",
      "  primary_data[\"candidate\"] = primary_data[\"candidate\"].astype(str).str.upper()\n"
     ]
    },
    {
     "data": {
      "application/vnd.microsoft.datawrangler.viewer.v0+json": {
       "columns": [
        {
         "name": "candidate",
         "rawType": "object",
         "type": "string"
        },
        {
         "name": "count",
         "rawType": "int64",
         "type": "integer"
        }
       ],
       "ref": "61fb4a54-e80c-472e-a958-a093c5284c10",
       "rows": [
        [
         "SANDERS",
         "30"
        ],
        [
         "CLINTON",
         "30"
        ],
        [
         "KASICH",
         "30"
        ],
        [
         "CRUZ",
         "30"
        ],
        [
         "TRUMP",
         "30"
        ]
       ],
       "shape": {
        "columns": 1,
        "rows": 5
       }
      },
      "text/plain": [
       "candidate\n",
       "SANDERS    30\n",
       "CLINTON    30\n",
       "KASICH     30\n",
       "CRUZ       30\n",
       "TRUMP      30\n",
       "Name: count, dtype: int64"
      ]
     },
     "execution_count": 9,
     "metadata": {},
     "output_type": "execute_result"
    }
   ],
   "source": [
    "# Cleaning Candidates\n",
    "\n",
    "# Turning all primary data to uppercase\n",
    "primary_data[\"candidate\"] = primary_data[\"candidate\"].astype(str).str.upper()\n",
    "\n",
    "unwanted_keywords = [\n",
    "    r\"\\w*VOTE\\w*\",\n",
    "    r\"\\w*UNCOM\\w*\",\n",
    "    r\"\\w*TOTAL\\w*\",\n",
    "    r\"\\w*ATTERING\\w*\",\n",
    "    r\"\\w*UNINSTRUCTED\\w*\",\n",
    "    r\"UNCOMMITTED\", r\"OTHER\",r\"Total Votes Cast\",r\"No Preference\"\n",
    "]\n",
    "\n",
    "pattern = \"|\".join(unwanted_keywords)\n",
    "\n",
    "# Assuming candidate column is already string and uppercase\n",
    "primary_data = primary_data[~primary_data[\"candidate\"].str.upper().str.contains(pattern, regex=True, na=False)]\n",
    "\n",
    "#fIXING DE LA FUENTE\n",
    "primary_data.loc[\n",
    "    (\n",
    "        primary_data[\"candidate\"].str.contains(\"rocky.*fuente\", case=False, na=False) |\n",
    "        primary_data[\"candidate\"].str.contains(\"LA FUENTE\", case=False, na=False) |\n",
    "        primary_data[\"candidate\"].str.contains(\"\\w*Fuque\\w*\", case=False, na=False)\n",
    "    ),\n",
    "    \"candidate\"\n",
    "] = \"LA FUENTE\"\n",
    "\n",
    "# # Fixing williams\n",
    "primary_data.loc[\n",
    "    primary_data[\"candidate\"].str.contains(\"WILLIAMS\", case=False, na=False),\n",
    "    \"candidate\"\n",
    "] = \"WILLIAMS\"\n",
    "\n",
    "primary_data.loc[:, \"candidate\"] = primary_data[\"candidate\"].replace({\n",
    "    \"Donald I. Trump\": \"Donald J. Trump\",\n",
    "})\n",
    "\n",
    "# # Fixing the , candidate\n",
    "# primary_data[\"candidate\"] = (\n",
    "#     primary_data[\"candidate\"].str.split(\",\")\n",
    "#     .str[0]\n",
    "#     .str.strip()\n",
    "#     )\n",
    "\n",
    "\n",
    "# #Selecting only last name\n",
    "primary_data[\"candidate\"] = primary_data[\"candidate\"].str.split().str[-1]\n",
    "\n",
    "# # Fixing Christie\n",
    "# primary_data.loc[\n",
    "#     primary_data[\"candidate\"].str.contains(\"CHRISTLE\", case=False, na=False),\n",
    "#     \"candidate\"\n",
    "# ] = \"CHRISTIE\"\n",
    "\n",
    "# # Fixing KASICH\n",
    "# primary_data.loc[\n",
    "#     primary_data[\"candidate\"].str.contains(\"KAISCH\", case=False, na=False),\n",
    "#     \"candidate\"\n",
    "# ] = \"CHRISTIE\"\n",
    "\n",
    "# # Fixing O'MALLEY\n",
    "# primary_data.loc[\n",
    "#     primary_data[\"candidate\"].str.contains(\"O'MALLEY\", case=False, na=False),\n",
    "#     \"candidate\"\n",
    "# ] = \"O'MAILEY\"\n",
    "\n",
    "# # Fixing O'MALLEY\n",
    "# primary_data.loc[\n",
    "#     primary_data[\"candidate\"].str.contains(\"PATAKL\", case=False, na=False),\n",
    "#     \"candidate\"\n",
    "# ] = \"PATAKI\"\n",
    "\n",
    "# # Fixing O'MALLEY\n",
    "# primary_data.loc[\n",
    "#     primary_data[\"candidate\"].str.contains(\"RUBLO\", case=False, na=False),\n",
    "#     \"candidate\"\n",
    "# ] = \"RUBIO\"\n",
    "\n",
    "# # Fixing Huckabee\n",
    "# primary_data.loc[\n",
    "#     primary_data[\"candidate\"].str.contains(\"\\w*ABEE\\w*\", case=False, na=False),\n",
    "#     \"candidate\"\n",
    "# ] = \"HUCKABEE\"\n",
    "\n",
    "# # Fixing Fiorina\n",
    "# primary_data.loc[\n",
    "#     primary_data[\"candidate\"].str.contains(\"\\w*ORINA\\W*\", case=False, na=False),\n",
    "#     \"candidate\"\n",
    "# ] = \"FIORINA\"\n",
    "\n",
    "# # Fixing Gray\n",
    "# primary_data.loc[\n",
    "#     primary_data[\"candidate\"].str.contains(\"GREY\", case=False, na=False),\n",
    "#     \"candidate\"\n",
    "# ] = \"GRAY\"\n",
    "\n",
    "# # Fixing Wilson\n",
    "# primary_data.loc[\n",
    "#     primary_data[\"candidate\"].str.contains(\"WISON\", case=False, na=False),\n",
    "#     \"candidate\"\n",
    "# ] = \"WILSON\"\n",
    "\n",
    "\n",
    "# # Fixing separator \n",
    "# primary_data[\"candidate\"] = (\n",
    "#     primary_data[\"candidate\"]\n",
    "#     .str.split(r\"\\s*(?:and|/|&|–|-|\\+)\\s*\", n=1, expand=True)[0]\n",
    "#     .str.strip()\n",
    "#     .str.upper()\n",
    "# )\n",
    "\n",
    "# # Fixing McMullin\n",
    "\n",
    "# primary_data.loc[\n",
    "#     (\n",
    "#         primary_data[\"candidate\"].str.contains(\"MCMULLIN\", case=False, na=False) |\n",
    "#         primary_data[\"candidate\"].str.contains(\"EVAN MCMULLEN\", case=False, na=False)\n",
    "#     ),\n",
    "#     \"candidate\"\n",
    "# ] = \"MCMULLIN\"\n",
    "\n",
    "# primary_data.loc[\n",
    "#     primary_data[\"candidate\"].str.contains(\"De La Fuen\", case=False, na=False),\n",
    "#     \"candidate\"\n",
    "# ] = \"FUENTE D\"\n",
    "\n",
    "# primary_data.loc[:,\"candidate\"] = (\n",
    "#     primary_data[\"candidate\"].str.split().str[0].str.upper()\n",
    "# )\n",
    "\n",
    "primary_data[\"candidate\"].value_counts(dropna=False)"
   ]
  },
  {
   "cell_type": "code",
   "execution_count": 10,
   "id": "dcc76af7",
   "metadata": {},
   "outputs": [
    {
     "data": {
      "application/vnd.microsoft.datawrangler.viewer.v0+json": {
       "columns": [
        {
         "name": "party",
         "rawType": "object",
         "type": "string"
        },
        {
         "name": "count",
         "rawType": "int64",
         "type": "integer"
        }
       ],
       "ref": "6169c299-49eb-482f-965d-88e77b73377c",
       "rows": [
        [
         "REP",
         "60"
        ],
        [
         "DEM",
         "40"
        ],
        [
         "Republican",
         "30"
        ],
        [
         "Democratic",
         "20"
        ]
       ],
       "shape": {
        "columns": 1,
        "rows": 4
       }
      },
      "text/plain": [
       "party\n",
       "REP           60\n",
       "DEM           40\n",
       "Republican    30\n",
       "Democratic    20\n",
       "Name: count, dtype: int64"
      ]
     },
     "execution_count": 10,
     "metadata": {},
     "output_type": "execute_result"
    }
   ],
   "source": [
    "# Viewing Party\n",
    "primary_data[\"party\"].value_counts(dropna=False)"
   ]
  },
  {
   "cell_type": "code",
   "execution_count": 11,
   "id": "582aa6c5",
   "metadata": {},
   "outputs": [
    {
     "data": {
      "application/vnd.microsoft.datawrangler.viewer.v0+json": {
       "columns": [
        {
         "name": "party",
         "rawType": "object",
         "type": "string"
        },
        {
         "name": "count",
         "rawType": "int64",
         "type": "integer"
        }
       ],
       "ref": "d5c96c2e-97e6-4167-b776-fced4b2afb85",
       "rows": [
        [
         "REP",
         "60"
        ],
        [
         "DEM",
         "40"
        ],
        [
         "Republican",
         "30"
        ],
        [
         "Democratic",
         "20"
        ]
       ],
       "shape": {
        "columns": 1,
        "rows": 4
       }
      },
      "text/plain": [
       "party\n",
       "REP           60\n",
       "DEM           40\n",
       "Republican    30\n",
       "Democratic    20\n",
       "Name: count, dtype: int64"
      ]
     },
     "execution_count": 11,
     "metadata": {},
     "output_type": "execute_result"
    }
   ],
   "source": [
    "#=====================================\n",
    "# This function is used to look up party\n",
    "# for the candidate in the same df\n",
    "#=====================================\n",
    "def fill_party_from_data(row, df):\n",
    "    if pd.notna(row[\"party\"]):\n",
    "        return row[\"party\"]\n",
    "    \n",
    "    # Try to find other rows with the same candidate and known party\n",
    "    matches = df[(df[\"candidate\"] == row[\"candidate\"]) & (df[\"party\"].notna())]\n",
    "    if not matches.empty:\n",
    "        return matches[\"party\"].iloc[0]  # Return the first match's party\n",
    "    else:\n",
    "        return None  # Still unknown\n",
    "\n",
    "#=====================================\n",
    "# Example usage (uncomment and modify for your workflow)\n",
    "#=====================================\n",
    "# Fill party using internal data\n",
    "# primary_data[\"party\"] = primary_data.apply(\n",
    "#     lambda row: fill_party_from_data(row, primary_data),\n",
    "#     axis=1\n",
    "# )\n",
    "\n",
    "primary_data[\"party\"].value_counts(dropna=False)\n"
   ]
  },
  {
   "cell_type": "code",
   "execution_count": 12,
   "id": "34361751",
   "metadata": {},
   "outputs": [
    {
     "data": {
      "application/vnd.microsoft.datawrangler.viewer.v0+json": {
       "columns": [
        {
         "name": "party",
         "rawType": "object",
         "type": "string"
        },
        {
         "name": "count",
         "rawType": "int64",
         "type": "integer"
        }
       ],
       "ref": "4ec1c0e5-f802-45e3-b4c9-739cf655eea8",
       "rows": [
        [
         "REP",
         "90"
        ],
        [
         "DEM",
         "60"
        ]
       ],
       "shape": {
        "columns": 1,
        "rows": 2
       }
      },
      "text/plain": [
       "party\n",
       "REP    90\n",
       "DEM    60\n",
       "Name: count, dtype: int64"
      ]
     },
     "execution_count": 12,
     "metadata": {},
     "output_type": "execute_result"
    }
   ],
   "source": [
    "# Cleaning Party\n",
    "# Turning all general data party to uppercase\n",
    "primary_data[\"party\"] = primary_data[\"party\"].astype(str).str.upper()\n",
    "\n",
    "# primary_data[\"party\"] = primary_data.apply(\n",
    "#     lambda row: fill_party_from_data(row, primary_data),\n",
    "#     axis=1\n",
    "# )\n",
    "primary_data[\"party\"] = (\n",
    "    primary_data[\"party\"]\n",
    "    .replace({\n",
    "        \"REPUBLICAN\": \"REP\",\n",
    "        \"R\": \"REP\",\n",
    "        \"DEMOCRATIC\": \"DEM\",\n",
    "        \"DEMOCRAT\":\"DEM\",\n",
    "        \"DEM\": \"DEM\",\n",
    "        \"D\": \"DEM\",\n",
    "        \"GREEN\": \"GRN\",\n",
    "        \"G\": \"GREEN\",\n",
    "        \"GREEN-RAINBOW\":\"GRN\",\n",
    "        \"LIBERTARIAN\": \"LIB\",\n",
    "        \"LBT\": \"LIB\",\n",
    "        \"L\": \"LIB\",\n",
    "        \"CONSTITUTION\": \"CON\",\n",
    "        \"NP\": \"IND\",\n",
    "        \"NON\": \"IND\",\n",
    "        \"WRI\": \"IND\",\n",
    "        \"WRITE-IN\": \"IND\",\n",
    "        \"ONA\": \"IND\",\n",
    "        \"GEN\": \"IND\",\n",
    "        \"NONE\":\"UNK\"\n",
    "    })\n",
    ")\n",
    "primary_data[\"party\"].value_counts(dropna=False)"
   ]
  },
  {
   "cell_type": "code",
   "execution_count": 13,
   "id": "a359cd18",
   "metadata": {},
   "outputs": [
    {
     "data": {
      "application/vnd.microsoft.datawrangler.viewer.v0+json": {
       "columns": [
        {
         "name": "index",
         "rawType": "int64",
         "type": "integer"
        },
        {
         "name": "precinct",
         "rawType": "object",
         "type": "string"
        },
        {
         "name": "pri_dem_CLINTON",
         "rawType": "int64",
         "type": "integer"
        },
        {
         "name": "pri_dem_SANDERS",
         "rawType": "int64",
         "type": "integer"
        },
        {
         "name": "pri_rep_CRUZ",
         "rawType": "int64",
         "type": "integer"
        },
        {
         "name": "pri_rep_KASICH",
         "rawType": "int64",
         "type": "integer"
        },
        {
         "name": "pri_rep_TRUMP",
         "rawType": "int64",
         "type": "integer"
        }
       ],
       "ref": "3aa9826c-7a8d-49e0-ab23-0955b3dd2f54",
       "rows": [
        [
         "0",
         "AURORA1",
         "30",
         "12",
         "18",
         "8",
         "42"
        ],
        [
         "1",
         "AURORA2",
         "8",
         "6",
         "12",
         "5",
         "12"
        ],
        [
         "2",
         "AURORA3",
         "71",
         "57",
         "13",
         "5",
         "42"
        ],
        [
         "3",
         "AURORA5",
         "12",
         "11",
         "2",
         "5",
         "11"
        ],
        [
         "4",
         "AURORA7",
         "29",
         "46",
         "5",
         "4",
         "29"
        ],
        [
         "5",
         "BRULE1",
         "103",
         "118",
         "34",
         "44",
         "152"
        ],
        [
         "6",
         "BRULE2",
         "46",
         "49",
         "8",
         "5",
         "23"
        ],
        [
         "7",
         "BRULE3",
         "26",
         "35",
         "15",
         "6",
         "38"
        ],
        [
         "8",
         "BRULE4",
         "3",
         "3",
         "2",
         "1",
         "6"
        ],
        [
         "9",
         "BRULE5",
         "4",
         "14",
         "2",
         "2",
         "26"
        ],
        [
         "10",
         "CLARK1",
         "9",
         "14",
         "7",
         "5",
         "20"
        ],
        [
         "11",
         "CLARK10",
         "9",
         "3",
         "1",
         "4",
         "7"
        ],
        [
         "12",
         "CLARK11",
         "9",
         "14",
         "9",
         "1",
         "14"
        ],
        [
         "13",
         "CLARK12",
         "15",
         "7",
         "3",
         "5",
         "20"
        ],
        [
         "14",
         "CLARK13",
         "12",
         "9",
         "5",
         "11",
         "28"
        ],
        [
         "15",
         "CLARK2",
         "12",
         "4",
         "1",
         "0",
         "11"
        ],
        [
         "16",
         "CLARK3",
         "12",
         "3",
         "4",
         "7",
         "14"
        ],
        [
         "17",
         "CLARK4",
         "10",
         "2",
         "2",
         "6",
         "14"
        ],
        [
         "18",
         "CLARK5",
         "5",
         "3",
         "2",
         "4",
         "9"
        ],
        [
         "19",
         "CLARK6",
         "2",
         "3",
         "3",
         "3",
         "7"
        ],
        [
         "20",
         "CLARK7",
         "9",
         "7",
         "3",
         "0",
         "16"
        ],
        [
         "21",
         "CLARK8",
         "6",
         "10",
         "5",
         "7",
         "16"
        ],
        [
         "22",
         "CLARK9",
         "2",
         "7",
         "5",
         "0",
         "3"
        ],
        [
         "23",
         "CLAY1901 RURAL WARD 1",
         "26",
         "9",
         "3",
         "5",
         "33"
        ],
        [
         "24",
         "CLAY1902 RURAL WARD 2",
         "28",
         "22",
         "8",
         "7",
         "24"
        ],
        [
         "25",
         "CLAY1903 RURAL WARD 3",
         "83",
         "65",
         "9",
         "18",
         "62"
        ],
        [
         "26",
         "CLAY1906 VERMILLION CENTRAL",
         "122",
         "119",
         "7",
         "18",
         "25"
        ],
        [
         "27",
         "CLAY1908 VERMILLION NE",
         "34",
         "67",
         "12",
         "11",
         "30"
        ],
        [
         "28",
         "CLAY1910 VERMILLION NW",
         "98",
         "150",
         "27",
         "22",
         "51"
        ],
        [
         "29",
         "CLAY1912 VERMILLION SE",
         "232",
         "177",
         "36",
         "63",
         "95"
        ]
       ],
       "shape": {
        "columns": 6,
        "rows": 30
       }
      },
      "text/html": [
       "<div>\n",
       "<style scoped>\n",
       "    .dataframe tbody tr th:only-of-type {\n",
       "        vertical-align: middle;\n",
       "    }\n",
       "\n",
       "    .dataframe tbody tr th {\n",
       "        vertical-align: top;\n",
       "    }\n",
       "\n",
       "    .dataframe thead th {\n",
       "        text-align: right;\n",
       "    }\n",
       "</style>\n",
       "<table border=\"1\" class=\"dataframe\">\n",
       "  <thead>\n",
       "    <tr style=\"text-align: right;\">\n",
       "      <th>candidate_column</th>\n",
       "      <th>precinct</th>\n",
       "      <th>pri_dem_CLINTON</th>\n",
       "      <th>pri_dem_SANDERS</th>\n",
       "      <th>pri_rep_CRUZ</th>\n",
       "      <th>pri_rep_KASICH</th>\n",
       "      <th>pri_rep_TRUMP</th>\n",
       "    </tr>\n",
       "  </thead>\n",
       "  <tbody>\n",
       "    <tr>\n",
       "      <th>0</th>\n",
       "      <td>AURORA1</td>\n",
       "      <td>30</td>\n",
       "      <td>12</td>\n",
       "      <td>18</td>\n",
       "      <td>8</td>\n",
       "      <td>42</td>\n",
       "    </tr>\n",
       "    <tr>\n",
       "      <th>1</th>\n",
       "      <td>AURORA2</td>\n",
       "      <td>8</td>\n",
       "      <td>6</td>\n",
       "      <td>12</td>\n",
       "      <td>5</td>\n",
       "      <td>12</td>\n",
       "    </tr>\n",
       "    <tr>\n",
       "      <th>2</th>\n",
       "      <td>AURORA3</td>\n",
       "      <td>71</td>\n",
       "      <td>57</td>\n",
       "      <td>13</td>\n",
       "      <td>5</td>\n",
       "      <td>42</td>\n",
       "    </tr>\n",
       "    <tr>\n",
       "      <th>3</th>\n",
       "      <td>AURORA5</td>\n",
       "      <td>12</td>\n",
       "      <td>11</td>\n",
       "      <td>2</td>\n",
       "      <td>5</td>\n",
       "      <td>11</td>\n",
       "    </tr>\n",
       "    <tr>\n",
       "      <th>4</th>\n",
       "      <td>AURORA7</td>\n",
       "      <td>29</td>\n",
       "      <td>46</td>\n",
       "      <td>5</td>\n",
       "      <td>4</td>\n",
       "      <td>29</td>\n",
       "    </tr>\n",
       "    <tr>\n",
       "      <th>5</th>\n",
       "      <td>BRULE1</td>\n",
       "      <td>103</td>\n",
       "      <td>118</td>\n",
       "      <td>34</td>\n",
       "      <td>44</td>\n",
       "      <td>152</td>\n",
       "    </tr>\n",
       "    <tr>\n",
       "      <th>6</th>\n",
       "      <td>BRULE2</td>\n",
       "      <td>46</td>\n",
       "      <td>49</td>\n",
       "      <td>8</td>\n",
       "      <td>5</td>\n",
       "      <td>23</td>\n",
       "    </tr>\n",
       "    <tr>\n",
       "      <th>7</th>\n",
       "      <td>BRULE3</td>\n",
       "      <td>26</td>\n",
       "      <td>35</td>\n",
       "      <td>15</td>\n",
       "      <td>6</td>\n",
       "      <td>38</td>\n",
       "    </tr>\n",
       "    <tr>\n",
       "      <th>8</th>\n",
       "      <td>BRULE4</td>\n",
       "      <td>3</td>\n",
       "      <td>3</td>\n",
       "      <td>2</td>\n",
       "      <td>1</td>\n",
       "      <td>6</td>\n",
       "    </tr>\n",
       "    <tr>\n",
       "      <th>9</th>\n",
       "      <td>BRULE5</td>\n",
       "      <td>4</td>\n",
       "      <td>14</td>\n",
       "      <td>2</td>\n",
       "      <td>2</td>\n",
       "      <td>26</td>\n",
       "    </tr>\n",
       "    <tr>\n",
       "      <th>10</th>\n",
       "      <td>CLARK1</td>\n",
       "      <td>9</td>\n",
       "      <td>14</td>\n",
       "      <td>7</td>\n",
       "      <td>5</td>\n",
       "      <td>20</td>\n",
       "    </tr>\n",
       "    <tr>\n",
       "      <th>11</th>\n",
       "      <td>CLARK10</td>\n",
       "      <td>9</td>\n",
       "      <td>3</td>\n",
       "      <td>1</td>\n",
       "      <td>4</td>\n",
       "      <td>7</td>\n",
       "    </tr>\n",
       "    <tr>\n",
       "      <th>12</th>\n",
       "      <td>CLARK11</td>\n",
       "      <td>9</td>\n",
       "      <td>14</td>\n",
       "      <td>9</td>\n",
       "      <td>1</td>\n",
       "      <td>14</td>\n",
       "    </tr>\n",
       "    <tr>\n",
       "      <th>13</th>\n",
       "      <td>CLARK12</td>\n",
       "      <td>15</td>\n",
       "      <td>7</td>\n",
       "      <td>3</td>\n",
       "      <td>5</td>\n",
       "      <td>20</td>\n",
       "    </tr>\n",
       "    <tr>\n",
       "      <th>14</th>\n",
       "      <td>CLARK13</td>\n",
       "      <td>12</td>\n",
       "      <td>9</td>\n",
       "      <td>5</td>\n",
       "      <td>11</td>\n",
       "      <td>28</td>\n",
       "    </tr>\n",
       "    <tr>\n",
       "      <th>15</th>\n",
       "      <td>CLARK2</td>\n",
       "      <td>12</td>\n",
       "      <td>4</td>\n",
       "      <td>1</td>\n",
       "      <td>0</td>\n",
       "      <td>11</td>\n",
       "    </tr>\n",
       "    <tr>\n",
       "      <th>16</th>\n",
       "      <td>CLARK3</td>\n",
       "      <td>12</td>\n",
       "      <td>3</td>\n",
       "      <td>4</td>\n",
       "      <td>7</td>\n",
       "      <td>14</td>\n",
       "    </tr>\n",
       "    <tr>\n",
       "      <th>17</th>\n",
       "      <td>CLARK4</td>\n",
       "      <td>10</td>\n",
       "      <td>2</td>\n",
       "      <td>2</td>\n",
       "      <td>6</td>\n",
       "      <td>14</td>\n",
       "    </tr>\n",
       "    <tr>\n",
       "      <th>18</th>\n",
       "      <td>CLARK5</td>\n",
       "      <td>5</td>\n",
       "      <td>3</td>\n",
       "      <td>2</td>\n",
       "      <td>4</td>\n",
       "      <td>9</td>\n",
       "    </tr>\n",
       "    <tr>\n",
       "      <th>19</th>\n",
       "      <td>CLARK6</td>\n",
       "      <td>2</td>\n",
       "      <td>3</td>\n",
       "      <td>3</td>\n",
       "      <td>3</td>\n",
       "      <td>7</td>\n",
       "    </tr>\n",
       "    <tr>\n",
       "      <th>20</th>\n",
       "      <td>CLARK7</td>\n",
       "      <td>9</td>\n",
       "      <td>7</td>\n",
       "      <td>3</td>\n",
       "      <td>0</td>\n",
       "      <td>16</td>\n",
       "    </tr>\n",
       "    <tr>\n",
       "      <th>21</th>\n",
       "      <td>CLARK8</td>\n",
       "      <td>6</td>\n",
       "      <td>10</td>\n",
       "      <td>5</td>\n",
       "      <td>7</td>\n",
       "      <td>16</td>\n",
       "    </tr>\n",
       "    <tr>\n",
       "      <th>22</th>\n",
       "      <td>CLARK9</td>\n",
       "      <td>2</td>\n",
       "      <td>7</td>\n",
       "      <td>5</td>\n",
       "      <td>0</td>\n",
       "      <td>3</td>\n",
       "    </tr>\n",
       "    <tr>\n",
       "      <th>23</th>\n",
       "      <td>CLAY1901 RURAL WARD 1</td>\n",
       "      <td>26</td>\n",
       "      <td>9</td>\n",
       "      <td>3</td>\n",
       "      <td>5</td>\n",
       "      <td>33</td>\n",
       "    </tr>\n",
       "    <tr>\n",
       "      <th>24</th>\n",
       "      <td>CLAY1902 RURAL WARD 2</td>\n",
       "      <td>28</td>\n",
       "      <td>22</td>\n",
       "      <td>8</td>\n",
       "      <td>7</td>\n",
       "      <td>24</td>\n",
       "    </tr>\n",
       "    <tr>\n",
       "      <th>25</th>\n",
       "      <td>CLAY1903 RURAL WARD 3</td>\n",
       "      <td>83</td>\n",
       "      <td>65</td>\n",
       "      <td>9</td>\n",
       "      <td>18</td>\n",
       "      <td>62</td>\n",
       "    </tr>\n",
       "    <tr>\n",
       "      <th>26</th>\n",
       "      <td>CLAY1906 VERMILLION CENTRAL</td>\n",
       "      <td>122</td>\n",
       "      <td>119</td>\n",
       "      <td>7</td>\n",
       "      <td>18</td>\n",
       "      <td>25</td>\n",
       "    </tr>\n",
       "    <tr>\n",
       "      <th>27</th>\n",
       "      <td>CLAY1908 VERMILLION NE</td>\n",
       "      <td>34</td>\n",
       "      <td>67</td>\n",
       "      <td>12</td>\n",
       "      <td>11</td>\n",
       "      <td>30</td>\n",
       "    </tr>\n",
       "    <tr>\n",
       "      <th>28</th>\n",
       "      <td>CLAY1910 VERMILLION NW</td>\n",
       "      <td>98</td>\n",
       "      <td>150</td>\n",
       "      <td>27</td>\n",
       "      <td>22</td>\n",
       "      <td>51</td>\n",
       "    </tr>\n",
       "    <tr>\n",
       "      <th>29</th>\n",
       "      <td>CLAY1912 VERMILLION SE</td>\n",
       "      <td>232</td>\n",
       "      <td>177</td>\n",
       "      <td>36</td>\n",
       "      <td>63</td>\n",
       "      <td>95</td>\n",
       "    </tr>\n",
       "  </tbody>\n",
       "</table>\n",
       "</div>"
      ],
      "text/plain": [
       "candidate_column                     precinct  pri_dem_CLINTON  \\\n",
       "0                                     AURORA1               30   \n",
       "1                                     AURORA2                8   \n",
       "2                                     AURORA3               71   \n",
       "3                                     AURORA5               12   \n",
       "4                                     AURORA7               29   \n",
       "5                                      BRULE1              103   \n",
       "6                                      BRULE2               46   \n",
       "7                                      BRULE3               26   \n",
       "8                                      BRULE4                3   \n",
       "9                                      BRULE5                4   \n",
       "10                                     CLARK1                9   \n",
       "11                                    CLARK10                9   \n",
       "12                                    CLARK11                9   \n",
       "13                                    CLARK12               15   \n",
       "14                                    CLARK13               12   \n",
       "15                                     CLARK2               12   \n",
       "16                                     CLARK3               12   \n",
       "17                                     CLARK4               10   \n",
       "18                                     CLARK5                5   \n",
       "19                                     CLARK6                2   \n",
       "20                                     CLARK7                9   \n",
       "21                                     CLARK8                6   \n",
       "22                                     CLARK9                2   \n",
       "23                      CLAY1901 RURAL WARD 1               26   \n",
       "24                      CLAY1902 RURAL WARD 2               28   \n",
       "25                      CLAY1903 RURAL WARD 3               83   \n",
       "26                CLAY1906 VERMILLION CENTRAL              122   \n",
       "27                     CLAY1908 VERMILLION NE               34   \n",
       "28                     CLAY1910 VERMILLION NW               98   \n",
       "29                     CLAY1912 VERMILLION SE              232   \n",
       "\n",
       "candidate_column  pri_dem_SANDERS  pri_rep_CRUZ  pri_rep_KASICH  pri_rep_TRUMP  \n",
       "0                              12            18               8             42  \n",
       "1                               6            12               5             12  \n",
       "2                              57            13               5             42  \n",
       "3                              11             2               5             11  \n",
       "4                              46             5               4             29  \n",
       "5                             118            34              44            152  \n",
       "6                              49             8               5             23  \n",
       "7                              35            15               6             38  \n",
       "8                               3             2               1              6  \n",
       "9                              14             2               2             26  \n",
       "10                             14             7               5             20  \n",
       "11                              3             1               4              7  \n",
       "12                             14             9               1             14  \n",
       "13                              7             3               5             20  \n",
       "14                              9             5              11             28  \n",
       "15                              4             1               0             11  \n",
       "16                              3             4               7             14  \n",
       "17                              2             2               6             14  \n",
       "18                              3             2               4              9  \n",
       "19                              3             3               3              7  \n",
       "20                              7             3               0             16  \n",
       "21                             10             5               7             16  \n",
       "22                              7             5               0              3  \n",
       "23                              9             3               5             33  \n",
       "24                             22             8               7             24  \n",
       "25                             65             9              18             62  \n",
       "26                            119             7              18             25  \n",
       "27                             67            12              11             30  \n",
       "28                            150            27              22             51  \n",
       "29                            177            36              63             95  "
      ]
     },
     "execution_count": 13,
     "metadata": {},
     "output_type": "execute_result"
    }
   ],
   "source": [
    "primary_data.loc[:,\"candidate_column\"] = (\n",
    "    \"pri_\" +\n",
    "    primary_data[\"party\"].str.lower() + \"_\" +\n",
    "    primary_data[\"candidate\"]\n",
    ")\n",
    "\n",
    "# pivot the table\n",
    "primary_result = primary_data.pivot_table(\n",
    "    index=\"precinct\",\n",
    "    columns=\"candidate_column\",\n",
    "    values=\"votes\",\n",
    "    aggfunc=\"sum\",  \n",
    "    fill_value=0\n",
    ").reset_index()\n",
    "\n",
    "primary_result"
   ]
  },
  {
   "cell_type": "code",
   "execution_count": 15,
   "id": "f1ef9692",
   "metadata": {},
   "outputs": [
    {
     "data": {
      "application/vnd.microsoft.datawrangler.viewer.v0+json": {
       "columns": [
        {
         "name": "index",
         "rawType": "int64",
         "type": "integer"
        },
        {
         "name": "county",
         "rawType": "object",
         "type": "string"
        },
        {
         "name": "precinct",
         "rawType": "object",
         "type": "string"
        },
        {
         "name": "office",
         "rawType": "object",
         "type": "string"
        },
        {
         "name": "district",
         "rawType": "object",
         "type": "unknown"
        },
        {
         "name": "candidate",
         "rawType": "object",
         "type": "unknown"
        },
        {
         "name": "party",
         "rawType": "object",
         "type": "string"
        },
        {
         "name": "votes",
         "rawType": "float64",
         "type": "float"
        }
       ],
       "ref": "ee02d032-7c52-4420-b7ff-f3e9bf1966a0",
       "rows": [
        [
         "0",
         "AURORA",
         "AURORA1",
         "President",
         null,
         "Donald J. Trump",
         "REP",
         "230.0"
        ],
        [
         "1",
         "AURORA",
         "AURORA2",
         "President",
         null,
         "Donald J. Trump",
         "REP",
         "120.0"
        ],
        [
         "2",
         "AURORA",
         "AURORA3",
         "President",
         null,
         "Donald J. Trump",
         "REP",
         "290.0"
        ],
        [
         "3",
         "AURORA",
         "AURORA5",
         "President",
         null,
         "Donald J. Trump",
         "REP",
         "128.0"
        ],
        [
         "4",
         "AURORA",
         "AURORA7",
         "President",
         null,
         "Donald J. Trump",
         "REP",
         "206.0"
        ],
        [
         "5",
         "AURORA",
         "AURORA1",
         "President",
         null,
         "Gary Johnson",
         "LIB",
         "11.0"
        ],
        [
         "6",
         "AURORA",
         "AURORA2",
         "President",
         null,
         "Gary Johnson",
         "LIB",
         "7.0"
        ],
        [
         "7",
         "AURORA",
         "AURORA3",
         "President",
         null,
         "Gary Johnson",
         "LIB",
         "19.0"
        ],
        [
         "8",
         "AURORA",
         "AURORA5",
         "President",
         null,
         "Gary Johnson",
         "LIB",
         "11.0"
        ],
        [
         "9",
         "AURORA",
         "AURORA7",
         "President",
         null,
         "Gary Johnson",
         "LIB",
         "26.0"
        ],
        [
         "10",
         "AURORA",
         "AURORA1",
         "President",
         null,
         "Hillary Clinton",
         "DEM",
         "62.0"
        ],
        [
         "11",
         "AURORA",
         "AURORA2",
         "President",
         null,
         "Hillary Clinton",
         "DEM",
         "23.0"
        ],
        [
         "12",
         "AURORA",
         "AURORA3",
         "President",
         null,
         "Hillary Clinton",
         "DEM",
         "101.0"
        ],
        [
         "13",
         "AURORA",
         "AURORA5",
         "President",
         null,
         "Hillary Clinton",
         "DEM",
         "61.0"
        ],
        [
         "14",
         "AURORA",
         "AURORA7",
         "President",
         null,
         "Hillary Clinton",
         "DEM",
         "93.0"
        ],
        [
         "15",
         "AURORA",
         "AURORA1",
         "President",
         null,
         "Darrell L. Castle",
         "CON",
         "4.0"
        ],
        [
         "16",
         "AURORA",
         "AURORA2",
         "President",
         null,
         "Darrell L. Castle",
         "CON",
         "3.0"
        ],
        [
         "17",
         "AURORA",
         "AURORA3",
         "President",
         null,
         "Darrell L. Castle",
         "CON",
         "6.0"
        ],
        [
         "18",
         "AURORA",
         "AURORA5",
         "President",
         null,
         "Darrell L. Castle",
         "CON",
         "1.0"
        ],
        [
         "19",
         "AURORA",
         "AURORA7",
         "President",
         null,
         "Darrell L. Castle",
         "CON",
         "5.0"
        ],
        [
         "20",
         "BEADLE",
         "BEADLE12",
         "President",
         null,
         "Donald J. Trump",
         "REP",
         "616.0"
        ],
        [
         "21",
         "BEADLE",
         "BEADLE15",
         "President",
         null,
         "Donald J. Trump",
         "REP",
         "223.0"
        ],
        [
         "22",
         "BEADLE",
         "BEADLE17",
         "President",
         null,
         "Donald J. Trump",
         "REP",
         "202.0"
        ],
        [
         "23",
         "BEADLE",
         "BEADLEW1",
         "President",
         null,
         "Donald J. Trump",
         "REP",
         "817.0"
        ],
        [
         "24",
         "BEADLE",
         "BEADLEW2",
         "President",
         null,
         "Donald J. Trump",
         "REP",
         "365.0"
        ],
        [
         "25",
         "BEADLE",
         "BEADLEW3",
         "President",
         null,
         "Donald J. Trump",
         "REP",
         "377.0"
        ],
        [
         "26",
         "BEADLE",
         "BEADLEW7-1",
         "President",
         null,
         "Donald J. Trump",
         "REP",
         "534.0"
        ],
        [
         "27",
         "BEADLE",
         "BEADLEW7-2",
         "President",
         null,
         "Donald J. Trump",
         "REP",
         "505.0"
        ],
        [
         "28",
         "BEADLE",
         "BEADLEW8-1",
         "President",
         null,
         "Donald J. Trump",
         "REP",
         "354.0"
        ],
        [
         "29",
         "BEADLE",
         "BEADLEW8-2",
         "President",
         null,
         "Donald J. Trump",
         "REP",
         "462.0"
        ],
        [
         "30",
         "BEADLE",
         "BEADLETOTAL",
         "President",
         null,
         "Donald J. Trump",
         "REP",
         "4455.0"
        ],
        [
         "31",
         "BEADLE",
         "BEADLE12",
         "President",
         null,
         "Gary Johnson",
         "LIB",
         "38.0"
        ],
        [
         "32",
         "BEADLE",
         "BEADLE15",
         "President",
         null,
         "Gary Johnson",
         "LIB",
         "3.0"
        ],
        [
         "33",
         "BEADLE",
         "BEADLE17",
         "President",
         null,
         "Gary Johnson",
         "LIB",
         "22.0"
        ],
        [
         "34",
         "BEADLE",
         "BEADLEW1",
         "President",
         null,
         "Gary Johnson",
         "LIB",
         "63.0"
        ],
        [
         "35",
         "BEADLE",
         "BEADLEW2",
         "President",
         null,
         "Gary Johnson",
         "LIB",
         "43.0"
        ],
        [
         "36",
         "BEADLE",
         "BEADLEW3",
         "President",
         null,
         "Gary Johnson",
         "LIB",
         "29.0"
        ],
        [
         "37",
         "BEADLE",
         "BEADLEW7-1",
         "President",
         null,
         "Gary Johnson",
         "LIB",
         "33.0"
        ],
        [
         "38",
         "BEADLE",
         "BEADLEW7-2",
         "President",
         null,
         "Gary Johnson",
         "LIB",
         "35.0"
        ],
        [
         "39",
         "BEADLE",
         "BEADLEW8-1",
         "President",
         null,
         "Gary Johnson",
         "LIB",
         "27.0"
        ],
        [
         "40",
         "BEADLE",
         "BEADLEW8-2",
         "President",
         null,
         "Gary Johnson",
         "LIB",
         "30.0"
        ],
        [
         "41",
         "BEADLE",
         "BEADLETOTAL",
         "President",
         null,
         "Gary Johnson",
         "LIB",
         "323.0"
        ],
        [
         "42",
         "BEADLE",
         "BEADLE12",
         "President",
         null,
         "Hillary Clinton",
         "DEM",
         "181.0"
        ],
        [
         "43",
         "BEADLE",
         "BEADLE15",
         "President",
         null,
         "Hillary Clinton",
         "DEM",
         "28.0"
        ],
        [
         "44",
         "BEADLE",
         "BEADLE17",
         "President",
         null,
         "Hillary Clinton",
         "DEM",
         "60.0"
        ],
        [
         "45",
         "BEADLE",
         "BEADLEW1",
         "President",
         null,
         "Hillary Clinton",
         "DEM",
         "330.0"
        ],
        [
         "46",
         "BEADLE",
         "BEADLEW2",
         "President",
         null,
         "Hillary Clinton",
         "DEM",
         "230.0"
        ],
        [
         "47",
         "BEADLE",
         "BEADLEW3",
         "President",
         null,
         "Hillary Clinton",
         "DEM",
         "212.0"
        ],
        [
         "48",
         "BEADLE",
         "BEADLEW7-1",
         "President",
         null,
         "Hillary Clinton",
         "DEM",
         "223.0"
        ],
        [
         "49",
         "BEADLE",
         "BEADLEW7-2",
         "President",
         null,
         "Hillary Clinton",
         "DEM",
         "212.0"
        ]
       ],
       "shape": {
        "columns": 7,
        "rows": 3073
       }
      },
      "text/html": [
       "<div>\n",
       "<style scoped>\n",
       "    .dataframe tbody tr th:only-of-type {\n",
       "        vertical-align: middle;\n",
       "    }\n",
       "\n",
       "    .dataframe tbody tr th {\n",
       "        vertical-align: top;\n",
       "    }\n",
       "\n",
       "    .dataframe thead th {\n",
       "        text-align: right;\n",
       "    }\n",
       "</style>\n",
       "<table border=\"1\" class=\"dataframe\">\n",
       "  <thead>\n",
       "    <tr style=\"text-align: right;\">\n",
       "      <th></th>\n",
       "      <th>county</th>\n",
       "      <th>precinct</th>\n",
       "      <th>office</th>\n",
       "      <th>district</th>\n",
       "      <th>candidate</th>\n",
       "      <th>party</th>\n",
       "      <th>votes</th>\n",
       "    </tr>\n",
       "  </thead>\n",
       "  <tbody>\n",
       "    <tr>\n",
       "      <th>0</th>\n",
       "      <td>AURORA</td>\n",
       "      <td>AURORA1</td>\n",
       "      <td>President</td>\n",
       "      <td>NaN</td>\n",
       "      <td>Donald J. Trump</td>\n",
       "      <td>REP</td>\n",
       "      <td>230.0</td>\n",
       "    </tr>\n",
       "    <tr>\n",
       "      <th>1</th>\n",
       "      <td>AURORA</td>\n",
       "      <td>AURORA2</td>\n",
       "      <td>President</td>\n",
       "      <td>NaN</td>\n",
       "      <td>Donald J. Trump</td>\n",
       "      <td>REP</td>\n",
       "      <td>120.0</td>\n",
       "    </tr>\n",
       "    <tr>\n",
       "      <th>2</th>\n",
       "      <td>AURORA</td>\n",
       "      <td>AURORA3</td>\n",
       "      <td>President</td>\n",
       "      <td>NaN</td>\n",
       "      <td>Donald J. Trump</td>\n",
       "      <td>REP</td>\n",
       "      <td>290.0</td>\n",
       "    </tr>\n",
       "    <tr>\n",
       "      <th>3</th>\n",
       "      <td>AURORA</td>\n",
       "      <td>AURORA5</td>\n",
       "      <td>President</td>\n",
       "      <td>NaN</td>\n",
       "      <td>Donald J. Trump</td>\n",
       "      <td>REP</td>\n",
       "      <td>128.0</td>\n",
       "    </tr>\n",
       "    <tr>\n",
       "      <th>4</th>\n",
       "      <td>AURORA</td>\n",
       "      <td>AURORA7</td>\n",
       "      <td>President</td>\n",
       "      <td>NaN</td>\n",
       "      <td>Donald J. Trump</td>\n",
       "      <td>REP</td>\n",
       "      <td>206.0</td>\n",
       "    </tr>\n",
       "    <tr>\n",
       "      <th>...</th>\n",
       "      <td>...</td>\n",
       "      <td>...</td>\n",
       "      <td>...</td>\n",
       "      <td>...</td>\n",
       "      <td>...</td>\n",
       "      <td>...</td>\n",
       "      <td>...</td>\n",
       "    </tr>\n",
       "    <tr>\n",
       "      <th>3068</th>\n",
       "      <td>ZIEBACH</td>\n",
       "      <td>ZIEBACHPRECINCT-3 DAVIS</td>\n",
       "      <td>President</td>\n",
       "      <td>NaN</td>\n",
       "      <td>Darrell L. Castle</td>\n",
       "      <td>CON</td>\n",
       "      <td>5.0</td>\n",
       "    </tr>\n",
       "    <tr>\n",
       "      <th>3069</th>\n",
       "      <td>ZIEBACH</td>\n",
       "      <td>ZIEBACHPRECINCT-4 GLAD VALLEY</td>\n",
       "      <td>President</td>\n",
       "      <td>NaN</td>\n",
       "      <td>Darrell L. Castle</td>\n",
       "      <td>CON</td>\n",
       "      <td>0.0</td>\n",
       "    </tr>\n",
       "    <tr>\n",
       "      <th>3070</th>\n",
       "      <td>ZIEBACH</td>\n",
       "      <td>ZIEBACHPRECINCT-6 REDELM (PRECINCT-5 NORTH DUP...</td>\n",
       "      <td>President</td>\n",
       "      <td>NaN</td>\n",
       "      <td>Darrell L. Castle</td>\n",
       "      <td>CON</td>\n",
       "      <td>10.0</td>\n",
       "    </tr>\n",
       "    <tr>\n",
       "      <th>3071</th>\n",
       "      <td>ZIEBACH</td>\n",
       "      <td>ZIEBACHPRECINCT-7 RED SCAFFOLD</td>\n",
       "      <td>President</td>\n",
       "      <td>NaN</td>\n",
       "      <td>Darrell L. Castle</td>\n",
       "      <td>CON</td>\n",
       "      <td>3.0</td>\n",
       "    </tr>\n",
       "    <tr>\n",
       "      <th>3072</th>\n",
       "      <td>ZIEBACH</td>\n",
       "      <td>ZIEBACHTOTAL</td>\n",
       "      <td>President</td>\n",
       "      <td>NaN</td>\n",
       "      <td>Darrell L. Castle</td>\n",
       "      <td>CON</td>\n",
       "      <td>18.0</td>\n",
       "    </tr>\n",
       "  </tbody>\n",
       "</table>\n",
       "<p>3073 rows × 7 columns</p>\n",
       "</div>"
      ],
      "text/plain": [
       "       county                                           precinct     office  \\\n",
       "0      AURORA                                            AURORA1  President   \n",
       "1      AURORA                                            AURORA2  President   \n",
       "2      AURORA                                            AURORA3  President   \n",
       "3      AURORA                                            AURORA5  President   \n",
       "4      AURORA                                            AURORA7  President   \n",
       "...       ...                                                ...        ...   \n",
       "3068  ZIEBACH                            ZIEBACHPRECINCT-3 DAVIS  President   \n",
       "3069  ZIEBACH                      ZIEBACHPRECINCT-4 GLAD VALLEY  President   \n",
       "3070  ZIEBACH  ZIEBACHPRECINCT-6 REDELM (PRECINCT-5 NORTH DUP...  President   \n",
       "3071  ZIEBACH                     ZIEBACHPRECINCT-7 RED SCAFFOLD  President   \n",
       "3072  ZIEBACH                                       ZIEBACHTOTAL  President   \n",
       "\n",
       "     district          candidate party  votes  \n",
       "0         NaN    Donald J. Trump   REP  230.0  \n",
       "1         NaN    Donald J. Trump   REP  120.0  \n",
       "2         NaN    Donald J. Trump   REP  290.0  \n",
       "3         NaN    Donald J. Trump   REP  128.0  \n",
       "4         NaN    Donald J. Trump   REP  206.0  \n",
       "...       ...                ...   ...    ...  \n",
       "3068      NaN  Darrell L. Castle   CON    5.0  \n",
       "3069      NaN  Darrell L. Castle   CON    0.0  \n",
       "3070      NaN  Darrell L. Castle   CON   10.0  \n",
       "3071      NaN  Darrell L. Castle   CON    3.0  \n",
       "3072      NaN  Darrell L. Castle   CON   18.0  \n",
       "\n",
       "[3073 rows x 7 columns]"
      ]
     },
     "execution_count": 15,
     "metadata": {},
     "output_type": "execute_result"
    }
   ],
   "source": [
    "# Process general files\n",
    "general_df_list = []\n",
    "\n",
    "for file in general_files:\n",
    "    try:\n",
    "        df = pd.read_csv(file)\n",
    "        \n",
    "        # Combine precinct as county + precinct\n",
    "        df[\"precinct\"] = df[\"county\"].astype(str) + df[\"precinct\"].astype(str)\n",
    "        df[\"precinct\"] = df[\"precinct\"].str.upper()\n",
    "        df[\"county\"] = df[\"county\"].str.upper()\n",
    "\n",
    "        # Cleaning maybe total precinct\n",
    "        if 'precinct' in df.columns:\n",
    "            df['precinct'] = df['precinct'].astype(str)                  \n",
    "            df = df[df['precinct'].str.upper() != \"TOTAL\"]               \n",
    "            df = df[df['precinct'].str.strip().str.upper() != \"TOTAL\"]   \n",
    "            df = df[df['precinct'].str.upper() != \"NAN\"]                \n",
    "        \n",
    "        if 'county' in df.columns:\n",
    "            df['county'] = df['county'].astype(str)                  \n",
    "            df = df[df['county'].str.upper() != \"TOTAL\"]               \n",
    "            df = df[df['county'].str.strip().str.upper() != \"TOTAL\"]   \n",
    "            df = df[df['county'].str.upper() != \"NAN\"]       \n",
    "            df = df[~df['county'].str.upper().str.contains(r\"\\w*TOTAL\\w*\", na=False)]      \n",
    "            \n",
    "        # Filtering out only President \n",
    "        if 'office' in df.columns:\n",
    "            df = df[df[\"office\"] == \"President\"]\n",
    "        \n",
    "        # Dropping duplicates value\n",
    "        df = df.drop_duplicates()\n",
    "        \n",
    "        general_df_list.append(df)\n",
    "\n",
    "    except Exception as e:\n",
    "        print(f\"Error in {file}: {e}\")\n",
    "\n",
    "# Combine all cleaned files\n",
    "gen_combined_df = pd.concat(general_df_list, ignore_index=True)\n",
    "# Checking any suspicious precinct\n",
    "suspicious_precincts = gen_combined_df[\n",
    "    gen_combined_df[\"precinct\"].str.strip().str.upper().isin([\"TOTAL\", \"NAN\"])\n",
    "]\n",
    "gen_combined_df\n"
   ]
  },
  {
   "cell_type": "code",
   "execution_count": 16,
   "id": "1bbbd54d",
   "metadata": {},
   "outputs": [
    {
     "data": {
      "application/vnd.microsoft.datawrangler.viewer.v0+json": {
       "columns": [
        {
         "name": "index",
         "rawType": "int64",
         "type": "integer"
        },
        {
         "name": "precinct",
         "rawType": "object",
         "type": "string"
        },
        {
         "name": "party",
         "rawType": "object",
         "type": "string"
        },
        {
         "name": "candidate",
         "rawType": "object",
         "type": "unknown"
        },
        {
         "name": "votes",
         "rawType": "float64",
         "type": "float"
        }
       ],
       "ref": "d605beb7-59d6-4ddc-b830-aa1eb8610d7f",
       "rows": [
        [
         "0",
         "AURORA1",
         "REP",
         "Donald J. Trump",
         "230.0"
        ],
        [
         "1",
         "AURORA2",
         "REP",
         "Donald J. Trump",
         "120.0"
        ],
        [
         "2",
         "AURORA3",
         "REP",
         "Donald J. Trump",
         "290.0"
        ],
        [
         "3",
         "AURORA5",
         "REP",
         "Donald J. Trump",
         "128.0"
        ],
        [
         "4",
         "AURORA7",
         "REP",
         "Donald J. Trump",
         "206.0"
        ],
        [
         "5",
         "AURORA1",
         "LIB",
         "Gary Johnson",
         "11.0"
        ],
        [
         "6",
         "AURORA2",
         "LIB",
         "Gary Johnson",
         "7.0"
        ],
        [
         "7",
         "AURORA3",
         "LIB",
         "Gary Johnson",
         "19.0"
        ],
        [
         "8",
         "AURORA5",
         "LIB",
         "Gary Johnson",
         "11.0"
        ],
        [
         "9",
         "AURORA7",
         "LIB",
         "Gary Johnson",
         "26.0"
        ],
        [
         "10",
         "AURORA1",
         "DEM",
         "Hillary Clinton",
         "62.0"
        ],
        [
         "11",
         "AURORA2",
         "DEM",
         "Hillary Clinton",
         "23.0"
        ],
        [
         "12",
         "AURORA3",
         "DEM",
         "Hillary Clinton",
         "101.0"
        ],
        [
         "13",
         "AURORA5",
         "DEM",
         "Hillary Clinton",
         "61.0"
        ],
        [
         "14",
         "AURORA7",
         "DEM",
         "Hillary Clinton",
         "93.0"
        ],
        [
         "15",
         "AURORA1",
         "CON",
         "Darrell L. Castle",
         "4.0"
        ],
        [
         "16",
         "AURORA2",
         "CON",
         "Darrell L. Castle",
         "3.0"
        ],
        [
         "17",
         "AURORA3",
         "CON",
         "Darrell L. Castle",
         "6.0"
        ],
        [
         "18",
         "AURORA5",
         "CON",
         "Darrell L. Castle",
         "1.0"
        ],
        [
         "19",
         "AURORA7",
         "CON",
         "Darrell L. Castle",
         "5.0"
        ],
        [
         "20",
         "BEADLE12",
         "REP",
         "Donald J. Trump",
         "616.0"
        ],
        [
         "21",
         "BEADLE15",
         "REP",
         "Donald J. Trump",
         "223.0"
        ],
        [
         "22",
         "BEADLE17",
         "REP",
         "Donald J. Trump",
         "202.0"
        ],
        [
         "23",
         "BEADLEW1",
         "REP",
         "Donald J. Trump",
         "817.0"
        ],
        [
         "24",
         "BEADLEW2",
         "REP",
         "Donald J. Trump",
         "365.0"
        ],
        [
         "25",
         "BEADLEW3",
         "REP",
         "Donald J. Trump",
         "377.0"
        ],
        [
         "26",
         "BEADLEW7-1",
         "REP",
         "Donald J. Trump",
         "534.0"
        ],
        [
         "27",
         "BEADLEW7-2",
         "REP",
         "Donald J. Trump",
         "505.0"
        ],
        [
         "28",
         "BEADLEW8-1",
         "REP",
         "Donald J. Trump",
         "354.0"
        ],
        [
         "29",
         "BEADLEW8-2",
         "REP",
         "Donald J. Trump",
         "462.0"
        ],
        [
         "30",
         "BEADLETOTAL",
         "REP",
         "Donald J. Trump",
         "4455.0"
        ],
        [
         "31",
         "BEADLE12",
         "LIB",
         "Gary Johnson",
         "38.0"
        ],
        [
         "32",
         "BEADLE15",
         "LIB",
         "Gary Johnson",
         "3.0"
        ],
        [
         "33",
         "BEADLE17",
         "LIB",
         "Gary Johnson",
         "22.0"
        ],
        [
         "34",
         "BEADLEW1",
         "LIB",
         "Gary Johnson",
         "63.0"
        ],
        [
         "35",
         "BEADLEW2",
         "LIB",
         "Gary Johnson",
         "43.0"
        ],
        [
         "36",
         "BEADLEW3",
         "LIB",
         "Gary Johnson",
         "29.0"
        ],
        [
         "37",
         "BEADLEW7-1",
         "LIB",
         "Gary Johnson",
         "33.0"
        ],
        [
         "38",
         "BEADLEW7-2",
         "LIB",
         "Gary Johnson",
         "35.0"
        ],
        [
         "39",
         "BEADLEW8-1",
         "LIB",
         "Gary Johnson",
         "27.0"
        ],
        [
         "40",
         "BEADLEW8-2",
         "LIB",
         "Gary Johnson",
         "30.0"
        ],
        [
         "41",
         "BEADLETOTAL",
         "LIB",
         "Gary Johnson",
         "323.0"
        ],
        [
         "42",
         "BEADLE12",
         "DEM",
         "Hillary Clinton",
         "181.0"
        ],
        [
         "43",
         "BEADLE15",
         "DEM",
         "Hillary Clinton",
         "28.0"
        ],
        [
         "44",
         "BEADLE17",
         "DEM",
         "Hillary Clinton",
         "60.0"
        ],
        [
         "45",
         "BEADLEW1",
         "DEM",
         "Hillary Clinton",
         "330.0"
        ],
        [
         "46",
         "BEADLEW2",
         "DEM",
         "Hillary Clinton",
         "230.0"
        ],
        [
         "47",
         "BEADLEW3",
         "DEM",
         "Hillary Clinton",
         "212.0"
        ],
        [
         "48",
         "BEADLEW7-1",
         "DEM",
         "Hillary Clinton",
         "223.0"
        ],
        [
         "49",
         "BEADLEW7-2",
         "DEM",
         "Hillary Clinton",
         "212.0"
        ]
       ],
       "shape": {
        "columns": 4,
        "rows": 3073
       }
      },
      "text/html": [
       "<div>\n",
       "<style scoped>\n",
       "    .dataframe tbody tr th:only-of-type {\n",
       "        vertical-align: middle;\n",
       "    }\n",
       "\n",
       "    .dataframe tbody tr th {\n",
       "        vertical-align: top;\n",
       "    }\n",
       "\n",
       "    .dataframe thead th {\n",
       "        text-align: right;\n",
       "    }\n",
       "</style>\n",
       "<table border=\"1\" class=\"dataframe\">\n",
       "  <thead>\n",
       "    <tr style=\"text-align: right;\">\n",
       "      <th></th>\n",
       "      <th>precinct</th>\n",
       "      <th>party</th>\n",
       "      <th>candidate</th>\n",
       "      <th>votes</th>\n",
       "    </tr>\n",
       "  </thead>\n",
       "  <tbody>\n",
       "    <tr>\n",
       "      <th>0</th>\n",
       "      <td>AURORA1</td>\n",
       "      <td>REP</td>\n",
       "      <td>Donald J. Trump</td>\n",
       "      <td>230.0</td>\n",
       "    </tr>\n",
       "    <tr>\n",
       "      <th>1</th>\n",
       "      <td>AURORA2</td>\n",
       "      <td>REP</td>\n",
       "      <td>Donald J. Trump</td>\n",
       "      <td>120.0</td>\n",
       "    </tr>\n",
       "    <tr>\n",
       "      <th>2</th>\n",
       "      <td>AURORA3</td>\n",
       "      <td>REP</td>\n",
       "      <td>Donald J. Trump</td>\n",
       "      <td>290.0</td>\n",
       "    </tr>\n",
       "    <tr>\n",
       "      <th>3</th>\n",
       "      <td>AURORA5</td>\n",
       "      <td>REP</td>\n",
       "      <td>Donald J. Trump</td>\n",
       "      <td>128.0</td>\n",
       "    </tr>\n",
       "    <tr>\n",
       "      <th>4</th>\n",
       "      <td>AURORA7</td>\n",
       "      <td>REP</td>\n",
       "      <td>Donald J. Trump</td>\n",
       "      <td>206.0</td>\n",
       "    </tr>\n",
       "    <tr>\n",
       "      <th>...</th>\n",
       "      <td>...</td>\n",
       "      <td>...</td>\n",
       "      <td>...</td>\n",
       "      <td>...</td>\n",
       "    </tr>\n",
       "    <tr>\n",
       "      <th>3068</th>\n",
       "      <td>ZIEBACHPRECINCT-3 DAVIS</td>\n",
       "      <td>CON</td>\n",
       "      <td>Darrell L. Castle</td>\n",
       "      <td>5.0</td>\n",
       "    </tr>\n",
       "    <tr>\n",
       "      <th>3069</th>\n",
       "      <td>ZIEBACHPRECINCT-4 GLAD VALLEY</td>\n",
       "      <td>CON</td>\n",
       "      <td>Darrell L. Castle</td>\n",
       "      <td>0.0</td>\n",
       "    </tr>\n",
       "    <tr>\n",
       "      <th>3070</th>\n",
       "      <td>ZIEBACHPRECINCT-6 REDELM (PRECINCT-5 NORTH DUP...</td>\n",
       "      <td>CON</td>\n",
       "      <td>Darrell L. Castle</td>\n",
       "      <td>10.0</td>\n",
       "    </tr>\n",
       "    <tr>\n",
       "      <th>3071</th>\n",
       "      <td>ZIEBACHPRECINCT-7 RED SCAFFOLD</td>\n",
       "      <td>CON</td>\n",
       "      <td>Darrell L. Castle</td>\n",
       "      <td>3.0</td>\n",
       "    </tr>\n",
       "    <tr>\n",
       "      <th>3072</th>\n",
       "      <td>ZIEBACHTOTAL</td>\n",
       "      <td>CON</td>\n",
       "      <td>Darrell L. Castle</td>\n",
       "      <td>18.0</td>\n",
       "    </tr>\n",
       "  </tbody>\n",
       "</table>\n",
       "<p>3073 rows × 4 columns</p>\n",
       "</div>"
      ],
      "text/plain": [
       "                                               precinct party  \\\n",
       "0                                               AURORA1   REP   \n",
       "1                                               AURORA2   REP   \n",
       "2                                               AURORA3   REP   \n",
       "3                                               AURORA5   REP   \n",
       "4                                               AURORA7   REP   \n",
       "...                                                 ...   ...   \n",
       "3068                            ZIEBACHPRECINCT-3 DAVIS   CON   \n",
       "3069                      ZIEBACHPRECINCT-4 GLAD VALLEY   CON   \n",
       "3070  ZIEBACHPRECINCT-6 REDELM (PRECINCT-5 NORTH DUP...   CON   \n",
       "3071                     ZIEBACHPRECINCT-7 RED SCAFFOLD   CON   \n",
       "3072                                       ZIEBACHTOTAL   CON   \n",
       "\n",
       "              candidate  votes  \n",
       "0       Donald J. Trump  230.0  \n",
       "1       Donald J. Trump  120.0  \n",
       "2       Donald J. Trump  290.0  \n",
       "3       Donald J. Trump  128.0  \n",
       "4       Donald J. Trump  206.0  \n",
       "...                 ...    ...  \n",
       "3068  Darrell L. Castle    5.0  \n",
       "3069  Darrell L. Castle    0.0  \n",
       "3070  Darrell L. Castle   10.0  \n",
       "3071  Darrell L. Castle    3.0  \n",
       "3072  Darrell L. Castle   18.0  \n",
       "\n",
       "[3073 rows x 4 columns]"
      ]
     },
     "execution_count": 16,
     "metadata": {},
     "output_type": "execute_result"
    }
   ],
   "source": [
    "# Select only the relevant columns\n",
    "general_data = gen_combined_df[[\"precinct\", \"party\", \"candidate\", \"votes\"]]\n",
    "\n",
    "general_data"
   ]
  },
  {
   "cell_type": "code",
   "execution_count": 17,
   "id": "38fba0f1",
   "metadata": {},
   "outputs": [
    {
     "name": "stderr",
     "output_type": "stream",
     "text": [
      "C:\\Users\\ADMIN\\AppData\\Local\\Temp\\ipykernel_36512\\1743146100.py:2: SettingWithCopyWarning: \n",
      "A value is trying to be set on a copy of a slice from a DataFrame.\n",
      "Try using .loc[row_indexer,col_indexer] = value instead\n",
      "\n",
      "See the caveats in the documentation: https://pandas.pydata.org/pandas-docs/stable/user_guide/indexing.html#returning-a-view-versus-a-copy\n",
      "  general_data[\"candidate\"] = general_data[\"candidate\"].astype(str).str.upper()\n"
     ]
    },
    {
     "data": {
      "application/vnd.microsoft.datawrangler.viewer.v0+json": {
       "columns": [
        {
         "name": "candidate",
         "rawType": "object",
         "type": "string"
        },
        {
         "name": "count",
         "rawType": "int64",
         "type": "integer"
        }
       ],
       "ref": "e955d440-0b8d-4a79-87bf-0d2c76c02145",
       "rows": [
        [
         "GARY JOHNSON",
         "716"
        ],
        [
         "HILLARY CLINTON",
         "716"
        ],
        [
         "DONALD J. TRUMP",
         "644"
        ],
        [
         "DARRELL L. CASTLE",
         "644"
        ],
        [
         "DONALD TRUMP",
         "72"
        ],
        [
         "DARRELL CASTLE",
         "72"
        ],
        [
         "TRUMP & PENCE",
         "51"
        ],
        [
         "JOHNSON & WELD",
         "30"
        ],
        [
         "CLINTON & KAINE",
         "30"
        ],
        [
         "CASTLE & BRADLEY",
         "30"
        ],
        [
         "JOHNSON ND WELD",
         "21"
        ],
        [
         "CALINTON & KAINE",
         "21"
        ],
        [
         "CASTLE AND BRADLEY",
         "21"
        ],
        [
         "NAN",
         "5"
        ]
       ],
       "shape": {
        "columns": 1,
        "rows": 14
       }
      },
      "text/plain": [
       "candidate\n",
       "GARY JOHNSON          716\n",
       "HILLARY CLINTON       716\n",
       "DONALD J. TRUMP       644\n",
       "DARRELL L. CASTLE     644\n",
       "DONALD TRUMP           72\n",
       "DARRELL CASTLE         72\n",
       "TRUMP & PENCE          51\n",
       "JOHNSON & WELD         30\n",
       "CLINTON & KAINE        30\n",
       "CASTLE & BRADLEY       30\n",
       "JOHNSON ND WELD        21\n",
       "CALINTON & KAINE       21\n",
       "CASTLE AND BRADLEY     21\n",
       "NAN                     5\n",
       "Name: count, dtype: int64"
      ]
     },
     "execution_count": 17,
     "metadata": {},
     "output_type": "execute_result"
    }
   ],
   "source": [
    "# Viewing candidate data\n",
    "general_data[\"candidate\"] = general_data[\"candidate\"].astype(str).str.upper()\n",
    "general_data[\"candidate\"].value_counts(dropna=False)"
   ]
  },
  {
   "cell_type": "code",
   "execution_count": 20,
   "id": "90417a20",
   "metadata": {},
   "outputs": [
    {
     "data": {
      "application/vnd.microsoft.datawrangler.viewer.v0+json": {
       "columns": [
        {
         "name": "candidate",
         "rawType": "object",
         "type": "string"
        },
        {
         "name": "count",
         "rawType": "int64",
         "type": "integer"
        }
       ],
       "ref": "f0b2c689-b720-47e7-b506-4ee71955ee14",
       "rows": [
        [
         "TRUMP",
         "767"
        ],
        [
         "JOHNSON",
         "767"
        ],
        [
         "CLINTON",
         "767"
        ],
        [
         "CASTLE",
         "767"
        ]
       ],
       "shape": {
        "columns": 1,
        "rows": 4
       }
      },
      "text/plain": [
       "candidate\n",
       "TRUMP      767\n",
       "JOHNSON    767\n",
       "CLINTON    767\n",
       "CASTLE     767\n",
       "Name: count, dtype: int64"
      ]
     },
     "execution_count": 20,
     "metadata": {},
     "output_type": "execute_result"
    }
   ],
   "source": [
    "# Cleaning Candidates\n",
    "\n",
    "# Turning all general data to uppercase\n",
    "general_data[\"candidate\"] = general_data[\"candidate\"].astype(str).str.upper()\n",
    "\n",
    "\n",
    "unwanted_keywords = [\n",
    "    r\"\\w*VOTE\\w*\",\n",
    "    r\"\\w*UNCOM\\w*\",\n",
    "    r\"\\w*TOTAL\\w*\",\n",
    "    r\"NAN\",\n",
    "    r\"UNCERTIFIED\",\n",
    "    r\"UNVERIFIED\",\n",
    "    r\"NONE OF THE ABOVE\",\n",
    "    r\"LBT\",\n",
    "    r\"DEM\",\n",
    "    r\"REP\",\n",
    "    r\"GRN\",\n",
    "    r\"NAN\",\n",
    "    r\"\\w*CANDIDATES\\w*\",\n",
    "    \"SCATTERING\"\n",
    "]\n",
    "\n",
    "# Fixing FUENTE\n",
    "general_data.loc[\n",
    "    general_data[\"candidate\"].str.contains(\"\\w*FUENTE\\w*\", case=False, na=False),\n",
    "    \"candidate\"\n",
    "] = \"FUENTE\"\n",
    "pattern = \"|\".join(unwanted_keywords)\n",
    "\n",
    "# FILTER OUT TRASH WORDS\n",
    "general_data = general_data[~general_data[\"candidate\"].str.upper().str.contains(pattern, regex=True, na=False)]\n",
    "\n",
    "# # Fixing Darrell Castle\"\n",
    "general_data.loc[\n",
    "    general_data[\"candidate\"].str.contains(\"\\w*BRADLEY\\w*\", case=False, na=False),\n",
    "    \"candidate\"\n",
    "] = \"CASTLE\"\n",
    "\n",
    "general_data.loc[\n",
    "    general_data[\"candidate\"].str.contains(\"\\w*ATUREN\\w*\", case=False, na=False),\n",
    "    \"candidate\"\n",
    "] = \"MATUREN\"\n",
    "\n",
    "general_data.loc[\n",
    "    general_data[\"candidate\"].str.contains(\"\\w*OLTYSIK\\w*\", case=False, na=False),\n",
    "    \"candidate\"\n",
    "] = \"SOLTYSIK\"\n",
    "\n",
    "general_data.loc[\n",
    "    general_data[\"candidate\"].str.contains(\"\\w*WELD\\w*\", case=False, na=False),\n",
    "    \"candidate\"\n",
    "] = \"JOHNSON\"\n",
    "\n",
    "general_data.loc[\n",
    "    general_data[\"candidate\"].str.contains(\"\\w*MALDONADO\\w*\", case=False, na=False),\n",
    "    \"candidate\"\n",
    "] = \"MALDONADO\"\n",
    "\n",
    "# # Fixing mixed president + vice_president by /\n",
    "# general_data[\"candidate\"] = (\n",
    "#     general_data[\"candidate\"].str.split(\"/\")\n",
    "#     .str[0]\n",
    "#     .str.strip()\n",
    "#     )\n",
    "\n",
    "# #Selecting only last name\n",
    "# general_data[\"candidate\"] = general_data[\"candidate\"].str.split().str[-1]\n",
    "\n",
    "# Fixing the & candidate\n",
    "general_data[\"candidate\"] = (\n",
    "    general_data[\"candidate\"].str.split(\"&\")\n",
    "    .str[0]\n",
    "    .str.strip()\n",
    "    )\n",
    "\n",
    "\n",
    "# # Fixing Cubbler\n",
    "# general_data.loc[\n",
    "#     ( \n",
    "#         general_data[\"candidate\"].str.contains(\"\\w*UBBIER\\w*\", case=False, na=False)|\n",
    "#         general_data[\"candidate\"].str.contains(\"\\w*UBLER\\w*\", case=False, na=False)|\n",
    "#         general_data[\"candidate\"].str.contains(\"\\w*OBBLER\\w*\", case=False, na=False),\n",
    "#     \"candidate\")\n",
    "# ] = \"CUBBLER\"\n",
    "\n",
    "\n",
    "# Fixing Kotlikoff\n",
    "general_data.loc[\n",
    "    general_data[\"candidate\"].str.contains(\"\\w*LIKOFF\\w*\", case=False, na=False),\n",
    "    \"candidate\"\n",
    "] = \"KOTLIKOFF\"\n",
    "\n",
    "# Fixing Valdivia\n",
    "general_data.loc[\n",
    "    general_data[\"candidate\"].str.contains(\"\\w*KENISTON\\W*\", case=False, na=False),\n",
    "    \"candidate\"\n",
    "] = \"KENISTON\"\n",
    "\n",
    "# Fixing HOEFLING\n",
    "general_data.loc[\n",
    "    general_data[\"candidate\"].str.contains(\"\\w*HOEFFLING\", case=False, na=False),\n",
    "    \"candidate\"\n",
    "] = \"HOEFLING\"\n",
    "\n",
    "general_data.loc[\n",
    "    general_data[\"candidate\"].str.contains(\"\\w*SCHOENKE\", case=False, na=False),\n",
    "    \"candidate\"\n",
    "] = \"SCHOENKE\"\n",
    "\n",
    "\n",
    "# Fixing McMullin\n",
    "general_data.loc[\n",
    "    general_data[\"candidate\"].str.contains(\"MCMULLIN\", case=False, na=False) ,\n",
    "    \"candidate\"\n",
    "] = \"MCMULLIN\"\n",
    "\n",
    "general_data.loc[\n",
    "    general_data[\"candidate\"].str.contains(\"FOX\", case=False, na=False) ,\n",
    "    \"candidate\"\n",
    "] = \"FOX\"\n",
    "\n",
    "\n",
    "general_data.loc[\n",
    "    general_data[\"candidate\"].str.contains(\"CALINTON\", case=False, na=False) ,\n",
    "    \"candidate\"\n",
    "] = \"CLINTON\"\n",
    "\n",
    "# Fixing LASTNAME + First name Initial\n",
    "# general_data.loc[:,\"candidate\"] = (\n",
    "#     general_data[\"candidate\"].str.split().str[0].str.upper()\n",
    "# )\n",
    "\n",
    "\n",
    "# #Selecting only last name\n",
    "general_data[\"candidate\"] = general_data[\"candidate\"].str.split().str[-1]\n",
    "\n",
    "general_data[\"candidate\"].value_counts(dropna=False)"
   ]
  },
  {
   "cell_type": "code",
   "execution_count": 21,
   "id": "a22405a6",
   "metadata": {},
   "outputs": [
    {
     "data": {
      "application/vnd.microsoft.datawrangler.viewer.v0+json": {
       "columns": [
        {
         "name": "party",
         "rawType": "object",
         "type": "string"
        },
        {
         "name": "count",
         "rawType": "int64",
         "type": "integer"
        }
       ],
       "ref": "8e7e3b97-0ab4-4071-b9ea-e6fa8283a2e6",
       "rows": [
        [
         "REP",
         "767"
        ],
        [
         "DEM",
         "767"
        ],
        [
         "CON",
         "767"
        ],
        [
         "LIB",
         "695"
        ],
        [
         "LBT",
         "72"
        ]
       ],
       "shape": {
        "columns": 1,
        "rows": 5
       }
      },
      "text/plain": [
       "party\n",
       "REP    767\n",
       "DEM    767\n",
       "CON    767\n",
       "LIB    695\n",
       "LBT     72\n",
       "Name: count, dtype: int64"
      ]
     },
     "execution_count": 21,
     "metadata": {},
     "output_type": "execute_result"
    }
   ],
   "source": [
    "# Viewing Party\n",
    "general_data[\"party\"].value_counts(dropna=False)"
   ]
  },
  {
   "cell_type": "code",
   "execution_count": 22,
   "id": "21d7595b",
   "metadata": {},
   "outputs": [
    {
     "data": {
      "application/vnd.microsoft.datawrangler.viewer.v0+json": {
       "columns": [
        {
         "name": "party",
         "rawType": "object",
         "type": "string"
        },
        {
         "name": "count",
         "rawType": "int64",
         "type": "integer"
        }
       ],
       "ref": "64370799-55d3-4815-866c-5d234356d379",
       "rows": [
        [
         "REP",
         "767"
        ],
        [
         "DEM",
         "767"
        ],
        [
         "CON",
         "767"
        ],
        [
         "LIB",
         "695"
        ],
        [
         "LBT",
         "72"
        ]
       ],
       "shape": {
        "columns": 1,
        "rows": 5
       }
      },
      "text/plain": [
       "party\n",
       "REP    767\n",
       "DEM    767\n",
       "CON    767\n",
       "LIB    695\n",
       "LBT     72\n",
       "Name: count, dtype: int64"
      ]
     },
     "execution_count": 22,
     "metadata": {},
     "output_type": "execute_result"
    }
   ],
   "source": [
    "#=====================================\n",
    "# This function is used to look up party\n",
    "# for the candidate in the same df\n",
    "#=====================================\n",
    "def fill_party_from_data(row, df):\n",
    "    if pd.notna(row[\"party\"]):\n",
    "        return row[\"party\"]\n",
    "    \n",
    "    # Try to find other rows with the same candidate and known party\n",
    "    matches = df[(df[\"candidate\"] == row[\"candidate\"]) & (df[\"party\"].notna())]\n",
    "    if not matches.empty:\n",
    "        return matches[\"party\"].iloc[0]  # Return the first match's party\n",
    "    else:\n",
    "        return None  # Still unknown\n",
    "    \n",
    "\n",
    "#=====================================\n",
    "# Function to update the master candidate-party CSV\n",
    "#=====================================\n",
    "def update_master_candidate_party(df, master_path):\n",
    "    # Read the existing master file\n",
    "    master_df = pd.read_csv(master_path)\n",
    "\n",
    "    # Filter and combine only known party entries (exclude 'UNK')\n",
    "    new_data = (\n",
    "        df[[\"candidate\", \"party\"]]\n",
    "        .dropna()\n",
    "        .query('party != \"UNK\"')\n",
    "        .drop_duplicates()\n",
    "    )\n",
    "\n",
    "    # Merge with master and remove duplicates by candidate\n",
    "    updated_master = pd.concat([master_df, new_data]).drop_duplicates(subset=\"candidate\")\n",
    "\n",
    "    # Save updated version\n",
    "    updated_master.to_csv(master_path, index=False)\n",
    "\n",
    "\n",
    "#=====================================\n",
    "# Function to update the master candidate-party CSV\n",
    "#=====================================\n",
    "def update_master_candidate_party(df, master_path):\n",
    "    # Read the existing master file\n",
    "    master_df = pd.read_csv(master_path)\n",
    "\n",
    "    # Filter and combine only known party entries (exclude 'UNK')\n",
    "    new_data = (\n",
    "        df[[\"candidate\", \"party\"]]\n",
    "        .dropna()\n",
    "        .query('party != \"UNK\"')\n",
    "        .drop_duplicates()\n",
    "    )\n",
    "\n",
    "    # Merge with master and remove duplicates by candidate\n",
    "    updated_master = pd.concat([master_df, new_data]).drop_duplicates(subset=\"candidate\")\n",
    "\n",
    "    # Save updated version\n",
    "    updated_master.to_csv(master_path, index=False)\n",
    "\n",
    "\n",
    "#=====================================\n",
    "# Example usage (uncomment and modify for your workflow)\n",
    "#=====================================\n",
    "# Fill party using internal data\n",
    "# general_data[\"party\"] = general_data.apply(\n",
    "#     lambda row: fill_party_from_data(row, general_data),\n",
    "#     axis=1\n",
    "# )\n",
    "\n",
    "# # Fill remaining party using general master CSV\n",
    "# master_party_df = pd.read_csv(r\"C:\\Huy Phan\\College\\VoterTurnout\\data\\cleaned_data\\gen_can_party.csv\") # USE YOUR OWN ADDRESS\n",
    "# general_data = fill_party_from_master(general_data, master_party_df)\n",
    "general_data[\"party\"].value_counts(dropna=False)\n"
   ]
  },
  {
   "cell_type": "code",
   "execution_count": 23,
   "id": "8bb5d275",
   "metadata": {},
   "outputs": [
    {
     "data": {
      "application/vnd.microsoft.datawrangler.viewer.v0+json": {
       "columns": [
        {
         "name": "party",
         "rawType": "object",
         "type": "string"
        },
        {
         "name": "count",
         "rawType": "int64",
         "type": "integer"
        }
       ],
       "ref": "85d07562-c098-48f0-aa73-ec68ca2b77da",
       "rows": [
        [
         "REP",
         "767"
        ],
        [
         "LIB",
         "767"
        ],
        [
         "DEM",
         "767"
        ],
        [
         "CON",
         "767"
        ]
       ],
       "shape": {
        "columns": 1,
        "rows": 4
       }
      },
      "text/plain": [
       "party\n",
       "REP    767\n",
       "LIB    767\n",
       "DEM    767\n",
       "CON    767\n",
       "Name: count, dtype: int64"
      ]
     },
     "execution_count": 23,
     "metadata": {},
     "output_type": "execute_result"
    }
   ],
   "source": [
    "# Cleaning Party\n",
    "# Turning all general data party to uppercase\n",
    "general_data[\"party\"] = general_data[\"party\"].astype(str).str.upper()\n",
    "\n",
    "general_data[\"party\"] = (\n",
    "    general_data[\"party\"]\n",
    "    .replace({\n",
    "        \"REPUBLICAN\": \"REP\",\n",
    "        \"R\": \"REP\",\n",
    "        \"DEMOCRATIC\": \"DEM\",\n",
    "        \"DEMOCRAT\":\"DEM\",\n",
    "        \"DEM\": \"DEM\",\n",
    "        \"D\": \"DEM\",\n",
    "        \"GREEN\": \"GRN\",\n",
    "        \"G\": \"GRN\",\n",
    "        \"WGR\":\"GRN\",\n",
    "        \"GREEN AND RAINBOW\":\"GRN\",\n",
    "        \"GREEN-RAINBOW\":\"GRN\",\n",
    "        \"LIBERTARIAN\": \"LIB\",\n",
    "        \"LIBERTARIN\":\"LIB\",\n",
    "        \"LPN\":\"LIB\",\n",
    "        \"LBT\": \"LIB\",\n",
    "        \"L\": \"LIB\",\n",
    "        \"IAP\":\"CON\",\n",
    "        \"CONSTITUTION\": \"CON\",\n",
    "        \"AMERICAN DELTA\":\"AMD\",\n",
    "        \"PROHIBITION\":\"PRO\",\n",
    "        \"NP\": \"IND\",\n",
    "        \"NON\": \"IND\",\n",
    "        \"WRI\": \"IND\",\n",
    "        \"WRITE-IN\": \"IND\",\n",
    "        \"ONA\": \"IND\",\n",
    "        \"GEN\": \"IND\",\n",
    "        \"NONE\":\"UNK\",\n",
    "        \"NPA\":\"IND\",\n",
    "        \"UST\":\"CON\",\n",
    "        \"NPP\":\"IND\",\n",
    "        \"(WRITE-IN)\":\"IND\"\n",
    "    })\n",
    ")\n",
    "\n",
    "general_data[\"party\"].value_counts(dropna=False)"
   ]
  },
  {
   "cell_type": "code",
   "execution_count": 24,
   "id": "ff4a4970",
   "metadata": {},
   "outputs": [],
   "source": [
    "# UPDATE MASTER FILE, CAREFUL\n",
    "update_master_candidate_party(general_data, r\"C:\\Huy Phan\\College\\VoterTurnout\\data\\cleaned_data\\gen_can_party.csv\")"
   ]
  },
  {
   "cell_type": "code",
   "execution_count": 25,
   "id": "daaed088",
   "metadata": {},
   "outputs": [
    {
     "data": {
      "application/vnd.microsoft.datawrangler.viewer.v0+json": {
       "columns": [
        {
         "name": "index",
         "rawType": "int64",
         "type": "integer"
        },
        {
         "name": "precinct",
         "rawType": "object",
         "type": "string"
        },
        {
         "name": "gen_con_CASTLE",
         "rawType": "float64",
         "type": "float"
        },
        {
         "name": "gen_dem_CLINTON",
         "rawType": "float64",
         "type": "float"
        },
        {
         "name": "gen_lib_JOHNSON",
         "rawType": "float64",
         "type": "float"
        },
        {
         "name": "gen_rep_TRUMP",
         "rawType": "float64",
         "type": "float"
        }
       ],
       "ref": "c5eb1f56-d19d-42bf-9670-e535cbedeb50",
       "rows": [
        [
         "0",
         "AURORA1",
         "4.0",
         "62.0",
         "11.0",
         "230.0"
        ],
        [
         "1",
         "AURORA2",
         "3.0",
         "23.0",
         "7.0",
         "120.0"
        ],
        [
         "2",
         "AURORA3",
         "6.0",
         "101.0",
         "19.0",
         "290.0"
        ],
        [
         "3",
         "AURORA5",
         "1.0",
         "61.0",
         "11.0",
         "128.0"
        ],
        [
         "4",
         "AURORA7",
         "5.0",
         "93.0",
         "26.0",
         "206.0"
        ],
        [
         "5",
         "BEADLE12",
         "14.0",
         "181.0",
         "38.0",
         "616.0"
        ],
        [
         "6",
         "BEADLE15",
         "0.0",
         "28.0",
         "3.0",
         "223.0"
        ],
        [
         "7",
         "BEADLE17",
         "1.0",
         "60.0",
         "22.0",
         "202.0"
        ],
        [
         "8",
         "BEADLETOTAL",
         "82.0",
         "1912.0",
         "323.0",
         "4455.0"
        ],
        [
         "9",
         "BEADLEW1",
         "16.0",
         "330.0",
         "63.0",
         "817.0"
        ],
        [
         "10",
         "BEADLEW2",
         "12.0",
         "230.0",
         "43.0",
         "365.0"
        ],
        [
         "11",
         "BEADLEW3",
         "9.0",
         "212.0",
         "29.0",
         "377.0"
        ],
        [
         "12",
         "BEADLEW7-1",
         "5.0",
         "223.0",
         "33.0",
         "534.0"
        ],
        [
         "13",
         "BEADLEW7-2",
         "7.0",
         "212.0",
         "35.0",
         "505.0"
        ],
        [
         "14",
         "BEADLEW8-1",
         "7.0",
         "233.0",
         "27.0",
         "354.0"
        ],
        [
         "15",
         "BEADLEW8-2",
         "11.0",
         "203.0",
         "30.0",
         "462.0"
        ],
        [
         "16",
         "BENNETTALLEN",
         "2.0",
         "183.0",
         "11.0",
         "70.0"
        ],
        [
         "17",
         "BENNETTMARTIN CITY",
         "8.0",
         "121.0",
         "21.0",
         "211.0"
        ],
        [
         "18",
         "BENNETTMARTIN RURAL 26/27",
         "4.0",
         "101.0",
         "13.0",
         "235.0"
        ],
        [
         "19",
         "BENNETTTOTAL",
         "14.0",
         "412.0",
         "57.0",
         "666.0"
        ],
        [
         "20",
         "BENNETTVETAL/TUTHILL",
         "0.0",
         "7.0",
         "12.0",
         "150.0"
        ],
        [
         "21",
         "BON HOMME1",
         "6.0",
         "105.0",
         "29.0",
         "439.0"
        ],
        [
         "22",
         "BON HOMME2",
         "11.0",
         "108.0",
         "16.0",
         "371.0"
        ],
        [
         "23",
         "BON HOMME3",
         "8.0",
         "208.0",
         "30.0",
         "471.0"
        ],
        [
         "24",
         "BON HOMME4",
         "6.0",
         "156.0",
         "32.0",
         "337.0"
        ],
        [
         "25",
         "BON HOMME5",
         "5.0",
         "127.0",
         "22.0",
         "487.0"
        ],
        [
         "26",
         "BON HOMMETOTAL",
         "36.0",
         "704.0",
         "129.0",
         "2105.0"
        ],
        [
         "27",
         "BROOKINGS1-1 BROOKINGS ACTIVITY CENTER",
         "27.0",
         "724.0",
         "161.0",
         "646.0"
        ],
        [
         "28",
         "BROOKINGS1-10 VOLGA COMMUNITY CENTER",
         "9.0",
         "230.0",
         "66.0",
         "565.0"
        ],
        [
         "29",
         "BROOKINGS1-11 HOLY LIFE TABERNACLE",
         "13.0",
         "319.0",
         "69.0",
         "490.0"
        ],
        [
         "30",
         "BROOKINGS1-2 BETHEL BAPTIST CHURCH",
         "31.0",
         "753.0",
         "143.0",
         "1068.0"
        ],
        [
         "31",
         "BROOKINGS1-3 SWIFTEL CENTER",
         "5.0",
         "240.0",
         "72.0",
         "378.0"
        ],
        [
         "32",
         "BROOKINGS1-4 AURORA LITTLE HALL",
         "9.0",
         "144.0",
         "37.0",
         "324.0"
        ],
        [
         "33",
         "BROOKINGS1-5 ELKTON COMMUNITY CENTER",
         "6.0",
         "74.0",
         "17.0",
         "267.0"
        ],
        [
         "34",
         "BROOKINGS1-6 MCKNIGHT HALL",
         "3.0",
         "111.0",
         "26.0",
         "361.0"
        ],
        [
         "35",
         "BROOKINGS1-7 BRUCE CITY HALL",
         "6.0",
         "76.0",
         "21.0",
         "243.0"
        ],
        [
         "36",
         "BROOKINGS1-8 TRINITY LUTHERAN CHURCH",
         "1.0",
         "48.0",
         "4.0",
         "83.0"
        ],
        [
         "37",
         "BROOKINGS1-9 SINAI AMERICAN LEGION",
         "3.0",
         "38.0",
         "10.0",
         "140.0"
        ],
        [
         "38",
         "BROOKINGSABSENTEE PRECINCT",
         "59.0",
         "2122.0",
         "255.0",
         "2183.0"
        ],
        [
         "39",
         "BROOKINGSTOTAL",
         "172.0",
         "4879.0",
         "881.0",
         "6748.0"
        ],
        [
         "40",
         "BROWNABSENTEE PRECINCT",
         "59.0",
         "2337.0",
         "274.0",
         "3338.0"
        ],
        [
         "41",
         "BROWNAMERICINN EVENT CENTER",
         "14.0",
         "753.0",
         "183.0",
         "1554.0"
        ],
        [
         "42",
         "BROWNBEST WESTERN RAMKOTA HOTEL AND CONVENTION CENTER",
         "19.0",
         "766.0",
         "157.0",
         "1707.0"
        ],
        [
         "43",
         "BROWNCLAREMONT FIRE STATION",
         "2.0",
         "61.0",
         "3.0",
         "92.0"
        ],
        [
         "44",
         "BROWNCOLUMBIA AMERICAN LEGION",
         "2.0",
         "72.0",
         "8.0",
         "181.0"
        ],
        [
         "45",
         "BROWNCOURTHOUSE COUMMUNITY ROOM",
         "23.0",
         "795.0",
         "191.0",
         "1348.0"
        ],
        [
         "46",
         "BROWNFREDERICK COMMUNITY CENTER",
         "0.0",
         "78.0",
         "11.0",
         "169.0"
        ],
        [
         "47",
         "BROWNGROTON COMMUNITY CENTER",
         "5.0",
         "230.0",
         "40.0",
         "528.0"
        ],
        [
         "48",
         "BROWNHEDA COMMUNITY CENTER",
         "1.0",
         "77.0",
         "7.0",
         "142.0"
        ],
        [
         "49",
         "BROWNSTRATFORD COMMUNITY CENTER",
         "3.0",
         "58.0",
         "17.0",
         "98.0"
        ]
       ],
       "shape": {
        "columns": 5,
        "rows": 767
       }
      },
      "text/html": [
       "<div>\n",
       "<style scoped>\n",
       "    .dataframe tbody tr th:only-of-type {\n",
       "        vertical-align: middle;\n",
       "    }\n",
       "\n",
       "    .dataframe tbody tr th {\n",
       "        vertical-align: top;\n",
       "    }\n",
       "\n",
       "    .dataframe thead th {\n",
       "        text-align: right;\n",
       "    }\n",
       "</style>\n",
       "<table border=\"1\" class=\"dataframe\">\n",
       "  <thead>\n",
       "    <tr style=\"text-align: right;\">\n",
       "      <th>candidate_column</th>\n",
       "      <th>precinct</th>\n",
       "      <th>gen_con_CASTLE</th>\n",
       "      <th>gen_dem_CLINTON</th>\n",
       "      <th>gen_lib_JOHNSON</th>\n",
       "      <th>gen_rep_TRUMP</th>\n",
       "    </tr>\n",
       "  </thead>\n",
       "  <tbody>\n",
       "    <tr>\n",
       "      <th>0</th>\n",
       "      <td>AURORA1</td>\n",
       "      <td>4.0</td>\n",
       "      <td>62.0</td>\n",
       "      <td>11.0</td>\n",
       "      <td>230.0</td>\n",
       "    </tr>\n",
       "    <tr>\n",
       "      <th>1</th>\n",
       "      <td>AURORA2</td>\n",
       "      <td>3.0</td>\n",
       "      <td>23.0</td>\n",
       "      <td>7.0</td>\n",
       "      <td>120.0</td>\n",
       "    </tr>\n",
       "    <tr>\n",
       "      <th>2</th>\n",
       "      <td>AURORA3</td>\n",
       "      <td>6.0</td>\n",
       "      <td>101.0</td>\n",
       "      <td>19.0</td>\n",
       "      <td>290.0</td>\n",
       "    </tr>\n",
       "    <tr>\n",
       "      <th>3</th>\n",
       "      <td>AURORA5</td>\n",
       "      <td>1.0</td>\n",
       "      <td>61.0</td>\n",
       "      <td>11.0</td>\n",
       "      <td>128.0</td>\n",
       "    </tr>\n",
       "    <tr>\n",
       "      <th>4</th>\n",
       "      <td>AURORA7</td>\n",
       "      <td>5.0</td>\n",
       "      <td>93.0</td>\n",
       "      <td>26.0</td>\n",
       "      <td>206.0</td>\n",
       "    </tr>\n",
       "    <tr>\n",
       "      <th>...</th>\n",
       "      <td>...</td>\n",
       "      <td>...</td>\n",
       "      <td>...</td>\n",
       "      <td>...</td>\n",
       "      <td>...</td>\n",
       "    </tr>\n",
       "    <tr>\n",
       "      <th>762</th>\n",
       "      <td>ZIEBACHPRECINCT-3 DAVIS</td>\n",
       "      <td>5.0</td>\n",
       "      <td>99.0</td>\n",
       "      <td>12.0</td>\n",
       "      <td>67.0</td>\n",
       "    </tr>\n",
       "    <tr>\n",
       "      <th>763</th>\n",
       "      <td>ZIEBACHPRECINCT-4 GLAD VALLEY</td>\n",
       "      <td>0.0</td>\n",
       "      <td>10.0</td>\n",
       "      <td>0.0</td>\n",
       "      <td>59.0</td>\n",
       "    </tr>\n",
       "    <tr>\n",
       "      <th>764</th>\n",
       "      <td>ZIEBACHPRECINCT-6 REDELM (PRECINCT-5 NORTH DUP...</td>\n",
       "      <td>10.0</td>\n",
       "      <td>112.0</td>\n",
       "      <td>14.0</td>\n",
       "      <td>215.0</td>\n",
       "    </tr>\n",
       "    <tr>\n",
       "      <th>765</th>\n",
       "      <td>ZIEBACHPRECINCT-7 RED SCAFFOLD</td>\n",
       "      <td>3.0</td>\n",
       "      <td>36.0</td>\n",
       "      <td>1.0</td>\n",
       "      <td>13.0</td>\n",
       "    </tr>\n",
       "    <tr>\n",
       "      <th>766</th>\n",
       "      <td>ZIEBACHTOTAL</td>\n",
       "      <td>18.0</td>\n",
       "      <td>353.0</td>\n",
       "      <td>28.0</td>\n",
       "      <td>368.0</td>\n",
       "    </tr>\n",
       "  </tbody>\n",
       "</table>\n",
       "<p>767 rows × 5 columns</p>\n",
       "</div>"
      ],
      "text/plain": [
       "candidate_column                                           precinct  \\\n",
       "0                                                           AURORA1   \n",
       "1                                                           AURORA2   \n",
       "2                                                           AURORA3   \n",
       "3                                                           AURORA5   \n",
       "4                                                           AURORA7   \n",
       "..                                                              ...   \n",
       "762                                         ZIEBACHPRECINCT-3 DAVIS   \n",
       "763                                   ZIEBACHPRECINCT-4 GLAD VALLEY   \n",
       "764               ZIEBACHPRECINCT-6 REDELM (PRECINCT-5 NORTH DUP...   \n",
       "765                                  ZIEBACHPRECINCT-7 RED SCAFFOLD   \n",
       "766                                                    ZIEBACHTOTAL   \n",
       "\n",
       "candidate_column  gen_con_CASTLE  gen_dem_CLINTON  gen_lib_JOHNSON  \\\n",
       "0                            4.0             62.0             11.0   \n",
       "1                            3.0             23.0              7.0   \n",
       "2                            6.0            101.0             19.0   \n",
       "3                            1.0             61.0             11.0   \n",
       "4                            5.0             93.0             26.0   \n",
       "..                           ...              ...              ...   \n",
       "762                          5.0             99.0             12.0   \n",
       "763                          0.0             10.0              0.0   \n",
       "764                         10.0            112.0             14.0   \n",
       "765                          3.0             36.0              1.0   \n",
       "766                         18.0            353.0             28.0   \n",
       "\n",
       "candidate_column  gen_rep_TRUMP  \n",
       "0                         230.0  \n",
       "1                         120.0  \n",
       "2                         290.0  \n",
       "3                         128.0  \n",
       "4                         206.0  \n",
       "..                          ...  \n",
       "762                        67.0  \n",
       "763                        59.0  \n",
       "764                       215.0  \n",
       "765                        13.0  \n",
       "766                       368.0  \n",
       "\n",
       "[767 rows x 5 columns]"
      ]
     },
     "execution_count": 25,
     "metadata": {},
     "output_type": "execute_result"
    }
   ],
   "source": [
    "general_data[\"candidate_column\"] = (\n",
    "    \"gen_\" +\n",
    "    general_data[\"party\"].str.lower() + \"_\" +\n",
    "    general_data[\"candidate\"].str.split().str[-1].str.upper()\n",
    ")\n",
    "\n",
    "# pivot the table\n",
    "general_result = general_data.pivot_table(\n",
    "    index=\"precinct\",\n",
    "    columns=\"candidate_column\",\n",
    "    values=\"votes\",\n",
    "    aggfunc=\"sum\",  \n",
    "    fill_value=0\n",
    ").reset_index()\n",
    "\n",
    "general_result"
   ]
  },
  {
   "cell_type": "code",
   "execution_count": 26,
   "id": "6686d34b",
   "metadata": {},
   "outputs": [],
   "source": [
    "# Merge\n",
    "combined = pd.merge(primary_result, general_result, on=\"precinct\", how=\"inner\")\n",
    "\n",
    "# Convert DEM primary columns to numeric and calculate total\n",
    "dem_cols = combined.filter(like=\"pri_dem_\").columns\n",
    "combined[dem_cols] = combined[dem_cols].apply(pd.to_numeric, errors=\"coerce\")\n",
    "combined[\"dem_primary_total\"] = combined[dem_cols].sum(axis=1)\n",
    "\n",
    "# Convert general election columns to numeric and calculate total\n",
    "gen_cols = combined.filter(like=\"gen_\").columns\n",
    "combined[gen_cols] = combined[gen_cols].apply(pd.to_numeric, errors=\"coerce\")\n",
    "combined[\"general_total\"] = combined[gen_cols].sum(axis=1)\n",
    "\n",
    "# Convert all numeric columns to int\n",
    "for col in combined.columns[1:]:\n",
    "    combined[col] = pd.to_numeric(combined[col], errors='coerce').fillna(0).astype(int)\n",
    "\n",
    "# Identify filtered-out precincts\n",
    "primary_precincts = set(primary_result[\"precinct\"])\n",
    "general_precincts = set(general_result[\"precinct\"])\n",
    "combined_precincts = set(combined[\"precinct\"])\n",
    "\n",
    "primary_filtered_out = primary_precincts - combined_precincts\n",
    "general_filtered_out = general_precincts - combined_precincts\n",
    "\n",
    "\n"
   ]
  },
  {
   "cell_type": "code",
   "execution_count": 27,
   "id": "a6797e92",
   "metadata": {},
   "outputs": [],
   "source": [
    "\n",
    "\n",
    "combined.to_csv(\"SD.csv\", index=False)\n",
    "# Step 3: Identify unmatched precincts and retrieve full rows\n",
    "combined_precincts = set(combined[\"precinct\"])\n",
    "\n",
    "# Rows in primary_result but not in combined\n",
    "primary_filtered_out = primary_result[~primary_result[\"precinct\"].isin(combined_precincts)]\n",
    "primary_filtered_out.to_csv(\"SD_primary_filtered.csv\", index=False)\n",
    "\n",
    "# Rows in general_result but not in combined\n",
    "general_filtered_out = general_result[~general_result[\"precinct\"].isin(combined_precincts)]\n",
    "general_filtered_out.to_csv(\"SD_general_filtered.csv\", index=False)"
   ]
  },
  {
   "cell_type": "code",
   "execution_count": 28,
   "id": "b3d042ff",
   "metadata": {},
   "outputs": [
    {
     "name": "stdout",
     "output_type": "stream",
     "text": [
      "primary: 30, general: 767, combined: 26\n"
     ]
    }
   ],
   "source": [
    "print(f\"primary: {len(primary_precincts)}, general: {len(general_precincts)}, combined: {len(combined)}\")"
   ]
  },
  {
   "cell_type": "code",
   "execution_count": 30,
   "id": "9900725d",
   "metadata": {},
   "outputs": [
    {
     "name": "stdout",
     "output_type": "stream",
     "text": [
      "primary: 4, general: 66\n"
     ]
    }
   ],
   "source": [
    "print(f\"primary: {len(pri_combined_df['county'].unique())}, general: {len(gen_combined_df['county'].unique())}\")\n"
   ]
  },
  {
   "cell_type": "code",
   "execution_count": null,
   "id": "b12d639e",
   "metadata": {},
   "outputs": [
    {
     "data": {
      "text/plain": [
       "array(['Carson City', 'Churchill', 'Clark', 'Douglas', 'Elko',\n",
       "       'Esmeralda', 'Eureka', 'Humboldt', 'Lander', 'Lincoln', 'Lyon',\n",
       "       'Mineral', 'Nye', 'ye', 'Pershing', 'Storey', 'Washoe',\n",
       "       'White Pine'], dtype=object)"
      ]
     },
     "execution_count": 57,
     "metadata": {},
     "output_type": "execute_result"
    }
   ],
   "source": [
    "pri_combined_df['jurisdiction'].unique()"
   ]
  },
  {
   "cell_type": "code",
   "execution_count": null,
   "id": "0fb1a12f",
   "metadata": {},
   "outputs": [
    {
     "data": {
      "text/plain": [
       "array(['CARSON CITY', 'CHURCHILL', 'CLARK', 'DOUGLAS', 'ELKO',\n",
       "       'ESMERALDA', 'EUREKA', 'HUMBOLDT', 'LANDER', 'LINCOLN', 'LYON',\n",
       "       'MINERAL', 'NYE', 'PERSHING', 'STOREY', 'WASHOE', 'WHITE PINE'],\n",
       "      dtype=object)"
      ]
     },
     "execution_count": 56,
     "metadata": {},
     "output_type": "execute_result"
    }
   ],
   "source": [
    "gen_combined_df['county'].unique()"
   ]
  },
  {
   "cell_type": "code",
   "execution_count": null,
   "id": "b28d499d",
   "metadata": {},
   "outputs": [
    {
     "name": "stdout",
     "output_type": "stream",
     "text": [
      "Counties in primary but not in general: 1\n",
      "{'YE'}\n"
     ]
    }
   ],
   "source": [
    "primary_counties = set(pri_combined_df['jurisdiction'].dropna().str.strip().str.upper())\n",
    "general_counties = set(gen_combined_df['county'].dropna().str.strip().str.upper())\n",
    "\n",
    "diff = primary_counties - general_counties\n",
    "print(f\"Counties in primary but not in general: {len(diff)}\")\n",
    "print(diff)\n"
   ]
  }
 ],
 "metadata": {
  "kernelspec": {
   "display_name": "Python 3",
   "language": "python",
   "name": "python3"
  },
  "language_info": {
   "codemirror_mode": {
    "name": "ipython",
    "version": 3
   },
   "file_extension": ".py",
   "mimetype": "text/x-python",
   "name": "python",
   "nbconvert_exporter": "python",
   "pygments_lexer": "ipython3",
   "version": "3.11.2"
  }
 },
 "nbformat": 4,
 "nbformat_minor": 5
}
