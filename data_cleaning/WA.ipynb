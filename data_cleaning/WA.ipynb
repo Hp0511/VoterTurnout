{
 "cells": [
  {
   "cell_type": "code",
   "execution_count": 1,
   "id": "ad1be0fa",
   "metadata": {},
   "outputs": [],
   "source": [
    "# Import all the libraries\n",
    "import pandas as pd\n",
    "import glob\n",
    "import os\n",
    "import re\n",
    "from pprint import pprint"
   ]
  },
  {
   "cell_type": "code",
   "execution_count": 2,
   "id": "c263c4df",
   "metadata": {},
   "outputs": [],
   "source": [
    "#Get all CSV files in the folder of GA\n",
    "all_files = glob.glob(r\"C:\\Huy Phan\\College\\VoterTurnout\\data\\WA\\2016\\*.csv\")\n",
    "\n",
    "# Files that contain both 'precinct' and 'general' in the filename\n",
    "general_files = [\n",
    "    f for f in all_files\n",
    "    if all(word in f.lower() for word in ['precinct', 'general'])\n",
    "]\n",
    "\n",
    "\n",
    "# Files that contain both 'precinct' and 'primary' in the filename\n",
    "primary_files = [\n",
    "    f for f in all_files\n",
    "    if all(word in f.lower() for word in ['precinct', 'primary', 'president'])\n",
    "]\n"
   ]
  },
  {
   "cell_type": "code",
   "execution_count": 3,
   "id": "60d49ea6",
   "metadata": {},
   "outputs": [
    {
     "name": "stdout",
     "output_type": "stream",
     "text": [
      "General files:\n",
      "C:\\Huy Phan\\College\\VoterTurnout\\data\\WA\\2016\\20160209__wa__special__general__precinct.csv\n",
      "C:\\Huy Phan\\College\\VoterTurnout\\data\\WA\\2016\\20160426__wa__special__general__precinct.csv\n",
      "C:\\Huy Phan\\College\\VoterTurnout\\data\\WA\\2016\\20161108__wa__general__precinct.csv\n"
     ]
    }
   ],
   "source": [
    "print(\"General files:\")\n",
    "for f in general_files:\n",
    "    print(f)\n"
   ]
  },
  {
   "cell_type": "code",
   "execution_count": 4,
   "id": "4ab13110",
   "metadata": {},
   "outputs": [
    {
     "name": "stdout",
     "output_type": "stream",
     "text": [
      "\n",
      "Primary files:\n",
      "C:\\Huy Phan\\College\\VoterTurnout\\data\\WA\\2016\\20160524__wa__primary_president__precinct.csv\n"
     ]
    }
   ],
   "source": [
    "print(\"\\nPrimary files:\")\n",
    "for f in primary_files:\n",
    "    print(f)"
   ]
  },
  {
   "cell_type": "code",
   "execution_count": 5,
   "id": "ff5df6c7",
   "metadata": {},
   "outputs": [
    {
     "data": {
      "application/vnd.microsoft.datawrangler.viewer.v0+json": {
       "columns": [
        {
         "name": "index",
         "rawType": "int64",
         "type": "integer"
        },
        {
         "name": "county",
         "rawType": "object",
         "type": "string"
        },
        {
         "name": "precinct_code",
         "rawType": "int64",
         "type": "integer"
        },
        {
         "name": "precinct",
         "rawType": "object",
         "type": "string"
        },
        {
         "name": "party",
         "rawType": "object",
         "type": "string"
        },
        {
         "name": "district",
         "rawType": "float64",
         "type": "float"
        },
        {
         "name": "candidate",
         "rawType": "object",
         "type": "string"
        },
        {
         "name": "votes",
         "rawType": "int64",
         "type": "integer"
        }
       ],
       "ref": "5a8a3ecb-0ae1-42f3-bf8e-6db85614d12e",
       "rows": [
        [
         "0",
         "KING",
         "3562",
         "KINGADAIR",
         "Democratic Party",
         null,
         "Bernie Sanders",
         "24"
        ],
        [
         "1",
         "KING",
         "3562",
         "KINGADAIR",
         "Democratic Party",
         null,
         "Hillary Clinton",
         "117"
        ],
        [
         "2",
         "KING",
         "3562",
         "KINGADAIR",
         "Democratic Party",
         null,
         "Registered Voters",
         "503"
        ],
        [
         "3",
         "KING",
         "3562",
         "KINGADAIR",
         "Democratic Party",
         null,
         "Write-In",
         "0"
        ],
        [
         "4",
         "KING",
         "3562",
         "KINGADAIR",
         "Republican Party",
         null,
         "Ben Carson",
         "1"
        ],
        [
         "5",
         "KING",
         "3562",
         "KINGADAIR",
         "Republican Party",
         null,
         "Donald J. Trump",
         "101"
        ],
        [
         "6",
         "KING",
         "3562",
         "KINGADAIR",
         "Republican Party",
         null,
         "John R. Kasich",
         "28"
        ],
        [
         "7",
         "KING",
         "3562",
         "KINGADAIR",
         "Republican Party",
         null,
         "Registered Voters",
         "503"
        ],
        [
         "8",
         "KING",
         "3562",
         "KINGADAIR",
         "Republican Party",
         null,
         "Ted Cruz",
         "8"
        ],
        [
         "9",
         "KING",
         "3562",
         "KINGADAIR",
         "Republican Party",
         null,
         "Write-In",
         "3"
        ],
        [
         "10",
         "KING",
         "2381",
         "KINGALDARRA",
         "Democratic Party",
         null,
         "Bernie Sanders",
         "62"
        ],
        [
         "11",
         "KING",
         "2381",
         "KINGALDARRA",
         "Democratic Party",
         null,
         "Hillary Clinton",
         "76"
        ],
        [
         "12",
         "KING",
         "2381",
         "KINGALDARRA",
         "Democratic Party",
         null,
         "Registered Voters",
         "757"
        ],
        [
         "13",
         "KING",
         "2381",
         "KINGALDARRA",
         "Democratic Party",
         null,
         "Write-In",
         "0"
        ],
        [
         "14",
         "KING",
         "2381",
         "KINGALDARRA",
         "Republican Party",
         null,
         "Ben Carson",
         "6"
        ],
        [
         "15",
         "KING",
         "2381",
         "KINGALDARRA",
         "Republican Party",
         null,
         "Donald J. Trump",
         "94"
        ],
        [
         "16",
         "KING",
         "2381",
         "KINGALDARRA",
         "Republican Party",
         null,
         "John R. Kasich",
         "11"
        ],
        [
         "17",
         "KING",
         "2381",
         "KINGALDARRA",
         "Republican Party",
         null,
         "Registered Voters",
         "757"
        ],
        [
         "18",
         "KING",
         "2381",
         "KINGALDARRA",
         "Republican Party",
         null,
         "Ted Cruz",
         "3"
        ],
        [
         "19",
         "KING",
         "2381",
         "KINGALDARRA",
         "Republican Party",
         null,
         "Write-In",
         "1"
        ],
        [
         "20",
         "KING",
         "3400",
         "KINGALDER SPRINGS",
         "Democratic Party",
         null,
         "Bernie Sanders",
         "58"
        ],
        [
         "21",
         "KING",
         "3400",
         "KINGALDER SPRINGS",
         "Democratic Party",
         null,
         "Hillary Clinton",
         "34"
        ],
        [
         "22",
         "KING",
         "3400",
         "KINGALDER SPRINGS",
         "Democratic Party",
         null,
         "Registered Voters",
         "574"
        ],
        [
         "23",
         "KING",
         "3400",
         "KINGALDER SPRINGS",
         "Democratic Party",
         null,
         "Write-In",
         "0"
        ],
        [
         "24",
         "KING",
         "3400",
         "KINGALDER SPRINGS",
         "Republican Party",
         null,
         "Ben Carson",
         "4"
        ],
        [
         "25",
         "KING",
         "3400",
         "KINGALDER SPRINGS",
         "Republican Party",
         null,
         "Donald J. Trump",
         "45"
        ],
        [
         "26",
         "KING",
         "3400",
         "KINGALDER SPRINGS",
         "Republican Party",
         null,
         "John R. Kasich",
         "9"
        ],
        [
         "27",
         "KING",
         "3400",
         "KINGALDER SPRINGS",
         "Republican Party",
         null,
         "Registered Voters",
         "574"
        ],
        [
         "28",
         "KING",
         "3400",
         "KINGALDER SPRINGS",
         "Republican Party",
         null,
         "Ted Cruz",
         "13"
        ],
        [
         "29",
         "KING",
         "3400",
         "KINGALDER SPRINGS",
         "Republican Party",
         null,
         "Write-In",
         "1"
        ],
        [
         "30",
         "KING",
         "10",
         "KINGALDERWOOD",
         "Democratic Party",
         null,
         "Bernie Sanders",
         "22"
        ],
        [
         "31",
         "KING",
         "10",
         "KINGALDERWOOD",
         "Democratic Party",
         null,
         "Hillary Clinton",
         "52"
        ],
        [
         "32",
         "KING",
         "10",
         "KINGALDERWOOD",
         "Democratic Party",
         null,
         "Registered Voters",
         "444"
        ],
        [
         "33",
         "KING",
         "10",
         "KINGALDERWOOD",
         "Democratic Party",
         null,
         "Write-In",
         "0"
        ],
        [
         "34",
         "KING",
         "10",
         "KINGALDERWOOD",
         "Republican Party",
         null,
         "Ben Carson",
         "2"
        ],
        [
         "35",
         "KING",
         "10",
         "KINGALDERWOOD",
         "Republican Party",
         null,
         "Donald J. Trump",
         "34"
        ],
        [
         "36",
         "KING",
         "10",
         "KINGALDERWOOD",
         "Republican Party",
         null,
         "John R. Kasich",
         "11"
        ],
        [
         "37",
         "KING",
         "10",
         "KINGALDERWOOD",
         "Republican Party",
         null,
         "Registered Voters",
         "444"
        ],
        [
         "38",
         "KING",
         "10",
         "KINGALDERWOOD",
         "Republican Party",
         null,
         "Ted Cruz",
         "6"
        ],
        [
         "39",
         "KING",
         "10",
         "KINGALDERWOOD",
         "Republican Party",
         null,
         "Write-In",
         "1"
        ],
        [
         "40",
         "KING",
         "13",
         "KINGALG 30-0013",
         "Democratic Party",
         null,
         "Bernie Sanders",
         "32"
        ],
        [
         "41",
         "KING",
         "13",
         "KINGALG 30-0013",
         "Democratic Party",
         null,
         "Hillary Clinton",
         "30"
        ],
        [
         "42",
         "KING",
         "13",
         "KINGALG 30-0013",
         "Democratic Party",
         null,
         "Registered Voters",
         "472"
        ],
        [
         "43",
         "KING",
         "13",
         "KINGALG 30-0013",
         "Democratic Party",
         null,
         "Write-In",
         "0"
        ],
        [
         "44",
         "KING",
         "13",
         "KINGALG 30-0013",
         "Republican Party",
         null,
         "Ben Carson",
         "2"
        ],
        [
         "45",
         "KING",
         "13",
         "KINGALG 30-0013",
         "Republican Party",
         null,
         "Donald J. Trump",
         "39"
        ],
        [
         "46",
         "KING",
         "13",
         "KINGALG 30-0013",
         "Republican Party",
         null,
         "John R. Kasich",
         "1"
        ],
        [
         "47",
         "KING",
         "13",
         "KINGALG 30-0013",
         "Republican Party",
         null,
         "Registered Voters",
         "472"
        ],
        [
         "48",
         "KING",
         "13",
         "KINGALG 30-0013",
         "Republican Party",
         null,
         "Ted Cruz",
         "2"
        ],
        [
         "49",
         "KING",
         "13",
         "KINGALG 30-0013",
         "Republican Party",
         null,
         "Write-In",
         "0"
        ]
       ],
       "shape": {
        "columns": 7,
        "rows": 52758
       }
      },
      "text/html": [
       "<div>\n",
       "<style scoped>\n",
       "    .dataframe tbody tr th:only-of-type {\n",
       "        vertical-align: middle;\n",
       "    }\n",
       "\n",
       "    .dataframe tbody tr th {\n",
       "        vertical-align: top;\n",
       "    }\n",
       "\n",
       "    .dataframe thead th {\n",
       "        text-align: right;\n",
       "    }\n",
       "</style>\n",
       "<table border=\"1\" class=\"dataframe\">\n",
       "  <thead>\n",
       "    <tr style=\"text-align: right;\">\n",
       "      <th></th>\n",
       "      <th>county</th>\n",
       "      <th>precinct_code</th>\n",
       "      <th>precinct</th>\n",
       "      <th>party</th>\n",
       "      <th>district</th>\n",
       "      <th>candidate</th>\n",
       "      <th>votes</th>\n",
       "    </tr>\n",
       "  </thead>\n",
       "  <tbody>\n",
       "    <tr>\n",
       "      <th>0</th>\n",
       "      <td>KING</td>\n",
       "      <td>3562</td>\n",
       "      <td>KINGADAIR</td>\n",
       "      <td>Democratic Party</td>\n",
       "      <td>NaN</td>\n",
       "      <td>Bernie Sanders</td>\n",
       "      <td>24</td>\n",
       "    </tr>\n",
       "    <tr>\n",
       "      <th>1</th>\n",
       "      <td>KING</td>\n",
       "      <td>3562</td>\n",
       "      <td>KINGADAIR</td>\n",
       "      <td>Democratic Party</td>\n",
       "      <td>NaN</td>\n",
       "      <td>Hillary Clinton</td>\n",
       "      <td>117</td>\n",
       "    </tr>\n",
       "    <tr>\n",
       "      <th>2</th>\n",
       "      <td>KING</td>\n",
       "      <td>3562</td>\n",
       "      <td>KINGADAIR</td>\n",
       "      <td>Democratic Party</td>\n",
       "      <td>NaN</td>\n",
       "      <td>Registered Voters</td>\n",
       "      <td>503</td>\n",
       "    </tr>\n",
       "    <tr>\n",
       "      <th>3</th>\n",
       "      <td>KING</td>\n",
       "      <td>3562</td>\n",
       "      <td>KINGADAIR</td>\n",
       "      <td>Democratic Party</td>\n",
       "      <td>NaN</td>\n",
       "      <td>Write-In</td>\n",
       "      <td>0</td>\n",
       "    </tr>\n",
       "    <tr>\n",
       "      <th>4</th>\n",
       "      <td>KING</td>\n",
       "      <td>3562</td>\n",
       "      <td>KINGADAIR</td>\n",
       "      <td>Republican Party</td>\n",
       "      <td>NaN</td>\n",
       "      <td>Ben Carson</td>\n",
       "      <td>1</td>\n",
       "    </tr>\n",
       "    <tr>\n",
       "      <th>...</th>\n",
       "      <td>...</td>\n",
       "      <td>...</td>\n",
       "      <td>...</td>\n",
       "      <td>...</td>\n",
       "      <td>...</td>\n",
       "      <td>...</td>\n",
       "      <td>...</td>\n",
       "    </tr>\n",
       "    <tr>\n",
       "      <th>52753</th>\n",
       "      <td>YAKIMA</td>\n",
       "      <td>5101</td>\n",
       "      <td>YAKIMA5101.38</td>\n",
       "      <td>President Republican Party</td>\n",
       "      <td>NaN</td>\n",
       "      <td>Donald J. Trump</td>\n",
       "      <td>72</td>\n",
       "    </tr>\n",
       "    <tr>\n",
       "      <th>52754</th>\n",
       "      <td>YAKIMA</td>\n",
       "      <td>5202</td>\n",
       "      <td>YAKIMA5202.473</td>\n",
       "      <td>President Republican Party</td>\n",
       "      <td>NaN</td>\n",
       "      <td>Ben Carson</td>\n",
       "      <td>0</td>\n",
       "    </tr>\n",
       "    <tr>\n",
       "      <th>52755</th>\n",
       "      <td>YAKIMA</td>\n",
       "      <td>5202</td>\n",
       "      <td>YAKIMA5202.473</td>\n",
       "      <td>President Republican Party</td>\n",
       "      <td>NaN</td>\n",
       "      <td>Ted Cruz</td>\n",
       "      <td>0</td>\n",
       "    </tr>\n",
       "    <tr>\n",
       "      <th>52756</th>\n",
       "      <td>YAKIMA</td>\n",
       "      <td>5202</td>\n",
       "      <td>YAKIMA5202.473</td>\n",
       "      <td>President Republican Party</td>\n",
       "      <td>NaN</td>\n",
       "      <td>John R. Kasich</td>\n",
       "      <td>0</td>\n",
       "    </tr>\n",
       "    <tr>\n",
       "      <th>52757</th>\n",
       "      <td>YAKIMA</td>\n",
       "      <td>5202</td>\n",
       "      <td>YAKIMA5202.473</td>\n",
       "      <td>President Republican Party</td>\n",
       "      <td>NaN</td>\n",
       "      <td>Donald J. Trump</td>\n",
       "      <td>0</td>\n",
       "    </tr>\n",
       "  </tbody>\n",
       "</table>\n",
       "<p>52758 rows × 7 columns</p>\n",
       "</div>"
      ],
      "text/plain": [
       "       county  precinct_code        precinct                       party  \\\n",
       "0        KING           3562       KINGADAIR            Democratic Party   \n",
       "1        KING           3562       KINGADAIR            Democratic Party   \n",
       "2        KING           3562       KINGADAIR            Democratic Party   \n",
       "3        KING           3562       KINGADAIR            Democratic Party   \n",
       "4        KING           3562       KINGADAIR            Republican Party   \n",
       "...       ...            ...             ...                         ...   \n",
       "52753  YAKIMA           5101   YAKIMA5101.38  President Republican Party   \n",
       "52754  YAKIMA           5202  YAKIMA5202.473  President Republican Party   \n",
       "52755  YAKIMA           5202  YAKIMA5202.473  President Republican Party   \n",
       "52756  YAKIMA           5202  YAKIMA5202.473  President Republican Party   \n",
       "52757  YAKIMA           5202  YAKIMA5202.473  President Republican Party   \n",
       "\n",
       "       district          candidate  votes  \n",
       "0           NaN     Bernie Sanders     24  \n",
       "1           NaN    Hillary Clinton    117  \n",
       "2           NaN  Registered Voters    503  \n",
       "3           NaN           Write-In      0  \n",
       "4           NaN         Ben Carson      1  \n",
       "...         ...                ...    ...  \n",
       "52753       NaN    Donald J. Trump     72  \n",
       "52754       NaN         Ben Carson      0  \n",
       "52755       NaN           Ted Cruz      0  \n",
       "52756       NaN     John R. Kasich      0  \n",
       "52757       NaN    Donald J. Trump      0  \n",
       "\n",
       "[52758 rows x 7 columns]"
      ]
     },
     "execution_count": 5,
     "metadata": {},
     "output_type": "execute_result"
    }
   ],
   "source": [
    "# Process primary files\n",
    "primary_df_list = []\n",
    "\n",
    "for file in primary_files:\n",
    "    try:\n",
    "        df = pd.read_csv(file)\n",
    "        \n",
    "            \n",
    "        # Combine precinct as county + precinct\n",
    "        df[\"precinct\"] = df[\"county\"].astype(str) + df[\"precinct\"].astype(str)\n",
    "        df[\"precinct\"] = df[\"precinct\"].str.upper()\n",
    "        df[\"county\"] = df[\"county\"].str.upper()\n",
    "\n",
    "        # Cleaning maybe total precinct\n",
    "        if 'precinct' in df.columns:\n",
    "            df['precinct'] = df['precinct'].astype(str)                  \n",
    "            df = df[df['precinct'].str.upper() != \"TOTAL\"]               \n",
    "            df = df[df['precinct'].str.strip().str.upper() != \"TOTAL\"]   \n",
    "            df = df[df['precinct'].str.upper() != \"NAN\"]                \n",
    "            df = df[~df['precinct'].str.upper().str.contains(r\"\\w*TOTAL\\w*\", na=False)]   \n",
    "\n",
    "        if 'county' in df.columns:\n",
    "            df['county'] = df['county'].astype(str)                  \n",
    "            df = df[df['county'].str.upper() != \"TOTAL\"]               \n",
    "            df = df[df['county'].str.strip().str.upper() != \"TOTAL\"]   \n",
    "            df = df[df['county'].str.upper() != \"NAN\"]       \n",
    "            df = df[~df['county'].str.upper().str.contains(r\"\\w*TOTAL\\w*\", na=False)]               \n",
    "        # Filtering out only President \n",
    "            \n",
    "        # Dropping duplicates value\n",
    "        df = df.drop_duplicates()\n",
    "        \n",
    "        primary_df_list.append(df)\n",
    "\n",
    "    except Exception as e:\n",
    "        print(f\"Error in {file}: {e}\")\n",
    "\n",
    "# Combine all cleaned files\n",
    "pri_combined_df = pd.concat(primary_df_list, ignore_index=True)\n",
    "pri_combined_df = pri_combined_df.drop(columns=[\"party\"])\n",
    "pri_combined_df = pri_combined_df.rename(columns={\"office\": \"party\"})\n",
    "pri_combined_df\n"
   ]
  },
  {
   "cell_type": "code",
   "execution_count": 6,
   "id": "2ef83fe2",
   "metadata": {},
   "outputs": [],
   "source": [
    "## Cleaning precinct, county name\n",
    "# Fixing Cubbler\n",
    "# pri_combined_df.loc[\n",
    "#     ( \n",
    "#         pri_combined_df[\"county\"].str.contains(\"\\w*F120\\w*\", case=False, na=False)|\n",
    "#         pri_combined_df[\"county\"].str.contains(\"\\w*STONE\\w*\", case=False, na=False)|\n",
    "#         pri_combined_df[\"county\"].str.contains(\"\\w*OBBLER\\w*\", case=False, na=False),\n",
    "#     \"county\")\n",
    "# ] = \"STONE\""
   ]
  },
  {
   "cell_type": "code",
   "execution_count": 7,
   "id": "bbe34b76",
   "metadata": {},
   "outputs": [],
   "source": [
    "# Checking any suspicious precinct, county\n",
    "suspicious_precincts = pri_combined_df[\n",
    "    pri_combined_df[\"precinct\"].isna() |\n",
    "    pri_combined_df[\"precinct\"].str.strip().str.upper().str.contains(r\"\\w*TOTAL\\w*\", na=False) |\n",
    "    pri_combined_df[\"precinct\"].str.strip().str.upper().isin([\"NONE\", \"NAN\"]) |\n",
    "    pri_combined_df[\"county\"].isna() |\n",
    "    pri_combined_df[\"county\"].str.strip().str.upper().str.contains(r\"\\w*TOTAL\\w*\", na=False) |\n",
    "    pri_combined_df[\"county\"].str.strip().str.upper().isin([\"NONE\", \"NAN\"])\n",
    "]"
   ]
  },
  {
   "cell_type": "code",
   "execution_count": 8,
   "id": "f0e1e913",
   "metadata": {},
   "outputs": [
    {
     "data": {
      "application/vnd.microsoft.datawrangler.viewer.v0+json": {
       "columns": [
        {
         "name": "index",
         "rawType": "int64",
         "type": "integer"
        },
        {
         "name": "precinct",
         "rawType": "object",
         "type": "string"
        },
        {
         "name": "party",
         "rawType": "object",
         "type": "string"
        },
        {
         "name": "candidate",
         "rawType": "object",
         "type": "string"
        },
        {
         "name": "votes",
         "rawType": "int64",
         "type": "integer"
        }
       ],
       "ref": "cbf890be-bff2-45f7-9386-d9e7dfd755e2",
       "rows": [
        [
         "0",
         "KINGADAIR",
         "Democratic Party",
         "Bernie Sanders",
         "24"
        ],
        [
         "1",
         "KINGADAIR",
         "Democratic Party",
         "Hillary Clinton",
         "117"
        ],
        [
         "2",
         "KINGADAIR",
         "Democratic Party",
         "Registered Voters",
         "503"
        ],
        [
         "3",
         "KINGADAIR",
         "Democratic Party",
         "Write-In",
         "0"
        ],
        [
         "4",
         "KINGADAIR",
         "Republican Party",
         "Ben Carson",
         "1"
        ],
        [
         "5",
         "KINGADAIR",
         "Republican Party",
         "Donald J. Trump",
         "101"
        ],
        [
         "6",
         "KINGADAIR",
         "Republican Party",
         "John R. Kasich",
         "28"
        ],
        [
         "7",
         "KINGADAIR",
         "Republican Party",
         "Registered Voters",
         "503"
        ],
        [
         "8",
         "KINGADAIR",
         "Republican Party",
         "Ted Cruz",
         "8"
        ],
        [
         "9",
         "KINGADAIR",
         "Republican Party",
         "Write-In",
         "3"
        ],
        [
         "10",
         "KINGALDARRA",
         "Democratic Party",
         "Bernie Sanders",
         "62"
        ],
        [
         "11",
         "KINGALDARRA",
         "Democratic Party",
         "Hillary Clinton",
         "76"
        ],
        [
         "12",
         "KINGALDARRA",
         "Democratic Party",
         "Registered Voters",
         "757"
        ],
        [
         "13",
         "KINGALDARRA",
         "Democratic Party",
         "Write-In",
         "0"
        ],
        [
         "14",
         "KINGALDARRA",
         "Republican Party",
         "Ben Carson",
         "6"
        ],
        [
         "15",
         "KINGALDARRA",
         "Republican Party",
         "Donald J. Trump",
         "94"
        ],
        [
         "16",
         "KINGALDARRA",
         "Republican Party",
         "John R. Kasich",
         "11"
        ],
        [
         "17",
         "KINGALDARRA",
         "Republican Party",
         "Registered Voters",
         "757"
        ],
        [
         "18",
         "KINGALDARRA",
         "Republican Party",
         "Ted Cruz",
         "3"
        ],
        [
         "19",
         "KINGALDARRA",
         "Republican Party",
         "Write-In",
         "1"
        ],
        [
         "20",
         "KINGALDER SPRINGS",
         "Democratic Party",
         "Bernie Sanders",
         "58"
        ],
        [
         "21",
         "KINGALDER SPRINGS",
         "Democratic Party",
         "Hillary Clinton",
         "34"
        ],
        [
         "22",
         "KINGALDER SPRINGS",
         "Democratic Party",
         "Registered Voters",
         "574"
        ],
        [
         "23",
         "KINGALDER SPRINGS",
         "Democratic Party",
         "Write-In",
         "0"
        ],
        [
         "24",
         "KINGALDER SPRINGS",
         "Republican Party",
         "Ben Carson",
         "4"
        ],
        [
         "25",
         "KINGALDER SPRINGS",
         "Republican Party",
         "Donald J. Trump",
         "45"
        ],
        [
         "26",
         "KINGALDER SPRINGS",
         "Republican Party",
         "John R. Kasich",
         "9"
        ],
        [
         "27",
         "KINGALDER SPRINGS",
         "Republican Party",
         "Registered Voters",
         "574"
        ],
        [
         "28",
         "KINGALDER SPRINGS",
         "Republican Party",
         "Ted Cruz",
         "13"
        ],
        [
         "29",
         "KINGALDER SPRINGS",
         "Republican Party",
         "Write-In",
         "1"
        ],
        [
         "30",
         "KINGALDERWOOD",
         "Democratic Party",
         "Bernie Sanders",
         "22"
        ],
        [
         "31",
         "KINGALDERWOOD",
         "Democratic Party",
         "Hillary Clinton",
         "52"
        ],
        [
         "32",
         "KINGALDERWOOD",
         "Democratic Party",
         "Registered Voters",
         "444"
        ],
        [
         "33",
         "KINGALDERWOOD",
         "Democratic Party",
         "Write-In",
         "0"
        ],
        [
         "34",
         "KINGALDERWOOD",
         "Republican Party",
         "Ben Carson",
         "2"
        ],
        [
         "35",
         "KINGALDERWOOD",
         "Republican Party",
         "Donald J. Trump",
         "34"
        ],
        [
         "36",
         "KINGALDERWOOD",
         "Republican Party",
         "John R. Kasich",
         "11"
        ],
        [
         "37",
         "KINGALDERWOOD",
         "Republican Party",
         "Registered Voters",
         "444"
        ],
        [
         "38",
         "KINGALDERWOOD",
         "Republican Party",
         "Ted Cruz",
         "6"
        ],
        [
         "39",
         "KINGALDERWOOD",
         "Republican Party",
         "Write-In",
         "1"
        ],
        [
         "40",
         "KINGALG 30-0013",
         "Democratic Party",
         "Bernie Sanders",
         "32"
        ],
        [
         "41",
         "KINGALG 30-0013",
         "Democratic Party",
         "Hillary Clinton",
         "30"
        ],
        [
         "42",
         "KINGALG 30-0013",
         "Democratic Party",
         "Registered Voters",
         "472"
        ],
        [
         "43",
         "KINGALG 30-0013",
         "Democratic Party",
         "Write-In",
         "0"
        ],
        [
         "44",
         "KINGALG 30-0013",
         "Republican Party",
         "Ben Carson",
         "2"
        ],
        [
         "45",
         "KINGALG 30-0013",
         "Republican Party",
         "Donald J. Trump",
         "39"
        ],
        [
         "46",
         "KINGALG 30-0013",
         "Republican Party",
         "John R. Kasich",
         "1"
        ],
        [
         "47",
         "KINGALG 30-0013",
         "Republican Party",
         "Registered Voters",
         "472"
        ],
        [
         "48",
         "KINGALG 30-0013",
         "Republican Party",
         "Ted Cruz",
         "2"
        ],
        [
         "49",
         "KINGALG 30-0013",
         "Republican Party",
         "Write-In",
         "0"
        ]
       ],
       "shape": {
        "columns": 4,
        "rows": 52758
       }
      },
      "text/html": [
       "<div>\n",
       "<style scoped>\n",
       "    .dataframe tbody tr th:only-of-type {\n",
       "        vertical-align: middle;\n",
       "    }\n",
       "\n",
       "    .dataframe tbody tr th {\n",
       "        vertical-align: top;\n",
       "    }\n",
       "\n",
       "    .dataframe thead th {\n",
       "        text-align: right;\n",
       "    }\n",
       "</style>\n",
       "<table border=\"1\" class=\"dataframe\">\n",
       "  <thead>\n",
       "    <tr style=\"text-align: right;\">\n",
       "      <th></th>\n",
       "      <th>precinct</th>\n",
       "      <th>party</th>\n",
       "      <th>candidate</th>\n",
       "      <th>votes</th>\n",
       "    </tr>\n",
       "  </thead>\n",
       "  <tbody>\n",
       "    <tr>\n",
       "      <th>0</th>\n",
       "      <td>KINGADAIR</td>\n",
       "      <td>Democratic Party</td>\n",
       "      <td>Bernie Sanders</td>\n",
       "      <td>24</td>\n",
       "    </tr>\n",
       "    <tr>\n",
       "      <th>1</th>\n",
       "      <td>KINGADAIR</td>\n",
       "      <td>Democratic Party</td>\n",
       "      <td>Hillary Clinton</td>\n",
       "      <td>117</td>\n",
       "    </tr>\n",
       "    <tr>\n",
       "      <th>2</th>\n",
       "      <td>KINGADAIR</td>\n",
       "      <td>Democratic Party</td>\n",
       "      <td>Registered Voters</td>\n",
       "      <td>503</td>\n",
       "    </tr>\n",
       "    <tr>\n",
       "      <th>3</th>\n",
       "      <td>KINGADAIR</td>\n",
       "      <td>Democratic Party</td>\n",
       "      <td>Write-In</td>\n",
       "      <td>0</td>\n",
       "    </tr>\n",
       "    <tr>\n",
       "      <th>4</th>\n",
       "      <td>KINGADAIR</td>\n",
       "      <td>Republican Party</td>\n",
       "      <td>Ben Carson</td>\n",
       "      <td>1</td>\n",
       "    </tr>\n",
       "    <tr>\n",
       "      <th>...</th>\n",
       "      <td>...</td>\n",
       "      <td>...</td>\n",
       "      <td>...</td>\n",
       "      <td>...</td>\n",
       "    </tr>\n",
       "    <tr>\n",
       "      <th>52753</th>\n",
       "      <td>YAKIMA5101.38</td>\n",
       "      <td>President Republican Party</td>\n",
       "      <td>Donald J. Trump</td>\n",
       "      <td>72</td>\n",
       "    </tr>\n",
       "    <tr>\n",
       "      <th>52754</th>\n",
       "      <td>YAKIMA5202.473</td>\n",
       "      <td>President Republican Party</td>\n",
       "      <td>Ben Carson</td>\n",
       "      <td>0</td>\n",
       "    </tr>\n",
       "    <tr>\n",
       "      <th>52755</th>\n",
       "      <td>YAKIMA5202.473</td>\n",
       "      <td>President Republican Party</td>\n",
       "      <td>Ted Cruz</td>\n",
       "      <td>0</td>\n",
       "    </tr>\n",
       "    <tr>\n",
       "      <th>52756</th>\n",
       "      <td>YAKIMA5202.473</td>\n",
       "      <td>President Republican Party</td>\n",
       "      <td>John R. Kasich</td>\n",
       "      <td>0</td>\n",
       "    </tr>\n",
       "    <tr>\n",
       "      <th>52757</th>\n",
       "      <td>YAKIMA5202.473</td>\n",
       "      <td>President Republican Party</td>\n",
       "      <td>Donald J. Trump</td>\n",
       "      <td>0</td>\n",
       "    </tr>\n",
       "  </tbody>\n",
       "</table>\n",
       "<p>52758 rows × 4 columns</p>\n",
       "</div>"
      ],
      "text/plain": [
       "             precinct                       party          candidate  votes\n",
       "0           KINGADAIR            Democratic Party     Bernie Sanders     24\n",
       "1           KINGADAIR            Democratic Party    Hillary Clinton    117\n",
       "2           KINGADAIR            Democratic Party  Registered Voters    503\n",
       "3           KINGADAIR            Democratic Party           Write-In      0\n",
       "4           KINGADAIR            Republican Party         Ben Carson      1\n",
       "...               ...                         ...                ...    ...\n",
       "52753   YAKIMA5101.38  President Republican Party    Donald J. Trump     72\n",
       "52754  YAKIMA5202.473  President Republican Party         Ben Carson      0\n",
       "52755  YAKIMA5202.473  President Republican Party           Ted Cruz      0\n",
       "52756  YAKIMA5202.473  President Republican Party     John R. Kasich      0\n",
       "52757  YAKIMA5202.473  President Republican Party    Donald J. Trump      0\n",
       "\n",
       "[52758 rows x 4 columns]"
      ]
     },
     "execution_count": 8,
     "metadata": {},
     "output_type": "execute_result"
    }
   ],
   "source": [
    "# Select only the relevant columns\n",
    "primary_data = pri_combined_df[[\"precinct\", \"party\", \"candidate\", \"votes\"]]\n",
    "\n",
    "primary_data"
   ]
  },
  {
   "cell_type": "code",
   "execution_count": 9,
   "id": "dc2ffa15",
   "metadata": {},
   "outputs": [
    {
     "data": {
      "application/vnd.microsoft.datawrangler.viewer.v0+json": {
       "columns": [
        {
         "name": "candidate",
         "rawType": "object",
         "type": "string"
        },
        {
         "name": "count",
         "rawType": "int64",
         "type": "integer"
        }
       ],
       "ref": "40710aca-b2de-4438-afd2-2dd8eca419b4",
       "rows": [
        [
         "Bernie Sanders",
         "7115"
        ],
        [
         "Hillary Clinton",
         "7115"
        ],
        [
         "Ben Carson",
         "7115"
        ],
        [
         "Donald J. Trump",
         "7115"
        ],
        [
         "John R. Kasich",
         "7115"
        ],
        [
         "Ted Cruz",
         "7115"
        ],
        [
         "Registered Voters",
         "5034"
        ],
        [
         "Write-In",
         "5034"
        ]
       ],
       "shape": {
        "columns": 1,
        "rows": 8
       }
      },
      "text/plain": [
       "candidate\n",
       "Bernie Sanders       7115\n",
       "Hillary Clinton      7115\n",
       "Ben Carson           7115\n",
       "Donald J. Trump      7115\n",
       "John R. Kasich       7115\n",
       "Ted Cruz             7115\n",
       "Registered Voters    5034\n",
       "Write-In             5034\n",
       "Name: count, dtype: int64"
      ]
     },
     "execution_count": 9,
     "metadata": {},
     "output_type": "execute_result"
    }
   ],
   "source": [
    "# Viewing candidate data\n",
    "primary_data[\"candidate\"].value_counts(dropna=False)"
   ]
  },
  {
   "cell_type": "code",
   "execution_count": 10,
   "id": "5eef8778",
   "metadata": {},
   "outputs": [
    {
     "name": "stderr",
     "output_type": "stream",
     "text": [
      "C:\\Users\\ADMIN\\AppData\\Local\\Temp\\ipykernel_19388\\214168396.py:4: SettingWithCopyWarning: \n",
      "A value is trying to be set on a copy of a slice from a DataFrame.\n",
      "Try using .loc[row_indexer,col_indexer] = value instead\n",
      "\n",
      "See the caveats in the documentation: https://pandas.pydata.org/pandas-docs/stable/user_guide/indexing.html#returning-a-view-versus-a-copy\n",
      "  primary_data[\"candidate\"] = primary_data[\"candidate\"].astype(str).str.upper()\n",
      "C:\\Users\\ADMIN\\AppData\\Local\\Temp\\ipykernel_19388\\214168396.py:34: SettingWithCopyWarning: \n",
      "A value is trying to be set on a copy of a slice from a DataFrame.\n",
      "Try using .loc[row_indexer,col_indexer] = value instead\n",
      "\n",
      "See the caveats in the documentation: https://pandas.pydata.org/pandas-docs/stable/user_guide/indexing.html#returning-a-view-versus-a-copy\n",
      "  primary_data[\"candidate\"] = primary_data[\"candidate\"].astype(str).str.upper()\n",
      "C:\\Users\\ADMIN\\AppData\\Local\\Temp\\ipykernel_19388\\214168396.py:43: SettingWithCopyWarning: \n",
      "A value is trying to be set on a copy of a slice from a DataFrame.\n",
      "Try using .loc[row_indexer,col_indexer] = value instead\n",
      "\n",
      "See the caveats in the documentation: https://pandas.pydata.org/pandas-docs/stable/user_guide/indexing.html#returning-a-view-versus-a-copy\n",
      "  primary_data[\"candidate\"] = primary_data[\"candidate\"].str.split().str[-1]\n"
     ]
    },
    {
     "data": {
      "application/vnd.microsoft.datawrangler.viewer.v0+json": {
       "columns": [
        {
         "name": "candidate",
         "rawType": "object",
         "type": "string"
        },
        {
         "name": "count",
         "rawType": "int64",
         "type": "integer"
        }
       ],
       "ref": "c66ed739-3090-45c8-80eb-8cc6fcf4d8a7",
       "rows": [
        [
         "SANDERS",
         "7115"
        ],
        [
         "CLINTON",
         "7115"
        ],
        [
         "CARSON",
         "7115"
        ],
        [
         "TRUMP",
         "7115"
        ],
        [
         "KASICH",
         "7115"
        ],
        [
         "CRUZ",
         "7115"
        ]
       ],
       "shape": {
        "columns": 1,
        "rows": 6
       }
      },
      "text/plain": [
       "candidate\n",
       "SANDERS    7115\n",
       "CLINTON    7115\n",
       "CARSON     7115\n",
       "TRUMP      7115\n",
       "KASICH     7115\n",
       "CRUZ       7115\n",
       "Name: count, dtype: int64"
      ]
     },
     "execution_count": 10,
     "metadata": {},
     "output_type": "execute_result"
    }
   ],
   "source": [
    "# Cleaning Candidates\n",
    "\n",
    "# Turning all primary data to uppercase\n",
    "primary_data[\"candidate\"] = primary_data[\"candidate\"].astype(str).str.upper()\n",
    "\n",
    "unwanted_keywords = [\n",
    "    r\"\\w*VOTE\\w*\",\n",
    "    r\"\\w*UNCOM\\w*\",\n",
    "    r\"\\w*TOTAL\\w*\",\n",
    "    r\"Blank Votes\", r\"All Others\",r\"Total Votes Cast\",r\"No Preference\",\n",
    "    r\"UNCOMMITTED\",\"WRITE-IN\"\n",
    "]\n",
    "\n",
    "pattern = \"|\".join(unwanted_keywords)\n",
    "\n",
    "# # Assuming candidate column is already string and uppercase\n",
    "primary_data = primary_data[~primary_data[\"candidate\"].str.upper().str.contains(pattern, regex=True, na=False)]\n",
    "\n",
    "#fIXING DE LA FUENTE\n",
    "# primary_data.loc[\n",
    "#     (\n",
    "#         primary_data[\"candidate\"].str.contains(\"rocky.*fuente\", case=False, na=False) |\n",
    "#         primary_data[\"candidate\"].str.contains(\"LA FUENTE\", case=False, na=False) |\n",
    "#         primary_data[\"candidate\"].str.contains(\"\\w*Fuque\\w*\", case=False, na=False)\n",
    "#     ),\n",
    "#     \"candidate\"\n",
    "# ] = \"LA FUENTE\"\n",
    "\n",
    "\n",
    "# primary_data.loc[:, \"candidate\"] = primary_data[\"candidate\"].replace({\n",
    "#     \"Donald I. Trump\": \"Donald J. Trump\",\n",
    "# })\n",
    "\n",
    "primary_data[\"candidate\"] = primary_data[\"candidate\"].astype(str).str.upper()\n",
    "# # Fixing the , candidate\n",
    "# primary_data[\"candidate\"] = (\n",
    "#     primary_data[\"candidate\"].str.split(\",\")\n",
    "#     .str[0]\n",
    "#     .str.strip()\n",
    "#     )\n",
    "\n",
    "# #Selecting only last name\n",
    "primary_data[\"candidate\"] = primary_data[\"candidate\"].str.split().str[-1]\n",
    "\n",
    "# Fixing Christie\n",
    "primary_data.loc[\n",
    "    primary_data[\"candidate\"].str.contains(\"CHRISTLE\", case=False, na=False),\n",
    "    \"candidate\"\n",
    "] = \"CHRISTIE\"\n",
    "\n",
    "# Fixing KASICH\n",
    "primary_data.loc[\n",
    "    primary_data[\"candidate\"].str.contains(\"KAISCH\", case=False, na=False),\n",
    "    \"candidate\"\n",
    "] = \"CHRISTIE\"\n",
    "\n",
    "# Fixing O'MALLEY\n",
    "primary_data.loc[\n",
    "    primary_data[\"candidate\"].str.contains(\"O'MALLEY\", case=False, na=False),\n",
    "    \"candidate\"\n",
    "] = \"O'MAILEY\"\n",
    "\n",
    "# Fixing O'MALLEY\n",
    "primary_data.loc[\n",
    "    primary_data[\"candidate\"].str.contains(\"PATAKL\", case=False, na=False),\n",
    "    \"candidate\"\n",
    "] = \"PATAKI\"\n",
    "\n",
    "# Fixing O'MALLEY\n",
    "primary_data.loc[\n",
    "    primary_data[\"candidate\"].str.contains(\"RUBLO\", case=False, na=False),\n",
    "    \"candidate\"\n",
    "] = \"RUBIO\"\n",
    "\n",
    "# # Fixing Huckabee\n",
    "# primary_data.loc[\n",
    "#     primary_data[\"candidate\"].str.contains(\"\\w*ABEE\\w*\", case=False, na=False),\n",
    "#     \"candidate\"\n",
    "# ] = \"HUCKABEE\"\n",
    "\n",
    "# # Fixing Fiorina\n",
    "# primary_data.loc[\n",
    "#     primary_data[\"candidate\"].str.contains(\"\\w*ORINA\\W*\", case=False, na=False),\n",
    "#     \"candidate\"\n",
    "# ] = \"FIORINA\"\n",
    "\n",
    "# # Fixing Gray\n",
    "# primary_data.loc[\n",
    "#     primary_data[\"candidate\"].str.contains(\"GREY\", case=False, na=False),\n",
    "#     \"candidate\"\n",
    "# ] = \"GRAY\"\n",
    "\n",
    "# # Fixing Wilson\n",
    "# primary_data.loc[\n",
    "#     primary_data[\"candidate\"].str.contains(\"WISON\", case=False, na=False),\n",
    "#     \"candidate\"\n",
    "# ] = \"WILSON\"\n",
    "\n",
    "\n",
    "# # Fixing separator \n",
    "# primary_data[\"candidate\"] = (\n",
    "#     primary_data[\"candidate\"]\n",
    "#     .str.split(r\"\\s*(?:and|/|&|–|-|\\+)\\s*\", n=1, expand=True)[0]\n",
    "#     .str.strip()\n",
    "#     .str.upper()\n",
    "# )\n",
    "\n",
    "# # Fixing McMullin\n",
    "\n",
    "# primary_data.loc[\n",
    "#     (\n",
    "#         primary_data[\"candidate\"].str.contains(\"MCMULLIN\", case=False, na=False) |\n",
    "#         primary_data[\"candidate\"].str.contains(\"EVAN MCMULLEN\", case=False, na=False)\n",
    "#     ),\n",
    "#     \"candidate\"\n",
    "# ] = \"MCMULLIN\"\n",
    "\n",
    "# primary_data.loc[\n",
    "#     primary_data[\"candidate\"].str.contains(\"De La Fuen\", case=False, na=False),\n",
    "#     \"candidate\"\n",
    "# ] = \"FUENTE D\"\n",
    "\n",
    "## SPLITTINNG BY ,\n",
    "# primary_data.loc[:,\"candidate\"] = (\n",
    "#     primary_data[\"candidate\"].str.split().str[0].str.upper()\n",
    "# )\n",
    "\n",
    "primary_data[\"candidate\"].value_counts(dropna=False)"
   ]
  },
  {
   "cell_type": "code",
   "execution_count": 11,
   "id": "dcc76af7",
   "metadata": {},
   "outputs": [
    {
     "data": {
      "application/vnd.microsoft.datawrangler.viewer.v0+json": {
       "columns": [
        {
         "name": "party",
         "rawType": "object",
         "type": "string"
        },
        {
         "name": "count",
         "rawType": "int64",
         "type": "integer"
        }
       ],
       "ref": "4ed2916d-c485-4a28-bb7c-242925ac231f",
       "rows": [
        [
         "President Republican Party",
         "18392"
        ],
        [
         "Republican Party",
         "10068"
        ],
        [
         "President Democratic Party",
         "9196"
        ],
        [
         "Democratic Party",
         "5034"
        ]
       ],
       "shape": {
        "columns": 1,
        "rows": 4
       }
      },
      "text/plain": [
       "party\n",
       "President Republican Party    18392\n",
       "Republican Party              10068\n",
       "President Democratic Party     9196\n",
       "Democratic Party               5034\n",
       "Name: count, dtype: int64"
      ]
     },
     "execution_count": 11,
     "metadata": {},
     "output_type": "execute_result"
    }
   ],
   "source": [
    "# Viewing Party\n",
    "primary_data[\"party\"].value_counts(dropna=False)"
   ]
  },
  {
   "cell_type": "code",
   "execution_count": 12,
   "id": "582aa6c5",
   "metadata": {},
   "outputs": [
    {
     "data": {
      "application/vnd.microsoft.datawrangler.viewer.v0+json": {
       "columns": [
        {
         "name": "party",
         "rawType": "object",
         "type": "string"
        },
        {
         "name": "count",
         "rawType": "int64",
         "type": "integer"
        }
       ],
       "ref": "be455f02-3ad0-4827-86f9-bfab4974bd02",
       "rows": [
        [
         "President Republican Party",
         "18392"
        ],
        [
         "Republican Party",
         "10068"
        ],
        [
         "President Democratic Party",
         "9196"
        ],
        [
         "Democratic Party",
         "5034"
        ]
       ],
       "shape": {
        "columns": 1,
        "rows": 4
       }
      },
      "text/plain": [
       "party\n",
       "President Republican Party    18392\n",
       "Republican Party              10068\n",
       "President Democratic Party     9196\n",
       "Democratic Party               5034\n",
       "Name: count, dtype: int64"
      ]
     },
     "execution_count": 12,
     "metadata": {},
     "output_type": "execute_result"
    }
   ],
   "source": [
    "#=====================================\n",
    "# This function is used to look up party\n",
    "# for the candidate in the same df\n",
    "#=====================================\n",
    "def fill_party_from_data(row, df):\n",
    "    if pd.notna(row[\"party\"]):\n",
    "        return row[\"party\"]\n",
    "    \n",
    "    # Try to find other rows with the same candidate and known party\n",
    "    matches = df[(df[\"candidate\"] == row[\"candidate\"]) & (df[\"party\"].notna())]\n",
    "    if not matches.empty:\n",
    "        return matches[\"party\"].iloc[0]  # Return the first match's party\n",
    "    else:\n",
    "        return None  # Still unknown\n",
    "\n",
    "#=====================================\n",
    "# Example usage (uncomment and modify for your workflow)\n",
    "#=====================================\n",
    "# Fill party using internal data\n",
    "# primary_data[\"party\"] = primary_data.apply(\n",
    "#     lambda row: fill_party_from_data(row, primary_data),\n",
    "#     axis=1\n",
    "# )\n",
    "\n",
    "primary_data[\"party\"].value_counts(dropna=False)\n"
   ]
  },
  {
   "cell_type": "code",
   "execution_count": 13,
   "id": "34361751",
   "metadata": {},
   "outputs": [
    {
     "name": "stderr",
     "output_type": "stream",
     "text": [
      "C:\\Users\\ADMIN\\AppData\\Local\\Temp\\ipykernel_19388\\1696769040.py:3: SettingWithCopyWarning: \n",
      "A value is trying to be set on a copy of a slice from a DataFrame.\n",
      "Try using .loc[row_indexer,col_indexer] = value instead\n",
      "\n",
      "See the caveats in the documentation: https://pandas.pydata.org/pandas-docs/stable/user_guide/indexing.html#returning-a-view-versus-a-copy\n",
      "  primary_data[\"party\"] = primary_data[\"party\"].astype(str).str.upper()\n",
      "C:\\Users\\ADMIN\\AppData\\Local\\Temp\\ipykernel_19388\\1696769040.py:5: SettingWithCopyWarning: \n",
      "A value is trying to be set on a copy of a slice from a DataFrame.\n",
      "Try using .loc[row_indexer,col_indexer] = value instead\n",
      "\n",
      "See the caveats in the documentation: https://pandas.pydata.org/pandas-docs/stable/user_guide/indexing.html#returning-a-view-versus-a-copy\n",
      "  primary_data[\"party\"] = primary_data.apply(\n",
      "C:\\Users\\ADMIN\\AppData\\Local\\Temp\\ipykernel_19388\\1696769040.py:9: SettingWithCopyWarning: \n",
      "A value is trying to be set on a copy of a slice from a DataFrame.\n",
      "Try using .loc[row_indexer,col_indexer] = value instead\n",
      "\n",
      "See the caveats in the documentation: https://pandas.pydata.org/pandas-docs/stable/user_guide/indexing.html#returning-a-view-versus-a-copy\n",
      "  primary_data[\"party\"] = (\n"
     ]
    },
    {
     "data": {
      "application/vnd.microsoft.datawrangler.viewer.v0+json": {
       "columns": [
        {
         "name": "party",
         "rawType": "object",
         "type": "string"
        },
        {
         "name": "count",
         "rawType": "int64",
         "type": "integer"
        }
       ],
       "ref": "5aa6b8fb-43d8-44c9-8f4b-b71fb94f2705",
       "rows": [
        [
         "REP",
         "28460"
        ],
        [
         "DEM",
         "14230"
        ]
       ],
       "shape": {
        "columns": 1,
        "rows": 2
       }
      },
      "text/plain": [
       "party\n",
       "REP    28460\n",
       "DEM    14230\n",
       "Name: count, dtype: int64"
      ]
     },
     "execution_count": 13,
     "metadata": {},
     "output_type": "execute_result"
    }
   ],
   "source": [
    "# Cleaning Party\n",
    "# Turning all general data party to uppercase\n",
    "primary_data[\"party\"] = primary_data[\"party\"].astype(str).str.upper()\n",
    "\n",
    "primary_data[\"party\"] = primary_data.apply(\n",
    "    lambda row: fill_party_from_data(row, primary_data),\n",
    "    axis=1\n",
    ")\n",
    "primary_data[\"party\"] = (\n",
    "    primary_data[\"party\"]\n",
    "    .replace({\n",
    "        \"PRESIDENT REPUBLICAN PARTY\": \"REP\",\n",
    "        \"PRESIDENT DEMOCRATIC PARTY\": \"DEM\",\n",
    "        \"DEMOCRATIC PARTY\": \"DEM\",\n",
    "        \"REPUBLICAN PARTY\": \"REP\",\n",
    "        \"REPUBLICAN\": \"REP\",\n",
    "        \"R\": \"REP\",\n",
    "        \"DEMOCRATIC\": \"DEM\",\n",
    "        \"DEMOCRAT\":\"DEM\",\n",
    "        \"DEM\": \"DEM\",\n",
    "        \"D\": \"DEM\",\n",
    "        \"GREEN\": \"GRN\",\n",
    "        \"G\": \"GREEN\",\n",
    "        \"GREEN-RAINBOW\":\"GRN\",\n",
    "        \"LIBERTARIAN\": \"LIB\",\n",
    "        \"LBT\": \"LIB\",\n",
    "        \"L\": \"LIB\",\n",
    "        \"CONSTITUTION\": \"CON\",\n",
    "        \"NP\": \"IND\",\n",
    "        \"NON\": \"IND\",\n",
    "        \"WRI\": \"IND\",\n",
    "        \"WRITE-IN\": \"IND\",\n",
    "        \"ONA\": \"IND\",\n",
    "        \"GEN\": \"IND\",\n",
    "        \"NONE\":\"UNK\"\n",
    "    })\n",
    ")\n",
    "primary_data[\"party\"].value_counts(dropna=False)"
   ]
  },
  {
   "cell_type": "code",
   "execution_count": 14,
   "id": "a359cd18",
   "metadata": {},
   "outputs": [
    {
     "name": "stderr",
     "output_type": "stream",
     "text": [
      "C:\\Users\\ADMIN\\AppData\\Local\\Temp\\ipykernel_19388\\2521670330.py:1: SettingWithCopyWarning: \n",
      "A value is trying to be set on a copy of a slice from a DataFrame.\n",
      "Try using .loc[row_indexer,col_indexer] = value instead\n",
      "\n",
      "See the caveats in the documentation: https://pandas.pydata.org/pandas-docs/stable/user_guide/indexing.html#returning-a-view-versus-a-copy\n",
      "  primary_data.loc[:,\"candidate_column\"] = (\n"
     ]
    },
    {
     "data": {
      "application/vnd.microsoft.datawrangler.viewer.v0+json": {
       "columns": [
        {
         "name": "index",
         "rawType": "int64",
         "type": "integer"
        },
        {
         "name": "precinct",
         "rawType": "object",
         "type": "string"
        },
        {
         "name": "pri_dem_CLINTON",
         "rawType": "int64",
         "type": "integer"
        },
        {
         "name": "pri_dem_SANDERS",
         "rawType": "int64",
         "type": "integer"
        },
        {
         "name": "pri_rep_CARSON",
         "rawType": "int64",
         "type": "integer"
        },
        {
         "name": "pri_rep_CRUZ",
         "rawType": "int64",
         "type": "integer"
        },
        {
         "name": "pri_rep_KASICH",
         "rawType": "int64",
         "type": "integer"
        },
        {
         "name": "pri_rep_TRUMP",
         "rawType": "int64",
         "type": "integer"
        }
       ],
       "ref": "3da1dec7-acb5-47e6-b708-19ddcdafb114",
       "rows": [
        [
         "0",
         "ADAMSBATUM",
         "2",
         "6",
         "5",
         "4",
         "0",
         "34"
        ],
        [
         "1",
         "ADAMSBENGE",
         "3",
         "2",
         "0",
         "3",
         "0",
         "14"
        ],
        [
         "2",
         "ADAMSCUNNINGHAM",
         "0",
         "0",
         "0",
         "0",
         "0",
         "0"
        ],
        [
         "3",
         "ADAMSFAIRVIEW",
         "2",
         "2",
         "0",
         "0",
         "0",
         "0"
        ],
        [
         "4",
         "ADAMSHATTON CITY",
         "0",
         "0",
         "0",
         "0",
         "0",
         "0"
        ],
        [
         "5",
         "ADAMSHATTON RURAL",
         "0",
         "0",
         "0",
         "1",
         "2",
         "12"
        ],
        [
         "6",
         "ADAMSLIND #1",
         "17",
         "20",
         "0",
         "0",
         "0",
         "0"
        ],
        [
         "7",
         "ADAMSLIND RURAL",
         "3",
         "4",
         "2",
         "4",
         "1",
         "32"
        ],
        [
         "8",
         "ADAMSOTHELLO CITY #1",
         "0",
         "0",
         "0",
         "0",
         "0",
         "0"
        ],
        [
         "9",
         "ADAMSOTHELLO CITY #2",
         "28",
         "37",
         "10",
         "11",
         "2",
         "55"
        ],
        [
         "10",
         "ADAMSOTHELLO CITY #3",
         "51",
         "19",
         "1",
         "9",
         "4",
         "46"
        ],
        [
         "11",
         "ADAMSOTHELLO CITY #4",
         "26",
         "21",
         "3",
         "16",
         "7",
         "53"
        ],
        [
         "12",
         "ADAMSOTHELLO CITY #5",
         "21",
         "21",
         "4",
         "21",
         "4",
         "60"
        ],
        [
         "13",
         "ADAMSOTHELLO CITY #6",
         "28",
         "17",
         "3",
         "3",
         "2",
         "29"
        ],
        [
         "14",
         "ADAMSOTHELLO RURAL #1",
         "26",
         "15",
         "0",
         "2",
         "1",
         "16"
        ],
        [
         "15",
         "ADAMSOTHELLO RURAL #2",
         "17",
         "12",
         "2",
         "8",
         "2",
         "49"
        ],
        [
         "16",
         "ADAMSOTHELLO RURAL #3",
         "29",
         "23",
         "4",
         "13",
         "1",
         "83"
        ],
        [
         "17",
         "ADAMSOTHELLO RURAL #4",
         "17",
         "9",
         "1",
         "18",
         "4",
         "60"
        ],
        [
         "18",
         "ADAMSOTHELLO RURAL #5",
         "11",
         "12",
         "1",
         "13",
         "1",
         "48"
        ],
        [
         "19",
         "ADAMSOTHELLO RURAL #6",
         "5",
         "10",
         "4",
         "5",
         "5",
         "88"
        ],
        [
         "20",
         "ADAMSRALSTON",
         "0",
         "0",
         "3",
         "3",
         "1",
         "15"
        ],
        [
         "21",
         "ADAMSRITZVILLE RURAL NW",
         "5",
         "11",
         "8",
         "3",
         "6",
         "76"
        ],
        [
         "22",
         "ADAMSRITZVILLE RURAL SE",
         "9",
         "7",
         "3",
         "11",
         "6",
         "55"
        ],
        [
         "23",
         "ADAMSRITZVILLE WARD #1",
         "11",
         "6",
         "2",
         "6",
         "2",
         "45"
        ],
        [
         "24",
         "ADAMSRITZVILLE WARD #2",
         "14",
         "10",
         "2",
         "6",
         "1",
         "41"
        ],
        [
         "25",
         "ADAMSRITZVILLE WARD #3",
         "17",
         "11",
         "8",
         "8",
         "2",
         "59"
        ],
        [
         "26",
         "ADAMSRITZVILLE WARD #4",
         "16",
         "19",
         "1",
         "10",
         "13",
         "44"
        ],
        [
         "27",
         "ADAMSRITZVILLE WARD #5",
         "18",
         "11",
         "4",
         "5",
         "11",
         "53"
        ],
        [
         "28",
         "ADAMSSCHRAG",
         "0",
         "0",
         "2",
         "4",
         "0",
         "17"
        ],
        [
         "29",
         "ADAMSWASHTUCNA CITY #1",
         "6",
         "9",
         "0",
         "4",
         "4",
         "51"
        ],
        [
         "30",
         "ADAMSWASHTUCNA RURAL",
         "0",
         "0",
         "2",
         "2",
         "5",
         "27"
        ],
        [
         "31",
         "ASOTINANATONE",
         "7",
         "18",
         "4",
         "13",
         "2",
         "71"
        ],
        [
         "32",
         "ASOTINASOTIN #1",
         "41",
         "29",
         "6",
         "7",
         "0",
         "73"
        ],
        [
         "33",
         "ASOTINASOTIN #2",
         "24",
         "28",
         "3",
         "2",
         "8",
         "73"
        ],
        [
         "34",
         "ASOTINCLARKSTON #1",
         "31",
         "40",
         "8",
         "4",
         "3",
         "58"
        ],
        [
         "35",
         "ASOTINCLARKSTON #2",
         "47",
         "58",
         "6",
         "16",
         "12",
         "67"
        ],
        [
         "36",
         "ASOTINCLARKSTON #3",
         "46",
         "39",
         "3",
         "12",
         "11",
         "55"
        ],
        [
         "37",
         "ASOTINCLARKSTON #4",
         "38",
         "40",
         "8",
         "5",
         "2",
         "94"
        ],
        [
         "38",
         "ASOTINCLARKSTON #5",
         "36",
         "30",
         "2",
         "10",
         "8",
         "47"
        ],
        [
         "39",
         "ASOTINCLARKSTON #6",
         "45",
         "43",
         "8",
         "14",
         "7",
         "82"
        ],
        [
         "40",
         "ASOTINCLARKSTON #7",
         "41",
         "27",
         "4",
         "7",
         "3",
         "55"
        ],
        [
         "41",
         "ASOTINCLARKSTON #8",
         "47",
         "39",
         "3",
         "6",
         "6",
         "70"
        ],
        [
         "42",
         "ASOTINCLARKSTON HTS #1",
         "40",
         "36",
         "5",
         "8",
         "15",
         "128"
        ],
        [
         "43",
         "ASOTINCLARKSTON HTS #2",
         "70",
         "52",
         "9",
         "19",
         "15",
         "196"
        ],
        [
         "44",
         "ASOTINCLARKSTON HTS #3",
         "21",
         "8",
         "1",
         "6",
         "1",
         "43"
        ],
        [
         "45",
         "ASOTINCLARKSTON HTS #4",
         "53",
         "33",
         "5",
         "15",
         "9",
         "87"
        ],
        [
         "46",
         "ASOTINCLARKSTON HTS #5",
         "60",
         "65",
         "17",
         "23",
         "7",
         "215"
        ],
        [
         "47",
         "ASOTINCLARKSTON HTS #6",
         "86",
         "55",
         "18",
         "11",
         "16",
         "171"
        ],
        [
         "48",
         "ASOTINCLARKSTON HTS #7",
         "58",
         "47",
         "13",
         "18",
         "6",
         "126"
        ],
        [
         "49",
         "ASOTINRURAL ASOTIN",
         "17",
         "14",
         "3",
         "7",
         "9",
         "84"
        ]
       ],
       "shape": {
        "columns": 7,
        "rows": 7114
       }
      },
      "text/html": [
       "<div>\n",
       "<style scoped>\n",
       "    .dataframe tbody tr th:only-of-type {\n",
       "        vertical-align: middle;\n",
       "    }\n",
       "\n",
       "    .dataframe tbody tr th {\n",
       "        vertical-align: top;\n",
       "    }\n",
       "\n",
       "    .dataframe thead th {\n",
       "        text-align: right;\n",
       "    }\n",
       "</style>\n",
       "<table border=\"1\" class=\"dataframe\">\n",
       "  <thead>\n",
       "    <tr style=\"text-align: right;\">\n",
       "      <th>candidate_column</th>\n",
       "      <th>precinct</th>\n",
       "      <th>pri_dem_CLINTON</th>\n",
       "      <th>pri_dem_SANDERS</th>\n",
       "      <th>pri_rep_CARSON</th>\n",
       "      <th>pri_rep_CRUZ</th>\n",
       "      <th>pri_rep_KASICH</th>\n",
       "      <th>pri_rep_TRUMP</th>\n",
       "    </tr>\n",
       "  </thead>\n",
       "  <tbody>\n",
       "    <tr>\n",
       "      <th>0</th>\n",
       "      <td>ADAMSBATUM</td>\n",
       "      <td>2</td>\n",
       "      <td>6</td>\n",
       "      <td>5</td>\n",
       "      <td>4</td>\n",
       "      <td>0</td>\n",
       "      <td>34</td>\n",
       "    </tr>\n",
       "    <tr>\n",
       "      <th>1</th>\n",
       "      <td>ADAMSBENGE</td>\n",
       "      <td>3</td>\n",
       "      <td>2</td>\n",
       "      <td>0</td>\n",
       "      <td>3</td>\n",
       "      <td>0</td>\n",
       "      <td>14</td>\n",
       "    </tr>\n",
       "    <tr>\n",
       "      <th>2</th>\n",
       "      <td>ADAMSCUNNINGHAM</td>\n",
       "      <td>0</td>\n",
       "      <td>0</td>\n",
       "      <td>0</td>\n",
       "      <td>0</td>\n",
       "      <td>0</td>\n",
       "      <td>0</td>\n",
       "    </tr>\n",
       "    <tr>\n",
       "      <th>3</th>\n",
       "      <td>ADAMSFAIRVIEW</td>\n",
       "      <td>2</td>\n",
       "      <td>2</td>\n",
       "      <td>0</td>\n",
       "      <td>0</td>\n",
       "      <td>0</td>\n",
       "      <td>0</td>\n",
       "    </tr>\n",
       "    <tr>\n",
       "      <th>4</th>\n",
       "      <td>ADAMSHATTON CITY</td>\n",
       "      <td>0</td>\n",
       "      <td>0</td>\n",
       "      <td>0</td>\n",
       "      <td>0</td>\n",
       "      <td>0</td>\n",
       "      <td>0</td>\n",
       "    </tr>\n",
       "    <tr>\n",
       "      <th>...</th>\n",
       "      <td>...</td>\n",
       "      <td>...</td>\n",
       "      <td>...</td>\n",
       "      <td>...</td>\n",
       "      <td>...</td>\n",
       "      <td>...</td>\n",
       "      <td>...</td>\n",
       "    </tr>\n",
       "    <tr>\n",
       "      <th>7109</th>\n",
       "      <td>YAKIMA5020.5839999999998</td>\n",
       "      <td>26</td>\n",
       "      <td>11</td>\n",
       "      <td>6</td>\n",
       "      <td>15</td>\n",
       "      <td>12</td>\n",
       "      <td>100</td>\n",
       "    </tr>\n",
       "    <tr>\n",
       "      <th>7110</th>\n",
       "      <td>YAKIMA5101.38</td>\n",
       "      <td>19</td>\n",
       "      <td>26</td>\n",
       "      <td>0</td>\n",
       "      <td>6</td>\n",
       "      <td>5</td>\n",
       "      <td>72</td>\n",
       "    </tr>\n",
       "    <tr>\n",
       "      <th>7111</th>\n",
       "      <td>YAKIMA5202.473</td>\n",
       "      <td>0</td>\n",
       "      <td>0</td>\n",
       "      <td>0</td>\n",
       "      <td>0</td>\n",
       "      <td>0</td>\n",
       "      <td>0</td>\n",
       "    </tr>\n",
       "    <tr>\n",
       "      <th>7112</th>\n",
       "      <td>YAKIMA701.6</td>\n",
       "      <td>26</td>\n",
       "      <td>25</td>\n",
       "      <td>10</td>\n",
       "      <td>3</td>\n",
       "      <td>2</td>\n",
       "      <td>22</td>\n",
       "    </tr>\n",
       "    <tr>\n",
       "      <th>7113</th>\n",
       "      <td>YAKIMA901.42</td>\n",
       "      <td>70</td>\n",
       "      <td>33</td>\n",
       "      <td>0</td>\n",
       "      <td>0</td>\n",
       "      <td>0</td>\n",
       "      <td>0</td>\n",
       "    </tr>\n",
       "  </tbody>\n",
       "</table>\n",
       "<p>7114 rows × 7 columns</p>\n",
       "</div>"
      ],
      "text/plain": [
       "candidate_column                  precinct  pri_dem_CLINTON  pri_dem_SANDERS  \\\n",
       "0                               ADAMSBATUM                2                6   \n",
       "1                               ADAMSBENGE                3                2   \n",
       "2                          ADAMSCUNNINGHAM                0                0   \n",
       "3                            ADAMSFAIRVIEW                2                2   \n",
       "4                         ADAMSHATTON CITY                0                0   \n",
       "...                                    ...              ...              ...   \n",
       "7109              YAKIMA5020.5839999999998               26               11   \n",
       "7110                         YAKIMA5101.38               19               26   \n",
       "7111                        YAKIMA5202.473                0                0   \n",
       "7112                           YAKIMA701.6               26               25   \n",
       "7113                          YAKIMA901.42               70               33   \n",
       "\n",
       "candidate_column  pri_rep_CARSON  pri_rep_CRUZ  pri_rep_KASICH  pri_rep_TRUMP  \n",
       "0                              5             4               0             34  \n",
       "1                              0             3               0             14  \n",
       "2                              0             0               0              0  \n",
       "3                              0             0               0              0  \n",
       "4                              0             0               0              0  \n",
       "...                          ...           ...             ...            ...  \n",
       "7109                           6            15              12            100  \n",
       "7110                           0             6               5             72  \n",
       "7111                           0             0               0              0  \n",
       "7112                          10             3               2             22  \n",
       "7113                           0             0               0              0  \n",
       "\n",
       "[7114 rows x 7 columns]"
      ]
     },
     "execution_count": 14,
     "metadata": {},
     "output_type": "execute_result"
    }
   ],
   "source": [
    "primary_data.loc[:,\"candidate_column\"] = (\n",
    "    \"pri_\" +\n",
    "    primary_data[\"party\"].str.lower() + \"_\" +\n",
    "    primary_data[\"candidate\"]\n",
    ")\n",
    "\n",
    "# pivot the table\n",
    "primary_result = primary_data.pivot_table(\n",
    "    index=\"precinct\",\n",
    "    columns=\"candidate_column\",\n",
    "    values=\"votes\",\n",
    "    aggfunc=\"sum\",  \n",
    "    fill_value=0\n",
    ").reset_index()\n",
    "\n",
    "primary_result"
   ]
  },
  {
   "cell_type": "code",
   "execution_count": 15,
   "id": "f1ef9692",
   "metadata": {},
   "outputs": [
    {
     "name": "stderr",
     "output_type": "stream",
     "text": [
      "C:\\Users\\ADMIN\\AppData\\Local\\Temp\\ipykernel_19388\\2604269118.py:6: DtypeWarning: Columns (5) have mixed types. Specify dtype option on import or set low_memory=False.\n",
      "  df = pd.read_csv(file)\n"
     ]
    },
    {
     "data": {
      "text/plain": [
       "['C:\\\\Huy Phan\\\\College\\\\VoterTurnout\\\\data\\\\WA\\\\2016\\\\20160209__wa__special__general__precinct.csv',\n",
       " 'C:\\\\Huy Phan\\\\College\\\\VoterTurnout\\\\data\\\\WA\\\\2016\\\\20160426__wa__special__general__precinct.csv',\n",
       " 'C:\\\\Huy Phan\\\\College\\\\VoterTurnout\\\\data\\\\WA\\\\2016\\\\20161108__wa__general__precinct.csv']"
      ]
     },
     "execution_count": 15,
     "metadata": {},
     "output_type": "execute_result"
    }
   ],
   "source": [
    "# Process general files\n",
    "general_df_list = []\n",
    "\n",
    "for file in general_files:\n",
    "    try:\n",
    "        df = pd.read_csv(file)\n",
    "        \n",
    "        # Combine precinct as county + precinct\n",
    "        df[\"precinct\"] = df[\"county\"].astype(str) + df[\"precinct\"].astype(str)\n",
    "        df[\"precinct\"] = df[\"precinct\"].str.upper()\n",
    "\n",
    "        # Cleaning maybe total precinct\n",
    "        if 'precinct' in df.columns:\n",
    "            df['precinct'] = df['precinct'].astype(str)                  \n",
    "            df = df[df['precinct'].str.upper() != \"TOTAL\"]               \n",
    "            df = df[df['precinct'].str.strip().str.upper() != \"TOTAL\"]   \n",
    "            df = df[df['precinct'].str.upper() != \"NAN\"]                \n",
    "        \n",
    "        if 'county' in df.columns:\n",
    "            df['county'] = df['county'].astype(str)                  \n",
    "            df = df[df['county'].str.upper() != \"TOTAL\"]               \n",
    "            df = df[df['county'].str.strip().str.upper() != \"TOTAL\"]   \n",
    "            df = df[df['county'].str.upper() != \"NAN\"]       \n",
    "            df = df[~df['county'].str.upper().str.contains(r\"\\w*TOTAL\\w*\", na=False)]      \n",
    "            \n",
    "        # Filtering out only President \n",
    "        if 'office' in df.columns:\n",
    "            df = df[df[\"office\"].str.upper() == \"PRESIDENT\"]\n",
    "        \n",
    "        # Dropping duplicates value\n",
    "        df = df.drop_duplicates()\n",
    "        \n",
    "        general_df_list.append(df)\n",
    "\n",
    "    except Exception as e:\n",
    "        print(f\"Error in {file}: {e}\")\n",
    "\n",
    "# Combine all cleaned files\n",
    "gen_combined_df = pd.concat(general_df_list, ignore_index=True)\n",
    "\n",
    "# Checking any suspicious precinct\n",
    "suspicious_precincts = gen_combined_df[\n",
    "    gen_combined_df[\"precinct\"].str.strip().str.upper().isin([\"TOTAL\", \"NAN\"])\n",
    "]\n",
    "general_files\n"
   ]
  },
  {
   "cell_type": "code",
   "execution_count": 16,
   "id": "1bbbd54d",
   "metadata": {},
   "outputs": [
    {
     "data": {
      "application/vnd.microsoft.datawrangler.viewer.v0+json": {
       "columns": [
        {
         "name": "index",
         "rawType": "int64",
         "type": "integer"
        },
        {
         "name": "precinct",
         "rawType": "object",
         "type": "string"
        },
        {
         "name": "party",
         "rawType": "object",
         "type": "unknown"
        },
        {
         "name": "candidate",
         "rawType": "object",
         "type": "string"
        },
        {
         "name": "votes",
         "rawType": "int64",
         "type": "integer"
        }
       ],
       "ref": "0aa592a1-f553-4d63-b883-6b56cc4753e3",
       "rows": [
        [
         "0",
         "KINGADAIR",
         "Constitution",
         "Darrell L. Castle & Scott N. Bradley",
         "0"
        ],
        [
         "1",
         "KINGADAIR",
         "Democratic",
         "Hillary Clinton & Tim Kaine",
         "266"
        ],
        [
         "2",
         "KINGADAIR",
         "Green",
         "Jill Stein & Ajamu Baraka",
         "1"
        ],
        [
         "3",
         "KINGADAIR",
         "Libertarian",
         "Gary Johnson & Bill Weld",
         "14"
        ],
        [
         "4",
         "KINGADAIR",
         null,
         "Registered Voters",
         "519"
        ],
        [
         "5",
         "KINGADAIR",
         null,
         "Write-In",
         "7"
        ],
        [
         "6",
         "KINGADAIR",
         "Republican",
         "Donald J. Trump & Michael R. Pence",
         "185"
        ],
        [
         "7",
         "KINGADAIR",
         "Socialism & Liberation",
         "Gloria Estela La Riva & Eugene Puryear",
         "0"
        ],
        [
         "8",
         "KINGADAIR",
         "Socialist Workers",
         "Alyson Kennedy & Osborne Hart",
         "0"
        ],
        [
         "9",
         "KINGALDARRA",
         "Constitution",
         "Darrell L. Castle & Scott N. Bradley",
         "2"
        ],
        [
         "10",
         "KINGALDARRA",
         "Democratic",
         "Hillary Clinton & Tim Kaine",
         "334"
        ],
        [
         "11",
         "KINGALDARRA",
         "Green",
         "Jill Stein & Ajamu Baraka",
         "8"
        ],
        [
         "12",
         "KINGALDARRA",
         "Libertarian",
         "Gary Johnson & Bill Weld",
         "33"
        ],
        [
         "13",
         "KINGALDARRA",
         null,
         "Registered Voters",
         "763"
        ],
        [
         "14",
         "KINGALDARRA",
         null,
         "Write-In",
         "20"
        ],
        [
         "15",
         "KINGALDARRA",
         "Republican",
         "Donald J. Trump & Michael R. Pence",
         "215"
        ],
        [
         "16",
         "KINGALDARRA",
         "Socialism & Liberation",
         "Gloria Estela La Riva & Eugene Puryear",
         "0"
        ],
        [
         "17",
         "KINGALDARRA",
         "Socialist Workers",
         "Alyson Kennedy & Osborne Hart",
         "0"
        ],
        [
         "18",
         "KINGALDER SPRINGS",
         "Constitution",
         "Darrell L. Castle & Scott N. Bradley",
         "3"
        ],
        [
         "19",
         "KINGALDER SPRINGS",
         "Democratic",
         "Hillary Clinton & Tim Kaine",
         "235"
        ],
        [
         "20",
         "KINGALDER SPRINGS",
         "Green",
         "Jill Stein & Ajamu Baraka",
         "11"
        ],
        [
         "21",
         "KINGALDER SPRINGS",
         "Libertarian",
         "Gary Johnson & Bill Weld",
         "33"
        ],
        [
         "22",
         "KINGALDER SPRINGS",
         null,
         "Registered Voters",
         "557"
        ],
        [
         "23",
         "KINGALDER SPRINGS",
         null,
         "Write-In",
         "15"
        ],
        [
         "24",
         "KINGALDER SPRINGS",
         "Republican",
         "Donald J. Trump & Michael R. Pence",
         "166"
        ],
        [
         "25",
         "KINGALDER SPRINGS",
         "Socialism & Liberation",
         "Gloria Estela La Riva & Eugene Puryear",
         "1"
        ],
        [
         "26",
         "KINGALDER SPRINGS",
         "Socialist Workers",
         "Alyson Kennedy & Osborne Hart",
         "1"
        ],
        [
         "27",
         "KINGALDERWOOD",
         "Constitution",
         "Darrell L. Castle & Scott N. Bradley",
         "0"
        ],
        [
         "28",
         "KINGALDERWOOD",
         "Democratic",
         "Hillary Clinton & Tim Kaine",
         "243"
        ],
        [
         "29",
         "KINGALDERWOOD",
         "Green",
         "Jill Stein & Ajamu Baraka",
         "2"
        ],
        [
         "30",
         "KINGALDERWOOD",
         "Libertarian",
         "Gary Johnson & Bill Weld",
         "21"
        ],
        [
         "31",
         "KINGALDERWOOD",
         null,
         "Registered Voters",
         "472"
        ],
        [
         "32",
         "KINGALDERWOOD",
         null,
         "Write-In",
         "15"
        ],
        [
         "33",
         "KINGALDERWOOD",
         "Republican",
         "Donald J. Trump & Michael R. Pence",
         "117"
        ],
        [
         "34",
         "KINGALDERWOOD",
         "Socialism & Liberation",
         "Gloria Estela La Riva & Eugene Puryear",
         "0"
        ],
        [
         "35",
         "KINGALDERWOOD",
         "Socialist Workers",
         "Alyson Kennedy & Osborne Hart",
         "0"
        ],
        [
         "36",
         "KINGALG 30-0013",
         "Constitution",
         "Darrell L. Castle & Scott N. Bradley",
         "0"
        ],
        [
         "37",
         "KINGALG 30-0013",
         "Democratic",
         "Hillary Clinton & Tim Kaine",
         "149"
        ],
        [
         "38",
         "KINGALG 30-0013",
         "Green",
         "Jill Stein & Ajamu Baraka",
         "9"
        ],
        [
         "39",
         "KINGALG 30-0013",
         "Libertarian",
         "Gary Johnson & Bill Weld",
         "24"
        ],
        [
         "40",
         "KINGALG 30-0013",
         null,
         "Registered Voters",
         "497"
        ],
        [
         "41",
         "KINGALG 30-0013",
         null,
         "Write-In",
         "10"
        ],
        [
         "42",
         "KINGALG 30-0013",
         "Republican",
         "Donald J. Trump & Michael R. Pence",
         "120"
        ],
        [
         "43",
         "KINGALG 30-0013",
         "Socialism & Liberation",
         "Gloria Estela La Riva & Eugene Puryear",
         "1"
        ],
        [
         "44",
         "KINGALG 30-0013",
         "Socialist Workers",
         "Alyson Kennedy & Osborne Hart",
         "4"
        ],
        [
         "45",
         "KINGALG 30-0014",
         "Constitution",
         "Darrell L. Castle & Scott N. Bradley",
         "3"
        ],
        [
         "46",
         "KINGALG 30-0014",
         "Democratic",
         "Hillary Clinton & Tim Kaine",
         "182"
        ],
        [
         "47",
         "KINGALG 30-0014",
         "Green",
         "Jill Stein & Ajamu Baraka",
         "6"
        ],
        [
         "48",
         "KINGALG 30-0014",
         "Libertarian",
         "Gary Johnson & Bill Weld",
         "17"
        ],
        [
         "49",
         "KINGALG 30-0014",
         null,
         "Registered Voters",
         "525"
        ]
       ],
       "shape": {
        "columns": 4,
        "rows": 54916
       }
      },
      "text/html": [
       "<div>\n",
       "<style scoped>\n",
       "    .dataframe tbody tr th:only-of-type {\n",
       "        vertical-align: middle;\n",
       "    }\n",
       "\n",
       "    .dataframe tbody tr th {\n",
       "        vertical-align: top;\n",
       "    }\n",
       "\n",
       "    .dataframe thead th {\n",
       "        text-align: right;\n",
       "    }\n",
       "</style>\n",
       "<table border=\"1\" class=\"dataframe\">\n",
       "  <thead>\n",
       "    <tr style=\"text-align: right;\">\n",
       "      <th></th>\n",
       "      <th>precinct</th>\n",
       "      <th>party</th>\n",
       "      <th>candidate</th>\n",
       "      <th>votes</th>\n",
       "    </tr>\n",
       "  </thead>\n",
       "  <tbody>\n",
       "    <tr>\n",
       "      <th>0</th>\n",
       "      <td>KINGADAIR</td>\n",
       "      <td>Constitution</td>\n",
       "      <td>Darrell L. Castle &amp; Scott N. Bradley</td>\n",
       "      <td>0</td>\n",
       "    </tr>\n",
       "    <tr>\n",
       "      <th>1</th>\n",
       "      <td>KINGADAIR</td>\n",
       "      <td>Democratic</td>\n",
       "      <td>Hillary Clinton &amp; Tim Kaine</td>\n",
       "      <td>266</td>\n",
       "    </tr>\n",
       "    <tr>\n",
       "      <th>2</th>\n",
       "      <td>KINGADAIR</td>\n",
       "      <td>Green</td>\n",
       "      <td>Jill Stein &amp; Ajamu Baraka</td>\n",
       "      <td>1</td>\n",
       "    </tr>\n",
       "    <tr>\n",
       "      <th>3</th>\n",
       "      <td>KINGADAIR</td>\n",
       "      <td>Libertarian</td>\n",
       "      <td>Gary Johnson &amp; Bill Weld</td>\n",
       "      <td>14</td>\n",
       "    </tr>\n",
       "    <tr>\n",
       "      <th>4</th>\n",
       "      <td>KINGADAIR</td>\n",
       "      <td>NaN</td>\n",
       "      <td>Registered Voters</td>\n",
       "      <td>519</td>\n",
       "    </tr>\n",
       "    <tr>\n",
       "      <th>...</th>\n",
       "      <td>...</td>\n",
       "      <td>...</td>\n",
       "      <td>...</td>\n",
       "      <td>...</td>\n",
       "    </tr>\n",
       "    <tr>\n",
       "      <th>54911</th>\n",
       "      <td>YAKIMA5202.473</td>\n",
       "      <td>Socialist Workers</td>\n",
       "      <td>Alyson Kennedy / Osborne Hart</td>\n",
       "      <td>0</td>\n",
       "    </tr>\n",
       "    <tr>\n",
       "      <th>54912</th>\n",
       "      <td>YAKIMA5202.473</td>\n",
       "      <td>Socialism &amp; Liberation</td>\n",
       "      <td>Gloria Estela La Riva / Eugene Puryear</td>\n",
       "      <td>0</td>\n",
       "    </tr>\n",
       "    <tr>\n",
       "      <th>54913</th>\n",
       "      <td>YAKIMA5202.473</td>\n",
       "      <td>Green</td>\n",
       "      <td>Jill Stein / Ajamu Baraka</td>\n",
       "      <td>0</td>\n",
       "    </tr>\n",
       "    <tr>\n",
       "      <th>54914</th>\n",
       "      <td>YAKIMA5202.473</td>\n",
       "      <td>Constitution</td>\n",
       "      <td>Darrell L. Castle / Scott N. Bradley</td>\n",
       "      <td>0</td>\n",
       "    </tr>\n",
       "    <tr>\n",
       "      <th>54915</th>\n",
       "      <td>YAKIMA5202.473</td>\n",
       "      <td>Libertarian</td>\n",
       "      <td>Gary Johnson / Bill Weld</td>\n",
       "      <td>0</td>\n",
       "    </tr>\n",
       "  </tbody>\n",
       "</table>\n",
       "<p>54916 rows × 4 columns</p>\n",
       "</div>"
      ],
      "text/plain": [
       "             precinct                   party  \\\n",
       "0           KINGADAIR            Constitution   \n",
       "1           KINGADAIR              Democratic   \n",
       "2           KINGADAIR                   Green   \n",
       "3           KINGADAIR             Libertarian   \n",
       "4           KINGADAIR                     NaN   \n",
       "...               ...                     ...   \n",
       "54911  YAKIMA5202.473       Socialist Workers   \n",
       "54912  YAKIMA5202.473  Socialism & Liberation   \n",
       "54913  YAKIMA5202.473                   Green   \n",
       "54914  YAKIMA5202.473            Constitution   \n",
       "54915  YAKIMA5202.473             Libertarian   \n",
       "\n",
       "                                    candidate  votes  \n",
       "0        Darrell L. Castle & Scott N. Bradley      0  \n",
       "1                 Hillary Clinton & Tim Kaine    266  \n",
       "2                   Jill Stein & Ajamu Baraka      1  \n",
       "3                    Gary Johnson & Bill Weld     14  \n",
       "4                           Registered Voters    519  \n",
       "...                                       ...    ...  \n",
       "54911           Alyson Kennedy / Osborne Hart      0  \n",
       "54912  Gloria Estela La Riva / Eugene Puryear      0  \n",
       "54913               Jill Stein / Ajamu Baraka      0  \n",
       "54914    Darrell L. Castle / Scott N. Bradley      0  \n",
       "54915                Gary Johnson / Bill Weld      0  \n",
       "\n",
       "[54916 rows x 4 columns]"
      ]
     },
     "execution_count": 16,
     "metadata": {},
     "output_type": "execute_result"
    }
   ],
   "source": [
    "# Select only the relevant columns\n",
    "general_data = gen_combined_df[[\"precinct\", \"party\", \"candidate\", \"votes\"]]\n",
    "\n",
    "general_data"
   ]
  },
  {
   "cell_type": "code",
   "execution_count": 17,
   "id": "38fba0f1",
   "metadata": {},
   "outputs": [
    {
     "data": {
      "application/vnd.microsoft.datawrangler.viewer.v0+json": {
       "columns": [
        {
         "name": "candidate",
         "rawType": "object",
         "type": "string"
        },
        {
         "name": "count",
         "rawType": "int64",
         "type": "integer"
        }
       ],
       "ref": "aac2396f-e1d5-4846-be51-3980a45cbbb9",
       "rows": [
        [
         "Hillary Clinton / Tim Kaine",
         "4609"
        ],
        [
         "Donald J. Trump / Michael R. Pence",
         "4609"
        ],
        [
         "Alyson Kennedy / Osborne Hart",
         "4609"
        ],
        [
         "Gloria Estela La Riva / Eugene Puryear",
         "4609"
        ],
        [
         "Jill Stein / Ajamu Baraka",
         "4609"
        ],
        [
         "Darrell L. Castle / Scott N. Bradley",
         "4609"
        ],
        [
         "Gary Johnson / Bill Weld",
         "4609"
        ],
        [
         "Darrell L. Castle & Scott N. Bradley",
         "2517"
        ],
        [
         "Hillary Clinton & Tim Kaine",
         "2517"
        ],
        [
         "Jill Stein & Ajamu Baraka",
         "2517"
        ],
        [
         "Gary Johnson & Bill Weld",
         "2517"
        ],
        [
         "Registered Voters",
         "2517"
        ],
        [
         "Write-In",
         "2517"
        ],
        [
         "Donald J. Trump & Michael R. Pence",
         "2517"
        ],
        [
         "Gloria Estela La Riva & Eugene Puryear",
         "2517"
        ],
        [
         "Alyson Kennedy & Osborne Hart",
         "2517"
        ]
       ],
       "shape": {
        "columns": 1,
        "rows": 16
       }
      },
      "text/plain": [
       "candidate\n",
       "Hillary Clinton / Tim Kaine               4609\n",
       "Donald J. Trump / Michael R. Pence        4609\n",
       "Alyson Kennedy / Osborne Hart             4609\n",
       "Gloria Estela La Riva / Eugene Puryear    4609\n",
       "Jill Stein / Ajamu Baraka                 4609\n",
       "Darrell L. Castle / Scott N. Bradley      4609\n",
       "Gary Johnson / Bill Weld                  4609\n",
       "Darrell L. Castle & Scott N. Bradley      2517\n",
       "Hillary Clinton & Tim Kaine               2517\n",
       "Jill Stein & Ajamu Baraka                 2517\n",
       "Gary Johnson & Bill Weld                  2517\n",
       "Registered Voters                         2517\n",
       "Write-In                                  2517\n",
       "Donald J. Trump & Michael R. Pence        2517\n",
       "Gloria Estela La Riva & Eugene Puryear    2517\n",
       "Alyson Kennedy & Osborne Hart             2517\n",
       "Name: count, dtype: int64"
      ]
     },
     "execution_count": 17,
     "metadata": {},
     "output_type": "execute_result"
    }
   ],
   "source": [
    "# Viewing candidate data\n",
    "general_data[\"candidate\"].value_counts(dropna=False)"
   ]
  },
  {
   "cell_type": "code",
   "execution_count": 18,
   "id": "90417a20",
   "metadata": {},
   "outputs": [
    {
     "name": "stderr",
     "output_type": "stream",
     "text": [
      "C:\\Users\\ADMIN\\AppData\\Local\\Temp\\ipykernel_19388\\1319419576.py:4: SettingWithCopyWarning: \n",
      "A value is trying to be set on a copy of a slice from a DataFrame.\n",
      "Try using .loc[row_indexer,col_indexer] = value instead\n",
      "\n",
      "See the caveats in the documentation: https://pandas.pydata.org/pandas-docs/stable/user_guide/indexing.html#returning-a-view-versus-a-copy\n",
      "  general_data[\"candidate\"] = general_data[\"candidate\"].astype(str).str.upper()\n",
      "C:\\Users\\ADMIN\\AppData\\Local\\Temp\\ipykernel_19388\\1319419576.py:46: SettingWithCopyWarning: \n",
      "A value is trying to be set on a copy of a slice from a DataFrame.\n",
      "Try using .loc[row_indexer,col_indexer] = value instead\n",
      "\n",
      "See the caveats in the documentation: https://pandas.pydata.org/pandas-docs/stable/user_guide/indexing.html#returning-a-view-versus-a-copy\n",
      "  general_data[\"candidate\"] = general_data[\"candidate\"].str.extract(r\"^([^/&]+)\").iloc[:, 0].str.strip()\n",
      "C:\\Users\\ADMIN\\AppData\\Local\\Temp\\ipykernel_19388\\1319419576.py:103: SettingWithCopyWarning: \n",
      "A value is trying to be set on a copy of a slice from a DataFrame.\n",
      "Try using .loc[row_indexer,col_indexer] = value instead\n",
      "\n",
      "See the caveats in the documentation: https://pandas.pydata.org/pandas-docs/stable/user_guide/indexing.html#returning-a-view-versus-a-copy\n",
      "  general_data[\"candidate\"] = general_data[\"candidate\"].str.split().str[-1]\n"
     ]
    },
    {
     "data": {
      "application/vnd.microsoft.datawrangler.viewer.v0+json": {
       "columns": [
        {
         "name": "candidate",
         "rawType": "object",
         "type": "string"
        },
        {
         "name": "count",
         "rawType": "int64",
         "type": "integer"
        }
       ],
       "ref": "71d911e6-9266-42fc-b0f1-1c3e200a809f",
       "rows": [
        [
         "CASTLE",
         "7126"
        ],
        [
         "CLINTON",
         "7126"
        ],
        [
         "STEIN",
         "7126"
        ],
        [
         "JOHNSON",
         "7126"
        ],
        [
         "TRUMP",
         "7126"
        ],
        [
         "RIVA",
         "7126"
        ],
        [
         "KENNEDY",
         "7126"
        ]
       ],
       "shape": {
        "columns": 1,
        "rows": 7
       }
      },
      "text/plain": [
       "candidate\n",
       "CASTLE     7126\n",
       "CLINTON    7126\n",
       "STEIN      7126\n",
       "JOHNSON    7126\n",
       "TRUMP      7126\n",
       "RIVA       7126\n",
       "KENNEDY    7126\n",
       "Name: count, dtype: int64"
      ]
     },
     "execution_count": 18,
     "metadata": {},
     "output_type": "execute_result"
    }
   ],
   "source": [
    "# Cleaning Candidates\n",
    "\n",
    "# Turning all general data to uppercase\n",
    "general_data[\"candidate\"] = general_data[\"candidate\"].astype(str).str.upper()\n",
    "\n",
    "\n",
    "unwanted_keywords = [\n",
    "    r\"\\w*VOTE\\w*\",\n",
    "    r\"\\w*UNCOM\\w*\",\n",
    "    r\"\\w*TOTAL\\w*\",\n",
    "    r\"NAN\",\n",
    "    r\"\\w*WRITE[\\s-]\\w*\",\n",
    "    r\"UNCERTIFIED\",\n",
    "    r\"UNVERIFIED\",\n",
    "    r\"NONE OF THE ABOVE\",\n",
    "    r\"LBT\",\n",
    "    r\"DEM\",\n",
    "    r\"REP\",\n",
    "    r\"GRN\",\n",
    "    r\"NAN\"\n",
    "\n",
    "]\n",
    "\n",
    "# Fixing FUENTE\n",
    "general_data.loc[\n",
    "    general_data[\"candidate\"].str.contains(\"\\w*Fuenta\\w*\", case=False, na=False),\n",
    "    \"candidate\"\n",
    "] = \"FUENTE\"\n",
    "pattern = \"|\".join(unwanted_keywords)\n",
    "\n",
    "# # FILTER OUT TRASH WORDS\n",
    "general_data = general_data[~general_data[\"candidate\"].str.upper().str.contains(pattern, regex=True, na=False)]\n",
    "\n",
    "# # Fixing Darrell Castle\"\n",
    "# general_data.loc[\n",
    "#     general_data[\"candidate\"].str.contains(\"\\w*ASTLE\\w*\", case=False, na=False),\n",
    "#     \"candidate\"\n",
    "# ] = \"CASTLE\"\n",
    "\n",
    "# general_data.loc[\n",
    "#     general_data[\"candidate\"].str.contains(\"\\w*ATUREN\\w*\", case=False, na=False),\n",
    "#     \"candidate\"\n",
    "# ] = \"MATUREN\"\n",
    "\n",
    "# Fixing mixed president + vice_president by /\n",
    "general_data[\"candidate\"] = general_data[\"candidate\"].str.extract(r\"^([^/&]+)\").iloc[:, 0].str.strip()\n",
    "\n",
    "# #Selecting only last name\n",
    "# general_data[\"candidate\"] = general_data[\"candidate\"].str.split().str[-1]\n",
    "\n",
    "# # Fixing the , candidate\n",
    "# # general_data[\"candidate\"] = (\n",
    "# #     general_data[\"candidate\"].str.split(\",\")\n",
    "# #     .str[0]\n",
    "# #     .str.strip()\n",
    "# #     )\n",
    "\n",
    "\n",
    "\n",
    "\n",
    "# # Fixing Cubbler\n",
    "# general_data.loc[\n",
    "#     ( \n",
    "#         general_data[\"candidate\"].str.contains(\"\\w*UBBIER\\w*\", case=False, na=False)|\n",
    "#         general_data[\"candidate\"].str.contains(\"\\w*UBLER\\w*\", case=False, na=False)|\n",
    "#         general_data[\"candidate\"].str.contains(\"\\w*OBBLER\\w*\", case=False, na=False),\n",
    "#     \"candidate\")\n",
    "# ] = \"CUBBLER\"\n",
    "\n",
    "\n",
    "# # Fixing Kotlikoff\n",
    "# general_data.loc[\n",
    "#     general_data[\"candidate\"].str.contains(\"\\w*TIKOFF\\w*\", case=False, na=False),\n",
    "#     \"candidate\"\n",
    "# ] = \"KOTLIKOFF\"\n",
    "\n",
    "# # Fixing Valdivia\n",
    "# general_data.loc[\n",
    "#     general_data[\"candidate\"].str.contains(\"\\w*VALDIVA\\W*\", case=False, na=False),\n",
    "#     \"candidate\"\n",
    "# ] = \"VALDIVIA\"\n",
    "\n",
    "# # Fixing HOEFLING\n",
    "# general_data.loc[\n",
    "#     general_data[\"candidate\"].str.contains(\"\\w*HOEFFLING\", case=False, na=False),\n",
    "#     \"candidate\"\n",
    "# ] = \"HOEFLING\"\n",
    "\n",
    "\n",
    "# # Fixing McMullin\n",
    "# general_data.loc[\n",
    "#     general_data[\"candidate\"].str.contains(\"MCMULLEN\", case=False, na=False) ,\n",
    "#     \"candidate\"\n",
    "# ] = \"MCMULLIN\"\n",
    "\n",
    "# Fixing LASTNAME + First name Initial\n",
    "# general_data.loc[:,\"candidate\"] = (\n",
    "#     general_data[\"candidate\"].str.split().str[0].str.upper()\n",
    "# )\n",
    "\n",
    "\n",
    "# #Selecting only last name\n",
    "general_data[\"candidate\"] = general_data[\"candidate\"].str.split().str[-1]\n",
    "\n",
    "general_data[\"candidate\"].value_counts(dropna=False)"
   ]
  },
  {
   "cell_type": "code",
   "execution_count": 19,
   "id": "a22405a6",
   "metadata": {},
   "outputs": [
    {
     "data": {
      "application/vnd.microsoft.datawrangler.viewer.v0+json": {
       "columns": [
        {
         "name": "party",
         "rawType": "object",
         "type": "string"
        },
        {
         "name": "count",
         "rawType": "int64",
         "type": "integer"
        }
       ],
       "ref": "96a53080-1472-4a78-8320-ffd0ba42ca9f",
       "rows": [
        [
         "Constitution",
         "7126"
        ],
        [
         "Democratic",
         "7126"
        ],
        [
         "Green",
         "7126"
        ],
        [
         "Libertarian",
         "7126"
        ],
        [
         "Republican",
         "7126"
        ],
        [
         "Socialism & Liberation",
         "7126"
        ],
        [
         "Socialist Workers",
         "7126"
        ]
       ],
       "shape": {
        "columns": 1,
        "rows": 7
       }
      },
      "text/plain": [
       "party\n",
       "Constitution              7126\n",
       "Democratic                7126\n",
       "Green                     7126\n",
       "Libertarian               7126\n",
       "Republican                7126\n",
       "Socialism & Liberation    7126\n",
       "Socialist Workers         7126\n",
       "Name: count, dtype: int64"
      ]
     },
     "execution_count": 19,
     "metadata": {},
     "output_type": "execute_result"
    }
   ],
   "source": [
    "# Viewing Party\n",
    "general_data[\"party\"].value_counts(dropna=False)"
   ]
  },
  {
   "cell_type": "code",
   "execution_count": 20,
   "id": "21d7595b",
   "metadata": {},
   "outputs": [
    {
     "data": {
      "application/vnd.microsoft.datawrangler.viewer.v0+json": {
       "columns": [
        {
         "name": "party",
         "rawType": "object",
         "type": "string"
        },
        {
         "name": "count",
         "rawType": "int64",
         "type": "integer"
        }
       ],
       "ref": "6b198430-35ff-46da-8610-75ef9196200c",
       "rows": [
        [
         "Constitution",
         "7126"
        ],
        [
         "Democratic",
         "7126"
        ],
        [
         "Green",
         "7126"
        ],
        [
         "Libertarian",
         "7126"
        ],
        [
         "Republican",
         "7126"
        ],
        [
         "Socialism & Liberation",
         "7126"
        ],
        [
         "Socialist Workers",
         "7126"
        ]
       ],
       "shape": {
        "columns": 1,
        "rows": 7
       }
      },
      "text/plain": [
       "party\n",
       "Constitution              7126\n",
       "Democratic                7126\n",
       "Green                     7126\n",
       "Libertarian               7126\n",
       "Republican                7126\n",
       "Socialism & Liberation    7126\n",
       "Socialist Workers         7126\n",
       "Name: count, dtype: int64"
      ]
     },
     "execution_count": 20,
     "metadata": {},
     "output_type": "execute_result"
    }
   ],
   "source": [
    "#=====================================\n",
    "# This function is used to look up party\n",
    "# for the candidate in the same df\n",
    "#=====================================\n",
    "def fill_party_from_data(row, df):\n",
    "    if pd.notna(row[\"party\"]):\n",
    "        return row[\"party\"]\n",
    "    \n",
    "    # Try to find other rows with the same candidate and known party\n",
    "    matches = df[(df[\"candidate\"] == row[\"candidate\"]) & (df[\"party\"].notna())]\n",
    "    if not matches.empty:\n",
    "        return matches[\"party\"].iloc[0]  # Return the first match's party\n",
    "    else:\n",
    "        return None  # Still unknown\n",
    "    \n",
    "\n",
    "#=====================================\n",
    "# Function to fill remaining missing party from master lookup\n",
    "#=====================================\n",
    "def fill_party_from_master(df, master_df):\n",
    "    party_map = master_df.set_index(\"candidate\")[\"party\"].to_dict()\n",
    "    df[\"party\"] = df.apply(\n",
    "        lambda row: party_map.get(row[\"candidate\"], row[\"party\"])\n",
    "        if pd.isna(row[\"party\"]) else row[\"party\"],\n",
    "        axis=1\n",
    "    )\n",
    "    return df\n",
    "\n",
    "\n",
    "#=====================================\n",
    "# Function to update the master candidate-party CSV\n",
    "#=====================================\n",
    "def update_master_candidate_party(df, master_path):\n",
    "    # Read the existing master file\n",
    "    master_df = pd.read_csv(master_path)\n",
    "\n",
    "    # Filter and combine only known party entries (exclude 'UNK')\n",
    "    new_data = (\n",
    "        df[[\"candidate\", \"party\"]]\n",
    "        .dropna()\n",
    "        .query('party != \"UNK\"')\n",
    "        .drop_duplicates()\n",
    "    )\n",
    "\n",
    "    # Merge with master and remove duplicates by candidate\n",
    "    updated_master = pd.concat([master_df, new_data]).drop_duplicates(subset=\"candidate\")\n",
    "\n",
    "    # Save updated version\n",
    "    updated_master.to_csv(master_path, index=False)\n",
    "\n",
    "\n",
    "#=====================================\n",
    "# Example usage (uncomment and modify for your workflow)\n",
    "#=====================================\n",
    "# Fill party using internal data\n",
    "# general_data[\"party\"] = general_data.apply(\n",
    "#     lambda row: fill_party_from_data(row, general_data),\n",
    "#     axis=1\n",
    "# )\n",
    "\n",
    "# # # Fill remaining party using general master CSV\n",
    "# master_party_df = pd.read_csv(r\"C:\\Huy Phan\\College\\VoterTurnout\\data\\cleaned_data\\gen_can_party.csv\") # USE YOUR OWN ADDRESS\n",
    "# general_data = fill_party_from_master(general_data, master_party_df)\n",
    "general_data[\"party\"].value_counts(dropna=False)\n"
   ]
  },
  {
   "cell_type": "code",
   "execution_count": 21,
   "id": "8bb5d275",
   "metadata": {},
   "outputs": [
    {
     "name": "stderr",
     "output_type": "stream",
     "text": [
      "C:\\Users\\ADMIN\\AppData\\Local\\Temp\\ipykernel_19388\\1812050279.py:3: SettingWithCopyWarning: \n",
      "A value is trying to be set on a copy of a slice from a DataFrame.\n",
      "Try using .loc[row_indexer,col_indexer] = value instead\n",
      "\n",
      "See the caveats in the documentation: https://pandas.pydata.org/pandas-docs/stable/user_guide/indexing.html#returning-a-view-versus-a-copy\n",
      "  general_data[\"party\"] = general_data[\"party\"].astype(str).str.upper()\n",
      "C:\\Users\\ADMIN\\AppData\\Local\\Temp\\ipykernel_19388\\1812050279.py:5: SettingWithCopyWarning: \n",
      "A value is trying to be set on a copy of a slice from a DataFrame.\n",
      "Try using .loc[row_indexer,col_indexer] = value instead\n",
      "\n",
      "See the caveats in the documentation: https://pandas.pydata.org/pandas-docs/stable/user_guide/indexing.html#returning-a-view-versus-a-copy\n",
      "  general_data[\"party\"] = (\n"
     ]
    },
    {
     "data": {
      "application/vnd.microsoft.datawrangler.viewer.v0+json": {
       "columns": [
        {
         "name": "party",
         "rawType": "object",
         "type": "string"
        },
        {
         "name": "count",
         "rawType": "int64",
         "type": "integer"
        }
       ],
       "ref": "552e3c7f-93b2-4531-92d2-5a16bb2df5a1",
       "rows": [
        [
         "CON",
         "7126"
        ],
        [
         "DEM",
         "7126"
        ],
        [
         "GRN",
         "7126"
        ],
        [
         "LIB",
         "7126"
        ],
        [
         "REP",
         "7126"
        ],
        [
         "SOL",
         "7126"
        ],
        [
         "SOW",
         "7126"
        ]
       ],
       "shape": {
        "columns": 1,
        "rows": 7
       }
      },
      "text/plain": [
       "party\n",
       "CON    7126\n",
       "DEM    7126\n",
       "GRN    7126\n",
       "LIB    7126\n",
       "REP    7126\n",
       "SOL    7126\n",
       "SOW    7126\n",
       "Name: count, dtype: int64"
      ]
     },
     "execution_count": 21,
     "metadata": {},
     "output_type": "execute_result"
    }
   ],
   "source": [
    "# Cleaning Party\n",
    "# Turning all general data party to uppercase\n",
    "general_data[\"party\"] = general_data[\"party\"].astype(str).str.upper()\n",
    "\n",
    "general_data[\"party\"] = (\n",
    "    general_data[\"party\"]\n",
    "    .replace({\n",
    "        \"REPUBLICAN\": \"REP\",\n",
    "        \"R\": \"REP\",\n",
    "        \"DEMOCRATIC\": \"DEM\",\n",
    "        \"DEMOCRAT\":\"DEM\",\n",
    "        \"DEM\": \"DEM\",\n",
    "        \"D\": \"DEM\",\n",
    "        \"GREEN\": \"GRN\",\n",
    "        \"G\": \"GRN\",\n",
    "        \"GREEN AND RAINBOW\":\"GRN\",\n",
    "        \"GREEN-RAINBOW\":\"GRN\",\n",
    "        \"LIBERTARIAN\": \"LIB\",\n",
    "        \"LIBERTARIN\":\"LIB\",\n",
    "        \"LBT\": \"LIB\",\n",
    "        \"L\": \"LIB\",\n",
    "        \"CONSTITUTION\": \"CON\",\n",
    "        \"AMERICAN DELTA\":\"AMD\",\n",
    "        \"PROHIBITION\":\"PRO\",\n",
    "        \"NP\": \"IND\",\n",
    "        \"NON\": \"IND\",\n",
    "        \"WRI\": \"IND\",\n",
    "        \"WRITE-IN\": \"IND\",\n",
    "        \"ONA\": \"IND\",\n",
    "        \"GEN\": \"IND\",\n",
    "        \"NONE\":\"UNK\",\n",
    "        \"NPA\":\"IND\",\n",
    "        \"UST\":\"CON\",\n",
    "        \"INDEPENDENT\":\"IND\",\n",
    "        \"(WRITE-IN)\":\"IND\",\n",
    "        \"SOCIALISM & LIBERATION\": \"SOL\",\n",
    "        \"SOCIALIST WORKERS\": \"SOW\"\n",
    "    })\n",
    ")\n",
    "\n",
    "general_data[\"party\"].value_counts(dropna=False)"
   ]
  },
  {
   "cell_type": "code",
   "execution_count": 22,
   "id": "ff4a4970",
   "metadata": {},
   "outputs": [],
   "source": [
    "# UPDATE MASTER FILE, CAREFUL\n",
    "update_master_candidate_party(general_data, r\"C:\\Huy Phan\\College\\VoterTurnout\\data\\cleaned_data\\gen_can_party.csv\")"
   ]
  },
  {
   "cell_type": "code",
   "execution_count": 23,
   "id": "daaed088",
   "metadata": {},
   "outputs": [
    {
     "name": "stderr",
     "output_type": "stream",
     "text": [
      "C:\\Users\\ADMIN\\AppData\\Local\\Temp\\ipykernel_19388\\1829951435.py:1: SettingWithCopyWarning: \n",
      "A value is trying to be set on a copy of a slice from a DataFrame.\n",
      "Try using .loc[row_indexer,col_indexer] = value instead\n",
      "\n",
      "See the caveats in the documentation: https://pandas.pydata.org/pandas-docs/stable/user_guide/indexing.html#returning-a-view-versus-a-copy\n",
      "  general_data[\"candidate_column\"] = (\n"
     ]
    },
    {
     "data": {
      "application/vnd.microsoft.datawrangler.viewer.v0+json": {
       "columns": [
        {
         "name": "index",
         "rawType": "int64",
         "type": "integer"
        },
        {
         "name": "precinct",
         "rawType": "object",
         "type": "string"
        },
        {
         "name": "gen_con_CASTLE",
         "rawType": "int64",
         "type": "integer"
        },
        {
         "name": "gen_dem_CLINTON",
         "rawType": "int64",
         "type": "integer"
        },
        {
         "name": "gen_grn_STEIN",
         "rawType": "int64",
         "type": "integer"
        },
        {
         "name": "gen_lib_JOHNSON",
         "rawType": "int64",
         "type": "integer"
        },
        {
         "name": "gen_rep_TRUMP",
         "rawType": "int64",
         "type": "integer"
        },
        {
         "name": "gen_sol_RIVA",
         "rawType": "int64",
         "type": "integer"
        },
        {
         "name": "gen_sow_KENNEDY",
         "rawType": "int64",
         "type": "integer"
        }
       ],
       "ref": "2e064528-9f34-44d7-9624-8654b146bd9d",
       "rows": [
        [
         "0",
         "ADAMSBATUM",
         "0",
         "10",
         "2",
         "2",
         "96",
         "0",
         "0"
        ],
        [
         "1",
         "ADAMSBENGE",
         "0",
         "4",
         "0",
         "0",
         "29",
         "0",
         "0"
        ],
        [
         "2",
         "ADAMSCUNNINGHAM",
         "0",
         "6",
         "0",
         "0",
         "8",
         "0",
         "1"
        ],
        [
         "3",
         "ADAMSFAIRVIEW",
         "0",
         "5",
         "0",
         "1",
         "27",
         "0",
         "0"
        ],
        [
         "4",
         "ADAMSHATTON CITY",
         "0",
         "2",
         "0",
         "1",
         "25",
         "0",
         "0"
        ],
        [
         "5",
         "ADAMSHATTON RURAL",
         "1",
         "2",
         "0",
         "2",
         "38",
         "0",
         "0"
        ],
        [
         "6",
         "ADAMSLIND #1",
         "2",
         "46",
         "0",
         "14",
         "176",
         "0",
         "1"
        ],
        [
         "7",
         "ADAMSLIND RURAL",
         "1",
         "15",
         "0",
         "5",
         "54",
         "0",
         "0"
        ],
        [
         "8",
         "ADAMSOTHELLO CITY #1",
         "0",
         "21",
         "1",
         "4",
         "23",
         "1",
         "0"
        ],
        [
         "9",
         "ADAMSOTHELLO CITY #2",
         "4",
         "143",
         "0",
         "8",
         "124",
         "1",
         "0"
        ],
        [
         "10",
         "ADAMSOTHELLO CITY #3",
         "1",
         "140",
         "1",
         "14",
         "121",
         "1",
         "0"
        ],
        [
         "11",
         "ADAMSOTHELLO CITY #4",
         "3",
         "93",
         "1",
         "12",
         "163",
         "0",
         "1"
        ],
        [
         "12",
         "ADAMSOTHELLO CITY #5",
         "6",
         "89",
         "2",
         "13",
         "132",
         "1",
         "0"
        ],
        [
         "13",
         "ADAMSOTHELLO CITY #6",
         "0",
         "99",
         "3",
         "8",
         "124",
         "2",
         "0"
        ],
        [
         "14",
         "ADAMSOTHELLO RURAL #1",
         "0",
         "67",
         "0",
         "6",
         "50",
         "0",
         "1"
        ],
        [
         "15",
         "ADAMSOTHELLO RURAL #2",
         "0",
         "59",
         "1",
         "2",
         "116",
         "0",
         "0"
        ],
        [
         "16",
         "ADAMSOTHELLO RURAL #3",
         "2",
         "88",
         "1",
         "9",
         "221",
         "0",
         "1"
        ],
        [
         "17",
         "ADAMSOTHELLO RURAL #4",
         "2",
         "66",
         "1",
         "3",
         "170",
         "0",
         "1"
        ],
        [
         "18",
         "ADAMSOTHELLO RURAL #5",
         "2",
         "43",
         "0",
         "7",
         "133",
         "3",
         "1"
        ],
        [
         "19",
         "ADAMSOTHELLO RURAL #6",
         "1",
         "31",
         "0",
         "5",
         "208",
         "0",
         "0"
        ],
        [
         "20",
         "ADAMSRALSTON",
         "0",
         "4",
         "0",
         "2",
         "34",
         "0",
         "0"
        ],
        [
         "21",
         "ADAMSRITZVILLE RURAL NW",
         "0",
         "19",
         "2",
         "7",
         "132",
         "0",
         "1"
        ],
        [
         "22",
         "ADAMSRITZVILLE RURAL SE",
         "0",
         "16",
         "0",
         "5",
         "137",
         "0",
         "0"
        ],
        [
         "23",
         "ADAMSRITZVILLE WARD #1",
         "2",
         "24",
         "1",
         "4",
         "109",
         "0",
         "0"
        ],
        [
         "24",
         "ADAMSRITZVILLE WARD #2",
         "3",
         "26",
         "0",
         "1",
         "96",
         "0",
         "0"
        ],
        [
         "25",
         "ADAMSRITZVILLE WARD #3",
         "0",
         "56",
         "1",
         "12",
         "117",
         "0",
         "0"
        ],
        [
         "26",
         "ADAMSRITZVILLE WARD #4",
         "3",
         "54",
         "1",
         "8",
         "113",
         "1",
         "1"
        ],
        [
         "27",
         "ADAMSRITZVILLE WARD #5",
         "1",
         "48",
         "1",
         "10",
         "123",
         "0",
         "0"
        ],
        [
         "28",
         "ADAMSSCHRAG",
         "0",
         "6",
         "1",
         "2",
         "43",
         "0",
         "0"
        ],
        [
         "29",
         "ADAMSWASHTUCNA CITY #1",
         "4",
         "14",
         "2",
         "6",
         "78",
         "0",
         "0"
        ],
        [
         "30",
         "ADAMSWASHTUCNA RURAL",
         "0",
         "3",
         "0",
         "10",
         "63",
         "0",
         "0"
        ],
        [
         "31",
         "ASOTINANATONE",
         "3",
         "32",
         "0",
         "15",
         "153",
         "0",
         "0"
        ],
        [
         "32",
         "ASOTINASOTIN #1",
         "5",
         "91",
         "2",
         "11",
         "157",
         "1",
         "0"
        ],
        [
         "33",
         "ASOTINASOTIN #2",
         "3",
         "73",
         "6",
         "17",
         "185",
         "0",
         "0"
        ],
        [
         "34",
         "ASOTINCLARKSTON #1",
         "6",
         "110",
         "3",
         "21",
         "131",
         "0",
         "0"
        ],
        [
         "35",
         "ASOTINCLARKSTON #2",
         "2",
         "144",
         "10",
         "28",
         "179",
         "2",
         "1"
        ],
        [
         "36",
         "ASOTINCLARKSTON #3",
         "5",
         "136",
         "6",
         "14",
         "152",
         "0",
         "0"
        ],
        [
         "37",
         "ASOTINCLARKSTON #4",
         "7",
         "123",
         "2",
         "12",
         "208",
         "0",
         "0"
        ],
        [
         "38",
         "ASOTINCLARKSTON #5",
         "0",
         "102",
         "4",
         "13",
         "130",
         "0",
         "0"
        ],
        [
         "39",
         "ASOTINCLARKSTON #6",
         "2",
         "137",
         "5",
         "37",
         "177",
         "0",
         "3"
        ],
        [
         "40",
         "ASOTINCLARKSTON #7",
         "0",
         "103",
         "9",
         "23",
         "126",
         "0",
         "0"
        ],
        [
         "41",
         "ASOTINCLARKSTON #8",
         "5",
         "118",
         "8",
         "14",
         "194",
         "0",
         "1"
        ],
        [
         "42",
         "ASOTINCLARKSTON HTS #1",
         "3",
         "132",
         "0",
         "22",
         "272",
         "0",
         "0"
        ],
        [
         "43",
         "ASOTINCLARKSTON HTS #2",
         "6",
         "189",
         "7",
         "45",
         "415",
         "1",
         "1"
        ],
        [
         "44",
         "ASOTINCLARKSTON HTS #3",
         "5",
         "42",
         "1",
         "8",
         "99",
         "0",
         "0"
        ],
        [
         "45",
         "ASOTINCLARKSTON HTS #4",
         "2",
         "116",
         "12",
         "25",
         "212",
         "0",
         "1"
        ],
        [
         "46",
         "ASOTINCLARKSTON HTS #5",
         "11",
         "181",
         "7",
         "51",
         "486",
         "0",
         "1"
        ],
        [
         "47",
         "ASOTINCLARKSTON HTS #6",
         "7",
         "199",
         "2",
         "27",
         "365",
         "0",
         "2"
        ],
        [
         "48",
         "ASOTINCLARKSTON HTS #7",
         "1",
         "137",
         "5",
         "46",
         "278",
         "0",
         "2"
        ],
        [
         "49",
         "ASOTINRURAL ASOTIN",
         "2",
         "37",
         "0",
         "7",
         "163",
         "0",
         "0"
        ]
       ],
       "shape": {
        "columns": 8,
        "rows": 7125
       }
      },
      "text/html": [
       "<div>\n",
       "<style scoped>\n",
       "    .dataframe tbody tr th:only-of-type {\n",
       "        vertical-align: middle;\n",
       "    }\n",
       "\n",
       "    .dataframe tbody tr th {\n",
       "        vertical-align: top;\n",
       "    }\n",
       "\n",
       "    .dataframe thead th {\n",
       "        text-align: right;\n",
       "    }\n",
       "</style>\n",
       "<table border=\"1\" class=\"dataframe\">\n",
       "  <thead>\n",
       "    <tr style=\"text-align: right;\">\n",
       "      <th>candidate_column</th>\n",
       "      <th>precinct</th>\n",
       "      <th>gen_con_CASTLE</th>\n",
       "      <th>gen_dem_CLINTON</th>\n",
       "      <th>gen_grn_STEIN</th>\n",
       "      <th>gen_lib_JOHNSON</th>\n",
       "      <th>gen_rep_TRUMP</th>\n",
       "      <th>gen_sol_RIVA</th>\n",
       "      <th>gen_sow_KENNEDY</th>\n",
       "    </tr>\n",
       "  </thead>\n",
       "  <tbody>\n",
       "    <tr>\n",
       "      <th>0</th>\n",
       "      <td>ADAMSBATUM</td>\n",
       "      <td>0</td>\n",
       "      <td>10</td>\n",
       "      <td>2</td>\n",
       "      <td>2</td>\n",
       "      <td>96</td>\n",
       "      <td>0</td>\n",
       "      <td>0</td>\n",
       "    </tr>\n",
       "    <tr>\n",
       "      <th>1</th>\n",
       "      <td>ADAMSBENGE</td>\n",
       "      <td>0</td>\n",
       "      <td>4</td>\n",
       "      <td>0</td>\n",
       "      <td>0</td>\n",
       "      <td>29</td>\n",
       "      <td>0</td>\n",
       "      <td>0</td>\n",
       "    </tr>\n",
       "    <tr>\n",
       "      <th>2</th>\n",
       "      <td>ADAMSCUNNINGHAM</td>\n",
       "      <td>0</td>\n",
       "      <td>6</td>\n",
       "      <td>0</td>\n",
       "      <td>0</td>\n",
       "      <td>8</td>\n",
       "      <td>0</td>\n",
       "      <td>1</td>\n",
       "    </tr>\n",
       "    <tr>\n",
       "      <th>3</th>\n",
       "      <td>ADAMSFAIRVIEW</td>\n",
       "      <td>0</td>\n",
       "      <td>5</td>\n",
       "      <td>0</td>\n",
       "      <td>1</td>\n",
       "      <td>27</td>\n",
       "      <td>0</td>\n",
       "      <td>0</td>\n",
       "    </tr>\n",
       "    <tr>\n",
       "      <th>4</th>\n",
       "      <td>ADAMSHATTON CITY</td>\n",
       "      <td>0</td>\n",
       "      <td>2</td>\n",
       "      <td>0</td>\n",
       "      <td>1</td>\n",
       "      <td>25</td>\n",
       "      <td>0</td>\n",
       "      <td>0</td>\n",
       "    </tr>\n",
       "    <tr>\n",
       "      <th>...</th>\n",
       "      <td>...</td>\n",
       "      <td>...</td>\n",
       "      <td>...</td>\n",
       "      <td>...</td>\n",
       "      <td>...</td>\n",
       "      <td>...</td>\n",
       "      <td>...</td>\n",
       "      <td>...</td>\n",
       "    </tr>\n",
       "    <tr>\n",
       "      <th>7120</th>\n",
       "      <td>YAKIMA5020.5839999999998</td>\n",
       "      <td>1</td>\n",
       "      <td>95</td>\n",
       "      <td>4</td>\n",
       "      <td>16</td>\n",
       "      <td>240</td>\n",
       "      <td>0</td>\n",
       "      <td>1</td>\n",
       "    </tr>\n",
       "    <tr>\n",
       "      <th>7121</th>\n",
       "      <td>YAKIMA5101.38</td>\n",
       "      <td>0</td>\n",
       "      <td>91</td>\n",
       "      <td>2</td>\n",
       "      <td>14</td>\n",
       "      <td>176</td>\n",
       "      <td>0</td>\n",
       "      <td>0</td>\n",
       "    </tr>\n",
       "    <tr>\n",
       "      <th>7122</th>\n",
       "      <td>YAKIMA5202.473</td>\n",
       "      <td>0</td>\n",
       "      <td>0</td>\n",
       "      <td>0</td>\n",
       "      <td>0</td>\n",
       "      <td>0</td>\n",
       "      <td>0</td>\n",
       "      <td>0</td>\n",
       "    </tr>\n",
       "    <tr>\n",
       "      <th>7123</th>\n",
       "      <td>YAKIMA701.6</td>\n",
       "      <td>0</td>\n",
       "      <td>97</td>\n",
       "      <td>1</td>\n",
       "      <td>8</td>\n",
       "      <td>53</td>\n",
       "      <td>1</td>\n",
       "      <td>0</td>\n",
       "    </tr>\n",
       "    <tr>\n",
       "      <th>7124</th>\n",
       "      <td>YAKIMA901.42</td>\n",
       "      <td>2</td>\n",
       "      <td>255</td>\n",
       "      <td>2</td>\n",
       "      <td>3</td>\n",
       "      <td>42</td>\n",
       "      <td>2</td>\n",
       "      <td>0</td>\n",
       "    </tr>\n",
       "  </tbody>\n",
       "</table>\n",
       "<p>7125 rows × 8 columns</p>\n",
       "</div>"
      ],
      "text/plain": [
       "candidate_column                  precinct  gen_con_CASTLE  gen_dem_CLINTON  \\\n",
       "0                               ADAMSBATUM               0               10   \n",
       "1                               ADAMSBENGE               0                4   \n",
       "2                          ADAMSCUNNINGHAM               0                6   \n",
       "3                            ADAMSFAIRVIEW               0                5   \n",
       "4                         ADAMSHATTON CITY               0                2   \n",
       "...                                    ...             ...              ...   \n",
       "7120              YAKIMA5020.5839999999998               1               95   \n",
       "7121                         YAKIMA5101.38               0               91   \n",
       "7122                        YAKIMA5202.473               0                0   \n",
       "7123                           YAKIMA701.6               0               97   \n",
       "7124                          YAKIMA901.42               2              255   \n",
       "\n",
       "candidate_column  gen_grn_STEIN  gen_lib_JOHNSON  gen_rep_TRUMP  gen_sol_RIVA  \\\n",
       "0                             2                2             96             0   \n",
       "1                             0                0             29             0   \n",
       "2                             0                0              8             0   \n",
       "3                             0                1             27             0   \n",
       "4                             0                1             25             0   \n",
       "...                         ...              ...            ...           ...   \n",
       "7120                          4               16            240             0   \n",
       "7121                          2               14            176             0   \n",
       "7122                          0                0              0             0   \n",
       "7123                          1                8             53             1   \n",
       "7124                          2                3             42             2   \n",
       "\n",
       "candidate_column  gen_sow_KENNEDY  \n",
       "0                               0  \n",
       "1                               0  \n",
       "2                               1  \n",
       "3                               0  \n",
       "4                               0  \n",
       "...                           ...  \n",
       "7120                            1  \n",
       "7121                            0  \n",
       "7122                            0  \n",
       "7123                            0  \n",
       "7124                            0  \n",
       "\n",
       "[7125 rows x 8 columns]"
      ]
     },
     "execution_count": 23,
     "metadata": {},
     "output_type": "execute_result"
    }
   ],
   "source": [
    "general_data[\"candidate_column\"] = (\n",
    "    \"gen_\" +\n",
    "    general_data[\"party\"].str.lower() + \"_\" +\n",
    "    general_data[\"candidate\"].str.split().str[-1].str.upper()\n",
    ")\n",
    "\n",
    "# pivot the table\n",
    "general_result = general_data.pivot_table(\n",
    "    index=\"precinct\",\n",
    "    columns=\"candidate_column\",\n",
    "    values=\"votes\",\n",
    "    aggfunc=\"sum\",  \n",
    "    fill_value=0\n",
    ").reset_index()\n",
    "\n",
    "general_result"
   ]
  },
  {
   "cell_type": "code",
   "execution_count": 24,
   "id": "6686d34b",
   "metadata": {},
   "outputs": [
    {
     "data": {
      "application/vnd.microsoft.datawrangler.viewer.v0+json": {
       "columns": [
        {
         "name": "index",
         "rawType": "int64",
         "type": "integer"
        },
        {
         "name": "precinct",
         "rawType": "object",
         "type": "string"
        },
        {
         "name": "pri_dem_CLINTON",
         "rawType": "int32",
         "type": "integer"
        },
        {
         "name": "pri_dem_SANDERS",
         "rawType": "int32",
         "type": "integer"
        },
        {
         "name": "pri_rep_CARSON",
         "rawType": "int32",
         "type": "integer"
        },
        {
         "name": "pri_rep_CRUZ",
         "rawType": "int32",
         "type": "integer"
        },
        {
         "name": "pri_rep_KASICH",
         "rawType": "int32",
         "type": "integer"
        },
        {
         "name": "pri_rep_TRUMP",
         "rawType": "int32",
         "type": "integer"
        },
        {
         "name": "gen_con_CASTLE",
         "rawType": "int32",
         "type": "integer"
        },
        {
         "name": "gen_dem_CLINTON",
         "rawType": "int32",
         "type": "integer"
        },
        {
         "name": "gen_grn_STEIN",
         "rawType": "int32",
         "type": "integer"
        },
        {
         "name": "gen_lib_JOHNSON",
         "rawType": "int32",
         "type": "integer"
        },
        {
         "name": "gen_rep_TRUMP",
         "rawType": "int32",
         "type": "integer"
        },
        {
         "name": "gen_sol_RIVA",
         "rawType": "int32",
         "type": "integer"
        },
        {
         "name": "gen_sow_KENNEDY",
         "rawType": "int32",
         "type": "integer"
        },
        {
         "name": "dem_primary_total",
         "rawType": "int32",
         "type": "integer"
        },
        {
         "name": "rep_primary_total",
         "rawType": "int32",
         "type": "integer"
        },
        {
         "name": "dem_general_total",
         "rawType": "int32",
         "type": "integer"
        },
        {
         "name": "rep_general_total",
         "rawType": "int32",
         "type": "integer"
        }
       ],
       "ref": "2178eb6c-0816-4acf-8473-64dcd3a1c3dd",
       "rows": [
        [
         "0",
         "ADAMSBATUM",
         "2",
         "6",
         "5",
         "4",
         "0",
         "34",
         "0",
         "10",
         "2",
         "2",
         "96",
         "0",
         "0",
         "8",
         "43",
         "10",
         "96"
        ],
        [
         "1",
         "ADAMSBENGE",
         "3",
         "2",
         "0",
         "3",
         "0",
         "14",
         "0",
         "4",
         "0",
         "0",
         "29",
         "0",
         "0",
         "5",
         "17",
         "4",
         "29"
        ],
        [
         "2",
         "ADAMSCUNNINGHAM",
         "0",
         "0",
         "0",
         "0",
         "0",
         "0",
         "0",
         "6",
         "0",
         "0",
         "8",
         "0",
         "1",
         "0",
         "0",
         "6",
         "8"
        ],
        [
         "3",
         "ADAMSFAIRVIEW",
         "2",
         "2",
         "0",
         "0",
         "0",
         "0",
         "0",
         "5",
         "0",
         "1",
         "27",
         "0",
         "0",
         "4",
         "0",
         "5",
         "27"
        ],
        [
         "4",
         "ADAMSHATTON CITY",
         "0",
         "0",
         "0",
         "0",
         "0",
         "0",
         "0",
         "2",
         "0",
         "1",
         "25",
         "0",
         "0",
         "0",
         "0",
         "2",
         "25"
        ],
        [
         "5",
         "ADAMSHATTON RURAL",
         "0",
         "0",
         "0",
         "1",
         "2",
         "12",
         "1",
         "2",
         "0",
         "2",
         "38",
         "0",
         "0",
         "0",
         "15",
         "2",
         "38"
        ],
        [
         "6",
         "ADAMSLIND #1",
         "17",
         "20",
         "0",
         "0",
         "0",
         "0",
         "2",
         "46",
         "0",
         "14",
         "176",
         "0",
         "1",
         "37",
         "0",
         "46",
         "176"
        ],
        [
         "7",
         "ADAMSLIND RURAL",
         "3",
         "4",
         "2",
         "4",
         "1",
         "32",
         "1",
         "15",
         "0",
         "5",
         "54",
         "0",
         "0",
         "7",
         "39",
         "15",
         "54"
        ],
        [
         "8",
         "ADAMSOTHELLO CITY #1",
         "0",
         "0",
         "0",
         "0",
         "0",
         "0",
         "0",
         "21",
         "1",
         "4",
         "23",
         "1",
         "0",
         "0",
         "0",
         "21",
         "23"
        ],
        [
         "9",
         "ADAMSOTHELLO CITY #2",
         "28",
         "37",
         "10",
         "11",
         "2",
         "55",
         "4",
         "143",
         "0",
         "8",
         "124",
         "1",
         "0",
         "65",
         "78",
         "143",
         "124"
        ],
        [
         "10",
         "ADAMSOTHELLO CITY #3",
         "51",
         "19",
         "1",
         "9",
         "4",
         "46",
         "1",
         "140",
         "1",
         "14",
         "121",
         "1",
         "0",
         "70",
         "60",
         "140",
         "121"
        ],
        [
         "11",
         "ADAMSOTHELLO CITY #4",
         "26",
         "21",
         "3",
         "16",
         "7",
         "53",
         "3",
         "93",
         "1",
         "12",
         "163",
         "0",
         "1",
         "47",
         "79",
         "93",
         "163"
        ],
        [
         "12",
         "ADAMSOTHELLO CITY #5",
         "21",
         "21",
         "4",
         "21",
         "4",
         "60",
         "6",
         "89",
         "2",
         "13",
         "132",
         "1",
         "0",
         "42",
         "89",
         "89",
         "132"
        ],
        [
         "13",
         "ADAMSOTHELLO CITY #6",
         "28",
         "17",
         "3",
         "3",
         "2",
         "29",
         "0",
         "99",
         "3",
         "8",
         "124",
         "2",
         "0",
         "45",
         "37",
         "99",
         "124"
        ],
        [
         "14",
         "ADAMSOTHELLO RURAL #1",
         "26",
         "15",
         "0",
         "2",
         "1",
         "16",
         "0",
         "67",
         "0",
         "6",
         "50",
         "0",
         "1",
         "41",
         "19",
         "67",
         "50"
        ],
        [
         "15",
         "ADAMSOTHELLO RURAL #2",
         "17",
         "12",
         "2",
         "8",
         "2",
         "49",
         "0",
         "59",
         "1",
         "2",
         "116",
         "0",
         "0",
         "29",
         "61",
         "59",
         "116"
        ],
        [
         "16",
         "ADAMSOTHELLO RURAL #3",
         "29",
         "23",
         "4",
         "13",
         "1",
         "83",
         "2",
         "88",
         "1",
         "9",
         "221",
         "0",
         "1",
         "52",
         "101",
         "88",
         "221"
        ],
        [
         "17",
         "ADAMSOTHELLO RURAL #4",
         "17",
         "9",
         "1",
         "18",
         "4",
         "60",
         "2",
         "66",
         "1",
         "3",
         "170",
         "0",
         "1",
         "26",
         "83",
         "66",
         "170"
        ],
        [
         "18",
         "ADAMSOTHELLO RURAL #5",
         "11",
         "12",
         "1",
         "13",
         "1",
         "48",
         "2",
         "43",
         "0",
         "7",
         "133",
         "3",
         "1",
         "23",
         "63",
         "43",
         "133"
        ],
        [
         "19",
         "ADAMSOTHELLO RURAL #6",
         "5",
         "10",
         "4",
         "5",
         "5",
         "88",
         "1",
         "31",
         "0",
         "5",
         "208",
         "0",
         "0",
         "15",
         "102",
         "31",
         "208"
        ],
        [
         "20",
         "ADAMSRALSTON",
         "0",
         "0",
         "3",
         "3",
         "1",
         "15",
         "0",
         "4",
         "0",
         "2",
         "34",
         "0",
         "0",
         "0",
         "22",
         "4",
         "34"
        ],
        [
         "21",
         "ADAMSRITZVILLE RURAL NW",
         "5",
         "11",
         "8",
         "3",
         "6",
         "76",
         "0",
         "19",
         "2",
         "7",
         "132",
         "0",
         "1",
         "16",
         "93",
         "19",
         "132"
        ],
        [
         "22",
         "ADAMSRITZVILLE RURAL SE",
         "9",
         "7",
         "3",
         "11",
         "6",
         "55",
         "0",
         "16",
         "0",
         "5",
         "137",
         "0",
         "0",
         "16",
         "75",
         "16",
         "137"
        ],
        [
         "23",
         "ADAMSRITZVILLE WARD #1",
         "11",
         "6",
         "2",
         "6",
         "2",
         "45",
         "2",
         "24",
         "1",
         "4",
         "109",
         "0",
         "0",
         "17",
         "55",
         "24",
         "109"
        ],
        [
         "24",
         "ADAMSRITZVILLE WARD #2",
         "14",
         "10",
         "2",
         "6",
         "1",
         "41",
         "3",
         "26",
         "0",
         "1",
         "96",
         "0",
         "0",
         "24",
         "50",
         "26",
         "96"
        ],
        [
         "25",
         "ADAMSRITZVILLE WARD #3",
         "17",
         "11",
         "8",
         "8",
         "2",
         "59",
         "0",
         "56",
         "1",
         "12",
         "117",
         "0",
         "0",
         "28",
         "77",
         "56",
         "117"
        ],
        [
         "26",
         "ADAMSRITZVILLE WARD #4",
         "16",
         "19",
         "1",
         "10",
         "13",
         "44",
         "3",
         "54",
         "1",
         "8",
         "113",
         "1",
         "1",
         "35",
         "68",
         "54",
         "113"
        ],
        [
         "27",
         "ADAMSRITZVILLE WARD #5",
         "18",
         "11",
         "4",
         "5",
         "11",
         "53",
         "1",
         "48",
         "1",
         "10",
         "123",
         "0",
         "0",
         "29",
         "73",
         "48",
         "123"
        ],
        [
         "28",
         "ADAMSSCHRAG",
         "0",
         "0",
         "2",
         "4",
         "0",
         "17",
         "0",
         "6",
         "1",
         "2",
         "43",
         "0",
         "0",
         "0",
         "23",
         "6",
         "43"
        ],
        [
         "29",
         "ADAMSWASHTUCNA CITY #1",
         "6",
         "9",
         "0",
         "4",
         "4",
         "51",
         "4",
         "14",
         "2",
         "6",
         "78",
         "0",
         "0",
         "15",
         "59",
         "14",
         "78"
        ],
        [
         "30",
         "ADAMSWASHTUCNA RURAL",
         "0",
         "0",
         "2",
         "2",
         "5",
         "27",
         "0",
         "3",
         "0",
         "10",
         "63",
         "0",
         "0",
         "0",
         "36",
         "3",
         "63"
        ],
        [
         "31",
         "ASOTINANATONE",
         "7",
         "18",
         "4",
         "13",
         "2",
         "71",
         "3",
         "32",
         "0",
         "15",
         "153",
         "0",
         "0",
         "25",
         "90",
         "32",
         "153"
        ],
        [
         "32",
         "ASOTINASOTIN #1",
         "41",
         "29",
         "6",
         "7",
         "0",
         "73",
         "5",
         "91",
         "2",
         "11",
         "157",
         "1",
         "0",
         "70",
         "86",
         "91",
         "157"
        ],
        [
         "33",
         "ASOTINASOTIN #2",
         "24",
         "28",
         "3",
         "2",
         "8",
         "73",
         "3",
         "73",
         "6",
         "17",
         "185",
         "0",
         "0",
         "52",
         "86",
         "73",
         "185"
        ],
        [
         "34",
         "ASOTINCLARKSTON #1",
         "31",
         "40",
         "8",
         "4",
         "3",
         "58",
         "6",
         "110",
         "3",
         "21",
         "131",
         "0",
         "0",
         "71",
         "73",
         "110",
         "131"
        ],
        [
         "35",
         "ASOTINCLARKSTON #2",
         "47",
         "58",
         "6",
         "16",
         "12",
         "67",
         "2",
         "144",
         "10",
         "28",
         "179",
         "2",
         "1",
         "105",
         "101",
         "144",
         "179"
        ],
        [
         "36",
         "ASOTINCLARKSTON #3",
         "46",
         "39",
         "3",
         "12",
         "11",
         "55",
         "5",
         "136",
         "6",
         "14",
         "152",
         "0",
         "0",
         "85",
         "81",
         "136",
         "152"
        ],
        [
         "37",
         "ASOTINCLARKSTON #4",
         "38",
         "40",
         "8",
         "5",
         "2",
         "94",
         "7",
         "123",
         "2",
         "12",
         "208",
         "0",
         "0",
         "78",
         "109",
         "123",
         "208"
        ],
        [
         "38",
         "ASOTINCLARKSTON #5",
         "36",
         "30",
         "2",
         "10",
         "8",
         "47",
         "0",
         "102",
         "4",
         "13",
         "130",
         "0",
         "0",
         "66",
         "67",
         "102",
         "130"
        ],
        [
         "39",
         "ASOTINCLARKSTON #6",
         "45",
         "43",
         "8",
         "14",
         "7",
         "82",
         "2",
         "137",
         "5",
         "37",
         "177",
         "0",
         "3",
         "88",
         "111",
         "137",
         "177"
        ],
        [
         "40",
         "ASOTINCLARKSTON #7",
         "41",
         "27",
         "4",
         "7",
         "3",
         "55",
         "0",
         "103",
         "9",
         "23",
         "126",
         "0",
         "0",
         "68",
         "69",
         "103",
         "126"
        ],
        [
         "41",
         "ASOTINCLARKSTON #8",
         "47",
         "39",
         "3",
         "6",
         "6",
         "70",
         "5",
         "118",
         "8",
         "14",
         "194",
         "0",
         "1",
         "86",
         "85",
         "118",
         "194"
        ],
        [
         "42",
         "ASOTINCLARKSTON HTS #1",
         "40",
         "36",
         "5",
         "8",
         "15",
         "128",
         "3",
         "132",
         "0",
         "22",
         "272",
         "0",
         "0",
         "76",
         "156",
         "132",
         "272"
        ],
        [
         "43",
         "ASOTINCLARKSTON HTS #2",
         "70",
         "52",
         "9",
         "19",
         "15",
         "196",
         "6",
         "189",
         "7",
         "45",
         "415",
         "1",
         "1",
         "122",
         "239",
         "189",
         "415"
        ],
        [
         "44",
         "ASOTINCLARKSTON HTS #3",
         "21",
         "8",
         "1",
         "6",
         "1",
         "43",
         "5",
         "42",
         "1",
         "8",
         "99",
         "0",
         "0",
         "29",
         "51",
         "42",
         "99"
        ],
        [
         "45",
         "ASOTINCLARKSTON HTS #4",
         "53",
         "33",
         "5",
         "15",
         "9",
         "87",
         "2",
         "116",
         "12",
         "25",
         "212",
         "0",
         "1",
         "86",
         "116",
         "116",
         "212"
        ],
        [
         "46",
         "ASOTINCLARKSTON HTS #5",
         "60",
         "65",
         "17",
         "23",
         "7",
         "215",
         "11",
         "181",
         "7",
         "51",
         "486",
         "0",
         "1",
         "125",
         "262",
         "181",
         "486"
        ],
        [
         "47",
         "ASOTINCLARKSTON HTS #6",
         "86",
         "55",
         "18",
         "11",
         "16",
         "171",
         "7",
         "199",
         "2",
         "27",
         "365",
         "0",
         "2",
         "141",
         "216",
         "199",
         "365"
        ],
        [
         "48",
         "ASOTINCLARKSTON HTS #7",
         "58",
         "47",
         "13",
         "18",
         "6",
         "126",
         "1",
         "137",
         "5",
         "46",
         "278",
         "0",
         "2",
         "105",
         "163",
         "137",
         "278"
        ],
        [
         "49",
         "ASOTINRURAL ASOTIN",
         "17",
         "14",
         "3",
         "7",
         "9",
         "84",
         "2",
         "37",
         "0",
         "7",
         "163",
         "0",
         "0",
         "31",
         "103",
         "37",
         "163"
        ]
       ],
       "shape": {
        "columns": 18,
        "rows": 7114
       }
      },
      "text/html": [
       "<div>\n",
       "<style scoped>\n",
       "    .dataframe tbody tr th:only-of-type {\n",
       "        vertical-align: middle;\n",
       "    }\n",
       "\n",
       "    .dataframe tbody tr th {\n",
       "        vertical-align: top;\n",
       "    }\n",
       "\n",
       "    .dataframe thead th {\n",
       "        text-align: right;\n",
       "    }\n",
       "</style>\n",
       "<table border=\"1\" class=\"dataframe\">\n",
       "  <thead>\n",
       "    <tr style=\"text-align: right;\">\n",
       "      <th>candidate_column</th>\n",
       "      <th>precinct</th>\n",
       "      <th>pri_dem_CLINTON</th>\n",
       "      <th>pri_dem_SANDERS</th>\n",
       "      <th>pri_rep_CARSON</th>\n",
       "      <th>pri_rep_CRUZ</th>\n",
       "      <th>pri_rep_KASICH</th>\n",
       "      <th>pri_rep_TRUMP</th>\n",
       "      <th>gen_con_CASTLE</th>\n",
       "      <th>gen_dem_CLINTON</th>\n",
       "      <th>gen_grn_STEIN</th>\n",
       "      <th>gen_lib_JOHNSON</th>\n",
       "      <th>gen_rep_TRUMP</th>\n",
       "      <th>gen_sol_RIVA</th>\n",
       "      <th>gen_sow_KENNEDY</th>\n",
       "      <th>dem_primary_total</th>\n",
       "      <th>rep_primary_total</th>\n",
       "      <th>dem_general_total</th>\n",
       "      <th>rep_general_total</th>\n",
       "    </tr>\n",
       "  </thead>\n",
       "  <tbody>\n",
       "    <tr>\n",
       "      <th>0</th>\n",
       "      <td>ADAMSBATUM</td>\n",
       "      <td>2</td>\n",
       "      <td>6</td>\n",
       "      <td>5</td>\n",
       "      <td>4</td>\n",
       "      <td>0</td>\n",
       "      <td>34</td>\n",
       "      <td>0</td>\n",
       "      <td>10</td>\n",
       "      <td>2</td>\n",
       "      <td>2</td>\n",
       "      <td>96</td>\n",
       "      <td>0</td>\n",
       "      <td>0</td>\n",
       "      <td>8</td>\n",
       "      <td>43</td>\n",
       "      <td>10</td>\n",
       "      <td>96</td>\n",
       "    </tr>\n",
       "    <tr>\n",
       "      <th>1</th>\n",
       "      <td>ADAMSBENGE</td>\n",
       "      <td>3</td>\n",
       "      <td>2</td>\n",
       "      <td>0</td>\n",
       "      <td>3</td>\n",
       "      <td>0</td>\n",
       "      <td>14</td>\n",
       "      <td>0</td>\n",
       "      <td>4</td>\n",
       "      <td>0</td>\n",
       "      <td>0</td>\n",
       "      <td>29</td>\n",
       "      <td>0</td>\n",
       "      <td>0</td>\n",
       "      <td>5</td>\n",
       "      <td>17</td>\n",
       "      <td>4</td>\n",
       "      <td>29</td>\n",
       "    </tr>\n",
       "    <tr>\n",
       "      <th>2</th>\n",
       "      <td>ADAMSCUNNINGHAM</td>\n",
       "      <td>0</td>\n",
       "      <td>0</td>\n",
       "      <td>0</td>\n",
       "      <td>0</td>\n",
       "      <td>0</td>\n",
       "      <td>0</td>\n",
       "      <td>0</td>\n",
       "      <td>6</td>\n",
       "      <td>0</td>\n",
       "      <td>0</td>\n",
       "      <td>8</td>\n",
       "      <td>0</td>\n",
       "      <td>1</td>\n",
       "      <td>0</td>\n",
       "      <td>0</td>\n",
       "      <td>6</td>\n",
       "      <td>8</td>\n",
       "    </tr>\n",
       "    <tr>\n",
       "      <th>3</th>\n",
       "      <td>ADAMSFAIRVIEW</td>\n",
       "      <td>2</td>\n",
       "      <td>2</td>\n",
       "      <td>0</td>\n",
       "      <td>0</td>\n",
       "      <td>0</td>\n",
       "      <td>0</td>\n",
       "      <td>0</td>\n",
       "      <td>5</td>\n",
       "      <td>0</td>\n",
       "      <td>1</td>\n",
       "      <td>27</td>\n",
       "      <td>0</td>\n",
       "      <td>0</td>\n",
       "      <td>4</td>\n",
       "      <td>0</td>\n",
       "      <td>5</td>\n",
       "      <td>27</td>\n",
       "    </tr>\n",
       "    <tr>\n",
       "      <th>4</th>\n",
       "      <td>ADAMSHATTON CITY</td>\n",
       "      <td>0</td>\n",
       "      <td>0</td>\n",
       "      <td>0</td>\n",
       "      <td>0</td>\n",
       "      <td>0</td>\n",
       "      <td>0</td>\n",
       "      <td>0</td>\n",
       "      <td>2</td>\n",
       "      <td>0</td>\n",
       "      <td>1</td>\n",
       "      <td>25</td>\n",
       "      <td>0</td>\n",
       "      <td>0</td>\n",
       "      <td>0</td>\n",
       "      <td>0</td>\n",
       "      <td>2</td>\n",
       "      <td>25</td>\n",
       "    </tr>\n",
       "    <tr>\n",
       "      <th>...</th>\n",
       "      <td>...</td>\n",
       "      <td>...</td>\n",
       "      <td>...</td>\n",
       "      <td>...</td>\n",
       "      <td>...</td>\n",
       "      <td>...</td>\n",
       "      <td>...</td>\n",
       "      <td>...</td>\n",
       "      <td>...</td>\n",
       "      <td>...</td>\n",
       "      <td>...</td>\n",
       "      <td>...</td>\n",
       "      <td>...</td>\n",
       "      <td>...</td>\n",
       "      <td>...</td>\n",
       "      <td>...</td>\n",
       "      <td>...</td>\n",
       "      <td>...</td>\n",
       "    </tr>\n",
       "    <tr>\n",
       "      <th>7109</th>\n",
       "      <td>YAKIMA5020.5839999999998</td>\n",
       "      <td>26</td>\n",
       "      <td>11</td>\n",
       "      <td>6</td>\n",
       "      <td>15</td>\n",
       "      <td>12</td>\n",
       "      <td>100</td>\n",
       "      <td>1</td>\n",
       "      <td>95</td>\n",
       "      <td>4</td>\n",
       "      <td>16</td>\n",
       "      <td>240</td>\n",
       "      <td>0</td>\n",
       "      <td>1</td>\n",
       "      <td>37</td>\n",
       "      <td>133</td>\n",
       "      <td>95</td>\n",
       "      <td>240</td>\n",
       "    </tr>\n",
       "    <tr>\n",
       "      <th>7110</th>\n",
       "      <td>YAKIMA5101.38</td>\n",
       "      <td>19</td>\n",
       "      <td>26</td>\n",
       "      <td>0</td>\n",
       "      <td>6</td>\n",
       "      <td>5</td>\n",
       "      <td>72</td>\n",
       "      <td>0</td>\n",
       "      <td>91</td>\n",
       "      <td>2</td>\n",
       "      <td>14</td>\n",
       "      <td>176</td>\n",
       "      <td>0</td>\n",
       "      <td>0</td>\n",
       "      <td>45</td>\n",
       "      <td>83</td>\n",
       "      <td>91</td>\n",
       "      <td>176</td>\n",
       "    </tr>\n",
       "    <tr>\n",
       "      <th>7111</th>\n",
       "      <td>YAKIMA5202.473</td>\n",
       "      <td>0</td>\n",
       "      <td>0</td>\n",
       "      <td>0</td>\n",
       "      <td>0</td>\n",
       "      <td>0</td>\n",
       "      <td>0</td>\n",
       "      <td>0</td>\n",
       "      <td>0</td>\n",
       "      <td>0</td>\n",
       "      <td>0</td>\n",
       "      <td>0</td>\n",
       "      <td>0</td>\n",
       "      <td>0</td>\n",
       "      <td>0</td>\n",
       "      <td>0</td>\n",
       "      <td>0</td>\n",
       "      <td>0</td>\n",
       "    </tr>\n",
       "    <tr>\n",
       "      <th>7112</th>\n",
       "      <td>YAKIMA701.6</td>\n",
       "      <td>26</td>\n",
       "      <td>25</td>\n",
       "      <td>10</td>\n",
       "      <td>3</td>\n",
       "      <td>2</td>\n",
       "      <td>22</td>\n",
       "      <td>0</td>\n",
       "      <td>97</td>\n",
       "      <td>1</td>\n",
       "      <td>8</td>\n",
       "      <td>53</td>\n",
       "      <td>1</td>\n",
       "      <td>0</td>\n",
       "      <td>51</td>\n",
       "      <td>37</td>\n",
       "      <td>97</td>\n",
       "      <td>53</td>\n",
       "    </tr>\n",
       "    <tr>\n",
       "      <th>7113</th>\n",
       "      <td>YAKIMA901.42</td>\n",
       "      <td>70</td>\n",
       "      <td>33</td>\n",
       "      <td>0</td>\n",
       "      <td>0</td>\n",
       "      <td>0</td>\n",
       "      <td>0</td>\n",
       "      <td>2</td>\n",
       "      <td>255</td>\n",
       "      <td>2</td>\n",
       "      <td>3</td>\n",
       "      <td>42</td>\n",
       "      <td>2</td>\n",
       "      <td>0</td>\n",
       "      <td>103</td>\n",
       "      <td>0</td>\n",
       "      <td>255</td>\n",
       "      <td>42</td>\n",
       "    </tr>\n",
       "  </tbody>\n",
       "</table>\n",
       "<p>7114 rows × 18 columns</p>\n",
       "</div>"
      ],
      "text/plain": [
       "candidate_column                  precinct  pri_dem_CLINTON  pri_dem_SANDERS  \\\n",
       "0                               ADAMSBATUM                2                6   \n",
       "1                               ADAMSBENGE                3                2   \n",
       "2                          ADAMSCUNNINGHAM                0                0   \n",
       "3                            ADAMSFAIRVIEW                2                2   \n",
       "4                         ADAMSHATTON CITY                0                0   \n",
       "...                                    ...              ...              ...   \n",
       "7109              YAKIMA5020.5839999999998               26               11   \n",
       "7110                         YAKIMA5101.38               19               26   \n",
       "7111                        YAKIMA5202.473                0                0   \n",
       "7112                           YAKIMA701.6               26               25   \n",
       "7113                          YAKIMA901.42               70               33   \n",
       "\n",
       "candidate_column  pri_rep_CARSON  pri_rep_CRUZ  pri_rep_KASICH  pri_rep_TRUMP  \\\n",
       "0                              5             4               0             34   \n",
       "1                              0             3               0             14   \n",
       "2                              0             0               0              0   \n",
       "3                              0             0               0              0   \n",
       "4                              0             0               0              0   \n",
       "...                          ...           ...             ...            ...   \n",
       "7109                           6            15              12            100   \n",
       "7110                           0             6               5             72   \n",
       "7111                           0             0               0              0   \n",
       "7112                          10             3               2             22   \n",
       "7113                           0             0               0              0   \n",
       "\n",
       "candidate_column  gen_con_CASTLE  gen_dem_CLINTON  gen_grn_STEIN  \\\n",
       "0                              0               10              2   \n",
       "1                              0                4              0   \n",
       "2                              0                6              0   \n",
       "3                              0                5              0   \n",
       "4                              0                2              0   \n",
       "...                          ...              ...            ...   \n",
       "7109                           1               95              4   \n",
       "7110                           0               91              2   \n",
       "7111                           0                0              0   \n",
       "7112                           0               97              1   \n",
       "7113                           2              255              2   \n",
       "\n",
       "candidate_column  gen_lib_JOHNSON  gen_rep_TRUMP  gen_sol_RIVA  \\\n",
       "0                               2             96             0   \n",
       "1                               0             29             0   \n",
       "2                               0              8             0   \n",
       "3                               1             27             0   \n",
       "4                               1             25             0   \n",
       "...                           ...            ...           ...   \n",
       "7109                           16            240             0   \n",
       "7110                           14            176             0   \n",
       "7111                            0              0             0   \n",
       "7112                            8             53             1   \n",
       "7113                            3             42             2   \n",
       "\n",
       "candidate_column  gen_sow_KENNEDY  dem_primary_total  rep_primary_total  \\\n",
       "0                               0                  8                 43   \n",
       "1                               0                  5                 17   \n",
       "2                               1                  0                  0   \n",
       "3                               0                  4                  0   \n",
       "4                               0                  0                  0   \n",
       "...                           ...                ...                ...   \n",
       "7109                            1                 37                133   \n",
       "7110                            0                 45                 83   \n",
       "7111                            0                  0                  0   \n",
       "7112                            0                 51                 37   \n",
       "7113                            0                103                  0   \n",
       "\n",
       "candidate_column  dem_general_total  rep_general_total  \n",
       "0                                10                 96  \n",
       "1                                 4                 29  \n",
       "2                                 6                  8  \n",
       "3                                 5                 27  \n",
       "4                                 2                 25  \n",
       "...                             ...                ...  \n",
       "7109                             95                240  \n",
       "7110                             91                176  \n",
       "7111                              0                  0  \n",
       "7112                             97                 53  \n",
       "7113                            255                 42  \n",
       "\n",
       "[7114 rows x 18 columns]"
      ]
     },
     "execution_count": 24,
     "metadata": {},
     "output_type": "execute_result"
    }
   ],
   "source": [
    "# Merge\n",
    "combined = pd.merge(primary_result, general_result, on=\"precinct\", how=\"inner\")\n",
    "\n",
    "# Convert DEM primary columns to numeric and calculate total\n",
    "dem_cols = combined.filter(like=\"pri_dem_\").columns\n",
    "combined[dem_cols] = combined[dem_cols].apply(pd.to_numeric, errors=\"coerce\")\n",
    "combined[\"dem_primary_total\"] = combined[dem_cols].sum(axis=1)\n",
    "\n",
    "rep_cols = combined.filter(like=\"pri_rep_\").columns\n",
    "combined[rep_cols] = combined[rep_cols].apply(pd.to_numeric, errors=\"coerce\")\n",
    "combined[\"rep_primary_total\"] = combined[rep_cols].sum(axis=1)\n",
    "\n",
    "# Convert general election columns to numeric and calculate total\n",
    "\n",
    "gdem_cols = combined.filter(like=\"gen_dem_\").columns\n",
    "combined[gdem_cols] = combined[gdem_cols].apply(pd.to_numeric, errors=\"coerce\")\n",
    "combined[\"dem_general_total\"] = combined[gdem_cols].sum(axis=1)\n",
    "\n",
    "grep_cols = combined.filter(like=\"gen_rep_\").columns\n",
    "combined[grep_cols] = combined[grep_cols].apply(pd.to_numeric, errors=\"coerce\")\n",
    "combined[\"rep_general_total\"] = combined[grep_cols].sum(axis=1)\n",
    "\n",
    "# Convert all numeric columns to int\n",
    "for col in combined.columns[1:]:\n",
    "    combined[col] = pd.to_numeric(combined[col], errors='coerce').fillna(0).astype(int)\n",
    "\n",
    "# Identify filtered-out precincts\n",
    "primary_precincts = set(primary_result[\"precinct\"])\n",
    "general_precincts = set(general_result[\"precinct\"])\n",
    "combined_precincts = set(combined[\"precinct\"])\n",
    "\n",
    "primary_filtered_out = primary_precincts - combined_precincts\n",
    "general_filtered_out = general_precincts - combined_precincts\n",
    "\n",
    "\n",
    "combined"
   ]
  },
  {
   "cell_type": "code",
   "execution_count": 25,
   "id": "a6797e92",
   "metadata": {},
   "outputs": [],
   "source": [
    "combined.to_csv(\"WA.csv\", index=False)\n",
    "# Step 3: Identify unmatched precincts and retrieve full rows\n",
    "combined_precincts = set(combined[\"precinct\"])\n",
    "\n",
    "# Rows in primary_result but not in combined\n",
    "primary_filtered_out = primary_result[~primary_result[\"precinct\"].isin(combined_precincts)]\n",
    "primary_filtered_out.to_csv(\"WA_primary_filtered.csv\", index=False)\n",
    "\n",
    "# Rows in general_result but not in combined\n",
    "general_filtered_out = general_result[~general_result[\"precinct\"].isin(combined_precincts)]\n",
    "general_filtered_out.to_csv(\"WA_general_filtered.csv\", index=False)"
   ]
  },
  {
   "cell_type": "code",
   "execution_count": 26,
   "id": "b3d042ff",
   "metadata": {},
   "outputs": [
    {
     "name": "stdout",
     "output_type": "stream",
     "text": [
      "primary: 7114, general: 7125, combined: 7114\n"
     ]
    }
   ],
   "source": [
    "print(f\"primary: {len(primary_precincts)}, general: {len(general_precincts)}, combined: {len(combined)}\")"
   ]
  },
  {
   "cell_type": "code",
   "execution_count": 27,
   "id": "9900725d",
   "metadata": {},
   "outputs": [
    {
     "name": "stdout",
     "output_type": "stream",
     "text": [
      "primary: 38, general: 39\n"
     ]
    }
   ],
   "source": [
    "print(f\"primary: {len(pri_combined_df['county'].unique())}, general: {len(gen_combined_df['county'].unique())}\")\n"
   ]
  },
  {
   "cell_type": "code",
   "execution_count": 28,
   "id": "b12d639e",
   "metadata": {},
   "outputs": [
    {
     "data": {
      "text/plain": [
       "array(['KINGADAIR', 'KINGALDARRA', 'KINGALDER SPRINGS', ...,\n",
       "       'YAKIMA5020.5839999999998', 'YAKIMA5101.38', 'YAKIMA5202.473'],\n",
       "      dtype=object)"
      ]
     },
     "execution_count": 28,
     "metadata": {},
     "output_type": "execute_result"
    }
   ],
   "source": [
    "pri_combined_df['precinct'].unique()"
   ]
  },
  {
   "cell_type": "code",
   "execution_count": 29,
   "id": "0fb1a12f",
   "metadata": {},
   "outputs": [
    {
     "data": {
      "text/plain": [
       "array(['KINGADAIR', 'KINGALDARRA', 'KINGALDER SPRINGS', ...,\n",
       "       'YAKIMA5020.5839999999998', 'YAKIMA5101.38', 'YAKIMA5202.473'],\n",
       "      dtype=object)"
      ]
     },
     "execution_count": 29,
     "metadata": {},
     "output_type": "execute_result"
    }
   ],
   "source": [
    "gen_combined_df['precinct'].unique()"
   ]
  },
  {
   "cell_type": "code",
   "execution_count": 30,
   "id": "b28d499d",
   "metadata": {},
   "outputs": [
    {
     "name": "stdout",
     "output_type": "stream",
     "text": [
      "Counties in primary but not in general: 0\n",
      "set()\n"
     ]
    }
   ],
   "source": [
    "primary_counties = set(pri_combined_df['precinct'].dropna().str.strip().str.upper())\n",
    "general_counties = set(gen_combined_df['precinct'].dropna().str.strip().str.upper())\n",
    "\n",
    "diff = primary_counties - general_counties\n",
    "print(f\"Counties in primary but not in general: {len(diff)}\")\n",
    "print(diff)\n"
   ]
  }
 ],
 "metadata": {
  "kernelspec": {
   "display_name": "Python 3",
   "language": "python",
   "name": "python3"
  },
  "language_info": {
   "codemirror_mode": {
    "name": "ipython",
    "version": 3
   },
   "file_extension": ".py",
   "mimetype": "text/x-python",
   "name": "python",
   "nbconvert_exporter": "python",
   "pygments_lexer": "ipython3",
   "version": "3.11.2"
  }
 },
 "nbformat": 4,
 "nbformat_minor": 5
}
