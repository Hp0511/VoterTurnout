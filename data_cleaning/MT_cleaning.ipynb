{
 "cells": [
  {
   "cell_type": "code",
   "execution_count": 30,
   "id": "aa200fab",
   "metadata": {},
   "outputs": [],
   "source": [
    "import pandas as pd\n",
    "import glob\n",
    "import os\n",
    "from pprint import pprint"
   ]
  },
  {
   "cell_type": "code",
   "execution_count": 31,
   "id": "c263c4df",
   "metadata": {},
   "outputs": [],
   "source": [
    "#Get all CSV files in the folder of GA\n",
    "all_files = glob.glob(r\"C:\\Huy Phan\\College\\VoterTurnout\\data\\MT\\*.csv\")\n",
    "\n",
    "# Files that contain both 'precinct' and 'general' in the filename\n",
    "general_files = [\n",
    "    f for f in all_files\n",
    "    if all(word in f.lower() for word in ['precinct', 'general'])\n",
    "]\n",
    "\n",
    "\n",
    "# Files that contain both 'precinct' and 'primary' in the filename\n",
    "primary_files = [\n",
    "    f for f in all_files\n",
    "    if all(word in f.lower() for word in ['precinct', 'primary'])\n",
    "]\n"
   ]
  },
  {
   "cell_type": "code",
   "execution_count": 32,
   "id": "60d49ea6",
   "metadata": {},
   "outputs": [
    {
     "name": "stdout",
     "output_type": "stream",
     "text": [
      "General files:\n",
      "C:\\Huy Phan\\College\\VoterTurnout\\data\\MT\\20161108__mt__general__precinct.csv\n"
     ]
    }
   ],
   "source": [
    "print(\"General files:\")\n",
    "for f in general_files:\n",
    "    print(f)\n"
   ]
  },
  {
   "cell_type": "code",
   "execution_count": 33,
   "id": "4ab13110",
   "metadata": {},
   "outputs": [
    {
     "name": "stdout",
     "output_type": "stream",
     "text": [
      "\n",
      "Primary files:\n",
      "C:\\Huy Phan\\College\\VoterTurnout\\data\\MT\\20160607__mt__primary__precinct.csv\n"
     ]
    }
   ],
   "source": [
    "print(\"\\nPrimary files:\")\n",
    "for f in primary_files:\n",
    "    print(f)"
   ]
  },
  {
   "cell_type": "code",
   "execution_count": 34,
   "id": "ff5df6c7",
   "metadata": {},
   "outputs": [
    {
     "data": {
      "application/vnd.microsoft.datawrangler.viewer.v0+json": {
       "columns": [
        {
         "name": "index",
         "rawType": "int64",
         "type": "integer"
        },
        {
         "name": "county",
         "rawType": "object",
         "type": "string"
        },
        {
         "name": "precinct",
         "rawType": "object",
         "type": "string"
        },
        {
         "name": "office",
         "rawType": "object",
         "type": "string"
        },
        {
         "name": "district",
         "rawType": "float64",
         "type": "float"
        },
        {
         "name": "party",
         "rawType": "object",
         "type": "string"
        },
        {
         "name": "candidate",
         "rawType": "object",
         "type": "string"
        },
        {
         "name": "votes",
         "rawType": "int64",
         "type": "integer"
        },
        {
         "name": "house_district",
         "rawType": "int64",
         "type": "integer"
        },
        {
         "name": "senate_district",
         "rawType": "int64",
         "type": "integer"
        }
       ],
       "ref": "151c76ba-3d57-4585-aa23-898473470de6",
       "rows": [
        [
         "0",
         "Beaverhead",
         "BeaverheadPRECINCT 01",
         "PRESIDENT",
         null,
         "REP",
         "JEB BUSH",
         "10",
         "72",
         "36"
        ],
        [
         "1",
         "Beaverhead",
         "BeaverheadPRECINCT 12",
         "PRESIDENT",
         null,
         "REP",
         "JEB BUSH",
         "16",
         "72",
         "36"
        ],
        [
         "2",
         "Beaverhead",
         "BeaverheadPRECINCT 14",
         "PRESIDENT",
         null,
         "REP",
         "JEB BUSH",
         "3",
         "72",
         "36"
        ],
        [
         "3",
         "Beaverhead",
         "BeaverheadPRECINCT 17",
         "PRESIDENT",
         null,
         "REP",
         "JEB BUSH",
         "3",
         "72",
         "36"
        ],
        [
         "4",
         "Beaverhead",
         "BeaverheadPRECINCT 19",
         "PRESIDENT",
         null,
         "REP",
         "JEB BUSH",
         "0",
         "72",
         "36"
        ],
        [
         "5",
         "Beaverhead",
         "BeaverheadPRECINCT 02",
         "PRESIDENT",
         null,
         "REP",
         "JEB BUSH",
         "9",
         "72",
         "36"
        ],
        [
         "6",
         "Beaverhead",
         "BeaverheadPRECINCT 20",
         "PRESIDENT",
         null,
         "REP",
         "JEB BUSH",
         "0",
         "72",
         "36"
        ],
        [
         "7",
         "Beaverhead",
         "BeaverheadPRECINCT 21",
         "PRESIDENT",
         null,
         "REP",
         "JEB BUSH",
         "4",
         "72",
         "36"
        ],
        [
         "8",
         "Beaverhead",
         "BeaverheadPRECINCT 23",
         "PRESIDENT",
         null,
         "REP",
         "JEB BUSH",
         "2",
         "72",
         "36"
        ],
        [
         "9",
         "Beaverhead",
         "BeaverheadPRECINCT 03",
         "PRESIDENT",
         null,
         "REP",
         "JEB BUSH",
         "11",
         "72",
         "36"
        ],
        [
         "10",
         "Beaverhead",
         "BeaverheadPRECINCT 04",
         "PRESIDENT",
         null,
         "REP",
         "JEB BUSH",
         "5",
         "72",
         "36"
        ],
        [
         "11",
         "Beaverhead",
         "BeaverheadPRECINCT 05",
         "PRESIDENT",
         null,
         "REP",
         "JEB BUSH",
         "2",
         "72",
         "36"
        ],
        [
         "12",
         "Beaverhead",
         "BeaverheadPRECINCT 06",
         "PRESIDENT",
         null,
         "REP",
         "JEB BUSH",
         "7",
         "72",
         "36"
        ],
        [
         "13",
         "Beaverhead",
         "BeaverheadPRECINCT 07",
         "PRESIDENT",
         null,
         "REP",
         "JEB BUSH",
         "3",
         "72",
         "36"
        ],
        [
         "14",
         "Beaverhead",
         "BeaverheadPRECINCT 08",
         "PRESIDENT",
         null,
         "REP",
         "JEB BUSH",
         "2",
         "72",
         "36"
        ],
        [
         "15",
         "Beaverhead",
         "BeaverheadPRECINCT 09",
         "PRESIDENT",
         null,
         "REP",
         "JEB BUSH",
         "14",
         "72",
         "36"
        ],
        [
         "16",
         "Beaverhead",
         "BeaverheadPRECINCT 01",
         "PRESIDENT",
         null,
         "DEM",
         "HILLARY CLINTON",
         "27",
         "72",
         "36"
        ],
        [
         "17",
         "Beaverhead",
         "BeaverheadPRECINCT 12",
         "PRESIDENT",
         null,
         "DEM",
         "HILLARY CLINTON",
         "38",
         "72",
         "36"
        ],
        [
         "18",
         "Beaverhead",
         "BeaverheadPRECINCT 14",
         "PRESIDENT",
         null,
         "DEM",
         "HILLARY CLINTON",
         "27",
         "72",
         "36"
        ],
        [
         "19",
         "Beaverhead",
         "BeaverheadPRECINCT 17",
         "PRESIDENT",
         null,
         "DEM",
         "HILLARY CLINTON",
         "8",
         "72",
         "36"
        ],
        [
         "20",
         "Beaverhead",
         "BeaverheadPRECINCT 19",
         "PRESIDENT",
         null,
         "DEM",
         "HILLARY CLINTON",
         "2",
         "72",
         "36"
        ],
        [
         "21",
         "Beaverhead",
         "BeaverheadPRECINCT 02",
         "PRESIDENT",
         null,
         "DEM",
         "HILLARY CLINTON",
         "22",
         "72",
         "36"
        ],
        [
         "22",
         "Beaverhead",
         "BeaverheadPRECINCT 20",
         "PRESIDENT",
         null,
         "DEM",
         "HILLARY CLINTON",
         "1",
         "72",
         "36"
        ],
        [
         "23",
         "Beaverhead",
         "BeaverheadPRECINCT 21",
         "PRESIDENT",
         null,
         "DEM",
         "HILLARY CLINTON",
         "11",
         "72",
         "36"
        ],
        [
         "24",
         "Beaverhead",
         "BeaverheadPRECINCT 23",
         "PRESIDENT",
         null,
         "DEM",
         "HILLARY CLINTON",
         "6",
         "72",
         "36"
        ],
        [
         "25",
         "Beaverhead",
         "BeaverheadPRECINCT 03",
         "PRESIDENT",
         null,
         "DEM",
         "HILLARY CLINTON",
         "36",
         "72",
         "36"
        ],
        [
         "26",
         "Beaverhead",
         "BeaverheadPRECINCT 04",
         "PRESIDENT",
         null,
         "DEM",
         "HILLARY CLINTON",
         "10",
         "72",
         "36"
        ],
        [
         "27",
         "Beaverhead",
         "BeaverheadPRECINCT 05",
         "PRESIDENT",
         null,
         "DEM",
         "HILLARY CLINTON",
         "1",
         "72",
         "36"
        ],
        [
         "28",
         "Beaverhead",
         "BeaverheadPRECINCT 06",
         "PRESIDENT",
         null,
         "DEM",
         "HILLARY CLINTON",
         "27",
         "72",
         "36"
        ],
        [
         "29",
         "Beaverhead",
         "BeaverheadPRECINCT 07",
         "PRESIDENT",
         null,
         "DEM",
         "HILLARY CLINTON",
         "11",
         "72",
         "36"
        ],
        [
         "30",
         "Beaverhead",
         "BeaverheadPRECINCT 08",
         "PRESIDENT",
         null,
         "DEM",
         "HILLARY CLINTON",
         "2",
         "72",
         "36"
        ],
        [
         "31",
         "Beaverhead",
         "BeaverheadPRECINCT 09",
         "PRESIDENT",
         null,
         "DEM",
         "HILLARY CLINTON",
         "15",
         "72",
         "36"
        ],
        [
         "32",
         "Beaverhead",
         "BeaverheadPRECINCT 01",
         "PRESIDENT",
         null,
         "REP",
         "TED CRUZ",
         "18",
         "72",
         "36"
        ],
        [
         "33",
         "Beaverhead",
         "BeaverheadPRECINCT 12",
         "PRESIDENT",
         null,
         "REP",
         "TED CRUZ",
         "11",
         "72",
         "36"
        ],
        [
         "34",
         "Beaverhead",
         "BeaverheadPRECINCT 14",
         "PRESIDENT",
         null,
         "REP",
         "TED CRUZ",
         "12",
         "72",
         "36"
        ],
        [
         "35",
         "Beaverhead",
         "BeaverheadPRECINCT 17",
         "PRESIDENT",
         null,
         "REP",
         "TED CRUZ",
         "2",
         "72",
         "36"
        ],
        [
         "36",
         "Beaverhead",
         "BeaverheadPRECINCT 19",
         "PRESIDENT",
         null,
         "REP",
         "TED CRUZ",
         "4",
         "72",
         "36"
        ],
        [
         "37",
         "Beaverhead",
         "BeaverheadPRECINCT 02",
         "PRESIDENT",
         null,
         "REP",
         "TED CRUZ",
         "38",
         "72",
         "36"
        ],
        [
         "38",
         "Beaverhead",
         "BeaverheadPRECINCT 20",
         "PRESIDENT",
         null,
         "REP",
         "TED CRUZ",
         "3",
         "72",
         "36"
        ],
        [
         "39",
         "Beaverhead",
         "BeaverheadPRECINCT 21",
         "PRESIDENT",
         null,
         "REP",
         "TED CRUZ",
         "7",
         "72",
         "36"
        ],
        [
         "40",
         "Beaverhead",
         "BeaverheadPRECINCT 23",
         "PRESIDENT",
         null,
         "REP",
         "TED CRUZ",
         "5",
         "72",
         "36"
        ],
        [
         "41",
         "Beaverhead",
         "BeaverheadPRECINCT 03",
         "PRESIDENT",
         null,
         "REP",
         "TED CRUZ",
         "35",
         "72",
         "36"
        ],
        [
         "42",
         "Beaverhead",
         "BeaverheadPRECINCT 04",
         "PRESIDENT",
         null,
         "REP",
         "TED CRUZ",
         "13",
         "72",
         "36"
        ],
        [
         "43",
         "Beaverhead",
         "BeaverheadPRECINCT 05",
         "PRESIDENT",
         null,
         "REP",
         "TED CRUZ",
         "7",
         "72",
         "36"
        ],
        [
         "44",
         "Beaverhead",
         "BeaverheadPRECINCT 06",
         "PRESIDENT",
         null,
         "REP",
         "TED CRUZ",
         "17",
         "72",
         "36"
        ],
        [
         "45",
         "Beaverhead",
         "BeaverheadPRECINCT 07",
         "PRESIDENT",
         null,
         "REP",
         "TED CRUZ",
         "16",
         "72",
         "36"
        ],
        [
         "46",
         "Beaverhead",
         "BeaverheadPRECINCT 08",
         "PRESIDENT",
         null,
         "REP",
         "TED CRUZ",
         "3",
         "72",
         "36"
        ],
        [
         "47",
         "Beaverhead",
         "BeaverheadPRECINCT 09",
         "PRESIDENT",
         null,
         "REP",
         "TED CRUZ",
         "12",
         "72",
         "36"
        ],
        [
         "48",
         "Beaverhead",
         "BeaverheadPRECINCT 01",
         "PRESIDENT",
         null,
         "REP",
         "JOHN R. KASICH",
         "30",
         "72",
         "36"
        ],
        [
         "49",
         "Beaverhead",
         "BeaverheadPRECINCT 12",
         "PRESIDENT",
         null,
         "REP",
         "JOHN R. KASICH",
         "30",
         "72",
         "36"
        ]
       ],
       "shape": {
        "columns": 9,
        "rows": 6174
       }
      },
      "text/html": [
       "<div>\n",
       "<style scoped>\n",
       "    .dataframe tbody tr th:only-of-type {\n",
       "        vertical-align: middle;\n",
       "    }\n",
       "\n",
       "    .dataframe tbody tr th {\n",
       "        vertical-align: top;\n",
       "    }\n",
       "\n",
       "    .dataframe thead th {\n",
       "        text-align: right;\n",
       "    }\n",
       "</style>\n",
       "<table border=\"1\" class=\"dataframe\">\n",
       "  <thead>\n",
       "    <tr style=\"text-align: right;\">\n",
       "      <th></th>\n",
       "      <th>county</th>\n",
       "      <th>precinct</th>\n",
       "      <th>office</th>\n",
       "      <th>district</th>\n",
       "      <th>party</th>\n",
       "      <th>candidate</th>\n",
       "      <th>votes</th>\n",
       "      <th>house_district</th>\n",
       "      <th>senate_district</th>\n",
       "    </tr>\n",
       "  </thead>\n",
       "  <tbody>\n",
       "    <tr>\n",
       "      <th>0</th>\n",
       "      <td>Beaverhead</td>\n",
       "      <td>BeaverheadPRECINCT 01</td>\n",
       "      <td>PRESIDENT</td>\n",
       "      <td>NaN</td>\n",
       "      <td>REP</td>\n",
       "      <td>JEB BUSH</td>\n",
       "      <td>10</td>\n",
       "      <td>72</td>\n",
       "      <td>36</td>\n",
       "    </tr>\n",
       "    <tr>\n",
       "      <th>1</th>\n",
       "      <td>Beaverhead</td>\n",
       "      <td>BeaverheadPRECINCT 12</td>\n",
       "      <td>PRESIDENT</td>\n",
       "      <td>NaN</td>\n",
       "      <td>REP</td>\n",
       "      <td>JEB BUSH</td>\n",
       "      <td>16</td>\n",
       "      <td>72</td>\n",
       "      <td>36</td>\n",
       "    </tr>\n",
       "    <tr>\n",
       "      <th>2</th>\n",
       "      <td>Beaverhead</td>\n",
       "      <td>BeaverheadPRECINCT 14</td>\n",
       "      <td>PRESIDENT</td>\n",
       "      <td>NaN</td>\n",
       "      <td>REP</td>\n",
       "      <td>JEB BUSH</td>\n",
       "      <td>3</td>\n",
       "      <td>72</td>\n",
       "      <td>36</td>\n",
       "    </tr>\n",
       "    <tr>\n",
       "      <th>3</th>\n",
       "      <td>Beaverhead</td>\n",
       "      <td>BeaverheadPRECINCT 17</td>\n",
       "      <td>PRESIDENT</td>\n",
       "      <td>NaN</td>\n",
       "      <td>REP</td>\n",
       "      <td>JEB BUSH</td>\n",
       "      <td>3</td>\n",
       "      <td>72</td>\n",
       "      <td>36</td>\n",
       "    </tr>\n",
       "    <tr>\n",
       "      <th>4</th>\n",
       "      <td>Beaverhead</td>\n",
       "      <td>BeaverheadPRECINCT 19</td>\n",
       "      <td>PRESIDENT</td>\n",
       "      <td>NaN</td>\n",
       "      <td>REP</td>\n",
       "      <td>JEB BUSH</td>\n",
       "      <td>0</td>\n",
       "      <td>72</td>\n",
       "      <td>36</td>\n",
       "    </tr>\n",
       "    <tr>\n",
       "      <th>...</th>\n",
       "      <td>...</td>\n",
       "      <td>...</td>\n",
       "      <td>...</td>\n",
       "      <td>...</td>\n",
       "      <td>...</td>\n",
       "      <td>...</td>\n",
       "      <td>...</td>\n",
       "      <td>...</td>\n",
       "      <td>...</td>\n",
       "    </tr>\n",
       "    <tr>\n",
       "      <th>6169</th>\n",
       "      <td>Yellowstone</td>\n",
       "      <td>Yellowstone55.1</td>\n",
       "      <td>PRESIDENT</td>\n",
       "      <td>NaN</td>\n",
       "      <td>DEM</td>\n",
       "      <td>NO PREFERENCE</td>\n",
       "      <td>2</td>\n",
       "      <td>55</td>\n",
       "      <td>28</td>\n",
       "    </tr>\n",
       "    <tr>\n",
       "      <th>6170</th>\n",
       "      <td>Yellowstone</td>\n",
       "      <td>Yellowstone40-45</td>\n",
       "      <td>PRESIDENT</td>\n",
       "      <td>NaN</td>\n",
       "      <td>DEM</td>\n",
       "      <td>NO PREFERENCE</td>\n",
       "      <td>6</td>\n",
       "      <td>40</td>\n",
       "      <td>20</td>\n",
       "    </tr>\n",
       "    <tr>\n",
       "      <th>6171</th>\n",
       "      <td>Yellowstone</td>\n",
       "      <td>Yellowstone56.2</td>\n",
       "      <td>PRESIDENT</td>\n",
       "      <td>NaN</td>\n",
       "      <td>DEM</td>\n",
       "      <td>NO PREFERENCE</td>\n",
       "      <td>50</td>\n",
       "      <td>56</td>\n",
       "      <td>28</td>\n",
       "    </tr>\n",
       "    <tr>\n",
       "      <th>6172</th>\n",
       "      <td>Yellowstone</td>\n",
       "      <td>Yellowstone56.1</td>\n",
       "      <td>PRESIDENT</td>\n",
       "      <td>NaN</td>\n",
       "      <td>DEM</td>\n",
       "      <td>NO PREFERENCE</td>\n",
       "      <td>5</td>\n",
       "      <td>56</td>\n",
       "      <td>28</td>\n",
       "    </tr>\n",
       "    <tr>\n",
       "      <th>6173</th>\n",
       "      <td>Yellowstone</td>\n",
       "      <td>Yellowstone54.2</td>\n",
       "      <td>PRESIDENT</td>\n",
       "      <td>NaN</td>\n",
       "      <td>DEM</td>\n",
       "      <td>NO PREFERENCE</td>\n",
       "      <td>10</td>\n",
       "      <td>54</td>\n",
       "      <td>27</td>\n",
       "    </tr>\n",
       "  </tbody>\n",
       "</table>\n",
       "<p>6174 rows × 9 columns</p>\n",
       "</div>"
      ],
      "text/plain": [
       "           county               precinct     office  district party  \\\n",
       "0      Beaverhead  BeaverheadPRECINCT 01  PRESIDENT       NaN   REP   \n",
       "1      Beaverhead  BeaverheadPRECINCT 12  PRESIDENT       NaN   REP   \n",
       "2      Beaverhead  BeaverheadPRECINCT 14  PRESIDENT       NaN   REP   \n",
       "3      Beaverhead  BeaverheadPRECINCT 17  PRESIDENT       NaN   REP   \n",
       "4      Beaverhead  BeaverheadPRECINCT 19  PRESIDENT       NaN   REP   \n",
       "...           ...                    ...        ...       ...   ...   \n",
       "6169  Yellowstone        Yellowstone55.1  PRESIDENT       NaN   DEM   \n",
       "6170  Yellowstone       Yellowstone40-45  PRESIDENT       NaN   DEM   \n",
       "6171  Yellowstone        Yellowstone56.2  PRESIDENT       NaN   DEM   \n",
       "6172  Yellowstone        Yellowstone56.1  PRESIDENT       NaN   DEM   \n",
       "6173  Yellowstone        Yellowstone54.2  PRESIDENT       NaN   DEM   \n",
       "\n",
       "          candidate  votes  house_district  senate_district  \n",
       "0          JEB BUSH     10              72               36  \n",
       "1          JEB BUSH     16              72               36  \n",
       "2          JEB BUSH      3              72               36  \n",
       "3          JEB BUSH      3              72               36  \n",
       "4          JEB BUSH      0              72               36  \n",
       "...             ...    ...             ...              ...  \n",
       "6169  NO PREFERENCE      2              55               28  \n",
       "6170  NO PREFERENCE      6              40               20  \n",
       "6171  NO PREFERENCE     50              56               28  \n",
       "6172  NO PREFERENCE      5              56               28  \n",
       "6173  NO PREFERENCE     10              54               27  \n",
       "\n",
       "[6174 rows x 9 columns]"
      ]
     },
     "execution_count": 34,
     "metadata": {},
     "output_type": "execute_result"
    }
   ],
   "source": [
    "# Process primary files\n",
    "primary_df_list = []\n",
    "\n",
    "for file in primary_files:\n",
    "    try:\n",
    "        df = pd.read_csv(file)\n",
    "\n",
    "        # Drop rows where 'precinct' is NaN\n",
    "        if 'precinct' in df.columns:\n",
    "            df = df[df[\"precinct\"].notna()]\n",
    "\n",
    "        # Drop rows where it is not president\n",
    "        if 'office' in df.columns:\n",
    "            df = df[df[\"office\"] == \"PRESIDENT\"]\n",
    "        \n",
    "        df = df.drop_duplicates()\n",
    "\n",
    "        primary_df_list.append(df)\n",
    "\n",
    "    except Exception as e:\n",
    "        print(f\"Error in {file}: {e}\")\n",
    "\n",
    "# Combine all cleaned files\n",
    "pri_combined_df = pd.concat(primary_df_list, ignore_index=True)\n",
    "# Create a new column \"precinct\" by combining county and precinct\n",
    "pri_combined_df[\"precinct\"] = pri_combined_df[\"county\"].astype(str) + pri_combined_df[\"precinct\"].astype(str)\n",
    "pri_combined_df\n"
   ]
  },
  {
   "cell_type": "code",
   "execution_count": 35,
   "id": "1da58bec",
   "metadata": {},
   "outputs": [
    {
     "data": {
      "application/vnd.microsoft.datawrangler.viewer.v0+json": {
       "columns": [
        {
         "name": "party",
         "rawType": "object",
         "type": "string"
        },
        {
         "name": "count",
         "rawType": "int64",
         "type": "integer"
        }
       ],
       "ref": "58f53c7f-c56e-4de9-9a89-6430bc1ffb14",
       "rows": [
        [
         "REP",
         "4116"
        ],
        [
         "DEM",
         "2058"
        ]
       ],
       "shape": {
        "columns": 1,
        "rows": 2
       }
      },
      "text/plain": [
       "party\n",
       "REP    4116\n",
       "DEM    2058\n",
       "Name: count, dtype: int64"
      ]
     },
     "execution_count": 35,
     "metadata": {},
     "output_type": "execute_result"
    }
   ],
   "source": [
    "pri_combined_df[\"party\"].value_counts(dropna=False)"
   ]
  },
  {
   "cell_type": "code",
   "execution_count": 36,
   "id": "f0e1e913",
   "metadata": {},
   "outputs": [
    {
     "data": {
      "application/vnd.microsoft.datawrangler.viewer.v0+json": {
       "columns": [
        {
         "name": "index",
         "rawType": "int64",
         "type": "integer"
        },
        {
         "name": "precinct",
         "rawType": "object",
         "type": "string"
        },
        {
         "name": "party",
         "rawType": "object",
         "type": "string"
        },
        {
         "name": "candidate",
         "rawType": "object",
         "type": "string"
        },
        {
         "name": "votes",
         "rawType": "int64",
         "type": "integer"
        }
       ],
       "ref": "c20c0905-57b4-4f4b-9208-677d96c9b6d9",
       "rows": [
        [
         "0",
         "BeaverheadPRECINCT 01",
         "REP",
         "JEB BUSH",
         "10"
        ],
        [
         "1",
         "BeaverheadPRECINCT 12",
         "REP",
         "JEB BUSH",
         "16"
        ],
        [
         "2",
         "BeaverheadPRECINCT 14",
         "REP",
         "JEB BUSH",
         "3"
        ],
        [
         "3",
         "BeaverheadPRECINCT 17",
         "REP",
         "JEB BUSH",
         "3"
        ],
        [
         "4",
         "BeaverheadPRECINCT 19",
         "REP",
         "JEB BUSH",
         "0"
        ],
        [
         "5",
         "BeaverheadPRECINCT 02",
         "REP",
         "JEB BUSH",
         "9"
        ],
        [
         "6",
         "BeaverheadPRECINCT 20",
         "REP",
         "JEB BUSH",
         "0"
        ],
        [
         "7",
         "BeaverheadPRECINCT 21",
         "REP",
         "JEB BUSH",
         "4"
        ],
        [
         "8",
         "BeaverheadPRECINCT 23",
         "REP",
         "JEB BUSH",
         "2"
        ],
        [
         "9",
         "BeaverheadPRECINCT 03",
         "REP",
         "JEB BUSH",
         "11"
        ],
        [
         "10",
         "BeaverheadPRECINCT 04",
         "REP",
         "JEB BUSH",
         "5"
        ],
        [
         "11",
         "BeaverheadPRECINCT 05",
         "REP",
         "JEB BUSH",
         "2"
        ],
        [
         "12",
         "BeaverheadPRECINCT 06",
         "REP",
         "JEB BUSH",
         "7"
        ],
        [
         "13",
         "BeaverheadPRECINCT 07",
         "REP",
         "JEB BUSH",
         "3"
        ],
        [
         "14",
         "BeaverheadPRECINCT 08",
         "REP",
         "JEB BUSH",
         "2"
        ],
        [
         "15",
         "BeaverheadPRECINCT 09",
         "REP",
         "JEB BUSH",
         "14"
        ],
        [
         "16",
         "BeaverheadPRECINCT 01",
         "DEM",
         "HILLARY CLINTON",
         "27"
        ],
        [
         "17",
         "BeaverheadPRECINCT 12",
         "DEM",
         "HILLARY CLINTON",
         "38"
        ],
        [
         "18",
         "BeaverheadPRECINCT 14",
         "DEM",
         "HILLARY CLINTON",
         "27"
        ],
        [
         "19",
         "BeaverheadPRECINCT 17",
         "DEM",
         "HILLARY CLINTON",
         "8"
        ],
        [
         "20",
         "BeaverheadPRECINCT 19",
         "DEM",
         "HILLARY CLINTON",
         "2"
        ],
        [
         "21",
         "BeaverheadPRECINCT 02",
         "DEM",
         "HILLARY CLINTON",
         "22"
        ],
        [
         "22",
         "BeaverheadPRECINCT 20",
         "DEM",
         "HILLARY CLINTON",
         "1"
        ],
        [
         "23",
         "BeaverheadPRECINCT 21",
         "DEM",
         "HILLARY CLINTON",
         "11"
        ],
        [
         "24",
         "BeaverheadPRECINCT 23",
         "DEM",
         "HILLARY CLINTON",
         "6"
        ],
        [
         "25",
         "BeaverheadPRECINCT 03",
         "DEM",
         "HILLARY CLINTON",
         "36"
        ],
        [
         "26",
         "BeaverheadPRECINCT 04",
         "DEM",
         "HILLARY CLINTON",
         "10"
        ],
        [
         "27",
         "BeaverheadPRECINCT 05",
         "DEM",
         "HILLARY CLINTON",
         "1"
        ],
        [
         "28",
         "BeaverheadPRECINCT 06",
         "DEM",
         "HILLARY CLINTON",
         "27"
        ],
        [
         "29",
         "BeaverheadPRECINCT 07",
         "DEM",
         "HILLARY CLINTON",
         "11"
        ],
        [
         "30",
         "BeaverheadPRECINCT 08",
         "DEM",
         "HILLARY CLINTON",
         "2"
        ],
        [
         "31",
         "BeaverheadPRECINCT 09",
         "DEM",
         "HILLARY CLINTON",
         "15"
        ],
        [
         "32",
         "BeaverheadPRECINCT 01",
         "REP",
         "TED CRUZ",
         "18"
        ],
        [
         "33",
         "BeaverheadPRECINCT 12",
         "REP",
         "TED CRUZ",
         "11"
        ],
        [
         "34",
         "BeaverheadPRECINCT 14",
         "REP",
         "TED CRUZ",
         "12"
        ],
        [
         "35",
         "BeaverheadPRECINCT 17",
         "REP",
         "TED CRUZ",
         "2"
        ],
        [
         "36",
         "BeaverheadPRECINCT 19",
         "REP",
         "TED CRUZ",
         "4"
        ],
        [
         "37",
         "BeaverheadPRECINCT 02",
         "REP",
         "TED CRUZ",
         "38"
        ],
        [
         "38",
         "BeaverheadPRECINCT 20",
         "REP",
         "TED CRUZ",
         "3"
        ],
        [
         "39",
         "BeaverheadPRECINCT 21",
         "REP",
         "TED CRUZ",
         "7"
        ],
        [
         "40",
         "BeaverheadPRECINCT 23",
         "REP",
         "TED CRUZ",
         "5"
        ],
        [
         "41",
         "BeaverheadPRECINCT 03",
         "REP",
         "TED CRUZ",
         "35"
        ],
        [
         "42",
         "BeaverheadPRECINCT 04",
         "REP",
         "TED CRUZ",
         "13"
        ],
        [
         "43",
         "BeaverheadPRECINCT 05",
         "REP",
         "TED CRUZ",
         "7"
        ],
        [
         "44",
         "BeaverheadPRECINCT 06",
         "REP",
         "TED CRUZ",
         "17"
        ],
        [
         "45",
         "BeaverheadPRECINCT 07",
         "REP",
         "TED CRUZ",
         "16"
        ],
        [
         "46",
         "BeaverheadPRECINCT 08",
         "REP",
         "TED CRUZ",
         "3"
        ],
        [
         "47",
         "BeaverheadPRECINCT 09",
         "REP",
         "TED CRUZ",
         "12"
        ],
        [
         "48",
         "BeaverheadPRECINCT 01",
         "REP",
         "JOHN R. KASICH",
         "30"
        ],
        [
         "49",
         "BeaverheadPRECINCT 12",
         "REP",
         "JOHN R. KASICH",
         "30"
        ]
       ],
       "shape": {
        "columns": 4,
        "rows": 6174
       }
      },
      "text/html": [
       "<div>\n",
       "<style scoped>\n",
       "    .dataframe tbody tr th:only-of-type {\n",
       "        vertical-align: middle;\n",
       "    }\n",
       "\n",
       "    .dataframe tbody tr th {\n",
       "        vertical-align: top;\n",
       "    }\n",
       "\n",
       "    .dataframe thead th {\n",
       "        text-align: right;\n",
       "    }\n",
       "</style>\n",
       "<table border=\"1\" class=\"dataframe\">\n",
       "  <thead>\n",
       "    <tr style=\"text-align: right;\">\n",
       "      <th></th>\n",
       "      <th>precinct</th>\n",
       "      <th>party</th>\n",
       "      <th>candidate</th>\n",
       "      <th>votes</th>\n",
       "    </tr>\n",
       "  </thead>\n",
       "  <tbody>\n",
       "    <tr>\n",
       "      <th>0</th>\n",
       "      <td>BeaverheadPRECINCT 01</td>\n",
       "      <td>REP</td>\n",
       "      <td>JEB BUSH</td>\n",
       "      <td>10</td>\n",
       "    </tr>\n",
       "    <tr>\n",
       "      <th>1</th>\n",
       "      <td>BeaverheadPRECINCT 12</td>\n",
       "      <td>REP</td>\n",
       "      <td>JEB BUSH</td>\n",
       "      <td>16</td>\n",
       "    </tr>\n",
       "    <tr>\n",
       "      <th>2</th>\n",
       "      <td>BeaverheadPRECINCT 14</td>\n",
       "      <td>REP</td>\n",
       "      <td>JEB BUSH</td>\n",
       "      <td>3</td>\n",
       "    </tr>\n",
       "    <tr>\n",
       "      <th>3</th>\n",
       "      <td>BeaverheadPRECINCT 17</td>\n",
       "      <td>REP</td>\n",
       "      <td>JEB BUSH</td>\n",
       "      <td>3</td>\n",
       "    </tr>\n",
       "    <tr>\n",
       "      <th>4</th>\n",
       "      <td>BeaverheadPRECINCT 19</td>\n",
       "      <td>REP</td>\n",
       "      <td>JEB BUSH</td>\n",
       "      <td>0</td>\n",
       "    </tr>\n",
       "    <tr>\n",
       "      <th>...</th>\n",
       "      <td>...</td>\n",
       "      <td>...</td>\n",
       "      <td>...</td>\n",
       "      <td>...</td>\n",
       "    </tr>\n",
       "    <tr>\n",
       "      <th>6169</th>\n",
       "      <td>Yellowstone55.1</td>\n",
       "      <td>DEM</td>\n",
       "      <td>NO PREFERENCE</td>\n",
       "      <td>2</td>\n",
       "    </tr>\n",
       "    <tr>\n",
       "      <th>6170</th>\n",
       "      <td>Yellowstone40-45</td>\n",
       "      <td>DEM</td>\n",
       "      <td>NO PREFERENCE</td>\n",
       "      <td>6</td>\n",
       "    </tr>\n",
       "    <tr>\n",
       "      <th>6171</th>\n",
       "      <td>Yellowstone56.2</td>\n",
       "      <td>DEM</td>\n",
       "      <td>NO PREFERENCE</td>\n",
       "      <td>50</td>\n",
       "    </tr>\n",
       "    <tr>\n",
       "      <th>6172</th>\n",
       "      <td>Yellowstone56.1</td>\n",
       "      <td>DEM</td>\n",
       "      <td>NO PREFERENCE</td>\n",
       "      <td>5</td>\n",
       "    </tr>\n",
       "    <tr>\n",
       "      <th>6173</th>\n",
       "      <td>Yellowstone54.2</td>\n",
       "      <td>DEM</td>\n",
       "      <td>NO PREFERENCE</td>\n",
       "      <td>10</td>\n",
       "    </tr>\n",
       "  </tbody>\n",
       "</table>\n",
       "<p>6174 rows × 4 columns</p>\n",
       "</div>"
      ],
      "text/plain": [
       "                   precinct party      candidate  votes\n",
       "0     BeaverheadPRECINCT 01   REP       JEB BUSH     10\n",
       "1     BeaverheadPRECINCT 12   REP       JEB BUSH     16\n",
       "2     BeaverheadPRECINCT 14   REP       JEB BUSH      3\n",
       "3     BeaverheadPRECINCT 17   REP       JEB BUSH      3\n",
       "4     BeaverheadPRECINCT 19   REP       JEB BUSH      0\n",
       "...                     ...   ...            ...    ...\n",
       "6169        Yellowstone55.1   DEM  NO PREFERENCE      2\n",
       "6170       Yellowstone40-45   DEM  NO PREFERENCE      6\n",
       "6171        Yellowstone56.2   DEM  NO PREFERENCE     50\n",
       "6172        Yellowstone56.1   DEM  NO PREFERENCE      5\n",
       "6173        Yellowstone54.2   DEM  NO PREFERENCE     10\n",
       "\n",
       "[6174 rows x 4 columns]"
      ]
     },
     "execution_count": 36,
     "metadata": {},
     "output_type": "execute_result"
    }
   ],
   "source": [
    "# Select only the relevant columns\n",
    "primary_data = pri_combined_df[[\"precinct\", \"party\", \"candidate\", \"votes\"]]\n",
    "# primary_data.loc[:, \"party\"] = primary_data[\"party\"].replace({\n",
    "#     \"President Republican Party\": \"REP\",\n",
    "#     \"President Democratic Party\": \"DEM\",\n",
    "#     \"Democratic Party\": \"DEM\",\n",
    "#     \"Republican Party\": \"REP\"\n",
    "# })\n",
    "primary_data = primary_data[primary_data[\"party\"].isin([\"DEM\", \"REP\"])] # Analyzing only republican and democratic\n",
    "\n",
    "primary_data"
   ]
  },
  {
   "cell_type": "code",
   "execution_count": 37,
   "id": "759be944",
   "metadata": {},
   "outputs": [
    {
     "data": {
      "application/vnd.microsoft.datawrangler.viewer.v0+json": {
       "columns": [
        {
         "name": "party",
         "rawType": "object",
         "type": "string"
        },
        {
         "name": "count",
         "rawType": "int64",
         "type": "integer"
        }
       ],
       "ref": "c703c06c-6791-4508-afb6-68de1f2e308f",
       "rows": [
        [
         "REP",
         "4116"
        ],
        [
         "DEM",
         "2058"
        ]
       ],
       "shape": {
        "columns": 1,
        "rows": 2
       }
      },
      "text/plain": [
       "party\n",
       "REP    4116\n",
       "DEM    2058\n",
       "Name: count, dtype: int64"
      ]
     },
     "execution_count": 37,
     "metadata": {},
     "output_type": "execute_result"
    }
   ],
   "source": [
    "primary_data[\"party\"].value_counts(dropna=False)"
   ]
  },
  {
   "cell_type": "code",
   "execution_count": 38,
   "id": "5eef8778",
   "metadata": {},
   "outputs": [
    {
     "data": {
      "application/vnd.microsoft.datawrangler.viewer.v0+json": {
       "columns": [
        {
         "name": "candidate",
         "rawType": "object",
         "type": "string"
        },
        {
         "name": "count",
         "rawType": "int64",
         "type": "integer"
        }
       ],
       "ref": "8b90b1b9-e76a-49b0-9e9e-477ea751ca0b",
       "rows": [
        [
         "NO PREFERENCE",
         "1372"
        ],
        [
         "JEB BUSH",
         "686"
        ],
        [
         "HILLARY CLINTON",
         "686"
        ],
        [
         "TED CRUZ",
         "686"
        ],
        [
         "JOHN R. KASICH",
         "686"
        ],
        [
         "MARCO RUBIO",
         "686"
        ],
        [
         "BERNIE SANDERS",
         "686"
        ],
        [
         "DONALD J. TRUMP",
         "686"
        ]
       ],
       "shape": {
        "columns": 1,
        "rows": 8
       }
      },
      "text/plain": [
       "candidate\n",
       "NO PREFERENCE      1372\n",
       "JEB BUSH            686\n",
       "HILLARY CLINTON     686\n",
       "TED CRUZ            686\n",
       "JOHN R. KASICH      686\n",
       "MARCO RUBIO         686\n",
       "BERNIE SANDERS      686\n",
       "DONALD J. TRUMP     686\n",
       "Name: count, dtype: int64"
      ]
     },
     "execution_count": 38,
     "metadata": {},
     "output_type": "execute_result"
    }
   ],
   "source": [
    "#Remove Write-in and Registered Voters\n",
    "primary_data = primary_data[~primary_data[\"candidate\"].isin([\"Registered Voters\", \"Write-In\"])] \n",
    "primary_data[\"candidate\"].value_counts(dropna=False)"
   ]
  },
  {
   "cell_type": "code",
   "execution_count": 39,
   "id": "3d2dcc9d",
   "metadata": {},
   "outputs": [
    {
     "name": "stdout",
     "output_type": "stream",
     "text": [
      "{'JEB BUSH': 'REP', 'HILLARY CLINTON': 'DEM', 'TED CRUZ': 'REP', 'JOHN R. KASICH': 'REP', 'MARCO RUBIO': 'REP', 'BERNIE SANDERS': 'DEM', 'DONALD J. TRUMP': 'REP'}\n"
     ]
    }
   ],
   "source": [
    "primary_data = primary_data[~primary_data[\"candidate\"].isin([\"NO PREFERENCE\"])] \n",
    "primary_data[\"candidate\"].unique()\n",
    "candidate_party_map = (\n",
    "    primary_data.dropna(subset=[\"candidate\", \"party\"])\n",
    "                .set_index(\"candidate\")[\"party\"]\n",
    "                .to_dict()\n",
    ")\n",
    "print(candidate_party_map)"
   ]
  },
  {
   "cell_type": "code",
   "execution_count": 40,
   "id": "a359cd18",
   "metadata": {},
   "outputs": [
    {
     "data": {
      "application/vnd.microsoft.datawrangler.viewer.v0+json": {
       "columns": [
        {
         "name": "index",
         "rawType": "int64",
         "type": "integer"
        },
        {
         "name": "precinct",
         "rawType": "object",
         "type": "string"
        },
        {
         "name": "pri_dem_CLINTON",
         "rawType": "int64",
         "type": "integer"
        },
        {
         "name": "pri_dem_SANDERS",
         "rawType": "int64",
         "type": "integer"
        },
        {
         "name": "pri_rep_BUSH",
         "rawType": "int64",
         "type": "integer"
        },
        {
         "name": "pri_rep_CRUZ",
         "rawType": "int64",
         "type": "integer"
        },
        {
         "name": "pri_rep_KASICH",
         "rawType": "int64",
         "type": "integer"
        },
        {
         "name": "pri_rep_RUBIO",
         "rawType": "int64",
         "type": "integer"
        },
        {
         "name": "pri_rep_TRUMP",
         "rawType": "int64",
         "type": "integer"
        }
       ],
       "ref": "4e750553-872d-4fd7-a806-50f2dcfc9742",
       "rows": [
        [
         "0",
         "BeaverheadPRECINCT 01",
         "27",
         "44",
         "10",
         "18",
         "30",
         "8",
         "78"
        ],
        [
         "1",
         "BeaverheadPRECINCT 02",
         "22",
         "50",
         "9",
         "38",
         "23",
         "13",
         "252"
        ],
        [
         "2",
         "BeaverheadPRECINCT 03",
         "36",
         "33",
         "11",
         "35",
         "35",
         "18",
         "269"
        ],
        [
         "3",
         "BeaverheadPRECINCT 04",
         "10",
         "7",
         "5",
         "13",
         "7",
         "5",
         "76"
        ],
        [
         "4",
         "BeaverheadPRECINCT 05",
         "1",
         "1",
         "2",
         "7",
         "5",
         "2",
         "56"
        ],
        [
         "5",
         "BeaverheadPRECINCT 06",
         "27",
         "34",
         "7",
         "17",
         "24",
         "11",
         "157"
        ],
        [
         "6",
         "BeaverheadPRECINCT 07",
         "11",
         "13",
         "3",
         "16",
         "18",
         "7",
         "120"
        ],
        [
         "7",
         "BeaverheadPRECINCT 08",
         "2",
         "4",
         "2",
         "3",
         "6",
         "3",
         "37"
        ],
        [
         "8",
         "BeaverheadPRECINCT 09",
         "15",
         "29",
         "14",
         "12",
         "10",
         "7",
         "143"
        ],
        [
         "9",
         "BeaverheadPRECINCT 12",
         "38",
         "36",
         "16",
         "11",
         "30",
         "9",
         "148"
        ],
        [
         "10",
         "BeaverheadPRECINCT 14",
         "27",
         "41",
         "3",
         "12",
         "13",
         "6",
         "94"
        ],
        [
         "11",
         "BeaverheadPRECINCT 17",
         "8",
         "10",
         "3",
         "2",
         "2",
         "0",
         "44"
        ],
        [
         "12",
         "BeaverheadPRECINCT 19",
         "2",
         "7",
         "0",
         "4",
         "4",
         "2",
         "67"
        ],
        [
         "13",
         "BeaverheadPRECINCT 20",
         "1",
         "0",
         "0",
         "3",
         "2",
         "3",
         "51"
        ],
        [
         "14",
         "BeaverheadPRECINCT 21",
         "11",
         "6",
         "4",
         "7",
         "3",
         "3",
         "55"
        ],
        [
         "15",
         "BeaverheadPRECINCT 23",
         "6",
         "8",
         "2",
         "5",
         "1",
         "1",
         "52"
        ],
        [
         "16",
         "Big HornPRECINCT #1",
         "8",
         "11",
         "2",
         "5",
         "1",
         "2",
         "46"
        ],
        [
         "17",
         "Big HornPRECINCT #10",
         "3",
         "2",
         "0",
         "1",
         "2",
         "3",
         "22"
        ],
        [
         "18",
         "Big HornPRECINCT #14",
         "18",
         "16",
         "0",
         "0",
         "0",
         "1",
         "12"
        ],
        [
         "19",
         "Big HornPRECINCT #15",
         "30",
         "50",
         "0",
         "4",
         "0",
         "0",
         "24"
        ],
        [
         "20",
         "Big HornPRECINCT #17",
         "32",
         "34",
         "1",
         "5",
         "3",
         "3",
         "83"
        ],
        [
         "21",
         "Big HornPRECINCT #18",
         "20",
         "28",
         "0",
         "12",
         "3",
         "2",
         "79"
        ],
        [
         "22",
         "Big HornPRECINCT #19",
         "34",
         "55",
         "5",
         "16",
         "1",
         "5",
         "122"
        ],
        [
         "23",
         "Big HornPRECINCT #2",
         "8",
         "10",
         "1",
         "2",
         "1",
         "1",
         "22"
        ],
        [
         "24",
         "Big HornPRECINCT #21",
         "54",
         "35",
         "1",
         "1",
         "4",
         "0",
         "24"
        ],
        [
         "25",
         "Big HornPRECINCT #25",
         "9",
         "8",
         "0",
         "1",
         "0",
         "2",
         "17"
        ],
        [
         "26",
         "Big HornPRECINCT #26",
         "23",
         "37",
         "0",
         "6",
         "1",
         "2",
         "15"
        ],
        [
         "27",
         "Big HornPRECINCT #3",
         "7",
         "10",
         "0",
         "2",
         "1",
         "0",
         "45"
        ],
        [
         "28",
         "Big HornPRECINCT #4",
         "5",
         "5",
         "0",
         "5",
         "1",
         "0",
         "30"
        ],
        [
         "29",
         "Big HornPRECINCT #4N",
         "5",
         "10",
         "2",
         "3",
         "0",
         "1",
         "58"
        ],
        [
         "30",
         "Big HornPRECINCT #5",
         "26",
         "21",
         "1",
         "8",
         "1",
         "2",
         "14"
        ],
        [
         "31",
         "Big HornPRECINCT #6",
         "4",
         "6",
         "0",
         "1",
         "0",
         "0",
         "22"
        ],
        [
         "32",
         "Big HornPRECINCT #7",
         "101",
         "108",
         "1",
         "4",
         "2",
         "1",
         "18"
        ],
        [
         "33",
         "Big HornPRECINCT #8",
         "10",
         "15",
         "0",
         "2",
         "1",
         "2",
         "45"
        ],
        [
         "34",
         "Big HornPRECINCT #9",
         "17",
         "25",
         "0",
         "0",
         "0",
         "1",
         "6"
        ],
        [
         "35",
         "BlaineBELKNAP 3-32",
         "49",
         "73",
         "1",
         "0",
         "0",
         "0",
         "13"
        ],
        [
         "36",
         "BlaineCHINOOK 11-33",
         "66",
         "103",
         "5",
         "21",
         "8",
         "10",
         "138"
        ],
        [
         "37",
         "BlaineHARLEM 8-32",
         "52",
         "52",
         "0",
         "7",
         "1",
         "6",
         "45"
        ],
        [
         "38",
         "BlaineHARLEM 9-32",
         "18",
         "24",
         "0",
         "0",
         "0",
         "0",
         "2"
        ],
        [
         "39",
         "BlaineHAYS 15-32",
         "51",
         "91",
         "2",
         "1",
         "0",
         "0",
         "8"
        ],
        [
         "40",
         "BlaineNO CHINOOK 13-33",
         "7",
         "9",
         "0",
         "4",
         "3",
         "0",
         "38"
        ],
        [
         "41",
         "BlaineSO CHINOOK 10-32",
         "29",
         "39",
         "6",
         "15",
         "6",
         "2",
         "135"
        ],
        [
         "42",
         "BlaineTURNER 1-33",
         "8",
         "15",
         "2",
         "4",
         "7",
         "2",
         "109"
        ],
        [
         "43",
         "BroadwaterPRECINCT 1",
         "42",
         "74",
         "5",
         "21",
         "19",
         "5",
         "203"
        ],
        [
         "44",
         "BroadwaterPRECINCT 11",
         "41",
         "49",
         "4",
         "29",
         "11",
         "9",
         "255"
        ],
        [
         "45",
         "BroadwaterPRECINCT 12",
         "46",
         "53",
         "15",
         "27",
         "12",
         "20",
         "200"
        ],
        [
         "46",
         "BroadwaterPRECINCT 13",
         "18",
         "36",
         "7",
         "40",
         "3",
         "6",
         "200"
        ],
        [
         "47",
         "BroadwaterPRECINCT 7",
         "43",
         "45",
         "10",
         "26",
         "9",
         "7",
         "147"
        ],
        [
         "48",
         "CarbonP 1",
         "41",
         "43",
         "2",
         "16",
         "8",
         "8",
         "152"
        ],
        [
         "49",
         "CarbonP 10",
         "60",
         "82",
         "1",
         "11",
         "10",
         "3",
         "45"
        ]
       ],
       "shape": {
        "columns": 8,
        "rows": 692
       }
      },
      "text/html": [
       "<div>\n",
       "<style scoped>\n",
       "    .dataframe tbody tr th:only-of-type {\n",
       "        vertical-align: middle;\n",
       "    }\n",
       "\n",
       "    .dataframe tbody tr th {\n",
       "        vertical-align: top;\n",
       "    }\n",
       "\n",
       "    .dataframe thead th {\n",
       "        text-align: right;\n",
       "    }\n",
       "</style>\n",
       "<table border=\"1\" class=\"dataframe\">\n",
       "  <thead>\n",
       "    <tr style=\"text-align: right;\">\n",
       "      <th>candidate_column</th>\n",
       "      <th>precinct</th>\n",
       "      <th>pri_dem_CLINTON</th>\n",
       "      <th>pri_dem_SANDERS</th>\n",
       "      <th>pri_rep_BUSH</th>\n",
       "      <th>pri_rep_CRUZ</th>\n",
       "      <th>pri_rep_KASICH</th>\n",
       "      <th>pri_rep_RUBIO</th>\n",
       "      <th>pri_rep_TRUMP</th>\n",
       "    </tr>\n",
       "  </thead>\n",
       "  <tbody>\n",
       "    <tr>\n",
       "      <th>0</th>\n",
       "      <td>BeaverheadPRECINCT 01</td>\n",
       "      <td>27</td>\n",
       "      <td>44</td>\n",
       "      <td>10</td>\n",
       "      <td>18</td>\n",
       "      <td>30</td>\n",
       "      <td>8</td>\n",
       "      <td>78</td>\n",
       "    </tr>\n",
       "    <tr>\n",
       "      <th>1</th>\n",
       "      <td>BeaverheadPRECINCT 02</td>\n",
       "      <td>22</td>\n",
       "      <td>50</td>\n",
       "      <td>9</td>\n",
       "      <td>38</td>\n",
       "      <td>23</td>\n",
       "      <td>13</td>\n",
       "      <td>252</td>\n",
       "    </tr>\n",
       "    <tr>\n",
       "      <th>2</th>\n",
       "      <td>BeaverheadPRECINCT 03</td>\n",
       "      <td>36</td>\n",
       "      <td>33</td>\n",
       "      <td>11</td>\n",
       "      <td>35</td>\n",
       "      <td>35</td>\n",
       "      <td>18</td>\n",
       "      <td>269</td>\n",
       "    </tr>\n",
       "    <tr>\n",
       "      <th>3</th>\n",
       "      <td>BeaverheadPRECINCT 04</td>\n",
       "      <td>10</td>\n",
       "      <td>7</td>\n",
       "      <td>5</td>\n",
       "      <td>13</td>\n",
       "      <td>7</td>\n",
       "      <td>5</td>\n",
       "      <td>76</td>\n",
       "    </tr>\n",
       "    <tr>\n",
       "      <th>4</th>\n",
       "      <td>BeaverheadPRECINCT 05</td>\n",
       "      <td>1</td>\n",
       "      <td>1</td>\n",
       "      <td>2</td>\n",
       "      <td>7</td>\n",
       "      <td>5</td>\n",
       "      <td>2</td>\n",
       "      <td>56</td>\n",
       "    </tr>\n",
       "    <tr>\n",
       "      <th>...</th>\n",
       "      <td>...</td>\n",
       "      <td>...</td>\n",
       "      <td>...</td>\n",
       "      <td>...</td>\n",
       "      <td>...</td>\n",
       "      <td>...</td>\n",
       "      <td>...</td>\n",
       "      <td>...</td>\n",
       "    </tr>\n",
       "    <tr>\n",
       "      <th>687</th>\n",
       "      <td>Yellowstone55.4</td>\n",
       "      <td>131</td>\n",
       "      <td>134</td>\n",
       "      <td>6</td>\n",
       "      <td>33</td>\n",
       "      <td>12</td>\n",
       "      <td>9</td>\n",
       "      <td>250</td>\n",
       "    </tr>\n",
       "    <tr>\n",
       "      <th>688</th>\n",
       "      <td>Yellowstone55.5</td>\n",
       "      <td>199</td>\n",
       "      <td>164</td>\n",
       "      <td>11</td>\n",
       "      <td>82</td>\n",
       "      <td>47</td>\n",
       "      <td>15</td>\n",
       "      <td>421</td>\n",
       "    </tr>\n",
       "    <tr>\n",
       "      <th>689</th>\n",
       "      <td>Yellowstone56.1</td>\n",
       "      <td>22</td>\n",
       "      <td>34</td>\n",
       "      <td>2</td>\n",
       "      <td>15</td>\n",
       "      <td>8</td>\n",
       "      <td>7</td>\n",
       "      <td>106</td>\n",
       "    </tr>\n",
       "    <tr>\n",
       "      <th>690</th>\n",
       "      <td>Yellowstone56.2</td>\n",
       "      <td>274</td>\n",
       "      <td>318</td>\n",
       "      <td>21</td>\n",
       "      <td>138</td>\n",
       "      <td>63</td>\n",
       "      <td>30</td>\n",
       "      <td>882</td>\n",
       "    </tr>\n",
       "    <tr>\n",
       "      <th>691</th>\n",
       "      <td>Yellowstone56.3</td>\n",
       "      <td>82</td>\n",
       "      <td>65</td>\n",
       "      <td>10</td>\n",
       "      <td>31</td>\n",
       "      <td>29</td>\n",
       "      <td>10</td>\n",
       "      <td>261</td>\n",
       "    </tr>\n",
       "  </tbody>\n",
       "</table>\n",
       "<p>692 rows × 8 columns</p>\n",
       "</div>"
      ],
      "text/plain": [
       "candidate_column               precinct  pri_dem_CLINTON  pri_dem_SANDERS  \\\n",
       "0                 BeaverheadPRECINCT 01               27               44   \n",
       "1                 BeaverheadPRECINCT 02               22               50   \n",
       "2                 BeaverheadPRECINCT 03               36               33   \n",
       "3                 BeaverheadPRECINCT 04               10                7   \n",
       "4                 BeaverheadPRECINCT 05                1                1   \n",
       "..                                  ...              ...              ...   \n",
       "687                     Yellowstone55.4              131              134   \n",
       "688                     Yellowstone55.5              199              164   \n",
       "689                     Yellowstone56.1               22               34   \n",
       "690                     Yellowstone56.2              274              318   \n",
       "691                     Yellowstone56.3               82               65   \n",
       "\n",
       "candidate_column  pri_rep_BUSH  pri_rep_CRUZ  pri_rep_KASICH  pri_rep_RUBIO  \\\n",
       "0                           10            18              30              8   \n",
       "1                            9            38              23             13   \n",
       "2                           11            35              35             18   \n",
       "3                            5            13               7              5   \n",
       "4                            2             7               5              2   \n",
       "..                         ...           ...             ...            ...   \n",
       "687                          6            33              12              9   \n",
       "688                         11            82              47             15   \n",
       "689                          2            15               8              7   \n",
       "690                         21           138              63             30   \n",
       "691                         10            31              29             10   \n",
       "\n",
       "candidate_column  pri_rep_TRUMP  \n",
       "0                            78  \n",
       "1                           252  \n",
       "2                           269  \n",
       "3                            76  \n",
       "4                            56  \n",
       "..                          ...  \n",
       "687                         250  \n",
       "688                         421  \n",
       "689                         106  \n",
       "690                         882  \n",
       "691                         261  \n",
       "\n",
       "[692 rows x 8 columns]"
      ]
     },
     "execution_count": 40,
     "metadata": {},
     "output_type": "execute_result"
    }
   ],
   "source": [
    "primary_data.loc[:,\"candidate_column\"] = (\n",
    "    \"pri_\" +\n",
    "    primary_data[\"party\"].str.lower() + \"_\" +\n",
    "    primary_data[\"candidate\"].str.split().str[-1].str.upper()\n",
    ")\n",
    "\n",
    "# pivot the table\n",
    "primary_result = primary_data.pivot_table(\n",
    "    index=\"precinct\",\n",
    "    columns=\"candidate_column\",\n",
    "    values=\"votes\",\n",
    "    aggfunc=\"sum\",  \n",
    "    fill_value=0\n",
    ").reset_index()\n",
    "\n",
    "primary_result"
   ]
  },
  {
   "cell_type": "code",
   "execution_count": 41,
   "id": "f1ef9692",
   "metadata": {},
   "outputs": [
    {
     "data": {
      "application/vnd.microsoft.datawrangler.viewer.v0+json": {
       "columns": [
        {
         "name": "index",
         "rawType": "int64",
         "type": "integer"
        },
        {
         "name": "county",
         "rawType": "object",
         "type": "string"
        },
        {
         "name": "precinct",
         "rawType": "object",
         "type": "string"
        },
        {
         "name": "district",
         "rawType": "float64",
         "type": "float"
        },
        {
         "name": "office",
         "rawType": "object",
         "type": "string"
        },
        {
         "name": "party",
         "rawType": "object",
         "type": "string"
        },
        {
         "name": "candidate",
         "rawType": "object",
         "type": "string"
        },
        {
         "name": "votes",
         "rawType": "int64",
         "type": "integer"
        }
       ],
       "ref": "c72025f5-6aa0-4c25-b14a-b4d4000dcb1e",
       "rows": [
        [
         "0",
         "Beaverhead",
         "BeaverheadPRECINCT 01",
         null,
         "President",
         "Democrat",
         "Hillary Clinton",
         "175"
        ],
        [
         "1",
         "Beaverhead",
         "BeaverheadPRECINCT 12",
         null,
         "President",
         "Democrat",
         "Hillary Clinton",
         "157"
        ],
        [
         "2",
         "Beaverhead",
         "BeaverheadPRECINCT 14",
         null,
         "President",
         "Democrat",
         "Hillary Clinton",
         "125"
        ],
        [
         "3",
         "Beaverhead",
         "BeaverheadPRECINCT 17",
         null,
         "President",
         "Democrat",
         "Hillary Clinton",
         "18"
        ],
        [
         "4",
         "Beaverhead",
         "BeaverheadPRECINCT 19",
         null,
         "President",
         "Democrat",
         "Hillary Clinton",
         "14"
        ],
        [
         "5",
         "Beaverhead",
         "BeaverheadPRECINCT 02",
         null,
         "President",
         "Democrat",
         "Hillary Clinton",
         "127"
        ],
        [
         "6",
         "Beaverhead",
         "BeaverheadPRECINCT 20",
         null,
         "President",
         "Democrat",
         "Hillary Clinton",
         "2"
        ],
        [
         "7",
         "Beaverhead",
         "BeaverheadPRECINCT 21",
         null,
         "President",
         "Democrat",
         "Hillary Clinton",
         "25"
        ],
        [
         "8",
         "Beaverhead",
         "BeaverheadPRECINCT 23",
         null,
         "President",
         "Democrat",
         "Hillary Clinton",
         "29"
        ],
        [
         "9",
         "Beaverhead",
         "BeaverheadPRECINCT 03",
         null,
         "President",
         "Democrat",
         "Hillary Clinton",
         "158"
        ],
        [
         "10",
         "Beaverhead",
         "BeaverheadPRECINCT 04",
         null,
         "President",
         "Democrat",
         "Hillary Clinton",
         "34"
        ],
        [
         "11",
         "Beaverhead",
         "BeaverheadPRECINCT 05",
         null,
         "President",
         "Democrat",
         "Hillary Clinton",
         "9"
        ],
        [
         "12",
         "Beaverhead",
         "BeaverheadPRECINCT 06",
         null,
         "President",
         "Democrat",
         "Hillary Clinton",
         "129"
        ],
        [
         "13",
         "Beaverhead",
         "BeaverheadPRECINCT 07",
         null,
         "President",
         "Democrat",
         "Hillary Clinton",
         "40"
        ],
        [
         "14",
         "Beaverhead",
         "BeaverheadPRECINCT 08",
         null,
         "President",
         "Democrat",
         "Hillary Clinton",
         "14"
        ],
        [
         "15",
         "Beaverhead",
         "BeaverheadPRECINCT 09",
         null,
         "President",
         "Democrat",
         "Hillary Clinton",
         "87"
        ],
        [
         "16",
         "Beaverhead",
         "BeaverheadPRECINCT 01",
         null,
         "President",
         "American Delta",
         "Rocky Roque de la Fuenta",
         "1"
        ],
        [
         "17",
         "Beaverhead",
         "BeaverheadPRECINCT 12",
         null,
         "President",
         "American Delta",
         "Rocky Roque de la Fuenta",
         "2"
        ],
        [
         "18",
         "Beaverhead",
         "BeaverheadPRECINCT 14",
         null,
         "President",
         "American Delta",
         "Rocky Roque de la Fuenta",
         "2"
        ],
        [
         "19",
         "Beaverhead",
         "BeaverheadPRECINCT 17",
         null,
         "President",
         "American Delta",
         "Rocky Roque de la Fuenta",
         "2"
        ],
        [
         "20",
         "Beaverhead",
         "BeaverheadPRECINCT 19",
         null,
         "President",
         "American Delta",
         "Rocky Roque de la Fuenta",
         "1"
        ],
        [
         "21",
         "Beaverhead",
         "BeaverheadPRECINCT 02",
         null,
         "President",
         "American Delta",
         "Rocky Roque de la Fuenta",
         "4"
        ],
        [
         "22",
         "Beaverhead",
         "BeaverheadPRECINCT 20",
         null,
         "President",
         "American Delta",
         "Rocky Roque de la Fuenta",
         "0"
        ],
        [
         "23",
         "Beaverhead",
         "BeaverheadPRECINCT 21",
         null,
         "President",
         "American Delta",
         "Rocky Roque de la Fuenta",
         "0"
        ],
        [
         "24",
         "Beaverhead",
         "BeaverheadPRECINCT 23",
         null,
         "President",
         "American Delta",
         "Rocky Roque de la Fuenta",
         "0"
        ],
        [
         "25",
         "Beaverhead",
         "BeaverheadPRECINCT 03",
         null,
         "President",
         "American Delta",
         "Rocky Roque de la Fuenta",
         "0"
        ],
        [
         "26",
         "Beaverhead",
         "BeaverheadPRECINCT 04",
         null,
         "President",
         "American Delta",
         "Rocky Roque de la Fuenta",
         "0"
        ],
        [
         "27",
         "Beaverhead",
         "BeaverheadPRECINCT 05",
         null,
         "President",
         "American Delta",
         "Rocky Roque de la Fuenta",
         "0"
        ],
        [
         "28",
         "Beaverhead",
         "BeaverheadPRECINCT 06",
         null,
         "President",
         "American Delta",
         "Rocky Roque de la Fuenta",
         "2"
        ],
        [
         "29",
         "Beaverhead",
         "BeaverheadPRECINCT 07",
         null,
         "President",
         "American Delta",
         "Rocky Roque de la Fuenta",
         "2"
        ],
        [
         "30",
         "Beaverhead",
         "BeaverheadPRECINCT 08",
         null,
         "President",
         "American Delta",
         "Rocky Roque de la Fuenta",
         "1"
        ],
        [
         "31",
         "Beaverhead",
         "BeaverheadPRECINCT 09",
         null,
         "President",
         "American Delta",
         "Rocky Roque de la Fuenta",
         "1"
        ],
        [
         "32",
         "Beaverhead",
         "BeaverheadPRECINCT 01",
         null,
         "President",
         "Libertarian",
         "Gary Johnson",
         "48"
        ],
        [
         "33",
         "Beaverhead",
         "BeaverheadPRECINCT 12",
         null,
         "President",
         "Libertarian",
         "Gary Johnson",
         "21"
        ],
        [
         "34",
         "Beaverhead",
         "BeaverheadPRECINCT 14",
         null,
         "President",
         "Libertarian",
         "Gary Johnson",
         "27"
        ],
        [
         "35",
         "Beaverhead",
         "BeaverheadPRECINCT 17",
         null,
         "President",
         "Libertarian",
         "Gary Johnson",
         "3"
        ],
        [
         "36",
         "Beaverhead",
         "BeaverheadPRECINCT 19",
         null,
         "President",
         "Libertarian",
         "Gary Johnson",
         "6"
        ],
        [
         "37",
         "Beaverhead",
         "BeaverheadPRECINCT 02",
         null,
         "President",
         "Libertarian",
         "Gary Johnson",
         "35"
        ],
        [
         "38",
         "Beaverhead",
         "BeaverheadPRECINCT 20",
         null,
         "President",
         "Libertarian",
         "Gary Johnson",
         "0"
        ],
        [
         "39",
         "Beaverhead",
         "BeaverheadPRECINCT 21",
         null,
         "President",
         "Libertarian",
         "Gary Johnson",
         "10"
        ],
        [
         "40",
         "Beaverhead",
         "BeaverheadPRECINCT 23",
         null,
         "President",
         "Libertarian",
         "Gary Johnson",
         "5"
        ],
        [
         "41",
         "Beaverhead",
         "BeaverheadPRECINCT 03",
         null,
         "President",
         "Libertarian",
         "Gary Johnson",
         "32"
        ],
        [
         "42",
         "Beaverhead",
         "BeaverheadPRECINCT 04",
         null,
         "President",
         "Libertarian",
         "Gary Johnson",
         "6"
        ],
        [
         "43",
         "Beaverhead",
         "BeaverheadPRECINCT 05",
         null,
         "President",
         "Libertarian",
         "Gary Johnson",
         "4"
        ],
        [
         "44",
         "Beaverhead",
         "BeaverheadPRECINCT 06",
         null,
         "President",
         "Libertarian",
         "Gary Johnson",
         "35"
        ],
        [
         "45",
         "Beaverhead",
         "BeaverheadPRECINCT 07",
         null,
         "President",
         "Libertarian",
         "Gary Johnson",
         "12"
        ],
        [
         "46",
         "Beaverhead",
         "BeaverheadPRECINCT 08",
         null,
         "President",
         "Libertarian",
         "Gary Johnson",
         "2"
        ],
        [
         "47",
         "Beaverhead",
         "BeaverheadPRECINCT 09",
         null,
         "President",
         "Libertarian",
         "Gary Johnson",
         "19"
        ],
        [
         "48",
         "Beaverhead",
         "BeaverheadPRECINCT 01",
         null,
         "President",
         "Green",
         "Jill Stein",
         "15"
        ],
        [
         "49",
         "Beaverhead",
         "BeaverheadPRECINCT 12",
         null,
         "President",
         "Green",
         "Jill Stein",
         "2"
        ]
       ],
       "shape": {
        "columns": 7,
        "rows": 3430
       }
      },
      "text/html": [
       "<div>\n",
       "<style scoped>\n",
       "    .dataframe tbody tr th:only-of-type {\n",
       "        vertical-align: middle;\n",
       "    }\n",
       "\n",
       "    .dataframe tbody tr th {\n",
       "        vertical-align: top;\n",
       "    }\n",
       "\n",
       "    .dataframe thead th {\n",
       "        text-align: right;\n",
       "    }\n",
       "</style>\n",
       "<table border=\"1\" class=\"dataframe\">\n",
       "  <thead>\n",
       "    <tr style=\"text-align: right;\">\n",
       "      <th></th>\n",
       "      <th>county</th>\n",
       "      <th>precinct</th>\n",
       "      <th>district</th>\n",
       "      <th>office</th>\n",
       "      <th>party</th>\n",
       "      <th>candidate</th>\n",
       "      <th>votes</th>\n",
       "    </tr>\n",
       "  </thead>\n",
       "  <tbody>\n",
       "    <tr>\n",
       "      <th>0</th>\n",
       "      <td>Beaverhead</td>\n",
       "      <td>BeaverheadPRECINCT 01</td>\n",
       "      <td>NaN</td>\n",
       "      <td>President</td>\n",
       "      <td>Democrat</td>\n",
       "      <td>Hillary Clinton</td>\n",
       "      <td>175</td>\n",
       "    </tr>\n",
       "    <tr>\n",
       "      <th>1</th>\n",
       "      <td>Beaverhead</td>\n",
       "      <td>BeaverheadPRECINCT 12</td>\n",
       "      <td>NaN</td>\n",
       "      <td>President</td>\n",
       "      <td>Democrat</td>\n",
       "      <td>Hillary Clinton</td>\n",
       "      <td>157</td>\n",
       "    </tr>\n",
       "    <tr>\n",
       "      <th>2</th>\n",
       "      <td>Beaverhead</td>\n",
       "      <td>BeaverheadPRECINCT 14</td>\n",
       "      <td>NaN</td>\n",
       "      <td>President</td>\n",
       "      <td>Democrat</td>\n",
       "      <td>Hillary Clinton</td>\n",
       "      <td>125</td>\n",
       "    </tr>\n",
       "    <tr>\n",
       "      <th>3</th>\n",
       "      <td>Beaverhead</td>\n",
       "      <td>BeaverheadPRECINCT 17</td>\n",
       "      <td>NaN</td>\n",
       "      <td>President</td>\n",
       "      <td>Democrat</td>\n",
       "      <td>Hillary Clinton</td>\n",
       "      <td>18</td>\n",
       "    </tr>\n",
       "    <tr>\n",
       "      <th>4</th>\n",
       "      <td>Beaverhead</td>\n",
       "      <td>BeaverheadPRECINCT 19</td>\n",
       "      <td>NaN</td>\n",
       "      <td>President</td>\n",
       "      <td>Democrat</td>\n",
       "      <td>Hillary Clinton</td>\n",
       "      <td>14</td>\n",
       "    </tr>\n",
       "    <tr>\n",
       "      <th>...</th>\n",
       "      <td>...</td>\n",
       "      <td>...</td>\n",
       "      <td>...</td>\n",
       "      <td>...</td>\n",
       "      <td>...</td>\n",
       "      <td>...</td>\n",
       "      <td>...</td>\n",
       "    </tr>\n",
       "    <tr>\n",
       "      <th>3425</th>\n",
       "      <td>Yellowstone</td>\n",
       "      <td>Yellowstone55.1</td>\n",
       "      <td>NaN</td>\n",
       "      <td>President</td>\n",
       "      <td>Republican</td>\n",
       "      <td>Donald Trump</td>\n",
       "      <td>385</td>\n",
       "    </tr>\n",
       "    <tr>\n",
       "      <th>3426</th>\n",
       "      <td>Yellowstone</td>\n",
       "      <td>Yellowstone40-45</td>\n",
       "      <td>NaN</td>\n",
       "      <td>President</td>\n",
       "      <td>Republican</td>\n",
       "      <td>Donald Trump</td>\n",
       "      <td>626</td>\n",
       "    </tr>\n",
       "    <tr>\n",
       "      <th>3427</th>\n",
       "      <td>Yellowstone</td>\n",
       "      <td>Yellowstone56.2</td>\n",
       "      <td>NaN</td>\n",
       "      <td>President</td>\n",
       "      <td>Republican</td>\n",
       "      <td>Donald Trump</td>\n",
       "      <td>2144</td>\n",
       "    </tr>\n",
       "    <tr>\n",
       "      <th>3428</th>\n",
       "      <td>Yellowstone</td>\n",
       "      <td>Yellowstone56.1</td>\n",
       "      <td>NaN</td>\n",
       "      <td>President</td>\n",
       "      <td>Republican</td>\n",
       "      <td>Donald Trump</td>\n",
       "      <td>235</td>\n",
       "    </tr>\n",
       "    <tr>\n",
       "      <th>3429</th>\n",
       "      <td>Yellowstone</td>\n",
       "      <td>Yellowstone54.2</td>\n",
       "      <td>NaN</td>\n",
       "      <td>President</td>\n",
       "      <td>Republican</td>\n",
       "      <td>Donald Trump</td>\n",
       "      <td>616</td>\n",
       "    </tr>\n",
       "  </tbody>\n",
       "</table>\n",
       "<p>3430 rows × 7 columns</p>\n",
       "</div>"
      ],
      "text/plain": [
       "           county               precinct  district     office       party  \\\n",
       "0      Beaverhead  BeaverheadPRECINCT 01       NaN  President    Democrat   \n",
       "1      Beaverhead  BeaverheadPRECINCT 12       NaN  President    Democrat   \n",
       "2      Beaverhead  BeaverheadPRECINCT 14       NaN  President    Democrat   \n",
       "3      Beaverhead  BeaverheadPRECINCT 17       NaN  President    Democrat   \n",
       "4      Beaverhead  BeaverheadPRECINCT 19       NaN  President    Democrat   \n",
       "...           ...                    ...       ...        ...         ...   \n",
       "3425  Yellowstone        Yellowstone55.1       NaN  President  Republican   \n",
       "3426  Yellowstone       Yellowstone40-45       NaN  President  Republican   \n",
       "3427  Yellowstone        Yellowstone56.2       NaN  President  Republican   \n",
       "3428  Yellowstone        Yellowstone56.1       NaN  President  Republican   \n",
       "3429  Yellowstone        Yellowstone54.2       NaN  President  Republican   \n",
       "\n",
       "            candidate  votes  \n",
       "0     Hillary Clinton    175  \n",
       "1     Hillary Clinton    157  \n",
       "2     Hillary Clinton    125  \n",
       "3     Hillary Clinton     18  \n",
       "4     Hillary Clinton     14  \n",
       "...               ...    ...  \n",
       "3425     Donald Trump    385  \n",
       "3426     Donald Trump    626  \n",
       "3427     Donald Trump   2144  \n",
       "3428     Donald Trump    235  \n",
       "3429     Donald Trump    616  \n",
       "\n",
       "[3430 rows x 7 columns]"
      ]
     },
     "execution_count": 41,
     "metadata": {},
     "output_type": "execute_result"
    }
   ],
   "source": [
    "# Process general files\n",
    "gen_df_list = []\n",
    "\n",
    "for file in general_files:\n",
    "    try:\n",
    "        df = pd.read_csv(file)\n",
    "\n",
    "        # Select only president\n",
    "        if 'office' in df.columns:\n",
    "            df = df[df[\"office\"] == \"President\" ]\n",
    "\n",
    "        gen_df_list.append(df)\n",
    "\n",
    "    except Exception as e:\n",
    "        print(f\"Error in {file}: {e}\")\n",
    "\n",
    "# Combine all cleaned files\n",
    "gen_combined_df = pd.concat(gen_df_list, ignore_index=True)\n",
    "# Create a new column \"precinct\" by combining county and precinct\n",
    "gen_combined_df[\"precinct\"] = gen_combined_df[\"county\"].astype(str) + gen_combined_df[\"precinct\"].astype(str)\n",
    "gen_combined_df\n"
   ]
  },
  {
   "cell_type": "code",
   "execution_count": 42,
   "id": "1bbbd54d",
   "metadata": {},
   "outputs": [
    {
     "data": {
      "application/vnd.microsoft.datawrangler.viewer.v0+json": {
       "columns": [
        {
         "name": "party",
         "rawType": "object",
         "type": "string"
        },
        {
         "name": "count",
         "rawType": "int64",
         "type": "integer"
        }
       ],
       "ref": "ce580998-c60e-4fef-bb34-91b51c6d8e21",
       "rows": [
        [
         "Democrat",
         "686"
        ],
        [
         "American Delta",
         "686"
        ],
        [
         "Libertarian",
         "686"
        ],
        [
         "Green",
         "686"
        ],
        [
         "Republican",
         "686"
        ]
       ],
       "shape": {
        "columns": 1,
        "rows": 5
       }
      },
      "text/plain": [
       "party\n",
       "Democrat          686\n",
       "American Delta    686\n",
       "Libertarian       686\n",
       "Green             686\n",
       "Republican        686\n",
       "Name: count, dtype: int64"
      ]
     },
     "execution_count": 42,
     "metadata": {},
     "output_type": "execute_result"
    }
   ],
   "source": [
    "general_data = gen_combined_df[[\"precinct\", \"party\", \"candidate\", \"votes\"]]\n",
    "general_data[\"party\"].value_counts(dropna=False)\n"
   ]
  },
  {
   "cell_type": "code",
   "execution_count": 43,
   "id": "a22405a6",
   "metadata": {},
   "outputs": [
    {
     "data": {
      "application/vnd.microsoft.datawrangler.viewer.v0+json": {
       "columns": [
        {
         "name": "candidate",
         "rawType": "object",
         "type": "string"
        },
        {
         "name": "count",
         "rawType": "int64",
         "type": "integer"
        }
       ],
       "ref": "543f28f1-fa4f-43d2-a49f-77ed349aaab6",
       "rows": [
        [
         "Hillary Clinton",
         "686"
        ],
        [
         "Rocky Roque de la Fuenta",
         "686"
        ],
        [
         "Gary Johnson",
         "686"
        ],
        [
         "Jill Stein",
         "686"
        ],
        [
         "Donald Trump",
         "686"
        ]
       ],
       "shape": {
        "columns": 1,
        "rows": 5
       }
      },
      "text/plain": [
       "candidate\n",
       "Hillary Clinton             686\n",
       "Rocky Roque de la Fuenta    686\n",
       "Gary Johnson                686\n",
       "Jill Stein                  686\n",
       "Donald Trump                686\n",
       "Name: count, dtype: int64"
      ]
     },
     "execution_count": 43,
     "metadata": {},
     "output_type": "execute_result"
    }
   ],
   "source": [
    "general_data[\"candidate\"].value_counts(dropna=False)"
   ]
  },
  {
   "cell_type": "code",
   "execution_count": 44,
   "id": "8bb5d275",
   "metadata": {},
   "outputs": [
    {
     "data": {
      "application/vnd.microsoft.datawrangler.viewer.v0+json": {
       "columns": [
        {
         "name": "candidate",
         "rawType": "object",
         "type": "string"
        },
        {
         "name": "count",
         "rawType": "int64",
         "type": "integer"
        }
       ],
       "ref": "5a66fcdb-caec-4624-adcb-8585b259194a",
       "rows": [
        [
         "Hillary Clinton",
         "686"
        ],
        [
         "Rocky Roque de la Fuenta",
         "686"
        ],
        [
         "Gary Johnson",
         "686"
        ],
        [
         "Jill Stein",
         "686"
        ],
        [
         "Donald Trump",
         "686"
        ]
       ],
       "shape": {
        "columns": 1,
        "rows": 5
       }
      },
      "text/plain": [
       "candidate\n",
       "Hillary Clinton             686\n",
       "Rocky Roque de la Fuenta    686\n",
       "Gary Johnson                686\n",
       "Jill Stein                  686\n",
       "Donald Trump                686\n",
       "Name: count, dtype: int64"
      ]
     },
     "execution_count": 44,
     "metadata": {},
     "output_type": "execute_result"
    }
   ],
   "source": [
    "# general_data[\"candidate\"] = general_data[\"candidate\"].str.extract(r\"^([^/&]+)\").iloc[:, 0].str.strip()\n",
    "# general_data = general_data[~general_data[\"candidate\"].isin([\"Registered Voters\", \"Write-In\"])] \n",
    "general_data[\"candidate\"].value_counts(dropna=False)"
   ]
  },
  {
   "cell_type": "code",
   "execution_count": 45,
   "id": "42495558",
   "metadata": {},
   "outputs": [
    {
     "data": {
      "application/vnd.microsoft.datawrangler.viewer.v0+json": {
       "columns": [
        {
         "name": "index",
         "rawType": "int64",
         "type": "integer"
        },
        {
         "name": "precinct",
         "rawType": "object",
         "type": "string"
        },
        {
         "name": "party",
         "rawType": "object",
         "type": "string"
        },
        {
         "name": "candidate",
         "rawType": "object",
         "type": "string"
        },
        {
         "name": "votes",
         "rawType": "int64",
         "type": "integer"
        }
       ],
       "ref": "01801ec0-6ac9-4385-bd77-a49357f47588",
       "rows": [
        [
         "0",
         "BeaverheadPRECINCT 01",
         "DEM",
         "Hillary Clinton",
         "175"
        ],
        [
         "1",
         "BeaverheadPRECINCT 12",
         "DEM",
         "Hillary Clinton",
         "157"
        ],
        [
         "2",
         "BeaverheadPRECINCT 14",
         "DEM",
         "Hillary Clinton",
         "125"
        ],
        [
         "3",
         "BeaverheadPRECINCT 17",
         "DEM",
         "Hillary Clinton",
         "18"
        ],
        [
         "4",
         "BeaverheadPRECINCT 19",
         "DEM",
         "Hillary Clinton",
         "14"
        ],
        [
         "5",
         "BeaverheadPRECINCT 02",
         "DEM",
         "Hillary Clinton",
         "127"
        ],
        [
         "6",
         "BeaverheadPRECINCT 20",
         "DEM",
         "Hillary Clinton",
         "2"
        ],
        [
         "7",
         "BeaverheadPRECINCT 21",
         "DEM",
         "Hillary Clinton",
         "25"
        ],
        [
         "8",
         "BeaverheadPRECINCT 23",
         "DEM",
         "Hillary Clinton",
         "29"
        ],
        [
         "9",
         "BeaverheadPRECINCT 03",
         "DEM",
         "Hillary Clinton",
         "158"
        ],
        [
         "10",
         "BeaverheadPRECINCT 04",
         "DEM",
         "Hillary Clinton",
         "34"
        ],
        [
         "11",
         "BeaverheadPRECINCT 05",
         "DEM",
         "Hillary Clinton",
         "9"
        ],
        [
         "12",
         "BeaverheadPRECINCT 06",
         "DEM",
         "Hillary Clinton",
         "129"
        ],
        [
         "13",
         "BeaverheadPRECINCT 07",
         "DEM",
         "Hillary Clinton",
         "40"
        ],
        [
         "14",
         "BeaverheadPRECINCT 08",
         "DEM",
         "Hillary Clinton",
         "14"
        ],
        [
         "15",
         "BeaverheadPRECINCT 09",
         "DEM",
         "Hillary Clinton",
         "87"
        ],
        [
         "64",
         "BeaverheadPRECINCT 01",
         "REP",
         "Donald Trump",
         "203"
        ],
        [
         "65",
         "BeaverheadPRECINCT 12",
         "REP",
         "Donald Trump",
         "270"
        ],
        [
         "66",
         "BeaverheadPRECINCT 14",
         "REP",
         "Donald Trump",
         "225"
        ],
        [
         "67",
         "BeaverheadPRECINCT 17",
         "REP",
         "Donald Trump",
         "82"
        ],
        [
         "68",
         "BeaverheadPRECINCT 19",
         "REP",
         "Donald Trump",
         "92"
        ],
        [
         "69",
         "BeaverheadPRECINCT 02",
         "REP",
         "Donald Trump",
         "551"
        ],
        [
         "70",
         "BeaverheadPRECINCT 20",
         "REP",
         "Donald Trump",
         "74"
        ],
        [
         "71",
         "BeaverheadPRECINCT 21",
         "REP",
         "Donald Trump",
         "117"
        ],
        [
         "72",
         "BeaverheadPRECINCT 23",
         "REP",
         "Donald Trump",
         "91"
        ],
        [
         "73",
         "BeaverheadPRECINCT 03",
         "REP",
         "Donald Trump",
         "507"
        ],
        [
         "74",
         "BeaverheadPRECINCT 04",
         "REP",
         "Donald Trump",
         "131"
        ],
        [
         "75",
         "BeaverheadPRECINCT 05",
         "REP",
         "Donald Trump",
         "99"
        ],
        [
         "76",
         "BeaverheadPRECINCT 06",
         "REP",
         "Donald Trump",
         "324"
        ],
        [
         "77",
         "BeaverheadPRECINCT 07",
         "REP",
         "Donald Trump",
         "231"
        ],
        [
         "78",
         "BeaverheadPRECINCT 08",
         "REP",
         "Donald Trump",
         "56"
        ],
        [
         "79",
         "BeaverheadPRECINCT 09",
         "REP",
         "Donald Trump",
         "300"
        ],
        [
         "80",
         "Big HornPRECINCT #9",
         "DEM",
         "Hillary Clinton",
         "97"
        ],
        [
         "81",
         "Big HornPRECINCT #4N",
         "DEM",
         "Hillary Clinton",
         "16"
        ],
        [
         "82",
         "Big HornPRECINCT #2",
         "DEM",
         "Hillary Clinton",
         "46"
        ],
        [
         "83",
         "Big HornPRECINCT #3",
         "DEM",
         "Hillary Clinton",
         "20"
        ],
        [
         "84",
         "Big HornPRECINCT #4",
         "DEM",
         "Hillary Clinton",
         "13"
        ],
        [
         "85",
         "Big HornPRECINCT #5",
         "DEM",
         "Hillary Clinton",
         "136"
        ],
        [
         "86",
         "Big HornPRECINCT #6",
         "DEM",
         "Hillary Clinton",
         "14"
        ],
        [
         "87",
         "Big HornPRECINCT #7",
         "DEM",
         "Hillary Clinton",
         "554"
        ],
        [
         "88",
         "Big HornPRECINCT #8",
         "DEM",
         "Hillary Clinton",
         "46"
        ],
        [
         "89",
         "Big HornPRECINCT #1",
         "DEM",
         "Hillary Clinton",
         "56"
        ],
        [
         "90",
         "Big HornPRECINCT #10",
         "DEM",
         "Hillary Clinton",
         "12"
        ],
        [
         "91",
         "Big HornPRECINCT #17",
         "DEM",
         "Hillary Clinton",
         "116"
        ],
        [
         "92",
         "Big HornPRECINCT #18",
         "DEM",
         "Hillary Clinton",
         "81"
        ],
        [
         "93",
         "Big HornPRECINCT #19",
         "DEM",
         "Hillary Clinton",
         "172"
        ],
        [
         "94",
         "Big HornPRECINCT #26",
         "DEM",
         "Hillary Clinton",
         "224"
        ],
        [
         "95",
         "Big HornPRECINCT #21",
         "DEM",
         "Hillary Clinton",
         "228"
        ],
        [
         "96",
         "Big HornPRECINCT #25",
         "DEM",
         "Hillary Clinton",
         "64"
        ],
        [
         "97",
         "Big HornPRECINCT #15",
         "DEM",
         "Hillary Clinton",
         "129"
        ]
       ],
       "shape": {
        "columns": 4,
        "rows": 1372
       }
      },
      "text/html": [
       "<div>\n",
       "<style scoped>\n",
       "    .dataframe tbody tr th:only-of-type {\n",
       "        vertical-align: middle;\n",
       "    }\n",
       "\n",
       "    .dataframe tbody tr th {\n",
       "        vertical-align: top;\n",
       "    }\n",
       "\n",
       "    .dataframe thead th {\n",
       "        text-align: right;\n",
       "    }\n",
       "</style>\n",
       "<table border=\"1\" class=\"dataframe\">\n",
       "  <thead>\n",
       "    <tr style=\"text-align: right;\">\n",
       "      <th></th>\n",
       "      <th>precinct</th>\n",
       "      <th>party</th>\n",
       "      <th>candidate</th>\n",
       "      <th>votes</th>\n",
       "    </tr>\n",
       "  </thead>\n",
       "  <tbody>\n",
       "    <tr>\n",
       "      <th>0</th>\n",
       "      <td>BeaverheadPRECINCT 01</td>\n",
       "      <td>DEM</td>\n",
       "      <td>Hillary Clinton</td>\n",
       "      <td>175</td>\n",
       "    </tr>\n",
       "    <tr>\n",
       "      <th>1</th>\n",
       "      <td>BeaverheadPRECINCT 12</td>\n",
       "      <td>DEM</td>\n",
       "      <td>Hillary Clinton</td>\n",
       "      <td>157</td>\n",
       "    </tr>\n",
       "    <tr>\n",
       "      <th>2</th>\n",
       "      <td>BeaverheadPRECINCT 14</td>\n",
       "      <td>DEM</td>\n",
       "      <td>Hillary Clinton</td>\n",
       "      <td>125</td>\n",
       "    </tr>\n",
       "    <tr>\n",
       "      <th>3</th>\n",
       "      <td>BeaverheadPRECINCT 17</td>\n",
       "      <td>DEM</td>\n",
       "      <td>Hillary Clinton</td>\n",
       "      <td>18</td>\n",
       "    </tr>\n",
       "    <tr>\n",
       "      <th>4</th>\n",
       "      <td>BeaverheadPRECINCT 19</td>\n",
       "      <td>DEM</td>\n",
       "      <td>Hillary Clinton</td>\n",
       "      <td>14</td>\n",
       "    </tr>\n",
       "    <tr>\n",
       "      <th>...</th>\n",
       "      <td>...</td>\n",
       "      <td>...</td>\n",
       "      <td>...</td>\n",
       "      <td>...</td>\n",
       "    </tr>\n",
       "    <tr>\n",
       "      <th>3425</th>\n",
       "      <td>Yellowstone55.1</td>\n",
       "      <td>REP</td>\n",
       "      <td>Donald Trump</td>\n",
       "      <td>385</td>\n",
       "    </tr>\n",
       "    <tr>\n",
       "      <th>3426</th>\n",
       "      <td>Yellowstone40-45</td>\n",
       "      <td>REP</td>\n",
       "      <td>Donald Trump</td>\n",
       "      <td>626</td>\n",
       "    </tr>\n",
       "    <tr>\n",
       "      <th>3427</th>\n",
       "      <td>Yellowstone56.2</td>\n",
       "      <td>REP</td>\n",
       "      <td>Donald Trump</td>\n",
       "      <td>2144</td>\n",
       "    </tr>\n",
       "    <tr>\n",
       "      <th>3428</th>\n",
       "      <td>Yellowstone56.1</td>\n",
       "      <td>REP</td>\n",
       "      <td>Donald Trump</td>\n",
       "      <td>235</td>\n",
       "    </tr>\n",
       "    <tr>\n",
       "      <th>3429</th>\n",
       "      <td>Yellowstone54.2</td>\n",
       "      <td>REP</td>\n",
       "      <td>Donald Trump</td>\n",
       "      <td>616</td>\n",
       "    </tr>\n",
       "  </tbody>\n",
       "</table>\n",
       "<p>1372 rows × 4 columns</p>\n",
       "</div>"
      ],
      "text/plain": [
       "                   precinct party        candidate  votes\n",
       "0     BeaverheadPRECINCT 01   DEM  Hillary Clinton    175\n",
       "1     BeaverheadPRECINCT 12   DEM  Hillary Clinton    157\n",
       "2     BeaverheadPRECINCT 14   DEM  Hillary Clinton    125\n",
       "3     BeaverheadPRECINCT 17   DEM  Hillary Clinton     18\n",
       "4     BeaverheadPRECINCT 19   DEM  Hillary Clinton     14\n",
       "...                     ...   ...              ...    ...\n",
       "3425        Yellowstone55.1   REP     Donald Trump    385\n",
       "3426       Yellowstone40-45   REP     Donald Trump    626\n",
       "3427        Yellowstone56.2   REP     Donald Trump   2144\n",
       "3428        Yellowstone56.1   REP     Donald Trump    235\n",
       "3429        Yellowstone54.2   REP     Donald Trump    616\n",
       "\n",
       "[1372 rows x 4 columns]"
      ]
     },
     "execution_count": 45,
     "metadata": {},
     "output_type": "execute_result"
    }
   ],
   "source": [
    "# general_data = general_data[~general_data[\"candidate\"].isin([\"YES\", \"NO\"])]\n",
    "# general_data[\"party\"] = general_data.apply(\n",
    "#     lambda row: candidate_party_map.get(row[\"candidate\"], row[\"party\"]) if pd.isna(row[\"party\"]) else row[\"party\"],\n",
    "#     axis=1\n",
    "# )\n",
    "general_data.loc[:, \"party\"] = general_data[\"party\"].replace({\n",
    "    \"Democrat\": \"DEM\",\n",
    "    \"Republican\": \"REP\"\n",
    "})\n",
    "general_data = general_data[general_data[\"party\"].isin([\"DEM\", \"REP\"])] # Analyzing only republican and democratic\n",
    "general_data"
   ]
  },
  {
   "cell_type": "code",
   "execution_count": 49,
   "id": "daaed088",
   "metadata": {},
   "outputs": [
    {
     "data": {
      "application/vnd.microsoft.datawrangler.viewer.v0+json": {
       "columns": [
        {
         "name": "index",
         "rawType": "int64",
         "type": "integer"
        },
        {
         "name": "precinct",
         "rawType": "object",
         "type": "string"
        },
        {
         "name": "gen_dem_CLINTON",
         "rawType": "int64",
         "type": "integer"
        },
        {
         "name": "gen_rep_TRUMP",
         "rawType": "int64",
         "type": "integer"
        }
       ],
       "ref": "2d2c6682-187d-4950-aae6-2737d0995a23",
       "rows": [
        [
         "0",
         "BeaverheadPRECINCT 01",
         "175",
         "203"
        ],
        [
         "1",
         "BeaverheadPRECINCT 02",
         "127",
         "551"
        ],
        [
         "2",
         "BeaverheadPRECINCT 03",
         "158",
         "507"
        ],
        [
         "3",
         "BeaverheadPRECINCT 04",
         "34",
         "131"
        ],
        [
         "4",
         "BeaverheadPRECINCT 05",
         "9",
         "99"
        ],
        [
         "5",
         "BeaverheadPRECINCT 06",
         "129",
         "324"
        ],
        [
         "6",
         "BeaverheadPRECINCT 07",
         "40",
         "231"
        ],
        [
         "7",
         "BeaverheadPRECINCT 08",
         "14",
         "56"
        ],
        [
         "8",
         "BeaverheadPRECINCT 09",
         "87",
         "300"
        ],
        [
         "9",
         "BeaverheadPRECINCT 12",
         "157",
         "270"
        ],
        [
         "10",
         "BeaverheadPRECINCT 14",
         "125",
         "225"
        ],
        [
         "11",
         "BeaverheadPRECINCT 17",
         "18",
         "82"
        ],
        [
         "12",
         "BeaverheadPRECINCT 19",
         "14",
         "92"
        ],
        [
         "13",
         "BeaverheadPRECINCT 20",
         "2",
         "74"
        ],
        [
         "14",
         "BeaverheadPRECINCT 21",
         "25",
         "117"
        ],
        [
         "15",
         "BeaverheadPRECINCT 23",
         "29",
         "91"
        ],
        [
         "16",
         "Big HornPRECINCT #1",
         "56",
         "93"
        ],
        [
         "17",
         "Big HornPRECINCT #10",
         "12",
         "49"
        ],
        [
         "18",
         "Big HornPRECINCT #14",
         "70",
         "51"
        ],
        [
         "19",
         "Big HornPRECINCT #15",
         "129",
         "107"
        ],
        [
         "20",
         "Big HornPRECINCT #17",
         "116",
         "200"
        ],
        [
         "21",
         "Big HornPRECINCT #18",
         "81",
         "194"
        ],
        [
         "22",
         "Big HornPRECINCT #19",
         "172",
         "269"
        ],
        [
         "23",
         "Big HornPRECINCT #2",
         "46",
         "56"
        ],
        [
         "24",
         "Big HornPRECINCT #21",
         "228",
         "93"
        ],
        [
         "25",
         "Big HornPRECINCT #25",
         "64",
         "57"
        ],
        [
         "26",
         "Big HornPRECINCT #26",
         "224",
         "73"
        ],
        [
         "27",
         "Big HornPRECINCT #3",
         "20",
         "114"
        ],
        [
         "28",
         "Big HornPRECINCT #4",
         "13",
         "60"
        ],
        [
         "29",
         "Big HornPRECINCT #4N",
         "16",
         "124"
        ],
        [
         "30",
         "Big HornPRECINCT #5",
         "136",
         "48"
        ],
        [
         "31",
         "Big HornPRECINCT #6",
         "14",
         "50"
        ],
        [
         "32",
         "Big HornPRECINCT #7",
         "554",
         "89"
        ],
        [
         "33",
         "Big HornPRECINCT #8",
         "46",
         "98"
        ],
        [
         "34",
         "Big HornPRECINCT #9",
         "97",
         "28"
        ],
        [
         "35",
         "BlaineBELKNAP 3-32",
         "300",
         "35"
        ],
        [
         "36",
         "BlaineCHINOOK 11-33",
         "172",
         "381"
        ],
        [
         "37",
         "BlaineHARLEM 8-32",
         "152",
         "113"
        ],
        [
         "38",
         "BlaineHARLEM 9-32",
         "126",
         "12"
        ],
        [
         "39",
         "BlaineHAYS 15-32",
         "350",
         "43"
        ],
        [
         "40",
         "BlaineNO CHINOOK 13-33",
         "16",
         "97"
        ],
        [
         "41",
         "BlaineSO CHINOOK 10-32",
         "54",
         "370"
        ],
        [
         "42",
         "BlaineTURNER 1-33",
         "32",
         "217"
        ],
        [
         "43",
         "BroadwaterPRECINCT 1",
         "150",
         "484"
        ],
        [
         "44",
         "BroadwaterPRECINCT 11",
         "100",
         "513"
        ],
        [
         "45",
         "BroadwaterPRECINCT 12",
         "132",
         "485"
        ],
        [
         "46",
         "BroadwaterPRECINCT 13",
         "86",
         "532"
        ],
        [
         "47",
         "BroadwaterPRECINCT 7",
         "105",
         "334"
        ],
        [
         "48",
         "CarbonP 1",
         "100",
         "402"
        ],
        [
         "49",
         "CarbonP 10",
         "221",
         "161"
        ]
       ],
       "shape": {
        "columns": 3,
        "rows": 686
       }
      },
      "text/html": [
       "<div>\n",
       "<style scoped>\n",
       "    .dataframe tbody tr th:only-of-type {\n",
       "        vertical-align: middle;\n",
       "    }\n",
       "\n",
       "    .dataframe tbody tr th {\n",
       "        vertical-align: top;\n",
       "    }\n",
       "\n",
       "    .dataframe thead th {\n",
       "        text-align: right;\n",
       "    }\n",
       "</style>\n",
       "<table border=\"1\" class=\"dataframe\">\n",
       "  <thead>\n",
       "    <tr style=\"text-align: right;\">\n",
       "      <th>candidate_column</th>\n",
       "      <th>precinct</th>\n",
       "      <th>gen_dem_CLINTON</th>\n",
       "      <th>gen_rep_TRUMP</th>\n",
       "    </tr>\n",
       "  </thead>\n",
       "  <tbody>\n",
       "    <tr>\n",
       "      <th>0</th>\n",
       "      <td>BeaverheadPRECINCT 01</td>\n",
       "      <td>175</td>\n",
       "      <td>203</td>\n",
       "    </tr>\n",
       "    <tr>\n",
       "      <th>1</th>\n",
       "      <td>BeaverheadPRECINCT 02</td>\n",
       "      <td>127</td>\n",
       "      <td>551</td>\n",
       "    </tr>\n",
       "    <tr>\n",
       "      <th>2</th>\n",
       "      <td>BeaverheadPRECINCT 03</td>\n",
       "      <td>158</td>\n",
       "      <td>507</td>\n",
       "    </tr>\n",
       "    <tr>\n",
       "      <th>3</th>\n",
       "      <td>BeaverheadPRECINCT 04</td>\n",
       "      <td>34</td>\n",
       "      <td>131</td>\n",
       "    </tr>\n",
       "    <tr>\n",
       "      <th>4</th>\n",
       "      <td>BeaverheadPRECINCT 05</td>\n",
       "      <td>9</td>\n",
       "      <td>99</td>\n",
       "    </tr>\n",
       "    <tr>\n",
       "      <th>...</th>\n",
       "      <td>...</td>\n",
       "      <td>...</td>\n",
       "      <td>...</td>\n",
       "    </tr>\n",
       "    <tr>\n",
       "      <th>681</th>\n",
       "      <td>Yellowstone55.4</td>\n",
       "      <td>344</td>\n",
       "      <td>731</td>\n",
       "    </tr>\n",
       "    <tr>\n",
       "      <th>682</th>\n",
       "      <td>Yellowstone55.5</td>\n",
       "      <td>501</td>\n",
       "      <td>1027</td>\n",
       "    </tr>\n",
       "    <tr>\n",
       "      <th>683</th>\n",
       "      <td>Yellowstone56.1</td>\n",
       "      <td>64</td>\n",
       "      <td>235</td>\n",
       "    </tr>\n",
       "    <tr>\n",
       "      <th>684</th>\n",
       "      <td>Yellowstone56.2</td>\n",
       "      <td>849</td>\n",
       "      <td>2144</td>\n",
       "    </tr>\n",
       "    <tr>\n",
       "      <th>685</th>\n",
       "      <td>Yellowstone56.3</td>\n",
       "      <td>215</td>\n",
       "      <td>523</td>\n",
       "    </tr>\n",
       "  </tbody>\n",
       "</table>\n",
       "<p>686 rows × 3 columns</p>\n",
       "</div>"
      ],
      "text/plain": [
       "candidate_column               precinct  gen_dem_CLINTON  gen_rep_TRUMP\n",
       "0                 BeaverheadPRECINCT 01              175            203\n",
       "1                 BeaverheadPRECINCT 02              127            551\n",
       "2                 BeaverheadPRECINCT 03              158            507\n",
       "3                 BeaverheadPRECINCT 04               34            131\n",
       "4                 BeaverheadPRECINCT 05                9             99\n",
       "..                                  ...              ...            ...\n",
       "681                     Yellowstone55.4              344            731\n",
       "682                     Yellowstone55.5              501           1027\n",
       "683                     Yellowstone56.1               64            235\n",
       "684                     Yellowstone56.2              849           2144\n",
       "685                     Yellowstone56.3              215            523\n",
       "\n",
       "[686 rows x 3 columns]"
      ]
     },
     "execution_count": 49,
     "metadata": {},
     "output_type": "execute_result"
    }
   ],
   "source": [
    "general_data[\"candidate_column\"] = (\n",
    "    \"gen_\" +\n",
    "    general_data[\"party\"].str.lower() + \"_\" +\n",
    "    general_data[\"candidate\"].str.split().str[-1].str.upper()\n",
    ")\n",
    "\n",
    "# pivot the table\n",
    "general_result = general_data.pivot_table(\n",
    "    index=\"precinct\",\n",
    "    columns=\"candidate_column\",\n",
    "    values=\"votes\",\n",
    "    aggfunc=\"sum\",  \n",
    "    fill_value=0\n",
    ").reset_index()\n",
    "\n",
    "general_result"
   ]
  },
  {
   "cell_type": "code",
   "execution_count": 47,
   "id": "6686d34b",
   "metadata": {},
   "outputs": [
    {
     "data": {
      "application/vnd.microsoft.datawrangler.viewer.v0+json": {
       "columns": [
        {
         "name": "index",
         "rawType": "int64",
         "type": "integer"
        },
        {
         "name": "precinct",
         "rawType": "object",
         "type": "string"
        },
        {
         "name": "pri_dem_CLINTON",
         "rawType": "int64",
         "type": "integer"
        },
        {
         "name": "pri_dem_SANDERS",
         "rawType": "int64",
         "type": "integer"
        },
        {
         "name": "pri_rep_BUSH",
         "rawType": "int64",
         "type": "integer"
        },
        {
         "name": "pri_rep_CRUZ",
         "rawType": "int64",
         "type": "integer"
        },
        {
         "name": "pri_rep_KASICH",
         "rawType": "int64",
         "type": "integer"
        },
        {
         "name": "pri_rep_RUBIO",
         "rawType": "int64",
         "type": "integer"
        },
        {
         "name": "pri_rep_TRUMP",
         "rawType": "int64",
         "type": "integer"
        },
        {
         "name": "gen_dem_CLINTON",
         "rawType": "int64",
         "type": "integer"
        },
        {
         "name": "gen_rep_TRUMP",
         "rawType": "int64",
         "type": "integer"
        },
        {
         "name": "rep_primary_total",
         "rawType": "int64",
         "type": "integer"
        },
        {
         "name": "dem_primary_total",
         "rawType": "int64",
         "type": "integer"
        },
        {
         "name": "general_total",
         "rawType": "int64",
         "type": "integer"
        }
       ],
       "ref": "e9162a0b-928e-4325-9869-6fad66f73e4b",
       "rows": [
        [
         "0",
         "BeaverheadPRECINCT 01",
         "27",
         "44",
         "10",
         "18",
         "30",
         "8",
         "78",
         "175",
         "203",
         "144",
         "71",
         "378"
        ],
        [
         "1",
         "BeaverheadPRECINCT 02",
         "22",
         "50",
         "9",
         "38",
         "23",
         "13",
         "252",
         "127",
         "551",
         "335",
         "72",
         "678"
        ],
        [
         "2",
         "BeaverheadPRECINCT 03",
         "36",
         "33",
         "11",
         "35",
         "35",
         "18",
         "269",
         "158",
         "507",
         "368",
         "69",
         "665"
        ],
        [
         "3",
         "BeaverheadPRECINCT 04",
         "10",
         "7",
         "5",
         "13",
         "7",
         "5",
         "76",
         "34",
         "131",
         "106",
         "17",
         "165"
        ],
        [
         "4",
         "BeaverheadPRECINCT 05",
         "1",
         "1",
         "2",
         "7",
         "5",
         "2",
         "56",
         "9",
         "99",
         "72",
         "2",
         "108"
        ],
        [
         "5",
         "BeaverheadPRECINCT 06",
         "27",
         "34",
         "7",
         "17",
         "24",
         "11",
         "157",
         "129",
         "324",
         "216",
         "61",
         "453"
        ],
        [
         "6",
         "BeaverheadPRECINCT 07",
         "11",
         "13",
         "3",
         "16",
         "18",
         "7",
         "120",
         "40",
         "231",
         "164",
         "24",
         "271"
        ],
        [
         "7",
         "BeaverheadPRECINCT 08",
         "2",
         "4",
         "2",
         "3",
         "6",
         "3",
         "37",
         "14",
         "56",
         "51",
         "6",
         "70"
        ],
        [
         "8",
         "BeaverheadPRECINCT 09",
         "15",
         "29",
         "14",
         "12",
         "10",
         "7",
         "143",
         "87",
         "300",
         "186",
         "44",
         "387"
        ],
        [
         "9",
         "BeaverheadPRECINCT 12",
         "38",
         "36",
         "16",
         "11",
         "30",
         "9",
         "148",
         "157",
         "270",
         "214",
         "74",
         "427"
        ],
        [
         "10",
         "BeaverheadPRECINCT 14",
         "27",
         "41",
         "3",
         "12",
         "13",
         "6",
         "94",
         "125",
         "225",
         "128",
         "68",
         "350"
        ],
        [
         "11",
         "BeaverheadPRECINCT 17",
         "8",
         "10",
         "3",
         "2",
         "2",
         "0",
         "44",
         "18",
         "82",
         "51",
         "18",
         "100"
        ],
        [
         "12",
         "BeaverheadPRECINCT 19",
         "2",
         "7",
         "0",
         "4",
         "4",
         "2",
         "67",
         "14",
         "92",
         "77",
         "9",
         "106"
        ],
        [
         "13",
         "BeaverheadPRECINCT 20",
         "1",
         "0",
         "0",
         "3",
         "2",
         "3",
         "51",
         "2",
         "74",
         "59",
         "1",
         "76"
        ],
        [
         "14",
         "BeaverheadPRECINCT 21",
         "11",
         "6",
         "4",
         "7",
         "3",
         "3",
         "55",
         "25",
         "117",
         "72",
         "17",
         "142"
        ],
        [
         "15",
         "BeaverheadPRECINCT 23",
         "6",
         "8",
         "2",
         "5",
         "1",
         "1",
         "52",
         "29",
         "91",
         "61",
         "14",
         "120"
        ],
        [
         "16",
         "Big HornPRECINCT #1",
         "8",
         "11",
         "2",
         "5",
         "1",
         "2",
         "46",
         "56",
         "93",
         "56",
         "19",
         "149"
        ],
        [
         "17",
         "Big HornPRECINCT #10",
         "3",
         "2",
         "0",
         "1",
         "2",
         "3",
         "22",
         "12",
         "49",
         "28",
         "5",
         "61"
        ],
        [
         "18",
         "Big HornPRECINCT #14",
         "18",
         "16",
         "0",
         "0",
         "0",
         "1",
         "12",
         "70",
         "51",
         "13",
         "34",
         "121"
        ],
        [
         "19",
         "Big HornPRECINCT #15",
         "30",
         "50",
         "0",
         "4",
         "0",
         "0",
         "24",
         "129",
         "107",
         "28",
         "80",
         "236"
        ],
        [
         "20",
         "Big HornPRECINCT #17",
         "32",
         "34",
         "1",
         "5",
         "3",
         "3",
         "83",
         "116",
         "200",
         "95",
         "66",
         "316"
        ],
        [
         "21",
         "Big HornPRECINCT #18",
         "20",
         "28",
         "0",
         "12",
         "3",
         "2",
         "79",
         "81",
         "194",
         "96",
         "48",
         "275"
        ],
        [
         "22",
         "Big HornPRECINCT #19",
         "34",
         "55",
         "5",
         "16",
         "1",
         "5",
         "122",
         "172",
         "269",
         "149",
         "89",
         "441"
        ],
        [
         "23",
         "Big HornPRECINCT #2",
         "8",
         "10",
         "1",
         "2",
         "1",
         "1",
         "22",
         "46",
         "56",
         "27",
         "18",
         "102"
        ],
        [
         "24",
         "Big HornPRECINCT #21",
         "54",
         "35",
         "1",
         "1",
         "4",
         "0",
         "24",
         "228",
         "93",
         "30",
         "89",
         "321"
        ],
        [
         "25",
         "Big HornPRECINCT #25",
         "9",
         "8",
         "0",
         "1",
         "0",
         "2",
         "17",
         "64",
         "57",
         "20",
         "17",
         "121"
        ],
        [
         "26",
         "Big HornPRECINCT #26",
         "23",
         "37",
         "0",
         "6",
         "1",
         "2",
         "15",
         "224",
         "73",
         "24",
         "60",
         "297"
        ],
        [
         "27",
         "Big HornPRECINCT #3",
         "7",
         "10",
         "0",
         "2",
         "1",
         "0",
         "45",
         "20",
         "114",
         "48",
         "17",
         "134"
        ],
        [
         "28",
         "Big HornPRECINCT #4",
         "5",
         "5",
         "0",
         "5",
         "1",
         "0",
         "30",
         "13",
         "60",
         "36",
         "10",
         "73"
        ],
        [
         "29",
         "Big HornPRECINCT #4N",
         "5",
         "10",
         "2",
         "3",
         "0",
         "1",
         "58",
         "16",
         "124",
         "64",
         "15",
         "140"
        ],
        [
         "30",
         "Big HornPRECINCT #5",
         "26",
         "21",
         "1",
         "8",
         "1",
         "2",
         "14",
         "136",
         "48",
         "26",
         "47",
         "184"
        ],
        [
         "31",
         "Big HornPRECINCT #6",
         "4",
         "6",
         "0",
         "1",
         "0",
         "0",
         "22",
         "14",
         "50",
         "23",
         "10",
         "64"
        ],
        [
         "32",
         "Big HornPRECINCT #7",
         "101",
         "108",
         "1",
         "4",
         "2",
         "1",
         "18",
         "554",
         "89",
         "26",
         "209",
         "643"
        ],
        [
         "33",
         "Big HornPRECINCT #8",
         "10",
         "15",
         "0",
         "2",
         "1",
         "2",
         "45",
         "46",
         "98",
         "50",
         "25",
         "144"
        ],
        [
         "34",
         "Big HornPRECINCT #9",
         "17",
         "25",
         "0",
         "0",
         "0",
         "1",
         "6",
         "97",
         "28",
         "7",
         "42",
         "125"
        ],
        [
         "35",
         "BlaineBELKNAP 3-32",
         "49",
         "73",
         "1",
         "0",
         "0",
         "0",
         "13",
         "300",
         "35",
         "14",
         "122",
         "335"
        ],
        [
         "36",
         "BlaineCHINOOK 11-33",
         "66",
         "103",
         "5",
         "21",
         "8",
         "10",
         "138",
         "172",
         "381",
         "182",
         "169",
         "553"
        ],
        [
         "37",
         "BlaineHARLEM 8-32",
         "52",
         "52",
         "0",
         "7",
         "1",
         "6",
         "45",
         "152",
         "113",
         "59",
         "104",
         "265"
        ],
        [
         "38",
         "BlaineHARLEM 9-32",
         "18",
         "24",
         "0",
         "0",
         "0",
         "0",
         "2",
         "126",
         "12",
         "2",
         "42",
         "138"
        ],
        [
         "39",
         "BlaineHAYS 15-32",
         "51",
         "91",
         "2",
         "1",
         "0",
         "0",
         "8",
         "350",
         "43",
         "11",
         "142",
         "393"
        ],
        [
         "40",
         "BlaineNO CHINOOK 13-33",
         "7",
         "9",
         "0",
         "4",
         "3",
         "0",
         "38",
         "16",
         "97",
         "45",
         "16",
         "113"
        ],
        [
         "41",
         "BlaineSO CHINOOK 10-32",
         "29",
         "39",
         "6",
         "15",
         "6",
         "2",
         "135",
         "54",
         "370",
         "164",
         "68",
         "424"
        ],
        [
         "42",
         "BlaineTURNER 1-33",
         "8",
         "15",
         "2",
         "4",
         "7",
         "2",
         "109",
         "32",
         "217",
         "124",
         "23",
         "249"
        ],
        [
         "43",
         "BroadwaterPRECINCT 1",
         "42",
         "74",
         "5",
         "21",
         "19",
         "5",
         "203",
         "150",
         "484",
         "253",
         "116",
         "634"
        ],
        [
         "44",
         "BroadwaterPRECINCT 11",
         "41",
         "49",
         "4",
         "29",
         "11",
         "9",
         "255",
         "100",
         "513",
         "308",
         "90",
         "613"
        ],
        [
         "45",
         "BroadwaterPRECINCT 12",
         "46",
         "53",
         "15",
         "27",
         "12",
         "20",
         "200",
         "132",
         "485",
         "274",
         "99",
         "617"
        ],
        [
         "46",
         "BroadwaterPRECINCT 13",
         "18",
         "36",
         "7",
         "40",
         "3",
         "6",
         "200",
         "86",
         "532",
         "256",
         "54",
         "618"
        ],
        [
         "47",
         "BroadwaterPRECINCT 7",
         "43",
         "45",
         "10",
         "26",
         "9",
         "7",
         "147",
         "105",
         "334",
         "199",
         "88",
         "439"
        ],
        [
         "48",
         "CarbonP 1",
         "41",
         "43",
         "2",
         "16",
         "8",
         "8",
         "152",
         "100",
         "402",
         "186",
         "84",
         "502"
        ],
        [
         "49",
         "CarbonP 10",
         "60",
         "82",
         "1",
         "11",
         "10",
         "3",
         "45",
         "221",
         "161",
         "70",
         "142",
         "382"
        ]
       ],
       "shape": {
        "columns": 13,
        "rows": 662
       }
      },
      "text/html": [
       "<div>\n",
       "<style scoped>\n",
       "    .dataframe tbody tr th:only-of-type {\n",
       "        vertical-align: middle;\n",
       "    }\n",
       "\n",
       "    .dataframe tbody tr th {\n",
       "        vertical-align: top;\n",
       "    }\n",
       "\n",
       "    .dataframe thead th {\n",
       "        text-align: right;\n",
       "    }\n",
       "</style>\n",
       "<table border=\"1\" class=\"dataframe\">\n",
       "  <thead>\n",
       "    <tr style=\"text-align: right;\">\n",
       "      <th>candidate_column</th>\n",
       "      <th>precinct</th>\n",
       "      <th>pri_dem_CLINTON</th>\n",
       "      <th>pri_dem_SANDERS</th>\n",
       "      <th>pri_rep_BUSH</th>\n",
       "      <th>pri_rep_CRUZ</th>\n",
       "      <th>pri_rep_KASICH</th>\n",
       "      <th>pri_rep_RUBIO</th>\n",
       "      <th>pri_rep_TRUMP</th>\n",
       "      <th>gen_dem_CLINTON</th>\n",
       "      <th>gen_rep_TRUMP</th>\n",
       "      <th>rep_primary_total</th>\n",
       "      <th>dem_primary_total</th>\n",
       "      <th>general_total</th>\n",
       "    </tr>\n",
       "  </thead>\n",
       "  <tbody>\n",
       "    <tr>\n",
       "      <th>0</th>\n",
       "      <td>BeaverheadPRECINCT 01</td>\n",
       "      <td>27</td>\n",
       "      <td>44</td>\n",
       "      <td>10</td>\n",
       "      <td>18</td>\n",
       "      <td>30</td>\n",
       "      <td>8</td>\n",
       "      <td>78</td>\n",
       "      <td>175</td>\n",
       "      <td>203</td>\n",
       "      <td>144</td>\n",
       "      <td>71</td>\n",
       "      <td>378</td>\n",
       "    </tr>\n",
       "    <tr>\n",
       "      <th>1</th>\n",
       "      <td>BeaverheadPRECINCT 02</td>\n",
       "      <td>22</td>\n",
       "      <td>50</td>\n",
       "      <td>9</td>\n",
       "      <td>38</td>\n",
       "      <td>23</td>\n",
       "      <td>13</td>\n",
       "      <td>252</td>\n",
       "      <td>127</td>\n",
       "      <td>551</td>\n",
       "      <td>335</td>\n",
       "      <td>72</td>\n",
       "      <td>678</td>\n",
       "    </tr>\n",
       "    <tr>\n",
       "      <th>2</th>\n",
       "      <td>BeaverheadPRECINCT 03</td>\n",
       "      <td>36</td>\n",
       "      <td>33</td>\n",
       "      <td>11</td>\n",
       "      <td>35</td>\n",
       "      <td>35</td>\n",
       "      <td>18</td>\n",
       "      <td>269</td>\n",
       "      <td>158</td>\n",
       "      <td>507</td>\n",
       "      <td>368</td>\n",
       "      <td>69</td>\n",
       "      <td>665</td>\n",
       "    </tr>\n",
       "    <tr>\n",
       "      <th>3</th>\n",
       "      <td>BeaverheadPRECINCT 04</td>\n",
       "      <td>10</td>\n",
       "      <td>7</td>\n",
       "      <td>5</td>\n",
       "      <td>13</td>\n",
       "      <td>7</td>\n",
       "      <td>5</td>\n",
       "      <td>76</td>\n",
       "      <td>34</td>\n",
       "      <td>131</td>\n",
       "      <td>106</td>\n",
       "      <td>17</td>\n",
       "      <td>165</td>\n",
       "    </tr>\n",
       "    <tr>\n",
       "      <th>4</th>\n",
       "      <td>BeaverheadPRECINCT 05</td>\n",
       "      <td>1</td>\n",
       "      <td>1</td>\n",
       "      <td>2</td>\n",
       "      <td>7</td>\n",
       "      <td>5</td>\n",
       "      <td>2</td>\n",
       "      <td>56</td>\n",
       "      <td>9</td>\n",
       "      <td>99</td>\n",
       "      <td>72</td>\n",
       "      <td>2</td>\n",
       "      <td>108</td>\n",
       "    </tr>\n",
       "    <tr>\n",
       "      <th>...</th>\n",
       "      <td>...</td>\n",
       "      <td>...</td>\n",
       "      <td>...</td>\n",
       "      <td>...</td>\n",
       "      <td>...</td>\n",
       "      <td>...</td>\n",
       "      <td>...</td>\n",
       "      <td>...</td>\n",
       "      <td>...</td>\n",
       "      <td>...</td>\n",
       "      <td>...</td>\n",
       "      <td>...</td>\n",
       "      <td>...</td>\n",
       "    </tr>\n",
       "    <tr>\n",
       "      <th>657</th>\n",
       "      <td>Yellowstone55.4</td>\n",
       "      <td>131</td>\n",
       "      <td>134</td>\n",
       "      <td>6</td>\n",
       "      <td>33</td>\n",
       "      <td>12</td>\n",
       "      <td>9</td>\n",
       "      <td>250</td>\n",
       "      <td>344</td>\n",
       "      <td>731</td>\n",
       "      <td>310</td>\n",
       "      <td>265</td>\n",
       "      <td>1075</td>\n",
       "    </tr>\n",
       "    <tr>\n",
       "      <th>658</th>\n",
       "      <td>Yellowstone55.5</td>\n",
       "      <td>199</td>\n",
       "      <td>164</td>\n",
       "      <td>11</td>\n",
       "      <td>82</td>\n",
       "      <td>47</td>\n",
       "      <td>15</td>\n",
       "      <td>421</td>\n",
       "      <td>501</td>\n",
       "      <td>1027</td>\n",
       "      <td>576</td>\n",
       "      <td>363</td>\n",
       "      <td>1528</td>\n",
       "    </tr>\n",
       "    <tr>\n",
       "      <th>659</th>\n",
       "      <td>Yellowstone56.1</td>\n",
       "      <td>22</td>\n",
       "      <td>34</td>\n",
       "      <td>2</td>\n",
       "      <td>15</td>\n",
       "      <td>8</td>\n",
       "      <td>7</td>\n",
       "      <td>106</td>\n",
       "      <td>64</td>\n",
       "      <td>235</td>\n",
       "      <td>138</td>\n",
       "      <td>56</td>\n",
       "      <td>299</td>\n",
       "    </tr>\n",
       "    <tr>\n",
       "      <th>660</th>\n",
       "      <td>Yellowstone56.2</td>\n",
       "      <td>274</td>\n",
       "      <td>318</td>\n",
       "      <td>21</td>\n",
       "      <td>138</td>\n",
       "      <td>63</td>\n",
       "      <td>30</td>\n",
       "      <td>882</td>\n",
       "      <td>849</td>\n",
       "      <td>2144</td>\n",
       "      <td>1134</td>\n",
       "      <td>592</td>\n",
       "      <td>2993</td>\n",
       "    </tr>\n",
       "    <tr>\n",
       "      <th>661</th>\n",
       "      <td>Yellowstone56.3</td>\n",
       "      <td>82</td>\n",
       "      <td>65</td>\n",
       "      <td>10</td>\n",
       "      <td>31</td>\n",
       "      <td>29</td>\n",
       "      <td>10</td>\n",
       "      <td>261</td>\n",
       "      <td>215</td>\n",
       "      <td>523</td>\n",
       "      <td>341</td>\n",
       "      <td>147</td>\n",
       "      <td>738</td>\n",
       "    </tr>\n",
       "  </tbody>\n",
       "</table>\n",
       "<p>662 rows × 13 columns</p>\n",
       "</div>"
      ],
      "text/plain": [
       "candidate_column               precinct  pri_dem_CLINTON  pri_dem_SANDERS  \\\n",
       "0                 BeaverheadPRECINCT 01               27               44   \n",
       "1                 BeaverheadPRECINCT 02               22               50   \n",
       "2                 BeaverheadPRECINCT 03               36               33   \n",
       "3                 BeaverheadPRECINCT 04               10                7   \n",
       "4                 BeaverheadPRECINCT 05                1                1   \n",
       "..                                  ...              ...              ...   \n",
       "657                     Yellowstone55.4              131              134   \n",
       "658                     Yellowstone55.5              199              164   \n",
       "659                     Yellowstone56.1               22               34   \n",
       "660                     Yellowstone56.2              274              318   \n",
       "661                     Yellowstone56.3               82               65   \n",
       "\n",
       "candidate_column  pri_rep_BUSH  pri_rep_CRUZ  pri_rep_KASICH  pri_rep_RUBIO  \\\n",
       "0                           10            18              30              8   \n",
       "1                            9            38              23             13   \n",
       "2                           11            35              35             18   \n",
       "3                            5            13               7              5   \n",
       "4                            2             7               5              2   \n",
       "..                         ...           ...             ...            ...   \n",
       "657                          6            33              12              9   \n",
       "658                         11            82              47             15   \n",
       "659                          2            15               8              7   \n",
       "660                         21           138              63             30   \n",
       "661                         10            31              29             10   \n",
       "\n",
       "candidate_column  pri_rep_TRUMP  gen_dem_CLINTON  gen_rep_TRUMP  \\\n",
       "0                            78              175            203   \n",
       "1                           252              127            551   \n",
       "2                           269              158            507   \n",
       "3                            76               34            131   \n",
       "4                            56                9             99   \n",
       "..                          ...              ...            ...   \n",
       "657                         250              344            731   \n",
       "658                         421              501           1027   \n",
       "659                         106               64            235   \n",
       "660                         882              849           2144   \n",
       "661                         261              215            523   \n",
       "\n",
       "candidate_column  rep_primary_total  dem_primary_total  general_total  \n",
       "0                               144                 71            378  \n",
       "1                               335                 72            678  \n",
       "2                               368                 69            665  \n",
       "3                               106                 17            165  \n",
       "4                                72                  2            108  \n",
       "..                              ...                ...            ...  \n",
       "657                             310                265           1075  \n",
       "658                             576                363           1528  \n",
       "659                             138                 56            299  \n",
       "660                            1134                592           2993  \n",
       "661                             341                147            738  \n",
       "\n",
       "[662 rows x 13 columns]"
      ]
     },
     "execution_count": 47,
     "metadata": {},
     "output_type": "execute_result"
    }
   ],
   "source": [
    "combined = pd.merge(primary_result, general_result, on=\"precinct\", how=\"inner\")\n",
    "combined[\"rep_primary_total\"] = combined.filter(like=\"pri_rep_\").sum(axis=1)\n",
    "combined[\"dem_primary_total\"] = combined.filter(like=\"pri_dem_\").sum(axis=1)\n",
    "combined[\"general_total\"] = combined.filter(like=\"gen_\").sum(axis=1)\n",
    "combined"
   ]
  },
  {
   "cell_type": "code",
   "execution_count": 50,
   "id": "a6797e92",
   "metadata": {},
   "outputs": [],
   "source": [
    "combined.to_csv(\"MT.csv\", index=False)\n"
   ]
  }
 ],
 "metadata": {
  "kernelspec": {
   "display_name": "Python 3",
   "language": "python",
   "name": "python3"
  },
  "language_info": {
   "codemirror_mode": {
    "name": "ipython",
    "version": 3
   },
   "file_extension": ".py",
   "mimetype": "text/x-python",
   "name": "python",
   "nbconvert_exporter": "python",
   "pygments_lexer": "ipython3",
   "version": "3.11.2"
  }
 },
 "nbformat": 4,
 "nbformat_minor": 5
}
