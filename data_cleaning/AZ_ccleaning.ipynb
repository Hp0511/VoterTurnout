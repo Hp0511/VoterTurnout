{
 "cells": [
  {
   "cell_type": "code",
   "execution_count": 1,
   "id": "404a9de4",
   "metadata": {},
   "outputs": [],
   "source": [
    "# Import all the libraries\n",
    "import pandas as pd\n",
    "import glob\n",
    "import os\n",
    "import re\n",
    "from pprint import pprint"
   ]
  },
  {
   "cell_type": "code",
   "execution_count": 40,
   "id": "b0fe947f",
   "metadata": {},
   "outputs": [],
   "source": [
    "files = glob.glob(r\"C:\\Huy Phan\\College\\VoterTurnout\\data\\AZ\\unfiltered\\20160322__az__primary__president__yuma__precinct.csv\")"
   ]
  },
  {
   "cell_type": "code",
   "execution_count": 41,
   "id": "e7d4b52e",
   "metadata": {},
   "outputs": [],
   "source": [
    "# For apache, greenlee\n",
    "df = pd.read_csv(files[0])\n",
    "\n",
    "parts = re.split(r'(?:__|[\\\\/\\.])', files[0])\n",
    "\n",
    "\n",
    "county_name = parts[-3].upper()\n",
    "\n",
    "# Add county column\n",
    "df[\"county\"] = county_name\n",
    "df[\"county\"] = df[\"county\"].str.upper()\n",
    "\n",
    "\n",
    "# Define folder path (change this to your folder)\n",
    "folder_path = r\"C:\\Huy Phan\\College\\VoterTurnout\\data\\AZ\"\n",
    "\n",
    "# Define filename\n",
    "file_name = r\"20160322__az__primary__president__yuma__precinct.csv\"\n",
    "\n",
    "# Save to that folder\n",
    "df.to_csv(f\"{folder_path}/{file_name}\", index=False)\n"
   ]
  },
  {
   "cell_type": "code",
   "execution_count": 49,
   "id": "53a05704",
   "metadata": {},
   "outputs": [],
   "source": [
    "files = glob.glob(r\"C:\\Huy Phan\\College\\VoterTurnout\\data\\NY\\unfiltered\\20161108__ny__general__richmond__precinct.csv\")"
   ]
  },
  {
   "cell_type": "code",
   "execution_count": 51,
   "id": "6d2f70ad",
   "metadata": {},
   "outputs": [],
   "source": [
    "# For Bronx, Kings, NY, Queens, richmond\n",
    "df = pd.read_csv(files[0])\n",
    "# df[\"precinct\"] = df[\"precinct\"].astype(int).astype(str) + \"/\" + df[\"assembly_district\"].astype(str)\n",
    "# df[\"precinct\"] = '=\"' + df[\"precinct\"] + '\"'\n",
    "df[\"precinct\"] = df[\"precinct\"].astype(str).str.replace(r\"^0+\", \"\", regex=True)        # Remove leading zeros at start\n",
    "df[\"precinct\"] = '=\"' + df[\"precinct\"] + '\"'\n",
    "# Define folder path (change this to your folder)\n",
    "folder_path = r\"C:\\Huy Phan\\College\\VoterTurnout\\data\\NY\"\n",
    "\n",
    "# Define filename\n",
    "file_name = r\"20161108__ny__general__richmond__precinct.csv\"\n",
    "\n",
    "# Save to that folder\n",
    "df.to_csv(f\"{folder_path}/{file_name}\", index=False)"
   ]
  },
  {
   "cell_type": "code",
   "execution_count": 38,
   "id": "b3df99cc",
   "metadata": {},
   "outputs": [],
   "source": [
    "new_files = glob.glob(r\"C:\\Huy Phan\\College\\VoterTurnout\\data\\AZ\\20161108__az__general__greenlee__precinct.csv\")"
   ]
  },
  {
   "cell_type": "code",
   "execution_count": null,
   "id": "4c58de93",
   "metadata": {},
   "outputs": [],
   "source": [
    "new_df = pd.read_csv(new_files[0])\n",
    "\n",
    "# Clean precinct_name: keep second part, convert to uppercase\n",
    "new_df[\"precinct\"] = new_df[\"precinct\"] = new_df[\"precinct\"].astype(str).str.replace(r\"^\\d+\\s+\", \"\", regex=True).str.upper()\n",
    "\n",
    "\n",
    "folder_path = \"C:\\Huy Phan\\College\\VoterTurnout\\data\\NY\"\n",
    "\n",
    "# Define filename\n",
    "file_name = \"my_saved_file.csv\"\n",
    "\n",
    "# Save to that folder\n",
    "new_df.to_csv(f\"{folder_path}/{file_name}\", index=False)\n",
    "\n",
    "new_df.to_csv(\"20160322__az__primary__president__yuma__precinct.csv\")\n"
   ]
  }
 ],
 "metadata": {
  "kernelspec": {
   "display_name": "Python 3",
   "language": "python",
   "name": "python3"
  },
  "language_info": {
   "codemirror_mode": {
    "name": "ipython",
    "version": 3
   },
   "file_extension": ".py",
   "mimetype": "text/x-python",
   "name": "python",
   "nbconvert_exporter": "python",
   "pygments_lexer": "ipython3",
   "version": "3.11.2"
  }
 },
 "nbformat": 4,
 "nbformat_minor": 5
}
