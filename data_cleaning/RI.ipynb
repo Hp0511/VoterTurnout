{
 "cells": [
  {
   "cell_type": "code",
   "execution_count": 16,
   "id": "ad1be0fa",
   "metadata": {},
   "outputs": [],
   "source": [
    "# Import all the libraries\n",
    "import pandas as pd\n",
    "import glob\n",
    "import os\n",
    "import re\n",
    "from pprint import pprint"
   ]
  },
  {
   "cell_type": "code",
   "execution_count": 17,
   "id": "c263c4df",
   "metadata": {},
   "outputs": [],
   "source": [
    "#Get all CSV files in the folder of GA\n",
    "all_files = glob.glob(r\"C:\\Huy Phan\\College\\VoterTurnout\\data\\RI\\*.csv\")\n",
    "\n",
    "# Files that contain both 'precinct' and 'general' in the filename\n",
    "general_files = [\n",
    "    f for f in all_files\n",
    "    if all(word in f.lower() for word in ['precinct', 'general'])\n",
    "]\n",
    "\n",
    "\n",
    "# Files that contain both 'precinct' and 'primary' in the filename\n",
    "primary_files = [\n",
    "    f for f in all_files\n",
    "    if all(word in f.lower() for word in ['precinct', 'primary'])\n",
    "]\n"
   ]
  },
  {
   "cell_type": "code",
   "execution_count": 18,
   "id": "60d49ea6",
   "metadata": {},
   "outputs": [
    {
     "name": "stdout",
     "output_type": "stream",
     "text": [
      "General files:\n",
      "C:\\Huy Phan\\College\\VoterTurnout\\data\\RI\\20161108__ri__general__precinct.csv\n"
     ]
    }
   ],
   "source": [
    "print(\"General files:\")\n",
    "for f in general_files:\n",
    "    print(f)\n"
   ]
  },
  {
   "cell_type": "code",
   "execution_count": 19,
   "id": "4ab13110",
   "metadata": {},
   "outputs": [
    {
     "name": "stdout",
     "output_type": "stream",
     "text": [
      "\n",
      "Primary files:\n",
      "C:\\Huy Phan\\College\\VoterTurnout\\data\\RI\\20160426__ri__primary__president__precinct.csv\n"
     ]
    }
   ],
   "source": [
    "print(\"\\nPrimary files:\")\n",
    "for f in primary_files:\n",
    "    print(f)"
   ]
  },
  {
   "cell_type": "code",
   "execution_count": 20,
   "id": "ff5df6c7",
   "metadata": {},
   "outputs": [],
   "source": [
    "# Process primary files\n",
    "primary_df_list = []\n",
    "\n",
    "for file in primary_files:\n",
    "    try:\n",
    "        df = pd.read_csv(file)\n",
    "        \n",
    "            \n",
    "        # Combine precinct as county + precinct\n",
    "        df[\"precinct\"] = df[\"precinct\"].astype(str)\n",
    "        df[\"precinct\"] = df[\"precinct\"].str.upper()\n",
    "        df[\"county\"] = df[\"county\"].str.upper()\n",
    "\n",
    "        # Cleaning maybe total precinct\n",
    "        if 'precinct' in df.columns:\n",
    "            df['precinct'] = df['precinct'].astype(str)                  \n",
    "            df = df[df['precinct'].str.upper() != \"TOTAL\"]               \n",
    "            df = df[df['precinct'].str.strip().str.upper() != \"TOTAL\"]   \n",
    "            df = df[df['precinct'].str.upper() != \"NAN\"]                \n",
    "            df = df[~df['precinct'].str.upper().str.contains(r\"\\w*TOTAL\\w*\", na=False)]   \n",
    "\n",
    "        if 'county' in df.columns:\n",
    "            df['county'] = df['county'].astype(str)                  \n",
    "            df = df[df['county'].str.upper() != \"TOTAL\"]               \n",
    "            df = df[df['county'].str.strip().str.upper() != \"TOTAL\"]   \n",
    "            df = df[df['county'].str.upper() != \"NAN\"]       \n",
    "            df = df[~df['county'].str.upper().str.contains(r\"\\w*TOTAL\\w*\", na=False)]               \n",
    "        # Filtering out only President \n",
    "        if 'office' in df.columns:\n",
    "            df = df[df[\"office\"].str.upper() == \"PRESIDENT\"]\n",
    "            \n",
    "        # Dropping duplicates value\n",
    "        df = df.drop_duplicates()\n",
    "        \n",
    "        primary_df_list.append(df)\n",
    "\n",
    "    except Exception as e:\n",
    "        print(f\"Error in {file}: {e}\")\n",
    "\n",
    "# Combine all cleaned files\n",
    "pri_combined_df = pd.concat(primary_df_list, ignore_index=True)\n",
    "\n"
   ]
  },
  {
   "cell_type": "code",
   "execution_count": 21,
   "id": "2ef83fe2",
   "metadata": {},
   "outputs": [],
   "source": [
    "## Cleaning precinct, county name\n",
    "# Fixing Cubbler\n",
    "# pri_combined_df.loc[\n",
    "#     ( \n",
    "#         pri_combined_df[\"county\"].str.contains(\"\\w*F120\\w*\", case=False, na=False)|\n",
    "#         pri_combined_df[\"county\"].str.contains(\"\\w*STONE\\w*\", case=False, na=False)|\n",
    "#         pri_combined_df[\"county\"].str.contains(\"\\w*OBBLER\\w*\", case=False, na=False),\n",
    "#     \"county\")\n",
    "# ] = \"STONE\""
   ]
  },
  {
   "cell_type": "code",
   "execution_count": 22,
   "id": "bbe34b76",
   "metadata": {},
   "outputs": [],
   "source": [
    "# Checking any suspicious precinct, county\n",
    "suspicious_precincts = pri_combined_df[\n",
    "    pri_combined_df[\"precinct\"].isna() |\n",
    "    pri_combined_df[\"precinct\"].str.strip().str.upper().str.contains(r\"\\w*TOTAL\\w*\", na=False) |\n",
    "    pri_combined_df[\"precinct\"].str.strip().str.upper().isin([\"NONE\", \"NAN\"]) |\n",
    "    pri_combined_df[\"county\"].isna() |\n",
    "    pri_combined_df[\"county\"].str.strip().str.upper().str.contains(r\"\\w*TOTAL\\w*\", na=False) |\n",
    "    pri_combined_df[\"county\"].str.strip().str.upper().isin([\"NONE\", \"NAN\"])\n",
    "]"
   ]
  },
  {
   "cell_type": "code",
   "execution_count": 23,
   "id": "f0e1e913",
   "metadata": {},
   "outputs": [
    {
     "data": {
      "application/vnd.microsoft.datawrangler.viewer.v0+json": {
       "columns": [
        {
         "name": "index",
         "rawType": "int64",
         "type": "integer"
        },
        {
         "name": "precinct",
         "rawType": "object",
         "type": "string"
        },
        {
         "name": "party",
         "rawType": "object",
         "type": "string"
        },
        {
         "name": "candidate",
         "rawType": "object",
         "type": "string"
        },
        {
         "name": "votes",
         "rawType": "int64",
         "type": "integer"
        }
       ],
       "ref": "58f4e9a5-2dc3-4e73-ac95-d95a759ccaaa",
       "rows": [
        [
         "0",
         "BARRINGTON 0101",
         "Democratic",
         "Mark Stewart",
         "0"
        ],
        [
         "1",
         "BARRINGTON 0101",
         "Democratic",
         "Bernie Sanders",
         "251"
        ],
        [
         "2",
         "BARRINGTON 0101",
         "Democratic",
         "Uncommitted",
         "5"
        ],
        [
         "3",
         "BARRINGTON 0101",
         "Democratic",
         "Roque \"Rocky\" De La Fuente",
         "0"
        ],
        [
         "4",
         "BARRINGTON 0101",
         "Democratic",
         "Hillary Clinton",
         "214"
        ],
        [
         "5",
         "BARRINGTON 0101",
         "Democratic",
         "Overvotes",
         "0"
        ],
        [
         "6",
         "BARRINGTON 0101",
         "Democratic",
         "Undervotes",
         "7"
        ],
        [
         "7",
         "BARRINGTON 0101",
         "Republican",
         "Donald J. Trump",
         "115"
        ],
        [
         "8",
         "BARRINGTON 0101",
         "Republican",
         "Ted Cruz",
         "34"
        ],
        [
         "9",
         "BARRINGTON 0101",
         "Republican",
         "John R. Kasich",
         "92"
        ],
        [
         "10",
         "BARRINGTON 0101",
         "Republican",
         "Marco Rubio",
         "2"
        ],
        [
         "11",
         "BARRINGTON 0101",
         "Republican",
         "Uncommitted",
         "1"
        ],
        [
         "12",
         "BARRINGTON 0101",
         "Republican",
         "Overvotes",
         "0"
        ],
        [
         "13",
         "BARRINGTON 0101",
         "Republican",
         "Undervotes",
         "6"
        ],
        [
         "14",
         "BARRINGTON 0102",
         "Democratic",
         "Mark Stewart",
         "0"
        ],
        [
         "15",
         "BARRINGTON 0102",
         "Democratic",
         "Bernie Sanders",
         "347"
        ],
        [
         "16",
         "BARRINGTON 0102",
         "Democratic",
         "Uncommitted",
         "3"
        ],
        [
         "17",
         "BARRINGTON 0102",
         "Democratic",
         "Roque \"Rocky\" De La Fuente",
         "0"
        ],
        [
         "18",
         "BARRINGTON 0102",
         "Democratic",
         "Hillary Clinton",
         "336"
        ],
        [
         "19",
         "BARRINGTON 0102",
         "Democratic",
         "Overvotes",
         "0"
        ],
        [
         "20",
         "BARRINGTON 0102",
         "Democratic",
         "Undervotes",
         "12"
        ],
        [
         "21",
         "BARRINGTON 0102",
         "Republican",
         "Donald J. Trump",
         "138"
        ],
        [
         "22",
         "BARRINGTON 0102",
         "Republican",
         "Ted Cruz",
         "29"
        ],
        [
         "23",
         "BARRINGTON 0102",
         "Republican",
         "John R. Kasich",
         "119"
        ],
        [
         "24",
         "BARRINGTON 0102",
         "Republican",
         "Marco Rubio",
         "2"
        ],
        [
         "25",
         "BARRINGTON 0102",
         "Republican",
         "Uncommitted",
         "0"
        ],
        [
         "26",
         "BARRINGTON 0102",
         "Republican",
         "Overvotes",
         "0"
        ],
        [
         "27",
         "BARRINGTON 0102",
         "Republican",
         "Undervotes",
         "3"
        ],
        [
         "28",
         "BARRINGTON 0103",
         "Democratic",
         "Mark Stewart",
         "0"
        ],
        [
         "29",
         "BARRINGTON 0103",
         "Democratic",
         "Bernie Sanders",
         "216"
        ],
        [
         "30",
         "BARRINGTON 0103",
         "Democratic",
         "Uncommitted",
         "2"
        ],
        [
         "31",
         "BARRINGTON 0103",
         "Democratic",
         "Roque \"Rocky\" De La Fuente",
         "0"
        ],
        [
         "32",
         "BARRINGTON 0103",
         "Democratic",
         "Hillary Clinton",
         "313"
        ],
        [
         "33",
         "BARRINGTON 0103",
         "Democratic",
         "Overvotes",
         "0"
        ],
        [
         "34",
         "BARRINGTON 0103",
         "Democratic",
         "Undervotes",
         "7"
        ],
        [
         "35",
         "BARRINGTON 0103",
         "Republican",
         "Donald J. Trump",
         "124"
        ],
        [
         "36",
         "BARRINGTON 0103",
         "Republican",
         "Ted Cruz",
         "25"
        ],
        [
         "37",
         "BARRINGTON 0103",
         "Republican",
         "John R. Kasich",
         "153"
        ],
        [
         "38",
         "BARRINGTON 0103",
         "Republican",
         "Marco Rubio",
         "4"
        ],
        [
         "39",
         "BARRINGTON 0103",
         "Republican",
         "Uncommitted",
         "0"
        ],
        [
         "40",
         "BARRINGTON 0103",
         "Republican",
         "Overvotes",
         "0"
        ],
        [
         "41",
         "BARRINGTON 0103",
         "Republican",
         "Undervotes",
         "0"
        ],
        [
         "42",
         "BARRINGTON 0104",
         "Democratic",
         "Mark Stewart",
         "0"
        ],
        [
         "43",
         "BARRINGTON 0104",
         "Democratic",
         "Bernie Sanders",
         "299"
        ],
        [
         "44",
         "BARRINGTON 0104",
         "Democratic",
         "Uncommitted",
         "3"
        ],
        [
         "45",
         "BARRINGTON 0104",
         "Democratic",
         "Roque \"Rocky\" De La Fuente",
         "1"
        ],
        [
         "46",
         "BARRINGTON 0104",
         "Democratic",
         "Hillary Clinton",
         "316"
        ],
        [
         "47",
         "BARRINGTON 0104",
         "Democratic",
         "Overvotes",
         "0"
        ],
        [
         "48",
         "BARRINGTON 0104",
         "Democratic",
         "Undervotes",
         "15"
        ],
        [
         "49",
         "BARRINGTON 0104",
         "Republican",
         "Donald J. Trump",
         "173"
        ]
       ],
       "shape": {
        "columns": 4,
        "rows": 2016
       }
      },
      "text/html": [
       "<div>\n",
       "<style scoped>\n",
       "    .dataframe tbody tr th:only-of-type {\n",
       "        vertical-align: middle;\n",
       "    }\n",
       "\n",
       "    .dataframe tbody tr th {\n",
       "        vertical-align: top;\n",
       "    }\n",
       "\n",
       "    .dataframe thead th {\n",
       "        text-align: right;\n",
       "    }\n",
       "</style>\n",
       "<table border=\"1\" class=\"dataframe\">\n",
       "  <thead>\n",
       "    <tr style=\"text-align: right;\">\n",
       "      <th></th>\n",
       "      <th>precinct</th>\n",
       "      <th>party</th>\n",
       "      <th>candidate</th>\n",
       "      <th>votes</th>\n",
       "    </tr>\n",
       "  </thead>\n",
       "  <tbody>\n",
       "    <tr>\n",
       "      <th>0</th>\n",
       "      <td>BARRINGTON 0101</td>\n",
       "      <td>Democratic</td>\n",
       "      <td>Mark Stewart</td>\n",
       "      <td>0</td>\n",
       "    </tr>\n",
       "    <tr>\n",
       "      <th>1</th>\n",
       "      <td>BARRINGTON 0101</td>\n",
       "      <td>Democratic</td>\n",
       "      <td>Bernie Sanders</td>\n",
       "      <td>251</td>\n",
       "    </tr>\n",
       "    <tr>\n",
       "      <th>2</th>\n",
       "      <td>BARRINGTON 0101</td>\n",
       "      <td>Democratic</td>\n",
       "      <td>Uncommitted</td>\n",
       "      <td>5</td>\n",
       "    </tr>\n",
       "    <tr>\n",
       "      <th>3</th>\n",
       "      <td>BARRINGTON 0101</td>\n",
       "      <td>Democratic</td>\n",
       "      <td>Roque \"Rocky\" De La Fuente</td>\n",
       "      <td>0</td>\n",
       "    </tr>\n",
       "    <tr>\n",
       "      <th>4</th>\n",
       "      <td>BARRINGTON 0101</td>\n",
       "      <td>Democratic</td>\n",
       "      <td>Hillary Clinton</td>\n",
       "      <td>214</td>\n",
       "    </tr>\n",
       "    <tr>\n",
       "      <th>...</th>\n",
       "      <td>...</td>\n",
       "      <td>...</td>\n",
       "      <td>...</td>\n",
       "      <td>...</td>\n",
       "    </tr>\n",
       "    <tr>\n",
       "      <th>2011</th>\n",
       "      <td>WESTERLY 3605</td>\n",
       "      <td>Republican</td>\n",
       "      <td>John R. Kasich</td>\n",
       "      <td>317</td>\n",
       "    </tr>\n",
       "    <tr>\n",
       "      <th>2012</th>\n",
       "      <td>WESTERLY 3605</td>\n",
       "      <td>Republican</td>\n",
       "      <td>Marco Rubio</td>\n",
       "      <td>4</td>\n",
       "    </tr>\n",
       "    <tr>\n",
       "      <th>2013</th>\n",
       "      <td>WESTERLY 3605</td>\n",
       "      <td>Republican</td>\n",
       "      <td>Uncommitted</td>\n",
       "      <td>5</td>\n",
       "    </tr>\n",
       "    <tr>\n",
       "      <th>2014</th>\n",
       "      <td>WESTERLY 3605</td>\n",
       "      <td>Republican</td>\n",
       "      <td>Overvotes</td>\n",
       "      <td>0</td>\n",
       "    </tr>\n",
       "    <tr>\n",
       "      <th>2015</th>\n",
       "      <td>WESTERLY 3605</td>\n",
       "      <td>Republican</td>\n",
       "      <td>Undervotes</td>\n",
       "      <td>8</td>\n",
       "    </tr>\n",
       "  </tbody>\n",
       "</table>\n",
       "<p>2016 rows × 4 columns</p>\n",
       "</div>"
      ],
      "text/plain": [
       "             precinct       party                   candidate  votes\n",
       "0     BARRINGTON 0101  Democratic                Mark Stewart      0\n",
       "1     BARRINGTON 0101  Democratic              Bernie Sanders    251\n",
       "2     BARRINGTON 0101  Democratic                 Uncommitted      5\n",
       "3     BARRINGTON 0101  Democratic  Roque \"Rocky\" De La Fuente      0\n",
       "4     BARRINGTON 0101  Democratic             Hillary Clinton    214\n",
       "...               ...         ...                         ...    ...\n",
       "2011    WESTERLY 3605  Republican              John R. Kasich    317\n",
       "2012    WESTERLY 3605  Republican                 Marco Rubio      4\n",
       "2013    WESTERLY 3605  Republican                 Uncommitted      5\n",
       "2014    WESTERLY 3605  Republican                   Overvotes      0\n",
       "2015    WESTERLY 3605  Republican                  Undervotes      8\n",
       "\n",
       "[2016 rows x 4 columns]"
      ]
     },
     "execution_count": 23,
     "metadata": {},
     "output_type": "execute_result"
    }
   ],
   "source": [
    "# Select only the relevant columns\n",
    "primary_data = pri_combined_df[[\"precinct\", \"party\", \"candidate\", \"votes\"]]\n",
    "\n",
    "primary_data"
   ]
  },
  {
   "cell_type": "code",
   "execution_count": 24,
   "id": "dc2ffa15",
   "metadata": {},
   "outputs": [
    {
     "data": {
      "application/vnd.microsoft.datawrangler.viewer.v0+json": {
       "columns": [
        {
         "name": "candidate",
         "rawType": "object",
         "type": "string"
        },
        {
         "name": "count",
         "rawType": "int64",
         "type": "integer"
        }
       ],
       "ref": "ad6353b4-8219-4cd3-897b-ad35bc7a50b7",
       "rows": [
        [
         "Uncommitted",
         "288"
        ],
        [
         "Overvotes",
         "288"
        ],
        [
         "Undervotes",
         "288"
        ],
        [
         "Mark Stewart",
         "144"
        ],
        [
         "Bernie Sanders",
         "144"
        ],
        [
         "Roque \"Rocky\" De La Fuente",
         "144"
        ],
        [
         "Hillary Clinton",
         "144"
        ],
        [
         "Donald J. Trump",
         "144"
        ],
        [
         "Ted Cruz",
         "144"
        ],
        [
         "John R. Kasich",
         "144"
        ],
        [
         "Marco Rubio",
         "144"
        ]
       ],
       "shape": {
        "columns": 1,
        "rows": 11
       }
      },
      "text/plain": [
       "candidate\n",
       "Uncommitted                   288\n",
       "Overvotes                     288\n",
       "Undervotes                    288\n",
       "Mark Stewart                  144\n",
       "Bernie Sanders                144\n",
       "Roque \"Rocky\" De La Fuente    144\n",
       "Hillary Clinton               144\n",
       "Donald J. Trump               144\n",
       "Ted Cruz                      144\n",
       "John R. Kasich                144\n",
       "Marco Rubio                   144\n",
       "Name: count, dtype: int64"
      ]
     },
     "execution_count": 24,
     "metadata": {},
     "output_type": "execute_result"
    }
   ],
   "source": [
    "# Viewing candidate data\n",
    "primary_data[\"candidate\"].value_counts(dropna=False)"
   ]
  },
  {
   "cell_type": "code",
   "execution_count": 25,
   "id": "5eef8778",
   "metadata": {},
   "outputs": [
    {
     "name": "stderr",
     "output_type": "stream",
     "text": [
      "C:\\Users\\ADMIN\\AppData\\Local\\Temp\\ipykernel_4388\\4226155669.py:4: SettingWithCopyWarning: \n",
      "A value is trying to be set on a copy of a slice from a DataFrame.\n",
      "Try using .loc[row_indexer,col_indexer] = value instead\n",
      "\n",
      "See the caveats in the documentation: https://pandas.pydata.org/pandas-docs/stable/user_guide/indexing.html#returning-a-view-versus-a-copy\n",
      "  primary_data[\"candidate\"] = primary_data[\"candidate\"].astype(str).str.upper()\n",
      "C:\\Users\\ADMIN\\AppData\\Local\\Temp\\ipykernel_4388\\4226155669.py:34: SettingWithCopyWarning: \n",
      "A value is trying to be set on a copy of a slice from a DataFrame.\n",
      "Try using .loc[row_indexer,col_indexer] = value instead\n",
      "\n",
      "See the caveats in the documentation: https://pandas.pydata.org/pandas-docs/stable/user_guide/indexing.html#returning-a-view-versus-a-copy\n",
      "  primary_data[\"candidate\"] = primary_data[\"candidate\"].astype(str).str.upper()\n",
      "C:\\Users\\ADMIN\\AppData\\Local\\Temp\\ipykernel_4388\\4226155669.py:43: SettingWithCopyWarning: \n",
      "A value is trying to be set on a copy of a slice from a DataFrame.\n",
      "Try using .loc[row_indexer,col_indexer] = value instead\n",
      "\n",
      "See the caveats in the documentation: https://pandas.pydata.org/pandas-docs/stable/user_guide/indexing.html#returning-a-view-versus-a-copy\n",
      "  primary_data[\"candidate\"] = primary_data[\"candidate\"].str.split().str[-1]\n"
     ]
    },
    {
     "data": {
      "application/vnd.microsoft.datawrangler.viewer.v0+json": {
       "columns": [
        {
         "name": "candidate",
         "rawType": "object",
         "type": "string"
        },
        {
         "name": "count",
         "rawType": "int64",
         "type": "integer"
        }
       ],
       "ref": "106239ce-227c-4919-9bad-844c014ffd77",
       "rows": [
        [
         "STEWART",
         "144"
        ],
        [
         "SANDERS",
         "144"
        ],
        [
         "FUENTE",
         "144"
        ],
        [
         "CLINTON",
         "144"
        ],
        [
         "TRUMP",
         "144"
        ],
        [
         "CRUZ",
         "144"
        ],
        [
         "KASICH",
         "144"
        ],
        [
         "RUBIO",
         "144"
        ]
       ],
       "shape": {
        "columns": 1,
        "rows": 8
       }
      },
      "text/plain": [
       "candidate\n",
       "STEWART    144\n",
       "SANDERS    144\n",
       "FUENTE     144\n",
       "CLINTON    144\n",
       "TRUMP      144\n",
       "CRUZ       144\n",
       "KASICH     144\n",
       "RUBIO      144\n",
       "Name: count, dtype: int64"
      ]
     },
     "execution_count": 25,
     "metadata": {},
     "output_type": "execute_result"
    }
   ],
   "source": [
    "# Cleaning Candidates\n",
    "\n",
    "# Turning all primary data to uppercase\n",
    "primary_data[\"candidate\"] = primary_data[\"candidate\"].astype(str).str.upper()\n",
    "\n",
    "unwanted_keywords = [\n",
    "    r\"\\w*VOTE\\w*\",\n",
    "    r\"\\w*UNCOM\\w*\",\n",
    "    r\"\\w*TOTAL\\w*\",\n",
    "    r\"Blank Votes\", r\"All Others\",r\"Total Votes Cast\",r\"No Preference\",\n",
    "    r\"UNCOMMITTED\"\n",
    "]\n",
    "\n",
    "pattern = \"|\".join(unwanted_keywords)\n",
    "\n",
    "# # Assuming candidate column is already string and uppercase\n",
    "primary_data = primary_data[~primary_data[\"candidate\"].str.upper().str.contains(pattern, regex=True, na=False)]\n",
    "\n",
    "#fIXING DE LA FUENTE\n",
    "# primary_data.loc[\n",
    "#     (\n",
    "#         primary_data[\"candidate\"].str.contains(\"rocky.*fuente\", case=False, na=False) |\n",
    "#         primary_data[\"candidate\"].str.contains(\"LA FUENTE\", case=False, na=False) |\n",
    "#         primary_data[\"candidate\"].str.contains(\"\\w*Fuque\\w*\", case=False, na=False)\n",
    "#     ),\n",
    "#     \"candidate\"\n",
    "# ] = \"LA FUENTE\"\n",
    "\n",
    "\n",
    "# primary_data.loc[:, \"candidate\"] = primary_data[\"candidate\"].replace({\n",
    "#     \"Donald I. Trump\": \"Donald J. Trump\",\n",
    "# })\n",
    "\n",
    "primary_data[\"candidate\"] = primary_data[\"candidate\"].astype(str).str.upper()\n",
    "# # Fixing the , candidate\n",
    "# primary_data[\"candidate\"] = (\n",
    "#     primary_data[\"candidate\"].str.split(\",\")\n",
    "#     .str[0]\n",
    "#     .str.strip()\n",
    "#     )\n",
    "\n",
    "# #Selecting only last name\n",
    "primary_data[\"candidate\"] = primary_data[\"candidate\"].str.split().str[-1]\n",
    "\n",
    "# Fixing Christie\n",
    "primary_data.loc[\n",
    "    primary_data[\"candidate\"].str.contains(\"CHRISTLE\", case=False, na=False),\n",
    "    \"candidate\"\n",
    "] = \"CHRISTIE\"\n",
    "\n",
    "# Fixing KASICH\n",
    "primary_data.loc[\n",
    "    primary_data[\"candidate\"].str.contains(\"KAISCH\", case=False, na=False),\n",
    "    \"candidate\"\n",
    "] = \"CHRISTIE\"\n",
    "\n",
    "# Fixing O'MALLEY\n",
    "primary_data.loc[\n",
    "    primary_data[\"candidate\"].str.contains(\"O'MALLEY\", case=False, na=False),\n",
    "    \"candidate\"\n",
    "] = \"O'MAILEY\"\n",
    "\n",
    "# Fixing O'MALLEY\n",
    "primary_data.loc[\n",
    "    primary_data[\"candidate\"].str.contains(\"PATAKL\", case=False, na=False),\n",
    "    \"candidate\"\n",
    "] = \"PATAKI\"\n",
    "\n",
    "# Fixing O'MALLEY\n",
    "primary_data.loc[\n",
    "    primary_data[\"candidate\"].str.contains(\"RUBLO\", case=False, na=False),\n",
    "    \"candidate\"\n",
    "] = \"RUBIO\"\n",
    "\n",
    "# # Fixing Huckabee\n",
    "# primary_data.loc[\n",
    "#     primary_data[\"candidate\"].str.contains(\"\\w*ABEE\\w*\", case=False, na=False),\n",
    "#     \"candidate\"\n",
    "# ] = \"HUCKABEE\"\n",
    "\n",
    "# # Fixing Fiorina\n",
    "# primary_data.loc[\n",
    "#     primary_data[\"candidate\"].str.contains(\"\\w*ORINA\\W*\", case=False, na=False),\n",
    "#     \"candidate\"\n",
    "# ] = \"FIORINA\"\n",
    "\n",
    "# # Fixing Gray\n",
    "# primary_data.loc[\n",
    "#     primary_data[\"candidate\"].str.contains(\"GREY\", case=False, na=False),\n",
    "#     \"candidate\"\n",
    "# ] = \"GRAY\"\n",
    "\n",
    "# # Fixing Wilson\n",
    "# primary_data.loc[\n",
    "#     primary_data[\"candidate\"].str.contains(\"WISON\", case=False, na=False),\n",
    "#     \"candidate\"\n",
    "# ] = \"WILSON\"\n",
    "\n",
    "\n",
    "# # Fixing separator \n",
    "# primary_data[\"candidate\"] = (\n",
    "#     primary_data[\"candidate\"]\n",
    "#     .str.split(r\"\\s*(?:and|/|&|–|-|\\+)\\s*\", n=1, expand=True)[0]\n",
    "#     .str.strip()\n",
    "#     .str.upper()\n",
    "# )\n",
    "\n",
    "# # Fixing McMullin\n",
    "\n",
    "# primary_data.loc[\n",
    "#     (\n",
    "#         primary_data[\"candidate\"].str.contains(\"MCMULLIN\", case=False, na=False) |\n",
    "#         primary_data[\"candidate\"].str.contains(\"EVAN MCMULLEN\", case=False, na=False)\n",
    "#     ),\n",
    "#     \"candidate\"\n",
    "# ] = \"MCMULLIN\"\n",
    "\n",
    "# primary_data.loc[\n",
    "#     primary_data[\"candidate\"].str.contains(\"De La Fuen\", case=False, na=False),\n",
    "#     \"candidate\"\n",
    "# ] = \"FUENTE D\"\n",
    "\n",
    "## SPLITTINNG BY ,\n",
    "# primary_data.loc[:,\"candidate\"] = (\n",
    "#     primary_data[\"candidate\"].str.split().str[0].str.upper()\n",
    "# )\n",
    "\n",
    "primary_data[\"candidate\"].value_counts(dropna=False)"
   ]
  },
  {
   "cell_type": "code",
   "execution_count": 26,
   "id": "dcc76af7",
   "metadata": {},
   "outputs": [
    {
     "data": {
      "application/vnd.microsoft.datawrangler.viewer.v0+json": {
       "columns": [
        {
         "name": "party",
         "rawType": "object",
         "type": "string"
        },
        {
         "name": "count",
         "rawType": "int64",
         "type": "integer"
        }
       ],
       "ref": "d5056628-1b57-402c-8a2a-3a2c3b1ce8a1",
       "rows": [
        [
         "Democratic",
         "576"
        ],
        [
         "Republican",
         "576"
        ]
       ],
       "shape": {
        "columns": 1,
        "rows": 2
       }
      },
      "text/plain": [
       "party\n",
       "Democratic    576\n",
       "Republican    576\n",
       "Name: count, dtype: int64"
      ]
     },
     "execution_count": 26,
     "metadata": {},
     "output_type": "execute_result"
    }
   ],
   "source": [
    "# Viewing Party\n",
    "primary_data[\"party\"].value_counts(dropna=False)"
   ]
  },
  {
   "cell_type": "code",
   "execution_count": 27,
   "id": "582aa6c5",
   "metadata": {},
   "outputs": [
    {
     "data": {
      "application/vnd.microsoft.datawrangler.viewer.v0+json": {
       "columns": [
        {
         "name": "party",
         "rawType": "object",
         "type": "string"
        },
        {
         "name": "count",
         "rawType": "int64",
         "type": "integer"
        }
       ],
       "ref": "17305d8b-7c71-4e7c-a192-0ec0e1aa8e9b",
       "rows": [
        [
         "Democratic",
         "576"
        ],
        [
         "Republican",
         "576"
        ]
       ],
       "shape": {
        "columns": 1,
        "rows": 2
       }
      },
      "text/plain": [
       "party\n",
       "Democratic    576\n",
       "Republican    576\n",
       "Name: count, dtype: int64"
      ]
     },
     "execution_count": 27,
     "metadata": {},
     "output_type": "execute_result"
    }
   ],
   "source": [
    "#=====================================\n",
    "# This function is used to look up party\n",
    "# for the candidate in the same df\n",
    "#=====================================\n",
    "def fill_party_from_data(row, df):\n",
    "    if pd.notna(row[\"party\"]):\n",
    "        return row[\"party\"]\n",
    "    \n",
    "    # Try to find other rows with the same candidate and known party\n",
    "    matches = df[(df[\"candidate\"] == row[\"candidate\"]) & (df[\"party\"].notna())]\n",
    "    if not matches.empty:\n",
    "        return matches[\"party\"].iloc[0]  # Return the first match's party\n",
    "    else:\n",
    "        return None  # Still unknown\n",
    "\n",
    "#=====================================\n",
    "# Example usage (uncomment and modify for your workflow)\n",
    "#=====================================\n",
    "# Fill party using internal data\n",
    "# primary_data[\"party\"] = primary_data.apply(\n",
    "#     lambda row: fill_party_from_data(row, primary_data),\n",
    "#     axis=1\n",
    "# )\n",
    "\n",
    "primary_data[\"party\"].value_counts(dropna=False)\n"
   ]
  },
  {
   "cell_type": "code",
   "execution_count": 28,
   "id": "34361751",
   "metadata": {},
   "outputs": [
    {
     "name": "stderr",
     "output_type": "stream",
     "text": [
      "C:\\Users\\ADMIN\\AppData\\Local\\Temp\\ipykernel_4388\\2220816968.py:3: SettingWithCopyWarning: \n",
      "A value is trying to be set on a copy of a slice from a DataFrame.\n",
      "Try using .loc[row_indexer,col_indexer] = value instead\n",
      "\n",
      "See the caveats in the documentation: https://pandas.pydata.org/pandas-docs/stable/user_guide/indexing.html#returning-a-view-versus-a-copy\n",
      "  primary_data[\"party\"] = primary_data[\"party\"].astype(str).str.upper()\n",
      "C:\\Users\\ADMIN\\AppData\\Local\\Temp\\ipykernel_4388\\2220816968.py:5: SettingWithCopyWarning: \n",
      "A value is trying to be set on a copy of a slice from a DataFrame.\n",
      "Try using .loc[row_indexer,col_indexer] = value instead\n",
      "\n",
      "See the caveats in the documentation: https://pandas.pydata.org/pandas-docs/stable/user_guide/indexing.html#returning-a-view-versus-a-copy\n",
      "  primary_data[\"party\"] = primary_data.apply(\n",
      "C:\\Users\\ADMIN\\AppData\\Local\\Temp\\ipykernel_4388\\2220816968.py:9: SettingWithCopyWarning: \n",
      "A value is trying to be set on a copy of a slice from a DataFrame.\n",
      "Try using .loc[row_indexer,col_indexer] = value instead\n",
      "\n",
      "See the caveats in the documentation: https://pandas.pydata.org/pandas-docs/stable/user_guide/indexing.html#returning-a-view-versus-a-copy\n",
      "  primary_data[\"party\"] = (\n"
     ]
    },
    {
     "data": {
      "application/vnd.microsoft.datawrangler.viewer.v0+json": {
       "columns": [
        {
         "name": "party",
         "rawType": "object",
         "type": "string"
        },
        {
         "name": "count",
         "rawType": "int64",
         "type": "integer"
        }
       ],
       "ref": "2480e3b8-d464-4159-b1a2-5b92c9181242",
       "rows": [
        [
         "DEM",
         "576"
        ],
        [
         "REP",
         "576"
        ]
       ],
       "shape": {
        "columns": 1,
        "rows": 2
       }
      },
      "text/plain": [
       "party\n",
       "DEM    576\n",
       "REP    576\n",
       "Name: count, dtype: int64"
      ]
     },
     "execution_count": 28,
     "metadata": {},
     "output_type": "execute_result"
    }
   ],
   "source": [
    "# Cleaning Party\n",
    "# Turning all general data party to uppercase\n",
    "primary_data[\"party\"] = primary_data[\"party\"].astype(str).str.upper()\n",
    "\n",
    "primary_data[\"party\"] = primary_data.apply(\n",
    "    lambda row: fill_party_from_data(row, primary_data),\n",
    "    axis=1\n",
    ")\n",
    "primary_data[\"party\"] = (\n",
    "    primary_data[\"party\"]\n",
    "    .replace({\n",
    "        \"REPUBLICAN\": \"REP\",\n",
    "        \"R\": \"REP\",\n",
    "        \"DEMOCRATIC\": \"DEM\",\n",
    "        \"DEMOCRAT\":\"DEM\",\n",
    "        \"DEM\": \"DEM\",\n",
    "        \"D\": \"DEM\",\n",
    "        \"GREEN\": \"GRN\",\n",
    "        \"G\": \"GREEN\",\n",
    "        \"GREEN-RAINBOW\":\"GRN\",\n",
    "        \"LIBERTARIAN\": \"LIB\",\n",
    "        \"LBT\": \"LIB\",\n",
    "        \"L\": \"LIB\",\n",
    "        \"CONSTITUTION\": \"CON\",\n",
    "        \"NP\": \"IND\",\n",
    "        \"NON\": \"IND\",\n",
    "        \"WRI\": \"IND\",\n",
    "        \"WRITE-IN\": \"IND\",\n",
    "        \"ONA\": \"IND\",\n",
    "        \"GEN\": \"IND\",\n",
    "        \"NONE\":\"UNK\"\n",
    "    })\n",
    ")\n",
    "primary_data[\"party\"].value_counts(dropna=False)"
   ]
  },
  {
   "cell_type": "code",
   "execution_count": 29,
   "id": "a359cd18",
   "metadata": {},
   "outputs": [
    {
     "name": "stderr",
     "output_type": "stream",
     "text": [
      "C:\\Users\\ADMIN\\AppData\\Local\\Temp\\ipykernel_4388\\2521670330.py:1: SettingWithCopyWarning: \n",
      "A value is trying to be set on a copy of a slice from a DataFrame.\n",
      "Try using .loc[row_indexer,col_indexer] = value instead\n",
      "\n",
      "See the caveats in the documentation: https://pandas.pydata.org/pandas-docs/stable/user_guide/indexing.html#returning-a-view-versus-a-copy\n",
      "  primary_data.loc[:,\"candidate_column\"] = (\n"
     ]
    },
    {
     "data": {
      "application/vnd.microsoft.datawrangler.viewer.v0+json": {
       "columns": [
        {
         "name": "index",
         "rawType": "int64",
         "type": "integer"
        },
        {
         "name": "precinct",
         "rawType": "object",
         "type": "string"
        },
        {
         "name": "pri_dem_CLINTON",
         "rawType": "int64",
         "type": "integer"
        },
        {
         "name": "pri_dem_FUENTE",
         "rawType": "int64",
         "type": "integer"
        },
        {
         "name": "pri_dem_SANDERS",
         "rawType": "int64",
         "type": "integer"
        },
        {
         "name": "pri_dem_STEWART",
         "rawType": "int64",
         "type": "integer"
        },
        {
         "name": "pri_rep_CRUZ",
         "rawType": "int64",
         "type": "integer"
        },
        {
         "name": "pri_rep_KASICH",
         "rawType": "int64",
         "type": "integer"
        },
        {
         "name": "pri_rep_RUBIO",
         "rawType": "int64",
         "type": "integer"
        },
        {
         "name": "pri_rep_TRUMP",
         "rawType": "int64",
         "type": "integer"
        }
       ],
       "ref": "c2c7e44a-602b-45a0-9ec5-2b2e7560f5ae",
       "rows": [
        [
         "0",
         "BARRINGTON 0101",
         "214",
         "0",
         "251",
         "0",
         "34",
         "92",
         "2",
         "115"
        ],
        [
         "1",
         "BARRINGTON 0102",
         "336",
         "0",
         "347",
         "0",
         "29",
         "119",
         "2",
         "138"
        ],
        [
         "2",
         "BARRINGTON 0103",
         "313",
         "0",
         "216",
         "0",
         "25",
         "153",
         "4",
         "124"
        ],
        [
         "3",
         "BARRINGTON 0104",
         "316",
         "1",
         "299",
         "0",
         "23",
         "158",
         "3",
         "173"
        ],
        [
         "4",
         "BARRINGTON 0105",
         "311",
         "1",
         "286",
         "1",
         "33",
         "178",
         "3",
         "137"
        ],
        [
         "5",
         "BRISTOL 0202",
         "289",
         "0",
         "395",
         "0",
         "44",
         "115",
         "3",
         "181"
        ],
        [
         "6",
         "BRISTOL 0203",
         "487",
         "0",
         "455",
         "1",
         "53",
         "172",
         "4",
         "305"
        ],
        [
         "7",
         "BRISTOL 0205",
         "389",
         "1",
         "452",
         "2",
         "40",
         "125",
         "5",
         "290"
        ],
        [
         "8",
         "BURRILLVILLE 0302",
         "171",
         "1",
         "322",
         "2",
         "48",
         "47",
         "4",
         "302"
        ],
        [
         "9",
         "BURRILLVILLE 0303",
         "147",
         "0",
         "296",
         "0",
         "41",
         "74",
         "1",
         "322"
        ],
        [
         "10",
         "BURRILLVILLE 0305",
         "133",
         "0",
         "231",
         "2",
         "31",
         "76",
         "4",
         "300"
        ],
        [
         "11",
         "CENTRAL FALLS 0408",
         "850",
         "2",
         "580",
         "3",
         "14",
         "17",
         "1",
         "93"
        ],
        [
         "12",
         "CHARLESTOWN 0501",
         "226",
         "0",
         "444",
         "3",
         "41",
         "91",
         "1",
         "247"
        ],
        [
         "13",
         "CHARLESTOWN 0503",
         "187",
         "0",
         "297",
         "0",
         "25",
         "110",
         "3",
         "228"
        ],
        [
         "14",
         "COVENTRY 0603",
         "250",
         "0",
         "411",
         "2",
         "47",
         "78",
         "3",
         "380"
        ],
        [
         "15",
         "COVENTRY 0605",
         "216",
         "1",
         "379",
         "3",
         "69",
         "122",
         "3",
         "455"
        ],
        [
         "16",
         "COVENTRY 0607",
         "230",
         "0",
         "397",
         "0",
         "51",
         "113",
         "3",
         "377"
        ],
        [
         "17",
         "COVENTRY 0611",
         "271",
         "2",
         "392",
         "1",
         "63",
         "124",
         "2",
         "513"
        ],
        [
         "18",
         "COVENTRY 0613",
         "227",
         "2",
         "440",
         "1",
         "41",
         "76",
         "1",
         "333"
        ],
        [
         "19",
         "CRANSTON 0701",
         "420",
         "2",
         "578",
         "1",
         "46",
         "54",
         "3",
         "335"
        ],
        [
         "20",
         "CRANSTON 0706",
         "540",
         "1",
         "608",
         "1",
         "69",
         "287",
         "4",
         "1078"
        ],
        [
         "21",
         "CRANSTON 0726",
         "598",
         "3",
         "852",
         "2",
         "72",
         "122",
         "6",
         "446"
        ],
        [
         "22",
         "CRANSTON 0727",
         "876",
         "2",
         "1255",
         "1",
         "66",
         "177",
         "5",
         "365"
        ],
        [
         "23",
         "CRANSTON 0728",
         "509",
         "2",
         "603",
         "1",
         "62",
         "194",
         "10",
         "713"
        ],
        [
         "24",
         "CRANSTON 0731",
         "495",
         "1",
         "577",
         "0",
         "77",
         "145",
         "3",
         "774"
        ],
        [
         "25",
         "CUMBERLAND 0801",
         "505",
         "5",
         "694",
         "6",
         "77",
         "188",
         "6",
         "403"
        ],
        [
         "26",
         "CUMBERLAND 0808",
         "667",
         "4",
         "841",
         "4",
         "114",
         "317",
         "5",
         "625"
        ],
        [
         "27",
         "CUMBERLAND 0812",
         "636",
         "3",
         "879",
         "2",
         "81",
         "145",
         "3",
         "383"
        ],
        [
         "28",
         "EAST GREENWICH 0903",
         "762",
         "0",
         "735",
         "1",
         "105",
         "616",
         "11",
         "824"
        ],
        [
         "29",
         "EAST PROVIDENCE 1004",
         "780",
         "3",
         "826",
         "6",
         "66",
         "171",
         "4",
         "383"
        ],
        [
         "30",
         "EAST PROVIDENCE 1007",
         "574",
         "2",
         "684",
         "4",
         "58",
         "90",
         "2",
         "281"
        ],
        [
         "31",
         "EAST PROVIDENCE 1008",
         "470",
         "4",
         "593",
         "1",
         "34",
         "35",
         "1",
         "197"
        ],
        [
         "32",
         "EAST PROVIDENCE 1015",
         "665",
         "1",
         "975",
         "2",
         "87",
         "165",
         "2",
         "410"
        ],
        [
         "33",
         "EXETER 1103",
         "239",
         "1",
         "450",
         "1",
         "80",
         "164",
         "3",
         "484"
        ],
        [
         "34",
         "FOSTER 1201",
         "144",
         "2",
         "341",
         "0",
         "50",
         "105",
         "1",
         "357"
        ],
        [
         "35",
         "GLOCESTER 1303",
         "306",
         "2",
         "694",
         "1",
         "118",
         "150",
         "3",
         "684"
        ],
        [
         "36",
         "HOPKINTON 1401",
         "243",
         "1",
         "549",
         "4",
         "89",
         "99",
         "4",
         "431"
        ],
        [
         "37",
         "JAMESTOWN 1501",
         "542",
         "1",
         "686",
         "0",
         "53",
         "230",
         "3",
         "319"
        ],
        [
         "38",
         "JOHNSTON 1601",
         "123",
         "2",
         "145",
         "3",
         "17",
         "15",
         "1",
         "94"
        ],
        [
         "39",
         "JOHNSTON 1602",
         "481",
         "4",
         "603",
         "7",
         "36",
         "53",
         "1",
         "416"
        ],
        [
         "40",
         "JOHNSTON 1609",
         "623",
         "0",
         "782",
         "6",
         "56",
         "71",
         "7",
         "554"
        ],
        [
         "41",
         "JOHNSTON 1613",
         "104",
         "1",
         "130",
         "0",
         "33",
         "37",
         "2",
         "131"
        ],
        [
         "42",
         "LINCOLN 1703",
         "249",
         "0",
         "306",
         "0",
         "37",
         "101",
         "1",
         "262"
        ],
        [
         "43",
         "LINCOLN 1706",
         "372",
         "0",
         "448",
         "2",
         "53",
         "148",
         "3",
         "479"
        ],
        [
         "44",
         "LINCOLN 1707",
         "271",
         "1",
         "391",
         "1",
         "48",
         "139",
         "2",
         "359"
        ],
        [
         "45",
         "LINCOLN 1711",
         "116",
         "2",
         "181",
         "1",
         "29",
         "35",
         "1",
         "90"
        ],
        [
         "46",
         "LITTLE COMPTON 1801",
         "255",
         "0",
         "314",
         "0",
         "40",
         "113",
         "3",
         "268"
        ],
        [
         "47",
         "MIDDLETOWN 1901",
         "141",
         "1",
         "167",
         "0",
         "13",
         "79",
         "2",
         "107"
        ],
        [
         "48",
         "MIDDLETOWN 1902",
         "319",
         "1",
         "424",
         "0",
         "60",
         "126",
         "1",
         "219"
        ],
        [
         "49",
         "MIDDLETOWN 1905",
         "233",
         "1",
         "384",
         "1",
         "63",
         "83",
         "6",
         "198"
        ]
       ],
       "shape": {
        "columns": 9,
        "rows": 144
       }
      },
      "text/html": [
       "<div>\n",
       "<style scoped>\n",
       "    .dataframe tbody tr th:only-of-type {\n",
       "        vertical-align: middle;\n",
       "    }\n",
       "\n",
       "    .dataframe tbody tr th {\n",
       "        vertical-align: top;\n",
       "    }\n",
       "\n",
       "    .dataframe thead th {\n",
       "        text-align: right;\n",
       "    }\n",
       "</style>\n",
       "<table border=\"1\" class=\"dataframe\">\n",
       "  <thead>\n",
       "    <tr style=\"text-align: right;\">\n",
       "      <th>candidate_column</th>\n",
       "      <th>precinct</th>\n",
       "      <th>pri_dem_CLINTON</th>\n",
       "      <th>pri_dem_FUENTE</th>\n",
       "      <th>pri_dem_SANDERS</th>\n",
       "      <th>pri_dem_STEWART</th>\n",
       "      <th>pri_rep_CRUZ</th>\n",
       "      <th>pri_rep_KASICH</th>\n",
       "      <th>pri_rep_RUBIO</th>\n",
       "      <th>pri_rep_TRUMP</th>\n",
       "    </tr>\n",
       "  </thead>\n",
       "  <tbody>\n",
       "    <tr>\n",
       "      <th>0</th>\n",
       "      <td>BARRINGTON 0101</td>\n",
       "      <td>214</td>\n",
       "      <td>0</td>\n",
       "      <td>251</td>\n",
       "      <td>0</td>\n",
       "      <td>34</td>\n",
       "      <td>92</td>\n",
       "      <td>2</td>\n",
       "      <td>115</td>\n",
       "    </tr>\n",
       "    <tr>\n",
       "      <th>1</th>\n",
       "      <td>BARRINGTON 0102</td>\n",
       "      <td>336</td>\n",
       "      <td>0</td>\n",
       "      <td>347</td>\n",
       "      <td>0</td>\n",
       "      <td>29</td>\n",
       "      <td>119</td>\n",
       "      <td>2</td>\n",
       "      <td>138</td>\n",
       "    </tr>\n",
       "    <tr>\n",
       "      <th>2</th>\n",
       "      <td>BARRINGTON 0103</td>\n",
       "      <td>313</td>\n",
       "      <td>0</td>\n",
       "      <td>216</td>\n",
       "      <td>0</td>\n",
       "      <td>25</td>\n",
       "      <td>153</td>\n",
       "      <td>4</td>\n",
       "      <td>124</td>\n",
       "    </tr>\n",
       "    <tr>\n",
       "      <th>3</th>\n",
       "      <td>BARRINGTON 0104</td>\n",
       "      <td>316</td>\n",
       "      <td>1</td>\n",
       "      <td>299</td>\n",
       "      <td>0</td>\n",
       "      <td>23</td>\n",
       "      <td>158</td>\n",
       "      <td>3</td>\n",
       "      <td>173</td>\n",
       "    </tr>\n",
       "    <tr>\n",
       "      <th>4</th>\n",
       "      <td>BARRINGTON 0105</td>\n",
       "      <td>311</td>\n",
       "      <td>1</td>\n",
       "      <td>286</td>\n",
       "      <td>1</td>\n",
       "      <td>33</td>\n",
       "      <td>178</td>\n",
       "      <td>3</td>\n",
       "      <td>137</td>\n",
       "    </tr>\n",
       "    <tr>\n",
       "      <th>...</th>\n",
       "      <td>...</td>\n",
       "      <td>...</td>\n",
       "      <td>...</td>\n",
       "      <td>...</td>\n",
       "      <td>...</td>\n",
       "      <td>...</td>\n",
       "      <td>...</td>\n",
       "      <td>...</td>\n",
       "      <td>...</td>\n",
       "    </tr>\n",
       "    <tr>\n",
       "      <th>139</th>\n",
       "      <td>WOONSOCKET 3902</td>\n",
       "      <td>159</td>\n",
       "      <td>0</td>\n",
       "      <td>105</td>\n",
       "      <td>1</td>\n",
       "      <td>5</td>\n",
       "      <td>7</td>\n",
       "      <td>4</td>\n",
       "      <td>62</td>\n",
       "    </tr>\n",
       "    <tr>\n",
       "      <th>140</th>\n",
       "      <td>WOONSOCKET 3903</td>\n",
       "      <td>337</td>\n",
       "      <td>1</td>\n",
       "      <td>394</td>\n",
       "      <td>2</td>\n",
       "      <td>39</td>\n",
       "      <td>31</td>\n",
       "      <td>4</td>\n",
       "      <td>181</td>\n",
       "    </tr>\n",
       "    <tr>\n",
       "      <th>141</th>\n",
       "      <td>WOONSOCKET 3905</td>\n",
       "      <td>124</td>\n",
       "      <td>0</td>\n",
       "      <td>164</td>\n",
       "      <td>1</td>\n",
       "      <td>14</td>\n",
       "      <td>10</td>\n",
       "      <td>0</td>\n",
       "      <td>67</td>\n",
       "    </tr>\n",
       "    <tr>\n",
       "      <th>142</th>\n",
       "      <td>WOONSOCKET 3907</td>\n",
       "      <td>339</td>\n",
       "      <td>2</td>\n",
       "      <td>488</td>\n",
       "      <td>0</td>\n",
       "      <td>49</td>\n",
       "      <td>62</td>\n",
       "      <td>2</td>\n",
       "      <td>313</td>\n",
       "    </tr>\n",
       "    <tr>\n",
       "      <th>143</th>\n",
       "      <td>WOONSOCKET 3909</td>\n",
       "      <td>363</td>\n",
       "      <td>0</td>\n",
       "      <td>523</td>\n",
       "      <td>2</td>\n",
       "      <td>36</td>\n",
       "      <td>66</td>\n",
       "      <td>2</td>\n",
       "      <td>394</td>\n",
       "    </tr>\n",
       "  </tbody>\n",
       "</table>\n",
       "<p>144 rows × 9 columns</p>\n",
       "</div>"
      ],
      "text/plain": [
       "candidate_column         precinct  pri_dem_CLINTON  pri_dem_FUENTE  \\\n",
       "0                 BARRINGTON 0101              214               0   \n",
       "1                 BARRINGTON 0102              336               0   \n",
       "2                 BARRINGTON 0103              313               0   \n",
       "3                 BARRINGTON 0104              316               1   \n",
       "4                 BARRINGTON 0105              311               1   \n",
       "..                            ...              ...             ...   \n",
       "139               WOONSOCKET 3902              159               0   \n",
       "140               WOONSOCKET 3903              337               1   \n",
       "141               WOONSOCKET 3905              124               0   \n",
       "142               WOONSOCKET 3907              339               2   \n",
       "143               WOONSOCKET 3909              363               0   \n",
       "\n",
       "candidate_column  pri_dem_SANDERS  pri_dem_STEWART  pri_rep_CRUZ  \\\n",
       "0                             251                0            34   \n",
       "1                             347                0            29   \n",
       "2                             216                0            25   \n",
       "3                             299                0            23   \n",
       "4                             286                1            33   \n",
       "..                            ...              ...           ...   \n",
       "139                           105                1             5   \n",
       "140                           394                2            39   \n",
       "141                           164                1            14   \n",
       "142                           488                0            49   \n",
       "143                           523                2            36   \n",
       "\n",
       "candidate_column  pri_rep_KASICH  pri_rep_RUBIO  pri_rep_TRUMP  \n",
       "0                             92              2            115  \n",
       "1                            119              2            138  \n",
       "2                            153              4            124  \n",
       "3                            158              3            173  \n",
       "4                            178              3            137  \n",
       "..                           ...            ...            ...  \n",
       "139                            7              4             62  \n",
       "140                           31              4            181  \n",
       "141                           10              0             67  \n",
       "142                           62              2            313  \n",
       "143                           66              2            394  \n",
       "\n",
       "[144 rows x 9 columns]"
      ]
     },
     "execution_count": 29,
     "metadata": {},
     "output_type": "execute_result"
    }
   ],
   "source": [
    "primary_data.loc[:,\"candidate_column\"] = (\n",
    "    \"pri_\" +\n",
    "    primary_data[\"party\"].str.lower() + \"_\" +\n",
    "    primary_data[\"candidate\"]\n",
    ")\n",
    "\n",
    "# pivot the table\n",
    "primary_result = primary_data.pivot_table(\n",
    "    index=\"precinct\",\n",
    "    columns=\"candidate_column\",\n",
    "    values=\"votes\",\n",
    "    aggfunc=\"sum\",  \n",
    "    fill_value=0\n",
    ").reset_index()\n",
    "\n",
    "primary_result"
   ]
  },
  {
   "cell_type": "code",
   "execution_count": 39,
   "id": "f1ef9692",
   "metadata": {},
   "outputs": [
    {
     "data": {
      "text/plain": [
       "['C:\\\\Huy Phan\\\\College\\\\VoterTurnout\\\\data\\\\RI\\\\20161108__ri__general__precinct.csv']"
      ]
     },
     "execution_count": 39,
     "metadata": {},
     "output_type": "execute_result"
    }
   ],
   "source": [
    "# Process general files\n",
    "general_df_list = []\n",
    "\n",
    "for file in general_files:\n",
    "    try:\n",
    "        df = pd.read_csv(file)\n",
    "        \n",
    "        # Combine precinct as county + precinct\n",
    "        df[\"precinct\"] = df[\"precinct\"].astype(str)\n",
    "        df[\"precinct\"] = df[\"precinct\"].str.upper()\n",
    "\n",
    "        # Cleaning maybe total precinct\n",
    "        if 'precinct' in df.columns:\n",
    "            df['precinct'] = df['precinct'].astype(str)                  \n",
    "            df = df[df['precinct'].str.upper() != \"TOTAL\"]               \n",
    "            df = df[df['precinct'].str.strip().str.upper() != \"TOTAL\"]   \n",
    "            df = df[df['precinct'].str.upper() != \"NAN\"]                \n",
    "        \n",
    "        if 'county' in df.columns:\n",
    "            df['county'] = df['county'].astype(str)                  \n",
    "            df = df[df['county'].str.upper() != \"TOTAL\"]               \n",
    "            df = df[df['county'].str.strip().str.upper() != \"TOTAL\"]   \n",
    "            df = df[df['county'].str.upper() != \"NAN\"]       \n",
    "            df = df[~df['county'].str.upper().str.contains(r\"\\w*TOTAL\\w*\", na=False)]      \n",
    "            \n",
    "        # Filtering out only President \n",
    "        if 'office' in df.columns:\n",
    "            df = df[df[\"office\"].str.upper() == \"PRESIDENT\"]\n",
    "        \n",
    "        # Dropping duplicates value\n",
    "        df = df.drop_duplicates()\n",
    "        \n",
    "        general_df_list.append(df)\n",
    "\n",
    "    except Exception as e:\n",
    "        print(f\"Error in {file}: {e}\")\n",
    "\n",
    "# Combine all cleaned files\n",
    "gen_combined_df = pd.concat(general_df_list, ignore_index=True)\n",
    "\n",
    "# Checking any suspicious precinct\n",
    "suspicious_precincts = gen_combined_df[\n",
    "    gen_combined_df[\"precinct\"].str.strip().str.upper().isin([\"TOTAL\", \"NAN\"])\n",
    "]\n",
    "general_files\n"
   ]
  },
  {
   "cell_type": "code",
   "execution_count": 40,
   "id": "1bbbd54d",
   "metadata": {},
   "outputs": [
    {
     "data": {
      "application/vnd.microsoft.datawrangler.viewer.v0+json": {
       "columns": [
        {
         "name": "index",
         "rawType": "int64",
         "type": "integer"
        },
        {
         "name": "precinct",
         "rawType": "object",
         "type": "string"
        },
        {
         "name": "party",
         "rawType": "object",
         "type": "unknown"
        },
        {
         "name": "candidate",
         "rawType": "object",
         "type": "string"
        },
        {
         "name": "votes",
         "rawType": "int64",
         "type": "integer"
        }
       ],
       "ref": "8e8ba295-a5d0-400e-93e3-dfc48aa71288",
       "rows": [
        [
         "0",
         "BARRINGTON 0101",
         "R",
         "Donald J. Trump",
         "522"
        ],
        [
         "1",
         "BARRINGTON 0102",
         "R",
         "Donald J. Trump",
         "683"
        ],
        [
         "2",
         "BARRINGTON 0103",
         "R",
         "Donald J. Trump",
         "469"
        ],
        [
         "3",
         "BARRINGTON 0104",
         "R",
         "Donald J. Trump",
         "611"
        ],
        [
         "4",
         "BARRINGTON 0105",
         "R",
         "Donald J. Trump",
         "590"
        ],
        [
         "5",
         "BARRINGTON LIMITED",
         "R",
         "Donald J. Trump",
         "0"
        ],
        [
         "6",
         "BARRINGTON PRESIDENTIAL",
         "R",
         "Donald J. Trump",
         "23"
        ],
        [
         "7",
         "BRISTOL 0201",
         "R",
         "Donald J. Trump",
         "472"
        ],
        [
         "8",
         "BRISTOL 0202",
         "R",
         "Donald J. Trump",
         "185"
        ],
        [
         "9",
         "BRISTOL 0203",
         "R",
         "Donald J. Trump",
         "806"
        ],
        [
         "10",
         "BRISTOL 0204",
         "R",
         "Donald J. Trump",
         "498"
        ],
        [
         "11",
         "BRISTOL 0205",
         "R",
         "Donald J. Trump",
         "727"
        ],
        [
         "12",
         "BRISTOL 0206",
         "R",
         "Donald J. Trump",
         "478"
        ],
        [
         "13",
         "BRISTOL 0207",
         "R",
         "Donald J. Trump",
         "290"
        ],
        [
         "14",
         "BRISTOL 0208",
         "R",
         "Donald J. Trump",
         "398"
        ],
        [
         "15",
         "BRISTOL 0209",
         "R",
         "Donald J. Trump",
         "100"
        ],
        [
         "16",
         "BRISTOL LIMITED",
         "R",
         "Donald J. Trump",
         "0"
        ],
        [
         "17",
         "BRISTOL PRESIDENTIAL",
         "R",
         "Donald J. Trump",
         "126"
        ],
        [
         "18",
         "BURRILLVILLE 0301",
         "R",
         "Donald J. Trump",
         "661"
        ],
        [
         "19",
         "BURRILLVILLE 0302",
         "R",
         "Donald J. Trump",
         "715"
        ],
        [
         "20",
         "BURRILLVILLE 0303",
         "R",
         "Donald J. Trump",
         "880"
        ],
        [
         "21",
         "BURRILLVILLE 0304",
         "R",
         "Donald J. Trump",
         "516"
        ],
        [
         "22",
         "BURRILLVILLE 0305",
         "R",
         "Donald J. Trump",
         "579"
        ],
        [
         "23",
         "BURRILLVILLE 0306",
         "R",
         "Donald J. Trump",
         "703"
        ],
        [
         "24",
         "BURRILLVILLE LIMITED",
         "R",
         "Donald J. Trump",
         "0"
        ],
        [
         "25",
         "BURRILLVILLE PRESIDENTIAL",
         "R",
         "Donald J. Trump",
         "85"
        ],
        [
         "26",
         "CENTRAL FALLS 0401",
         "R",
         "Donald J. Trump",
         "103"
        ],
        [
         "27",
         "CENTRAL FALLS 0402",
         "R",
         "Donald J. Trump",
         "63"
        ],
        [
         "28",
         "CENTRAL FALLS 0403",
         "R",
         "Donald J. Trump",
         "92"
        ],
        [
         "29",
         "CENTRAL FALLS 0404",
         "R",
         "Donald J. Trump",
         "80"
        ],
        [
         "30",
         "CENTRAL FALLS 0405",
         "R",
         "Donald J. Trump",
         "40"
        ],
        [
         "31",
         "CENTRAL FALLS 0406",
         "R",
         "Donald J. Trump",
         "137"
        ],
        [
         "32",
         "CENTRAL FALLS 0407",
         "R",
         "Donald J. Trump",
         "31"
        ],
        [
         "33",
         "CENTRAL FALLS 0408",
         "R",
         "Donald J. Trump",
         "98"
        ],
        [
         "34",
         "CENTRAL FALLS LIMITED",
         "R",
         "Donald J. Trump",
         "0"
        ],
        [
         "35",
         "CENTRAL FALLS PRESIDENTIAL",
         "R",
         "Donald J. Trump",
         "13"
        ],
        [
         "36",
         "CHARLESTOWN 0501",
         "R",
         "Donald J. Trump",
         "521"
        ],
        [
         "37",
         "CHARLESTOWN 0502",
         "R",
         "Donald J. Trump",
         "531"
        ],
        [
         "38",
         "CHARLESTOWN 0503",
         "R",
         "Donald J. Trump",
         "453"
        ],
        [
         "39",
         "CHARLESTOWN 0504",
         "R",
         "Donald J. Trump",
         "362"
        ],
        [
         "40",
         "CHARLESTOWN LIMITED",
         "R",
         "Donald J. Trump",
         "0"
        ],
        [
         "41",
         "CHARLESTOWN PRESIDENTIAL",
         "R",
         "Donald J. Trump",
         "39"
        ],
        [
         "42",
         "COVENTRY 0601",
         "R",
         "Donald J. Trump",
         "541"
        ],
        [
         "43",
         "COVENTRY 0602",
         "R",
         "Donald J. Trump",
         "130"
        ],
        [
         "44",
         "COVENTRY 0603",
         "R",
         "Donald J. Trump",
         "820"
        ],
        [
         "45",
         "COVENTRY 0604",
         "R",
         "Donald J. Trump",
         "527"
        ],
        [
         "46",
         "COVENTRY 0605",
         "R",
         "Donald J. Trump",
         "598"
        ],
        [
         "47",
         "COVENTRY 0606",
         "R",
         "Donald J. Trump",
         "339"
        ],
        [
         "48",
         "COVENTRY 0607",
         "R",
         "Donald J. Trump",
         "706"
        ],
        [
         "49",
         "COVENTRY 0608",
         "R",
         "Donald J. Trump",
         "676"
        ]
       ],
       "shape": {
        "columns": 4,
        "rows": 3006
       }
      },
      "text/html": [
       "<div>\n",
       "<style scoped>\n",
       "    .dataframe tbody tr th:only-of-type {\n",
       "        vertical-align: middle;\n",
       "    }\n",
       "\n",
       "    .dataframe tbody tr th {\n",
       "        vertical-align: top;\n",
       "    }\n",
       "\n",
       "    .dataframe thead th {\n",
       "        text-align: right;\n",
       "    }\n",
       "</style>\n",
       "<table border=\"1\" class=\"dataframe\">\n",
       "  <thead>\n",
       "    <tr style=\"text-align: right;\">\n",
       "      <th></th>\n",
       "      <th>precinct</th>\n",
       "      <th>party</th>\n",
       "      <th>candidate</th>\n",
       "      <th>votes</th>\n",
       "    </tr>\n",
       "  </thead>\n",
       "  <tbody>\n",
       "    <tr>\n",
       "      <th>0</th>\n",
       "      <td>BARRINGTON 0101</td>\n",
       "      <td>R</td>\n",
       "      <td>Donald J. Trump</td>\n",
       "      <td>522</td>\n",
       "    </tr>\n",
       "    <tr>\n",
       "      <th>1</th>\n",
       "      <td>BARRINGTON 0102</td>\n",
       "      <td>R</td>\n",
       "      <td>Donald J. Trump</td>\n",
       "      <td>683</td>\n",
       "    </tr>\n",
       "    <tr>\n",
       "      <th>2</th>\n",
       "      <td>BARRINGTON 0103</td>\n",
       "      <td>R</td>\n",
       "      <td>Donald J. Trump</td>\n",
       "      <td>469</td>\n",
       "    </tr>\n",
       "    <tr>\n",
       "      <th>3</th>\n",
       "      <td>BARRINGTON 0104</td>\n",
       "      <td>R</td>\n",
       "      <td>Donald J. Trump</td>\n",
       "      <td>611</td>\n",
       "    </tr>\n",
       "    <tr>\n",
       "      <th>4</th>\n",
       "      <td>BARRINGTON 0105</td>\n",
       "      <td>R</td>\n",
       "      <td>Donald J. Trump</td>\n",
       "      <td>590</td>\n",
       "    </tr>\n",
       "    <tr>\n",
       "      <th>...</th>\n",
       "      <td>...</td>\n",
       "      <td>...</td>\n",
       "      <td>...</td>\n",
       "      <td>...</td>\n",
       "    </tr>\n",
       "    <tr>\n",
       "      <th>3001</th>\n",
       "      <td>WOONSOCKET 3912</td>\n",
       "      <td>NaN</td>\n",
       "      <td>WRITE-IN</td>\n",
       "      <td>17</td>\n",
       "    </tr>\n",
       "    <tr>\n",
       "      <th>3002</th>\n",
       "      <td>WOONSOCKET LIMITED</td>\n",
       "      <td>NaN</td>\n",
       "      <td>WRITE-IN</td>\n",
       "      <td>0</td>\n",
       "    </tr>\n",
       "    <tr>\n",
       "      <th>3003</th>\n",
       "      <td>WOONSOCKET PRESIDENTIAL</td>\n",
       "      <td>NaN</td>\n",
       "      <td>WRITE-IN</td>\n",
       "      <td>4</td>\n",
       "    </tr>\n",
       "    <tr>\n",
       "      <th>3004</th>\n",
       "      <td>FEDERAL PRECINCT #1</td>\n",
       "      <td>NaN</td>\n",
       "      <td>WRITE-IN</td>\n",
       "      <td>1</td>\n",
       "    </tr>\n",
       "    <tr>\n",
       "      <th>3005</th>\n",
       "      <td>FEDERAL PRECINCT #2</td>\n",
       "      <td>NaN</td>\n",
       "      <td>WRITE-IN</td>\n",
       "      <td>4</td>\n",
       "    </tr>\n",
       "  </tbody>\n",
       "</table>\n",
       "<p>3006 rows × 4 columns</p>\n",
       "</div>"
      ],
      "text/plain": [
       "                     precinct party        candidate  votes\n",
       "0             BARRINGTON 0101     R  Donald J. Trump    522\n",
       "1             BARRINGTON 0102     R  Donald J. Trump    683\n",
       "2             BARRINGTON 0103     R  Donald J. Trump    469\n",
       "3             BARRINGTON 0104     R  Donald J. Trump    611\n",
       "4             BARRINGTON 0105     R  Donald J. Trump    590\n",
       "...                       ...   ...              ...    ...\n",
       "3001          WOONSOCKET 3912   NaN         WRITE-IN     17\n",
       "3002       WOONSOCKET LIMITED   NaN         WRITE-IN      0\n",
       "3003  WOONSOCKET PRESIDENTIAL   NaN         WRITE-IN      4\n",
       "3004      FEDERAL PRECINCT #1   NaN         WRITE-IN      1\n",
       "3005      FEDERAL PRECINCT #2   NaN         WRITE-IN      4\n",
       "\n",
       "[3006 rows x 4 columns]"
      ]
     },
     "execution_count": 40,
     "metadata": {},
     "output_type": "execute_result"
    }
   ],
   "source": [
    "# Select only the relevant columns\n",
    "general_data = gen_combined_df[[\"precinct\", \"party\", \"candidate\", \"votes\"]]\n",
    "\n",
    "general_data"
   ]
  },
  {
   "cell_type": "code",
   "execution_count": 41,
   "id": "38fba0f1",
   "metadata": {},
   "outputs": [
    {
     "data": {
      "application/vnd.microsoft.datawrangler.viewer.v0+json": {
       "columns": [
        {
         "name": "candidate",
         "rawType": "object",
         "type": "string"
        },
        {
         "name": "count",
         "rawType": "int64",
         "type": "integer"
        }
       ],
       "ref": "d122a82e-00a0-441f-8c8f-dc7d585f17ae",
       "rows": [
        [
         "Donald J. Trump",
         "501"
        ],
        [
         "Hillary Clinton",
         "501"
        ],
        [
         "Gary Johnson",
         "501"
        ],
        [
         "Jill Stein",
         "501"
        ],
        [
         "\"Rocky\" Roque De La Fuente",
         "501"
        ],
        [
         "WRITE-IN",
         "501"
        ]
       ],
       "shape": {
        "columns": 1,
        "rows": 6
       }
      },
      "text/plain": [
       "candidate\n",
       "Donald J. Trump               501\n",
       "Hillary Clinton               501\n",
       "Gary Johnson                  501\n",
       "Jill Stein                    501\n",
       "\"Rocky\" Roque De La Fuente    501\n",
       "WRITE-IN                      501\n",
       "Name: count, dtype: int64"
      ]
     },
     "execution_count": 41,
     "metadata": {},
     "output_type": "execute_result"
    }
   ],
   "source": [
    "# Viewing candidate data\n",
    "general_data[\"candidate\"].value_counts(dropna=False)"
   ]
  },
  {
   "cell_type": "code",
   "execution_count": 42,
   "id": "90417a20",
   "metadata": {},
   "outputs": [
    {
     "name": "stderr",
     "output_type": "stream",
     "text": [
      "C:\\Users\\ADMIN\\AppData\\Local\\Temp\\ipykernel_4388\\3377887466.py:4: SettingWithCopyWarning: \n",
      "A value is trying to be set on a copy of a slice from a DataFrame.\n",
      "Try using .loc[row_indexer,col_indexer] = value instead\n",
      "\n",
      "See the caveats in the documentation: https://pandas.pydata.org/pandas-docs/stable/user_guide/indexing.html#returning-a-view-versus-a-copy\n",
      "  general_data[\"candidate\"] = general_data[\"candidate\"].astype(str).str.upper()\n",
      "C:\\Users\\ADMIN\\AppData\\Local\\Temp\\ipykernel_4388\\3377887466.py:107: SettingWithCopyWarning: \n",
      "A value is trying to be set on a copy of a slice from a DataFrame.\n",
      "Try using .loc[row_indexer,col_indexer] = value instead\n",
      "\n",
      "See the caveats in the documentation: https://pandas.pydata.org/pandas-docs/stable/user_guide/indexing.html#returning-a-view-versus-a-copy\n",
      "  general_data[\"candidate\"] = general_data[\"candidate\"].str.split().str[-1]\n"
     ]
    },
    {
     "data": {
      "application/vnd.microsoft.datawrangler.viewer.v0+json": {
       "columns": [
        {
         "name": "candidate",
         "rawType": "object",
         "type": "string"
        },
        {
         "name": "count",
         "rawType": "int64",
         "type": "integer"
        }
       ],
       "ref": "3e27414d-09e0-404b-8ed1-16a16213c409",
       "rows": [
        [
         "TRUMP",
         "501"
        ],
        [
         "CLINTON",
         "501"
        ],
        [
         "JOHNSON",
         "501"
        ],
        [
         "STEIN",
         "501"
        ],
        [
         "FUENTE",
         "501"
        ]
       ],
       "shape": {
        "columns": 1,
        "rows": 5
       }
      },
      "text/plain": [
       "candidate\n",
       "TRUMP      501\n",
       "CLINTON    501\n",
       "JOHNSON    501\n",
       "STEIN      501\n",
       "FUENTE     501\n",
       "Name: count, dtype: int64"
      ]
     },
     "execution_count": 42,
     "metadata": {},
     "output_type": "execute_result"
    }
   ],
   "source": [
    "# Cleaning Candidates\n",
    "\n",
    "# Turning all general data to uppercase\n",
    "general_data[\"candidate\"] = general_data[\"candidate\"].astype(str).str.upper()\n",
    "\n",
    "\n",
    "unwanted_keywords = [\n",
    "    r\"\\w*VOTE\\w*\",\n",
    "    r\"\\w*UNCOM\\w*\",\n",
    "    r\"\\w*TOTAL\\w*\",\n",
    "    r\"\\w*WRITE[\\s-]\\w*\",\n",
    "    r\"NAN\",\n",
    "    r\"UNCERTIFIED\",\n",
    "    r\"UNVERIFIED\",\n",
    "    r\"NONE OF THE ABOVE\",\n",
    "    r\"LBT\",\n",
    "    r\"DEM\",\n",
    "    r\"REP\",\n",
    "    r\"GRN\",\n",
    "    r\"NAN\"\n",
    "\n",
    "]\n",
    "\n",
    "# Fixing FUENTE\n",
    "general_data.loc[\n",
    "    general_data[\"candidate\"].str.contains(\"\\w*Fuenta\\w*\", case=False, na=False),\n",
    "    \"candidate\"\n",
    "] = \"FUENTE\"\n",
    "pattern = \"|\".join(unwanted_keywords)\n",
    "\n",
    "# # FILTER OUT TRASH WORDS\n",
    "general_data = general_data[~general_data[\"candidate\"].str.upper().str.contains(pattern, regex=True, na=False)]\n",
    "\n",
    "# # Fixing Darrell Castle\"\n",
    "# general_data.loc[\n",
    "#     general_data[\"candidate\"].str.contains(\"\\w*ASTLE\\w*\", case=False, na=False),\n",
    "#     \"candidate\"\n",
    "# ] = \"CASTLE\"\n",
    "\n",
    "# general_data.loc[\n",
    "#     general_data[\"candidate\"].str.contains(\"\\w*ATUREN\\w*\", case=False, na=False),\n",
    "#     \"candidate\"\n",
    "# ] = \"MATUREN\"\n",
    "\n",
    "# # Fixing mixed president + vice_president by /\n",
    "# general_data[\"candidate\"] = (\n",
    "#     general_data[\"candidate\"].str.split(\"/\")\n",
    "#     .str[0]\n",
    "#     .str.strip()\n",
    "#     )\n",
    "\n",
    "# #Selecting only last name\n",
    "# general_data[\"candidate\"] = general_data[\"candidate\"].str.split().str[-1]\n",
    "\n",
    "# # Fixing the , candidate\n",
    "# # general_data[\"candidate\"] = (\n",
    "# #     general_data[\"candidate\"].str.split(\",\")\n",
    "# #     .str[0]\n",
    "# #     .str.strip()\n",
    "# #     )\n",
    "\n",
    "\n",
    "\n",
    "\n",
    "# # Fixing Cubbler\n",
    "# general_data.loc[\n",
    "#     ( \n",
    "#         general_data[\"candidate\"].str.contains(\"\\w*UBBIER\\w*\", case=False, na=False)|\n",
    "#         general_data[\"candidate\"].str.contains(\"\\w*UBLER\\w*\", case=False, na=False)|\n",
    "#         general_data[\"candidate\"].str.contains(\"\\w*OBBLER\\w*\", case=False, na=False),\n",
    "#     \"candidate\")\n",
    "# ] = \"CUBBLER\"\n",
    "\n",
    "\n",
    "# # Fixing Kotlikoff\n",
    "# general_data.loc[\n",
    "#     general_data[\"candidate\"].str.contains(\"\\w*TIKOFF\\w*\", case=False, na=False),\n",
    "#     \"candidate\"\n",
    "# ] = \"KOTLIKOFF\"\n",
    "\n",
    "# # Fixing Valdivia\n",
    "# general_data.loc[\n",
    "#     general_data[\"candidate\"].str.contains(\"\\w*VALDIVA\\W*\", case=False, na=False),\n",
    "#     \"candidate\"\n",
    "# ] = \"VALDIVIA\"\n",
    "\n",
    "# # Fixing HOEFLING\n",
    "# general_data.loc[\n",
    "#     general_data[\"candidate\"].str.contains(\"\\w*HOEFFLING\", case=False, na=False),\n",
    "#     \"candidate\"\n",
    "# ] = \"HOEFLING\"\n",
    "\n",
    "\n",
    "# # Fixing McMullin\n",
    "# general_data.loc[\n",
    "#     general_data[\"candidate\"].str.contains(\"MCMULLEN\", case=False, na=False) ,\n",
    "#     \"candidate\"\n",
    "# ] = \"MCMULLIN\"\n",
    "\n",
    "# Fixing LASTNAME + First name Initial\n",
    "# general_data.loc[:,\"candidate\"] = (\n",
    "#     general_data[\"candidate\"].str.split().str[0].str.upper()\n",
    "# )\n",
    "\n",
    "\n",
    "# #Selecting only last name\n",
    "general_data[\"candidate\"] = general_data[\"candidate\"].str.split().str[-1]\n",
    "\n",
    "general_data[\"candidate\"].value_counts(dropna=False)"
   ]
  },
  {
   "cell_type": "code",
   "execution_count": 43,
   "id": "a22405a6",
   "metadata": {},
   "outputs": [
    {
     "data": {
      "application/vnd.microsoft.datawrangler.viewer.v0+json": {
       "columns": [
        {
         "name": "party",
         "rawType": "object",
         "type": "unknown"
        },
        {
         "name": "count",
         "rawType": "int64",
         "type": "integer"
        }
       ],
       "ref": "9847bcf5-c737-4f5a-a4b6-5320a62fa76b",
       "rows": [
        [
         "R",
         "501"
        ],
        [
         "D",
         "501"
        ],
        [
         "L",
         "501"
        ],
        [
         "G",
         "501"
        ],
        [
         null,
         "501"
        ]
       ],
       "shape": {
        "columns": 1,
        "rows": 5
       }
      },
      "text/plain": [
       "party\n",
       "R      501\n",
       "D      501\n",
       "L      501\n",
       "G      501\n",
       "NaN    501\n",
       "Name: count, dtype: int64"
      ]
     },
     "execution_count": 43,
     "metadata": {},
     "output_type": "execute_result"
    }
   ],
   "source": [
    "# Viewing Party\n",
    "general_data[\"party\"].value_counts(dropna=False)"
   ]
  },
  {
   "cell_type": "code",
   "execution_count": 44,
   "id": "21d7595b",
   "metadata": {},
   "outputs": [
    {
     "name": "stderr",
     "output_type": "stream",
     "text": [
      "C:\\Users\\ADMIN\\AppData\\Local\\Temp\\ipykernel_4388\\4193826075.py:56: SettingWithCopyWarning: \n",
      "A value is trying to be set on a copy of a slice from a DataFrame.\n",
      "Try using .loc[row_indexer,col_indexer] = value instead\n",
      "\n",
      "See the caveats in the documentation: https://pandas.pydata.org/pandas-docs/stable/user_guide/indexing.html#returning-a-view-versus-a-copy\n",
      "  general_data[\"party\"] = general_data.apply(\n",
      "C:\\Users\\ADMIN\\AppData\\Local\\Temp\\ipykernel_4388\\4193826075.py:22: SettingWithCopyWarning: \n",
      "A value is trying to be set on a copy of a slice from a DataFrame.\n",
      "Try using .loc[row_indexer,col_indexer] = value instead\n",
      "\n",
      "See the caveats in the documentation: https://pandas.pydata.org/pandas-docs/stable/user_guide/indexing.html#returning-a-view-versus-a-copy\n",
      "  df[\"party\"] = df.apply(\n"
     ]
    },
    {
     "data": {
      "application/vnd.microsoft.datawrangler.viewer.v0+json": {
       "columns": [
        {
         "name": "party",
         "rawType": "object",
         "type": "string"
        },
        {
         "name": "count",
         "rawType": "int64",
         "type": "integer"
        }
       ],
       "ref": "2450e626-b26c-4049-9dbd-6cac2fb1fa63",
       "rows": [
        [
         "R",
         "501"
        ],
        [
         "D",
         "501"
        ],
        [
         "L",
         "501"
        ],
        [
         "G",
         "501"
        ],
        [
         "IND",
         "501"
        ]
       ],
       "shape": {
        "columns": 1,
        "rows": 5
       }
      },
      "text/plain": [
       "party\n",
       "R      501\n",
       "D      501\n",
       "L      501\n",
       "G      501\n",
       "IND    501\n",
       "Name: count, dtype: int64"
      ]
     },
     "execution_count": 44,
     "metadata": {},
     "output_type": "execute_result"
    }
   ],
   "source": [
    "#=====================================\n",
    "# This function is used to look up party\n",
    "# for the candidate in the same df\n",
    "#=====================================\n",
    "def fill_party_from_data(row, df):\n",
    "    if pd.notna(row[\"party\"]):\n",
    "        return row[\"party\"]\n",
    "    \n",
    "    # Try to find other rows with the same candidate and known party\n",
    "    matches = df[(df[\"candidate\"] == row[\"candidate\"]) & (df[\"party\"].notna())]\n",
    "    if not matches.empty:\n",
    "        return matches[\"party\"].iloc[0]  # Return the first match's party\n",
    "    else:\n",
    "        return None  # Still unknown\n",
    "    \n",
    "\n",
    "#=====================================\n",
    "# Function to fill remaining missing party from master lookup\n",
    "#=====================================\n",
    "def fill_party_from_master(df, master_df):\n",
    "    party_map = master_df.set_index(\"candidate\")[\"party\"].to_dict()\n",
    "    df[\"party\"] = df.apply(\n",
    "        lambda row: party_map.get(row[\"candidate\"], row[\"party\"])\n",
    "        if pd.isna(row[\"party\"]) else row[\"party\"],\n",
    "        axis=1\n",
    "    )\n",
    "    return df\n",
    "\n",
    "\n",
    "#=====================================\n",
    "# Function to update the master candidate-party CSV\n",
    "#=====================================\n",
    "def update_master_candidate_party(df, master_path):\n",
    "    # Read the existing master file\n",
    "    master_df = pd.read_csv(master_path)\n",
    "\n",
    "    # Filter and combine only known party entries (exclude 'UNK')\n",
    "    new_data = (\n",
    "        df[[\"candidate\", \"party\"]]\n",
    "        .dropna()\n",
    "        .query('party != \"UNK\"')\n",
    "        .drop_duplicates()\n",
    "    )\n",
    "\n",
    "    # Merge with master and remove duplicates by candidate\n",
    "    updated_master = pd.concat([master_df, new_data]).drop_duplicates(subset=\"candidate\")\n",
    "\n",
    "    # Save updated version\n",
    "    updated_master.to_csv(master_path, index=False)\n",
    "\n",
    "\n",
    "#=====================================\n",
    "# Example usage (uncomment and modify for your workflow)\n",
    "#=====================================\n",
    "# Fill party using internal data\n",
    "general_data[\"party\"] = general_data.apply(\n",
    "    lambda row: fill_party_from_data(row, general_data),\n",
    "    axis=1\n",
    ")\n",
    "\n",
    "# # Fill remaining party using general master CSV\n",
    "master_party_df = pd.read_csv(r\"C:\\Huy Phan\\College\\VoterTurnout\\data\\cleaned_data\\gen_can_party.csv\") # USE YOUR OWN ADDRESS\n",
    "general_data = fill_party_from_master(general_data, master_party_df)\n",
    "general_data[\"party\"].value_counts(dropna=False)\n"
   ]
  },
  {
   "cell_type": "code",
   "execution_count": 45,
   "id": "8bb5d275",
   "metadata": {},
   "outputs": [
    {
     "name": "stderr",
     "output_type": "stream",
     "text": [
      "C:\\Users\\ADMIN\\AppData\\Local\\Temp\\ipykernel_4388\\3171940742.py:3: SettingWithCopyWarning: \n",
      "A value is trying to be set on a copy of a slice from a DataFrame.\n",
      "Try using .loc[row_indexer,col_indexer] = value instead\n",
      "\n",
      "See the caveats in the documentation: https://pandas.pydata.org/pandas-docs/stable/user_guide/indexing.html#returning-a-view-versus-a-copy\n",
      "  general_data[\"party\"] = general_data[\"party\"].astype(str).str.upper()\n",
      "C:\\Users\\ADMIN\\AppData\\Local\\Temp\\ipykernel_4388\\3171940742.py:5: SettingWithCopyWarning: \n",
      "A value is trying to be set on a copy of a slice from a DataFrame.\n",
      "Try using .loc[row_indexer,col_indexer] = value instead\n",
      "\n",
      "See the caveats in the documentation: https://pandas.pydata.org/pandas-docs/stable/user_guide/indexing.html#returning-a-view-versus-a-copy\n",
      "  general_data[\"party\"] = (\n"
     ]
    },
    {
     "data": {
      "application/vnd.microsoft.datawrangler.viewer.v0+json": {
       "columns": [
        {
         "name": "party",
         "rawType": "object",
         "type": "string"
        },
        {
         "name": "count",
         "rawType": "int64",
         "type": "integer"
        }
       ],
       "ref": "c479a172-c0e4-4943-ae52-8f486e635bcd",
       "rows": [
        [
         "REP",
         "501"
        ],
        [
         "DEM",
         "501"
        ],
        [
         "LIB",
         "501"
        ],
        [
         "GRN",
         "501"
        ],
        [
         "IND",
         "501"
        ]
       ],
       "shape": {
        "columns": 1,
        "rows": 5
       }
      },
      "text/plain": [
       "party\n",
       "REP    501\n",
       "DEM    501\n",
       "LIB    501\n",
       "GRN    501\n",
       "IND    501\n",
       "Name: count, dtype: int64"
      ]
     },
     "execution_count": 45,
     "metadata": {},
     "output_type": "execute_result"
    }
   ],
   "source": [
    "# Cleaning Party\n",
    "# Turning all general data party to uppercase\n",
    "general_data[\"party\"] = general_data[\"party\"].astype(str).str.upper()\n",
    "\n",
    "general_data[\"party\"] = (\n",
    "    general_data[\"party\"]\n",
    "    .replace({\n",
    "        \"REPUBLICAN\": \"REP\",\n",
    "        \"R\": \"REP\",\n",
    "        \"DEMOCRATIC\": \"DEM\",\n",
    "        \"DEMOCRAT\":\"DEM\",\n",
    "        \"DEM\": \"DEM\",\n",
    "        \"D\": \"DEM\",\n",
    "        \"GREEN\": \"GRN\",\n",
    "        \"G\": \"GRN\",\n",
    "        \"GREEN AND RAINBOW\":\"GRN\",\n",
    "        \"GREEN-RAINBOW\":\"GRN\",\n",
    "        \"LIBERTARIAN\": \"LIB\",\n",
    "        \"LIBERTARIN\":\"LIB\",\n",
    "        \"LBT\": \"LIB\",\n",
    "        \"L\": \"LIB\",\n",
    "        \"CONSTITUTION\": \"CON\",\n",
    "        \"AMERICAN DELTA\":\"AMD\",\n",
    "        \"PROHIBITION\":\"PRO\",\n",
    "        \"NP\": \"IND\",\n",
    "        \"NON\": \"IND\",\n",
    "        \"WRI\": \"IND\",\n",
    "        \"WRITE-IN\": \"IND\",\n",
    "        \"ONA\": \"IND\",\n",
    "        \"GEN\": \"IND\",\n",
    "        \"NONE\":\"UNK\",\n",
    "        \"NPA\":\"IND\",\n",
    "        \"UST\":\"CON\",\n",
    "        \"(WRITE-IN)\":\"IND\"\n",
    "    })\n",
    ")\n",
    "\n",
    "general_data[\"party\"].value_counts(dropna=False)"
   ]
  },
  {
   "cell_type": "code",
   "execution_count": 46,
   "id": "ff4a4970",
   "metadata": {},
   "outputs": [],
   "source": [
    "# UPDATE MASTER FILE, CAREFUL\n",
    "update_master_candidate_party(general_data, r\"C:\\Huy Phan\\College\\VoterTurnout\\data\\cleaned_data\\gen_can_party.csv\")"
   ]
  },
  {
   "cell_type": "code",
   "execution_count": 47,
   "id": "daaed088",
   "metadata": {},
   "outputs": [
    {
     "name": "stderr",
     "output_type": "stream",
     "text": [
      "C:\\Users\\ADMIN\\AppData\\Local\\Temp\\ipykernel_4388\\1829951435.py:1: SettingWithCopyWarning: \n",
      "A value is trying to be set on a copy of a slice from a DataFrame.\n",
      "Try using .loc[row_indexer,col_indexer] = value instead\n",
      "\n",
      "See the caveats in the documentation: https://pandas.pydata.org/pandas-docs/stable/user_guide/indexing.html#returning-a-view-versus-a-copy\n",
      "  general_data[\"candidate_column\"] = (\n"
     ]
    },
    {
     "data": {
      "application/vnd.microsoft.datawrangler.viewer.v0+json": {
       "columns": [
        {
         "name": "index",
         "rawType": "int64",
         "type": "integer"
        },
        {
         "name": "precinct",
         "rawType": "object",
         "type": "string"
        },
        {
         "name": "gen_dem_CLINTON",
         "rawType": "int64",
         "type": "integer"
        },
        {
         "name": "gen_grn_STEIN",
         "rawType": "int64",
         "type": "integer"
        },
        {
         "name": "gen_ind_FUENTE",
         "rawType": "int64",
         "type": "integer"
        },
        {
         "name": "gen_lib_JOHNSON",
         "rawType": "int64",
         "type": "integer"
        },
        {
         "name": "gen_rep_TRUMP",
         "rawType": "int64",
         "type": "integer"
        }
       ],
       "ref": "6c9e3e98-327c-43e1-ac40-2ea580f4f44f",
       "rows": [
        [
         "0",
         "BARRINGTON 0101",
         "1027",
         "23",
         "2",
         "60",
         "522"
        ],
        [
         "1",
         "BARRINGTON 0102",
         "1331",
         "21",
         "3",
         "68",
         "683"
        ],
        [
         "2",
         "BARRINGTON 0103",
         "1136",
         "17",
         "0",
         "59",
         "469"
        ],
        [
         "3",
         "BARRINGTON 0104",
         "1328",
         "25",
         "2",
         "78",
         "611"
        ],
        [
         "4",
         "BARRINGTON 0105",
         "1290",
         "24",
         "4",
         "69",
         "590"
        ],
        [
         "5",
         "BARRINGTON LIMITED",
         "1",
         "0",
         "0",
         "0",
         "0"
        ],
        [
         "6",
         "BARRINGTON PRESIDENTIAL",
         "40",
         "0",
         "0",
         "6",
         "23"
        ],
        [
         "7",
         "BRISTOL 0201",
         "496",
         "11",
         "2",
         "43",
         "472"
        ],
        [
         "8",
         "BRISTOL 0202",
         "371",
         "10",
         "1",
         "38",
         "185"
        ],
        [
         "9",
         "BRISTOL 0203",
         "1152",
         "25",
         "0",
         "79",
         "806"
        ],
        [
         "10",
         "BRISTOL 0204",
         "767",
         "16",
         "1",
         "40",
         "498"
        ],
        [
         "11",
         "BRISTOL 0205",
         "800",
         "18",
         "3",
         "78",
         "727"
        ],
        [
         "12",
         "BRISTOL 0206",
         "695",
         "14",
         "3",
         "39",
         "478"
        ],
        [
         "13",
         "BRISTOL 0207",
         "534",
         "10",
         "1",
         "40",
         "290"
        ],
        [
         "14",
         "BRISTOL 0208",
         "618",
         "17",
         "1",
         "46",
         "398"
        ],
        [
         "15",
         "BRISTOL 0209",
         "129",
         "6",
         "1",
         "12",
         "100"
        ],
        [
         "16",
         "BRISTOL LIMITED",
         "1",
         "0",
         "0",
         "0",
         "0"
        ],
        [
         "17",
         "BRISTOL PRESIDENTIAL",
         "208",
         "7",
         "0",
         "13",
         "126"
        ],
        [
         "18",
         "BURRILLVILLE 0301",
         "443",
         "21",
         "3",
         "56",
         "661"
        ],
        [
         "19",
         "BURRILLVILLE 0302",
         "421",
         "21",
         "4",
         "48",
         "715"
        ],
        [
         "20",
         "BURRILLVILLE 0303",
         "564",
         "23",
         "1",
         "59",
         "880"
        ],
        [
         "21",
         "BURRILLVILLE 0304",
         "349",
         "17",
         "1",
         "46",
         "516"
        ],
        [
         "22",
         "BURRILLVILLE 0305",
         "348",
         "16",
         "1",
         "42",
         "579"
        ],
        [
         "23",
         "BURRILLVILLE 0306",
         "392",
         "9",
         "4",
         "44",
         "703"
        ],
        [
         "24",
         "BURRILLVILLE LIMITED",
         "0",
         "1",
         "0",
         "0",
         "0"
        ],
        [
         "25",
         "BURRILLVILLE PRESIDENTIAL",
         "41",
         "1",
         "0",
         "0",
         "85"
        ],
        [
         "26",
         "CENTRAL FALLS 0401",
         "645",
         "6",
         "2",
         "18",
         "103"
        ],
        [
         "27",
         "CENTRAL FALLS 0402",
         "272",
         "3",
         "0",
         "5",
         "63"
        ],
        [
         "28",
         "CENTRAL FALLS 0403",
         "655",
         "13",
         "1",
         "15",
         "92"
        ],
        [
         "29",
         "CENTRAL FALLS 0404",
         "542",
         "2",
         "0",
         "14",
         "80"
        ],
        [
         "30",
         "CENTRAL FALLS 0405",
         "238",
         "4",
         "0",
         "7",
         "40"
        ],
        [
         "31",
         "CENTRAL FALLS 0406",
         "295",
         "2",
         "0",
         "12",
         "137"
        ],
        [
         "32",
         "CENTRAL FALLS 0407",
         "149",
         "1",
         "0",
         "3",
         "31"
        ],
        [
         "33",
         "CENTRAL FALLS 0408",
         "471",
         "8",
         "0",
         "11",
         "98"
        ],
        [
         "34",
         "CENTRAL FALLS LIMITED",
         "0",
         "0",
         "0",
         "0",
         "0"
        ],
        [
         "35",
         "CENTRAL FALLS PRESIDENTIAL",
         "123",
         "1",
         "0",
         "1",
         "13"
        ],
        [
         "36",
         "CHARLESTOWN 0501",
         "581",
         "14",
         "0",
         "68",
         "521"
        ],
        [
         "37",
         "CHARLESTOWN 0502",
         "622",
         "16",
         "2",
         "50",
         "531"
        ],
        [
         "38",
         "CHARLESTOWN 0503",
         "550",
         "16",
         "2",
         "38",
         "453"
        ],
        [
         "39",
         "CHARLESTOWN 0504",
         "425",
         "7",
         "1",
         "26",
         "362"
        ],
        [
         "40",
         "CHARLESTOWN LIMITED",
         "0",
         "0",
         "0",
         "0",
         "0"
        ],
        [
         "41",
         "CHARLESTOWN PRESIDENTIAL",
         "29",
         "3",
         "0",
         "1",
         "39"
        ],
        [
         "42",
         "COVENTRY 0601",
         "375",
         "7",
         "4",
         "46",
         "541"
        ],
        [
         "43",
         "COVENTRY 0602",
         "118",
         "4",
         "2",
         "21",
         "130"
        ],
        [
         "44",
         "COVENTRY 0603",
         "649",
         "21",
         "4",
         "60",
         "820"
        ],
        [
         "45",
         "COVENTRY 0604",
         "395",
         "16",
         "2",
         "37",
         "527"
        ],
        [
         "46",
         "COVENTRY 0605",
         "398",
         "17",
         "2",
         "43",
         "598"
        ],
        [
         "47",
         "COVENTRY 0606",
         "220",
         "7",
         "1",
         "18",
         "339"
        ],
        [
         "48",
         "COVENTRY 0607",
         "628",
         "21",
         "3",
         "52",
         "706"
        ],
        [
         "49",
         "COVENTRY 0608",
         "554",
         "22",
         "2",
         "40",
         "676"
        ]
       ],
       "shape": {
        "columns": 6,
        "rows": 501
       }
      },
      "text/html": [
       "<div>\n",
       "<style scoped>\n",
       "    .dataframe tbody tr th:only-of-type {\n",
       "        vertical-align: middle;\n",
       "    }\n",
       "\n",
       "    .dataframe tbody tr th {\n",
       "        vertical-align: top;\n",
       "    }\n",
       "\n",
       "    .dataframe thead th {\n",
       "        text-align: right;\n",
       "    }\n",
       "</style>\n",
       "<table border=\"1\" class=\"dataframe\">\n",
       "  <thead>\n",
       "    <tr style=\"text-align: right;\">\n",
       "      <th>candidate_column</th>\n",
       "      <th>precinct</th>\n",
       "      <th>gen_dem_CLINTON</th>\n",
       "      <th>gen_grn_STEIN</th>\n",
       "      <th>gen_ind_FUENTE</th>\n",
       "      <th>gen_lib_JOHNSON</th>\n",
       "      <th>gen_rep_TRUMP</th>\n",
       "    </tr>\n",
       "  </thead>\n",
       "  <tbody>\n",
       "    <tr>\n",
       "      <th>0</th>\n",
       "      <td>BARRINGTON 0101</td>\n",
       "      <td>1027</td>\n",
       "      <td>23</td>\n",
       "      <td>2</td>\n",
       "      <td>60</td>\n",
       "      <td>522</td>\n",
       "    </tr>\n",
       "    <tr>\n",
       "      <th>1</th>\n",
       "      <td>BARRINGTON 0102</td>\n",
       "      <td>1331</td>\n",
       "      <td>21</td>\n",
       "      <td>3</td>\n",
       "      <td>68</td>\n",
       "      <td>683</td>\n",
       "    </tr>\n",
       "    <tr>\n",
       "      <th>2</th>\n",
       "      <td>BARRINGTON 0103</td>\n",
       "      <td>1136</td>\n",
       "      <td>17</td>\n",
       "      <td>0</td>\n",
       "      <td>59</td>\n",
       "      <td>469</td>\n",
       "    </tr>\n",
       "    <tr>\n",
       "      <th>3</th>\n",
       "      <td>BARRINGTON 0104</td>\n",
       "      <td>1328</td>\n",
       "      <td>25</td>\n",
       "      <td>2</td>\n",
       "      <td>78</td>\n",
       "      <td>611</td>\n",
       "    </tr>\n",
       "    <tr>\n",
       "      <th>4</th>\n",
       "      <td>BARRINGTON 0105</td>\n",
       "      <td>1290</td>\n",
       "      <td>24</td>\n",
       "      <td>4</td>\n",
       "      <td>69</td>\n",
       "      <td>590</td>\n",
       "    </tr>\n",
       "    <tr>\n",
       "      <th>...</th>\n",
       "      <td>...</td>\n",
       "      <td>...</td>\n",
       "      <td>...</td>\n",
       "      <td>...</td>\n",
       "      <td>...</td>\n",
       "      <td>...</td>\n",
       "    </tr>\n",
       "    <tr>\n",
       "      <th>496</th>\n",
       "      <td>WOONSOCKET 3910</td>\n",
       "      <td>686</td>\n",
       "      <td>18</td>\n",
       "      <td>2</td>\n",
       "      <td>68</td>\n",
       "      <td>759</td>\n",
       "    </tr>\n",
       "    <tr>\n",
       "      <th>497</th>\n",
       "      <td>WOONSOCKET 3911</td>\n",
       "      <td>677</td>\n",
       "      <td>20</td>\n",
       "      <td>4</td>\n",
       "      <td>46</td>\n",
       "      <td>465</td>\n",
       "    </tr>\n",
       "    <tr>\n",
       "      <th>498</th>\n",
       "      <td>WOONSOCKET 3912</td>\n",
       "      <td>506</td>\n",
       "      <td>18</td>\n",
       "      <td>2</td>\n",
       "      <td>37</td>\n",
       "      <td>448</td>\n",
       "    </tr>\n",
       "    <tr>\n",
       "      <th>499</th>\n",
       "      <td>WOONSOCKET LIMITED</td>\n",
       "      <td>0</td>\n",
       "      <td>0</td>\n",
       "      <td>0</td>\n",
       "      <td>0</td>\n",
       "      <td>0</td>\n",
       "    </tr>\n",
       "    <tr>\n",
       "      <th>500</th>\n",
       "      <td>WOONSOCKET PRESIDENTIAL</td>\n",
       "      <td>104</td>\n",
       "      <td>4</td>\n",
       "      <td>0</td>\n",
       "      <td>2</td>\n",
       "      <td>73</td>\n",
       "    </tr>\n",
       "  </tbody>\n",
       "</table>\n",
       "<p>501 rows × 6 columns</p>\n",
       "</div>"
      ],
      "text/plain": [
       "candidate_column                 precinct  gen_dem_CLINTON  gen_grn_STEIN  \\\n",
       "0                         BARRINGTON 0101             1027             23   \n",
       "1                         BARRINGTON 0102             1331             21   \n",
       "2                         BARRINGTON 0103             1136             17   \n",
       "3                         BARRINGTON 0104             1328             25   \n",
       "4                         BARRINGTON 0105             1290             24   \n",
       "..                                    ...              ...            ...   \n",
       "496                       WOONSOCKET 3910              686             18   \n",
       "497                       WOONSOCKET 3911              677             20   \n",
       "498                       WOONSOCKET 3912              506             18   \n",
       "499                    WOONSOCKET LIMITED                0              0   \n",
       "500               WOONSOCKET PRESIDENTIAL              104              4   \n",
       "\n",
       "candidate_column  gen_ind_FUENTE  gen_lib_JOHNSON  gen_rep_TRUMP  \n",
       "0                              2               60            522  \n",
       "1                              3               68            683  \n",
       "2                              0               59            469  \n",
       "3                              2               78            611  \n",
       "4                              4               69            590  \n",
       "..                           ...              ...            ...  \n",
       "496                            2               68            759  \n",
       "497                            4               46            465  \n",
       "498                            2               37            448  \n",
       "499                            0                0              0  \n",
       "500                            0                2             73  \n",
       "\n",
       "[501 rows x 6 columns]"
      ]
     },
     "execution_count": 47,
     "metadata": {},
     "output_type": "execute_result"
    }
   ],
   "source": [
    "general_data[\"candidate_column\"] = (\n",
    "    \"gen_\" +\n",
    "    general_data[\"party\"].str.lower() + \"_\" +\n",
    "    general_data[\"candidate\"].str.split().str[-1].str.upper()\n",
    ")\n",
    "\n",
    "# pivot the table\n",
    "general_result = general_data.pivot_table(\n",
    "    index=\"precinct\",\n",
    "    columns=\"candidate_column\",\n",
    "    values=\"votes\",\n",
    "    aggfunc=\"sum\",  \n",
    "    fill_value=0\n",
    ").reset_index()\n",
    "\n",
    "general_result"
   ]
  },
  {
   "cell_type": "code",
   "execution_count": 48,
   "id": "6686d34b",
   "metadata": {},
   "outputs": [],
   "source": [
    "# Merge\n",
    "combined = pd.merge(primary_result, general_result, on=\"precinct\", how=\"inner\")\n",
    "\n",
    "# Convert DEM primary columns to numeric and calculate total\n",
    "dem_cols = combined.filter(like=\"pri_dem_\").columns\n",
    "combined[dem_cols] = combined[dem_cols].apply(pd.to_numeric, errors=\"coerce\")\n",
    "combined[\"dem_primary_total\"] = combined[dem_cols].sum(axis=1)\n",
    "\n",
    "# Convert general election columns to numeric and calculate total\n",
    "gen_cols = combined.filter(like=\"gen_\").columns\n",
    "combined[gen_cols] = combined[gen_cols].apply(pd.to_numeric, errors=\"coerce\")\n",
    "combined[\"general_total\"] = combined[gen_cols].sum(axis=1)\n",
    "\n",
    "# Convert all numeric columns to int\n",
    "for col in combined.columns[1:]:\n",
    "    combined[col] = pd.to_numeric(combined[col], errors='coerce').fillna(0).astype(int)\n",
    "\n",
    "# Identify filtered-out precincts\n",
    "primary_precincts = set(primary_result[\"precinct\"])\n",
    "general_precincts = set(general_result[\"precinct\"])\n",
    "combined_precincts = set(combined[\"precinct\"])\n",
    "\n",
    "primary_filtered_out = primary_precincts - combined_precincts\n",
    "general_filtered_out = general_precincts - combined_precincts\n",
    "\n",
    "\n"
   ]
  },
  {
   "cell_type": "code",
   "execution_count": 49,
   "id": "a6797e92",
   "metadata": {},
   "outputs": [],
   "source": [
    "\n",
    "\n",
    "combined.to_csv(\"RI.csv\", index=False)\n",
    "# Step 3: Identify unmatched precincts and retrieve full rows\n",
    "combined_precincts = set(combined[\"precinct\"])\n",
    "\n",
    "# Rows in primary_result but not in combined\n",
    "primary_filtered_out = primary_result[~primary_result[\"precinct\"].isin(combined_precincts)]\n",
    "primary_filtered_out.to_csv(\"RI_primary_filtered.csv\", index=False)\n",
    "\n",
    "# Rows in general_result but not in combined\n",
    "general_filtered_out = general_result[~general_result[\"precinct\"].isin(combined_precincts)]\n",
    "general_filtered_out.to_csv(\"RI_general_filtered.csv\", index=False)"
   ]
  },
  {
   "cell_type": "code",
   "execution_count": 50,
   "id": "b3d042ff",
   "metadata": {},
   "outputs": [
    {
     "name": "stdout",
     "output_type": "stream",
     "text": [
      "primary: 144, general: 501, combined: 144\n"
     ]
    }
   ],
   "source": [
    "print(f\"primary: {len(primary_precincts)}, general: {len(general_precincts)}, combined: {len(combined)}\")"
   ]
  },
  {
   "cell_type": "code",
   "execution_count": 52,
   "id": "9900725d",
   "metadata": {},
   "outputs": [
    {
     "name": "stdout",
     "output_type": "stream",
     "text": [
      "primary: 144, general: 501\n"
     ]
    }
   ],
   "source": [
    "print(f\"primary: {len(pri_combined_df['precinct'].unique())}, general: {len(gen_combined_df['precinct'].unique())}\")\n"
   ]
  },
  {
   "cell_type": "code",
   "execution_count": 54,
   "id": "b12d639e",
   "metadata": {},
   "outputs": [
    {
     "data": {
      "text/plain": [
       "array(['BARRINGTON 0101', 'BARRINGTON 0102', 'BARRINGTON 0103',\n",
       "       'BARRINGTON 0104', 'BARRINGTON 0105', 'BRISTOL 0202',\n",
       "       'BRISTOL 0203', 'BRISTOL 0205', 'WARREN 3401', 'WARREN 3403',\n",
       "       'COVENTRY 0603', 'COVENTRY 0605', 'COVENTRY 0607', 'COVENTRY 0611',\n",
       "       'COVENTRY 0613', 'EAST GREENWICH 0903', 'WARWICK 3504',\n",
       "       'WARWICK 3511', 'WARWICK 3512', 'WARWICK 3513', 'WARWICK 3515',\n",
       "       'WARWICK 3518', 'WARWICK 3522', 'WARWICK 3524', 'WARWICK 3530',\n",
       "       'WEST GREENWICH 3703', 'WEST WARWICK 3801', 'WEST WARWICK 3802',\n",
       "       'WEST WARWICK 3806', 'WEST WARWICK 3807', 'WEST WARWICK 3809',\n",
       "       'JAMESTOWN 1501', 'LITTLE COMPTON 1801', 'MIDDLETOWN 1901',\n",
       "       'MIDDLETOWN 1902', 'MIDDLETOWN 1905', 'NEWPORT 2104',\n",
       "       'NEWPORT 2105', 'NEWPORT 2106', 'PORTSMOUTH 2701',\n",
       "       'PORTSMOUTH 2703', 'PORTSMOUTH 2706', 'PORTSMOUTH 2707',\n",
       "       'TIVERTON 3302', 'TIVERTON 3303', 'TIVERTON 3305',\n",
       "       'BURRILLVILLE 0302', 'BURRILLVILLE 0303', 'BURRILLVILLE 0305',\n",
       "       'CENTRAL FALLS 0408', 'CRANSTON 0701', 'CRANSTON 0706',\n",
       "       'CRANSTON 0726', 'CRANSTON 0727', 'CRANSTON 0728', 'CRANSTON 0731',\n",
       "       'CUMBERLAND 0801', 'CUMBERLAND 0808', 'CUMBERLAND 0812',\n",
       "       'EAST PROVIDENCE 1004', 'EAST PROVIDENCE 1007',\n",
       "       'EAST PROVIDENCE 1008', 'EAST PROVIDENCE 1015', 'FOSTER 1201',\n",
       "       'GLOCESTER 1303', 'JOHNSTON 1601', 'JOHNSTON 1602',\n",
       "       'JOHNSTON 1609', 'JOHNSTON 1613', 'LINCOLN 1703', 'LINCOLN 1706',\n",
       "       'LINCOLN 1707', 'LINCOLN 1711', 'NORTH PROVIDENCE 2409',\n",
       "       'NORTH PROVIDENCE 2410', 'NORTH PROVIDENCE 2413',\n",
       "       'NORTH SMITHFIELD 2502', 'NORTH SMITHFIELD 2503', 'PAWTUCKET 2601',\n",
       "       'PAWTUCKET 2603', 'PAWTUCKET 2605', 'PAWTUCKET 2608',\n",
       "       'PAWTUCKET 2609', 'PAWTUCKET 2610', 'PAWTUCKET 2611',\n",
       "       'PAWTUCKET 2614', 'PAWTUCKET 2616', 'PAWTUCKET 2617',\n",
       "       'PAWTUCKET 2618', 'PAWTUCKET 2620', 'PAWTUCKET 2623',\n",
       "       'PAWTUCKET 2624', 'PAWTUCKET 2626', 'PAWTUCKET 2627',\n",
       "       'PAWTUCKET 2628', 'PAWTUCKET 2630', 'PAWTUCKET 2631',\n",
       "       'PROVIDENCE 2801', 'PROVIDENCE 2805', 'PROVIDENCE 2808',\n",
       "       'PROVIDENCE 2814', 'PROVIDENCE 2816', 'PROVIDENCE 2819',\n",
       "       'PROVIDENCE 2823', 'PROVIDENCE 2825', 'PROVIDENCE 2827',\n",
       "       'PROVIDENCE 2832', 'PROVIDENCE 2835', 'PROVIDENCE 2839',\n",
       "       'PROVIDENCE 2844', 'PROVIDENCE 2847', 'PROVIDENCE 2851',\n",
       "       'PROVIDENCE 2862', 'PROVIDENCE 2863', 'PROVIDENCE 2868',\n",
       "       'PROVIDENCE 2871', 'PROVIDENCE 2872', 'PROVIDENCE 2875',\n",
       "       'SCITUATE 3002', 'SCITUATE 3003', 'SMITHFIELD 3101',\n",
       "       'SMITHFIELD 3102', 'WOONSOCKET 3902', 'WOONSOCKET 3903',\n",
       "       'WOONSOCKET 3905', 'WOONSOCKET 3907', 'WOONSOCKET 3909',\n",
       "       'CHARLESTOWN 0501', 'CHARLESTOWN 0503', 'EXETER 1103',\n",
       "       'HOPKINTON 1401', 'NARRAGANSETT 2001', 'NARRAGANSETT 2002',\n",
       "       'NEW SHOREHAM 2201', 'NORTH KINGSTOWN 2301',\n",
       "       'NORTH KINGSTOWN 2302', 'NORTH KINGSTOWN 2304',\n",
       "       'NORTH KINGSTOWN 2307', 'RICHMOND 2901', 'SOUTH KINGSTOWN 3202',\n",
       "       'SOUTH KINGSTOWN 3206', 'SOUTH KINGSTOWN 3208', 'WESTERLY 3602',\n",
       "       'WESTERLY 3605'], dtype=object)"
      ]
     },
     "execution_count": 54,
     "metadata": {},
     "output_type": "execute_result"
    }
   ],
   "source": [
    "pri_combined_df['precinct'].unique()"
   ]
  },
  {
   "cell_type": "code",
   "execution_count": 55,
   "id": "0fb1a12f",
   "metadata": {},
   "outputs": [
    {
     "data": {
      "text/plain": [
       "array(['BARRINGTON 0101', 'BARRINGTON 0102', 'BARRINGTON 0103',\n",
       "       'BARRINGTON 0104', 'BARRINGTON 0105', 'BARRINGTON LIMITED',\n",
       "       'BARRINGTON PRESIDENTIAL', 'BRISTOL 0201', 'BRISTOL 0202',\n",
       "       'BRISTOL 0203', 'BRISTOL 0204', 'BRISTOL 0205', 'BRISTOL 0206',\n",
       "       'BRISTOL 0207', 'BRISTOL 0208', 'BRISTOL 0209', 'BRISTOL LIMITED',\n",
       "       'BRISTOL PRESIDENTIAL', 'BURRILLVILLE 0301', 'BURRILLVILLE 0302',\n",
       "       'BURRILLVILLE 0303', 'BURRILLVILLE 0304', 'BURRILLVILLE 0305',\n",
       "       'BURRILLVILLE 0306', 'BURRILLVILLE LIMITED',\n",
       "       'BURRILLVILLE PRESIDENTIAL', 'CENTRAL FALLS 0401',\n",
       "       'CENTRAL FALLS 0402', 'CENTRAL FALLS 0403', 'CENTRAL FALLS 0404',\n",
       "       'CENTRAL FALLS 0405', 'CENTRAL FALLS 0406', 'CENTRAL FALLS 0407',\n",
       "       'CENTRAL FALLS 0408', 'CENTRAL FALLS LIMITED',\n",
       "       'CENTRAL FALLS PRESIDENTIAL', 'CHARLESTOWN 0501',\n",
       "       'CHARLESTOWN 0502', 'CHARLESTOWN 0503', 'CHARLESTOWN 0504',\n",
       "       'CHARLESTOWN LIMITED', 'CHARLESTOWN PRESIDENTIAL', 'COVENTRY 0601',\n",
       "       'COVENTRY 0602', 'COVENTRY 0603', 'COVENTRY 0604', 'COVENTRY 0605',\n",
       "       'COVENTRY 0606', 'COVENTRY 0607', 'COVENTRY 0608', 'COVENTRY 0609',\n",
       "       'COVENTRY 0610', 'COVENTRY 0611', 'COVENTRY 0612', 'COVENTRY 0613',\n",
       "       'COVENTRY 0614', 'COVENTRY 0615', 'COVENTRY 0616', 'COVENTRY 0617',\n",
       "       'COVENTRY 0618', 'COVENTRY LIMITED', 'COVENTRY PRESIDENTIAL',\n",
       "       'CRANSTON 0701', 'CRANSTON 0702', 'CRANSTON 0703', 'CRANSTON 0704',\n",
       "       'CRANSTON 0705', 'CRANSTON 0706', 'CRANSTON 0707', 'CRANSTON 0708',\n",
       "       'CRANSTON 0709', 'CRANSTON 0710', 'CRANSTON 0711', 'CRANSTON 0712',\n",
       "       'CRANSTON 0713', 'CRANSTON 0714', 'CRANSTON 0715', 'CRANSTON 0716',\n",
       "       'CRANSTON 0717', 'CRANSTON 0718', 'CRANSTON 0719', 'CRANSTON 0720',\n",
       "       'CRANSTON 0721', 'CRANSTON 0722', 'CRANSTON 0723', 'CRANSTON 0724',\n",
       "       'CRANSTON 0725', 'CRANSTON 0726', 'CRANSTON 0727', 'CRANSTON 0728',\n",
       "       'CRANSTON 0730', 'CRANSTON 0731', 'CRANSTON LIMITED',\n",
       "       'CRANSTON PRESIDENTIAL', 'CUMBERLAND 0801', 'CUMBERLAND 0802',\n",
       "       'CUMBERLAND 0803', 'CUMBERLAND 0804', 'CUMBERLAND 0805',\n",
       "       'CUMBERLAND 0806', 'CUMBERLAND 0807', 'CUMBERLAND 0808',\n",
       "       'CUMBERLAND 0809', 'CUMBERLAND 0810', 'CUMBERLAND 0811',\n",
       "       'CUMBERLAND 0812', 'CUMBERLAND 0813', 'CUMBERLAND LIMITED',\n",
       "       'CUMBERLAND PRESIDENTIAL', 'EAST GREENWICH 0901',\n",
       "       'EAST GREENWICH 0902', 'EAST GREENWICH 0903',\n",
       "       'EAST GREENWICH 0904', 'EAST GREENWICH 0905',\n",
       "       'EAST GREENWICH LIMITED', 'EAST GREENWICH PRESIDENTIAL',\n",
       "       'EAST PROVIDENCE 1001', 'EAST PROVIDENCE 1002',\n",
       "       'EAST PROVIDENCE 1003', 'EAST PROVIDENCE 1004',\n",
       "       'EAST PROVIDENCE 1005', 'EAST PROVIDENCE 1006',\n",
       "       'EAST PROVIDENCE 1007', 'EAST PROVIDENCE 1008',\n",
       "       'EAST PROVIDENCE 1009', 'EAST PROVIDENCE 1010',\n",
       "       'EAST PROVIDENCE 1011', 'EAST PROVIDENCE 1012',\n",
       "       'EAST PROVIDENCE 1013', 'EAST PROVIDENCE 1014',\n",
       "       'EAST PROVIDENCE 1015', 'EAST PROVIDENCE 1016',\n",
       "       'EAST PROVIDENCE 1017', 'EAST PROVIDENCE 1018',\n",
       "       'EAST PROVIDENCE LIMITED', 'EAST PROVIDENCE PRESIDENTIAL',\n",
       "       'EXETER 1101', 'EXETER 1102', 'EXETER 1103', 'EXETER LIMITED',\n",
       "       'EXETER PRESIDENTIAL', 'FOSTER 1201', 'FOSTER 1202',\n",
       "       'FOSTER LIMITED', 'FOSTER PRESIDENTIAL', 'GLOCESTER 1301',\n",
       "       'GLOCESTER 1302', 'GLOCESTER 1303', 'GLOCESTER 1304',\n",
       "       'GLOCESTER LIMITED', 'GLOCESTER PRESIDENTIAL', 'HOPKINTON 1401',\n",
       "       'HOPKINTON 1402', 'HOPKINTON 1403', 'HOPKINTON LIMITED',\n",
       "       'HOPKINTON PRESIDENTIAL', 'JAMESTOWN 1501', 'JAMESTOWN 1502',\n",
       "       'JAMESTOWN LIMITED', 'JAMESTOWN PRESIDENTIAL', 'JOHNSTON 1601',\n",
       "       'JOHNSTON 1602', 'JOHNSTON 1603', 'JOHNSTON 1604', 'JOHNSTON 1605',\n",
       "       'JOHNSTON 1606', 'JOHNSTON 1607', 'JOHNSTON 1608', 'JOHNSTON 1609',\n",
       "       'JOHNSTON 1610', 'JOHNSTON 1611', 'JOHNSTON 1612', 'JOHNSTON 1613',\n",
       "       'JOHNSTON LIMITED', 'JOHNSTON PRESIDENTIAL', 'LINCOLN 1701',\n",
       "       'LINCOLN 1702', 'LINCOLN 1703', 'LINCOLN 1704', 'LINCOLN 1705',\n",
       "       'LINCOLN 1706', 'LINCOLN 1707', 'LINCOLN 1708', 'LINCOLN 1709',\n",
       "       'LINCOLN 1710', 'LINCOLN 1711', 'LINCOLN LIMITED',\n",
       "       'LINCOLN PRESIDENTIAL', 'LITTLE COMPTON 1801',\n",
       "       'LITTLE COMPTON LIMITED', 'LITTLE COMPTON PRESIDENTIAL',\n",
       "       'MIDDLETOWN 1901', 'MIDDLETOWN 1902', 'MIDDLETOWN 1903',\n",
       "       'MIDDLETOWN 1904', 'MIDDLETOWN 1905', 'MIDDLETOWN LIMITED',\n",
       "       'MIDDLETOWN PRESIDENTIAL', 'NARRAGANSETT 2001',\n",
       "       'NARRAGANSETT 2002', 'NARRAGANSETT 2003', 'NARRAGANSETT 2004',\n",
       "       'NARRAGANSETT 2005', 'NARRAGANSETT LIMITED',\n",
       "       'NARRAGANSETT PRESIDENTIAL', 'NEWPORT 2101', 'NEWPORT 2102',\n",
       "       'NEWPORT 2103', 'NEWPORT 2104', 'NEWPORT 2105', 'NEWPORT 2106',\n",
       "       'NEWPORT 2107', 'NEWPORT 2108', 'NEWPORT LIMITED',\n",
       "       'NEWPORT PRESIDENTIAL', 'NEW SHOREHAM 2201',\n",
       "       'NEW SHOREHAM LIMITED', 'NEW SHOREHAM PRESIDENTIAL',\n",
       "       'NORTH KINGSTOWN 2301', 'NORTH KINGSTOWN 2302',\n",
       "       'NORTH KINGSTOWN 2303', 'NORTH KINGSTOWN 2304',\n",
       "       'NORTH KINGSTOWN 2305', 'NORTH KINGSTOWN 2306',\n",
       "       'NORTH KINGSTOWN 2307', 'NORTH KINGSTOWN 2308',\n",
       "       'NORTH KINGSTOWN 2309', 'NORTH KINGSTOWN LIMITED',\n",
       "       'NORTH KINGSTOWN PRESIDENTIAL', 'NORTH PROVIDENCE 2401',\n",
       "       'NORTH PROVIDENCE 2402', 'NORTH PROVIDENCE 2403',\n",
       "       'NORTH PROVIDENCE 2404', 'NORTH PROVIDENCE 2405',\n",
       "       'NORTH PROVIDENCE 2406', 'NORTH PROVIDENCE 2407',\n",
       "       'NORTH PROVIDENCE 2408', 'NORTH PROVIDENCE 2409',\n",
       "       'NORTH PROVIDENCE 2410', 'NORTH PROVIDENCE 2411',\n",
       "       'NORTH PROVIDENCE 2412', 'NORTH PROVIDENCE 2413',\n",
       "       'NORTH PROVIDENCE 2414', 'NORTH PROVIDENCE 2415',\n",
       "       'NORTH PROVIDENCE 2416', 'NORTH PROVIDENCE LIMITED',\n",
       "       'NORTH PROVIDENCE PRESIDENTIAL', 'NORTH SMITHFIELD 2501',\n",
       "       'NORTH SMITHFIELD 2502', 'NORTH SMITHFIELD 2503',\n",
       "       'NORTH SMITHFIELD 2504', 'NORTH SMITHFIELD 2505',\n",
       "       'NORTH SMITHFIELD LIMITED', 'NORTH SMITHFIELD PRESIDENTIAL',\n",
       "       'PAWTUCKET 2601', 'PAWTUCKET 2602', 'PAWTUCKET 2603',\n",
       "       'PAWTUCKET 2604', 'PAWTUCKET 2605', 'PAWTUCKET 2606',\n",
       "       'PAWTUCKET 2607', 'PAWTUCKET 2608', 'PAWTUCKET 2609',\n",
       "       'PAWTUCKET 2610', 'PAWTUCKET 2611', 'PAWTUCKET 2612',\n",
       "       'PAWTUCKET 2613', 'PAWTUCKET 2614', 'PAWTUCKET 2615',\n",
       "       'PAWTUCKET 2616', 'PAWTUCKET 2617', 'PAWTUCKET 2618',\n",
       "       'PAWTUCKET 2619', 'PAWTUCKET 2620', 'PAWTUCKET 2621',\n",
       "       'PAWTUCKET 2622', 'PAWTUCKET 2623', 'PAWTUCKET 2624',\n",
       "       'PAWTUCKET 2625', 'PAWTUCKET 2626', 'PAWTUCKET 2627',\n",
       "       'PAWTUCKET 2628', 'PAWTUCKET 2629', 'PAWTUCKET 2630',\n",
       "       'PAWTUCKET 2631', 'PAWTUCKET LIMITED', 'PAWTUCKET PRESIDENTIAL',\n",
       "       'PORTSMOUTH 2701', 'PORTSMOUTH 2702', 'PORTSMOUTH 2703',\n",
       "       'PORTSMOUTH 2704', 'PORTSMOUTH 2705', 'PORTSMOUTH 2706',\n",
       "       'PORTSMOUTH 2707', 'PORTSMOUTH 2708', 'PORTSMOUTH LIMITED',\n",
       "       'PORTSMOUTH PRESIDENTIAL', 'PROVIDENCE 2801', 'PROVIDENCE 2802',\n",
       "       'PROVIDENCE 2803', 'PROVIDENCE 2804', 'PROVIDENCE 2805',\n",
       "       'PROVIDENCE 2806', 'PROVIDENCE 2807', 'PROVIDENCE 2808',\n",
       "       'PROVIDENCE 2809', 'PROVIDENCE 2810', 'PROVIDENCE 2811',\n",
       "       'PROVIDENCE 2812', 'PROVIDENCE 2813', 'PROVIDENCE 2814',\n",
       "       'PROVIDENCE 2815', 'PROVIDENCE 2816', 'PROVIDENCE 2817',\n",
       "       'PROVIDENCE 2818', 'PROVIDENCE 2819', 'PROVIDENCE 2820',\n",
       "       'PROVIDENCE 2821', 'PROVIDENCE 2822', 'PROVIDENCE 2823',\n",
       "       'PROVIDENCE 2824', 'PROVIDENCE 2825', 'PROVIDENCE 2826',\n",
       "       'PROVIDENCE 2827', 'PROVIDENCE 2828', 'PROVIDENCE 2829',\n",
       "       'PROVIDENCE 2830', 'PROVIDENCE 2831', 'PROVIDENCE 2832',\n",
       "       'PROVIDENCE 2833', 'PROVIDENCE 2834', 'PROVIDENCE 2835',\n",
       "       'PROVIDENCE 2836', 'PROVIDENCE 2837', 'PROVIDENCE 2838',\n",
       "       'PROVIDENCE 2839', 'PROVIDENCE 2840', 'PROVIDENCE 2841',\n",
       "       'PROVIDENCE 2842', 'PROVIDENCE 2843', 'PROVIDENCE 2844',\n",
       "       'PROVIDENCE 2845', 'PROVIDENCE 2846', 'PROVIDENCE 2847',\n",
       "       'PROVIDENCE 2848', 'PROVIDENCE 2849', 'PROVIDENCE 2850',\n",
       "       'PROVIDENCE 2851', 'PROVIDENCE 2852', 'PROVIDENCE 2853',\n",
       "       'PROVIDENCE 2854', 'PROVIDENCE 2855', 'PROVIDENCE 2856',\n",
       "       'PROVIDENCE 2857', 'PROVIDENCE 2858', 'PROVIDENCE 2859',\n",
       "       'PROVIDENCE 2860', 'PROVIDENCE 2861', 'PROVIDENCE 2862',\n",
       "       'PROVIDENCE 2863', 'PROVIDENCE 2864', 'PROVIDENCE 2865',\n",
       "       'PROVIDENCE 2866', 'PROVIDENCE 2867', 'PROVIDENCE 2868',\n",
       "       'PROVIDENCE 2869', 'PROVIDENCE 2870', 'PROVIDENCE 2871',\n",
       "       'PROVIDENCE 2872', 'PROVIDENCE 2873', 'PROVIDENCE 2874',\n",
       "       'PROVIDENCE 2875', 'PROVIDENCE 2876', 'PROVIDENCE 2877',\n",
       "       'PROVIDENCE 2878', 'PROVIDENCE 2879', 'PROVIDENCE 2880',\n",
       "       'PROVIDENCE LIMITED 1', 'PROVIDENCE LIMITED 2',\n",
       "       'PROVIDENCE PRESIDENTIAL', 'RICHMOND 2901', 'RICHMOND 2902',\n",
       "       'RICHMOND LIMITED', 'RICHMOND PRESIDENTIAL', 'SCITUATE 3001',\n",
       "       'SCITUATE 3002', 'SCITUATE 3003', 'SCITUATE LIMITED',\n",
       "       'SCITUATE PRESIDENTIAL', 'SMITHFIELD 3101', 'SMITHFIELD 3102',\n",
       "       'SMITHFIELD 3103', 'SMITHFIELD 3104', 'SMITHFIELD 3105',\n",
       "       'SMITHFIELD 3106', 'SMITHFIELD LIMITED', 'SMITHFIELD PRESIDENTIAL',\n",
       "       'SOUTH KINGSTOWN 3201', 'SOUTH KINGSTOWN 3202',\n",
       "       'SOUTH KINGSTOWN 3203', 'SOUTH KINGSTOWN 3204',\n",
       "       'SOUTH KINGSTOWN 3205', 'SOUTH KINGSTOWN 3206',\n",
       "       'SOUTH KINGSTOWN 3207', 'SOUTH KINGSTOWN 3208',\n",
       "       'SOUTH KINGSTOWN 3209', 'SOUTH KINGSTOWN 3210',\n",
       "       'SOUTH KINGSTOWN LIMITED', 'SOUTH KINGSTOWN PRESIDENTIAL',\n",
       "       'TIVERTON 3301', 'TIVERTON 3302', 'TIVERTON 3303', 'TIVERTON 3304',\n",
       "       'TIVERTON 3305', 'TIVERTON 3306', 'TIVERTON 3307',\n",
       "       'TIVERTON LIMITED', 'TIVERTON PRESIDENTIAL', 'WARREN 3401',\n",
       "       'WARREN 3402', 'WARREN 3403', 'WARREN LIMITED',\n",
       "       'WARREN PRESIDENTIAL', 'WARWICK 3501', 'WARWICK 3502',\n",
       "       'WARWICK 3503', 'WARWICK 3504', 'WARWICK 3505', 'WARWICK 3506',\n",
       "       'WARWICK 3507', 'WARWICK 3508', 'WARWICK 3509', 'WARWICK 3510',\n",
       "       'WARWICK 3511', 'WARWICK 3512', 'WARWICK 3513', 'WARWICK 3514',\n",
       "       'WARWICK 3515', 'WARWICK 3516', 'WARWICK 3517', 'WARWICK 3518',\n",
       "       'WARWICK 3519', 'WARWICK 3520', 'WARWICK 3521', 'WARWICK 3522',\n",
       "       'WARWICK 3523', 'WARWICK 3524', 'WARWICK 3525', 'WARWICK 3526',\n",
       "       'WARWICK 3527', 'WARWICK 3528', 'WARWICK 3529', 'WARWICK 3530',\n",
       "       'WARWICK 3531', 'WARWICK 3532', 'WARWICK 3533', 'WARWICK LIMITED',\n",
       "       'WARWICK PRESIDENTIAL', 'WESTERLY 3601', 'WESTERLY 3602',\n",
       "       'WESTERLY 3603', 'WESTERLY 3604', 'WESTERLY 3605', 'WESTERLY 3606',\n",
       "       'WESTERLY 3607', 'WESTERLY LIMITED', 'WESTERLY PRESIDENTIAL',\n",
       "       'WEST GREENWICH 3701', 'WEST GREENWICH 3702',\n",
       "       'WEST GREENWICH 3703', 'WEST GREENWICH 3704',\n",
       "       'WEST GREENWICH LIMITED', 'WEST GREENWICH PRESIDENTIAL',\n",
       "       'WEST WARWICK 3801', 'WEST WARWICK 3802', 'WEST WARWICK 3803',\n",
       "       'WEST WARWICK 3804', 'WEST WARWICK 3805', 'WEST WARWICK 3806',\n",
       "       'WEST WARWICK 3807', 'WEST WARWICK 3808', 'WEST WARWICK 3809',\n",
       "       'WEST WARWICK 3810', 'WEST WARWICK LIMITED',\n",
       "       'WEST WARWICK PRESIDENTIAL', 'WOONSOCKET 3901', 'WOONSOCKET 3902',\n",
       "       'WOONSOCKET 3903', 'WOONSOCKET 3904', 'WOONSOCKET 3905',\n",
       "       'WOONSOCKET 3906', 'WOONSOCKET 3907', 'WOONSOCKET 3908',\n",
       "       'WOONSOCKET 3909', 'WOONSOCKET 3910', 'WOONSOCKET 3911',\n",
       "       'WOONSOCKET 3912', 'WOONSOCKET LIMITED', 'WOONSOCKET PRESIDENTIAL',\n",
       "       'FEDERAL PRECINCT #1', 'FEDERAL PRECINCT #2'], dtype=object)"
      ]
     },
     "execution_count": 55,
     "metadata": {},
     "output_type": "execute_result"
    }
   ],
   "source": [
    "gen_combined_df['precinct'].unique()"
   ]
  },
  {
   "cell_type": "code",
   "execution_count": 56,
   "id": "b28d499d",
   "metadata": {},
   "outputs": [
    {
     "name": "stdout",
     "output_type": "stream",
     "text": [
      "Counties in primary but not in general: 0\n",
      "set()\n"
     ]
    }
   ],
   "source": [
    "primary_counties = set(pri_combined_df['precinct'].dropna().str.strip().str.upper())\n",
    "general_counties = set(gen_combined_df['precinct'].dropna().str.strip().str.upper())\n",
    "\n",
    "diff = primary_counties - general_counties\n",
    "print(f\"Counties in primary but not in general: {len(diff)}\")\n",
    "print(diff)\n"
   ]
  }
 ],
 "metadata": {
  "kernelspec": {
   "display_name": "Python 3",
   "language": "python",
   "name": "python3"
  },
  "language_info": {
   "codemirror_mode": {
    "name": "ipython",
    "version": 3
   },
   "file_extension": ".py",
   "mimetype": "text/x-python",
   "name": "python",
   "nbconvert_exporter": "python",
   "pygments_lexer": "ipython3",
   "version": "3.11.2"
  }
 },
 "nbformat": 4,
 "nbformat_minor": 5
}
