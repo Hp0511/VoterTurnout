{
 "cells": [
  {
   "cell_type": "code",
   "execution_count": 201,
   "id": "ad1be0fa",
   "metadata": {},
   "outputs": [],
   "source": [
    "# Import all the libraries\n",
    "import pandas as pd\n",
    "import glob\n",
    "import os\n",
    "import re\n",
    "from pprint import pprint"
   ]
  },
  {
   "cell_type": "code",
   "execution_count": 202,
   "id": "c263c4df",
   "metadata": {},
   "outputs": [],
   "source": [
    "#Get all CSV files in the folder of GA\n",
    "all_files = glob.glob(r\"C:\\Huy Phan\\College\\VoterTurnout\\data\\MS\\*.csv\")\n",
    "\n",
    "# Files that contain both 'precinct' and 'general' in the filename\n",
    "general_files = [\n",
    "    f for f in all_files\n",
    "    if all(word in f.lower() for word in ['precinct', 'general'])\n",
    "]\n",
    "\n",
    "# Files that contain both 'precinct' and 'primary' in the filename\n",
    "primary_files = [\n",
    "    f for f in all_files\n",
    "    if all(word in f.lower() for word in ['precinct', 'primary'])\n",
    "]\n"
   ]
  },
  {
   "cell_type": "code",
   "execution_count": 203,
   "id": "60d49ea6",
   "metadata": {},
   "outputs": [
    {
     "name": "stdout",
     "output_type": "stream",
     "text": [
      "General files:\n",
      "C:\\Huy Phan\\College\\VoterTurnout\\data\\MS\\20160308__ms__special__general__state_senate__25__precinct.csv\n",
      "C:\\Huy Phan\\College\\VoterTurnout\\data\\MS\\20160607__ms__special__general__state_house__29__precinct.csv\n",
      "C:\\Huy Phan\\College\\VoterTurnout\\data\\MS\\20160628__ms__special__general__runoff__state_house__29__precinct.csv\n",
      "C:\\Huy Phan\\College\\VoterTurnout\\data\\MS\\20160823__ms__special__general__state__house__72__precinct.csv\n",
      "C:\\Huy Phan\\College\\VoterTurnout\\data\\MS\\20160913__ms__special__general__runoff__state__house__72__precinct.csv\n",
      "C:\\Huy Phan\\College\\VoterTurnout\\data\\MS\\20161108__ms__general__precinct.csv\n",
      "C:\\Huy Phan\\College\\VoterTurnout\\data\\MS\\20161129__ms__special__general__runoff__state__house__106__precinct.csv\n",
      "C:\\Huy Phan\\College\\VoterTurnout\\data\\MS\\20161129__ms__special__general__runoff__state__house__89__precinct.csv\n"
     ]
    }
   ],
   "source": [
    "print(\"General files:\")\n",
    "for f in general_files:\n",
    "    print(f)\n"
   ]
  },
  {
   "cell_type": "code",
   "execution_count": 204,
   "id": "4ab13110",
   "metadata": {},
   "outputs": [
    {
     "name": "stdout",
     "output_type": "stream",
     "text": [
      "\n",
      "Primary files:\n",
      "C:\\Huy Phan\\College\\VoterTurnout\\data\\MS\\20160308__ms__primary__precinct.csv\n"
     ]
    }
   ],
   "source": [
    "print(\"\\nPrimary files:\")\n",
    "for f in primary_files:\n",
    "    print(f)"
   ]
  },
  {
   "cell_type": "code",
   "execution_count": 205,
   "id": "ff5df6c7",
   "metadata": {},
   "outputs": [],
   "source": [
    "# Process primary files\n",
    "primary_df_list = []\n",
    "\n",
    "for file in primary_files:\n",
    "    try:\n",
    "        df = pd.read_csv(file)\n",
    "        # Filtering out only President \n",
    "        if 'office' in df.columns:\n",
    "            df = df[df[\"office\"] == \"President\"]\n",
    "            \n",
    "        # Combine precinct as county + precinct\n",
    "        df[\"precinct\"] = df[\"county\"].astype(str) + df[\"precinct\"].astype(str)\n",
    "        df[\"precinct\"] = df[\"precinct\"].str.upper()\n",
    "        df[\"county\"] = df[\"county\"].str.upper()\n",
    "\n",
    "        # Cleaning maybe total precinct\n",
    "        if 'precinct' in df.columns:\n",
    "            df['precinct'] = df['precinct'].astype(str)                  \n",
    "            df = df[df['precinct'].str.upper() != \"TOTAL\"]               \n",
    "            df = df[df['precinct'].str.strip().str.upper() != \"TOTAL\"]   \n",
    "            df = df[df['precinct'].str.upper() != \"NAN\"]                \n",
    "            df = df[~df['precinct'].str.upper().str.contains(r\"\\w*TOTAL\\w*\", na=False)]   \n",
    "\n",
    "        if 'county' in df.columns:\n",
    "            df['county'] = df['county'].astype(str)                  \n",
    "            df = df[df['county'].str.upper() != \"TOTAL\"]               \n",
    "            df = df[df['county'].str.strip().str.upper() != \"TOTAL\"]   \n",
    "            df = df[df['county'].str.upper() != \"NAN\"]       \n",
    "            df = df[~df['county'].str.upper().str.contains(r\"\\w*TOTAL\\w*\", na=False)]               \n",
    "        \n",
    "        # Dropping duplicates value\n",
    "        df = df.drop_duplicates()\n",
    "        \n",
    "        primary_df_list.append(df)\n",
    "\n",
    "    except Exception as e:\n",
    "        print(f\"Error in {file}: {e}\")\n",
    "\n",
    "# Combine all cleaned files\n",
    "pri_combined_df = pd.concat(primary_df_list, ignore_index=True)\n",
    "\n"
   ]
  },
  {
   "cell_type": "code",
   "execution_count": 206,
   "id": "2ef83fe2",
   "metadata": {},
   "outputs": [],
   "source": [
    "## Cleaning precinct, county name\n",
    "# Fixing Cubbler\n",
    "pri_combined_df.loc[\n",
    "    ( \n",
    "        pri_combined_df[\"county\"].str.contains(\"\\w*F120\\w*\", case=False, na=False)|\n",
    "        pri_combined_df[\"county\"].str.contains(\"\\w*STONE\\w*\", case=False, na=False)|\n",
    "        pri_combined_df[\"county\"].str.contains(\"\\w*OBBLER\\w*\", case=False, na=False),\n",
    "    \"county\")\n",
    "] = \"STONE\""
   ]
  },
  {
   "cell_type": "code",
   "execution_count": 207,
   "id": "bbe34b76",
   "metadata": {},
   "outputs": [],
   "source": [
    "# Checking any suspicious precinct, county\n",
    "suspicious_precincts = pri_combined_df[\n",
    "    pri_combined_df[\"precinct\"].isna() |\n",
    "    pri_combined_df[\"precinct\"].str.strip().str.upper().str.contains(r\"\\w*TOTAL\\w*\", na=False) |\n",
    "    pri_combined_df[\"precinct\"].str.strip().str.upper().isin([\"NONE\", \"NAN\"]) |\n",
    "    pri_combined_df[\"county\"].isna() |\n",
    "    pri_combined_df[\"county\"].str.strip().str.upper().str.contains(r\"\\w*TOTAL\\w*\", na=False) |\n",
    "    pri_combined_df[\"county\"].str.strip().str.upper().isin([\"NONE\", \"NAN\"])\n",
    "]"
   ]
  },
  {
   "cell_type": "code",
   "execution_count": 208,
   "id": "f0e1e913",
   "metadata": {},
   "outputs": [
    {
     "data": {
      "application/vnd.microsoft.datawrangler.viewer.v0+json": {
       "columns": [
        {
         "name": "index",
         "rawType": "int64",
         "type": "integer"
        },
        {
         "name": "precinct",
         "rawType": "object",
         "type": "string"
        },
        {
         "name": "party",
         "rawType": "object",
         "type": "string"
        },
        {
         "name": "candidate",
         "rawType": "object",
         "type": "string"
        },
        {
         "name": "votes",
         "rawType": "float64",
         "type": "float"
        }
       ],
       "ref": "2ed9d661-4103-4364-9f28-58ce1b043ced",
       "rows": [
        [
         "0",
         "ADAMSDIST. 1, BELLEMONT",
         "Republican",
         "Jeb Bush",
         "6.0"
        ],
        [
         "1",
         "ADAMSDIST. 1, BELLEMONT",
         "Republican",
         "Ben Carson",
         "4.0"
        ],
        [
         "2",
         "ADAMSDIST. 1, BELLEMONT",
         "Republican",
         "Chris Christie",
         "0.0"
        ],
        [
         "3",
         "ADAMSDIST. 1, BELLEMONT",
         "Republican",
         "Ted Cruz",
         "224.0"
        ],
        [
         "4",
         "ADAMSDIST. 1, BELLEMONT",
         "Republican",
         "Carly Florina",
         "0.0"
        ],
        [
         "5",
         "ADAMSDIST. 1, BELLEMONT",
         "Republican",
         "Lindsey Graham",
         "0.0"
        ],
        [
         "6",
         "ADAMSDIST. 1, BELLEMONT",
         "Republican",
         "Mike Huckabee",
         "2.0"
        ],
        [
         "7",
         "ADAMSDIST. 1, BELLEMONT",
         "Republican",
         "John R. Kasich",
         "88.0"
        ],
        [
         "8",
         "ADAMSDIST. 1, BELLEMONT",
         "Republican",
         "George Pataki",
         "0.0"
        ],
        [
         "9",
         "ADAMSDIST. 1, BELLEMONT",
         "Republican",
         "Rand Paul",
         "0.0"
        ],
        [
         "10",
         "ADAMSDIST. 1, BELLEMONT",
         "Republican",
         "Marco Rubio",
         "52.0"
        ],
        [
         "11",
         "ADAMSDIST. 1, BELLEMONT",
         "Republican",
         "Rick Santorum",
         "0.0"
        ],
        [
         "12",
         "ADAMSDIST. 1, BELLEMONT",
         "Republican",
         "Donald J. Trump",
         "281.0"
        ],
        [
         "13",
         "ADAMSDIST. 1, BY-PASS FIRE",
         "Republican",
         "Jeb Bush",
         "1.0"
        ],
        [
         "14",
         "ADAMSDIST. 1, BY-PASS FIRE",
         "Republican",
         "Ben Carson",
         "1.0"
        ],
        [
         "15",
         "ADAMSDIST. 1, BY-PASS FIRE",
         "Republican",
         "Chris Christie",
         "0.0"
        ],
        [
         "16",
         "ADAMSDIST. 1, BY-PASS FIRE",
         "Republican",
         "Ted Cruz",
         "38.0"
        ],
        [
         "17",
         "ADAMSDIST. 1, BY-PASS FIRE",
         "Republican",
         "Carly Florina",
         "0.0"
        ],
        [
         "18",
         "ADAMSDIST. 1, BY-PASS FIRE",
         "Republican",
         "Lindsey Graham",
         "0.0"
        ],
        [
         "19",
         "ADAMSDIST. 1, BY-PASS FIRE",
         "Republican",
         "Mike Huckabee",
         "0.0"
        ],
        [
         "20",
         "ADAMSDIST. 1, BY-PASS FIRE",
         "Republican",
         "John R. Kasich",
         "11.0"
        ],
        [
         "21",
         "ADAMSDIST. 1, BY-PASS FIRE",
         "Republican",
         "George Pataki",
         "0.0"
        ],
        [
         "22",
         "ADAMSDIST. 1, BY-PASS FIRE",
         "Republican",
         "Rand Paul",
         "0.0"
        ],
        [
         "23",
         "ADAMSDIST. 1, BY-PASS FIRE",
         "Republican",
         "Marco Rubio",
         "4.0"
        ],
        [
         "24",
         "ADAMSDIST. 1, BY-PASS FIRE",
         "Republican",
         "Rick Santorum",
         "0.0"
        ],
        [
         "25",
         "ADAMSDIST. 1, BY-PASS FIRE",
         "Republican",
         "Donald J. Trump",
         "75.0"
        ],
        [
         "26",
         "ADAMSDIST. 1, COURTHOUSE",
         "Republican",
         "Jeb Bush",
         "3.0"
        ],
        [
         "27",
         "ADAMSDIST. 1, COURTHOUSE",
         "Republican",
         "Ben Carson",
         "2.0"
        ],
        [
         "28",
         "ADAMSDIST. 1, COURTHOUSE",
         "Republican",
         "Chris Christie",
         "1.0"
        ],
        [
         "29",
         "ADAMSDIST. 1, COURTHOUSE",
         "Republican",
         "Ted Cruz",
         "47.0"
        ],
        [
         "30",
         "ADAMSDIST. 1, COURTHOUSE",
         "Republican",
         "Carly Florina",
         "0.0"
        ],
        [
         "31",
         "ADAMSDIST. 1, COURTHOUSE",
         "Republican",
         "Lindsey Graham",
         "0.0"
        ],
        [
         "32",
         "ADAMSDIST. 1, COURTHOUSE",
         "Republican",
         "Mike Huckabee",
         "1.0"
        ],
        [
         "33",
         "ADAMSDIST. 1, COURTHOUSE",
         "Republican",
         "John R. Kasich",
         "55.0"
        ],
        [
         "34",
         "ADAMSDIST. 1, COURTHOUSE",
         "Republican",
         "George Pataki",
         "0.0"
        ],
        [
         "35",
         "ADAMSDIST. 1, COURTHOUSE",
         "Republican",
         "Rand Paul",
         "0.0"
        ],
        [
         "36",
         "ADAMSDIST. 1, COURTHOUSE",
         "Republican",
         "Marco Rubio",
         "37.0"
        ],
        [
         "37",
         "ADAMSDIST. 1, COURTHOUSE",
         "Republican",
         "Rick Santorum",
         "0.0"
        ],
        [
         "38",
         "ADAMSDIST. 1, COURTHOUSE",
         "Republican",
         "Donald J. Trump",
         "99.0"
        ],
        [
         "39",
         "ADAMSDIST. 2, BEAU PRE",
         "Republican",
         "Jeb Bush",
         "1.0"
        ],
        [
         "40",
         "ADAMSDIST. 2, BEAU PRE",
         "Republican",
         "Ben Carson",
         "0.0"
        ],
        [
         "41",
         "ADAMSDIST. 2, BEAU PRE",
         "Republican",
         "Chris Christie",
         "0.0"
        ],
        [
         "42",
         "ADAMSDIST. 2, BEAU PRE",
         "Republican",
         "Ted Cruz",
         "80.0"
        ],
        [
         "43",
         "ADAMSDIST. 2, BEAU PRE",
         "Republican",
         "Carly Florina",
         "0.0"
        ],
        [
         "44",
         "ADAMSDIST. 2, BEAU PRE",
         "Republican",
         "Lindsey Graham",
         "0.0"
        ],
        [
         "45",
         "ADAMSDIST. 2, BEAU PRE",
         "Republican",
         "Mike Huckabee",
         "0.0"
        ],
        [
         "46",
         "ADAMSDIST. 2, BEAU PRE",
         "Republican",
         "John R. Kasich",
         "20.0"
        ],
        [
         "47",
         "ADAMSDIST. 2, BEAU PRE",
         "Republican",
         "George Pataki",
         "0.0"
        ],
        [
         "48",
         "ADAMSDIST. 2, BEAU PRE",
         "Republican",
         "Rand Paul",
         "0.0"
        ],
        [
         "49",
         "ADAMSDIST. 2, BEAU PRE",
         "Republican",
         "Marco Rubio",
         "15.0"
        ]
       ],
       "shape": {
        "columns": 4,
        "rows": 32130
       }
      },
      "text/html": [
       "<div>\n",
       "<style scoped>\n",
       "    .dataframe tbody tr th:only-of-type {\n",
       "        vertical-align: middle;\n",
       "    }\n",
       "\n",
       "    .dataframe tbody tr th {\n",
       "        vertical-align: top;\n",
       "    }\n",
       "\n",
       "    .dataframe thead th {\n",
       "        text-align: right;\n",
       "    }\n",
       "</style>\n",
       "<table border=\"1\" class=\"dataframe\">\n",
       "  <thead>\n",
       "    <tr style=\"text-align: right;\">\n",
       "      <th></th>\n",
       "      <th>precinct</th>\n",
       "      <th>party</th>\n",
       "      <th>candidate</th>\n",
       "      <th>votes</th>\n",
       "    </tr>\n",
       "  </thead>\n",
       "  <tbody>\n",
       "    <tr>\n",
       "      <th>0</th>\n",
       "      <td>ADAMSDIST. 1, BELLEMONT</td>\n",
       "      <td>Republican</td>\n",
       "      <td>Jeb Bush</td>\n",
       "      <td>6.0</td>\n",
       "    </tr>\n",
       "    <tr>\n",
       "      <th>1</th>\n",
       "      <td>ADAMSDIST. 1, BELLEMONT</td>\n",
       "      <td>Republican</td>\n",
       "      <td>Ben Carson</td>\n",
       "      <td>4.0</td>\n",
       "    </tr>\n",
       "    <tr>\n",
       "      <th>2</th>\n",
       "      <td>ADAMSDIST. 1, BELLEMONT</td>\n",
       "      <td>Republican</td>\n",
       "      <td>Chris Christie</td>\n",
       "      <td>0.0</td>\n",
       "    </tr>\n",
       "    <tr>\n",
       "      <th>3</th>\n",
       "      <td>ADAMSDIST. 1, BELLEMONT</td>\n",
       "      <td>Republican</td>\n",
       "      <td>Ted Cruz</td>\n",
       "      <td>224.0</td>\n",
       "    </tr>\n",
       "    <tr>\n",
       "      <th>4</th>\n",
       "      <td>ADAMSDIST. 1, BELLEMONT</td>\n",
       "      <td>Republican</td>\n",
       "      <td>Carly Florina</td>\n",
       "      <td>0.0</td>\n",
       "    </tr>\n",
       "    <tr>\n",
       "      <th>...</th>\n",
       "      <td>...</td>\n",
       "      <td>...</td>\n",
       "      <td>...</td>\n",
       "      <td>...</td>\n",
       "    </tr>\n",
       "    <tr>\n",
       "      <th>32125</th>\n",
       "      <td>YAZOOZION</td>\n",
       "      <td>Democrat</td>\n",
       "      <td>Hillary Clinton</td>\n",
       "      <td>25.0</td>\n",
       "    </tr>\n",
       "    <tr>\n",
       "      <th>32126</th>\n",
       "      <td>YAZOOZION</td>\n",
       "      <td>Democrat</td>\n",
       "      <td>Roque \"Rocky\" De Le Fuente</td>\n",
       "      <td>0.0</td>\n",
       "    </tr>\n",
       "    <tr>\n",
       "      <th>32127</th>\n",
       "      <td>YAZOOZION</td>\n",
       "      <td>Democrat</td>\n",
       "      <td>Martin O'Mailey</td>\n",
       "      <td>0.0</td>\n",
       "    </tr>\n",
       "    <tr>\n",
       "      <th>32128</th>\n",
       "      <td>YAZOOZION</td>\n",
       "      <td>Democrat</td>\n",
       "      <td>Bernie Sanders</td>\n",
       "      <td>4.0</td>\n",
       "    </tr>\n",
       "    <tr>\n",
       "      <th>32129</th>\n",
       "      <td>YAZOOZION</td>\n",
       "      <td>Democrat</td>\n",
       "      <td>Willie Wilson</td>\n",
       "      <td>0.0</td>\n",
       "    </tr>\n",
       "  </tbody>\n",
       "</table>\n",
       "<p>32130 rows × 4 columns</p>\n",
       "</div>"
      ],
      "text/plain": [
       "                      precinct       party                   candidate  votes\n",
       "0      ADAMSDIST. 1, BELLEMONT  Republican                    Jeb Bush    6.0\n",
       "1      ADAMSDIST. 1, BELLEMONT  Republican                  Ben Carson    4.0\n",
       "2      ADAMSDIST. 1, BELLEMONT  Republican              Chris Christie    0.0\n",
       "3      ADAMSDIST. 1, BELLEMONT  Republican                    Ted Cruz  224.0\n",
       "4      ADAMSDIST. 1, BELLEMONT  Republican               Carly Florina    0.0\n",
       "...                        ...         ...                         ...    ...\n",
       "32125                YAZOOZION    Democrat             Hillary Clinton   25.0\n",
       "32126                YAZOOZION    Democrat  Roque \"Rocky\" De Le Fuente    0.0\n",
       "32127                YAZOOZION    Democrat             Martin O'Mailey    0.0\n",
       "32128                YAZOOZION    Democrat              Bernie Sanders    4.0\n",
       "32129                YAZOOZION    Democrat               Willie Wilson    0.0\n",
       "\n",
       "[32130 rows x 4 columns]"
      ]
     },
     "execution_count": 208,
     "metadata": {},
     "output_type": "execute_result"
    }
   ],
   "source": [
    "# Select only the relevant columns\n",
    "primary_data = pri_combined_df[[\"precinct\", \"party\", \"candidate\", \"votes\"]]\n",
    "\n",
    "primary_data"
   ]
  },
  {
   "cell_type": "code",
   "execution_count": 209,
   "id": "dc2ffa15",
   "metadata": {},
   "outputs": [
    {
     "data": {
      "application/vnd.microsoft.datawrangler.viewer.v0+json": {
       "columns": [
        {
         "name": "candidate",
         "rawType": "object",
         "type": "string"
        },
        {
         "name": "count",
         "rawType": "int64",
         "type": "integer"
        }
       ],
       "ref": "78287825-e2d6-4d73-872e-73a98d5c969f",
       "rows": [
        [
         "Jeb Bush",
         "1785"
        ],
        [
         "Carly Florina",
         "1785"
        ],
        [
         "Lindsey Graham",
         "1785"
        ],
        [
         "Mike Huckabee",
         "1785"
        ],
        [
         "Bernie Sanders",
         "1785"
        ],
        [
         "Ben Carson",
         "1785"
        ],
        [
         "Rand Paul",
         "1785"
        ],
        [
         "Hillary Clinton",
         "1785"
        ],
        [
         "Rick Santorum",
         "1785"
        ],
        [
         "Donald J. Trump",
         "1774"
        ],
        [
         "Ted Cruz",
         "1774"
        ],
        [
         "Willie Wilson",
         "1750"
        ],
        [
         "Marco Rubio",
         "1750"
        ],
        [
         "George Pataki",
         "1750"
        ],
        [
         "Roque \"Rocky\" De Le Fuente",
         "1649"
        ],
        [
         "Martin O'Mailey",
         "1649"
        ],
        [
         "John R. Kasich",
         "1593"
        ],
        [
         "Chris Christie",
         "1117"
        ],
        [
         "Chris Christle",
         "668"
        ],
        [
         "John R. Kaisch",
         "157"
        ],
        [
         "Martin O'Malley",
         "136"
        ],
        [
         "Roque \"Rocky\" De La Fuente",
         "66"
        ],
        [
         "Roque \"Rocky\" De La Fuque",
         "35"
        ],
        [
         "John R Kasich",
         "35"
        ],
        [
         "George Patakl",
         "35"
        ],
        [
         "Macro Rublo",
         "35"
        ],
        [
         "Roque 'Rocky' De La Fuente",
         "35"
        ],
        [
         "Wille Wilson",
         "35"
        ],
        [
         "Yed Cruz",
         "11"
        ],
        [
         "Donald I. Trump",
         "11"
        ]
       ],
       "shape": {
        "columns": 1,
        "rows": 30
       }
      },
      "text/plain": [
       "candidate\n",
       "Jeb Bush                      1785\n",
       "Carly Florina                 1785\n",
       "Lindsey Graham                1785\n",
       "Mike Huckabee                 1785\n",
       "Bernie Sanders                1785\n",
       "Ben Carson                    1785\n",
       "Rand Paul                     1785\n",
       "Hillary Clinton               1785\n",
       "Rick Santorum                 1785\n",
       "Donald J. Trump               1774\n",
       "Ted Cruz                      1774\n",
       "Willie Wilson                 1750\n",
       "Marco Rubio                   1750\n",
       "George Pataki                 1750\n",
       "Roque \"Rocky\" De Le Fuente    1649\n",
       "Martin O'Mailey               1649\n",
       "John R. Kasich                1593\n",
       "Chris Christie                1117\n",
       "Chris Christle                 668\n",
       "John R. Kaisch                 157\n",
       "Martin O'Malley                136\n",
       "Roque \"Rocky\" De La Fuente      66\n",
       "Roque \"Rocky\" De La Fuque       35\n",
       "John R Kasich                   35\n",
       "George Patakl                   35\n",
       "Macro Rublo                     35\n",
       "Roque 'Rocky' De La Fuente      35\n",
       "Wille Wilson                    35\n",
       "Yed Cruz                        11\n",
       "Donald I. Trump                 11\n",
       "Name: count, dtype: int64"
      ]
     },
     "execution_count": 209,
     "metadata": {},
     "output_type": "execute_result"
    }
   ],
   "source": [
    "# Viewing candidate data\n",
    "primary_data[\"candidate\"].value_counts(dropna=False)"
   ]
  },
  {
   "cell_type": "code",
   "execution_count": 210,
   "id": "5eef8778",
   "metadata": {},
   "outputs": [
    {
     "name": "stderr",
     "output_type": "stream",
     "text": [
      "C:\\Users\\ADMIN\\AppData\\Local\\Temp\\ipykernel_28324\\3816175998.py:33: SettingWithCopyWarning: \n",
      "A value is trying to be set on a copy of a slice from a DataFrame.\n",
      "Try using .loc[row_indexer,col_indexer] = value instead\n",
      "\n",
      "See the caveats in the documentation: https://pandas.pydata.org/pandas-docs/stable/user_guide/indexing.html#returning-a-view-versus-a-copy\n",
      "  primary_data[\"candidate\"] = primary_data[\"candidate\"].astype(str).str.upper()\n",
      "C:\\Users\\ADMIN\\AppData\\Local\\Temp\\ipykernel_28324\\3816175998.py:43: SettingWithCopyWarning: \n",
      "A value is trying to be set on a copy of a slice from a DataFrame.\n",
      "Try using .loc[row_indexer,col_indexer] = value instead\n",
      "\n",
      "See the caveats in the documentation: https://pandas.pydata.org/pandas-docs/stable/user_guide/indexing.html#returning-a-view-versus-a-copy\n",
      "  primary_data[\"candidate\"] = primary_data[\"candidate\"].str.split().str[-1]\n"
     ]
    },
    {
     "data": {
      "application/vnd.microsoft.datawrangler.viewer.v0+json": {
       "columns": [
        {
         "name": "candidate",
         "rawType": "object",
         "type": "string"
        },
        {
         "name": "count",
         "rawType": "int64",
         "type": "integer"
        }
       ],
       "ref": "cba457ad-993c-4aaf-9f60-a9ab118ef6f3",
       "rows": [
        [
         "CHRISTIE",
         "1942"
        ],
        [
         "BUSH",
         "1785"
        ],
        [
         "RUBIO",
         "1785"
        ],
        [
         "SANDERS",
         "1785"
        ],
        [
         "O'MAILEY",
         "1785"
        ],
        [
         "FUENTE",
         "1785"
        ],
        [
         "CLINTON",
         "1785"
        ],
        [
         "TRUMP",
         "1785"
        ],
        [
         "SANTORUM",
         "1785"
        ],
        [
         "PAUL",
         "1785"
        ],
        [
         "CARSON",
         "1785"
        ],
        [
         "PATAKI",
         "1785"
        ],
        [
         "HUCKABEE",
         "1785"
        ],
        [
         "GRAHAM",
         "1785"
        ],
        [
         "FLORINA",
         "1785"
        ],
        [
         "CRUZ",
         "1785"
        ],
        [
         "WILSON",
         "1785"
        ],
        [
         "KASICH",
         "1628"
        ]
       ],
       "shape": {
        "columns": 1,
        "rows": 18
       }
      },
      "text/plain": [
       "candidate\n",
       "CHRISTIE    1942\n",
       "BUSH        1785\n",
       "RUBIO       1785\n",
       "SANDERS     1785\n",
       "O'MAILEY    1785\n",
       "FUENTE      1785\n",
       "CLINTON     1785\n",
       "TRUMP       1785\n",
       "SANTORUM    1785\n",
       "PAUL        1785\n",
       "CARSON      1785\n",
       "PATAKI      1785\n",
       "HUCKABEE    1785\n",
       "GRAHAM      1785\n",
       "FLORINA     1785\n",
       "CRUZ        1785\n",
       "WILSON      1785\n",
       "KASICH      1628\n",
       "Name: count, dtype: int64"
      ]
     },
     "execution_count": 210,
     "metadata": {},
     "output_type": "execute_result"
    }
   ],
   "source": [
    "# Cleaning Candidates\n",
    "\n",
    "# Turning all primary data to uppercase\n",
    "# primary_data[\"candidate\"] = primary_data[\"candidate\"].astype(str).str.upper()\n",
    "\n",
    "# unwanted_keywords = [\n",
    "#     r\"\\w*VOTE\\w*\",\n",
    "#     r\"\\w*UNCOM\\w*\",\n",
    "#     r\"\\w*TOTAL\\w*\",\n",
    "#     r\"Blank Votes\", r\"All Others\",r\"Total Votes Cast\",r\"No Preference\"\n",
    "# ]\n",
    "\n",
    "# pattern = \"|\".join(unwanted_keywords)\n",
    "\n",
    "# # Assuming candidate column is already string and uppercase\n",
    "# primary_data = primary_data[~primary_data[\"candidate\"].str.upper().str.contains(pattern, regex=True, na=False)]\n",
    "\n",
    "#fIXING DE LA FUENTE\n",
    "primary_data.loc[\n",
    "    (\n",
    "        primary_data[\"candidate\"].str.contains(\"rocky.*fuente\", case=False, na=False) |\n",
    "        primary_data[\"candidate\"].str.contains(\"LA FUENTE\", case=False, na=False) |\n",
    "        primary_data[\"candidate\"].str.contains(\"\\w*Fuque\\w*\", case=False, na=False)\n",
    "    ),\n",
    "    \"candidate\"\n",
    "] = \"LA FUENTE\"\n",
    "\n",
    "\n",
    "primary_data.loc[:, \"candidate\"] = primary_data[\"candidate\"].replace({\n",
    "    \"Donald I. Trump\": \"Donald J. Trump\",\n",
    "})\n",
    "\n",
    "primary_data[\"candidate\"] = primary_data[\"candidate\"].astype(str).str.upper()\n",
    "# # Fixing the , candidate\n",
    "# primary_data[\"candidate\"] = (\n",
    "#     primary_data[\"candidate\"].str.split(\",\")\n",
    "#     .str[0]\n",
    "#     .str.strip()\n",
    "#     )\n",
    "\n",
    "\n",
    "# #Selecting only last name\n",
    "primary_data[\"candidate\"] = primary_data[\"candidate\"].str.split().str[-1]\n",
    "\n",
    "# Fixing Christie\n",
    "primary_data.loc[\n",
    "    primary_data[\"candidate\"].str.contains(\"CHRISTLE\", case=False, na=False),\n",
    "    \"candidate\"\n",
    "] = \"CHRISTIE\"\n",
    "\n",
    "# Fixing KASICH\n",
    "primary_data.loc[\n",
    "    primary_data[\"candidate\"].str.contains(\"KAISCH\", case=False, na=False),\n",
    "    \"candidate\"\n",
    "] = \"CHRISTIE\"\n",
    "\n",
    "# Fixing O'MALLEY\n",
    "primary_data.loc[\n",
    "    primary_data[\"candidate\"].str.contains(\"O'MALLEY\", case=False, na=False),\n",
    "    \"candidate\"\n",
    "] = \"O'MAILEY\"\n",
    "\n",
    "# Fixing O'MALLEY\n",
    "primary_data.loc[\n",
    "    primary_data[\"candidate\"].str.contains(\"PATAKL\", case=False, na=False),\n",
    "    \"candidate\"\n",
    "] = \"PATAKI\"\n",
    "\n",
    "# Fixing O'MALLEY\n",
    "primary_data.loc[\n",
    "    primary_data[\"candidate\"].str.contains(\"RUBLO\", case=False, na=False),\n",
    "    \"candidate\"\n",
    "] = \"RUBIO\"\n",
    "\n",
    "# # Fixing Huckabee\n",
    "# primary_data.loc[\n",
    "#     primary_data[\"candidate\"].str.contains(\"\\w*ABEE\\w*\", case=False, na=False),\n",
    "#     \"candidate\"\n",
    "# ] = \"HUCKABEE\"\n",
    "\n",
    "# # Fixing Fiorina\n",
    "# primary_data.loc[\n",
    "#     primary_data[\"candidate\"].str.contains(\"\\w*ORINA\\W*\", case=False, na=False),\n",
    "#     \"candidate\"\n",
    "# ] = \"FIORINA\"\n",
    "\n",
    "# # Fixing Gray\n",
    "# primary_data.loc[\n",
    "#     primary_data[\"candidate\"].str.contains(\"GREY\", case=False, na=False),\n",
    "#     \"candidate\"\n",
    "# ] = \"GRAY\"\n",
    "\n",
    "# # Fixing Wilson\n",
    "# primary_data.loc[\n",
    "#     primary_data[\"candidate\"].str.contains(\"WISON\", case=False, na=False),\n",
    "#     \"candidate\"\n",
    "# ] = \"WILSON\"\n",
    "\n",
    "\n",
    "# # Fixing separator \n",
    "# primary_data[\"candidate\"] = (\n",
    "#     primary_data[\"candidate\"]\n",
    "#     .str.split(r\"\\s*(?:and|/|&|–|-|\\+)\\s*\", n=1, expand=True)[0]\n",
    "#     .str.strip()\n",
    "#     .str.upper()\n",
    "# )\n",
    "\n",
    "# # Fixing McMullin\n",
    "\n",
    "# primary_data.loc[\n",
    "#     (\n",
    "#         primary_data[\"candidate\"].str.contains(\"MCMULLIN\", case=False, na=False) |\n",
    "#         primary_data[\"candidate\"].str.contains(\"EVAN MCMULLEN\", case=False, na=False)\n",
    "#     ),\n",
    "#     \"candidate\"\n",
    "# ] = \"MCMULLIN\"\n",
    "\n",
    "# primary_data.loc[\n",
    "#     primary_data[\"candidate\"].str.contains(\"De La Fuen\", case=False, na=False),\n",
    "#     \"candidate\"\n",
    "# ] = \"FUENTE D\"\n",
    "\n",
    "# primary_data.loc[:,\"candidate\"] = (\n",
    "#     primary_data[\"candidate\"].str.split().str[0].str.upper()\n",
    "# )\n",
    "\n",
    "primary_data[\"candidate\"].value_counts(dropna=False)"
   ]
  },
  {
   "cell_type": "code",
   "execution_count": 211,
   "id": "dcc76af7",
   "metadata": {},
   "outputs": [
    {
     "data": {
      "application/vnd.microsoft.datawrangler.viewer.v0+json": {
       "columns": [
        {
         "name": "party",
         "rawType": "object",
         "type": "string"
        },
        {
         "name": "count",
         "rawType": "int64",
         "type": "integer"
        }
       ],
       "ref": "adb15c98-a1d1-4207-8462-693ae8bf5a71",
       "rows": [
        [
         "Republican",
         "23205"
        ],
        [
         "Democrat",
         "8420"
        ],
        [
         "Democratic",
         "505"
        ]
       ],
       "shape": {
        "columns": 1,
        "rows": 3
       }
      },
      "text/plain": [
       "party\n",
       "Republican    23205\n",
       "Democrat       8420\n",
       "Democratic      505\n",
       "Name: count, dtype: int64"
      ]
     },
     "execution_count": 211,
     "metadata": {},
     "output_type": "execute_result"
    }
   ],
   "source": [
    "# Viewing Party\n",
    "primary_data[\"party\"].value_counts(dropna=False)"
   ]
  },
  {
   "cell_type": "code",
   "execution_count": 212,
   "id": "582aa6c5",
   "metadata": {},
   "outputs": [
    {
     "data": {
      "application/vnd.microsoft.datawrangler.viewer.v0+json": {
       "columns": [
        {
         "name": "party",
         "rawType": "object",
         "type": "string"
        },
        {
         "name": "count",
         "rawType": "int64",
         "type": "integer"
        }
       ],
       "ref": "326106dc-4b82-4daa-8249-b1a3a33679a0",
       "rows": [
        [
         "Republican",
         "23205"
        ],
        [
         "Democrat",
         "8420"
        ],
        [
         "Democratic",
         "505"
        ]
       ],
       "shape": {
        "columns": 1,
        "rows": 3
       }
      },
      "text/plain": [
       "party\n",
       "Republican    23205\n",
       "Democrat       8420\n",
       "Democratic      505\n",
       "Name: count, dtype: int64"
      ]
     },
     "execution_count": 212,
     "metadata": {},
     "output_type": "execute_result"
    }
   ],
   "source": [
    "#=====================================\n",
    "# This function is used to look up party\n",
    "# for the candidate in the same df\n",
    "#=====================================\n",
    "def fill_party_from_data(row, df):\n",
    "    if pd.notna(row[\"party\"]):\n",
    "        return row[\"party\"]\n",
    "    \n",
    "    # Try to find other rows with the same candidate and known party\n",
    "    matches = df[(df[\"candidate\"] == row[\"candidate\"]) & (df[\"party\"].notna())]\n",
    "    if not matches.empty:\n",
    "        return matches[\"party\"].iloc[0]  # Return the first match's party\n",
    "    else:\n",
    "        return None  # Still unknown\n",
    "\n",
    "#=====================================\n",
    "# Example usage (uncomment and modify for your workflow)\n",
    "#=====================================\n",
    "# Fill party using internal data\n",
    "# primary_data[\"party\"] = primary_data.apply(\n",
    "#     lambda row: fill_party_from_data(row, primary_data),\n",
    "#     axis=1\n",
    "# )\n",
    "\n",
    "primary_data[\"party\"].value_counts(dropna=False)\n"
   ]
  },
  {
   "cell_type": "code",
   "execution_count": 213,
   "id": "34361751",
   "metadata": {},
   "outputs": [
    {
     "name": "stderr",
     "output_type": "stream",
     "text": [
      "C:\\Users\\ADMIN\\AppData\\Local\\Temp\\ipykernel_28324\\2220816968.py:3: SettingWithCopyWarning: \n",
      "A value is trying to be set on a copy of a slice from a DataFrame.\n",
      "Try using .loc[row_indexer,col_indexer] = value instead\n",
      "\n",
      "See the caveats in the documentation: https://pandas.pydata.org/pandas-docs/stable/user_guide/indexing.html#returning-a-view-versus-a-copy\n",
      "  primary_data[\"party\"] = primary_data[\"party\"].astype(str).str.upper()\n",
      "C:\\Users\\ADMIN\\AppData\\Local\\Temp\\ipykernel_28324\\2220816968.py:5: SettingWithCopyWarning: \n",
      "A value is trying to be set on a copy of a slice from a DataFrame.\n",
      "Try using .loc[row_indexer,col_indexer] = value instead\n",
      "\n",
      "See the caveats in the documentation: https://pandas.pydata.org/pandas-docs/stable/user_guide/indexing.html#returning-a-view-versus-a-copy\n",
      "  primary_data[\"party\"] = primary_data.apply(\n",
      "C:\\Users\\ADMIN\\AppData\\Local\\Temp\\ipykernel_28324\\2220816968.py:9: SettingWithCopyWarning: \n",
      "A value is trying to be set on a copy of a slice from a DataFrame.\n",
      "Try using .loc[row_indexer,col_indexer] = value instead\n",
      "\n",
      "See the caveats in the documentation: https://pandas.pydata.org/pandas-docs/stable/user_guide/indexing.html#returning-a-view-versus-a-copy\n",
      "  primary_data[\"party\"] = (\n"
     ]
    },
    {
     "data": {
      "application/vnd.microsoft.datawrangler.viewer.v0+json": {
       "columns": [
        {
         "name": "party",
         "rawType": "object",
         "type": "string"
        },
        {
         "name": "count",
         "rawType": "int64",
         "type": "integer"
        }
       ],
       "ref": "38825773-7696-4ac1-bd4b-49d782a0fde0",
       "rows": [
        [
         "REP",
         "23205"
        ],
        [
         "DEM",
         "8925"
        ]
       ],
       "shape": {
        "columns": 1,
        "rows": 2
       }
      },
      "text/plain": [
       "party\n",
       "REP    23205\n",
       "DEM     8925\n",
       "Name: count, dtype: int64"
      ]
     },
     "execution_count": 213,
     "metadata": {},
     "output_type": "execute_result"
    }
   ],
   "source": [
    "# Cleaning Party\n",
    "# Turning all general data party to uppercase\n",
    "primary_data[\"party\"] = primary_data[\"party\"].astype(str).str.upper()\n",
    "\n",
    "primary_data[\"party\"] = primary_data.apply(\n",
    "    lambda row: fill_party_from_data(row, primary_data),\n",
    "    axis=1\n",
    ")\n",
    "primary_data[\"party\"] = (\n",
    "    primary_data[\"party\"]\n",
    "    .replace({\n",
    "        \"REPUBLICAN\": \"REP\",\n",
    "        \"R\": \"REP\",\n",
    "        \"DEMOCRATIC\": \"DEM\",\n",
    "        \"DEMOCRAT\":\"DEM\",\n",
    "        \"DEM\": \"DEM\",\n",
    "        \"D\": \"DEM\",\n",
    "        \"GREEN\": \"GRN\",\n",
    "        \"G\": \"GREEN\",\n",
    "        \"GREEN-RAINBOW\":\"GRN\",\n",
    "        \"LIBERTARIAN\": \"LIB\",\n",
    "        \"LBT\": \"LIB\",\n",
    "        \"L\": \"LIB\",\n",
    "        \"CONSTITUTION\": \"CON\",\n",
    "        \"NP\": \"IND\",\n",
    "        \"NON\": \"IND\",\n",
    "        \"WRI\": \"IND\",\n",
    "        \"WRITE-IN\": \"IND\",\n",
    "        \"ONA\": \"IND\",\n",
    "        \"GEN\": \"IND\",\n",
    "        \"NONE\":\"UNK\"\n",
    "    })\n",
    ")\n",
    "primary_data[\"party\"].value_counts(dropna=False)"
   ]
  },
  {
   "cell_type": "code",
   "execution_count": 214,
   "id": "a359cd18",
   "metadata": {},
   "outputs": [
    {
     "name": "stderr",
     "output_type": "stream",
     "text": [
      "C:\\Users\\ADMIN\\AppData\\Local\\Temp\\ipykernel_28324\\2521670330.py:1: SettingWithCopyWarning: \n",
      "A value is trying to be set on a copy of a slice from a DataFrame.\n",
      "Try using .loc[row_indexer,col_indexer] = value instead\n",
      "\n",
      "See the caveats in the documentation: https://pandas.pydata.org/pandas-docs/stable/user_guide/indexing.html#returning-a-view-versus-a-copy\n",
      "  primary_data.loc[:,\"candidate_column\"] = (\n"
     ]
    },
    {
     "data": {
      "application/vnd.microsoft.datawrangler.viewer.v0+json": {
       "columns": [
        {
         "name": "index",
         "rawType": "int64",
         "type": "integer"
        },
        {
         "name": "precinct",
         "rawType": "object",
         "type": "string"
        },
        {
         "name": "pri_dem_CLINTON",
         "rawType": "float64",
         "type": "float"
        },
        {
         "name": "pri_dem_FUENTE",
         "rawType": "float64",
         "type": "float"
        },
        {
         "name": "pri_dem_O'MAILEY",
         "rawType": "float64",
         "type": "float"
        },
        {
         "name": "pri_dem_SANDERS",
         "rawType": "float64",
         "type": "float"
        },
        {
         "name": "pri_dem_WILSON",
         "rawType": "float64",
         "type": "float"
        },
        {
         "name": "pri_rep_BUSH",
         "rawType": "float64",
         "type": "float"
        },
        {
         "name": "pri_rep_CARSON",
         "rawType": "float64",
         "type": "float"
        },
        {
         "name": "pri_rep_CHRISTIE",
         "rawType": "float64",
         "type": "float"
        },
        {
         "name": "pri_rep_CRUZ",
         "rawType": "float64",
         "type": "float"
        },
        {
         "name": "pri_rep_FLORINA",
         "rawType": "float64",
         "type": "float"
        },
        {
         "name": "pri_rep_GRAHAM",
         "rawType": "float64",
         "type": "float"
        },
        {
         "name": "pri_rep_HUCKABEE",
         "rawType": "float64",
         "type": "float"
        },
        {
         "name": "pri_rep_KASICH",
         "rawType": "float64",
         "type": "float"
        },
        {
         "name": "pri_rep_PATAKI",
         "rawType": "float64",
         "type": "float"
        },
        {
         "name": "pri_rep_PAUL",
         "rawType": "float64",
         "type": "float"
        },
        {
         "name": "pri_rep_RUBIO",
         "rawType": "float64",
         "type": "float"
        },
        {
         "name": "pri_rep_SANTORUM",
         "rawType": "float64",
         "type": "float"
        },
        {
         "name": "pri_rep_TRUMP",
         "rawType": "float64",
         "type": "float"
        }
       ],
       "ref": "bcc41071-7f82-44d2-87c3-8c937b832ea4",
       "rows": [
        [
         "0",
         "ADAMSDIST. 1, BELLEMONT",
         "163.0",
         "1.0",
         "0.0",
         "49.0",
         "2.0",
         "6.0",
         "4.0",
         "0.0",
         "224.0",
         "0.0",
         "0.0",
         "2.0",
         "88.0",
         "0.0",
         "0.0",
         "52.0",
         "0.0",
         "281.0"
        ],
        [
         "1",
         "ADAMSDIST. 1, BY-PASS FIRE",
         "205.0",
         "0.0",
         "2.0",
         "29.0",
         "1.0",
         "1.0",
         "1.0",
         "0.0",
         "38.0",
         "0.0",
         "0.0",
         "0.0",
         "11.0",
         "0.0",
         "0.0",
         "4.0",
         "0.0",
         "75.0"
        ],
        [
         "2",
         "ADAMSDIST. 1, COURTHOUSE",
         "61.0",
         "0.0",
         "0.0",
         "31.0",
         "0.0",
         "3.0",
         "2.0",
         "1.0",
         "47.0",
         "0.0",
         "0.0",
         "1.0",
         "55.0",
         "0.0",
         "0.0",
         "37.0",
         "0.0",
         "99.0"
        ],
        [
         "3",
         "ADAMSDIST. 2, BEAU PRE",
         "106.0",
         "0.0",
         "0.0",
         "14.0",
         "0.0",
         "1.0",
         "0.0",
         "0.0",
         "80.0",
         "0.0",
         "0.0",
         "0.0",
         "20.0",
         "0.0",
         "0.0",
         "15.0",
         "0.0",
         "118.0"
        ],
        [
         "4",
         "ADAMSDIST. 2, DUNCAN PARK",
         "112.0",
         "0.0",
         "1.0",
         "30.0",
         "0.0",
         "3.0",
         "7.0",
         "1.0",
         "77.0",
         "1.0",
         "0.0",
         "0.0",
         "38.0",
         "0.0",
         "1.0",
         "21.0",
         "0.0",
         "97.0"
        ],
        [
         "5",
         "ADAMSDIST. 2, KINGSTON",
         "45.0",
         "0.0",
         "0.0",
         "10.0",
         "0.0",
         "5.0",
         "1.0",
         "0.0",
         "92.0",
         "0.0",
         "0.0",
         "0.0",
         "10.0",
         "0.0",
         "0.0",
         "4.0",
         "0.0",
         "164.0"
        ],
        [
         "6",
         "ADAMSDIST. 2, LIBERTY PARK",
         "54.0",
         "0.0",
         "1.0",
         "14.0",
         "0.0",
         "1.0",
         "4.0",
         "1.0",
         "118.0",
         "0.0",
         "1.0",
         "2.0",
         "18.0",
         "0.0",
         "0.0",
         "23.0",
         "0.0",
         "136.0"
        ],
        [
         "7",
         "ADAMSDIST. 3, CONCORD",
         "212.0",
         "0.0",
         "0.0",
         "19.0",
         "0.0",
         "0.0",
         "0.0",
         "0.0",
         "5.0",
         "0.0",
         "0.0",
         "0.0",
         "1.0",
         "0.0",
         "0.0",
         "0.0",
         "0.0",
         "4.0"
        ],
        [
         "8",
         "ADAMSDIST. 3, NPS MULTI PURPOSE BLDG.",
         "111.0",
         "0.0",
         "1.0",
         "18.0",
         "0.0",
         "0.0",
         "0.0",
         "0.0",
         "33.0",
         "0.0",
         "0.0",
         "0.0",
         "13.0",
         "0.0",
         "0.0",
         "5.0",
         "0.0",
         "37.0"
        ],
        [
         "9",
         "ADAMSDIST. 3, PALESTINE",
         "179.0",
         "1.0",
         "0.0",
         "22.0",
         "2.0",
         "3.0",
         "1.0",
         "1.0",
         "57.0",
         "0.0",
         "0.0",
         "0.0",
         "2.0",
         "0.0",
         "0.0",
         "2.0",
         "0.0",
         "90.0"
        ],
        [
         "10",
         "ADAMSDIST. 3,MARYLAND HGTS",
         "220.0",
         "0.0",
         "1.0",
         "14.0",
         "1.0",
         "0.0",
         "2.0",
         "0.0",
         "1.0",
         "0.0",
         "0.0",
         "0.0",
         "0.0",
         "0.0",
         "0.0",
         "0.0",
         "0.0",
         "4.0"
        ],
        [
         "11",
         "ADAMSDIST. 4, CARPENTER",
         "126.0",
         "0.0",
         "0.0",
         "18.0",
         "0.0",
         "1.0",
         "0.0",
         "0.0",
         "21.0",
         "0.0",
         "0.0",
         "0.0",
         "14.0",
         "0.0",
         "1.0",
         "7.0",
         "0.0",
         "33.0"
        ],
        [
         "12",
         "ADAMSDIST. 4, MORGANTOWN",
         "129.0",
         "0.0",
         "2.0",
         "19.0",
         "0.0",
         "0.0",
         "0.0",
         "0.0",
         "18.0",
         "0.0",
         "0.0",
         "0.0",
         "2.0",
         "0.0",
         "0.0",
         "0.0",
         "1.0",
         "44.0"
        ],
        [
         "13",
         "ADAMSDIST. 4, NORTHSIDE",
         "491.0",
         "1.0",
         "2.0",
         "39.0",
         "1.0",
         "0.0",
         "1.0",
         "1.0",
         "4.0",
         "0.0",
         "0.0",
         "0.0",
         "1.0",
         "0.0",
         "0.0",
         "1.0",
         "0.0",
         "13.0"
        ],
        [
         "14",
         "ADAMSDIST. 4, PINE RIDGE",
         "185.0",
         "0.0",
         "0.0",
         "12.0",
         "0.0",
         "0.0",
         "2.0",
         "0.0",
         "12.0",
         "0.0",
         "0.0",
         "0.0",
         "5.0",
         "0.0",
         "0.0",
         "6.0",
         "0.0",
         "11.0"
        ],
        [
         "15",
         "ADAMSDIST. 5, AIRPORT",
         "181.0",
         "0.0",
         "1.0",
         "17.0",
         "0.0",
         "1.0",
         "0.0",
         "0.0",
         "46.0",
         "0.0",
         "0.0",
         "0.0",
         "5.0",
         "1.0",
         "0.0",
         "4.0",
         "0.0",
         "43.0"
        ],
        [
         "16",
         "ADAMSDIST. 5, FOSTER MOUND",
         "381.0",
         "0.0",
         "2.0",
         "36.0",
         "3.0",
         "1.0",
         "0.0",
         "0.0",
         "3.0",
         "0.0",
         "0.0",
         "0.0",
         "2.0",
         "0.0",
         "0.0",
         "2.0",
         "0.0",
         "11.0"
        ],
        [
         "17",
         "ADAMSDIST. 5, OAKLAND",
         "194.0",
         "2.0",
         "0.0",
         "43.0",
         "1.0",
         "3.0",
         "4.0",
         "0.0",
         "111.0",
         "0.0",
         "0.0",
         "0.0",
         "14.0",
         "0.0",
         "1.0",
         "20.0",
         "0.0",
         "139.0"
        ],
        [
         "18",
         "ADAMSDIST. 5, WASHINGTON",
         "60.0",
         "0.0",
         "0.0",
         "17.0",
         "0.0",
         "0.0",
         "1.0",
         "0.0",
         "66.0",
         "0.0",
         "1.0",
         "0.0",
         "15.0",
         "0.0",
         "1.0",
         "3.0",
         "0.0",
         "90.0"
        ],
        [
         "19",
         "ADAMSNAN",
         "3215.0",
         "5.0",
         "13.0",
         "451.0",
         "11.0",
         "29.0",
         "30.0",
         "5.0",
         "1053.0",
         "1.0",
         "2.0",
         "5.0",
         "314.0",
         "1.0",
         "4.0",
         "206.0",
         "1.0",
         "1489.0"
        ],
        [
         "20",
         "ALCORN2ND DISTRICT CENTRAL PRECINCT",
         "41.0",
         "0.0",
         "0.0",
         "22.0",
         "3.0",
         "2.0",
         "13.0",
         "0.0",
         "212.0",
         "0.0",
         "0.0",
         "1.0",
         "39.0",
         "0.0",
         "1.0",
         "22.0",
         "0.0",
         "287.0"
        ],
        [
         "21",
         "ALCORNBETHEL",
         "1.0",
         "0.0",
         "0.0",
         "2.0",
         "0.0",
         "0.0",
         "0.0",
         "0.0",
         "11.0",
         "0.0",
         "0.0",
         "0.0",
         "1.0",
         "0.0",
         "0.0",
         "2.0",
         "1.0",
         "24.0"
        ],
        [
         "22",
         "ALCORNBIGGERSVILLE",
         "28.0",
         "1.0",
         "0.0",
         "15.0",
         "0.0",
         "0.0",
         "10.0",
         "0.0",
         "106.0",
         "0.0",
         "0.0",
         "0.0",
         "20.0",
         "0.0",
         "0.0",
         "10.0",
         "0.0",
         "141.0"
        ],
        [
         "23",
         "ALCORNCOLLEGE HILL",
         "70.0",
         "0.0",
         "0.0",
         "24.0",
         "1.0",
         "2.0",
         "1.0",
         "0.0",
         "63.0",
         "1.0",
         "0.0",
         "0.0",
         "16.0",
         "0.0",
         "0.0",
         "24.0",
         "1.0",
         "116.0"
        ],
        [
         "24",
         "ALCORNEAST CORINTH",
         "70.0",
         "0.0",
         "0.0",
         "34.0",
         "1.0",
         "1.0",
         "10.0",
         "1.0",
         "169.0",
         "0.0",
         "0.0",
         "1.0",
         "88.0",
         "0.0",
         "0.0",
         "41.0",
         "0.0",
         "228.0"
        ],
        [
         "25",
         "ALCORNFIVE POINTS 1ST DIST",
         "56.0",
         "0.0",
         "1.0",
         "24.0",
         "0.0",
         "0.0",
         "8.0",
         "0.0",
         "238.0",
         "0.0",
         "0.0",
         "1.0",
         "33.0",
         "0.0",
         "2.0",
         "24.0",
         "1.0",
         "398.0"
        ],
        [
         "26",
         "ALCORNGLEN",
         "26.0",
         "1.0",
         "1.0",
         "26.0",
         "2.0",
         "0.0",
         "4.0",
         "1.0",
         "102.0",
         "1.0",
         "0.0",
         "1.0",
         "20.0",
         "0.0",
         "0.0",
         "15.0",
         "0.0",
         "256.0"
        ],
        [
         "27",
         "ALCORNJACINTO",
         "9.0",
         "0.0",
         "1.0",
         "3.0",
         "1.0",
         "0.0",
         "3.0",
         "0.0",
         "65.0",
         "0.0",
         "0.0",
         "0.0",
         "5.0",
         "0.0",
         "0.0",
         "3.0",
         "0.0",
         "74.0"
        ],
        [
         "28",
         "ALCORNKOSSUTH",
         "29.0",
         "0.0",
         "0.0",
         "26.0",
         "0.0",
         "1.0",
         "8.0",
         "0.0",
         "231.0",
         "0.0",
         "0.0",
         "3.0",
         "48.0",
         "0.0",
         "1.0",
         "37.0",
         "0.0",
         "288.0"
        ],
        [
         "29",
         "ALCORNNORTH CORINTH",
         "29.0",
         "0.0",
         "1.0",
         "23.0",
         "4.0",
         "1.0",
         "2.0",
         "0.0",
         "155.0",
         "0.0",
         "0.0",
         "0.0",
         "46.0",
         "0.0",
         "0.0",
         "42.0",
         "1.0",
         "161.0"
        ],
        [
         "30",
         "ALCORNPINECREST",
         "31.0",
         "0.0",
         "0.0",
         "12.0",
         "0.0",
         "0.0",
         "1.0",
         "0.0",
         "78.0",
         "0.0",
         "0.0",
         "0.0",
         "16.0",
         "0.0",
         "0.0",
         "17.0",
         "0.0",
         "94.0"
        ],
        [
         "31",
         "ALCORNRIENZI",
         "63.0",
         "0.0",
         "1.0",
         "10.0",
         "4.0",
         "0.0",
         "4.0",
         "0.0",
         "147.0",
         "1.0",
         "0.0",
         "0.0",
         "17.0",
         "0.0",
         "1.0",
         "27.0",
         "0.0",
         "162.0"
        ],
        [
         "32",
         "ALCORNSHADY GROVE",
         "26.0",
         "0.0",
         "1.0",
         "18.0",
         "1.0",
         "1.0",
         "2.0",
         "0.0",
         "115.0",
         "0.0",
         "0.0",
         "3.0",
         "20.0",
         "0.0",
         "0.0",
         "24.0",
         "0.0",
         "153.0"
        ],
        [
         "33",
         "ALCORNSOUTH CORINTH",
         "213.0",
         "1.0",
         "0.0",
         "29.0",
         "1.0",
         "0.0",
         "6.0",
         "0.0",
         "82.0",
         "0.0",
         "1.0",
         "0.0",
         "12.0",
         "0.0",
         "0.0",
         "16.0",
         "0.0",
         "125.0"
        ],
        [
         "34",
         "ALCORNUNION CENTER",
         "41.0",
         "0.0",
         "2.0",
         "11.0",
         "3.0",
         "2.0",
         "1.0",
         "1.0",
         "111.0",
         "0.0",
         "0.0",
         "3.0",
         "6.0",
         "0.0",
         "0.0",
         "18.0",
         "0.0",
         "211.0"
        ],
        [
         "35",
         "ALCORNWENASOGA",
         "59.0",
         "0.0",
         "0.0",
         "21.0",
         "0.0",
         "0.0",
         "3.0",
         "0.0",
         "104.0",
         "0.0",
         "0.0",
         "1.0",
         "16.0",
         "0.0",
         "1.0",
         "16.0",
         "0.0",
         "152.0"
        ],
        [
         "36",
         "ALCORNWEST CORINTH",
         "37.0",
         "0.0",
         "0.0",
         "18.0",
         "0.0",
         "1.0",
         "5.0",
         "1.0",
         "64.0",
         "0.0",
         "0.0",
         "0.0",
         "25.0",
         "0.0",
         "2.0",
         "14.0",
         "0.0",
         "102.0"
        ],
        [
         "37",
         "AMITEAMITE RIVER",
         "93.0",
         "0.0",
         "0.0",
         "5.0",
         "1.0",
         "3.0",
         "0.0",
         "0.0",
         "23.0",
         "0.0",
         "0.0",
         "1.0",
         "1.0",
         "0.0",
         "0.0",
         "1.0",
         "0.0",
         "44.0"
        ],
        [
         "38",
         "AMITEARIEL",
         "113.0",
         "0.0",
         "0.0",
         "12.0",
         "0.0",
         "0.0",
         "0.0",
         "0.0",
         "12.0",
         "0.0",
         "0.0",
         "0.0",
         "0.0",
         "0.0",
         "0.0",
         "0.0",
         "0.0",
         "17.0"
        ],
        [
         "39",
         "AMITEBERWICK",
         "127.0",
         "0.0",
         "2.0",
         "4.0",
         "0.0",
         "0.0",
         "0.0",
         "0.0",
         "19.0",
         "0.0",
         "0.0",
         "0.0",
         "0.0",
         "0.0",
         "0.0",
         "0.0",
         "0.0",
         "28.0"
        ],
        [
         "40",
         "AMITECROSBY",
         "58.0",
         "0.0",
         "0.0",
         "4.0",
         "2.0",
         "0.0",
         "0.0",
         "0.0",
         "20.0",
         "0.0",
         "0.0",
         "0.0",
         "1.0",
         "0.0",
         "0.0",
         "2.0",
         "0.0",
         "39.0"
        ],
        [
         "41",
         "AMITEEAST CENTERVILLE",
         "59.0",
         "0.0",
         "0.0",
         "6.0",
         "0.0",
         "0.0",
         "0.0",
         "0.0",
         "49.0",
         "0.0",
         "0.0",
         "0.0",
         "3.0",
         "0.0",
         "0.0",
         "8.0",
         "0.0",
         "51.0"
        ],
        [
         "42",
         "AMITEEAST FORK",
         "28.0",
         "0.0",
         "0.0",
         "12.0",
         "0.0",
         "5.0",
         "1.0",
         "0.0",
         "61.0",
         "0.0",
         "0.0",
         "0.0",
         "9.0",
         "0.0",
         "0.0",
         "5.0",
         "0.0",
         "102.0"
        ],
        [
         "43",
         "AMITEEAST GLOSTER",
         "36.0",
         "0.0",
         "0.0",
         "3.0",
         "1.0",
         "2.0",
         "1.0",
         "0.0",
         "34.0",
         "0.0",
         "0.0",
         "0.0",
         "8.0",
         "0.0",
         "0.0",
         "5.0",
         "0.0",
         "60.0"
        ],
        [
         "44",
         "AMITEEAST LIBERTY",
         "32.0",
         "0.0",
         "2.0",
         "5.0",
         "0.0",
         "0.0",
         "0.0",
         "0.0",
         "60.0",
         "0.0",
         "0.0",
         "0.0",
         "3.0",
         "0.0",
         "0.0",
         "5.0",
         "0.0",
         "40.0"
        ],
        [
         "45",
         "AMITEGLOSTER",
         "240.0",
         "2.0",
         "0.0",
         "12.0",
         "1.0",
         "1.0",
         "0.0",
         "0.0",
         "16.0",
         "0.0",
         "0.0",
         "0.0",
         "0.0",
         "0.0",
         "0.0",
         "4.0",
         "0.0",
         "26.0"
        ],
        [
         "46",
         "AMITEHOMOCHITTO",
         "2.0",
         "0.0",
         "0.0",
         "2.0",
         "1.0",
         "0.0",
         "0.0",
         "0.0",
         "16.0",
         "0.0",
         "0.0",
         "1.0",
         "3.0",
         "0.0",
         "0.0",
         "0.0",
         "0.0",
         "26.0"
        ],
        [
         "47",
         "AMITELIBERTY",
         "59.0",
         "0.0",
         "0.0",
         "14.0",
         "2.0",
         "1.0",
         "5.0",
         "0.0",
         "91.0",
         "0.0",
         "0.0",
         "1.0",
         "24.0",
         "0.0",
         "2.0",
         "7.0",
         "0.0",
         "111.0"
        ],
        [
         "48",
         "AMITENEW ZION",
         "26.0",
         "0.0",
         "0.0",
         "4.0",
         "0.0",
         "2.0",
         "2.0",
         "1.0",
         "76.0",
         "0.0",
         "0.0",
         "1.0",
         "9.0",
         "0.0",
         "0.0",
         "6.0",
         "0.0",
         "70.0"
        ],
        [
         "49",
         "AMITEONELL",
         "2.0",
         "0.0",
         "0.0",
         "4.0",
         "0.0",
         "0.0",
         "0.0",
         "0.0",
         "46.0",
         "0.0",
         "0.0",
         "0.0",
         "6.0",
         "0.0",
         "0.0",
         "4.0",
         "1.0",
         "72.0"
        ]
       ],
       "shape": {
        "columns": 19,
        "rows": 1803
       }
      },
      "text/html": [
       "<div>\n",
       "<style scoped>\n",
       "    .dataframe tbody tr th:only-of-type {\n",
       "        vertical-align: middle;\n",
       "    }\n",
       "\n",
       "    .dataframe tbody tr th {\n",
       "        vertical-align: top;\n",
       "    }\n",
       "\n",
       "    .dataframe thead th {\n",
       "        text-align: right;\n",
       "    }\n",
       "</style>\n",
       "<table border=\"1\" class=\"dataframe\">\n",
       "  <thead>\n",
       "    <tr style=\"text-align: right;\">\n",
       "      <th>candidate_column</th>\n",
       "      <th>precinct</th>\n",
       "      <th>pri_dem_CLINTON</th>\n",
       "      <th>pri_dem_FUENTE</th>\n",
       "      <th>pri_dem_O'MAILEY</th>\n",
       "      <th>pri_dem_SANDERS</th>\n",
       "      <th>pri_dem_WILSON</th>\n",
       "      <th>pri_rep_BUSH</th>\n",
       "      <th>pri_rep_CARSON</th>\n",
       "      <th>pri_rep_CHRISTIE</th>\n",
       "      <th>pri_rep_CRUZ</th>\n",
       "      <th>pri_rep_FLORINA</th>\n",
       "      <th>pri_rep_GRAHAM</th>\n",
       "      <th>pri_rep_HUCKABEE</th>\n",
       "      <th>pri_rep_KASICH</th>\n",
       "      <th>pri_rep_PATAKI</th>\n",
       "      <th>pri_rep_PAUL</th>\n",
       "      <th>pri_rep_RUBIO</th>\n",
       "      <th>pri_rep_SANTORUM</th>\n",
       "      <th>pri_rep_TRUMP</th>\n",
       "    </tr>\n",
       "  </thead>\n",
       "  <tbody>\n",
       "    <tr>\n",
       "      <th>0</th>\n",
       "      <td>ADAMSDIST. 1, BELLEMONT</td>\n",
       "      <td>163.0</td>\n",
       "      <td>1.0</td>\n",
       "      <td>0.0</td>\n",
       "      <td>49.0</td>\n",
       "      <td>2.0</td>\n",
       "      <td>6.0</td>\n",
       "      <td>4.0</td>\n",
       "      <td>0.0</td>\n",
       "      <td>224.0</td>\n",
       "      <td>0.0</td>\n",
       "      <td>0.0</td>\n",
       "      <td>2.0</td>\n",
       "      <td>88.0</td>\n",
       "      <td>0.0</td>\n",
       "      <td>0.0</td>\n",
       "      <td>52.0</td>\n",
       "      <td>0.0</td>\n",
       "      <td>281.0</td>\n",
       "    </tr>\n",
       "    <tr>\n",
       "      <th>1</th>\n",
       "      <td>ADAMSDIST. 1, BY-PASS FIRE</td>\n",
       "      <td>205.0</td>\n",
       "      <td>0.0</td>\n",
       "      <td>2.0</td>\n",
       "      <td>29.0</td>\n",
       "      <td>1.0</td>\n",
       "      <td>1.0</td>\n",
       "      <td>1.0</td>\n",
       "      <td>0.0</td>\n",
       "      <td>38.0</td>\n",
       "      <td>0.0</td>\n",
       "      <td>0.0</td>\n",
       "      <td>0.0</td>\n",
       "      <td>11.0</td>\n",
       "      <td>0.0</td>\n",
       "      <td>0.0</td>\n",
       "      <td>4.0</td>\n",
       "      <td>0.0</td>\n",
       "      <td>75.0</td>\n",
       "    </tr>\n",
       "    <tr>\n",
       "      <th>2</th>\n",
       "      <td>ADAMSDIST. 1, COURTHOUSE</td>\n",
       "      <td>61.0</td>\n",
       "      <td>0.0</td>\n",
       "      <td>0.0</td>\n",
       "      <td>31.0</td>\n",
       "      <td>0.0</td>\n",
       "      <td>3.0</td>\n",
       "      <td>2.0</td>\n",
       "      <td>1.0</td>\n",
       "      <td>47.0</td>\n",
       "      <td>0.0</td>\n",
       "      <td>0.0</td>\n",
       "      <td>1.0</td>\n",
       "      <td>55.0</td>\n",
       "      <td>0.0</td>\n",
       "      <td>0.0</td>\n",
       "      <td>37.0</td>\n",
       "      <td>0.0</td>\n",
       "      <td>99.0</td>\n",
       "    </tr>\n",
       "    <tr>\n",
       "      <th>3</th>\n",
       "      <td>ADAMSDIST. 2, BEAU PRE</td>\n",
       "      <td>106.0</td>\n",
       "      <td>0.0</td>\n",
       "      <td>0.0</td>\n",
       "      <td>14.0</td>\n",
       "      <td>0.0</td>\n",
       "      <td>1.0</td>\n",
       "      <td>0.0</td>\n",
       "      <td>0.0</td>\n",
       "      <td>80.0</td>\n",
       "      <td>0.0</td>\n",
       "      <td>0.0</td>\n",
       "      <td>0.0</td>\n",
       "      <td>20.0</td>\n",
       "      <td>0.0</td>\n",
       "      <td>0.0</td>\n",
       "      <td>15.0</td>\n",
       "      <td>0.0</td>\n",
       "      <td>118.0</td>\n",
       "    </tr>\n",
       "    <tr>\n",
       "      <th>4</th>\n",
       "      <td>ADAMSDIST. 2, DUNCAN PARK</td>\n",
       "      <td>112.0</td>\n",
       "      <td>0.0</td>\n",
       "      <td>1.0</td>\n",
       "      <td>30.0</td>\n",
       "      <td>0.0</td>\n",
       "      <td>3.0</td>\n",
       "      <td>7.0</td>\n",
       "      <td>1.0</td>\n",
       "      <td>77.0</td>\n",
       "      <td>1.0</td>\n",
       "      <td>0.0</td>\n",
       "      <td>0.0</td>\n",
       "      <td>38.0</td>\n",
       "      <td>0.0</td>\n",
       "      <td>1.0</td>\n",
       "      <td>21.0</td>\n",
       "      <td>0.0</td>\n",
       "      <td>97.0</td>\n",
       "    </tr>\n",
       "    <tr>\n",
       "      <th>...</th>\n",
       "      <td>...</td>\n",
       "      <td>...</td>\n",
       "      <td>...</td>\n",
       "      <td>...</td>\n",
       "      <td>...</td>\n",
       "      <td>...</td>\n",
       "      <td>...</td>\n",
       "      <td>...</td>\n",
       "      <td>...</td>\n",
       "      <td>...</td>\n",
       "      <td>...</td>\n",
       "      <td>...</td>\n",
       "      <td>...</td>\n",
       "      <td>...</td>\n",
       "      <td>...</td>\n",
       "      <td>...</td>\n",
       "      <td>...</td>\n",
       "      <td>...</td>\n",
       "      <td>...</td>\n",
       "    </tr>\n",
       "    <tr>\n",
       "      <th>1798</th>\n",
       "      <td>YAZOOWARD 4</td>\n",
       "      <td>382.0</td>\n",
       "      <td>1.0</td>\n",
       "      <td>1.0</td>\n",
       "      <td>31.0</td>\n",
       "      <td>0.0</td>\n",
       "      <td>1.0</td>\n",
       "      <td>1.0</td>\n",
       "      <td>0.0</td>\n",
       "      <td>50.0</td>\n",
       "      <td>0.0</td>\n",
       "      <td>0.0</td>\n",
       "      <td>0.0</td>\n",
       "      <td>29.0</td>\n",
       "      <td>0.0</td>\n",
       "      <td>0.0</td>\n",
       "      <td>21.0</td>\n",
       "      <td>0.0</td>\n",
       "      <td>101.0</td>\n",
       "    </tr>\n",
       "    <tr>\n",
       "      <th>1799</th>\n",
       "      <td>YAZOOWARD 5</td>\n",
       "      <td>507.0</td>\n",
       "      <td>0.0</td>\n",
       "      <td>2.0</td>\n",
       "      <td>23.0</td>\n",
       "      <td>1.0</td>\n",
       "      <td>0.0</td>\n",
       "      <td>1.0</td>\n",
       "      <td>0.0</td>\n",
       "      <td>6.0</td>\n",
       "      <td>0.0</td>\n",
       "      <td>0.0</td>\n",
       "      <td>0.0</td>\n",
       "      <td>0.0</td>\n",
       "      <td>0.0</td>\n",
       "      <td>0.0</td>\n",
       "      <td>0.0</td>\n",
       "      <td>0.0</td>\n",
       "      <td>3.0</td>\n",
       "    </tr>\n",
       "    <tr>\n",
       "      <th>1800</th>\n",
       "      <td>YAZOOWEST BENTONIA</td>\n",
       "      <td>139.0</td>\n",
       "      <td>0.0</td>\n",
       "      <td>0.0</td>\n",
       "      <td>17.0</td>\n",
       "      <td>1.0</td>\n",
       "      <td>1.0</td>\n",
       "      <td>1.0</td>\n",
       "      <td>0.0</td>\n",
       "      <td>46.0</td>\n",
       "      <td>0.0</td>\n",
       "      <td>0.0</td>\n",
       "      <td>0.0</td>\n",
       "      <td>7.0</td>\n",
       "      <td>0.0</td>\n",
       "      <td>0.0</td>\n",
       "      <td>5.0</td>\n",
       "      <td>0.0</td>\n",
       "      <td>84.0</td>\n",
       "    </tr>\n",
       "    <tr>\n",
       "      <th>1801</th>\n",
       "      <td>YAZOOWEST MIDWAY</td>\n",
       "      <td>11.0</td>\n",
       "      <td>0.0</td>\n",
       "      <td>0.0</td>\n",
       "      <td>2.0</td>\n",
       "      <td>0.0</td>\n",
       "      <td>0.0</td>\n",
       "      <td>0.0</td>\n",
       "      <td>0.0</td>\n",
       "      <td>24.0</td>\n",
       "      <td>0.0</td>\n",
       "      <td>0.0</td>\n",
       "      <td>1.0</td>\n",
       "      <td>3.0</td>\n",
       "      <td>0.0</td>\n",
       "      <td>0.0</td>\n",
       "      <td>3.0</td>\n",
       "      <td>0.0</td>\n",
       "      <td>49.0</td>\n",
       "    </tr>\n",
       "    <tr>\n",
       "      <th>1802</th>\n",
       "      <td>YAZOOZION</td>\n",
       "      <td>25.0</td>\n",
       "      <td>0.0</td>\n",
       "      <td>0.0</td>\n",
       "      <td>4.0</td>\n",
       "      <td>0.0</td>\n",
       "      <td>0.0</td>\n",
       "      <td>2.0</td>\n",
       "      <td>0.0</td>\n",
       "      <td>53.0</td>\n",
       "      <td>0.0</td>\n",
       "      <td>0.0</td>\n",
       "      <td>1.0</td>\n",
       "      <td>8.0</td>\n",
       "      <td>0.0</td>\n",
       "      <td>0.0</td>\n",
       "      <td>5.0</td>\n",
       "      <td>0.0</td>\n",
       "      <td>56.0</td>\n",
       "    </tr>\n",
       "  </tbody>\n",
       "</table>\n",
       "<p>1803 rows × 19 columns</p>\n",
       "</div>"
      ],
      "text/plain": [
       "candidate_column                    precinct  pri_dem_CLINTON  pri_dem_FUENTE  \\\n",
       "0                    ADAMSDIST. 1, BELLEMONT            163.0             1.0   \n",
       "1                 ADAMSDIST. 1, BY-PASS FIRE            205.0             0.0   \n",
       "2                   ADAMSDIST. 1, COURTHOUSE             61.0             0.0   \n",
       "3                     ADAMSDIST. 2, BEAU PRE            106.0             0.0   \n",
       "4                  ADAMSDIST. 2, DUNCAN PARK            112.0             0.0   \n",
       "...                                      ...              ...             ...   \n",
       "1798                             YAZOOWARD 4            382.0             1.0   \n",
       "1799                             YAZOOWARD 5            507.0             0.0   \n",
       "1800                      YAZOOWEST BENTONIA            139.0             0.0   \n",
       "1801                        YAZOOWEST MIDWAY             11.0             0.0   \n",
       "1802                               YAZOOZION             25.0             0.0   \n",
       "\n",
       "candidate_column  pri_dem_O'MAILEY  pri_dem_SANDERS  pri_dem_WILSON  \\\n",
       "0                              0.0             49.0             2.0   \n",
       "1                              2.0             29.0             1.0   \n",
       "2                              0.0             31.0             0.0   \n",
       "3                              0.0             14.0             0.0   \n",
       "4                              1.0             30.0             0.0   \n",
       "...                            ...              ...             ...   \n",
       "1798                           1.0             31.0             0.0   \n",
       "1799                           2.0             23.0             1.0   \n",
       "1800                           0.0             17.0             1.0   \n",
       "1801                           0.0              2.0             0.0   \n",
       "1802                           0.0              4.0             0.0   \n",
       "\n",
       "candidate_column  pri_rep_BUSH  pri_rep_CARSON  pri_rep_CHRISTIE  \\\n",
       "0                          6.0             4.0               0.0   \n",
       "1                          1.0             1.0               0.0   \n",
       "2                          3.0             2.0               1.0   \n",
       "3                          1.0             0.0               0.0   \n",
       "4                          3.0             7.0               1.0   \n",
       "...                        ...             ...               ...   \n",
       "1798                       1.0             1.0               0.0   \n",
       "1799                       0.0             1.0               0.0   \n",
       "1800                       1.0             1.0               0.0   \n",
       "1801                       0.0             0.0               0.0   \n",
       "1802                       0.0             2.0               0.0   \n",
       "\n",
       "candidate_column  pri_rep_CRUZ  pri_rep_FLORINA  pri_rep_GRAHAM  \\\n",
       "0                        224.0              0.0             0.0   \n",
       "1                         38.0              0.0             0.0   \n",
       "2                         47.0              0.0             0.0   \n",
       "3                         80.0              0.0             0.0   \n",
       "4                         77.0              1.0             0.0   \n",
       "...                        ...              ...             ...   \n",
       "1798                      50.0              0.0             0.0   \n",
       "1799                       6.0              0.0             0.0   \n",
       "1800                      46.0              0.0             0.0   \n",
       "1801                      24.0              0.0             0.0   \n",
       "1802                      53.0              0.0             0.0   \n",
       "\n",
       "candidate_column  pri_rep_HUCKABEE  pri_rep_KASICH  pri_rep_PATAKI  \\\n",
       "0                              2.0            88.0             0.0   \n",
       "1                              0.0            11.0             0.0   \n",
       "2                              1.0            55.0             0.0   \n",
       "3                              0.0            20.0             0.0   \n",
       "4                              0.0            38.0             0.0   \n",
       "...                            ...             ...             ...   \n",
       "1798                           0.0            29.0             0.0   \n",
       "1799                           0.0             0.0             0.0   \n",
       "1800                           0.0             7.0             0.0   \n",
       "1801                           1.0             3.0             0.0   \n",
       "1802                           1.0             8.0             0.0   \n",
       "\n",
       "candidate_column  pri_rep_PAUL  pri_rep_RUBIO  pri_rep_SANTORUM  pri_rep_TRUMP  \n",
       "0                          0.0           52.0               0.0          281.0  \n",
       "1                          0.0            4.0               0.0           75.0  \n",
       "2                          0.0           37.0               0.0           99.0  \n",
       "3                          0.0           15.0               0.0          118.0  \n",
       "4                          1.0           21.0               0.0           97.0  \n",
       "...                        ...            ...               ...            ...  \n",
       "1798                       0.0           21.0               0.0          101.0  \n",
       "1799                       0.0            0.0               0.0            3.0  \n",
       "1800                       0.0            5.0               0.0           84.0  \n",
       "1801                       0.0            3.0               0.0           49.0  \n",
       "1802                       0.0            5.0               0.0           56.0  \n",
       "\n",
       "[1803 rows x 19 columns]"
      ]
     },
     "execution_count": 214,
     "metadata": {},
     "output_type": "execute_result"
    }
   ],
   "source": [
    "primary_data.loc[:,\"candidate_column\"] = (\n",
    "    \"pri_\" +\n",
    "    primary_data[\"party\"].str.lower() + \"_\" +\n",
    "    primary_data[\"candidate\"]\n",
    ")\n",
    "\n",
    "# pivot the table\n",
    "primary_result = primary_data.pivot_table(\n",
    "    index=\"precinct\",\n",
    "    columns=\"candidate_column\",\n",
    "    values=\"votes\",\n",
    "    aggfunc=\"sum\",  \n",
    "    fill_value=0\n",
    ").reset_index()\n",
    "\n",
    "primary_result"
   ]
  },
  {
   "cell_type": "code",
   "execution_count": 215,
   "id": "f1ef9692",
   "metadata": {},
   "outputs": [],
   "source": [
    "# Process general files\n",
    "general_df_list = []\n",
    "\n",
    "for file in general_files:\n",
    "    try:\n",
    "        df = pd.read_csv(file)\n",
    "        \n",
    "        # Combine precinct as county + precinct\n",
    "        df[\"precinct\"] = df[\"county\"].astype(str) + df[\"precinct\"].astype(str)\n",
    "        df[\"precinct\"] = df[\"precinct\"].str.upper()\n",
    "        df[\"county\"] = df[\"county\"].str.upper()\n",
    "\n",
    "        # Cleaning maybe total precinct\n",
    "        if 'precinct' in df.columns:\n",
    "            df['precinct'] = df['precinct'].astype(str)                  \n",
    "            df = df[df['precinct'].str.upper() != \"TOTAL\"]               \n",
    "            df = df[df['precinct'].str.strip().str.upper() != \"TOTAL\"]   \n",
    "            df = df[df['precinct'].str.upper() != \"NAN\"]                \n",
    "        \n",
    "        if 'county' in df.columns:\n",
    "            df['county'] = df['county'].astype(str)                  \n",
    "            df = df[df['county'].str.upper() != \"TOTAL\"]               \n",
    "            df = df[df['county'].str.strip().str.upper() != \"TOTAL\"]   \n",
    "            df = df[df['county'].str.upper() != \"NAN\"]       \n",
    "            df = df[~df['county'].str.upper().str.contains(r\"\\w*TOTAL\\w*\", na=False)]      \n",
    "            \n",
    "        # Filtering out only President \n",
    "        if 'office' in df.columns:\n",
    "            df = df[df[\"office\"] == \"President\"]\n",
    "        \n",
    "        # Dropping duplicates value\n",
    "        df = df.drop_duplicates()\n",
    "        \n",
    "        general_df_list.append(df)\n",
    "\n",
    "    except Exception as e:\n",
    "        print(f\"Error in {file}: {e}\")\n",
    "\n",
    "# Combine all cleaned files\n",
    "gen_combined_df = pd.concat(general_df_list, ignore_index=True)\n",
    "\n",
    "# Checking any suspicious precinct\n",
    "suspicious_precincts = gen_combined_df[\n",
    "    gen_combined_df[\"precinct\"].str.strip().str.upper().isin([\"TOTAL\", \"NAN\"])\n",
    "]\n"
   ]
  },
  {
   "cell_type": "code",
   "execution_count": 216,
   "id": "1bbbd54d",
   "metadata": {},
   "outputs": [
    {
     "data": {
      "application/vnd.microsoft.datawrangler.viewer.v0+json": {
       "columns": [
        {
         "name": "index",
         "rawType": "int64",
         "type": "integer"
        },
        {
         "name": "precinct",
         "rawType": "object",
         "type": "string"
        },
        {
         "name": "party",
         "rawType": "object",
         "type": "string"
        },
        {
         "name": "candidate",
         "rawType": "object",
         "type": "string"
        },
        {
         "name": "votes",
         "rawType": "int64",
         "type": "integer"
        }
       ],
       "ref": "e153038b-3a1e-4dcc-93c5-1994bf25e250",
       "rows": [
        [
         "0",
         "ADAMSDIST. 1, BELLEMONT",
         "Democrat",
         "Hillary Clinton",
         "442"
        ],
        [
         "1",
         "ADAMSDIST. 1, BELLEMONT",
         "Republican",
         "Donald J. Trump",
         "1090"
        ],
        [
         "2",
         "ADAMSDIST. 1, BELLEMONT",
         "Constitution",
         "Darrell Castle",
         "6"
        ],
        [
         "3",
         "ADAMSDIST. 1, BELLEMONT",
         "American Delta",
         "Rocky' Roque De La Fuente",
         "1"
        ],
        [
         "4",
         "ADAMSDIST. 1, BELLEMONT",
         "Prohibition",
         "Jim Hedges",
         "1"
        ],
        [
         "5",
         "ADAMSDIST. 1, BELLEMONT",
         "Libertarian",
         "Gary Johnson",
         "20"
        ],
        [
         "6",
         "ADAMSDIST. 1, BELLEMONT",
         "Green",
         "Jill Stein",
         "4"
        ],
        [
         "7",
         "ADAMSDIST. 1, BY-PASS FIRE",
         "Democrat",
         "Hillary Clinton",
         "504"
        ],
        [
         "8",
         "ADAMSDIST. 1, BY-PASS FIRE",
         "Republican",
         "Donald J. Trump",
         "241"
        ],
        [
         "9",
         "ADAMSDIST. 1, BY-PASS FIRE",
         "Constitution",
         "Darrell Castle",
         "2"
        ],
        [
         "10",
         "ADAMSDIST. 1, BY-PASS FIRE",
         "American Delta",
         "Rocky' Roque De La Fuente",
         "3"
        ],
        [
         "11",
         "ADAMSDIST. 1, BY-PASS FIRE",
         "Prohibition",
         "Jim Hedges",
         "2"
        ],
        [
         "12",
         "ADAMSDIST. 1, BY-PASS FIRE",
         "Libertarian",
         "Gary Johnson",
         "4"
        ],
        [
         "13",
         "ADAMSDIST. 1, BY-PASS FIRE",
         "Green",
         "Jill Stein",
         "1"
        ],
        [
         "14",
         "ADAMSDIST. 1, COURTHOUSE",
         "Democrat",
         "Hillary Clinton",
         "171"
        ],
        [
         "15",
         "ADAMSDIST. 1, COURTHOUSE",
         "Republican",
         "Donald J. Trump",
         "402"
        ],
        [
         "16",
         "ADAMSDIST. 1, COURTHOUSE",
         "Constitution",
         "Darrell Castle",
         "1"
        ],
        [
         "17",
         "ADAMSDIST. 1, COURTHOUSE",
         "American Delta",
         "Rocky' Roque De La Fuente",
         "0"
        ],
        [
         "18",
         "ADAMSDIST. 1, COURTHOUSE",
         "Prohibition",
         "Jim Hedges",
         "0"
        ],
        [
         "19",
         "ADAMSDIST. 1, COURTHOUSE",
         "Libertarian",
         "Gary Johnson",
         "18"
        ],
        [
         "20",
         "ADAMSDIST. 1, COURTHOUSE",
         "Green",
         "Jill Stein",
         "2"
        ],
        [
         "21",
         "ADAMSDIST. 2, BEAU PRE",
         "Democrat",
         "Hillary Clinton",
         "285"
        ],
        [
         "22",
         "ADAMSDIST. 2, BEAU PRE",
         "Republican",
         "Donald J. Trump",
         "468"
        ],
        [
         "23",
         "ADAMSDIST. 2, BEAU PRE",
         "Constitution",
         "Darrell Castle",
         "3"
        ],
        [
         "24",
         "ADAMSDIST. 2, BEAU PRE",
         "American Delta",
         "Rocky' Roque De La Fuente",
         "0"
        ],
        [
         "25",
         "ADAMSDIST. 2, BEAU PRE",
         "Prohibition",
         "Jim Hedges",
         "0"
        ],
        [
         "26",
         "ADAMSDIST. 2, BEAU PRE",
         "Libertarian",
         "Gary Johnson",
         "9"
        ],
        [
         "27",
         "ADAMSDIST. 2, BEAU PRE",
         "Green",
         "Jill Stein",
         "1"
        ],
        [
         "28",
         "ADAMSDIST. 2, DUNCAN PARK",
         "Democrat",
         "Hillary Clinton",
         "338"
        ],
        [
         "29",
         "ADAMSDIST. 2, DUNCAN PARK",
         "Republican",
         "Donald J. Trump",
         "461"
        ],
        [
         "30",
         "ADAMSDIST. 2, DUNCAN PARK",
         "Constitution",
         "Darrell Castle",
         "2"
        ],
        [
         "31",
         "ADAMSDIST. 2, DUNCAN PARK",
         "American Delta",
         "Rocky' Roque De La Fuente",
         "0"
        ],
        [
         "32",
         "ADAMSDIST. 2, DUNCAN PARK",
         "Prohibition",
         "Jim Hedges",
         "0"
        ],
        [
         "33",
         "ADAMSDIST. 2, DUNCAN PARK",
         "Libertarian",
         "Gary Johnson",
         "21"
        ],
        [
         "34",
         "ADAMSDIST. 2, DUNCAN PARK",
         "Green",
         "Jill Stein",
         "3"
        ],
        [
         "35",
         "ADAMSDIST. 2, KINGSTON",
         "Democrat",
         "Hillary Clinton",
         "99"
        ],
        [
         "36",
         "ADAMSDIST. 2, KINGSTON",
         "Republican",
         "Donald J. Trump",
         "548"
        ],
        [
         "37",
         "ADAMSDIST. 2, KINGSTON",
         "Constitution",
         "Darrell Castle",
         "3"
        ],
        [
         "38",
         "ADAMSDIST. 2, KINGSTON",
         "American Delta",
         "Rocky' Roque De La Fuente",
         "0"
        ],
        [
         "39",
         "ADAMSDIST. 2, KINGSTON",
         "Prohibition",
         "Jim Hedges",
         "0"
        ],
        [
         "40",
         "ADAMSDIST. 2, KINGSTON",
         "Libertarian",
         "Gary Johnson",
         "5"
        ],
        [
         "41",
         "ADAMSDIST. 2, KINGSTON",
         "Green",
         "Jill Stein",
         "1"
        ],
        [
         "42",
         "ADAMSDIST. 2, LIBERTY PARK",
         "Democrat",
         "Hillary Clinton",
         "161"
        ],
        [
         "43",
         "ADAMSDIST. 2, LIBERTY PARK",
         "Republican",
         "Donald J. Trump",
         "572"
        ],
        [
         "44",
         "ADAMSDIST. 2, LIBERTY PARK",
         "Constitution",
         "Darrell Castle",
         "1"
        ],
        [
         "45",
         "ADAMSDIST. 2, LIBERTY PARK",
         "American Delta",
         "Rocky' Roque De La Fuente",
         "1"
        ],
        [
         "46",
         "ADAMSDIST. 2, LIBERTY PARK",
         "Prohibition",
         "Jim Hedges",
         "1"
        ],
        [
         "47",
         "ADAMSDIST. 2, LIBERTY PARK",
         "Libertarian",
         "Gary Johnson",
         "6"
        ],
        [
         "48",
         "ADAMSDIST. 2, LIBERTY PARK",
         "Green",
         "Jill Stein",
         "1"
        ],
        [
         "49",
         "ADAMSDIST. 3, CONCORD",
         "Democrat",
         "Hillary Clinton",
         "523"
        ]
       ],
       "shape": {
        "columns": 4,
        "rows": 12964
       }
      },
      "text/html": [
       "<div>\n",
       "<style scoped>\n",
       "    .dataframe tbody tr th:only-of-type {\n",
       "        vertical-align: middle;\n",
       "    }\n",
       "\n",
       "    .dataframe tbody tr th {\n",
       "        vertical-align: top;\n",
       "    }\n",
       "\n",
       "    .dataframe thead th {\n",
       "        text-align: right;\n",
       "    }\n",
       "</style>\n",
       "<table border=\"1\" class=\"dataframe\">\n",
       "  <thead>\n",
       "    <tr style=\"text-align: right;\">\n",
       "      <th></th>\n",
       "      <th>precinct</th>\n",
       "      <th>party</th>\n",
       "      <th>candidate</th>\n",
       "      <th>votes</th>\n",
       "    </tr>\n",
       "  </thead>\n",
       "  <tbody>\n",
       "    <tr>\n",
       "      <th>0</th>\n",
       "      <td>ADAMSDIST. 1, BELLEMONT</td>\n",
       "      <td>Democrat</td>\n",
       "      <td>Hillary Clinton</td>\n",
       "      <td>442</td>\n",
       "    </tr>\n",
       "    <tr>\n",
       "      <th>1</th>\n",
       "      <td>ADAMSDIST. 1, BELLEMONT</td>\n",
       "      <td>Republican</td>\n",
       "      <td>Donald J. Trump</td>\n",
       "      <td>1090</td>\n",
       "    </tr>\n",
       "    <tr>\n",
       "      <th>2</th>\n",
       "      <td>ADAMSDIST. 1, BELLEMONT</td>\n",
       "      <td>Constitution</td>\n",
       "      <td>Darrell Castle</td>\n",
       "      <td>6</td>\n",
       "    </tr>\n",
       "    <tr>\n",
       "      <th>3</th>\n",
       "      <td>ADAMSDIST. 1, BELLEMONT</td>\n",
       "      <td>American Delta</td>\n",
       "      <td>Rocky' Roque De La Fuente</td>\n",
       "      <td>1</td>\n",
       "    </tr>\n",
       "    <tr>\n",
       "      <th>4</th>\n",
       "      <td>ADAMSDIST. 1, BELLEMONT</td>\n",
       "      <td>Prohibition</td>\n",
       "      <td>Jim Hedges</td>\n",
       "      <td>1</td>\n",
       "    </tr>\n",
       "    <tr>\n",
       "      <th>...</th>\n",
       "      <td>...</td>\n",
       "      <td>...</td>\n",
       "      <td>...</td>\n",
       "      <td>...</td>\n",
       "    </tr>\n",
       "    <tr>\n",
       "      <th>12959</th>\n",
       "      <td>YAZOOZION</td>\n",
       "      <td>Constitution</td>\n",
       "      <td>Darrell Castle</td>\n",
       "      <td>3</td>\n",
       "    </tr>\n",
       "    <tr>\n",
       "      <th>12960</th>\n",
       "      <td>YAZOOZION</td>\n",
       "      <td>American Delta</td>\n",
       "      <td>Roque 'Rocky' De La Fuente</td>\n",
       "      <td>0</td>\n",
       "    </tr>\n",
       "    <tr>\n",
       "      <th>12961</th>\n",
       "      <td>YAZOOZION</td>\n",
       "      <td>Prohibition</td>\n",
       "      <td>Jim Hedges</td>\n",
       "      <td>0</td>\n",
       "    </tr>\n",
       "    <tr>\n",
       "      <th>12962</th>\n",
       "      <td>YAZOOZION</td>\n",
       "      <td>Libertarian</td>\n",
       "      <td>Gary Johnson</td>\n",
       "      <td>1</td>\n",
       "    </tr>\n",
       "    <tr>\n",
       "      <th>12963</th>\n",
       "      <td>YAZOOZION</td>\n",
       "      <td>Green</td>\n",
       "      <td>Jill Stein</td>\n",
       "      <td>0</td>\n",
       "    </tr>\n",
       "  </tbody>\n",
       "</table>\n",
       "<p>12964 rows × 4 columns</p>\n",
       "</div>"
      ],
      "text/plain": [
       "                      precinct           party                   candidate  \\\n",
       "0      ADAMSDIST. 1, BELLEMONT        Democrat             Hillary Clinton   \n",
       "1      ADAMSDIST. 1, BELLEMONT      Republican             Donald J. Trump   \n",
       "2      ADAMSDIST. 1, BELLEMONT    Constitution              Darrell Castle   \n",
       "3      ADAMSDIST. 1, BELLEMONT  American Delta   Rocky' Roque De La Fuente   \n",
       "4      ADAMSDIST. 1, BELLEMONT     Prohibition                  Jim Hedges   \n",
       "...                        ...             ...                         ...   \n",
       "12959                YAZOOZION    Constitution              Darrell Castle   \n",
       "12960                YAZOOZION  American Delta  Roque 'Rocky' De La Fuente   \n",
       "12961                YAZOOZION     Prohibition                  Jim Hedges   \n",
       "12962                YAZOOZION     Libertarian                Gary Johnson   \n",
       "12963                YAZOOZION           Green                  Jill Stein   \n",
       "\n",
       "       votes  \n",
       "0        442  \n",
       "1       1090  \n",
       "2          6  \n",
       "3          1  \n",
       "4          1  \n",
       "...      ...  \n",
       "12959      3  \n",
       "12960      0  \n",
       "12961      0  \n",
       "12962      1  \n",
       "12963      0  \n",
       "\n",
       "[12964 rows x 4 columns]"
      ]
     },
     "execution_count": 216,
     "metadata": {},
     "output_type": "execute_result"
    }
   ],
   "source": [
    "# Select only the relevant columns\n",
    "general_data = gen_combined_df[[\"precinct\", \"party\", \"candidate\", \"votes\"]]\n",
    "\n",
    "general_data"
   ]
  },
  {
   "cell_type": "code",
   "execution_count": 217,
   "id": "38fba0f1",
   "metadata": {},
   "outputs": [
    {
     "data": {
      "application/vnd.microsoft.datawrangler.viewer.v0+json": {
       "columns": [
        {
         "name": "candidate",
         "rawType": "object",
         "type": "string"
        },
        {
         "name": "count",
         "rawType": "int64",
         "type": "integer"
        }
       ],
       "ref": "3797c3a8-f3b7-4838-b3da-07a4da1fa605",
       "rows": [
        [
         "Hillary Clinton",
         "1852"
        ],
        [
         "Donald J. Trump",
         "1852"
        ],
        [
         "Darrell Castle",
         "1852"
        ],
        [
         "Jim Hedges",
         "1852"
        ],
        [
         "Gary Johnson",
         "1852"
        ],
        [
         "Jill Stein",
         "1852"
        ],
        [
         "Rocky' Roque De La Fuente",
         "1256"
        ],
        [
         "Roque 'Rocky' De La Fuente",
         "596"
        ]
       ],
       "shape": {
        "columns": 1,
        "rows": 8
       }
      },
      "text/plain": [
       "candidate\n",
       "Hillary Clinton               1852\n",
       "Donald J. Trump               1852\n",
       "Darrell Castle                1852\n",
       "Jim Hedges                    1852\n",
       "Gary Johnson                  1852\n",
       "Jill Stein                    1852\n",
       "Rocky' Roque De La Fuente     1256\n",
       "Roque 'Rocky' De La Fuente     596\n",
       "Name: count, dtype: int64"
      ]
     },
     "execution_count": 217,
     "metadata": {},
     "output_type": "execute_result"
    }
   ],
   "source": [
    "# Viewing candidate data\n",
    "general_data[\"candidate\"].value_counts(dropna=False)"
   ]
  },
  {
   "cell_type": "code",
   "execution_count": 218,
   "id": "90417a20",
   "metadata": {},
   "outputs": [
    {
     "name": "stderr",
     "output_type": "stream",
     "text": [
      "C:\\Users\\ADMIN\\AppData\\Local\\Temp\\ipykernel_28324\\1907250161.py:4: SettingWithCopyWarning: \n",
      "A value is trying to be set on a copy of a slice from a DataFrame.\n",
      "Try using .loc[row_indexer,col_indexer] = value instead\n",
      "\n",
      "See the caveats in the documentation: https://pandas.pydata.org/pandas-docs/stable/user_guide/indexing.html#returning-a-view-versus-a-copy\n",
      "  general_data[\"candidate\"] = general_data[\"candidate\"].astype(str).str.upper()\n",
      "C:\\Users\\ADMIN\\AppData\\Local\\Temp\\ipykernel_28324\\1907250161.py:107: SettingWithCopyWarning: \n",
      "A value is trying to be set on a copy of a slice from a DataFrame.\n",
      "Try using .loc[row_indexer,col_indexer] = value instead\n",
      "\n",
      "See the caveats in the documentation: https://pandas.pydata.org/pandas-docs/stable/user_guide/indexing.html#returning-a-view-versus-a-copy\n",
      "  general_data[\"candidate\"] = general_data[\"candidate\"].str.split().str[-1]\n"
     ]
    },
    {
     "data": {
      "application/vnd.microsoft.datawrangler.viewer.v0+json": {
       "columns": [
        {
         "name": "candidate",
         "rawType": "object",
         "type": "string"
        },
        {
         "name": "count",
         "rawType": "int64",
         "type": "integer"
        }
       ],
       "ref": "9a1de4a5-baa6-478c-bb4c-d15e69ea597a",
       "rows": [
        [
         "CLINTON",
         "1852"
        ],
        [
         "TRUMP",
         "1852"
        ],
        [
         "CASTLE",
         "1852"
        ],
        [
         "FUENTE",
         "1852"
        ],
        [
         "HEDGES",
         "1852"
        ],
        [
         "JOHNSON",
         "1852"
        ],
        [
         "STEIN",
         "1852"
        ]
       ],
       "shape": {
        "columns": 1,
        "rows": 7
       }
      },
      "text/plain": [
       "candidate\n",
       "CLINTON    1852\n",
       "TRUMP      1852\n",
       "CASTLE     1852\n",
       "FUENTE     1852\n",
       "HEDGES     1852\n",
       "JOHNSON    1852\n",
       "STEIN      1852\n",
       "Name: count, dtype: int64"
      ]
     },
     "execution_count": 218,
     "metadata": {},
     "output_type": "execute_result"
    }
   ],
   "source": [
    "# Cleaning Candidates\n",
    "\n",
    "# Turning all general data to uppercase\n",
    "general_data[\"candidate\"] = general_data[\"candidate\"].astype(str).str.upper()\n",
    "\n",
    "\n",
    "# unwanted_keywords = [\n",
    "#     r\"\\w*VOTE\\w*\",\n",
    "#     r\"\\w*UNCOM\\w*\",\n",
    "#     r\"\\w*TOTAL\\w*\",\n",
    "#     r\"\\w*WRITE[\\s-]\\w*\",\n",
    "#     r\"NAN\",\n",
    "#     r\"UNCERTIFIED\",\n",
    "#     r\"UNVERIFIED\",\n",
    "#     r\"NONE OF THE ABOVE\",\n",
    "#     r\"LBT\",\n",
    "#     r\"DEM\",\n",
    "#     r\"REP\",\n",
    "#     r\"GRN\",\n",
    "#     r\"NAN\"\n",
    "\n",
    "# ]\n",
    "\n",
    "# Fixing FUENTE\n",
    "general_data.loc[\n",
    "    general_data[\"candidate\"].str.contains(\"\\w*Fuente\\w*\", case=False, na=False),\n",
    "    \"candidate\"\n",
    "] = \"FUENTE\"\n",
    "# pattern = \"|\".join(unwanted_keywords)\n",
    "\n",
    "# # FILTER OUT TRASH WORDS\n",
    "# general_data = general_data[~general_data[\"candidate\"].str.upper().str.contains(pattern, regex=True, na=False)]\n",
    "\n",
    "# # Fixing Darrell Castle\"\n",
    "# general_data.loc[\n",
    "#     general_data[\"candidate\"].str.contains(\"\\w*ASTLE\\w*\", case=False, na=False),\n",
    "#     \"candidate\"\n",
    "# ] = \"CASTLE\"\n",
    "\n",
    "# general_data.loc[\n",
    "#     general_data[\"candidate\"].str.contains(\"\\w*ATUREN\\w*\", case=False, na=False),\n",
    "#     \"candidate\"\n",
    "# ] = \"MATUREN\"\n",
    "\n",
    "# # Fixing mixed president + vice_president by /\n",
    "# general_data[\"candidate\"] = (\n",
    "#     general_data[\"candidate\"].str.split(\"/\")\n",
    "#     .str[0]\n",
    "#     .str.strip()\n",
    "#     )\n",
    "\n",
    "# #Selecting only last name\n",
    "# general_data[\"candidate\"] = general_data[\"candidate\"].str.split().str[-1]\n",
    "\n",
    "# # Fixing the , candidate\n",
    "# # general_data[\"candidate\"] = (\n",
    "# #     general_data[\"candidate\"].str.split(\",\")\n",
    "# #     .str[0]\n",
    "# #     .str.strip()\n",
    "# #     )\n",
    "\n",
    "\n",
    "\n",
    "\n",
    "# # Fixing Cubbler\n",
    "# general_data.loc[\n",
    "#     ( \n",
    "#         general_data[\"candidate\"].str.contains(\"\\w*UBBIER\\w*\", case=False, na=False)|\n",
    "#         general_data[\"candidate\"].str.contains(\"\\w*UBLER\\w*\", case=False, na=False)|\n",
    "#         general_data[\"candidate\"].str.contains(\"\\w*OBBLER\\w*\", case=False, na=False),\n",
    "#     \"candidate\")\n",
    "# ] = \"CUBBLER\"\n",
    "\n",
    "\n",
    "# # Fixing Kotlikoff\n",
    "# general_data.loc[\n",
    "#     general_data[\"candidate\"].str.contains(\"\\w*TIKOFF\\w*\", case=False, na=False),\n",
    "#     \"candidate\"\n",
    "# ] = \"KOTLIKOFF\"\n",
    "\n",
    "# # Fixing Valdivia\n",
    "# general_data.loc[\n",
    "#     general_data[\"candidate\"].str.contains(\"\\w*VALDIVA\\W*\", case=False, na=False),\n",
    "#     \"candidate\"\n",
    "# ] = \"VALDIVIA\"\n",
    "\n",
    "# # Fixing HOEFLING\n",
    "# general_data.loc[\n",
    "#     general_data[\"candidate\"].str.contains(\"\\w*HOEFFLING\", case=False, na=False),\n",
    "#     \"candidate\"\n",
    "# ] = \"HOEFLING\"\n",
    "\n",
    "\n",
    "# # Fixing McMullin\n",
    "# general_data.loc[\n",
    "#     general_data[\"candidate\"].str.contains(\"MCMULLEN\", case=False, na=False) ,\n",
    "#     \"candidate\"\n",
    "# ] = \"MCMULLIN\"\n",
    "\n",
    "# Fixing LASTNAME + First name Initial\n",
    "# general_data.loc[:,\"candidate\"] = (\n",
    "#     general_data[\"candidate\"].str.split().str[0].str.upper()\n",
    "# )\n",
    "\n",
    "\n",
    "# #Selecting only last name\n",
    "general_data[\"candidate\"] = general_data[\"candidate\"].str.split().str[-1]\n",
    "\n",
    "general_data[\"candidate\"].value_counts(dropna=False)"
   ]
  },
  {
   "cell_type": "code",
   "execution_count": 219,
   "id": "a22405a6",
   "metadata": {},
   "outputs": [
    {
     "data": {
      "application/vnd.microsoft.datawrangler.viewer.v0+json": {
       "columns": [
        {
         "name": "party",
         "rawType": "object",
         "type": "string"
        },
        {
         "name": "count",
         "rawType": "int64",
         "type": "integer"
        }
       ],
       "ref": "b5b4217b-1695-4603-97f8-b60b00bdbdb0",
       "rows": [
        [
         "Democrat",
         "1852"
        ],
        [
         "Republican",
         "1852"
        ],
        [
         "Constitution",
         "1852"
        ],
        [
         "American Delta",
         "1852"
        ],
        [
         "Prohibition",
         "1852"
        ],
        [
         "Libertarian",
         "1852"
        ],
        [
         "Green",
         "1852"
        ]
       ],
       "shape": {
        "columns": 1,
        "rows": 7
       }
      },
      "text/plain": [
       "party\n",
       "Democrat          1852\n",
       "Republican        1852\n",
       "Constitution      1852\n",
       "American Delta    1852\n",
       "Prohibition       1852\n",
       "Libertarian       1852\n",
       "Green             1852\n",
       "Name: count, dtype: int64"
      ]
     },
     "execution_count": 219,
     "metadata": {},
     "output_type": "execute_result"
    }
   ],
   "source": [
    "# Viewing Party\n",
    "general_data[\"party\"].value_counts(dropna=False)"
   ]
  },
  {
   "cell_type": "code",
   "execution_count": 220,
   "id": "21d7595b",
   "metadata": {},
   "outputs": [
    {
     "data": {
      "application/vnd.microsoft.datawrangler.viewer.v0+json": {
       "columns": [
        {
         "name": "party",
         "rawType": "object",
         "type": "string"
        },
        {
         "name": "count",
         "rawType": "int64",
         "type": "integer"
        }
       ],
       "ref": "088b909f-440f-44fc-8023-d1e4a3e3c4d8",
       "rows": [
        [
         "Democrat",
         "1852"
        ],
        [
         "Republican",
         "1852"
        ],
        [
         "Constitution",
         "1852"
        ],
        [
         "American Delta",
         "1852"
        ],
        [
         "Prohibition",
         "1852"
        ],
        [
         "Libertarian",
         "1852"
        ],
        [
         "Green",
         "1852"
        ]
       ],
       "shape": {
        "columns": 1,
        "rows": 7
       }
      },
      "text/plain": [
       "party\n",
       "Democrat          1852\n",
       "Republican        1852\n",
       "Constitution      1852\n",
       "American Delta    1852\n",
       "Prohibition       1852\n",
       "Libertarian       1852\n",
       "Green             1852\n",
       "Name: count, dtype: int64"
      ]
     },
     "execution_count": 220,
     "metadata": {},
     "output_type": "execute_result"
    }
   ],
   "source": [
    "#=====================================\n",
    "# This function is used to look up party\n",
    "# for the candidate in the same df\n",
    "#=====================================\n",
    "def fill_party_from_data(row, df):\n",
    "    if pd.notna(row[\"party\"]):\n",
    "        return row[\"party\"]\n",
    "    \n",
    "    # Try to find other rows with the same candidate and known party\n",
    "    matches = df[(df[\"candidate\"] == row[\"candidate\"]) & (df[\"party\"].notna())]\n",
    "    if not matches.empty:\n",
    "        return matches[\"party\"].iloc[0]  # Return the first match's party\n",
    "    else:\n",
    "        return None  # Still unknown\n",
    "    \n",
    "\n",
    "#=====================================\n",
    "# Function to update the master candidate-party CSV\n",
    "#=====================================\n",
    "def update_master_candidate_party(df, master_path):\n",
    "    # Read the existing master file\n",
    "    master_df = pd.read_csv(master_path)\n",
    "\n",
    "    # Filter and combine only known party entries (exclude 'UNK')\n",
    "    new_data = (\n",
    "        df[[\"candidate\", \"party\"]]\n",
    "        .dropna()\n",
    "        .query('party != \"UNK\"')\n",
    "        .drop_duplicates()\n",
    "    )\n",
    "\n",
    "    # Merge with master and remove duplicates by candidate\n",
    "    updated_master = pd.concat([master_df, new_data]).drop_duplicates(subset=\"candidate\")\n",
    "\n",
    "    # Save updated version\n",
    "    updated_master.to_csv(master_path, index=False)\n",
    "\n",
    "\n",
    "#=====================================\n",
    "# Function to update the master candidate-party CSV\n",
    "#=====================================\n",
    "def update_master_candidate_party(df, master_path):\n",
    "    # Read the existing master file\n",
    "    master_df = pd.read_csv(master_path)\n",
    "\n",
    "    # Filter and combine only known party entries (exclude 'UNK')\n",
    "    new_data = (\n",
    "        df[[\"candidate\", \"party\"]]\n",
    "        .dropna()\n",
    "        .query('party != \"UNK\"')\n",
    "        .drop_duplicates()\n",
    "    )\n",
    "\n",
    "    # Merge with master and remove duplicates by candidate\n",
    "    updated_master = pd.concat([master_df, new_data]).drop_duplicates(subset=\"candidate\")\n",
    "\n",
    "    # Save updated version\n",
    "    updated_master.to_csv(master_path, index=False)\n",
    "\n",
    "\n",
    "#=====================================\n",
    "# Example usage (uncomment and modify for your workflow)\n",
    "#=====================================\n",
    "# Fill party using internal data\n",
    "# general_data[\"party\"] = general_data.apply(\n",
    "#     lambda row: fill_party_from_data(row, general_data),\n",
    "#     axis=1\n",
    "# )\n",
    "\n",
    "# # Fill remaining party using general master CSV\n",
    "# master_party_df = pd.read_csv(r\"C:\\Huy Phan\\College\\VoterTurnout\\data\\cleaned_data\\gen_can_party.csv\") # USE YOUR OWN ADDRESS\n",
    "# general_data = fill_party_from_master(general_data, master_party_df)\n",
    "general_data[\"party\"].value_counts(dropna=False)\n"
   ]
  },
  {
   "cell_type": "code",
   "execution_count": 221,
   "id": "8bb5d275",
   "metadata": {},
   "outputs": [
    {
     "name": "stderr",
     "output_type": "stream",
     "text": [
      "C:\\Users\\ADMIN\\AppData\\Local\\Temp\\ipykernel_28324\\3171940742.py:3: SettingWithCopyWarning: \n",
      "A value is trying to be set on a copy of a slice from a DataFrame.\n",
      "Try using .loc[row_indexer,col_indexer] = value instead\n",
      "\n",
      "See the caveats in the documentation: https://pandas.pydata.org/pandas-docs/stable/user_guide/indexing.html#returning-a-view-versus-a-copy\n",
      "  general_data[\"party\"] = general_data[\"party\"].astype(str).str.upper()\n",
      "C:\\Users\\ADMIN\\AppData\\Local\\Temp\\ipykernel_28324\\3171940742.py:5: SettingWithCopyWarning: \n",
      "A value is trying to be set on a copy of a slice from a DataFrame.\n",
      "Try using .loc[row_indexer,col_indexer] = value instead\n",
      "\n",
      "See the caveats in the documentation: https://pandas.pydata.org/pandas-docs/stable/user_guide/indexing.html#returning-a-view-versus-a-copy\n",
      "  general_data[\"party\"] = (\n"
     ]
    },
    {
     "data": {
      "application/vnd.microsoft.datawrangler.viewer.v0+json": {
       "columns": [
        {
         "name": "party",
         "rawType": "object",
         "type": "string"
        },
        {
         "name": "count",
         "rawType": "int64",
         "type": "integer"
        }
       ],
       "ref": "68c668a7-5cd1-4cca-8c5d-06d44c886e15",
       "rows": [
        [
         "DEM",
         "1852"
        ],
        [
         "REP",
         "1852"
        ],
        [
         "CON",
         "1852"
        ],
        [
         "AMD",
         "1852"
        ],
        [
         "PRO",
         "1852"
        ],
        [
         "LIB",
         "1852"
        ],
        [
         "GRN",
         "1852"
        ]
       ],
       "shape": {
        "columns": 1,
        "rows": 7
       }
      },
      "text/plain": [
       "party\n",
       "DEM    1852\n",
       "REP    1852\n",
       "CON    1852\n",
       "AMD    1852\n",
       "PRO    1852\n",
       "LIB    1852\n",
       "GRN    1852\n",
       "Name: count, dtype: int64"
      ]
     },
     "execution_count": 221,
     "metadata": {},
     "output_type": "execute_result"
    }
   ],
   "source": [
    "# Cleaning Party\n",
    "# Turning all general data party to uppercase\n",
    "general_data[\"party\"] = general_data[\"party\"].astype(str).str.upper()\n",
    "\n",
    "general_data[\"party\"] = (\n",
    "    general_data[\"party\"]\n",
    "    .replace({\n",
    "        \"REPUBLICAN\": \"REP\",\n",
    "        \"R\": \"REP\",\n",
    "        \"DEMOCRATIC\": \"DEM\",\n",
    "        \"DEMOCRAT\":\"DEM\",\n",
    "        \"DEM\": \"DEM\",\n",
    "        \"D\": \"DEM\",\n",
    "        \"GREEN\": \"GRN\",\n",
    "        \"G\": \"GRN\",\n",
    "        \"GREEN AND RAINBOW\":\"GRN\",\n",
    "        \"GREEN-RAINBOW\":\"GRN\",\n",
    "        \"LIBERTARIAN\": \"LIB\",\n",
    "        \"LIBERTARIN\":\"LIB\",\n",
    "        \"LBT\": \"LIB\",\n",
    "        \"L\": \"LIB\",\n",
    "        \"CONSTITUTION\": \"CON\",\n",
    "        \"AMERICAN DELTA\":\"AMD\",\n",
    "        \"PROHIBITION\":\"PRO\",\n",
    "        \"NP\": \"IND\",\n",
    "        \"NON\": \"IND\",\n",
    "        \"WRI\": \"IND\",\n",
    "        \"WRITE-IN\": \"IND\",\n",
    "        \"ONA\": \"IND\",\n",
    "        \"GEN\": \"IND\",\n",
    "        \"NONE\":\"UNK\",\n",
    "        \"NPA\":\"IND\",\n",
    "        \"UST\":\"CON\",\n",
    "        \"(WRITE-IN)\":\"IND\"\n",
    "    })\n",
    ")\n",
    "\n",
    "general_data[\"party\"].value_counts(dropna=False)"
   ]
  },
  {
   "cell_type": "code",
   "execution_count": 222,
   "id": "ff4a4970",
   "metadata": {},
   "outputs": [],
   "source": [
    "# UPDATE MASTER FILE, CAREFUL\n",
    "update_master_candidate_party(general_data, r\"C:\\Huy Phan\\College\\VoterTurnout\\data\\cleaned_data\\gen_can_party.csv\")"
   ]
  },
  {
   "cell_type": "code",
   "execution_count": 223,
   "id": "daaed088",
   "metadata": {},
   "outputs": [
    {
     "name": "stderr",
     "output_type": "stream",
     "text": [
      "C:\\Users\\ADMIN\\AppData\\Local\\Temp\\ipykernel_28324\\1829951435.py:1: SettingWithCopyWarning: \n",
      "A value is trying to be set on a copy of a slice from a DataFrame.\n",
      "Try using .loc[row_indexer,col_indexer] = value instead\n",
      "\n",
      "See the caveats in the documentation: https://pandas.pydata.org/pandas-docs/stable/user_guide/indexing.html#returning-a-view-versus-a-copy\n",
      "  general_data[\"candidate_column\"] = (\n"
     ]
    },
    {
     "data": {
      "application/vnd.microsoft.datawrangler.viewer.v0+json": {
       "columns": [
        {
         "name": "index",
         "rawType": "int64",
         "type": "integer"
        },
        {
         "name": "precinct",
         "rawType": "object",
         "type": "string"
        },
        {
         "name": "gen_amd_FUENTE",
         "rawType": "int64",
         "type": "integer"
        },
        {
         "name": "gen_con_CASTLE",
         "rawType": "int64",
         "type": "integer"
        },
        {
         "name": "gen_dem_CLINTON",
         "rawType": "int64",
         "type": "integer"
        },
        {
         "name": "gen_grn_STEIN",
         "rawType": "int64",
         "type": "integer"
        },
        {
         "name": "gen_lib_JOHNSON",
         "rawType": "int64",
         "type": "integer"
        },
        {
         "name": "gen_pro_HEDGES",
         "rawType": "int64",
         "type": "integer"
        },
        {
         "name": "gen_rep_TRUMP",
         "rawType": "int64",
         "type": "integer"
        }
       ],
       "ref": "08bdb691-487a-476c-8a16-acca85285f4a",
       "rows": [
        [
         "0",
         "ADAMSDIST. 1, BELLEMONT",
         "1",
         "6",
         "442",
         "4",
         "20",
         "1",
         "1090"
        ],
        [
         "1",
         "ADAMSDIST. 1, BY-PASS FIRE",
         "3",
         "2",
         "504",
         "1",
         "4",
         "2",
         "241"
        ],
        [
         "2",
         "ADAMSDIST. 1, COURTHOUSE",
         "0",
         "1",
         "171",
         "2",
         "18",
         "0",
         "402"
        ],
        [
         "3",
         "ADAMSDIST. 2, BEAU PRE",
         "0",
         "3",
         "285",
         "1",
         "9",
         "0",
         "468"
        ],
        [
         "4",
         "ADAMSDIST. 2, DUNCAN PARK",
         "0",
         "2",
         "338",
         "3",
         "21",
         "0",
         "461"
        ],
        [
         "5",
         "ADAMSDIST. 2, KINGSTON",
         "0",
         "3",
         "99",
         "1",
         "5",
         "0",
         "548"
        ],
        [
         "6",
         "ADAMSDIST. 2, LIBERTY PARK",
         "1",
         "1",
         "161",
         "1",
         "6",
         "1",
         "572"
        ],
        [
         "7",
         "ADAMSDIST. 3, CONCORD",
         "0",
         "1",
         "523",
         "2",
         "4",
         "0",
         "29"
        ],
        [
         "8",
         "ADAMSDIST. 3, MARYLAND HGTS",
         "0",
         "2",
         "504",
         "1",
         "1",
         "1",
         "26"
        ],
        [
         "9",
         "ADAMSDIST. 3, NPS MULTI PURPOSE BLDG.",
         "0",
         "0",
         "251",
         "0",
         "5",
         "0",
         "160"
        ],
        [
         "10",
         "ADAMSDIST. 3, PALESTINE",
         "0",
         "1",
         "479",
         "1",
         "3",
         "1",
         "382"
        ],
        [
         "11",
         "ADAMSDIST. 4, CARPENTER",
         "0",
         "0",
         "288",
         "3",
         "5",
         "1",
         "119"
        ],
        [
         "12",
         "ADAMSDIST. 4, MORGANTOWN",
         "3",
         "0",
         "323",
         "1",
         "1",
         "0",
         "117"
        ],
        [
         "13",
         "ADAMSDIST. 4, NORTHSIDE",
         "0",
         "1",
         "1118",
         "1",
         "5",
         "2",
         "46"
        ],
        [
         "14",
         "ADAMSDIST. 4, PINE RIDGE",
         "0",
         "0",
         "350",
         "3",
         "2",
         "0",
         "87"
        ],
        [
         "15",
         "ADAMSDIST. 5, AIRPORT",
         "2",
         "0",
         "419",
         "2",
         "3",
         "0",
         "192"
        ],
        [
         "16",
         "ADAMSDIST. 5, FOSTER MOUND",
         "0",
         "1",
         "868",
         "1",
         "3",
         "0",
         "47"
        ],
        [
         "17",
         "ADAMSDIST. 5, OAKLAND",
         "1",
         "2",
         "466",
         "2",
         "7",
         "0",
         "539"
        ],
        [
         "18",
         "ADAMSDIST. 5, WASHINGTON",
         "1",
         "1",
         "168",
         "2",
         "3",
         "0",
         "348"
        ],
        [
         "19",
         "ADAMSNAN",
         "12",
         "27",
         "7757",
         "32",
         "125",
         "9",
         "5874"
        ],
        [
         "20",
         "ALCORN2ND DISTRICT CENTRAL",
         "0",
         "3",
         "131",
         "7",
         "8",
         "1",
         "1216"
        ],
        [
         "21",
         "ALCORNBETHEL",
         "0",
         "0",
         "1",
         "0",
         "0",
         "0",
         "82"
        ],
        [
         "22",
         "ALCORNBIGGERSVILLE",
         "1",
         "3",
         "134",
         "0",
         "11",
         "1",
         "605"
        ],
        [
         "23",
         "ALCORNCOLLEGE HILL",
         "1",
         "3",
         "243",
         "5",
         "13",
         "1",
         "419"
        ],
        [
         "24",
         "ALCORNEAST CORINTH",
         "0",
         "3",
         "317",
         "2",
         "16",
         "0",
         "884"
        ],
        [
         "25",
         "ALCORNFIVE POINTS 1ST DIST",
         "0",
         "5",
         "157",
         "6",
         "12",
         "1",
         "1286"
        ],
        [
         "26",
         "ALCORNGLEN",
         "1",
         "5",
         "112",
         "2",
         "11",
         "0",
         "826"
        ],
        [
         "27",
         "ALCORNJACINTO",
         "0",
         "0",
         "23",
         "0",
         "2",
         "3",
         "289"
        ],
        [
         "28",
         "ALCORNKOSSUTH",
         "0",
         "4",
         "97",
         "1",
         "9",
         "0",
         "1310"
        ],
        [
         "29",
         "ALCORNNAN",
         "7",
         "56",
         "2684",
         "38",
         "167",
         "12",
         "11819"
        ],
        [
         "30",
         "ALCORNNORTH CORINTH",
         "0",
         "2",
         "133",
         "2",
         "22",
         "0",
         "773"
        ],
        [
         "31",
         "ALCORNPINECREST",
         "1",
         "1",
         "120",
         "1",
         "7",
         "0",
         "363"
        ],
        [
         "32",
         "ALCORNRIENZI",
         "1",
         "7",
         "145",
         "2",
         "6",
         "1",
         "724"
        ],
        [
         "33",
         "ALCORNSHADY GROVE",
         "0",
         "1",
         "108",
         "0",
         "7",
         "1",
         "648"
        ],
        [
         "34",
         "ALCORNSOUTH CORINTH",
         "1",
         "6",
         "629",
         "4",
         "15",
         "3",
         "479"
        ],
        [
         "35",
         "ALCORNUNION CENTER",
         "1",
         "1",
         "80",
         "1",
         "7",
         "0",
         "832"
        ],
        [
         "36",
         "ALCORNWENASOGA",
         "0",
         "3",
         "147",
         "1",
         "11",
         "0",
         "665"
        ],
        [
         "37",
         "ALCORNWEST CORINTH",
         "0",
         "9",
         "107",
         "4",
         "10",
         "0",
         "418"
        ],
        [
         "38",
         "AMITEAMITE RIVER",
         "0",
         "0",
         "185",
         "1",
         "2",
         "0",
         "131"
        ],
        [
         "39",
         "AMITEARIEL",
         "0",
         "0",
         "221",
         "0",
         "1",
         "0",
         "72"
        ],
        [
         "40",
         "AMITEBERWICK",
         "0",
         "0",
         "244",
         "2",
         "0",
         "0",
         "109"
        ],
        [
         "41",
         "AMITECROSBY",
         "0",
         "1",
         "98",
         "0",
         "0",
         "1",
         "92"
        ],
        [
         "42",
         "AMITEEAST CENTREVILLE",
         "0",
         "0",
         "128",
         "0",
         "0",
         "0",
         "223"
        ],
        [
         "43",
         "AMITEEAST FORK",
         "2",
         "0",
         "83",
         "1",
         "2",
         "0",
         "332"
        ],
        [
         "44",
         "AMITEEAST GLOSTER",
         "1",
         "2",
         "69",
         "0",
         "1",
         "0",
         "182"
        ],
        [
         "45",
         "AMITEEAST LIBERTY",
         "0",
         "0",
         "62",
         "0",
         "3",
         "0",
         "185"
        ],
        [
         "46",
         "AMITEGLOSTER",
         "0",
         "1",
         "493",
         "2",
         "4",
         "0",
         "125"
        ],
        [
         "47",
         "AMITEHOMOCHITTO",
         "0",
         "1",
         "7",
         "0",
         "0",
         "0",
         "67"
        ],
        [
         "48",
         "AMITELIBERTY",
         "1",
         "0",
         "143",
         "1",
         "6",
         "1",
         "406"
        ],
        [
         "49",
         "AMITENAN",
         "4",
         "9",
         "2697",
         "8",
         "38",
         "5",
         "4289"
        ]
       ],
       "shape": {
        "columns": 8,
        "rows": 1852
       }
      },
      "text/html": [
       "<div>\n",
       "<style scoped>\n",
       "    .dataframe tbody tr th:only-of-type {\n",
       "        vertical-align: middle;\n",
       "    }\n",
       "\n",
       "    .dataframe tbody tr th {\n",
       "        vertical-align: top;\n",
       "    }\n",
       "\n",
       "    .dataframe thead th {\n",
       "        text-align: right;\n",
       "    }\n",
       "</style>\n",
       "<table border=\"1\" class=\"dataframe\">\n",
       "  <thead>\n",
       "    <tr style=\"text-align: right;\">\n",
       "      <th>candidate_column</th>\n",
       "      <th>precinct</th>\n",
       "      <th>gen_amd_FUENTE</th>\n",
       "      <th>gen_con_CASTLE</th>\n",
       "      <th>gen_dem_CLINTON</th>\n",
       "      <th>gen_grn_STEIN</th>\n",
       "      <th>gen_lib_JOHNSON</th>\n",
       "      <th>gen_pro_HEDGES</th>\n",
       "      <th>gen_rep_TRUMP</th>\n",
       "    </tr>\n",
       "  </thead>\n",
       "  <tbody>\n",
       "    <tr>\n",
       "      <th>0</th>\n",
       "      <td>ADAMSDIST. 1, BELLEMONT</td>\n",
       "      <td>1</td>\n",
       "      <td>6</td>\n",
       "      <td>442</td>\n",
       "      <td>4</td>\n",
       "      <td>20</td>\n",
       "      <td>1</td>\n",
       "      <td>1090</td>\n",
       "    </tr>\n",
       "    <tr>\n",
       "      <th>1</th>\n",
       "      <td>ADAMSDIST. 1, BY-PASS FIRE</td>\n",
       "      <td>3</td>\n",
       "      <td>2</td>\n",
       "      <td>504</td>\n",
       "      <td>1</td>\n",
       "      <td>4</td>\n",
       "      <td>2</td>\n",
       "      <td>241</td>\n",
       "    </tr>\n",
       "    <tr>\n",
       "      <th>2</th>\n",
       "      <td>ADAMSDIST. 1, COURTHOUSE</td>\n",
       "      <td>0</td>\n",
       "      <td>1</td>\n",
       "      <td>171</td>\n",
       "      <td>2</td>\n",
       "      <td>18</td>\n",
       "      <td>0</td>\n",
       "      <td>402</td>\n",
       "    </tr>\n",
       "    <tr>\n",
       "      <th>3</th>\n",
       "      <td>ADAMSDIST. 2, BEAU PRE</td>\n",
       "      <td>0</td>\n",
       "      <td>3</td>\n",
       "      <td>285</td>\n",
       "      <td>1</td>\n",
       "      <td>9</td>\n",
       "      <td>0</td>\n",
       "      <td>468</td>\n",
       "    </tr>\n",
       "    <tr>\n",
       "      <th>4</th>\n",
       "      <td>ADAMSDIST. 2, DUNCAN PARK</td>\n",
       "      <td>0</td>\n",
       "      <td>2</td>\n",
       "      <td>338</td>\n",
       "      <td>3</td>\n",
       "      <td>21</td>\n",
       "      <td>0</td>\n",
       "      <td>461</td>\n",
       "    </tr>\n",
       "    <tr>\n",
       "      <th>...</th>\n",
       "      <td>...</td>\n",
       "      <td>...</td>\n",
       "      <td>...</td>\n",
       "      <td>...</td>\n",
       "      <td>...</td>\n",
       "      <td>...</td>\n",
       "      <td>...</td>\n",
       "      <td>...</td>\n",
       "    </tr>\n",
       "    <tr>\n",
       "      <th>1847</th>\n",
       "      <td>YAZOOWASHINGTON ST. FIRE STATION</td>\n",
       "      <td>0</td>\n",
       "      <td>0</td>\n",
       "      <td>180</td>\n",
       "      <td>0</td>\n",
       "      <td>0</td>\n",
       "      <td>0</td>\n",
       "      <td>185</td>\n",
       "    </tr>\n",
       "    <tr>\n",
       "      <th>1848</th>\n",
       "      <td>YAZOOWELFARE OFFICE</td>\n",
       "      <td>0</td>\n",
       "      <td>1</td>\n",
       "      <td>209</td>\n",
       "      <td>0</td>\n",
       "      <td>1</td>\n",
       "      <td>1</td>\n",
       "      <td>287</td>\n",
       "    </tr>\n",
       "    <tr>\n",
       "      <th>1849</th>\n",
       "      <td>YAZOOWEST BENTONIA</td>\n",
       "      <td>0</td>\n",
       "      <td>4</td>\n",
       "      <td>280</td>\n",
       "      <td>0</td>\n",
       "      <td>2</td>\n",
       "      <td>1</td>\n",
       "      <td>221</td>\n",
       "    </tr>\n",
       "    <tr>\n",
       "      <th>1850</th>\n",
       "      <td>YAZOOWEST MIDWAY</td>\n",
       "      <td>0</td>\n",
       "      <td>1</td>\n",
       "      <td>25</td>\n",
       "      <td>0</td>\n",
       "      <td>0</td>\n",
       "      <td>0</td>\n",
       "      <td>151</td>\n",
       "    </tr>\n",
       "    <tr>\n",
       "      <th>1851</th>\n",
       "      <td>YAZOOZION</td>\n",
       "      <td>0</td>\n",
       "      <td>3</td>\n",
       "      <td>54</td>\n",
       "      <td>0</td>\n",
       "      <td>1</td>\n",
       "      <td>0</td>\n",
       "      <td>198</td>\n",
       "    </tr>\n",
       "  </tbody>\n",
       "</table>\n",
       "<p>1852 rows × 8 columns</p>\n",
       "</div>"
      ],
      "text/plain": [
       "candidate_column                          precinct  gen_amd_FUENTE  \\\n",
       "0                          ADAMSDIST. 1, BELLEMONT               1   \n",
       "1                       ADAMSDIST. 1, BY-PASS FIRE               3   \n",
       "2                         ADAMSDIST. 1, COURTHOUSE               0   \n",
       "3                           ADAMSDIST. 2, BEAU PRE               0   \n",
       "4                        ADAMSDIST. 2, DUNCAN PARK               0   \n",
       "...                                            ...             ...   \n",
       "1847              YAZOOWASHINGTON ST. FIRE STATION               0   \n",
       "1848                           YAZOOWELFARE OFFICE               0   \n",
       "1849                            YAZOOWEST BENTONIA               0   \n",
       "1850                              YAZOOWEST MIDWAY               0   \n",
       "1851                                     YAZOOZION               0   \n",
       "\n",
       "candidate_column  gen_con_CASTLE  gen_dem_CLINTON  gen_grn_STEIN  \\\n",
       "0                              6              442              4   \n",
       "1                              2              504              1   \n",
       "2                              1              171              2   \n",
       "3                              3              285              1   \n",
       "4                              2              338              3   \n",
       "...                          ...              ...            ...   \n",
       "1847                           0              180              0   \n",
       "1848                           1              209              0   \n",
       "1849                           4              280              0   \n",
       "1850                           1               25              0   \n",
       "1851                           3               54              0   \n",
       "\n",
       "candidate_column  gen_lib_JOHNSON  gen_pro_HEDGES  gen_rep_TRUMP  \n",
       "0                              20               1           1090  \n",
       "1                               4               2            241  \n",
       "2                              18               0            402  \n",
       "3                               9               0            468  \n",
       "4                              21               0            461  \n",
       "...                           ...             ...            ...  \n",
       "1847                            0               0            185  \n",
       "1848                            1               1            287  \n",
       "1849                            2               1            221  \n",
       "1850                            0               0            151  \n",
       "1851                            1               0            198  \n",
       "\n",
       "[1852 rows x 8 columns]"
      ]
     },
     "execution_count": 223,
     "metadata": {},
     "output_type": "execute_result"
    }
   ],
   "source": [
    "general_data[\"candidate_column\"] = (\n",
    "    \"gen_\" +\n",
    "    general_data[\"party\"].str.lower() + \"_\" +\n",
    "    general_data[\"candidate\"].str.split().str[-1].str.upper()\n",
    ")\n",
    "\n",
    "# pivot the table\n",
    "general_result = general_data.pivot_table(\n",
    "    index=\"precinct\",\n",
    "    columns=\"candidate_column\",\n",
    "    values=\"votes\",\n",
    "    aggfunc=\"sum\",  \n",
    "    fill_value=0\n",
    ").reset_index()\n",
    "\n",
    "general_result"
   ]
  },
  {
   "cell_type": "code",
   "execution_count": 224,
   "id": "6686d34b",
   "metadata": {},
   "outputs": [],
   "source": [
    "# Merge\n",
    "combined = pd.merge(primary_result, general_result, on=\"precinct\", how=\"inner\")\n",
    "\n",
    "# Convert DEM primary columns to numeric and calculate total\n",
    "dem_cols = combined.filter(like=\"pri_dem_\").columns\n",
    "combined[dem_cols] = combined[dem_cols].apply(pd.to_numeric, errors=\"coerce\")\n",
    "combined[\"dem_primary_total\"] = combined[dem_cols].sum(axis=1)\n",
    "\n",
    "# Convert general election columns to numeric and calculate total\n",
    "gen_cols = combined.filter(like=\"gen_\").columns\n",
    "combined[gen_cols] = combined[gen_cols].apply(pd.to_numeric, errors=\"coerce\")\n",
    "combined[\"general_total\"] = combined[gen_cols].sum(axis=1)\n",
    "\n",
    "# Convert all numeric columns to int\n",
    "for col in combined.columns[1:]:\n",
    "    combined[col] = pd.to_numeric(combined[col], errors='coerce').fillna(0).astype(int)\n",
    "\n",
    "# Identify filtered-out precincts\n",
    "primary_precincts = set(primary_result[\"precinct\"])\n",
    "general_precincts = set(general_result[\"precinct\"])\n",
    "combined_precincts = set(combined[\"precinct\"])\n",
    "\n",
    "primary_filtered_out = primary_precincts - combined_precincts\n",
    "general_filtered_out = general_precincts - combined_precincts\n",
    "\n",
    "\n"
   ]
  },
  {
   "cell_type": "code",
   "execution_count": 225,
   "id": "a6797e92",
   "metadata": {},
   "outputs": [],
   "source": [
    "\n",
    "\n",
    "combined.to_csv(\"MS.csv\", index=False)\n",
    "# Step 3: Identify unmatched precincts and retrieve full rows\n",
    "combined_precincts = set(combined[\"precinct\"])\n",
    "\n",
    "# Rows in primary_result but not in combined\n",
    "primary_filtered_out = primary_result[~primary_result[\"precinct\"].isin(combined_precincts)]\n",
    "primary_filtered_out.to_csv(\"MS_primary_filtered.csv\", index=False)\n",
    "\n",
    "# Rows in general_result but not in combined\n",
    "general_filtered_out = general_result[~general_result[\"precinct\"].isin(combined_precincts)]\n",
    "general_filtered_out.to_csv(\"MS_general_filtered.csv\", index=False)"
   ]
  },
  {
   "cell_type": "code",
   "execution_count": 226,
   "id": "b3d042ff",
   "metadata": {},
   "outputs": [
    {
     "name": "stdout",
     "output_type": "stream",
     "text": [
      "primary: 1803, general: 1852, combined: 1572\n"
     ]
    }
   ],
   "source": [
    "print(f\"primary: {len(primary_precincts)}, general: {len(general_precincts)}, combined: {len(combined)}\")"
   ]
  },
  {
   "cell_type": "code",
   "execution_count": 227,
   "id": "9900725d",
   "metadata": {},
   "outputs": [
    {
     "name": "stdout",
     "output_type": "stream",
     "text": [
      "primary: 94, general: 82\n"
     ]
    }
   ],
   "source": [
    "print(f\"primary: {len(pri_combined_df['county'].unique())}, general: {len(gen_combined_df['county'].unique())}\")\n"
   ]
  },
  {
   "cell_type": "code",
   "execution_count": 228,
   "id": "b12d639e",
   "metadata": {},
   "outputs": [
    {
     "data": {
      "text/plain": [
       "array(['ADAMS', 'ALCORN', 'AMITE', 'ATTALA', 'BENTON', 'BOLIVAR',\n",
       "       'CALHOUN', 'CARROLL', 'CHICKASAW', 'CHOCTAW', 'CLAIBORNE',\n",
       "       'CLARKE', 'CLAY', 'COAHOMA', 'COPIAH', 'COVINGTON', 'DESOTO',\n",
       "       'FORREST', 'FRANKLIN', 'GEORGE', 'GREENE', 'GRENADA', 'HANCOCK',\n",
       "       'HARRISON', 'HINDS', 'HOLMES', 'ISSAQUENA', 'ITAWAMBA', 'JACKSON',\n",
       "       'JASPER', 'JEFFERSON', 'JEFFERSON DAVIS', 'JONES', 'BAND BUILDING',\n",
       "       'COURTHOUSE', 'FARMERS MARKET', 'FORT STEVENS', 'KELLIS STORE',\n",
       "       'KEMPER SPRINGS', 'LYNVILLE', 'LYNWOOD', 'MOUNT NEBO',\n",
       "       'PORTERVILLE', 'PRESTON', 'SATELLITE', 'SCOOBA A-L', 'SCOOBA M-Z',\n",
       "       'LAFAYETTE', 'LAMAR', 'LAUDERDALE', 'LAWRENCE', 'LEAKE', 'LEE',\n",
       "       'LEFLORE', 'LINCOLN', 'LOWNDES', 'MADISON', 'MARION', 'MARSHALL',\n",
       "       'MONROE', 'MONTGOMERY', 'NESHOBA', 'NEWTON', 'NOXUBEE',\n",
       "       'OKTIBBEHA', 'PANOLA', 'PEARL RIVER', 'PERRY', 'PIKE', 'PONTOTOC',\n",
       "       'PRENTISS', 'QUITMAN', 'RANKIN', 'SCOTT', 'SHARKEY', 'SIMPSON',\n",
       "       'SMITH', 'STONE', 'SUNFLOWER', 'TALLAHATCHIE', 'TATE', 'TIPPAH',\n",
       "       'TISHOMINGO', 'TUNICA', 'UNION', 'WALTHALL', 'WARREN',\n",
       "       'WASHINGTON', 'WAYNE', 'WEBSTER', 'WILKINSON', 'WINTSON',\n",
       "       'YALOBUSHA', 'YAZOO'], dtype=object)"
      ]
     },
     "execution_count": 228,
     "metadata": {},
     "output_type": "execute_result"
    }
   ],
   "source": [
    "pri_combined_df['county'].unique()"
   ]
  },
  {
   "cell_type": "code",
   "execution_count": 229,
   "id": "0fb1a12f",
   "metadata": {},
   "outputs": [
    {
     "data": {
      "text/plain": [
       "array(['ADAMS', 'ALCORN', 'AMITE', 'ATTALA', 'BENTON', 'BOLIVAR',\n",
       "       'CALHOUN', 'CARROLL', 'CHICKASAW', 'CHOCTAW', 'CLAIBORNE',\n",
       "       'CLARKE', 'CLAY', 'COAHOMA', 'COPIAH', 'COVINGTON', 'DESOTO',\n",
       "       'FORREST', 'FRANKLIN', 'GEORGE', 'GREENE', 'GRENADA', 'HANCOCK',\n",
       "       'HARRISON', 'HINDS', 'HOLMES', 'HUMPHREYS', 'ISSAQUENA',\n",
       "       'ITAWAMBA', 'JACKSON', 'JASPER', 'JEFFERSON', 'JEFFERSON DAVIS',\n",
       "       'JONES', 'KEMPER', 'LAFAYETTE', 'LAMAR', 'LAUDERDALE', 'LAWRENCE',\n",
       "       'LEAKE', 'LEE', 'LEFLORE', 'LINCOLN', 'LOWNDES', 'MADISON',\n",
       "       'MARION', 'MARSHALL', 'MONROE', 'MONTGOMERY', 'NESHOBA', 'NEWTON',\n",
       "       'NOXUBEE', 'OKTIBBEHA', 'PANOLA', 'PEARL RIVER', 'PERRY', 'PIKE',\n",
       "       'PONTOTOC', 'PRENTISS', 'QUITMAN', 'RANKIN', 'SCOTT', 'SHARKEY',\n",
       "       'SIMPSON', 'SMITH', 'STONE', 'SUNFLOWER', 'TALLAHATCHIE', 'TATE',\n",
       "       'TIPPAH', 'TISHOMINGO', 'TUNICA', 'UNION', 'WALTHALL', 'WARREN',\n",
       "       'WASHINGTON', 'WAYNE', 'WEBSTER', 'WILKINSON', 'WINSTON',\n",
       "       'YALOBUSHA', 'YAZOO'], dtype=object)"
      ]
     },
     "execution_count": 229,
     "metadata": {},
     "output_type": "execute_result"
    }
   ],
   "source": [
    "gen_combined_df['county'].unique()"
   ]
  },
  {
   "cell_type": "code",
   "execution_count": 230,
   "id": "b28d499d",
   "metadata": {},
   "outputs": [
    {
     "name": "stdout",
     "output_type": "stream",
     "text": [
      "Counties in primary but not in general: 15\n",
      "{'KELLIS STORE', 'LYNWOOD', 'KEMPER SPRINGS', 'COURTHOUSE', 'LYNVILLE', 'FARMERS MARKET', 'FORT STEVENS', 'SATELLITE', 'PORTERVILLE', 'PRESTON', 'SCOOBA M-Z', 'WINTSON', 'BAND BUILDING', 'MOUNT NEBO', 'SCOOBA A-L'}\n"
     ]
    }
   ],
   "source": [
    "primary_counties = set(pri_combined_df['county'].dropna().str.strip().str.upper())\n",
    "general_counties = set(gen_combined_df['county'].dropna().str.strip().str.upper())\n",
    "\n",
    "diff = primary_counties - general_counties\n",
    "print(f\"Counties in primary but not in general: {len(diff)}\")\n",
    "print(diff)\n"
   ]
  }
 ],
 "metadata": {
  "kernelspec": {
   "display_name": "Python 3",
   "language": "python",
   "name": "python3"
  },
  "language_info": {
   "codemirror_mode": {
    "name": "ipython",
    "version": 3
   },
   "file_extension": ".py",
   "mimetype": "text/x-python",
   "name": "python",
   "nbconvert_exporter": "python",
   "pygments_lexer": "ipython3",
   "version": "3.11.2"
  }
 },
 "nbformat": 4,
 "nbformat_minor": 5
}
