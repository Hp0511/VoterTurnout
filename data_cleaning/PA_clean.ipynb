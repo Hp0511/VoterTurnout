{
 "cells": [
  {
   "cell_type": "code",
   "execution_count": 1,
   "id": "404a9de4",
   "metadata": {},
   "outputs": [],
   "source": [
    "# Import all the libraries\n",
    "import pandas as pd\n",
    "import glob\n",
    "import os\n",
    "import re\n",
    "from pprint import pprint"
   ]
  },
  {
   "cell_type": "code",
   "execution_count": 16,
   "id": "b0fe947f",
   "metadata": {},
   "outputs": [],
   "source": [
    "files = glob.glob(r\"C:\\Huy Phan\\College\\VoterTurnout\\data\\PA\\unadded\\*.csv\")"
   ]
  },
  {
   "cell_type": "code",
   "execution_count": 18,
   "id": "e7d4b52e",
   "metadata": {},
   "outputs": [
    {
     "name": "stderr",
     "output_type": "stream",
     "text": [
      "C:\\Users\\ADMIN\\AppData\\Local\\Temp\\ipykernel_22564\\2292804196.py:2: DtypeWarning: Columns (14,22,24,28) have mixed types. Specify dtype option on import or set low_memory=False.\n",
      "  primary_df = pd.read_csv(files[1])\n"
     ]
    },
    {
     "data": {
      "text/plain": [
       "{'Adams': 1,\n",
       " 'Allegheny': 2,\n",
       " 'Armstrong': 3,\n",
       " 'Beaver': 4,\n",
       " 'Bedford': 5,\n",
       " 'Berks': 6,\n",
       " 'Blair': 7,\n",
       " 'Bradford': 8,\n",
       " 'Bucks': 9,\n",
       " 'Butler': 10,\n",
       " 'Cambria': 11,\n",
       " 'Cameron': 12,\n",
       " 'Carbon': 13,\n",
       " 'Centre': 14,\n",
       " 'Chester': 15,\n",
       " 'Clarion': 16,\n",
       " 'Clearfield': 17,\n",
       " 'Clinton': 18,\n",
       " 'Columbia': 19,\n",
       " 'Crawford': 20,\n",
       " 'Cumberland': 21,\n",
       " 'Dauphin': 22,\n",
       " 'Delaware': 23,\n",
       " 'Elk': 24,\n",
       " 'Erie': 25,\n",
       " 'Fayette': 26,\n",
       " 'Forest': 27,\n",
       " 'Franklin': 28,\n",
       " 'Fulton': 29,\n",
       " 'Greene': 30,\n",
       " 'Huntingdon': 31,\n",
       " 'Indiana': 32,\n",
       " 'Jefferson': 33,\n",
       " 'Juniata': 34,\n",
       " 'Lackawanna': 35,\n",
       " 'Lancaster': 36,\n",
       " 'Lawrence': 37,\n",
       " 'Lebanon': 38,\n",
       " 'Lehigh': 39,\n",
       " 'Luzerne': 40,\n",
       " 'Lycoming': 41,\n",
       " 'McKean': 42,\n",
       " 'Mercer': 43,\n",
       " 'Mifflin': 44,\n",
       " 'Monroe': 45,\n",
       " 'Montgomery': 46,\n",
       " 'Montour': 47,\n",
       " 'Northampton': 48,\n",
       " 'Northumberland': 49,\n",
       " 'Perry': 50,\n",
       " 'Philadelphia': 51,\n",
       " 'Pike': 52,\n",
       " 'Potter': 53,\n",
       " 'Schuylkill': 54,\n",
       " 'Snyder': 55,\n",
       " 'Somerset': 56,\n",
       " 'Sullivan': 57,\n",
       " 'Susquehanna': 58,\n",
       " 'Tioga': 59,\n",
       " 'Union': 60,\n",
       " 'Venango': 61,\n",
       " 'Warren': 62,\n",
       " 'Washington': 63,\n",
       " 'Wayne': 64,\n",
       " 'Westmoreland': 65,\n",
       " 'Wyoming': 66,\n",
       " 'York': 67}"
      ]
     },
     "execution_count": 18,
     "metadata": {},
     "output_type": "execute_result"
    }
   ],
   "source": [
    "df = pd.read_csv(files[0])\n",
    "primary_df = pd.read_csv(files[1])\n",
    "\n",
    "# Create a mapping from county name to a unique number\n",
    "county_map = {name: i+1 for i, name in enumerate(df[\"county\"].unique())}\n",
    "\n",
    "# Create a new column using the mapping\n",
    "df[\"county_number\"] = df[\"county\"].map(county_map)\n",
    "\n",
    "reverse_county_map = {v: k for k, v in county_map.items()}\n",
    "primary_df[\"county\"] = primary_df[\"county_number\"].map(reverse_county_map)\n",
    "# Define folder path (change this to your folder)\n",
    "folder_path = r\"C:\\Huy Phan\\College\\VoterTurnout\\data\\PA\"\n",
    "\n",
    "# Define filename\n",
    "file_name = r\"PA_General_2016.csv\"\n",
    "primary = r\"PA_Primary_2016.csv\"\n",
    "# Save to that folder\n",
    "df.to_csv(f\"{folder_path}/{file_name}\", index=False)\n",
    "primary_df.to_csv(f\"{folder_path}/{primary}\", index=False)\n",
    "county_map"
   ]
  },
  {
   "cell_type": "code",
   "execution_count": null,
   "id": "d49855ad",
   "metadata": {},
   "outputs": [],
   "source": [
    "df[\"county\"] = df[\"county\"].astype(str).str.strip()"
   ]
  }
 ],
 "metadata": {
  "kernelspec": {
   "display_name": "Python 3",
   "language": "python",
   "name": "python3"
  },
  "language_info": {
   "codemirror_mode": {
    "name": "ipython",
    "version": 3
   },
   "file_extension": ".py",
   "mimetype": "text/x-python",
   "name": "python",
   "nbconvert_exporter": "python",
   "pygments_lexer": "ipython3",
   "version": "3.11.2"
  }
 },
 "nbformat": 4,
 "nbformat_minor": 5
}
