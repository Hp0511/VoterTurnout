{
 "cells": [
  {
   "cell_type": "code",
   "execution_count": 52,
   "id": "404a9de4",
   "metadata": {},
   "outputs": [],
   "source": [
    "# Import all the libraries\n",
    "import pandas as pd\n",
    "import glob\n",
    "import os\n",
    "import re\n",
    "from pprint import pprint"
   ]
  },
  {
   "cell_type": "code",
   "execution_count": 55,
   "id": "b0fe947f",
   "metadata": {},
   "outputs": [],
   "source": [
    "files = glob.glob(r\"C:\\Huy Phan\\College\\VoterTurnout\\data\\AZ\\20160322__az__primary__president__yuma__precinct.csv\")"
   ]
  },
  {
   "cell_type": "code",
   "execution_count": 56,
   "id": "e7d4b52e",
   "metadata": {},
   "outputs": [],
   "source": [
    "df = pd.read_csv(files[0])\n",
    "\n",
    "# Clean precinct_name: keep second part, convert to uppercase\n",
    "df[\"precinct_name\"] = df[\"precinct_name\"].astype(str).str.split(\" \").str[-1].str.upper().str.strip()\n",
    "# df[\"precinct_name\"] = df[\"precinct_name\"].astype(str).str.replace(r\"\\s*CG:\\s*\\d+\", \"\", regex=True).str.strip()\n",
    "\n",
    "df.to_csv(\"20160322__az__primary__president__yuma__precinct.csv\")"
   ]
  },
  {
   "cell_type": "code",
   "execution_count": 38,
   "id": "b3df99cc",
   "metadata": {},
   "outputs": [],
   "source": [
    "new_files = glob.glob(r\"C:\\Huy Phan\\College\\VoterTurnout\\data\\AZ\\20161108__az__general__greenlee__precinct.csv\")"
   ]
  },
  {
   "cell_type": "code",
   "execution_count": 35,
   "id": "4c58de93",
   "metadata": {},
   "outputs": [],
   "source": [
    "new_df = pd.read_csv(new_files[0])\n",
    "\n",
    "# Clean precinct_name: keep second part, convert to uppercase\n",
    "new_df[\"precinct\"] = new_df[\"precinct\"] = new_df[\"precinct\"].astype(str).str.replace(r\"^\\d+\\s+\", \"\", regex=True).str.upper()\n",
    "\n",
    "new_df.to_csv(\"20161108__az__general__greenlee__precinct.csv\")"
   ]
  }
 ],
 "metadata": {
  "kernelspec": {
   "display_name": "Python 3",
   "language": "python",
   "name": "python3"
  },
  "language_info": {
   "codemirror_mode": {
    "name": "ipython",
    "version": 3
   },
   "file_extension": ".py",
   "mimetype": "text/x-python",
   "name": "python",
   "nbconvert_exporter": "python",
   "pygments_lexer": "ipython3",
   "version": "3.11.2"
  }
 },
 "nbformat": 4,
 "nbformat_minor": 5
}
