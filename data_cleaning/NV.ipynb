{
 "cells": [
  {
   "cell_type": "code",
   "execution_count": 71,
   "id": "ad1be0fa",
   "metadata": {},
   "outputs": [],
   "source": [
    "# Import all the libraries\n",
    "import pandas as pd\n",
    "import glob\n",
    "import os\n",
    "import re\n",
    "from pprint import pprint"
   ]
  },
  {
   "cell_type": "code",
   "execution_count": 72,
   "id": "c263c4df",
   "metadata": {},
   "outputs": [],
   "source": [
    "#Get all CSV files in the folder of GA\n",
    "all_files = glob.glob(r\"C:\\Huy Phan\\College\\VoterTurnout\\data\\NV\\*.csv\")\n",
    "\n",
    "# Files that contain both 'precinct' and 'general' in the filename\n",
    "general_files = [\n",
    "    f for f in all_files\n",
    "    if all(word in f.lower() for word in ['precinct', 'general'])\n",
    "]\n",
    "\n",
    "# Files that contain both 'precinct' and 'primary' in the filename\n",
    "primary_files = [\n",
    "    f for f in all_files\n",
    "    if all(word in f.lower() for word in ['precinct', 'caucus'])\n",
    "]\n"
   ]
  },
  {
   "cell_type": "code",
   "execution_count": 73,
   "id": "60d49ea6",
   "metadata": {},
   "outputs": [
    {
     "name": "stdout",
     "output_type": "stream",
     "text": [
      "General files:\n",
      "C:\\Huy Phan\\College\\VoterTurnout\\data\\NV\\20161108__nv__general__precinct.csv\n"
     ]
    }
   ],
   "source": [
    "print(\"General files:\")\n",
    "for f in general_files:\n",
    "    print(f)\n"
   ]
  },
  {
   "cell_type": "code",
   "execution_count": 74,
   "id": "4ab13110",
   "metadata": {},
   "outputs": [
    {
     "name": "stdout",
     "output_type": "stream",
     "text": [
      "\n",
      "Primary files:\n",
      "C:\\Huy Phan\\College\\VoterTurnout\\data\\NV\\20160220__nv__democratic__caucus__precinct.csv\n"
     ]
    }
   ],
   "source": [
    "print(\"\\nPrimary files:\")\n",
    "for f in primary_files:\n",
    "    print(f)"
   ]
  },
  {
   "cell_type": "code",
   "execution_count": 75,
   "id": "ff5df6c7",
   "metadata": {},
   "outputs": [
    {
     "data": {
      "application/vnd.microsoft.datawrangler.viewer.v0+json": {
       "columns": [
        {
         "name": "index",
         "rawType": "int64",
         "type": "integer"
        },
        {
         "name": "jurisdiction",
         "rawType": "object",
         "type": "string"
        },
        {
         "name": "precinct",
         "rawType": "object",
         "type": "string"
        },
        {
         "name": "office",
         "rawType": "object",
         "type": "string"
        },
        {
         "name": "party",
         "rawType": "object",
         "type": "string"
        },
        {
         "name": "candidate",
         "rawType": "object",
         "type": "string"
        },
        {
         "name": "votes",
         "rawType": "int64",
         "type": "integer"
        }
       ],
       "ref": "c4a09d45-a36f-4263-8208-e949fed220c1",
       "rows": [
        [
         "0",
         "Carson City",
         "CARSON CITY101",
         "President",
         "Democratic",
         "Hillary Clinton",
         "3"
        ],
        [
         "1",
         "Carson City",
         "CARSON CITY103",
         "President",
         "Democratic",
         "Hillary Clinton",
         "4"
        ],
        [
         "2",
         "Carson City",
         "CARSON CITY105",
         "President",
         "Democratic",
         "Hillary Clinton",
         "3"
        ],
        [
         "3",
         "Carson City",
         "CARSON CITY107",
         "President",
         "Democratic",
         "Hillary Clinton",
         "3"
        ],
        [
         "4",
         "Carson City",
         "CARSON CITY109",
         "President",
         "Democratic",
         "Hillary Clinton",
         "4"
        ],
        [
         "5",
         "Carson City",
         "CARSON CITY111",
         "President",
         "Democratic",
         "Hillary Clinton",
         "3"
        ],
        [
         "6",
         "Carson City",
         "CARSON CITY113",
         "President",
         "Democratic",
         "Hillary Clinton",
         "4"
        ],
        [
         "7",
         "Carson City",
         "CARSON CITY201",
         "President",
         "Democratic",
         "Hillary Clinton",
         "3"
        ],
        [
         "8",
         "Carson City",
         "CARSON CITY203",
         "President",
         "Democratic",
         "Hillary Clinton",
         "4"
        ],
        [
         "9",
         "Carson City",
         "CARSON CITY205",
         "President",
         "Democratic",
         "Hillary Clinton",
         "4"
        ],
        [
         "10",
         "Carson City",
         "CARSON CITY207",
         "President",
         "Democratic",
         "Hillary Clinton",
         "3"
        ],
        [
         "11",
         "Carson City",
         "CARSON CITY209",
         "President",
         "Democratic",
         "Hillary Clinton",
         "2"
        ],
        [
         "12",
         "Carson City",
         "CARSON CITY211",
         "President",
         "Democratic",
         "Hillary Clinton",
         "2"
        ],
        [
         "13",
         "Carson City",
         "CARSON CITY301",
         "President",
         "Democratic",
         "Hillary Clinton",
         "3"
        ],
        [
         "14",
         "Carson City",
         "CARSON CITY303",
         "President",
         "Democratic",
         "Hillary Clinton",
         "3"
        ],
        [
         "15",
         "Carson City",
         "CARSON CITY305",
         "President",
         "Democratic",
         "Hillary Clinton",
         "4"
        ],
        [
         "16",
         "Carson City",
         "CARSON CITY307",
         "President",
         "Democratic",
         "Hillary Clinton",
         "6"
        ],
        [
         "17",
         "Carson City",
         "CARSON CITY309",
         "President",
         "Democratic",
         "Hillary Clinton",
         "5"
        ],
        [
         "18",
         "Carson City",
         "CARSON CITY401",
         "President",
         "Democratic",
         "Hillary Clinton",
         "3"
        ],
        [
         "19",
         "Carson City",
         "CARSON CITY403",
         "President",
         "Democratic",
         "Hillary Clinton",
         "5"
        ],
        [
         "20",
         "Carson City",
         "CARSON CITY405",
         "President",
         "Democratic",
         "Hillary Clinton",
         "4"
        ],
        [
         "21",
         "Carson City",
         "CARSON CITY407",
         "President",
         "Democratic",
         "Hillary Clinton",
         "3"
        ],
        [
         "22",
         "Carson City",
         "CARSON CITY409",
         "President",
         "Democratic",
         "Hillary Clinton",
         "3"
        ],
        [
         "23",
         "Carson City",
         "CARSON CITY411",
         "President",
         "Democratic",
         "Hillary Clinton",
         "2"
        ],
        [
         "24",
         "Churchill",
         "CHURCHILL1",
         "President",
         "Democratic",
         "Hillary Clinton",
         "3"
        ],
        [
         "25",
         "Churchill",
         "CHURCHILL10",
         "President",
         "Democratic",
         "Hillary Clinton",
         "3"
        ],
        [
         "26",
         "Churchill",
         "CHURCHILL11",
         "President",
         "Democratic",
         "Hillary Clinton",
         "3"
        ],
        [
         "27",
         "Churchill",
         "CHURCHILL12",
         "President",
         "Democratic",
         "Hillary Clinton",
         "0"
        ],
        [
         "28",
         "Churchill",
         "CHURCHILL13",
         "President",
         "Democratic",
         "Hillary Clinton",
         "1"
        ],
        [
         "29",
         "Churchill",
         "CHURCHILL14",
         "President",
         "Democratic",
         "Hillary Clinton",
         "1"
        ],
        [
         "30",
         "Churchill",
         "CHURCHILL15",
         "President",
         "Democratic",
         "Hillary Clinton",
         "2"
        ],
        [
         "31",
         "Churchill",
         "CHURCHILL16",
         "President",
         "Democratic",
         "Hillary Clinton",
         "2"
        ],
        [
         "32",
         "Churchill",
         "CHURCHILL17",
         "President",
         "Democratic",
         "Hillary Clinton",
         "2"
        ],
        [
         "33",
         "Churchill",
         "CHURCHILL18",
         "President",
         "Democratic",
         "Hillary Clinton",
         "5"
        ],
        [
         "34",
         "Churchill",
         "CHURCHILL19",
         "President",
         "Democratic",
         "Hillary Clinton",
         "2"
        ],
        [
         "35",
         "Churchill",
         "CHURCHILL2",
         "President",
         "Democratic",
         "Hillary Clinton",
         "4"
        ],
        [
         "36",
         "Churchill",
         "CHURCHILL3",
         "President",
         "Democratic",
         "Hillary Clinton",
         "3"
        ],
        [
         "37",
         "Churchill",
         "CHURCHILL4",
         "President",
         "Democratic",
         "Hillary Clinton",
         "4"
        ],
        [
         "38",
         "Churchill",
         "CHURCHILL5",
         "President",
         "Democratic",
         "Hillary Clinton",
         "3"
        ],
        [
         "39",
         "Churchill",
         "CHURCHILL6",
         "President",
         "Democratic",
         "Hillary Clinton",
         "1"
        ],
        [
         "40",
         "Churchill",
         "CHURCHILL7",
         "President",
         "Democratic",
         "Hillary Clinton",
         "4"
        ],
        [
         "41",
         "Churchill",
         "CHURCHILL8",
         "President",
         "Democratic",
         "Hillary Clinton",
         "2"
        ],
        [
         "42",
         "Churchill",
         "CHURCHILL9",
         "President",
         "Democratic",
         "Hillary Clinton",
         "1"
        ],
        [
         "43",
         "Clark",
         "CLARK1038",
         "President",
         "Democratic",
         "Hillary Clinton",
         "2"
        ],
        [
         "44",
         "Clark",
         "CLARK1039",
         "President",
         "Democratic",
         "Hillary Clinton",
         "3"
        ],
        [
         "45",
         "Clark",
         "CLARK1063",
         "President",
         "Democratic",
         "Hillary Clinton",
         "5"
        ],
        [
         "46",
         "Clark",
         "CLARK1067",
         "President",
         "Democratic",
         "Hillary Clinton",
         "1"
        ],
        [
         "47",
         "Clark",
         "CLARK1072",
         "President",
         "Democratic",
         "Hillary Clinton",
         "1"
        ],
        [
         "48",
         "Clark",
         "CLARK1074",
         "President",
         "Democratic",
         "Hillary Clinton",
         "7"
        ],
        [
         "49",
         "Clark",
         "CLARK1137",
         "President",
         "Democratic",
         "Hillary Clinton",
         "5"
        ]
       ],
       "shape": {
        "columns": 6,
        "rows": 6800
       }
      },
      "text/html": [
       "<div>\n",
       "<style scoped>\n",
       "    .dataframe tbody tr th:only-of-type {\n",
       "        vertical-align: middle;\n",
       "    }\n",
       "\n",
       "    .dataframe tbody tr th {\n",
       "        vertical-align: top;\n",
       "    }\n",
       "\n",
       "    .dataframe thead th {\n",
       "        text-align: right;\n",
       "    }\n",
       "</style>\n",
       "<table border=\"1\" class=\"dataframe\">\n",
       "  <thead>\n",
       "    <tr style=\"text-align: right;\">\n",
       "      <th></th>\n",
       "      <th>jurisdiction</th>\n",
       "      <th>precinct</th>\n",
       "      <th>office</th>\n",
       "      <th>party</th>\n",
       "      <th>candidate</th>\n",
       "      <th>votes</th>\n",
       "    </tr>\n",
       "  </thead>\n",
       "  <tbody>\n",
       "    <tr>\n",
       "      <th>0</th>\n",
       "      <td>Carson City</td>\n",
       "      <td>CARSON CITY101</td>\n",
       "      <td>President</td>\n",
       "      <td>Democratic</td>\n",
       "      <td>Hillary Clinton</td>\n",
       "      <td>3</td>\n",
       "    </tr>\n",
       "    <tr>\n",
       "      <th>1</th>\n",
       "      <td>Carson City</td>\n",
       "      <td>CARSON CITY103</td>\n",
       "      <td>President</td>\n",
       "      <td>Democratic</td>\n",
       "      <td>Hillary Clinton</td>\n",
       "      <td>4</td>\n",
       "    </tr>\n",
       "    <tr>\n",
       "      <th>2</th>\n",
       "      <td>Carson City</td>\n",
       "      <td>CARSON CITY105</td>\n",
       "      <td>President</td>\n",
       "      <td>Democratic</td>\n",
       "      <td>Hillary Clinton</td>\n",
       "      <td>3</td>\n",
       "    </tr>\n",
       "    <tr>\n",
       "      <th>3</th>\n",
       "      <td>Carson City</td>\n",
       "      <td>CARSON CITY107</td>\n",
       "      <td>President</td>\n",
       "      <td>Democratic</td>\n",
       "      <td>Hillary Clinton</td>\n",
       "      <td>3</td>\n",
       "    </tr>\n",
       "    <tr>\n",
       "      <th>4</th>\n",
       "      <td>Carson City</td>\n",
       "      <td>CARSON CITY109</td>\n",
       "      <td>President</td>\n",
       "      <td>Democratic</td>\n",
       "      <td>Hillary Clinton</td>\n",
       "      <td>4</td>\n",
       "    </tr>\n",
       "    <tr>\n",
       "      <th>...</th>\n",
       "      <td>...</td>\n",
       "      <td>...</td>\n",
       "      <td>...</td>\n",
       "      <td>...</td>\n",
       "      <td>...</td>\n",
       "      <td>...</td>\n",
       "    </tr>\n",
       "    <tr>\n",
       "      <th>6795</th>\n",
       "      <td>White Pine</td>\n",
       "      <td>WHITE PINE5</td>\n",
       "      <td>President</td>\n",
       "      <td>Democratic</td>\n",
       "      <td>Uncommitted</td>\n",
       "      <td>0</td>\n",
       "    </tr>\n",
       "    <tr>\n",
       "      <th>6796</th>\n",
       "      <td>White Pine</td>\n",
       "      <td>WHITE PINE6</td>\n",
       "      <td>President</td>\n",
       "      <td>Democratic</td>\n",
       "      <td>Uncommitted</td>\n",
       "      <td>0</td>\n",
       "    </tr>\n",
       "    <tr>\n",
       "      <th>6797</th>\n",
       "      <td>White Pine</td>\n",
       "      <td>WHITE PINE7</td>\n",
       "      <td>President</td>\n",
       "      <td>Democratic</td>\n",
       "      <td>Uncommitted</td>\n",
       "      <td>0</td>\n",
       "    </tr>\n",
       "    <tr>\n",
       "      <th>6798</th>\n",
       "      <td>White Pine</td>\n",
       "      <td>WHITE PINE8</td>\n",
       "      <td>President</td>\n",
       "      <td>Democratic</td>\n",
       "      <td>Uncommitted</td>\n",
       "      <td>0</td>\n",
       "    </tr>\n",
       "    <tr>\n",
       "      <th>6799</th>\n",
       "      <td>White Pine</td>\n",
       "      <td>WHITE PINE9</td>\n",
       "      <td>President</td>\n",
       "      <td>Democratic</td>\n",
       "      <td>Uncommitted</td>\n",
       "      <td>0</td>\n",
       "    </tr>\n",
       "  </tbody>\n",
       "</table>\n",
       "<p>6800 rows × 6 columns</p>\n",
       "</div>"
      ],
      "text/plain": [
       "     jurisdiction        precinct     office       party        candidate  \\\n",
       "0     Carson City  CARSON CITY101  President  Democratic  Hillary Clinton   \n",
       "1     Carson City  CARSON CITY103  President  Democratic  Hillary Clinton   \n",
       "2     Carson City  CARSON CITY105  President  Democratic  Hillary Clinton   \n",
       "3     Carson City  CARSON CITY107  President  Democratic  Hillary Clinton   \n",
       "4     Carson City  CARSON CITY109  President  Democratic  Hillary Clinton   \n",
       "...           ...             ...        ...         ...              ...   \n",
       "6795   White Pine     WHITE PINE5  President  Democratic      Uncommitted   \n",
       "6796   White Pine     WHITE PINE6  President  Democratic      Uncommitted   \n",
       "6797   White Pine     WHITE PINE7  President  Democratic      Uncommitted   \n",
       "6798   White Pine     WHITE PINE8  President  Democratic      Uncommitted   \n",
       "6799   White Pine     WHITE PINE9  President  Democratic      Uncommitted   \n",
       "\n",
       "      votes  \n",
       "0         3  \n",
       "1         4  \n",
       "2         3  \n",
       "3         3  \n",
       "4         4  \n",
       "...     ...  \n",
       "6795      0  \n",
       "6796      0  \n",
       "6797      0  \n",
       "6798      0  \n",
       "6799      0  \n",
       "\n",
       "[6800 rows x 6 columns]"
      ]
     },
     "execution_count": 75,
     "metadata": {},
     "output_type": "execute_result"
    }
   ],
   "source": [
    "# Process primary files\n",
    "primary_df_list = []\n",
    "\n",
    "for file in primary_files:\n",
    "    try:\n",
    "        df = pd.read_csv(file)\n",
    "        # Filtering out only President \n",
    "        if 'office' in df.columns:\n",
    "            df = df[df[\"office\"] == \"President\"]\n",
    "            \n",
    "        # Combine precinct as county + precinct\n",
    "        df[\"precinct\"] = df[\"jurisdiction\"].astype(str) + df[\"precinct\"].astype(str)\n",
    "        df[\"precinct\"] = df[\"precinct\"].str.upper()\n",
    "\n",
    "        # Cleaning maybe total precinct\n",
    "        if 'precinct' in df.columns:\n",
    "            df['precinct'] = df['precinct'].astype(str)                  \n",
    "            df = df[df['precinct'].str.upper() != \"TOTAL\"]               \n",
    "            df = df[df['precinct'].str.strip().str.upper() != \"TOTAL\"]   \n",
    "            df = df[df['precinct'].str.upper() != \"NAN\"]                \n",
    "            df = df[~df['precinct'].str.upper().str.contains(r\"\\w*TOTAL\\w*\", na=False)]   \n",
    "\n",
    "        if 'county' in df.columns:\n",
    "            df['county'] = df['county'].astype(str)                  \n",
    "            df = df[df['county'].str.upper() != \"TOTAL\"]               \n",
    "            df = df[df['county'].str.strip().str.upper() != \"TOTAL\"]   \n",
    "            df = df[df['county'].str.upper() != \"NAN\"]       \n",
    "            df = df[~df['county'].str.upper().str.contains(r\"\\w*TOTAL\\w*\", na=False)]               \n",
    "        \n",
    "        # Dropping duplicates value\n",
    "        df = df.drop_duplicates()\n",
    "        primary_df_list.append(df)\n",
    "\n",
    "    except Exception as e:\n",
    "        print(f\"Error in {file}: {e}\")\n",
    "\n",
    "# Combine all cleaned files\n",
    "pri_combined_df = pd.concat(primary_df_list, ignore_index=True)\n",
    "pri_combined_df"
   ]
  },
  {
   "cell_type": "code",
   "execution_count": 77,
   "id": "bbe34b76",
   "metadata": {},
   "outputs": [],
   "source": [
    "# Checking any suspicious precinct, county\n",
    "suspicious_precincts = pri_combined_df[\n",
    "    pri_combined_df[\"precinct\"].isna() |\n",
    "    pri_combined_df[\"precinct\"].str.strip().str.upper().str.contains(r\"\\w*TOTAL\\w*\", na=False) |\n",
    "    pri_combined_df[\"precinct\"].str.strip().str.upper().isin([\"NONE\", \"NAN\"]) |\n",
    "    pri_combined_df[\"jurisdiction\"].isna() |\n",
    "    pri_combined_df[\"jurisdiction\"].str.strip().str.upper().str.contains(r\"\\w*TOTAL\\w*\", na=False) |\n",
    "    pri_combined_df[\"jurisdiction\"].str.strip().str.upper().isin([\"NONE\", \"NAN\"])\n",
    "]"
   ]
  },
  {
   "cell_type": "code",
   "execution_count": 78,
   "id": "f0e1e913",
   "metadata": {},
   "outputs": [
    {
     "data": {
      "application/vnd.microsoft.datawrangler.viewer.v0+json": {
       "columns": [
        {
         "name": "index",
         "rawType": "int64",
         "type": "integer"
        },
        {
         "name": "precinct",
         "rawType": "object",
         "type": "string"
        },
        {
         "name": "party",
         "rawType": "object",
         "type": "string"
        },
        {
         "name": "candidate",
         "rawType": "object",
         "type": "string"
        },
        {
         "name": "votes",
         "rawType": "int64",
         "type": "integer"
        }
       ],
       "ref": "c6638435-ad94-4ffd-9485-5d63d1087805",
       "rows": [
        [
         "0",
         "CARSON CITY101",
         "Democratic",
         "Hillary Clinton",
         "3"
        ],
        [
         "1",
         "CARSON CITY103",
         "Democratic",
         "Hillary Clinton",
         "4"
        ],
        [
         "2",
         "CARSON CITY105",
         "Democratic",
         "Hillary Clinton",
         "3"
        ],
        [
         "3",
         "CARSON CITY107",
         "Democratic",
         "Hillary Clinton",
         "3"
        ],
        [
         "4",
         "CARSON CITY109",
         "Democratic",
         "Hillary Clinton",
         "4"
        ],
        [
         "5",
         "CARSON CITY111",
         "Democratic",
         "Hillary Clinton",
         "3"
        ],
        [
         "6",
         "CARSON CITY113",
         "Democratic",
         "Hillary Clinton",
         "4"
        ],
        [
         "7",
         "CARSON CITY201",
         "Democratic",
         "Hillary Clinton",
         "3"
        ],
        [
         "8",
         "CARSON CITY203",
         "Democratic",
         "Hillary Clinton",
         "4"
        ],
        [
         "9",
         "CARSON CITY205",
         "Democratic",
         "Hillary Clinton",
         "4"
        ],
        [
         "10",
         "CARSON CITY207",
         "Democratic",
         "Hillary Clinton",
         "3"
        ],
        [
         "11",
         "CARSON CITY209",
         "Democratic",
         "Hillary Clinton",
         "2"
        ],
        [
         "12",
         "CARSON CITY211",
         "Democratic",
         "Hillary Clinton",
         "2"
        ],
        [
         "13",
         "CARSON CITY301",
         "Democratic",
         "Hillary Clinton",
         "3"
        ],
        [
         "14",
         "CARSON CITY303",
         "Democratic",
         "Hillary Clinton",
         "3"
        ],
        [
         "15",
         "CARSON CITY305",
         "Democratic",
         "Hillary Clinton",
         "4"
        ],
        [
         "16",
         "CARSON CITY307",
         "Democratic",
         "Hillary Clinton",
         "6"
        ],
        [
         "17",
         "CARSON CITY309",
         "Democratic",
         "Hillary Clinton",
         "5"
        ],
        [
         "18",
         "CARSON CITY401",
         "Democratic",
         "Hillary Clinton",
         "3"
        ],
        [
         "19",
         "CARSON CITY403",
         "Democratic",
         "Hillary Clinton",
         "5"
        ],
        [
         "20",
         "CARSON CITY405",
         "Democratic",
         "Hillary Clinton",
         "4"
        ],
        [
         "21",
         "CARSON CITY407",
         "Democratic",
         "Hillary Clinton",
         "3"
        ],
        [
         "22",
         "CARSON CITY409",
         "Democratic",
         "Hillary Clinton",
         "3"
        ],
        [
         "23",
         "CARSON CITY411",
         "Democratic",
         "Hillary Clinton",
         "2"
        ],
        [
         "24",
         "CHURCHILL1",
         "Democratic",
         "Hillary Clinton",
         "3"
        ],
        [
         "25",
         "CHURCHILL10",
         "Democratic",
         "Hillary Clinton",
         "3"
        ],
        [
         "26",
         "CHURCHILL11",
         "Democratic",
         "Hillary Clinton",
         "3"
        ],
        [
         "27",
         "CHURCHILL12",
         "Democratic",
         "Hillary Clinton",
         "0"
        ],
        [
         "28",
         "CHURCHILL13",
         "Democratic",
         "Hillary Clinton",
         "1"
        ],
        [
         "29",
         "CHURCHILL14",
         "Democratic",
         "Hillary Clinton",
         "1"
        ],
        [
         "30",
         "CHURCHILL15",
         "Democratic",
         "Hillary Clinton",
         "2"
        ],
        [
         "31",
         "CHURCHILL16",
         "Democratic",
         "Hillary Clinton",
         "2"
        ],
        [
         "32",
         "CHURCHILL17",
         "Democratic",
         "Hillary Clinton",
         "2"
        ],
        [
         "33",
         "CHURCHILL18",
         "Democratic",
         "Hillary Clinton",
         "5"
        ],
        [
         "34",
         "CHURCHILL19",
         "Democratic",
         "Hillary Clinton",
         "2"
        ],
        [
         "35",
         "CHURCHILL2",
         "Democratic",
         "Hillary Clinton",
         "4"
        ],
        [
         "36",
         "CHURCHILL3",
         "Democratic",
         "Hillary Clinton",
         "3"
        ],
        [
         "37",
         "CHURCHILL4",
         "Democratic",
         "Hillary Clinton",
         "4"
        ],
        [
         "38",
         "CHURCHILL5",
         "Democratic",
         "Hillary Clinton",
         "3"
        ],
        [
         "39",
         "CHURCHILL6",
         "Democratic",
         "Hillary Clinton",
         "1"
        ],
        [
         "40",
         "CHURCHILL7",
         "Democratic",
         "Hillary Clinton",
         "4"
        ],
        [
         "41",
         "CHURCHILL8",
         "Democratic",
         "Hillary Clinton",
         "2"
        ],
        [
         "42",
         "CHURCHILL9",
         "Democratic",
         "Hillary Clinton",
         "1"
        ],
        [
         "43",
         "CLARK1038",
         "Democratic",
         "Hillary Clinton",
         "2"
        ],
        [
         "44",
         "CLARK1039",
         "Democratic",
         "Hillary Clinton",
         "3"
        ],
        [
         "45",
         "CLARK1063",
         "Democratic",
         "Hillary Clinton",
         "5"
        ],
        [
         "46",
         "CLARK1067",
         "Democratic",
         "Hillary Clinton",
         "1"
        ],
        [
         "47",
         "CLARK1072",
         "Democratic",
         "Hillary Clinton",
         "1"
        ],
        [
         "48",
         "CLARK1074",
         "Democratic",
         "Hillary Clinton",
         "7"
        ],
        [
         "49",
         "CLARK1137",
         "Democratic",
         "Hillary Clinton",
         "5"
        ]
       ],
       "shape": {
        "columns": 4,
        "rows": 6800
       }
      },
      "text/html": [
       "<div>\n",
       "<style scoped>\n",
       "    .dataframe tbody tr th:only-of-type {\n",
       "        vertical-align: middle;\n",
       "    }\n",
       "\n",
       "    .dataframe tbody tr th {\n",
       "        vertical-align: top;\n",
       "    }\n",
       "\n",
       "    .dataframe thead th {\n",
       "        text-align: right;\n",
       "    }\n",
       "</style>\n",
       "<table border=\"1\" class=\"dataframe\">\n",
       "  <thead>\n",
       "    <tr style=\"text-align: right;\">\n",
       "      <th></th>\n",
       "      <th>precinct</th>\n",
       "      <th>party</th>\n",
       "      <th>candidate</th>\n",
       "      <th>votes</th>\n",
       "    </tr>\n",
       "  </thead>\n",
       "  <tbody>\n",
       "    <tr>\n",
       "      <th>0</th>\n",
       "      <td>CARSON CITY101</td>\n",
       "      <td>Democratic</td>\n",
       "      <td>Hillary Clinton</td>\n",
       "      <td>3</td>\n",
       "    </tr>\n",
       "    <tr>\n",
       "      <th>1</th>\n",
       "      <td>CARSON CITY103</td>\n",
       "      <td>Democratic</td>\n",
       "      <td>Hillary Clinton</td>\n",
       "      <td>4</td>\n",
       "    </tr>\n",
       "    <tr>\n",
       "      <th>2</th>\n",
       "      <td>CARSON CITY105</td>\n",
       "      <td>Democratic</td>\n",
       "      <td>Hillary Clinton</td>\n",
       "      <td>3</td>\n",
       "    </tr>\n",
       "    <tr>\n",
       "      <th>3</th>\n",
       "      <td>CARSON CITY107</td>\n",
       "      <td>Democratic</td>\n",
       "      <td>Hillary Clinton</td>\n",
       "      <td>3</td>\n",
       "    </tr>\n",
       "    <tr>\n",
       "      <th>4</th>\n",
       "      <td>CARSON CITY109</td>\n",
       "      <td>Democratic</td>\n",
       "      <td>Hillary Clinton</td>\n",
       "      <td>4</td>\n",
       "    </tr>\n",
       "    <tr>\n",
       "      <th>...</th>\n",
       "      <td>...</td>\n",
       "      <td>...</td>\n",
       "      <td>...</td>\n",
       "      <td>...</td>\n",
       "    </tr>\n",
       "    <tr>\n",
       "      <th>6795</th>\n",
       "      <td>WHITE PINE5</td>\n",
       "      <td>Democratic</td>\n",
       "      <td>Uncommitted</td>\n",
       "      <td>0</td>\n",
       "    </tr>\n",
       "    <tr>\n",
       "      <th>6796</th>\n",
       "      <td>WHITE PINE6</td>\n",
       "      <td>Democratic</td>\n",
       "      <td>Uncommitted</td>\n",
       "      <td>0</td>\n",
       "    </tr>\n",
       "    <tr>\n",
       "      <th>6797</th>\n",
       "      <td>WHITE PINE7</td>\n",
       "      <td>Democratic</td>\n",
       "      <td>Uncommitted</td>\n",
       "      <td>0</td>\n",
       "    </tr>\n",
       "    <tr>\n",
       "      <th>6798</th>\n",
       "      <td>WHITE PINE8</td>\n",
       "      <td>Democratic</td>\n",
       "      <td>Uncommitted</td>\n",
       "      <td>0</td>\n",
       "    </tr>\n",
       "    <tr>\n",
       "      <th>6799</th>\n",
       "      <td>WHITE PINE9</td>\n",
       "      <td>Democratic</td>\n",
       "      <td>Uncommitted</td>\n",
       "      <td>0</td>\n",
       "    </tr>\n",
       "  </tbody>\n",
       "</table>\n",
       "<p>6800 rows × 4 columns</p>\n",
       "</div>"
      ],
      "text/plain": [
       "            precinct       party        candidate  votes\n",
       "0     CARSON CITY101  Democratic  Hillary Clinton      3\n",
       "1     CARSON CITY103  Democratic  Hillary Clinton      4\n",
       "2     CARSON CITY105  Democratic  Hillary Clinton      3\n",
       "3     CARSON CITY107  Democratic  Hillary Clinton      3\n",
       "4     CARSON CITY109  Democratic  Hillary Clinton      4\n",
       "...              ...         ...              ...    ...\n",
       "6795     WHITE PINE5  Democratic      Uncommitted      0\n",
       "6796     WHITE PINE6  Democratic      Uncommitted      0\n",
       "6797     WHITE PINE7  Democratic      Uncommitted      0\n",
       "6798     WHITE PINE8  Democratic      Uncommitted      0\n",
       "6799     WHITE PINE9  Democratic      Uncommitted      0\n",
       "\n",
       "[6800 rows x 4 columns]"
      ]
     },
     "execution_count": 78,
     "metadata": {},
     "output_type": "execute_result"
    }
   ],
   "source": [
    "# Select only the relevant columns\n",
    "primary_data = pri_combined_df[[\"precinct\", \"party\", \"candidate\", \"votes\"]]\n",
    "\n",
    "primary_data"
   ]
  },
  {
   "cell_type": "code",
   "execution_count": 79,
   "id": "dc2ffa15",
   "metadata": {},
   "outputs": [
    {
     "data": {
      "application/vnd.microsoft.datawrangler.viewer.v0+json": {
       "columns": [
        {
         "name": "candidate",
         "rawType": "object",
         "type": "string"
        },
        {
         "name": "count",
         "rawType": "int64",
         "type": "integer"
        }
       ],
       "ref": "b51767c5-4890-480f-b665-d1990bf23ed6",
       "rows": [
        [
         "Hillary Clinton",
         "1700"
        ],
        [
         "Bernie Sanders",
         "1700"
        ],
        [
         "Other",
         "1700"
        ],
        [
         "Uncommitted",
         "1700"
        ]
       ],
       "shape": {
        "columns": 1,
        "rows": 4
       }
      },
      "text/plain": [
       "candidate\n",
       "Hillary Clinton    1700\n",
       "Bernie Sanders     1700\n",
       "Other              1700\n",
       "Uncommitted        1700\n",
       "Name: count, dtype: int64"
      ]
     },
     "execution_count": 79,
     "metadata": {},
     "output_type": "execute_result"
    }
   ],
   "source": [
    "# Viewing candidate data\n",
    "primary_data[\"candidate\"].value_counts(dropna=False)"
   ]
  },
  {
   "cell_type": "code",
   "execution_count": 80,
   "id": "5eef8778",
   "metadata": {},
   "outputs": [
    {
     "name": "stderr",
     "output_type": "stream",
     "text": [
      "C:\\Users\\ADMIN\\AppData\\Local\\Temp\\ipykernel_21640\\2567635960.py:4: SettingWithCopyWarning: \n",
      "A value is trying to be set on a copy of a slice from a DataFrame.\n",
      "Try using .loc[row_indexer,col_indexer] = value instead\n",
      "\n",
      "See the caveats in the documentation: https://pandas.pydata.org/pandas-docs/stable/user_guide/indexing.html#returning-a-view-versus-a-copy\n",
      "  primary_data[\"candidate\"] = primary_data[\"candidate\"].astype(str).str.upper()\n",
      "C:\\Users\\ADMIN\\AppData\\Local\\Temp\\ipykernel_21640\\2567635960.py:33: SettingWithCopyWarning: \n",
      "A value is trying to be set on a copy of a slice from a DataFrame.\n",
      "Try using .loc[row_indexer,col_indexer] = value instead\n",
      "\n",
      "See the caveats in the documentation: https://pandas.pydata.org/pandas-docs/stable/user_guide/indexing.html#returning-a-view-versus-a-copy\n",
      "  primary_data[\"candidate\"] = primary_data[\"candidate\"].astype(str).str.upper()\n",
      "C:\\Users\\ADMIN\\AppData\\Local\\Temp\\ipykernel_21640\\2567635960.py:43: SettingWithCopyWarning: \n",
      "A value is trying to be set on a copy of a slice from a DataFrame.\n",
      "Try using .loc[row_indexer,col_indexer] = value instead\n",
      "\n",
      "See the caveats in the documentation: https://pandas.pydata.org/pandas-docs/stable/user_guide/indexing.html#returning-a-view-versus-a-copy\n",
      "  primary_data[\"candidate\"] = primary_data[\"candidate\"].str.split().str[-1]\n"
     ]
    },
    {
     "data": {
      "application/vnd.microsoft.datawrangler.viewer.v0+json": {
       "columns": [
        {
         "name": "candidate",
         "rawType": "object",
         "type": "string"
        },
        {
         "name": "count",
         "rawType": "int64",
         "type": "integer"
        }
       ],
       "ref": "9c8adeee-61b3-43ea-8c62-0d4996c9c0cb",
       "rows": [
        [
         "CLINTON",
         "1700"
        ],
        [
         "SANDERS",
         "1700"
        ]
       ],
       "shape": {
        "columns": 1,
        "rows": 2
       }
      },
      "text/plain": [
       "candidate\n",
       "CLINTON    1700\n",
       "SANDERS    1700\n",
       "Name: count, dtype: int64"
      ]
     },
     "execution_count": 80,
     "metadata": {},
     "output_type": "execute_result"
    }
   ],
   "source": [
    "# Cleaning Candidates\n",
    "\n",
    "# Turning all primary data to uppercase\n",
    "primary_data[\"candidate\"] = primary_data[\"candidate\"].astype(str).str.upper()\n",
    "\n",
    "unwanted_keywords = [\n",
    "    r\"\\w*VOTE\\w*\",\n",
    "    r\"\\w*UNCOM\\w*\",\n",
    "    r\"\\w*TOTAL\\w*\",\n",
    "    r\"UNCOMMITTED\", r\"OTHER\",r\"Total Votes Cast\",r\"No Preference\"\n",
    "]\n",
    "\n",
    "pattern = \"|\".join(unwanted_keywords)\n",
    "\n",
    "# Assuming candidate column is already string and uppercase\n",
    "primary_data = primary_data[~primary_data[\"candidate\"].str.upper().str.contains(pattern, regex=True, na=False)]\n",
    "\n",
    "#fIXING DE LA FUENTE\n",
    "primary_data.loc[\n",
    "    (\n",
    "        primary_data[\"candidate\"].str.contains(\"rocky.*fuente\", case=False, na=False) |\n",
    "        primary_data[\"candidate\"].str.contains(\"LA FUENTE\", case=False, na=False) |\n",
    "        primary_data[\"candidate\"].str.contains(\"\\w*Fuque\\w*\", case=False, na=False)\n",
    "    ),\n",
    "    \"candidate\"\n",
    "] = \"LA FUENTE\"\n",
    "\n",
    "\n",
    "primary_data.loc[:, \"candidate\"] = primary_data[\"candidate\"].replace({\n",
    "    \"Donald I. Trump\": \"Donald J. Trump\",\n",
    "})\n",
    "\n",
    "primary_data[\"candidate\"] = primary_data[\"candidate\"].astype(str).str.upper()\n",
    "# # Fixing the , candidate\n",
    "# primary_data[\"candidate\"] = (\n",
    "#     primary_data[\"candidate\"].str.split(\",\")\n",
    "#     .str[0]\n",
    "#     .str.strip()\n",
    "#     )\n",
    "\n",
    "\n",
    "# #Selecting only last name\n",
    "primary_data[\"candidate\"] = primary_data[\"candidate\"].str.split().str[-1]\n",
    "\n",
    "# Fixing Christie\n",
    "primary_data.loc[\n",
    "    primary_data[\"candidate\"].str.contains(\"CHRISTLE\", case=False, na=False),\n",
    "    \"candidate\"\n",
    "] = \"CHRISTIE\"\n",
    "\n",
    "# Fixing KASICH\n",
    "primary_data.loc[\n",
    "    primary_data[\"candidate\"].str.contains(\"KAISCH\", case=False, na=False),\n",
    "    \"candidate\"\n",
    "] = \"CHRISTIE\"\n",
    "\n",
    "# Fixing O'MALLEY\n",
    "primary_data.loc[\n",
    "    primary_data[\"candidate\"].str.contains(\"O'MALLEY\", case=False, na=False),\n",
    "    \"candidate\"\n",
    "] = \"O'MAILEY\"\n",
    "\n",
    "# Fixing O'MALLEY\n",
    "primary_data.loc[\n",
    "    primary_data[\"candidate\"].str.contains(\"PATAKL\", case=False, na=False),\n",
    "    \"candidate\"\n",
    "] = \"PATAKI\"\n",
    "\n",
    "# Fixing O'MALLEY\n",
    "primary_data.loc[\n",
    "    primary_data[\"candidate\"].str.contains(\"RUBLO\", case=False, na=False),\n",
    "    \"candidate\"\n",
    "] = \"RUBIO\"\n",
    "\n",
    "# # Fixing Huckabee\n",
    "# primary_data.loc[\n",
    "#     primary_data[\"candidate\"].str.contains(\"\\w*ABEE\\w*\", case=False, na=False),\n",
    "#     \"candidate\"\n",
    "# ] = \"HUCKABEE\"\n",
    "\n",
    "# # Fixing Fiorina\n",
    "# primary_data.loc[\n",
    "#     primary_data[\"candidate\"].str.contains(\"\\w*ORINA\\W*\", case=False, na=False),\n",
    "#     \"candidate\"\n",
    "# ] = \"FIORINA\"\n",
    "\n",
    "# # Fixing Gray\n",
    "# primary_data.loc[\n",
    "#     primary_data[\"candidate\"].str.contains(\"GREY\", case=False, na=False),\n",
    "#     \"candidate\"\n",
    "# ] = \"GRAY\"\n",
    "\n",
    "# # Fixing Wilson\n",
    "# primary_data.loc[\n",
    "#     primary_data[\"candidate\"].str.contains(\"WISON\", case=False, na=False),\n",
    "#     \"candidate\"\n",
    "# ] = \"WILSON\"\n",
    "\n",
    "\n",
    "# # Fixing separator \n",
    "# primary_data[\"candidate\"] = (\n",
    "#     primary_data[\"candidate\"]\n",
    "#     .str.split(r\"\\s*(?:and|/|&|–|-|\\+)\\s*\", n=1, expand=True)[0]\n",
    "#     .str.strip()\n",
    "#     .str.upper()\n",
    "# )\n",
    "\n",
    "# # Fixing McMullin\n",
    "\n",
    "# primary_data.loc[\n",
    "#     (\n",
    "#         primary_data[\"candidate\"].str.contains(\"MCMULLIN\", case=False, na=False) |\n",
    "#         primary_data[\"candidate\"].str.contains(\"EVAN MCMULLEN\", case=False, na=False)\n",
    "#     ),\n",
    "#     \"candidate\"\n",
    "# ] = \"MCMULLIN\"\n",
    "\n",
    "# primary_data.loc[\n",
    "#     primary_data[\"candidate\"].str.contains(\"De La Fuen\", case=False, na=False),\n",
    "#     \"candidate\"\n",
    "# ] = \"FUENTE D\"\n",
    "\n",
    "# primary_data.loc[:,\"candidate\"] = (\n",
    "#     primary_data[\"candidate\"].str.split().str[0].str.upper()\n",
    "# )\n",
    "\n",
    "primary_data[\"candidate\"].value_counts(dropna=False)"
   ]
  },
  {
   "cell_type": "code",
   "execution_count": 81,
   "id": "dcc76af7",
   "metadata": {},
   "outputs": [
    {
     "data": {
      "application/vnd.microsoft.datawrangler.viewer.v0+json": {
       "columns": [
        {
         "name": "party",
         "rawType": "object",
         "type": "string"
        },
        {
         "name": "count",
         "rawType": "int64",
         "type": "integer"
        }
       ],
       "ref": "58cdfce0-809a-4aa5-8782-816e7a61b8df",
       "rows": [
        [
         "Democratic",
         "3400"
        ]
       ],
       "shape": {
        "columns": 1,
        "rows": 1
       }
      },
      "text/plain": [
       "party\n",
       "Democratic    3400\n",
       "Name: count, dtype: int64"
      ]
     },
     "execution_count": 81,
     "metadata": {},
     "output_type": "execute_result"
    }
   ],
   "source": [
    "# Viewing Party\n",
    "primary_data[\"party\"].value_counts(dropna=False)"
   ]
  },
  {
   "cell_type": "code",
   "execution_count": null,
   "id": "582aa6c5",
   "metadata": {},
   "outputs": [
    {
     "data": {
      "application/vnd.microsoft.datawrangler.viewer.v0+json": {
       "columns": [
        {
         "name": "party",
         "rawType": "object",
         "type": "string"
        },
        {
         "name": "count",
         "rawType": "int64",
         "type": "integer"
        }
       ],
       "ref": "326106dc-4b82-4daa-8249-b1a3a33679a0",
       "rows": [
        [
         "Republican",
         "23205"
        ],
        [
         "Democrat",
         "8420"
        ],
        [
         "Democratic",
         "505"
        ]
       ],
       "shape": {
        "columns": 1,
        "rows": 3
       }
      },
      "text/plain": [
       "party\n",
       "Republican    23205\n",
       "Democrat       8420\n",
       "Democratic      505\n",
       "Name: count, dtype: int64"
      ]
     },
     "execution_count": 212,
     "metadata": {},
     "output_type": "execute_result"
    }
   ],
   "source": [
    "#=====================================\n",
    "# This function is used to look up party\n",
    "# for the candidate in the same df\n",
    "#=====================================\n",
    "def fill_party_from_data(row, df):\n",
    "    if pd.notna(row[\"party\"]):\n",
    "        return row[\"party\"]\n",
    "    \n",
    "    # Try to find other rows with the same candidate and known party\n",
    "    matches = df[(df[\"candidate\"] == row[\"candidate\"]) & (df[\"party\"].notna())]\n",
    "    if not matches.empty:\n",
    "        return matches[\"party\"].iloc[0]  # Return the first match's party\n",
    "    else:\n",
    "        return None  # Still unknown\n",
    "\n",
    "#=====================================\n",
    "# Example usage (uncomment and modify for your workflow)\n",
    "#=====================================\n",
    "# Fill party using internal data\n",
    "# primary_data[\"party\"] = primary_data.apply(\n",
    "#     lambda row: fill_party_from_data(row, primary_data),\n",
    "#     axis=1\n",
    "# )\n",
    "\n",
    "primary_data[\"party\"].value_counts(dropna=False)\n"
   ]
  },
  {
   "cell_type": "code",
   "execution_count": 82,
   "id": "34361751",
   "metadata": {},
   "outputs": [
    {
     "name": "stderr",
     "output_type": "stream",
     "text": [
      "C:\\Users\\ADMIN\\AppData\\Local\\Temp\\ipykernel_21640\\453441538.py:3: SettingWithCopyWarning: \n",
      "A value is trying to be set on a copy of a slice from a DataFrame.\n",
      "Try using .loc[row_indexer,col_indexer] = value instead\n",
      "\n",
      "See the caveats in the documentation: https://pandas.pydata.org/pandas-docs/stable/user_guide/indexing.html#returning-a-view-versus-a-copy\n",
      "  primary_data[\"party\"] = primary_data[\"party\"].astype(str).str.upper()\n",
      "C:\\Users\\ADMIN\\AppData\\Local\\Temp\\ipykernel_21640\\453441538.py:9: SettingWithCopyWarning: \n",
      "A value is trying to be set on a copy of a slice from a DataFrame.\n",
      "Try using .loc[row_indexer,col_indexer] = value instead\n",
      "\n",
      "See the caveats in the documentation: https://pandas.pydata.org/pandas-docs/stable/user_guide/indexing.html#returning-a-view-versus-a-copy\n",
      "  primary_data[\"party\"] = (\n"
     ]
    },
    {
     "data": {
      "application/vnd.microsoft.datawrangler.viewer.v0+json": {
       "columns": [
        {
         "name": "party",
         "rawType": "object",
         "type": "string"
        },
        {
         "name": "count",
         "rawType": "int64",
         "type": "integer"
        }
       ],
       "ref": "3f38f95d-3ebd-4c73-a4ca-5d6c55907282",
       "rows": [
        [
         "DEM",
         "3400"
        ]
       ],
       "shape": {
        "columns": 1,
        "rows": 1
       }
      },
      "text/plain": [
       "party\n",
       "DEM    3400\n",
       "Name: count, dtype: int64"
      ]
     },
     "execution_count": 82,
     "metadata": {},
     "output_type": "execute_result"
    }
   ],
   "source": [
    "# Cleaning Party\n",
    "# Turning all general data party to uppercase\n",
    "primary_data[\"party\"] = primary_data[\"party\"].astype(str).str.upper()\n",
    "\n",
    "# primary_data[\"party\"] = primary_data.apply(\n",
    "#     lambda row: fill_party_from_data(row, primary_data),\n",
    "#     axis=1\n",
    "# )\n",
    "primary_data[\"party\"] = (\n",
    "    primary_data[\"party\"]\n",
    "    .replace({\n",
    "        \"REPUBLICAN\": \"REP\",\n",
    "        \"R\": \"REP\",\n",
    "        \"DEMOCRATIC\": \"DEM\",\n",
    "        \"DEMOCRAT\":\"DEM\",\n",
    "        \"DEM\": \"DEM\",\n",
    "        \"D\": \"DEM\",\n",
    "        \"GREEN\": \"GRN\",\n",
    "        \"G\": \"GREEN\",\n",
    "        \"GREEN-RAINBOW\":\"GRN\",\n",
    "        \"LIBERTARIAN\": \"LIB\",\n",
    "        \"LBT\": \"LIB\",\n",
    "        \"L\": \"LIB\",\n",
    "        \"CONSTITUTION\": \"CON\",\n",
    "        \"NP\": \"IND\",\n",
    "        \"NON\": \"IND\",\n",
    "        \"WRI\": \"IND\",\n",
    "        \"WRITE-IN\": \"IND\",\n",
    "        \"ONA\": \"IND\",\n",
    "        \"GEN\": \"IND\",\n",
    "        \"NONE\":\"UNK\"\n",
    "    })\n",
    ")\n",
    "primary_data[\"party\"].value_counts(dropna=False)"
   ]
  },
  {
   "cell_type": "code",
   "execution_count": 83,
   "id": "a359cd18",
   "metadata": {},
   "outputs": [
    {
     "name": "stderr",
     "output_type": "stream",
     "text": [
      "C:\\Users\\ADMIN\\AppData\\Local\\Temp\\ipykernel_21640\\2521670330.py:1: SettingWithCopyWarning: \n",
      "A value is trying to be set on a copy of a slice from a DataFrame.\n",
      "Try using .loc[row_indexer,col_indexer] = value instead\n",
      "\n",
      "See the caveats in the documentation: https://pandas.pydata.org/pandas-docs/stable/user_guide/indexing.html#returning-a-view-versus-a-copy\n",
      "  primary_data.loc[:,\"candidate_column\"] = (\n"
     ]
    },
    {
     "data": {
      "application/vnd.microsoft.datawrangler.viewer.v0+json": {
       "columns": [
        {
         "name": "index",
         "rawType": "int64",
         "type": "integer"
        },
        {
         "name": "precinct",
         "rawType": "object",
         "type": "string"
        },
        {
         "name": "pri_dem_CLINTON",
         "rawType": "int64",
         "type": "integer"
        },
        {
         "name": "pri_dem_SANDERS",
         "rawType": "int64",
         "type": "integer"
        }
       ],
       "ref": "5d548cdf-c2e8-4205-8b36-30817f2a9d6c",
       "rows": [
        [
         "0",
         "CARSON CITY101",
         "3",
         "4"
        ],
        [
         "1",
         "CARSON CITY103",
         "4",
         "3"
        ],
        [
         "2",
         "CARSON CITY105",
         "3",
         "2"
        ],
        [
         "3",
         "CARSON CITY107",
         "3",
         "3"
        ],
        [
         "4",
         "CARSON CITY109",
         "4",
         "4"
        ],
        [
         "5",
         "CARSON CITY111",
         "3",
         "6"
        ],
        [
         "6",
         "CARSON CITY113",
         "4",
         "4"
        ],
        [
         "7",
         "CARSON CITY201",
         "3",
         "3"
        ],
        [
         "8",
         "CARSON CITY203",
         "4",
         "5"
        ],
        [
         "9",
         "CARSON CITY205",
         "4",
         "5"
        ],
        [
         "10",
         "CARSON CITY207",
         "3",
         "5"
        ],
        [
         "11",
         "CARSON CITY209",
         "2",
         "3"
        ],
        [
         "12",
         "CARSON CITY211",
         "2",
         "2"
        ],
        [
         "13",
         "CARSON CITY301",
         "3",
         "3"
        ],
        [
         "14",
         "CARSON CITY303",
         "3",
         "3"
        ],
        [
         "15",
         "CARSON CITY305",
         "4",
         "3"
        ],
        [
         "16",
         "CARSON CITY307",
         "6",
         "5"
        ],
        [
         "17",
         "CARSON CITY309",
         "5",
         "2"
        ],
        [
         "18",
         "CARSON CITY401",
         "3",
         "3"
        ],
        [
         "19",
         "CARSON CITY403",
         "5",
         "5"
        ],
        [
         "20",
         "CARSON CITY405",
         "4",
         "4"
        ],
        [
         "21",
         "CARSON CITY407",
         "3",
         "2"
        ],
        [
         "22",
         "CARSON CITY409",
         "3",
         "5"
        ],
        [
         "23",
         "CARSON CITY411",
         "2",
         "2"
        ],
        [
         "24",
         "CHURCHILL1",
         "3",
         "3"
        ],
        [
         "25",
         "CHURCHILL10",
         "3",
         "3"
        ],
        [
         "26",
         "CHURCHILL11",
         "3",
         "3"
        ],
        [
         "27",
         "CHURCHILL12",
         "0",
         "2"
        ],
        [
         "28",
         "CHURCHILL13",
         "1",
         "1"
        ],
        [
         "29",
         "CHURCHILL14",
         "1",
         "2"
        ],
        [
         "30",
         "CHURCHILL15",
         "2",
         "2"
        ],
        [
         "31",
         "CHURCHILL16",
         "2",
         "4"
        ],
        [
         "32",
         "CHURCHILL17",
         "2",
         "5"
        ],
        [
         "33",
         "CHURCHILL18",
         "5",
         "3"
        ],
        [
         "34",
         "CHURCHILL19",
         "2",
         "1"
        ],
        [
         "35",
         "CHURCHILL2",
         "4",
         "2"
        ],
        [
         "36",
         "CHURCHILL3",
         "3",
         "2"
        ],
        [
         "37",
         "CHURCHILL4",
         "4",
         "2"
        ],
        [
         "38",
         "CHURCHILL5",
         "3",
         "3"
        ],
        [
         "39",
         "CHURCHILL6",
         "1",
         "3"
        ],
        [
         "40",
         "CHURCHILL7",
         "4",
         "1"
        ],
        [
         "41",
         "CHURCHILL8",
         "2",
         "2"
        ],
        [
         "42",
         "CHURCHILL9",
         "1",
         "2"
        ],
        [
         "43",
         "CLARK1038",
         "2",
         "1"
        ],
        [
         "44",
         "CLARK1039",
         "3",
         "2"
        ],
        [
         "45",
         "CLARK1063",
         "5",
         "5"
        ],
        [
         "46",
         "CLARK1067",
         "1",
         "0"
        ],
        [
         "47",
         "CLARK1072",
         "1",
         "1"
        ],
        [
         "48",
         "CLARK1074",
         "7",
         "4"
        ],
        [
         "49",
         "CLARK1137",
         "5",
         "4"
        ]
       ],
       "shape": {
        "columns": 3,
        "rows": 1700
       }
      },
      "text/html": [
       "<div>\n",
       "<style scoped>\n",
       "    .dataframe tbody tr th:only-of-type {\n",
       "        vertical-align: middle;\n",
       "    }\n",
       "\n",
       "    .dataframe tbody tr th {\n",
       "        vertical-align: top;\n",
       "    }\n",
       "\n",
       "    .dataframe thead th {\n",
       "        text-align: right;\n",
       "    }\n",
       "</style>\n",
       "<table border=\"1\" class=\"dataframe\">\n",
       "  <thead>\n",
       "    <tr style=\"text-align: right;\">\n",
       "      <th>candidate_column</th>\n",
       "      <th>precinct</th>\n",
       "      <th>pri_dem_CLINTON</th>\n",
       "      <th>pri_dem_SANDERS</th>\n",
       "    </tr>\n",
       "  </thead>\n",
       "  <tbody>\n",
       "    <tr>\n",
       "      <th>0</th>\n",
       "      <td>CARSON CITY101</td>\n",
       "      <td>3</td>\n",
       "      <td>4</td>\n",
       "    </tr>\n",
       "    <tr>\n",
       "      <th>1</th>\n",
       "      <td>CARSON CITY103</td>\n",
       "      <td>4</td>\n",
       "      <td>3</td>\n",
       "    </tr>\n",
       "    <tr>\n",
       "      <th>2</th>\n",
       "      <td>CARSON CITY105</td>\n",
       "      <td>3</td>\n",
       "      <td>2</td>\n",
       "    </tr>\n",
       "    <tr>\n",
       "      <th>3</th>\n",
       "      <td>CARSON CITY107</td>\n",
       "      <td>3</td>\n",
       "      <td>3</td>\n",
       "    </tr>\n",
       "    <tr>\n",
       "      <th>4</th>\n",
       "      <td>CARSON CITY109</td>\n",
       "      <td>4</td>\n",
       "      <td>4</td>\n",
       "    </tr>\n",
       "    <tr>\n",
       "      <th>...</th>\n",
       "      <td>...</td>\n",
       "      <td>...</td>\n",
       "      <td>...</td>\n",
       "    </tr>\n",
       "    <tr>\n",
       "      <th>1695</th>\n",
       "      <td>WHITE PINE6</td>\n",
       "      <td>7</td>\n",
       "      <td>6</td>\n",
       "    </tr>\n",
       "    <tr>\n",
       "      <th>1696</th>\n",
       "      <td>WHITE PINE7</td>\n",
       "      <td>4</td>\n",
       "      <td>0</td>\n",
       "    </tr>\n",
       "    <tr>\n",
       "      <th>1697</th>\n",
       "      <td>WHITE PINE8</td>\n",
       "      <td>2</td>\n",
       "      <td>1</td>\n",
       "    </tr>\n",
       "    <tr>\n",
       "      <th>1698</th>\n",
       "      <td>WHITE PINE9</td>\n",
       "      <td>1</td>\n",
       "      <td>1</td>\n",
       "    </tr>\n",
       "    <tr>\n",
       "      <th>1699</th>\n",
       "      <td>YE1</td>\n",
       "      <td>1</td>\n",
       "      <td>3</td>\n",
       "    </tr>\n",
       "  </tbody>\n",
       "</table>\n",
       "<p>1700 rows × 3 columns</p>\n",
       "</div>"
      ],
      "text/plain": [
       "candidate_column        precinct  pri_dem_CLINTON  pri_dem_SANDERS\n",
       "0                 CARSON CITY101                3                4\n",
       "1                 CARSON CITY103                4                3\n",
       "2                 CARSON CITY105                3                2\n",
       "3                 CARSON CITY107                3                3\n",
       "4                 CARSON CITY109                4                4\n",
       "...                          ...              ...              ...\n",
       "1695                 WHITE PINE6                7                6\n",
       "1696                 WHITE PINE7                4                0\n",
       "1697                 WHITE PINE8                2                1\n",
       "1698                 WHITE PINE9                1                1\n",
       "1699                         YE1                1                3\n",
       "\n",
       "[1700 rows x 3 columns]"
      ]
     },
     "execution_count": 83,
     "metadata": {},
     "output_type": "execute_result"
    }
   ],
   "source": [
    "primary_data.loc[:,\"candidate_column\"] = (\n",
    "    \"pri_\" +\n",
    "    primary_data[\"party\"].str.lower() + \"_\" +\n",
    "    primary_data[\"candidate\"]\n",
    ")\n",
    "\n",
    "# pivot the table\n",
    "primary_result = primary_data.pivot_table(\n",
    "    index=\"precinct\",\n",
    "    columns=\"candidate_column\",\n",
    "    values=\"votes\",\n",
    "    aggfunc=\"sum\",  \n",
    "    fill_value=0\n",
    ").reset_index()\n",
    "\n",
    "primary_result"
   ]
  },
  {
   "cell_type": "code",
   "execution_count": 84,
   "id": "f1ef9692",
   "metadata": {},
   "outputs": [
    {
     "data": {
      "application/vnd.microsoft.datawrangler.viewer.v0+json": {
       "columns": [
        {
         "name": "index",
         "rawType": "int64",
         "type": "integer"
        },
        {
         "name": "county",
         "rawType": "object",
         "type": "string"
        },
        {
         "name": "precinct",
         "rawType": "object",
         "type": "string"
        },
        {
         "name": "office",
         "rawType": "object",
         "type": "string"
        },
        {
         "name": "district",
         "rawType": "float64",
         "type": "float"
        },
        {
         "name": "candidate",
         "rawType": "object",
         "type": "string"
        },
        {
         "name": "votes",
         "rawType": "int64",
         "type": "integer"
        },
        {
         "name": "party",
         "rawType": "object",
         "type": "unknown"
        }
       ],
       "ref": "28e57fe7-0788-45eb-9d7e-04b1daf0411e",
       "rows": [
        [
         "0",
         "CARSON CITY",
         "CARSON CITY101",
         "President",
         null,
         "CASTLE, DARRELL",
         "5",
         "IAP"
        ],
        [
         "1",
         "CARSON CITY",
         "CARSON CITY101",
         "President",
         null,
         "CLINTON, HILLARY",
         "354",
         "DEM"
        ],
        [
         "2",
         "CARSON CITY",
         "CARSON CITY101",
         "President",
         null,
         "DE LA FUENTE, ROQUE ROCKY\"\"",
         "3",
         "NPP"
        ],
        [
         "3",
         "CARSON CITY",
         "CARSON CITY101",
         "President",
         null,
         "JOHNSON, GARY",
         "39",
         "LPN"
        ],
        [
         "4",
         "CARSON CITY",
         "CARSON CITY101",
         "President",
         null,
         "None Of These Candidates",
         "39",
         null
        ],
        [
         "5",
         "CARSON CITY",
         "CARSON CITY101",
         "President",
         null,
         "TRUMP, DONALD J.",
         "419",
         "REP"
        ],
        [
         "6",
         "CARSON CITY",
         "CARSON CITY103",
         "President",
         null,
         "CASTLE, DARRELL",
         "6",
         "IAP"
        ],
        [
         "7",
         "CARSON CITY",
         "CARSON CITY103",
         "President",
         null,
         "CLINTON, HILLARY",
         "392",
         "DEM"
        ],
        [
         "8",
         "CARSON CITY",
         "CARSON CITY103",
         "President",
         null,
         "DE LA FUENTE, ROQUE ROCKY\"\"",
         "1",
         "NPP"
        ],
        [
         "9",
         "CARSON CITY",
         "CARSON CITY103",
         "President",
         null,
         "JOHNSON, GARY",
         "25",
         "LPN"
        ],
        [
         "10",
         "CARSON CITY",
         "CARSON CITY103",
         "President",
         null,
         "None Of These Candidates",
         "37",
         null
        ],
        [
         "11",
         "CARSON CITY",
         "CARSON CITY103",
         "President",
         null,
         "TRUMP, DONALD J.",
         "476",
         "REP"
        ],
        [
         "12",
         "CARSON CITY",
         "CARSON CITY105",
         "President",
         null,
         "CASTLE, DARRELL",
         "8",
         "IAP"
        ],
        [
         "13",
         "CARSON CITY",
         "CARSON CITY105",
         "President",
         null,
         "CLINTON, HILLARY",
         "375",
         "DEM"
        ],
        [
         "14",
         "CARSON CITY",
         "CARSON CITY105",
         "President",
         null,
         "DE LA FUENTE, ROQUE ROCKY\"\"",
         "1",
         "NPP"
        ],
        [
         "15",
         "CARSON CITY",
         "CARSON CITY105",
         "President",
         null,
         "JOHNSON, GARY",
         "39",
         "LPN"
        ],
        [
         "16",
         "CARSON CITY",
         "CARSON CITY105",
         "President",
         null,
         "None Of These Candidates",
         "51",
         null
        ],
        [
         "17",
         "CARSON CITY",
         "CARSON CITY105",
         "President",
         null,
         "TRUMP, DONALD J.",
         "608",
         "REP"
        ],
        [
         "18",
         "CARSON CITY",
         "CARSON CITY107",
         "President",
         null,
         "CASTLE, DARRELL",
         "8",
         "IAP"
        ],
        [
         "19",
         "CARSON CITY",
         "CARSON CITY107",
         "President",
         null,
         "CLINTON, HILLARY",
         "376",
         "DEM"
        ],
        [
         "20",
         "CARSON CITY",
         "CARSON CITY107",
         "President",
         null,
         "DE LA FUENTE, ROQUE ROCKY\"\"",
         "1",
         "NPP"
        ],
        [
         "21",
         "CARSON CITY",
         "CARSON CITY107",
         "President",
         null,
         "JOHNSON, GARY",
         "39",
         "LPN"
        ],
        [
         "22",
         "CARSON CITY",
         "CARSON CITY107",
         "President",
         null,
         "None Of These Candidates",
         "50",
         null
        ],
        [
         "23",
         "CARSON CITY",
         "CARSON CITY107",
         "President",
         null,
         "TRUMP, DONALD J.",
         "617",
         "REP"
        ],
        [
         "24",
         "CARSON CITY",
         "CARSON CITY109",
         "President",
         null,
         "CASTLE, DARRELL",
         "11",
         "IAP"
        ],
        [
         "25",
         "CARSON CITY",
         "CARSON CITY109",
         "President",
         null,
         "CLINTON, HILLARY",
         "482",
         "DEM"
        ],
        [
         "26",
         "CARSON CITY",
         "CARSON CITY109",
         "President",
         null,
         "DE LA FUENTE, ROQUE ROCKY\"\"",
         "0",
         "NPP"
        ],
        [
         "27",
         "CARSON CITY",
         "CARSON CITY109",
         "President",
         null,
         "JOHNSON, GARY",
         "47",
         "LPN"
        ],
        [
         "28",
         "CARSON CITY",
         "CARSON CITY109",
         "President",
         null,
         "None Of These Candidates",
         "35",
         null
        ],
        [
         "29",
         "CARSON CITY",
         "CARSON CITY109",
         "President",
         null,
         "TRUMP, DONALD J.",
         "606",
         "REP"
        ],
        [
         "30",
         "CARSON CITY",
         "CARSON CITY111",
         "President",
         null,
         "CASTLE, DARRELL",
         "4",
         "IAP"
        ],
        [
         "31",
         "CARSON CITY",
         "CARSON CITY111",
         "President",
         null,
         "CLINTON, HILLARY",
         "516",
         "DEM"
        ],
        [
         "32",
         "CARSON CITY",
         "CARSON CITY111",
         "President",
         null,
         "DE LA FUENTE, ROQUE ROCKY\"\"",
         "5",
         "NPP"
        ],
        [
         "33",
         "CARSON CITY",
         "CARSON CITY111",
         "President",
         null,
         "JOHNSON, GARY",
         "80",
         "LPN"
        ],
        [
         "34",
         "CARSON CITY",
         "CARSON CITY111",
         "President",
         null,
         "None Of These Candidates",
         "25",
         null
        ],
        [
         "35",
         "CARSON CITY",
         "CARSON CITY111",
         "President",
         null,
         "TRUMP, DONALD J.",
         "528",
         "REP"
        ],
        [
         "36",
         "CARSON CITY",
         "CARSON CITY113",
         "President",
         null,
         "CASTLE, DARRELL",
         "5",
         "IAP"
        ],
        [
         "37",
         "CARSON CITY",
         "CARSON CITY113",
         "President",
         null,
         "CLINTON, HILLARY",
         "445",
         "DEM"
        ],
        [
         "38",
         "CARSON CITY",
         "CARSON CITY113",
         "President",
         null,
         "DE LA FUENTE, ROQUE ROCKY\"\"",
         "3",
         "NPP"
        ],
        [
         "39",
         "CARSON CITY",
         "CARSON CITY113",
         "President",
         null,
         "JOHNSON, GARY",
         "45",
         "LPN"
        ],
        [
         "40",
         "CARSON CITY",
         "CARSON CITY113",
         "President",
         null,
         "None Of These Candidates",
         "39",
         null
        ],
        [
         "41",
         "CARSON CITY",
         "CARSON CITY113",
         "President",
         null,
         "TRUMP, DONALD J.",
         "783",
         "REP"
        ],
        [
         "42",
         "CARSON CITY",
         "CARSON CITY201",
         "President",
         null,
         "CASTLE, DARRELL",
         "4",
         "IAP"
        ],
        [
         "43",
         "CARSON CITY",
         "CARSON CITY201",
         "President",
         null,
         "CLINTON, HILLARY",
         "351",
         "DEM"
        ],
        [
         "44",
         "CARSON CITY",
         "CARSON CITY201",
         "President",
         null,
         "DE LA FUENTE, ROQUE ROCKY\"\"",
         "2",
         "NPP"
        ],
        [
         "45",
         "CARSON CITY",
         "CARSON CITY201",
         "President",
         null,
         "JOHNSON, GARY",
         "43",
         "LPN"
        ],
        [
         "46",
         "CARSON CITY",
         "CARSON CITY201",
         "President",
         null,
         "None Of These Candidates",
         "37",
         null
        ],
        [
         "47",
         "CARSON CITY",
         "CARSON CITY201",
         "President",
         null,
         "TRUMP, DONALD J.",
         "410",
         "REP"
        ],
        [
         "48",
         "CARSON CITY",
         "CARSON CITY203",
         "President",
         null,
         "CASTLE, DARRELL",
         "10",
         "IAP"
        ],
        [
         "49",
         "CARSON CITY",
         "CARSON CITY203",
         "President",
         null,
         "CLINTON, HILLARY",
         "490",
         "DEM"
        ]
       ],
       "shape": {
        "columns": 7,
        "rows": 11990
       }
      },
      "text/html": [
       "<div>\n",
       "<style scoped>\n",
       "    .dataframe tbody tr th:only-of-type {\n",
       "        vertical-align: middle;\n",
       "    }\n",
       "\n",
       "    .dataframe tbody tr th {\n",
       "        vertical-align: top;\n",
       "    }\n",
       "\n",
       "    .dataframe thead th {\n",
       "        text-align: right;\n",
       "    }\n",
       "</style>\n",
       "<table border=\"1\" class=\"dataframe\">\n",
       "  <thead>\n",
       "    <tr style=\"text-align: right;\">\n",
       "      <th></th>\n",
       "      <th>county</th>\n",
       "      <th>precinct</th>\n",
       "      <th>office</th>\n",
       "      <th>district</th>\n",
       "      <th>candidate</th>\n",
       "      <th>votes</th>\n",
       "      <th>party</th>\n",
       "    </tr>\n",
       "  </thead>\n",
       "  <tbody>\n",
       "    <tr>\n",
       "      <th>0</th>\n",
       "      <td>CARSON CITY</td>\n",
       "      <td>CARSON CITY101</td>\n",
       "      <td>President</td>\n",
       "      <td>NaN</td>\n",
       "      <td>CASTLE, DARRELL</td>\n",
       "      <td>5</td>\n",
       "      <td>IAP</td>\n",
       "    </tr>\n",
       "    <tr>\n",
       "      <th>1</th>\n",
       "      <td>CARSON CITY</td>\n",
       "      <td>CARSON CITY101</td>\n",
       "      <td>President</td>\n",
       "      <td>NaN</td>\n",
       "      <td>CLINTON, HILLARY</td>\n",
       "      <td>354</td>\n",
       "      <td>DEM</td>\n",
       "    </tr>\n",
       "    <tr>\n",
       "      <th>2</th>\n",
       "      <td>CARSON CITY</td>\n",
       "      <td>CARSON CITY101</td>\n",
       "      <td>President</td>\n",
       "      <td>NaN</td>\n",
       "      <td>DE LA FUENTE, ROQUE ROCKY\"\"</td>\n",
       "      <td>3</td>\n",
       "      <td>NPP</td>\n",
       "    </tr>\n",
       "    <tr>\n",
       "      <th>3</th>\n",
       "      <td>CARSON CITY</td>\n",
       "      <td>CARSON CITY101</td>\n",
       "      <td>President</td>\n",
       "      <td>NaN</td>\n",
       "      <td>JOHNSON, GARY</td>\n",
       "      <td>39</td>\n",
       "      <td>LPN</td>\n",
       "    </tr>\n",
       "    <tr>\n",
       "      <th>4</th>\n",
       "      <td>CARSON CITY</td>\n",
       "      <td>CARSON CITY101</td>\n",
       "      <td>President</td>\n",
       "      <td>NaN</td>\n",
       "      <td>None Of These Candidates</td>\n",
       "      <td>39</td>\n",
       "      <td>NaN</td>\n",
       "    </tr>\n",
       "    <tr>\n",
       "      <th>...</th>\n",
       "      <td>...</td>\n",
       "      <td>...</td>\n",
       "      <td>...</td>\n",
       "      <td>...</td>\n",
       "      <td>...</td>\n",
       "      <td>...</td>\n",
       "      <td>...</td>\n",
       "    </tr>\n",
       "    <tr>\n",
       "      <th>11985</th>\n",
       "      <td>WHITE PINE</td>\n",
       "      <td>WHITE PINE99</td>\n",
       "      <td>President</td>\n",
       "      <td>NaN</td>\n",
       "      <td>CLINTON, HILLARY</td>\n",
       "      <td>0</td>\n",
       "      <td>DEM</td>\n",
       "    </tr>\n",
       "    <tr>\n",
       "      <th>11986</th>\n",
       "      <td>WHITE PINE</td>\n",
       "      <td>WHITE PINE99</td>\n",
       "      <td>President</td>\n",
       "      <td>NaN</td>\n",
       "      <td>DE LA FUENTE, ROQUE ROCKY\"\"</td>\n",
       "      <td>0</td>\n",
       "      <td>NPP</td>\n",
       "    </tr>\n",
       "    <tr>\n",
       "      <th>11987</th>\n",
       "      <td>WHITE PINE</td>\n",
       "      <td>WHITE PINE99</td>\n",
       "      <td>President</td>\n",
       "      <td>NaN</td>\n",
       "      <td>JOHNSON, GARY</td>\n",
       "      <td>0</td>\n",
       "      <td>LPN</td>\n",
       "    </tr>\n",
       "    <tr>\n",
       "      <th>11988</th>\n",
       "      <td>WHITE PINE</td>\n",
       "      <td>WHITE PINE99</td>\n",
       "      <td>President</td>\n",
       "      <td>NaN</td>\n",
       "      <td>None Of These Candidates</td>\n",
       "      <td>0</td>\n",
       "      <td>NaN</td>\n",
       "    </tr>\n",
       "    <tr>\n",
       "      <th>11989</th>\n",
       "      <td>WHITE PINE</td>\n",
       "      <td>WHITE PINE99</td>\n",
       "      <td>President</td>\n",
       "      <td>NaN</td>\n",
       "      <td>TRUMP, DONALD J.</td>\n",
       "      <td>0</td>\n",
       "      <td>REP</td>\n",
       "    </tr>\n",
       "  </tbody>\n",
       "</table>\n",
       "<p>11990 rows × 7 columns</p>\n",
       "</div>"
      ],
      "text/plain": [
       "            county        precinct     office  district  \\\n",
       "0      CARSON CITY  CARSON CITY101  President       NaN   \n",
       "1      CARSON CITY  CARSON CITY101  President       NaN   \n",
       "2      CARSON CITY  CARSON CITY101  President       NaN   \n",
       "3      CARSON CITY  CARSON CITY101  President       NaN   \n",
       "4      CARSON CITY  CARSON CITY101  President       NaN   \n",
       "...            ...             ...        ...       ...   \n",
       "11985   WHITE PINE    WHITE PINE99  President       NaN   \n",
       "11986   WHITE PINE    WHITE PINE99  President       NaN   \n",
       "11987   WHITE PINE    WHITE PINE99  President       NaN   \n",
       "11988   WHITE PINE    WHITE PINE99  President       NaN   \n",
       "11989   WHITE PINE    WHITE PINE99  President       NaN   \n",
       "\n",
       "                         candidate  votes party  \n",
       "0                  CASTLE, DARRELL      5   IAP  \n",
       "1                 CLINTON, HILLARY    354   DEM  \n",
       "2      DE LA FUENTE, ROQUE ROCKY\"\"      3   NPP  \n",
       "3                    JOHNSON, GARY     39   LPN  \n",
       "4         None Of These Candidates     39   NaN  \n",
       "...                            ...    ...   ...  \n",
       "11985             CLINTON, HILLARY      0   DEM  \n",
       "11986  DE LA FUENTE, ROQUE ROCKY\"\"      0   NPP  \n",
       "11987                JOHNSON, GARY      0   LPN  \n",
       "11988     None Of These Candidates      0   NaN  \n",
       "11989             TRUMP, DONALD J.      0   REP  \n",
       "\n",
       "[11990 rows x 7 columns]"
      ]
     },
     "execution_count": 84,
     "metadata": {},
     "output_type": "execute_result"
    }
   ],
   "source": [
    "# Process general files\n",
    "general_df_list = []\n",
    "\n",
    "for file in general_files:\n",
    "    try:\n",
    "        df = pd.read_csv(file)\n",
    "        \n",
    "        # Combine precinct as county + precinct\n",
    "        df[\"precinct\"] = df[\"precinct\"].astype(str).str.extract(r'(\\d+)', expand=False)\n",
    "        df[\"precinct\"] = df[\"county\"].astype(str) + df[\"precinct\"].astype(str)\n",
    "        df[\"precinct\"] = df[\"precinct\"].str.upper()\n",
    "        df[\"county\"] = df[\"county\"].str.upper()\n",
    "\n",
    "        # Cleaning maybe total precinct\n",
    "        if 'precinct' in df.columns:\n",
    "            df['precinct'] = df['precinct'].astype(str)                  \n",
    "            df = df[df['precinct'].str.upper() != \"TOTAL\"]               \n",
    "            df = df[df['precinct'].str.strip().str.upper() != \"TOTAL\"]   \n",
    "            df = df[df['precinct'].str.upper() != \"NAN\"]                \n",
    "        \n",
    "        if 'county' in df.columns:\n",
    "            df['county'] = df['county'].astype(str)                  \n",
    "            df = df[df['county'].str.upper() != \"TOTAL\"]               \n",
    "            df = df[df['county'].str.strip().str.upper() != \"TOTAL\"]   \n",
    "            df = df[df['county'].str.upper() != \"NAN\"]       \n",
    "            df = df[~df['county'].str.upper().str.contains(r\"\\w*TOTAL\\w*\", na=False)]      \n",
    "            \n",
    "        # Filtering out only President \n",
    "        if 'office' in df.columns:\n",
    "            df = df[df[\"office\"] == \"President\"]\n",
    "        \n",
    "        # Dropping duplicates value\n",
    "        df = df.drop_duplicates()\n",
    "        \n",
    "        general_df_list.append(df)\n",
    "\n",
    "    except Exception as e:\n",
    "        print(f\"Error in {file}: {e}\")\n",
    "\n",
    "# Combine all cleaned files\n",
    "gen_combined_df = pd.concat(general_df_list, ignore_index=True)\n",
    "\n",
    "# Checking any suspicious precinct\n",
    "suspicious_precincts = gen_combined_df[\n",
    "    gen_combined_df[\"precinct\"].str.strip().str.upper().isin([\"TOTAL\", \"NAN\"])\n",
    "]\n",
    "gen_combined_df\n"
   ]
  },
  {
   "cell_type": "code",
   "execution_count": 85,
   "id": "1bbbd54d",
   "metadata": {},
   "outputs": [
    {
     "data": {
      "application/vnd.microsoft.datawrangler.viewer.v0+json": {
       "columns": [
        {
         "name": "index",
         "rawType": "int64",
         "type": "integer"
        },
        {
         "name": "precinct",
         "rawType": "object",
         "type": "string"
        },
        {
         "name": "party",
         "rawType": "object",
         "type": "unknown"
        },
        {
         "name": "candidate",
         "rawType": "object",
         "type": "string"
        },
        {
         "name": "votes",
         "rawType": "int64",
         "type": "integer"
        }
       ],
       "ref": "7a6c2904-35a8-4e83-b7bf-e311b029a185",
       "rows": [
        [
         "0",
         "CARSON CITY101",
         "IAP",
         "CASTLE, DARRELL",
         "5"
        ],
        [
         "1",
         "CARSON CITY101",
         "DEM",
         "CLINTON, HILLARY",
         "354"
        ],
        [
         "2",
         "CARSON CITY101",
         "NPP",
         "DE LA FUENTE, ROQUE ROCKY\"\"",
         "3"
        ],
        [
         "3",
         "CARSON CITY101",
         "LPN",
         "JOHNSON, GARY",
         "39"
        ],
        [
         "4",
         "CARSON CITY101",
         null,
         "None Of These Candidates",
         "39"
        ],
        [
         "5",
         "CARSON CITY101",
         "REP",
         "TRUMP, DONALD J.",
         "419"
        ],
        [
         "6",
         "CARSON CITY103",
         "IAP",
         "CASTLE, DARRELL",
         "6"
        ],
        [
         "7",
         "CARSON CITY103",
         "DEM",
         "CLINTON, HILLARY",
         "392"
        ],
        [
         "8",
         "CARSON CITY103",
         "NPP",
         "DE LA FUENTE, ROQUE ROCKY\"\"",
         "1"
        ],
        [
         "9",
         "CARSON CITY103",
         "LPN",
         "JOHNSON, GARY",
         "25"
        ],
        [
         "10",
         "CARSON CITY103",
         null,
         "None Of These Candidates",
         "37"
        ],
        [
         "11",
         "CARSON CITY103",
         "REP",
         "TRUMP, DONALD J.",
         "476"
        ],
        [
         "12",
         "CARSON CITY105",
         "IAP",
         "CASTLE, DARRELL",
         "8"
        ],
        [
         "13",
         "CARSON CITY105",
         "DEM",
         "CLINTON, HILLARY",
         "375"
        ],
        [
         "14",
         "CARSON CITY105",
         "NPP",
         "DE LA FUENTE, ROQUE ROCKY\"\"",
         "1"
        ],
        [
         "15",
         "CARSON CITY105",
         "LPN",
         "JOHNSON, GARY",
         "39"
        ],
        [
         "16",
         "CARSON CITY105",
         null,
         "None Of These Candidates",
         "51"
        ],
        [
         "17",
         "CARSON CITY105",
         "REP",
         "TRUMP, DONALD J.",
         "608"
        ],
        [
         "18",
         "CARSON CITY107",
         "IAP",
         "CASTLE, DARRELL",
         "8"
        ],
        [
         "19",
         "CARSON CITY107",
         "DEM",
         "CLINTON, HILLARY",
         "376"
        ],
        [
         "20",
         "CARSON CITY107",
         "NPP",
         "DE LA FUENTE, ROQUE ROCKY\"\"",
         "1"
        ],
        [
         "21",
         "CARSON CITY107",
         "LPN",
         "JOHNSON, GARY",
         "39"
        ],
        [
         "22",
         "CARSON CITY107",
         null,
         "None Of These Candidates",
         "50"
        ],
        [
         "23",
         "CARSON CITY107",
         "REP",
         "TRUMP, DONALD J.",
         "617"
        ],
        [
         "24",
         "CARSON CITY109",
         "IAP",
         "CASTLE, DARRELL",
         "11"
        ],
        [
         "25",
         "CARSON CITY109",
         "DEM",
         "CLINTON, HILLARY",
         "482"
        ],
        [
         "26",
         "CARSON CITY109",
         "NPP",
         "DE LA FUENTE, ROQUE ROCKY\"\"",
         "0"
        ],
        [
         "27",
         "CARSON CITY109",
         "LPN",
         "JOHNSON, GARY",
         "47"
        ],
        [
         "28",
         "CARSON CITY109",
         null,
         "None Of These Candidates",
         "35"
        ],
        [
         "29",
         "CARSON CITY109",
         "REP",
         "TRUMP, DONALD J.",
         "606"
        ],
        [
         "30",
         "CARSON CITY111",
         "IAP",
         "CASTLE, DARRELL",
         "4"
        ],
        [
         "31",
         "CARSON CITY111",
         "DEM",
         "CLINTON, HILLARY",
         "516"
        ],
        [
         "32",
         "CARSON CITY111",
         "NPP",
         "DE LA FUENTE, ROQUE ROCKY\"\"",
         "5"
        ],
        [
         "33",
         "CARSON CITY111",
         "LPN",
         "JOHNSON, GARY",
         "80"
        ],
        [
         "34",
         "CARSON CITY111",
         null,
         "None Of These Candidates",
         "25"
        ],
        [
         "35",
         "CARSON CITY111",
         "REP",
         "TRUMP, DONALD J.",
         "528"
        ],
        [
         "36",
         "CARSON CITY113",
         "IAP",
         "CASTLE, DARRELL",
         "5"
        ],
        [
         "37",
         "CARSON CITY113",
         "DEM",
         "CLINTON, HILLARY",
         "445"
        ],
        [
         "38",
         "CARSON CITY113",
         "NPP",
         "DE LA FUENTE, ROQUE ROCKY\"\"",
         "3"
        ],
        [
         "39",
         "CARSON CITY113",
         "LPN",
         "JOHNSON, GARY",
         "45"
        ],
        [
         "40",
         "CARSON CITY113",
         null,
         "None Of These Candidates",
         "39"
        ],
        [
         "41",
         "CARSON CITY113",
         "REP",
         "TRUMP, DONALD J.",
         "783"
        ],
        [
         "42",
         "CARSON CITY201",
         "IAP",
         "CASTLE, DARRELL",
         "4"
        ],
        [
         "43",
         "CARSON CITY201",
         "DEM",
         "CLINTON, HILLARY",
         "351"
        ],
        [
         "44",
         "CARSON CITY201",
         "NPP",
         "DE LA FUENTE, ROQUE ROCKY\"\"",
         "2"
        ],
        [
         "45",
         "CARSON CITY201",
         "LPN",
         "JOHNSON, GARY",
         "43"
        ],
        [
         "46",
         "CARSON CITY201",
         null,
         "None Of These Candidates",
         "37"
        ],
        [
         "47",
         "CARSON CITY201",
         "REP",
         "TRUMP, DONALD J.",
         "410"
        ],
        [
         "48",
         "CARSON CITY203",
         "IAP",
         "CASTLE, DARRELL",
         "10"
        ],
        [
         "49",
         "CARSON CITY203",
         "DEM",
         "CLINTON, HILLARY",
         "490"
        ]
       ],
       "shape": {
        "columns": 4,
        "rows": 11990
       }
      },
      "text/html": [
       "<div>\n",
       "<style scoped>\n",
       "    .dataframe tbody tr th:only-of-type {\n",
       "        vertical-align: middle;\n",
       "    }\n",
       "\n",
       "    .dataframe tbody tr th {\n",
       "        vertical-align: top;\n",
       "    }\n",
       "\n",
       "    .dataframe thead th {\n",
       "        text-align: right;\n",
       "    }\n",
       "</style>\n",
       "<table border=\"1\" class=\"dataframe\">\n",
       "  <thead>\n",
       "    <tr style=\"text-align: right;\">\n",
       "      <th></th>\n",
       "      <th>precinct</th>\n",
       "      <th>party</th>\n",
       "      <th>candidate</th>\n",
       "      <th>votes</th>\n",
       "    </tr>\n",
       "  </thead>\n",
       "  <tbody>\n",
       "    <tr>\n",
       "      <th>0</th>\n",
       "      <td>CARSON CITY101</td>\n",
       "      <td>IAP</td>\n",
       "      <td>CASTLE, DARRELL</td>\n",
       "      <td>5</td>\n",
       "    </tr>\n",
       "    <tr>\n",
       "      <th>1</th>\n",
       "      <td>CARSON CITY101</td>\n",
       "      <td>DEM</td>\n",
       "      <td>CLINTON, HILLARY</td>\n",
       "      <td>354</td>\n",
       "    </tr>\n",
       "    <tr>\n",
       "      <th>2</th>\n",
       "      <td>CARSON CITY101</td>\n",
       "      <td>NPP</td>\n",
       "      <td>DE LA FUENTE, ROQUE ROCKY\"\"</td>\n",
       "      <td>3</td>\n",
       "    </tr>\n",
       "    <tr>\n",
       "      <th>3</th>\n",
       "      <td>CARSON CITY101</td>\n",
       "      <td>LPN</td>\n",
       "      <td>JOHNSON, GARY</td>\n",
       "      <td>39</td>\n",
       "    </tr>\n",
       "    <tr>\n",
       "      <th>4</th>\n",
       "      <td>CARSON CITY101</td>\n",
       "      <td>NaN</td>\n",
       "      <td>None Of These Candidates</td>\n",
       "      <td>39</td>\n",
       "    </tr>\n",
       "    <tr>\n",
       "      <th>...</th>\n",
       "      <td>...</td>\n",
       "      <td>...</td>\n",
       "      <td>...</td>\n",
       "      <td>...</td>\n",
       "    </tr>\n",
       "    <tr>\n",
       "      <th>11985</th>\n",
       "      <td>WHITE PINE99</td>\n",
       "      <td>DEM</td>\n",
       "      <td>CLINTON, HILLARY</td>\n",
       "      <td>0</td>\n",
       "    </tr>\n",
       "    <tr>\n",
       "      <th>11986</th>\n",
       "      <td>WHITE PINE99</td>\n",
       "      <td>NPP</td>\n",
       "      <td>DE LA FUENTE, ROQUE ROCKY\"\"</td>\n",
       "      <td>0</td>\n",
       "    </tr>\n",
       "    <tr>\n",
       "      <th>11987</th>\n",
       "      <td>WHITE PINE99</td>\n",
       "      <td>LPN</td>\n",
       "      <td>JOHNSON, GARY</td>\n",
       "      <td>0</td>\n",
       "    </tr>\n",
       "    <tr>\n",
       "      <th>11988</th>\n",
       "      <td>WHITE PINE99</td>\n",
       "      <td>NaN</td>\n",
       "      <td>None Of These Candidates</td>\n",
       "      <td>0</td>\n",
       "    </tr>\n",
       "    <tr>\n",
       "      <th>11989</th>\n",
       "      <td>WHITE PINE99</td>\n",
       "      <td>REP</td>\n",
       "      <td>TRUMP, DONALD J.</td>\n",
       "      <td>0</td>\n",
       "    </tr>\n",
       "  </tbody>\n",
       "</table>\n",
       "<p>11990 rows × 4 columns</p>\n",
       "</div>"
      ],
      "text/plain": [
       "             precinct party                    candidate  votes\n",
       "0      CARSON CITY101   IAP              CASTLE, DARRELL      5\n",
       "1      CARSON CITY101   DEM             CLINTON, HILLARY    354\n",
       "2      CARSON CITY101   NPP  DE LA FUENTE, ROQUE ROCKY\"\"      3\n",
       "3      CARSON CITY101   LPN                JOHNSON, GARY     39\n",
       "4      CARSON CITY101   NaN     None Of These Candidates     39\n",
       "...               ...   ...                          ...    ...\n",
       "11985    WHITE PINE99   DEM             CLINTON, HILLARY      0\n",
       "11986    WHITE PINE99   NPP  DE LA FUENTE, ROQUE ROCKY\"\"      0\n",
       "11987    WHITE PINE99   LPN                JOHNSON, GARY      0\n",
       "11988    WHITE PINE99   NaN     None Of These Candidates      0\n",
       "11989    WHITE PINE99   REP             TRUMP, DONALD J.      0\n",
       "\n",
       "[11990 rows x 4 columns]"
      ]
     },
     "execution_count": 85,
     "metadata": {},
     "output_type": "execute_result"
    }
   ],
   "source": [
    "# Select only the relevant columns\n",
    "general_data = gen_combined_df[[\"precinct\", \"party\", \"candidate\", \"votes\"]]\n",
    "\n",
    "general_data"
   ]
  },
  {
   "cell_type": "code",
   "execution_count": 86,
   "id": "38fba0f1",
   "metadata": {},
   "outputs": [
    {
     "name": "stderr",
     "output_type": "stream",
     "text": [
      "C:\\Users\\ADMIN\\AppData\\Local\\Temp\\ipykernel_21640\\1743146100.py:2: SettingWithCopyWarning: \n",
      "A value is trying to be set on a copy of a slice from a DataFrame.\n",
      "Try using .loc[row_indexer,col_indexer] = value instead\n",
      "\n",
      "See the caveats in the documentation: https://pandas.pydata.org/pandas-docs/stable/user_guide/indexing.html#returning-a-view-versus-a-copy\n",
      "  general_data[\"candidate\"] = general_data[\"candidate\"].astype(str).str.upper()\n"
     ]
    },
    {
     "data": {
      "application/vnd.microsoft.datawrangler.viewer.v0+json": {
       "columns": [
        {
         "name": "candidate",
         "rawType": "object",
         "type": "string"
        },
        {
         "name": "count",
         "rawType": "int64",
         "type": "integer"
        }
       ],
       "ref": "8e280754-e82a-4706-9537-c55ce1bcfec2",
       "rows": [
        [
         "CLINTON, HILLARY",
         "2002"
        ],
        [
         "TRUMP, DONALD J.",
         "2002"
        ],
        [
         "JOHNSON, GARY",
         "2001"
        ],
        [
         "NONE OF THESE CANDIDATES",
         "2000"
        ],
        [
         "CASTLE, DARRELL",
         "1995"
        ],
        [
         "DE LA FUENTE, ROQUE ROCKY\"\"",
         "1990"
        ]
       ],
       "shape": {
        "columns": 1,
        "rows": 6
       }
      },
      "text/plain": [
       "candidate\n",
       "CLINTON, HILLARY               2002\n",
       "TRUMP, DONALD J.               2002\n",
       "JOHNSON, GARY                  2001\n",
       "NONE OF THESE CANDIDATES       2000\n",
       "CASTLE, DARRELL                1995\n",
       "DE LA FUENTE, ROQUE ROCKY\"\"    1990\n",
       "Name: count, dtype: int64"
      ]
     },
     "execution_count": 86,
     "metadata": {},
     "output_type": "execute_result"
    }
   ],
   "source": [
    "# Viewing candidate data\n",
    "general_data[\"candidate\"] = general_data[\"candidate\"].astype(str).str.upper()\n",
    "general_data[\"candidate\"].value_counts(dropna=False)"
   ]
  },
  {
   "cell_type": "code",
   "execution_count": 87,
   "id": "90417a20",
   "metadata": {},
   "outputs": [
    {
     "name": "stderr",
     "output_type": "stream",
     "text": [
      "C:\\Users\\ADMIN\\AppData\\Local\\Temp\\ipykernel_21640\\1012402545.py:4: SettingWithCopyWarning: \n",
      "A value is trying to be set on a copy of a slice from a DataFrame.\n",
      "Try using .loc[row_indexer,col_indexer] = value instead\n",
      "\n",
      "See the caveats in the documentation: https://pandas.pydata.org/pandas-docs/stable/user_guide/indexing.html#returning-a-view-versus-a-copy\n",
      "  general_data[\"candidate\"] = general_data[\"candidate\"].astype(str).str.upper()\n",
      "C:\\Users\\ADMIN\\AppData\\Local\\Temp\\ipykernel_21640\\1012402545.py:56: SettingWithCopyWarning: \n",
      "A value is trying to be set on a copy of a slice from a DataFrame.\n",
      "Try using .loc[row_indexer,col_indexer] = value instead\n",
      "\n",
      "See the caveats in the documentation: https://pandas.pydata.org/pandas-docs/stable/user_guide/indexing.html#returning-a-view-versus-a-copy\n",
      "  general_data[\"candidate\"] = (\n",
      "C:\\Users\\ADMIN\\AppData\\Local\\Temp\\ipykernel_21640\\1012402545.py:107: SettingWithCopyWarning: \n",
      "A value is trying to be set on a copy of a slice from a DataFrame.\n",
      "Try using .loc[row_indexer,col_indexer] = value instead\n",
      "\n",
      "See the caveats in the documentation: https://pandas.pydata.org/pandas-docs/stable/user_guide/indexing.html#returning-a-view-versus-a-copy\n",
      "  general_data[\"candidate\"] = general_data[\"candidate\"].str.split().str[-1]\n"
     ]
    },
    {
     "data": {
      "application/vnd.microsoft.datawrangler.viewer.v0+json": {
       "columns": [
        {
         "name": "candidate",
         "rawType": "object",
         "type": "string"
        },
        {
         "name": "count",
         "rawType": "int64",
         "type": "integer"
        }
       ],
       "ref": "5c1df06a-4f18-4c9a-8407-267e72a8ad7b",
       "rows": [
        [
         "CLINTON",
         "2002"
        ],
        [
         "TRUMP",
         "2002"
        ],
        [
         "JOHNSON",
         "2001"
        ],
        [
         "CASTLE",
         "1995"
        ],
        [
         "FUENTE",
         "1990"
        ]
       ],
       "shape": {
        "columns": 1,
        "rows": 5
       }
      },
      "text/plain": [
       "candidate\n",
       "CLINTON    2002\n",
       "TRUMP      2002\n",
       "JOHNSON    2001\n",
       "CASTLE     1995\n",
       "FUENTE     1990\n",
       "Name: count, dtype: int64"
      ]
     },
     "execution_count": 87,
     "metadata": {},
     "output_type": "execute_result"
    }
   ],
   "source": [
    "# Cleaning Candidates\n",
    "\n",
    "# Turning all general data to uppercase\n",
    "general_data[\"candidate\"] = general_data[\"candidate\"].astype(str).str.upper()\n",
    "\n",
    "\n",
    "unwanted_keywords = [\n",
    "    r\"\\w*VOTE\\w*\",\n",
    "    r\"\\w*UNCOM\\w*\",\n",
    "    r\"\\w*TOTAL\\w*\",\n",
    "    r\"\\w*WRITE[\\s-]\\w*\",\n",
    "    r\"NAN\",\n",
    "    r\"UNCERTIFIED\",\n",
    "    r\"UNVERIFIED\",\n",
    "    r\"NONE OF THE ABOVE\",\n",
    "    r\"LBT\",\n",
    "    r\"DEM\",\n",
    "    r\"REP\",\n",
    "    r\"GRN\",\n",
    "    r\"NAN\",\n",
    "    r\"\\w*CANDIDATES\\w*\"\n",
    "]\n",
    "\n",
    "# Fixing FUENTE\n",
    "general_data.loc[\n",
    "    general_data[\"candidate\"].str.contains(\"\\w*FUENTE\\w*\", case=False, na=False),\n",
    "    \"candidate\"\n",
    "] = \"FUENTE\"\n",
    "pattern = \"|\".join(unwanted_keywords)\n",
    "\n",
    "# FILTER OUT TRASH WORDS\n",
    "general_data = general_data[~general_data[\"candidate\"].str.upper().str.contains(pattern, regex=True, na=False)]\n",
    "\n",
    "# # Fixing Darrell Castle\"\n",
    "# general_data.loc[\n",
    "#     general_data[\"candidate\"].str.contains(\"\\w*ASTLE\\w*\", case=False, na=False),\n",
    "#     \"candidate\"\n",
    "# ] = \"CASTLE\"\n",
    "\n",
    "# general_data.loc[\n",
    "#     general_data[\"candidate\"].str.contains(\"\\w*ATUREN\\w*\", case=False, na=False),\n",
    "#     \"candidate\"\n",
    "# ] = \"MATUREN\"\n",
    "\n",
    "# # Fixing mixed president + vice_president by /\n",
    "# general_data[\"candidate\"] = (\n",
    "#     general_data[\"candidate\"].str.split(\"/\")\n",
    "#     .str[0]\n",
    "#     .str.strip()\n",
    "#     )\n",
    "\n",
    "# #Selecting only last name\n",
    "# general_data[\"candidate\"] = general_data[\"candidate\"].str.split().str[-1]\n",
    "\n",
    "# Fixing the , candidate\n",
    "general_data[\"candidate\"] = (\n",
    "    general_data[\"candidate\"].str.split(\",\")\n",
    "    .str[0]\n",
    "    .str.strip()\n",
    "    )\n",
    "\n",
    "\n",
    "\n",
    "\n",
    "# # Fixing Cubbler\n",
    "# general_data.loc[\n",
    "#     ( \n",
    "#         general_data[\"candidate\"].str.contains(\"\\w*UBBIER\\w*\", case=False, na=False)|\n",
    "#         general_data[\"candidate\"].str.contains(\"\\w*UBLER\\w*\", case=False, na=False)|\n",
    "#         general_data[\"candidate\"].str.contains(\"\\w*OBBLER\\w*\", case=False, na=False),\n",
    "#     \"candidate\")\n",
    "# ] = \"CUBBLER\"\n",
    "\n",
    "\n",
    "# # Fixing Kotlikoff\n",
    "# general_data.loc[\n",
    "#     general_data[\"candidate\"].str.contains(\"\\w*TIKOFF\\w*\", case=False, na=False),\n",
    "#     \"candidate\"\n",
    "# ] = \"KOTLIKOFF\"\n",
    "\n",
    "# # Fixing Valdivia\n",
    "# general_data.loc[\n",
    "#     general_data[\"candidate\"].str.contains(\"\\w*VALDIVA\\W*\", case=False, na=False),\n",
    "#     \"candidate\"\n",
    "# ] = \"VALDIVIA\"\n",
    "\n",
    "# # Fixing HOEFLING\n",
    "# general_data.loc[\n",
    "#     general_data[\"candidate\"].str.contains(\"\\w*HOEFFLING\", case=False, na=False),\n",
    "#     \"candidate\"\n",
    "# ] = \"HOEFLING\"\n",
    "\n",
    "\n",
    "# # Fixing McMullin\n",
    "# general_data.loc[\n",
    "#     general_data[\"candidate\"].str.contains(\"MCMULLEN\", case=False, na=False) ,\n",
    "#     \"candidate\"\n",
    "# ] = \"MCMULLIN\"\n",
    "\n",
    "# Fixing LASTNAME + First name Initial\n",
    "# general_data.loc[:,\"candidate\"] = (\n",
    "#     general_data[\"candidate\"].str.split().str[0].str.upper()\n",
    "# )\n",
    "\n",
    "\n",
    "# #Selecting only last name\n",
    "general_data[\"candidate\"] = general_data[\"candidate\"].str.split().str[-1]\n",
    "\n",
    "general_data[\"candidate\"].value_counts(dropna=False)"
   ]
  },
  {
   "cell_type": "code",
   "execution_count": 88,
   "id": "a22405a6",
   "metadata": {},
   "outputs": [
    {
     "data": {
      "application/vnd.microsoft.datawrangler.viewer.v0+json": {
       "columns": [
        {
         "name": "party",
         "rawType": "object",
         "type": "string"
        },
        {
         "name": "count",
         "rawType": "int64",
         "type": "integer"
        }
       ],
       "ref": "b82c7c96-df56-4e56-8939-eb45683a7090",
       "rows": [
        [
         "DEM",
         "2002"
        ],
        [
         "REP",
         "2002"
        ],
        [
         "LPN",
         "2001"
        ],
        [
         "IAP",
         "1995"
        ],
        [
         "NPP",
         "1990"
        ]
       ],
       "shape": {
        "columns": 1,
        "rows": 5
       }
      },
      "text/plain": [
       "party\n",
       "DEM    2002\n",
       "REP    2002\n",
       "LPN    2001\n",
       "IAP    1995\n",
       "NPP    1990\n",
       "Name: count, dtype: int64"
      ]
     },
     "execution_count": 88,
     "metadata": {},
     "output_type": "execute_result"
    }
   ],
   "source": [
    "# Viewing Party\n",
    "general_data[\"party\"].value_counts(dropna=False)"
   ]
  },
  {
   "cell_type": "code",
   "execution_count": 89,
   "id": "21d7595b",
   "metadata": {},
   "outputs": [
    {
     "data": {
      "application/vnd.microsoft.datawrangler.viewer.v0+json": {
       "columns": [
        {
         "name": "party",
         "rawType": "object",
         "type": "string"
        },
        {
         "name": "count",
         "rawType": "int64",
         "type": "integer"
        }
       ],
       "ref": "8636088b-7c0f-4fac-80dd-5d10a25c48d6",
       "rows": [
        [
         "DEM",
         "2002"
        ],
        [
         "REP",
         "2002"
        ],
        [
         "LPN",
         "2001"
        ],
        [
         "IAP",
         "1995"
        ],
        [
         "NPP",
         "1990"
        ]
       ],
       "shape": {
        "columns": 1,
        "rows": 5
       }
      },
      "text/plain": [
       "party\n",
       "DEM    2002\n",
       "REP    2002\n",
       "LPN    2001\n",
       "IAP    1995\n",
       "NPP    1990\n",
       "Name: count, dtype: int64"
      ]
     },
     "execution_count": 89,
     "metadata": {},
     "output_type": "execute_result"
    }
   ],
   "source": [
    "#=====================================\n",
    "# This function is used to look up party\n",
    "# for the candidate in the same df\n",
    "#=====================================\n",
    "def fill_party_from_data(row, df):\n",
    "    if pd.notna(row[\"party\"]):\n",
    "        return row[\"party\"]\n",
    "    \n",
    "    # Try to find other rows with the same candidate and known party\n",
    "    matches = df[(df[\"candidate\"] == row[\"candidate\"]) & (df[\"party\"].notna())]\n",
    "    if not matches.empty:\n",
    "        return matches[\"party\"].iloc[0]  # Return the first match's party\n",
    "    else:\n",
    "        return None  # Still unknown\n",
    "    \n",
    "\n",
    "#=====================================\n",
    "# Function to update the master candidate-party CSV\n",
    "#=====================================\n",
    "def update_master_candidate_party(df, master_path):\n",
    "    # Read the existing master file\n",
    "    master_df = pd.read_csv(master_path)\n",
    "\n",
    "    # Filter and combine only known party entries (exclude 'UNK')\n",
    "    new_data = (\n",
    "        df[[\"candidate\", \"party\"]]\n",
    "        .dropna()\n",
    "        .query('party != \"UNK\"')\n",
    "        .drop_duplicates()\n",
    "    )\n",
    "\n",
    "    # Merge with master and remove duplicates by candidate\n",
    "    updated_master = pd.concat([master_df, new_data]).drop_duplicates(subset=\"candidate\")\n",
    "\n",
    "    # Save updated version\n",
    "    updated_master.to_csv(master_path, index=False)\n",
    "\n",
    "\n",
    "#=====================================\n",
    "# Function to update the master candidate-party CSV\n",
    "#=====================================\n",
    "def update_master_candidate_party(df, master_path):\n",
    "    # Read the existing master file\n",
    "    master_df = pd.read_csv(master_path)\n",
    "\n",
    "    # Filter and combine only known party entries (exclude 'UNK')\n",
    "    new_data = (\n",
    "        df[[\"candidate\", \"party\"]]\n",
    "        .dropna()\n",
    "        .query('party != \"UNK\"')\n",
    "        .drop_duplicates()\n",
    "    )\n",
    "\n",
    "    # Merge with master and remove duplicates by candidate\n",
    "    updated_master = pd.concat([master_df, new_data]).drop_duplicates(subset=\"candidate\")\n",
    "\n",
    "    # Save updated version\n",
    "    updated_master.to_csv(master_path, index=False)\n",
    "\n",
    "\n",
    "#=====================================\n",
    "# Example usage (uncomment and modify for your workflow)\n",
    "#=====================================\n",
    "# Fill party using internal data\n",
    "# general_data[\"party\"] = general_data.apply(\n",
    "#     lambda row: fill_party_from_data(row, general_data),\n",
    "#     axis=1\n",
    "# )\n",
    "\n",
    "# # Fill remaining party using general master CSV\n",
    "# master_party_df = pd.read_csv(r\"C:\\Huy Phan\\College\\VoterTurnout\\data\\cleaned_data\\gen_can_party.csv\") # USE YOUR OWN ADDRESS\n",
    "# general_data = fill_party_from_master(general_data, master_party_df)\n",
    "general_data[\"party\"].value_counts(dropna=False)\n"
   ]
  },
  {
   "cell_type": "code",
   "execution_count": 90,
   "id": "8bb5d275",
   "metadata": {},
   "outputs": [
    {
     "name": "stderr",
     "output_type": "stream",
     "text": [
      "C:\\Users\\ADMIN\\AppData\\Local\\Temp\\ipykernel_21640\\1264349760.py:3: SettingWithCopyWarning: \n",
      "A value is trying to be set on a copy of a slice from a DataFrame.\n",
      "Try using .loc[row_indexer,col_indexer] = value instead\n",
      "\n",
      "See the caveats in the documentation: https://pandas.pydata.org/pandas-docs/stable/user_guide/indexing.html#returning-a-view-versus-a-copy\n",
      "  general_data[\"party\"] = general_data[\"party\"].astype(str).str.upper()\n",
      "C:\\Users\\ADMIN\\AppData\\Local\\Temp\\ipykernel_21640\\1264349760.py:5: SettingWithCopyWarning: \n",
      "A value is trying to be set on a copy of a slice from a DataFrame.\n",
      "Try using .loc[row_indexer,col_indexer] = value instead\n",
      "\n",
      "See the caveats in the documentation: https://pandas.pydata.org/pandas-docs/stable/user_guide/indexing.html#returning-a-view-versus-a-copy\n",
      "  general_data[\"party\"] = (\n"
     ]
    },
    {
     "data": {
      "application/vnd.microsoft.datawrangler.viewer.v0+json": {
       "columns": [
        {
         "name": "party",
         "rawType": "object",
         "type": "string"
        },
        {
         "name": "count",
         "rawType": "int64",
         "type": "integer"
        }
       ],
       "ref": "8bf93d56-d8af-43db-a397-9d145877f68c",
       "rows": [
        [
         "DEM",
         "2002"
        ],
        [
         "REP",
         "2002"
        ],
        [
         "LIB",
         "2001"
        ],
        [
         "CON",
         "1995"
        ],
        [
         "IND",
         "1990"
        ]
       ],
       "shape": {
        "columns": 1,
        "rows": 5
       }
      },
      "text/plain": [
       "party\n",
       "DEM    2002\n",
       "REP    2002\n",
       "LIB    2001\n",
       "CON    1995\n",
       "IND    1990\n",
       "Name: count, dtype: int64"
      ]
     },
     "execution_count": 90,
     "metadata": {},
     "output_type": "execute_result"
    }
   ],
   "source": [
    "# Cleaning Party\n",
    "# Turning all general data party to uppercase\n",
    "general_data[\"party\"] = general_data[\"party\"].astype(str).str.upper()\n",
    "\n",
    "general_data[\"party\"] = (\n",
    "    general_data[\"party\"]\n",
    "    .replace({\n",
    "        \"REPUBLICAN\": \"REP\",\n",
    "        \"R\": \"REP\",\n",
    "        \"DEMOCRATIC\": \"DEM\",\n",
    "        \"DEMOCRAT\":\"DEM\",\n",
    "        \"DEM\": \"DEM\",\n",
    "        \"D\": \"DEM\",\n",
    "        \"GREEN\": \"GRN\",\n",
    "        \"G\": \"GRN\",\n",
    "        \"GREEN AND RAINBOW\":\"GRN\",\n",
    "        \"GREEN-RAINBOW\":\"GRN\",\n",
    "        \"LIBERTARIAN\": \"LIB\",\n",
    "        \"LIBERTARIN\":\"LIB\",\n",
    "        \"LPN\":\"LIB\",\n",
    "        \"LBT\": \"LIB\",\n",
    "        \"L\": \"LIB\",\n",
    "        \"IAP\":\"CON\",\n",
    "        \"CONSTITUTION\": \"CON\",\n",
    "        \"AMERICAN DELTA\":\"AMD\",\n",
    "        \"PROHIBITION\":\"PRO\",\n",
    "        \"NP\": \"IND\",\n",
    "        \"NON\": \"IND\",\n",
    "        \"WRI\": \"IND\",\n",
    "        \"WRITE-IN\": \"IND\",\n",
    "        \"ONA\": \"IND\",\n",
    "        \"GEN\": \"IND\",\n",
    "        \"NONE\":\"UNK\",\n",
    "        \"NPA\":\"IND\",\n",
    "        \"UST\":\"CON\",\n",
    "        \"NPP\":\"IND\",\n",
    "        \"(WRITE-IN)\":\"IND\"\n",
    "    })\n",
    ")\n",
    "\n",
    "general_data[\"party\"].value_counts(dropna=False)"
   ]
  },
  {
   "cell_type": "code",
   "execution_count": 91,
   "id": "ff4a4970",
   "metadata": {},
   "outputs": [],
   "source": [
    "# UPDATE MASTER FILE, CAREFUL\n",
    "update_master_candidate_party(general_data, r\"C:\\Huy Phan\\College\\VoterTurnout\\data\\cleaned_data\\gen_can_party.csv\")"
   ]
  },
  {
   "cell_type": "code",
   "execution_count": 92,
   "id": "daaed088",
   "metadata": {},
   "outputs": [
    {
     "name": "stderr",
     "output_type": "stream",
     "text": [
      "C:\\Users\\ADMIN\\AppData\\Local\\Temp\\ipykernel_21640\\1829951435.py:1: SettingWithCopyWarning: \n",
      "A value is trying to be set on a copy of a slice from a DataFrame.\n",
      "Try using .loc[row_indexer,col_indexer] = value instead\n",
      "\n",
      "See the caveats in the documentation: https://pandas.pydata.org/pandas-docs/stable/user_guide/indexing.html#returning-a-view-versus-a-copy\n",
      "  general_data[\"candidate_column\"] = (\n"
     ]
    },
    {
     "data": {
      "application/vnd.microsoft.datawrangler.viewer.v0+json": {
       "columns": [
        {
         "name": "index",
         "rawType": "int64",
         "type": "integer"
        },
        {
         "name": "precinct",
         "rawType": "object",
         "type": "string"
        },
        {
         "name": "gen_con_CASTLE",
         "rawType": "int64",
         "type": "integer"
        },
        {
         "name": "gen_dem_CLINTON",
         "rawType": "int64",
         "type": "integer"
        },
        {
         "name": "gen_ind_FUENTE",
         "rawType": "int64",
         "type": "integer"
        },
        {
         "name": "gen_lib_JOHNSON",
         "rawType": "int64",
         "type": "integer"
        },
        {
         "name": "gen_rep_TRUMP",
         "rawType": "int64",
         "type": "integer"
        }
       ],
       "ref": "501fa2d2-d016-4839-9652-e12fbe95e647",
       "rows": [
        [
         "0",
         "CARSON CITY101",
         "5",
         "354",
         "3",
         "39",
         "419"
        ],
        [
         "1",
         "CARSON CITY103",
         "6",
         "392",
         "1",
         "25",
         "476"
        ],
        [
         "2",
         "CARSON CITY105",
         "8",
         "375",
         "1",
         "39",
         "608"
        ],
        [
         "3",
         "CARSON CITY107",
         "8",
         "376",
         "1",
         "39",
         "617"
        ],
        [
         "4",
         "CARSON CITY109",
         "11",
         "482",
         "0",
         "47",
         "606"
        ],
        [
         "5",
         "CARSON CITY111",
         "4",
         "516",
         "5",
         "80",
         "528"
        ],
        [
         "6",
         "CARSON CITY113",
         "5",
         "445",
         "3",
         "45",
         "783"
        ],
        [
         "7",
         "CARSON CITY201",
         "4",
         "351",
         "2",
         "43",
         "410"
        ],
        [
         "8",
         "CARSON CITY203",
         "10",
         "490",
         "3",
         "71",
         "516"
        ],
        [
         "9",
         "CARSON CITY205",
         "4",
         "524",
         "3",
         "64",
         "608"
        ],
        [
         "10",
         "CARSON CITY207",
         "7",
         "372",
         "4",
         "28",
         "561"
        ],
        [
         "11",
         "CARSON CITY209",
         "7",
         "293",
         "3",
         "47",
         "377"
        ],
        [
         "12",
         "CARSON CITY211",
         "3",
         "258",
         "1",
         "45",
         "464"
        ],
        [
         "13",
         "CARSON CITY301",
         "5",
         "334",
         "6",
         "36",
         "454"
        ],
        [
         "14",
         "CARSON CITY303",
         "2",
         "298",
         "1",
         "42",
         "477"
        ],
        [
         "15",
         "CARSON CITY305",
         "4",
         "386",
         "1",
         "45",
         "606"
        ],
        [
         "16",
         "CARSON CITY307",
         "13",
         "715",
         "1",
         "82",
         "688"
        ],
        [
         "17",
         "CARSON CITY309",
         "9",
         "399",
         "4",
         "48",
         "830"
        ],
        [
         "18",
         "CARSON CITY401",
         "4",
         "353",
         "3",
         "51",
         "381"
        ],
        [
         "19",
         "CARSON CITY403",
         "11",
         "523",
         "4",
         "74",
         "672"
        ],
        [
         "20",
         "CARSON CITY405",
         "5",
         "431",
         "1",
         "38",
         "556"
        ],
        [
         "21",
         "CARSON CITY407",
         "6",
         "274",
         "3",
         "39",
         "574"
        ],
        [
         "22",
         "CARSON CITY409",
         "7",
         "464",
         "5",
         "62",
         "480"
        ],
        [
         "23",
         "CARSON CITY411",
         "5",
         "193",
         "1",
         "30",
         "425"
        ],
        [
         "24",
         "CARSON CITY997",
         "0",
         "6",
         "0",
         "0",
         "3"
        ],
        [
         "25",
         "CARSON CITY998",
         "0",
         "6",
         "0",
         "0",
         "6"
        ],
        [
         "26",
         "CARSON CITY999",
         "0",
         "0",
         "0",
         "0",
         "0"
        ],
        [
         "27",
         "CHURCHILL01",
         "1",
         "139",
         "2",
         "31",
         "461"
        ],
        [
         "28",
         "CHURCHILL02",
         "4",
         "186",
         "1",
         "37",
         "370"
        ],
        [
         "29",
         "CHURCHILL03",
         "8",
         "115",
         "2",
         "20",
         "305"
        ],
        [
         "30",
         "CHURCHILL04",
         "1",
         "132",
         "0",
         "35",
         "340"
        ],
        [
         "31",
         "CHURCHILL05",
         "2",
         "115",
         "4",
         "19",
         "276"
        ],
        [
         "32",
         "CHURCHILL06",
         "1",
         "101",
         "1",
         "30",
         "318"
        ],
        [
         "33",
         "CHURCHILL07",
         "2",
         "120",
         "2",
         "16",
         "510"
        ],
        [
         "34",
         "CHURCHILL08",
         "4",
         "78",
         "2",
         "20",
         "245"
        ],
        [
         "35",
         "CHURCHILL09",
         "10",
         "86",
         "0",
         "10",
         "282"
        ],
        [
         "36",
         "CHURCHILL10",
         "4",
         "138",
         "1",
         "32",
         "594"
        ],
        [
         "37",
         "CHURCHILL11",
         "9",
         "140",
         "1",
         "37",
         "605"
        ],
        [
         "38",
         "CHURCHILL12",
         "4",
         "52",
         "1",
         "13",
         "216"
        ],
        [
         "39",
         "CHURCHILL13",
         "3",
         "52",
         "2",
         "15",
         "355"
        ],
        [
         "40",
         "CHURCHILL14",
         "7",
         "88",
         "1",
         "18",
         "414"
        ],
        [
         "41",
         "CHURCHILL15",
         "3",
         "91",
         "1",
         "21",
         "479"
        ],
        [
         "42",
         "CHURCHILL16",
         "6",
         "128",
         "1",
         "16",
         "242"
        ],
        [
         "43",
         "CHURCHILL17",
         "11",
         "148",
         "1",
         "37",
         "688"
        ],
        [
         "44",
         "CHURCHILL18",
         "1",
         "208",
         "2",
         "31",
         "736"
        ],
        [
         "45",
         "CHURCHILL19",
         "11",
         "93",
         "0",
         "12",
         "391"
        ],
        [
         "46",
         "CHURCHILL88",
         "0",
         "0",
         "0",
         "0",
         "0"
        ],
        [
         "47",
         "CHURCHILL99",
         "0",
         "0",
         "0",
         "0",
         "0"
        ],
        [
         "48",
         "CLARK1038",
         "0",
         "151",
         "0",
         "2",
         "199"
        ],
        [
         "49",
         "CLARK1039",
         "0",
         "293",
         "1",
         "11",
         "557"
        ]
       ],
       "shape": {
        "columns": 6,
        "rows": 1977
       }
      },
      "text/html": [
       "<div>\n",
       "<style scoped>\n",
       "    .dataframe tbody tr th:only-of-type {\n",
       "        vertical-align: middle;\n",
       "    }\n",
       "\n",
       "    .dataframe tbody tr th {\n",
       "        vertical-align: top;\n",
       "    }\n",
       "\n",
       "    .dataframe thead th {\n",
       "        text-align: right;\n",
       "    }\n",
       "</style>\n",
       "<table border=\"1\" class=\"dataframe\">\n",
       "  <thead>\n",
       "    <tr style=\"text-align: right;\">\n",
       "      <th>candidate_column</th>\n",
       "      <th>precinct</th>\n",
       "      <th>gen_con_CASTLE</th>\n",
       "      <th>gen_dem_CLINTON</th>\n",
       "      <th>gen_ind_FUENTE</th>\n",
       "      <th>gen_lib_JOHNSON</th>\n",
       "      <th>gen_rep_TRUMP</th>\n",
       "    </tr>\n",
       "  </thead>\n",
       "  <tbody>\n",
       "    <tr>\n",
       "      <th>0</th>\n",
       "      <td>CARSON CITY101</td>\n",
       "      <td>5</td>\n",
       "      <td>354</td>\n",
       "      <td>3</td>\n",
       "      <td>39</td>\n",
       "      <td>419</td>\n",
       "    </tr>\n",
       "    <tr>\n",
       "      <th>1</th>\n",
       "      <td>CARSON CITY103</td>\n",
       "      <td>6</td>\n",
       "      <td>392</td>\n",
       "      <td>1</td>\n",
       "      <td>25</td>\n",
       "      <td>476</td>\n",
       "    </tr>\n",
       "    <tr>\n",
       "      <th>2</th>\n",
       "      <td>CARSON CITY105</td>\n",
       "      <td>8</td>\n",
       "      <td>375</td>\n",
       "      <td>1</td>\n",
       "      <td>39</td>\n",
       "      <td>608</td>\n",
       "    </tr>\n",
       "    <tr>\n",
       "      <th>3</th>\n",
       "      <td>CARSON CITY107</td>\n",
       "      <td>8</td>\n",
       "      <td>376</td>\n",
       "      <td>1</td>\n",
       "      <td>39</td>\n",
       "      <td>617</td>\n",
       "    </tr>\n",
       "    <tr>\n",
       "      <th>4</th>\n",
       "      <td>CARSON CITY109</td>\n",
       "      <td>11</td>\n",
       "      <td>482</td>\n",
       "      <td>0</td>\n",
       "      <td>47</td>\n",
       "      <td>606</td>\n",
       "    </tr>\n",
       "    <tr>\n",
       "      <th>...</th>\n",
       "      <td>...</td>\n",
       "      <td>...</td>\n",
       "      <td>...</td>\n",
       "      <td>...</td>\n",
       "      <td>...</td>\n",
       "      <td>...</td>\n",
       "    </tr>\n",
       "    <tr>\n",
       "      <th>1972</th>\n",
       "      <td>WHITE PINE7</td>\n",
       "      <td>2</td>\n",
       "      <td>25</td>\n",
       "      <td>0</td>\n",
       "      <td>6</td>\n",
       "      <td>115</td>\n",
       "    </tr>\n",
       "    <tr>\n",
       "      <th>1973</th>\n",
       "      <td>WHITE PINE8</td>\n",
       "      <td>3</td>\n",
       "      <td>11</td>\n",
       "      <td>2</td>\n",
       "      <td>9</td>\n",
       "      <td>192</td>\n",
       "    </tr>\n",
       "    <tr>\n",
       "      <th>1974</th>\n",
       "      <td>WHITE PINE88</td>\n",
       "      <td>0</td>\n",
       "      <td>0</td>\n",
       "      <td>0</td>\n",
       "      <td>0</td>\n",
       "      <td>0</td>\n",
       "    </tr>\n",
       "    <tr>\n",
       "      <th>1975</th>\n",
       "      <td>WHITE PINE9</td>\n",
       "      <td>0</td>\n",
       "      <td>46</td>\n",
       "      <td>0</td>\n",
       "      <td>5</td>\n",
       "      <td>48</td>\n",
       "    </tr>\n",
       "    <tr>\n",
       "      <th>1976</th>\n",
       "      <td>WHITE PINE99</td>\n",
       "      <td>0</td>\n",
       "      <td>0</td>\n",
       "      <td>0</td>\n",
       "      <td>0</td>\n",
       "      <td>0</td>\n",
       "    </tr>\n",
       "  </tbody>\n",
       "</table>\n",
       "<p>1977 rows × 6 columns</p>\n",
       "</div>"
      ],
      "text/plain": [
       "candidate_column        precinct  gen_con_CASTLE  gen_dem_CLINTON  \\\n",
       "0                 CARSON CITY101               5              354   \n",
       "1                 CARSON CITY103               6              392   \n",
       "2                 CARSON CITY105               8              375   \n",
       "3                 CARSON CITY107               8              376   \n",
       "4                 CARSON CITY109              11              482   \n",
       "...                          ...             ...              ...   \n",
       "1972                 WHITE PINE7               2               25   \n",
       "1973                 WHITE PINE8               3               11   \n",
       "1974                WHITE PINE88               0                0   \n",
       "1975                 WHITE PINE9               0               46   \n",
       "1976                WHITE PINE99               0                0   \n",
       "\n",
       "candidate_column  gen_ind_FUENTE  gen_lib_JOHNSON  gen_rep_TRUMP  \n",
       "0                              3               39            419  \n",
       "1                              1               25            476  \n",
       "2                              1               39            608  \n",
       "3                              1               39            617  \n",
       "4                              0               47            606  \n",
       "...                          ...              ...            ...  \n",
       "1972                           0                6            115  \n",
       "1973                           2                9            192  \n",
       "1974                           0                0              0  \n",
       "1975                           0                5             48  \n",
       "1976                           0                0              0  \n",
       "\n",
       "[1977 rows x 6 columns]"
      ]
     },
     "execution_count": 92,
     "metadata": {},
     "output_type": "execute_result"
    }
   ],
   "source": [
    "general_data[\"candidate_column\"] = (\n",
    "    \"gen_\" +\n",
    "    general_data[\"party\"].str.lower() + \"_\" +\n",
    "    general_data[\"candidate\"].str.split().str[-1].str.upper()\n",
    ")\n",
    "\n",
    "# pivot the table\n",
    "general_result = general_data.pivot_table(\n",
    "    index=\"precinct\",\n",
    "    columns=\"candidate_column\",\n",
    "    values=\"votes\",\n",
    "    aggfunc=\"sum\",  \n",
    "    fill_value=0\n",
    ").reset_index()\n",
    "\n",
    "general_result"
   ]
  },
  {
   "cell_type": "code",
   "execution_count": 93,
   "id": "6686d34b",
   "metadata": {},
   "outputs": [],
   "source": [
    "# Merge\n",
    "combined = pd.merge(primary_result, general_result, on=\"precinct\", how=\"inner\")\n",
    "\n",
    "# Convert DEM primary columns to numeric and calculate total\n",
    "dem_cols = combined.filter(like=\"pri_dem_\").columns\n",
    "combined[dem_cols] = combined[dem_cols].apply(pd.to_numeric, errors=\"coerce\")\n",
    "combined[\"dem_primary_total\"] = combined[dem_cols].sum(axis=1)\n",
    "\n",
    "# Convert general election columns to numeric and calculate total\n",
    "gen_cols = combined.filter(like=\"gen_\").columns\n",
    "combined[gen_cols] = combined[gen_cols].apply(pd.to_numeric, errors=\"coerce\")\n",
    "combined[\"general_total\"] = combined[gen_cols].sum(axis=1)\n",
    "\n",
    "# Convert all numeric columns to int\n",
    "for col in combined.columns[1:]:\n",
    "    combined[col] = pd.to_numeric(combined[col], errors='coerce').fillna(0).astype(int)\n",
    "\n",
    "# Identify filtered-out precincts\n",
    "primary_precincts = set(primary_result[\"precinct\"])\n",
    "general_precincts = set(general_result[\"precinct\"])\n",
    "combined_precincts = set(combined[\"precinct\"])\n",
    "\n",
    "primary_filtered_out = primary_precincts - combined_precincts\n",
    "general_filtered_out = general_precincts - combined_precincts\n",
    "\n",
    "\n"
   ]
  },
  {
   "cell_type": "code",
   "execution_count": 94,
   "id": "a6797e92",
   "metadata": {},
   "outputs": [],
   "source": [
    "\n",
    "\n",
    "combined.to_csv(\"NV.csv\", index=False)\n",
    "# Step 3: Identify unmatched precincts and retrieve full rows\n",
    "combined_precincts = set(combined[\"precinct\"])\n",
    "\n",
    "# Rows in primary_result but not in combined\n",
    "primary_filtered_out = primary_result[~primary_result[\"precinct\"].isin(combined_precincts)]\n",
    "primary_filtered_out.to_csv(\"NV_primary_filtered.csv\", index=False)\n",
    "\n",
    "# Rows in general_result but not in combined\n",
    "general_filtered_out = general_result[~general_result[\"precinct\"].isin(combined_precincts)]\n",
    "general_filtered_out.to_csv(\"NV_general_filtered.csv\", index=False)"
   ]
  },
  {
   "cell_type": "code",
   "execution_count": 95,
   "id": "b3d042ff",
   "metadata": {},
   "outputs": [
    {
     "name": "stdout",
     "output_type": "stream",
     "text": [
      "primary: 1700, general: 1977, combined: 1213\n"
     ]
    }
   ],
   "source": [
    "print(f\"primary: {len(primary_precincts)}, general: {len(general_precincts)}, combined: {len(combined)}\")"
   ]
  },
  {
   "cell_type": "code",
   "execution_count": null,
   "id": "9900725d",
   "metadata": {},
   "outputs": [
    {
     "name": "stdout",
     "output_type": "stream",
     "text": [
      "primary: 18, general: 17\n"
     ]
    }
   ],
   "source": [
    "print(f\"primary: {len(pri_combined_df['jurisdiction'].unique())}, general: {len(gen_combined_df['county'].unique())}\")\n"
   ]
  },
  {
   "cell_type": "code",
   "execution_count": null,
   "id": "b12d639e",
   "metadata": {},
   "outputs": [
    {
     "data": {
      "text/plain": [
       "array(['Carson City', 'Churchill', 'Clark', 'Douglas', 'Elko',\n",
       "       'Esmeralda', 'Eureka', 'Humboldt', 'Lander', 'Lincoln', 'Lyon',\n",
       "       'Mineral', 'Nye', 'ye', 'Pershing', 'Storey', 'Washoe',\n",
       "       'White Pine'], dtype=object)"
      ]
     },
     "execution_count": 57,
     "metadata": {},
     "output_type": "execute_result"
    }
   ],
   "source": [
    "pri_combined_df['jurisdiction'].unique()"
   ]
  },
  {
   "cell_type": "code",
   "execution_count": null,
   "id": "0fb1a12f",
   "metadata": {},
   "outputs": [
    {
     "data": {
      "text/plain": [
       "array(['CARSON CITY', 'CHURCHILL', 'CLARK', 'DOUGLAS', 'ELKO',\n",
       "       'ESMERALDA', 'EUREKA', 'HUMBOLDT', 'LANDER', 'LINCOLN', 'LYON',\n",
       "       'MINERAL', 'NYE', 'PERSHING', 'STOREY', 'WASHOE', 'WHITE PINE'],\n",
       "      dtype=object)"
      ]
     },
     "execution_count": 56,
     "metadata": {},
     "output_type": "execute_result"
    }
   ],
   "source": [
    "gen_combined_df['county'].unique()"
   ]
  },
  {
   "cell_type": "code",
   "execution_count": null,
   "id": "b28d499d",
   "metadata": {},
   "outputs": [
    {
     "name": "stdout",
     "output_type": "stream",
     "text": [
      "Counties in primary but not in general: 1\n",
      "{'YE'}\n"
     ]
    }
   ],
   "source": [
    "primary_counties = set(pri_combined_df['jurisdiction'].dropna().str.strip().str.upper())\n",
    "general_counties = set(gen_combined_df['county'].dropna().str.strip().str.upper())\n",
    "\n",
    "diff = primary_counties - general_counties\n",
    "print(f\"Counties in primary but not in general: {len(diff)}\")\n",
    "print(diff)\n"
   ]
  }
 ],
 "metadata": {
  "kernelspec": {
   "display_name": "Python 3",
   "language": "python",
   "name": "python3"
  },
  "language_info": {
   "codemirror_mode": {
    "name": "ipython",
    "version": 3
   },
   "file_extension": ".py",
   "mimetype": "text/x-python",
   "name": "python",
   "nbconvert_exporter": "python",
   "pygments_lexer": "ipython3",
   "version": "3.11.2"
  }
 },
 "nbformat": 4,
 "nbformat_minor": 5
}
