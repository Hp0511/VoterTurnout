{
 "cells": [
  {
   "cell_type": "code",
   "execution_count": 1,
   "id": "aa200fab",
   "metadata": {},
   "outputs": [],
   "source": [
    "import pandas as pd\n",
    "import glob\n",
    "import os\n",
    "from pprint import pprint"
   ]
  },
  {
   "cell_type": "code",
   "execution_count": 13,
   "id": "c263c4df",
   "metadata": {},
   "outputs": [],
   "source": [
    "#Get all CSV files in the folder of GA\n",
    "all_files = glob.glob(r\"C:\\Huy Phan\\College\\VoterTurnout\\data\\WA\\2016\\*.csv\")\n",
    "\n",
    "# Files that contain both 'precinct' and 'general' in the filename\n",
    "general_files = [\n",
    "    f for f in all_files\n",
    "    if all(word in f.lower() for word in ['precinct', 'general'])\n",
    "]\n",
    "\n",
    "\n",
    "# Files that contain both 'precinct' and 'primary' in the filename\n",
    "primary_files = [\n",
    "    f for f in all_files\n",
    "    if all(word in f.lower() for word in ['precinct', 'primary', 'president'])\n",
    "]\n"
   ]
  },
  {
   "cell_type": "code",
   "execution_count": 3,
   "id": "60d49ea6",
   "metadata": {},
   "outputs": [
    {
     "name": "stdout",
     "output_type": "stream",
     "text": [
      "General files:\n",
      "C:\\Huy Phan\\College\\VoterTurnout\\data\\WA\\2016\\20160209__wa__special__general__precinct.csv\n",
      "C:\\Huy Phan\\College\\VoterTurnout\\data\\WA\\2016\\20160426__wa__special__general__precinct.csv\n",
      "C:\\Huy Phan\\College\\VoterTurnout\\data\\WA\\2016\\20161108__wa__general__precinct.csv\n"
     ]
    }
   ],
   "source": [
    "print(\"General files:\")\n",
    "for f in general_files:\n",
    "    print(f)\n"
   ]
  },
  {
   "cell_type": "code",
   "execution_count": 14,
   "id": "4ab13110",
   "metadata": {},
   "outputs": [
    {
     "name": "stdout",
     "output_type": "stream",
     "text": [
      "\n",
      "Primary files:\n",
      "C:\\Huy Phan\\College\\VoterTurnout\\data\\WA\\2016\\20160524__wa__primary_president__precinct.csv\n"
     ]
    }
   ],
   "source": [
    "print(\"\\nPrimary files:\")\n",
    "for f in primary_files:\n",
    "    print(f)"
   ]
  },
  {
   "cell_type": "code",
   "execution_count": 22,
   "id": "ff5df6c7",
   "metadata": {},
   "outputs": [
    {
     "data": {
      "application/vnd.microsoft.datawrangler.viewer.v0+json": {
       "columns": [
        {
         "name": "index",
         "rawType": "int64",
         "type": "integer"
        },
        {
         "name": "county",
         "rawType": "object",
         "type": "string"
        },
        {
         "name": "precinct_code",
         "rawType": "int64",
         "type": "integer"
        },
        {
         "name": "precinct",
         "rawType": "object",
         "type": "string"
        },
        {
         "name": "party",
         "rawType": "object",
         "type": "string"
        },
        {
         "name": "district",
         "rawType": "float64",
         "type": "float"
        },
        {
         "name": "candidate",
         "rawType": "object",
         "type": "string"
        },
        {
         "name": "votes",
         "rawType": "int64",
         "type": "integer"
        }
       ],
       "ref": "a7302795-1c5d-4094-897b-1084a458b8be",
       "rows": [
        [
         "0",
         "King",
         "3562",
         "King3562",
         "Democratic Party",
         null,
         "Bernie Sanders",
         "24"
        ],
        [
         "1",
         "King",
         "3562",
         "King3562",
         "Democratic Party",
         null,
         "Hillary Clinton",
         "117"
        ],
        [
         "2",
         "King",
         "3562",
         "King3562",
         "Democratic Party",
         null,
         "Registered Voters",
         "503"
        ],
        [
         "3",
         "King",
         "3562",
         "King3562",
         "Democratic Party",
         null,
         "Write-In",
         "0"
        ],
        [
         "4",
         "King",
         "3562",
         "King3562",
         "Republican Party",
         null,
         "Ben Carson",
         "1"
        ],
        [
         "5",
         "King",
         "3562",
         "King3562",
         "Republican Party",
         null,
         "Donald J. Trump",
         "101"
        ],
        [
         "6",
         "King",
         "3562",
         "King3562",
         "Republican Party",
         null,
         "John R. Kasich",
         "28"
        ],
        [
         "7",
         "King",
         "3562",
         "King3562",
         "Republican Party",
         null,
         "Registered Voters",
         "503"
        ],
        [
         "8",
         "King",
         "3562",
         "King3562",
         "Republican Party",
         null,
         "Ted Cruz",
         "8"
        ],
        [
         "9",
         "King",
         "3562",
         "King3562",
         "Republican Party",
         null,
         "Write-In",
         "3"
        ],
        [
         "10",
         "King",
         "2381",
         "King2381",
         "Democratic Party",
         null,
         "Bernie Sanders",
         "62"
        ],
        [
         "11",
         "King",
         "2381",
         "King2381",
         "Democratic Party",
         null,
         "Hillary Clinton",
         "76"
        ],
        [
         "12",
         "King",
         "2381",
         "King2381",
         "Democratic Party",
         null,
         "Registered Voters",
         "757"
        ],
        [
         "13",
         "King",
         "2381",
         "King2381",
         "Democratic Party",
         null,
         "Write-In",
         "0"
        ],
        [
         "14",
         "King",
         "2381",
         "King2381",
         "Republican Party",
         null,
         "Ben Carson",
         "6"
        ],
        [
         "15",
         "King",
         "2381",
         "King2381",
         "Republican Party",
         null,
         "Donald J. Trump",
         "94"
        ],
        [
         "16",
         "King",
         "2381",
         "King2381",
         "Republican Party",
         null,
         "John R. Kasich",
         "11"
        ],
        [
         "17",
         "King",
         "2381",
         "King2381",
         "Republican Party",
         null,
         "Registered Voters",
         "757"
        ],
        [
         "18",
         "King",
         "2381",
         "King2381",
         "Republican Party",
         null,
         "Ted Cruz",
         "3"
        ],
        [
         "19",
         "King",
         "2381",
         "King2381",
         "Republican Party",
         null,
         "Write-In",
         "1"
        ],
        [
         "20",
         "King",
         "3400",
         "King3400",
         "Democratic Party",
         null,
         "Bernie Sanders",
         "58"
        ],
        [
         "21",
         "King",
         "3400",
         "King3400",
         "Democratic Party",
         null,
         "Hillary Clinton",
         "34"
        ],
        [
         "22",
         "King",
         "3400",
         "King3400",
         "Democratic Party",
         null,
         "Registered Voters",
         "574"
        ],
        [
         "23",
         "King",
         "3400",
         "King3400",
         "Democratic Party",
         null,
         "Write-In",
         "0"
        ],
        [
         "24",
         "King",
         "3400",
         "King3400",
         "Republican Party",
         null,
         "Ben Carson",
         "4"
        ],
        [
         "25",
         "King",
         "3400",
         "King3400",
         "Republican Party",
         null,
         "Donald J. Trump",
         "45"
        ],
        [
         "26",
         "King",
         "3400",
         "King3400",
         "Republican Party",
         null,
         "John R. Kasich",
         "9"
        ],
        [
         "27",
         "King",
         "3400",
         "King3400",
         "Republican Party",
         null,
         "Registered Voters",
         "574"
        ],
        [
         "28",
         "King",
         "3400",
         "King3400",
         "Republican Party",
         null,
         "Ted Cruz",
         "13"
        ],
        [
         "29",
         "King",
         "3400",
         "King3400",
         "Republican Party",
         null,
         "Write-In",
         "1"
        ],
        [
         "30",
         "King",
         "10",
         "King10",
         "Democratic Party",
         null,
         "Bernie Sanders",
         "22"
        ],
        [
         "31",
         "King",
         "10",
         "King10",
         "Democratic Party",
         null,
         "Hillary Clinton",
         "52"
        ],
        [
         "32",
         "King",
         "10",
         "King10",
         "Democratic Party",
         null,
         "Registered Voters",
         "444"
        ],
        [
         "33",
         "King",
         "10",
         "King10",
         "Democratic Party",
         null,
         "Write-In",
         "0"
        ],
        [
         "34",
         "King",
         "10",
         "King10",
         "Republican Party",
         null,
         "Ben Carson",
         "2"
        ],
        [
         "35",
         "King",
         "10",
         "King10",
         "Republican Party",
         null,
         "Donald J. Trump",
         "34"
        ],
        [
         "36",
         "King",
         "10",
         "King10",
         "Republican Party",
         null,
         "John R. Kasich",
         "11"
        ],
        [
         "37",
         "King",
         "10",
         "King10",
         "Republican Party",
         null,
         "Registered Voters",
         "444"
        ],
        [
         "38",
         "King",
         "10",
         "King10",
         "Republican Party",
         null,
         "Ted Cruz",
         "6"
        ],
        [
         "39",
         "King",
         "10",
         "King10",
         "Republican Party",
         null,
         "Write-In",
         "1"
        ],
        [
         "40",
         "King",
         "13",
         "King13",
         "Democratic Party",
         null,
         "Bernie Sanders",
         "32"
        ],
        [
         "41",
         "King",
         "13",
         "King13",
         "Democratic Party",
         null,
         "Hillary Clinton",
         "30"
        ],
        [
         "42",
         "King",
         "13",
         "King13",
         "Democratic Party",
         null,
         "Registered Voters",
         "472"
        ],
        [
         "43",
         "King",
         "13",
         "King13",
         "Democratic Party",
         null,
         "Write-In",
         "0"
        ],
        [
         "44",
         "King",
         "13",
         "King13",
         "Republican Party",
         null,
         "Ben Carson",
         "2"
        ],
        [
         "45",
         "King",
         "13",
         "King13",
         "Republican Party",
         null,
         "Donald J. Trump",
         "39"
        ],
        [
         "46",
         "King",
         "13",
         "King13",
         "Republican Party",
         null,
         "John R. Kasich",
         "1"
        ],
        [
         "47",
         "King",
         "13",
         "King13",
         "Republican Party",
         null,
         "Registered Voters",
         "472"
        ],
        [
         "48",
         "King",
         "13",
         "King13",
         "Republican Party",
         null,
         "Ted Cruz",
         "2"
        ],
        [
         "49",
         "King",
         "13",
         "King13",
         "Republican Party",
         null,
         "Write-In",
         "0"
        ]
       ],
       "shape": {
        "columns": 7,
        "rows": 52758
       }
      },
      "text/html": [
       "<div>\n",
       "<style scoped>\n",
       "    .dataframe tbody tr th:only-of-type {\n",
       "        vertical-align: middle;\n",
       "    }\n",
       "\n",
       "    .dataframe tbody tr th {\n",
       "        vertical-align: top;\n",
       "    }\n",
       "\n",
       "    .dataframe thead th {\n",
       "        text-align: right;\n",
       "    }\n",
       "</style>\n",
       "<table border=\"1\" class=\"dataframe\">\n",
       "  <thead>\n",
       "    <tr style=\"text-align: right;\">\n",
       "      <th></th>\n",
       "      <th>county</th>\n",
       "      <th>precinct_code</th>\n",
       "      <th>precinct</th>\n",
       "      <th>party</th>\n",
       "      <th>district</th>\n",
       "      <th>candidate</th>\n",
       "      <th>votes</th>\n",
       "    </tr>\n",
       "  </thead>\n",
       "  <tbody>\n",
       "    <tr>\n",
       "      <th>0</th>\n",
       "      <td>King</td>\n",
       "      <td>3562</td>\n",
       "      <td>King3562</td>\n",
       "      <td>Democratic Party</td>\n",
       "      <td>NaN</td>\n",
       "      <td>Bernie Sanders</td>\n",
       "      <td>24</td>\n",
       "    </tr>\n",
       "    <tr>\n",
       "      <th>1</th>\n",
       "      <td>King</td>\n",
       "      <td>3562</td>\n",
       "      <td>King3562</td>\n",
       "      <td>Democratic Party</td>\n",
       "      <td>NaN</td>\n",
       "      <td>Hillary Clinton</td>\n",
       "      <td>117</td>\n",
       "    </tr>\n",
       "    <tr>\n",
       "      <th>2</th>\n",
       "      <td>King</td>\n",
       "      <td>3562</td>\n",
       "      <td>King3562</td>\n",
       "      <td>Democratic Party</td>\n",
       "      <td>NaN</td>\n",
       "      <td>Registered Voters</td>\n",
       "      <td>503</td>\n",
       "    </tr>\n",
       "    <tr>\n",
       "      <th>3</th>\n",
       "      <td>King</td>\n",
       "      <td>3562</td>\n",
       "      <td>King3562</td>\n",
       "      <td>Democratic Party</td>\n",
       "      <td>NaN</td>\n",
       "      <td>Write-In</td>\n",
       "      <td>0</td>\n",
       "    </tr>\n",
       "    <tr>\n",
       "      <th>4</th>\n",
       "      <td>King</td>\n",
       "      <td>3562</td>\n",
       "      <td>King3562</td>\n",
       "      <td>Republican Party</td>\n",
       "      <td>NaN</td>\n",
       "      <td>Ben Carson</td>\n",
       "      <td>1</td>\n",
       "    </tr>\n",
       "    <tr>\n",
       "      <th>...</th>\n",
       "      <td>...</td>\n",
       "      <td>...</td>\n",
       "      <td>...</td>\n",
       "      <td>...</td>\n",
       "      <td>...</td>\n",
       "      <td>...</td>\n",
       "      <td>...</td>\n",
       "    </tr>\n",
       "    <tr>\n",
       "      <th>52753</th>\n",
       "      <td>Yakima</td>\n",
       "      <td>5101</td>\n",
       "      <td>Yakima5101</td>\n",
       "      <td>President Republican Party</td>\n",
       "      <td>NaN</td>\n",
       "      <td>Donald J. Trump</td>\n",
       "      <td>72</td>\n",
       "    </tr>\n",
       "    <tr>\n",
       "      <th>52754</th>\n",
       "      <td>Yakima</td>\n",
       "      <td>5202</td>\n",
       "      <td>Yakima5202</td>\n",
       "      <td>President Republican Party</td>\n",
       "      <td>NaN</td>\n",
       "      <td>Ben Carson</td>\n",
       "      <td>0</td>\n",
       "    </tr>\n",
       "    <tr>\n",
       "      <th>52755</th>\n",
       "      <td>Yakima</td>\n",
       "      <td>5202</td>\n",
       "      <td>Yakima5202</td>\n",
       "      <td>President Republican Party</td>\n",
       "      <td>NaN</td>\n",
       "      <td>Ted Cruz</td>\n",
       "      <td>0</td>\n",
       "    </tr>\n",
       "    <tr>\n",
       "      <th>52756</th>\n",
       "      <td>Yakima</td>\n",
       "      <td>5202</td>\n",
       "      <td>Yakima5202</td>\n",
       "      <td>President Republican Party</td>\n",
       "      <td>NaN</td>\n",
       "      <td>John R. Kasich</td>\n",
       "      <td>0</td>\n",
       "    </tr>\n",
       "    <tr>\n",
       "      <th>52757</th>\n",
       "      <td>Yakima</td>\n",
       "      <td>5202</td>\n",
       "      <td>Yakima5202</td>\n",
       "      <td>President Republican Party</td>\n",
       "      <td>NaN</td>\n",
       "      <td>Donald J. Trump</td>\n",
       "      <td>0</td>\n",
       "    </tr>\n",
       "  </tbody>\n",
       "</table>\n",
       "<p>52758 rows × 7 columns</p>\n",
       "</div>"
      ],
      "text/plain": [
       "       county  precinct_code    precinct                       party  \\\n",
       "0        King           3562    King3562            Democratic Party   \n",
       "1        King           3562    King3562            Democratic Party   \n",
       "2        King           3562    King3562            Democratic Party   \n",
       "3        King           3562    King3562            Democratic Party   \n",
       "4        King           3562    King3562            Republican Party   \n",
       "...       ...            ...         ...                         ...   \n",
       "52753  Yakima           5101  Yakima5101  President Republican Party   \n",
       "52754  Yakima           5202  Yakima5202  President Republican Party   \n",
       "52755  Yakima           5202  Yakima5202  President Republican Party   \n",
       "52756  Yakima           5202  Yakima5202  President Republican Party   \n",
       "52757  Yakima           5202  Yakima5202  President Republican Party   \n",
       "\n",
       "       district          candidate  votes  \n",
       "0           NaN     Bernie Sanders     24  \n",
       "1           NaN    Hillary Clinton    117  \n",
       "2           NaN  Registered Voters    503  \n",
       "3           NaN           Write-In      0  \n",
       "4           NaN         Ben Carson      1  \n",
       "...         ...                ...    ...  \n",
       "52753       NaN    Donald J. Trump     72  \n",
       "52754       NaN         Ben Carson      0  \n",
       "52755       NaN           Ted Cruz      0  \n",
       "52756       NaN     John R. Kasich      0  \n",
       "52757       NaN    Donald J. Trump      0  \n",
       "\n",
       "[52758 rows x 7 columns]"
      ]
     },
     "execution_count": 22,
     "metadata": {},
     "output_type": "execute_result"
    }
   ],
   "source": [
    "# Process primary files\n",
    "primary_df_list = []\n",
    "\n",
    "for file in primary_files:\n",
    "    try:\n",
    "        df = pd.read_csv(file)\n",
    "\n",
    "        # Drop rows where 'precinct' is NaN\n",
    "        if 'precinct' in df.columns:\n",
    "            df = df[df[\"precinct\"].notna()]\n",
    "        \n",
    "        df = df.drop_duplicates()\n",
    "\n",
    "        primary_df_list.append(df)\n",
    "\n",
    "    except Exception as e:\n",
    "        print(f\"Error in {file}: {e}\")\n",
    "\n",
    "# Combine all cleaned files\n",
    "pri_combined_df = pd.concat(primary_df_list, ignore_index=True)\n",
    "# Create a new column \"precinct\" by combining county and precinct\n",
    "pri_combined_df[\"precinct\"] = pri_combined_df[\"county\"].astype(str) + pri_combined_df[\"precinct_code\"].astype(str)\n",
    "pri_combined_df = pri_combined_df.drop(columns=[\"party\"])\n",
    "pri_combined_df = pri_combined_df.rename(columns={\"office\": \"party\"})\n",
    "pri_combined_df\n"
   ]
  },
  {
   "cell_type": "code",
   "execution_count": 23,
   "id": "1da58bec",
   "metadata": {},
   "outputs": [
    {
     "data": {
      "application/vnd.microsoft.datawrangler.viewer.v0+json": {
       "columns": [
        {
         "name": "party",
         "rawType": "object",
         "type": "string"
        },
        {
         "name": "count",
         "rawType": "int64",
         "type": "integer"
        }
       ],
       "ref": "7b32333f-e472-4c74-8311-330742abf332",
       "rows": [
        [
         "President Republican Party",
         "18392"
        ],
        [
         "Republican Party",
         "15102"
        ],
        [
         "Democratic Party",
         "10068"
        ],
        [
         "President Democratic Party",
         "9196"
        ]
       ],
       "shape": {
        "columns": 1,
        "rows": 4
       }
      },
      "text/plain": [
       "party\n",
       "President Republican Party    18392\n",
       "Republican Party              15102\n",
       "Democratic Party              10068\n",
       "President Democratic Party     9196\n",
       "Name: count, dtype: int64"
      ]
     },
     "execution_count": 23,
     "metadata": {},
     "output_type": "execute_result"
    }
   ],
   "source": [
    "pri_combined_df[\"party\"].value_counts(dropna=False)"
   ]
  },
  {
   "cell_type": "code",
   "execution_count": 30,
   "id": "f0e1e913",
   "metadata": {},
   "outputs": [
    {
     "data": {
      "application/vnd.microsoft.datawrangler.viewer.v0+json": {
       "columns": [
        {
         "name": "index",
         "rawType": "int64",
         "type": "integer"
        },
        {
         "name": "precinct",
         "rawType": "object",
         "type": "string"
        },
        {
         "name": "party",
         "rawType": "object",
         "type": "string"
        },
        {
         "name": "candidate",
         "rawType": "object",
         "type": "string"
        },
        {
         "name": "votes",
         "rawType": "int64",
         "type": "integer"
        }
       ],
       "ref": "6e76e260-ab30-43a5-bb22-af18534aeee9",
       "rows": [
        [
         "0",
         "King3562",
         "DEM",
         "Bernie Sanders",
         "24"
        ],
        [
         "1",
         "King3562",
         "DEM",
         "Hillary Clinton",
         "117"
        ],
        [
         "2",
         "King3562",
         "DEM",
         "Registered Voters",
         "503"
        ],
        [
         "3",
         "King3562",
         "DEM",
         "Write-In",
         "0"
        ],
        [
         "4",
         "King3562",
         "REP",
         "Ben Carson",
         "1"
        ],
        [
         "5",
         "King3562",
         "REP",
         "Donald J. Trump",
         "101"
        ],
        [
         "6",
         "King3562",
         "REP",
         "John R. Kasich",
         "28"
        ],
        [
         "7",
         "King3562",
         "REP",
         "Registered Voters",
         "503"
        ],
        [
         "8",
         "King3562",
         "REP",
         "Ted Cruz",
         "8"
        ],
        [
         "9",
         "King3562",
         "REP",
         "Write-In",
         "3"
        ],
        [
         "10",
         "King2381",
         "DEM",
         "Bernie Sanders",
         "62"
        ],
        [
         "11",
         "King2381",
         "DEM",
         "Hillary Clinton",
         "76"
        ],
        [
         "12",
         "King2381",
         "DEM",
         "Registered Voters",
         "757"
        ],
        [
         "13",
         "King2381",
         "DEM",
         "Write-In",
         "0"
        ],
        [
         "14",
         "King2381",
         "REP",
         "Ben Carson",
         "6"
        ],
        [
         "15",
         "King2381",
         "REP",
         "Donald J. Trump",
         "94"
        ],
        [
         "16",
         "King2381",
         "REP",
         "John R. Kasich",
         "11"
        ],
        [
         "17",
         "King2381",
         "REP",
         "Registered Voters",
         "757"
        ],
        [
         "18",
         "King2381",
         "REP",
         "Ted Cruz",
         "3"
        ],
        [
         "19",
         "King2381",
         "REP",
         "Write-In",
         "1"
        ],
        [
         "20",
         "King3400",
         "DEM",
         "Bernie Sanders",
         "58"
        ],
        [
         "21",
         "King3400",
         "DEM",
         "Hillary Clinton",
         "34"
        ],
        [
         "22",
         "King3400",
         "DEM",
         "Registered Voters",
         "574"
        ],
        [
         "23",
         "King3400",
         "DEM",
         "Write-In",
         "0"
        ],
        [
         "24",
         "King3400",
         "REP",
         "Ben Carson",
         "4"
        ],
        [
         "25",
         "King3400",
         "REP",
         "Donald J. Trump",
         "45"
        ],
        [
         "26",
         "King3400",
         "REP",
         "John R. Kasich",
         "9"
        ],
        [
         "27",
         "King3400",
         "REP",
         "Registered Voters",
         "574"
        ],
        [
         "28",
         "King3400",
         "REP",
         "Ted Cruz",
         "13"
        ],
        [
         "29",
         "King3400",
         "REP",
         "Write-In",
         "1"
        ],
        [
         "30",
         "King10",
         "DEM",
         "Bernie Sanders",
         "22"
        ],
        [
         "31",
         "King10",
         "DEM",
         "Hillary Clinton",
         "52"
        ],
        [
         "32",
         "King10",
         "DEM",
         "Registered Voters",
         "444"
        ],
        [
         "33",
         "King10",
         "DEM",
         "Write-In",
         "0"
        ],
        [
         "34",
         "King10",
         "REP",
         "Ben Carson",
         "2"
        ],
        [
         "35",
         "King10",
         "REP",
         "Donald J. Trump",
         "34"
        ],
        [
         "36",
         "King10",
         "REP",
         "John R. Kasich",
         "11"
        ],
        [
         "37",
         "King10",
         "REP",
         "Registered Voters",
         "444"
        ],
        [
         "38",
         "King10",
         "REP",
         "Ted Cruz",
         "6"
        ],
        [
         "39",
         "King10",
         "REP",
         "Write-In",
         "1"
        ],
        [
         "40",
         "King13",
         "DEM",
         "Bernie Sanders",
         "32"
        ],
        [
         "41",
         "King13",
         "DEM",
         "Hillary Clinton",
         "30"
        ],
        [
         "42",
         "King13",
         "DEM",
         "Registered Voters",
         "472"
        ],
        [
         "43",
         "King13",
         "DEM",
         "Write-In",
         "0"
        ],
        [
         "44",
         "King13",
         "REP",
         "Ben Carson",
         "2"
        ],
        [
         "45",
         "King13",
         "REP",
         "Donald J. Trump",
         "39"
        ],
        [
         "46",
         "King13",
         "REP",
         "John R. Kasich",
         "1"
        ],
        [
         "47",
         "King13",
         "REP",
         "Registered Voters",
         "472"
        ],
        [
         "48",
         "King13",
         "REP",
         "Ted Cruz",
         "2"
        ],
        [
         "49",
         "King13",
         "REP",
         "Write-In",
         "0"
        ]
       ],
       "shape": {
        "columns": 4,
        "rows": 52758
       }
      },
      "text/html": [
       "<div>\n",
       "<style scoped>\n",
       "    .dataframe tbody tr th:only-of-type {\n",
       "        vertical-align: middle;\n",
       "    }\n",
       "\n",
       "    .dataframe tbody tr th {\n",
       "        vertical-align: top;\n",
       "    }\n",
       "\n",
       "    .dataframe thead th {\n",
       "        text-align: right;\n",
       "    }\n",
       "</style>\n",
       "<table border=\"1\" class=\"dataframe\">\n",
       "  <thead>\n",
       "    <tr style=\"text-align: right;\">\n",
       "      <th></th>\n",
       "      <th>precinct</th>\n",
       "      <th>party</th>\n",
       "      <th>candidate</th>\n",
       "      <th>votes</th>\n",
       "    </tr>\n",
       "  </thead>\n",
       "  <tbody>\n",
       "    <tr>\n",
       "      <th>0</th>\n",
       "      <td>King3562</td>\n",
       "      <td>DEM</td>\n",
       "      <td>Bernie Sanders</td>\n",
       "      <td>24</td>\n",
       "    </tr>\n",
       "    <tr>\n",
       "      <th>1</th>\n",
       "      <td>King3562</td>\n",
       "      <td>DEM</td>\n",
       "      <td>Hillary Clinton</td>\n",
       "      <td>117</td>\n",
       "    </tr>\n",
       "    <tr>\n",
       "      <th>2</th>\n",
       "      <td>King3562</td>\n",
       "      <td>DEM</td>\n",
       "      <td>Registered Voters</td>\n",
       "      <td>503</td>\n",
       "    </tr>\n",
       "    <tr>\n",
       "      <th>3</th>\n",
       "      <td>King3562</td>\n",
       "      <td>DEM</td>\n",
       "      <td>Write-In</td>\n",
       "      <td>0</td>\n",
       "    </tr>\n",
       "    <tr>\n",
       "      <th>4</th>\n",
       "      <td>King3562</td>\n",
       "      <td>REP</td>\n",
       "      <td>Ben Carson</td>\n",
       "      <td>1</td>\n",
       "    </tr>\n",
       "    <tr>\n",
       "      <th>...</th>\n",
       "      <td>...</td>\n",
       "      <td>...</td>\n",
       "      <td>...</td>\n",
       "      <td>...</td>\n",
       "    </tr>\n",
       "    <tr>\n",
       "      <th>52753</th>\n",
       "      <td>Yakima5101</td>\n",
       "      <td>REP</td>\n",
       "      <td>Donald J. Trump</td>\n",
       "      <td>72</td>\n",
       "    </tr>\n",
       "    <tr>\n",
       "      <th>52754</th>\n",
       "      <td>Yakima5202</td>\n",
       "      <td>REP</td>\n",
       "      <td>Ben Carson</td>\n",
       "      <td>0</td>\n",
       "    </tr>\n",
       "    <tr>\n",
       "      <th>52755</th>\n",
       "      <td>Yakima5202</td>\n",
       "      <td>REP</td>\n",
       "      <td>Ted Cruz</td>\n",
       "      <td>0</td>\n",
       "    </tr>\n",
       "    <tr>\n",
       "      <th>52756</th>\n",
       "      <td>Yakima5202</td>\n",
       "      <td>REP</td>\n",
       "      <td>John R. Kasich</td>\n",
       "      <td>0</td>\n",
       "    </tr>\n",
       "    <tr>\n",
       "      <th>52757</th>\n",
       "      <td>Yakima5202</td>\n",
       "      <td>REP</td>\n",
       "      <td>Donald J. Trump</td>\n",
       "      <td>0</td>\n",
       "    </tr>\n",
       "  </tbody>\n",
       "</table>\n",
       "<p>52758 rows × 4 columns</p>\n",
       "</div>"
      ],
      "text/plain": [
       "         precinct party          candidate  votes\n",
       "0        King3562   DEM     Bernie Sanders     24\n",
       "1        King3562   DEM    Hillary Clinton    117\n",
       "2        King3562   DEM  Registered Voters    503\n",
       "3        King3562   DEM           Write-In      0\n",
       "4        King3562   REP         Ben Carson      1\n",
       "...           ...   ...                ...    ...\n",
       "52753  Yakima5101   REP    Donald J. Trump     72\n",
       "52754  Yakima5202   REP         Ben Carson      0\n",
       "52755  Yakima5202   REP           Ted Cruz      0\n",
       "52756  Yakima5202   REP     John R. Kasich      0\n",
       "52757  Yakima5202   REP    Donald J. Trump      0\n",
       "\n",
       "[52758 rows x 4 columns]"
      ]
     },
     "execution_count": 30,
     "metadata": {},
     "output_type": "execute_result"
    }
   ],
   "source": [
    "# Select only the relevant columns\n",
    "primary_data = pri_combined_df[[\"precinct\", \"party\", \"candidate\", \"votes\"]]\n",
    "primary_data.loc[:, \"party\"] = primary_data[\"party\"].replace({\n",
    "    \"President Republican Party\": \"REP\",\n",
    "    \"President Democratic Party\": \"DEM\",\n",
    "    \"Democratic Party\": \"DEM\",\n",
    "    \"Republican Party\": \"REP\"\n",
    "})\n",
    "primary_data = primary_data[primary_data[\"party\"].isin([\"DEM\", \"REP\"])] # Analyzing only republican and democratic\n",
    "\n",
    "primary_data"
   ]
  },
  {
   "cell_type": "code",
   "execution_count": 32,
   "id": "759be944",
   "metadata": {},
   "outputs": [
    {
     "data": {
      "application/vnd.microsoft.datawrangler.viewer.v0+json": {
       "columns": [
        {
         "name": "party",
         "rawType": "object",
         "type": "string"
        },
        {
         "name": "count",
         "rawType": "int64",
         "type": "integer"
        }
       ],
       "ref": "9b58650a-2edd-467a-ac53-e4a8bb36f1bd",
       "rows": [
        [
         "REP",
         "33494"
        ],
        [
         "DEM",
         "19264"
        ]
       ],
       "shape": {
        "columns": 1,
        "rows": 2
       }
      },
      "text/plain": [
       "party\n",
       "REP    33494\n",
       "DEM    19264\n",
       "Name: count, dtype: int64"
      ]
     },
     "execution_count": 32,
     "metadata": {},
     "output_type": "execute_result"
    }
   ],
   "source": [
    "primary_data[\"party\"].value_counts(dropna=False)"
   ]
  },
  {
   "cell_type": "code",
   "execution_count": 33,
   "id": "5eef8778",
   "metadata": {},
   "outputs": [
    {
     "data": {
      "application/vnd.microsoft.datawrangler.viewer.v0+json": {
       "columns": [
        {
         "name": "candidate",
         "rawType": "object",
         "type": "string"
        },
        {
         "name": "count",
         "rawType": "int64",
         "type": "integer"
        }
       ],
       "ref": "5f3f92ab-49ab-4d3c-9be6-924da758a3bb",
       "rows": [
        [
         "Bernie Sanders",
         "7115"
        ],
        [
         "Hillary Clinton",
         "7115"
        ],
        [
         "Ben Carson",
         "7115"
        ],
        [
         "Donald J. Trump",
         "7115"
        ],
        [
         "John R. Kasich",
         "7115"
        ],
        [
         "Ted Cruz",
         "7115"
        ]
       ],
       "shape": {
        "columns": 1,
        "rows": 6
       }
      },
      "text/plain": [
       "candidate\n",
       "Bernie Sanders     7115\n",
       "Hillary Clinton    7115\n",
       "Ben Carson         7115\n",
       "Donald J. Trump    7115\n",
       "John R. Kasich     7115\n",
       "Ted Cruz           7115\n",
       "Name: count, dtype: int64"
      ]
     },
     "execution_count": 33,
     "metadata": {},
     "output_type": "execute_result"
    }
   ],
   "source": [
    "#Remove Write-in and Registered Voters\n",
    "primary_data = primary_data[~primary_data[\"candidate\"].isin([\"Registered Voters\", \"Write-In\"])] \n",
    "primary_data[\"candidate\"].value_counts(dropna=False)"
   ]
  },
  {
   "cell_type": "code",
   "execution_count": 34,
   "id": "3d2dcc9d",
   "metadata": {},
   "outputs": [
    {
     "name": "stdout",
     "output_type": "stream",
     "text": [
      "{'Bernie Sanders': 'DEM', 'Hillary Clinton': 'DEM', 'Ben Carson': 'REP', 'Donald J. Trump': 'REP', 'John R. Kasich': 'REP', 'Ted Cruz': 'REP'}\n"
     ]
    }
   ],
   "source": [
    "primary_data[\"candidate\"].unique()\n",
    "candidate_party_map = (\n",
    "    primary_data.dropna(subset=[\"candidate\", \"party\"])\n",
    "                .set_index(\"candidate\")[\"party\"]\n",
    "                .to_dict()\n",
    ")\n",
    "print(candidate_party_map)"
   ]
  },
  {
   "cell_type": "code",
   "execution_count": 46,
   "id": "a359cd18",
   "metadata": {},
   "outputs": [
    {
     "data": {
      "application/vnd.microsoft.datawrangler.viewer.v0+json": {
       "columns": [
        {
         "name": "index",
         "rawType": "int64",
         "type": "integer"
        },
        {
         "name": "precinct",
         "rawType": "object",
         "type": "string"
        },
        {
         "name": "pri_dem_CLINTON",
         "rawType": "int64",
         "type": "integer"
        },
        {
         "name": "pri_dem_SANDERS",
         "rawType": "int64",
         "type": "integer"
        },
        {
         "name": "pri_rep_CARSON",
         "rawType": "int64",
         "type": "integer"
        },
        {
         "name": "pri_rep_CRUZ",
         "rawType": "int64",
         "type": "integer"
        },
        {
         "name": "pri_rep_KASICH",
         "rawType": "int64",
         "type": "integer"
        },
        {
         "name": "pri_rep_TRUMP",
         "rawType": "int64",
         "type": "integer"
        }
       ],
       "ref": "406543ec-2963-4e9a-9c20-0ec7a85a745b",
       "rows": [
        [
         "0",
         "Adams111",
         "11",
         "6",
         "2",
         "6",
         "2",
         "45"
        ],
        [
         "1",
         "Adams112",
         "14",
         "10",
         "2",
         "6",
         "1",
         "41"
        ],
        [
         "2",
         "Adams113",
         "17",
         "11",
         "8",
         "8",
         "2",
         "59"
        ],
        [
         "3",
         "Adams114",
         "16",
         "19",
         "1",
         "10",
         "13",
         "44"
        ],
        [
         "4",
         "Adams115",
         "18",
         "11",
         "4",
         "5",
         "11",
         "53"
        ],
        [
         "5",
         "Adams121",
         "5",
         "11",
         "8",
         "3",
         "6",
         "76"
        ],
        [
         "6",
         "Adams122",
         "9",
         "7",
         "3",
         "11",
         "6",
         "55"
        ],
        [
         "7",
         "Adams123",
         "2",
         "6",
         "5",
         "4",
         "0",
         "34"
        ],
        [
         "8",
         "Adams211",
         "3",
         "2",
         "0",
         "3",
         "0",
         "14"
        ],
        [
         "9",
         "Adams212",
         "6",
         "9",
         "0",
         "4",
         "4",
         "51"
        ],
        [
         "10",
         "Adams221",
         "0",
         "0",
         "2",
         "2",
         "5",
         "27"
        ],
        [
         "11",
         "Adams222",
         "0",
         "0",
         "3",
         "3",
         "1",
         "15"
        ],
        [
         "12",
         "Adams311",
         "17",
         "20",
         "0",
         "0",
         "0",
         "0"
        ],
        [
         "13",
         "Adams313",
         "0",
         "0",
         "0",
         "0",
         "0",
         "0"
        ],
        [
         "14",
         "Adams321",
         "3",
         "4",
         "2",
         "4",
         "1",
         "32"
        ],
        [
         "15",
         "Adams322",
         "2",
         "2",
         "0",
         "0",
         "0",
         "0"
        ],
        [
         "16",
         "Adams323",
         "0",
         "0",
         "2",
         "4",
         "0",
         "17"
        ],
        [
         "17",
         "Adams324",
         "0",
         "0",
         "0",
         "1",
         "2",
         "12"
        ],
        [
         "18",
         "Adams325",
         "0",
         "0",
         "0",
         "0",
         "0",
         "0"
        ],
        [
         "19",
         "Adams411",
         "0",
         "0",
         "0",
         "0",
         "0",
         "0"
        ],
        [
         "20",
         "Adams412",
         "28",
         "37",
         "10",
         "11",
         "2",
         "55"
        ],
        [
         "21",
         "Adams413",
         "51",
         "19",
         "1",
         "9",
         "4",
         "46"
        ],
        [
         "22",
         "Adams414",
         "26",
         "21",
         "3",
         "16",
         "7",
         "53"
        ],
        [
         "23",
         "Adams415",
         "21",
         "21",
         "4",
         "21",
         "4",
         "60"
        ],
        [
         "24",
         "Adams416",
         "28",
         "17",
         "3",
         "3",
         "2",
         "29"
        ],
        [
         "25",
         "Adams511",
         "26",
         "15",
         "0",
         "2",
         "1",
         "16"
        ],
        [
         "26",
         "Adams512",
         "17",
         "12",
         "2",
         "8",
         "2",
         "49"
        ],
        [
         "27",
         "Adams513",
         "29",
         "23",
         "4",
         "13",
         "1",
         "83"
        ],
        [
         "28",
         "Adams514",
         "17",
         "9",
         "1",
         "18",
         "4",
         "60"
        ],
        [
         "29",
         "Adams515",
         "11",
         "12",
         "1",
         "13",
         "1",
         "48"
        ],
        [
         "30",
         "Adams516",
         "5",
         "10",
         "4",
         "5",
         "5",
         "88"
        ],
        [
         "31",
         "Asotin1",
         "7",
         "18",
         "4",
         "13",
         "2",
         "71"
        ],
        [
         "32",
         "Asotin101",
         "41",
         "29",
         "6",
         "7",
         "0",
         "73"
        ],
        [
         "33",
         "Asotin102",
         "24",
         "28",
         "3",
         "2",
         "8",
         "73"
        ],
        [
         "34",
         "Asotin201",
         "31",
         "40",
         "8",
         "4",
         "3",
         "58"
        ],
        [
         "35",
         "Asotin202",
         "47",
         "58",
         "6",
         "16",
         "12",
         "67"
        ],
        [
         "36",
         "Asotin203",
         "46",
         "39",
         "3",
         "12",
         "11",
         "55"
        ],
        [
         "37",
         "Asotin204",
         "38",
         "40",
         "8",
         "5",
         "2",
         "94"
        ],
        [
         "38",
         "Asotin205",
         "36",
         "30",
         "2",
         "10",
         "8",
         "47"
        ],
        [
         "39",
         "Asotin206",
         "45",
         "43",
         "8",
         "14",
         "7",
         "82"
        ],
        [
         "40",
         "Asotin207",
         "41",
         "27",
         "4",
         "7",
         "3",
         "55"
        ],
        [
         "41",
         "Asotin208",
         "47",
         "39",
         "3",
         "6",
         "6",
         "70"
        ],
        [
         "42",
         "Asotin3",
         "17",
         "14",
         "3",
         "7",
         "9",
         "84"
        ],
        [
         "43",
         "Asotin301",
         "40",
         "36",
         "5",
         "8",
         "15",
         "128"
        ],
        [
         "44",
         "Asotin302",
         "70",
         "52",
         "9",
         "19",
         "15",
         "196"
        ],
        [
         "45",
         "Asotin303",
         "21",
         "8",
         "1",
         "6",
         "1",
         "43"
        ],
        [
         "46",
         "Asotin304",
         "53",
         "33",
         "5",
         "15",
         "9",
         "87"
        ],
        [
         "47",
         "Asotin305",
         "60",
         "65",
         "17",
         "23",
         "7",
         "215"
        ],
        [
         "48",
         "Asotin306",
         "86",
         "55",
         "18",
         "11",
         "16",
         "171"
        ],
        [
         "49",
         "Asotin307",
         "58",
         "47",
         "13",
         "18",
         "6",
         "126"
        ]
       ],
       "shape": {
        "columns": 7,
        "rows": 7115
       }
      },
      "text/html": [
       "<div>\n",
       "<style scoped>\n",
       "    .dataframe tbody tr th:only-of-type {\n",
       "        vertical-align: middle;\n",
       "    }\n",
       "\n",
       "    .dataframe tbody tr th {\n",
       "        vertical-align: top;\n",
       "    }\n",
       "\n",
       "    .dataframe thead th {\n",
       "        text-align: right;\n",
       "    }\n",
       "</style>\n",
       "<table border=\"1\" class=\"dataframe\">\n",
       "  <thead>\n",
       "    <tr style=\"text-align: right;\">\n",
       "      <th>candidate_column</th>\n",
       "      <th>precinct</th>\n",
       "      <th>pri_dem_CLINTON</th>\n",
       "      <th>pri_dem_SANDERS</th>\n",
       "      <th>pri_rep_CARSON</th>\n",
       "      <th>pri_rep_CRUZ</th>\n",
       "      <th>pri_rep_KASICH</th>\n",
       "      <th>pri_rep_TRUMP</th>\n",
       "    </tr>\n",
       "  </thead>\n",
       "  <tbody>\n",
       "    <tr>\n",
       "      <th>0</th>\n",
       "      <td>Adams111</td>\n",
       "      <td>11</td>\n",
       "      <td>6</td>\n",
       "      <td>2</td>\n",
       "      <td>6</td>\n",
       "      <td>2</td>\n",
       "      <td>45</td>\n",
       "    </tr>\n",
       "    <tr>\n",
       "      <th>1</th>\n",
       "      <td>Adams112</td>\n",
       "      <td>14</td>\n",
       "      <td>10</td>\n",
       "      <td>2</td>\n",
       "      <td>6</td>\n",
       "      <td>1</td>\n",
       "      <td>41</td>\n",
       "    </tr>\n",
       "    <tr>\n",
       "      <th>2</th>\n",
       "      <td>Adams113</td>\n",
       "      <td>17</td>\n",
       "      <td>11</td>\n",
       "      <td>8</td>\n",
       "      <td>8</td>\n",
       "      <td>2</td>\n",
       "      <td>59</td>\n",
       "    </tr>\n",
       "    <tr>\n",
       "      <th>3</th>\n",
       "      <td>Adams114</td>\n",
       "      <td>16</td>\n",
       "      <td>19</td>\n",
       "      <td>1</td>\n",
       "      <td>10</td>\n",
       "      <td>13</td>\n",
       "      <td>44</td>\n",
       "    </tr>\n",
       "    <tr>\n",
       "      <th>4</th>\n",
       "      <td>Adams115</td>\n",
       "      <td>18</td>\n",
       "      <td>11</td>\n",
       "      <td>4</td>\n",
       "      <td>5</td>\n",
       "      <td>11</td>\n",
       "      <td>53</td>\n",
       "    </tr>\n",
       "    <tr>\n",
       "      <th>...</th>\n",
       "      <td>...</td>\n",
       "      <td>...</td>\n",
       "      <td>...</td>\n",
       "      <td>...</td>\n",
       "      <td>...</td>\n",
       "      <td>...</td>\n",
       "      <td>...</td>\n",
       "    </tr>\n",
       "    <tr>\n",
       "      <th>7110</th>\n",
       "      <td>Yakima5020</td>\n",
       "      <td>26</td>\n",
       "      <td>11</td>\n",
       "      <td>6</td>\n",
       "      <td>15</td>\n",
       "      <td>12</td>\n",
       "      <td>100</td>\n",
       "    </tr>\n",
       "    <tr>\n",
       "      <th>7111</th>\n",
       "      <td>Yakima5101</td>\n",
       "      <td>19</td>\n",
       "      <td>26</td>\n",
       "      <td>0</td>\n",
       "      <td>6</td>\n",
       "      <td>5</td>\n",
       "      <td>72</td>\n",
       "    </tr>\n",
       "    <tr>\n",
       "      <th>7112</th>\n",
       "      <td>Yakima5202</td>\n",
       "      <td>0</td>\n",
       "      <td>0</td>\n",
       "      <td>0</td>\n",
       "      <td>0</td>\n",
       "      <td>0</td>\n",
       "      <td>0</td>\n",
       "    </tr>\n",
       "    <tr>\n",
       "      <th>7113</th>\n",
       "      <td>Yakima701</td>\n",
       "      <td>26</td>\n",
       "      <td>25</td>\n",
       "      <td>10</td>\n",
       "      <td>3</td>\n",
       "      <td>2</td>\n",
       "      <td>22</td>\n",
       "    </tr>\n",
       "    <tr>\n",
       "      <th>7114</th>\n",
       "      <td>Yakima901</td>\n",
       "      <td>70</td>\n",
       "      <td>33</td>\n",
       "      <td>0</td>\n",
       "      <td>0</td>\n",
       "      <td>0</td>\n",
       "      <td>0</td>\n",
       "    </tr>\n",
       "  </tbody>\n",
       "</table>\n",
       "<p>7115 rows × 7 columns</p>\n",
       "</div>"
      ],
      "text/plain": [
       "candidate_column    precinct  pri_dem_CLINTON  pri_dem_SANDERS  \\\n",
       "0                   Adams111               11                6   \n",
       "1                   Adams112               14               10   \n",
       "2                   Adams113               17               11   \n",
       "3                   Adams114               16               19   \n",
       "4                   Adams115               18               11   \n",
       "...                      ...              ...              ...   \n",
       "7110              Yakima5020               26               11   \n",
       "7111              Yakima5101               19               26   \n",
       "7112              Yakima5202                0                0   \n",
       "7113               Yakima701               26               25   \n",
       "7114               Yakima901               70               33   \n",
       "\n",
       "candidate_column  pri_rep_CARSON  pri_rep_CRUZ  pri_rep_KASICH  pri_rep_TRUMP  \n",
       "0                              2             6               2             45  \n",
       "1                              2             6               1             41  \n",
       "2                              8             8               2             59  \n",
       "3                              1            10              13             44  \n",
       "4                              4             5              11             53  \n",
       "...                          ...           ...             ...            ...  \n",
       "7110                           6            15              12            100  \n",
       "7111                           0             6               5             72  \n",
       "7112                           0             0               0              0  \n",
       "7113                          10             3               2             22  \n",
       "7114                           0             0               0              0  \n",
       "\n",
       "[7115 rows x 7 columns]"
      ]
     },
     "execution_count": 46,
     "metadata": {},
     "output_type": "execute_result"
    }
   ],
   "source": [
    "primary_data.loc[:,\"candidate_column\"] = (\n",
    "    \"pri_\" +\n",
    "    primary_data[\"party\"].str.lower() + \"_\" +\n",
    "    primary_data[\"candidate\"].str.split().str[-1].str.upper()\n",
    ")\n",
    "\n",
    "# pivot the table\n",
    "primary_result = primary_data.pivot_table(\n",
    "    index=\"precinct\",\n",
    "    columns=\"candidate_column\",\n",
    "    values=\"votes\",\n",
    "    aggfunc=\"sum\",  \n",
    "    fill_value=0\n",
    ").reset_index()\n",
    "\n",
    "primary_result"
   ]
  },
  {
   "cell_type": "code",
   "execution_count": 62,
   "id": "f1ef9692",
   "metadata": {},
   "outputs": [
    {
     "name": "stderr",
     "output_type": "stream",
     "text": [
      "C:\\Users\\ADMIN\\AppData\\Local\\Temp\\ipykernel_24240\\1650111261.py:6: DtypeWarning: Columns (5) have mixed types. Specify dtype option on import or set low_memory=False.\n",
      "  df = pd.read_csv(file)\n"
     ]
    },
    {
     "data": {
      "application/vnd.microsoft.datawrangler.viewer.v0+json": {
       "columns": [
        {
         "name": "index",
         "rawType": "int64",
         "type": "integer"
        },
        {
         "name": "county",
         "rawType": "object",
         "type": "string"
        },
        {
         "name": "precinct_code",
         "rawType": "int64",
         "type": "integer"
        },
        {
         "name": "precinct",
         "rawType": "object",
         "type": "string"
        },
        {
         "name": "office",
         "rawType": "object",
         "type": "string"
        },
        {
         "name": "district",
         "rawType": "float64",
         "type": "float"
        },
        {
         "name": "party",
         "rawType": "object",
         "type": "unknown"
        },
        {
         "name": "candidate",
         "rawType": "object",
         "type": "string"
        },
        {
         "name": "votes",
         "rawType": "int64",
         "type": "integer"
        }
       ],
       "ref": "7f02b0e3-c59d-4c1b-8ea1-6bf291735a5d",
       "rows": [
        [
         "0",
         "King",
         "3562",
         "King3562",
         "President",
         null,
         "Constitution",
         "Darrell L. Castle & Scott N. Bradley",
         "0"
        ],
        [
         "1",
         "King",
         "3562",
         "King3562",
         "President",
         null,
         "Democratic",
         "Hillary Clinton & Tim Kaine",
         "266"
        ],
        [
         "2",
         "King",
         "3562",
         "King3562",
         "President",
         null,
         "Green",
         "Jill Stein & Ajamu Baraka",
         "1"
        ],
        [
         "3",
         "King",
         "3562",
         "King3562",
         "President",
         null,
         "Libertarian",
         "Gary Johnson & Bill Weld",
         "14"
        ],
        [
         "4",
         "King",
         "3562",
         "King3562",
         "President",
         null,
         null,
         "Registered Voters",
         "519"
        ],
        [
         "5",
         "King",
         "3562",
         "King3562",
         "President",
         null,
         null,
         "Write-In",
         "7"
        ],
        [
         "6",
         "King",
         "3562",
         "King3562",
         "President",
         null,
         "Republican",
         "Donald J. Trump & Michael R. Pence",
         "185"
        ],
        [
         "7",
         "King",
         "3562",
         "King3562",
         "President",
         null,
         "Socialism & Liberation",
         "Gloria Estela La Riva & Eugene Puryear",
         "0"
        ],
        [
         "8",
         "King",
         "3562",
         "King3562",
         "President",
         null,
         "Socialist Workers",
         "Alyson Kennedy & Osborne Hart",
         "0"
        ],
        [
         "9",
         "King",
         "2381",
         "King2381",
         "President",
         null,
         "Constitution",
         "Darrell L. Castle & Scott N. Bradley",
         "2"
        ],
        [
         "10",
         "King",
         "2381",
         "King2381",
         "President",
         null,
         "Democratic",
         "Hillary Clinton & Tim Kaine",
         "334"
        ],
        [
         "11",
         "King",
         "2381",
         "King2381",
         "President",
         null,
         "Green",
         "Jill Stein & Ajamu Baraka",
         "8"
        ],
        [
         "12",
         "King",
         "2381",
         "King2381",
         "President",
         null,
         "Libertarian",
         "Gary Johnson & Bill Weld",
         "33"
        ],
        [
         "13",
         "King",
         "2381",
         "King2381",
         "President",
         null,
         null,
         "Registered Voters",
         "763"
        ],
        [
         "14",
         "King",
         "2381",
         "King2381",
         "President",
         null,
         null,
         "Write-In",
         "20"
        ],
        [
         "15",
         "King",
         "2381",
         "King2381",
         "President",
         null,
         "Republican",
         "Donald J. Trump & Michael R. Pence",
         "215"
        ],
        [
         "16",
         "King",
         "2381",
         "King2381",
         "President",
         null,
         "Socialism & Liberation",
         "Gloria Estela La Riva & Eugene Puryear",
         "0"
        ],
        [
         "17",
         "King",
         "2381",
         "King2381",
         "President",
         null,
         "Socialist Workers",
         "Alyson Kennedy & Osborne Hart",
         "0"
        ],
        [
         "18",
         "King",
         "3400",
         "King3400",
         "President",
         null,
         "Constitution",
         "Darrell L. Castle & Scott N. Bradley",
         "3"
        ],
        [
         "19",
         "King",
         "3400",
         "King3400",
         "President",
         null,
         "Democratic",
         "Hillary Clinton & Tim Kaine",
         "235"
        ],
        [
         "20",
         "King",
         "3400",
         "King3400",
         "President",
         null,
         "Green",
         "Jill Stein & Ajamu Baraka",
         "11"
        ],
        [
         "21",
         "King",
         "3400",
         "King3400",
         "President",
         null,
         "Libertarian",
         "Gary Johnson & Bill Weld",
         "33"
        ],
        [
         "22",
         "King",
         "3400",
         "King3400",
         "President",
         null,
         null,
         "Registered Voters",
         "557"
        ],
        [
         "23",
         "King",
         "3400",
         "King3400",
         "President",
         null,
         null,
         "Write-In",
         "15"
        ],
        [
         "24",
         "King",
         "3400",
         "King3400",
         "President",
         null,
         "Republican",
         "Donald J. Trump & Michael R. Pence",
         "166"
        ],
        [
         "25",
         "King",
         "3400",
         "King3400",
         "President",
         null,
         "Socialism & Liberation",
         "Gloria Estela La Riva & Eugene Puryear",
         "1"
        ],
        [
         "26",
         "King",
         "3400",
         "King3400",
         "President",
         null,
         "Socialist Workers",
         "Alyson Kennedy & Osborne Hart",
         "1"
        ],
        [
         "27",
         "King",
         "10",
         "King10",
         "President",
         null,
         "Constitution",
         "Darrell L. Castle & Scott N. Bradley",
         "0"
        ],
        [
         "28",
         "King",
         "10",
         "King10",
         "President",
         null,
         "Democratic",
         "Hillary Clinton & Tim Kaine",
         "243"
        ],
        [
         "29",
         "King",
         "10",
         "King10",
         "President",
         null,
         "Green",
         "Jill Stein & Ajamu Baraka",
         "2"
        ],
        [
         "30",
         "King",
         "10",
         "King10",
         "President",
         null,
         "Libertarian",
         "Gary Johnson & Bill Weld",
         "21"
        ],
        [
         "31",
         "King",
         "10",
         "King10",
         "President",
         null,
         null,
         "Registered Voters",
         "472"
        ],
        [
         "32",
         "King",
         "10",
         "King10",
         "President",
         null,
         null,
         "Write-In",
         "15"
        ],
        [
         "33",
         "King",
         "10",
         "King10",
         "President",
         null,
         "Republican",
         "Donald J. Trump & Michael R. Pence",
         "117"
        ],
        [
         "34",
         "King",
         "10",
         "King10",
         "President",
         null,
         "Socialism & Liberation",
         "Gloria Estela La Riva & Eugene Puryear",
         "0"
        ],
        [
         "35",
         "King",
         "10",
         "King10",
         "President",
         null,
         "Socialist Workers",
         "Alyson Kennedy & Osborne Hart",
         "0"
        ],
        [
         "36",
         "King",
         "13",
         "King13",
         "President",
         null,
         "Constitution",
         "Darrell L. Castle & Scott N. Bradley",
         "0"
        ],
        [
         "37",
         "King",
         "13",
         "King13",
         "President",
         null,
         "Democratic",
         "Hillary Clinton & Tim Kaine",
         "149"
        ],
        [
         "38",
         "King",
         "13",
         "King13",
         "President",
         null,
         "Green",
         "Jill Stein & Ajamu Baraka",
         "9"
        ],
        [
         "39",
         "King",
         "13",
         "King13",
         "President",
         null,
         "Libertarian",
         "Gary Johnson & Bill Weld",
         "24"
        ],
        [
         "40",
         "King",
         "13",
         "King13",
         "President",
         null,
         null,
         "Registered Voters",
         "497"
        ],
        [
         "41",
         "King",
         "13",
         "King13",
         "President",
         null,
         null,
         "Write-In",
         "10"
        ],
        [
         "42",
         "King",
         "13",
         "King13",
         "President",
         null,
         "Republican",
         "Donald J. Trump & Michael R. Pence",
         "120"
        ],
        [
         "43",
         "King",
         "13",
         "King13",
         "President",
         null,
         "Socialism & Liberation",
         "Gloria Estela La Riva & Eugene Puryear",
         "1"
        ],
        [
         "44",
         "King",
         "13",
         "King13",
         "President",
         null,
         "Socialist Workers",
         "Alyson Kennedy & Osborne Hart",
         "4"
        ],
        [
         "45",
         "King",
         "14",
         "King14",
         "President",
         null,
         "Constitution",
         "Darrell L. Castle & Scott N. Bradley",
         "3"
        ],
        [
         "46",
         "King",
         "14",
         "King14",
         "President",
         null,
         "Democratic",
         "Hillary Clinton & Tim Kaine",
         "182"
        ],
        [
         "47",
         "King",
         "14",
         "King14",
         "President",
         null,
         "Green",
         "Jill Stein & Ajamu Baraka",
         "6"
        ],
        [
         "48",
         "King",
         "14",
         "King14",
         "President",
         null,
         "Libertarian",
         "Gary Johnson & Bill Weld",
         "17"
        ],
        [
         "49",
         "King",
         "14",
         "King14",
         "President",
         null,
         null,
         "Registered Voters",
         "525"
        ]
       ],
       "shape": {
        "columns": 8,
        "rows": 54916
       }
      },
      "text/html": [
       "<div>\n",
       "<style scoped>\n",
       "    .dataframe tbody tr th:only-of-type {\n",
       "        vertical-align: middle;\n",
       "    }\n",
       "\n",
       "    .dataframe tbody tr th {\n",
       "        vertical-align: top;\n",
       "    }\n",
       "\n",
       "    .dataframe thead th {\n",
       "        text-align: right;\n",
       "    }\n",
       "</style>\n",
       "<table border=\"1\" class=\"dataframe\">\n",
       "  <thead>\n",
       "    <tr style=\"text-align: right;\">\n",
       "      <th></th>\n",
       "      <th>county</th>\n",
       "      <th>precinct_code</th>\n",
       "      <th>precinct</th>\n",
       "      <th>office</th>\n",
       "      <th>district</th>\n",
       "      <th>party</th>\n",
       "      <th>candidate</th>\n",
       "      <th>votes</th>\n",
       "    </tr>\n",
       "  </thead>\n",
       "  <tbody>\n",
       "    <tr>\n",
       "      <th>0</th>\n",
       "      <td>King</td>\n",
       "      <td>3562</td>\n",
       "      <td>King3562</td>\n",
       "      <td>President</td>\n",
       "      <td>NaN</td>\n",
       "      <td>Constitution</td>\n",
       "      <td>Darrell L. Castle &amp; Scott N. Bradley</td>\n",
       "      <td>0</td>\n",
       "    </tr>\n",
       "    <tr>\n",
       "      <th>1</th>\n",
       "      <td>King</td>\n",
       "      <td>3562</td>\n",
       "      <td>King3562</td>\n",
       "      <td>President</td>\n",
       "      <td>NaN</td>\n",
       "      <td>Democratic</td>\n",
       "      <td>Hillary Clinton &amp; Tim Kaine</td>\n",
       "      <td>266</td>\n",
       "    </tr>\n",
       "    <tr>\n",
       "      <th>2</th>\n",
       "      <td>King</td>\n",
       "      <td>3562</td>\n",
       "      <td>King3562</td>\n",
       "      <td>President</td>\n",
       "      <td>NaN</td>\n",
       "      <td>Green</td>\n",
       "      <td>Jill Stein &amp; Ajamu Baraka</td>\n",
       "      <td>1</td>\n",
       "    </tr>\n",
       "    <tr>\n",
       "      <th>3</th>\n",
       "      <td>King</td>\n",
       "      <td>3562</td>\n",
       "      <td>King3562</td>\n",
       "      <td>President</td>\n",
       "      <td>NaN</td>\n",
       "      <td>Libertarian</td>\n",
       "      <td>Gary Johnson &amp; Bill Weld</td>\n",
       "      <td>14</td>\n",
       "    </tr>\n",
       "    <tr>\n",
       "      <th>4</th>\n",
       "      <td>King</td>\n",
       "      <td>3562</td>\n",
       "      <td>King3562</td>\n",
       "      <td>President</td>\n",
       "      <td>NaN</td>\n",
       "      <td>NaN</td>\n",
       "      <td>Registered Voters</td>\n",
       "      <td>519</td>\n",
       "    </tr>\n",
       "    <tr>\n",
       "      <th>...</th>\n",
       "      <td>...</td>\n",
       "      <td>...</td>\n",
       "      <td>...</td>\n",
       "      <td>...</td>\n",
       "      <td>...</td>\n",
       "      <td>...</td>\n",
       "      <td>...</td>\n",
       "      <td>...</td>\n",
       "    </tr>\n",
       "    <tr>\n",
       "      <th>54911</th>\n",
       "      <td>Yakima</td>\n",
       "      <td>5202</td>\n",
       "      <td>Yakima5202</td>\n",
       "      <td>President</td>\n",
       "      <td>NaN</td>\n",
       "      <td>Socialist Workers</td>\n",
       "      <td>Alyson Kennedy / Osborne Hart</td>\n",
       "      <td>0</td>\n",
       "    </tr>\n",
       "    <tr>\n",
       "      <th>54912</th>\n",
       "      <td>Yakima</td>\n",
       "      <td>5202</td>\n",
       "      <td>Yakima5202</td>\n",
       "      <td>President</td>\n",
       "      <td>NaN</td>\n",
       "      <td>Socialism &amp; Liberation</td>\n",
       "      <td>Gloria Estela La Riva / Eugene Puryear</td>\n",
       "      <td>0</td>\n",
       "    </tr>\n",
       "    <tr>\n",
       "      <th>54913</th>\n",
       "      <td>Yakima</td>\n",
       "      <td>5202</td>\n",
       "      <td>Yakima5202</td>\n",
       "      <td>President</td>\n",
       "      <td>NaN</td>\n",
       "      <td>Green</td>\n",
       "      <td>Jill Stein / Ajamu Baraka</td>\n",
       "      <td>0</td>\n",
       "    </tr>\n",
       "    <tr>\n",
       "      <th>54914</th>\n",
       "      <td>Yakima</td>\n",
       "      <td>5202</td>\n",
       "      <td>Yakima5202</td>\n",
       "      <td>President</td>\n",
       "      <td>NaN</td>\n",
       "      <td>Constitution</td>\n",
       "      <td>Darrell L. Castle / Scott N. Bradley</td>\n",
       "      <td>0</td>\n",
       "    </tr>\n",
       "    <tr>\n",
       "      <th>54915</th>\n",
       "      <td>Yakima</td>\n",
       "      <td>5202</td>\n",
       "      <td>Yakima5202</td>\n",
       "      <td>President</td>\n",
       "      <td>NaN</td>\n",
       "      <td>Libertarian</td>\n",
       "      <td>Gary Johnson / Bill Weld</td>\n",
       "      <td>0</td>\n",
       "    </tr>\n",
       "  </tbody>\n",
       "</table>\n",
       "<p>54916 rows × 8 columns</p>\n",
       "</div>"
      ],
      "text/plain": [
       "       county  precinct_code    precinct     office  district  \\\n",
       "0        King           3562    King3562  President       NaN   \n",
       "1        King           3562    King3562  President       NaN   \n",
       "2        King           3562    King3562  President       NaN   \n",
       "3        King           3562    King3562  President       NaN   \n",
       "4        King           3562    King3562  President       NaN   \n",
       "...       ...            ...         ...        ...       ...   \n",
       "54911  Yakima           5202  Yakima5202  President       NaN   \n",
       "54912  Yakima           5202  Yakima5202  President       NaN   \n",
       "54913  Yakima           5202  Yakima5202  President       NaN   \n",
       "54914  Yakima           5202  Yakima5202  President       NaN   \n",
       "54915  Yakima           5202  Yakima5202  President       NaN   \n",
       "\n",
       "                        party                               candidate  votes  \n",
       "0                Constitution    Darrell L. Castle & Scott N. Bradley      0  \n",
       "1                  Democratic             Hillary Clinton & Tim Kaine    266  \n",
       "2                       Green               Jill Stein & Ajamu Baraka      1  \n",
       "3                 Libertarian                Gary Johnson & Bill Weld     14  \n",
       "4                         NaN                       Registered Voters    519  \n",
       "...                       ...                                     ...    ...  \n",
       "54911       Socialist Workers           Alyson Kennedy / Osborne Hart      0  \n",
       "54912  Socialism & Liberation  Gloria Estela La Riva / Eugene Puryear      0  \n",
       "54913                   Green               Jill Stein / Ajamu Baraka      0  \n",
       "54914            Constitution    Darrell L. Castle / Scott N. Bradley      0  \n",
       "54915             Libertarian                Gary Johnson / Bill Weld      0  \n",
       "\n",
       "[54916 rows x 8 columns]"
      ]
     },
     "execution_count": 62,
     "metadata": {},
     "output_type": "execute_result"
    }
   ],
   "source": [
    "# Process general files\n",
    "gen_df_list = []\n",
    "\n",
    "for file in general_files:\n",
    "    try:\n",
    "        df = pd.read_csv(file)\n",
    "\n",
    "        # Select only president\n",
    "        if 'office' in df.columns:\n",
    "            df = df[df[\"office\"] == \"President\" ]\n",
    "\n",
    "        gen_df_list.append(df)\n",
    "\n",
    "    except Exception as e:\n",
    "        print(f\"Error in {file}: {e}\")\n",
    "\n",
    "# Combine all cleaned files\n",
    "gen_combined_df = pd.concat(gen_df_list, ignore_index=True)\n",
    "# Create a new column \"precinct\" by combining county and precinct\n",
    "gen_combined_df[\"precinct\"] = gen_combined_df[\"county\"].astype(str) + gen_combined_df[\"precinct_code\"].astype(str)\n",
    "gen_combined_df\n"
   ]
  },
  {
   "cell_type": "code",
   "execution_count": null,
   "id": "1bbbd54d",
   "metadata": {},
   "outputs": [
    {
     "data": {
      "application/vnd.microsoft.datawrangler.viewer.v0+json": {
       "columns": [
        {
         "name": "party",
         "rawType": "object",
         "type": "unknown"
        },
        {
         "name": "count",
         "rawType": "int64",
         "type": "integer"
        }
       ],
       "ref": "9a473b5e-6f6c-4fa2-afc4-c050b5f3a213",
       "rows": [
        [
         "Constitution",
         "7126"
        ],
        [
         "Democratic",
         "7126"
        ],
        [
         "Green",
         "7126"
        ],
        [
         "Libertarian",
         "7126"
        ],
        [
         "Republican",
         "7126"
        ],
        [
         "Socialism & Liberation",
         "7126"
        ],
        [
         "Socialist Workers",
         "7126"
        ],
        [
         null,
         "5034"
        ]
       ],
       "shape": {
        "columns": 1,
        "rows": 8
       }
      },
      "text/plain": [
       "party\n",
       "Constitution              7126\n",
       "Democratic                7126\n",
       "Green                     7126\n",
       "Libertarian               7126\n",
       "Republican                7126\n",
       "Socialism & Liberation    7126\n",
       "Socialist Workers         7126\n",
       "NaN                       5034\n",
       "Name: count, dtype: int64"
      ]
     },
     "execution_count": 63,
     "metadata": {},
     "output_type": "execute_result"
    }
   ],
   "source": [
    "general_data = gen_combined_df[[\"precinct\", \"party\", \"candidate\", \"votes\"]]\n",
    "general_data[\"party\"].value_counts(dropna=False)\n"
   ]
  },
  {
   "cell_type": "code",
   "execution_count": 64,
   "id": "a22405a6",
   "metadata": {},
   "outputs": [
    {
     "data": {
      "application/vnd.microsoft.datawrangler.viewer.v0+json": {
       "columns": [
        {
         "name": "candidate",
         "rawType": "object",
         "type": "string"
        },
        {
         "name": "count",
         "rawType": "int64",
         "type": "integer"
        }
       ],
       "ref": "3afc9c8b-783f-4461-a118-c36ebb337087",
       "rows": [
        [
         "Hillary Clinton / Tim Kaine",
         "4609"
        ],
        [
         "Donald J. Trump / Michael R. Pence",
         "4609"
        ],
        [
         "Alyson Kennedy / Osborne Hart",
         "4609"
        ],
        [
         "Gloria Estela La Riva / Eugene Puryear",
         "4609"
        ],
        [
         "Jill Stein / Ajamu Baraka",
         "4609"
        ],
        [
         "Darrell L. Castle / Scott N. Bradley",
         "4609"
        ],
        [
         "Gary Johnson / Bill Weld",
         "4609"
        ],
        [
         "Darrell L. Castle & Scott N. Bradley",
         "2517"
        ],
        [
         "Hillary Clinton & Tim Kaine",
         "2517"
        ],
        [
         "Jill Stein & Ajamu Baraka",
         "2517"
        ],
        [
         "Gary Johnson & Bill Weld",
         "2517"
        ],
        [
         "Registered Voters",
         "2517"
        ],
        [
         "Write-In",
         "2517"
        ],
        [
         "Donald J. Trump & Michael R. Pence",
         "2517"
        ],
        [
         "Gloria Estela La Riva & Eugene Puryear",
         "2517"
        ],
        [
         "Alyson Kennedy & Osborne Hart",
         "2517"
        ]
       ],
       "shape": {
        "columns": 1,
        "rows": 16
       }
      },
      "text/plain": [
       "candidate\n",
       "Hillary Clinton / Tim Kaine               4609\n",
       "Donald J. Trump / Michael R. Pence        4609\n",
       "Alyson Kennedy / Osborne Hart             4609\n",
       "Gloria Estela La Riva / Eugene Puryear    4609\n",
       "Jill Stein / Ajamu Baraka                 4609\n",
       "Darrell L. Castle / Scott N. Bradley      4609\n",
       "Gary Johnson / Bill Weld                  4609\n",
       "Darrell L. Castle & Scott N. Bradley      2517\n",
       "Hillary Clinton & Tim Kaine               2517\n",
       "Jill Stein & Ajamu Baraka                 2517\n",
       "Gary Johnson & Bill Weld                  2517\n",
       "Registered Voters                         2517\n",
       "Write-In                                  2517\n",
       "Donald J. Trump & Michael R. Pence        2517\n",
       "Gloria Estela La Riva & Eugene Puryear    2517\n",
       "Alyson Kennedy & Osborne Hart             2517\n",
       "Name: count, dtype: int64"
      ]
     },
     "execution_count": 64,
     "metadata": {},
     "output_type": "execute_result"
    }
   ],
   "source": [
    "general_data[\"candidate\"].value_counts(dropna=False)"
   ]
  },
  {
   "cell_type": "code",
   "execution_count": 79,
   "id": "8bb5d275",
   "metadata": {},
   "outputs": [
    {
     "name": "stderr",
     "output_type": "stream",
     "text": [
      "C:\\Users\\ADMIN\\AppData\\Local\\Temp\\ipykernel_24240\\1105235521.py:1: SettingWithCopyWarning: \n",
      "A value is trying to be set on a copy of a slice from a DataFrame.\n",
      "Try using .loc[row_indexer,col_indexer] = value instead\n",
      "\n",
      "See the caveats in the documentation: https://pandas.pydata.org/pandas-docs/stable/user_guide/indexing.html#returning-a-view-versus-a-copy\n",
      "  general_data[\"candidate\"] = general_data[\"candidate\"].str.extract(r\"^([^/&]+)\").iloc[:, 0].str.strip()\n"
     ]
    },
    {
     "data": {
      "application/vnd.microsoft.datawrangler.viewer.v0+json": {
       "columns": [
        {
         "name": "candidate",
         "rawType": "object",
         "type": "string"
        },
        {
         "name": "count",
         "rawType": "int64",
         "type": "integer"
        }
       ],
       "ref": "743deb3d-1995-4df9-a6ab-10f074dc7ef5",
       "rows": [
        [
         "Darrell L. Castle",
         "7126"
        ],
        [
         "Hillary Clinton",
         "7126"
        ],
        [
         "Jill Stein",
         "7126"
        ],
        [
         "Gary Johnson",
         "7126"
        ],
        [
         "Donald J. Trump",
         "7126"
        ],
        [
         "Gloria Estela La Riva",
         "7126"
        ],
        [
         "Alyson Kennedy",
         "7126"
        ]
       ],
       "shape": {
        "columns": 1,
        "rows": 7
       }
      },
      "text/plain": [
       "candidate\n",
       "Darrell L. Castle        7126\n",
       "Hillary Clinton          7126\n",
       "Jill Stein               7126\n",
       "Gary Johnson             7126\n",
       "Donald J. Trump          7126\n",
       "Gloria Estela La Riva    7126\n",
       "Alyson Kennedy           7126\n",
       "Name: count, dtype: int64"
      ]
     },
     "execution_count": 79,
     "metadata": {},
     "output_type": "execute_result"
    }
   ],
   "source": [
    "general_data[\"candidate\"] = general_data[\"candidate\"].str.extract(r\"^([^/&]+)\").iloc[:, 0].str.strip()\n",
    "general_data = general_data[~general_data[\"candidate\"].isin([\"Registered Voters\", \"Write-In\"])] \n",
    "general_data[\"candidate\"].value_counts(dropna=False)"
   ]
  },
  {
   "cell_type": "code",
   "execution_count": 80,
   "id": "42495558",
   "metadata": {},
   "outputs": [
    {
     "data": {
      "application/vnd.microsoft.datawrangler.viewer.v0+json": {
       "columns": [
        {
         "name": "index",
         "rawType": "int64",
         "type": "integer"
        },
        {
         "name": "precinct",
         "rawType": "object",
         "type": "string"
        },
        {
         "name": "party",
         "rawType": "object",
         "type": "string"
        },
        {
         "name": "candidate",
         "rawType": "object",
         "type": "string"
        },
        {
         "name": "votes",
         "rawType": "int64",
         "type": "integer"
        },
        {
         "name": "candidate_column",
         "rawType": "object",
         "type": "unknown"
        }
       ],
       "ref": "51bbea8f-d38f-4c37-a0e3-031ff8c5e33c",
       "rows": [
        [
         "0",
         "King3562",
         "Constitution",
         "Darrell L. Castle",
         "0",
         "gen_dem_SANDERS"
        ],
        [
         "1",
         "King3562",
         "Democratic",
         "Hillary Clinton",
         "266",
         "gen_dem_CLINTON"
        ],
        [
         "2",
         "King3562",
         "Green",
         "Jill Stein",
         "1",
         null
        ],
        [
         "3",
         "King3562",
         "Libertarian",
         "Gary Johnson",
         "14",
         null
        ],
        [
         "6",
         "King3562",
         "Republican",
         "Donald J. Trump",
         "185",
         "gen_rep_KASICH"
        ],
        [
         "7",
         "King3562",
         "Socialism & Liberation",
         "Gloria Estela La Riva",
         "0",
         null
        ],
        [
         "8",
         "King3562",
         "Socialist Workers",
         "Alyson Kennedy",
         "0",
         "gen_rep_CRUZ"
        ],
        [
         "9",
         "King2381",
         "Constitution",
         "Darrell L. Castle",
         "2",
         null
        ],
        [
         "10",
         "King2381",
         "Democratic",
         "Hillary Clinton",
         "334",
         "gen_dem_SANDERS"
        ],
        [
         "11",
         "King2381",
         "Green",
         "Jill Stein",
         "8",
         "gen_dem_CLINTON"
        ],
        [
         "12",
         "King2381",
         "Libertarian",
         "Gary Johnson",
         "33",
         null
        ],
        [
         "15",
         "King2381",
         "Republican",
         "Donald J. Trump",
         "215",
         "gen_rep_TRUMP"
        ],
        [
         "16",
         "King2381",
         "Socialism & Liberation",
         "Gloria Estela La Riva",
         "0",
         "gen_rep_KASICH"
        ],
        [
         "17",
         "King2381",
         "Socialist Workers",
         "Alyson Kennedy",
         "0",
         null
        ],
        [
         "18",
         "King3400",
         "Constitution",
         "Darrell L. Castle",
         "3",
         "gen_rep_CRUZ"
        ],
        [
         "19",
         "King3400",
         "Democratic",
         "Hillary Clinton",
         "235",
         null
        ],
        [
         "20",
         "King3400",
         "Green",
         "Jill Stein",
         "11",
         "gen_dem_SANDERS"
        ],
        [
         "21",
         "King3400",
         "Libertarian",
         "Gary Johnson",
         "33",
         "gen_dem_CLINTON"
        ],
        [
         "24",
         "King3400",
         "Republican",
         "Donald J. Trump",
         "166",
         "gen_rep_CARSON"
        ],
        [
         "25",
         "King3400",
         "Socialism & Liberation",
         "Gloria Estela La Riva",
         "1",
         "gen_rep_TRUMP"
        ],
        [
         "26",
         "King3400",
         "Socialist Workers",
         "Alyson Kennedy",
         "1",
         "gen_rep_KASICH"
        ],
        [
         "27",
         "King10",
         "Constitution",
         "Darrell L. Castle",
         "0",
         null
        ],
        [
         "28",
         "King10",
         "Democratic",
         "Hillary Clinton",
         "243",
         "gen_rep_CRUZ"
        ],
        [
         "29",
         "King10",
         "Green",
         "Jill Stein",
         "2",
         null
        ],
        [
         "30",
         "King10",
         "Libertarian",
         "Gary Johnson",
         "21",
         "gen_dem_SANDERS"
        ],
        [
         "33",
         "King10",
         "Republican",
         "Donald J. Trump",
         "117",
         null
        ],
        [
         "34",
         "King10",
         "Socialism & Liberation",
         "Gloria Estela La Riva",
         "0",
         "gen_rep_CARSON"
        ],
        [
         "35",
         "King10",
         "Socialist Workers",
         "Alyson Kennedy",
         "0",
         "gen_rep_TRUMP"
        ],
        [
         "36",
         "King13",
         "Constitution",
         "Darrell L. Castle",
         "0",
         "gen_rep_KASICH"
        ],
        [
         "37",
         "King13",
         "Democratic",
         "Hillary Clinton",
         "149",
         null
        ],
        [
         "38",
         "King13",
         "Green",
         "Jill Stein",
         "9",
         "gen_rep_CRUZ"
        ],
        [
         "39",
         "King13",
         "Libertarian",
         "Gary Johnson",
         "24",
         null
        ],
        [
         "42",
         "King13",
         "Republican",
         "Donald J. Trump",
         "120",
         null
        ],
        [
         "43",
         "King13",
         "Socialism & Liberation",
         "Gloria Estela La Riva",
         "1",
         null
        ],
        [
         "44",
         "King13",
         "Socialist Workers",
         "Alyson Kennedy",
         "4",
         "gen_rep_CARSON"
        ],
        [
         "45",
         "King14",
         "Constitution",
         "Darrell L. Castle",
         "3",
         "gen_rep_TRUMP"
        ],
        [
         "46",
         "King14",
         "Democratic",
         "Hillary Clinton",
         "182",
         "gen_rep_KASICH"
        ],
        [
         "47",
         "King14",
         "Green",
         "Jill Stein",
         "6",
         null
        ],
        [
         "48",
         "King14",
         "Libertarian",
         "Gary Johnson",
         "17",
         "gen_rep_CRUZ"
        ],
        [
         "51",
         "King14",
         "Republican",
         "Donald J. Trump",
         "138",
         "gen_dem_CLINTON"
        ],
        [
         "52",
         "King14",
         "Socialism & Liberation",
         "Gloria Estela La Riva",
         "2",
         null
        ],
        [
         "53",
         "King14",
         "Socialist Workers",
         "Alyson Kennedy",
         "0",
         null
        ],
        [
         "54",
         "King3141",
         "Constitution",
         "Darrell L. Castle",
         "3",
         "gen_rep_CARSON"
        ],
        [
         "55",
         "King3141",
         "Democratic",
         "Hillary Clinton",
         "159",
         "gen_rep_TRUMP"
        ],
        [
         "56",
         "King3141",
         "Green",
         "Jill Stein",
         "4",
         "gen_rep_KASICH"
        ],
        [
         "57",
         "King3141",
         "Libertarian",
         "Gary Johnson",
         "19",
         null
        ],
        [
         "60",
         "King3141",
         "Republican",
         "Donald J. Trump",
         "164",
         "gen_dem_SANDERS"
        ],
        [
         "61",
         "King3141",
         "Socialism & Liberation",
         "Gloria Estela La Riva",
         "2",
         "gen_dem_CLINTON"
        ],
        [
         "62",
         "King3141",
         "Socialist Workers",
         "Alyson Kennedy",
         "1",
         null
        ],
        [
         "63",
         "King2383",
         "Constitution",
         "Darrell L. Castle",
         "1",
         null
        ]
       ],
       "shape": {
        "columns": 5,
        "rows": 49882
       }
      },
      "text/html": [
       "<div>\n",
       "<style scoped>\n",
       "    .dataframe tbody tr th:only-of-type {\n",
       "        vertical-align: middle;\n",
       "    }\n",
       "\n",
       "    .dataframe tbody tr th {\n",
       "        vertical-align: top;\n",
       "    }\n",
       "\n",
       "    .dataframe thead th {\n",
       "        text-align: right;\n",
       "    }\n",
       "</style>\n",
       "<table border=\"1\" class=\"dataframe\">\n",
       "  <thead>\n",
       "    <tr style=\"text-align: right;\">\n",
       "      <th></th>\n",
       "      <th>precinct</th>\n",
       "      <th>party</th>\n",
       "      <th>candidate</th>\n",
       "      <th>votes</th>\n",
       "      <th>candidate_column</th>\n",
       "    </tr>\n",
       "  </thead>\n",
       "  <tbody>\n",
       "    <tr>\n",
       "      <th>0</th>\n",
       "      <td>King3562</td>\n",
       "      <td>Constitution</td>\n",
       "      <td>Darrell L. Castle</td>\n",
       "      <td>0</td>\n",
       "      <td>gen_dem_SANDERS</td>\n",
       "    </tr>\n",
       "    <tr>\n",
       "      <th>1</th>\n",
       "      <td>King3562</td>\n",
       "      <td>Democratic</td>\n",
       "      <td>Hillary Clinton</td>\n",
       "      <td>266</td>\n",
       "      <td>gen_dem_CLINTON</td>\n",
       "    </tr>\n",
       "    <tr>\n",
       "      <th>2</th>\n",
       "      <td>King3562</td>\n",
       "      <td>Green</td>\n",
       "      <td>Jill Stein</td>\n",
       "      <td>1</td>\n",
       "      <td>NaN</td>\n",
       "    </tr>\n",
       "    <tr>\n",
       "      <th>3</th>\n",
       "      <td>King3562</td>\n",
       "      <td>Libertarian</td>\n",
       "      <td>Gary Johnson</td>\n",
       "      <td>14</td>\n",
       "      <td>NaN</td>\n",
       "    </tr>\n",
       "    <tr>\n",
       "      <th>6</th>\n",
       "      <td>King3562</td>\n",
       "      <td>Republican</td>\n",
       "      <td>Donald J. Trump</td>\n",
       "      <td>185</td>\n",
       "      <td>gen_rep_KASICH</td>\n",
       "    </tr>\n",
       "    <tr>\n",
       "      <th>...</th>\n",
       "      <td>...</td>\n",
       "      <td>...</td>\n",
       "      <td>...</td>\n",
       "      <td>...</td>\n",
       "      <td>...</td>\n",
       "    </tr>\n",
       "    <tr>\n",
       "      <th>54911</th>\n",
       "      <td>Yakima5202</td>\n",
       "      <td>Socialist Workers</td>\n",
       "      <td>Alyson Kennedy</td>\n",
       "      <td>0</td>\n",
       "      <td>NaN</td>\n",
       "    </tr>\n",
       "    <tr>\n",
       "      <th>54912</th>\n",
       "      <td>Yakima5202</td>\n",
       "      <td>Socialism &amp; Liberation</td>\n",
       "      <td>Gloria Estela La Riva</td>\n",
       "      <td>0</td>\n",
       "      <td>NaN</td>\n",
       "    </tr>\n",
       "    <tr>\n",
       "      <th>54913</th>\n",
       "      <td>Yakima5202</td>\n",
       "      <td>Green</td>\n",
       "      <td>Jill Stein</td>\n",
       "      <td>0</td>\n",
       "      <td>NaN</td>\n",
       "    </tr>\n",
       "    <tr>\n",
       "      <th>54914</th>\n",
       "      <td>Yakima5202</td>\n",
       "      <td>Constitution</td>\n",
       "      <td>Darrell L. Castle</td>\n",
       "      <td>0</td>\n",
       "      <td>NaN</td>\n",
       "    </tr>\n",
       "    <tr>\n",
       "      <th>54915</th>\n",
       "      <td>Yakima5202</td>\n",
       "      <td>Libertarian</td>\n",
       "      <td>Gary Johnson</td>\n",
       "      <td>0</td>\n",
       "      <td>NaN</td>\n",
       "    </tr>\n",
       "  </tbody>\n",
       "</table>\n",
       "<p>49882 rows × 5 columns</p>\n",
       "</div>"
      ],
      "text/plain": [
       "         precinct                   party              candidate  votes  \\\n",
       "0        King3562            Constitution      Darrell L. Castle      0   \n",
       "1        King3562              Democratic        Hillary Clinton    266   \n",
       "2        King3562                   Green             Jill Stein      1   \n",
       "3        King3562             Libertarian           Gary Johnson     14   \n",
       "6        King3562              Republican        Donald J. Trump    185   \n",
       "...           ...                     ...                    ...    ...   \n",
       "54911  Yakima5202       Socialist Workers         Alyson Kennedy      0   \n",
       "54912  Yakima5202  Socialism & Liberation  Gloria Estela La Riva      0   \n",
       "54913  Yakima5202                   Green             Jill Stein      0   \n",
       "54914  Yakima5202            Constitution      Darrell L. Castle      0   \n",
       "54915  Yakima5202             Libertarian           Gary Johnson      0   \n",
       "\n",
       "      candidate_column  \n",
       "0      gen_dem_SANDERS  \n",
       "1      gen_dem_CLINTON  \n",
       "2                  NaN  \n",
       "3                  NaN  \n",
       "6       gen_rep_KASICH  \n",
       "...                ...  \n",
       "54911              NaN  \n",
       "54912              NaN  \n",
       "54913              NaN  \n",
       "54914              NaN  \n",
       "54915              NaN  \n",
       "\n",
       "[49882 rows x 5 columns]"
      ]
     },
     "execution_count": 80,
     "metadata": {},
     "output_type": "execute_result"
    }
   ],
   "source": [
    "# general_data = general_data[~general_data[\"candidate\"].isin([\"YES\", \"NO\"])]\n",
    "# general_data[\"party\"] = general_data.apply(\n",
    "#     lambda row: candidate_party_map.get(row[\"candidate\"], row[\"party\"]) if pd.isna(row[\"party\"]) else row[\"party\"],\n",
    "#     axis=1\n",
    "# )\n",
    "# general_data = general_data[general_data[\"party\"].isin([\"DEM\", \"REP\"])] # Analyzing only republican and democratic\n",
    "general_data"
   ]
  },
  {
   "cell_type": "code",
   "execution_count": 81,
   "id": "daaed088",
   "metadata": {},
   "outputs": [
    {
     "name": "stderr",
     "output_type": "stream",
     "text": [
      "C:\\Users\\ADMIN\\AppData\\Local\\Temp\\ipykernel_24240\\2095249041.py:1: SettingWithCopyWarning: \n",
      "A value is trying to be set on a copy of a slice from a DataFrame.\n",
      "Try using .loc[row_indexer,col_indexer] = value instead\n",
      "\n",
      "See the caveats in the documentation: https://pandas.pydata.org/pandas-docs/stable/user_guide/indexing.html#returning-a-view-versus-a-copy\n",
      "  general_data[\"candidate_column\"] = (\n"
     ]
    },
    {
     "data": {
      "application/vnd.microsoft.datawrangler.viewer.v0+json": {
       "columns": [
        {
         "name": "index",
         "rawType": "int64",
         "type": "integer"
        },
        {
         "name": "precinct",
         "rawType": "object",
         "type": "string"
        },
        {
         "name": "gen_dem_CLINTON",
         "rawType": "int64",
         "type": "integer"
        },
        {
         "name": "gen_dem_SANDERS",
         "rawType": "int64",
         "type": "integer"
        },
        {
         "name": "gen_rep_CARSON",
         "rawType": "int64",
         "type": "integer"
        },
        {
         "name": "gen_rep_CRUZ",
         "rawType": "int64",
         "type": "integer"
        },
        {
         "name": "gen_rep_KASICH",
         "rawType": "int64",
         "type": "integer"
        },
        {
         "name": "gen_rep_TRUMP",
         "rawType": "int64",
         "type": "integer"
        }
       ],
       "ref": "caa7e9c6-bf65-4372-9651-b731a31334f1",
       "rows": [
        [
         "0",
         "Adams111",
         "0",
         "0",
         "109",
         "2",
         "0",
         "0"
        ],
        [
         "1",
         "Adams112",
         "96",
         "26",
         "0",
         "0",
         "1",
         "3"
        ],
        [
         "2",
         "Adams113",
         "1",
         "0",
         "0",
         "117",
         "0",
         "0"
        ],
        [
         "3",
         "Adams114",
         "0",
         "8",
         "54",
         "1",
         "1",
         "113"
        ],
        [
         "4",
         "Adams115",
         "48",
         "0",
         "0",
         "0",
         "1",
         "1"
        ],
        [
         "5",
         "Adams121",
         "0",
         "1",
         "7",
         "19",
         "0",
         "0"
        ],
        [
         "6",
         "Adams122",
         "5",
         "0",
         "0",
         "0",
         "137",
         "16"
        ],
        [
         "7",
         "Adams123",
         "0",
         "0",
         "0",
         "2",
         "2",
         "0"
        ],
        [
         "8",
         "Adams211",
         "0",
         "29",
         "0",
         "0",
         "0",
         "0"
        ],
        [
         "9",
         "Adams212",
         "4",
         "2",
         "0",
         "0",
         "14",
         "0"
        ],
        [
         "10",
         "Adams221",
         "0",
         "0",
         "63",
         "0",
         "0",
         "0"
        ],
        [
         "11",
         "Adams222",
         "34",
         "4",
         "0",
         "0",
         "2",
         "0"
        ],
        [
         "12",
         "Adams311",
         "0",
         "0",
         "0",
         "176",
         "0",
         "0"
        ],
        [
         "13",
         "Adams313",
         "0",
         "1",
         "2",
         "0",
         "0",
         "25"
        ],
        [
         "14",
         "Adams321",
         "15",
         "0",
         "0",
         "0",
         "1",
         "0"
        ],
        [
         "15",
         "Adams322",
         "0",
         "0",
         "1",
         "5",
         "0",
         "0"
        ],
        [
         "16",
         "Adams323",
         "2",
         "0",
         "0",
         "0",
         "43",
         "6"
        ],
        [
         "17",
         "Adams324",
         "0",
         "0",
         "0",
         "2",
         "0",
         "0"
        ],
        [
         "18",
         "Adams325",
         "1",
         "8",
         "0",
         "0",
         "0",
         "0"
        ],
        [
         "19",
         "Adams411",
         "0",
         "1",
         "0",
         "0",
         "21",
         "0"
        ],
        [
         "20",
         "Adams412",
         "0",
         "0",
         "124",
         "4",
         "1",
         "0"
        ],
        [
         "21",
         "Adams413",
         "121",
         "140",
         "1",
         "0",
         "14",
         "1"
        ],
        [
         "22",
         "Adams414",
         "1",
         "0",
         "0",
         "163",
         "0",
         "0"
        ],
        [
         "23",
         "Adams415",
         "0",
         "13",
         "89",
         "2",
         "0",
         "132"
        ],
        [
         "24",
         "Adams416",
         "99",
         "0",
         "2",
         "0",
         "0",
         "3"
        ],
        [
         "25",
         "Adams511",
         "0",
         "1",
         "6",
         "67",
         "0",
         "0"
        ],
        [
         "26",
         "Adams512",
         "2",
         "0",
         "0",
         "0",
         "116",
         "59"
        ],
        [
         "27",
         "Adams513",
         "0",
         "0",
         "1",
         "9",
         "1",
         "0"
        ],
        [
         "28",
         "Adams514",
         "1",
         "170",
         "2",
         "0",
         "0",
         "3"
        ],
        [
         "29",
         "Adams515",
         "2",
         "0",
         "0",
         "1",
         "43",
         "0"
        ],
        [
         "30",
         "Adams516",
         "0",
         "0",
         "208",
         "1",
         "0",
         "0"
        ],
        [
         "31",
         "Asotin1",
         "153",
         "32",
         "0",
         "0",
         "15",
         "3"
        ],
        [
         "32",
         "Asotin101",
         "1",
         "0",
         "11",
         "91",
         "0",
         "0"
        ],
        [
         "33",
         "Asotin102",
         "17",
         "3",
         "0",
         "0",
         "185",
         "73"
        ],
        [
         "34",
         "Asotin201",
         "0",
         "0",
         "0",
         "21",
         "3",
         "0"
        ],
        [
         "35",
         "Asotin202",
         "1",
         "179",
         "2",
         "0",
         "0",
         "28"
        ],
        [
         "36",
         "Asotin203",
         "5",
         "6",
         "0",
         "0",
         "136",
         "0"
        ],
        [
         "37",
         "Asotin204",
         "0",
         "0",
         "208",
         "7",
         "0",
         "0"
        ],
        [
         "38",
         "Asotin205",
         "130",
         "102",
         "4",
         "0",
         "13",
         "0"
        ],
        [
         "39",
         "Asotin206",
         "5",
         "0",
         "0",
         "177",
         "0",
         "0"
        ],
        [
         "40",
         "Asotin207",
         "0",
         "23",
         "103",
         "9",
         "0",
         "126"
        ],
        [
         "41",
         "Asotin208",
         "118",
         "0",
         "0",
         "0",
         "5",
         "8"
        ],
        [
         "42",
         "Asotin3",
         "0",
         "0",
         "0",
         "163",
         "0",
         "0"
        ],
        [
         "43",
         "Asotin301",
         "0",
         "0",
         "22",
         "132",
         "0",
         "0"
        ],
        [
         "44",
         "Asotin302",
         "45",
         "6",
         "0",
         "1",
         "415",
         "189"
        ],
        [
         "45",
         "Asotin303",
         "0",
         "0",
         "0",
         "8",
         "1",
         "0"
        ],
        [
         "46",
         "Asotin304",
         "1",
         "212",
         "2",
         "0",
         "0",
         "25"
        ],
        [
         "47",
         "Asotin305",
         "11",
         "7",
         "0",
         "1",
         "181",
         "0"
        ],
        [
         "48",
         "Asotin306",
         "0",
         "0",
         "365",
         "7",
         "0",
         "2"
        ],
        [
         "49",
         "Asotin307",
         "278",
         "137",
         "5",
         "0",
         "46",
         "1"
        ]
       ],
       "shape": {
        "columns": 7,
        "rows": 6818
       }
      },
      "text/html": [
       "<div>\n",
       "<style scoped>\n",
       "    .dataframe tbody tr th:only-of-type {\n",
       "        vertical-align: middle;\n",
       "    }\n",
       "\n",
       "    .dataframe tbody tr th {\n",
       "        vertical-align: top;\n",
       "    }\n",
       "\n",
       "    .dataframe thead th {\n",
       "        text-align: right;\n",
       "    }\n",
       "</style>\n",
       "<table border=\"1\" class=\"dataframe\">\n",
       "  <thead>\n",
       "    <tr style=\"text-align: right;\">\n",
       "      <th>candidate_column</th>\n",
       "      <th>precinct</th>\n",
       "      <th>gen_dem_CLINTON</th>\n",
       "      <th>gen_dem_SANDERS</th>\n",
       "      <th>gen_rep_CARSON</th>\n",
       "      <th>gen_rep_CRUZ</th>\n",
       "      <th>gen_rep_KASICH</th>\n",
       "      <th>gen_rep_TRUMP</th>\n",
       "    </tr>\n",
       "  </thead>\n",
       "  <tbody>\n",
       "    <tr>\n",
       "      <th>0</th>\n",
       "      <td>Adams111</td>\n",
       "      <td>0</td>\n",
       "      <td>0</td>\n",
       "      <td>109</td>\n",
       "      <td>2</td>\n",
       "      <td>0</td>\n",
       "      <td>0</td>\n",
       "    </tr>\n",
       "    <tr>\n",
       "      <th>1</th>\n",
       "      <td>Adams112</td>\n",
       "      <td>96</td>\n",
       "      <td>26</td>\n",
       "      <td>0</td>\n",
       "      <td>0</td>\n",
       "      <td>1</td>\n",
       "      <td>3</td>\n",
       "    </tr>\n",
       "    <tr>\n",
       "      <th>2</th>\n",
       "      <td>Adams113</td>\n",
       "      <td>1</td>\n",
       "      <td>0</td>\n",
       "      <td>0</td>\n",
       "      <td>117</td>\n",
       "      <td>0</td>\n",
       "      <td>0</td>\n",
       "    </tr>\n",
       "    <tr>\n",
       "      <th>3</th>\n",
       "      <td>Adams114</td>\n",
       "      <td>0</td>\n",
       "      <td>8</td>\n",
       "      <td>54</td>\n",
       "      <td>1</td>\n",
       "      <td>1</td>\n",
       "      <td>113</td>\n",
       "    </tr>\n",
       "    <tr>\n",
       "      <th>4</th>\n",
       "      <td>Adams115</td>\n",
       "      <td>48</td>\n",
       "      <td>0</td>\n",
       "      <td>0</td>\n",
       "      <td>0</td>\n",
       "      <td>1</td>\n",
       "      <td>1</td>\n",
       "    </tr>\n",
       "    <tr>\n",
       "      <th>...</th>\n",
       "      <td>...</td>\n",
       "      <td>...</td>\n",
       "      <td>...</td>\n",
       "      <td>...</td>\n",
       "      <td>...</td>\n",
       "      <td>...</td>\n",
       "      <td>...</td>\n",
       "    </tr>\n",
       "    <tr>\n",
       "      <th>6813</th>\n",
       "      <td>Whatcom233</td>\n",
       "      <td>0</td>\n",
       "      <td>0</td>\n",
       "      <td>157</td>\n",
       "      <td>40</td>\n",
       "      <td>1</td>\n",
       "      <td>486</td>\n",
       "    </tr>\n",
       "    <tr>\n",
       "      <th>6814</th>\n",
       "      <td>Whatcom234</td>\n",
       "      <td>0</td>\n",
       "      <td>0</td>\n",
       "      <td>35</td>\n",
       "      <td>0</td>\n",
       "      <td>468</td>\n",
       "      <td>197</td>\n",
       "    </tr>\n",
       "    <tr>\n",
       "      <th>6815</th>\n",
       "      <td>Whatcom235</td>\n",
       "      <td>0</td>\n",
       "      <td>0</td>\n",
       "      <td>1</td>\n",
       "      <td>265</td>\n",
       "      <td>114</td>\n",
       "      <td>22</td>\n",
       "    </tr>\n",
       "    <tr>\n",
       "      <th>6816</th>\n",
       "      <td>Whatcom236</td>\n",
       "      <td>0</td>\n",
       "      <td>0</td>\n",
       "      <td>198</td>\n",
       "      <td>91</td>\n",
       "      <td>14</td>\n",
       "      <td>0</td>\n",
       "    </tr>\n",
       "    <tr>\n",
       "      <th>6817</th>\n",
       "      <td>Whatcom237</td>\n",
       "      <td>0</td>\n",
       "      <td>0</td>\n",
       "      <td>119</td>\n",
       "      <td>1</td>\n",
       "      <td>1</td>\n",
       "      <td>316</td>\n",
       "    </tr>\n",
       "  </tbody>\n",
       "</table>\n",
       "<p>6818 rows × 7 columns</p>\n",
       "</div>"
      ],
      "text/plain": [
       "candidate_column    precinct  gen_dem_CLINTON  gen_dem_SANDERS  \\\n",
       "0                   Adams111                0                0   \n",
       "1                   Adams112               96               26   \n",
       "2                   Adams113                1                0   \n",
       "3                   Adams114                0                8   \n",
       "4                   Adams115               48                0   \n",
       "...                      ...              ...              ...   \n",
       "6813              Whatcom233                0                0   \n",
       "6814              Whatcom234                0                0   \n",
       "6815              Whatcom235                0                0   \n",
       "6816              Whatcom236                0                0   \n",
       "6817              Whatcom237                0                0   \n",
       "\n",
       "candidate_column  gen_rep_CARSON  gen_rep_CRUZ  gen_rep_KASICH  gen_rep_TRUMP  \n",
       "0                            109             2               0              0  \n",
       "1                              0             0               1              3  \n",
       "2                              0           117               0              0  \n",
       "3                             54             1               1            113  \n",
       "4                              0             0               1              1  \n",
       "...                          ...           ...             ...            ...  \n",
       "6813                         157            40               1            486  \n",
       "6814                          35             0             468            197  \n",
       "6815                           1           265             114             22  \n",
       "6816                         198            91              14              0  \n",
       "6817                         119             1               1            316  \n",
       "\n",
       "[6818 rows x 7 columns]"
      ]
     },
     "execution_count": 81,
     "metadata": {},
     "output_type": "execute_result"
    }
   ],
   "source": [
    "general_data[\"candidate_column\"] = (\n",
    "    \"gen_\" +\n",
    "    primary_data[\"party\"].str.lower() + \"_\" +\n",
    "    primary_data[\"candidate\"].str.split().str[-1].str.upper()\n",
    ")\n",
    "\n",
    "# pivot the table\n",
    "general_result = general_data.pivot_table(\n",
    "    index=\"precinct\",\n",
    "    columns=\"candidate_column\",\n",
    "    values=\"votes\",\n",
    "    aggfunc=\"sum\",  \n",
    "    fill_value=0\n",
    ").reset_index()\n",
    "\n",
    "general_result"
   ]
  },
  {
   "cell_type": "code",
   "execution_count": 83,
   "id": "6686d34b",
   "metadata": {},
   "outputs": [
    {
     "data": {
      "application/vnd.microsoft.datawrangler.viewer.v0+json": {
       "columns": [
        {
         "name": "index",
         "rawType": "int64",
         "type": "integer"
        },
        {
         "name": "precinct",
         "rawType": "object",
         "type": "string"
        },
        {
         "name": "pri_dem_CLINTON",
         "rawType": "int64",
         "type": "integer"
        },
        {
         "name": "pri_dem_SANDERS",
         "rawType": "int64",
         "type": "integer"
        },
        {
         "name": "pri_rep_CARSON",
         "rawType": "int64",
         "type": "integer"
        },
        {
         "name": "pri_rep_CRUZ",
         "rawType": "int64",
         "type": "integer"
        },
        {
         "name": "pri_rep_KASICH",
         "rawType": "int64",
         "type": "integer"
        },
        {
         "name": "pri_rep_TRUMP",
         "rawType": "int64",
         "type": "integer"
        },
        {
         "name": "gen_dem_CLINTON",
         "rawType": "int64",
         "type": "integer"
        },
        {
         "name": "gen_dem_SANDERS",
         "rawType": "int64",
         "type": "integer"
        },
        {
         "name": "gen_rep_CARSON",
         "rawType": "int64",
         "type": "integer"
        },
        {
         "name": "gen_rep_CRUZ",
         "rawType": "int64",
         "type": "integer"
        },
        {
         "name": "gen_rep_KASICH",
         "rawType": "int64",
         "type": "integer"
        },
        {
         "name": "gen_rep_TRUMP",
         "rawType": "int64",
         "type": "integer"
        },
        {
         "name": "rep_primary_total",
         "rawType": "int64",
         "type": "integer"
        },
        {
         "name": "dem_primary_total",
         "rawType": "int64",
         "type": "integer"
        },
        {
         "name": "general_total",
         "rawType": "int64",
         "type": "integer"
        }
       ],
       "ref": "8f1054df-467a-4d36-bcee-36ff4403ebba",
       "rows": [
        [
         "0",
         "Adams111",
         "11",
         "6",
         "2",
         "6",
         "2",
         "45",
         "0",
         "0",
         "109",
         "2",
         "0",
         "0",
         "55",
         "17",
         "111"
        ],
        [
         "1",
         "Adams112",
         "14",
         "10",
         "2",
         "6",
         "1",
         "41",
         "96",
         "26",
         "0",
         "0",
         "1",
         "3",
         "50",
         "24",
         "126"
        ],
        [
         "2",
         "Adams113",
         "17",
         "11",
         "8",
         "8",
         "2",
         "59",
         "1",
         "0",
         "0",
         "117",
         "0",
         "0",
         "77",
         "28",
         "118"
        ],
        [
         "3",
         "Adams114",
         "16",
         "19",
         "1",
         "10",
         "13",
         "44",
         "0",
         "8",
         "54",
         "1",
         "1",
         "113",
         "68",
         "35",
         "177"
        ],
        [
         "4",
         "Adams115",
         "18",
         "11",
         "4",
         "5",
         "11",
         "53",
         "48",
         "0",
         "0",
         "0",
         "1",
         "1",
         "73",
         "29",
         "50"
        ],
        [
         "5",
         "Adams121",
         "5",
         "11",
         "8",
         "3",
         "6",
         "76",
         "0",
         "1",
         "7",
         "19",
         "0",
         "0",
         "93",
         "16",
         "27"
        ],
        [
         "6",
         "Adams122",
         "9",
         "7",
         "3",
         "11",
         "6",
         "55",
         "5",
         "0",
         "0",
         "0",
         "137",
         "16",
         "75",
         "16",
         "158"
        ],
        [
         "7",
         "Adams123",
         "2",
         "6",
         "5",
         "4",
         "0",
         "34",
         "0",
         "0",
         "0",
         "2",
         "2",
         "0",
         "43",
         "8",
         "4"
        ],
        [
         "8",
         "Adams211",
         "3",
         "2",
         "0",
         "3",
         "0",
         "14",
         "0",
         "29",
         "0",
         "0",
         "0",
         "0",
         "17",
         "5",
         "29"
        ],
        [
         "9",
         "Adams212",
         "6",
         "9",
         "0",
         "4",
         "4",
         "51",
         "4",
         "2",
         "0",
         "0",
         "14",
         "0",
         "59",
         "15",
         "20"
        ],
        [
         "10",
         "Adams221",
         "0",
         "0",
         "2",
         "2",
         "5",
         "27",
         "0",
         "0",
         "63",
         "0",
         "0",
         "0",
         "36",
         "0",
         "63"
        ],
        [
         "11",
         "Adams222",
         "0",
         "0",
         "3",
         "3",
         "1",
         "15",
         "34",
         "4",
         "0",
         "0",
         "2",
         "0",
         "22",
         "0",
         "40"
        ],
        [
         "12",
         "Adams311",
         "17",
         "20",
         "0",
         "0",
         "0",
         "0",
         "0",
         "0",
         "0",
         "176",
         "0",
         "0",
         "0",
         "37",
         "176"
        ],
        [
         "13",
         "Adams313",
         "0",
         "0",
         "0",
         "0",
         "0",
         "0",
         "0",
         "1",
         "2",
         "0",
         "0",
         "25",
         "0",
         "0",
         "28"
        ],
        [
         "14",
         "Adams321",
         "3",
         "4",
         "2",
         "4",
         "1",
         "32",
         "15",
         "0",
         "0",
         "0",
         "1",
         "0",
         "39",
         "7",
         "16"
        ],
        [
         "15",
         "Adams322",
         "2",
         "2",
         "0",
         "0",
         "0",
         "0",
         "0",
         "0",
         "1",
         "5",
         "0",
         "0",
         "0",
         "4",
         "6"
        ],
        [
         "16",
         "Adams323",
         "0",
         "0",
         "2",
         "4",
         "0",
         "17",
         "2",
         "0",
         "0",
         "0",
         "43",
         "6",
         "23",
         "0",
         "51"
        ],
        [
         "17",
         "Adams324",
         "0",
         "0",
         "0",
         "1",
         "2",
         "12",
         "0",
         "0",
         "0",
         "2",
         "0",
         "0",
         "15",
         "0",
         "2"
        ],
        [
         "18",
         "Adams325",
         "0",
         "0",
         "0",
         "0",
         "0",
         "0",
         "1",
         "8",
         "0",
         "0",
         "0",
         "0",
         "0",
         "0",
         "9"
        ],
        [
         "19",
         "Adams411",
         "0",
         "0",
         "0",
         "0",
         "0",
         "0",
         "0",
         "1",
         "0",
         "0",
         "21",
         "0",
         "0",
         "0",
         "22"
        ],
        [
         "20",
         "Adams412",
         "28",
         "37",
         "10",
         "11",
         "2",
         "55",
         "0",
         "0",
         "124",
         "4",
         "1",
         "0",
         "78",
         "65",
         "129"
        ],
        [
         "21",
         "Adams413",
         "51",
         "19",
         "1",
         "9",
         "4",
         "46",
         "121",
         "140",
         "1",
         "0",
         "14",
         "1",
         "60",
         "70",
         "277"
        ],
        [
         "22",
         "Adams414",
         "26",
         "21",
         "3",
         "16",
         "7",
         "53",
         "1",
         "0",
         "0",
         "163",
         "0",
         "0",
         "79",
         "47",
         "164"
        ],
        [
         "23",
         "Adams415",
         "21",
         "21",
         "4",
         "21",
         "4",
         "60",
         "0",
         "13",
         "89",
         "2",
         "0",
         "132",
         "89",
         "42",
         "236"
        ],
        [
         "24",
         "Adams416",
         "28",
         "17",
         "3",
         "3",
         "2",
         "29",
         "99",
         "0",
         "2",
         "0",
         "0",
         "3",
         "37",
         "45",
         "104"
        ],
        [
         "25",
         "Adams511",
         "26",
         "15",
         "0",
         "2",
         "1",
         "16",
         "0",
         "1",
         "6",
         "67",
         "0",
         "0",
         "19",
         "41",
         "74"
        ],
        [
         "26",
         "Adams512",
         "17",
         "12",
         "2",
         "8",
         "2",
         "49",
         "2",
         "0",
         "0",
         "0",
         "116",
         "59",
         "61",
         "29",
         "177"
        ],
        [
         "27",
         "Adams513",
         "29",
         "23",
         "4",
         "13",
         "1",
         "83",
         "0",
         "0",
         "1",
         "9",
         "1",
         "0",
         "101",
         "52",
         "11"
        ],
        [
         "28",
         "Adams514",
         "17",
         "9",
         "1",
         "18",
         "4",
         "60",
         "1",
         "170",
         "2",
         "0",
         "0",
         "3",
         "83",
         "26",
         "176"
        ],
        [
         "29",
         "Adams515",
         "11",
         "12",
         "1",
         "13",
         "1",
         "48",
         "2",
         "0",
         "0",
         "1",
         "43",
         "0",
         "63",
         "23",
         "46"
        ],
        [
         "30",
         "Adams516",
         "5",
         "10",
         "4",
         "5",
         "5",
         "88",
         "0",
         "0",
         "208",
         "1",
         "0",
         "0",
         "102",
         "15",
         "209"
        ],
        [
         "31",
         "Asotin1",
         "7",
         "18",
         "4",
         "13",
         "2",
         "71",
         "153",
         "32",
         "0",
         "0",
         "15",
         "3",
         "90",
         "25",
         "203"
        ],
        [
         "32",
         "Asotin101",
         "41",
         "29",
         "6",
         "7",
         "0",
         "73",
         "1",
         "0",
         "11",
         "91",
         "0",
         "0",
         "86",
         "70",
         "103"
        ],
        [
         "33",
         "Asotin102",
         "24",
         "28",
         "3",
         "2",
         "8",
         "73",
         "17",
         "3",
         "0",
         "0",
         "185",
         "73",
         "86",
         "52",
         "278"
        ],
        [
         "34",
         "Asotin201",
         "31",
         "40",
         "8",
         "4",
         "3",
         "58",
         "0",
         "0",
         "0",
         "21",
         "3",
         "0",
         "73",
         "71",
         "24"
        ],
        [
         "35",
         "Asotin202",
         "47",
         "58",
         "6",
         "16",
         "12",
         "67",
         "1",
         "179",
         "2",
         "0",
         "0",
         "28",
         "101",
         "105",
         "210"
        ],
        [
         "36",
         "Asotin203",
         "46",
         "39",
         "3",
         "12",
         "11",
         "55",
         "5",
         "6",
         "0",
         "0",
         "136",
         "0",
         "81",
         "85",
         "147"
        ],
        [
         "37",
         "Asotin204",
         "38",
         "40",
         "8",
         "5",
         "2",
         "94",
         "0",
         "0",
         "208",
         "7",
         "0",
         "0",
         "109",
         "78",
         "215"
        ],
        [
         "38",
         "Asotin205",
         "36",
         "30",
         "2",
         "10",
         "8",
         "47",
         "130",
         "102",
         "4",
         "0",
         "13",
         "0",
         "67",
         "66",
         "249"
        ],
        [
         "39",
         "Asotin206",
         "45",
         "43",
         "8",
         "14",
         "7",
         "82",
         "5",
         "0",
         "0",
         "177",
         "0",
         "0",
         "111",
         "88",
         "182"
        ],
        [
         "40",
         "Asotin207",
         "41",
         "27",
         "4",
         "7",
         "3",
         "55",
         "0",
         "23",
         "103",
         "9",
         "0",
         "126",
         "69",
         "68",
         "261"
        ],
        [
         "41",
         "Asotin208",
         "47",
         "39",
         "3",
         "6",
         "6",
         "70",
         "118",
         "0",
         "0",
         "0",
         "5",
         "8",
         "85",
         "86",
         "131"
        ],
        [
         "42",
         "Asotin3",
         "17",
         "14",
         "3",
         "7",
         "9",
         "84",
         "0",
         "0",
         "0",
         "163",
         "0",
         "0",
         "103",
         "31",
         "163"
        ],
        [
         "43",
         "Asotin301",
         "40",
         "36",
         "5",
         "8",
         "15",
         "128",
         "0",
         "0",
         "22",
         "132",
         "0",
         "0",
         "156",
         "76",
         "154"
        ],
        [
         "44",
         "Asotin302",
         "70",
         "52",
         "9",
         "19",
         "15",
         "196",
         "45",
         "6",
         "0",
         "1",
         "415",
         "189",
         "239",
         "122",
         "656"
        ],
        [
         "45",
         "Asotin303",
         "21",
         "8",
         "1",
         "6",
         "1",
         "43",
         "0",
         "0",
         "0",
         "8",
         "1",
         "0",
         "51",
         "29",
         "9"
        ],
        [
         "46",
         "Asotin304",
         "53",
         "33",
         "5",
         "15",
         "9",
         "87",
         "1",
         "212",
         "2",
         "0",
         "0",
         "25",
         "116",
         "86",
         "240"
        ],
        [
         "47",
         "Asotin305",
         "60",
         "65",
         "17",
         "23",
         "7",
         "215",
         "11",
         "7",
         "0",
         "1",
         "181",
         "0",
         "262",
         "125",
         "200"
        ],
        [
         "48",
         "Asotin306",
         "86",
         "55",
         "18",
         "11",
         "16",
         "171",
         "0",
         "0",
         "365",
         "7",
         "0",
         "2",
         "216",
         "141",
         "374"
        ],
        [
         "49",
         "Asotin307",
         "58",
         "47",
         "13",
         "18",
         "6",
         "126",
         "278",
         "137",
         "5",
         "0",
         "46",
         "1",
         "163",
         "105",
         "467"
        ]
       ],
       "shape": {
        "columns": 16,
        "rows": 6807
       }
      },
      "text/html": [
       "<div>\n",
       "<style scoped>\n",
       "    .dataframe tbody tr th:only-of-type {\n",
       "        vertical-align: middle;\n",
       "    }\n",
       "\n",
       "    .dataframe tbody tr th {\n",
       "        vertical-align: top;\n",
       "    }\n",
       "\n",
       "    .dataframe thead th {\n",
       "        text-align: right;\n",
       "    }\n",
       "</style>\n",
       "<table border=\"1\" class=\"dataframe\">\n",
       "  <thead>\n",
       "    <tr style=\"text-align: right;\">\n",
       "      <th>candidate_column</th>\n",
       "      <th>precinct</th>\n",
       "      <th>pri_dem_CLINTON</th>\n",
       "      <th>pri_dem_SANDERS</th>\n",
       "      <th>pri_rep_CARSON</th>\n",
       "      <th>pri_rep_CRUZ</th>\n",
       "      <th>pri_rep_KASICH</th>\n",
       "      <th>pri_rep_TRUMP</th>\n",
       "      <th>gen_dem_CLINTON</th>\n",
       "      <th>gen_dem_SANDERS</th>\n",
       "      <th>gen_rep_CARSON</th>\n",
       "      <th>gen_rep_CRUZ</th>\n",
       "      <th>gen_rep_KASICH</th>\n",
       "      <th>gen_rep_TRUMP</th>\n",
       "      <th>rep_primary_total</th>\n",
       "      <th>dem_primary_total</th>\n",
       "      <th>general_total</th>\n",
       "    </tr>\n",
       "  </thead>\n",
       "  <tbody>\n",
       "    <tr>\n",
       "      <th>0</th>\n",
       "      <td>Adams111</td>\n",
       "      <td>11</td>\n",
       "      <td>6</td>\n",
       "      <td>2</td>\n",
       "      <td>6</td>\n",
       "      <td>2</td>\n",
       "      <td>45</td>\n",
       "      <td>0</td>\n",
       "      <td>0</td>\n",
       "      <td>109</td>\n",
       "      <td>2</td>\n",
       "      <td>0</td>\n",
       "      <td>0</td>\n",
       "      <td>55</td>\n",
       "      <td>17</td>\n",
       "      <td>111</td>\n",
       "    </tr>\n",
       "    <tr>\n",
       "      <th>1</th>\n",
       "      <td>Adams112</td>\n",
       "      <td>14</td>\n",
       "      <td>10</td>\n",
       "      <td>2</td>\n",
       "      <td>6</td>\n",
       "      <td>1</td>\n",
       "      <td>41</td>\n",
       "      <td>96</td>\n",
       "      <td>26</td>\n",
       "      <td>0</td>\n",
       "      <td>0</td>\n",
       "      <td>1</td>\n",
       "      <td>3</td>\n",
       "      <td>50</td>\n",
       "      <td>24</td>\n",
       "      <td>126</td>\n",
       "    </tr>\n",
       "    <tr>\n",
       "      <th>2</th>\n",
       "      <td>Adams113</td>\n",
       "      <td>17</td>\n",
       "      <td>11</td>\n",
       "      <td>8</td>\n",
       "      <td>8</td>\n",
       "      <td>2</td>\n",
       "      <td>59</td>\n",
       "      <td>1</td>\n",
       "      <td>0</td>\n",
       "      <td>0</td>\n",
       "      <td>117</td>\n",
       "      <td>0</td>\n",
       "      <td>0</td>\n",
       "      <td>77</td>\n",
       "      <td>28</td>\n",
       "      <td>118</td>\n",
       "    </tr>\n",
       "    <tr>\n",
       "      <th>3</th>\n",
       "      <td>Adams114</td>\n",
       "      <td>16</td>\n",
       "      <td>19</td>\n",
       "      <td>1</td>\n",
       "      <td>10</td>\n",
       "      <td>13</td>\n",
       "      <td>44</td>\n",
       "      <td>0</td>\n",
       "      <td>8</td>\n",
       "      <td>54</td>\n",
       "      <td>1</td>\n",
       "      <td>1</td>\n",
       "      <td>113</td>\n",
       "      <td>68</td>\n",
       "      <td>35</td>\n",
       "      <td>177</td>\n",
       "    </tr>\n",
       "    <tr>\n",
       "      <th>4</th>\n",
       "      <td>Adams115</td>\n",
       "      <td>18</td>\n",
       "      <td>11</td>\n",
       "      <td>4</td>\n",
       "      <td>5</td>\n",
       "      <td>11</td>\n",
       "      <td>53</td>\n",
       "      <td>48</td>\n",
       "      <td>0</td>\n",
       "      <td>0</td>\n",
       "      <td>0</td>\n",
       "      <td>1</td>\n",
       "      <td>1</td>\n",
       "      <td>73</td>\n",
       "      <td>29</td>\n",
       "      <td>50</td>\n",
       "    </tr>\n",
       "    <tr>\n",
       "      <th>...</th>\n",
       "      <td>...</td>\n",
       "      <td>...</td>\n",
       "      <td>...</td>\n",
       "      <td>...</td>\n",
       "      <td>...</td>\n",
       "      <td>...</td>\n",
       "      <td>...</td>\n",
       "      <td>...</td>\n",
       "      <td>...</td>\n",
       "      <td>...</td>\n",
       "      <td>...</td>\n",
       "      <td>...</td>\n",
       "      <td>...</td>\n",
       "      <td>...</td>\n",
       "      <td>...</td>\n",
       "      <td>...</td>\n",
       "    </tr>\n",
       "    <tr>\n",
       "      <th>6802</th>\n",
       "      <td>Whatcom233</td>\n",
       "      <td>81</td>\n",
       "      <td>157</td>\n",
       "      <td>5</td>\n",
       "      <td>15</td>\n",
       "      <td>5</td>\n",
       "      <td>52</td>\n",
       "      <td>0</td>\n",
       "      <td>0</td>\n",
       "      <td>157</td>\n",
       "      <td>40</td>\n",
       "      <td>1</td>\n",
       "      <td>486</td>\n",
       "      <td>77</td>\n",
       "      <td>238</td>\n",
       "      <td>684</td>\n",
       "    </tr>\n",
       "    <tr>\n",
       "      <th>6803</th>\n",
       "      <td>Whatcom234</td>\n",
       "      <td>108</td>\n",
       "      <td>143</td>\n",
       "      <td>1</td>\n",
       "      <td>19</td>\n",
       "      <td>17</td>\n",
       "      <td>99</td>\n",
       "      <td>0</td>\n",
       "      <td>0</td>\n",
       "      <td>35</td>\n",
       "      <td>0</td>\n",
       "      <td>468</td>\n",
       "      <td>197</td>\n",
       "      <td>136</td>\n",
       "      <td>251</td>\n",
       "      <td>700</td>\n",
       "    </tr>\n",
       "    <tr>\n",
       "      <th>6804</th>\n",
       "      <td>Whatcom235</td>\n",
       "      <td>62</td>\n",
       "      <td>69</td>\n",
       "      <td>1</td>\n",
       "      <td>4</td>\n",
       "      <td>15</td>\n",
       "      <td>38</td>\n",
       "      <td>0</td>\n",
       "      <td>0</td>\n",
       "      <td>1</td>\n",
       "      <td>265</td>\n",
       "      <td>114</td>\n",
       "      <td>22</td>\n",
       "      <td>58</td>\n",
       "      <td>131</td>\n",
       "      <td>402</td>\n",
       "    </tr>\n",
       "    <tr>\n",
       "      <th>6805</th>\n",
       "      <td>Whatcom236</td>\n",
       "      <td>47</td>\n",
       "      <td>42</td>\n",
       "      <td>0</td>\n",
       "      <td>7</td>\n",
       "      <td>5</td>\n",
       "      <td>28</td>\n",
       "      <td>0</td>\n",
       "      <td>0</td>\n",
       "      <td>198</td>\n",
       "      <td>91</td>\n",
       "      <td>14</td>\n",
       "      <td>0</td>\n",
       "      <td>40</td>\n",
       "      <td>89</td>\n",
       "      <td>303</td>\n",
       "    </tr>\n",
       "    <tr>\n",
       "      <th>6806</th>\n",
       "      <td>Whatcom237</td>\n",
       "      <td>56</td>\n",
       "      <td>82</td>\n",
       "      <td>1</td>\n",
       "      <td>6</td>\n",
       "      <td>13</td>\n",
       "      <td>36</td>\n",
       "      <td>0</td>\n",
       "      <td>0</td>\n",
       "      <td>119</td>\n",
       "      <td>1</td>\n",
       "      <td>1</td>\n",
       "      <td>316</td>\n",
       "      <td>56</td>\n",
       "      <td>138</td>\n",
       "      <td>437</td>\n",
       "    </tr>\n",
       "  </tbody>\n",
       "</table>\n",
       "<p>6807 rows × 16 columns</p>\n",
       "</div>"
      ],
      "text/plain": [
       "candidate_column    precinct  pri_dem_CLINTON  pri_dem_SANDERS  \\\n",
       "0                   Adams111               11                6   \n",
       "1                   Adams112               14               10   \n",
       "2                   Adams113               17               11   \n",
       "3                   Adams114               16               19   \n",
       "4                   Adams115               18               11   \n",
       "...                      ...              ...              ...   \n",
       "6802              Whatcom233               81              157   \n",
       "6803              Whatcom234              108              143   \n",
       "6804              Whatcom235               62               69   \n",
       "6805              Whatcom236               47               42   \n",
       "6806              Whatcom237               56               82   \n",
       "\n",
       "candidate_column  pri_rep_CARSON  pri_rep_CRUZ  pri_rep_KASICH  pri_rep_TRUMP  \\\n",
       "0                              2             6               2             45   \n",
       "1                              2             6               1             41   \n",
       "2                              8             8               2             59   \n",
       "3                              1            10              13             44   \n",
       "4                              4             5              11             53   \n",
       "...                          ...           ...             ...            ...   \n",
       "6802                           5            15               5             52   \n",
       "6803                           1            19              17             99   \n",
       "6804                           1             4              15             38   \n",
       "6805                           0             7               5             28   \n",
       "6806                           1             6              13             36   \n",
       "\n",
       "candidate_column  gen_dem_CLINTON  gen_dem_SANDERS  gen_rep_CARSON  \\\n",
       "0                               0                0             109   \n",
       "1                              96               26               0   \n",
       "2                               1                0               0   \n",
       "3                               0                8              54   \n",
       "4                              48                0               0   \n",
       "...                           ...              ...             ...   \n",
       "6802                            0                0             157   \n",
       "6803                            0                0              35   \n",
       "6804                            0                0               1   \n",
       "6805                            0                0             198   \n",
       "6806                            0                0             119   \n",
       "\n",
       "candidate_column  gen_rep_CRUZ  gen_rep_KASICH  gen_rep_TRUMP  \\\n",
       "0                            2               0              0   \n",
       "1                            0               1              3   \n",
       "2                          117               0              0   \n",
       "3                            1               1            113   \n",
       "4                            0               1              1   \n",
       "...                        ...             ...            ...   \n",
       "6802                        40               1            486   \n",
       "6803                         0             468            197   \n",
       "6804                       265             114             22   \n",
       "6805                        91              14              0   \n",
       "6806                         1               1            316   \n",
       "\n",
       "candidate_column  rep_primary_total  dem_primary_total  general_total  \n",
       "0                                55                 17            111  \n",
       "1                                50                 24            126  \n",
       "2                                77                 28            118  \n",
       "3                                68                 35            177  \n",
       "4                                73                 29             50  \n",
       "...                             ...                ...            ...  \n",
       "6802                             77                238            684  \n",
       "6803                            136                251            700  \n",
       "6804                             58                131            402  \n",
       "6805                             40                 89            303  \n",
       "6806                             56                138            437  \n",
       "\n",
       "[6807 rows x 16 columns]"
      ]
     },
     "execution_count": 83,
     "metadata": {},
     "output_type": "execute_result"
    }
   ],
   "source": [
    "combined = pd.merge(primary_result, general_result, on=\"precinct\", how=\"inner\")\n",
    "combined[\"rep_primary_total\"] = combined.filter(like=\"pri_rep_\").sum(axis=1)\n",
    "combined[\"dem_primary_total\"] = combined.filter(like=\"pri_dem_\").sum(axis=1)\n",
    "combined[\"general_total\"] = combined.filter(like=\"gen_\").sum(axis=1)\n",
    "combined"
   ]
  },
  {
   "cell_type": "code",
   "execution_count": 84,
   "id": "a6797e92",
   "metadata": {},
   "outputs": [],
   "source": [
    "combined.to_csv(\"WA.csv\", index=False)\n"
   ]
  }
 ],
 "metadata": {
  "kernelspec": {
   "display_name": "Python 3",
   "language": "python",
   "name": "python3"
  },
  "language_info": {
   "codemirror_mode": {
    "name": "ipython",
    "version": 3
   },
   "file_extension": ".py",
   "mimetype": "text/x-python",
   "name": "python",
   "nbconvert_exporter": "python",
   "pygments_lexer": "ipython3",
   "version": "3.11.2"
  }
 },
 "nbformat": 4,
 "nbformat_minor": 5
}
