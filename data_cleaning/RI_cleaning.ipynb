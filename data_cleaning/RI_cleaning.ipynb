{
 "cells": [
  {
   "cell_type": "code",
   "execution_count": 2,
   "id": "aa200fab",
   "metadata": {},
   "outputs": [],
   "source": [
    "import pandas as pd\n",
    "import glob\n",
    "import os\n",
    "from pprint import pprint"
   ]
  },
  {
   "cell_type": "code",
   "execution_count": 4,
   "id": "c263c4df",
   "metadata": {},
   "outputs": [],
   "source": [
    "#Get all CSV files in the folder of GA\n",
    "all_files = glob.glob(r\"C:\\Huy Phan\\College\\VoterTurnout\\data\\RI\\*.csv\")\n",
    "\n",
    "# Files that contain both 'precinct' and 'general' in the filename\n",
    "general_files = [\n",
    "    f for f in all_files\n",
    "    if all(word in f.lower() for word in ['precinct', 'general'])\n",
    "]\n",
    "\n",
    "# Files that contain both 'precinct' and 'primary' in the filename\n",
    "primary_files = [\n",
    "    f for f in all_files\n",
    "    if all(word in f.lower() for word in ['precinct', 'primary', 'president'])\n",
    "]\n"
   ]
  },
  {
   "cell_type": "code",
   "execution_count": 5,
   "id": "60d49ea6",
   "metadata": {},
   "outputs": [
    {
     "name": "stdout",
     "output_type": "stream",
     "text": [
      "General files:\n",
      "C:\\Huy Phan\\College\\VoterTurnout\\data\\RI\\20161108__ri__general__precinct.csv\n"
     ]
    }
   ],
   "source": [
    "print(\"General files:\")\n",
    "for f in general_files:\n",
    "    print(f)\n"
   ]
  },
  {
   "cell_type": "code",
   "execution_count": 6,
   "id": "4ab13110",
   "metadata": {},
   "outputs": [
    {
     "name": "stdout",
     "output_type": "stream",
     "text": [
      "\n",
      "Primary files:\n",
      "C:\\Huy Phan\\College\\VoterTurnout\\data\\RI\\20160426__ri__primary__president__precinct.csv\n"
     ]
    }
   ],
   "source": [
    "print(\"\\nPrimary files:\")\n",
    "for f in primary_files:\n",
    "    print(f)"
   ]
  },
  {
   "cell_type": "code",
   "execution_count": 14,
   "id": "ff5df6c7",
   "metadata": {},
   "outputs": [
    {
     "data": {
      "application/vnd.microsoft.datawrangler.viewer.v0+json": {
       "columns": [
        {
         "name": "index",
         "rawType": "int64",
         "type": "integer"
        },
        {
         "name": "county",
         "rawType": "object",
         "type": "unknown"
        },
        {
         "name": "precinct",
         "rawType": "object",
         "type": "string"
        },
        {
         "name": "office",
         "rawType": "object",
         "type": "string"
        },
        {
         "name": "district",
         "rawType": "float64",
         "type": "float"
        },
        {
         "name": "party",
         "rawType": "object",
         "type": "string"
        },
        {
         "name": "candidate",
         "rawType": "object",
         "type": "string"
        },
        {
         "name": "votes",
         "rawType": "int64",
         "type": "integer"
        }
       ],
       "ref": "b60077d9-3969-4132-ba2b-0a33f8f89b07",
       "rows": [
        [
         "0",
         "Bristol",
         "Barrington 0101",
         "President",
         null,
         "Democratic",
         "Mark Stewart",
         "0"
        ],
        [
         "1",
         "Bristol",
         "Barrington 0101",
         "President",
         null,
         "Democratic",
         "Bernie Sanders",
         "251"
        ],
        [
         "2",
         "Bristol",
         "Barrington 0101",
         "President",
         null,
         "Democratic",
         "Uncommitted",
         "5"
        ],
        [
         "3",
         "Bristol",
         "Barrington 0101",
         "President",
         null,
         "Democratic",
         "Roque \"Rocky\" De La Fuente",
         "0"
        ],
        [
         "4",
         "Bristol",
         "Barrington 0101",
         "President",
         null,
         "Democratic",
         "Hillary Clinton",
         "214"
        ],
        [
         "5",
         "Bristol",
         "Barrington 0101",
         "President",
         null,
         "Democratic",
         "Overvotes",
         "0"
        ],
        [
         "6",
         "Bristol",
         "Barrington 0101",
         "President",
         null,
         "Democratic",
         "Undervotes",
         "7"
        ],
        [
         "7",
         "Bristol",
         "Barrington 0101",
         "President",
         null,
         "Republican",
         "Donald J. Trump",
         "115"
        ],
        [
         "8",
         "Bristol",
         "Barrington 0101",
         "President",
         null,
         "Republican",
         "Ted Cruz",
         "34"
        ],
        [
         "9",
         "Bristol",
         "Barrington 0101",
         "President",
         null,
         "Republican",
         "John R. Kasich",
         "92"
        ],
        [
         "10",
         "Bristol",
         "Barrington 0101",
         "President",
         null,
         "Republican",
         "Marco Rubio",
         "2"
        ],
        [
         "11",
         "Bristol",
         "Barrington 0101",
         "President",
         null,
         "Republican",
         "Uncommitted",
         "1"
        ],
        [
         "12",
         "Bristol",
         "Barrington 0101",
         "President",
         null,
         "Republican",
         "Overvotes",
         "0"
        ],
        [
         "13",
         "Bristol",
         "Barrington 0101",
         "President",
         null,
         "Republican",
         "Undervotes",
         "6"
        ],
        [
         "14",
         "Bristol",
         "Barrington 0102",
         "President",
         null,
         "Democratic",
         "Mark Stewart",
         "0"
        ],
        [
         "15",
         "Bristol",
         "Barrington 0102",
         "President",
         null,
         "Democratic",
         "Bernie Sanders",
         "347"
        ],
        [
         "16",
         "Bristol",
         "Barrington 0102",
         "President",
         null,
         "Democratic",
         "Uncommitted",
         "3"
        ],
        [
         "17",
         "Bristol",
         "Barrington 0102",
         "President",
         null,
         "Democratic",
         "Roque \"Rocky\" De La Fuente",
         "0"
        ],
        [
         "18",
         "Bristol",
         "Barrington 0102",
         "President",
         null,
         "Democratic",
         "Hillary Clinton",
         "336"
        ],
        [
         "19",
         "Bristol",
         "Barrington 0102",
         "President",
         null,
         "Democratic",
         "Overvotes",
         "0"
        ],
        [
         "20",
         "Bristol",
         "Barrington 0102",
         "President",
         null,
         "Democratic",
         "Undervotes",
         "12"
        ],
        [
         "21",
         "Bristol",
         "Barrington 0102",
         "President",
         null,
         "Republican",
         "Donald J. Trump",
         "138"
        ],
        [
         "22",
         "Bristol",
         "Barrington 0102",
         "President",
         null,
         "Republican",
         "Ted Cruz",
         "29"
        ],
        [
         "23",
         "Bristol",
         "Barrington 0102",
         "President",
         null,
         "Republican",
         "John R. Kasich",
         "119"
        ],
        [
         "24",
         "Bristol",
         "Barrington 0102",
         "President",
         null,
         "Republican",
         "Marco Rubio",
         "2"
        ],
        [
         "25",
         "Bristol",
         "Barrington 0102",
         "President",
         null,
         "Republican",
         "Uncommitted",
         "0"
        ],
        [
         "26",
         "Bristol",
         "Barrington 0102",
         "President",
         null,
         "Republican",
         "Overvotes",
         "0"
        ],
        [
         "27",
         "Bristol",
         "Barrington 0102",
         "President",
         null,
         "Republican",
         "Undervotes",
         "3"
        ],
        [
         "28",
         "Bristol",
         "Barrington 0103",
         "President",
         null,
         "Democratic",
         "Mark Stewart",
         "0"
        ],
        [
         "29",
         "Bristol",
         "Barrington 0103",
         "President",
         null,
         "Democratic",
         "Bernie Sanders",
         "216"
        ],
        [
         "30",
         "Bristol",
         "Barrington 0103",
         "President",
         null,
         "Democratic",
         "Uncommitted",
         "2"
        ],
        [
         "31",
         "Bristol",
         "Barrington 0103",
         "President",
         null,
         "Democratic",
         "Roque \"Rocky\" De La Fuente",
         "0"
        ],
        [
         "32",
         "Bristol",
         "Barrington 0103",
         "President",
         null,
         "Democratic",
         "Hillary Clinton",
         "313"
        ],
        [
         "33",
         "Bristol",
         "Barrington 0103",
         "President",
         null,
         "Democratic",
         "Overvotes",
         "0"
        ],
        [
         "34",
         "Bristol",
         "Barrington 0103",
         "President",
         null,
         "Democratic",
         "Undervotes",
         "7"
        ],
        [
         "35",
         "Bristol",
         "Barrington 0103",
         "President",
         null,
         "Republican",
         "Donald J. Trump",
         "124"
        ],
        [
         "36",
         "Bristol",
         "Barrington 0103",
         "President",
         null,
         "Republican",
         "Ted Cruz",
         "25"
        ],
        [
         "37",
         "Bristol",
         "Barrington 0103",
         "President",
         null,
         "Republican",
         "John R. Kasich",
         "153"
        ],
        [
         "38",
         "Bristol",
         "Barrington 0103",
         "President",
         null,
         "Republican",
         "Marco Rubio",
         "4"
        ],
        [
         "39",
         "Bristol",
         "Barrington 0103",
         "President",
         null,
         "Republican",
         "Uncommitted",
         "0"
        ],
        [
         "40",
         "Bristol",
         "Barrington 0103",
         "President",
         null,
         "Republican",
         "Overvotes",
         "0"
        ],
        [
         "41",
         "Bristol",
         "Barrington 0103",
         "President",
         null,
         "Republican",
         "Undervotes",
         "0"
        ],
        [
         "42",
         "Bristol",
         "Barrington 0104",
         "President",
         null,
         "Democratic",
         "Mark Stewart",
         "0"
        ],
        [
         "43",
         "Bristol",
         "Barrington 0104",
         "President",
         null,
         "Democratic",
         "Bernie Sanders",
         "299"
        ],
        [
         "44",
         "Bristol",
         "Barrington 0104",
         "President",
         null,
         "Democratic",
         "Uncommitted",
         "3"
        ],
        [
         "45",
         "Bristol",
         "Barrington 0104",
         "President",
         null,
         "Democratic",
         "Roque \"Rocky\" De La Fuente",
         "1"
        ],
        [
         "46",
         "Bristol",
         "Barrington 0104",
         "President",
         null,
         "Democratic",
         "Hillary Clinton",
         "316"
        ],
        [
         "47",
         "Bristol",
         "Barrington 0104",
         "President",
         null,
         "Democratic",
         "Overvotes",
         "0"
        ],
        [
         "48",
         "Bristol",
         "Barrington 0104",
         "President",
         null,
         "Democratic",
         "Undervotes",
         "15"
        ],
        [
         "49",
         "Bristol",
         "Barrington 0104",
         "President",
         null,
         "Republican",
         "Donald J. Trump",
         "173"
        ]
       ],
       "shape": {
        "columns": 7,
        "rows": 2044
       }
      },
      "text/html": [
       "<div>\n",
       "<style scoped>\n",
       "    .dataframe tbody tr th:only-of-type {\n",
       "        vertical-align: middle;\n",
       "    }\n",
       "\n",
       "    .dataframe tbody tr th {\n",
       "        vertical-align: top;\n",
       "    }\n",
       "\n",
       "    .dataframe thead th {\n",
       "        text-align: right;\n",
       "    }\n",
       "</style>\n",
       "<table border=\"1\" class=\"dataframe\">\n",
       "  <thead>\n",
       "    <tr style=\"text-align: right;\">\n",
       "      <th></th>\n",
       "      <th>county</th>\n",
       "      <th>precinct</th>\n",
       "      <th>office</th>\n",
       "      <th>district</th>\n",
       "      <th>party</th>\n",
       "      <th>candidate</th>\n",
       "      <th>votes</th>\n",
       "    </tr>\n",
       "  </thead>\n",
       "  <tbody>\n",
       "    <tr>\n",
       "      <th>0</th>\n",
       "      <td>Bristol</td>\n",
       "      <td>Barrington 0101</td>\n",
       "      <td>President</td>\n",
       "      <td>NaN</td>\n",
       "      <td>Democratic</td>\n",
       "      <td>Mark Stewart</td>\n",
       "      <td>0</td>\n",
       "    </tr>\n",
       "    <tr>\n",
       "      <th>1</th>\n",
       "      <td>Bristol</td>\n",
       "      <td>Barrington 0101</td>\n",
       "      <td>President</td>\n",
       "      <td>NaN</td>\n",
       "      <td>Democratic</td>\n",
       "      <td>Bernie Sanders</td>\n",
       "      <td>251</td>\n",
       "    </tr>\n",
       "    <tr>\n",
       "      <th>2</th>\n",
       "      <td>Bristol</td>\n",
       "      <td>Barrington 0101</td>\n",
       "      <td>President</td>\n",
       "      <td>NaN</td>\n",
       "      <td>Democratic</td>\n",
       "      <td>Uncommitted</td>\n",
       "      <td>5</td>\n",
       "    </tr>\n",
       "    <tr>\n",
       "      <th>3</th>\n",
       "      <td>Bristol</td>\n",
       "      <td>Barrington 0101</td>\n",
       "      <td>President</td>\n",
       "      <td>NaN</td>\n",
       "      <td>Democratic</td>\n",
       "      <td>Roque \"Rocky\" De La Fuente</td>\n",
       "      <td>0</td>\n",
       "    </tr>\n",
       "    <tr>\n",
       "      <th>4</th>\n",
       "      <td>Bristol</td>\n",
       "      <td>Barrington 0101</td>\n",
       "      <td>President</td>\n",
       "      <td>NaN</td>\n",
       "      <td>Democratic</td>\n",
       "      <td>Hillary Clinton</td>\n",
       "      <td>214</td>\n",
       "    </tr>\n",
       "    <tr>\n",
       "      <th>...</th>\n",
       "      <td>...</td>\n",
       "      <td>...</td>\n",
       "      <td>...</td>\n",
       "      <td>...</td>\n",
       "      <td>...</td>\n",
       "      <td>...</td>\n",
       "      <td>...</td>\n",
       "    </tr>\n",
       "    <tr>\n",
       "      <th>2039</th>\n",
       "      <td>NaN</td>\n",
       "      <td>Federal Precinct #2</td>\n",
       "      <td>President</td>\n",
       "      <td>NaN</td>\n",
       "      <td>Republican</td>\n",
       "      <td>John R. Kasich</td>\n",
       "      <td>249</td>\n",
       "    </tr>\n",
       "    <tr>\n",
       "      <th>2040</th>\n",
       "      <td>NaN</td>\n",
       "      <td>Federal Precinct #2</td>\n",
       "      <td>President</td>\n",
       "      <td>NaN</td>\n",
       "      <td>Republican</td>\n",
       "      <td>Marco Rubio</td>\n",
       "      <td>11</td>\n",
       "    </tr>\n",
       "    <tr>\n",
       "      <th>2041</th>\n",
       "      <td>NaN</td>\n",
       "      <td>Federal Precinct #2</td>\n",
       "      <td>President</td>\n",
       "      <td>NaN</td>\n",
       "      <td>Republican</td>\n",
       "      <td>Uncommitted</td>\n",
       "      <td>25</td>\n",
       "    </tr>\n",
       "    <tr>\n",
       "      <th>2042</th>\n",
       "      <td>NaN</td>\n",
       "      <td>Federal Precinct #2</td>\n",
       "      <td>President</td>\n",
       "      <td>NaN</td>\n",
       "      <td>Republican</td>\n",
       "      <td>Overvotes</td>\n",
       "      <td>2</td>\n",
       "    </tr>\n",
       "    <tr>\n",
       "      <th>2043</th>\n",
       "      <td>NaN</td>\n",
       "      <td>Federal Precinct #2</td>\n",
       "      <td>President</td>\n",
       "      <td>NaN</td>\n",
       "      <td>Republican</td>\n",
       "      <td>Undervotes</td>\n",
       "      <td>25</td>\n",
       "    </tr>\n",
       "  </tbody>\n",
       "</table>\n",
       "<p>2044 rows × 7 columns</p>\n",
       "</div>"
      ],
      "text/plain": [
       "       county             precinct     office  district       party  \\\n",
       "0     Bristol      Barrington 0101  President       NaN  Democratic   \n",
       "1     Bristol      Barrington 0101  President       NaN  Democratic   \n",
       "2     Bristol      Barrington 0101  President       NaN  Democratic   \n",
       "3     Bristol      Barrington 0101  President       NaN  Democratic   \n",
       "4     Bristol      Barrington 0101  President       NaN  Democratic   \n",
       "...       ...                  ...        ...       ...         ...   \n",
       "2039      NaN  Federal Precinct #2  President       NaN  Republican   \n",
       "2040      NaN  Federal Precinct #2  President       NaN  Republican   \n",
       "2041      NaN  Federal Precinct #2  President       NaN  Republican   \n",
       "2042      NaN  Federal Precinct #2  President       NaN  Republican   \n",
       "2043      NaN  Federal Precinct #2  President       NaN  Republican   \n",
       "\n",
       "                       candidate  votes  \n",
       "0                   Mark Stewart      0  \n",
       "1                 Bernie Sanders    251  \n",
       "2                    Uncommitted      5  \n",
       "3     Roque \"Rocky\" De La Fuente      0  \n",
       "4                Hillary Clinton    214  \n",
       "...                          ...    ...  \n",
       "2039              John R. Kasich    249  \n",
       "2040                 Marco Rubio     11  \n",
       "2041                 Uncommitted     25  \n",
       "2042                   Overvotes      2  \n",
       "2043                  Undervotes     25  \n",
       "\n",
       "[2044 rows x 7 columns]"
      ]
     },
     "execution_count": 14,
     "metadata": {},
     "output_type": "execute_result"
    }
   ],
   "source": [
    "# Process primary files\n",
    "primary_df_list = []\n",
    "\n",
    "for file in primary_files:\n",
    "    try:\n",
    "        df = pd.read_csv(file)\n",
    "\n",
    "        # Drop rows where 'precinct' is NaN\n",
    "        if 'office' in df.columns:\n",
    "            df = df[df[\"office\"] == \"President\"]\n",
    "        \n",
    "        df = df.drop_duplicates()\n",
    "\n",
    "        primary_df_list.append(df)\n",
    "\n",
    "    except Exception as e:\n",
    "        print(f\"Error in {file}: {e}\")\n",
    "\n",
    "# Combine all cleaned files\n",
    "pri_combined_df = pd.concat(primary_df_list, ignore_index=True)\n",
    "# Create a new column \"precinct\" by combining county and precinct\n",
    "pri_combined_df\n"
   ]
  },
  {
   "cell_type": "code",
   "execution_count": 15,
   "id": "1da58bec",
   "metadata": {},
   "outputs": [
    {
     "data": {
      "application/vnd.microsoft.datawrangler.viewer.v0+json": {
       "columns": [
        {
         "name": "party",
         "rawType": "object",
         "type": "string"
        },
        {
         "name": "count",
         "rawType": "int64",
         "type": "integer"
        }
       ],
       "ref": "8886af42-3919-4969-9d48-2cf5dddb15ed",
       "rows": [
        [
         "Democratic",
         "1022"
        ],
        [
         "Republican",
         "1022"
        ]
       ],
       "shape": {
        "columns": 1,
        "rows": 2
       }
      },
      "text/plain": [
       "party\n",
       "Democratic    1022\n",
       "Republican    1022\n",
       "Name: count, dtype: int64"
      ]
     },
     "execution_count": 15,
     "metadata": {},
     "output_type": "execute_result"
    }
   ],
   "source": [
    "pri_combined_df[\"party\"].value_counts(dropna=False)"
   ]
  },
  {
   "cell_type": "code",
   "execution_count": 22,
   "id": "f0e1e913",
   "metadata": {},
   "outputs": [
    {
     "data": {
      "application/vnd.microsoft.datawrangler.viewer.v0+json": {
       "columns": [
        {
         "name": "index",
         "rawType": "int64",
         "type": "integer"
        },
        {
         "name": "precinct",
         "rawType": "object",
         "type": "string"
        },
        {
         "name": "party",
         "rawType": "object",
         "type": "string"
        },
        {
         "name": "candidate",
         "rawType": "object",
         "type": "string"
        },
        {
         "name": "votes",
         "rawType": "int64",
         "type": "integer"
        }
       ],
       "ref": "aecd6f79-7020-48cc-a2d0-c985c909111a",
       "rows": [
        [
         "0",
         "Barrington 0101",
         "DEM",
         "Mark Stewart",
         "0"
        ],
        [
         "1",
         "Barrington 0101",
         "DEM",
         "Bernie Sanders",
         "251"
        ],
        [
         "2",
         "Barrington 0101",
         "DEM",
         "Uncommitted",
         "5"
        ],
        [
         "3",
         "Barrington 0101",
         "DEM",
         "Roque \"Rocky\" De La Fuente",
         "0"
        ],
        [
         "4",
         "Barrington 0101",
         "DEM",
         "Hillary Clinton",
         "214"
        ],
        [
         "5",
         "Barrington 0101",
         "DEM",
         "Overvotes",
         "0"
        ],
        [
         "6",
         "Barrington 0101",
         "DEM",
         "Undervotes",
         "7"
        ],
        [
         "7",
         "Barrington 0101",
         "REP",
         "Donald J. Trump",
         "115"
        ],
        [
         "8",
         "Barrington 0101",
         "REP",
         "Ted Cruz",
         "34"
        ],
        [
         "9",
         "Barrington 0101",
         "REP",
         "John R. Kasich",
         "92"
        ],
        [
         "10",
         "Barrington 0101",
         "REP",
         "Marco Rubio",
         "2"
        ],
        [
         "11",
         "Barrington 0101",
         "REP",
         "Uncommitted",
         "1"
        ],
        [
         "12",
         "Barrington 0101",
         "REP",
         "Overvotes",
         "0"
        ],
        [
         "13",
         "Barrington 0101",
         "REP",
         "Undervotes",
         "6"
        ],
        [
         "14",
         "Barrington 0102",
         "DEM",
         "Mark Stewart",
         "0"
        ],
        [
         "15",
         "Barrington 0102",
         "DEM",
         "Bernie Sanders",
         "347"
        ],
        [
         "16",
         "Barrington 0102",
         "DEM",
         "Uncommitted",
         "3"
        ],
        [
         "17",
         "Barrington 0102",
         "DEM",
         "Roque \"Rocky\" De La Fuente",
         "0"
        ],
        [
         "18",
         "Barrington 0102",
         "DEM",
         "Hillary Clinton",
         "336"
        ],
        [
         "19",
         "Barrington 0102",
         "DEM",
         "Overvotes",
         "0"
        ],
        [
         "20",
         "Barrington 0102",
         "DEM",
         "Undervotes",
         "12"
        ],
        [
         "21",
         "Barrington 0102",
         "REP",
         "Donald J. Trump",
         "138"
        ],
        [
         "22",
         "Barrington 0102",
         "REP",
         "Ted Cruz",
         "29"
        ],
        [
         "23",
         "Barrington 0102",
         "REP",
         "John R. Kasich",
         "119"
        ],
        [
         "24",
         "Barrington 0102",
         "REP",
         "Marco Rubio",
         "2"
        ],
        [
         "25",
         "Barrington 0102",
         "REP",
         "Uncommitted",
         "0"
        ],
        [
         "26",
         "Barrington 0102",
         "REP",
         "Overvotes",
         "0"
        ],
        [
         "27",
         "Barrington 0102",
         "REP",
         "Undervotes",
         "3"
        ],
        [
         "28",
         "Barrington 0103",
         "DEM",
         "Mark Stewart",
         "0"
        ],
        [
         "29",
         "Barrington 0103",
         "DEM",
         "Bernie Sanders",
         "216"
        ],
        [
         "30",
         "Barrington 0103",
         "DEM",
         "Uncommitted",
         "2"
        ],
        [
         "31",
         "Barrington 0103",
         "DEM",
         "Roque \"Rocky\" De La Fuente",
         "0"
        ],
        [
         "32",
         "Barrington 0103",
         "DEM",
         "Hillary Clinton",
         "313"
        ],
        [
         "33",
         "Barrington 0103",
         "DEM",
         "Overvotes",
         "0"
        ],
        [
         "34",
         "Barrington 0103",
         "DEM",
         "Undervotes",
         "7"
        ],
        [
         "35",
         "Barrington 0103",
         "REP",
         "Donald J. Trump",
         "124"
        ],
        [
         "36",
         "Barrington 0103",
         "REP",
         "Ted Cruz",
         "25"
        ],
        [
         "37",
         "Barrington 0103",
         "REP",
         "John R. Kasich",
         "153"
        ],
        [
         "38",
         "Barrington 0103",
         "REP",
         "Marco Rubio",
         "4"
        ],
        [
         "39",
         "Barrington 0103",
         "REP",
         "Uncommitted",
         "0"
        ],
        [
         "40",
         "Barrington 0103",
         "REP",
         "Overvotes",
         "0"
        ],
        [
         "41",
         "Barrington 0103",
         "REP",
         "Undervotes",
         "0"
        ],
        [
         "42",
         "Barrington 0104",
         "DEM",
         "Mark Stewart",
         "0"
        ],
        [
         "43",
         "Barrington 0104",
         "DEM",
         "Bernie Sanders",
         "299"
        ],
        [
         "44",
         "Barrington 0104",
         "DEM",
         "Uncommitted",
         "3"
        ],
        [
         "45",
         "Barrington 0104",
         "DEM",
         "Roque \"Rocky\" De La Fuente",
         "1"
        ],
        [
         "46",
         "Barrington 0104",
         "DEM",
         "Hillary Clinton",
         "316"
        ],
        [
         "47",
         "Barrington 0104",
         "DEM",
         "Overvotes",
         "0"
        ],
        [
         "48",
         "Barrington 0104",
         "DEM",
         "Undervotes",
         "15"
        ],
        [
         "49",
         "Barrington 0104",
         "REP",
         "Donald J. Trump",
         "173"
        ]
       ],
       "shape": {
        "columns": 4,
        "rows": 2044
       }
      },
      "text/html": [
       "<div>\n",
       "<style scoped>\n",
       "    .dataframe tbody tr th:only-of-type {\n",
       "        vertical-align: middle;\n",
       "    }\n",
       "\n",
       "    .dataframe tbody tr th {\n",
       "        vertical-align: top;\n",
       "    }\n",
       "\n",
       "    .dataframe thead th {\n",
       "        text-align: right;\n",
       "    }\n",
       "</style>\n",
       "<table border=\"1\" class=\"dataframe\">\n",
       "  <thead>\n",
       "    <tr style=\"text-align: right;\">\n",
       "      <th></th>\n",
       "      <th>precinct</th>\n",
       "      <th>party</th>\n",
       "      <th>candidate</th>\n",
       "      <th>votes</th>\n",
       "    </tr>\n",
       "  </thead>\n",
       "  <tbody>\n",
       "    <tr>\n",
       "      <th>0</th>\n",
       "      <td>Barrington 0101</td>\n",
       "      <td>DEM</td>\n",
       "      <td>Mark Stewart</td>\n",
       "      <td>0</td>\n",
       "    </tr>\n",
       "    <tr>\n",
       "      <th>1</th>\n",
       "      <td>Barrington 0101</td>\n",
       "      <td>DEM</td>\n",
       "      <td>Bernie Sanders</td>\n",
       "      <td>251</td>\n",
       "    </tr>\n",
       "    <tr>\n",
       "      <th>2</th>\n",
       "      <td>Barrington 0101</td>\n",
       "      <td>DEM</td>\n",
       "      <td>Uncommitted</td>\n",
       "      <td>5</td>\n",
       "    </tr>\n",
       "    <tr>\n",
       "      <th>3</th>\n",
       "      <td>Barrington 0101</td>\n",
       "      <td>DEM</td>\n",
       "      <td>Roque \"Rocky\" De La Fuente</td>\n",
       "      <td>0</td>\n",
       "    </tr>\n",
       "    <tr>\n",
       "      <th>4</th>\n",
       "      <td>Barrington 0101</td>\n",
       "      <td>DEM</td>\n",
       "      <td>Hillary Clinton</td>\n",
       "      <td>214</td>\n",
       "    </tr>\n",
       "    <tr>\n",
       "      <th>...</th>\n",
       "      <td>...</td>\n",
       "      <td>...</td>\n",
       "      <td>...</td>\n",
       "      <td>...</td>\n",
       "    </tr>\n",
       "    <tr>\n",
       "      <th>2039</th>\n",
       "      <td>Federal Precinct #2</td>\n",
       "      <td>REP</td>\n",
       "      <td>John R. Kasich</td>\n",
       "      <td>249</td>\n",
       "    </tr>\n",
       "    <tr>\n",
       "      <th>2040</th>\n",
       "      <td>Federal Precinct #2</td>\n",
       "      <td>REP</td>\n",
       "      <td>Marco Rubio</td>\n",
       "      <td>11</td>\n",
       "    </tr>\n",
       "    <tr>\n",
       "      <th>2041</th>\n",
       "      <td>Federal Precinct #2</td>\n",
       "      <td>REP</td>\n",
       "      <td>Uncommitted</td>\n",
       "      <td>25</td>\n",
       "    </tr>\n",
       "    <tr>\n",
       "      <th>2042</th>\n",
       "      <td>Federal Precinct #2</td>\n",
       "      <td>REP</td>\n",
       "      <td>Overvotes</td>\n",
       "      <td>2</td>\n",
       "    </tr>\n",
       "    <tr>\n",
       "      <th>2043</th>\n",
       "      <td>Federal Precinct #2</td>\n",
       "      <td>REP</td>\n",
       "      <td>Undervotes</td>\n",
       "      <td>25</td>\n",
       "    </tr>\n",
       "  </tbody>\n",
       "</table>\n",
       "<p>2044 rows × 4 columns</p>\n",
       "</div>"
      ],
      "text/plain": [
       "                 precinct party                   candidate  votes\n",
       "0         Barrington 0101   DEM                Mark Stewart      0\n",
       "1         Barrington 0101   DEM              Bernie Sanders    251\n",
       "2         Barrington 0101   DEM                 Uncommitted      5\n",
       "3         Barrington 0101   DEM  Roque \"Rocky\" De La Fuente      0\n",
       "4         Barrington 0101   DEM             Hillary Clinton    214\n",
       "...                   ...   ...                         ...    ...\n",
       "2039  Federal Precinct #2   REP              John R. Kasich    249\n",
       "2040  Federal Precinct #2   REP                 Marco Rubio     11\n",
       "2041  Federal Precinct #2   REP                 Uncommitted     25\n",
       "2042  Federal Precinct #2   REP                   Overvotes      2\n",
       "2043  Federal Precinct #2   REP                  Undervotes     25\n",
       "\n",
       "[2044 rows x 4 columns]"
      ]
     },
     "execution_count": 22,
     "metadata": {},
     "output_type": "execute_result"
    }
   ],
   "source": [
    "# Select only the relevant columns\n",
    "primary_data = pri_combined_df[[\"precinct\", \"party\", \"candidate\", \"votes\"]]\n",
    "primary_data.loc[:, \"party\"] = primary_data[\"party\"].replace({\n",
    "    \"Democratic\": \"DEM\",\n",
    "    \"Republican\": \"REP\"\n",
    "})\n",
    "# primary_data = primary_data[primary_data[\"party\"].isin([\"DEM\", \"REP\"])] # Analyzing only republican and democratic\n",
    "\n",
    "primary_data"
   ]
  },
  {
   "cell_type": "code",
   "execution_count": 23,
   "id": "759be944",
   "metadata": {},
   "outputs": [
    {
     "data": {
      "application/vnd.microsoft.datawrangler.viewer.v0+json": {
       "columns": [
        {
         "name": "party",
         "rawType": "object",
         "type": "string"
        },
        {
         "name": "count",
         "rawType": "int64",
         "type": "integer"
        }
       ],
       "ref": "b259444e-f1ee-432d-89a7-136b9e8d54aa",
       "rows": [
        [
         "DEM",
         "1022"
        ],
        [
         "REP",
         "1022"
        ]
       ],
       "shape": {
        "columns": 1,
        "rows": 2
       }
      },
      "text/plain": [
       "party\n",
       "DEM    1022\n",
       "REP    1022\n",
       "Name: count, dtype: int64"
      ]
     },
     "execution_count": 23,
     "metadata": {},
     "output_type": "execute_result"
    }
   ],
   "source": [
    "primary_data[\"party\"].value_counts(dropna=False)"
   ]
  },
  {
   "cell_type": "code",
   "execution_count": 26,
   "id": "5eef8778",
   "metadata": {},
   "outputs": [
    {
     "data": {
      "application/vnd.microsoft.datawrangler.viewer.v0+json": {
       "columns": [
        {
         "name": "candidate",
         "rawType": "object",
         "type": "string"
        },
        {
         "name": "count",
         "rawType": "int64",
         "type": "integer"
        }
       ],
       "ref": "aa709a6e-6c53-48b8-8004-9cd51cc7f70a",
       "rows": [
        [
         "Mark Stewart",
         "146"
        ],
        [
         "Bernie Sanders",
         "146"
        ],
        [
         "Roque \"Rocky\" De La Fuente",
         "146"
        ],
        [
         "Hillary Clinton",
         "146"
        ],
        [
         "Donald J. Trump",
         "146"
        ],
        [
         "Ted Cruz",
         "146"
        ],
        [
         "John R. Kasich",
         "146"
        ],
        [
         "Marco Rubio",
         "146"
        ]
       ],
       "shape": {
        "columns": 1,
        "rows": 8
       }
      },
      "text/plain": [
       "candidate\n",
       "Mark Stewart                  146\n",
       "Bernie Sanders                146\n",
       "Roque \"Rocky\" De La Fuente    146\n",
       "Hillary Clinton               146\n",
       "Donald J. Trump               146\n",
       "Ted Cruz                      146\n",
       "John R. Kasich                146\n",
       "Marco Rubio                   146\n",
       "Name: count, dtype: int64"
      ]
     },
     "execution_count": 26,
     "metadata": {},
     "output_type": "execute_result"
    }
   ],
   "source": [
    "#Remove Uncommited, Overvotes, Undervotes\n",
    "primary_data = primary_data[~primary_data[\"candidate\"].isin([\"Uncommitted\", \"Overvotes\", \"Undervotes\"])] \n",
    "primary_data[\"candidate\"].value_counts(dropna=False)"
   ]
  },
  {
   "cell_type": "code",
   "execution_count": 27,
   "id": "3d2dcc9d",
   "metadata": {},
   "outputs": [
    {
     "name": "stdout",
     "output_type": "stream",
     "text": [
      "{'Mark Stewart': 'DEM', 'Bernie Sanders': 'DEM', 'Roque \"Rocky\" De La Fuente': 'DEM', 'Hillary Clinton': 'DEM', 'Donald J. Trump': 'REP', 'Ted Cruz': 'REP', 'John R. Kasich': 'REP', 'Marco Rubio': 'REP'}\n"
     ]
    }
   ],
   "source": [
    "primary_data[\"candidate\"].unique()\n",
    "candidate_party_map = (\n",
    "    primary_data.dropna(subset=[\"candidate\", \"party\"])\n",
    "                .set_index(\"candidate\")[\"party\"]\n",
    "                .to_dict()\n",
    ")\n",
    "print(candidate_party_map)"
   ]
  },
  {
   "cell_type": "code",
   "execution_count": 28,
   "id": "a359cd18",
   "metadata": {},
   "outputs": [
    {
     "data": {
      "application/vnd.microsoft.datawrangler.viewer.v0+json": {
       "columns": [
        {
         "name": "index",
         "rawType": "int64",
         "type": "integer"
        },
        {
         "name": "precinct",
         "rawType": "object",
         "type": "string"
        },
        {
         "name": "pri_dem_CLINTON",
         "rawType": "int64",
         "type": "integer"
        },
        {
         "name": "pri_dem_FUENTE",
         "rawType": "int64",
         "type": "integer"
        },
        {
         "name": "pri_dem_SANDERS",
         "rawType": "int64",
         "type": "integer"
        },
        {
         "name": "pri_dem_STEWART",
         "rawType": "int64",
         "type": "integer"
        },
        {
         "name": "pri_rep_CRUZ",
         "rawType": "int64",
         "type": "integer"
        },
        {
         "name": "pri_rep_KASICH",
         "rawType": "int64",
         "type": "integer"
        },
        {
         "name": "pri_rep_RUBIO",
         "rawType": "int64",
         "type": "integer"
        },
        {
         "name": "pri_rep_TRUMP",
         "rawType": "int64",
         "type": "integer"
        }
       ],
       "ref": "a9d10169-5481-4f70-a51c-15b2a434fdd0",
       "rows": [
        [
         "0",
         "Barrington 0101",
         "214",
         "0",
         "251",
         "0",
         "34",
         "92",
         "2",
         "115"
        ],
        [
         "1",
         "Barrington 0102",
         "336",
         "0",
         "347",
         "0",
         "29",
         "119",
         "2",
         "138"
        ],
        [
         "2",
         "Barrington 0103",
         "313",
         "0",
         "216",
         "0",
         "25",
         "153",
         "4",
         "124"
        ],
        [
         "3",
         "Barrington 0104",
         "316",
         "1",
         "299",
         "0",
         "23",
         "158",
         "3",
         "173"
        ],
        [
         "4",
         "Barrington 0105",
         "311",
         "1",
         "286",
         "1",
         "33",
         "178",
         "3",
         "137"
        ],
        [
         "5",
         "Bristol 0202",
         "289",
         "0",
         "395",
         "0",
         "44",
         "115",
         "3",
         "181"
        ],
        [
         "6",
         "Bristol 0203",
         "487",
         "0",
         "455",
         "1",
         "53",
         "172",
         "4",
         "305"
        ],
        [
         "7",
         "Bristol 0205",
         "389",
         "1",
         "452",
         "2",
         "40",
         "125",
         "5",
         "290"
        ],
        [
         "8",
         "Burrillville 0302",
         "171",
         "1",
         "322",
         "2",
         "48",
         "47",
         "4",
         "302"
        ],
        [
         "9",
         "Burrillville 0303",
         "147",
         "0",
         "296",
         "0",
         "41",
         "74",
         "1",
         "322"
        ],
        [
         "10",
         "Burrillville 0305",
         "133",
         "0",
         "231",
         "2",
         "31",
         "76",
         "4",
         "300"
        ],
        [
         "11",
         "Central Falls 0408",
         "850",
         "2",
         "580",
         "3",
         "14",
         "17",
         "1",
         "93"
        ],
        [
         "12",
         "Charlestown 0501",
         "226",
         "0",
         "444",
         "3",
         "41",
         "91",
         "1",
         "247"
        ],
        [
         "13",
         "Charlestown 0503",
         "187",
         "0",
         "297",
         "0",
         "25",
         "110",
         "3",
         "228"
        ],
        [
         "14",
         "Coventry 0603",
         "250",
         "0",
         "411",
         "2",
         "47",
         "78",
         "3",
         "380"
        ],
        [
         "15",
         "Coventry 0605",
         "216",
         "1",
         "379",
         "3",
         "69",
         "122",
         "3",
         "455"
        ],
        [
         "16",
         "Coventry 0607",
         "230",
         "0",
         "397",
         "0",
         "51",
         "113",
         "3",
         "377"
        ],
        [
         "17",
         "Coventry 0611",
         "271",
         "2",
         "392",
         "1",
         "63",
         "124",
         "2",
         "513"
        ],
        [
         "18",
         "Coventry 0613",
         "227",
         "2",
         "440",
         "1",
         "41",
         "76",
         "1",
         "333"
        ],
        [
         "19",
         "Cranston 0701",
         "420",
         "2",
         "578",
         "1",
         "46",
         "54",
         "3",
         "335"
        ],
        [
         "20",
         "Cranston 0706",
         "540",
         "1",
         "608",
         "1",
         "69",
         "287",
         "4",
         "1078"
        ],
        [
         "21",
         "Cranston 0726",
         "598",
         "3",
         "852",
         "2",
         "72",
         "122",
         "6",
         "446"
        ],
        [
         "22",
         "Cranston 0727",
         "876",
         "2",
         "1255",
         "1",
         "66",
         "177",
         "5",
         "365"
        ],
        [
         "23",
         "Cranston 0728",
         "509",
         "2",
         "603",
         "1",
         "62",
         "194",
         "10",
         "713"
        ],
        [
         "24",
         "Cranston 0731",
         "495",
         "1",
         "577",
         "0",
         "77",
         "145",
         "3",
         "774"
        ],
        [
         "25",
         "Cumberland 0801",
         "505",
         "5",
         "694",
         "6",
         "77",
         "188",
         "6",
         "403"
        ],
        [
         "26",
         "Cumberland 0808",
         "667",
         "4",
         "841",
         "4",
         "114",
         "317",
         "5",
         "625"
        ],
        [
         "27",
         "Cumberland 0812",
         "636",
         "3",
         "879",
         "2",
         "81",
         "145",
         "3",
         "383"
        ],
        [
         "28",
         "East Greenwich 0903",
         "762",
         "0",
         "735",
         "1",
         "105",
         "616",
         "11",
         "824"
        ],
        [
         "29",
         "East Providence 1004",
         "780",
         "3",
         "826",
         "6",
         "66",
         "171",
         "4",
         "383"
        ],
        [
         "30",
         "East Providence 1007",
         "574",
         "2",
         "684",
         "4",
         "58",
         "90",
         "2",
         "281"
        ],
        [
         "31",
         "East Providence 1008",
         "470",
         "4",
         "593",
         "1",
         "34",
         "35",
         "1",
         "197"
        ],
        [
         "32",
         "East Providence 1015",
         "665",
         "1",
         "975",
         "2",
         "87",
         "165",
         "2",
         "410"
        ],
        [
         "33",
         "Exeter 1103",
         "239",
         "1",
         "450",
         "1",
         "80",
         "164",
         "3",
         "484"
        ],
        [
         "34",
         "Federal Precinct #1",
         "1499",
         "6",
         "1191",
         "18",
         "156",
         "249",
         "13",
         "499"
        ],
        [
         "35",
         "Federal Precinct #2",
         "1089",
         "4",
         "1084",
         "16",
         "150",
         "249",
         "11",
         "613"
        ],
        [
         "36",
         "Foster 1201",
         "144",
         "2",
         "341",
         "0",
         "50",
         "105",
         "1",
         "357"
        ],
        [
         "37",
         "Glocester 1303",
         "306",
         "2",
         "694",
         "1",
         "118",
         "150",
         "3",
         "684"
        ],
        [
         "38",
         "Hopkinton 1401",
         "243",
         "1",
         "549",
         "4",
         "89",
         "99",
         "4",
         "431"
        ],
        [
         "39",
         "Jamestown 1501",
         "542",
         "1",
         "686",
         "0",
         "53",
         "230",
         "3",
         "319"
        ],
        [
         "40",
         "Johnston 1601",
         "123",
         "2",
         "145",
         "3",
         "17",
         "15",
         "1",
         "94"
        ],
        [
         "41",
         "Johnston 1602",
         "481",
         "4",
         "603",
         "7",
         "36",
         "53",
         "1",
         "416"
        ],
        [
         "42",
         "Johnston 1609",
         "623",
         "0",
         "782",
         "6",
         "56",
         "71",
         "7",
         "554"
        ],
        [
         "43",
         "Johnston 1613",
         "104",
         "1",
         "130",
         "0",
         "33",
         "37",
         "2",
         "131"
        ],
        [
         "44",
         "Lincoln 1703",
         "249",
         "0",
         "306",
         "0",
         "37",
         "101",
         "1",
         "262"
        ],
        [
         "45",
         "Lincoln 1706",
         "372",
         "0",
         "448",
         "2",
         "53",
         "148",
         "3",
         "479"
        ],
        [
         "46",
         "Lincoln 1707",
         "271",
         "1",
         "391",
         "1",
         "48",
         "139",
         "2",
         "359"
        ],
        [
         "47",
         "Lincoln 1711",
         "116",
         "2",
         "181",
         "1",
         "29",
         "35",
         "1",
         "90"
        ],
        [
         "48",
         "Little Compton 1801",
         "255",
         "0",
         "314",
         "0",
         "40",
         "113",
         "3",
         "268"
        ],
        [
         "49",
         "Middletown 1901",
         "141",
         "1",
         "167",
         "0",
         "13",
         "79",
         "2",
         "107"
        ]
       ],
       "shape": {
        "columns": 9,
        "rows": 146
       }
      },
      "text/html": [
       "<div>\n",
       "<style scoped>\n",
       "    .dataframe tbody tr th:only-of-type {\n",
       "        vertical-align: middle;\n",
       "    }\n",
       "\n",
       "    .dataframe tbody tr th {\n",
       "        vertical-align: top;\n",
       "    }\n",
       "\n",
       "    .dataframe thead th {\n",
       "        text-align: right;\n",
       "    }\n",
       "</style>\n",
       "<table border=\"1\" class=\"dataframe\">\n",
       "  <thead>\n",
       "    <tr style=\"text-align: right;\">\n",
       "      <th>candidate_column</th>\n",
       "      <th>precinct</th>\n",
       "      <th>pri_dem_CLINTON</th>\n",
       "      <th>pri_dem_FUENTE</th>\n",
       "      <th>pri_dem_SANDERS</th>\n",
       "      <th>pri_dem_STEWART</th>\n",
       "      <th>pri_rep_CRUZ</th>\n",
       "      <th>pri_rep_KASICH</th>\n",
       "      <th>pri_rep_RUBIO</th>\n",
       "      <th>pri_rep_TRUMP</th>\n",
       "    </tr>\n",
       "  </thead>\n",
       "  <tbody>\n",
       "    <tr>\n",
       "      <th>0</th>\n",
       "      <td>Barrington 0101</td>\n",
       "      <td>214</td>\n",
       "      <td>0</td>\n",
       "      <td>251</td>\n",
       "      <td>0</td>\n",
       "      <td>34</td>\n",
       "      <td>92</td>\n",
       "      <td>2</td>\n",
       "      <td>115</td>\n",
       "    </tr>\n",
       "    <tr>\n",
       "      <th>1</th>\n",
       "      <td>Barrington 0102</td>\n",
       "      <td>336</td>\n",
       "      <td>0</td>\n",
       "      <td>347</td>\n",
       "      <td>0</td>\n",
       "      <td>29</td>\n",
       "      <td>119</td>\n",
       "      <td>2</td>\n",
       "      <td>138</td>\n",
       "    </tr>\n",
       "    <tr>\n",
       "      <th>2</th>\n",
       "      <td>Barrington 0103</td>\n",
       "      <td>313</td>\n",
       "      <td>0</td>\n",
       "      <td>216</td>\n",
       "      <td>0</td>\n",
       "      <td>25</td>\n",
       "      <td>153</td>\n",
       "      <td>4</td>\n",
       "      <td>124</td>\n",
       "    </tr>\n",
       "    <tr>\n",
       "      <th>3</th>\n",
       "      <td>Barrington 0104</td>\n",
       "      <td>316</td>\n",
       "      <td>1</td>\n",
       "      <td>299</td>\n",
       "      <td>0</td>\n",
       "      <td>23</td>\n",
       "      <td>158</td>\n",
       "      <td>3</td>\n",
       "      <td>173</td>\n",
       "    </tr>\n",
       "    <tr>\n",
       "      <th>4</th>\n",
       "      <td>Barrington 0105</td>\n",
       "      <td>311</td>\n",
       "      <td>1</td>\n",
       "      <td>286</td>\n",
       "      <td>1</td>\n",
       "      <td>33</td>\n",
       "      <td>178</td>\n",
       "      <td>3</td>\n",
       "      <td>137</td>\n",
       "    </tr>\n",
       "    <tr>\n",
       "      <th>...</th>\n",
       "      <td>...</td>\n",
       "      <td>...</td>\n",
       "      <td>...</td>\n",
       "      <td>...</td>\n",
       "      <td>...</td>\n",
       "      <td>...</td>\n",
       "      <td>...</td>\n",
       "      <td>...</td>\n",
       "      <td>...</td>\n",
       "    </tr>\n",
       "    <tr>\n",
       "      <th>141</th>\n",
       "      <td>Woonsocket 3902</td>\n",
       "      <td>159</td>\n",
       "      <td>0</td>\n",
       "      <td>105</td>\n",
       "      <td>1</td>\n",
       "      <td>5</td>\n",
       "      <td>7</td>\n",
       "      <td>4</td>\n",
       "      <td>62</td>\n",
       "    </tr>\n",
       "    <tr>\n",
       "      <th>142</th>\n",
       "      <td>Woonsocket 3903</td>\n",
       "      <td>337</td>\n",
       "      <td>1</td>\n",
       "      <td>394</td>\n",
       "      <td>2</td>\n",
       "      <td>39</td>\n",
       "      <td>31</td>\n",
       "      <td>4</td>\n",
       "      <td>181</td>\n",
       "    </tr>\n",
       "    <tr>\n",
       "      <th>143</th>\n",
       "      <td>Woonsocket 3905</td>\n",
       "      <td>124</td>\n",
       "      <td>0</td>\n",
       "      <td>164</td>\n",
       "      <td>1</td>\n",
       "      <td>14</td>\n",
       "      <td>10</td>\n",
       "      <td>0</td>\n",
       "      <td>67</td>\n",
       "    </tr>\n",
       "    <tr>\n",
       "      <th>144</th>\n",
       "      <td>Woonsocket 3907</td>\n",
       "      <td>339</td>\n",
       "      <td>2</td>\n",
       "      <td>488</td>\n",
       "      <td>0</td>\n",
       "      <td>49</td>\n",
       "      <td>62</td>\n",
       "      <td>2</td>\n",
       "      <td>313</td>\n",
       "    </tr>\n",
       "    <tr>\n",
       "      <th>145</th>\n",
       "      <td>Woonsocket 3909</td>\n",
       "      <td>363</td>\n",
       "      <td>0</td>\n",
       "      <td>523</td>\n",
       "      <td>2</td>\n",
       "      <td>36</td>\n",
       "      <td>66</td>\n",
       "      <td>2</td>\n",
       "      <td>394</td>\n",
       "    </tr>\n",
       "  </tbody>\n",
       "</table>\n",
       "<p>146 rows × 9 columns</p>\n",
       "</div>"
      ],
      "text/plain": [
       "candidate_column         precinct  pri_dem_CLINTON  pri_dem_FUENTE  \\\n",
       "0                 Barrington 0101              214               0   \n",
       "1                 Barrington 0102              336               0   \n",
       "2                 Barrington 0103              313               0   \n",
       "3                 Barrington 0104              316               1   \n",
       "4                 Barrington 0105              311               1   \n",
       "..                            ...              ...             ...   \n",
       "141               Woonsocket 3902              159               0   \n",
       "142               Woonsocket 3903              337               1   \n",
       "143               Woonsocket 3905              124               0   \n",
       "144               Woonsocket 3907              339               2   \n",
       "145               Woonsocket 3909              363               0   \n",
       "\n",
       "candidate_column  pri_dem_SANDERS  pri_dem_STEWART  pri_rep_CRUZ  \\\n",
       "0                             251                0            34   \n",
       "1                             347                0            29   \n",
       "2                             216                0            25   \n",
       "3                             299                0            23   \n",
       "4                             286                1            33   \n",
       "..                            ...              ...           ...   \n",
       "141                           105                1             5   \n",
       "142                           394                2            39   \n",
       "143                           164                1            14   \n",
       "144                           488                0            49   \n",
       "145                           523                2            36   \n",
       "\n",
       "candidate_column  pri_rep_KASICH  pri_rep_RUBIO  pri_rep_TRUMP  \n",
       "0                             92              2            115  \n",
       "1                            119              2            138  \n",
       "2                            153              4            124  \n",
       "3                            158              3            173  \n",
       "4                            178              3            137  \n",
       "..                           ...            ...            ...  \n",
       "141                            7              4             62  \n",
       "142                           31              4            181  \n",
       "143                           10              0             67  \n",
       "144                           62              2            313  \n",
       "145                           66              2            394  \n",
       "\n",
       "[146 rows x 9 columns]"
      ]
     },
     "execution_count": 28,
     "metadata": {},
     "output_type": "execute_result"
    }
   ],
   "source": [
    "primary_data.loc[:,\"candidate_column\"] = (\n",
    "    \"pri_\" +\n",
    "    primary_data[\"party\"].str.lower() + \"_\" +\n",
    "    primary_data[\"candidate\"].str.split().str[-1].str.upper()\n",
    ")\n",
    "\n",
    "# pivot the table\n",
    "primary_result = primary_data.pivot_table(\n",
    "    index=\"precinct\",\n",
    "    columns=\"candidate_column\",\n",
    "    values=\"votes\",\n",
    "    aggfunc=\"sum\",  \n",
    "    fill_value=0\n",
    ").reset_index()\n",
    "\n",
    "primary_result"
   ]
  },
  {
   "cell_type": "code",
   "execution_count": 30,
   "id": "f1ef9692",
   "metadata": {},
   "outputs": [
    {
     "data": {
      "application/vnd.microsoft.datawrangler.viewer.v0+json": {
       "columns": [
        {
         "name": "index",
         "rawType": "int64",
         "type": "integer"
        },
        {
         "name": "office",
         "rawType": "object",
         "type": "string"
        },
        {
         "name": "district",
         "rawType": "float64",
         "type": "float"
        },
        {
         "name": "candidate",
         "rawType": "object",
         "type": "string"
        },
        {
         "name": "party",
         "rawType": "object",
         "type": "unknown"
        },
        {
         "name": "precinct",
         "rawType": "object",
         "type": "string"
        },
        {
         "name": "votes",
         "rawType": "int64",
         "type": "integer"
        },
        {
         "name": "absentee_votes",
         "rawType": "int64",
         "type": "integer"
        }
       ],
       "ref": "aea9d2ba-ba11-4879-a990-fe638bcb82f8",
       "rows": [
        [
         "0",
         "President",
         null,
         "Donald J. Trump",
         "R",
         "Barrington 0101",
         "522",
         "36"
        ],
        [
         "1",
         "President",
         null,
         "Donald J. Trump",
         "R",
         "Barrington 0102",
         "683",
         "67"
        ],
        [
         "2",
         "President",
         null,
         "Donald J. Trump",
         "R",
         "Barrington 0103",
         "469",
         "39"
        ],
        [
         "3",
         "President",
         null,
         "Donald J. Trump",
         "R",
         "Barrington 0104",
         "611",
         "38"
        ],
        [
         "4",
         "President",
         null,
         "Donald J. Trump",
         "R",
         "Barrington 0105",
         "590",
         "68"
        ],
        [
         "5",
         "President",
         null,
         "Donald J. Trump",
         "R",
         "Barrington Limited",
         "0",
         "0"
        ],
        [
         "6",
         "President",
         null,
         "Donald J. Trump",
         "R",
         "Barrington Presidential",
         "23",
         "0"
        ],
        [
         "7",
         "President",
         null,
         "Donald J. Trump",
         "R",
         "Bristol 0201",
         "472",
         "23"
        ],
        [
         "8",
         "President",
         null,
         "Donald J. Trump",
         "R",
         "Bristol 0202",
         "185",
         "15"
        ],
        [
         "9",
         "President",
         null,
         "Donald J. Trump",
         "R",
         "Bristol 0203",
         "806",
         "78"
        ],
        [
         "10",
         "President",
         null,
         "Donald J. Trump",
         "R",
         "Bristol 0204",
         "498",
         "44"
        ],
        [
         "11",
         "President",
         null,
         "Donald J. Trump",
         "R",
         "Bristol 0205",
         "727",
         "35"
        ],
        [
         "12",
         "President",
         null,
         "Donald J. Trump",
         "R",
         "Bristol 0206",
         "478",
         "18"
        ],
        [
         "13",
         "President",
         null,
         "Donald J. Trump",
         "R",
         "Bristol 0207",
         "290",
         "28"
        ],
        [
         "14",
         "President",
         null,
         "Donald J. Trump",
         "R",
         "Bristol 0208",
         "398",
         "31"
        ],
        [
         "15",
         "President",
         null,
         "Donald J. Trump",
         "R",
         "Bristol 0209",
         "100",
         "5"
        ],
        [
         "16",
         "President",
         null,
         "Donald J. Trump",
         "R",
         "Bristol Limited",
         "0",
         "0"
        ],
        [
         "17",
         "President",
         null,
         "Donald J. Trump",
         "R",
         "Bristol Presidential",
         "126",
         "0"
        ],
        [
         "18",
         "President",
         null,
         "Donald J. Trump",
         "R",
         "Burrillville 0301",
         "661",
         "43"
        ],
        [
         "19",
         "President",
         null,
         "Donald J. Trump",
         "R",
         "Burrillville 0302",
         "715",
         "40"
        ],
        [
         "20",
         "President",
         null,
         "Donald J. Trump",
         "R",
         "Burrillville 0303",
         "880",
         "33"
        ],
        [
         "21",
         "President",
         null,
         "Donald J. Trump",
         "R",
         "Burrillville 0304",
         "516",
         "21"
        ],
        [
         "22",
         "President",
         null,
         "Donald J. Trump",
         "R",
         "Burrillville 0305",
         "579",
         "23"
        ],
        [
         "23",
         "President",
         null,
         "Donald J. Trump",
         "R",
         "Burrillville 0306",
         "703",
         "19"
        ],
        [
         "24",
         "President",
         null,
         "Donald J. Trump",
         "R",
         "Burrillville Limited",
         "0",
         "0"
        ],
        [
         "25",
         "President",
         null,
         "Donald J. Trump",
         "R",
         "Burrillville Presidential",
         "85",
         "2"
        ],
        [
         "26",
         "President",
         null,
         "Donald J. Trump",
         "R",
         "Central Falls 0401",
         "103",
         "6"
        ],
        [
         "27",
         "President",
         null,
         "Donald J. Trump",
         "R",
         "Central Falls 0402",
         "63",
         "5"
        ],
        [
         "28",
         "President",
         null,
         "Donald J. Trump",
         "R",
         "Central Falls 0403",
         "92",
         "10"
        ],
        [
         "29",
         "President",
         null,
         "Donald J. Trump",
         "R",
         "Central Falls 0404",
         "80",
         "15"
        ],
        [
         "30",
         "President",
         null,
         "Donald J. Trump",
         "R",
         "Central Falls 0405",
         "40",
         "1"
        ],
        [
         "31",
         "President",
         null,
         "Donald J. Trump",
         "R",
         "Central Falls 0406",
         "137",
         "2"
        ],
        [
         "32",
         "President",
         null,
         "Donald J. Trump",
         "R",
         "Central Falls 0407",
         "31",
         "0"
        ],
        [
         "33",
         "President",
         null,
         "Donald J. Trump",
         "R",
         "Central Falls 0408",
         "98",
         "5"
        ],
        [
         "34",
         "President",
         null,
         "Donald J. Trump",
         "R",
         "Central Falls Limited",
         "0",
         "0"
        ],
        [
         "35",
         "President",
         null,
         "Donald J. Trump",
         "R",
         "Central Falls Presidential",
         "13",
         "1"
        ],
        [
         "36",
         "President",
         null,
         "Donald J. Trump",
         "R",
         "Charlestown 0501",
         "521",
         "33"
        ],
        [
         "37",
         "President",
         null,
         "Donald J. Trump",
         "R",
         "Charlestown 0502",
         "531",
         "28"
        ],
        [
         "38",
         "President",
         null,
         "Donald J. Trump",
         "R",
         "Charlestown 0503",
         "453",
         "53"
        ],
        [
         "39",
         "President",
         null,
         "Donald J. Trump",
         "R",
         "Charlestown 0504",
         "362",
         "43"
        ],
        [
         "40",
         "President",
         null,
         "Donald J. Trump",
         "R",
         "Charlestown Limited",
         "0",
         "0"
        ],
        [
         "41",
         "President",
         null,
         "Donald J. Trump",
         "R",
         "Charlestown Presidential",
         "39",
         "7"
        ],
        [
         "42",
         "President",
         null,
         "Donald J. Trump",
         "R",
         "Coventry 0601",
         "541",
         "22"
        ],
        [
         "43",
         "President",
         null,
         "Donald J. Trump",
         "R",
         "Coventry 0602",
         "130",
         "2"
        ],
        [
         "44",
         "President",
         null,
         "Donald J. Trump",
         "R",
         "Coventry 0603",
         "820",
         "33"
        ],
        [
         "45",
         "President",
         null,
         "Donald J. Trump",
         "R",
         "Coventry 0604",
         "527",
         "16"
        ],
        [
         "46",
         "President",
         null,
         "Donald J. Trump",
         "R",
         "Coventry 0605",
         "598",
         "21"
        ],
        [
         "47",
         "President",
         null,
         "Donald J. Trump",
         "R",
         "Coventry 0606",
         "339",
         "13"
        ],
        [
         "48",
         "President",
         null,
         "Donald J. Trump",
         "R",
         "Coventry 0607",
         "706",
         "26"
        ],
        [
         "49",
         "President",
         null,
         "Donald J. Trump",
         "R",
         "Coventry 0608",
         "676",
         "16"
        ]
       ],
       "shape": {
        "columns": 7,
        "rows": 3006
       }
      },
      "text/html": [
       "<div>\n",
       "<style scoped>\n",
       "    .dataframe tbody tr th:only-of-type {\n",
       "        vertical-align: middle;\n",
       "    }\n",
       "\n",
       "    .dataframe tbody tr th {\n",
       "        vertical-align: top;\n",
       "    }\n",
       "\n",
       "    .dataframe thead th {\n",
       "        text-align: right;\n",
       "    }\n",
       "</style>\n",
       "<table border=\"1\" class=\"dataframe\">\n",
       "  <thead>\n",
       "    <tr style=\"text-align: right;\">\n",
       "      <th></th>\n",
       "      <th>office</th>\n",
       "      <th>district</th>\n",
       "      <th>candidate</th>\n",
       "      <th>party</th>\n",
       "      <th>precinct</th>\n",
       "      <th>votes</th>\n",
       "      <th>absentee_votes</th>\n",
       "    </tr>\n",
       "  </thead>\n",
       "  <tbody>\n",
       "    <tr>\n",
       "      <th>0</th>\n",
       "      <td>President</td>\n",
       "      <td>NaN</td>\n",
       "      <td>Donald J. Trump</td>\n",
       "      <td>R</td>\n",
       "      <td>Barrington 0101</td>\n",
       "      <td>522</td>\n",
       "      <td>36</td>\n",
       "    </tr>\n",
       "    <tr>\n",
       "      <th>1</th>\n",
       "      <td>President</td>\n",
       "      <td>NaN</td>\n",
       "      <td>Donald J. Trump</td>\n",
       "      <td>R</td>\n",
       "      <td>Barrington 0102</td>\n",
       "      <td>683</td>\n",
       "      <td>67</td>\n",
       "    </tr>\n",
       "    <tr>\n",
       "      <th>2</th>\n",
       "      <td>President</td>\n",
       "      <td>NaN</td>\n",
       "      <td>Donald J. Trump</td>\n",
       "      <td>R</td>\n",
       "      <td>Barrington 0103</td>\n",
       "      <td>469</td>\n",
       "      <td>39</td>\n",
       "    </tr>\n",
       "    <tr>\n",
       "      <th>3</th>\n",
       "      <td>President</td>\n",
       "      <td>NaN</td>\n",
       "      <td>Donald J. Trump</td>\n",
       "      <td>R</td>\n",
       "      <td>Barrington 0104</td>\n",
       "      <td>611</td>\n",
       "      <td>38</td>\n",
       "    </tr>\n",
       "    <tr>\n",
       "      <th>4</th>\n",
       "      <td>President</td>\n",
       "      <td>NaN</td>\n",
       "      <td>Donald J. Trump</td>\n",
       "      <td>R</td>\n",
       "      <td>Barrington 0105</td>\n",
       "      <td>590</td>\n",
       "      <td>68</td>\n",
       "    </tr>\n",
       "    <tr>\n",
       "      <th>...</th>\n",
       "      <td>...</td>\n",
       "      <td>...</td>\n",
       "      <td>...</td>\n",
       "      <td>...</td>\n",
       "      <td>...</td>\n",
       "      <td>...</td>\n",
       "      <td>...</td>\n",
       "    </tr>\n",
       "    <tr>\n",
       "      <th>3001</th>\n",
       "      <td>President</td>\n",
       "      <td>NaN</td>\n",
       "      <td>WRITE-IN</td>\n",
       "      <td>NaN</td>\n",
       "      <td>Woonsocket 3912</td>\n",
       "      <td>17</td>\n",
       "      <td>0</td>\n",
       "    </tr>\n",
       "    <tr>\n",
       "      <th>3002</th>\n",
       "      <td>President</td>\n",
       "      <td>NaN</td>\n",
       "      <td>WRITE-IN</td>\n",
       "      <td>NaN</td>\n",
       "      <td>Woonsocket Limited</td>\n",
       "      <td>0</td>\n",
       "      <td>0</td>\n",
       "    </tr>\n",
       "    <tr>\n",
       "      <th>3003</th>\n",
       "      <td>President</td>\n",
       "      <td>NaN</td>\n",
       "      <td>WRITE-IN</td>\n",
       "      <td>NaN</td>\n",
       "      <td>Woonsocket Presidential</td>\n",
       "      <td>4</td>\n",
       "      <td>0</td>\n",
       "    </tr>\n",
       "    <tr>\n",
       "      <th>3004</th>\n",
       "      <td>President</td>\n",
       "      <td>NaN</td>\n",
       "      <td>WRITE-IN</td>\n",
       "      <td>NaN</td>\n",
       "      <td>Federal Precinct #1</td>\n",
       "      <td>1</td>\n",
       "      <td>1</td>\n",
       "    </tr>\n",
       "    <tr>\n",
       "      <th>3005</th>\n",
       "      <td>President</td>\n",
       "      <td>NaN</td>\n",
       "      <td>WRITE-IN</td>\n",
       "      <td>NaN</td>\n",
       "      <td>Federal Precinct #2</td>\n",
       "      <td>4</td>\n",
       "      <td>4</td>\n",
       "    </tr>\n",
       "  </tbody>\n",
       "</table>\n",
       "<p>3006 rows × 7 columns</p>\n",
       "</div>"
      ],
      "text/plain": [
       "         office  district        candidate party                 precinct  \\\n",
       "0     President       NaN  Donald J. Trump     R          Barrington 0101   \n",
       "1     President       NaN  Donald J. Trump     R          Barrington 0102   \n",
       "2     President       NaN  Donald J. Trump     R          Barrington 0103   \n",
       "3     President       NaN  Donald J. Trump     R          Barrington 0104   \n",
       "4     President       NaN  Donald J. Trump     R          Barrington 0105   \n",
       "...         ...       ...              ...   ...                      ...   \n",
       "3001  President       NaN         WRITE-IN   NaN          Woonsocket 3912   \n",
       "3002  President       NaN         WRITE-IN   NaN       Woonsocket Limited   \n",
       "3003  President       NaN         WRITE-IN   NaN  Woonsocket Presidential   \n",
       "3004  President       NaN         WRITE-IN   NaN      Federal Precinct #1   \n",
       "3005  President       NaN         WRITE-IN   NaN      Federal Precinct #2   \n",
       "\n",
       "      votes  absentee_votes  \n",
       "0       522              36  \n",
       "1       683              67  \n",
       "2       469              39  \n",
       "3       611              38  \n",
       "4       590              68  \n",
       "...     ...             ...  \n",
       "3001     17               0  \n",
       "3002      0               0  \n",
       "3003      4               0  \n",
       "3004      1               1  \n",
       "3005      4               4  \n",
       "\n",
       "[3006 rows x 7 columns]"
      ]
     },
     "execution_count": 30,
     "metadata": {},
     "output_type": "execute_result"
    }
   ],
   "source": [
    "# Process general files\n",
    "gen_df_list = []\n",
    "\n",
    "for file in general_files:\n",
    "    try:\n",
    "        df = pd.read_csv(file)\n",
    "\n",
    "        # Select only president\n",
    "        if 'office' in df.columns:\n",
    "            df = df[df[\"office\"] == \"President\" ]\n",
    "\n",
    "        gen_df_list.append(df)\n",
    "\n",
    "    except Exception as e:\n",
    "        print(f\"Error in {file}: {e}\")\n",
    "\n",
    "# Combine all cleaned files\n",
    "gen_combined_df = pd.concat(gen_df_list, ignore_index=True)\n",
    "gen_combined_df\n"
   ]
  },
  {
   "cell_type": "code",
   "execution_count": 32,
   "id": "1bbbd54d",
   "metadata": {},
   "outputs": [
    {
     "data": {
      "application/vnd.microsoft.datawrangler.viewer.v0+json": {
       "columns": [
        {
         "name": "party",
         "rawType": "object",
         "type": "unknown"
        },
        {
         "name": "count",
         "rawType": "int64",
         "type": "integer"
        }
       ],
       "ref": "e50259cc-010a-4620-b2f3-68a339bd0e42",
       "rows": [
        [
         null,
         "1002"
        ],
        [
         "R",
         "501"
        ],
        [
         "D",
         "501"
        ],
        [
         "L",
         "501"
        ],
        [
         "G",
         "501"
        ]
       ],
       "shape": {
        "columns": 1,
        "rows": 5
       }
      },
      "text/plain": [
       "party\n",
       "NaN    1002\n",
       "R       501\n",
       "D       501\n",
       "L       501\n",
       "G       501\n",
       "Name: count, dtype: int64"
      ]
     },
     "execution_count": 32,
     "metadata": {},
     "output_type": "execute_result"
    }
   ],
   "source": [
    "general_data = gen_combined_df[[\"precinct\", \"party\", \"candidate\", \"votes\"]]\n",
    "general_data[\"party\"].value_counts(dropna=False)\n"
   ]
  },
  {
   "cell_type": "code",
   "execution_count": 33,
   "id": "a22405a6",
   "metadata": {},
   "outputs": [
    {
     "data": {
      "application/vnd.microsoft.datawrangler.viewer.v0+json": {
       "columns": [
        {
         "name": "candidate",
         "rawType": "object",
         "type": "string"
        },
        {
         "name": "count",
         "rawType": "int64",
         "type": "integer"
        }
       ],
       "ref": "475a2a64-3c9b-4044-9724-b01552868999",
       "rows": [
        [
         "Donald J. Trump",
         "501"
        ],
        [
         "Hillary Clinton",
         "501"
        ],
        [
         "Gary Johnson",
         "501"
        ],
        [
         "Jill Stein",
         "501"
        ],
        [
         "\"Rocky\" Roque De La Fuente",
         "501"
        ],
        [
         "WRITE-IN",
         "501"
        ]
       ],
       "shape": {
        "columns": 1,
        "rows": 6
       }
      },
      "text/plain": [
       "candidate\n",
       "Donald J. Trump               501\n",
       "Hillary Clinton               501\n",
       "Gary Johnson                  501\n",
       "Jill Stein                    501\n",
       "\"Rocky\" Roque De La Fuente    501\n",
       "WRITE-IN                      501\n",
       "Name: count, dtype: int64"
      ]
     },
     "execution_count": 33,
     "metadata": {},
     "output_type": "execute_result"
    }
   ],
   "source": [
    "general_data[\"candidate\"].value_counts(dropna=False)"
   ]
  },
  {
   "cell_type": "code",
   "execution_count": 35,
   "id": "8bb5d275",
   "metadata": {},
   "outputs": [
    {
     "data": {
      "application/vnd.microsoft.datawrangler.viewer.v0+json": {
       "columns": [
        {
         "name": "candidate",
         "rawType": "object",
         "type": "string"
        },
        {
         "name": "count",
         "rawType": "int64",
         "type": "integer"
        }
       ],
       "ref": "79ef934b-4b7e-44e2-abf6-d64c66b48cf8",
       "rows": [
        [
         "Donald J. Trump",
         "501"
        ],
        [
         "Hillary Clinton",
         "501"
        ],
        [
         "Gary Johnson",
         "501"
        ],
        [
         "Jill Stein",
         "501"
        ],
        [
         "\"Rocky\" Roque De La Fuente",
         "501"
        ]
       ],
       "shape": {
        "columns": 1,
        "rows": 5
       }
      },
      "text/plain": [
       "candidate\n",
       "Donald J. Trump               501\n",
       "Hillary Clinton               501\n",
       "Gary Johnson                  501\n",
       "Jill Stein                    501\n",
       "\"Rocky\" Roque De La Fuente    501\n",
       "Name: count, dtype: int64"
      ]
     },
     "execution_count": 35,
     "metadata": {},
     "output_type": "execute_result"
    }
   ],
   "source": [
    "# remove WRITE-IN\n",
    "general_data = general_data[~general_data[\"candidate\"].isin([\"WRITE-IN\"])] \n",
    "general_data[\"candidate\"].value_counts(dropna=False)"
   ]
  },
  {
   "cell_type": "code",
   "execution_count": 36,
   "id": "42495558",
   "metadata": {},
   "outputs": [
    {
     "data": {
      "application/vnd.microsoft.datawrangler.viewer.v0+json": {
       "columns": [
        {
         "name": "index",
         "rawType": "int64",
         "type": "integer"
        },
        {
         "name": "precinct",
         "rawType": "object",
         "type": "string"
        },
        {
         "name": "party",
         "rawType": "object",
         "type": "string"
        },
        {
         "name": "candidate",
         "rawType": "object",
         "type": "string"
        },
        {
         "name": "votes",
         "rawType": "int64",
         "type": "integer"
        }
       ],
       "ref": "853c7d8a-34fc-4618-a4ba-19a3aaae4648",
       "rows": [
        [
         "0",
         "Barrington 0101",
         "REP",
         "Donald J. Trump",
         "522"
        ],
        [
         "1",
         "Barrington 0102",
         "REP",
         "Donald J. Trump",
         "683"
        ],
        [
         "2",
         "Barrington 0103",
         "REP",
         "Donald J. Trump",
         "469"
        ],
        [
         "3",
         "Barrington 0104",
         "REP",
         "Donald J. Trump",
         "611"
        ],
        [
         "4",
         "Barrington 0105",
         "REP",
         "Donald J. Trump",
         "590"
        ],
        [
         "5",
         "Barrington Limited",
         "REP",
         "Donald J. Trump",
         "0"
        ],
        [
         "6",
         "Barrington Presidential",
         "REP",
         "Donald J. Trump",
         "23"
        ],
        [
         "7",
         "Bristol 0201",
         "REP",
         "Donald J. Trump",
         "472"
        ],
        [
         "8",
         "Bristol 0202",
         "REP",
         "Donald J. Trump",
         "185"
        ],
        [
         "9",
         "Bristol 0203",
         "REP",
         "Donald J. Trump",
         "806"
        ],
        [
         "10",
         "Bristol 0204",
         "REP",
         "Donald J. Trump",
         "498"
        ],
        [
         "11",
         "Bristol 0205",
         "REP",
         "Donald J. Trump",
         "727"
        ],
        [
         "12",
         "Bristol 0206",
         "REP",
         "Donald J. Trump",
         "478"
        ],
        [
         "13",
         "Bristol 0207",
         "REP",
         "Donald J. Trump",
         "290"
        ],
        [
         "14",
         "Bristol 0208",
         "REP",
         "Donald J. Trump",
         "398"
        ],
        [
         "15",
         "Bristol 0209",
         "REP",
         "Donald J. Trump",
         "100"
        ],
        [
         "16",
         "Bristol Limited",
         "REP",
         "Donald J. Trump",
         "0"
        ],
        [
         "17",
         "Bristol Presidential",
         "REP",
         "Donald J. Trump",
         "126"
        ],
        [
         "18",
         "Burrillville 0301",
         "REP",
         "Donald J. Trump",
         "661"
        ],
        [
         "19",
         "Burrillville 0302",
         "REP",
         "Donald J. Trump",
         "715"
        ],
        [
         "20",
         "Burrillville 0303",
         "REP",
         "Donald J. Trump",
         "880"
        ],
        [
         "21",
         "Burrillville 0304",
         "REP",
         "Donald J. Trump",
         "516"
        ],
        [
         "22",
         "Burrillville 0305",
         "REP",
         "Donald J. Trump",
         "579"
        ],
        [
         "23",
         "Burrillville 0306",
         "REP",
         "Donald J. Trump",
         "703"
        ],
        [
         "24",
         "Burrillville Limited",
         "REP",
         "Donald J. Trump",
         "0"
        ],
        [
         "25",
         "Burrillville Presidential",
         "REP",
         "Donald J. Trump",
         "85"
        ],
        [
         "26",
         "Central Falls 0401",
         "REP",
         "Donald J. Trump",
         "103"
        ],
        [
         "27",
         "Central Falls 0402",
         "REP",
         "Donald J. Trump",
         "63"
        ],
        [
         "28",
         "Central Falls 0403",
         "REP",
         "Donald J. Trump",
         "92"
        ],
        [
         "29",
         "Central Falls 0404",
         "REP",
         "Donald J. Trump",
         "80"
        ],
        [
         "30",
         "Central Falls 0405",
         "REP",
         "Donald J. Trump",
         "40"
        ],
        [
         "31",
         "Central Falls 0406",
         "REP",
         "Donald J. Trump",
         "137"
        ],
        [
         "32",
         "Central Falls 0407",
         "REP",
         "Donald J. Trump",
         "31"
        ],
        [
         "33",
         "Central Falls 0408",
         "REP",
         "Donald J. Trump",
         "98"
        ],
        [
         "34",
         "Central Falls Limited",
         "REP",
         "Donald J. Trump",
         "0"
        ],
        [
         "35",
         "Central Falls Presidential",
         "REP",
         "Donald J. Trump",
         "13"
        ],
        [
         "36",
         "Charlestown 0501",
         "REP",
         "Donald J. Trump",
         "521"
        ],
        [
         "37",
         "Charlestown 0502",
         "REP",
         "Donald J. Trump",
         "531"
        ],
        [
         "38",
         "Charlestown 0503",
         "REP",
         "Donald J. Trump",
         "453"
        ],
        [
         "39",
         "Charlestown 0504",
         "REP",
         "Donald J. Trump",
         "362"
        ],
        [
         "40",
         "Charlestown Limited",
         "REP",
         "Donald J. Trump",
         "0"
        ],
        [
         "41",
         "Charlestown Presidential",
         "REP",
         "Donald J. Trump",
         "39"
        ],
        [
         "42",
         "Coventry 0601",
         "REP",
         "Donald J. Trump",
         "541"
        ],
        [
         "43",
         "Coventry 0602",
         "REP",
         "Donald J. Trump",
         "130"
        ],
        [
         "44",
         "Coventry 0603",
         "REP",
         "Donald J. Trump",
         "820"
        ],
        [
         "45",
         "Coventry 0604",
         "REP",
         "Donald J. Trump",
         "527"
        ],
        [
         "46",
         "Coventry 0605",
         "REP",
         "Donald J. Trump",
         "598"
        ],
        [
         "47",
         "Coventry 0606",
         "REP",
         "Donald J. Trump",
         "339"
        ],
        [
         "48",
         "Coventry 0607",
         "REP",
         "Donald J. Trump",
         "706"
        ],
        [
         "49",
         "Coventry 0608",
         "REP",
         "Donald J. Trump",
         "676"
        ]
       ],
       "shape": {
        "columns": 4,
        "rows": 1002
       }
      },
      "text/html": [
       "<div>\n",
       "<style scoped>\n",
       "    .dataframe tbody tr th:only-of-type {\n",
       "        vertical-align: middle;\n",
       "    }\n",
       "\n",
       "    .dataframe tbody tr th {\n",
       "        vertical-align: top;\n",
       "    }\n",
       "\n",
       "    .dataframe thead th {\n",
       "        text-align: right;\n",
       "    }\n",
       "</style>\n",
       "<table border=\"1\" class=\"dataframe\">\n",
       "  <thead>\n",
       "    <tr style=\"text-align: right;\">\n",
       "      <th></th>\n",
       "      <th>precinct</th>\n",
       "      <th>party</th>\n",
       "      <th>candidate</th>\n",
       "      <th>votes</th>\n",
       "    </tr>\n",
       "  </thead>\n",
       "  <tbody>\n",
       "    <tr>\n",
       "      <th>0</th>\n",
       "      <td>Barrington 0101</td>\n",
       "      <td>REP</td>\n",
       "      <td>Donald J. Trump</td>\n",
       "      <td>522</td>\n",
       "    </tr>\n",
       "    <tr>\n",
       "      <th>1</th>\n",
       "      <td>Barrington 0102</td>\n",
       "      <td>REP</td>\n",
       "      <td>Donald J. Trump</td>\n",
       "      <td>683</td>\n",
       "    </tr>\n",
       "    <tr>\n",
       "      <th>2</th>\n",
       "      <td>Barrington 0103</td>\n",
       "      <td>REP</td>\n",
       "      <td>Donald J. Trump</td>\n",
       "      <td>469</td>\n",
       "    </tr>\n",
       "    <tr>\n",
       "      <th>3</th>\n",
       "      <td>Barrington 0104</td>\n",
       "      <td>REP</td>\n",
       "      <td>Donald J. Trump</td>\n",
       "      <td>611</td>\n",
       "    </tr>\n",
       "    <tr>\n",
       "      <th>4</th>\n",
       "      <td>Barrington 0105</td>\n",
       "      <td>REP</td>\n",
       "      <td>Donald J. Trump</td>\n",
       "      <td>590</td>\n",
       "    </tr>\n",
       "    <tr>\n",
       "      <th>...</th>\n",
       "      <td>...</td>\n",
       "      <td>...</td>\n",
       "      <td>...</td>\n",
       "      <td>...</td>\n",
       "    </tr>\n",
       "    <tr>\n",
       "      <th>997</th>\n",
       "      <td>Woonsocket 3912</td>\n",
       "      <td>DEM</td>\n",
       "      <td>Hillary Clinton</td>\n",
       "      <td>506</td>\n",
       "    </tr>\n",
       "    <tr>\n",
       "      <th>998</th>\n",
       "      <td>Woonsocket Limited</td>\n",
       "      <td>DEM</td>\n",
       "      <td>Hillary Clinton</td>\n",
       "      <td>0</td>\n",
       "    </tr>\n",
       "    <tr>\n",
       "      <th>999</th>\n",
       "      <td>Woonsocket Presidential</td>\n",
       "      <td>DEM</td>\n",
       "      <td>Hillary Clinton</td>\n",
       "      <td>104</td>\n",
       "    </tr>\n",
       "    <tr>\n",
       "      <th>1000</th>\n",
       "      <td>Federal Precinct #1</td>\n",
       "      <td>DEM</td>\n",
       "      <td>Hillary Clinton</td>\n",
       "      <td>376</td>\n",
       "    </tr>\n",
       "    <tr>\n",
       "      <th>1001</th>\n",
       "      <td>Federal Precinct #2</td>\n",
       "      <td>DEM</td>\n",
       "      <td>Hillary Clinton</td>\n",
       "      <td>261</td>\n",
       "    </tr>\n",
       "  </tbody>\n",
       "</table>\n",
       "<p>1002 rows × 4 columns</p>\n",
       "</div>"
      ],
      "text/plain": [
       "                     precinct party        candidate  votes\n",
       "0             Barrington 0101   REP  Donald J. Trump    522\n",
       "1             Barrington 0102   REP  Donald J. Trump    683\n",
       "2             Barrington 0103   REP  Donald J. Trump    469\n",
       "3             Barrington 0104   REP  Donald J. Trump    611\n",
       "4             Barrington 0105   REP  Donald J. Trump    590\n",
       "...                       ...   ...              ...    ...\n",
       "997           Woonsocket 3912   DEM  Hillary Clinton    506\n",
       "998        Woonsocket Limited   DEM  Hillary Clinton      0\n",
       "999   Woonsocket Presidential   DEM  Hillary Clinton    104\n",
       "1000      Federal Precinct #1   DEM  Hillary Clinton    376\n",
       "1001      Federal Precinct #2   DEM  Hillary Clinton    261\n",
       "\n",
       "[1002 rows x 4 columns]"
      ]
     },
     "execution_count": 36,
     "metadata": {},
     "output_type": "execute_result"
    }
   ],
   "source": [
    "# general_data = general_data[~general_data[\"candidate\"].isin([\"YES\", \"NO\"])]\n",
    "# general_data[\"party\"] = general_data.apply(\n",
    "#     lambda row: candidate_party_map.get(row[\"candidate\"], row[\"party\"]) if pd.isna(row[\"party\"]) else row[\"party\"],\n",
    "#     axis=1\n",
    "# )\n",
    "general_data.loc[:, \"party\"] = general_data[\"party\"].replace({\n",
    "    \"D\": \"DEM\",\n",
    "    \"R\": \"REP\"\n",
    "})\n",
    "general_data = general_data[general_data[\"party\"].isin([\"DEM\", \"REP\"])] # Analyzing only republican and democratic\n",
    "general_data"
   ]
  },
  {
   "cell_type": "code",
   "execution_count": 38,
   "id": "daaed088",
   "metadata": {},
   "outputs": [
    {
     "data": {
      "application/vnd.microsoft.datawrangler.viewer.v0+json": {
       "columns": [
        {
         "name": "index",
         "rawType": "int64",
         "type": "integer"
        },
        {
         "name": "precinct",
         "rawType": "object",
         "type": "string"
        },
        {
         "name": "gen_dem_CLINTON",
         "rawType": "int64",
         "type": "integer"
        },
        {
         "name": "gen_rep_TRUMP",
         "rawType": "int64",
         "type": "integer"
        }
       ],
       "ref": "18510bcd-1047-40f7-a886-9b50549ec9e3",
       "rows": [
        [
         "0",
         "Barrington 0101",
         "1027",
         "522"
        ],
        [
         "1",
         "Barrington 0102",
         "1331",
         "683"
        ],
        [
         "2",
         "Barrington 0103",
         "1136",
         "469"
        ],
        [
         "3",
         "Barrington 0104",
         "1328",
         "611"
        ],
        [
         "4",
         "Barrington 0105",
         "1290",
         "590"
        ],
        [
         "5",
         "Barrington Limited",
         "1",
         "0"
        ],
        [
         "6",
         "Barrington Presidential",
         "40",
         "23"
        ],
        [
         "7",
         "Bristol 0201",
         "496",
         "472"
        ],
        [
         "8",
         "Bristol 0202",
         "371",
         "185"
        ],
        [
         "9",
         "Bristol 0203",
         "1152",
         "806"
        ],
        [
         "10",
         "Bristol 0204",
         "767",
         "498"
        ],
        [
         "11",
         "Bristol 0205",
         "800",
         "727"
        ],
        [
         "12",
         "Bristol 0206",
         "695",
         "478"
        ],
        [
         "13",
         "Bristol 0207",
         "534",
         "290"
        ],
        [
         "14",
         "Bristol 0208",
         "618",
         "398"
        ],
        [
         "15",
         "Bristol 0209",
         "129",
         "100"
        ],
        [
         "16",
         "Bristol Limited",
         "1",
         "0"
        ],
        [
         "17",
         "Bristol Presidential",
         "208",
         "126"
        ],
        [
         "18",
         "Burrillville 0301",
         "443",
         "661"
        ],
        [
         "19",
         "Burrillville 0302",
         "421",
         "715"
        ],
        [
         "20",
         "Burrillville 0303",
         "564",
         "880"
        ],
        [
         "21",
         "Burrillville 0304",
         "349",
         "516"
        ],
        [
         "22",
         "Burrillville 0305",
         "348",
         "579"
        ],
        [
         "23",
         "Burrillville 0306",
         "392",
         "703"
        ],
        [
         "24",
         "Burrillville Limited",
         "0",
         "0"
        ],
        [
         "25",
         "Burrillville Presidential",
         "41",
         "85"
        ],
        [
         "26",
         "Central Falls 0401",
         "645",
         "103"
        ],
        [
         "27",
         "Central Falls 0402",
         "272",
         "63"
        ],
        [
         "28",
         "Central Falls 0403",
         "655",
         "92"
        ],
        [
         "29",
         "Central Falls 0404",
         "542",
         "80"
        ],
        [
         "30",
         "Central Falls 0405",
         "238",
         "40"
        ],
        [
         "31",
         "Central Falls 0406",
         "295",
         "137"
        ],
        [
         "32",
         "Central Falls 0407",
         "149",
         "31"
        ],
        [
         "33",
         "Central Falls 0408",
         "471",
         "98"
        ],
        [
         "34",
         "Central Falls Limited",
         "0",
         "0"
        ],
        [
         "35",
         "Central Falls Presidential",
         "123",
         "13"
        ],
        [
         "36",
         "Charlestown 0501",
         "581",
         "521"
        ],
        [
         "37",
         "Charlestown 0502",
         "622",
         "531"
        ],
        [
         "38",
         "Charlestown 0503",
         "550",
         "453"
        ],
        [
         "39",
         "Charlestown 0504",
         "425",
         "362"
        ],
        [
         "40",
         "Charlestown Limited",
         "0",
         "0"
        ],
        [
         "41",
         "Charlestown Presidential",
         "29",
         "39"
        ],
        [
         "42",
         "Coventry 0601",
         "375",
         "541"
        ],
        [
         "43",
         "Coventry 0602",
         "118",
         "130"
        ],
        [
         "44",
         "Coventry 0603",
         "649",
         "820"
        ],
        [
         "45",
         "Coventry 0604",
         "395",
         "527"
        ],
        [
         "46",
         "Coventry 0605",
         "398",
         "598"
        ],
        [
         "47",
         "Coventry 0606",
         "220",
         "339"
        ],
        [
         "48",
         "Coventry 0607",
         "628",
         "706"
        ],
        [
         "49",
         "Coventry 0608",
         "554",
         "676"
        ]
       ],
       "shape": {
        "columns": 3,
        "rows": 501
       }
      },
      "text/html": [
       "<div>\n",
       "<style scoped>\n",
       "    .dataframe tbody tr th:only-of-type {\n",
       "        vertical-align: middle;\n",
       "    }\n",
       "\n",
       "    .dataframe tbody tr th {\n",
       "        vertical-align: top;\n",
       "    }\n",
       "\n",
       "    .dataframe thead th {\n",
       "        text-align: right;\n",
       "    }\n",
       "</style>\n",
       "<table border=\"1\" class=\"dataframe\">\n",
       "  <thead>\n",
       "    <tr style=\"text-align: right;\">\n",
       "      <th>candidate_column</th>\n",
       "      <th>precinct</th>\n",
       "      <th>gen_dem_CLINTON</th>\n",
       "      <th>gen_rep_TRUMP</th>\n",
       "    </tr>\n",
       "  </thead>\n",
       "  <tbody>\n",
       "    <tr>\n",
       "      <th>0</th>\n",
       "      <td>Barrington 0101</td>\n",
       "      <td>1027</td>\n",
       "      <td>522</td>\n",
       "    </tr>\n",
       "    <tr>\n",
       "      <th>1</th>\n",
       "      <td>Barrington 0102</td>\n",
       "      <td>1331</td>\n",
       "      <td>683</td>\n",
       "    </tr>\n",
       "    <tr>\n",
       "      <th>2</th>\n",
       "      <td>Barrington 0103</td>\n",
       "      <td>1136</td>\n",
       "      <td>469</td>\n",
       "    </tr>\n",
       "    <tr>\n",
       "      <th>3</th>\n",
       "      <td>Barrington 0104</td>\n",
       "      <td>1328</td>\n",
       "      <td>611</td>\n",
       "    </tr>\n",
       "    <tr>\n",
       "      <th>4</th>\n",
       "      <td>Barrington 0105</td>\n",
       "      <td>1290</td>\n",
       "      <td>590</td>\n",
       "    </tr>\n",
       "    <tr>\n",
       "      <th>...</th>\n",
       "      <td>...</td>\n",
       "      <td>...</td>\n",
       "      <td>...</td>\n",
       "    </tr>\n",
       "    <tr>\n",
       "      <th>496</th>\n",
       "      <td>Woonsocket 3910</td>\n",
       "      <td>686</td>\n",
       "      <td>759</td>\n",
       "    </tr>\n",
       "    <tr>\n",
       "      <th>497</th>\n",
       "      <td>Woonsocket 3911</td>\n",
       "      <td>677</td>\n",
       "      <td>465</td>\n",
       "    </tr>\n",
       "    <tr>\n",
       "      <th>498</th>\n",
       "      <td>Woonsocket 3912</td>\n",
       "      <td>506</td>\n",
       "      <td>448</td>\n",
       "    </tr>\n",
       "    <tr>\n",
       "      <th>499</th>\n",
       "      <td>Woonsocket Limited</td>\n",
       "      <td>0</td>\n",
       "      <td>0</td>\n",
       "    </tr>\n",
       "    <tr>\n",
       "      <th>500</th>\n",
       "      <td>Woonsocket Presidential</td>\n",
       "      <td>104</td>\n",
       "      <td>73</td>\n",
       "    </tr>\n",
       "  </tbody>\n",
       "</table>\n",
       "<p>501 rows × 3 columns</p>\n",
       "</div>"
      ],
      "text/plain": [
       "candidate_column                 precinct  gen_dem_CLINTON  gen_rep_TRUMP\n",
       "0                         Barrington 0101             1027            522\n",
       "1                         Barrington 0102             1331            683\n",
       "2                         Barrington 0103             1136            469\n",
       "3                         Barrington 0104             1328            611\n",
       "4                         Barrington 0105             1290            590\n",
       "..                                    ...              ...            ...\n",
       "496                       Woonsocket 3910              686            759\n",
       "497                       Woonsocket 3911              677            465\n",
       "498                       Woonsocket 3912              506            448\n",
       "499                    Woonsocket Limited                0              0\n",
       "500               Woonsocket Presidential              104             73\n",
       "\n",
       "[501 rows x 3 columns]"
      ]
     },
     "execution_count": 38,
     "metadata": {},
     "output_type": "execute_result"
    }
   ],
   "source": [
    "general_data[\"candidate_column\"] = (\n",
    "    \"gen_\" +\n",
    "    general_data[\"party\"].str.lower() + \"_\" +\n",
    "    general_data[\"candidate\"].str.split().str[-1].str.upper()\n",
    ")\n",
    "\n",
    "# pivot the table\n",
    "general_result = general_data.pivot_table(\n",
    "    index=\"precinct\",\n",
    "    columns=\"candidate_column\",\n",
    "    values=\"votes\",\n",
    "    aggfunc=\"sum\",  \n",
    "    fill_value=0\n",
    ").reset_index()\n",
    "\n",
    "general_result"
   ]
  },
  {
   "cell_type": "code",
   "execution_count": 39,
   "id": "6686d34b",
   "metadata": {},
   "outputs": [
    {
     "data": {
      "application/vnd.microsoft.datawrangler.viewer.v0+json": {
       "columns": [
        {
         "name": "index",
         "rawType": "int64",
         "type": "integer"
        },
        {
         "name": "precinct",
         "rawType": "object",
         "type": "string"
        },
        {
         "name": "pri_dem_CLINTON",
         "rawType": "int64",
         "type": "integer"
        },
        {
         "name": "pri_dem_FUENTE",
         "rawType": "int64",
         "type": "integer"
        },
        {
         "name": "pri_dem_SANDERS",
         "rawType": "int64",
         "type": "integer"
        },
        {
         "name": "pri_dem_STEWART",
         "rawType": "int64",
         "type": "integer"
        },
        {
         "name": "pri_rep_CRUZ",
         "rawType": "int64",
         "type": "integer"
        },
        {
         "name": "pri_rep_KASICH",
         "rawType": "int64",
         "type": "integer"
        },
        {
         "name": "pri_rep_RUBIO",
         "rawType": "int64",
         "type": "integer"
        },
        {
         "name": "pri_rep_TRUMP",
         "rawType": "int64",
         "type": "integer"
        },
        {
         "name": "gen_dem_CLINTON",
         "rawType": "int64",
         "type": "integer"
        },
        {
         "name": "gen_rep_TRUMP",
         "rawType": "int64",
         "type": "integer"
        },
        {
         "name": "rep_primary_total",
         "rawType": "int64",
         "type": "integer"
        },
        {
         "name": "dem_primary_total",
         "rawType": "int64",
         "type": "integer"
        },
        {
         "name": "general_total",
         "rawType": "int64",
         "type": "integer"
        }
       ],
       "ref": "d81a0a0a-7def-4ad1-917a-f215a1d78978",
       "rows": [
        [
         "0",
         "Barrington 0101",
         "214",
         "0",
         "251",
         "0",
         "34",
         "92",
         "2",
         "115",
         "1027",
         "522",
         "243",
         "465",
         "1549"
        ],
        [
         "1",
         "Barrington 0102",
         "336",
         "0",
         "347",
         "0",
         "29",
         "119",
         "2",
         "138",
         "1331",
         "683",
         "288",
         "683",
         "2014"
        ],
        [
         "2",
         "Barrington 0103",
         "313",
         "0",
         "216",
         "0",
         "25",
         "153",
         "4",
         "124",
         "1136",
         "469",
         "306",
         "529",
         "1605"
        ],
        [
         "3",
         "Barrington 0104",
         "316",
         "1",
         "299",
         "0",
         "23",
         "158",
         "3",
         "173",
         "1328",
         "611",
         "357",
         "616",
         "1939"
        ],
        [
         "4",
         "Barrington 0105",
         "311",
         "1",
         "286",
         "1",
         "33",
         "178",
         "3",
         "137",
         "1290",
         "590",
         "351",
         "599",
         "1880"
        ],
        [
         "5",
         "Bristol 0202",
         "289",
         "0",
         "395",
         "0",
         "44",
         "115",
         "3",
         "181",
         "371",
         "185",
         "343",
         "684",
         "556"
        ],
        [
         "6",
         "Bristol 0203",
         "487",
         "0",
         "455",
         "1",
         "53",
         "172",
         "4",
         "305",
         "1152",
         "806",
         "534",
         "943",
         "1958"
        ],
        [
         "7",
         "Bristol 0205",
         "389",
         "1",
         "452",
         "2",
         "40",
         "125",
         "5",
         "290",
         "800",
         "727",
         "460",
         "844",
         "1527"
        ],
        [
         "8",
         "Burrillville 0302",
         "171",
         "1",
         "322",
         "2",
         "48",
         "47",
         "4",
         "302",
         "421",
         "715",
         "401",
         "496",
         "1136"
        ],
        [
         "9",
         "Burrillville 0303",
         "147",
         "0",
         "296",
         "0",
         "41",
         "74",
         "1",
         "322",
         "564",
         "880",
         "438",
         "443",
         "1444"
        ],
        [
         "10",
         "Burrillville 0305",
         "133",
         "0",
         "231",
         "2",
         "31",
         "76",
         "4",
         "300",
         "348",
         "579",
         "411",
         "366",
         "927"
        ],
        [
         "11",
         "Central Falls 0408",
         "850",
         "2",
         "580",
         "3",
         "14",
         "17",
         "1",
         "93",
         "471",
         "98",
         "125",
         "1435",
         "569"
        ],
        [
         "12",
         "Charlestown 0501",
         "226",
         "0",
         "444",
         "3",
         "41",
         "91",
         "1",
         "247",
         "581",
         "521",
         "380",
         "673",
         "1102"
        ],
        [
         "13",
         "Charlestown 0503",
         "187",
         "0",
         "297",
         "0",
         "25",
         "110",
         "3",
         "228",
         "550",
         "453",
         "366",
         "484",
         "1003"
        ],
        [
         "14",
         "Coventry 0603",
         "250",
         "0",
         "411",
         "2",
         "47",
         "78",
         "3",
         "380",
         "649",
         "820",
         "508",
         "663",
         "1469"
        ],
        [
         "15",
         "Coventry 0605",
         "216",
         "1",
         "379",
         "3",
         "69",
         "122",
         "3",
         "455",
         "398",
         "598",
         "649",
         "599",
         "996"
        ],
        [
         "16",
         "Coventry 0607",
         "230",
         "0",
         "397",
         "0",
         "51",
         "113",
         "3",
         "377",
         "628",
         "706",
         "544",
         "627",
         "1334"
        ],
        [
         "17",
         "Coventry 0611",
         "271",
         "2",
         "392",
         "1",
         "63",
         "124",
         "2",
         "513",
         "426",
         "512",
         "702",
         "666",
         "938"
        ],
        [
         "18",
         "Coventry 0613",
         "227",
         "2",
         "440",
         "1",
         "41",
         "76",
         "1",
         "333",
         "383",
         "452",
         "451",
         "670",
         "835"
        ],
        [
         "19",
         "Cranston 0701",
         "420",
         "2",
         "578",
         "1",
         "46",
         "54",
         "3",
         "335",
         "934",
         "410",
         "438",
         "1001",
         "1344"
        ],
        [
         "20",
         "Cranston 0706",
         "540",
         "1",
         "608",
         "1",
         "69",
         "287",
         "4",
         "1078",
         "633",
         "1156",
         "1438",
         "1150",
         "1789"
        ],
        [
         "21",
         "Cranston 0726",
         "598",
         "3",
         "852",
         "2",
         "72",
         "122",
         "6",
         "446",
         "643",
         "370",
         "646",
         "1455",
         "1013"
        ],
        [
         "22",
         "Cranston 0727",
         "876",
         "2",
         "1255",
         "1",
         "66",
         "177",
         "5",
         "365",
         "507",
         "230",
         "613",
         "2134",
         "737"
        ],
        [
         "23",
         "Cranston 0728",
         "509",
         "2",
         "603",
         "1",
         "62",
         "194",
         "10",
         "713",
         "9",
         "2",
         "979",
         "1115",
         "11"
        ],
        [
         "24",
         "Cranston 0731",
         "495",
         "1",
         "577",
         "0",
         "77",
         "145",
         "3",
         "774",
         "696",
         "880",
         "999",
         "1073",
         "1576"
        ],
        [
         "25",
         "Cumberland 0801",
         "505",
         "5",
         "694",
         "6",
         "77",
         "188",
         "6",
         "403",
         "512",
         "441",
         "674",
         "1210",
         "953"
        ],
        [
         "26",
         "Cumberland 0808",
         "667",
         "4",
         "841",
         "4",
         "114",
         "317",
         "5",
         "625",
         "942",
         "942",
         "1061",
         "1516",
         "1884"
        ],
        [
         "27",
         "Cumberland 0812",
         "636",
         "3",
         "879",
         "2",
         "81",
         "145",
         "3",
         "383",
         "687",
         "501",
         "612",
         "1520",
         "1188"
        ],
        [
         "28",
         "East Greenwich 0903",
         "762",
         "0",
         "735",
         "1",
         "105",
         "616",
         "11",
         "824",
         "920",
         "559",
         "1556",
         "1498",
         "1479"
        ],
        [
         "29",
         "East Providence 1004",
         "780",
         "3",
         "826",
         "6",
         "66",
         "171",
         "4",
         "383",
         "864",
         "549",
         "624",
         "1615",
         "1413"
        ],
        [
         "30",
         "East Providence 1007",
         "574",
         "2",
         "684",
         "4",
         "58",
         "90",
         "2",
         "281",
         "100",
         "56",
         "431",
         "1264",
         "156"
        ],
        [
         "31",
         "East Providence 1008",
         "470",
         "4",
         "593",
         "1",
         "34",
         "35",
         "1",
         "197",
         "955",
         "409",
         "267",
         "1068",
         "1364"
        ],
        [
         "32",
         "East Providence 1015",
         "665",
         "1",
         "975",
         "2",
         "87",
         "165",
         "2",
         "410",
         "369",
         "219",
         "664",
         "1643",
         "588"
        ],
        [
         "33",
         "Exeter 1103",
         "239",
         "1",
         "450",
         "1",
         "80",
         "164",
         "3",
         "484",
         "565",
         "762",
         "731",
         "691",
         "1327"
        ],
        [
         "34",
         "Federal Precinct #1",
         "1499",
         "6",
         "1191",
         "18",
         "156",
         "249",
         "13",
         "499",
         "376",
         "30",
         "917",
         "2714",
         "406"
        ],
        [
         "35",
         "Federal Precinct #2",
         "1089",
         "4",
         "1084",
         "16",
         "150",
         "249",
         "11",
         "613",
         "261",
         "23",
         "1023",
         "2193",
         "284"
        ],
        [
         "36",
         "Foster 1201",
         "144",
         "2",
         "341",
         "0",
         "50",
         "105",
         "1",
         "357",
         "523",
         "705",
         "513",
         "487",
         "1228"
        ],
        [
         "37",
         "Glocester 1303",
         "306",
         "2",
         "694",
         "1",
         "118",
         "150",
         "3",
         "684",
         "136",
         "233",
         "955",
         "1003",
         "369"
        ],
        [
         "38",
         "Hopkinton 1401",
         "243",
         "1",
         "549",
         "4",
         "89",
         "99",
         "4",
         "431",
         "727",
         "986",
         "623",
         "797",
         "1713"
        ],
        [
         "39",
         "Jamestown 1501",
         "542",
         "1",
         "686",
         "0",
         "53",
         "230",
         "3",
         "319",
         "1112",
         "547",
         "605",
         "1229",
         "1659"
        ],
        [
         "40",
         "Johnston 1601",
         "123",
         "2",
         "145",
         "3",
         "17",
         "15",
         "1",
         "94",
         "439",
         "548",
         "127",
         "273",
         "987"
        ],
        [
         "41",
         "Johnston 1602",
         "481",
         "4",
         "603",
         "7",
         "36",
         "53",
         "1",
         "416",
         "465",
         "628",
         "506",
         "1095",
         "1093"
        ],
        [
         "42",
         "Johnston 1609",
         "623",
         "0",
         "782",
         "6",
         "56",
         "71",
         "7",
         "554",
         "429",
         "611",
         "688",
         "1411",
         "1040"
        ],
        [
         "43",
         "Johnston 1613",
         "104",
         "1",
         "130",
         "0",
         "33",
         "37",
         "2",
         "131",
         "389",
         "695",
         "203",
         "235",
         "1084"
        ],
        [
         "44",
         "Lincoln 1703",
         "249",
         "0",
         "306",
         "0",
         "37",
         "101",
         "1",
         "262",
         "559",
         "565",
         "401",
         "555",
         "1124"
        ],
        [
         "45",
         "Lincoln 1706",
         "372",
         "0",
         "448",
         "2",
         "53",
         "148",
         "3",
         "479",
         "186",
         "174",
         "683",
         "822",
         "360"
        ],
        [
         "46",
         "Lincoln 1707",
         "271",
         "1",
         "391",
         "1",
         "48",
         "139",
         "2",
         "359",
         "178",
         "189",
         "548",
         "664",
         "367"
        ],
        [
         "47",
         "Lincoln 1711",
         "116",
         "2",
         "181",
         "1",
         "29",
         "35",
         "1",
         "90",
         "332",
         "239",
         "155",
         "300",
         "571"
        ],
        [
         "48",
         "Little Compton 1801",
         "255",
         "0",
         "314",
         "0",
         "40",
         "113",
         "3",
         "268",
         "1156",
         "814",
         "424",
         "569",
         "1970"
        ],
        [
         "49",
         "Middletown 1901",
         "141",
         "1",
         "167",
         "0",
         "13",
         "79",
         "2",
         "107",
         "699",
         "467",
         "201",
         "309",
         "1166"
        ]
       ],
       "shape": {
        "columns": 14,
        "rows": 146
       }
      },
      "text/html": [
       "<div>\n",
       "<style scoped>\n",
       "    .dataframe tbody tr th:only-of-type {\n",
       "        vertical-align: middle;\n",
       "    }\n",
       "\n",
       "    .dataframe tbody tr th {\n",
       "        vertical-align: top;\n",
       "    }\n",
       "\n",
       "    .dataframe thead th {\n",
       "        text-align: right;\n",
       "    }\n",
       "</style>\n",
       "<table border=\"1\" class=\"dataframe\">\n",
       "  <thead>\n",
       "    <tr style=\"text-align: right;\">\n",
       "      <th>candidate_column</th>\n",
       "      <th>precinct</th>\n",
       "      <th>pri_dem_CLINTON</th>\n",
       "      <th>pri_dem_FUENTE</th>\n",
       "      <th>pri_dem_SANDERS</th>\n",
       "      <th>pri_dem_STEWART</th>\n",
       "      <th>pri_rep_CRUZ</th>\n",
       "      <th>pri_rep_KASICH</th>\n",
       "      <th>pri_rep_RUBIO</th>\n",
       "      <th>pri_rep_TRUMP</th>\n",
       "      <th>gen_dem_CLINTON</th>\n",
       "      <th>gen_rep_TRUMP</th>\n",
       "      <th>rep_primary_total</th>\n",
       "      <th>dem_primary_total</th>\n",
       "      <th>general_total</th>\n",
       "    </tr>\n",
       "  </thead>\n",
       "  <tbody>\n",
       "    <tr>\n",
       "      <th>0</th>\n",
       "      <td>Barrington 0101</td>\n",
       "      <td>214</td>\n",
       "      <td>0</td>\n",
       "      <td>251</td>\n",
       "      <td>0</td>\n",
       "      <td>34</td>\n",
       "      <td>92</td>\n",
       "      <td>2</td>\n",
       "      <td>115</td>\n",
       "      <td>1027</td>\n",
       "      <td>522</td>\n",
       "      <td>243</td>\n",
       "      <td>465</td>\n",
       "      <td>1549</td>\n",
       "    </tr>\n",
       "    <tr>\n",
       "      <th>1</th>\n",
       "      <td>Barrington 0102</td>\n",
       "      <td>336</td>\n",
       "      <td>0</td>\n",
       "      <td>347</td>\n",
       "      <td>0</td>\n",
       "      <td>29</td>\n",
       "      <td>119</td>\n",
       "      <td>2</td>\n",
       "      <td>138</td>\n",
       "      <td>1331</td>\n",
       "      <td>683</td>\n",
       "      <td>288</td>\n",
       "      <td>683</td>\n",
       "      <td>2014</td>\n",
       "    </tr>\n",
       "    <tr>\n",
       "      <th>2</th>\n",
       "      <td>Barrington 0103</td>\n",
       "      <td>313</td>\n",
       "      <td>0</td>\n",
       "      <td>216</td>\n",
       "      <td>0</td>\n",
       "      <td>25</td>\n",
       "      <td>153</td>\n",
       "      <td>4</td>\n",
       "      <td>124</td>\n",
       "      <td>1136</td>\n",
       "      <td>469</td>\n",
       "      <td>306</td>\n",
       "      <td>529</td>\n",
       "      <td>1605</td>\n",
       "    </tr>\n",
       "    <tr>\n",
       "      <th>3</th>\n",
       "      <td>Barrington 0104</td>\n",
       "      <td>316</td>\n",
       "      <td>1</td>\n",
       "      <td>299</td>\n",
       "      <td>0</td>\n",
       "      <td>23</td>\n",
       "      <td>158</td>\n",
       "      <td>3</td>\n",
       "      <td>173</td>\n",
       "      <td>1328</td>\n",
       "      <td>611</td>\n",
       "      <td>357</td>\n",
       "      <td>616</td>\n",
       "      <td>1939</td>\n",
       "    </tr>\n",
       "    <tr>\n",
       "      <th>4</th>\n",
       "      <td>Barrington 0105</td>\n",
       "      <td>311</td>\n",
       "      <td>1</td>\n",
       "      <td>286</td>\n",
       "      <td>1</td>\n",
       "      <td>33</td>\n",
       "      <td>178</td>\n",
       "      <td>3</td>\n",
       "      <td>137</td>\n",
       "      <td>1290</td>\n",
       "      <td>590</td>\n",
       "      <td>351</td>\n",
       "      <td>599</td>\n",
       "      <td>1880</td>\n",
       "    </tr>\n",
       "    <tr>\n",
       "      <th>...</th>\n",
       "      <td>...</td>\n",
       "      <td>...</td>\n",
       "      <td>...</td>\n",
       "      <td>...</td>\n",
       "      <td>...</td>\n",
       "      <td>...</td>\n",
       "      <td>...</td>\n",
       "      <td>...</td>\n",
       "      <td>...</td>\n",
       "      <td>...</td>\n",
       "      <td>...</td>\n",
       "      <td>...</td>\n",
       "      <td>...</td>\n",
       "      <td>...</td>\n",
       "    </tr>\n",
       "    <tr>\n",
       "      <th>141</th>\n",
       "      <td>Woonsocket 3902</td>\n",
       "      <td>159</td>\n",
       "      <td>0</td>\n",
       "      <td>105</td>\n",
       "      <td>1</td>\n",
       "      <td>5</td>\n",
       "      <td>7</td>\n",
       "      <td>4</td>\n",
       "      <td>62</td>\n",
       "      <td>400</td>\n",
       "      <td>230</td>\n",
       "      <td>78</td>\n",
       "      <td>265</td>\n",
       "      <td>630</td>\n",
       "    </tr>\n",
       "    <tr>\n",
       "      <th>142</th>\n",
       "      <td>Woonsocket 3903</td>\n",
       "      <td>337</td>\n",
       "      <td>1</td>\n",
       "      <td>394</td>\n",
       "      <td>2</td>\n",
       "      <td>39</td>\n",
       "      <td>31</td>\n",
       "      <td>4</td>\n",
       "      <td>181</td>\n",
       "      <td>300</td>\n",
       "      <td>162</td>\n",
       "      <td>255</td>\n",
       "      <td>734</td>\n",
       "      <td>462</td>\n",
       "    </tr>\n",
       "    <tr>\n",
       "      <th>143</th>\n",
       "      <td>Woonsocket 3905</td>\n",
       "      <td>124</td>\n",
       "      <td>0</td>\n",
       "      <td>164</td>\n",
       "      <td>1</td>\n",
       "      <td>14</td>\n",
       "      <td>10</td>\n",
       "      <td>0</td>\n",
       "      <td>67</td>\n",
       "      <td>506</td>\n",
       "      <td>425</td>\n",
       "      <td>91</td>\n",
       "      <td>289</td>\n",
       "      <td>931</td>\n",
       "    </tr>\n",
       "    <tr>\n",
       "      <th>144</th>\n",
       "      <td>Woonsocket 3907</td>\n",
       "      <td>339</td>\n",
       "      <td>2</td>\n",
       "      <td>488</td>\n",
       "      <td>0</td>\n",
       "      <td>49</td>\n",
       "      <td>62</td>\n",
       "      <td>2</td>\n",
       "      <td>313</td>\n",
       "      <td>563</td>\n",
       "      <td>628</td>\n",
       "      <td>426</td>\n",
       "      <td>829</td>\n",
       "      <td>1191</td>\n",
       "    </tr>\n",
       "    <tr>\n",
       "      <th>145</th>\n",
       "      <td>Woonsocket 3909</td>\n",
       "      <td>363</td>\n",
       "      <td>0</td>\n",
       "      <td>523</td>\n",
       "      <td>2</td>\n",
       "      <td>36</td>\n",
       "      <td>66</td>\n",
       "      <td>2</td>\n",
       "      <td>394</td>\n",
       "      <td>700</td>\n",
       "      <td>782</td>\n",
       "      <td>498</td>\n",
       "      <td>888</td>\n",
       "      <td>1482</td>\n",
       "    </tr>\n",
       "  </tbody>\n",
       "</table>\n",
       "<p>146 rows × 14 columns</p>\n",
       "</div>"
      ],
      "text/plain": [
       "candidate_column         precinct  pri_dem_CLINTON  pri_dem_FUENTE  \\\n",
       "0                 Barrington 0101              214               0   \n",
       "1                 Barrington 0102              336               0   \n",
       "2                 Barrington 0103              313               0   \n",
       "3                 Barrington 0104              316               1   \n",
       "4                 Barrington 0105              311               1   \n",
       "..                            ...              ...             ...   \n",
       "141               Woonsocket 3902              159               0   \n",
       "142               Woonsocket 3903              337               1   \n",
       "143               Woonsocket 3905              124               0   \n",
       "144               Woonsocket 3907              339               2   \n",
       "145               Woonsocket 3909              363               0   \n",
       "\n",
       "candidate_column  pri_dem_SANDERS  pri_dem_STEWART  pri_rep_CRUZ  \\\n",
       "0                             251                0            34   \n",
       "1                             347                0            29   \n",
       "2                             216                0            25   \n",
       "3                             299                0            23   \n",
       "4                             286                1            33   \n",
       "..                            ...              ...           ...   \n",
       "141                           105                1             5   \n",
       "142                           394                2            39   \n",
       "143                           164                1            14   \n",
       "144                           488                0            49   \n",
       "145                           523                2            36   \n",
       "\n",
       "candidate_column  pri_rep_KASICH  pri_rep_RUBIO  pri_rep_TRUMP  \\\n",
       "0                             92              2            115   \n",
       "1                            119              2            138   \n",
       "2                            153              4            124   \n",
       "3                            158              3            173   \n",
       "4                            178              3            137   \n",
       "..                           ...            ...            ...   \n",
       "141                            7              4             62   \n",
       "142                           31              4            181   \n",
       "143                           10              0             67   \n",
       "144                           62              2            313   \n",
       "145                           66              2            394   \n",
       "\n",
       "candidate_column  gen_dem_CLINTON  gen_rep_TRUMP  rep_primary_total  \\\n",
       "0                            1027            522                243   \n",
       "1                            1331            683                288   \n",
       "2                            1136            469                306   \n",
       "3                            1328            611                357   \n",
       "4                            1290            590                351   \n",
       "..                            ...            ...                ...   \n",
       "141                           400            230                 78   \n",
       "142                           300            162                255   \n",
       "143                           506            425                 91   \n",
       "144                           563            628                426   \n",
       "145                           700            782                498   \n",
       "\n",
       "candidate_column  dem_primary_total  general_total  \n",
       "0                               465           1549  \n",
       "1                               683           2014  \n",
       "2                               529           1605  \n",
       "3                               616           1939  \n",
       "4                               599           1880  \n",
       "..                              ...            ...  \n",
       "141                             265            630  \n",
       "142                             734            462  \n",
       "143                             289            931  \n",
       "144                             829           1191  \n",
       "145                             888           1482  \n",
       "\n",
       "[146 rows x 14 columns]"
      ]
     },
     "execution_count": 39,
     "metadata": {},
     "output_type": "execute_result"
    }
   ],
   "source": [
    "combined = pd.merge(primary_result, general_result, on=\"precinct\", how=\"inner\")\n",
    "combined[\"rep_primary_total\"] = combined.filter(like=\"pri_rep_\").sum(axis=1)\n",
    "combined[\"dem_primary_total\"] = combined.filter(like=\"pri_dem_\").sum(axis=1)\n",
    "combined[\"general_total\"] = combined.filter(like=\"gen_\").sum(axis=1)\n",
    "combined"
   ]
  },
  {
   "cell_type": "code",
   "execution_count": 40,
   "id": "a6797e92",
   "metadata": {},
   "outputs": [],
   "source": [
    "combined.to_csv(\"RI.csv\", index=False)\n"
   ]
  }
 ],
 "metadata": {
  "kernelspec": {
   "display_name": "Python 3",
   "language": "python",
   "name": "python3"
  },
  "language_info": {
   "codemirror_mode": {
    "name": "ipython",
    "version": 3
   },
   "file_extension": ".py",
   "mimetype": "text/x-python",
   "name": "python",
   "nbconvert_exporter": "python",
   "pygments_lexer": "ipython3",
   "version": "3.11.2"
  }
 },
 "nbformat": 4,
 "nbformat_minor": 5
}
