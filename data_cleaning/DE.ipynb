{
 "cells": [
  {
   "cell_type": "code",
   "execution_count": 31,
   "id": "ad1be0fa",
   "metadata": {},
   "outputs": [],
   "source": [
    "# Import all the libraries\n",
    "import pandas as pd\n",
    "import glob\n",
    "import os\n",
    "import re\n",
    "from pprint import pprint"
   ]
  },
  {
   "cell_type": "code",
   "execution_count": 32,
   "id": "c263c4df",
   "metadata": {},
   "outputs": [],
   "source": [
    "#Get all CSV files in the folder of GA\n",
    "all_files = glob.glob(r\"C:\\Huy Phan\\College\\VoterTurnout\\data\\DE\\*.csv\")\n",
    "\n",
    "# Files that contain both 'precinct' and 'general' in the filename\n",
    "general_files = [\n",
    "    f for f in all_files\n",
    "    if all(word in f.lower() for word in ['precinct', 'general'])\n",
    "]\n",
    "\n",
    "\n",
    "# Files that contain both 'precinct' and 'primary' in the filename\n",
    "primary_files = [\n",
    "    f for f in all_files\n",
    "    if all(word in f.lower() for word in ['precinct', 'primary'])\n",
    "]\n"
   ]
  },
  {
   "cell_type": "code",
   "execution_count": 33,
   "id": "60d49ea6",
   "metadata": {},
   "outputs": [
    {
     "name": "stdout",
     "output_type": "stream",
     "text": [
      "General files:\n",
      "C:\\Huy Phan\\College\\VoterTurnout\\data\\DE\\20161108__de__general__precinct.csv\n"
     ]
    }
   ],
   "source": [
    "print(\"General files:\")\n",
    "for f in general_files:\n",
    "    print(f)\n"
   ]
  },
  {
   "cell_type": "code",
   "execution_count": 34,
   "id": "4ab13110",
   "metadata": {},
   "outputs": [
    {
     "name": "stdout",
     "output_type": "stream",
     "text": [
      "\n",
      "Primary files:\n",
      "C:\\Huy Phan\\College\\VoterTurnout\\data\\DE\\20160426__de__primary__precinct.csv\n",
      "C:\\Huy Phan\\College\\VoterTurnout\\data\\DE\\20160913__de__primary__precinct.csv\n"
     ]
    }
   ],
   "source": [
    "print(\"\\nPrimary files:\")\n",
    "for f in primary_files:\n",
    "    print(f)"
   ]
  },
  {
   "cell_type": "code",
   "execution_count": 35,
   "id": "ff5df6c7",
   "metadata": {},
   "outputs": [],
   "source": [
    "# Process primary files\n",
    "primary_df_list = []\n",
    "\n",
    "for file in primary_files:\n",
    "    try:\n",
    "        df = pd.read_csv(file)\n",
    "        \n",
    "        # Combine precinct as county + precinct\n",
    "        df[\"precinct\"] = df[\"county\"].astype(str) + df[\"election_district\"].astype(str)\n",
    "        df[\"precinct\"] = df[\"precinct\"].str.upper()\n",
    "\n",
    "        # Cleaning maybe total precinct\n",
    "        if 'precinct' in df.columns:\n",
    "            df['precinct'] = df['precinct'].astype(str)      \n",
    "            df = df[~df['precinct'].str.upper().str.contains(r\"\\w*TOTAL\\w*\", na=False)]             \n",
    "            df = df[df['precinct'].str.upper() != \"TOTAL\"]               \n",
    "            df = df[df['precinct'].str.strip().str.upper() != \"TOTAL\"]   \n",
    "            df = df[df['precinct'].str.upper() != \"NAN\"]                \n",
    "        \n",
    "        if 'county' in df.columns:\n",
    "            df['county'] = df['county'].astype(str)                  \n",
    "            df = df[df['county'].str.upper() != \"TOTAL\"]               \n",
    "            df = df[df['county'].str.strip().str.upper() != \"TOTAL\"]   \n",
    "            df = df[df['county'].str.upper() != \"NAN\"]  \n",
    "            df = df[~df['county'].str.upper().str.contains(r\"\\w*TOTAL\\w*\", na=False)]    \n",
    "\n",
    "        # Filtering out only President \n",
    "        if 'office' in df.columns:\n",
    "            df = df[df[\"office\"] == \"President\"]\n",
    "        \n",
    "        # Dropping duplicates value\n",
    "        df = df.drop_duplicates()\n",
    "        \n",
    "        primary_df_list.append(df)\n",
    "\n",
    "    except Exception as e:\n",
    "        print(f\"Error in {file}: {e}\")\n",
    "\n",
    "# Combine all cleaned files\n",
    "pri_combined_df = pd.concat(primary_df_list, ignore_index=True)\n",
    "\n",
    "\n",
    "# Checking any suspicious precinct\n",
    "suspicious_precincts = pri_combined_df[\n",
    "    pri_combined_df[\"precinct\"].str.strip().str.upper().isin([\"TOTAL\", \"NAN\"])\n",
    "]\n"
   ]
  },
  {
   "cell_type": "code",
   "execution_count": 36,
   "id": "f0e1e913",
   "metadata": {},
   "outputs": [
    {
     "data": {
      "application/vnd.microsoft.datawrangler.viewer.v0+json": {
       "columns": [
        {
         "name": "index",
         "rawType": "int64",
         "type": "integer"
        },
        {
         "name": "precinct",
         "rawType": "object",
         "type": "string"
        },
        {
         "name": "party",
         "rawType": "object",
         "type": "string"
        },
        {
         "name": "candidate",
         "rawType": "object",
         "type": "string"
        },
        {
         "name": "votes",
         "rawType": "int64",
         "type": "integer"
        }
       ],
       "ref": "9cd9a45b-5085-419a-b303-81efc01a562b",
       "rows": [
        [
         "0",
         "NEW CASTLE01-01",
         "DEMOCRATIC",
         "Clinton H",
         "625"
        ],
        [
         "1",
         "NEW CASTLE01-01",
         "DEMOCRATIC",
         "De La Fuen",
         "3"
        ],
        [
         "2",
         "NEW CASTLE01-01",
         "DEMOCRATIC",
         "Sanders B",
         "288"
        ],
        [
         "3",
         "NEW CASTLE01-01",
         "REPUBLICAN",
         "Bush J",
         "1"
        ],
        [
         "4",
         "NEW CASTLE02-01",
         "DEMOCRATIC",
         "Clinton H",
         "453"
        ],
        [
         "5",
         "NEW CASTLE02-01",
         "DEMOCRATIC",
         "De La Fuen",
         "2"
        ],
        [
         "6",
         "NEW CASTLE02-01",
         "DEMOCRATIC",
         "Sanders B",
         "158"
        ],
        [
         "7",
         "NEW CASTLE02-01",
         "REPUBLICAN",
         "Bush J",
         "0"
        ],
        [
         "8",
         "NEW CASTLE04-01",
         "DEMOCRATIC",
         "Clinton H",
         "278"
        ],
        [
         "9",
         "NEW CASTLE04-01",
         "DEMOCRATIC",
         "De La Fuen",
         "1"
        ],
        [
         "10",
         "NEW CASTLE04-01",
         "DEMOCRATIC",
         "Sanders B",
         "140"
        ],
        [
         "11",
         "NEW CASTLE04-01",
         "REPUBLICAN",
         "Bush J",
         "1"
        ],
        [
         "12",
         "NEW CASTLE05-01",
         "DEMOCRATIC",
         "Clinton H",
         "341"
        ],
        [
         "13",
         "NEW CASTLE05-01",
         "DEMOCRATIC",
         "De La Fuen",
         "6"
        ],
        [
         "14",
         "NEW CASTLE05-01",
         "DEMOCRATIC",
         "Sanders B",
         "181"
        ],
        [
         "15",
         "NEW CASTLE05-01",
         "REPUBLICAN",
         "Bush J",
         "2"
        ],
        [
         "16",
         "NEW CASTLE06-01",
         "DEMOCRATIC",
         "Clinton H",
         "127"
        ],
        [
         "17",
         "NEW CASTLE06-01",
         "DEMOCRATIC",
         "De La Fuen",
         "1"
        ],
        [
         "18",
         "NEW CASTLE06-01",
         "DEMOCRATIC",
         "Sanders B",
         "74"
        ],
        [
         "19",
         "NEW CASTLE06-01",
         "REPUBLICAN",
         "Bush J",
         "0"
        ],
        [
         "20",
         "NEW CASTLE07-01",
         "DEMOCRATIC",
         "Clinton H",
         "103"
        ],
        [
         "21",
         "NEW CASTLE07-01",
         "DEMOCRATIC",
         "De La Fuen",
         "0"
        ],
        [
         "22",
         "NEW CASTLE07-01",
         "DEMOCRATIC",
         "Sanders B",
         "32"
        ],
        [
         "23",
         "NEW CASTLE07-01",
         "REPUBLICAN",
         "Bush J",
         "0"
        ],
        [
         "24",
         "NEW CASTLE08-01",
         "DEMOCRATIC",
         "Clinton H",
         "199"
        ],
        [
         "25",
         "NEW CASTLE08-01",
         "DEMOCRATIC",
         "De La Fuen",
         "0"
        ],
        [
         "26",
         "NEW CASTLE08-01",
         "DEMOCRATIC",
         "Sanders B",
         "107"
        ],
        [
         "27",
         "NEW CASTLE08-01",
         "REPUBLICAN",
         "Bush J",
         "1"
        ],
        [
         "28",
         "NEW CASTLE09-01",
         "DEMOCRATIC",
         "Clinton H",
         "279"
        ],
        [
         "29",
         "NEW CASTLE09-01",
         "DEMOCRATIC",
         "De La Fuen",
         "0"
        ],
        [
         "30",
         "NEW CASTLE09-01",
         "DEMOCRATIC",
         "Sanders B",
         "113"
        ],
        [
         "31",
         "NEW CASTLE09-01",
         "REPUBLICAN",
         "Bush J",
         "1"
        ],
        [
         "32",
         "NEW CASTLE10-01",
         "DEMOCRATIC",
         "Clinton H",
         "304"
        ],
        [
         "33",
         "NEW CASTLE10-01",
         "DEMOCRATIC",
         "De La Fuen",
         "1"
        ],
        [
         "34",
         "NEW CASTLE10-01",
         "DEMOCRATIC",
         "Sanders B",
         "86"
        ],
        [
         "35",
         "NEW CASTLE10-01",
         "REPUBLICAN",
         "Bush J",
         "0"
        ],
        [
         "36",
         "NEW CASTLE12-01",
         "DEMOCRATIC",
         "Clinton H",
         "69"
        ],
        [
         "37",
         "NEW CASTLE12-01",
         "DEMOCRATIC",
         "De La Fuen",
         "0"
        ],
        [
         "38",
         "NEW CASTLE12-01",
         "DEMOCRATIC",
         "Sanders B",
         "49"
        ],
        [
         "39",
         "NEW CASTLE12-01",
         "REPUBLICAN",
         "Bush J",
         "0"
        ],
        [
         "40",
         "NEW CASTLE14-01",
         "DEMOCRATIC",
         "Clinton H",
         "138"
        ],
        [
         "41",
         "NEW CASTLE14-01",
         "DEMOCRATIC",
         "De La Fuen",
         "2"
        ],
        [
         "42",
         "NEW CASTLE14-01",
         "DEMOCRATIC",
         "Sanders B",
         "80"
        ],
        [
         "43",
         "NEW CASTLE14-01",
         "REPUBLICAN",
         "Bush J",
         "3"
        ],
        [
         "44",
         "NEW CASTLE01-01",
         "REPUBLICAN",
         "Carson B",
         "1"
        ],
        [
         "45",
         "NEW CASTLE01-01",
         "REPUBLICAN",
         "Cruz R",
         "13"
        ],
        [
         "46",
         "NEW CASTLE01-01",
         "REPUBLICAN",
         "Kasich J",
         "15"
        ],
        [
         "47",
         "NEW CASTLE01-01",
         "REPUBLICAN",
         "Rubio M",
         "0"
        ],
        [
         "48",
         "NEW CASTLE01-01",
         "REPUBLICAN",
         "Trump D",
         "16"
        ],
        [
         "49",
         "NEW CASTLE02-01",
         "REPUBLICAN",
         "Carson B",
         "0"
        ]
       ],
       "shape": {
        "columns": 4,
        "rows": 2817
       }
      },
      "text/html": [
       "<div>\n",
       "<style scoped>\n",
       "    .dataframe tbody tr th:only-of-type {\n",
       "        vertical-align: middle;\n",
       "    }\n",
       "\n",
       "    .dataframe tbody tr th {\n",
       "        vertical-align: top;\n",
       "    }\n",
       "\n",
       "    .dataframe thead th {\n",
       "        text-align: right;\n",
       "    }\n",
       "</style>\n",
       "<table border=\"1\" class=\"dataframe\">\n",
       "  <thead>\n",
       "    <tr style=\"text-align: right;\">\n",
       "      <th></th>\n",
       "      <th>precinct</th>\n",
       "      <th>party</th>\n",
       "      <th>candidate</th>\n",
       "      <th>votes</th>\n",
       "    </tr>\n",
       "  </thead>\n",
       "  <tbody>\n",
       "    <tr>\n",
       "      <th>0</th>\n",
       "      <td>NEW CASTLE01-01</td>\n",
       "      <td>DEMOCRATIC</td>\n",
       "      <td>Clinton H</td>\n",
       "      <td>625</td>\n",
       "    </tr>\n",
       "    <tr>\n",
       "      <th>1</th>\n",
       "      <td>NEW CASTLE01-01</td>\n",
       "      <td>DEMOCRATIC</td>\n",
       "      <td>De La Fuen</td>\n",
       "      <td>3</td>\n",
       "    </tr>\n",
       "    <tr>\n",
       "      <th>2</th>\n",
       "      <td>NEW CASTLE01-01</td>\n",
       "      <td>DEMOCRATIC</td>\n",
       "      <td>Sanders B</td>\n",
       "      <td>288</td>\n",
       "    </tr>\n",
       "    <tr>\n",
       "      <th>3</th>\n",
       "      <td>NEW CASTLE01-01</td>\n",
       "      <td>REPUBLICAN</td>\n",
       "      <td>Bush J</td>\n",
       "      <td>1</td>\n",
       "    </tr>\n",
       "    <tr>\n",
       "      <th>4</th>\n",
       "      <td>NEW CASTLE02-01</td>\n",
       "      <td>DEMOCRATIC</td>\n",
       "      <td>Clinton H</td>\n",
       "      <td>453</td>\n",
       "    </tr>\n",
       "    <tr>\n",
       "      <th>...</th>\n",
       "      <td>...</td>\n",
       "      <td>...</td>\n",
       "      <td>...</td>\n",
       "      <td>...</td>\n",
       "    </tr>\n",
       "    <tr>\n",
       "      <th>2812</th>\n",
       "      <td>SUSSEX16-41</td>\n",
       "      <td>REPUBLICAN</td>\n",
       "      <td>Carson B</td>\n",
       "      <td>0</td>\n",
       "    </tr>\n",
       "    <tr>\n",
       "      <th>2813</th>\n",
       "      <td>SUSSEX16-41</td>\n",
       "      <td>REPUBLICAN</td>\n",
       "      <td>Cruz R</td>\n",
       "      <td>0</td>\n",
       "    </tr>\n",
       "    <tr>\n",
       "      <th>2814</th>\n",
       "      <td>SUSSEX16-41</td>\n",
       "      <td>REPUBLICAN</td>\n",
       "      <td>Kasich J</td>\n",
       "      <td>0</td>\n",
       "    </tr>\n",
       "    <tr>\n",
       "      <th>2815</th>\n",
       "      <td>SUSSEX16-41</td>\n",
       "      <td>REPUBLICAN</td>\n",
       "      <td>Rubio M</td>\n",
       "      <td>0</td>\n",
       "    </tr>\n",
       "    <tr>\n",
       "      <th>2816</th>\n",
       "      <td>SUSSEX16-41</td>\n",
       "      <td>REPUBLICAN</td>\n",
       "      <td>Trump D</td>\n",
       "      <td>1</td>\n",
       "    </tr>\n",
       "  </tbody>\n",
       "</table>\n",
       "<p>2817 rows × 4 columns</p>\n",
       "</div>"
      ],
      "text/plain": [
       "             precinct       party   candidate  votes\n",
       "0     NEW CASTLE01-01  DEMOCRATIC   Clinton H    625\n",
       "1     NEW CASTLE01-01  DEMOCRATIC  De La Fuen      3\n",
       "2     NEW CASTLE01-01  DEMOCRATIC   Sanders B    288\n",
       "3     NEW CASTLE01-01  REPUBLICAN      Bush J      1\n",
       "4     NEW CASTLE02-01  DEMOCRATIC   Clinton H    453\n",
       "...               ...         ...         ...    ...\n",
       "2812      SUSSEX16-41  REPUBLICAN    Carson B      0\n",
       "2813      SUSSEX16-41  REPUBLICAN      Cruz R      0\n",
       "2814      SUSSEX16-41  REPUBLICAN    Kasich J      0\n",
       "2815      SUSSEX16-41  REPUBLICAN     Rubio M      0\n",
       "2816      SUSSEX16-41  REPUBLICAN     Trump D      1\n",
       "\n",
       "[2817 rows x 4 columns]"
      ]
     },
     "execution_count": 36,
     "metadata": {},
     "output_type": "execute_result"
    }
   ],
   "source": [
    "# Select only the relevant columns\n",
    "primary_data = pri_combined_df[[\"precinct\", \"party\", \"candidate\", \"votes\"]]\n",
    "\n",
    "primary_data"
   ]
  },
  {
   "cell_type": "code",
   "execution_count": 37,
   "id": "dc2ffa15",
   "metadata": {},
   "outputs": [
    {
     "data": {
      "application/vnd.microsoft.datawrangler.viewer.v0+json": {
       "columns": [
        {
         "name": "candidate",
         "rawType": "object",
         "type": "string"
        },
        {
         "name": "count",
         "rawType": "int64",
         "type": "integer"
        }
       ],
       "ref": "427c4435-9e1f-442e-8fde-ebf90c9ec535",
       "rows": [
        [
         "Clinton H",
         "313"
        ],
        [
         "De La Fuen",
         "313"
        ],
        [
         "Sanders B",
         "313"
        ],
        [
         "Bush J",
         "313"
        ],
        [
         "Carson B",
         "313"
        ],
        [
         "Cruz R",
         "313"
        ],
        [
         "Kasich J",
         "313"
        ],
        [
         "Rubio M",
         "313"
        ],
        [
         "Trump D",
         "313"
        ]
       ],
       "shape": {
        "columns": 1,
        "rows": 9
       }
      },
      "text/plain": [
       "candidate\n",
       "Clinton H     313\n",
       "De La Fuen    313\n",
       "Sanders B     313\n",
       "Bush J        313\n",
       "Carson B      313\n",
       "Cruz R        313\n",
       "Kasich J      313\n",
       "Rubio M       313\n",
       "Trump D       313\n",
       "Name: count, dtype: int64"
      ]
     },
     "execution_count": 37,
     "metadata": {},
     "output_type": "execute_result"
    }
   ],
   "source": [
    "# Viewing candidate data\n",
    "primary_data[\"candidate\"].value_counts(dropna=False)"
   ]
  },
  {
   "cell_type": "code",
   "execution_count": 38,
   "id": "5eef8778",
   "metadata": {},
   "outputs": [
    {
     "data": {
      "application/vnd.microsoft.datawrangler.viewer.v0+json": {
       "columns": [
        {
         "name": "candidate",
         "rawType": "object",
         "type": "string"
        },
        {
         "name": "count",
         "rawType": "int64",
         "type": "integer"
        }
       ],
       "ref": "5d0fc56f-d1a6-4242-8d2b-3ecaa7009472",
       "rows": [
        [
         "CLINTON",
         "313"
        ],
        [
         "FUENTE",
         "313"
        ],
        [
         "SANDERS",
         "313"
        ],
        [
         "BUSH",
         "313"
        ],
        [
         "CARSON",
         "313"
        ],
        [
         "CRUZ",
         "313"
        ],
        [
         "KASICH",
         "313"
        ],
        [
         "RUBIO",
         "313"
        ],
        [
         "TRUMP",
         "313"
        ]
       ],
       "shape": {
        "columns": 1,
        "rows": 9
       }
      },
      "text/plain": [
       "candidate\n",
       "CLINTON    313\n",
       "FUENTE     313\n",
       "SANDERS    313\n",
       "BUSH       313\n",
       "CARSON     313\n",
       "CRUZ       313\n",
       "KASICH     313\n",
       "RUBIO      313\n",
       "TRUMP      313\n",
       "Name: count, dtype: int64"
      ]
     },
     "execution_count": 38,
     "metadata": {},
     "output_type": "execute_result"
    }
   ],
   "source": [
    "# Cleaning Candidates\n",
    "\n",
    "# Turning all primary data to uppercase\n",
    "# primary_data[\"candidate\"] = primary_data[\"candidate\"].astype(str).str.upper()\n",
    "\n",
    "# unwanted_keywords = [\n",
    "#     r\"\\w*VOTE\\w*\",\n",
    "#     r\"\\w*UNCOM\\w*\",\n",
    "#     r\"\\w*TOTAL\\w*\"\n",
    "# ]\n",
    "\n",
    "# pattern = \"|\".join(unwanted_keywords)\n",
    "\n",
    "# # Assuming candidate column is already string and uppercase\n",
    "# primary_data = primary_data[~primary_data[\"candidate\"].str.upper().str.contains(pattern, regex=True, na=False)]\n",
    "\n",
    "# # Fixing the , candidate\n",
    "# primary_data[\"candidate\"] = (\n",
    "#     primary_data[\"candidate\"].str.split(\",\")\n",
    "#     .str[0]\n",
    "#     .str.strip()\n",
    "#     )\n",
    "\n",
    "# # Fixing De la Fuente\n",
    "# primary_data.loc[\n",
    "#     primary_data[\"candidate\"].str.contains(\"\\w*Fuen\\w*\", case=False, na=False),\n",
    "#     \"candidate\"\n",
    "# ] = \"LA FUENTE\"\n",
    "\n",
    "# #Selecting only last name\n",
    "# primary_data[\"candidate\"] = primary_data[\"candidate\"].str.split().str[-1]\n",
    "\n",
    "# # Fixing Huckabee\n",
    "# primary_data.loc[\n",
    "#     primary_data[\"candidate\"].str.contains(\"\\w*ABEE\\w*\", case=False, na=False),\n",
    "#     \"candidate\"\n",
    "# ] = \"HUCKABEE\"\n",
    "\n",
    "# # Fixing Fiorina\n",
    "# primary_data.loc[\n",
    "#     primary_data[\"candidate\"].str.contains(\"\\w*ORINA\\W*\", case=False, na=False),\n",
    "#     \"candidate\"\n",
    "# ] = \"FIORINA\"\n",
    "\n",
    "# # Fixing Gray\n",
    "# primary_data.loc[\n",
    "#     primary_data[\"candidate\"].str.contains(\"GREY\", case=False, na=False),\n",
    "#     \"candidate\"\n",
    "# ] = \"GRAY\"\n",
    "\n",
    "# # Fixing Wilson\n",
    "# primary_data.loc[\n",
    "#     primary_data[\"candidate\"].str.contains(\"WISON\", case=False, na=False),\n",
    "#     \"candidate\"\n",
    "# ] = \"WILSON\"\n",
    "\n",
    "\n",
    "# Fixing separator \n",
    "# primary_data[\"candidate\"] = (\n",
    "#     primary_data[\"candidate\"]\n",
    "#     .str.split(r\"\\s*(?:and|/|&|–|-|\\+)\\s*\", n=1, expand=True)[0]\n",
    "#     .str.strip()\n",
    "#     .str.upper()\n",
    "# )\n",
    "\n",
    "# # Fixing McMullin\n",
    "\n",
    "# primary_data.loc[\n",
    "#     (\n",
    "#         primary_data[\"candidate\"].str.contains(\"MCMULLIN\", case=False, na=False) |\n",
    "#         primary_data[\"candidate\"].str.contains(\"EVAN MCMULLEN\", case=False, na=False)\n",
    "#     ),\n",
    "#     \"candidate\"\n",
    "# ] = \"MCMULLIN\"\n",
    "\n",
    "primary_data.loc[\n",
    "    primary_data[\"candidate\"].str.contains(\"De La Fuen\", case=False, na=False),\n",
    "    \"candidate\"\n",
    "] = \"FUENTE D\"\n",
    "\n",
    "primary_data.loc[:,\"candidate\"] = (\n",
    "    primary_data[\"candidate\"].str.split().str[0].str.upper()\n",
    ")\n",
    "\n",
    "primary_data[\"candidate\"].value_counts(dropna=False)"
   ]
  },
  {
   "cell_type": "code",
   "execution_count": 39,
   "id": "dcc76af7",
   "metadata": {},
   "outputs": [
    {
     "data": {
      "application/vnd.microsoft.datawrangler.viewer.v0+json": {
       "columns": [
        {
         "name": "party",
         "rawType": "object",
         "type": "string"
        },
        {
         "name": "count",
         "rawType": "int64",
         "type": "integer"
        }
       ],
       "ref": "d0277669-2c8c-4d76-b06d-25065feb1633",
       "rows": [
        [
         "REPUBLICAN",
         "1878"
        ],
        [
         "DEMOCRATIC",
         "939"
        ]
       ],
       "shape": {
        "columns": 1,
        "rows": 2
       }
      },
      "text/plain": [
       "party\n",
       "REPUBLICAN    1878\n",
       "DEMOCRATIC     939\n",
       "Name: count, dtype: int64"
      ]
     },
     "execution_count": 39,
     "metadata": {},
     "output_type": "execute_result"
    }
   ],
   "source": [
    "# Viewing Party\n",
    "primary_data[\"party\"].value_counts(dropna=False)"
   ]
  },
  {
   "cell_type": "code",
   "execution_count": 40,
   "id": "582aa6c5",
   "metadata": {},
   "outputs": [
    {
     "data": {
      "application/vnd.microsoft.datawrangler.viewer.v0+json": {
       "columns": [
        {
         "name": "party",
         "rawType": "object",
         "type": "string"
        },
        {
         "name": "count",
         "rawType": "int64",
         "type": "integer"
        }
       ],
       "ref": "6c5b4f7b-9820-4c22-811d-9772ba062f11",
       "rows": [
        [
         "REPUBLICAN",
         "1878"
        ],
        [
         "DEMOCRATIC",
         "939"
        ]
       ],
       "shape": {
        "columns": 1,
        "rows": 2
       }
      },
      "text/plain": [
       "party\n",
       "REPUBLICAN    1878\n",
       "DEMOCRATIC     939\n",
       "Name: count, dtype: int64"
      ]
     },
     "execution_count": 40,
     "metadata": {},
     "output_type": "execute_result"
    }
   ],
   "source": [
    "#=====================================\n",
    "# This function is used to look up party\n",
    "# for the candidate in the same df\n",
    "#=====================================\n",
    "def fill_party_from_data(row, df):\n",
    "    if pd.notna(row[\"party\"]):\n",
    "        return row[\"party\"]\n",
    "    \n",
    "    # Try to find other rows with the same candidate and known party\n",
    "    matches = df[(df[\"candidate\"] == row[\"candidate\"]) & (df[\"party\"].notna())]\n",
    "    if not matches.empty:\n",
    "        return matches[\"party\"].iloc[0]  # Return the first match's party\n",
    "    else:\n",
    "        return None  # Still unknown\n",
    "    \n",
    "\n",
    "#=====================================\n",
    "# Example usage (uncomment and modify for your workflow)\n",
    "#=====================================\n",
    "# Fill party using internal data\n",
    "# primary_data[\"party\"] = primary_data.apply(\n",
    "#     lambda row: fill_party_from_data(row, primary_data),\n",
    "#     axis=1\n",
    "# )\n",
    "\n",
    "primary_data[\"party\"].value_counts(dropna=False)\n"
   ]
  },
  {
   "cell_type": "code",
   "execution_count": 41,
   "id": "34361751",
   "metadata": {},
   "outputs": [
    {
     "name": "stderr",
     "output_type": "stream",
     "text": [
      "C:\\Users\\ADMIN\\AppData\\Local\\Temp\\ipykernel_12572\\611148754.py:2: SettingWithCopyWarning: \n",
      "A value is trying to be set on a copy of a slice from a DataFrame.\n",
      "Try using .loc[row_indexer,col_indexer] = value instead\n",
      "\n",
      "See the caveats in the documentation: https://pandas.pydata.org/pandas-docs/stable/user_guide/indexing.html#returning-a-view-versus-a-copy\n",
      "  primary_data[\"party\"] = primary_data.apply(\n",
      "C:\\Users\\ADMIN\\AppData\\Local\\Temp\\ipykernel_12572\\611148754.py:6: SettingWithCopyWarning: \n",
      "A value is trying to be set on a copy of a slice from a DataFrame.\n",
      "Try using .loc[row_indexer,col_indexer] = value instead\n",
      "\n",
      "See the caveats in the documentation: https://pandas.pydata.org/pandas-docs/stable/user_guide/indexing.html#returning-a-view-versus-a-copy\n",
      "  primary_data[\"party\"] = (\n"
     ]
    },
    {
     "data": {
      "application/vnd.microsoft.datawrangler.viewer.v0+json": {
       "columns": [
        {
         "name": "party",
         "rawType": "object",
         "type": "string"
        },
        {
         "name": "count",
         "rawType": "int64",
         "type": "integer"
        }
       ],
       "ref": "bb76740b-8c27-4c3a-ae2e-bbe01a504c41",
       "rows": [
        [
         "REP",
         "1878"
        ],
        [
         "DEM",
         "939"
        ]
       ],
       "shape": {
        "columns": 1,
        "rows": 2
       }
      },
      "text/plain": [
       "party\n",
       "REP    1878\n",
       "DEM     939\n",
       "Name: count, dtype: int64"
      ]
     },
     "execution_count": 41,
     "metadata": {},
     "output_type": "execute_result"
    }
   ],
   "source": [
    "# Cleaning Party\n",
    "primary_data[\"party\"] = primary_data.apply(\n",
    "    lambda row: fill_party_from_data(row, primary_data),\n",
    "    axis=1\n",
    ")\n",
    "primary_data[\"party\"] = (\n",
    "    primary_data[\"party\"]\n",
    "    .replace({\n",
    "        \"REPUBLICAN\": \"REP\",\n",
    "        \"R\": \"REP\",\n",
    "        \"DEMOCRATIC\": \"DEM\",\n",
    "        \"DEM\": \"DEM\",\n",
    "        \"D\": \"DEM\",\n",
    "        \"GREEN\": \"GRN\",\n",
    "        \"G\": \"GREEN\",\n",
    "        \"LIBERTARIAN\": \"LIB\",\n",
    "        \"LBT\": \"LIB\",\n",
    "        \"L\": \"LIB\",\n",
    "        \"CONSTITUTION\": \"CON\",\n",
    "        \"NP\": \"IND\",\n",
    "        \"NON\": \"IND\",\n",
    "        \"WRI\": \"IND\",\n",
    "        \"WRITE-IN\": \"IND\",\n",
    "        \"ONA\": \"IND\",\n",
    "        \"GEN\": \"IND\",\n",
    "        \"NONE\":\"UNK\"\n",
    "    })\n",
    ")\n",
    "primary_data[\"party\"].value_counts(dropna=False)"
   ]
  },
  {
   "cell_type": "code",
   "execution_count": 42,
   "id": "a359cd18",
   "metadata": {},
   "outputs": [
    {
     "name": "stderr",
     "output_type": "stream",
     "text": [
      "C:\\Users\\ADMIN\\AppData\\Local\\Temp\\ipykernel_12572\\2521670330.py:1: SettingWithCopyWarning: \n",
      "A value is trying to be set on a copy of a slice from a DataFrame.\n",
      "Try using .loc[row_indexer,col_indexer] = value instead\n",
      "\n",
      "See the caveats in the documentation: https://pandas.pydata.org/pandas-docs/stable/user_guide/indexing.html#returning-a-view-versus-a-copy\n",
      "  primary_data.loc[:,\"candidate_column\"] = (\n"
     ]
    },
    {
     "data": {
      "application/vnd.microsoft.datawrangler.viewer.v0+json": {
       "columns": [
        {
         "name": "index",
         "rawType": "int64",
         "type": "integer"
        },
        {
         "name": "precinct",
         "rawType": "object",
         "type": "string"
        },
        {
         "name": "pri_dem_CLINTON",
         "rawType": "int64",
         "type": "integer"
        },
        {
         "name": "pri_dem_FUENTE",
         "rawType": "int64",
         "type": "integer"
        },
        {
         "name": "pri_dem_SANDERS",
         "rawType": "int64",
         "type": "integer"
        },
        {
         "name": "pri_rep_BUSH",
         "rawType": "int64",
         "type": "integer"
        },
        {
         "name": "pri_rep_CARSON",
         "rawType": "int64",
         "type": "integer"
        },
        {
         "name": "pri_rep_CRUZ",
         "rawType": "int64",
         "type": "integer"
        },
        {
         "name": "pri_rep_KASICH",
         "rawType": "int64",
         "type": "integer"
        },
        {
         "name": "pri_rep_RUBIO",
         "rawType": "int64",
         "type": "integer"
        },
        {
         "name": "pri_rep_TRUMP",
         "rawType": "int64",
         "type": "integer"
        }
       ],
       "ref": "bff77f5f-2612-4ed8-b6ec-e78b588aaa94",
       "rows": [
        [
         "0",
         "KENT01-28",
         "119",
         "4",
         "72",
         "2",
         "2",
         "25",
         "9",
         "1",
         "78"
        ],
        [
         "1",
         "KENT01-29",
         "273",
         "7",
         "156",
         "0",
         "2",
         "53",
         "33",
         "1",
         "162"
        ],
        [
         "2",
         "KENT01-30",
         "32",
         "9",
         "26",
         "1",
         "4",
         "22",
         "9",
         "1",
         "104"
        ],
        [
         "3",
         "KENT01-31",
         "33",
         "0",
         "27",
         "0",
         "0",
         "5",
         "2",
         "0",
         "21"
        ],
        [
         "4",
         "KENT01-32",
         "281",
         "5",
         "205",
         "3",
         "4",
         "58",
         "30",
         "2",
         "147"
        ],
        [
         "5",
         "KENT01-33",
         "45",
         "1",
         "26",
         "1",
         "2",
         "12",
         "6",
         "0",
         "56"
        ],
        [
         "6",
         "KENT01-34",
         "116",
         "1",
         "114",
         "0",
         "9",
         "43",
         "43",
         "4",
         "144"
        ],
        [
         "7",
         "KENT02-28",
         "95",
         "2",
         "63",
         "2",
         "1",
         "19",
         "8",
         "2",
         "38"
        ],
        [
         "8",
         "KENT02-30",
         "24",
         "0",
         "14",
         "0",
         "1",
         "10",
         "6",
         "1",
         "43"
        ],
        [
         "9",
         "KENT02-31",
         "147",
         "0",
         "83",
         "3",
         "4",
         "23",
         "49",
         "4",
         "137"
        ],
        [
         "10",
         "KENT02-32",
         "52",
         "0",
         "56",
         "1",
         "3",
         "22",
         "15",
         "3",
         "48"
        ],
        [
         "11",
         "KENT02-33",
         "80",
         "2",
         "41",
         "2",
         "1",
         "26",
         "27",
         "2",
         "133"
        ],
        [
         "12",
         "KENT02-34",
         "56",
         "0",
         "35",
         "2",
         "2",
         "22",
         "27",
         "0",
         "93"
        ],
        [
         "13",
         "KENT03-28",
         "216",
         "3",
         "175",
         "3",
         "6",
         "48",
         "41",
         "6",
         "149"
        ],
        [
         "14",
         "KENT03-29",
         "625",
         "6",
         "318",
         "6",
         "10",
         "111",
         "93",
         "7",
         "440"
        ],
        [
         "15",
         "KENT03-30",
         "187",
         "9",
         "153",
         "5",
         "8",
         "67",
         "43",
         "4",
         "287"
        ],
        [
         "16",
         "KENT03-31",
         "418",
         "9",
         "244",
         "5",
         "5",
         "66",
         "50",
         "8",
         "209"
        ],
        [
         "17",
         "KENT03-32",
         "255",
         "3",
         "172",
         "7",
         "9",
         "90",
         "37",
         "1",
         "177"
        ],
        [
         "18",
         "KENT03-33",
         "127",
         "3",
         "97",
         "2",
         "8",
         "55",
         "37",
         "2",
         "201"
        ],
        [
         "19",
         "KENT03-34",
         "166",
         "2",
         "91",
         "4",
         "5",
         "38",
         "31",
         "2",
         "176"
        ],
        [
         "20",
         "KENT04-28",
         "285",
         "3",
         "150",
         "1",
         "4",
         "43",
         "29",
         "1",
         "160"
        ],
        [
         "21",
         "KENT04-31",
         "99",
         "0",
         "45",
         "3",
         "5",
         "24",
         "27",
         "1",
         "65"
        ],
        [
         "22",
         "KENT04-32",
         "6",
         "0",
         "4",
         "0",
         "0",
         "0",
         "0",
         "0",
         "1"
        ],
        [
         "23",
         "KENT04-33",
         "192",
         "6",
         "146",
         "5",
         "8",
         "105",
         "68",
         "1",
         "374"
        ],
        [
         "24",
         "KENT04-34",
         "30",
         "1",
         "25",
         "1",
         "1",
         "20",
         "17",
         "1",
         "62"
        ],
        [
         "25",
         "KENT05-11",
         "87",
         "1",
         "77",
         "0",
         "4",
         "44",
         "15",
         "4",
         "126"
        ],
        [
         "26",
         "KENT05-30",
         "51",
         "2",
         "59",
         "1",
         "4",
         "47",
         "17",
         "0",
         "265"
        ],
        [
         "27",
         "KENT05-34",
         "346",
         "5",
         "192",
         "2",
         "8",
         "152",
         "94",
         "6",
         "474"
        ],
        [
         "28",
         "KENT06-11",
         "93",
         "7",
         "117",
         "1",
         "2",
         "67",
         "25",
         "0",
         "250"
        ],
        [
         "29",
         "KENT06-31",
         "403",
         "2",
         "253",
         "3",
         "6",
         "67",
         "50",
         "4",
         "149"
        ],
        [
         "30",
         "KENT06-32",
         "27",
         "1",
         "22",
         "1",
         "0",
         "2",
         "8",
         "0",
         "35"
        ],
        [
         "31",
         "KENT06-33",
         "14",
         "0",
         "6",
         "0",
         "0",
         "8",
         "11",
         "0",
         "33"
        ],
        [
         "32",
         "KENT07-11",
         "110",
         "10",
         "58",
         "2",
         "4",
         "48",
         "22",
         "1",
         "127"
        ],
        [
         "33",
         "KENT07-28",
         "259",
         "4",
         "184",
         "5",
         "4",
         "70",
         "44",
         "8",
         "248"
        ],
        [
         "34",
         "KENT07-29",
         "113",
         "0",
         "44",
         "2",
         "4",
         "22",
         "23",
         "0",
         "94"
        ],
        [
         "35",
         "KENT07-30",
         "165",
         "11",
         "163",
         "5",
         "7",
         "88",
         "57",
         "0",
         "349"
        ],
        [
         "36",
         "KENT07-33",
         "44",
         "1",
         "44",
         "3",
         "3",
         "32",
         "13",
         "2",
         "172"
        ],
        [
         "37",
         "KENT07-34",
         "47",
         "2",
         "55",
         "1",
         "2",
         "35",
         "53",
         "3",
         "123"
        ],
        [
         "38",
         "KENT08-29",
         "149",
         "3",
         "103",
         "1",
         "2",
         "105",
         "43",
         "3",
         "211"
        ],
        [
         "39",
         "KENT08-33",
         "224",
         "5",
         "165",
         "6",
         "9",
         "78",
         "67",
         "2",
         "409"
        ],
        [
         "40",
         "KENT08-34",
         "140",
         "5",
         "88",
         "2",
         "3",
         "64",
         "76",
         "6",
         "189"
        ],
        [
         "41",
         "KENT09-11",
         "29",
         "1",
         "28",
         "2",
         "5",
         "22",
         "13",
         "0",
         "117"
        ],
        [
         "42",
         "KENT09-28",
         "88",
         "0",
         "55",
         "1",
         "0",
         "13",
         "4",
         "0",
         "25"
        ],
        [
         "43",
         "KENT09-29",
         "111",
         "4",
         "73",
         "3",
         "2",
         "63",
         "59",
         "2",
         "217"
        ],
        [
         "44",
         "KENT09-31",
         "76",
         "1",
         "55",
         "1",
         "3",
         "21",
         "30",
         "3",
         "54"
        ],
        [
         "45",
         "KENT09-34",
         "185",
         "3",
         "105",
         "1",
         "5",
         "59",
         "57",
         "1",
         "139"
        ],
        [
         "46",
         "KENT10-11",
         "23",
         "2",
         "43",
         "0",
         "2",
         "16",
         "9",
         "0",
         "87"
        ],
        [
         "47",
         "KENT10-28",
         "132",
         "0",
         "64",
         "0",
         "2",
         "14",
         "6",
         "3",
         "37"
        ],
        [
         "48",
         "KENT10-30",
         "34",
         "2",
         "25",
         "1",
         "1",
         "15",
         "18",
         "0",
         "101"
        ],
        [
         "49",
         "KENT10-31",
         "73",
         "1",
         "55",
         "1",
         "1",
         "16",
         "14",
         "1",
         "41"
        ]
       ],
       "shape": {
        "columns": 10,
        "rows": 313
       }
      },
      "text/html": [
       "<div>\n",
       "<style scoped>\n",
       "    .dataframe tbody tr th:only-of-type {\n",
       "        vertical-align: middle;\n",
       "    }\n",
       "\n",
       "    .dataframe tbody tr th {\n",
       "        vertical-align: top;\n",
       "    }\n",
       "\n",
       "    .dataframe thead th {\n",
       "        text-align: right;\n",
       "    }\n",
       "</style>\n",
       "<table border=\"1\" class=\"dataframe\">\n",
       "  <thead>\n",
       "    <tr style=\"text-align: right;\">\n",
       "      <th>candidate_column</th>\n",
       "      <th>precinct</th>\n",
       "      <th>pri_dem_CLINTON</th>\n",
       "      <th>pri_dem_FUENTE</th>\n",
       "      <th>pri_dem_SANDERS</th>\n",
       "      <th>pri_rep_BUSH</th>\n",
       "      <th>pri_rep_CARSON</th>\n",
       "      <th>pri_rep_CRUZ</th>\n",
       "      <th>pri_rep_KASICH</th>\n",
       "      <th>pri_rep_RUBIO</th>\n",
       "      <th>pri_rep_TRUMP</th>\n",
       "    </tr>\n",
       "  </thead>\n",
       "  <tbody>\n",
       "    <tr>\n",
       "      <th>0</th>\n",
       "      <td>KENT01-28</td>\n",
       "      <td>119</td>\n",
       "      <td>4</td>\n",
       "      <td>72</td>\n",
       "      <td>2</td>\n",
       "      <td>2</td>\n",
       "      <td>25</td>\n",
       "      <td>9</td>\n",
       "      <td>1</td>\n",
       "      <td>78</td>\n",
       "    </tr>\n",
       "    <tr>\n",
       "      <th>1</th>\n",
       "      <td>KENT01-29</td>\n",
       "      <td>273</td>\n",
       "      <td>7</td>\n",
       "      <td>156</td>\n",
       "      <td>0</td>\n",
       "      <td>2</td>\n",
       "      <td>53</td>\n",
       "      <td>33</td>\n",
       "      <td>1</td>\n",
       "      <td>162</td>\n",
       "    </tr>\n",
       "    <tr>\n",
       "      <th>2</th>\n",
       "      <td>KENT01-30</td>\n",
       "      <td>32</td>\n",
       "      <td>9</td>\n",
       "      <td>26</td>\n",
       "      <td>1</td>\n",
       "      <td>4</td>\n",
       "      <td>22</td>\n",
       "      <td>9</td>\n",
       "      <td>1</td>\n",
       "      <td>104</td>\n",
       "    </tr>\n",
       "    <tr>\n",
       "      <th>3</th>\n",
       "      <td>KENT01-31</td>\n",
       "      <td>33</td>\n",
       "      <td>0</td>\n",
       "      <td>27</td>\n",
       "      <td>0</td>\n",
       "      <td>0</td>\n",
       "      <td>5</td>\n",
       "      <td>2</td>\n",
       "      <td>0</td>\n",
       "      <td>21</td>\n",
       "    </tr>\n",
       "    <tr>\n",
       "      <th>4</th>\n",
       "      <td>KENT01-32</td>\n",
       "      <td>281</td>\n",
       "      <td>5</td>\n",
       "      <td>205</td>\n",
       "      <td>3</td>\n",
       "      <td>4</td>\n",
       "      <td>58</td>\n",
       "      <td>30</td>\n",
       "      <td>2</td>\n",
       "      <td>147</td>\n",
       "    </tr>\n",
       "    <tr>\n",
       "      <th>...</th>\n",
       "      <td>...</td>\n",
       "      <td>...</td>\n",
       "      <td>...</td>\n",
       "      <td>...</td>\n",
       "      <td>...</td>\n",
       "      <td>...</td>\n",
       "      <td>...</td>\n",
       "      <td>...</td>\n",
       "      <td>...</td>\n",
       "      <td>...</td>\n",
       "    </tr>\n",
       "    <tr>\n",
       "      <th>308</th>\n",
       "      <td>SUSSEX09-36</td>\n",
       "      <td>5</td>\n",
       "      <td>0</td>\n",
       "      <td>1</td>\n",
       "      <td>0</td>\n",
       "      <td>0</td>\n",
       "      <td>4</td>\n",
       "      <td>1</td>\n",
       "      <td>0</td>\n",
       "      <td>23</td>\n",
       "    </tr>\n",
       "    <tr>\n",
       "      <th>309</th>\n",
       "      <td>SUSSEX10-20</td>\n",
       "      <td>34</td>\n",
       "      <td>0</td>\n",
       "      <td>20</td>\n",
       "      <td>0</td>\n",
       "      <td>1</td>\n",
       "      <td>4</td>\n",
       "      <td>8</td>\n",
       "      <td>0</td>\n",
       "      <td>61</td>\n",
       "    </tr>\n",
       "    <tr>\n",
       "      <th>310</th>\n",
       "      <td>SUSSEX10-36</td>\n",
       "      <td>10</td>\n",
       "      <td>0</td>\n",
       "      <td>6</td>\n",
       "      <td>0</td>\n",
       "      <td>0</td>\n",
       "      <td>0</td>\n",
       "      <td>3</td>\n",
       "      <td>0</td>\n",
       "      <td>22</td>\n",
       "    </tr>\n",
       "    <tr>\n",
       "      <th>311</th>\n",
       "      <td>SUSSEX11-36</td>\n",
       "      <td>39</td>\n",
       "      <td>0</td>\n",
       "      <td>11</td>\n",
       "      <td>0</td>\n",
       "      <td>2</td>\n",
       "      <td>8</td>\n",
       "      <td>11</td>\n",
       "      <td>0</td>\n",
       "      <td>41</td>\n",
       "    </tr>\n",
       "    <tr>\n",
       "      <th>312</th>\n",
       "      <td>SUSSEX16-41</td>\n",
       "      <td>10</td>\n",
       "      <td>0</td>\n",
       "      <td>7</td>\n",
       "      <td>0</td>\n",
       "      <td>0</td>\n",
       "      <td>0</td>\n",
       "      <td>0</td>\n",
       "      <td>0</td>\n",
       "      <td>1</td>\n",
       "    </tr>\n",
       "  </tbody>\n",
       "</table>\n",
       "<p>313 rows × 10 columns</p>\n",
       "</div>"
      ],
      "text/plain": [
       "candidate_column     precinct  pri_dem_CLINTON  pri_dem_FUENTE  \\\n",
       "0                   KENT01-28              119               4   \n",
       "1                   KENT01-29              273               7   \n",
       "2                   KENT01-30               32               9   \n",
       "3                   KENT01-31               33               0   \n",
       "4                   KENT01-32              281               5   \n",
       "..                        ...              ...             ...   \n",
       "308               SUSSEX09-36                5               0   \n",
       "309               SUSSEX10-20               34               0   \n",
       "310               SUSSEX10-36               10               0   \n",
       "311               SUSSEX11-36               39               0   \n",
       "312               SUSSEX16-41               10               0   \n",
       "\n",
       "candidate_column  pri_dem_SANDERS  pri_rep_BUSH  pri_rep_CARSON  pri_rep_CRUZ  \\\n",
       "0                              72             2               2            25   \n",
       "1                             156             0               2            53   \n",
       "2                              26             1               4            22   \n",
       "3                              27             0               0             5   \n",
       "4                             205             3               4            58   \n",
       "..                            ...           ...             ...           ...   \n",
       "308                             1             0               0             4   \n",
       "309                            20             0               1             4   \n",
       "310                             6             0               0             0   \n",
       "311                            11             0               2             8   \n",
       "312                             7             0               0             0   \n",
       "\n",
       "candidate_column  pri_rep_KASICH  pri_rep_RUBIO  pri_rep_TRUMP  \n",
       "0                              9              1             78  \n",
       "1                             33              1            162  \n",
       "2                              9              1            104  \n",
       "3                              2              0             21  \n",
       "4                             30              2            147  \n",
       "..                           ...            ...            ...  \n",
       "308                            1              0             23  \n",
       "309                            8              0             61  \n",
       "310                            3              0             22  \n",
       "311                           11              0             41  \n",
       "312                            0              0              1  \n",
       "\n",
       "[313 rows x 10 columns]"
      ]
     },
     "execution_count": 42,
     "metadata": {},
     "output_type": "execute_result"
    }
   ],
   "source": [
    "primary_data.loc[:,\"candidate_column\"] = (\n",
    "    \"pri_\" +\n",
    "    primary_data[\"party\"].str.lower() + \"_\" +\n",
    "    primary_data[\"candidate\"]\n",
    ")\n",
    "\n",
    "# pivot the table\n",
    "primary_result = primary_data.pivot_table(\n",
    "    index=\"precinct\",\n",
    "    columns=\"candidate_column\",\n",
    "    values=\"votes\",\n",
    "    aggfunc=\"sum\",  \n",
    "    fill_value=0\n",
    ").reset_index()\n",
    "\n",
    "primary_result"
   ]
  },
  {
   "cell_type": "code",
   "execution_count": 43,
   "id": "f1ef9692",
   "metadata": {},
   "outputs": [],
   "source": [
    "# Process general files\n",
    "general_df_list = []\n",
    "\n",
    "for file in general_files:\n",
    "    try:\n",
    "        df = pd.read_csv(file)\n",
    "        \n",
    "        # Combine precinct as county + precinct\n",
    "        df[\"precinct\"] = df[\"county\"].astype(str) + df[\"election_district\"].astype(str)\n",
    "        df[\"precinct\"] = df[\"precinct\"].str.upper()\n",
    "\n",
    "        # Cleaning maybe total precinct\n",
    "        if 'precinct' in df.columns:\n",
    "            df['precinct'] = df['precinct'].astype(str)                  \n",
    "            df = df[df['precinct'].str.upper() != \"TOTAL\"]        \n",
    "            df = df[~df['precinct'].str.upper().str.contains(r\"\\w*TOTAL\\w*\", na=False)]        \n",
    "            df = df[df['precinct'].str.strip().str.upper() != \"TOTAL\"]   \n",
    "            df = df[df['precinct'].str.upper() != \"NAN\"]  \n",
    "\n",
    "        if 'county' in df.columns:\n",
    "            df['county'] = df['county'].astype(str)                  \n",
    "            df = df[df['county'].str.upper() != \"TOTAL\"]               \n",
    "            df = df[df['county'].str.strip().str.upper() != \"TOTAL\"]   \n",
    "            df = df[df['county'].str.upper() != \"NAN\"]  \n",
    "            df = df[~df['county'].str.upper().str.contains(r\"\\w*TOTAL\\w*\", na=False)]                  \n",
    "        \n",
    "        # Filtering out only President \n",
    "        if 'office' in df.columns:\n",
    "            df = df[df[\"office\"] == \"President\"]\n",
    "        \n",
    "        # Dropping duplicates value\n",
    "        df = df.drop_duplicates()\n",
    "        \n",
    "        general_df_list.append(df)\n",
    "\n",
    "    except Exception as e:\n",
    "        print(f\"Error in {file}: {e}\")\n",
    "\n",
    "# Combine all cleaned files\n",
    "gen_combined_df = pd.concat(general_df_list, ignore_index=True)\n",
    "\n",
    "# Checking any suspicious precinct\n",
    "suspicious_precincts = gen_combined_df[\n",
    "    gen_combined_df[\"precinct\"].str.strip().str.upper().isin([\"TOTAL\", \"NAN\"])\n",
    "]\n"
   ]
  },
  {
   "cell_type": "code",
   "execution_count": 44,
   "id": "1bbbd54d",
   "metadata": {},
   "outputs": [
    {
     "data": {
      "application/vnd.microsoft.datawrangler.viewer.v0+json": {
       "columns": [
        {
         "name": "index",
         "rawType": "int64",
         "type": "integer"
        },
        {
         "name": "precinct",
         "rawType": "object",
         "type": "string"
        },
        {
         "name": "party",
         "rawType": "object",
         "type": "string"
        },
        {
         "name": "candidate",
         "rawType": "object",
         "type": "string"
        },
        {
         "name": "votes",
         "rawType": "int64",
         "type": "integer"
        }
       ],
       "ref": "e447ad50-305a-4d28-901c-5864405e4f68",
       "rows": [
        [
         "0",
         "NEW CASTLE01-01",
         "DEMOCRATIC",
         "Clinton H",
         "679"
        ],
        [
         "1",
         "NEW CASTLE01-01",
         "REPUBLICAN",
         "Trump D",
         "68"
        ],
        [
         "2",
         "NEW CASTLE01-01",
         "GREEN",
         "Stein J",
         "8"
        ],
        [
         "3",
         "NEW CASTLE01-01",
         "LIBERTARIN",
         "Johnson G",
         "12"
        ],
        [
         "4",
         "NEW CASTLE02-01",
         "DEMOCRATIC",
         "Clinton H",
         "1177"
        ],
        [
         "5",
         "NEW CASTLE02-01",
         "REPUBLICAN",
         "Trump D",
         "45"
        ],
        [
         "6",
         "NEW CASTLE02-01",
         "GREEN",
         "Stein J",
         "16"
        ],
        [
         "7",
         "NEW CASTLE02-01",
         "LIBERTARIN",
         "Johnson G",
         "8"
        ],
        [
         "8",
         "NEW CASTLE03-01",
         "DEMOCRATIC",
         "Clinton H",
         "763"
        ],
        [
         "9",
         "NEW CASTLE03-01",
         "REPUBLICAN",
         "Trump D",
         "19"
        ],
        [
         "10",
         "NEW CASTLE03-01",
         "GREEN",
         "Stein J",
         "4"
        ],
        [
         "11",
         "NEW CASTLE03-01",
         "LIBERTARIN",
         "Johnson G",
         "1"
        ],
        [
         "12",
         "NEW CASTLE04-01",
         "DEMOCRATIC",
         "Clinton H",
         "1011"
        ],
        [
         "13",
         "NEW CASTLE04-01",
         "REPUBLICAN",
         "Trump D",
         "45"
        ],
        [
         "14",
         "NEW CASTLE04-01",
         "GREEN",
         "Stein J",
         "13"
        ],
        [
         "15",
         "NEW CASTLE04-01",
         "LIBERTARIN",
         "Johnson G",
         "12"
        ],
        [
         "16",
         "NEW CASTLE05-01",
         "DEMOCRATIC",
         "Clinton H",
         "987"
        ],
        [
         "17",
         "NEW CASTLE05-01",
         "REPUBLICAN",
         "Trump D",
         "169"
        ],
        [
         "18",
         "NEW CASTLE05-01",
         "GREEN",
         "Stein J",
         "26"
        ],
        [
         "19",
         "NEW CASTLE05-01",
         "LIBERTARIN",
         "Johnson G",
         "37"
        ],
        [
         "20",
         "NEW CASTLE06-01",
         "DEMOCRATIC",
         "Clinton H",
         "398"
        ],
        [
         "21",
         "NEW CASTLE06-01",
         "REPUBLICAN",
         "Trump D",
         "15"
        ],
        [
         "22",
         "NEW CASTLE06-01",
         "GREEN",
         "Stein J",
         "6"
        ],
        [
         "23",
         "NEW CASTLE06-01",
         "LIBERTARIN",
         "Johnson G",
         "6"
        ],
        [
         "24",
         "NEW CASTLE07-01",
         "DEMOCRATIC",
         "Clinton H",
         "416"
        ],
        [
         "25",
         "NEW CASTLE07-01",
         "REPUBLICAN",
         "Trump D",
         "31"
        ],
        [
         "26",
         "NEW CASTLE07-01",
         "GREEN",
         "Stein J",
         "1"
        ],
        [
         "27",
         "NEW CASTLE07-01",
         "LIBERTARIN",
         "Johnson G",
         "7"
        ],
        [
         "28",
         "NEW CASTLE08-01",
         "DEMOCRATIC",
         "Clinton H",
         "107"
        ],
        [
         "29",
         "NEW CASTLE08-01",
         "REPUBLICAN",
         "Trump D",
         "38"
        ],
        [
         "30",
         "NEW CASTLE08-01",
         "GREEN",
         "Stein J",
         "3"
        ],
        [
         "31",
         "NEW CASTLE08-01",
         "LIBERTARIN",
         "Johnson G",
         "7"
        ],
        [
         "32",
         "NEW CASTLE09-01",
         "DEMOCRATIC",
         "Clinton H",
         "743"
        ],
        [
         "33",
         "NEW CASTLE09-01",
         "REPUBLICAN",
         "Trump D",
         "83"
        ],
        [
         "34",
         "NEW CASTLE09-01",
         "GREEN",
         "Stein J",
         "6"
        ],
        [
         "35",
         "NEW CASTLE09-01",
         "LIBERTARIN",
         "Johnson G",
         "21"
        ],
        [
         "36",
         "NEW CASTLE10-01",
         "DEMOCRATIC",
         "Clinton H",
         "1052"
        ],
        [
         "37",
         "NEW CASTLE10-01",
         "REPUBLICAN",
         "Trump D",
         "17"
        ],
        [
         "38",
         "NEW CASTLE10-01",
         "GREEN",
         "Stein J",
         "12"
        ],
        [
         "39",
         "NEW CASTLE10-01",
         "LIBERTARIN",
         "Johnson G",
         "4"
        ],
        [
         "40",
         "NEW CASTLE11-01",
         "DEMOCRATIC",
         "Clinton H",
         "529"
        ],
        [
         "41",
         "NEW CASTLE11-01",
         "REPUBLICAN",
         "Trump D",
         "66"
        ],
        [
         "42",
         "NEW CASTLE11-01",
         "GREEN",
         "Stein J",
         "8"
        ],
        [
         "43",
         "NEW CASTLE11-01",
         "LIBERTARIN",
         "Johnson G",
         "13"
        ],
        [
         "44",
         "NEW CASTLE12-01",
         "DEMOCRATIC",
         "Clinton H",
         "281"
        ],
        [
         "45",
         "NEW CASTLE12-01",
         "REPUBLICAN",
         "Trump D",
         "98"
        ],
        [
         "46",
         "NEW CASTLE12-01",
         "GREEN",
         "Stein J",
         "5"
        ],
        [
         "47",
         "NEW CASTLE12-01",
         "LIBERTARIN",
         "Johnson G",
         "11"
        ],
        [
         "48",
         "NEW CASTLE13-01",
         "DEMOCRATIC",
         "Clinton H",
         "589"
        ],
        [
         "49",
         "NEW CASTLE13-01",
         "REPUBLICAN",
         "Trump D",
         "107"
        ]
       ],
       "shape": {
        "columns": 4,
        "rows": 1728
       }
      },
      "text/html": [
       "<div>\n",
       "<style scoped>\n",
       "    .dataframe tbody tr th:only-of-type {\n",
       "        vertical-align: middle;\n",
       "    }\n",
       "\n",
       "    .dataframe tbody tr th {\n",
       "        vertical-align: top;\n",
       "    }\n",
       "\n",
       "    .dataframe thead th {\n",
       "        text-align: right;\n",
       "    }\n",
       "</style>\n",
       "<table border=\"1\" class=\"dataframe\">\n",
       "  <thead>\n",
       "    <tr style=\"text-align: right;\">\n",
       "      <th></th>\n",
       "      <th>precinct</th>\n",
       "      <th>party</th>\n",
       "      <th>candidate</th>\n",
       "      <th>votes</th>\n",
       "    </tr>\n",
       "  </thead>\n",
       "  <tbody>\n",
       "    <tr>\n",
       "      <th>0</th>\n",
       "      <td>NEW CASTLE01-01</td>\n",
       "      <td>DEMOCRATIC</td>\n",
       "      <td>Clinton H</td>\n",
       "      <td>679</td>\n",
       "    </tr>\n",
       "    <tr>\n",
       "      <th>1</th>\n",
       "      <td>NEW CASTLE01-01</td>\n",
       "      <td>REPUBLICAN</td>\n",
       "      <td>Trump D</td>\n",
       "      <td>68</td>\n",
       "    </tr>\n",
       "    <tr>\n",
       "      <th>2</th>\n",
       "      <td>NEW CASTLE01-01</td>\n",
       "      <td>GREEN</td>\n",
       "      <td>Stein J</td>\n",
       "      <td>8</td>\n",
       "    </tr>\n",
       "    <tr>\n",
       "      <th>3</th>\n",
       "      <td>NEW CASTLE01-01</td>\n",
       "      <td>LIBERTARIN</td>\n",
       "      <td>Johnson G</td>\n",
       "      <td>12</td>\n",
       "    </tr>\n",
       "    <tr>\n",
       "      <th>4</th>\n",
       "      <td>NEW CASTLE02-01</td>\n",
       "      <td>DEMOCRATIC</td>\n",
       "      <td>Clinton H</td>\n",
       "      <td>1177</td>\n",
       "    </tr>\n",
       "    <tr>\n",
       "      <th>...</th>\n",
       "      <td>...</td>\n",
       "      <td>...</td>\n",
       "      <td>...</td>\n",
       "      <td>...</td>\n",
       "    </tr>\n",
       "    <tr>\n",
       "      <th>1723</th>\n",
       "      <td>SUSSEX08-41</td>\n",
       "      <td>LIBERTARIN</td>\n",
       "      <td>Johnson G</td>\n",
       "      <td>18</td>\n",
       "    </tr>\n",
       "    <tr>\n",
       "      <th>1724</th>\n",
       "      <td>SUSSEX16-41</td>\n",
       "      <td>DEMOCRATIC</td>\n",
       "      <td>Clinton H</td>\n",
       "      <td>46</td>\n",
       "    </tr>\n",
       "    <tr>\n",
       "      <th>1725</th>\n",
       "      <td>SUSSEX16-41</td>\n",
       "      <td>REPUBLICAN</td>\n",
       "      <td>Trump D</td>\n",
       "      <td>11</td>\n",
       "    </tr>\n",
       "    <tr>\n",
       "      <th>1726</th>\n",
       "      <td>SUSSEX16-41</td>\n",
       "      <td>GREEN</td>\n",
       "      <td>Stein J</td>\n",
       "      <td>3</td>\n",
       "    </tr>\n",
       "    <tr>\n",
       "      <th>1727</th>\n",
       "      <td>SUSSEX16-41</td>\n",
       "      <td>LIBERTARIN</td>\n",
       "      <td>Johnson G</td>\n",
       "      <td>0</td>\n",
       "    </tr>\n",
       "  </tbody>\n",
       "</table>\n",
       "<p>1728 rows × 4 columns</p>\n",
       "</div>"
      ],
      "text/plain": [
       "             precinct       party  candidate  votes\n",
       "0     NEW CASTLE01-01  DEMOCRATIC  Clinton H    679\n",
       "1     NEW CASTLE01-01  REPUBLICAN    Trump D     68\n",
       "2     NEW CASTLE01-01       GREEN    Stein J      8\n",
       "3     NEW CASTLE01-01  LIBERTARIN  Johnson G     12\n",
       "4     NEW CASTLE02-01  DEMOCRATIC  Clinton H   1177\n",
       "...               ...         ...        ...    ...\n",
       "1723      SUSSEX08-41  LIBERTARIN  Johnson G     18\n",
       "1724      SUSSEX16-41  DEMOCRATIC  Clinton H     46\n",
       "1725      SUSSEX16-41  REPUBLICAN    Trump D     11\n",
       "1726      SUSSEX16-41       GREEN    Stein J      3\n",
       "1727      SUSSEX16-41  LIBERTARIN  Johnson G      0\n",
       "\n",
       "[1728 rows x 4 columns]"
      ]
     },
     "execution_count": 44,
     "metadata": {},
     "output_type": "execute_result"
    }
   ],
   "source": [
    "# Select only the relevant columns\n",
    "general_data = gen_combined_df[[\"precinct\", \"party\", \"candidate\", \"votes\"]]\n",
    "\n",
    "general_data"
   ]
  },
  {
   "cell_type": "code",
   "execution_count": 45,
   "id": "38fba0f1",
   "metadata": {},
   "outputs": [
    {
     "data": {
      "application/vnd.microsoft.datawrangler.viewer.v0+json": {
       "columns": [
        {
         "name": "candidate",
         "rawType": "object",
         "type": "string"
        },
        {
         "name": "count",
         "rawType": "int64",
         "type": "integer"
        }
       ],
       "ref": "7af0ec9d-6d37-4df1-ba32-823367977074",
       "rows": [
        [
         "Clinton H",
         "432"
        ],
        [
         "Trump D",
         "432"
        ],
        [
         "Stein J",
         "432"
        ],
        [
         "Johnson G",
         "432"
        ]
       ],
       "shape": {
        "columns": 1,
        "rows": 4
       }
      },
      "text/plain": [
       "candidate\n",
       "Clinton H    432\n",
       "Trump D      432\n",
       "Stein J      432\n",
       "Johnson G    432\n",
       "Name: count, dtype: int64"
      ]
     },
     "execution_count": 45,
     "metadata": {},
     "output_type": "execute_result"
    }
   ],
   "source": [
    "# Viewing candidate data\n",
    "general_data[\"candidate\"].value_counts(dropna=False)"
   ]
  },
  {
   "cell_type": "code",
   "execution_count": 46,
   "id": "90417a20",
   "metadata": {},
   "outputs": [
    {
     "data": {
      "application/vnd.microsoft.datawrangler.viewer.v0+json": {
       "columns": [
        {
         "name": "candidate",
         "rawType": "object",
         "type": "string"
        },
        {
         "name": "count",
         "rawType": "int64",
         "type": "integer"
        }
       ],
       "ref": "4ce5e37a-c8cf-4e00-ac91-51f54c267fe4",
       "rows": [
        [
         "CLINTON",
         "432"
        ],
        [
         "TRUMP",
         "432"
        ],
        [
         "STEIN",
         "432"
        ],
        [
         "JOHNSON",
         "432"
        ]
       ],
       "shape": {
        "columns": 1,
        "rows": 4
       }
      },
      "text/plain": [
       "candidate\n",
       "CLINTON    432\n",
       "TRUMP      432\n",
       "STEIN      432\n",
       "JOHNSON    432\n",
       "Name: count, dtype: int64"
      ]
     },
     "execution_count": 46,
     "metadata": {},
     "output_type": "execute_result"
    }
   ],
   "source": [
    "# Cleaning Candidates\n",
    "\n",
    "# Turning all primary data to uppercase\n",
    "# general_data[\"candidate\"] = general_data[\"candidate\"].astype(str).str.upper()\n",
    "\n",
    "\n",
    "# unwanted_keywords = [\n",
    "#     r\"\\w*VOTE\\w*\",\n",
    "#     r\"\\w*UNCOM\\w*\",\n",
    "#     r\"\\w*TOTAL\\w*\",\n",
    "#     r\"\\w*WRITE[\\s-]\\w*\",\n",
    "#     r\"NAN\",\n",
    "#     r\"UNCERTIFIED\",\n",
    "#     r\"UNVERIFIED\",\n",
    "#     r\"NONE OF THE ABOVE\",\n",
    "#     r\"LBT\",\n",
    "#     r\"DEM\",\n",
    "#     r\"REP\",\n",
    "#     r\"GRN\",\n",
    "#     r\"NAN\"\n",
    "\n",
    "# ]\n",
    "\n",
    "# pattern = \"|\".join(unwanted_keywords)\n",
    "\n",
    "# # FILTER OUT TRASH WORDS\n",
    "# general_data = general_data[~general_data[\"candidate\"].str.upper().str.contains(pattern, regex=True, na=False)]\n",
    "\n",
    "# # Fixing Darrell Castle\"\n",
    "# general_data.loc[\n",
    "#     general_data[\"candidate\"].str.contains(\"\\w*ASTLE\\w*\", case=False, na=False),\n",
    "#     \"candidate\"\n",
    "# ] = \"CASTLE\"\n",
    "\n",
    "# general_data.loc[\n",
    "#     general_data[\"candidate\"].str.contains(\"\\w*ATUREN\\w*\", case=False, na=False),\n",
    "#     \"candidate\"\n",
    "# ] = \"MATUREN\"\n",
    "\n",
    "# # Fixing mixed president + vice_president by /\n",
    "# general_data[\"candidate\"] = (\n",
    "#     general_data[\"candidate\"].str.split(\"/\")\n",
    "#     .str[0]\n",
    "#     .str.strip()\n",
    "#     )\n",
    "\n",
    "# #Selecting only last name\n",
    "# general_data[\"candidate\"] = general_data[\"candidate\"].str.split().str[-1]\n",
    "\n",
    "# # Fixing the , candidate\n",
    "# # general_data[\"candidate\"] = (\n",
    "# #     general_data[\"candidate\"].str.split(\",\")\n",
    "# #     .str[0]\n",
    "# #     .str.strip()\n",
    "# #     )\n",
    "\n",
    "\n",
    "\n",
    "\n",
    "# # Fixing Cubbler\n",
    "# general_data.loc[\n",
    "#     ( \n",
    "#         general_data[\"candidate\"].str.contains(\"\\w*UBBIER\\w*\", case=False, na=False)|\n",
    "#         general_data[\"candidate\"].str.contains(\"\\w*UBLER\\w*\", case=False, na=False)|\n",
    "#         general_data[\"candidate\"].str.contains(\"\\w*OBBLER\\w*\", case=False, na=False),\n",
    "#     \"candidate\")\n",
    "# ] = \"CUBBLER\"\n",
    "\n",
    "\n",
    "# # Fixing Kotlikoff\n",
    "# general_data.loc[\n",
    "#     general_data[\"candidate\"].str.contains(\"\\w*TIKOFF\\w*\", case=False, na=False),\n",
    "#     \"candidate\"\n",
    "# ] = \"KOTLIKOFF\"\n",
    "\n",
    "# # Fixing Valdivia\n",
    "# general_data.loc[\n",
    "#     general_data[\"candidate\"].str.contains(\"\\w*VALDIVA\\W*\", case=False, na=False),\n",
    "#     \"candidate\"\n",
    "# ] = \"VALDIVIA\"\n",
    "\n",
    "# # Fixing HOEFLING\n",
    "# general_data.loc[\n",
    "#     general_data[\"candidate\"].str.contains(\"\\w*HOEFFLING\", case=False, na=False),\n",
    "#     \"candidate\"\n",
    "# ] = \"HOEFLING\"\n",
    "\n",
    "\n",
    "# # Fixing McMullin\n",
    "# general_data.loc[\n",
    "#     general_data[\"candidate\"].str.contains(\"MCMULLEN\", case=False, na=False) ,\n",
    "#     \"candidate\"\n",
    "# ] = \"MCMULLIN\"\n",
    "\n",
    "# Fixing LASTNAME + First name Initial\n",
    "general_data.loc[:,\"candidate\"] = (\n",
    "    general_data[\"candidate\"].str.split().str[0].str.upper()\n",
    ")\n",
    "general_data[\"candidate\"].value_counts(dropna=False)"
   ]
  },
  {
   "cell_type": "code",
   "execution_count": 47,
   "id": "a22405a6",
   "metadata": {},
   "outputs": [
    {
     "data": {
      "application/vnd.microsoft.datawrangler.viewer.v0+json": {
       "columns": [
        {
         "name": "party",
         "rawType": "object",
         "type": "string"
        },
        {
         "name": "count",
         "rawType": "int64",
         "type": "integer"
        }
       ],
       "ref": "15b3a0c3-02a9-4345-b964-fec4ab601490",
       "rows": [
        [
         "DEMOCRATIC",
         "432"
        ],
        [
         "REPUBLICAN",
         "432"
        ],
        [
         "GREEN",
         "432"
        ],
        [
         "LIBERTARIN",
         "432"
        ]
       ],
       "shape": {
        "columns": 1,
        "rows": 4
       }
      },
      "text/plain": [
       "party\n",
       "DEMOCRATIC    432\n",
       "REPUBLICAN    432\n",
       "GREEN         432\n",
       "LIBERTARIN    432\n",
       "Name: count, dtype: int64"
      ]
     },
     "execution_count": 47,
     "metadata": {},
     "output_type": "execute_result"
    }
   ],
   "source": [
    "# Viewing Party\n",
    "general_data[\"party\"].value_counts(dropna=False)"
   ]
  },
  {
   "cell_type": "code",
   "execution_count": 48,
   "id": "21d7595b",
   "metadata": {},
   "outputs": [
    {
     "data": {
      "application/vnd.microsoft.datawrangler.viewer.v0+json": {
       "columns": [
        {
         "name": "party",
         "rawType": "object",
         "type": "string"
        },
        {
         "name": "count",
         "rawType": "int64",
         "type": "integer"
        }
       ],
       "ref": "b6e015b5-489b-4cfa-8097-2aa7b3850a02",
       "rows": [
        [
         "DEMOCRATIC",
         "432"
        ],
        [
         "REPUBLICAN",
         "432"
        ],
        [
         "GREEN",
         "432"
        ],
        [
         "LIBERTARIN",
         "432"
        ]
       ],
       "shape": {
        "columns": 1,
        "rows": 4
       }
      },
      "text/plain": [
       "party\n",
       "DEMOCRATIC    432\n",
       "REPUBLICAN    432\n",
       "GREEN         432\n",
       "LIBERTARIN    432\n",
       "Name: count, dtype: int64"
      ]
     },
     "execution_count": 48,
     "metadata": {},
     "output_type": "execute_result"
    }
   ],
   "source": [
    "#=====================================\n",
    "# This function is used to look up party\n",
    "# for the candidate in the same df\n",
    "#=====================================\n",
    "def fill_party_from_data(row, df):\n",
    "    if pd.notna(row[\"party\"]):\n",
    "        return row[\"party\"]\n",
    "    \n",
    "    # Try to find other rows with the same candidate and known party\n",
    "    matches = df[(df[\"candidate\"] == row[\"candidate\"]) & (df[\"party\"].notna())]\n",
    "    if not matches.empty:\n",
    "        return matches[\"party\"].iloc[0]  # Return the first match's party\n",
    "    else:\n",
    "        return None  # Still unknown\n",
    "    \n",
    "\n",
    "#=====================================\n",
    "# Function to fill remaining missing party from master lookup\n",
    "#=====================================\n",
    "def fill_party_from_master(df, master_df):\n",
    "    party_map = master_df.set_index(\"candidate\")[\"party\"].to_dict()\n",
    "    df[\"party\"] = df.apply(\n",
    "        lambda row: party_map.get(row[\"candidate\"], row[\"party\"])\n",
    "        if pd.isna(row[\"party\"]) else row[\"party\"],\n",
    "        axis=1\n",
    "    )\n",
    "    return df\n",
    "\n",
    "\n",
    "#=====================================\n",
    "# Function to update the master candidate-party CSV\n",
    "#=====================================\n",
    "def update_master_candidate_party(df, master_path):\n",
    "    # Read the existing master file\n",
    "    master_df = pd.read_csv(master_path)\n",
    "\n",
    "    # Filter and combine only known party entries (exclude 'UNK')\n",
    "    new_data = (\n",
    "        df[[\"candidate\", \"party\"]]\n",
    "        .dropna()\n",
    "        .query('party != \"UNK\"')\n",
    "        .drop_duplicates()\n",
    "    )\n",
    "\n",
    "    # Merge with master and remove duplicates by candidate\n",
    "    updated_master = pd.concat([master_df, new_data]).drop_duplicates(subset=\"candidate\")\n",
    "\n",
    "    # Save updated version\n",
    "    updated_master.to_csv(master_path, index=False)\n",
    "\n",
    "\n",
    "#=====================================\n",
    "# Example usage (uncomment and modify for your workflow)\n",
    "#=====================================\n",
    "# Fill party using internal data\n",
    "# general_data[\"party\"] = general_data.apply(\n",
    "#     lambda row: fill_party_from_data(row, general_data),\n",
    "#     axis=1\n",
    "# )\n",
    "\n",
    "# Fill remaining party using general master CSV\n",
    "# master_party_df = pd.read_csv(r\"C:\\Huy Phan\\College\\VoterTurnout\\data\\cleaned_data\\master_candidate_party.csv\") # USE YOUR OWN ADDRESS\n",
    "#  general_data = fill_party_from_master(general_data, master_party_df)\n",
    "general_data[\"party\"].value_counts(dropna=False)\n"
   ]
  },
  {
   "cell_type": "code",
   "execution_count": 49,
   "id": "8bb5d275",
   "metadata": {},
   "outputs": [
    {
     "name": "stderr",
     "output_type": "stream",
     "text": [
      "C:\\Users\\ADMIN\\AppData\\Local\\Temp\\ipykernel_12572\\4042569860.py:3: SettingWithCopyWarning: \n",
      "A value is trying to be set on a copy of a slice from a DataFrame.\n",
      "Try using .loc[row_indexer,col_indexer] = value instead\n",
      "\n",
      "See the caveats in the documentation: https://pandas.pydata.org/pandas-docs/stable/user_guide/indexing.html#returning-a-view-versus-a-copy\n",
      "  general_data[\"party\"] = general_data[\"party\"].astype(str).str.upper()\n",
      "C:\\Users\\ADMIN\\AppData\\Local\\Temp\\ipykernel_12572\\4042569860.py:5: SettingWithCopyWarning: \n",
      "A value is trying to be set on a copy of a slice from a DataFrame.\n",
      "Try using .loc[row_indexer,col_indexer] = value instead\n",
      "\n",
      "See the caveats in the documentation: https://pandas.pydata.org/pandas-docs/stable/user_guide/indexing.html#returning-a-view-versus-a-copy\n",
      "  general_data[\"party\"] = (\n"
     ]
    },
    {
     "data": {
      "application/vnd.microsoft.datawrangler.viewer.v0+json": {
       "columns": [
        {
         "name": "party",
         "rawType": "object",
         "type": "string"
        },
        {
         "name": "count",
         "rawType": "int64",
         "type": "integer"
        }
       ],
       "ref": "e774164d-4ee6-42d3-937a-cabc790b5b6f",
       "rows": [
        [
         "DEM",
         "432"
        ],
        [
         "REP",
         "432"
        ],
        [
         "GRN",
         "432"
        ],
        [
         "LIB",
         "432"
        ]
       ],
       "shape": {
        "columns": 1,
        "rows": 4
       }
      },
      "text/plain": [
       "party\n",
       "DEM    432\n",
       "REP    432\n",
       "GRN    432\n",
       "LIB    432\n",
       "Name: count, dtype: int64"
      ]
     },
     "execution_count": 49,
     "metadata": {},
     "output_type": "execute_result"
    }
   ],
   "source": [
    "# Cleaning Party\n",
    "# Turning all general data party to uppercase\n",
    "general_data[\"party\"] = general_data[\"party\"].astype(str).str.upper()\n",
    "\n",
    "general_data[\"party\"] = (\n",
    "    general_data[\"party\"]\n",
    "    .replace({\n",
    "        \"REPUBLICAN\": \"REP\",\n",
    "        \"R\": \"REP\",\n",
    "        \"DEMOCRATIC\": \"DEM\",\n",
    "        \"DEM\": \"DEM\",\n",
    "        \"D\": \"DEM\",\n",
    "        \"GREEN\": \"GRN\",\n",
    "        \"G\": \"GRN\",\n",
    "        \"LIBERTARIAN\": \"LIB\",\n",
    "        \"LIBERTARIN\":\"LIB\",\n",
    "        \"LBT\": \"LIB\",\n",
    "        \"L\": \"LIB\",\n",
    "        \"CONSTITUTION\": \"CON\",\n",
    "        \"NP\": \"IND\",\n",
    "        \"NON\": \"IND\",\n",
    "        \"WRI\": \"IND\",\n",
    "        \"WRITE-IN\": \"IND\",\n",
    "        \"ONA\": \"IND\",\n",
    "        \"GEN\": \"IND\",\n",
    "        \"NONE\":\"UNK\"\n",
    "    })\n",
    ")\n",
    "\n",
    "general_data[\"party\"].value_counts(dropna=False)"
   ]
  },
  {
   "cell_type": "code",
   "execution_count": 50,
   "id": "ff4a4970",
   "metadata": {},
   "outputs": [],
   "source": [
    "# UPDATE MASTER FILE, CAREFUL\n",
    "update_master_candidate_party(general_data, r\"C:\\Huy Phan\\College\\VoterTurnout\\data\\cleaned_data\\gen_can_party.csv\")"
   ]
  },
  {
   "cell_type": "code",
   "execution_count": 51,
   "id": "daaed088",
   "metadata": {},
   "outputs": [
    {
     "name": "stderr",
     "output_type": "stream",
     "text": [
      "C:\\Users\\ADMIN\\AppData\\Local\\Temp\\ipykernel_12572\\1829951435.py:1: SettingWithCopyWarning: \n",
      "A value is trying to be set on a copy of a slice from a DataFrame.\n",
      "Try using .loc[row_indexer,col_indexer] = value instead\n",
      "\n",
      "See the caveats in the documentation: https://pandas.pydata.org/pandas-docs/stable/user_guide/indexing.html#returning-a-view-versus-a-copy\n",
      "  general_data[\"candidate_column\"] = (\n"
     ]
    },
    {
     "data": {
      "application/vnd.microsoft.datawrangler.viewer.v0+json": {
       "columns": [
        {
         "name": "index",
         "rawType": "int64",
         "type": "integer"
        },
        {
         "name": "precinct",
         "rawType": "object",
         "type": "string"
        },
        {
         "name": "gen_dem_CLINTON",
         "rawType": "int64",
         "type": "integer"
        },
        {
         "name": "gen_grn_STEIN",
         "rawType": "int64",
         "type": "integer"
        },
        {
         "name": "gen_lib_JOHNSON",
         "rawType": "int64",
         "type": "integer"
        },
        {
         "name": "gen_rep_TRUMP",
         "rawType": "int64",
         "type": "integer"
        }
       ],
       "ref": "2f644461-7e37-4994-8fdb-40442f2cbc68",
       "rows": [
        [
         "0",
         "KENT01-28",
         "513",
         "18",
         "55",
         "435"
        ],
        [
         "1",
         "KENT01-29",
         "1190",
         "22",
         "74",
         "857"
        ],
        [
         "2",
         "KENT01-30",
         "149",
         "10",
         "39",
         "487"
        ],
        [
         "3",
         "KENT01-31",
         "183",
         "6",
         "19",
         "69"
        ],
        [
         "4",
         "KENT01-32",
         "616",
         "9",
         "33",
         "248"
        ],
        [
         "5",
         "KENT01-33",
         "184",
         "5",
         "15",
         "182"
        ],
        [
         "6",
         "KENT01-34",
         "556",
         "19",
         "66",
         "651"
        ],
        [
         "7",
         "KENT02-28",
         "453",
         "16",
         "34",
         "308"
        ],
        [
         "8",
         "KENT02-29",
         "80",
         "2",
         "6",
         "116"
        ],
        [
         "9",
         "KENT02-30",
         "108",
         "3",
         "10",
         "154"
        ],
        [
         "10",
         "KENT02-31",
         "558",
         "16",
         "44",
         "531"
        ],
        [
         "11",
         "KENT02-32",
         "354",
         "14",
         "22",
         "216"
        ],
        [
         "12",
         "KENT02-33",
         "410",
         "12",
         "46",
         "474"
        ],
        [
         "13",
         "KENT02-34",
         "258",
         "9",
         "21",
         "372"
        ],
        [
         "14",
         "KENT03-28",
         "505",
         "16",
         "37",
         "659"
        ],
        [
         "15",
         "KENT03-29",
         "846",
         "19",
         "38",
         "684"
        ],
        [
         "16",
         "KENT03-30",
         "333",
         "14",
         "31",
         "645"
        ],
        [
         "17",
         "KENT03-31",
         "689",
         "18",
         "38",
         "303"
        ],
        [
         "18",
         "KENT03-32",
         "464",
         "13",
         "31",
         "334"
        ],
        [
         "19",
         "KENT03-33",
         "517",
         "16",
         "71",
         "849"
        ],
        [
         "20",
         "KENT03-34",
         "725",
         "23",
         "64",
         "720"
        ],
        [
         "21",
         "KENT04-28",
         "773",
         "24",
         "39",
         "518"
        ],
        [
         "22",
         "KENT04-29",
         "421",
         "13",
         "22",
         "461"
        ],
        [
         "23",
         "KENT04-30",
         "481",
         "18",
         "48",
         "681"
        ],
        [
         "24",
         "KENT04-31",
         "522",
         "15",
         "43",
         "294"
        ],
        [
         "25",
         "KENT04-32",
         "31",
         "0",
         "2",
         "3"
        ],
        [
         "26",
         "KENT04-33",
         "465",
         "13",
         "78",
         "870"
        ],
        [
         "27",
         "KENT04-34",
         "173",
         "11",
         "24",
         "312"
        ],
        [
         "28",
         "KENT05-11",
         "399",
         "19",
         "61",
         "800"
        ],
        [
         "29",
         "KENT05-28",
         "413",
         "12",
         "26",
         "330"
        ],
        [
         "30",
         "KENT05-29",
         "332",
         "6",
         "16",
         "310"
        ],
        [
         "31",
         "KENT05-30",
         "194",
         "15",
         "35",
         "849"
        ],
        [
         "32",
         "KENT05-31",
         "704",
         "19",
         "48",
         "410"
        ],
        [
         "33",
         "KENT05-32",
         "483",
         "15",
         "42",
         "429"
        ],
        [
         "34",
         "KENT05-33",
         "480",
         "16",
         "42",
         "631"
        ],
        [
         "35",
         "KENT05-34",
         "572",
         "18",
         "53",
         "733"
        ],
        [
         "36",
         "KENT06-11",
         "309",
         "20",
         "46",
         "883"
        ],
        [
         "37",
         "KENT06-28",
         "556",
         "20",
         "30",
         "251"
        ],
        [
         "38",
         "KENT06-29",
         "817",
         "23",
         "52",
         "477"
        ],
        [
         "39",
         "KENT06-30",
         "100",
         "5",
         "7",
         "289"
        ],
        [
         "40",
         "KENT06-31",
         "813",
         "12",
         "39",
         "238"
        ],
        [
         "41",
         "KENT06-32",
         "60",
         "0",
         "9",
         "120"
        ],
        [
         "42",
         "KENT06-33",
         "45",
         "5",
         "8",
         "141"
        ],
        [
         "43",
         "KENT06-34",
         "230",
         "11",
         "21",
         "249"
        ],
        [
         "44",
         "KENT07-11",
         "448",
         "21",
         "47",
         "715"
        ],
        [
         "45",
         "KENT07-28",
         "488",
         "13",
         "29",
         "580"
        ],
        [
         "46",
         "KENT07-29",
         "363",
         "8",
         "35",
         "397"
        ],
        [
         "47",
         "KENT07-30",
         "59",
         "1",
         "10",
         "342"
        ],
        [
         "48",
         "KENT07-31",
         "616",
         "25",
         "30",
         "227"
        ],
        [
         "49",
         "KENT07-32",
         "662",
         "26",
         "45",
         "360"
        ]
       ],
       "shape": {
        "columns": 5,
        "rows": 432
       }
      },
      "text/html": [
       "<div>\n",
       "<style scoped>\n",
       "    .dataframe tbody tr th:only-of-type {\n",
       "        vertical-align: middle;\n",
       "    }\n",
       "\n",
       "    .dataframe tbody tr th {\n",
       "        vertical-align: top;\n",
       "    }\n",
       "\n",
       "    .dataframe thead th {\n",
       "        text-align: right;\n",
       "    }\n",
       "</style>\n",
       "<table border=\"1\" class=\"dataframe\">\n",
       "  <thead>\n",
       "    <tr style=\"text-align: right;\">\n",
       "      <th>candidate_column</th>\n",
       "      <th>precinct</th>\n",
       "      <th>gen_dem_CLINTON</th>\n",
       "      <th>gen_grn_STEIN</th>\n",
       "      <th>gen_lib_JOHNSON</th>\n",
       "      <th>gen_rep_TRUMP</th>\n",
       "    </tr>\n",
       "  </thead>\n",
       "  <tbody>\n",
       "    <tr>\n",
       "      <th>0</th>\n",
       "      <td>KENT01-28</td>\n",
       "      <td>513</td>\n",
       "      <td>18</td>\n",
       "      <td>55</td>\n",
       "      <td>435</td>\n",
       "    </tr>\n",
       "    <tr>\n",
       "      <th>1</th>\n",
       "      <td>KENT01-29</td>\n",
       "      <td>1190</td>\n",
       "      <td>22</td>\n",
       "      <td>74</td>\n",
       "      <td>857</td>\n",
       "    </tr>\n",
       "    <tr>\n",
       "      <th>2</th>\n",
       "      <td>KENT01-30</td>\n",
       "      <td>149</td>\n",
       "      <td>10</td>\n",
       "      <td>39</td>\n",
       "      <td>487</td>\n",
       "    </tr>\n",
       "    <tr>\n",
       "      <th>3</th>\n",
       "      <td>KENT01-31</td>\n",
       "      <td>183</td>\n",
       "      <td>6</td>\n",
       "      <td>19</td>\n",
       "      <td>69</td>\n",
       "    </tr>\n",
       "    <tr>\n",
       "      <th>4</th>\n",
       "      <td>KENT01-32</td>\n",
       "      <td>616</td>\n",
       "      <td>9</td>\n",
       "      <td>33</td>\n",
       "      <td>248</td>\n",
       "    </tr>\n",
       "    <tr>\n",
       "      <th>...</th>\n",
       "      <td>...</td>\n",
       "      <td>...</td>\n",
       "      <td>...</td>\n",
       "      <td>...</td>\n",
       "      <td>...</td>\n",
       "    </tr>\n",
       "    <tr>\n",
       "      <th>427</th>\n",
       "      <td>SUSSEX09-36</td>\n",
       "      <td>30</td>\n",
       "      <td>0</td>\n",
       "      <td>1</td>\n",
       "      <td>66</td>\n",
       "    </tr>\n",
       "    <tr>\n",
       "      <th>428</th>\n",
       "      <td>SUSSEX10-20</td>\n",
       "      <td>78</td>\n",
       "      <td>5</td>\n",
       "      <td>6</td>\n",
       "      <td>187</td>\n",
       "    </tr>\n",
       "    <tr>\n",
       "      <th>429</th>\n",
       "      <td>SUSSEX10-36</td>\n",
       "      <td>38</td>\n",
       "      <td>0</td>\n",
       "      <td>4</td>\n",
       "      <td>85</td>\n",
       "    </tr>\n",
       "    <tr>\n",
       "      <th>430</th>\n",
       "      <td>SUSSEX11-36</td>\n",
       "      <td>110</td>\n",
       "      <td>6</td>\n",
       "      <td>12</td>\n",
       "      <td>153</td>\n",
       "    </tr>\n",
       "    <tr>\n",
       "      <th>431</th>\n",
       "      <td>SUSSEX16-41</td>\n",
       "      <td>46</td>\n",
       "      <td>3</td>\n",
       "      <td>0</td>\n",
       "      <td>11</td>\n",
       "    </tr>\n",
       "  </tbody>\n",
       "</table>\n",
       "<p>432 rows × 5 columns</p>\n",
       "</div>"
      ],
      "text/plain": [
       "candidate_column     precinct  gen_dem_CLINTON  gen_grn_STEIN  \\\n",
       "0                   KENT01-28              513             18   \n",
       "1                   KENT01-29             1190             22   \n",
       "2                   KENT01-30              149             10   \n",
       "3                   KENT01-31              183              6   \n",
       "4                   KENT01-32              616              9   \n",
       "..                        ...              ...            ...   \n",
       "427               SUSSEX09-36               30              0   \n",
       "428               SUSSEX10-20               78              5   \n",
       "429               SUSSEX10-36               38              0   \n",
       "430               SUSSEX11-36              110              6   \n",
       "431               SUSSEX16-41               46              3   \n",
       "\n",
       "candidate_column  gen_lib_JOHNSON  gen_rep_TRUMP  \n",
       "0                              55            435  \n",
       "1                              74            857  \n",
       "2                              39            487  \n",
       "3                              19             69  \n",
       "4                              33            248  \n",
       "..                            ...            ...  \n",
       "427                             1             66  \n",
       "428                             6            187  \n",
       "429                             4             85  \n",
       "430                            12            153  \n",
       "431                             0             11  \n",
       "\n",
       "[432 rows x 5 columns]"
      ]
     },
     "execution_count": 51,
     "metadata": {},
     "output_type": "execute_result"
    }
   ],
   "source": [
    "general_data[\"candidate_column\"] = (\n",
    "    \"gen_\" +\n",
    "    general_data[\"party\"].str.lower() + \"_\" +\n",
    "    general_data[\"candidate\"].str.split().str[-1].str.upper()\n",
    ")\n",
    "\n",
    "# pivot the table\n",
    "general_result = general_data.pivot_table(\n",
    "    index=\"precinct\",\n",
    "    columns=\"candidate_column\",\n",
    "    values=\"votes\",\n",
    "    aggfunc=\"sum\",  \n",
    "    fill_value=0\n",
    ").reset_index()\n",
    "\n",
    "general_result"
   ]
  },
  {
   "cell_type": "code",
   "execution_count": 52,
   "id": "6686d34b",
   "metadata": {},
   "outputs": [],
   "source": [
    "# Merge\n",
    "combined = pd.merge(primary_result, general_result, on=\"precinct\", how=\"inner\")\n",
    "\n",
    "# Convert DEM primary columns to numeric and calculate total\n",
    "dem_cols = combined.filter(like=\"pri_dem_\").columns\n",
    "combined[dem_cols] = combined[dem_cols].apply(pd.to_numeric, errors=\"coerce\")\n",
    "combined[\"dem_primary_total\"] = combined[dem_cols].sum(axis=1)\n",
    "\n",
    "# Convert general election columns to numeric and calculate total\n",
    "gen_cols = combined.filter(like=\"gen_\").columns\n",
    "combined[gen_cols] = combined[gen_cols].apply(pd.to_numeric, errors=\"coerce\")\n",
    "combined[\"general_total\"] = combined[gen_cols].sum(axis=1)\n",
    "\n",
    "# Convert all numeric columns to int\n",
    "for col in combined.columns[1:]:\n",
    "    combined[col] = pd.to_numeric(combined[col], errors='coerce').fillna(0).astype(int)\n",
    "\n",
    "\n",
    "# Identify filtered-out precincts\n",
    "primary_precincts = set(primary_result[\"precinct\"])\n",
    "general_precincts = set(general_result[\"precinct\"])\n",
    "combined_precincts = set(combined[\"precinct\"])\n",
    "\n",
    "primary_filtered_out = primary_precincts - combined_precincts\n",
    "general_filtered_out = general_precincts - combined_precincts\n",
    "\n",
    "\n"
   ]
  },
  {
   "cell_type": "code",
   "execution_count": 53,
   "id": "a6797e92",
   "metadata": {},
   "outputs": [],
   "source": [
    "\n",
    "\n",
    "combined.to_csv(\"DE.csv\", index=False)\n",
    "# Step 3: Identify unmatched precincts and retrieve full rows\n",
    "combined_precincts = set(combined[\"precinct\"])\n",
    "\n",
    "# Rows in primary_result but not in combined\n",
    "primary_filtered_out = primary_result[~primary_result[\"precinct\"].isin(combined_precincts)]\n",
    "primary_filtered_out.to_csv(\"DE_primary_filtered.csv\", index=False)\n",
    "\n",
    "# Rows in general_result but not in combined\n",
    "general_filtered_out = general_result[~general_result[\"precinct\"].isin(combined_precincts)]\n",
    "general_filtered_out.to_csv(\"DE_general_filtered.csv\", index=False)"
   ]
  },
  {
   "cell_type": "code",
   "execution_count": 54,
   "id": "b3d042ff",
   "metadata": {},
   "outputs": [
    {
     "name": "stdout",
     "output_type": "stream",
     "text": [
      "primary: 313, general: 432, combined: 313\n"
     ]
    }
   ],
   "source": [
    "print(f\"primary: {len(primary_precincts)}, general: {len(general_precincts)}, combined: {len(combined)}\")"
   ]
  },
  {
   "cell_type": "code",
   "execution_count": 55,
   "id": "9900725d",
   "metadata": {},
   "outputs": [
    {
     "name": "stdout",
     "output_type": "stream",
     "text": [
      "primary: 3, general: 3\n"
     ]
    }
   ],
   "source": [
    "print(f\"primary: {len(pri_combined_df['county'].unique())}, general: {len(gen_combined_df['county'].unique())}\")\n"
   ]
  }
 ],
 "metadata": {
  "kernelspec": {
   "display_name": "Python 3",
   "language": "python",
   "name": "python3"
  },
  "language_info": {
   "codemirror_mode": {
    "name": "ipython",
    "version": 3
   },
   "file_extension": ".py",
   "mimetype": "text/x-python",
   "name": "python",
   "nbconvert_exporter": "python",
   "pygments_lexer": "ipython3",
   "version": "3.11.2"
  }
 },
 "nbformat": 4,
 "nbformat_minor": 5
}
