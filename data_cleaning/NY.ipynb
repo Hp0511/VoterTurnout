{
 "cells": [
  {
   "cell_type": "code",
   "execution_count": 81,
   "id": "ad1be0fa",
   "metadata": {},
   "outputs": [],
   "source": [
    "# Import all the libraries\n",
    "import pandas as pd\n",
    "import glob\n",
    "import os\n",
    "import re\n",
    "from pprint import pprint"
   ]
  },
  {
   "cell_type": "code",
   "execution_count": 87,
   "id": "c263c4df",
   "metadata": {},
   "outputs": [],
   "source": [
    "#Get all CSV files in the folder of GA\n",
    "all_files = glob.glob(r\"C:\\Huy Phan\\College\\VoterTurnout\\data\\NY\\unfiltered\\*.csv\")\n",
    "\n",
    "# Files that contain both 'precinct' and 'general' in the filename\n",
    "general_files = [\n",
    "    f for f in all_files\n",
    "    if all(word in f.lower() for word in ['general','precinct'])\n",
    "]\n",
    "\n",
    "# Files that contain both 'precinct' and 'primary' in the filename\n",
    "primary_files = [\n",
    "    f for f in all_files\n",
    "    if all(word in f.lower() for word in ['primary','precinct'])\n",
    "]"
   ]
  },
  {
   "cell_type": "code",
   "execution_count": 88,
   "id": "60d49ea6",
   "metadata": {},
   "outputs": [
    {
     "name": "stdout",
     "output_type": "stream",
     "text": [
      "General files:\n",
      "C:\\Huy Phan\\College\\VoterTurnout\\data\\NY\\unfiltered\\20161108__ny__general__albany__precinct.csv\n",
      "C:\\Huy Phan\\College\\VoterTurnout\\data\\NY\\unfiltered\\20161108__ny__general__allegany__precinct.csv\n",
      "C:\\Huy Phan\\College\\VoterTurnout\\data\\NY\\unfiltered\\20161108__ny__general__bronx__precinct.csv\n",
      "C:\\Huy Phan\\College\\VoterTurnout\\data\\NY\\unfiltered\\20161108__ny__general__broome__precinct.csv\n",
      "C:\\Huy Phan\\College\\VoterTurnout\\data\\NY\\unfiltered\\20161108__ny__general__cattaraugus__precinct.csv\n",
      "C:\\Huy Phan\\College\\VoterTurnout\\data\\NY\\unfiltered\\20161108__ny__general__cayuga__precinct.csv\n",
      "C:\\Huy Phan\\College\\VoterTurnout\\data\\NY\\unfiltered\\20161108__ny__general__chautauqua__precinct.csv\n",
      "C:\\Huy Phan\\College\\VoterTurnout\\data\\NY\\unfiltered\\20161108__ny__general__chemung__precinct.csv\n",
      "C:\\Huy Phan\\College\\VoterTurnout\\data\\NY\\unfiltered\\20161108__ny__general__chenango__precinct.csv\n",
      "C:\\Huy Phan\\College\\VoterTurnout\\data\\NY\\unfiltered\\20161108__ny__general__clinton__precinct.csv\n",
      "C:\\Huy Phan\\College\\VoterTurnout\\data\\NY\\unfiltered\\20161108__ny__general__columbia__precinct.csv\n",
      "C:\\Huy Phan\\College\\VoterTurnout\\data\\NY\\unfiltered\\20161108__ny__general__cortland__precinct.csv\n",
      "C:\\Huy Phan\\College\\VoterTurnout\\data\\NY\\unfiltered\\20161108__ny__general__delaware__precinct.csv\n",
      "C:\\Huy Phan\\College\\VoterTurnout\\data\\NY\\unfiltered\\20161108__ny__general__dutchess__precinct.csv\n",
      "C:\\Huy Phan\\College\\VoterTurnout\\data\\NY\\unfiltered\\20161108__ny__general__erie__precinct.csv\n",
      "C:\\Huy Phan\\College\\VoterTurnout\\data\\NY\\unfiltered\\20161108__ny__general__essex__precinct.csv\n",
      "C:\\Huy Phan\\College\\VoterTurnout\\data\\NY\\unfiltered\\20161108__ny__general__franklin__precinct.csv\n",
      "C:\\Huy Phan\\College\\VoterTurnout\\data\\NY\\unfiltered\\20161108__ny__general__fulton__precinct.csv\n",
      "C:\\Huy Phan\\College\\VoterTurnout\\data\\NY\\unfiltered\\20161108__ny__general__genesee__precinct.csv\n",
      "C:\\Huy Phan\\College\\VoterTurnout\\data\\NY\\unfiltered\\20161108__ny__general__greene__precinct.csv\n",
      "C:\\Huy Phan\\College\\VoterTurnout\\data\\NY\\unfiltered\\20161108__ny__general__hamilton__precinct.csv\n",
      "C:\\Huy Phan\\College\\VoterTurnout\\data\\NY\\unfiltered\\20161108__ny__general__herkimer__precinct.csv\n",
      "C:\\Huy Phan\\College\\VoterTurnout\\data\\NY\\unfiltered\\20161108__ny__general__jefferson__precinct.csv\n",
      "C:\\Huy Phan\\College\\VoterTurnout\\data\\NY\\unfiltered\\20161108__ny__general__kings__precinct.csv\n",
      "C:\\Huy Phan\\College\\VoterTurnout\\data\\NY\\unfiltered\\20161108__ny__general__lewis__precinct.csv\n",
      "C:\\Huy Phan\\College\\VoterTurnout\\data\\NY\\unfiltered\\20161108__ny__general__livingston__precinct.csv\n",
      "C:\\Huy Phan\\College\\VoterTurnout\\data\\NY\\unfiltered\\20161108__ny__general__madison__precinct.csv\n",
      "C:\\Huy Phan\\College\\VoterTurnout\\data\\NY\\unfiltered\\20161108__ny__general__monroe__precinct.csv\n",
      "C:\\Huy Phan\\College\\VoterTurnout\\data\\NY\\unfiltered\\20161108__ny__general__montgomery__precinct.csv\n",
      "C:\\Huy Phan\\College\\VoterTurnout\\data\\NY\\unfiltered\\20161108__ny__general__nassau__precinct.csv\n",
      "C:\\Huy Phan\\College\\VoterTurnout\\data\\NY\\unfiltered\\20161108__ny__general__new york__precinct.csv\n",
      "C:\\Huy Phan\\College\\VoterTurnout\\data\\NY\\unfiltered\\20161108__ny__general__niagara__precinct.csv\n",
      "C:\\Huy Phan\\College\\VoterTurnout\\data\\NY\\unfiltered\\20161108__ny__general__oneida__precinct.csv\n",
      "C:\\Huy Phan\\College\\VoterTurnout\\data\\NY\\unfiltered\\20161108__ny__general__onondaga__precinct.csv\n",
      "C:\\Huy Phan\\College\\VoterTurnout\\data\\NY\\unfiltered\\20161108__ny__general__ontario__precinct.csv\n",
      "C:\\Huy Phan\\College\\VoterTurnout\\data\\NY\\unfiltered\\20161108__ny__general__orange__precinct.csv\n",
      "C:\\Huy Phan\\College\\VoterTurnout\\data\\NY\\unfiltered\\20161108__ny__general__orleans__precinct.csv\n",
      "C:\\Huy Phan\\College\\VoterTurnout\\data\\NY\\unfiltered\\20161108__ny__general__oswego__precinct.csv\n",
      "C:\\Huy Phan\\College\\VoterTurnout\\data\\NY\\unfiltered\\20161108__ny__general__otsego__precinct.csv\n",
      "C:\\Huy Phan\\College\\VoterTurnout\\data\\NY\\unfiltered\\20161108__ny__general__putnam__precinct.csv\n",
      "C:\\Huy Phan\\College\\VoterTurnout\\data\\NY\\unfiltered\\20161108__ny__general__queens__precinct.csv\n",
      "C:\\Huy Phan\\College\\VoterTurnout\\data\\NY\\unfiltered\\20161108__ny__general__rensselaer__precinct.csv\n",
      "C:\\Huy Phan\\College\\VoterTurnout\\data\\NY\\unfiltered\\20161108__ny__general__richmond__precinct.csv\n",
      "C:\\Huy Phan\\College\\VoterTurnout\\data\\NY\\unfiltered\\20161108__ny__general__rockland__precinct.csv\n",
      "C:\\Huy Phan\\College\\VoterTurnout\\data\\NY\\unfiltered\\20161108__ny__general__saratoga__precinct.csv\n",
      "C:\\Huy Phan\\College\\VoterTurnout\\data\\NY\\unfiltered\\20161108__ny__general__schenectady__precinct.csv\n",
      "C:\\Huy Phan\\College\\VoterTurnout\\data\\NY\\unfiltered\\20161108__ny__general__schoharie__precinct.csv\n",
      "C:\\Huy Phan\\College\\VoterTurnout\\data\\NY\\unfiltered\\20161108__ny__general__schuyler__precinct.csv\n",
      "C:\\Huy Phan\\College\\VoterTurnout\\data\\NY\\unfiltered\\20161108__ny__general__seneca__precinct.csv\n",
      "C:\\Huy Phan\\College\\VoterTurnout\\data\\NY\\unfiltered\\20161108__ny__general__steuben__precinct.csv\n",
      "C:\\Huy Phan\\College\\VoterTurnout\\data\\NY\\unfiltered\\20161108__ny__general__st_lawrence__precinct.csv\n",
      "C:\\Huy Phan\\College\\VoterTurnout\\data\\NY\\unfiltered\\20161108__ny__general__suffolk__precinct.csv\n",
      "C:\\Huy Phan\\College\\VoterTurnout\\data\\NY\\unfiltered\\20161108__ny__general__sullivan__precinct.csv\n",
      "C:\\Huy Phan\\College\\VoterTurnout\\data\\NY\\unfiltered\\20161108__ny__general__tioga__precinct.csv\n",
      "C:\\Huy Phan\\College\\VoterTurnout\\data\\NY\\unfiltered\\20161108__ny__general__tompkins__precinct.csv\n",
      "C:\\Huy Phan\\College\\VoterTurnout\\data\\NY\\unfiltered\\20161108__ny__general__ulster__precinct.csv\n",
      "C:\\Huy Phan\\College\\VoterTurnout\\data\\NY\\unfiltered\\20161108__ny__general__warren__precinct.csv\n",
      "C:\\Huy Phan\\College\\VoterTurnout\\data\\NY\\unfiltered\\20161108__ny__general__washington__precinct.csv\n",
      "C:\\Huy Phan\\College\\VoterTurnout\\data\\NY\\unfiltered\\20161108__ny__general__wayne__precinct.csv\n",
      "C:\\Huy Phan\\College\\VoterTurnout\\data\\NY\\unfiltered\\20161108__ny__general__westchester__precinct.csv\n",
      "C:\\Huy Phan\\College\\VoterTurnout\\data\\NY\\unfiltered\\20161108__ny__general__wyoming__precinct.csv\n",
      "C:\\Huy Phan\\College\\VoterTurnout\\data\\NY\\unfiltered\\20161108__ny__general__yates__precinct.csv\n"
     ]
    }
   ],
   "source": [
    "print(\"General files:\")\n",
    "for f in general_files:\n",
    "    print(f)\n"
   ]
  },
  {
   "cell_type": "code",
   "execution_count": 79,
   "id": "4ab13110",
   "metadata": {},
   "outputs": [
    {
     "name": "stdout",
     "output_type": "stream",
     "text": [
      "\n",
      "Primary files:\n"
     ]
    }
   ],
   "source": [
    "print(\"\\nPrimary files:\")\n",
    "for f in primary_files:\n",
    "    print(f)"
   ]
  },
  {
   "cell_type": "code",
   "execution_count": 52,
   "id": "ff5df6c7",
   "metadata": {},
   "outputs": [
    {
     "data": {
      "application/vnd.microsoft.datawrangler.viewer.v0+json": {
       "columns": [
        {
         "name": "index",
         "rawType": "int64",
         "type": "integer"
        },
        {
         "name": "county",
         "rawType": "object",
         "type": "string"
        },
        {
         "name": "precinct",
         "rawType": "object",
         "type": "string"
        },
        {
         "name": "office",
         "rawType": "object",
         "type": "string"
        },
        {
         "name": "district",
         "rawType": "float64",
         "type": "float"
        },
        {
         "name": "party",
         "rawType": "object",
         "type": "string"
        },
        {
         "name": "candidate",
         "rawType": "object",
         "type": "string"
        },
        {
         "name": "votes",
         "rawType": "int64",
         "type": "integer"
        },
        {
         "name": "assembly_district",
         "rawType": "float64",
         "type": "float"
        }
       ],
       "ref": "7c7627a4-748c-415b-8852-c0dd05f80468",
       "rows": [
        [
         "0",
         "Albany",
         "ALBANY1ALBANYW1ED1",
         "President",
         null,
         "DEM",
         "Bernie Sanders",
         "12",
         null
        ],
        [
         "1",
         "Albany",
         "ALBANY2ALBANYW1ED2",
         "President",
         null,
         "DEM",
         "Bernie Sanders",
         "73",
         null
        ],
        [
         "2",
         "Albany",
         "ALBANY3ALBANYW1ED3",
         "President",
         null,
         "DEM",
         "Bernie Sanders",
         "84",
         null
        ],
        [
         "3",
         "Albany",
         "ALBANY4ALBANYW1ED4",
         "President",
         null,
         "DEM",
         "Bernie Sanders",
         "91",
         null
        ],
        [
         "4",
         "Albany",
         "ALBANY5ALBANYW1ED5",
         "President",
         null,
         "DEM",
         "Bernie Sanders",
         "3",
         null
        ],
        [
         "5",
         "Albany",
         "ALBANY6ALBANYW1ED6",
         "President",
         null,
         "DEM",
         "Bernie Sanders",
         "70",
         null
        ],
        [
         "6",
         "Albany",
         "ALBANY7ALBANYW1ED7",
         "President",
         null,
         "DEM",
         "Bernie Sanders",
         "58",
         null
        ],
        [
         "7",
         "Albany",
         "ALBANY8ALBANYW1ED8",
         "President",
         null,
         "DEM",
         "Bernie Sanders",
         "7",
         null
        ],
        [
         "8",
         "Albany",
         "ALBANY9ALBANYW1ED9",
         "President",
         null,
         "DEM",
         "Bernie Sanders",
         "78",
         null
        ],
        [
         "9",
         "Albany",
         "ALBANY10ALBANYW1ED10",
         "President",
         null,
         "DEM",
         "Bernie Sanders",
         "3",
         null
        ],
        [
         "10",
         "Albany",
         "ALBANY11ALBANYW2ED1",
         "President",
         null,
         "DEM",
         "Bernie Sanders",
         "50",
         null
        ],
        [
         "11",
         "Albany",
         "ALBANY12ALBANYW2ED2",
         "President",
         null,
         "DEM",
         "Bernie Sanders",
         "21",
         null
        ],
        [
         "12",
         "Albany",
         "ALBANY13ALBANYW2ED3",
         "President",
         null,
         "DEM",
         "Bernie Sanders",
         "15",
         null
        ],
        [
         "13",
         "Albany",
         "ALBANY14ALBANYW2ED4",
         "President",
         null,
         "DEM",
         "Bernie Sanders",
         "54",
         null
        ],
        [
         "14",
         "Albany",
         "ALBANY15ALBANYW2ED5",
         "President",
         null,
         "DEM",
         "Bernie Sanders",
         "61",
         null
        ],
        [
         "15",
         "Albany",
         "ALBANY16ALBANYW2ED6",
         "President",
         null,
         "DEM",
         "Bernie Sanders",
         "96",
         null
        ],
        [
         "16",
         "Albany",
         "ALBANY17ALBANYW2ED7",
         "President",
         null,
         "DEM",
         "Bernie Sanders",
         "1",
         null
        ],
        [
         "17",
         "Albany",
         "ALBANY18ALBANYW2ED8",
         "President",
         null,
         "DEM",
         "Bernie Sanders",
         "9",
         null
        ],
        [
         "18",
         "Albany",
         "ALBANY19ALBANYW2ED9",
         "President",
         null,
         "DEM",
         "Bernie Sanders",
         "24",
         null
        ],
        [
         "19",
         "Albany",
         "ALBANY20ALBANYW2ED10",
         "President",
         null,
         "DEM",
         "Bernie Sanders",
         "0",
         null
        ],
        [
         "20",
         "Albany",
         "ALBANY21ALBANYW3ED1",
         "President",
         null,
         "DEM",
         "Bernie Sanders",
         "71",
         null
        ],
        [
         "21",
         "Albany",
         "ALBANY22ALBANYW3ED2",
         "President",
         null,
         "DEM",
         "Bernie Sanders",
         "4",
         null
        ],
        [
         "22",
         "Albany",
         "ALBANY23ALBANYW3ED3",
         "President",
         null,
         "DEM",
         "Bernie Sanders",
         "4",
         null
        ],
        [
         "23",
         "Albany",
         "ALBANY24ALBANYW3ED4",
         "President",
         null,
         "DEM",
         "Bernie Sanders",
         "31",
         null
        ],
        [
         "24",
         "Albany",
         "ALBANY25ALBANYW3ED5",
         "President",
         null,
         "DEM",
         "Bernie Sanders",
         "27",
         null
        ],
        [
         "25",
         "Albany",
         "ALBANY26ALBANYW3ED6",
         "President",
         null,
         "DEM",
         "Bernie Sanders",
         "17",
         null
        ],
        [
         "26",
         "Albany",
         "ALBANY27ALBANYW3ED7",
         "President",
         null,
         "DEM",
         "Bernie Sanders",
         "42",
         null
        ],
        [
         "27",
         "Albany",
         "ALBANY28ALBANYW3ED8",
         "President",
         null,
         "DEM",
         "Bernie Sanders",
         "19",
         null
        ],
        [
         "28",
         "Albany",
         "ALBANY29ALBANYW3ED9",
         "President",
         null,
         "DEM",
         "Bernie Sanders",
         "16",
         null
        ],
        [
         "29",
         "Albany",
         "ALBANY30ALBANYW3ED10",
         "President",
         null,
         "DEM",
         "Bernie Sanders",
         "33",
         null
        ],
        [
         "30",
         "Albany",
         "ALBANY31ALBANYW4ED1",
         "President",
         null,
         "DEM",
         "Bernie Sanders",
         "20",
         null
        ],
        [
         "31",
         "Albany",
         "ALBANY32ALBANYW4ED2",
         "President",
         null,
         "DEM",
         "Bernie Sanders",
         "13",
         null
        ],
        [
         "32",
         "Albany",
         "ALBANY33ALBANYW4ED3",
         "President",
         null,
         "DEM",
         "Bernie Sanders",
         "56",
         null
        ],
        [
         "33",
         "Albany",
         "ALBANY34ALBANYW4ED4",
         "President",
         null,
         "DEM",
         "Bernie Sanders",
         "96",
         null
        ],
        [
         "34",
         "Albany",
         "ALBANY35ALBANYW4ED5",
         "President",
         null,
         "DEM",
         "Bernie Sanders",
         "92",
         null
        ],
        [
         "35",
         "Albany",
         "ALBANY36ALBANYW4ED6",
         "President",
         null,
         "DEM",
         "Bernie Sanders",
         "21",
         null
        ],
        [
         "36",
         "Albany",
         "ALBANY37ALBANYW5ED1",
         "President",
         null,
         "DEM",
         "Bernie Sanders",
         "19",
         null
        ],
        [
         "37",
         "Albany",
         "ALBANY38ALBANYW5ED2",
         "President",
         null,
         "DEM",
         "Bernie Sanders",
         "14",
         null
        ],
        [
         "38",
         "Albany",
         "ALBANY39ALBANYW5ED3",
         "President",
         null,
         "DEM",
         "Bernie Sanders",
         "30",
         null
        ],
        [
         "39",
         "Albany",
         "ALBANY40ALBANYW5ED4",
         "President",
         null,
         "DEM",
         "Bernie Sanders",
         "14",
         null
        ],
        [
         "40",
         "Albany",
         "ALBANY41ALBANYW5ED5",
         "President",
         null,
         "DEM",
         "Bernie Sanders",
         "57",
         null
        ],
        [
         "41",
         "Albany",
         "ALBANY42ALBANYW5ED6",
         "President",
         null,
         "DEM",
         "Bernie Sanders",
         "38",
         null
        ],
        [
         "42",
         "Albany",
         "ALBANY43ALBANYW5ED7",
         "President",
         null,
         "DEM",
         "Bernie Sanders",
         "39",
         null
        ],
        [
         "43",
         "Albany",
         "ALBANY44ALBANYW6ED1",
         "President",
         null,
         "DEM",
         "Bernie Sanders",
         "21",
         null
        ],
        [
         "44",
         "Albany",
         "ALBANY45ALBANYW6ED2",
         "President",
         null,
         "DEM",
         "Bernie Sanders",
         "67",
         null
        ],
        [
         "45",
         "Albany",
         "ALBANY46ALBANYW6ED3",
         "President",
         null,
         "DEM",
         "Bernie Sanders",
         "102",
         null
        ],
        [
         "46",
         "Albany",
         "ALBANY47ALBANYW6ED4",
         "President",
         null,
         "DEM",
         "Bernie Sanders",
         "182",
         null
        ],
        [
         "47",
         "Albany",
         "ALBANY48ALBANYW6ED5",
         "President",
         null,
         "DEM",
         "Bernie Sanders",
         "180",
         null
        ],
        [
         "48",
         "Albany",
         "ALBANY49ALBANYW6ED6",
         "President",
         null,
         "DEM",
         "Bernie Sanders",
         "84",
         null
        ],
        [
         "49",
         "Albany",
         "ALBANY50ALBANYW6ED7",
         "President",
         null,
         "DEM",
         "Bernie Sanders",
         "4",
         null
        ]
       ],
       "shape": {
        "columns": 8,
        "rows": 83778
       }
      },
      "text/html": [
       "<div>\n",
       "<style scoped>\n",
       "    .dataframe tbody tr th:only-of-type {\n",
       "        vertical-align: middle;\n",
       "    }\n",
       "\n",
       "    .dataframe tbody tr th {\n",
       "        vertical-align: top;\n",
       "    }\n",
       "\n",
       "    .dataframe thead th {\n",
       "        text-align: right;\n",
       "    }\n",
       "</style>\n",
       "<table border=\"1\" class=\"dataframe\">\n",
       "  <thead>\n",
       "    <tr style=\"text-align: right;\">\n",
       "      <th></th>\n",
       "      <th>county</th>\n",
       "      <th>precinct</th>\n",
       "      <th>office</th>\n",
       "      <th>district</th>\n",
       "      <th>party</th>\n",
       "      <th>candidate</th>\n",
       "      <th>votes</th>\n",
       "      <th>assembly_district</th>\n",
       "    </tr>\n",
       "  </thead>\n",
       "  <tbody>\n",
       "    <tr>\n",
       "      <th>0</th>\n",
       "      <td>Albany</td>\n",
       "      <td>ALBANY1ALBANYW1ED1</td>\n",
       "      <td>President</td>\n",
       "      <td>NaN</td>\n",
       "      <td>DEM</td>\n",
       "      <td>Bernie Sanders</td>\n",
       "      <td>12</td>\n",
       "      <td>NaN</td>\n",
       "    </tr>\n",
       "    <tr>\n",
       "      <th>1</th>\n",
       "      <td>Albany</td>\n",
       "      <td>ALBANY2ALBANYW1ED2</td>\n",
       "      <td>President</td>\n",
       "      <td>NaN</td>\n",
       "      <td>DEM</td>\n",
       "      <td>Bernie Sanders</td>\n",
       "      <td>73</td>\n",
       "      <td>NaN</td>\n",
       "    </tr>\n",
       "    <tr>\n",
       "      <th>2</th>\n",
       "      <td>Albany</td>\n",
       "      <td>ALBANY3ALBANYW1ED3</td>\n",
       "      <td>President</td>\n",
       "      <td>NaN</td>\n",
       "      <td>DEM</td>\n",
       "      <td>Bernie Sanders</td>\n",
       "      <td>84</td>\n",
       "      <td>NaN</td>\n",
       "    </tr>\n",
       "    <tr>\n",
       "      <th>3</th>\n",
       "      <td>Albany</td>\n",
       "      <td>ALBANY4ALBANYW1ED4</td>\n",
       "      <td>President</td>\n",
       "      <td>NaN</td>\n",
       "      <td>DEM</td>\n",
       "      <td>Bernie Sanders</td>\n",
       "      <td>91</td>\n",
       "      <td>NaN</td>\n",
       "    </tr>\n",
       "    <tr>\n",
       "      <th>4</th>\n",
       "      <td>Albany</td>\n",
       "      <td>ALBANY5ALBANYW1ED5</td>\n",
       "      <td>President</td>\n",
       "      <td>NaN</td>\n",
       "      <td>DEM</td>\n",
       "      <td>Bernie Sanders</td>\n",
       "      <td>3</td>\n",
       "      <td>NaN</td>\n",
       "    </tr>\n",
       "    <tr>\n",
       "      <th>...</th>\n",
       "      <td>...</td>\n",
       "      <td>...</td>\n",
       "      <td>...</td>\n",
       "      <td>...</td>\n",
       "      <td>...</td>\n",
       "      <td>...</td>\n",
       "      <td>...</td>\n",
       "      <td>...</td>\n",
       "    </tr>\n",
       "    <tr>\n",
       "      <th>83773</th>\n",
       "      <td>Richmond</td>\n",
       "      <td>RICHMOND=\"62/64\"</td>\n",
       "      <td>President</td>\n",
       "      <td>NaN</td>\n",
       "      <td>Republican</td>\n",
       "      <td>Affidavit</td>\n",
       "      <td>1</td>\n",
       "      <td>64.0</td>\n",
       "    </tr>\n",
       "    <tr>\n",
       "      <th>83774</th>\n",
       "      <td>Richmond</td>\n",
       "      <td>RICHMOND=\"62/64\"</td>\n",
       "      <td>President</td>\n",
       "      <td>NaN</td>\n",
       "      <td>Republican</td>\n",
       "      <td>Donald J. Trump</td>\n",
       "      <td>41</td>\n",
       "      <td>64.0</td>\n",
       "    </tr>\n",
       "    <tr>\n",
       "      <th>83775</th>\n",
       "      <td>Richmond</td>\n",
       "      <td>RICHMOND=\"62/64\"</td>\n",
       "      <td>President</td>\n",
       "      <td>NaN</td>\n",
       "      <td>Republican</td>\n",
       "      <td>John R. Kasich</td>\n",
       "      <td>5</td>\n",
       "      <td>64.0</td>\n",
       "    </tr>\n",
       "    <tr>\n",
       "      <th>83776</th>\n",
       "      <td>Richmond</td>\n",
       "      <td>RICHMOND=\"62/64\"</td>\n",
       "      <td>President</td>\n",
       "      <td>NaN</td>\n",
       "      <td>Republican</td>\n",
       "      <td>Ben Carson</td>\n",
       "      <td>0</td>\n",
       "      <td>64.0</td>\n",
       "    </tr>\n",
       "    <tr>\n",
       "      <th>83777</th>\n",
       "      <td>Richmond</td>\n",
       "      <td>RICHMOND=\"62/64\"</td>\n",
       "      <td>President</td>\n",
       "      <td>NaN</td>\n",
       "      <td>Republican</td>\n",
       "      <td>Ted Cruz</td>\n",
       "      <td>1</td>\n",
       "      <td>64.0</td>\n",
       "    </tr>\n",
       "  </tbody>\n",
       "</table>\n",
       "<p>83778 rows × 8 columns</p>\n",
       "</div>"
      ],
      "text/plain": [
       "         county            precinct     office  district       party  \\\n",
       "0        Albany  ALBANY1ALBANYW1ED1  President       NaN         DEM   \n",
       "1        Albany  ALBANY2ALBANYW1ED2  President       NaN         DEM   \n",
       "2        Albany  ALBANY3ALBANYW1ED3  President       NaN         DEM   \n",
       "3        Albany  ALBANY4ALBANYW1ED4  President       NaN         DEM   \n",
       "4        Albany  ALBANY5ALBANYW1ED5  President       NaN         DEM   \n",
       "...         ...                 ...        ...       ...         ...   \n",
       "83773  Richmond    RICHMOND=\"62/64\"  President       NaN  Republican   \n",
       "83774  Richmond    RICHMOND=\"62/64\"  President       NaN  Republican   \n",
       "83775  Richmond    RICHMOND=\"62/64\"  President       NaN  Republican   \n",
       "83776  Richmond    RICHMOND=\"62/64\"  President       NaN  Republican   \n",
       "83777  Richmond    RICHMOND=\"62/64\"  President       NaN  Republican   \n",
       "\n",
       "             candidate  votes  assembly_district  \n",
       "0       Bernie Sanders     12                NaN  \n",
       "1       Bernie Sanders     73                NaN  \n",
       "2       Bernie Sanders     84                NaN  \n",
       "3       Bernie Sanders     91                NaN  \n",
       "4       Bernie Sanders      3                NaN  \n",
       "...                ...    ...                ...  \n",
       "83773        Affidavit      1               64.0  \n",
       "83774  Donald J. Trump     41               64.0  \n",
       "83775   John R. Kasich      5               64.0  \n",
       "83776       Ben Carson      0               64.0  \n",
       "83777         Ted Cruz      1               64.0  \n",
       "\n",
       "[83778 rows x 8 columns]"
      ]
     },
     "execution_count": 52,
     "metadata": {},
     "output_type": "execute_result"
    }
   ],
   "source": [
    "# Process primary files\n",
    "primary_df_list = []\n",
    "\n",
    "for file in primary_files:\n",
    "    try:\n",
    "        df = pd.read_csv(file)\n",
    "        # Filtering out only President \n",
    "        if 'office' in df.columns:\n",
    "            df = df[df[\"office\"] == \"President\"]\n",
    "            \n",
    "        # Combine precinct as county + precinct\n",
    "        df[\"precinct\"] = df[\"county\"].astype(str) + df[\"precinct\"].astype(str)\n",
    "        df[\"precinct\"] = df[\"precinct\"].str.upper()\n",
    "\n",
    "        # Cleaning maybe total precinct\n",
    "        if 'precinct' in df.columns:\n",
    "            df['precinct'] = df['precinct'].astype(str)                  \n",
    "            df = df[df['precinct'].str.upper() != \"TOTAL\"]               \n",
    "            df = df[df['precinct'].str.strip().str.upper() != \"TOTAL\"]   \n",
    "            df = df[df['precinct'].str.upper() != \"NAN\"]                \n",
    "            df = df[~df['precinct'].str.upper().str.contains(r\"\\w*TOTAL\\w*\", na=False)]   \n",
    "\n",
    "        if 'county' in df.columns:\n",
    "            df['county'] = df['county'].astype(str)                  \n",
    "            df = df[df['county'].str.upper() != \"TOTAL\"]               \n",
    "            df = df[df['county'].str.strip().str.upper() != \"TOTAL\"]   \n",
    "            df = df[df['county'].str.upper() != \"NAN\"]       \n",
    "            df = df[~df['county'].str.upper().str.contains(r\"\\w*TOTAL\\w*\", na=False)]               \n",
    "        \n",
    "        # Dropping duplicates value\n",
    "        df = df.drop_duplicates()\n",
    "        primary_df_list.append(df)\n",
    "\n",
    "    except Exception as e:\n",
    "        print(f\"Error in {file}: {e}\")\n",
    "\n",
    "# Combine all cleaned files\n",
    "pri_combined_df = pd.concat(primary_df_list, ignore_index=True)\n",
    "pri_combined_df"
   ]
  },
  {
   "cell_type": "code",
   "execution_count": 53,
   "id": "bbe34b76",
   "metadata": {},
   "outputs": [],
   "source": [
    "# Checking any suspicious precinct, county\n",
    "suspicious_precincts = pri_combined_df[\n",
    "    pri_combined_df[\"precinct\"].isna() |\n",
    "    pri_combined_df[\"precinct\"].str.strip().str.upper().str.contains(r\"\\w*TOTAL\\w*\", na=False) |\n",
    "    pri_combined_df[\"precinct\"].str.strip().str.upper().isin([\"NONE\", \"NAN\"]) |\n",
    "    pri_combined_df[\"county\"].isna() |\n",
    "    pri_combined_df[\"county\"].str.strip().str.upper().str.contains(r\"\\w*TOTAL\\w*\", na=False) |\n",
    "    pri_combined_df[\"county\"].str.strip().str.upper().isin([\"NONE\", \"NAN\"])\n",
    "]"
   ]
  },
  {
   "cell_type": "code",
   "execution_count": 54,
   "id": "f0e1e913",
   "metadata": {},
   "outputs": [
    {
     "data": {
      "application/vnd.microsoft.datawrangler.viewer.v0+json": {
       "columns": [
        {
         "name": "index",
         "rawType": "int64",
         "type": "integer"
        },
        {
         "name": "precinct",
         "rawType": "object",
         "type": "string"
        },
        {
         "name": "party",
         "rawType": "object",
         "type": "string"
        },
        {
         "name": "candidate",
         "rawType": "object",
         "type": "string"
        },
        {
         "name": "votes",
         "rawType": "int64",
         "type": "integer"
        }
       ],
       "ref": "93782e72-ea53-4f74-b898-30d39d803a88",
       "rows": [
        [
         "0",
         "ALBANY1ALBANYW1ED1",
         "DEM",
         "Bernie Sanders",
         "12"
        ],
        [
         "1",
         "ALBANY2ALBANYW1ED2",
         "DEM",
         "Bernie Sanders",
         "73"
        ],
        [
         "2",
         "ALBANY3ALBANYW1ED3",
         "DEM",
         "Bernie Sanders",
         "84"
        ],
        [
         "3",
         "ALBANY4ALBANYW1ED4",
         "DEM",
         "Bernie Sanders",
         "91"
        ],
        [
         "4",
         "ALBANY5ALBANYW1ED5",
         "DEM",
         "Bernie Sanders",
         "3"
        ],
        [
         "5",
         "ALBANY6ALBANYW1ED6",
         "DEM",
         "Bernie Sanders",
         "70"
        ],
        [
         "6",
         "ALBANY7ALBANYW1ED7",
         "DEM",
         "Bernie Sanders",
         "58"
        ],
        [
         "7",
         "ALBANY8ALBANYW1ED8",
         "DEM",
         "Bernie Sanders",
         "7"
        ],
        [
         "8",
         "ALBANY9ALBANYW1ED9",
         "DEM",
         "Bernie Sanders",
         "78"
        ],
        [
         "9",
         "ALBANY10ALBANYW1ED10",
         "DEM",
         "Bernie Sanders",
         "3"
        ],
        [
         "10",
         "ALBANY11ALBANYW2ED1",
         "DEM",
         "Bernie Sanders",
         "50"
        ],
        [
         "11",
         "ALBANY12ALBANYW2ED2",
         "DEM",
         "Bernie Sanders",
         "21"
        ],
        [
         "12",
         "ALBANY13ALBANYW2ED3",
         "DEM",
         "Bernie Sanders",
         "15"
        ],
        [
         "13",
         "ALBANY14ALBANYW2ED4",
         "DEM",
         "Bernie Sanders",
         "54"
        ],
        [
         "14",
         "ALBANY15ALBANYW2ED5",
         "DEM",
         "Bernie Sanders",
         "61"
        ],
        [
         "15",
         "ALBANY16ALBANYW2ED6",
         "DEM",
         "Bernie Sanders",
         "96"
        ],
        [
         "16",
         "ALBANY17ALBANYW2ED7",
         "DEM",
         "Bernie Sanders",
         "1"
        ],
        [
         "17",
         "ALBANY18ALBANYW2ED8",
         "DEM",
         "Bernie Sanders",
         "9"
        ],
        [
         "18",
         "ALBANY19ALBANYW2ED9",
         "DEM",
         "Bernie Sanders",
         "24"
        ],
        [
         "19",
         "ALBANY20ALBANYW2ED10",
         "DEM",
         "Bernie Sanders",
         "0"
        ],
        [
         "20",
         "ALBANY21ALBANYW3ED1",
         "DEM",
         "Bernie Sanders",
         "71"
        ],
        [
         "21",
         "ALBANY22ALBANYW3ED2",
         "DEM",
         "Bernie Sanders",
         "4"
        ],
        [
         "22",
         "ALBANY23ALBANYW3ED3",
         "DEM",
         "Bernie Sanders",
         "4"
        ],
        [
         "23",
         "ALBANY24ALBANYW3ED4",
         "DEM",
         "Bernie Sanders",
         "31"
        ],
        [
         "24",
         "ALBANY25ALBANYW3ED5",
         "DEM",
         "Bernie Sanders",
         "27"
        ],
        [
         "25",
         "ALBANY26ALBANYW3ED6",
         "DEM",
         "Bernie Sanders",
         "17"
        ],
        [
         "26",
         "ALBANY27ALBANYW3ED7",
         "DEM",
         "Bernie Sanders",
         "42"
        ],
        [
         "27",
         "ALBANY28ALBANYW3ED8",
         "DEM",
         "Bernie Sanders",
         "19"
        ],
        [
         "28",
         "ALBANY29ALBANYW3ED9",
         "DEM",
         "Bernie Sanders",
         "16"
        ],
        [
         "29",
         "ALBANY30ALBANYW3ED10",
         "DEM",
         "Bernie Sanders",
         "33"
        ],
        [
         "30",
         "ALBANY31ALBANYW4ED1",
         "DEM",
         "Bernie Sanders",
         "20"
        ],
        [
         "31",
         "ALBANY32ALBANYW4ED2",
         "DEM",
         "Bernie Sanders",
         "13"
        ],
        [
         "32",
         "ALBANY33ALBANYW4ED3",
         "DEM",
         "Bernie Sanders",
         "56"
        ],
        [
         "33",
         "ALBANY34ALBANYW4ED4",
         "DEM",
         "Bernie Sanders",
         "96"
        ],
        [
         "34",
         "ALBANY35ALBANYW4ED5",
         "DEM",
         "Bernie Sanders",
         "92"
        ],
        [
         "35",
         "ALBANY36ALBANYW4ED6",
         "DEM",
         "Bernie Sanders",
         "21"
        ],
        [
         "36",
         "ALBANY37ALBANYW5ED1",
         "DEM",
         "Bernie Sanders",
         "19"
        ],
        [
         "37",
         "ALBANY38ALBANYW5ED2",
         "DEM",
         "Bernie Sanders",
         "14"
        ],
        [
         "38",
         "ALBANY39ALBANYW5ED3",
         "DEM",
         "Bernie Sanders",
         "30"
        ],
        [
         "39",
         "ALBANY40ALBANYW5ED4",
         "DEM",
         "Bernie Sanders",
         "14"
        ],
        [
         "40",
         "ALBANY41ALBANYW5ED5",
         "DEM",
         "Bernie Sanders",
         "57"
        ],
        [
         "41",
         "ALBANY42ALBANYW5ED6",
         "DEM",
         "Bernie Sanders",
         "38"
        ],
        [
         "42",
         "ALBANY43ALBANYW5ED7",
         "DEM",
         "Bernie Sanders",
         "39"
        ],
        [
         "43",
         "ALBANY44ALBANYW6ED1",
         "DEM",
         "Bernie Sanders",
         "21"
        ],
        [
         "44",
         "ALBANY45ALBANYW6ED2",
         "DEM",
         "Bernie Sanders",
         "67"
        ],
        [
         "45",
         "ALBANY46ALBANYW6ED3",
         "DEM",
         "Bernie Sanders",
         "102"
        ],
        [
         "46",
         "ALBANY47ALBANYW6ED4",
         "DEM",
         "Bernie Sanders",
         "182"
        ],
        [
         "47",
         "ALBANY48ALBANYW6ED5",
         "DEM",
         "Bernie Sanders",
         "180"
        ],
        [
         "48",
         "ALBANY49ALBANYW6ED6",
         "DEM",
         "Bernie Sanders",
         "84"
        ],
        [
         "49",
         "ALBANY50ALBANYW6ED7",
         "DEM",
         "Bernie Sanders",
         "4"
        ]
       ],
       "shape": {
        "columns": 4,
        "rows": 83778
       }
      },
      "text/html": [
       "<div>\n",
       "<style scoped>\n",
       "    .dataframe tbody tr th:only-of-type {\n",
       "        vertical-align: middle;\n",
       "    }\n",
       "\n",
       "    .dataframe tbody tr th {\n",
       "        vertical-align: top;\n",
       "    }\n",
       "\n",
       "    .dataframe thead th {\n",
       "        text-align: right;\n",
       "    }\n",
       "</style>\n",
       "<table border=\"1\" class=\"dataframe\">\n",
       "  <thead>\n",
       "    <tr style=\"text-align: right;\">\n",
       "      <th></th>\n",
       "      <th>precinct</th>\n",
       "      <th>party</th>\n",
       "      <th>candidate</th>\n",
       "      <th>votes</th>\n",
       "    </tr>\n",
       "  </thead>\n",
       "  <tbody>\n",
       "    <tr>\n",
       "      <th>0</th>\n",
       "      <td>ALBANY1ALBANYW1ED1</td>\n",
       "      <td>DEM</td>\n",
       "      <td>Bernie Sanders</td>\n",
       "      <td>12</td>\n",
       "    </tr>\n",
       "    <tr>\n",
       "      <th>1</th>\n",
       "      <td>ALBANY2ALBANYW1ED2</td>\n",
       "      <td>DEM</td>\n",
       "      <td>Bernie Sanders</td>\n",
       "      <td>73</td>\n",
       "    </tr>\n",
       "    <tr>\n",
       "      <th>2</th>\n",
       "      <td>ALBANY3ALBANYW1ED3</td>\n",
       "      <td>DEM</td>\n",
       "      <td>Bernie Sanders</td>\n",
       "      <td>84</td>\n",
       "    </tr>\n",
       "    <tr>\n",
       "      <th>3</th>\n",
       "      <td>ALBANY4ALBANYW1ED4</td>\n",
       "      <td>DEM</td>\n",
       "      <td>Bernie Sanders</td>\n",
       "      <td>91</td>\n",
       "    </tr>\n",
       "    <tr>\n",
       "      <th>4</th>\n",
       "      <td>ALBANY5ALBANYW1ED5</td>\n",
       "      <td>DEM</td>\n",
       "      <td>Bernie Sanders</td>\n",
       "      <td>3</td>\n",
       "    </tr>\n",
       "    <tr>\n",
       "      <th>...</th>\n",
       "      <td>...</td>\n",
       "      <td>...</td>\n",
       "      <td>...</td>\n",
       "      <td>...</td>\n",
       "    </tr>\n",
       "    <tr>\n",
       "      <th>83773</th>\n",
       "      <td>RICHMOND=\"62/64\"</td>\n",
       "      <td>Republican</td>\n",
       "      <td>Affidavit</td>\n",
       "      <td>1</td>\n",
       "    </tr>\n",
       "    <tr>\n",
       "      <th>83774</th>\n",
       "      <td>RICHMOND=\"62/64\"</td>\n",
       "      <td>Republican</td>\n",
       "      <td>Donald J. Trump</td>\n",
       "      <td>41</td>\n",
       "    </tr>\n",
       "    <tr>\n",
       "      <th>83775</th>\n",
       "      <td>RICHMOND=\"62/64\"</td>\n",
       "      <td>Republican</td>\n",
       "      <td>John R. Kasich</td>\n",
       "      <td>5</td>\n",
       "    </tr>\n",
       "    <tr>\n",
       "      <th>83776</th>\n",
       "      <td>RICHMOND=\"62/64\"</td>\n",
       "      <td>Republican</td>\n",
       "      <td>Ben Carson</td>\n",
       "      <td>0</td>\n",
       "    </tr>\n",
       "    <tr>\n",
       "      <th>83777</th>\n",
       "      <td>RICHMOND=\"62/64\"</td>\n",
       "      <td>Republican</td>\n",
       "      <td>Ted Cruz</td>\n",
       "      <td>1</td>\n",
       "    </tr>\n",
       "  </tbody>\n",
       "</table>\n",
       "<p>83778 rows × 4 columns</p>\n",
       "</div>"
      ],
      "text/plain": [
       "                 precinct       party        candidate  votes\n",
       "0      ALBANY1ALBANYW1ED1         DEM   Bernie Sanders     12\n",
       "1      ALBANY2ALBANYW1ED2         DEM   Bernie Sanders     73\n",
       "2      ALBANY3ALBANYW1ED3         DEM   Bernie Sanders     84\n",
       "3      ALBANY4ALBANYW1ED4         DEM   Bernie Sanders     91\n",
       "4      ALBANY5ALBANYW1ED5         DEM   Bernie Sanders      3\n",
       "...                   ...         ...              ...    ...\n",
       "83773    RICHMOND=\"62/64\"  Republican        Affidavit      1\n",
       "83774    RICHMOND=\"62/64\"  Republican  Donald J. Trump     41\n",
       "83775    RICHMOND=\"62/64\"  Republican   John R. Kasich      5\n",
       "83776    RICHMOND=\"62/64\"  Republican       Ben Carson      0\n",
       "83777    RICHMOND=\"62/64\"  Republican         Ted Cruz      1\n",
       "\n",
       "[83778 rows x 4 columns]"
      ]
     },
     "execution_count": 54,
     "metadata": {},
     "output_type": "execute_result"
    }
   ],
   "source": [
    "# Select only the relevant columns\n",
    "primary_data = pri_combined_df[[\"precinct\", \"party\", \"candidate\", \"votes\"]]\n",
    "\n",
    "primary_data"
   ]
  },
  {
   "cell_type": "code",
   "execution_count": 55,
   "id": "dc2ffa15",
   "metadata": {},
   "outputs": [
    {
     "data": {
      "application/vnd.microsoft.datawrangler.viewer.v0+json": {
       "columns": [
        {
         "name": "candidate",
         "rawType": "object",
         "type": "string"
        },
        {
         "name": "count",
         "rawType": "int64",
         "type": "integer"
        }
       ],
       "ref": "bc42ad62-f9da-40f1-befa-f6f10aeab055",
       "rows": [
        [
         "Emergency",
         "10912"
        ],
        [
         "Absentee/Military",
         "10912"
        ],
        [
         "Federal",
         "10912"
        ],
        [
         "Affidavit",
         "10912"
        ],
        [
         "Bernie Sanders",
         "5547"
        ],
        [
         "Hillary Clinton",
         "5547"
        ],
        [
         "Donald J. Trump",
         "5547"
        ],
        [
         "John R. Kasich",
         "5547"
        ],
        [
         "Ben Carson",
         "5547"
        ],
        [
         "Ted Cruz",
         "5547"
        ],
        [
         "Public Counter",
         "5456"
        ],
        [
         "Over Votes",
         "634"
        ],
        [
         "Under Votes",
         "634"
        ],
        [
         "Blanks",
         "62"
        ],
        [
         "Void",
         "62"
        ]
       ],
       "shape": {
        "columns": 1,
        "rows": 15
       }
      },
      "text/plain": [
       "candidate\n",
       "Emergency            10912\n",
       "Absentee/Military    10912\n",
       "Federal              10912\n",
       "Affidavit            10912\n",
       "Bernie Sanders        5547\n",
       "Hillary Clinton       5547\n",
       "Donald J. Trump       5547\n",
       "John R. Kasich        5547\n",
       "Ben Carson            5547\n",
       "Ted Cruz              5547\n",
       "Public Counter        5456\n",
       "Over Votes             634\n",
       "Under Votes            634\n",
       "Blanks                  62\n",
       "Void                    62\n",
       "Name: count, dtype: int64"
      ]
     },
     "execution_count": 55,
     "metadata": {},
     "output_type": "execute_result"
    }
   ],
   "source": [
    "# Viewing candidate data\n",
    "primary_data[\"candidate\"].value_counts(dropna=False)"
   ]
  },
  {
   "cell_type": "code",
   "execution_count": 56,
   "id": "5eef8778",
   "metadata": {},
   "outputs": [
    {
     "name": "stderr",
     "output_type": "stream",
     "text": [
      "C:\\Users\\ADMIN\\AppData\\Local\\Temp\\ipykernel_22756\\2270807533.py:4: SettingWithCopyWarning: \n",
      "A value is trying to be set on a copy of a slice from a DataFrame.\n",
      "Try using .loc[row_indexer,col_indexer] = value instead\n",
      "\n",
      "See the caveats in the documentation: https://pandas.pydata.org/pandas-docs/stable/user_guide/indexing.html#returning-a-view-versus-a-copy\n",
      "  primary_data[\"candidate\"] = primary_data[\"candidate\"].astype(str).str.upper()\n",
      "C:\\Users\\ADMIN\\AppData\\Local\\Temp\\ipykernel_22756\\2270807533.py:59: SettingWithCopyWarning: \n",
      "A value is trying to be set on a copy of a slice from a DataFrame.\n",
      "Try using .loc[row_indexer,col_indexer] = value instead\n",
      "\n",
      "See the caveats in the documentation: https://pandas.pydata.org/pandas-docs/stable/user_guide/indexing.html#returning-a-view-versus-a-copy\n",
      "  primary_data[\"candidate\"] = primary_data[\"candidate\"].str.split().str[-1]\n"
     ]
    },
    {
     "data": {
      "application/vnd.microsoft.datawrangler.viewer.v0+json": {
       "columns": [
        {
         "name": "candidate",
         "rawType": "object",
         "type": "string"
        },
        {
         "name": "count",
         "rawType": "int64",
         "type": "integer"
        }
       ],
       "ref": "06a0e3bf-55fa-4969-9aa9-479c5ac09bf9",
       "rows": [
        [
         "SANDERS",
         "5547"
        ],
        [
         "CLINTON",
         "5547"
        ],
        [
         "TRUMP",
         "5547"
        ],
        [
         "KASICH",
         "5547"
        ],
        [
         "CARSON",
         "5547"
        ],
        [
         "CRUZ",
         "5547"
        ]
       ],
       "shape": {
        "columns": 1,
        "rows": 6
       }
      },
      "text/plain": [
       "candidate\n",
       "SANDERS    5547\n",
       "CLINTON    5547\n",
       "TRUMP      5547\n",
       "KASICH     5547\n",
       "CARSON     5547\n",
       "CRUZ       5547\n",
       "Name: count, dtype: int64"
      ]
     },
     "execution_count": 56,
     "metadata": {},
     "output_type": "execute_result"
    }
   ],
   "source": [
    "# Cleaning Candidates\n",
    "\n",
    "# Turning all primary data to uppercase\n",
    "primary_data[\"candidate\"] = primary_data[\"candidate\"].astype(str).str.upper()\n",
    "\n",
    "unwanted_keywords = [\n",
    "    r\"\\w*VOTE\\w*\",\n",
    "    r\"\\w*UNCOM\\w*\",\n",
    "    r\"\\w*TOTAL\\w*\",\n",
    "    r\"\\w*ATTERING\\w*\",\n",
    "    r\"\\w*UNINSTRUCTED\\w*\",\n",
    "    r\"UNCOMMITTED\", r\"OTHER\",r\"Total Votes Cast\",r\"No Preference\",\n",
    "    \"EMERGENCY\",\n",
    "    r\"\\w*ABSENTEE\\w*\",\n",
    "    r\"\\w*AFFIDAVIT\\w*\",\n",
    "    \"FEDERAL\",\"BLANKS\",\"VOID\",\"PUBLIC COUNTER\"\n",
    "]\n",
    "\n",
    "pattern = \"|\".join(unwanted_keywords)\n",
    "\n",
    "# Assuming candidate column is already string and uppercase\n",
    "primary_data = primary_data[~primary_data[\"candidate\"].str.upper().str.contains(pattern, regex=True, na=False)]\n",
    "\n",
    "#fIXING DE LA FUENTE\n",
    "# primary_data.loc[\n",
    "#     (\n",
    "#         primary_data[\"candidate\"].str.contains(\"rocky.*fuente\", case=False, na=False) |\n",
    "#         primary_data[\"candidate\"].str.contains(\"LA FUENTE\", case=False, na=False) |\n",
    "#         primary_data[\"candidate\"].str.contains(\"\\w*Fuque\\w*\", case=False, na=False)\n",
    "#     ),\n",
    "#     \"candidate\"\n",
    "# ] = \"LA FUENTE\"\n",
    "\n",
    "# # Fixing williams\n",
    "primary_data.loc[\n",
    "    primary_data[\"candidate\"].str.contains(\"FARRELL\", case=False, na=False),\n",
    "    \"candidate\"\n",
    "] = \"FARRELL\"\n",
    "\n",
    "# # Fixing williams\n",
    "primary_data.loc[\n",
    "    primary_data[\"candidate\"].str.contains(\"FIONINA\", case=False, na=False),\n",
    "    \"candidate\"\n",
    "] = \"FIORINA\"\n",
    "\n",
    "primary_data.loc[:, \"candidate\"] = primary_data[\"candidate\"].replace({\n",
    "    \"Donald I. Trump\": \"Donald J. Trump\",\n",
    "})\n",
    "\n",
    "# # Fixing the , candidate\n",
    "# primary_data[\"candidate\"] = (\n",
    "#     primary_data[\"candidate\"].str.split(\",\")\n",
    "#     .str[0]\n",
    "#     .str.strip()\n",
    "#     )\n",
    "\n",
    "\n",
    "# #Selecting only last name\n",
    "primary_data[\"candidate\"] = primary_data[\"candidate\"].str.split().str[-1]\n",
    "\n",
    "# # Fixing Christie\n",
    "# primary_data.loc[\n",
    "#     primary_data[\"candidate\"].str.contains(\"CHRISTLE\", case=False, na=False),\n",
    "#     \"candidate\"\n",
    "# ] = \"CHRISTIE\"\n",
    "\n",
    "# # Fixing KASICH\n",
    "# primary_data.loc[\n",
    "#     primary_data[\"candidate\"].str.contains(\"KAISCH\", case=False, na=False),\n",
    "#     \"candidate\"\n",
    "# ] = \"CHRISTIE\"\n",
    "\n",
    "# # Fixing O'MALLEY\n",
    "# primary_data.loc[\n",
    "#     primary_data[\"candidate\"].str.contains(\"O'MALLEY\", case=False, na=False),\n",
    "#     \"candidate\"\n",
    "# ] = \"O'MAILEY\"\n",
    "\n",
    "# # Fixing O'MALLEY\n",
    "# primary_data.loc[\n",
    "#     primary_data[\"candidate\"].str.contains(\"PATAKL\", case=False, na=False),\n",
    "#     \"candidate\"\n",
    "# ] = \"PATAKI\"\n",
    "\n",
    "# # Fixing O'MALLEY\n",
    "# primary_data.loc[\n",
    "#     primary_data[\"candidate\"].str.contains(\"RUBLO\", case=False, na=False),\n",
    "#     \"candidate\"\n",
    "# ] = \"RUBIO\"\n",
    "\n",
    "# # Fixing Huckabee\n",
    "# primary_data.loc[\n",
    "#     primary_data[\"candidate\"].str.contains(\"\\w*ABEE\\w*\", case=False, na=False),\n",
    "#     \"candidate\"\n",
    "# ] = \"HUCKABEE\"\n",
    "\n",
    "# # Fixing Fiorina\n",
    "# primary_data.loc[\n",
    "#     primary_data[\"candidate\"].str.contains(\"\\w*ORINA\\W*\", case=False, na=False),\n",
    "#     \"candidate\"\n",
    "# ] = \"FIORINA\"\n",
    "\n",
    "# # Fixing Gray\n",
    "# primary_data.loc[\n",
    "#     primary_data[\"candidate\"].str.contains(\"GREY\", case=False, na=False),\n",
    "#     \"candidate\"\n",
    "# ] = \"GRAY\"\n",
    "\n",
    "# # Fixing Wilson\n",
    "# primary_data.loc[\n",
    "#     primary_data[\"candidate\"].str.contains(\"WISON\", case=False, na=False),\n",
    "#     \"candidate\"\n",
    "# ] = \"WILSON\"\n",
    "\n",
    "\n",
    "# # Fixing separator \n",
    "# primary_data[\"candidate\"] = (\n",
    "#     primary_data[\"candidate\"]\n",
    "#     .str.split(r\"\\s*(?:and|/|&|–|-|\\+)\\s*\", n=1, expand=True)[0]\n",
    "#     .str.strip()\n",
    "#     .str.upper()\n",
    "# )\n",
    "\n",
    "# # Fixing McMullin\n",
    "\n",
    "# primary_data.loc[\n",
    "#     (\n",
    "#         primary_data[\"candidate\"].str.contains(\"MCMULLIN\", case=False, na=False) |\n",
    "#         primary_data[\"candidate\"].str.contains(\"EVAN MCMULLEN\", case=False, na=False)\n",
    "#     ),\n",
    "#     \"candidate\"\n",
    "# ] = \"MCMULLIN\"\n",
    "\n",
    "# primary_data.loc[\n",
    "#     primary_data[\"candidate\"].str.contains(\"De La Fuen\", case=False, na=False),\n",
    "#     \"candidate\"\n",
    "# ] = \"FUENTE D\"\n",
    "\n",
    "# primary_data.loc[:,\"candidate\"] = (\n",
    "#     primary_data[\"candidate\"].str.split().str[0].str.upper()\n",
    "# )\n",
    "\n",
    "primary_data[\"candidate\"].value_counts(dropna=False)"
   ]
  },
  {
   "cell_type": "code",
   "execution_count": 57,
   "id": "dcc76af7",
   "metadata": {},
   "outputs": [
    {
     "data": {
      "application/vnd.microsoft.datawrangler.viewer.v0+json": {
       "columns": [
        {
         "name": "party",
         "rawType": "object",
         "type": "string"
        },
        {
         "name": "count",
         "rawType": "int64",
         "type": "integer"
        }
       ],
       "ref": "c9636ef2-ac9f-467f-a367-c0abaa2e2ae9",
       "rows": [
        [
         "Republican",
         "20796"
        ],
        [
         "Democratic",
         "10398"
        ],
        [
         "REP",
         "1392"
        ],
        [
         "DEM",
         "696"
        ]
       ],
       "shape": {
        "columns": 1,
        "rows": 4
       }
      },
      "text/plain": [
       "party\n",
       "Republican    20796\n",
       "Democratic    10398\n",
       "REP            1392\n",
       "DEM             696\n",
       "Name: count, dtype: int64"
      ]
     },
     "execution_count": 57,
     "metadata": {},
     "output_type": "execute_result"
    }
   ],
   "source": [
    "# Viewing Party\n",
    "primary_data[\"party\"].value_counts(dropna=False)"
   ]
  },
  {
   "cell_type": "code",
   "execution_count": 58,
   "id": "582aa6c5",
   "metadata": {},
   "outputs": [
    {
     "data": {
      "application/vnd.microsoft.datawrangler.viewer.v0+json": {
       "columns": [
        {
         "name": "party",
         "rawType": "object",
         "type": "string"
        },
        {
         "name": "count",
         "rawType": "int64",
         "type": "integer"
        }
       ],
       "ref": "5f0a492d-3739-448c-995b-2da322567cb8",
       "rows": [
        [
         "Republican",
         "20796"
        ],
        [
         "Democratic",
         "10398"
        ],
        [
         "REP",
         "1392"
        ],
        [
         "DEM",
         "696"
        ]
       ],
       "shape": {
        "columns": 1,
        "rows": 4
       }
      },
      "text/plain": [
       "party\n",
       "Republican    20796\n",
       "Democratic    10398\n",
       "REP            1392\n",
       "DEM             696\n",
       "Name: count, dtype: int64"
      ]
     },
     "execution_count": 58,
     "metadata": {},
     "output_type": "execute_result"
    }
   ],
   "source": [
    "#=====================================\n",
    "# This function is used to look up party\n",
    "# for the candidate in the same df\n",
    "#=====================================\n",
    "def fill_party_from_data(row, df):\n",
    "    if pd.notna(row[\"party\"]):\n",
    "        return row[\"party\"]\n",
    "    \n",
    "    # Try to find other rows with the same candidate and known party\n",
    "    matches = df[(df[\"candidate\"] == row[\"candidate\"]) & (df[\"party\"].notna())]\n",
    "    if not matches.empty:\n",
    "        return matches[\"party\"].iloc[0]  # Return the first match's party\n",
    "    else:\n",
    "        return None  # Still unknown\n",
    "\n",
    "#=====================================\n",
    "# Example usage (uncomment and modify for your workflow)\n",
    "#=====================================\n",
    "# Fill party using internal data\n",
    "# primary_data[\"party\"] = primary_data.apply(\n",
    "#     lambda row: fill_party_from_data(row, primary_data),\n",
    "#     axis=1\n",
    "# )\n",
    "\n",
    "primary_data[\"party\"].value_counts(dropna=False)\n"
   ]
  },
  {
   "cell_type": "code",
   "execution_count": 59,
   "id": "34361751",
   "metadata": {},
   "outputs": [
    {
     "name": "stderr",
     "output_type": "stream",
     "text": [
      "C:\\Users\\ADMIN\\AppData\\Local\\Temp\\ipykernel_22756\\453441538.py:3: SettingWithCopyWarning: \n",
      "A value is trying to be set on a copy of a slice from a DataFrame.\n",
      "Try using .loc[row_indexer,col_indexer] = value instead\n",
      "\n",
      "See the caveats in the documentation: https://pandas.pydata.org/pandas-docs/stable/user_guide/indexing.html#returning-a-view-versus-a-copy\n",
      "  primary_data[\"party\"] = primary_data[\"party\"].astype(str).str.upper()\n",
      "C:\\Users\\ADMIN\\AppData\\Local\\Temp\\ipykernel_22756\\453441538.py:9: SettingWithCopyWarning: \n",
      "A value is trying to be set on a copy of a slice from a DataFrame.\n",
      "Try using .loc[row_indexer,col_indexer] = value instead\n",
      "\n",
      "See the caveats in the documentation: https://pandas.pydata.org/pandas-docs/stable/user_guide/indexing.html#returning-a-view-versus-a-copy\n",
      "  primary_data[\"party\"] = (\n"
     ]
    },
    {
     "data": {
      "application/vnd.microsoft.datawrangler.viewer.v0+json": {
       "columns": [
        {
         "name": "party",
         "rawType": "object",
         "type": "string"
        },
        {
         "name": "count",
         "rawType": "int64",
         "type": "integer"
        }
       ],
       "ref": "65f1e78d-cc24-4e4a-8e68-ac6fd0bc6090",
       "rows": [
        [
         "REP",
         "22188"
        ],
        [
         "DEM",
         "11094"
        ]
       ],
       "shape": {
        "columns": 1,
        "rows": 2
       }
      },
      "text/plain": [
       "party\n",
       "REP    22188\n",
       "DEM    11094\n",
       "Name: count, dtype: int64"
      ]
     },
     "execution_count": 59,
     "metadata": {},
     "output_type": "execute_result"
    }
   ],
   "source": [
    "# Cleaning Party\n",
    "# Turning all general data party to uppercase\n",
    "primary_data[\"party\"] = primary_data[\"party\"].astype(str).str.upper()\n",
    "\n",
    "# primary_data[\"party\"] = primary_data.apply(\n",
    "#     lambda row: fill_party_from_data(row, primary_data),\n",
    "#     axis=1\n",
    "# )\n",
    "primary_data[\"party\"] = (\n",
    "    primary_data[\"party\"]\n",
    "    .replace({\n",
    "        \"REPUBLICAN\": \"REP\",\n",
    "        \"R\": \"REP\",\n",
    "        \"DEMOCRATIC\": \"DEM\",\n",
    "        \"DEMOCRAT\":\"DEM\",\n",
    "        \"DEM\": \"DEM\",\n",
    "        \"D\": \"DEM\",\n",
    "        \"GREEN\": \"GRN\",\n",
    "        \"G\": \"GREEN\",\n",
    "        \"GREEN-RAINBOW\":\"GRN\",\n",
    "        \"LIBERTARIAN\": \"LIB\",\n",
    "        \"LBT\": \"LIB\",\n",
    "        \"L\": \"LIB\",\n",
    "        \"CONSTITUTION\": \"CON\",\n",
    "        \"NP\": \"IND\",\n",
    "        \"NON\": \"IND\",\n",
    "        \"WRI\": \"IND\",\n",
    "        \"WRITE-IN\": \"IND\",\n",
    "        \"ONA\": \"IND\",\n",
    "        \"GEN\": \"IND\",\n",
    "        \"NONE\":\"UNK\"\n",
    "    })\n",
    ")\n",
    "primary_data[\"party\"].value_counts(dropna=False)"
   ]
  },
  {
   "cell_type": "code",
   "execution_count": 60,
   "id": "a359cd18",
   "metadata": {},
   "outputs": [
    {
     "name": "stderr",
     "output_type": "stream",
     "text": [
      "C:\\Users\\ADMIN\\AppData\\Local\\Temp\\ipykernel_22756\\2521670330.py:1: SettingWithCopyWarning: \n",
      "A value is trying to be set on a copy of a slice from a DataFrame.\n",
      "Try using .loc[row_indexer,col_indexer] = value instead\n",
      "\n",
      "See the caveats in the documentation: https://pandas.pydata.org/pandas-docs/stable/user_guide/indexing.html#returning-a-view-versus-a-copy\n",
      "  primary_data.loc[:,\"candidate_column\"] = (\n"
     ]
    },
    {
     "data": {
      "application/vnd.microsoft.datawrangler.viewer.v0+json": {
       "columns": [
        {
         "name": "index",
         "rawType": "int64",
         "type": "integer"
        },
        {
         "name": "precinct",
         "rawType": "object",
         "type": "string"
        },
        {
         "name": "pri_dem_CLINTON",
         "rawType": "int64",
         "type": "integer"
        },
        {
         "name": "pri_dem_SANDERS",
         "rawType": "int64",
         "type": "integer"
        },
        {
         "name": "pri_rep_CARSON",
         "rawType": "int64",
         "type": "integer"
        },
        {
         "name": "pri_rep_CRUZ",
         "rawType": "int64",
         "type": "integer"
        },
        {
         "name": "pri_rep_KASICH",
         "rawType": "int64",
         "type": "integer"
        },
        {
         "name": "pri_rep_TRUMP",
         "rawType": "int64",
         "type": "integer"
        }
       ],
       "ref": "2c16acca-b39f-4bcb-b87e-166b290171c9",
       "rows": [
        [
         "0",
         "ALBANY100ALBANYW12ED4",
         "8",
         "79",
         "0",
         "1",
         "1",
         "10"
        ],
        [
         "1",
         "ALBANY101ALBANYW12ED5",
         "90",
         "87",
         "1",
         "5",
         "7",
         "4"
        ],
        [
         "2",
         "ALBANY102ALBANYW12ED6",
         "101",
         "78",
         "0",
         "0",
         "2",
         "4"
        ],
        [
         "3",
         "ALBANY103ALBANYW12ED7",
         "0",
         "0",
         "0",
         "0",
         "0",
         "0"
        ],
        [
         "4",
         "ALBANY104ALBANYW12ED8",
         "123",
         "148",
         "0",
         "1",
         "11",
         "7"
        ],
        [
         "5",
         "ALBANY105ALBANYW13ED1",
         "50",
         "32",
         "0",
         "2",
         "4",
         "3"
        ],
        [
         "6",
         "ALBANY106ALBANYW13ED2",
         "84",
         "85",
         "0",
         "1",
         "6",
         "5"
        ],
        [
         "7",
         "ALBANY107ALBANYW13ED3",
         "113",
         "127",
         "1",
         "1",
         "8",
         "9"
        ],
        [
         "8",
         "ALBANY108ALBANYW13ED4",
         "76",
         "111",
         "0",
         "3",
         "11",
         "6"
        ],
        [
         "9",
         "ALBANY109ALBANYW13ED5",
         "90",
         "117",
         "0",
         "1",
         "7",
         "8"
        ],
        [
         "10",
         "ALBANY10ALBANYW1ED10",
         "4",
         "3",
         "0",
         "1",
         "0",
         "1"
        ],
        [
         "11",
         "ALBANY110ALBANYW13ED6",
         "63",
         "144",
         "1",
         "2",
         "4",
         "6"
        ],
        [
         "12",
         "ALBANY111ALBANYW13ED7",
         "0",
         "15",
         "0",
         "0",
         "1",
         "0"
        ],
        [
         "13",
         "ALBANY112ALBANYW14ED1",
         "91",
         "85",
         "1",
         "2",
         "7",
         "9"
        ],
        [
         "14",
         "ALBANY113ALBANYW14ED2",
         "153",
         "154",
         "0",
         "12",
         "4",
         "9"
        ],
        [
         "15",
         "ALBANY114ALBANYW14ED3",
         "127",
         "115",
         "0",
         "0",
         "0",
         "1"
        ],
        [
         "16",
         "ALBANY115ALBANYW14ED4",
         "144",
         "128",
         "0",
         "5",
         "12",
         "9"
        ],
        [
         "17",
         "ALBANY116ALBANYW14ED5",
         "137",
         "126",
         "0",
         "4",
         "11",
         "7"
        ],
        [
         "18",
         "ALBANY117ALBANYW14ED6",
         "124",
         "140",
         "0",
         "3",
         "5",
         "7"
        ],
        [
         "19",
         "ALBANY118ALBANYW14ED7",
         "128",
         "123",
         "0",
         "5",
         "8",
         "6"
        ],
        [
         "20",
         "ALBANY119ALBANYW14ED8",
         "68",
         "90",
         "0",
         "2",
         "3",
         "6"
        ],
        [
         "21",
         "ALBANY11ALBANYW2ED1",
         "95",
         "50",
         "0",
         "0",
         "0",
         "1"
        ],
        [
         "22",
         "ALBANY120ALBANYW14ED9",
         "10",
         "17",
         "0",
         "0",
         "1",
         "1"
        ],
        [
         "23",
         "ALBANY121ALBANYW15ED1",
         "20",
         "225",
         "2",
         "1",
         "6",
         "14"
        ],
        [
         "24",
         "ALBANY122ALBANYW15ED2",
         "4",
         "5",
         "0",
         "0",
         "1",
         "0"
        ],
        [
         "25",
         "ALBANY123ALBANYW15ED3",
         "64",
         "52",
         "0",
         "0",
         "3",
         "5"
        ],
        [
         "26",
         "ALBANY124ALBANYW15ED4",
         "71",
         "71",
         "0",
         "1",
         "2",
         "3"
        ],
        [
         "27",
         "ALBANY125ALBANYW15ED5",
         "107",
         "119",
         "0",
         "1",
         "2",
         "7"
        ],
        [
         "28",
         "ALBANY126ALBANYW15ED6",
         "51",
         "41",
         "1",
         "0",
         "1",
         "3"
        ],
        [
         "29",
         "ALBANY127ALBANYW15ED7",
         "116",
         "94",
         "0",
         "3",
         "5",
         "5"
        ],
        [
         "30",
         "ALBANY128COHOESW1ED1",
         "34",
         "52",
         "0",
         "0",
         "1",
         "5"
        ],
        [
         "31",
         "ALBANY129COHOESW1ED2",
         "46",
         "64",
         "0",
         "6",
         "4",
         "6"
        ],
        [
         "32",
         "ALBANY12ALBANYW2ED2",
         "39",
         "21",
         "0",
         "0",
         "1",
         "0"
        ],
        [
         "33",
         "ALBANY130COHOESW1ED3",
         "42",
         "58",
         "1",
         "3",
         "6",
         "10"
        ],
        [
         "34",
         "ALBANY131COHOESW2ED1",
         "46",
         "45",
         "0",
         "2",
         "3",
         "7"
        ],
        [
         "35",
         "ALBANY132COHOESW2ED2",
         "37",
         "57",
         "0",
         "3",
         "7",
         "10"
        ],
        [
         "36",
         "ALBANY133COHOESW2ED3",
         "16",
         "20",
         "0",
         "2",
         "0",
         "1"
        ],
        [
         "37",
         "ALBANY134COHOESW2ED4",
         "0",
         "0",
         "0",
         "0",
         "0",
         "0"
        ],
        [
         "38",
         "ALBANY135COHOESW2ED5",
         "0",
         "0",
         "0",
         "0",
         "0",
         "0"
        ],
        [
         "39",
         "ALBANY136COHOESW2ED6",
         "40",
         "17",
         "0",
         "2",
         "1",
         "2"
        ],
        [
         "40",
         "ALBANY137COHOESW3ED1",
         "68",
         "41",
         "0",
         "3",
         "2",
         "14"
        ],
        [
         "41",
         "ALBANY138COHOESW3ED2",
         "44",
         "41",
         "0",
         "3",
         "5",
         "4"
        ],
        [
         "42",
         "ALBANY139COHOESW3ED3",
         "47",
         "52",
         "0",
         "1",
         "1",
         "2"
        ],
        [
         "43",
         "ALBANY13ALBANYW2ED3",
         "38",
         "15",
         "0",
         "1",
         "0",
         "0"
        ],
        [
         "44",
         "ALBANY140COHOESW3ED4",
         "9",
         "12",
         "0",
         "1",
         "2",
         "1"
        ],
        [
         "45",
         "ALBANY141COHOESW4ED1",
         "44",
         "49",
         "0",
         "3",
         "1",
         "13"
        ],
        [
         "46",
         "ALBANY142COHOESW4ED2",
         "77",
         "73",
         "0",
         "6",
         "9",
         "18"
        ],
        [
         "47",
         "ALBANY143COHOESW4ED3",
         "14",
         "15",
         "0",
         "0",
         "0",
         "0"
        ],
        [
         "48",
         "ALBANY144COHOESW4ED4",
         "86",
         "135",
         "0",
         "11",
         "8",
         "20"
        ],
        [
         "49",
         "ALBANY145COHOESW5ED1",
         "44",
         "47",
         "0",
         "1",
         "3",
         "9"
        ]
       ],
       "shape": {
        "columns": 7,
        "rows": 5547
       }
      },
      "text/html": [
       "<div>\n",
       "<style scoped>\n",
       "    .dataframe tbody tr th:only-of-type {\n",
       "        vertical-align: middle;\n",
       "    }\n",
       "\n",
       "    .dataframe tbody tr th {\n",
       "        vertical-align: top;\n",
       "    }\n",
       "\n",
       "    .dataframe thead th {\n",
       "        text-align: right;\n",
       "    }\n",
       "</style>\n",
       "<table border=\"1\" class=\"dataframe\">\n",
       "  <thead>\n",
       "    <tr style=\"text-align: right;\">\n",
       "      <th>candidate_column</th>\n",
       "      <th>precinct</th>\n",
       "      <th>pri_dem_CLINTON</th>\n",
       "      <th>pri_dem_SANDERS</th>\n",
       "      <th>pri_rep_CARSON</th>\n",
       "      <th>pri_rep_CRUZ</th>\n",
       "      <th>pri_rep_KASICH</th>\n",
       "      <th>pri_rep_TRUMP</th>\n",
       "    </tr>\n",
       "  </thead>\n",
       "  <tbody>\n",
       "    <tr>\n",
       "      <th>0</th>\n",
       "      <td>ALBANY100ALBANYW12ED4</td>\n",
       "      <td>8</td>\n",
       "      <td>79</td>\n",
       "      <td>0</td>\n",
       "      <td>1</td>\n",
       "      <td>1</td>\n",
       "      <td>10</td>\n",
       "    </tr>\n",
       "    <tr>\n",
       "      <th>1</th>\n",
       "      <td>ALBANY101ALBANYW12ED5</td>\n",
       "      <td>90</td>\n",
       "      <td>87</td>\n",
       "      <td>1</td>\n",
       "      <td>5</td>\n",
       "      <td>7</td>\n",
       "      <td>4</td>\n",
       "    </tr>\n",
       "    <tr>\n",
       "      <th>2</th>\n",
       "      <td>ALBANY102ALBANYW12ED6</td>\n",
       "      <td>101</td>\n",
       "      <td>78</td>\n",
       "      <td>0</td>\n",
       "      <td>0</td>\n",
       "      <td>2</td>\n",
       "      <td>4</td>\n",
       "    </tr>\n",
       "    <tr>\n",
       "      <th>3</th>\n",
       "      <td>ALBANY103ALBANYW12ED7</td>\n",
       "      <td>0</td>\n",
       "      <td>0</td>\n",
       "      <td>0</td>\n",
       "      <td>0</td>\n",
       "      <td>0</td>\n",
       "      <td>0</td>\n",
       "    </tr>\n",
       "    <tr>\n",
       "      <th>4</th>\n",
       "      <td>ALBANY104ALBANYW12ED8</td>\n",
       "      <td>123</td>\n",
       "      <td>148</td>\n",
       "      <td>0</td>\n",
       "      <td>1</td>\n",
       "      <td>11</td>\n",
       "      <td>7</td>\n",
       "    </tr>\n",
       "    <tr>\n",
       "      <th>...</th>\n",
       "      <td>...</td>\n",
       "      <td>...</td>\n",
       "      <td>...</td>\n",
       "      <td>...</td>\n",
       "      <td>...</td>\n",
       "      <td>...</td>\n",
       "      <td>...</td>\n",
       "    </tr>\n",
       "    <tr>\n",
       "      <th>5542</th>\n",
       "      <td>RICHMOND=\"81/63\"</td>\n",
       "      <td>46</td>\n",
       "      <td>51</td>\n",
       "      <td>1</td>\n",
       "      <td>7</td>\n",
       "      <td>9</td>\n",
       "      <td>76</td>\n",
       "    </tr>\n",
       "    <tr>\n",
       "      <th>5543</th>\n",
       "      <td>RICHMOND=\"9/61\"</td>\n",
       "      <td>166</td>\n",
       "      <td>113</td>\n",
       "      <td>4</td>\n",
       "      <td>11</td>\n",
       "      <td>8</td>\n",
       "      <td>18</td>\n",
       "    </tr>\n",
       "    <tr>\n",
       "      <th>5544</th>\n",
       "      <td>RICHMOND=\"9/62\"</td>\n",
       "      <td>28</td>\n",
       "      <td>22</td>\n",
       "      <td>1</td>\n",
       "      <td>6</td>\n",
       "      <td>7</td>\n",
       "      <td>85</td>\n",
       "    </tr>\n",
       "    <tr>\n",
       "      <th>5545</th>\n",
       "      <td>RICHMOND=\"9/63\"</td>\n",
       "      <td>3</td>\n",
       "      <td>4</td>\n",
       "      <td>0</td>\n",
       "      <td>0</td>\n",
       "      <td>0</td>\n",
       "      <td>11</td>\n",
       "    </tr>\n",
       "    <tr>\n",
       "      <th>5546</th>\n",
       "      <td>RICHMOND=\"9/64\"</td>\n",
       "      <td>55</td>\n",
       "      <td>59</td>\n",
       "      <td>0</td>\n",
       "      <td>14</td>\n",
       "      <td>6</td>\n",
       "      <td>145</td>\n",
       "    </tr>\n",
       "  </tbody>\n",
       "</table>\n",
       "<p>5547 rows × 7 columns</p>\n",
       "</div>"
      ],
      "text/plain": [
       "candidate_column               precinct  pri_dem_CLINTON  pri_dem_SANDERS  \\\n",
       "0                 ALBANY100ALBANYW12ED4                8               79   \n",
       "1                 ALBANY101ALBANYW12ED5               90               87   \n",
       "2                 ALBANY102ALBANYW12ED6              101               78   \n",
       "3                 ALBANY103ALBANYW12ED7                0                0   \n",
       "4                 ALBANY104ALBANYW12ED8              123              148   \n",
       "...                                 ...              ...              ...   \n",
       "5542                   RICHMOND=\"81/63\"               46               51   \n",
       "5543                    RICHMOND=\"9/61\"              166              113   \n",
       "5544                    RICHMOND=\"9/62\"               28               22   \n",
       "5545                    RICHMOND=\"9/63\"                3                4   \n",
       "5546                    RICHMOND=\"9/64\"               55               59   \n",
       "\n",
       "candidate_column  pri_rep_CARSON  pri_rep_CRUZ  pri_rep_KASICH  pri_rep_TRUMP  \n",
       "0                              0             1               1             10  \n",
       "1                              1             5               7              4  \n",
       "2                              0             0               2              4  \n",
       "3                              0             0               0              0  \n",
       "4                              0             1              11              7  \n",
       "...                          ...           ...             ...            ...  \n",
       "5542                           1             7               9             76  \n",
       "5543                           4            11               8             18  \n",
       "5544                           1             6               7             85  \n",
       "5545                           0             0               0             11  \n",
       "5546                           0            14               6            145  \n",
       "\n",
       "[5547 rows x 7 columns]"
      ]
     },
     "execution_count": 60,
     "metadata": {},
     "output_type": "execute_result"
    }
   ],
   "source": [
    "primary_data.loc[:,\"candidate_column\"] = (\n",
    "    \"pri_\" +\n",
    "    primary_data[\"party\"].str.lower() + \"_\" +\n",
    "    primary_data[\"candidate\"]\n",
    ")\n",
    "\n",
    "# pivot the table\n",
    "primary_result = primary_data.pivot_table(\n",
    "    index=\"precinct\",\n",
    "    columns=\"candidate_column\",\n",
    "    values=\"votes\",\n",
    "    aggfunc=\"sum\",  \n",
    "    fill_value=0\n",
    ").reset_index()\n",
    "\n",
    "primary_result"
   ]
  },
  {
   "cell_type": "code",
   "execution_count": 61,
   "id": "f1ef9692",
   "metadata": {},
   "outputs": [
    {
     "name": "stderr",
     "output_type": "stream",
     "text": [
      "C:\\Users\\ADMIN\\AppData\\Local\\Temp\\ipykernel_22756\\3265044686.py:6: DtypeWarning: Columns (3) have mixed types. Specify dtype option on import or set low_memory=False.\n",
      "  df = pd.read_csv(file, on_bad_lines='skip')\n"
     ]
    },
    {
     "data": {
      "application/vnd.microsoft.datawrangler.viewer.v0+json": {
       "columns": [
        {
         "name": "index",
         "rawType": "int64",
         "type": "integer"
        },
        {
         "name": "county",
         "rawType": "object",
         "type": "string"
        },
        {
         "name": "precinct",
         "rawType": "object",
         "type": "string"
        },
        {
         "name": "office",
         "rawType": "object",
         "type": "string"
        },
        {
         "name": "district",
         "rawType": "object",
         "type": "unknown"
        },
        {
         "name": "candidate",
         "rawType": "object",
         "type": "string"
        },
        {
         "name": "party",
         "rawType": "object",
         "type": "unknown"
        },
        {
         "name": "votes",
         "rawType": "object",
         "type": "unknown"
        }
       ],
       "ref": "8c38d5ad-b761-4cfa-9835-c8ef36566dc5",
       "rows": [
        [
         "0",
         "ALBANY",
         "ALBANY=\"1ALBANYW1ED1\"",
         "President",
         null,
         "Hillary Clinton",
         "DEM",
         "39"
        ],
        [
         "1",
         "ALBANY",
         "ALBANY=\"2ALBANYW1ED2\"",
         "President",
         null,
         "Hillary Clinton",
         "DEM",
         "194"
        ],
        [
         "2",
         "ALBANY",
         "ALBANY=\"3ALBANYW1ED3\"",
         "President",
         null,
         "Hillary Clinton",
         "DEM",
         "294"
        ],
        [
         "3",
         "ALBANY",
         "ALBANY=\"4ALBANYW1ED4\"",
         "President",
         null,
         "Hillary Clinton",
         "DEM",
         "325"
        ],
        [
         "4",
         "ALBANY",
         "ALBANY=\"5ALBANYW1ED5\"",
         "President",
         null,
         "Hillary Clinton",
         "DEM",
         "6"
        ],
        [
         "5",
         "ALBANY",
         "ALBANY=\"6ALBANYW1ED6\"",
         "President",
         null,
         "Hillary Clinton",
         "DEM",
         "311"
        ],
        [
         "6",
         "ALBANY",
         "ALBANY=\"7ALBANYW1ED7\"",
         "President",
         null,
         "Hillary Clinton",
         "DEM",
         "302"
        ],
        [
         "7",
         "ALBANY",
         "ALBANY=\"8ALBANYW1ED8\"",
         "President",
         null,
         "Hillary Clinton",
         "DEM",
         "72"
        ],
        [
         "8",
         "ALBANY",
         "ALBANY=\"9ALBANYW1ED9\"",
         "President",
         null,
         "Hillary Clinton",
         "DEM",
         "272"
        ],
        [
         "9",
         "ALBANY",
         "ALBANY=\"10ALBANYW1ED10\"",
         "President",
         null,
         "Hillary Clinton",
         "DEM",
         "29"
        ],
        [
         "10",
         "ALBANY",
         "ALBANY=\"11ALBANYW2ED1\"",
         "President",
         null,
         "Hillary Clinton",
         "DEM",
         "306"
        ],
        [
         "11",
         "ALBANY",
         "ALBANY=\"12ALBANYW2ED2\"",
         "President",
         null,
         "Hillary Clinton",
         "DEM",
         "152"
        ],
        [
         "12",
         "ALBANY",
         "ALBANY=\"13ALBANYW2ED3\"",
         "President",
         null,
         "Hillary Clinton",
         "DEM",
         "145"
        ],
        [
         "13",
         "ALBANY",
         "ALBANY=\"14ALBANYW2ED4\"",
         "President",
         null,
         "Hillary Clinton",
         "DEM",
         "328"
        ],
        [
         "14",
         "ALBANY",
         "ALBANY=\"15ALBANYW2ED5\"",
         "President",
         null,
         "Hillary Clinton",
         "DEM",
         "223"
        ],
        [
         "15",
         "ALBANY",
         "ALBANY=\"16ALBANYW2ED6\"",
         "President",
         null,
         "Hillary Clinton",
         "DEM",
         "169"
        ],
        [
         "16",
         "ALBANY",
         "ALBANY=\"17ALBANYW2ED7\"",
         "President",
         null,
         "Hillary Clinton",
         "DEM",
         "3"
        ],
        [
         "17",
         "ALBANY",
         "ALBANY=\"18ALBANYW2ED8\"",
         "President",
         null,
         "Hillary Clinton",
         "DEM",
         "62"
        ],
        [
         "18",
         "ALBANY",
         "ALBANY=\"19ALBANYW2ED9\"",
         "President",
         null,
         "Hillary Clinton",
         "DEM",
         "208"
        ],
        [
         "19",
         "ALBANY",
         "ALBANY=\"20ALBANYW2ED10\"",
         "President",
         null,
         "Hillary Clinton",
         "DEM",
         "0"
        ],
        [
         "20",
         "ALBANY",
         "ALBANY=\"21ALBANYW3ED1\"",
         "President",
         null,
         "Hillary Clinton",
         "DEM",
         "262"
        ],
        [
         "21",
         "ALBANY",
         "ALBANY=\"22ALBANYW3ED2\"",
         "President",
         null,
         "Hillary Clinton",
         "DEM",
         "6"
        ],
        [
         "22",
         "ALBANY",
         "ALBANY=\"23ALBANYW3ED3\"",
         "President",
         null,
         "Hillary Clinton",
         "DEM",
         "10"
        ],
        [
         "23",
         "ALBANY",
         "ALBANY=\"24ALBANYW3ED4\"",
         "President",
         null,
         "Hillary Clinton",
         "DEM",
         "175"
        ],
        [
         "24",
         "ALBANY",
         "ALBANY=\"25ALBANYW3ED5\"",
         "President",
         null,
         "Hillary Clinton",
         "DEM",
         "127"
        ],
        [
         "25",
         "ALBANY",
         "ALBANY=\"26ALBANYW3ED6\"",
         "President",
         null,
         "Hillary Clinton",
         "DEM",
         "118"
        ],
        [
         "26",
         "ALBANY",
         "ALBANY=\"27ALBANYW3ED7\"",
         "President",
         null,
         "Hillary Clinton",
         "DEM",
         "248"
        ],
        [
         "27",
         "ALBANY",
         "ALBANY=\"28ALBANYW3ED8\"",
         "President",
         null,
         "Hillary Clinton",
         "DEM",
         "116"
        ],
        [
         "28",
         "ALBANY",
         "ALBANY=\"29ALBANYW3ED9\"",
         "President",
         null,
         "Hillary Clinton",
         "DEM",
         "42"
        ],
        [
         "29",
         "ALBANY",
         "ALBANY=\"30ALBANYW3ED10\"",
         "President",
         null,
         "Hillary Clinton",
         "DEM",
         "192"
        ],
        [
         "30",
         "ALBANY",
         "ALBANY=\"31ALBANYW4ED1\"",
         "President",
         null,
         "Hillary Clinton",
         "DEM",
         "200"
        ],
        [
         "31",
         "ALBANY",
         "ALBANY=\"32ALBANYW4ED2\"",
         "President",
         null,
         "Hillary Clinton",
         "DEM",
         "91"
        ],
        [
         "32",
         "ALBANY",
         "ALBANY=\"33ALBANYW4ED3\"",
         "President",
         null,
         "Hillary Clinton",
         "DEM",
         "267"
        ],
        [
         "33",
         "ALBANY",
         "ALBANY=\"34ALBANYW4ED4\"",
         "President",
         null,
         "Hillary Clinton",
         "DEM",
         "424"
        ],
        [
         "34",
         "ALBANY",
         "ALBANY=\"35ALBANYW4ED5\"",
         "President",
         null,
         "Hillary Clinton",
         "DEM",
         "326"
        ],
        [
         "35",
         "ALBANY",
         "ALBANY=\"36ALBANYW4ED6\"",
         "President",
         null,
         "Hillary Clinton",
         "DEM",
         "176"
        ],
        [
         "36",
         "ALBANY",
         "ALBANY=\"37ALBANYW5ED1\"",
         "President",
         null,
         "Hillary Clinton",
         "DEM",
         "216"
        ],
        [
         "37",
         "ALBANY",
         "ALBANY=\"38ALBANYW5ED2\"",
         "President",
         null,
         "Hillary Clinton",
         "DEM",
         "137"
        ],
        [
         "38",
         "ALBANY",
         "ALBANY=\"39ALBANYW5ED3\"",
         "President",
         null,
         "Hillary Clinton",
         "DEM",
         "192"
        ],
        [
         "39",
         "ALBANY",
         "ALBANY=\"40ALBANYW5ED4\"",
         "President",
         null,
         "Hillary Clinton",
         "DEM",
         "80"
        ],
        [
         "40",
         "ALBANY",
         "ALBANY=\"41ALBANYW5ED5\"",
         "President",
         null,
         "Hillary Clinton",
         "DEM",
         "435"
        ],
        [
         "41",
         "ALBANY",
         "ALBANY=\"42ALBANYW5ED6\"",
         "President",
         null,
         "Hillary Clinton",
         "DEM",
         "225"
        ],
        [
         "42",
         "ALBANY",
         "ALBANY=\"43ALBANYW5ED7\"",
         "President",
         null,
         "Hillary Clinton",
         "DEM",
         "210"
        ],
        [
         "43",
         "ALBANY",
         "ALBANY=\"44ALBANYW6ED1\"",
         "President",
         null,
         "Hillary Clinton",
         "DEM",
         "113"
        ],
        [
         "44",
         "ALBANY",
         "ALBANY=\"45ALBANYW6ED2\"",
         "President",
         null,
         "Hillary Clinton",
         "DEM",
         "143"
        ],
        [
         "45",
         "ALBANY",
         "ALBANY=\"46ALBANYW6ED3\"",
         "President",
         null,
         "Hillary Clinton",
         "DEM",
         "243"
        ],
        [
         "46",
         "ALBANY",
         "ALBANY=\"47ALBANYW6ED4\"",
         "President",
         null,
         "Hillary Clinton",
         "DEM",
         "418"
        ],
        [
         "47",
         "ALBANY",
         "ALBANY=\"48ALBANYW6ED5\"",
         "President",
         null,
         "Hillary Clinton",
         "DEM",
         "428"
        ],
        [
         "48",
         "ALBANY",
         "ALBANY=\"49ALBANYW6ED6\"",
         "President",
         null,
         "Hillary Clinton",
         "DEM",
         "243"
        ],
        [
         "49",
         "ALBANY",
         "ALBANY=\"50ALBANYW6ED7\"",
         "President",
         null,
         "Hillary Clinton",
         "DEM",
         "16"
        ]
       ],
       "shape": {
        "columns": 7,
        "rows": 80457
       }
      },
      "text/html": [
       "<div>\n",
       "<style scoped>\n",
       "    .dataframe tbody tr th:only-of-type {\n",
       "        vertical-align: middle;\n",
       "    }\n",
       "\n",
       "    .dataframe tbody tr th {\n",
       "        vertical-align: top;\n",
       "    }\n",
       "\n",
       "    .dataframe thead th {\n",
       "        text-align: right;\n",
       "    }\n",
       "</style>\n",
       "<table border=\"1\" class=\"dataframe\">\n",
       "  <thead>\n",
       "    <tr style=\"text-align: right;\">\n",
       "      <th></th>\n",
       "      <th>county</th>\n",
       "      <th>precinct</th>\n",
       "      <th>office</th>\n",
       "      <th>district</th>\n",
       "      <th>candidate</th>\n",
       "      <th>party</th>\n",
       "      <th>votes</th>\n",
       "    </tr>\n",
       "  </thead>\n",
       "  <tbody>\n",
       "    <tr>\n",
       "      <th>0</th>\n",
       "      <td>ALBANY</td>\n",
       "      <td>ALBANY=\"1ALBANYW1ED1\"</td>\n",
       "      <td>President</td>\n",
       "      <td>NaN</td>\n",
       "      <td>Hillary Clinton</td>\n",
       "      <td>DEM</td>\n",
       "      <td>39</td>\n",
       "    </tr>\n",
       "    <tr>\n",
       "      <th>1</th>\n",
       "      <td>ALBANY</td>\n",
       "      <td>ALBANY=\"2ALBANYW1ED2\"</td>\n",
       "      <td>President</td>\n",
       "      <td>NaN</td>\n",
       "      <td>Hillary Clinton</td>\n",
       "      <td>DEM</td>\n",
       "      <td>194</td>\n",
       "    </tr>\n",
       "    <tr>\n",
       "      <th>2</th>\n",
       "      <td>ALBANY</td>\n",
       "      <td>ALBANY=\"3ALBANYW1ED3\"</td>\n",
       "      <td>President</td>\n",
       "      <td>NaN</td>\n",
       "      <td>Hillary Clinton</td>\n",
       "      <td>DEM</td>\n",
       "      <td>294</td>\n",
       "    </tr>\n",
       "    <tr>\n",
       "      <th>3</th>\n",
       "      <td>ALBANY</td>\n",
       "      <td>ALBANY=\"4ALBANYW1ED4\"</td>\n",
       "      <td>President</td>\n",
       "      <td>NaN</td>\n",
       "      <td>Hillary Clinton</td>\n",
       "      <td>DEM</td>\n",
       "      <td>325</td>\n",
       "    </tr>\n",
       "    <tr>\n",
       "      <th>4</th>\n",
       "      <td>ALBANY</td>\n",
       "      <td>ALBANY=\"5ALBANYW1ED5\"</td>\n",
       "      <td>President</td>\n",
       "      <td>NaN</td>\n",
       "      <td>Hillary Clinton</td>\n",
       "      <td>DEM</td>\n",
       "      <td>6</td>\n",
       "    </tr>\n",
       "    <tr>\n",
       "      <th>...</th>\n",
       "      <td>...</td>\n",
       "      <td>...</td>\n",
       "      <td>...</td>\n",
       "      <td>...</td>\n",
       "      <td>...</td>\n",
       "      <td>...</td>\n",
       "      <td>...</td>\n",
       "    </tr>\n",
       "    <tr>\n",
       "      <th>80452</th>\n",
       "      <td>RICHMOND</td>\n",
       "      <td>RICHMOND=\"58/64\"</td>\n",
       "      <td>President</td>\n",
       "      <td>NYC</td>\n",
       "      <td>Absentee/Military</td>\n",
       "      <td>NaN</td>\n",
       "      <td>0</td>\n",
       "    </tr>\n",
       "    <tr>\n",
       "      <th>80453</th>\n",
       "      <td>RICHMOND</td>\n",
       "      <td>RICHMOND=\"59/64\"</td>\n",
       "      <td>President</td>\n",
       "      <td>NYC</td>\n",
       "      <td>Absentee/Military</td>\n",
       "      <td>NaN</td>\n",
       "      <td>0</td>\n",
       "    </tr>\n",
       "    <tr>\n",
       "      <th>80454</th>\n",
       "      <td>RICHMOND</td>\n",
       "      <td>RICHMOND=\"60/64\"</td>\n",
       "      <td>President</td>\n",
       "      <td>NYC</td>\n",
       "      <td>Absentee/Military</td>\n",
       "      <td>NaN</td>\n",
       "      <td>0</td>\n",
       "    </tr>\n",
       "    <tr>\n",
       "      <th>80455</th>\n",
       "      <td>RICHMOND</td>\n",
       "      <td>RICHMOND=\"61/64\"</td>\n",
       "      <td>President</td>\n",
       "      <td>NYC</td>\n",
       "      <td>Absentee/Military</td>\n",
       "      <td>NaN</td>\n",
       "      <td>0</td>\n",
       "    </tr>\n",
       "    <tr>\n",
       "      <th>80456</th>\n",
       "      <td>RICHMOND</td>\n",
       "      <td>RICHMOND=\"62/64\"</td>\n",
       "      <td>President</td>\n",
       "      <td>NYC</td>\n",
       "      <td>Absentee/Military</td>\n",
       "      <td>NaN</td>\n",
       "      <td>19</td>\n",
       "    </tr>\n",
       "  </tbody>\n",
       "</table>\n",
       "<p>80457 rows × 7 columns</p>\n",
       "</div>"
      ],
      "text/plain": [
       "         county               precinct     office district          candidate  \\\n",
       "0        ALBANY  ALBANY=\"1ALBANYW1ED1\"  President      NaN    Hillary Clinton   \n",
       "1        ALBANY  ALBANY=\"2ALBANYW1ED2\"  President      NaN    Hillary Clinton   \n",
       "2        ALBANY  ALBANY=\"3ALBANYW1ED3\"  President      NaN    Hillary Clinton   \n",
       "3        ALBANY  ALBANY=\"4ALBANYW1ED4\"  President      NaN    Hillary Clinton   \n",
       "4        ALBANY  ALBANY=\"5ALBANYW1ED5\"  President      NaN    Hillary Clinton   \n",
       "...         ...                    ...        ...      ...                ...   \n",
       "80452  RICHMOND       RICHMOND=\"58/64\"  President      NYC  Absentee/Military   \n",
       "80453  RICHMOND       RICHMOND=\"59/64\"  President      NYC  Absentee/Military   \n",
       "80454  RICHMOND       RICHMOND=\"60/64\"  President      NYC  Absentee/Military   \n",
       "80455  RICHMOND       RICHMOND=\"61/64\"  President      NYC  Absentee/Military   \n",
       "80456  RICHMOND       RICHMOND=\"62/64\"  President      NYC  Absentee/Military   \n",
       "\n",
       "      party votes  \n",
       "0       DEM    39  \n",
       "1       DEM   194  \n",
       "2       DEM   294  \n",
       "3       DEM   325  \n",
       "4       DEM     6  \n",
       "...     ...   ...  \n",
       "80452   NaN     0  \n",
       "80453   NaN     0  \n",
       "80454   NaN     0  \n",
       "80455   NaN     0  \n",
       "80456   NaN    19  \n",
       "\n",
       "[80457 rows x 7 columns]"
      ]
     },
     "execution_count": 61,
     "metadata": {},
     "output_type": "execute_result"
    }
   ],
   "source": [
    "# Process general files\n",
    "general_df_list = []\n",
    "\n",
    "for file in general_files:\n",
    "    try:\n",
    "        df = pd.read_csv(file, on_bad_lines='skip')\n",
    "        \n",
    "        # Combine precinct as county + precinct\n",
    "        df[\"precinct\"] = df[\"county\"].astype(str) + df[\"precinct\"].astype(str)\n",
    "        df[\"precinct\"] = df[\"precinct\"].str.upper()\n",
    "        df[\"county\"] = df[\"county\"].str.upper()\n",
    "\n",
    "        # Cleaning maybe total precinct\n",
    "        if 'precinct' in df.columns:\n",
    "            df['precinct'] = df['precinct'].astype(str)                  \n",
    "            df = df[df['precinct'].str.upper() != \"TOTAL\"]               \n",
    "            df = df[df['precinct'].str.strip().str.upper() != \"TOTAL\"]   \n",
    "            df = df[df['precinct'].str.upper() != \"NAN\"]                \n",
    "        \n",
    "        if 'county' in df.columns:\n",
    "            df['county'] = df['county'].astype(str)                  \n",
    "            df = df[df['county'].str.upper() != \"TOTAL\"]               \n",
    "            df = df[df['county'].str.strip().str.upper() != \"TOTAL\"]   \n",
    "            df = df[df['county'].str.upper() != \"NAN\"]       \n",
    "            df = df[~df['county'].str.upper().str.contains(r\"\\w*TOTAL\\w*\", na=False)]      \n",
    "            \n",
    "        # Filtering out only President \n",
    "        if 'office' in df.columns:\n",
    "            df = df[df[\"office\"] == \"President\"]\n",
    "        \n",
    "        # Dropping duplicates value\n",
    "        df = df.drop_duplicates()\n",
    "        \n",
    "        general_df_list.append(df)\n",
    "\n",
    "    except Exception as e:\n",
    "        print(f\"Error in {file}: {e}\")\n",
    "\n",
    "# Combine all cleaned files\n",
    "gen_combined_df = pd.concat(general_df_list, ignore_index=True)\n",
    "# Checking any suspicious precinct\n",
    "suspicious_precincts = gen_combined_df[\n",
    "    gen_combined_df[\"precinct\"].str.strip().str.upper().isin([\"TOTAL\", \"NAN\"])\n",
    "]\n",
    "gen_combined_df\n"
   ]
  },
  {
   "cell_type": "code",
   "execution_count": 62,
   "id": "1bbbd54d",
   "metadata": {},
   "outputs": [
    {
     "data": {
      "application/vnd.microsoft.datawrangler.viewer.v0+json": {
       "columns": [
        {
         "name": "index",
         "rawType": "int64",
         "type": "integer"
        },
        {
         "name": "precinct",
         "rawType": "object",
         "type": "string"
        },
        {
         "name": "party",
         "rawType": "object",
         "type": "unknown"
        },
        {
         "name": "candidate",
         "rawType": "object",
         "type": "string"
        },
        {
         "name": "votes",
         "rawType": "object",
         "type": "unknown"
        }
       ],
       "ref": "43c8cdfa-079d-4116-a481-85bd52689394",
       "rows": [
        [
         "0",
         "ALBANY=\"1ALBANYW1ED1\"",
         "DEM",
         "Hillary Clinton",
         "39"
        ],
        [
         "1",
         "ALBANY=\"2ALBANYW1ED2\"",
         "DEM",
         "Hillary Clinton",
         "194"
        ],
        [
         "2",
         "ALBANY=\"3ALBANYW1ED3\"",
         "DEM",
         "Hillary Clinton",
         "294"
        ],
        [
         "3",
         "ALBANY=\"4ALBANYW1ED4\"",
         "DEM",
         "Hillary Clinton",
         "325"
        ],
        [
         "4",
         "ALBANY=\"5ALBANYW1ED5\"",
         "DEM",
         "Hillary Clinton",
         "6"
        ],
        [
         "5",
         "ALBANY=\"6ALBANYW1ED6\"",
         "DEM",
         "Hillary Clinton",
         "311"
        ],
        [
         "6",
         "ALBANY=\"7ALBANYW1ED7\"",
         "DEM",
         "Hillary Clinton",
         "302"
        ],
        [
         "7",
         "ALBANY=\"8ALBANYW1ED8\"",
         "DEM",
         "Hillary Clinton",
         "72"
        ],
        [
         "8",
         "ALBANY=\"9ALBANYW1ED9\"",
         "DEM",
         "Hillary Clinton",
         "272"
        ],
        [
         "9",
         "ALBANY=\"10ALBANYW1ED10\"",
         "DEM",
         "Hillary Clinton",
         "29"
        ],
        [
         "10",
         "ALBANY=\"11ALBANYW2ED1\"",
         "DEM",
         "Hillary Clinton",
         "306"
        ],
        [
         "11",
         "ALBANY=\"12ALBANYW2ED2\"",
         "DEM",
         "Hillary Clinton",
         "152"
        ],
        [
         "12",
         "ALBANY=\"13ALBANYW2ED3\"",
         "DEM",
         "Hillary Clinton",
         "145"
        ],
        [
         "13",
         "ALBANY=\"14ALBANYW2ED4\"",
         "DEM",
         "Hillary Clinton",
         "328"
        ],
        [
         "14",
         "ALBANY=\"15ALBANYW2ED5\"",
         "DEM",
         "Hillary Clinton",
         "223"
        ],
        [
         "15",
         "ALBANY=\"16ALBANYW2ED6\"",
         "DEM",
         "Hillary Clinton",
         "169"
        ],
        [
         "16",
         "ALBANY=\"17ALBANYW2ED7\"",
         "DEM",
         "Hillary Clinton",
         "3"
        ],
        [
         "17",
         "ALBANY=\"18ALBANYW2ED8\"",
         "DEM",
         "Hillary Clinton",
         "62"
        ],
        [
         "18",
         "ALBANY=\"19ALBANYW2ED9\"",
         "DEM",
         "Hillary Clinton",
         "208"
        ],
        [
         "19",
         "ALBANY=\"20ALBANYW2ED10\"",
         "DEM",
         "Hillary Clinton",
         "0"
        ],
        [
         "20",
         "ALBANY=\"21ALBANYW3ED1\"",
         "DEM",
         "Hillary Clinton",
         "262"
        ],
        [
         "21",
         "ALBANY=\"22ALBANYW3ED2\"",
         "DEM",
         "Hillary Clinton",
         "6"
        ],
        [
         "22",
         "ALBANY=\"23ALBANYW3ED3\"",
         "DEM",
         "Hillary Clinton",
         "10"
        ],
        [
         "23",
         "ALBANY=\"24ALBANYW3ED4\"",
         "DEM",
         "Hillary Clinton",
         "175"
        ],
        [
         "24",
         "ALBANY=\"25ALBANYW3ED5\"",
         "DEM",
         "Hillary Clinton",
         "127"
        ],
        [
         "25",
         "ALBANY=\"26ALBANYW3ED6\"",
         "DEM",
         "Hillary Clinton",
         "118"
        ],
        [
         "26",
         "ALBANY=\"27ALBANYW3ED7\"",
         "DEM",
         "Hillary Clinton",
         "248"
        ],
        [
         "27",
         "ALBANY=\"28ALBANYW3ED8\"",
         "DEM",
         "Hillary Clinton",
         "116"
        ],
        [
         "28",
         "ALBANY=\"29ALBANYW3ED9\"",
         "DEM",
         "Hillary Clinton",
         "42"
        ],
        [
         "29",
         "ALBANY=\"30ALBANYW3ED10\"",
         "DEM",
         "Hillary Clinton",
         "192"
        ],
        [
         "30",
         "ALBANY=\"31ALBANYW4ED1\"",
         "DEM",
         "Hillary Clinton",
         "200"
        ],
        [
         "31",
         "ALBANY=\"32ALBANYW4ED2\"",
         "DEM",
         "Hillary Clinton",
         "91"
        ],
        [
         "32",
         "ALBANY=\"33ALBANYW4ED3\"",
         "DEM",
         "Hillary Clinton",
         "267"
        ],
        [
         "33",
         "ALBANY=\"34ALBANYW4ED4\"",
         "DEM",
         "Hillary Clinton",
         "424"
        ],
        [
         "34",
         "ALBANY=\"35ALBANYW4ED5\"",
         "DEM",
         "Hillary Clinton",
         "326"
        ],
        [
         "35",
         "ALBANY=\"36ALBANYW4ED6\"",
         "DEM",
         "Hillary Clinton",
         "176"
        ],
        [
         "36",
         "ALBANY=\"37ALBANYW5ED1\"",
         "DEM",
         "Hillary Clinton",
         "216"
        ],
        [
         "37",
         "ALBANY=\"38ALBANYW5ED2\"",
         "DEM",
         "Hillary Clinton",
         "137"
        ],
        [
         "38",
         "ALBANY=\"39ALBANYW5ED3\"",
         "DEM",
         "Hillary Clinton",
         "192"
        ],
        [
         "39",
         "ALBANY=\"40ALBANYW5ED4\"",
         "DEM",
         "Hillary Clinton",
         "80"
        ],
        [
         "40",
         "ALBANY=\"41ALBANYW5ED5\"",
         "DEM",
         "Hillary Clinton",
         "435"
        ],
        [
         "41",
         "ALBANY=\"42ALBANYW5ED6\"",
         "DEM",
         "Hillary Clinton",
         "225"
        ],
        [
         "42",
         "ALBANY=\"43ALBANYW5ED7\"",
         "DEM",
         "Hillary Clinton",
         "210"
        ],
        [
         "43",
         "ALBANY=\"44ALBANYW6ED1\"",
         "DEM",
         "Hillary Clinton",
         "113"
        ],
        [
         "44",
         "ALBANY=\"45ALBANYW6ED2\"",
         "DEM",
         "Hillary Clinton",
         "143"
        ],
        [
         "45",
         "ALBANY=\"46ALBANYW6ED3\"",
         "DEM",
         "Hillary Clinton",
         "243"
        ],
        [
         "46",
         "ALBANY=\"47ALBANYW6ED4\"",
         "DEM",
         "Hillary Clinton",
         "418"
        ],
        [
         "47",
         "ALBANY=\"48ALBANYW6ED5\"",
         "DEM",
         "Hillary Clinton",
         "428"
        ],
        [
         "48",
         "ALBANY=\"49ALBANYW6ED6\"",
         "DEM",
         "Hillary Clinton",
         "243"
        ],
        [
         "49",
         "ALBANY=\"50ALBANYW6ED7\"",
         "DEM",
         "Hillary Clinton",
         "16"
        ]
       ],
       "shape": {
        "columns": 4,
        "rows": 80457
       }
      },
      "text/html": [
       "<div>\n",
       "<style scoped>\n",
       "    .dataframe tbody tr th:only-of-type {\n",
       "        vertical-align: middle;\n",
       "    }\n",
       "\n",
       "    .dataframe tbody tr th {\n",
       "        vertical-align: top;\n",
       "    }\n",
       "\n",
       "    .dataframe thead th {\n",
       "        text-align: right;\n",
       "    }\n",
       "</style>\n",
       "<table border=\"1\" class=\"dataframe\">\n",
       "  <thead>\n",
       "    <tr style=\"text-align: right;\">\n",
       "      <th></th>\n",
       "      <th>precinct</th>\n",
       "      <th>party</th>\n",
       "      <th>candidate</th>\n",
       "      <th>votes</th>\n",
       "    </tr>\n",
       "  </thead>\n",
       "  <tbody>\n",
       "    <tr>\n",
       "      <th>0</th>\n",
       "      <td>ALBANY=\"1ALBANYW1ED1\"</td>\n",
       "      <td>DEM</td>\n",
       "      <td>Hillary Clinton</td>\n",
       "      <td>39</td>\n",
       "    </tr>\n",
       "    <tr>\n",
       "      <th>1</th>\n",
       "      <td>ALBANY=\"2ALBANYW1ED2\"</td>\n",
       "      <td>DEM</td>\n",
       "      <td>Hillary Clinton</td>\n",
       "      <td>194</td>\n",
       "    </tr>\n",
       "    <tr>\n",
       "      <th>2</th>\n",
       "      <td>ALBANY=\"3ALBANYW1ED3\"</td>\n",
       "      <td>DEM</td>\n",
       "      <td>Hillary Clinton</td>\n",
       "      <td>294</td>\n",
       "    </tr>\n",
       "    <tr>\n",
       "      <th>3</th>\n",
       "      <td>ALBANY=\"4ALBANYW1ED4\"</td>\n",
       "      <td>DEM</td>\n",
       "      <td>Hillary Clinton</td>\n",
       "      <td>325</td>\n",
       "    </tr>\n",
       "    <tr>\n",
       "      <th>4</th>\n",
       "      <td>ALBANY=\"5ALBANYW1ED5\"</td>\n",
       "      <td>DEM</td>\n",
       "      <td>Hillary Clinton</td>\n",
       "      <td>6</td>\n",
       "    </tr>\n",
       "    <tr>\n",
       "      <th>...</th>\n",
       "      <td>...</td>\n",
       "      <td>...</td>\n",
       "      <td>...</td>\n",
       "      <td>...</td>\n",
       "    </tr>\n",
       "    <tr>\n",
       "      <th>80452</th>\n",
       "      <td>RICHMOND=\"58/64\"</td>\n",
       "      <td>NaN</td>\n",
       "      <td>Absentee/Military</td>\n",
       "      <td>0</td>\n",
       "    </tr>\n",
       "    <tr>\n",
       "      <th>80453</th>\n",
       "      <td>RICHMOND=\"59/64\"</td>\n",
       "      <td>NaN</td>\n",
       "      <td>Absentee/Military</td>\n",
       "      <td>0</td>\n",
       "    </tr>\n",
       "    <tr>\n",
       "      <th>80454</th>\n",
       "      <td>RICHMOND=\"60/64\"</td>\n",
       "      <td>NaN</td>\n",
       "      <td>Absentee/Military</td>\n",
       "      <td>0</td>\n",
       "    </tr>\n",
       "    <tr>\n",
       "      <th>80455</th>\n",
       "      <td>RICHMOND=\"61/64\"</td>\n",
       "      <td>NaN</td>\n",
       "      <td>Absentee/Military</td>\n",
       "      <td>0</td>\n",
       "    </tr>\n",
       "    <tr>\n",
       "      <th>80456</th>\n",
       "      <td>RICHMOND=\"62/64\"</td>\n",
       "      <td>NaN</td>\n",
       "      <td>Absentee/Military</td>\n",
       "      <td>19</td>\n",
       "    </tr>\n",
       "  </tbody>\n",
       "</table>\n",
       "<p>80457 rows × 4 columns</p>\n",
       "</div>"
      ],
      "text/plain": [
       "                    precinct party          candidate votes\n",
       "0      ALBANY=\"1ALBANYW1ED1\"   DEM    Hillary Clinton    39\n",
       "1      ALBANY=\"2ALBANYW1ED2\"   DEM    Hillary Clinton   194\n",
       "2      ALBANY=\"3ALBANYW1ED3\"   DEM    Hillary Clinton   294\n",
       "3      ALBANY=\"4ALBANYW1ED4\"   DEM    Hillary Clinton   325\n",
       "4      ALBANY=\"5ALBANYW1ED5\"   DEM    Hillary Clinton     6\n",
       "...                      ...   ...                ...   ...\n",
       "80452       RICHMOND=\"58/64\"   NaN  Absentee/Military     0\n",
       "80453       RICHMOND=\"59/64\"   NaN  Absentee/Military     0\n",
       "80454       RICHMOND=\"60/64\"   NaN  Absentee/Military     0\n",
       "80455       RICHMOND=\"61/64\"   NaN  Absentee/Military     0\n",
       "80456       RICHMOND=\"62/64\"   NaN  Absentee/Military    19\n",
       "\n",
       "[80457 rows x 4 columns]"
      ]
     },
     "execution_count": 62,
     "metadata": {},
     "output_type": "execute_result"
    }
   ],
   "source": [
    "# Select only the relevant columns\n",
    "general_data = gen_combined_df[[\"precinct\", \"party\", \"candidate\", \"votes\"]]\n",
    "\n",
    "general_data"
   ]
  },
  {
   "cell_type": "code",
   "execution_count": 63,
   "id": "38fba0f1",
   "metadata": {},
   "outputs": [
    {
     "name": "stderr",
     "output_type": "stream",
     "text": [
      "C:\\Users\\ADMIN\\AppData\\Local\\Temp\\ipykernel_22756\\1743146100.py:2: SettingWithCopyWarning: \n",
      "A value is trying to be set on a copy of a slice from a DataFrame.\n",
      "Try using .loc[row_indexer,col_indexer] = value instead\n",
      "\n",
      "See the caveats in the documentation: https://pandas.pydata.org/pandas-docs/stable/user_guide/indexing.html#returning-a-view-versus-a-copy\n",
      "  general_data[\"candidate\"] = general_data[\"candidate\"].astype(str).str.upper()\n"
     ]
    },
    {
     "data": {
      "application/vnd.microsoft.datawrangler.viewer.v0+json": {
       "columns": [
        {
         "name": "candidate",
         "rawType": "object",
         "type": "string"
        },
        {
         "name": "count",
         "rawType": "int64",
         "type": "integer"
        }
       ],
       "ref": "51c766b8-9923-44c7-bac2-b6dd557c59e5",
       "rows": [
        [
         "MANUALLY COUNTED EMERGENCY",
         "5456"
        ],
        [
         "ABSENTEE / MILITARY",
         "5456"
        ],
        [
         "FEDERAL",
         "5456"
        ],
        [
         "SPECIAL PRESIDENTIAL",
         "5456"
        ],
        [
         "AFFIDAVIT",
         "5456"
        ],
        [
         "JILL STEIN / AJAMU BARAKA (GREEN)",
         "5346"
        ],
        [
         "GARY JOHNSON / BILL WELD (INDEPENDENCE)",
         "5346"
        ],
        [
         "GARY JOHNSON / BILL WELD (LIBERTARIAN)",
         "5346"
        ],
        [
         "HILLARY CLINTON / TIM KAINE (DEMOCRATIC)",
         "5346"
        ],
        [
         "DONALD J. TRUMP / MICHAEL R. PENCE (REPUBLICAN)",
         "5346"
        ],
        [
         "DONALD J. TRUMP / MICHAEL R. PENCE (CONSERVATIVE)",
         "5346"
        ],
        [
         "HILLARY CLINTON / TIM KAINE (WOMEN'S EQUALITY)",
         "5346"
        ],
        [
         "HILLARY CLINTON / TIM KAINE (WORKING FAMILIES)",
         "5346"
        ],
        [
         "SCATTERED",
         "4237"
        ],
        [
         "ABSENTEE/MILITARY",
         "2978"
        ],
        [
         "HILLARY CLINTON",
         "951"
        ],
        [
         "DONALD TRUMP",
         "634"
        ],
        [
         "GARY JOHNSON",
         "634"
        ],
        [
         "WRITE-INS",
         "317"
        ],
        [
         "JILL STEIN",
         "317"
        ],
        [
         "HILLARY CLINTON / TIM KAINE",
         "93"
        ],
        [
         "DONALD TRUMP / MIKE PENCE",
         "62"
        ],
        [
         "GARY JOHNSON / BILL WELD",
         "62"
        ],
        [
         "JILL STEIN / AJAMU BARAKA",
         "31"
        ],
        [
         "WRITE-IN",
         "31"
        ],
        [
         "BLANKS",
         "31"
        ],
        [
         "VOID",
         "31"
        ]
       ],
       "shape": {
        "columns": 1,
        "rows": 27
       }
      },
      "text/plain": [
       "candidate\n",
       "MANUALLY COUNTED EMERGENCY                           5456\n",
       "ABSENTEE / MILITARY                                  5456\n",
       "FEDERAL                                              5456\n",
       "SPECIAL PRESIDENTIAL                                 5456\n",
       "AFFIDAVIT                                            5456\n",
       "JILL STEIN / AJAMU BARAKA (GREEN)                    5346\n",
       "GARY JOHNSON / BILL WELD (INDEPENDENCE)              5346\n",
       "GARY JOHNSON / BILL WELD (LIBERTARIAN)               5346\n",
       "HILLARY CLINTON / TIM KAINE (DEMOCRATIC)             5346\n",
       "DONALD J. TRUMP / MICHAEL R. PENCE (REPUBLICAN)      5346\n",
       "DONALD J. TRUMP / MICHAEL R. PENCE (CONSERVATIVE)    5346\n",
       "HILLARY CLINTON / TIM KAINE (WOMEN'S EQUALITY)       5346\n",
       "HILLARY CLINTON / TIM KAINE (WORKING FAMILIES)       5346\n",
       "SCATTERED                                            4237\n",
       "ABSENTEE/MILITARY                                    2978\n",
       "HILLARY CLINTON                                       951\n",
       "DONALD TRUMP                                          634\n",
       "GARY JOHNSON                                          634\n",
       "WRITE-INS                                             317\n",
       "JILL STEIN                                            317\n",
       "HILLARY CLINTON / TIM KAINE                            93\n",
       "DONALD TRUMP / MIKE PENCE                              62\n",
       "GARY JOHNSON / BILL WELD                               62\n",
       "JILL STEIN / AJAMU BARAKA                              31\n",
       "WRITE-IN                                               31\n",
       "BLANKS                                                 31\n",
       "VOID                                                   31\n",
       "Name: count, dtype: int64"
      ]
     },
     "execution_count": 63,
     "metadata": {},
     "output_type": "execute_result"
    }
   ],
   "source": [
    "# Viewing candidate data\n",
    "general_data[\"candidate\"] = general_data[\"candidate\"].astype(str).str.upper()\n",
    "general_data[\"candidate\"].value_counts(dropna=False)"
   ]
  },
  {
   "cell_type": "code",
   "execution_count": 64,
   "id": "90417a20",
   "metadata": {},
   "outputs": [
    {
     "name": "stderr",
     "output_type": "stream",
     "text": [
      "C:\\Users\\ADMIN\\AppData\\Local\\Temp\\ipykernel_22756\\908160553.py:4: SettingWithCopyWarning: \n",
      "A value is trying to be set on a copy of a slice from a DataFrame.\n",
      "Try using .loc[row_indexer,col_indexer] = value instead\n",
      "\n",
      "See the caveats in the documentation: https://pandas.pydata.org/pandas-docs/stable/user_guide/indexing.html#returning-a-view-versus-a-copy\n",
      "  general_data[\"candidate\"] = general_data[\"candidate\"].astype(str).str.upper()\n",
      "C:\\Users\\ADMIN\\AppData\\Local\\Temp\\ipykernel_22756\\908160553.py:55: UserWarning: This pattern is interpreted as a regular expression, and has match groups. To actually get the groups, use str.extract.\n",
      "  general_data = general_data[~general_data[\"candidate\"].str.upper().str.contains(pattern, regex=True, na=False)]\n",
      "C:\\Users\\ADMIN\\AppData\\Local\\Temp\\ipykernel_22756\\908160553.py:87: UserWarning: This pattern is interpreted as a regular expression, and has match groups. To actually get the groups, use str.extract.\n",
      "  general_data = general_data[~general_data[\"candidate\"].str.upper().str.contains(pattern, regex=True, na=False)]\n"
     ]
    },
    {
     "data": {
      "application/vnd.microsoft.datawrangler.viewer.v0+json": {
       "columns": [
        {
         "name": "candidate",
         "rawType": "object",
         "type": "string"
        },
        {
         "name": "count",
         "rawType": "int64",
         "type": "integer"
        }
       ],
       "ref": "108bbdfa-7c7a-4209-85a9-9b2096f92919",
       "rows": [
        [
         "CLINTON",
         "17082"
        ],
        [
         "TRUMP",
         "11388"
        ],
        [
         "JOHNSON",
         "11388"
        ],
        [
         "STEIN",
         "5694"
        ]
       ],
       "shape": {
        "columns": 1,
        "rows": 4
       }
      },
      "text/plain": [
       "candidate\n",
       "CLINTON    17082\n",
       "TRUMP      11388\n",
       "JOHNSON    11388\n",
       "STEIN       5694\n",
       "Name: count, dtype: int64"
      ]
     },
     "execution_count": 64,
     "metadata": {},
     "output_type": "execute_result"
    }
   ],
   "source": [
    "# Cleaning Candidates\n",
    "\n",
    "# Turning all general data to uppercase\n",
    "general_data[\"candidate\"] = general_data[\"candidate\"].astype(str).str.upper()\n",
    "\n",
    "\n",
    "unwanted_keywords = [\n",
    "    \"BVS\",\n",
    "    \"ABSENTEE\",\n",
    "    \"MANUALLY COUNTED EMERGENCY\",\n",
    "    \"FEDERAL\",\n",
    "    \"SPECIAL PRESIDENTIAL\",\n",
    "    \"AFFIDAVIT\",\n",
    "    \"r\\w*ABSENTEE\\w*\",\n",
    "    \"r\\w*SCATT\\w*\",\n",
    "    \"NO BODY\",\n",
    "    \"NEITHER\"\n",
    "    \"NO CONFIDENCE\",\n",
    "    \"MARTIN LUTHER KING JR.\",\n",
    "    \"MICKEY MOUSE\",\n",
    "    \"LITTERALLY ANYONE ELSE\",\n",
    "    \"LORI A TREAT\",\n",
    "    \"ABRAHAM LINCOLN\",\n",
    "    \"ANONYMOUS\",\n",
    "    \"GEORGE WASHINGTON\",\n",
    "    \"DO OVER\",\n",
    "    \"POPE FRANCIS\"\n",
    "    r\"\\w*VOTE\\w*\",                 # VOTE, VOTES\n",
    "    r\"\\bUNCOM\\w*\\b\",                 # UNCOMMITTED, UNCOM\n",
    "    r\"\\bTOTAL(S)?\\b\",                # TOTAL, TOTALS\n",
    "    r\"\\w*WRITE[- ]?IN\\w*\\b\",         # WRITE-IN, WRITE-INS, WRITE INS\n",
    "    r\"\\bSCATTER(ING|INGS)?\\b\",       # SCATTERING, SCATTERINGS\n",
    "    r\"\\bOVER VOTE(S)?\\b\",            # OVER VOTE, OVER VOTES\n",
    "    r\"\\bUNDER VOTE(S)?\\b\",           # UNDER VOTE, UNDER VOTES\n",
    "    r\"\\bSPECIAL VOTE(S)?\\b\",         # SPECIAL VOTE, SPECIAL VOTES\n",
    "    r\"\\bBLANK(S)?\\b\",                # BLANK, BLANKS\n",
    "    r\"\\bBLANK/OVER VOTE(S)?\\b\",      # BLANK/OVER VOTE, BLANK/OVER VOTES\n",
    "    r\"\\bVOID(S)?\\b\",                 # VOID, VOIDS\n",
    "    r\"\\bUNQUALIFIED WRITE[- ]?IN(S)?\\b\",  # UNQUALIFIED WRITE-IN(S)\n",
    "    r\"\\bBALLOT(S)? CAST\\b\",          # BALLOTS CAST\n",
    "    r\"\\bNONE OF (THE )?ABOVE\\b\",     # NONE OF THE ABOVE, NONE OF ABOVE\n",
    "    r\"\\bANONYMOUS\\b\",                # ANONYMOUS\n",
    "    r\"\\bSCATTERED\\b\",                # SCATTERED\n",
    "    r\"\\bOVER AND UNDER VOTE(S)?\\b\",  # OVER AND UNDER VOTES\n",
    "    r\"\\bUNCERTIFIED\\b\",              # UNCERTIFIED\n",
    "    r\"\\bUNVERIFIED\\b\",               # UNVERIFIED\n",
    "    r\"\\bLBT\\b\",                      # LBT\n",
    "    r\"\\bDEM\\b\",                      # DEM\n",
    "    r\"\\bREP\\b\",                      # REP\n",
    "    r\"\\bGRN\\b\",                      # GRN\n",
    "    r\"\\bBVS\\b\",                      # BVS\n",
    "]\n",
    "pattern = \"|\".join(unwanted_keywords)\n",
    "# then filter:\n",
    "general_data = general_data[~general_data[\"candidate\"].str.upper().str.contains(pattern, regex=True, na=False)]\n",
    "\n",
    "# Fixing FUENTE\n",
    "general_data.loc[\n",
    "    general_data[\"candidate\"].str.contains(\"\\w*FUENTE\\w*\", case=False, na=False),\n",
    "    \"candidate\"\n",
    "] = \"FUENTE\"\n",
    "\n",
    "general_data.loc[\n",
    "    general_data[\"candidate\"].str.contains(\"\\w*CHRISTLEY\\w*\", case=False, na=False),\n",
    "    \"candidate\"\n",
    "] = \"CHRISTIE\"\n",
    "\n",
    "# Fixing FUENTE\n",
    "general_data.loc[\n",
    "    general_data[\"candidate\"].str.contains(\"\\w*BAZZARI\\w*\", case=False, na=False),\n",
    "    \"candidate\"\n",
    "] = \"BAZZARI\"\n",
    "\n",
    "general_data.loc[\n",
    "    general_data[\"candidate\"].str.contains(\"\\w*CHRISTY\\w*\", case=False, na=False),\n",
    "    \"candidate\"\n",
    "] = \"CHRISTIE\"\n",
    "\n",
    "# Fixing MCCAIN\n",
    "general_data.loc[\n",
    "    general_data[\"candidate\"].str.contains(\"\\w*MCCA\\w*\", case=False, na=False),\n",
    "    \"candidate\"\n",
    "] = \"FUENTE\"\n",
    "pattern = \"|\".join(unwanted_keywords)\n",
    "\n",
    "# FILTER OUT TRASH WORDS\n",
    "general_data = general_data[~general_data[\"candidate\"].str.upper().str.contains(pattern, regex=True, na=False)]\n",
    "\n",
    "# # Fixing Darrell Castle\"\n",
    "# general_data.loc[\n",
    "#     general_data[\"candidate\"].str.contains(\"\\w*ASTLE\\w*\", case=False, na=False),\n",
    "#     \"candidate\"\n",
    "# ] = \"CASTLE\"\n",
    "\n",
    "general_data.loc[\n",
    "    general_data[\"candidate\"].str.contains(\"\\w*ATUREN\\w*\", case=False, na=False),\n",
    "    \"candidate\"\n",
    "] = \"MATUREN\"\n",
    "\n",
    "general_data.loc[\n",
    "    general_data[\"candidate\"].str.contains(\"\\w*OLTYSIK\\w*\", case=False, na=False),\n",
    "    \"candidate\"\n",
    "] = \"SOLTYSIK\"\n",
    "\n",
    "general_data.loc[\n",
    "    general_data[\"candidate\"].str.contains(\"\\w*MALDONADO\\w*\", case=False, na=False),\n",
    "    \"candidate\"\n",
    "] = \"MALDONADO\"\n",
    "\n",
    "# Fixing mixed president + vice_president by /\n",
    "general_data[\"candidate\"] = (\n",
    "    general_data[\"candidate\"].str.split(\"/\")\n",
    "    .str[0]\n",
    "    .str.strip()\n",
    "    )\n",
    "\n",
    "# #Selecting only last name\n",
    "# general_data[\"candidate\"] = general_data[\"candidate\"].str.split().str[-1]\n",
    "\n",
    "# Fixing the & candidate\n",
    "# general_data[\"candidate\"] = (\n",
    "#     general_data[\"candidate\"].str.split(\"/\")\n",
    "#     .str[0]\n",
    "#     .str.strip()\n",
    "#     )\n",
    "\n",
    "\n",
    "\n",
    "\n",
    "# # Fixing Cubbler\n",
    "# general_data.loc[\n",
    "#     ( \n",
    "#         general_data[\"candidate\"].str.contains(\"\\w*UBBIER\\w*\", case=False, na=False)|\n",
    "#         general_data[\"candidate\"].str.contains(\"\\w*UBLER\\w*\", case=False, na=False)|\n",
    "#         general_data[\"candidate\"].str.contains(\"\\w*OBBLER\\w*\", case=False, na=False),\n",
    "#     \"candidate\")\n",
    "# ] = \"CUBBLER\"\n",
    "\n",
    "\n",
    "# Fixing Kotlikoff\n",
    "general_data.loc[\n",
    "    general_data[\"candidate\"].str.contains(\"\\w*LIKOFF\\w*\", case=False, na=False),\n",
    "    \"candidate\"\n",
    "] = \"KOTLIKOFF\"\n",
    "\n",
    "# Fixing Valdivia\n",
    "general_data.loc[\n",
    "    general_data[\"candidate\"].str.contains(\"\\w*KENISTON\\W*\", case=False, na=False),\n",
    "    \"candidate\"\n",
    "] = \"KENISTON\"\n",
    "\n",
    "# Fixing HOEFLING\n",
    "general_data.loc[(\n",
    "    general_data[\"candidate\"].str.contains(\"\\w*HOEF\\w*\", case=False, na=False),\n",
    "    \"candidate\")\n",
    "] = \"HOEFLING\"\n",
    "\n",
    "\n",
    "general_data.loc[\n",
    "    general_data[\"candidate\"].str.contains(\"\\w*SCHOENKE\", case=False, na=False),\n",
    "    \"candidate\"\n",
    "] = \"SCHOENKE\"\n",
    "\n",
    "\n",
    "# Fixing McMullin\n",
    "general_data.loc[\n",
    "    general_data[\"candidate\"].str.contains(\"MCMULLIN\", case=False, na=False) ,\n",
    "    \"candidate\"\n",
    "] = \"MCMULLIN\"\n",
    "\n",
    "general_data.loc[\n",
    "    general_data[\"candidate\"].str.contains(\"FOX\", case=False, na=False) ,\n",
    "    \"candidate\"\n",
    "] = \"FOX\"\n",
    "\n",
    "# Fixing LASTNAME + First name Initial\n",
    "# general_data.loc[:,\"candidate\"] = (\n",
    "#     general_data[\"candidate\"].str.split().str[0].str.upper()\n",
    "# )\n",
    "\n",
    "\n",
    "# #Selecting only last name\n",
    "general_data[\"candidate\"] = general_data[\"candidate\"].str.split().str[-1]\n",
    "\n",
    "general_data[\"candidate\"].value_counts(dropna=False)"
   ]
  },
  {
   "cell_type": "code",
   "execution_count": 65,
   "id": "a22405a6",
   "metadata": {},
   "outputs": [
    {
     "data": {
      "application/vnd.microsoft.datawrangler.viewer.v0+json": {
       "columns": [
        {
         "name": "party",
         "rawType": "object",
         "type": "string"
        },
        {
         "name": "count",
         "rawType": "int64",
         "type": "integer"
        }
       ],
       "ref": "47b5d025-970d-4748-94b0-5bfca05b81c3",
       "rows": [
        [
         "Democratic",
         "5377"
        ],
        [
         "Republican",
         "5377"
        ],
        [
         "Conservative",
         "5377"
        ],
        [
         "Green",
         "5377"
        ],
        [
         "Working Families",
         "5377"
        ],
        [
         "Independence",
         "5377"
        ],
        [
         "Women's Equality",
         "5377"
        ],
        [
         "Libertarian",
         "5377"
        ],
        [
         "DEM",
         "317"
        ],
        [
         "REP",
         "317"
        ],
        [
         "CON",
         "317"
        ],
        [
         "GRN",
         "317"
        ],
        [
         "WOR",
         "317"
        ],
        [
         "IND",
         "317"
        ],
        [
         "WEP",
         "317"
        ],
        [
         "LIB",
         "317"
        ]
       ],
       "shape": {
        "columns": 1,
        "rows": 16
       }
      },
      "text/plain": [
       "party\n",
       "Democratic          5377\n",
       "Republican          5377\n",
       "Conservative        5377\n",
       "Green               5377\n",
       "Working Families    5377\n",
       "Independence        5377\n",
       "Women's Equality    5377\n",
       "Libertarian         5377\n",
       "DEM                  317\n",
       "REP                  317\n",
       "CON                  317\n",
       "GRN                  317\n",
       "WOR                  317\n",
       "IND                  317\n",
       "WEP                  317\n",
       "LIB                  317\n",
       "Name: count, dtype: int64"
      ]
     },
     "execution_count": 65,
     "metadata": {},
     "output_type": "execute_result"
    }
   ],
   "source": [
    "# Viewing Party\n",
    "general_data[\"party\"].value_counts(dropna=False)"
   ]
  },
  {
   "cell_type": "code",
   "execution_count": 66,
   "id": "21d7595b",
   "metadata": {},
   "outputs": [
    {
     "data": {
      "application/vnd.microsoft.datawrangler.viewer.v0+json": {
       "columns": [
        {
         "name": "party",
         "rawType": "object",
         "type": "string"
        },
        {
         "name": "count",
         "rawType": "int64",
         "type": "integer"
        }
       ],
       "ref": "e0e670a9-6d54-4c89-b3a6-0c508d1a7047",
       "rows": [
        [
         "Democratic",
         "5377"
        ],
        [
         "Republican",
         "5377"
        ],
        [
         "Conservative",
         "5377"
        ],
        [
         "Green",
         "5377"
        ],
        [
         "Working Families",
         "5377"
        ],
        [
         "Independence",
         "5377"
        ],
        [
         "Women's Equality",
         "5377"
        ],
        [
         "Libertarian",
         "5377"
        ],
        [
         "DEM",
         "317"
        ],
        [
         "REP",
         "317"
        ],
        [
         "CON",
         "317"
        ],
        [
         "GRN",
         "317"
        ],
        [
         "WOR",
         "317"
        ],
        [
         "IND",
         "317"
        ],
        [
         "WEP",
         "317"
        ],
        [
         "LIB",
         "317"
        ]
       ],
       "shape": {
        "columns": 1,
        "rows": 16
       }
      },
      "text/plain": [
       "party\n",
       "Democratic          5377\n",
       "Republican          5377\n",
       "Conservative        5377\n",
       "Green               5377\n",
       "Working Families    5377\n",
       "Independence        5377\n",
       "Women's Equality    5377\n",
       "Libertarian         5377\n",
       "DEM                  317\n",
       "REP                  317\n",
       "CON                  317\n",
       "GRN                  317\n",
       "WOR                  317\n",
       "IND                  317\n",
       "WEP                  317\n",
       "LIB                  317\n",
       "Name: count, dtype: int64"
      ]
     },
     "execution_count": 66,
     "metadata": {},
     "output_type": "execute_result"
    }
   ],
   "source": [
    "#=====================================\n",
    "# This function is used to look up party\n",
    "# for the candidate in the same df\n",
    "#=====================================\n",
    "def fill_party_from_data(row, df):\n",
    "    if pd.notna(row[\"party\"]):\n",
    "        return row[\"party\"]\n",
    "    \n",
    "    # Try to find other rows with the same candidate and known party\n",
    "    matches = df[(df[\"candidate\"] == row[\"candidate\"]) & (df[\"party\"].notna())]\n",
    "    if not matches.empty:\n",
    "        return matches[\"party\"].iloc[0]  # Return the first match's party\n",
    "    else:\n",
    "        return None  # Still unknown\n",
    "    \n",
    "\n",
    "#=====================================\n",
    "# Function to fill remaining missing party from master lookup\n",
    "#=====================================\n",
    "def fill_party_from_master(df, master_df):\n",
    "    party_map = master_df.set_index(\"candidate\")[\"party\"].to_dict()\n",
    "    df[\"party\"] = df.apply(\n",
    "        lambda row: party_map.get(row[\"candidate\"], row[\"party\"])\n",
    "        if pd.isna(row[\"party\"]) else row[\"party\"],\n",
    "        axis=1\n",
    "    )\n",
    "    return df\n",
    "\n",
    "\n",
    "#=====================================\n",
    "# Function to update the master candidate-party CSV\n",
    "#=====================================\n",
    "def update_master_candidate_party(df, master_path):\n",
    "    # Read the existing master file\n",
    "    master_df = pd.read_csv(master_path)\n",
    "\n",
    "    # Filter and combine only known party entries (exclude 'UNK')\n",
    "    new_data = (\n",
    "        df[[\"candidate\", \"party\"]]\n",
    "        .dropna()\n",
    "        .query('party != \"UNK\"')\n",
    "        .drop_duplicates()\n",
    "    )\n",
    "\n",
    "    # Merge with master and remove duplicates by candidate\n",
    "    updated_master = pd.concat([master_df, new_data]).drop_duplicates(subset=\"candidate\")\n",
    "\n",
    "    # Save updated version\n",
    "    updated_master.to_csv(master_path, index=False)\n",
    "\n",
    "\n",
    "#=====================================\n",
    "# Example usage (uncomment and modify for your workflow)\n",
    "#=====================================\n",
    "# Fill party using internal data\n",
    "# general_data[\"party\"] = general_data.apply(\n",
    "#     lambda row: fill_party_from_data(row, general_data),\n",
    "#     axis=1\n",
    "# )\n",
    "\n",
    "# # Fill remaining party using general master CSV\n",
    "# master_party_df = pd.read_csv(r\"C:\\Huy Phan\\College\\VoterTurnout\\data\\cleaned_data\\gen_can_party.csv\") # USE YOUR OWN ADDRESS\n",
    "# general_data = fill_party_from_master(general_data, master_party_df)\n",
    "general_data[\"party\"].value_counts(dropna=False)\n"
   ]
  },
  {
   "cell_type": "code",
   "execution_count": 67,
   "id": "8bb5d275",
   "metadata": {},
   "outputs": [
    {
     "data": {
      "application/vnd.microsoft.datawrangler.viewer.v0+json": {
       "columns": [
        {
         "name": "party",
         "rawType": "object",
         "type": "string"
        },
        {
         "name": "count",
         "rawType": "int64",
         "type": "integer"
        }
       ],
       "ref": "e2545108-3e42-4a53-aae2-53da3f169466",
       "rows": [
        [
         "DEM",
         "16448"
        ],
        [
         "REP",
         "11071"
        ],
        [
         "GRN",
         "5694"
        ],
        [
         "IND",
         "5694"
        ],
        [
         "LIB",
         "5694"
        ],
        [
         "CON",
         "317"
        ],
        [
         "WOR",
         "317"
        ],
        [
         "WEP",
         "317"
        ]
       ],
       "shape": {
        "columns": 1,
        "rows": 8
       }
      },
      "text/plain": [
       "party\n",
       "DEM    16448\n",
       "REP    11071\n",
       "GRN     5694\n",
       "IND     5694\n",
       "LIB     5694\n",
       "CON      317\n",
       "WOR      317\n",
       "WEP      317\n",
       "Name: count, dtype: int64"
      ]
     },
     "execution_count": 67,
     "metadata": {},
     "output_type": "execute_result"
    }
   ],
   "source": [
    "# Cleaning Party\n",
    "# Turning all general data party to uppercase\n",
    "general_data[\"party\"] = general_data[\"party\"].astype(str).str.upper()\n",
    "\n",
    "general_data[\"party\"] = (\n",
    "    general_data[\"party\"]\n",
    "    .replace({\n",
    "        \"REPUBLICAN\": \"REP\",\n",
    "        \"R\": \"REP\",\n",
    "        \"CONSERVATIVE\":\"REP\",\n",
    "        \"WORKING FAMILIES\":\"DEM\",\n",
    "        \"WOMEN'S EQUALITY\":\"DEM\",\n",
    "        \"DEMOCRATIC\": \"DEM\",\n",
    "        \"DEMOCRAT\":\"DEM\",\n",
    "        \"DEM\": \"DEM\",\n",
    "        \"D\": \"DEM\",\n",
    "        \"GREEN\": \"GRN\",\n",
    "        \"G\": \"GRN\",\n",
    "        \"WGR\":\"GRN\",\n",
    "        \"GREEN AND RAINBOW\":\"GRN\",\n",
    "        \"GREEN-RAINBOW\":\"GRN\",\n",
    "        \"MTN\":\"GRN\",\n",
    "        \"LIBERTARIAN\": \"LIB\",\n",
    "        \"LIBERTARIN\":\"LIB\",\n",
    "        \"LPN\":\"LIB\",\n",
    "        \"LBT\": \"LIB\",\n",
    "        \"L\": \"LIB\",\n",
    "        \"IAP\":\"CON\",\n",
    "        \"CONSTITUTION\": \"CON\",\n",
    "        \"CST\":\"CON\",\n",
    "        \"AMERICAN DELTA\":\"AMD\",\n",
    "        \"PROHIBITION\":\"PRO\",\n",
    "        \"NP\": \"IND\",\n",
    "        \"NON\": \"IND\",\n",
    "        \"WRI\": \"IND\",\n",
    "        \"INDEPENDENCE\":\"IND\",\n",
    "        \"WRITE-IN\": \"IND\",\n",
    "        \"ONA\": \"IND\",\n",
    "        \"GEN\": \"IND\",\n",
    "        \"NONE\":\"UNK\",\n",
    "        \"NPA\":\"IND\",\n",
    "        \"UST\":\"CON\",\n",
    "        \"NPP\":\"IND\",\n",
    "        \"(WRITE-IN)\":\"IND\"\n",
    "    })\n",
    ")\n",
    "\n",
    "general_data[\"party\"].value_counts(dropna=False)"
   ]
  },
  {
   "cell_type": "code",
   "execution_count": 68,
   "id": "ff4a4970",
   "metadata": {},
   "outputs": [],
   "source": [
    "# UPDATE MASTER FILE, CAREFUL\n",
    "update_master_candidate_party(general_data, r\"C:\\Huy Phan\\College\\VoterTurnout\\data\\cleaned_data\\gen_can_party.csv\")"
   ]
  },
  {
   "cell_type": "code",
   "execution_count": 69,
   "id": "daaed088",
   "metadata": {},
   "outputs": [
    {
     "name": "stderr",
     "output_type": "stream",
     "text": [
      "C:\\Users\\ADMIN\\AppData\\Local\\Temp\\ipykernel_22756\\1829951435.py:8: FutureWarning: Downcasting object dtype arrays on .fillna, .ffill, .bfill is deprecated and will change in a future version. Call result.infer_objects(copy=False) instead. To opt-in to the future behavior, set `pd.set_option('future.no_silent_downcasting', True)`\n",
      "  general_result = general_data.pivot_table(\n"
     ]
    },
    {
     "data": {
      "application/vnd.microsoft.datawrangler.viewer.v0+json": {
       "columns": [
        {
         "name": "index",
         "rawType": "int64",
         "type": "integer"
        },
        {
         "name": "precinct",
         "rawType": "object",
         "type": "string"
        },
        {
         "name": "gen_con_TRUMP",
         "rawType": "int64",
         "type": "integer"
        },
        {
         "name": "gen_dem_CLINTON",
         "rawType": "object",
         "type": "unknown"
        },
        {
         "name": "gen_grn_STEIN",
         "rawType": "object",
         "type": "unknown"
        },
        {
         "name": "gen_ind_JOHNSON",
         "rawType": "object",
         "type": "unknown"
        },
        {
         "name": "gen_lib_JOHNSON",
         "rawType": "object",
         "type": "unknown"
        },
        {
         "name": "gen_rep_TRUMP",
         "rawType": "object",
         "type": "unknown"
        },
        {
         "name": "gen_wep_CLINTON",
         "rawType": "int64",
         "type": "integer"
        },
        {
         "name": "gen_wor_CLINTON",
         "rawType": "int64",
         "type": "integer"
        }
       ],
       "ref": "40f17f3e-6311-40ab-9f80-8ff6522f67b2",
       "rows": [
        [
         "0",
         "ALBANY=\"100ALBANYW12ED4\"",
         "3",
         "235",
         "9",
         "7",
         "2",
         "45",
         "1",
         "1"
        ],
        [
         "1",
         "ALBANY=\"101ALBANYW12ED5\"",
         "8",
         "265",
         "11",
         "7",
         "10",
         "103",
         "10",
         "13"
        ],
        [
         "2",
         "ALBANY=\"102ALBANYW12ED6\"",
         "5",
         "253",
         "10",
         "1",
         "2",
         "77",
         "2",
         "5"
        ],
        [
         "3",
         "ALBANY=\"103ALBANYW12ED7\"",
         "0",
         "2",
         "0",
         "0",
         "0",
         "0",
         "0",
         "0"
        ],
        [
         "4",
         "ALBANY=\"104ALBANYW12ED8\"",
         "6",
         "349",
         "13",
         "15",
         "3",
         "80",
         "6",
         "18"
        ],
        [
         "5",
         "ALBANY=\"105ALBANYW13ED1\"",
         "3",
         "110",
         "4",
         "5",
         "2",
         "24",
         "0",
         "2"
        ],
        [
         "6",
         "ALBANY=\"106ALBANYW13ED2\"",
         "5",
         "246",
         "7",
         "5",
         "4",
         "72",
         "2",
         "14"
        ],
        [
         "7",
         "ALBANY=\"107ALBANYW13ED3\"",
         "8",
         "299",
         "14",
         "5",
         "7",
         "52",
         "3",
         "17"
        ],
        [
         "8",
         "ALBANY=\"108ALBANYW13ED4\"",
         "6",
         "240",
         "13",
         "8",
         "7",
         "82",
         "6",
         "23"
        ],
        [
         "9",
         "ALBANY=\"109ALBANYW13ED5\"",
         "9",
         "269",
         "15",
         "4",
         "5",
         "63",
         "7",
         "19"
        ],
        [
         "10",
         "ALBANY=\"10ALBANYW1ED10\"",
         "1",
         "29",
         "0",
         "0",
         "0",
         "4",
         "0",
         "0"
        ],
        [
         "11",
         "ALBANY=\"110ALBANYW13ED6\"",
         "7",
         "283",
         "12",
         "6",
         "7",
         "61",
         "7",
         "10"
        ],
        [
         "12",
         "ALBANY=\"111ALBANYW13ED7\"",
         "0",
         "17",
         "1",
         "0",
         "0",
         "3",
         "0",
         "0"
        ],
        [
         "13",
         "ALBANY=\"112ALBANYW14ED1\"",
         "10",
         "208",
         "3",
         "4",
         "1",
         "86",
         "4",
         "11"
        ],
        [
         "14",
         "ALBANY=\"113ALBANYW14ED2\"",
         "21",
         "470",
         "11",
         "17",
         "7",
         "151",
         "5",
         "19"
        ],
        [
         "15",
         "ALBANY=\"114ALBANYW14ED3\"",
         "7",
         "314",
         "5",
         "7",
         "2",
         "94",
         "4",
         "14"
        ],
        [
         "16",
         "ALBANY=\"115ALBANYW14ED4\"",
         "14",
         "314",
         "6",
         "4",
         "4",
         "93",
         "5",
         "31"
        ],
        [
         "17",
         "ALBANY=\"116ALBANYW14ED5\"",
         "8",
         "322",
         "10",
         "10",
         "7",
         "74",
         "5",
         "27"
        ],
        [
         "18",
         "ALBANY=\"117ALBANYW14ED6\"",
         "9",
         "338",
         "10",
         "13",
         "4",
         "79",
         "7",
         "20"
        ],
        [
         "19",
         "ALBANY=\"118ALBANYW14ED7\"",
         "10",
         "362",
         "14",
         "5",
         "6",
         "58",
         "5",
         "22"
        ],
        [
         "20",
         "ALBANY=\"119ALBANYW14ED8\"",
         "6",
         "221",
         "8",
         "1",
         "6",
         "45",
         "3",
         "9"
        ],
        [
         "21",
         "ALBANY=\"11ALBANYW2ED1\"",
         "3",
         "306",
         "5",
         "2",
         "2",
         "24",
         "2",
         "3"
        ],
        [
         "22",
         "ALBANY=\"120ALBANYW14ED9\"",
         "0",
         "41",
         "2",
         "0",
         "0",
         "6",
         "1",
         "3"
        ],
        [
         "23",
         "ALBANY=\"121ALBANYW15ED1\"",
         "1",
         "393",
         "7",
         "2",
         "4",
         "60",
         "0",
         "2"
        ],
        [
         "24",
         "ALBANY=\"122ALBANYW15ED2\"",
         "0",
         "16",
         "0",
         "0",
         "0",
         "2",
         "0",
         "0"
        ],
        [
         "25",
         "ALBANY=\"123ALBANYW15ED3\"",
         "5",
         "138",
         "0",
         "4",
         "2",
         "49",
         "2",
         "9"
        ],
        [
         "26",
         "ALBANY=\"124ALBANYW15ED4\"",
         "5",
         "210",
         "4",
         "2",
         "3",
         "73",
         "1",
         "7"
        ],
        [
         "27",
         "ALBANY=\"125ALBANYW15ED5\"",
         "10",
         "262",
         "9",
         "6",
         "1",
         "127",
         "2",
         "7"
        ],
        [
         "28",
         "ALBANY=\"126ALBANYW15ED6\"",
         "2",
         "112",
         "4",
         "2",
         "2",
         "42",
         "0",
         "7"
        ],
        [
         "29",
         "ALBANY=\"127ALBANYW15ED7\"",
         "6",
         "249",
         "9",
         "12",
         "10",
         "118",
         "8",
         "6"
        ],
        [
         "30",
         "ALBANY=\"128COHOESW1ED1\"",
         "15",
         "139",
         "7",
         "4",
         "3",
         "87",
         "0",
         "0"
        ],
        [
         "31",
         "ALBANY=\"129COHOESW1ED2\"",
         "11",
         "183",
         "10",
         "3",
         "6",
         "102",
         "1",
         "7"
        ],
        [
         "32",
         "ALBANY=\"12ALBANYW2ED2\"",
         "1",
         "152",
         "8",
         "0",
         "0",
         "9",
         "2",
         "5"
        ],
        [
         "33",
         "ALBANY=\"130COHOESW1ED3\"",
         "12",
         "151",
         "6",
         "14",
         "6",
         "106",
         "3",
         "7"
        ],
        [
         "34",
         "ALBANY=\"131COHOESW2ED1\"",
         "9",
         "170",
         "3",
         "4",
         "5",
         "61",
         "2",
         "9"
        ],
        [
         "35",
         "ALBANY=\"132COHOESW2ED2\"",
         "8",
         "151",
         "4",
         "8",
         "2",
         "119",
         "2",
         "10"
        ],
        [
         "36",
         "ALBANY=\"133COHOESW2ED3\"",
         "3",
         "33",
         "4",
         "2",
         "1",
         "42",
         "0",
         "2"
        ],
        [
         "37",
         "ALBANY=\"134COHOESW2ED4\"",
         "1",
         "1",
         "1",
         "0",
         "1",
         "2",
         "0",
         "0"
        ],
        [
         "38",
         "ALBANY=\"135COHOESW2ED5\"",
         "0",
         "0",
         "0",
         "0",
         "0",
         "0",
         "0",
         "0"
        ],
        [
         "39",
         "ALBANY=\"136COHOESW2ED6\"",
         "3",
         "73",
         "1",
         "0",
         "1",
         "21",
         "0",
         "1"
        ],
        [
         "40",
         "ALBANY=\"137COHOESW3ED1\"",
         "6",
         "113",
         "4",
         "7",
         "2",
         "122",
         "2",
         "2"
        ],
        [
         "41",
         "ALBANY=\"138COHOESW3ED2\"",
         "8",
         "129",
         "9",
         "4",
         "0",
         "84",
         "1",
         "4"
        ],
        [
         "42",
         "ALBANY=\"139COHOESW3ED3\"",
         "11",
         "125",
         "2",
         "4",
         "3",
         "96",
         "2",
         "2"
        ],
        [
         "43",
         "ALBANY=\"13ALBANYW2ED3\"",
         "0",
         "145",
         "2",
         "1",
         "0",
         "3",
         "2",
         "3"
        ],
        [
         "44",
         "ALBANY=\"140COHOESW3ED4\"",
         "3",
         "15",
         "0",
         "0",
         "1",
         "18",
         "0",
         "4"
        ],
        [
         "45",
         "ALBANY=\"141COHOESW4ED1\"",
         "11",
         "85",
         "3",
         "7",
         "2",
         "94",
         "1",
         "4"
        ],
        [
         "46",
         "ALBANY=\"142COHOESW4ED2\"",
         "25",
         "256",
         "6",
         "10",
         "1",
         "170",
         "2",
         "9"
        ],
        [
         "47",
         "ALBANY=\"143COHOESW4ED3\"",
         "3",
         "59",
         "1",
         "3",
         "1",
         "37",
         "1",
         "2"
        ],
        [
         "48",
         "ALBANY=\"144COHOESW4ED4\"",
         "35",
         "266",
         "11",
         "15",
         "14",
         "236",
         "3",
         "13"
        ],
        [
         "49",
         "ALBANY=\"145COHOESW5ED1\"",
         "10",
         "105",
         "3",
         "10",
         "1",
         "90",
         "2",
         "1"
        ]
       ],
       "shape": {
        "columns": 9,
        "rows": 5694
       }
      },
      "text/html": [
       "<div>\n",
       "<style scoped>\n",
       "    .dataframe tbody tr th:only-of-type {\n",
       "        vertical-align: middle;\n",
       "    }\n",
       "\n",
       "    .dataframe tbody tr th {\n",
       "        vertical-align: top;\n",
       "    }\n",
       "\n",
       "    .dataframe thead th {\n",
       "        text-align: right;\n",
       "    }\n",
       "</style>\n",
       "<table border=\"1\" class=\"dataframe\">\n",
       "  <thead>\n",
       "    <tr style=\"text-align: right;\">\n",
       "      <th>candidate_column</th>\n",
       "      <th>precinct</th>\n",
       "      <th>gen_con_TRUMP</th>\n",
       "      <th>gen_dem_CLINTON</th>\n",
       "      <th>gen_grn_STEIN</th>\n",
       "      <th>gen_ind_JOHNSON</th>\n",
       "      <th>gen_lib_JOHNSON</th>\n",
       "      <th>gen_rep_TRUMP</th>\n",
       "      <th>gen_wep_CLINTON</th>\n",
       "      <th>gen_wor_CLINTON</th>\n",
       "    </tr>\n",
       "  </thead>\n",
       "  <tbody>\n",
       "    <tr>\n",
       "      <th>0</th>\n",
       "      <td>ALBANY=\"100ALBANYW12ED4\"</td>\n",
       "      <td>3</td>\n",
       "      <td>235</td>\n",
       "      <td>9</td>\n",
       "      <td>7</td>\n",
       "      <td>2</td>\n",
       "      <td>45</td>\n",
       "      <td>1</td>\n",
       "      <td>1</td>\n",
       "    </tr>\n",
       "    <tr>\n",
       "      <th>1</th>\n",
       "      <td>ALBANY=\"101ALBANYW12ED5\"</td>\n",
       "      <td>8</td>\n",
       "      <td>265</td>\n",
       "      <td>11</td>\n",
       "      <td>7</td>\n",
       "      <td>10</td>\n",
       "      <td>103</td>\n",
       "      <td>10</td>\n",
       "      <td>13</td>\n",
       "    </tr>\n",
       "    <tr>\n",
       "      <th>2</th>\n",
       "      <td>ALBANY=\"102ALBANYW12ED6\"</td>\n",
       "      <td>5</td>\n",
       "      <td>253</td>\n",
       "      <td>10</td>\n",
       "      <td>1</td>\n",
       "      <td>2</td>\n",
       "      <td>77</td>\n",
       "      <td>2</td>\n",
       "      <td>5</td>\n",
       "    </tr>\n",
       "    <tr>\n",
       "      <th>3</th>\n",
       "      <td>ALBANY=\"103ALBANYW12ED7\"</td>\n",
       "      <td>0</td>\n",
       "      <td>2</td>\n",
       "      <td>0</td>\n",
       "      <td>0</td>\n",
       "      <td>0</td>\n",
       "      <td>0</td>\n",
       "      <td>0</td>\n",
       "      <td>0</td>\n",
       "    </tr>\n",
       "    <tr>\n",
       "      <th>4</th>\n",
       "      <td>ALBANY=\"104ALBANYW12ED8\"</td>\n",
       "      <td>6</td>\n",
       "      <td>349</td>\n",
       "      <td>13</td>\n",
       "      <td>15</td>\n",
       "      <td>3</td>\n",
       "      <td>80</td>\n",
       "      <td>6</td>\n",
       "      <td>18</td>\n",
       "    </tr>\n",
       "    <tr>\n",
       "      <th>...</th>\n",
       "      <td>...</td>\n",
       "      <td>...</td>\n",
       "      <td>...</td>\n",
       "      <td>...</td>\n",
       "      <td>...</td>\n",
       "      <td>...</td>\n",
       "      <td>...</td>\n",
       "      <td>...</td>\n",
       "      <td>...</td>\n",
       "    </tr>\n",
       "    <tr>\n",
       "      <th>5689</th>\n",
       "      <td>RICHMOND=\"81/63\"</td>\n",
       "      <td>0</td>\n",
       "      <td>223</td>\n",
       "      <td>6</td>\n",
       "      <td>5</td>\n",
       "      <td>1</td>\n",
       "      <td>310</td>\n",
       "      <td>0</td>\n",
       "      <td>0</td>\n",
       "    </tr>\n",
       "    <tr>\n",
       "      <th>5690</th>\n",
       "      <td>RICHMOND=\"9/61\"</td>\n",
       "      <td>0</td>\n",
       "      <td>485</td>\n",
       "      <td>13</td>\n",
       "      <td>6</td>\n",
       "      <td>5</td>\n",
       "      <td>121</td>\n",
       "      <td>0</td>\n",
       "      <td>0</td>\n",
       "    </tr>\n",
       "    <tr>\n",
       "      <th>5691</th>\n",
       "      <td>RICHMOND=\"9/62\"</td>\n",
       "      <td>0</td>\n",
       "      <td>88</td>\n",
       "      <td>4</td>\n",
       "      <td>3</td>\n",
       "      <td>3</td>\n",
       "      <td>267</td>\n",
       "      <td>0</td>\n",
       "      <td>0</td>\n",
       "    </tr>\n",
       "    <tr>\n",
       "      <th>5692</th>\n",
       "      <td>RICHMOND=\"9/63\"</td>\n",
       "      <td>0</td>\n",
       "      <td>13</td>\n",
       "      <td>0</td>\n",
       "      <td>0</td>\n",
       "      <td>2</td>\n",
       "      <td>42</td>\n",
       "      <td>0</td>\n",
       "      <td>0</td>\n",
       "    </tr>\n",
       "    <tr>\n",
       "      <th>5693</th>\n",
       "      <td>RICHMOND=\"9/64\"</td>\n",
       "      <td>0</td>\n",
       "      <td>200</td>\n",
       "      <td>7</td>\n",
       "      <td>6</td>\n",
       "      <td>3</td>\n",
       "      <td>572</td>\n",
       "      <td>0</td>\n",
       "      <td>0</td>\n",
       "    </tr>\n",
       "  </tbody>\n",
       "</table>\n",
       "<p>5694 rows × 9 columns</p>\n",
       "</div>"
      ],
      "text/plain": [
       "candidate_column                  precinct  gen_con_TRUMP gen_dem_CLINTON  \\\n",
       "0                 ALBANY=\"100ALBANYW12ED4\"              3             235   \n",
       "1                 ALBANY=\"101ALBANYW12ED5\"              8             265   \n",
       "2                 ALBANY=\"102ALBANYW12ED6\"              5             253   \n",
       "3                 ALBANY=\"103ALBANYW12ED7\"              0               2   \n",
       "4                 ALBANY=\"104ALBANYW12ED8\"              6             349   \n",
       "...                                    ...            ...             ...   \n",
       "5689                      RICHMOND=\"81/63\"              0             223   \n",
       "5690                       RICHMOND=\"9/61\"              0             485   \n",
       "5691                       RICHMOND=\"9/62\"              0              88   \n",
       "5692                       RICHMOND=\"9/63\"              0              13   \n",
       "5693                       RICHMOND=\"9/64\"              0             200   \n",
       "\n",
       "candidate_column gen_grn_STEIN gen_ind_JOHNSON gen_lib_JOHNSON gen_rep_TRUMP  \\\n",
       "0                            9               7               2            45   \n",
       "1                           11               7              10           103   \n",
       "2                           10               1               2            77   \n",
       "3                            0               0               0             0   \n",
       "4                           13              15               3            80   \n",
       "...                        ...             ...             ...           ...   \n",
       "5689                         6               5               1           310   \n",
       "5690                        13               6               5           121   \n",
       "5691                         4               3               3           267   \n",
       "5692                         0               0               2            42   \n",
       "5693                         7               6               3           572   \n",
       "\n",
       "candidate_column  gen_wep_CLINTON  gen_wor_CLINTON  \n",
       "0                               1                1  \n",
       "1                              10               13  \n",
       "2                               2                5  \n",
       "3                               0                0  \n",
       "4                               6               18  \n",
       "...                           ...              ...  \n",
       "5689                            0                0  \n",
       "5690                            0                0  \n",
       "5691                            0                0  \n",
       "5692                            0                0  \n",
       "5693                            0                0  \n",
       "\n",
       "[5694 rows x 9 columns]"
      ]
     },
     "execution_count": 69,
     "metadata": {},
     "output_type": "execute_result"
    }
   ],
   "source": [
    "general_data[\"candidate_column\"] = (\n",
    "    \"gen_\" +\n",
    "    general_data[\"party\"].str.lower() + \"_\" +\n",
    "    general_data[\"candidate\"].str.split().str[-1].str.upper()\n",
    ")\n",
    "\n",
    "# pivot the table\n",
    "general_result = general_data.pivot_table(\n",
    "    index=\"precinct\",\n",
    "    columns=\"candidate_column\",\n",
    "    values=\"votes\",\n",
    "    aggfunc=\"sum\",  \n",
    "    fill_value=0\n",
    ").reset_index()\n",
    "\n",
    "general_result"
   ]
  },
  {
   "cell_type": "code",
   "execution_count": 70,
   "id": "6686d34b",
   "metadata": {},
   "outputs": [],
   "source": [
    "# Merge\n",
    "combined = pd.merge(primary_result, general_result, on=\"precinct\", how=\"inner\")\n",
    "\n",
    "# Convert DEM primary columns to numeric and calculate total\n",
    "dem_cols = combined.filter(like=\"pri_dem_\").columns\n",
    "combined[dem_cols] = combined[dem_cols].apply(pd.to_numeric, errors=\"coerce\")\n",
    "combined[\"dem_primary_total\"] = combined[dem_cols].sum(axis=1)\n",
    "\n",
    "# Convert general election columns to numeric and calculate total\n",
    "gen_cols = combined.filter(like=\"gen_\").columns\n",
    "combined[gen_cols] = combined[gen_cols].apply(pd.to_numeric, errors=\"coerce\")\n",
    "combined[\"general_total\"] = combined[gen_cols].sum(axis=1)\n",
    "\n",
    "# Convert all numeric columns to int\n",
    "for col in combined.columns[1:]:\n",
    "    combined[col] = pd.to_numeric(combined[col], errors='coerce').fillna(0).astype(int)\n",
    "\n",
    "# Identify filtered-out precincts\n",
    "primary_precincts = set(primary_result[\"precinct\"])\n",
    "general_precincts = set(general_result[\"precinct\"])\n",
    "combined_precincts = set(combined[\"precinct\"])\n",
    "\n",
    "primary_filtered_out = primary_precincts - combined_precincts\n",
    "general_filtered_out = general_precincts - combined_precincts\n",
    "\n",
    "\n"
   ]
  },
  {
   "cell_type": "code",
   "execution_count": 71,
   "id": "a6797e92",
   "metadata": {},
   "outputs": [],
   "source": [
    "\n",
    "\n",
    "combined.to_csv(\"NY.csv\", index=False)\n",
    "# Step 3: Identify unmatched precincts and retrieve full rows\n",
    "combined_precincts = set(combined[\"precinct\"])\n",
    "\n",
    "# Rows in primary_result but not in combined\n",
    "primary_filtered_out = primary_result[~primary_result[\"precinct\"].isin(combined_precincts)]\n",
    "primary_filtered_out.to_csv(\"NY_primary_filtered.csv\", index=False)\n",
    "\n",
    "# Rows in general_result but not in combined\n",
    "general_filtered_out = general_result[~general_result[\"precinct\"].isin(combined_precincts)]\n",
    "general_filtered_out.to_csv(\"NY_general_filtered.csv\", index=False)"
   ]
  },
  {
   "cell_type": "code",
   "execution_count": 72,
   "id": "b3d042ff",
   "metadata": {},
   "outputs": [
    {
     "name": "stdout",
     "output_type": "stream",
     "text": [
      "primary: 5547, general: 5694, combined: 5224\n"
     ]
    }
   ],
   "source": [
    "print(f\"primary: {len(primary_precincts)}, general: {len(general_precincts)}, combined: {len(combined)}\")"
   ]
  },
  {
   "cell_type": "code",
   "execution_count": 73,
   "id": "9900725d",
   "metadata": {},
   "outputs": [
    {
     "name": "stdout",
     "output_type": "stream",
     "text": [
      "primary: 7, general: 7\n"
     ]
    }
   ],
   "source": [
    "print(f\"primary: {len(pri_combined_df['county'].unique())}, general: {len(gen_combined_df['county'].unique())}\")\n"
   ]
  },
  {
   "cell_type": "code",
   "execution_count": 74,
   "id": "b12d639e",
   "metadata": {},
   "outputs": [
    {
     "data": {
      "text/plain": [
       "array(['Albany', 'Bronx', 'Chenango', 'Kings', 'New York', 'Queens',\n",
       "       'Richmond'], dtype=object)"
      ]
     },
     "execution_count": 74,
     "metadata": {},
     "output_type": "execute_result"
    }
   ],
   "source": [
    "pri_combined_df['county'].unique()"
   ]
  },
  {
   "cell_type": "code",
   "execution_count": 75,
   "id": "0fb1a12f",
   "metadata": {},
   "outputs": [
    {
     "data": {
      "text/plain": [
       "array(['ALBANY', 'BRONX', 'CHENANGO', 'KINGS', 'NEW YORK', 'QUEENS',\n",
       "       'RICHMOND'], dtype=object)"
      ]
     },
     "execution_count": 75,
     "metadata": {},
     "output_type": "execute_result"
    }
   ],
   "source": [
    "gen_combined_df['county'].unique()"
   ]
  },
  {
   "cell_type": "code",
   "execution_count": 76,
   "id": "b28d499d",
   "metadata": {},
   "outputs": [
    {
     "ename": "KeyError",
     "evalue": "'jurisdiction'",
     "output_type": "error",
     "traceback": [
      "\u001b[1;31m---------------------------------------------------------------------------\u001b[0m",
      "\u001b[1;31mKeyError\u001b[0m                                  Traceback (most recent call last)",
      "File \u001b[1;32mc:\\Users\\ADMIN\\AppData\\Local\\Programs\\Python\\Python311\\Lib\\site-packages\\pandas\\core\\indexes\\base.py:3802\u001b[0m, in \u001b[0;36mIndex.get_loc\u001b[1;34m(self, key)\u001b[0m\n\u001b[0;32m   3801\u001b[0m \u001b[38;5;28;01mtry\u001b[39;00m:\n\u001b[1;32m-> 3802\u001b[0m     \u001b[38;5;28;01mreturn\u001b[39;00m \u001b[38;5;28;43mself\u001b[39;49m\u001b[38;5;241;43m.\u001b[39;49m\u001b[43m_engine\u001b[49m\u001b[38;5;241;43m.\u001b[39;49m\u001b[43mget_loc\u001b[49m\u001b[43m(\u001b[49m\u001b[43mcasted_key\u001b[49m\u001b[43m)\u001b[49m\n\u001b[0;32m   3803\u001b[0m \u001b[38;5;28;01mexcept\u001b[39;00m \u001b[38;5;167;01mKeyError\u001b[39;00m \u001b[38;5;28;01mas\u001b[39;00m err:\n",
      "File \u001b[1;32mindex.pyx:153\u001b[0m, in \u001b[0;36mpandas._libs.index.IndexEngine.get_loc\u001b[1;34m()\u001b[0m\n",
      "File \u001b[1;32mindex.pyx:182\u001b[0m, in \u001b[0;36mpandas._libs.index.IndexEngine.get_loc\u001b[1;34m()\u001b[0m\n",
      "File \u001b[1;32mpandas\\\\_libs\\\\hashtable_class_helper.pxi:7081\u001b[0m, in \u001b[0;36mpandas._libs.hashtable.PyObjectHashTable.get_item\u001b[1;34m()\u001b[0m\n",
      "File \u001b[1;32mpandas\\\\_libs\\\\hashtable_class_helper.pxi:7089\u001b[0m, in \u001b[0;36mpandas._libs.hashtable.PyObjectHashTable.get_item\u001b[1;34m()\u001b[0m\n",
      "\u001b[1;31mKeyError\u001b[0m: 'jurisdiction'",
      "\nThe above exception was the direct cause of the following exception:\n",
      "\u001b[1;31mKeyError\u001b[0m                                  Traceback (most recent call last)",
      "Cell \u001b[1;32mIn[76], line 1\u001b[0m\n\u001b[1;32m----> 1\u001b[0m primary_counties \u001b[38;5;241m=\u001b[39m \u001b[38;5;28mset\u001b[39m(\u001b[43mpri_combined_df\u001b[49m\u001b[43m[\u001b[49m\u001b[38;5;124;43m'\u001b[39;49m\u001b[38;5;124;43mjurisdiction\u001b[39;49m\u001b[38;5;124;43m'\u001b[39;49m\u001b[43m]\u001b[49m\u001b[38;5;241m.\u001b[39mdropna()\u001b[38;5;241m.\u001b[39mstr\u001b[38;5;241m.\u001b[39mstrip()\u001b[38;5;241m.\u001b[39mstr\u001b[38;5;241m.\u001b[39mupper())\n\u001b[0;32m      2\u001b[0m general_counties \u001b[38;5;241m=\u001b[39m \u001b[38;5;28mset\u001b[39m(gen_combined_df[\u001b[38;5;124m'\u001b[39m\u001b[38;5;124mcounty\u001b[39m\u001b[38;5;124m'\u001b[39m]\u001b[38;5;241m.\u001b[39mdropna()\u001b[38;5;241m.\u001b[39mstr\u001b[38;5;241m.\u001b[39mstrip()\u001b[38;5;241m.\u001b[39mstr\u001b[38;5;241m.\u001b[39mupper())\n\u001b[0;32m      4\u001b[0m diff \u001b[38;5;241m=\u001b[39m primary_counties \u001b[38;5;241m-\u001b[39m general_counties\n",
      "File \u001b[1;32mc:\\Users\\ADMIN\\AppData\\Local\\Programs\\Python\\Python311\\Lib\\site-packages\\pandas\\core\\frame.py:4090\u001b[0m, in \u001b[0;36mDataFrame.__getitem__\u001b[1;34m(self, key)\u001b[0m\n\u001b[0;32m   4088\u001b[0m \u001b[38;5;28;01mif\u001b[39;00m \u001b[38;5;28mself\u001b[39m\u001b[38;5;241m.\u001b[39mcolumns\u001b[38;5;241m.\u001b[39mnlevels \u001b[38;5;241m>\u001b[39m \u001b[38;5;241m1\u001b[39m:\n\u001b[0;32m   4089\u001b[0m     \u001b[38;5;28;01mreturn\u001b[39;00m \u001b[38;5;28mself\u001b[39m\u001b[38;5;241m.\u001b[39m_getitem_multilevel(key)\n\u001b[1;32m-> 4090\u001b[0m indexer \u001b[38;5;241m=\u001b[39m \u001b[38;5;28;43mself\u001b[39;49m\u001b[38;5;241;43m.\u001b[39;49m\u001b[43mcolumns\u001b[49m\u001b[38;5;241;43m.\u001b[39;49m\u001b[43mget_loc\u001b[49m\u001b[43m(\u001b[49m\u001b[43mkey\u001b[49m\u001b[43m)\u001b[49m\n\u001b[0;32m   4091\u001b[0m \u001b[38;5;28;01mif\u001b[39;00m is_integer(indexer):\n\u001b[0;32m   4092\u001b[0m     indexer \u001b[38;5;241m=\u001b[39m [indexer]\n",
      "File \u001b[1;32mc:\\Users\\ADMIN\\AppData\\Local\\Programs\\Python\\Python311\\Lib\\site-packages\\pandas\\core\\indexes\\base.py:3809\u001b[0m, in \u001b[0;36mIndex.get_loc\u001b[1;34m(self, key)\u001b[0m\n\u001b[0;32m   3804\u001b[0m     \u001b[38;5;28;01mif\u001b[39;00m \u001b[38;5;28misinstance\u001b[39m(casted_key, \u001b[38;5;28mslice\u001b[39m) \u001b[38;5;129;01mor\u001b[39;00m (\n\u001b[0;32m   3805\u001b[0m         \u001b[38;5;28misinstance\u001b[39m(casted_key, abc\u001b[38;5;241m.\u001b[39mIterable)\n\u001b[0;32m   3806\u001b[0m         \u001b[38;5;129;01mand\u001b[39;00m \u001b[38;5;28many\u001b[39m(\u001b[38;5;28misinstance\u001b[39m(x, \u001b[38;5;28mslice\u001b[39m) \u001b[38;5;28;01mfor\u001b[39;00m x \u001b[38;5;129;01min\u001b[39;00m casted_key)\n\u001b[0;32m   3807\u001b[0m     ):\n\u001b[0;32m   3808\u001b[0m         \u001b[38;5;28;01mraise\u001b[39;00m InvalidIndexError(key)\n\u001b[1;32m-> 3809\u001b[0m     \u001b[38;5;28;01mraise\u001b[39;00m \u001b[38;5;167;01mKeyError\u001b[39;00m(key) \u001b[38;5;28;01mfrom\u001b[39;00m\u001b[38;5;250m \u001b[39m\u001b[38;5;21;01merr\u001b[39;00m\n\u001b[0;32m   3810\u001b[0m \u001b[38;5;28;01mexcept\u001b[39;00m \u001b[38;5;167;01mTypeError\u001b[39;00m:\n\u001b[0;32m   3811\u001b[0m     \u001b[38;5;66;03m# If we have a listlike key, _check_indexing_error will raise\u001b[39;00m\n\u001b[0;32m   3812\u001b[0m     \u001b[38;5;66;03m#  InvalidIndexError. Otherwise we fall through and re-raise\u001b[39;00m\n\u001b[0;32m   3813\u001b[0m     \u001b[38;5;66;03m#  the TypeError.\u001b[39;00m\n\u001b[0;32m   3814\u001b[0m     \u001b[38;5;28mself\u001b[39m\u001b[38;5;241m.\u001b[39m_check_indexing_error(key)\n",
      "\u001b[1;31mKeyError\u001b[0m: 'jurisdiction'"
     ]
    }
   ],
   "source": [
    "primary_counties = set(pri_combined_df['jurisdiction'].dropna().str.strip().str.upper())\n",
    "general_counties = set(gen_combined_df['county'].dropna().str.strip().str.upper())\n",
    "\n",
    "diff = primary_counties - general_counties\n",
    "print(f\"Counties in primary but not in general: {len(diff)}\")\n",
    "print(diff)\n"
   ]
  }
 ],
 "metadata": {
  "kernelspec": {
   "display_name": "Python 3",
   "language": "python",
   "name": "python3"
  },
  "language_info": {
   "codemirror_mode": {
    "name": "ipython",
    "version": 3
   },
   "file_extension": ".py",
   "mimetype": "text/x-python",
   "name": "python",
   "nbconvert_exporter": "python",
   "pygments_lexer": "ipython3",
   "version": "3.11.2"
  }
 },
 "nbformat": 4,
 "nbformat_minor": 5
}
