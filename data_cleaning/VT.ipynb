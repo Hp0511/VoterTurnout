{
 "cells": [
  {
   "cell_type": "code",
   "execution_count": 1,
   "id": "ad1be0fa",
   "metadata": {},
   "outputs": [],
   "source": [
    "# Import all the libraries\n",
    "import pandas as pd\n",
    "import glob\n",
    "import os\n",
    "import re\n",
    "from pprint import pprint"
   ]
  },
  {
   "cell_type": "code",
   "execution_count": 2,
   "id": "c263c4df",
   "metadata": {},
   "outputs": [],
   "source": [
    "#Get all CSV files in the folder of GA\n",
    "all_files = glob.glob(r\"C:\\Huy Phan\\College\\VoterTurnout\\data\\Vt\\*.csv\")\n",
    "\n",
    "# Files that contain both 'precinct' and 'general' in the filename\n",
    "general_files = [\n",
    "    f for f in all_files\n",
    "    if all(word in f.lower() for word in ['general'])\n",
    "]\n",
    "\n",
    "# Files that contain both 'precinct' and 'primary' in the filename\n",
    "primary_files = [\n",
    "    f for f in all_files\n",
    "    if all(word in f.lower() for word in ['primary'])\n",
    "]\n"
   ]
  },
  {
   "cell_type": "code",
   "execution_count": 3,
   "id": "60d49ea6",
   "metadata": {},
   "outputs": [
    {
     "name": "stdout",
     "output_type": "stream",
     "text": [
      "General files:\n",
      "C:\\Huy Phan\\College\\VoterTurnout\\data\\Vt\\20161108__vt__general.csv\n",
      "C:\\Huy Phan\\College\\VoterTurnout\\data\\Vt\\20161108__vt__general__precinct.csv\n"
     ]
    }
   ],
   "source": [
    "print(\"General files:\")\n",
    "for f in general_files:\n",
    "    print(f)\n"
   ]
  },
  {
   "cell_type": "code",
   "execution_count": 4,
   "id": "4ab13110",
   "metadata": {},
   "outputs": [
    {
     "name": "stdout",
     "output_type": "stream",
     "text": [
      "\n",
      "Primary files:\n",
      "C:\\Huy Phan\\College\\VoterTurnout\\data\\Vt\\20160809__vt__primary__precinct.csv\n"
     ]
    }
   ],
   "source": [
    "print(\"\\nPrimary files:\")\n",
    "for f in primary_files:\n",
    "    print(f)"
   ]
  },
  {
   "cell_type": "code",
   "execution_count": 5,
   "id": "ff5df6c7",
   "metadata": {},
   "outputs": [
    {
     "data": {
      "application/vnd.microsoft.datawrangler.viewer.v0+json": {
       "columns": [
        {
         "name": "index",
         "rawType": "int64",
         "type": "integer"
        },
        {
         "name": "county",
         "rawType": "object",
         "type": "string"
        },
        {
         "name": "office",
         "rawType": "object",
         "type": "string"
        },
        {
         "name": "district",
         "rawType": "object",
         "type": "unknown"
        },
        {
         "name": "town",
         "rawType": "object",
         "type": "string"
        },
        {
         "name": "precinct",
         "rawType": "object",
         "type": "string"
        },
        {
         "name": "candidate",
         "rawType": "object",
         "type": "string"
        },
        {
         "name": "party",
         "rawType": "object",
         "type": "string"
        },
        {
         "name": "votes",
         "rawType": "int64",
         "type": "integer"
        },
        {
         "name": "state_election_id",
         "rawType": "int64",
         "type": "integer"
        }
       ],
       "ref": "03475552-feb2-4188-8d2a-afc71c800ffc",
       "rows": [
        [
         "0",
         "Addison",
         "President",
         null,
         "Addison",
         "ADDISONADDISON",
         "Bernie Sanders",
         "Democratic",
         "251",
         "79138"
        ],
        [
         "1",
         "Orleans",
         "President",
         null,
         "Albany",
         "ORLEANSALBANY",
         "Bernie Sanders",
         "Democratic",
         "139",
         "79138"
        ],
        [
         "2",
         "Grand Isle",
         "President",
         null,
         "Alburgh",
         "GRAND ISLEALBURGH",
         "Bernie Sanders",
         "Democratic",
         "315",
         "79138"
        ],
        [
         "3",
         "Windsor",
         "President",
         null,
         "Andover",
         "WINDSORANDOVER",
         "Bernie Sanders",
         "Democratic",
         "100",
         "79138"
        ],
        [
         "4",
         "Bennington",
         "President",
         null,
         "Arlington",
         "BENNINGTONARLINGTON",
         "Bernie Sanders",
         "Democratic",
         "398",
         "79138"
        ],
        [
         "5",
         "Windham",
         "President",
         null,
         "Athens",
         "WINDHAMATHENS",
         "Bernie Sanders",
         "Democratic",
         "57",
         "79138"
        ],
        [
         "6",
         "Franklin",
         "President",
         null,
         "Bakersfield",
         "FRANKLINBAKERSFIELD",
         "Bernie Sanders",
         "Democratic",
         "243",
         "79138"
        ],
        [
         "7",
         "Windsor",
         "President",
         null,
         "Baltimore",
         "WINDSORBALTIMORE",
         "Bernie Sanders",
         "Democratic",
         "43",
         "79138"
        ],
        [
         "8",
         "Windsor",
         "President",
         null,
         "Barnard",
         "WINDSORBARNARD",
         "Bernie Sanders",
         "Democratic",
         "214",
         "79138"
        ],
        [
         "9",
         "Caledonia",
         "President",
         null,
         "Barnet",
         "CALEDONIABARNET",
         "Bernie Sanders",
         "Democratic",
         "309",
         "79138"
        ],
        [
         "10",
         "Washington",
         "President",
         null,
         "Barre City",
         "WASHINGTONBARRE CITY",
         "Bernie Sanders",
         "Democratic",
         "1058",
         "79138"
        ],
        [
         "11",
         "Washington",
         "President",
         null,
         "Barre Town",
         "WASHINGTONBARRE TOWN",
         "Bernie Sanders",
         "Democratic",
         "1087",
         "79138"
        ],
        [
         "12",
         "Orleans",
         "President",
         null,
         "Barton",
         "ORLEANSBARTON",
         "Bernie Sanders",
         "Democratic",
         "318",
         "79138"
        ],
        [
         "13",
         "Lamoille",
         "President",
         null,
         "Belvidere",
         "LAMOILLEBELVIDERE",
         "Bernie Sanders",
         "Democratic",
         "46",
         "79138"
        ],
        [
         "14",
         "Bennington",
         "President",
         null,
         "Bennington",
         "BENNINGTONBENNINGTON",
         "Bernie Sanders",
         "Democratic",
         "2121",
         "79138"
        ],
        [
         "15",
         "Rutland",
         "President",
         null,
         "Benson",
         "RUTLANDBENSON",
         "Bernie Sanders",
         "Democratic",
         "159",
         "79138"
        ],
        [
         "16",
         "Franklin",
         "President",
         null,
         "Berkshire",
         "FRANKLINBERKSHIRE",
         "Bernie Sanders",
         "Democratic",
         "181",
         "79138"
        ],
        [
         "17",
         "Washington",
         "President",
         null,
         "Berlin",
         "WASHINGTONBERLIN",
         "Bernie Sanders",
         "Democratic",
         "469",
         "79138"
        ],
        [
         "18",
         "Windsor",
         "President",
         null,
         "Bethel",
         "WINDSORBETHEL",
         "Bernie Sanders",
         "Democratic",
         "376",
         "79138"
        ],
        [
         "19",
         "Essex",
         "President",
         null,
         "Bloomfield",
         "ESSEXBLOOMFIELD",
         "Bernie Sanders",
         "Democratic",
         "42",
         "79138"
        ],
        [
         "20",
         "Chittenden",
         "President",
         null,
         "Bolton",
         "CHITTENDENBOLTON",
         "Bernie Sanders",
         "Democratic",
         "293",
         "79138"
        ],
        [
         "21",
         "Orange",
         "President",
         null,
         "Bradford",
         "ORANGEBRADFORD",
         "Bernie Sanders",
         "Democratic",
         "418",
         "79138"
        ],
        [
         "22",
         "Orange",
         "President",
         null,
         "Braintree",
         "ORANGEBRAINTREE",
         "Bernie Sanders",
         "Democratic",
         "221",
         "79138"
        ],
        [
         "23",
         "Rutland",
         "President",
         null,
         "Brandon",
         "RUTLANDBRANDON",
         "Bernie Sanders",
         "Democratic",
         "668",
         "79138"
        ],
        [
         "24",
         "Windham",
         "President",
         null,
         "Brattleboro",
         "WINDHAMBRATTLEBORO",
         "Bernie Sanders",
         "Democratic",
         "2916",
         "79138"
        ],
        [
         "25",
         "Windsor",
         "President",
         null,
         "Bridgewater",
         "WINDSORBRIDGEWATER",
         "Bernie Sanders",
         "Democratic",
         "165",
         "79138"
        ],
        [
         "26",
         "Addison",
         "President",
         null,
         "Bridport",
         "ADDISONBRIDPORT",
         "Bernie Sanders",
         "Democratic",
         "189",
         "79138"
        ],
        [
         "27",
         "Essex",
         "President",
         null,
         "Brighton",
         "ESSEXBRIGHTON",
         "Bernie Sanders",
         "Democratic",
         "188",
         "79138"
        ],
        [
         "28",
         "Addison",
         "President",
         null,
         "Bristol",
         "ADDISONBRISTOL",
         "Bernie Sanders",
         "Democratic",
         "822",
         "79138"
        ],
        [
         "29",
         "Orange",
         "President",
         null,
         "Brookfield",
         "ORANGEBROOKFIELD",
         "Bernie Sanders",
         "Democratic",
         "275",
         "79138"
        ],
        [
         "30",
         "Windham",
         "President",
         null,
         "Brookline",
         "WINDHAMBROOKLINE",
         "Bernie Sanders",
         "Democratic",
         "129",
         "79138"
        ],
        [
         "31",
         "Orleans",
         "President",
         null,
         "Brownington",
         "ORLEANSBROWNINGTON",
         "Bernie Sanders",
         "Democratic",
         "103",
         "79138"
        ],
        [
         "32",
         "Essex",
         "President",
         null,
         "Brunswick",
         "ESSEXBRUNSWICK",
         "Bernie Sanders",
         "Democratic",
         "20",
         "79138"
        ],
        [
         "33",
         "Caledonia",
         "President",
         null,
         "Burke",
         "CALEDONIABURKE",
         "Bernie Sanders",
         "Democratic",
         "280",
         "79138"
        ],
        [
         "34",
         "Chittenden",
         "President",
         null,
         "Burlington",
         "CHITTENDENBURLINGTON",
         "Bernie Sanders",
         "Democratic",
         "9105",
         "79138"
        ],
        [
         "35",
         "Washington",
         "President",
         null,
         "Cabot",
         "WASHINGTONCABOT",
         "Bernie Sanders",
         "Democratic",
         "320",
         "79138"
        ],
        [
         "36",
         "Washington",
         "President",
         null,
         "Calais",
         "WASHINGTONCALAIS",
         "Bernie Sanders",
         "Democratic",
         "491",
         "79138"
        ],
        [
         "37",
         "Lamoille",
         "President",
         null,
         "Cambridge",
         "LAMOILLECAMBRIDGE",
         "Bernie Sanders",
         "Democratic",
         "696",
         "79138"
        ],
        [
         "38",
         "Essex",
         "President",
         null,
         "Canaan",
         "ESSEXCANAAN",
         "Bernie Sanders",
         "Democratic",
         "132",
         "79138"
        ],
        [
         "39",
         "Rutland",
         "President",
         null,
         "Castleton",
         "RUTLANDCASTLETON",
         "Bernie Sanders",
         "Democratic",
         "546",
         "79138"
        ],
        [
         "40",
         "Windsor",
         "President",
         null,
         "Cavendish",
         "WINDSORCAVENDISH",
         "Bernie Sanders",
         "Democratic",
         "250",
         "79138"
        ],
        [
         "41",
         "Orleans",
         "President",
         null,
         "Charleston",
         "ORLEANSCHARLESTON",
         "Bernie Sanders",
         "Democratic",
         "117",
         "79138"
        ],
        [
         "42",
         "Chittenden",
         "President",
         null,
         "Charlotte",
         "CHITTENDENCHARLOTTE",
         "Bernie Sanders",
         "Democratic",
         "1002",
         "79138"
        ],
        [
         "43",
         "Orange",
         "President",
         null,
         "Chelsea",
         "ORANGECHELSEA",
         "Bernie Sanders",
         "Democratic",
         "185",
         "79138"
        ],
        [
         "44",
         "Windsor",
         "President",
         null,
         "Chester",
         "WINDSORCHESTER",
         "Bernie Sanders",
         "Democratic",
         "592",
         "79138"
        ],
        [
         "45",
         "Rutland",
         "President",
         null,
         "Chittenden",
         "RUTLANDCHITTENDEN",
         "Bernie Sanders",
         "Democratic",
         "254",
         "79138"
        ],
        [
         "46",
         "Rutland",
         "President",
         null,
         "Clarendon",
         "RUTLANDCLARENDON",
         "Bernie Sanders",
         "Democratic",
         "317",
         "79138"
        ],
        [
         "47",
         "Chittenden",
         "President",
         null,
         "Colchester",
         "CHITTENDENCOLCHESTER",
         "Bernie Sanders",
         "Democratic",
         "2695",
         "79138"
        ],
        [
         "48",
         "Essex",
         "President",
         null,
         "Concord",
         "ESSEXCONCORD",
         "Bernie Sanders",
         "Democratic",
         "168",
         "79138"
        ],
        [
         "49",
         "Orange",
         "President",
         null,
         "Corinth",
         "ORANGECORINTH",
         "Bernie Sanders",
         "Democratic",
         "254",
         "79138"
        ]
       ],
       "shape": {
        "columns": 9,
        "rows": 5412
       }
      },
      "text/html": [
       "<div>\n",
       "<style scoped>\n",
       "    .dataframe tbody tr th:only-of-type {\n",
       "        vertical-align: middle;\n",
       "    }\n",
       "\n",
       "    .dataframe tbody tr th {\n",
       "        vertical-align: top;\n",
       "    }\n",
       "\n",
       "    .dataframe thead th {\n",
       "        text-align: right;\n",
       "    }\n",
       "</style>\n",
       "<table border=\"1\" class=\"dataframe\">\n",
       "  <thead>\n",
       "    <tr style=\"text-align: right;\">\n",
       "      <th></th>\n",
       "      <th>county</th>\n",
       "      <th>office</th>\n",
       "      <th>district</th>\n",
       "      <th>town</th>\n",
       "      <th>precinct</th>\n",
       "      <th>candidate</th>\n",
       "      <th>party</th>\n",
       "      <th>votes</th>\n",
       "      <th>state_election_id</th>\n",
       "    </tr>\n",
       "  </thead>\n",
       "  <tbody>\n",
       "    <tr>\n",
       "      <th>0</th>\n",
       "      <td>Addison</td>\n",
       "      <td>President</td>\n",
       "      <td>NaN</td>\n",
       "      <td>Addison</td>\n",
       "      <td>ADDISONADDISON</td>\n",
       "      <td>Bernie Sanders</td>\n",
       "      <td>Democratic</td>\n",
       "      <td>251</td>\n",
       "      <td>79138</td>\n",
       "    </tr>\n",
       "    <tr>\n",
       "      <th>1</th>\n",
       "      <td>Orleans</td>\n",
       "      <td>President</td>\n",
       "      <td>NaN</td>\n",
       "      <td>Albany</td>\n",
       "      <td>ORLEANSALBANY</td>\n",
       "      <td>Bernie Sanders</td>\n",
       "      <td>Democratic</td>\n",
       "      <td>139</td>\n",
       "      <td>79138</td>\n",
       "    </tr>\n",
       "    <tr>\n",
       "      <th>2</th>\n",
       "      <td>Grand Isle</td>\n",
       "      <td>President</td>\n",
       "      <td>NaN</td>\n",
       "      <td>Alburgh</td>\n",
       "      <td>GRAND ISLEALBURGH</td>\n",
       "      <td>Bernie Sanders</td>\n",
       "      <td>Democratic</td>\n",
       "      <td>315</td>\n",
       "      <td>79138</td>\n",
       "    </tr>\n",
       "    <tr>\n",
       "      <th>3</th>\n",
       "      <td>Windsor</td>\n",
       "      <td>President</td>\n",
       "      <td>NaN</td>\n",
       "      <td>Andover</td>\n",
       "      <td>WINDSORANDOVER</td>\n",
       "      <td>Bernie Sanders</td>\n",
       "      <td>Democratic</td>\n",
       "      <td>100</td>\n",
       "      <td>79138</td>\n",
       "    </tr>\n",
       "    <tr>\n",
       "      <th>4</th>\n",
       "      <td>Bennington</td>\n",
       "      <td>President</td>\n",
       "      <td>NaN</td>\n",
       "      <td>Arlington</td>\n",
       "      <td>BENNINGTONARLINGTON</td>\n",
       "      <td>Bernie Sanders</td>\n",
       "      <td>Democratic</td>\n",
       "      <td>398</td>\n",
       "      <td>79138</td>\n",
       "    </tr>\n",
       "    <tr>\n",
       "      <th>...</th>\n",
       "      <td>...</td>\n",
       "      <td>...</td>\n",
       "      <td>...</td>\n",
       "      <td>...</td>\n",
       "      <td>...</td>\n",
       "      <td>...</td>\n",
       "      <td>...</td>\n",
       "      <td>...</td>\n",
       "      <td>...</td>\n",
       "    </tr>\n",
       "    <tr>\n",
       "      <th>5407</th>\n",
       "      <td>Lamoille</td>\n",
       "      <td>President</td>\n",
       "      <td>NaN</td>\n",
       "      <td>Wolcott</td>\n",
       "      <td>LAMOILLEWOLCOTT</td>\n",
       "      <td>Total Votes Cast</td>\n",
       "      <td>Republican</td>\n",
       "      <td>89</td>\n",
       "      <td>79139</td>\n",
       "    </tr>\n",
       "    <tr>\n",
       "      <th>5408</th>\n",
       "      <td>Washington</td>\n",
       "      <td>President</td>\n",
       "      <td>NaN</td>\n",
       "      <td>Woodbury</td>\n",
       "      <td>WASHINGTONWOODBURY</td>\n",
       "      <td>Total Votes Cast</td>\n",
       "      <td>Republican</td>\n",
       "      <td>64</td>\n",
       "      <td>79139</td>\n",
       "    </tr>\n",
       "    <tr>\n",
       "      <th>5409</th>\n",
       "      <td>Bennington</td>\n",
       "      <td>President</td>\n",
       "      <td>NaN</td>\n",
       "      <td>Woodford</td>\n",
       "      <td>BENNINGTONWOODFORD</td>\n",
       "      <td>Total Votes Cast</td>\n",
       "      <td>Republican</td>\n",
       "      <td>29</td>\n",
       "      <td>79139</td>\n",
       "    </tr>\n",
       "    <tr>\n",
       "      <th>5410</th>\n",
       "      <td>Windsor</td>\n",
       "      <td>President</td>\n",
       "      <td>NaN</td>\n",
       "      <td>Woodstock</td>\n",
       "      <td>WINDSORWOODSTOCK</td>\n",
       "      <td>Total Votes Cast</td>\n",
       "      <td>Republican</td>\n",
       "      <td>340</td>\n",
       "      <td>79139</td>\n",
       "    </tr>\n",
       "    <tr>\n",
       "      <th>5411</th>\n",
       "      <td>Washington</td>\n",
       "      <td>President</td>\n",
       "      <td>NaN</td>\n",
       "      <td>Worcester</td>\n",
       "      <td>WASHINGTONWORCESTER</td>\n",
       "      <td>Total Votes Cast</td>\n",
       "      <td>Republican</td>\n",
       "      <td>76</td>\n",
       "      <td>79139</td>\n",
       "    </tr>\n",
       "  </tbody>\n",
       "</table>\n",
       "<p>5412 rows × 9 columns</p>\n",
       "</div>"
      ],
      "text/plain": [
       "          county     office district       town             precinct  \\\n",
       "0        Addison  President      NaN    Addison       ADDISONADDISON   \n",
       "1        Orleans  President      NaN     Albany        ORLEANSALBANY   \n",
       "2     Grand Isle  President      NaN    Alburgh    GRAND ISLEALBURGH   \n",
       "3        Windsor  President      NaN    Andover       WINDSORANDOVER   \n",
       "4     Bennington  President      NaN  Arlington  BENNINGTONARLINGTON   \n",
       "...          ...        ...      ...        ...                  ...   \n",
       "5407    Lamoille  President      NaN    Wolcott      LAMOILLEWOLCOTT   \n",
       "5408  Washington  President      NaN   Woodbury   WASHINGTONWOODBURY   \n",
       "5409  Bennington  President      NaN   Woodford   BENNINGTONWOODFORD   \n",
       "5410     Windsor  President      NaN  Woodstock     WINDSORWOODSTOCK   \n",
       "5411  Washington  President      NaN  Worcester  WASHINGTONWORCESTER   \n",
       "\n",
       "             candidate       party  votes  state_election_id  \n",
       "0       Bernie Sanders  Democratic    251              79138  \n",
       "1       Bernie Sanders  Democratic    139              79138  \n",
       "2       Bernie Sanders  Democratic    315              79138  \n",
       "3       Bernie Sanders  Democratic    100              79138  \n",
       "4       Bernie Sanders  Democratic    398              79138  \n",
       "...                ...         ...    ...                ...  \n",
       "5407  Total Votes Cast  Republican     89              79139  \n",
       "5408  Total Votes Cast  Republican     64              79139  \n",
       "5409  Total Votes Cast  Republican     29              79139  \n",
       "5410  Total Votes Cast  Republican    340              79139  \n",
       "5411  Total Votes Cast  Republican     76              79139  \n",
       "\n",
       "[5412 rows x 9 columns]"
      ]
     },
     "execution_count": 5,
     "metadata": {},
     "output_type": "execute_result"
    }
   ],
   "source": [
    "# Process primary files\n",
    "primary_df_list = []\n",
    "\n",
    "for file in primary_files:\n",
    "    try:\n",
    "        df = pd.read_csv(file)\n",
    "        # Filtering out only President \n",
    "        if 'office' in df.columns:\n",
    "            df = df[df[\"office\"] == \"President\"]\n",
    "            \n",
    "        # Combine precinct as county + precinct\n",
    "        df[\"precinct\"] = df[\"county\"].astype(str) + df[\"town\"].astype(str)\n",
    "        df[\"precinct\"] = df[\"precinct\"].str.upper()\n",
    "\n",
    "        # Cleaning maybe total precinct\n",
    "        if 'precinct' in df.columns:\n",
    "            df['precinct'] = df['precinct'].astype(str)                  \n",
    "            df = df[df['precinct'].str.upper() != \"TOTAL\"]               \n",
    "            df = df[df['precinct'].str.strip().str.upper() != \"TOTAL\"]   \n",
    "            df = df[df['precinct'].str.upper() != \"NAN\"]                \n",
    "            df = df[~df['precinct'].str.upper().str.contains(r\"\\w*TOTAL\\w*\", na=False)]   \n",
    "\n",
    "        if 'county' in df.columns:\n",
    "            df['county'] = df['county'].astype(str)                  \n",
    "            df = df[df['county'].str.upper() != \"TOTAL\"]               \n",
    "            df = df[df['county'].str.strip().str.upper() != \"TOTAL\"]   \n",
    "            df = df[df['county'].str.upper() != \"NAN\"]       \n",
    "            df = df[~df['county'].str.upper().str.contains(r\"\\w*TOTAL\\w*\", na=False)]               \n",
    "        \n",
    "        # Dropping duplicates value\n",
    "        df = df.drop_duplicates()\n",
    "        primary_df_list.append(df)\n",
    "\n",
    "    except Exception as e:\n",
    "        print(f\"Error in {file}: {e}\")\n",
    "\n",
    "# Combine all cleaned files\n",
    "pri_combined_df = pd.concat(primary_df_list, ignore_index=True)\n",
    "pri_combined_df"
   ]
  },
  {
   "cell_type": "code",
   "execution_count": 6,
   "id": "bbe34b76",
   "metadata": {},
   "outputs": [],
   "source": [
    "# Checking any suspicious precinct, county\n",
    "suspicious_precincts = pri_combined_df[\n",
    "    pri_combined_df[\"precinct\"].isna() |\n",
    "    pri_combined_df[\"precinct\"].str.strip().str.upper().str.contains(r\"\\w*TOTAL\\w*\", na=False) |\n",
    "    pri_combined_df[\"precinct\"].str.strip().str.upper().isin([\"NONE\", \"NAN\"]) |\n",
    "    pri_combined_df[\"county\"].isna() |\n",
    "    pri_combined_df[\"county\"].str.strip().str.upper().str.contains(r\"\\w*TOTAL\\w*\", na=False) |\n",
    "    pri_combined_df[\"county\"].str.strip().str.upper().isin([\"NONE\", \"NAN\"])\n",
    "]"
   ]
  },
  {
   "cell_type": "code",
   "execution_count": 7,
   "id": "f0e1e913",
   "metadata": {},
   "outputs": [
    {
     "data": {
      "application/vnd.microsoft.datawrangler.viewer.v0+json": {
       "columns": [
        {
         "name": "index",
         "rawType": "int64",
         "type": "integer"
        },
        {
         "name": "precinct",
         "rawType": "object",
         "type": "string"
        },
        {
         "name": "party",
         "rawType": "object",
         "type": "string"
        },
        {
         "name": "candidate",
         "rawType": "object",
         "type": "string"
        },
        {
         "name": "votes",
         "rawType": "int64",
         "type": "integer"
        }
       ],
       "ref": "407db12e-42df-49d7-80fb-9db4a4780139",
       "rows": [
        [
         "0",
         "ADDISONADDISON",
         "Democratic",
         "Bernie Sanders",
         "251"
        ],
        [
         "1",
         "ORLEANSALBANY",
         "Democratic",
         "Bernie Sanders",
         "139"
        ],
        [
         "2",
         "GRAND ISLEALBURGH",
         "Democratic",
         "Bernie Sanders",
         "315"
        ],
        [
         "3",
         "WINDSORANDOVER",
         "Democratic",
         "Bernie Sanders",
         "100"
        ],
        [
         "4",
         "BENNINGTONARLINGTON",
         "Democratic",
         "Bernie Sanders",
         "398"
        ],
        [
         "5",
         "WINDHAMATHENS",
         "Democratic",
         "Bernie Sanders",
         "57"
        ],
        [
         "6",
         "FRANKLINBAKERSFIELD",
         "Democratic",
         "Bernie Sanders",
         "243"
        ],
        [
         "7",
         "WINDSORBALTIMORE",
         "Democratic",
         "Bernie Sanders",
         "43"
        ],
        [
         "8",
         "WINDSORBARNARD",
         "Democratic",
         "Bernie Sanders",
         "214"
        ],
        [
         "9",
         "CALEDONIABARNET",
         "Democratic",
         "Bernie Sanders",
         "309"
        ],
        [
         "10",
         "WASHINGTONBARRE CITY",
         "Democratic",
         "Bernie Sanders",
         "1058"
        ],
        [
         "11",
         "WASHINGTONBARRE TOWN",
         "Democratic",
         "Bernie Sanders",
         "1087"
        ],
        [
         "12",
         "ORLEANSBARTON",
         "Democratic",
         "Bernie Sanders",
         "318"
        ],
        [
         "13",
         "LAMOILLEBELVIDERE",
         "Democratic",
         "Bernie Sanders",
         "46"
        ],
        [
         "14",
         "BENNINGTONBENNINGTON",
         "Democratic",
         "Bernie Sanders",
         "2121"
        ],
        [
         "15",
         "RUTLANDBENSON",
         "Democratic",
         "Bernie Sanders",
         "159"
        ],
        [
         "16",
         "FRANKLINBERKSHIRE",
         "Democratic",
         "Bernie Sanders",
         "181"
        ],
        [
         "17",
         "WASHINGTONBERLIN",
         "Democratic",
         "Bernie Sanders",
         "469"
        ],
        [
         "18",
         "WINDSORBETHEL",
         "Democratic",
         "Bernie Sanders",
         "376"
        ],
        [
         "19",
         "ESSEXBLOOMFIELD",
         "Democratic",
         "Bernie Sanders",
         "42"
        ],
        [
         "20",
         "CHITTENDENBOLTON",
         "Democratic",
         "Bernie Sanders",
         "293"
        ],
        [
         "21",
         "ORANGEBRADFORD",
         "Democratic",
         "Bernie Sanders",
         "418"
        ],
        [
         "22",
         "ORANGEBRAINTREE",
         "Democratic",
         "Bernie Sanders",
         "221"
        ],
        [
         "23",
         "RUTLANDBRANDON",
         "Democratic",
         "Bernie Sanders",
         "668"
        ],
        [
         "24",
         "WINDHAMBRATTLEBORO",
         "Democratic",
         "Bernie Sanders",
         "2916"
        ],
        [
         "25",
         "WINDSORBRIDGEWATER",
         "Democratic",
         "Bernie Sanders",
         "165"
        ],
        [
         "26",
         "ADDISONBRIDPORT",
         "Democratic",
         "Bernie Sanders",
         "189"
        ],
        [
         "27",
         "ESSEXBRIGHTON",
         "Democratic",
         "Bernie Sanders",
         "188"
        ],
        [
         "28",
         "ADDISONBRISTOL",
         "Democratic",
         "Bernie Sanders",
         "822"
        ],
        [
         "29",
         "ORANGEBROOKFIELD",
         "Democratic",
         "Bernie Sanders",
         "275"
        ],
        [
         "30",
         "WINDHAMBROOKLINE",
         "Democratic",
         "Bernie Sanders",
         "129"
        ],
        [
         "31",
         "ORLEANSBROWNINGTON",
         "Democratic",
         "Bernie Sanders",
         "103"
        ],
        [
         "32",
         "ESSEXBRUNSWICK",
         "Democratic",
         "Bernie Sanders",
         "20"
        ],
        [
         "33",
         "CALEDONIABURKE",
         "Democratic",
         "Bernie Sanders",
         "280"
        ],
        [
         "34",
         "CHITTENDENBURLINGTON",
         "Democratic",
         "Bernie Sanders",
         "9105"
        ],
        [
         "35",
         "WASHINGTONCABOT",
         "Democratic",
         "Bernie Sanders",
         "320"
        ],
        [
         "36",
         "WASHINGTONCALAIS",
         "Democratic",
         "Bernie Sanders",
         "491"
        ],
        [
         "37",
         "LAMOILLECAMBRIDGE",
         "Democratic",
         "Bernie Sanders",
         "696"
        ],
        [
         "38",
         "ESSEXCANAAN",
         "Democratic",
         "Bernie Sanders",
         "132"
        ],
        [
         "39",
         "RUTLANDCASTLETON",
         "Democratic",
         "Bernie Sanders",
         "546"
        ],
        [
         "40",
         "WINDSORCAVENDISH",
         "Democratic",
         "Bernie Sanders",
         "250"
        ],
        [
         "41",
         "ORLEANSCHARLESTON",
         "Democratic",
         "Bernie Sanders",
         "117"
        ],
        [
         "42",
         "CHITTENDENCHARLOTTE",
         "Democratic",
         "Bernie Sanders",
         "1002"
        ],
        [
         "43",
         "ORANGECHELSEA",
         "Democratic",
         "Bernie Sanders",
         "185"
        ],
        [
         "44",
         "WINDSORCHESTER",
         "Democratic",
         "Bernie Sanders",
         "592"
        ],
        [
         "45",
         "RUTLANDCHITTENDEN",
         "Democratic",
         "Bernie Sanders",
         "254"
        ],
        [
         "46",
         "RUTLANDCLARENDON",
         "Democratic",
         "Bernie Sanders",
         "317"
        ],
        [
         "47",
         "CHITTENDENCOLCHESTER",
         "Democratic",
         "Bernie Sanders",
         "2695"
        ],
        [
         "48",
         "ESSEXCONCORD",
         "Democratic",
         "Bernie Sanders",
         "168"
        ],
        [
         "49",
         "ORANGECORINTH",
         "Democratic",
         "Bernie Sanders",
         "254"
        ]
       ],
       "shape": {
        "columns": 4,
        "rows": 5412
       }
      },
      "text/html": [
       "<div>\n",
       "<style scoped>\n",
       "    .dataframe tbody tr th:only-of-type {\n",
       "        vertical-align: middle;\n",
       "    }\n",
       "\n",
       "    .dataframe tbody tr th {\n",
       "        vertical-align: top;\n",
       "    }\n",
       "\n",
       "    .dataframe thead th {\n",
       "        text-align: right;\n",
       "    }\n",
       "</style>\n",
       "<table border=\"1\" class=\"dataframe\">\n",
       "  <thead>\n",
       "    <tr style=\"text-align: right;\">\n",
       "      <th></th>\n",
       "      <th>precinct</th>\n",
       "      <th>party</th>\n",
       "      <th>candidate</th>\n",
       "      <th>votes</th>\n",
       "    </tr>\n",
       "  </thead>\n",
       "  <tbody>\n",
       "    <tr>\n",
       "      <th>0</th>\n",
       "      <td>ADDISONADDISON</td>\n",
       "      <td>Democratic</td>\n",
       "      <td>Bernie Sanders</td>\n",
       "      <td>251</td>\n",
       "    </tr>\n",
       "    <tr>\n",
       "      <th>1</th>\n",
       "      <td>ORLEANSALBANY</td>\n",
       "      <td>Democratic</td>\n",
       "      <td>Bernie Sanders</td>\n",
       "      <td>139</td>\n",
       "    </tr>\n",
       "    <tr>\n",
       "      <th>2</th>\n",
       "      <td>GRAND ISLEALBURGH</td>\n",
       "      <td>Democratic</td>\n",
       "      <td>Bernie Sanders</td>\n",
       "      <td>315</td>\n",
       "    </tr>\n",
       "    <tr>\n",
       "      <th>3</th>\n",
       "      <td>WINDSORANDOVER</td>\n",
       "      <td>Democratic</td>\n",
       "      <td>Bernie Sanders</td>\n",
       "      <td>100</td>\n",
       "    </tr>\n",
       "    <tr>\n",
       "      <th>4</th>\n",
       "      <td>BENNINGTONARLINGTON</td>\n",
       "      <td>Democratic</td>\n",
       "      <td>Bernie Sanders</td>\n",
       "      <td>398</td>\n",
       "    </tr>\n",
       "    <tr>\n",
       "      <th>...</th>\n",
       "      <td>...</td>\n",
       "      <td>...</td>\n",
       "      <td>...</td>\n",
       "      <td>...</td>\n",
       "    </tr>\n",
       "    <tr>\n",
       "      <th>5407</th>\n",
       "      <td>LAMOILLEWOLCOTT</td>\n",
       "      <td>Republican</td>\n",
       "      <td>Total Votes Cast</td>\n",
       "      <td>89</td>\n",
       "    </tr>\n",
       "    <tr>\n",
       "      <th>5408</th>\n",
       "      <td>WASHINGTONWOODBURY</td>\n",
       "      <td>Republican</td>\n",
       "      <td>Total Votes Cast</td>\n",
       "      <td>64</td>\n",
       "    </tr>\n",
       "    <tr>\n",
       "      <th>5409</th>\n",
       "      <td>BENNINGTONWOODFORD</td>\n",
       "      <td>Republican</td>\n",
       "      <td>Total Votes Cast</td>\n",
       "      <td>29</td>\n",
       "    </tr>\n",
       "    <tr>\n",
       "      <th>5410</th>\n",
       "      <td>WINDSORWOODSTOCK</td>\n",
       "      <td>Republican</td>\n",
       "      <td>Total Votes Cast</td>\n",
       "      <td>340</td>\n",
       "    </tr>\n",
       "    <tr>\n",
       "      <th>5411</th>\n",
       "      <td>WASHINGTONWORCESTER</td>\n",
       "      <td>Republican</td>\n",
       "      <td>Total Votes Cast</td>\n",
       "      <td>76</td>\n",
       "    </tr>\n",
       "  </tbody>\n",
       "</table>\n",
       "<p>5412 rows × 4 columns</p>\n",
       "</div>"
      ],
      "text/plain": [
       "                 precinct       party         candidate  votes\n",
       "0          ADDISONADDISON  Democratic    Bernie Sanders    251\n",
       "1           ORLEANSALBANY  Democratic    Bernie Sanders    139\n",
       "2       GRAND ISLEALBURGH  Democratic    Bernie Sanders    315\n",
       "3          WINDSORANDOVER  Democratic    Bernie Sanders    100\n",
       "4     BENNINGTONARLINGTON  Democratic    Bernie Sanders    398\n",
       "...                   ...         ...               ...    ...\n",
       "5407      LAMOILLEWOLCOTT  Republican  Total Votes Cast     89\n",
       "5408   WASHINGTONWOODBURY  Republican  Total Votes Cast     64\n",
       "5409   BENNINGTONWOODFORD  Republican  Total Votes Cast     29\n",
       "5410     WINDSORWOODSTOCK  Republican  Total Votes Cast    340\n",
       "5411  WASHINGTONWORCESTER  Republican  Total Votes Cast     76\n",
       "\n",
       "[5412 rows x 4 columns]"
      ]
     },
     "execution_count": 7,
     "metadata": {},
     "output_type": "execute_result"
    }
   ],
   "source": [
    "# Select only the relevant columns\n",
    "primary_data = pri_combined_df[[\"precinct\", \"party\", \"candidate\", \"votes\"]]\n",
    "\n",
    "primary_data"
   ]
  },
  {
   "cell_type": "code",
   "execution_count": 8,
   "id": "dc2ffa15",
   "metadata": {},
   "outputs": [
    {
     "data": {
      "application/vnd.microsoft.datawrangler.viewer.v0+json": {
       "columns": [
        {
         "name": "candidate",
         "rawType": "object",
         "type": "string"
        },
        {
         "name": "count",
         "rawType": "int64",
         "type": "integer"
        }
       ],
       "ref": "e3964194-6509-4b6a-a63a-35a423ca8807",
       "rows": [
        [
         "Write Ins",
         "492"
        ],
        [
         "Blanks",
         "492"
        ],
        [
         "Spoiled",
         "492"
        ],
        [
         "Total Votes Cast",
         "492"
        ],
        [
         "Bernie Sanders",
         "246"
        ],
        [
         "Ted Cruz",
         "246"
        ],
        [
         "Carly Fiorina",
         "246"
        ],
        [
         "Chris Christie",
         "246"
        ],
        [
         "Rand Paul",
         "246"
        ],
        [
         "Jeb Bush",
         "246"
        ],
        [
         "Ben Carson",
         "246"
        ],
        [
         "John R. Kasich",
         "246"
        ],
        [
         "Marco Rubio",
         "246"
        ],
        [
         "Hillary Clinton",
         "246"
        ],
        [
         "Donald J. Trump",
         "246"
        ],
        [
         "Roque De La Fuente",
         "246"
        ],
        [
         "Martin J. O Malley",
         "246"
        ],
        [
         "Rick Santorum",
         "246"
        ]
       ],
       "shape": {
        "columns": 1,
        "rows": 18
       }
      },
      "text/plain": [
       "candidate\n",
       "Write Ins             492\n",
       "Blanks                492\n",
       "Spoiled               492\n",
       "Total Votes Cast      492\n",
       "Bernie Sanders        246\n",
       "Ted Cruz              246\n",
       "Carly Fiorina         246\n",
       "Chris Christie        246\n",
       "Rand Paul             246\n",
       "Jeb Bush              246\n",
       "Ben Carson            246\n",
       "John R. Kasich        246\n",
       "Marco Rubio           246\n",
       "Hillary Clinton       246\n",
       "Donald J. Trump       246\n",
       "Roque De La Fuente    246\n",
       "Martin J. O Malley    246\n",
       "Rick Santorum         246\n",
       "Name: count, dtype: int64"
      ]
     },
     "execution_count": 8,
     "metadata": {},
     "output_type": "execute_result"
    }
   ],
   "source": [
    "# Viewing candidate data\n",
    "primary_data[\"candidate\"].value_counts(dropna=False)"
   ]
  },
  {
   "cell_type": "code",
   "execution_count": 10,
   "id": "5eef8778",
   "metadata": {},
   "outputs": [
    {
     "name": "stderr",
     "output_type": "stream",
     "text": [
      "C:\\Users\\ADMIN\\AppData\\Local\\Temp\\ipykernel_2548\\568524693.py:4: SettingWithCopyWarning: \n",
      "A value is trying to be set on a copy of a slice from a DataFrame.\n",
      "Try using .loc[row_indexer,col_indexer] = value instead\n",
      "\n",
      "See the caveats in the documentation: https://pandas.pydata.org/pandas-docs/stable/user_guide/indexing.html#returning-a-view-versus-a-copy\n",
      "  primary_data[\"candidate\"] = primary_data[\"candidate\"].astype(str).str.upper()\n"
     ]
    },
    {
     "data": {
      "application/vnd.microsoft.datawrangler.viewer.v0+json": {
       "columns": [
        {
         "name": "candidate",
         "rawType": "object",
         "type": "string"
        },
        {
         "name": "count",
         "rawType": "int64",
         "type": "integer"
        }
       ],
       "ref": "bed6d510-0686-4855-89c5-4e484fba973f",
       "rows": [
        [
         "SANDERS",
         "246"
        ],
        [
         "CLINTON",
         "246"
        ],
        [
         "O'MALLEY",
         "246"
        ],
        [
         "FUENTE",
         "246"
        ],
        [
         "TRUMP",
         "246"
        ],
        [
         "KASICH",
         "246"
        ],
        [
         "RUBIO",
         "246"
        ],
        [
         "CRUZ",
         "246"
        ],
        [
         "CARSON",
         "246"
        ],
        [
         "BUSH",
         "246"
        ],
        [
         "PAUL",
         "246"
        ],
        [
         "CHRISTIE",
         "246"
        ],
        [
         "FIORINA",
         "246"
        ],
        [
         "SANTORUM",
         "246"
        ]
       ],
       "shape": {
        "columns": 1,
        "rows": 14
       }
      },
      "text/plain": [
       "candidate\n",
       "SANDERS     246\n",
       "CLINTON     246\n",
       "O'MALLEY    246\n",
       "FUENTE      246\n",
       "TRUMP       246\n",
       "KASICH      246\n",
       "RUBIO       246\n",
       "CRUZ        246\n",
       "CARSON      246\n",
       "BUSH        246\n",
       "PAUL        246\n",
       "CHRISTIE    246\n",
       "FIORINA     246\n",
       "SANTORUM    246\n",
       "Name: count, dtype: int64"
      ]
     },
     "execution_count": 10,
     "metadata": {},
     "output_type": "execute_result"
    }
   ],
   "source": [
    "# Cleaning Candidates\n",
    "\n",
    "# Turning all primary data to uppercase\n",
    "primary_data[\"candidate\"] = primary_data[\"candidate\"].astype(str).str.upper()\n",
    "\n",
    "unwanted_keywords = [\n",
    "    r\"\\w*VOTE\\w*\",\n",
    "    r\"\\w*UNCOM\\w*\",\n",
    "    r\"\\w*TOTAL\\w*\",\n",
    "    r\"\\w*ATTERING\\w*\",\n",
    "    r\"\\w*UNINSTRUCTED\\w*\",\n",
    "    r\"\\w*WRITE\\w*\",\n",
    "    r\"UNCOMMITTED\", r\"OTHER\",r\"Total Votes Cast\",r\"No Preference\",r\"SPOILED\",\n",
    "    r\"BLANKS\",\n",
    "]\n",
    "\n",
    "pattern = \"|\".join(unwanted_keywords)\n",
    "\n",
    "# Assuming candidate column is already string and uppercase\n",
    "primary_data = primary_data[~primary_data[\"candidate\"].str.upper().str.contains(pattern, regex=True, na=False)]\n",
    "\n",
    "#fIXING DE LA FUENTE\n",
    "primary_data.loc[\n",
    "    (\n",
    "        primary_data[\"candidate\"].str.contains(\"rocky.*fuente\", case=False, na=False) |\n",
    "        primary_data[\"candidate\"].str.contains(\"LA FUENTE\", case=False, na=False) |\n",
    "        primary_data[\"candidate\"].str.contains(\"\\w*Fuque\\w*\", case=False, na=False)\n",
    "    ),\n",
    "    \"candidate\"\n",
    "] = \"LA FUENTE\"\n",
    "\n",
    "# # Fixing williams\n",
    "primary_data.loc[\n",
    "    primary_data[\"candidate\"].str.contains(\"WILLIAMS\", case=False, na=False),\n",
    "    \"candidate\"\n",
    "] = \"WILLIAMS\"\n",
    "\n",
    "primary_data.loc[:, \"candidate\"] = primary_data[\"candidate\"].replace({\n",
    "    \"Donald I. Trump\": \"Donald J. Trump\",\n",
    "})\n",
    "\n",
    "# # Fixing the , candidate\n",
    "# primary_data[\"candidate\"] = (\n",
    "#     primary_data[\"candidate\"].str.split(\",\")\n",
    "#     .str[0]\n",
    "#     .str.strip()\n",
    "#     )\n",
    "\n",
    "\n",
    "# #Selecting only last name\n",
    "primary_data[\"candidate\"] = primary_data[\"candidate\"].str.split().str[-1]\n",
    "\n",
    "# # Fixing Christie\n",
    "# primary_data.loc[\n",
    "#     primary_data[\"candidate\"].str.contains(\"CHRISTLE\", case=False, na=False),\n",
    "#     \"candidate\"\n",
    "# ] = \"CHRISTIE\"\n",
    "\n",
    "# # Fixing KASICH\n",
    "# primary_data.loc[\n",
    "#     primary_data[\"candidate\"].str.contains(\"KAISCH\", case=False, na=False),\n",
    "#     \"candidate\"\n",
    "# ] = \"CHRISTIE\"\n",
    "\n",
    "# # Fixing O'MALLEY\n",
    "# primary_data.loc[\n",
    "#     primary_data[\"candidate\"].str.contains(\"O'MALLEY\", case=False, na=False),\n",
    "#     \"candidate\"\n",
    "# ] = \"O'MAILEY\"\n",
    "\n",
    "# # Fixing O'MALLEY\n",
    "# primary_data.loc[\n",
    "#     primary_data[\"candidate\"].str.contains(\"PATAKL\", case=False, na=False),\n",
    "#     \"candidate\"\n",
    "# ] = \"PATAKI\"\n",
    "\n",
    "# # Fixing O'MALLEY\n",
    "# primary_data.loc[\n",
    "#     primary_data[\"candidate\"].str.contains(\"RUBLO\", case=False, na=False),\n",
    "#     \"candidate\"\n",
    "# ] = \"RUBIO\"\n",
    "\n",
    "# # Fixing Huckabee\n",
    "# primary_data.loc[\n",
    "#     primary_data[\"candidate\"].str.contains(\"\\w*ABEE\\w*\", case=False, na=False),\n",
    "#     \"candidate\"\n",
    "# ] = \"HUCKABEE\"\n",
    "\n",
    "# # Fixing Fiorina\n",
    "# primary_data.loc[\n",
    "#     primary_data[\"candidate\"].str.contains(\"\\w*ORINA\\W*\", case=False, na=False),\n",
    "#     \"candidate\"\n",
    "# ] = \"FIORINA\"\n",
    "\n",
    "# # Fixing Gray\n",
    "# primary_data.loc[\n",
    "#     primary_data[\"candidate\"].str.contains(\"GREY\", case=False, na=False),\n",
    "#     \"candidate\"\n",
    "# ] = \"GRAY\"\n",
    "\n",
    "# Fixing Wilson\n",
    "primary_data.loc[\n",
    "    primary_data[\"candidate\"].str.contains(\"MALLEY\", case=False, na=False),\n",
    "    \"candidate\"\n",
    "] = \"O'MALLEY\"\n",
    "\n",
    "\n",
    "# # Fixing separator \n",
    "# primary_data[\"candidate\"] = (\n",
    "#     primary_data[\"candidate\"]\n",
    "#     .str.split(r\"\\s*(?:and|/|&|–|-|\\+)\\s*\", n=1, expand=True)[0]\n",
    "#     .str.strip()\n",
    "#     .str.upper()\n",
    "# )\n",
    "\n",
    "# # Fixing McMullin\n",
    "\n",
    "# primary_data.loc[\n",
    "#     (\n",
    "#         primary_data[\"candidate\"].str.contains(\"MCMULLIN\", case=False, na=False) |\n",
    "#         primary_data[\"candidate\"].str.contains(\"EVAN MCMULLEN\", case=False, na=False)\n",
    "#     ),\n",
    "#     \"candidate\"\n",
    "# ] = \"MCMULLIN\"\n",
    "\n",
    "# primary_data.loc[\n",
    "#     primary_data[\"candidate\"].str.contains(\"De La Fuen\", case=False, na=False),\n",
    "#     \"candidate\"\n",
    "# ] = \"FUENTE D\"\n",
    "\n",
    "# primary_data.loc[:,\"candidate\"] = (\n",
    "#     primary_data[\"candidate\"].str.split().str[0].str.upper()\n",
    "# )\n",
    "\n",
    "primary_data[\"candidate\"].value_counts(dropna=False)"
   ]
  },
  {
   "cell_type": "code",
   "execution_count": 11,
   "id": "dcc76af7",
   "metadata": {},
   "outputs": [
    {
     "data": {
      "application/vnd.microsoft.datawrangler.viewer.v0+json": {
       "columns": [
        {
         "name": "party",
         "rawType": "object",
         "type": "string"
        },
        {
         "name": "count",
         "rawType": "int64",
         "type": "integer"
        }
       ],
       "ref": "5413e42e-09de-49af-93e8-676d07071d7a",
       "rows": [
        [
         "Republican",
         "2460"
        ],
        [
         "Democratic",
         "984"
        ]
       ],
       "shape": {
        "columns": 1,
        "rows": 2
       }
      },
      "text/plain": [
       "party\n",
       "Republican    2460\n",
       "Democratic     984\n",
       "Name: count, dtype: int64"
      ]
     },
     "execution_count": 11,
     "metadata": {},
     "output_type": "execute_result"
    }
   ],
   "source": [
    "# Viewing Party\n",
    "primary_data[\"party\"].value_counts(dropna=False)"
   ]
  },
  {
   "cell_type": "code",
   "execution_count": 12,
   "id": "582aa6c5",
   "metadata": {},
   "outputs": [
    {
     "data": {
      "application/vnd.microsoft.datawrangler.viewer.v0+json": {
       "columns": [
        {
         "name": "party",
         "rawType": "object",
         "type": "string"
        },
        {
         "name": "count",
         "rawType": "int64",
         "type": "integer"
        }
       ],
       "ref": "cc52d251-3719-4c4f-ab97-004ddae24fe9",
       "rows": [
        [
         "Republican",
         "2460"
        ],
        [
         "Democratic",
         "984"
        ]
       ],
       "shape": {
        "columns": 1,
        "rows": 2
       }
      },
      "text/plain": [
       "party\n",
       "Republican    2460\n",
       "Democratic     984\n",
       "Name: count, dtype: int64"
      ]
     },
     "execution_count": 12,
     "metadata": {},
     "output_type": "execute_result"
    }
   ],
   "source": [
    "#=====================================\n",
    "# This function is used to look up party\n",
    "# for the candidate in the same df\n",
    "#=====================================\n",
    "def fill_party_from_data(row, df):\n",
    "    if pd.notna(row[\"party\"]):\n",
    "        return row[\"party\"]\n",
    "    \n",
    "    # Try to find other rows with the same candidate and known party\n",
    "    matches = df[(df[\"candidate\"] == row[\"candidate\"]) & (df[\"party\"].notna())]\n",
    "    if not matches.empty:\n",
    "        return matches[\"party\"].iloc[0]  # Return the first match's party\n",
    "    else:\n",
    "        return None  # Still unknown\n",
    "\n",
    "#=====================================\n",
    "# Example usage (uncomment and modify for your workflow)\n",
    "#=====================================\n",
    "# Fill party using internal data\n",
    "# primary_data[\"party\"] = primary_data.apply(\n",
    "#     lambda row: fill_party_from_data(row, primary_data),\n",
    "#     axis=1\n",
    "# )\n",
    "\n",
    "primary_data[\"party\"].value_counts(dropna=False)\n"
   ]
  },
  {
   "cell_type": "code",
   "execution_count": 13,
   "id": "34361751",
   "metadata": {},
   "outputs": [
    {
     "data": {
      "application/vnd.microsoft.datawrangler.viewer.v0+json": {
       "columns": [
        {
         "name": "party",
         "rawType": "object",
         "type": "string"
        },
        {
         "name": "count",
         "rawType": "int64",
         "type": "integer"
        }
       ],
       "ref": "66248ea8-1ea1-4a1d-a6e2-b0607941bbb7",
       "rows": [
        [
         "REP",
         "2460"
        ],
        [
         "DEM",
         "984"
        ]
       ],
       "shape": {
        "columns": 1,
        "rows": 2
       }
      },
      "text/plain": [
       "party\n",
       "REP    2460\n",
       "DEM     984\n",
       "Name: count, dtype: int64"
      ]
     },
     "execution_count": 13,
     "metadata": {},
     "output_type": "execute_result"
    }
   ],
   "source": [
    "# Cleaning Party\n",
    "# Turning all general data party to uppercase\n",
    "primary_data[\"party\"] = primary_data[\"party\"].astype(str).str.upper()\n",
    "\n",
    "# primary_data[\"party\"] = primary_data.apply(\n",
    "#     lambda row: fill_party_from_data(row, primary_data),\n",
    "#     axis=1\n",
    "# )\n",
    "primary_data[\"party\"] = (\n",
    "    primary_data[\"party\"]\n",
    "    .replace({\n",
    "        \"REPUBLICAN\": \"REP\",\n",
    "        \"R\": \"REP\",\n",
    "        \"DEMOCRATIC\": \"DEM\",\n",
    "        \"DEMOCRAT\":\"DEM\",\n",
    "        \"DEM\": \"DEM\",\n",
    "        \"D\": \"DEM\",\n",
    "        \"GREEN\": \"GRN\",\n",
    "        \"G\": \"GREEN\",\n",
    "        \"GREEN-RAINBOW\":\"GRN\",\n",
    "        \"LIBERTARIAN\": \"LIB\",\n",
    "        \"LBT\": \"LIB\",\n",
    "        \"L\": \"LIB\",\n",
    "        \"CONSTITUTION\": \"CON\",\n",
    "        \"NP\": \"IND\",\n",
    "        \"NON\": \"IND\",\n",
    "        \"WRI\": \"IND\",\n",
    "        \"WRITE-IN\": \"IND\",\n",
    "        \"ONA\": \"IND\",\n",
    "        \"GEN\": \"IND\",\n",
    "        \"NONE\":\"UNK\"\n",
    "    })\n",
    ")\n",
    "primary_data[\"party\"].value_counts(dropna=False)"
   ]
  },
  {
   "cell_type": "code",
   "execution_count": 14,
   "id": "a359cd18",
   "metadata": {},
   "outputs": [
    {
     "data": {
      "application/vnd.microsoft.datawrangler.viewer.v0+json": {
       "columns": [
        {
         "name": "index",
         "rawType": "int64",
         "type": "integer"
        },
        {
         "name": "precinct",
         "rawType": "object",
         "type": "string"
        },
        {
         "name": "pri_dem_CLINTON",
         "rawType": "int64",
         "type": "integer"
        },
        {
         "name": "pri_dem_FUENTE",
         "rawType": "int64",
         "type": "integer"
        },
        {
         "name": "pri_dem_O'MALLEY",
         "rawType": "int64",
         "type": "integer"
        },
        {
         "name": "pri_dem_SANDERS",
         "rawType": "int64",
         "type": "integer"
        },
        {
         "name": "pri_rep_BUSH",
         "rawType": "int64",
         "type": "integer"
        },
        {
         "name": "pri_rep_CARSON",
         "rawType": "int64",
         "type": "integer"
        },
        {
         "name": "pri_rep_CHRISTIE",
         "rawType": "int64",
         "type": "integer"
        },
        {
         "name": "pri_rep_CRUZ",
         "rawType": "int64",
         "type": "integer"
        },
        {
         "name": "pri_rep_FIORINA",
         "rawType": "int64",
         "type": "integer"
        },
        {
         "name": "pri_rep_KASICH",
         "rawType": "int64",
         "type": "integer"
        },
        {
         "name": "pri_rep_PAUL",
         "rawType": "int64",
         "type": "integer"
        },
        {
         "name": "pri_rep_RUBIO",
         "rawType": "int64",
         "type": "integer"
        },
        {
         "name": "pri_rep_SANTORUM",
         "rawType": "int64",
         "type": "integer"
        },
        {
         "name": "pri_rep_TRUMP",
         "rawType": "int64",
         "type": "integer"
        }
       ],
       "ref": "67284be9-3ace-4994-becb-e2d390b24cd3",
       "rows": [
        [
         "0",
         "ADDISONADDISON",
         "40",
         "0",
         "0",
         "251",
         "2",
         "17",
         "0",
         "33",
         "1",
         "51",
         "2",
         "56",
         "1",
         "66"
        ],
        [
         "1",
         "ADDISONBRIDPORT",
         "26",
         "0",
         "2",
         "189",
         "6",
         "13",
         "1",
         "23",
         "0",
         "51",
         "1",
         "36",
         "0",
         "67"
        ],
        [
         "2",
         "ADDISONBRISTOL",
         "76",
         "0",
         "1",
         "822",
         "10",
         "16",
         "5",
         "44",
         "2",
         "98",
         "4",
         "71",
         "1",
         "124"
        ],
        [
         "3",
         "ADDISONCORNWALL",
         "78",
         "1",
         "0",
         "290",
         "1",
         "3",
         "0",
         "12",
         "0",
         "54",
         "4",
         "34",
         "0",
         "31"
        ],
        [
         "4",
         "ADDISONFERRISBURGH",
         "90",
         "0",
         "1",
         "622",
         "10",
         "19",
         "5",
         "55",
         "1",
         "117",
         "0",
         "83",
         "2",
         "105"
        ],
        [
         "5",
         "ADDISONGOSHEN",
         "14",
         "0",
         "0",
         "55",
         "0",
         "3",
         "1",
         "1",
         "0",
         "13",
         "0",
         "1",
         "0",
         "4"
        ],
        [
         "6",
         "ADDISONGRANVILLE",
         "5",
         "0",
         "0",
         "86",
         "1",
         "0",
         "0",
         "0",
         "0",
         "5",
         "0",
         "2",
         "0",
         "4"
        ],
        [
         "7",
         "ADDISONHANCOCK",
         "2",
         "0",
         "0",
         "60",
         "0",
         "2",
         "0",
         "1",
         "0",
         "1",
         "0",
         "6",
         "1",
         "11"
        ],
        [
         "8",
         "ADDISONLEICESTER",
         "28",
         "0",
         "0",
         "153",
         "1",
         "3",
         "0",
         "16",
         "0",
         "27",
         "1",
         "17",
         "1",
         "52"
        ],
        [
         "9",
         "ADDISONLINCOLN",
         "31",
         "0",
         "1",
         "437",
         "5",
         "10",
         "1",
         "12",
         "0",
         "40",
         "4",
         "16",
         "1",
         "38"
        ],
        [
         "10",
         "ADDISONMIDDLEBURY",
         "317",
         "1",
         "4",
         "1470",
         "16",
         "9",
         "2",
         "49",
         "1",
         "209",
         "2",
         "116",
         "1",
         "88"
        ],
        [
         "11",
         "ADDISONMONKTON",
         "46",
         "0",
         "1",
         "524",
         "5",
         "5",
         "2",
         "38",
         "0",
         "54",
         "7",
         "44",
         "0",
         "65"
        ],
        [
         "12",
         "ADDISONNEW HAVEN",
         "46",
         "0",
         "2",
         "426",
         "4",
         "6",
         "4",
         "33",
         "3",
         "61",
         "0",
         "50",
         "0",
         "88"
        ],
        [
         "13",
         "ADDISONORWELL",
         "32",
         "0",
         "0",
         "174",
         "1",
         "14",
         "2",
         "21",
         "1",
         "66",
         "1",
         "33",
         "0",
         "63"
        ],
        [
         "14",
         "ADDISONPANTON",
         "17",
         "0",
         "1",
         "116",
         "1",
         "3",
         "1",
         "7",
         "0",
         "26",
         "0",
         "27",
         "1",
         "30"
        ],
        [
         "15",
         "ADDISONRIPTON",
         "26",
         "0",
         "0",
         "189",
         "0",
         "1",
         "0",
         "5",
         "0",
         "10",
         "1",
         "4",
         "0",
         "13"
        ],
        [
         "16",
         "ADDISONSALISBURY",
         "34",
         "0",
         "1",
         "192",
         "2",
         "6",
         "0",
         "19",
         "1",
         "24",
         "1",
         "15",
         "1",
         "45"
        ],
        [
         "17",
         "ADDISONSHOREHAM",
         "32",
         "0",
         "0",
         "266",
         "2",
         "4",
         "1",
         "24",
         "1",
         "30",
         "3",
         "28",
         "0",
         "37"
        ],
        [
         "18",
         "ADDISONSTARKSBORO",
         "30",
         "0",
         "1",
         "422",
         "4",
         "9",
         "2",
         "27",
         "0",
         "54",
         "4",
         "25",
         "0",
         "61"
        ],
        [
         "19",
         "ADDISONVERGENNES",
         "54",
         "1",
         "0",
         "568",
         "4",
         "16",
         "1",
         "26",
         "0",
         "83",
         "4",
         "49",
         "0",
         "71"
        ],
        [
         "20",
         "ADDISONWALTHAM",
         "18",
         "0",
         "0",
         "112",
         "0",
         "1",
         "0",
         "7",
         "1",
         "20",
         "1",
         "12",
         "0",
         "12"
        ],
        [
         "21",
         "ADDISONWEYBRIDGE",
         "61",
         "0",
         "0",
         "229",
         "1",
         "5",
         "0",
         "8",
         "0",
         "43",
         "1",
         "21",
         "0",
         "14"
        ],
        [
         "22",
         "ADDISONWHITING",
         "8",
         "0",
         "0",
         "79",
         "0",
         "0",
         "1",
         "9",
         "1",
         "7",
         "1",
         "5",
         "0",
         "14"
        ],
        [
         "23",
         "BENNINGTONARLINGTON",
         "84",
         "0",
         "0",
         "398",
         "3",
         "11",
         "4",
         "41",
         "1",
         "51",
         "0",
         "51",
         "0",
         "87"
        ],
        [
         "24",
         "BENNINGTONBENNINGTON",
         "400",
         "2",
         "9",
         "2121",
         "16",
         "47",
         "7",
         "115",
         "4",
         "165",
         "4",
         "196",
         "2",
         "435"
        ],
        [
         "25",
         "BENNINGTONDORSET",
         "104",
         "0",
         "1",
         "404",
         "5",
         "5",
         "2",
         "15",
         "2",
         "93",
         "4",
         "55",
         "1",
         "104"
        ],
        [
         "26",
         "BENNINGTONLANDGROVE",
         "12",
         "0",
         "0",
         "32",
         "1",
         "0",
         "0",
         "1",
         "0",
         "8",
         "1",
         "0",
         "0",
         "5"
        ],
        [
         "27",
         "BENNINGTONMANCHESTER",
         "221",
         "0",
         "1",
         "719",
         "8",
         "15",
         "11",
         "57",
         "2",
         "161",
         "1",
         "97",
         "0",
         "160"
        ],
        [
         "28",
         "BENNINGTONPERU",
         "16",
         "0",
         "0",
         "83",
         "1",
         "0",
         "1",
         "1",
         "0",
         "16",
         "0",
         "5",
         "0",
         "12"
        ],
        [
         "29",
         "BENNINGTONPOWNAL",
         "105",
         "1",
         "2",
         "469",
         "4",
         "11",
         "1",
         "35",
         "0",
         "46",
         "2",
         "49",
         "0",
         "158"
        ],
        [
         "30",
         "BENNINGTONREADSBORO",
         "41",
         "0",
         "0",
         "112",
         "2",
         "2",
         "0",
         "14",
         "0",
         "16",
         "0",
         "14",
         "0",
         "58"
        ],
        [
         "31",
         "BENNINGTONRUPERT",
         "28",
         "0",
         "0",
         "130",
         "5",
         "4",
         "1",
         "10",
         "0",
         "13",
         "0",
         "14",
         "0",
         "37"
        ],
        [
         "32",
         "BENNINGTONSANDGATE",
         "11",
         "0",
         "0",
         "66",
         "0",
         "2",
         "0",
         "9",
         "0",
         "5",
         "1",
         "11",
         "1",
         "25"
        ],
        [
         "33",
         "BENNINGTONSEARSBURG",
         "3",
         "0",
         "1",
         "14",
         "2",
         "0",
         "0",
         "6",
         "0",
         "1",
         "0",
         "1",
         "0",
         "15"
        ],
        [
         "34",
         "BENNINGTONSHAFTSBURY",
         "122",
         "0",
         "3",
         "596",
         "6",
         "16",
         "6",
         "54",
         "2",
         "82",
         "0",
         "71",
         "0",
         "159"
        ],
        [
         "35",
         "BENNINGTONSTAMFORD",
         "31",
         "0",
         "1",
         "118",
         "1",
         "9",
         "0",
         "21",
         "0",
         "13",
         "1",
         "12",
         "17",
         "55"
        ],
        [
         "36",
         "BENNINGTONSUNDERLAND",
         "23",
         "0",
         "1",
         "154",
         "1",
         "2",
         "2",
         "16",
         "0",
         "24",
         "1",
         "20",
         "0",
         "42"
        ],
        [
         "37",
         "BENNINGTONWINHALL",
         "44",
         "1",
         "0",
         "159",
         "3",
         "3",
         "3",
         "8",
         "0",
         "31",
         "1",
         "25",
         "0",
         "39"
        ],
        [
         "38",
         "BENNINGTONWOODFORD",
         "10",
         "0",
         "0",
         "76",
         "0",
         "0",
         "0",
         "2",
         "0",
         "3",
         "0",
         "3",
         "1",
         "19"
        ],
        [
         "39",
         "CALEDONIABARNET",
         "31",
         "1",
         "0",
         "309",
         "5",
         "12",
         "0",
         "23",
         "3",
         "55",
         "2",
         "35",
         "0",
         "64"
        ],
        [
         "40",
         "CALEDONIABURKE",
         "37",
         "0",
         "0",
         "280",
         "1",
         "8",
         "0",
         "12",
         "0",
         "58",
         "1",
         "30",
         "1",
         "74"
        ],
        [
         "41",
         "CALEDONIADANVILLE",
         "55",
         "7",
         "0",
         "371",
         "6",
         "9",
         "2",
         "28",
         "1",
         "86",
         "0",
         "52",
         "0",
         "85"
        ],
        [
         "42",
         "CALEDONIAGROTON",
         "18",
         "0",
         "1",
         "145",
         "5",
         "9",
         "5",
         "22",
         "2",
         "37",
         "0",
         "26",
         "0",
         "47"
        ],
        [
         "43",
         "CALEDONIAHARDWICK",
         "51",
         "0",
         "1",
         "520",
         "4",
         "5",
         "3",
         "14",
         "0",
         "66",
         "1",
         "48",
         "1",
         "85"
        ],
        [
         "44",
         "CALEDONIAKIRBY",
         "14",
         "0",
         "0",
         "100",
         "0",
         "5",
         "1",
         "7",
         "0",
         "14",
         "1",
         "24",
         "1",
         "12"
        ],
        [
         "45",
         "CALEDONIALYNDON",
         "53",
         "0",
         "1",
         "573",
         "10",
         "33",
         "1",
         "45",
         "4",
         "135",
         "1",
         "100",
         "0",
         "127"
        ],
        [
         "46",
         "CALEDONIANEWARK",
         "8",
         "0",
         "1",
         "86",
         "0",
         "6",
         "0",
         "9",
         "0",
         "9",
         "0",
         "8",
         "0",
         "28"
        ],
        [
         "47",
         "CALEDONIAPEACHAM",
         "24",
         "0",
         "0",
         "166",
         "4",
         "3",
         "1",
         "10",
         "1",
         "40",
         "1",
         "22",
         "0",
         "24"
        ],
        [
         "48",
         "CALEDONIARYEGATE",
         "30",
         "0",
         "0",
         "202",
         "2",
         "8",
         "0",
         "9",
         "0",
         "40",
         "0",
         "25",
         "0",
         "42"
        ],
        [
         "49",
         "CALEDONIASAINT JOHNSBURY",
         "140",
         "0",
         "2",
         "1013",
         "18",
         "41",
         "0",
         "84",
         "4",
         "231",
         "7",
         "164",
         "2",
         "194"
        ]
       ],
       "shape": {
        "columns": 15,
        "rows": 246
       }
      },
      "text/html": [
       "<div>\n",
       "<style scoped>\n",
       "    .dataframe tbody tr th:only-of-type {\n",
       "        vertical-align: middle;\n",
       "    }\n",
       "\n",
       "    .dataframe tbody tr th {\n",
       "        vertical-align: top;\n",
       "    }\n",
       "\n",
       "    .dataframe thead th {\n",
       "        text-align: right;\n",
       "    }\n",
       "</style>\n",
       "<table border=\"1\" class=\"dataframe\">\n",
       "  <thead>\n",
       "    <tr style=\"text-align: right;\">\n",
       "      <th>candidate_column</th>\n",
       "      <th>precinct</th>\n",
       "      <th>pri_dem_CLINTON</th>\n",
       "      <th>pri_dem_FUENTE</th>\n",
       "      <th>pri_dem_O'MALLEY</th>\n",
       "      <th>pri_dem_SANDERS</th>\n",
       "      <th>pri_rep_BUSH</th>\n",
       "      <th>pri_rep_CARSON</th>\n",
       "      <th>pri_rep_CHRISTIE</th>\n",
       "      <th>pri_rep_CRUZ</th>\n",
       "      <th>pri_rep_FIORINA</th>\n",
       "      <th>pri_rep_KASICH</th>\n",
       "      <th>pri_rep_PAUL</th>\n",
       "      <th>pri_rep_RUBIO</th>\n",
       "      <th>pri_rep_SANTORUM</th>\n",
       "      <th>pri_rep_TRUMP</th>\n",
       "    </tr>\n",
       "  </thead>\n",
       "  <tbody>\n",
       "    <tr>\n",
       "      <th>0</th>\n",
       "      <td>ADDISONADDISON</td>\n",
       "      <td>40</td>\n",
       "      <td>0</td>\n",
       "      <td>0</td>\n",
       "      <td>251</td>\n",
       "      <td>2</td>\n",
       "      <td>17</td>\n",
       "      <td>0</td>\n",
       "      <td>33</td>\n",
       "      <td>1</td>\n",
       "      <td>51</td>\n",
       "      <td>2</td>\n",
       "      <td>56</td>\n",
       "      <td>1</td>\n",
       "      <td>66</td>\n",
       "    </tr>\n",
       "    <tr>\n",
       "      <th>1</th>\n",
       "      <td>ADDISONBRIDPORT</td>\n",
       "      <td>26</td>\n",
       "      <td>0</td>\n",
       "      <td>2</td>\n",
       "      <td>189</td>\n",
       "      <td>6</td>\n",
       "      <td>13</td>\n",
       "      <td>1</td>\n",
       "      <td>23</td>\n",
       "      <td>0</td>\n",
       "      <td>51</td>\n",
       "      <td>1</td>\n",
       "      <td>36</td>\n",
       "      <td>0</td>\n",
       "      <td>67</td>\n",
       "    </tr>\n",
       "    <tr>\n",
       "      <th>2</th>\n",
       "      <td>ADDISONBRISTOL</td>\n",
       "      <td>76</td>\n",
       "      <td>0</td>\n",
       "      <td>1</td>\n",
       "      <td>822</td>\n",
       "      <td>10</td>\n",
       "      <td>16</td>\n",
       "      <td>5</td>\n",
       "      <td>44</td>\n",
       "      <td>2</td>\n",
       "      <td>98</td>\n",
       "      <td>4</td>\n",
       "      <td>71</td>\n",
       "      <td>1</td>\n",
       "      <td>124</td>\n",
       "    </tr>\n",
       "    <tr>\n",
       "      <th>3</th>\n",
       "      <td>ADDISONCORNWALL</td>\n",
       "      <td>78</td>\n",
       "      <td>1</td>\n",
       "      <td>0</td>\n",
       "      <td>290</td>\n",
       "      <td>1</td>\n",
       "      <td>3</td>\n",
       "      <td>0</td>\n",
       "      <td>12</td>\n",
       "      <td>0</td>\n",
       "      <td>54</td>\n",
       "      <td>4</td>\n",
       "      <td>34</td>\n",
       "      <td>0</td>\n",
       "      <td>31</td>\n",
       "    </tr>\n",
       "    <tr>\n",
       "      <th>4</th>\n",
       "      <td>ADDISONFERRISBURGH</td>\n",
       "      <td>90</td>\n",
       "      <td>0</td>\n",
       "      <td>1</td>\n",
       "      <td>622</td>\n",
       "      <td>10</td>\n",
       "      <td>19</td>\n",
       "      <td>5</td>\n",
       "      <td>55</td>\n",
       "      <td>1</td>\n",
       "      <td>117</td>\n",
       "      <td>0</td>\n",
       "      <td>83</td>\n",
       "      <td>2</td>\n",
       "      <td>105</td>\n",
       "    </tr>\n",
       "    <tr>\n",
       "      <th>...</th>\n",
       "      <td>...</td>\n",
       "      <td>...</td>\n",
       "      <td>...</td>\n",
       "      <td>...</td>\n",
       "      <td>...</td>\n",
       "      <td>...</td>\n",
       "      <td>...</td>\n",
       "      <td>...</td>\n",
       "      <td>...</td>\n",
       "      <td>...</td>\n",
       "      <td>...</td>\n",
       "      <td>...</td>\n",
       "      <td>...</td>\n",
       "      <td>...</td>\n",
       "      <td>...</td>\n",
       "    </tr>\n",
       "    <tr>\n",
       "      <th>241</th>\n",
       "      <td>WINDSORWEATHERSFIELD</td>\n",
       "      <td>78</td>\n",
       "      <td>0</td>\n",
       "      <td>0</td>\n",
       "      <td>538</td>\n",
       "      <td>10</td>\n",
       "      <td>15</td>\n",
       "      <td>4</td>\n",
       "      <td>46</td>\n",
       "      <td>2</td>\n",
       "      <td>101</td>\n",
       "      <td>3</td>\n",
       "      <td>50</td>\n",
       "      <td>0</td>\n",
       "      <td>183</td>\n",
       "    </tr>\n",
       "    <tr>\n",
       "      <th>242</th>\n",
       "      <td>WINDSORWEST WINDSOR</td>\n",
       "      <td>53</td>\n",
       "      <td>0</td>\n",
       "      <td>0</td>\n",
       "      <td>269</td>\n",
       "      <td>3</td>\n",
       "      <td>6</td>\n",
       "      <td>0</td>\n",
       "      <td>13</td>\n",
       "      <td>0</td>\n",
       "      <td>59</td>\n",
       "      <td>0</td>\n",
       "      <td>26</td>\n",
       "      <td>0</td>\n",
       "      <td>39</td>\n",
       "    </tr>\n",
       "    <tr>\n",
       "      <th>243</th>\n",
       "      <td>WINDSORWESTON</td>\n",
       "      <td>26</td>\n",
       "      <td>0</td>\n",
       "      <td>0</td>\n",
       "      <td>155</td>\n",
       "      <td>0</td>\n",
       "      <td>4</td>\n",
       "      <td>0</td>\n",
       "      <td>6</td>\n",
       "      <td>0</td>\n",
       "      <td>32</td>\n",
       "      <td>0</td>\n",
       "      <td>9</td>\n",
       "      <td>0</td>\n",
       "      <td>17</td>\n",
       "    </tr>\n",
       "    <tr>\n",
       "      <th>244</th>\n",
       "      <td>WINDSORWINDSOR</td>\n",
       "      <td>108</td>\n",
       "      <td>1</td>\n",
       "      <td>2</td>\n",
       "      <td>709</td>\n",
       "      <td>7</td>\n",
       "      <td>11</td>\n",
       "      <td>1</td>\n",
       "      <td>32</td>\n",
       "      <td>4</td>\n",
       "      <td>64</td>\n",
       "      <td>3</td>\n",
       "      <td>62</td>\n",
       "      <td>0</td>\n",
       "      <td>104</td>\n",
       "    </tr>\n",
       "    <tr>\n",
       "      <th>245</th>\n",
       "      <td>WINDSORWOODSTOCK</td>\n",
       "      <td>200</td>\n",
       "      <td>0</td>\n",
       "      <td>0</td>\n",
       "      <td>709</td>\n",
       "      <td>8</td>\n",
       "      <td>8</td>\n",
       "      <td>4</td>\n",
       "      <td>19</td>\n",
       "      <td>3</td>\n",
       "      <td>130</td>\n",
       "      <td>6</td>\n",
       "      <td>67</td>\n",
       "      <td>1</td>\n",
       "      <td>90</td>\n",
       "    </tr>\n",
       "  </tbody>\n",
       "</table>\n",
       "<p>246 rows × 15 columns</p>\n",
       "</div>"
      ],
      "text/plain": [
       "candidate_column              precinct  pri_dem_CLINTON  pri_dem_FUENTE  \\\n",
       "0                       ADDISONADDISON               40               0   \n",
       "1                      ADDISONBRIDPORT               26               0   \n",
       "2                       ADDISONBRISTOL               76               0   \n",
       "3                      ADDISONCORNWALL               78               1   \n",
       "4                   ADDISONFERRISBURGH               90               0   \n",
       "..                                 ...              ...             ...   \n",
       "241               WINDSORWEATHERSFIELD               78               0   \n",
       "242                WINDSORWEST WINDSOR               53               0   \n",
       "243                      WINDSORWESTON               26               0   \n",
       "244                     WINDSORWINDSOR              108               1   \n",
       "245                   WINDSORWOODSTOCK              200               0   \n",
       "\n",
       "candidate_column  pri_dem_O'MALLEY  pri_dem_SANDERS  pri_rep_BUSH  \\\n",
       "0                                0              251             2   \n",
       "1                                2              189             6   \n",
       "2                                1              822            10   \n",
       "3                                0              290             1   \n",
       "4                                1              622            10   \n",
       "..                             ...              ...           ...   \n",
       "241                              0              538            10   \n",
       "242                              0              269             3   \n",
       "243                              0              155             0   \n",
       "244                              2              709             7   \n",
       "245                              0              709             8   \n",
       "\n",
       "candidate_column  pri_rep_CARSON  pri_rep_CHRISTIE  pri_rep_CRUZ  \\\n",
       "0                             17                 0            33   \n",
       "1                             13                 1            23   \n",
       "2                             16                 5            44   \n",
       "3                              3                 0            12   \n",
       "4                             19                 5            55   \n",
       "..                           ...               ...           ...   \n",
       "241                           15                 4            46   \n",
       "242                            6                 0            13   \n",
       "243                            4                 0             6   \n",
       "244                           11                 1            32   \n",
       "245                            8                 4            19   \n",
       "\n",
       "candidate_column  pri_rep_FIORINA  pri_rep_KASICH  pri_rep_PAUL  \\\n",
       "0                               1              51             2   \n",
       "1                               0              51             1   \n",
       "2                               2              98             4   \n",
       "3                               0              54             4   \n",
       "4                               1             117             0   \n",
       "..                            ...             ...           ...   \n",
       "241                             2             101             3   \n",
       "242                             0              59             0   \n",
       "243                             0              32             0   \n",
       "244                             4              64             3   \n",
       "245                             3             130             6   \n",
       "\n",
       "candidate_column  pri_rep_RUBIO  pri_rep_SANTORUM  pri_rep_TRUMP  \n",
       "0                            56                 1             66  \n",
       "1                            36                 0             67  \n",
       "2                            71                 1            124  \n",
       "3                            34                 0             31  \n",
       "4                            83                 2            105  \n",
       "..                          ...               ...            ...  \n",
       "241                          50                 0            183  \n",
       "242                          26                 0             39  \n",
       "243                           9                 0             17  \n",
       "244                          62                 0            104  \n",
       "245                          67                 1             90  \n",
       "\n",
       "[246 rows x 15 columns]"
      ]
     },
     "execution_count": 14,
     "metadata": {},
     "output_type": "execute_result"
    }
   ],
   "source": [
    "primary_data.loc[:,\"candidate_column\"] = (\n",
    "    \"pri_\" +\n",
    "    primary_data[\"party\"].str.lower() + \"_\" +\n",
    "    primary_data[\"candidate\"]\n",
    ")\n",
    "\n",
    "# pivot the table\n",
    "primary_result = primary_data.pivot_table(\n",
    "    index=\"precinct\",\n",
    "    columns=\"candidate_column\",\n",
    "    values=\"votes\",\n",
    "    aggfunc=\"sum\",  \n",
    "    fill_value=0\n",
    ").reset_index()\n",
    "\n",
    "primary_result"
   ]
  },
  {
   "cell_type": "code",
   "execution_count": 17,
   "id": "f1ef9692",
   "metadata": {},
   "outputs": [
    {
     "data": {
      "application/vnd.microsoft.datawrangler.viewer.v0+json": {
       "columns": [
        {
         "name": "index",
         "rawType": "int64",
         "type": "integer"
        },
        {
         "name": "county",
         "rawType": "object",
         "type": "string"
        },
        {
         "name": "town",
         "rawType": "object",
         "type": "string"
        },
        {
         "name": "office",
         "rawType": "object",
         "type": "string"
        },
        {
         "name": "district",
         "rawType": "object",
         "type": "unknown"
        },
        {
         "name": "party",
         "rawType": "object",
         "type": "unknown"
        },
        {
         "name": "candidate",
         "rawType": "object",
         "type": "string"
        },
        {
         "name": "votes",
         "rawType": "int64",
         "type": "integer"
        },
        {
         "name": "precinct",
         "rawType": "object",
         "type": "string"
        },
        {
         "name": "state_election_id",
         "rawType": "float64",
         "type": "float"
        }
       ],
       "ref": "d46a7bda-e865-43f5-bc2d-ab80c7feac52",
       "rows": [
        [
         "0",
         "ADDISON",
         "ADDISON",
         "President",
         null,
         "Republican",
         "Donald J. Trump",
         "337",
         "ADDISONADDISON",
         null
        ],
        [
         "1",
         "ADDISON",
         "BRIDPORT",
         "President",
         null,
         "Republican",
         "Donald J. Trump",
         "278",
         "ADDISONBRIDPORT",
         null
        ],
        [
         "2",
         "ADDISON",
         "BRISTOL",
         "President",
         null,
         "Republican",
         "Donald J. Trump",
         "558",
         "ADDISONBRISTOL",
         null
        ],
        [
         "3",
         "ADDISON",
         "CORNWALL",
         "President",
         null,
         "Republican",
         "Donald J. Trump",
         "147",
         "ADDISONCORNWALL",
         null
        ],
        [
         "4",
         "ADDISON",
         "FERRISBURGH",
         "President",
         null,
         "Republican",
         "Donald J. Trump",
         "501",
         "ADDISONFERRISBURGH",
         null
        ],
        [
         "5",
         "ADDISON",
         "GOSHEN",
         "President",
         null,
         "Republican",
         "Donald J. Trump",
         "31",
         "ADDISONGOSHEN",
         null
        ],
        [
         "6",
         "ADDISON",
         "GRANVILLE",
         "President",
         null,
         "Republican",
         "Donald J. Trump",
         "29",
         "ADDISONGRANVILLE",
         null
        ],
        [
         "7",
         "ADDISON",
         "HANCOCK",
         "President",
         null,
         "Republican",
         "Donald J. Trump",
         "54",
         "ADDISONHANCOCK",
         null
        ],
        [
         "8",
         "ADDISON",
         "LEICESTER",
         "President",
         null,
         "Republican",
         "Donald J. Trump",
         "207",
         "ADDISONLEICESTER",
         null
        ],
        [
         "9",
         "ADDISON",
         "LINCOLN",
         "President",
         null,
         "Republican",
         "Donald J. Trump",
         "188",
         "ADDISONLINCOLN",
         null
        ],
        [
         "10",
         "ADDISON",
         "MIDDLEBURY",
         "President",
         null,
         "Republican",
         "Donald J. Trump",
         "595",
         "ADDISONMIDDLEBURY",
         null
        ],
        [
         "11",
         "ADDISON",
         "MONKTON",
         "President",
         null,
         "Republican",
         "Donald J. Trump",
         "360",
         "ADDISONMONKTON",
         null
        ],
        [
         "12",
         "ADDISON",
         "NEW HAVEN",
         "President",
         null,
         "Republican",
         "Donald J. Trump",
         "337",
         "ADDISONNEW HAVEN",
         null
        ],
        [
         "13",
         "ADDISON",
         "ORWELL",
         "President",
         null,
         "Republican",
         "Donald J. Trump",
         "284",
         "ADDISONORWELL",
         null
        ],
        [
         "14",
         "ADDISON",
         "PANTON",
         "President",
         null,
         "Republican",
         "Donald J. Trump",
         "126",
         "ADDISONPANTON",
         null
        ],
        [
         "15",
         "ADDISON",
         "RIPTON",
         "President",
         null,
         "Republican",
         "Donald J. Trump",
         "58",
         "ADDISONRIPTON",
         null
        ],
        [
         "16",
         "ADDISON",
         "SALISBURY",
         "President",
         null,
         "Republican",
         "Donald J. Trump",
         "189",
         "ADDISONSALISBURY",
         null
        ],
        [
         "17",
         "ADDISON",
         "SHOREHAM",
         "President",
         null,
         "Republican",
         "Donald J. Trump",
         "211",
         "ADDISONSHOREHAM",
         null
        ],
        [
         "18",
         "ADDISON",
         "STARKSBORO",
         "President",
         null,
         "Republican",
         "Donald J. Trump",
         "256",
         "ADDISONSTARKSBORO",
         null
        ],
        [
         "19",
         "ADDISON",
         "VERGENNES",
         "President",
         null,
         "Republican",
         "Donald J. Trump",
         "326",
         "ADDISONVERGENNES",
         null
        ],
        [
         "20",
         "ADDISON",
         "WALTHAM",
         "President",
         null,
         "Republican",
         "Donald J. Trump",
         "83",
         "ADDISONWALTHAM",
         null
        ],
        [
         "21",
         "ADDISON",
         "WEYBRIDGE",
         "President",
         null,
         "Republican",
         "Donald J. Trump",
         "74",
         "ADDISONWEYBRIDGE",
         null
        ],
        [
         "22",
         "ADDISON",
         "WHITING",
         "President",
         null,
         "Republican",
         "Donald J. Trump",
         "68",
         "ADDISONWHITING",
         null
        ],
        [
         "23",
         "BENNINGTON",
         "ARLINGTON",
         "President",
         null,
         "Republican",
         "Donald J. Trump",
         "435",
         "BENNINGTONARLINGTON",
         null
        ],
        [
         "24",
         "BENNINGTON",
         "BENNINGTON",
         "President",
         null,
         "Republican",
         "Donald J. Trump",
         "1949",
         "BENNINGTONBENNINGTON",
         null
        ],
        [
         "25",
         "BENNINGTON",
         "DORSET",
         "President",
         null,
         "Republican",
         "Donald J. Trump",
         "334",
         "BENNINGTONDORSET",
         null
        ],
        [
         "26",
         "BENNINGTON",
         "LANDGROVE",
         "President",
         null,
         "Republican",
         "Donald J. Trump",
         "18",
         "BENNINGTONLANDGROVE",
         null
        ],
        [
         "27",
         "BENNINGTON",
         "MANCHESTER",
         "President",
         null,
         "Republican",
         "Donald J. Trump",
         "706",
         "BENNINGTONMANCHESTER",
         null
        ],
        [
         "28",
         "BENNINGTON",
         "PERU",
         "President",
         null,
         "Republican",
         "Donald J. Trump",
         "54",
         "BENNINGTONPERU",
         null
        ],
        [
         "29",
         "BENNINGTON",
         "POWNAL",
         "President",
         null,
         "Republican",
         "Donald J. Trump",
         "681",
         "BENNINGTONPOWNAL",
         null
        ],
        [
         "30",
         "BENNINGTON",
         "READSBORO",
         "President",
         null,
         "Republican",
         "Donald J. Trump",
         "173",
         "BENNINGTONREADSBORO",
         null
        ],
        [
         "31",
         "BENNINGTON",
         "RUPERT",
         "President",
         null,
         "Republican",
         "Donald J. Trump",
         "138",
         "BENNINGTONRUPERT",
         null
        ],
        [
         "32",
         "BENNINGTON",
         "SANDGATE",
         "President",
         null,
         "Republican",
         "Donald J. Trump",
         "95",
         "BENNINGTONSANDGATE",
         null
        ],
        [
         "33",
         "BENNINGTON",
         "SEARSBURG",
         "President",
         null,
         "Republican",
         "Donald J. Trump",
         "36",
         "BENNINGTONSEARSBURG",
         null
        ],
        [
         "34",
         "BENNINGTON",
         "SHAFTSBURY",
         "President",
         null,
         "Republican",
         "Donald J. Trump",
         "661",
         "BENNINGTONSHAFTSBURY",
         null
        ],
        [
         "35",
         "BENNINGTON",
         "STAMFORD",
         "President",
         null,
         "Republican",
         "Donald J. Trump",
         "238",
         "BENNINGTONSTAMFORD",
         null
        ],
        [
         "36",
         "BENNINGTON",
         "SUNDERLAND",
         "President",
         null,
         "Republican",
         "Donald J. Trump",
         "183",
         "BENNINGTONSUNDERLAND",
         null
        ],
        [
         "37",
         "BENNINGTON",
         "WINHALL",
         "President",
         null,
         "Republican",
         "Donald J. Trump",
         "158",
         "BENNINGTONWINHALL",
         null
        ],
        [
         "38",
         "BENNINGTON",
         "WOODFORD",
         "President",
         null,
         "Republican",
         "Donald J. Trump",
         "66",
         "BENNINGTONWOODFORD",
         null
        ],
        [
         "39",
         "CALEDONIA",
         "BARNET",
         "President",
         null,
         "Republican",
         "Donald J. Trump",
         "355",
         "CALEDONIABARNET",
         null
        ],
        [
         "40",
         "CALEDONIA",
         "BURKE",
         "President",
         null,
         "Republican",
         "Donald J. Trump",
         "336",
         "CALEDONIABURKE",
         null
        ],
        [
         "41",
         "CALEDONIA",
         "DANVILLE",
         "President",
         null,
         "Republican",
         "Donald J. Trump",
         "494",
         "CALEDONIADANVILLE",
         null
        ],
        [
         "42",
         "CALEDONIA",
         "GROTON",
         "President",
         null,
         "Republican",
         "Donald J. Trump",
         "234",
         "CALEDONIAGROTON",
         null
        ],
        [
         "43",
         "CALEDONIA",
         "HARDWICK",
         "President",
         null,
         "Republican",
         "Donald J. Trump",
         "501",
         "CALEDONIAHARDWICK",
         null
        ],
        [
         "44",
         "CALEDONIA",
         "KIRBY",
         "President",
         null,
         "Republican",
         "Donald J. Trump",
         "96",
         "CALEDONIAKIRBY",
         null
        ],
        [
         "45",
         "CALEDONIA",
         "LYNDON",
         "President",
         null,
         "Republican",
         "Donald J. Trump",
         "883",
         "CALEDONIALYNDON",
         null
        ],
        [
         "46",
         "CALEDONIA",
         "NEWARK",
         "President",
         null,
         "Republican",
         "Donald J. Trump",
         "116",
         "CALEDONIANEWARK",
         null
        ],
        [
         "47",
         "CALEDONIA",
         "PEACHAM",
         "President",
         null,
         "Republican",
         "Donald J. Trump",
         "113",
         "CALEDONIAPEACHAM",
         null
        ],
        [
         "48",
         "CALEDONIA",
         "RYEGATE",
         "President",
         null,
         "Republican",
         "Donald J. Trump",
         "239",
         "CALEDONIARYEGATE",
         null
        ],
        [
         "49",
         "CALEDONIA",
         "SAINT JOHNSBURY",
         "President",
         null,
         "Republican",
         "Donald J. Trump",
         "1110",
         "CALEDONIASAINT JOHNSBURY",
         null
        ]
       ],
       "shape": {
        "columns": 9,
        "rows": 4712
       }
      },
      "text/html": [
       "<div>\n",
       "<style scoped>\n",
       "    .dataframe tbody tr th:only-of-type {\n",
       "        vertical-align: middle;\n",
       "    }\n",
       "\n",
       "    .dataframe tbody tr th {\n",
       "        vertical-align: top;\n",
       "    }\n",
       "\n",
       "    .dataframe thead th {\n",
       "        text-align: right;\n",
       "    }\n",
       "</style>\n",
       "<table border=\"1\" class=\"dataframe\">\n",
       "  <thead>\n",
       "    <tr style=\"text-align: right;\">\n",
       "      <th></th>\n",
       "      <th>county</th>\n",
       "      <th>town</th>\n",
       "      <th>office</th>\n",
       "      <th>district</th>\n",
       "      <th>party</th>\n",
       "      <th>candidate</th>\n",
       "      <th>votes</th>\n",
       "      <th>precinct</th>\n",
       "      <th>state_election_id</th>\n",
       "    </tr>\n",
       "  </thead>\n",
       "  <tbody>\n",
       "    <tr>\n",
       "      <th>0</th>\n",
       "      <td>ADDISON</td>\n",
       "      <td>ADDISON</td>\n",
       "      <td>President</td>\n",
       "      <td>NaN</td>\n",
       "      <td>Republican</td>\n",
       "      <td>Donald J. Trump</td>\n",
       "      <td>337</td>\n",
       "      <td>ADDISONADDISON</td>\n",
       "      <td>NaN</td>\n",
       "    </tr>\n",
       "    <tr>\n",
       "      <th>1</th>\n",
       "      <td>ADDISON</td>\n",
       "      <td>BRIDPORT</td>\n",
       "      <td>President</td>\n",
       "      <td>NaN</td>\n",
       "      <td>Republican</td>\n",
       "      <td>Donald J. Trump</td>\n",
       "      <td>278</td>\n",
       "      <td>ADDISONBRIDPORT</td>\n",
       "      <td>NaN</td>\n",
       "    </tr>\n",
       "    <tr>\n",
       "      <th>2</th>\n",
       "      <td>ADDISON</td>\n",
       "      <td>BRISTOL</td>\n",
       "      <td>President</td>\n",
       "      <td>NaN</td>\n",
       "      <td>Republican</td>\n",
       "      <td>Donald J. Trump</td>\n",
       "      <td>558</td>\n",
       "      <td>ADDISONBRISTOL</td>\n",
       "      <td>NaN</td>\n",
       "    </tr>\n",
       "    <tr>\n",
       "      <th>3</th>\n",
       "      <td>ADDISON</td>\n",
       "      <td>CORNWALL</td>\n",
       "      <td>President</td>\n",
       "      <td>NaN</td>\n",
       "      <td>Republican</td>\n",
       "      <td>Donald J. Trump</td>\n",
       "      <td>147</td>\n",
       "      <td>ADDISONCORNWALL</td>\n",
       "      <td>NaN</td>\n",
       "    </tr>\n",
       "    <tr>\n",
       "      <th>4</th>\n",
       "      <td>ADDISON</td>\n",
       "      <td>FERRISBURGH</td>\n",
       "      <td>President</td>\n",
       "      <td>NaN</td>\n",
       "      <td>Republican</td>\n",
       "      <td>Donald J. Trump</td>\n",
       "      <td>501</td>\n",
       "      <td>ADDISONFERRISBURGH</td>\n",
       "      <td>NaN</td>\n",
       "    </tr>\n",
       "    <tr>\n",
       "      <th>...</th>\n",
       "      <td>...</td>\n",
       "      <td>...</td>\n",
       "      <td>...</td>\n",
       "      <td>...</td>\n",
       "      <td>...</td>\n",
       "      <td>...</td>\n",
       "      <td>...</td>\n",
       "      <td>...</td>\n",
       "      <td>...</td>\n",
       "    </tr>\n",
       "    <tr>\n",
       "      <th>4707</th>\n",
       "      <td>LAMOILLE</td>\n",
       "      <td>Wolcott</td>\n",
       "      <td>President</td>\n",
       "      <td>NaN</td>\n",
       "      <td>NaN</td>\n",
       "      <td>Total Votes Cast</td>\n",
       "      <td>810</td>\n",
       "      <td>LAMOILLEWOLCOTT</td>\n",
       "      <td>82048.0</td>\n",
       "    </tr>\n",
       "    <tr>\n",
       "      <th>4708</th>\n",
       "      <td>WASHINGTON</td>\n",
       "      <td>Woodbury</td>\n",
       "      <td>President</td>\n",
       "      <td>NaN</td>\n",
       "      <td>NaN</td>\n",
       "      <td>Total Votes Cast</td>\n",
       "      <td>537</td>\n",
       "      <td>WASHINGTONWOODBURY</td>\n",
       "      <td>82048.0</td>\n",
       "    </tr>\n",
       "    <tr>\n",
       "      <th>4709</th>\n",
       "      <td>BENNINGTON</td>\n",
       "      <td>Woodford</td>\n",
       "      <td>President</td>\n",
       "      <td>NaN</td>\n",
       "      <td>NaN</td>\n",
       "      <td>Total Votes Cast</td>\n",
       "      <td>183</td>\n",
       "      <td>BENNINGTONWOODFORD</td>\n",
       "      <td>82048.0</td>\n",
       "    </tr>\n",
       "    <tr>\n",
       "      <th>4710</th>\n",
       "      <td>WINDSOR</td>\n",
       "      <td>Woodstock</td>\n",
       "      <td>President</td>\n",
       "      <td>NaN</td>\n",
       "      <td>NaN</td>\n",
       "      <td>Total Votes Cast</td>\n",
       "      <td>1912</td>\n",
       "      <td>WINDSORWOODSTOCK</td>\n",
       "      <td>82048.0</td>\n",
       "    </tr>\n",
       "    <tr>\n",
       "      <th>4711</th>\n",
       "      <td>WASHINGTON</td>\n",
       "      <td>Worcester</td>\n",
       "      <td>President</td>\n",
       "      <td>NaN</td>\n",
       "      <td>NaN</td>\n",
       "      <td>Total Votes Cast</td>\n",
       "      <td>600</td>\n",
       "      <td>WASHINGTONWORCESTER</td>\n",
       "      <td>82048.0</td>\n",
       "    </tr>\n",
       "  </tbody>\n",
       "</table>\n",
       "<p>4712 rows × 9 columns</p>\n",
       "</div>"
      ],
      "text/plain": [
       "          county         town     office district       party  \\\n",
       "0        ADDISON      ADDISON  President      NaN  Republican   \n",
       "1        ADDISON     BRIDPORT  President      NaN  Republican   \n",
       "2        ADDISON      BRISTOL  President      NaN  Republican   \n",
       "3        ADDISON     CORNWALL  President      NaN  Republican   \n",
       "4        ADDISON  FERRISBURGH  President      NaN  Republican   \n",
       "...          ...          ...        ...      ...         ...   \n",
       "4707    LAMOILLE      Wolcott  President      NaN         NaN   \n",
       "4708  WASHINGTON     Woodbury  President      NaN         NaN   \n",
       "4709  BENNINGTON     Woodford  President      NaN         NaN   \n",
       "4710     WINDSOR    Woodstock  President      NaN         NaN   \n",
       "4711  WASHINGTON    Worcester  President      NaN         NaN   \n",
       "\n",
       "             candidate  votes             precinct  state_election_id  \n",
       "0      Donald J. Trump    337       ADDISONADDISON                NaN  \n",
       "1      Donald J. Trump    278      ADDISONBRIDPORT                NaN  \n",
       "2      Donald J. Trump    558       ADDISONBRISTOL                NaN  \n",
       "3      Donald J. Trump    147      ADDISONCORNWALL                NaN  \n",
       "4      Donald J. Trump    501   ADDISONFERRISBURGH                NaN  \n",
       "...                ...    ...                  ...                ...  \n",
       "4707  Total Votes Cast    810      LAMOILLEWOLCOTT            82048.0  \n",
       "4708  Total Votes Cast    537   WASHINGTONWOODBURY            82048.0  \n",
       "4709  Total Votes Cast    183   BENNINGTONWOODFORD            82048.0  \n",
       "4710  Total Votes Cast   1912     WINDSORWOODSTOCK            82048.0  \n",
       "4711  Total Votes Cast    600  WASHINGTONWORCESTER            82048.0  \n",
       "\n",
       "[4712 rows x 9 columns]"
      ]
     },
     "execution_count": 17,
     "metadata": {},
     "output_type": "execute_result"
    }
   ],
   "source": [
    "# Process general files\n",
    "general_df_list = []\n",
    "\n",
    "for file in general_files:\n",
    "    try:\n",
    "        df = pd.read_csv(file)\n",
    "        \n",
    "        # Combine precinct as county + precinct\n",
    "        df[\"precinct\"] = df[\"county\"].astype(str) + df[\"town\"].astype(str)\n",
    "        df[\"precinct\"] = df[\"precinct\"].str.upper()\n",
    "        df[\"county\"] = df[\"county\"].str.upper()\n",
    "\n",
    "        # Cleaning maybe total precinct\n",
    "        if 'precinct' in df.columns:\n",
    "            df['precinct'] = df['precinct'].astype(str)                  \n",
    "            df = df[df['precinct'].str.upper() != \"TOTAL\"]               \n",
    "            df = df[df['precinct'].str.strip().str.upper() != \"TOTAL\"]   \n",
    "            df = df[df['precinct'].str.upper() != \"NAN\"]                \n",
    "        \n",
    "        if 'county' in df.columns:\n",
    "            df['county'] = df['county'].astype(str)                  \n",
    "            df = df[df['county'].str.upper() != \"TOTAL\"]               \n",
    "            df = df[df['county'].str.strip().str.upper() != \"TOTAL\"]   \n",
    "            df = df[df['county'].str.upper() != \"NAN\"]       \n",
    "            df = df[~df['county'].str.upper().str.contains(r\"\\w*TOTAL\\w*\", na=False)]      \n",
    "            \n",
    "        # Filtering out only President \n",
    "        if 'office' in df.columns:\n",
    "            df = df[df[\"office\"] == \"President\"]\n",
    "        \n",
    "        # Dropping duplicates value\n",
    "        df = df.drop_duplicates()\n",
    "        \n",
    "        general_df_list.append(df)\n",
    "\n",
    "    except Exception as e:\n",
    "        print(f\"Error in {file}: {e}\")\n",
    "\n",
    "# Combine all cleaned files\n",
    "gen_combined_df = pd.concat(general_df_list, ignore_index=True)\n",
    "# Checking any suspicious precinct\n",
    "suspicious_precincts = gen_combined_df[\n",
    "    gen_combined_df[\"precinct\"].str.strip().str.upper().isin([\"TOTAL\", \"NAN\"])\n",
    "]\n",
    "gen_combined_df\n"
   ]
  },
  {
   "cell_type": "code",
   "execution_count": 18,
   "id": "1bbbd54d",
   "metadata": {},
   "outputs": [
    {
     "data": {
      "application/vnd.microsoft.datawrangler.viewer.v0+json": {
       "columns": [
        {
         "name": "index",
         "rawType": "int64",
         "type": "integer"
        },
        {
         "name": "precinct",
         "rawType": "object",
         "type": "string"
        },
        {
         "name": "party",
         "rawType": "object",
         "type": "unknown"
        },
        {
         "name": "candidate",
         "rawType": "object",
         "type": "string"
        },
        {
         "name": "votes",
         "rawType": "int64",
         "type": "integer"
        }
       ],
       "ref": "0360b736-0da6-4b10-b4dc-70cead2a6733",
       "rows": [
        [
         "0",
         "ADDISONADDISON",
         "Republican",
         "Donald J. Trump",
         "337"
        ],
        [
         "1",
         "ADDISONBRIDPORT",
         "Republican",
         "Donald J. Trump",
         "278"
        ],
        [
         "2",
         "ADDISONBRISTOL",
         "Republican",
         "Donald J. Trump",
         "558"
        ],
        [
         "3",
         "ADDISONCORNWALL",
         "Republican",
         "Donald J. Trump",
         "147"
        ],
        [
         "4",
         "ADDISONFERRISBURGH",
         "Republican",
         "Donald J. Trump",
         "501"
        ],
        [
         "5",
         "ADDISONGOSHEN",
         "Republican",
         "Donald J. Trump",
         "31"
        ],
        [
         "6",
         "ADDISONGRANVILLE",
         "Republican",
         "Donald J. Trump",
         "29"
        ],
        [
         "7",
         "ADDISONHANCOCK",
         "Republican",
         "Donald J. Trump",
         "54"
        ],
        [
         "8",
         "ADDISONLEICESTER",
         "Republican",
         "Donald J. Trump",
         "207"
        ],
        [
         "9",
         "ADDISONLINCOLN",
         "Republican",
         "Donald J. Trump",
         "188"
        ],
        [
         "10",
         "ADDISONMIDDLEBURY",
         "Republican",
         "Donald J. Trump",
         "595"
        ],
        [
         "11",
         "ADDISONMONKTON",
         "Republican",
         "Donald J. Trump",
         "360"
        ],
        [
         "12",
         "ADDISONNEW HAVEN",
         "Republican",
         "Donald J. Trump",
         "337"
        ],
        [
         "13",
         "ADDISONORWELL",
         "Republican",
         "Donald J. Trump",
         "284"
        ],
        [
         "14",
         "ADDISONPANTON",
         "Republican",
         "Donald J. Trump",
         "126"
        ],
        [
         "15",
         "ADDISONRIPTON",
         "Republican",
         "Donald J. Trump",
         "58"
        ],
        [
         "16",
         "ADDISONSALISBURY",
         "Republican",
         "Donald J. Trump",
         "189"
        ],
        [
         "17",
         "ADDISONSHOREHAM",
         "Republican",
         "Donald J. Trump",
         "211"
        ],
        [
         "18",
         "ADDISONSTARKSBORO",
         "Republican",
         "Donald J. Trump",
         "256"
        ],
        [
         "19",
         "ADDISONVERGENNES",
         "Republican",
         "Donald J. Trump",
         "326"
        ],
        [
         "20",
         "ADDISONWALTHAM",
         "Republican",
         "Donald J. Trump",
         "83"
        ],
        [
         "21",
         "ADDISONWEYBRIDGE",
         "Republican",
         "Donald J. Trump",
         "74"
        ],
        [
         "22",
         "ADDISONWHITING",
         "Republican",
         "Donald J. Trump",
         "68"
        ],
        [
         "23",
         "BENNINGTONARLINGTON",
         "Republican",
         "Donald J. Trump",
         "435"
        ],
        [
         "24",
         "BENNINGTONBENNINGTON",
         "Republican",
         "Donald J. Trump",
         "1949"
        ],
        [
         "25",
         "BENNINGTONDORSET",
         "Republican",
         "Donald J. Trump",
         "334"
        ],
        [
         "26",
         "BENNINGTONLANDGROVE",
         "Republican",
         "Donald J. Trump",
         "18"
        ],
        [
         "27",
         "BENNINGTONMANCHESTER",
         "Republican",
         "Donald J. Trump",
         "706"
        ],
        [
         "28",
         "BENNINGTONPERU",
         "Republican",
         "Donald J. Trump",
         "54"
        ],
        [
         "29",
         "BENNINGTONPOWNAL",
         "Republican",
         "Donald J. Trump",
         "681"
        ],
        [
         "30",
         "BENNINGTONREADSBORO",
         "Republican",
         "Donald J. Trump",
         "173"
        ],
        [
         "31",
         "BENNINGTONRUPERT",
         "Republican",
         "Donald J. Trump",
         "138"
        ],
        [
         "32",
         "BENNINGTONSANDGATE",
         "Republican",
         "Donald J. Trump",
         "95"
        ],
        [
         "33",
         "BENNINGTONSEARSBURG",
         "Republican",
         "Donald J. Trump",
         "36"
        ],
        [
         "34",
         "BENNINGTONSHAFTSBURY",
         "Republican",
         "Donald J. Trump",
         "661"
        ],
        [
         "35",
         "BENNINGTONSTAMFORD",
         "Republican",
         "Donald J. Trump",
         "238"
        ],
        [
         "36",
         "BENNINGTONSUNDERLAND",
         "Republican",
         "Donald J. Trump",
         "183"
        ],
        [
         "37",
         "BENNINGTONWINHALL",
         "Republican",
         "Donald J. Trump",
         "158"
        ],
        [
         "38",
         "BENNINGTONWOODFORD",
         "Republican",
         "Donald J. Trump",
         "66"
        ],
        [
         "39",
         "CALEDONIABARNET",
         "Republican",
         "Donald J. Trump",
         "355"
        ],
        [
         "40",
         "CALEDONIABURKE",
         "Republican",
         "Donald J. Trump",
         "336"
        ],
        [
         "41",
         "CALEDONIADANVILLE",
         "Republican",
         "Donald J. Trump",
         "494"
        ],
        [
         "42",
         "CALEDONIAGROTON",
         "Republican",
         "Donald J. Trump",
         "234"
        ],
        [
         "43",
         "CALEDONIAHARDWICK",
         "Republican",
         "Donald J. Trump",
         "501"
        ],
        [
         "44",
         "CALEDONIAKIRBY",
         "Republican",
         "Donald J. Trump",
         "96"
        ],
        [
         "45",
         "CALEDONIALYNDON",
         "Republican",
         "Donald J. Trump",
         "883"
        ],
        [
         "46",
         "CALEDONIANEWARK",
         "Republican",
         "Donald J. Trump",
         "116"
        ],
        [
         "47",
         "CALEDONIAPEACHAM",
         "Republican",
         "Donald J. Trump",
         "113"
        ],
        [
         "48",
         "CALEDONIARYEGATE",
         "Republican",
         "Donald J. Trump",
         "239"
        ],
        [
         "49",
         "CALEDONIASAINT JOHNSBURY",
         "Republican",
         "Donald J. Trump",
         "1110"
        ]
       ],
       "shape": {
        "columns": 4,
        "rows": 4712
       }
      },
      "text/html": [
       "<div>\n",
       "<style scoped>\n",
       "    .dataframe tbody tr th:only-of-type {\n",
       "        vertical-align: middle;\n",
       "    }\n",
       "\n",
       "    .dataframe tbody tr th {\n",
       "        vertical-align: top;\n",
       "    }\n",
       "\n",
       "    .dataframe thead th {\n",
       "        text-align: right;\n",
       "    }\n",
       "</style>\n",
       "<table border=\"1\" class=\"dataframe\">\n",
       "  <thead>\n",
       "    <tr style=\"text-align: right;\">\n",
       "      <th></th>\n",
       "      <th>precinct</th>\n",
       "      <th>party</th>\n",
       "      <th>candidate</th>\n",
       "      <th>votes</th>\n",
       "    </tr>\n",
       "  </thead>\n",
       "  <tbody>\n",
       "    <tr>\n",
       "      <th>0</th>\n",
       "      <td>ADDISONADDISON</td>\n",
       "      <td>Republican</td>\n",
       "      <td>Donald J. Trump</td>\n",
       "      <td>337</td>\n",
       "    </tr>\n",
       "    <tr>\n",
       "      <th>1</th>\n",
       "      <td>ADDISONBRIDPORT</td>\n",
       "      <td>Republican</td>\n",
       "      <td>Donald J. Trump</td>\n",
       "      <td>278</td>\n",
       "    </tr>\n",
       "    <tr>\n",
       "      <th>2</th>\n",
       "      <td>ADDISONBRISTOL</td>\n",
       "      <td>Republican</td>\n",
       "      <td>Donald J. Trump</td>\n",
       "      <td>558</td>\n",
       "    </tr>\n",
       "    <tr>\n",
       "      <th>3</th>\n",
       "      <td>ADDISONCORNWALL</td>\n",
       "      <td>Republican</td>\n",
       "      <td>Donald J. Trump</td>\n",
       "      <td>147</td>\n",
       "    </tr>\n",
       "    <tr>\n",
       "      <th>4</th>\n",
       "      <td>ADDISONFERRISBURGH</td>\n",
       "      <td>Republican</td>\n",
       "      <td>Donald J. Trump</td>\n",
       "      <td>501</td>\n",
       "    </tr>\n",
       "    <tr>\n",
       "      <th>...</th>\n",
       "      <td>...</td>\n",
       "      <td>...</td>\n",
       "      <td>...</td>\n",
       "      <td>...</td>\n",
       "    </tr>\n",
       "    <tr>\n",
       "      <th>4707</th>\n",
       "      <td>LAMOILLEWOLCOTT</td>\n",
       "      <td>NaN</td>\n",
       "      <td>Total Votes Cast</td>\n",
       "      <td>810</td>\n",
       "    </tr>\n",
       "    <tr>\n",
       "      <th>4708</th>\n",
       "      <td>WASHINGTONWOODBURY</td>\n",
       "      <td>NaN</td>\n",
       "      <td>Total Votes Cast</td>\n",
       "      <td>537</td>\n",
       "    </tr>\n",
       "    <tr>\n",
       "      <th>4709</th>\n",
       "      <td>BENNINGTONWOODFORD</td>\n",
       "      <td>NaN</td>\n",
       "      <td>Total Votes Cast</td>\n",
       "      <td>183</td>\n",
       "    </tr>\n",
       "    <tr>\n",
       "      <th>4710</th>\n",
       "      <td>WINDSORWOODSTOCK</td>\n",
       "      <td>NaN</td>\n",
       "      <td>Total Votes Cast</td>\n",
       "      <td>1912</td>\n",
       "    </tr>\n",
       "    <tr>\n",
       "      <th>4711</th>\n",
       "      <td>WASHINGTONWORCESTER</td>\n",
       "      <td>NaN</td>\n",
       "      <td>Total Votes Cast</td>\n",
       "      <td>600</td>\n",
       "    </tr>\n",
       "  </tbody>\n",
       "</table>\n",
       "<p>4712 rows × 4 columns</p>\n",
       "</div>"
      ],
      "text/plain": [
       "                 precinct       party         candidate  votes\n",
       "0          ADDISONADDISON  Republican   Donald J. Trump    337\n",
       "1         ADDISONBRIDPORT  Republican   Donald J. Trump    278\n",
       "2          ADDISONBRISTOL  Republican   Donald J. Trump    558\n",
       "3         ADDISONCORNWALL  Republican   Donald J. Trump    147\n",
       "4      ADDISONFERRISBURGH  Republican   Donald J. Trump    501\n",
       "...                   ...         ...               ...    ...\n",
       "4707      LAMOILLEWOLCOTT         NaN  Total Votes Cast    810\n",
       "4708   WASHINGTONWOODBURY         NaN  Total Votes Cast    537\n",
       "4709   BENNINGTONWOODFORD         NaN  Total Votes Cast    183\n",
       "4710     WINDSORWOODSTOCK         NaN  Total Votes Cast   1912\n",
       "4711  WASHINGTONWORCESTER         NaN  Total Votes Cast    600\n",
       "\n",
       "[4712 rows x 4 columns]"
      ]
     },
     "execution_count": 18,
     "metadata": {},
     "output_type": "execute_result"
    }
   ],
   "source": [
    "# Select only the relevant columns\n",
    "general_data = gen_combined_df[[\"precinct\", \"party\", \"candidate\", \"votes\"]]\n",
    "\n",
    "general_data"
   ]
  },
  {
   "cell_type": "code",
   "execution_count": 19,
   "id": "38fba0f1",
   "metadata": {},
   "outputs": [
    {
     "name": "stderr",
     "output_type": "stream",
     "text": [
      "C:\\Users\\ADMIN\\AppData\\Local\\Temp\\ipykernel_2548\\1743146100.py:2: SettingWithCopyWarning: \n",
      "A value is trying to be set on a copy of a slice from a DataFrame.\n",
      "Try using .loc[row_indexer,col_indexer] = value instead\n",
      "\n",
      "See the caveats in the documentation: https://pandas.pydata.org/pandas-docs/stable/user_guide/indexing.html#returning-a-view-versus-a-copy\n",
      "  general_data[\"candidate\"] = general_data[\"candidate\"].astype(str).str.upper()\n"
     ]
    },
    {
     "data": {
      "application/vnd.microsoft.datawrangler.viewer.v0+json": {
       "columns": [
        {
         "name": "candidate",
         "rawType": "object",
         "type": "string"
        },
        {
         "name": "count",
         "rawType": "int64",
         "type": "integer"
        }
       ],
       "ref": "a9f278c6-527c-4f58-874e-984b335b43e8",
       "rows": [
        [
         "HILLARY CLINTON",
         "521"
        ],
        [
         "GARY JOHNSON",
         "520"
        ],
        [
         "JILL STEIN",
         "518"
        ],
        [
         "ROCKY DE LA FUENTE",
         "518"
        ],
        [
         "DONALD TRUMP",
         "275"
        ],
        [
         "TOTAL VOTES CAST",
         "275"
        ],
        [
         "BERNIE SANDERS",
         "274"
        ],
        [
         "WRITE-INS",
         "274"
        ],
        [
         "BLANKS",
         "274"
        ],
        [
         "GLORIA LARIVA",
         "263"
        ],
        [
         "SPOILED",
         "262"
        ],
        [
         "DONALD J. TRUMP",
         "246"
        ],
        [
         "GLORIA LA RIVA",
         "246"
        ],
        [
         "WRITE-IN",
         "246"
        ]
       ],
       "shape": {
        "columns": 1,
        "rows": 14
       }
      },
      "text/plain": [
       "candidate\n",
       "HILLARY CLINTON       521\n",
       "GARY JOHNSON          520\n",
       "JILL STEIN            518\n",
       "ROCKY DE LA FUENTE    518\n",
       "DONALD TRUMP          275\n",
       "TOTAL VOTES CAST      275\n",
       "BERNIE SANDERS        274\n",
       "WRITE-INS             274\n",
       "BLANKS                274\n",
       "GLORIA LARIVA         263\n",
       "SPOILED               262\n",
       "DONALD J. TRUMP       246\n",
       "GLORIA LA RIVA        246\n",
       "WRITE-IN              246\n",
       "Name: count, dtype: int64"
      ]
     },
     "execution_count": 19,
     "metadata": {},
     "output_type": "execute_result"
    }
   ],
   "source": [
    "# Viewing candidate data\n",
    "general_data[\"candidate\"] = general_data[\"candidate\"].astype(str).str.upper()\n",
    "general_data[\"candidate\"].value_counts(dropna=False)"
   ]
  },
  {
   "cell_type": "code",
   "execution_count": 20,
   "id": "90417a20",
   "metadata": {},
   "outputs": [
    {
     "name": "stderr",
     "output_type": "stream",
     "text": [
      "C:\\Users\\ADMIN\\AppData\\Local\\Temp\\ipykernel_2548\\3815395620.py:4: SettingWithCopyWarning: \n",
      "A value is trying to be set on a copy of a slice from a DataFrame.\n",
      "Try using .loc[row_indexer,col_indexer] = value instead\n",
      "\n",
      "See the caveats in the documentation: https://pandas.pydata.org/pandas-docs/stable/user_guide/indexing.html#returning-a-view-versus-a-copy\n",
      "  general_data[\"candidate\"] = general_data[\"candidate\"].astype(str).str.upper()\n",
      "C:\\Users\\ADMIN\\AppData\\Local\\Temp\\ipykernel_2548\\3815395620.py:70: SettingWithCopyWarning: \n",
      "A value is trying to be set on a copy of a slice from a DataFrame.\n",
      "Try using .loc[row_indexer,col_indexer] = value instead\n",
      "\n",
      "See the caveats in the documentation: https://pandas.pydata.org/pandas-docs/stable/user_guide/indexing.html#returning-a-view-versus-a-copy\n",
      "  general_data[\"candidate\"] = (\n",
      "C:\\Users\\ADMIN\\AppData\\Local\\Temp\\ipykernel_2548\\3815395620.py:131: SettingWithCopyWarning: \n",
      "A value is trying to be set on a copy of a slice from a DataFrame.\n",
      "Try using .loc[row_indexer,col_indexer] = value instead\n",
      "\n",
      "See the caveats in the documentation: https://pandas.pydata.org/pandas-docs/stable/user_guide/indexing.html#returning-a-view-versus-a-copy\n",
      "  general_data[\"candidate\"] = general_data[\"candidate\"].str.split().str[-1]\n"
     ]
    },
    {
     "data": {
      "application/vnd.microsoft.datawrangler.viewer.v0+json": {
       "columns": [
        {
         "name": "candidate",
         "rawType": "object",
         "type": "string"
        },
        {
         "name": "count",
         "rawType": "int64",
         "type": "integer"
        }
       ],
       "ref": "e15edf47-c193-45d8-9abf-7ea16d857380",
       "rows": [
        [
         "TRUMP",
         "521"
        ],
        [
         "CLINTON",
         "521"
        ],
        [
         "JOHNSON",
         "520"
        ],
        [
         "STEIN",
         "518"
        ],
        [
         "FUENTE",
         "518"
        ],
        [
         "RIVA",
         "509"
        ],
        [
         "SANDERS",
         "274"
        ]
       ],
       "shape": {
        "columns": 1,
        "rows": 7
       }
      },
      "text/plain": [
       "candidate\n",
       "TRUMP      521\n",
       "CLINTON    521\n",
       "JOHNSON    520\n",
       "STEIN      518\n",
       "FUENTE     518\n",
       "RIVA       509\n",
       "SANDERS    274\n",
       "Name: count, dtype: int64"
      ]
     },
     "execution_count": 20,
     "metadata": {},
     "output_type": "execute_result"
    }
   ],
   "source": [
    "# Cleaning Candidates\n",
    "\n",
    "# Turning all general data to uppercase\n",
    "general_data[\"candidate\"] = general_data[\"candidate\"].astype(str).str.upper()\n",
    "\n",
    "\n",
    "unwanted_keywords = [\n",
    "    r\"\\w*VOTE\\w*\",\n",
    "    r\"\\w*UNCOM\\w*\",\n",
    "    r\"\\w*WRITE\\w*\",\n",
    "    r\"\\w*TOTAL\\w*\",\n",
    "    r\"\\w*BLANK\\w*\",\n",
    "    R\"SPOILED\",\n",
    "    r\"NAN\",\n",
    "    r\"UNCERTIFIED\",\n",
    "    r\"UNVERIFIED\",\n",
    "    r\"NONE OF THE ABOVE\",\n",
    "    r\"BLANKS\",\n",
    "    r\"LBT\",\n",
    "    r\"DEM\",\n",
    "    r\"REP\",\n",
    "    r\"GRN\",\n",
    "    r\"NAN\",\n",
    "    r\"\\w*CANDIDATES\\w*\",\n",
    "    \"SCATTERING\"\n",
    "]\n",
    "\n",
    "# Fixing FUENTE\n",
    "general_data.loc[\n",
    "    general_data[\"candidate\"].str.contains(\"\\w*RIVA\\w*\", case=False, na=False),\n",
    "    \"candidate\"\n",
    "] = \"LA RIVA\"\n",
    "pattern = \"|\".join(unwanted_keywords)\n",
    "\n",
    "# FILTER OUT TRASH WORDS\n",
    "general_data = general_data[~general_data[\"candidate\"].str.upper().str.contains(pattern, regex=True, na=False)]\n",
    "\n",
    "# # Fixing Darrell Castle\"\n",
    "# general_data.loc[\n",
    "#     general_data[\"candidate\"].str.contains(\"\\w*ASTLE\\w*\", case=False, na=False),\n",
    "#     \"candidate\"\n",
    "# ] = \"CASTLE\"\n",
    "\n",
    "general_data.loc[\n",
    "    general_data[\"candidate\"].str.contains(\"\\w*ATUREN\\w*\", case=False, na=False),\n",
    "    \"candidate\"\n",
    "] = \"MATUREN\"\n",
    "\n",
    "general_data.loc[\n",
    "    general_data[\"candidate\"].str.contains(\"\\w*OLTYSIK\\w*\", case=False, na=False),\n",
    "    \"candidate\"\n",
    "] = \"SOLTYSIK\"\n",
    "\n",
    "general_data.loc[\n",
    "    general_data[\"candidate\"].str.contains(\"\\w*MALDONADO\\w*\", case=False, na=False),\n",
    "    \"candidate\"\n",
    "] = \"MALDONADO\"\n",
    "\n",
    "# # Fixing mixed president + vice_president by /\n",
    "# general_data[\"candidate\"] = (\n",
    "#     general_data[\"candidate\"].str.split(\"/\")\n",
    "#     .str[0]\n",
    "#     .str.strip()\n",
    "#     )\n",
    "\n",
    "# #Selecting only last name\n",
    "# general_data[\"candidate\"] = general_data[\"candidate\"].str.split().str[-1]\n",
    "\n",
    "# Fixing the & candidate\n",
    "general_data[\"candidate\"] = (\n",
    "    general_data[\"candidate\"].str.split(\"&\")\n",
    "    .str[0]\n",
    "    .str.strip()\n",
    "    )\n",
    "\n",
    "\n",
    "\n",
    "\n",
    "# # Fixing Cubbler\n",
    "# general_data.loc[\n",
    "#     ( \n",
    "#         general_data[\"candidate\"].str.contains(\"\\w*UBBIER\\w*\", case=False, na=False)|\n",
    "#         general_data[\"candidate\"].str.contains(\"\\w*UBLER\\w*\", case=False, na=False)|\n",
    "#         general_data[\"candidate\"].str.contains(\"\\w*OBBLER\\w*\", case=False, na=False),\n",
    "#     \"candidate\")\n",
    "# ] = \"CUBBLER\"\n",
    "\n",
    "\n",
    "# Fixing Kotlikoff\n",
    "general_data.loc[\n",
    "    general_data[\"candidate\"].str.contains(\"\\w*LIKOFF\\w*\", case=False, na=False),\n",
    "    \"candidate\"\n",
    "] = \"KOTLIKOFF\"\n",
    "\n",
    "# Fixing Valdivia\n",
    "general_data.loc[\n",
    "    general_data[\"candidate\"].str.contains(\"\\w*KENISTON\\W*\", case=False, na=False),\n",
    "    \"candidate\"\n",
    "] = \"KENISTON\"\n",
    "\n",
    "# Fixing HOEFLING\n",
    "general_data.loc[\n",
    "    general_data[\"candidate\"].str.contains(\"\\w*HOEFFLING\", case=False, na=False),\n",
    "    \"candidate\"\n",
    "] = \"HOEFLING\"\n",
    "\n",
    "general_data.loc[\n",
    "    general_data[\"candidate\"].str.contains(\"\\w*SCHOENKE\", case=False, na=False),\n",
    "    \"candidate\"\n",
    "] = \"SCHOENKE\"\n",
    "\n",
    "\n",
    "# Fixing McMullin\n",
    "general_data.loc[\n",
    "    general_data[\"candidate\"].str.contains(\"MCMULLIN\", case=False, na=False) ,\n",
    "    \"candidate\"\n",
    "] = \"MCMULLIN\"\n",
    "\n",
    "general_data.loc[\n",
    "    general_data[\"candidate\"].str.contains(\"FOX\", case=False, na=False) ,\n",
    "    \"candidate\"\n",
    "] = \"FOX\"\n",
    "\n",
    "# Fixing LASTNAME + First name Initial\n",
    "# general_data.loc[:,\"candidate\"] = (\n",
    "#     general_data[\"candidate\"].str.split().str[0].str.upper()\n",
    "# )\n",
    "\n",
    "\n",
    "# #Selecting only last name\n",
    "general_data[\"candidate\"] = general_data[\"candidate\"].str.split().str[-1]\n",
    "\n",
    "general_data[\"candidate\"].value_counts(dropna=False)"
   ]
  },
  {
   "cell_type": "code",
   "execution_count": 21,
   "id": "a22405a6",
   "metadata": {},
   "outputs": [
    {
     "data": {
      "application/vnd.microsoft.datawrangler.viewer.v0+json": {
       "columns": [
        {
         "name": "party",
         "rawType": "object",
         "type": "unknown"
        },
        {
         "name": "count",
         "rawType": "int64",
         "type": "integer"
        }
       ],
       "ref": "23230753-599d-4bce-b230-ecf84d5b49e9",
       "rows": [
        [
         "Republican",
         "521"
        ],
        [
         "Libertarian",
         "520"
        ],
        [
         "Independent",
         "518"
        ],
        [
         "Liberty Union",
         "509"
        ],
        [
         "Democratic",
         "275"
        ],
        [
         null,
         "274"
        ],
        [
         "Green",
         "272"
        ],
        [
         "Democrat",
         "246"
        ],
        [
         "Green Party",
         "246"
        ]
       ],
       "shape": {
        "columns": 1,
        "rows": 9
       }
      },
      "text/plain": [
       "party\n",
       "Republican       521\n",
       "Libertarian      520\n",
       "Independent      518\n",
       "Liberty Union    509\n",
       "Democratic       275\n",
       "NaN              274\n",
       "Green            272\n",
       "Democrat         246\n",
       "Green Party      246\n",
       "Name: count, dtype: int64"
      ]
     },
     "execution_count": 21,
     "metadata": {},
     "output_type": "execute_result"
    }
   ],
   "source": [
    "# Viewing Party\n",
    "general_data[\"party\"].value_counts(dropna=False)"
   ]
  },
  {
   "cell_type": "code",
   "execution_count": 23,
   "id": "21d7595b",
   "metadata": {},
   "outputs": [
    {
     "name": "stderr",
     "output_type": "stream",
     "text": [
      "C:\\Users\\ADMIN\\AppData\\Local\\Temp\\ipykernel_2548\\2882722454.py:54: SettingWithCopyWarning: \n",
      "A value is trying to be set on a copy of a slice from a DataFrame.\n",
      "Try using .loc[row_indexer,col_indexer] = value instead\n",
      "\n",
      "See the caveats in the documentation: https://pandas.pydata.org/pandas-docs/stable/user_guide/indexing.html#returning-a-view-versus-a-copy\n",
      "  general_data[\"party\"] = general_data.apply(\n",
      "C:\\Users\\ADMIN\\AppData\\Local\\Temp\\ipykernel_2548\\2882722454.py:21: SettingWithCopyWarning: \n",
      "A value is trying to be set on a copy of a slice from a DataFrame.\n",
      "Try using .loc[row_indexer,col_indexer] = value instead\n",
      "\n",
      "See the caveats in the documentation: https://pandas.pydata.org/pandas-docs/stable/user_guide/indexing.html#returning-a-view-versus-a-copy\n",
      "  df[\"party\"] = df.apply(\n"
     ]
    },
    {
     "data": {
      "application/vnd.microsoft.datawrangler.viewer.v0+json": {
       "columns": [
        {
         "name": "party",
         "rawType": "object",
         "type": "string"
        },
        {
         "name": "count",
         "rawType": "int64",
         "type": "integer"
        }
       ],
       "ref": "7d791b5d-d498-422f-b716-9962d54c5bfe",
       "rows": [
        [
         "Republican",
         "521"
        ],
        [
         "Libertarian",
         "520"
        ],
        [
         "Independent",
         "518"
        ],
        [
         "Liberty Union",
         "509"
        ],
        [
         "Democratic",
         "275"
        ],
        [
         "IND",
         "274"
        ],
        [
         "Green",
         "272"
        ],
        [
         "Democrat",
         "246"
        ],
        [
         "Green Party",
         "246"
        ]
       ],
       "shape": {
        "columns": 1,
        "rows": 9
       }
      },
      "text/plain": [
       "party\n",
       "Republican       521\n",
       "Libertarian      520\n",
       "Independent      518\n",
       "Liberty Union    509\n",
       "Democratic       275\n",
       "IND              274\n",
       "Green            272\n",
       "Democrat         246\n",
       "Green Party      246\n",
       "Name: count, dtype: int64"
      ]
     },
     "execution_count": 23,
     "metadata": {},
     "output_type": "execute_result"
    }
   ],
   "source": [
    "#=====================================\n",
    "# This function is used to look up party\n",
    "# for the candidate in the same df\n",
    "#=====================================\n",
    "def fill_party_from_data(row, df):\n",
    "    if pd.notna(row[\"party\"]):\n",
    "        return row[\"party\"]\n",
    "    \n",
    "    # Try to find other rows with the same candidate and known party\n",
    "    matches = df[(df[\"candidate\"] == row[\"candidate\"]) & (df[\"party\"].notna())]\n",
    "    if not matches.empty:\n",
    "        return matches[\"party\"].iloc[0]  # Return the first match's party\n",
    "    else:\n",
    "        return None  # Still unknown\n",
    "    \n",
    "#=====================================\n",
    "# Function to fill remaining missing party from master lookup\n",
    "#=====================================\n",
    "def fill_party_from_master(df, master_df):\n",
    "    party_map = master_df.set_index(\"candidate\")[\"party\"].to_dict()\n",
    "    df[\"party\"] = df.apply(\n",
    "        lambda row: party_map.get(row[\"candidate\"], row[\"party\"])\n",
    "        if pd.isna(row[\"party\"]) else row[\"party\"],\n",
    "        axis=1\n",
    "    )\n",
    "    return df\n",
    "\n",
    "#=====================================\n",
    "# Function to update the master candidate-party CSV\n",
    "#=====================================\n",
    "def update_master_candidate_party(df, master_path):\n",
    "    # Read the existing master file\n",
    "    master_df = pd.read_csv(master_path)\n",
    "\n",
    "    # Filter and combine only known party entries (exclude 'UNK')\n",
    "    new_data = (\n",
    "        df[[\"candidate\", \"party\"]]\n",
    "        .dropna()\n",
    "        .query('party != \"UNK\"')\n",
    "        .drop_duplicates()\n",
    "    )\n",
    "\n",
    "    # Merge with master and remove duplicates by candidate\n",
    "    updated_master = pd.concat([master_df, new_data]).drop_duplicates(subset=\"candidate\")\n",
    "\n",
    "    # Save updated version\n",
    "    updated_master.to_csv(master_path, index=False)\n",
    "\n",
    "\n",
    "#=====================================\n",
    "# Example usage (uncomment and modify for your workflow)\n",
    "#=====================================\n",
    "# Fill party using internal data\n",
    "general_data[\"party\"] = general_data.apply(\n",
    "    lambda row: fill_party_from_data(row, general_data),\n",
    "    axis=1\n",
    ")\n",
    "\n",
    "# # Fill remaining party using general master CSV\n",
    "master_party_df = pd.read_csv(r\"C:\\Huy Phan\\College\\VoterTurnout\\data\\cleaned_data\\gen_can_party.csv\") # USE YOUR OWN ADDRESS\n",
    "general_data = fill_party_from_master(general_data, master_party_df)\n",
    "general_data[\"party\"].value_counts(dropna=False)\n"
   ]
  },
  {
   "cell_type": "code",
   "execution_count": 24,
   "id": "8bb5d275",
   "metadata": {},
   "outputs": [
    {
     "name": "stderr",
     "output_type": "stream",
     "text": [
      "C:\\Users\\ADMIN\\AppData\\Local\\Temp\\ipykernel_2548\\4033261.py:3: SettingWithCopyWarning: \n",
      "A value is trying to be set on a copy of a slice from a DataFrame.\n",
      "Try using .loc[row_indexer,col_indexer] = value instead\n",
      "\n",
      "See the caveats in the documentation: https://pandas.pydata.org/pandas-docs/stable/user_guide/indexing.html#returning-a-view-versus-a-copy\n",
      "  general_data[\"party\"] = general_data[\"party\"].astype(str).str.upper()\n",
      "C:\\Users\\ADMIN\\AppData\\Local\\Temp\\ipykernel_2548\\4033261.py:5: SettingWithCopyWarning: \n",
      "A value is trying to be set on a copy of a slice from a DataFrame.\n",
      "Try using .loc[row_indexer,col_indexer] = value instead\n",
      "\n",
      "See the caveats in the documentation: https://pandas.pydata.org/pandas-docs/stable/user_guide/indexing.html#returning-a-view-versus-a-copy\n",
      "  general_data[\"party\"] = (\n"
     ]
    },
    {
     "data": {
      "application/vnd.microsoft.datawrangler.viewer.v0+json": {
       "columns": [
        {
         "name": "party",
         "rawType": "object",
         "type": "string"
        },
        {
         "name": "count",
         "rawType": "int64",
         "type": "integer"
        }
       ],
       "ref": "0f7b7870-2cfd-4919-9be0-8aca250e198f",
       "rows": [
        [
         "IND",
         "792"
        ],
        [
         "REP",
         "521"
        ],
        [
         "DEM",
         "521"
        ],
        [
         "LIB",
         "520"
        ],
        [
         "GRN",
         "518"
        ],
        [
         "SOL",
         "509"
        ]
       ],
       "shape": {
        "columns": 1,
        "rows": 6
       }
      },
      "text/plain": [
       "party\n",
       "IND    792\n",
       "REP    521\n",
       "DEM    521\n",
       "LIB    520\n",
       "GRN    518\n",
       "SOL    509\n",
       "Name: count, dtype: int64"
      ]
     },
     "execution_count": 24,
     "metadata": {},
     "output_type": "execute_result"
    }
   ],
   "source": [
    "# Cleaning Party\n",
    "# Turning all general data party to uppercase\n",
    "general_data[\"party\"] = general_data[\"party\"].astype(str).str.upper()\n",
    "\n",
    "general_data[\"party\"] = (\n",
    "    general_data[\"party\"]\n",
    "    .replace({\n",
    "        \"REPUBLICAN\": \"REP\",\n",
    "        \"R\": \"REP\",\n",
    "        \"DEMOCRATIC\": \"DEM\",\n",
    "        \"DEMOCRAT\":\"DEM\",\n",
    "        \"DEM\": \"DEM\",\n",
    "        \"D\": \"DEM\",\n",
    "        \"GREEN\": \"GRN\",\n",
    "        \"G\": \"GRN\",\n",
    "        \"WGR\":\"GRN\",\n",
    "        \"GREEN AND RAINBOW\":\"GRN\",\n",
    "        \"GREEN-RAINBOW\":\"GRN\",\n",
    "        \"GREEN PARTY\":\"GRN\",\n",
    "        \"LIBERTARIAN\": \"LIB\",\n",
    "        \"LIBERTARIN\":\"LIB\",\n",
    "        \"LPN\":\"LIB\",\n",
    "        \"LBT\": \"LIB\",\n",
    "        \"L\": \"LIB\",\n",
    "        \"IAP\":\"CON\",\n",
    "        \"CONSTITUTION\": \"CON\",\n",
    "        \"AMERICAN DELTA\":\"AMD\",\n",
    "        \"PROHIBITION\":\"PRO\",\n",
    "        \"NP\": \"IND\",\n",
    "        \"INDEPENDENT\":\"IND\",\n",
    "        \"NON\": \"IND\",\n",
    "        \"WRI\": \"IND\",\n",
    "        \"WRITE-IN\": \"IND\",\n",
    "        \"ONA\": \"IND\",\n",
    "        \"GEN\": \"IND\",\n",
    "        \"NONE\":\"UNK\",\n",
    "        \"NPA\":\"IND\",\n",
    "        \"UST\":\"CON\",\n",
    "        \"NPP\":\"IND\",\n",
    "        \"(WRITE-IN)\":\"IND\",\n",
    "        \"LIBERTY UNION\":\"SOL\"\n",
    "    })\n",
    ")\n",
    "\n",
    "general_data[\"party\"].value_counts(dropna=False)"
   ]
  },
  {
   "cell_type": "code",
   "execution_count": 25,
   "id": "ff4a4970",
   "metadata": {},
   "outputs": [],
   "source": [
    "# UPDATE MASTER FILE, CAREFUL\n",
    "update_master_candidate_party(general_data, r\"C:\\Huy Phan\\College\\VoterTurnout\\data\\cleaned_data\\gen_can_party.csv\")"
   ]
  },
  {
   "cell_type": "code",
   "execution_count": 26,
   "id": "daaed088",
   "metadata": {},
   "outputs": [
    {
     "name": "stderr",
     "output_type": "stream",
     "text": [
      "C:\\Users\\ADMIN\\AppData\\Local\\Temp\\ipykernel_2548\\1829951435.py:1: SettingWithCopyWarning: \n",
      "A value is trying to be set on a copy of a slice from a DataFrame.\n",
      "Try using .loc[row_indexer,col_indexer] = value instead\n",
      "\n",
      "See the caveats in the documentation: https://pandas.pydata.org/pandas-docs/stable/user_guide/indexing.html#returning-a-view-versus-a-copy\n",
      "  general_data[\"candidate_column\"] = (\n"
     ]
    },
    {
     "data": {
      "application/vnd.microsoft.datawrangler.viewer.v0+json": {
       "columns": [
        {
         "name": "index",
         "rawType": "int64",
         "type": "integer"
        },
        {
         "name": "precinct",
         "rawType": "object",
         "type": "string"
        },
        {
         "name": "gen_dem_CLINTON",
         "rawType": "int64",
         "type": "integer"
        },
        {
         "name": "gen_grn_STEIN",
         "rawType": "int64",
         "type": "integer"
        },
        {
         "name": "gen_ind_FUENTE",
         "rawType": "int64",
         "type": "integer"
        },
        {
         "name": "gen_ind_SANDERS",
         "rawType": "int64",
         "type": "integer"
        },
        {
         "name": "gen_lib_JOHNSON",
         "rawType": "int64",
         "type": "integer"
        },
        {
         "name": "gen_rep_TRUMP",
         "rawType": "int64",
         "type": "integer"
        },
        {
         "name": "gen_sol_RIVA",
         "rawType": "int64",
         "type": "integer"
        }
       ],
       "ref": "10f39e9e-76a6-486a-a389-d3a6f867a88d",
       "rows": [
        [
         "0",
         "ADDISONADDISON",
         "648",
         "16",
         "2",
         "45",
         "94",
         "674",
         "2"
        ],
        [
         "1",
         "ADDISONBRIDPORT",
         "584",
         "16",
         "6",
         "0",
         "48",
         "556",
         "2"
        ],
        [
         "2",
         "ADDISONBRISTOL",
         "2150",
         "82",
         "18",
         "168",
         "120",
         "1116",
         "2"
        ],
        [
         "3",
         "ADDISONCORNWALL",
         "1034",
         "28",
         "6",
         "21",
         "44",
         "294",
         "2"
        ],
        [
         "4",
         "ADDISONFERRISBURGH",
         "1784",
         "42",
         "6",
         "94",
         "122",
         "1002",
         "4"
        ],
        [
         "5",
         "ADDISONGOSHEN",
         "156",
         "6",
         "0",
         "5",
         "12",
         "62",
         "0"
        ],
        [
         "6",
         "ADDISONGRANVILLE",
         "164",
         "12",
         "2",
         "0",
         "6",
         "58",
         "0"
        ],
        [
         "7",
         "ADDISONHANCOCK",
         "150",
         "8",
         "2",
         "18",
         "12",
         "108",
         "0"
        ],
        [
         "8",
         "ADDISONLEICESTER",
         "434",
         "10",
         "6",
         "37",
         "30",
         "414",
         "0"
        ],
        [
         "9",
         "ADDISONLINCOLN",
         "988",
         "54",
         "6",
         "46",
         "44",
         "376",
         "0"
        ],
        [
         "10",
         "ADDISONMIDDLEBURY",
         "5364",
         "142",
         "22",
         "158",
         "154",
         "1190",
         "4"
        ],
        [
         "11",
         "ADDISONMONKTON",
         "1342",
         "32",
         "4",
         "0",
         "114",
         "720",
         "0"
        ],
        [
         "12",
         "ADDISONNEW HAVEN",
         "1188",
         "42",
         "10",
         "59",
         "90",
         "674",
         "4"
        ],
        [
         "13",
         "ADDISONORWELL",
         "540",
         "32",
         "10",
         "31",
         "58",
         "568",
         "0"
        ],
        [
         "14",
         "ADDISONPANTON",
         "342",
         "12",
         "0",
         "24",
         "12",
         "252",
         "0"
        ],
        [
         "15",
         "ADDISONRIPTON",
         "456",
         "26",
         "2",
         "29",
         "10",
         "116",
         "0"
        ],
        [
         "16",
         "ADDISONSALISBURY",
         "592",
         "18",
         "6",
         "45",
         "16",
         "378",
         "0"
        ],
        [
         "17",
         "ADDISONSHOREHAM",
         "712",
         "26",
         "2",
         "39",
         "38",
         "422",
         "0"
        ],
        [
         "18",
         "ADDISONSTARKSBORO",
         "1068",
         "48",
         "6",
         "67",
         "72",
         "512",
         "0"
        ],
        [
         "19",
         "ADDISONVERGENNES",
         "1424",
         "46",
         "10",
         "90",
         "102",
         "652",
         "2"
        ],
        [
         "20",
         "ADDISONWALTHAM",
         "298",
         "4",
         "0",
         "0",
         "28",
         "166",
         "0"
        ],
        [
         "21",
         "ADDISONWEYBRIDGE",
         "830",
         "16",
         "2",
         "0",
         "36",
         "148",
         "4"
        ],
        [
         "22",
         "ADDISONWHITING",
         "190",
         "4",
         "4",
         "20",
         "16",
         "136",
         "0"
        ],
        [
         "23",
         "BENNINGTONARLINGTON",
         "1324",
         "44",
         "8",
         "94",
         "56",
         "870",
         "6"
        ],
        [
         "24",
         "BENNINGTONBENNINGTON",
         "6722",
         "294",
         "44",
         "330",
         "310",
         "3898",
         "16"
        ],
        [
         "25",
         "BENNINGTONDORSET",
         "1480",
         "36",
         "8",
         "41",
         "72",
         "668",
         "0"
        ],
        [
         "26",
         "BENNINGTONLANDGROVE",
         "142",
         "2",
         "0",
         "5",
         "10",
         "36",
         "0"
        ],
        [
         "27",
         "BENNINGTONMANCHESTER",
         "2904",
         "66",
         "20",
         "90",
         "148",
         "1412",
         "8"
        ],
        [
         "28",
         "BENNINGTONPERU",
         "332",
         "4",
         "0",
         "3",
         "8",
         "108",
         "0"
        ],
        [
         "29",
         "BENNINGTONPOWNAL",
         "1522",
         "58",
         "16",
         "87",
         "94",
         "1362",
         "2"
        ],
        [
         "30",
         "BENNINGTONREADSBORO",
         "332",
         "14",
         "2",
         "22",
         "14",
         "346",
         "2"
        ],
        [
         "31",
         "BENNINGTONRUPERT",
         "426",
         "12",
         "2",
         "14",
         "28",
         "276",
         "0"
        ],
        [
         "32",
         "BENNINGTONSANDGATE",
         "198",
         "14",
         "0",
         "7",
         "12",
         "190",
         "2"
        ],
        [
         "33",
         "BENNINGTONSEARSBURG",
         "38",
         "0",
         "0",
         "2",
         "0",
         "72",
         "2"
        ],
        [
         "34",
         "BENNINGTONSHAFTSBURY",
         "1904",
         "52",
         "14",
         "93",
         "106",
         "1322",
         "2"
        ],
        [
         "35",
         "BENNINGTONSTAMFORD",
         "406",
         "12",
         "2",
         "9",
         "32",
         "476",
         "0"
        ],
        [
         "36",
         "BENNINGTONSUNDERLAND",
         "562",
         "9",
         "6",
         "27",
         "24",
         "366",
         "0"
        ],
        [
         "37",
         "BENNINGTONWINHALL",
         "598",
         "14",
         "4",
         "29",
         "30",
         "316",
         "2"
        ],
        [
         "38",
         "BENNINGTONWOODFORD",
         "188",
         "2",
         "0",
         "8",
         "12",
         "132",
         "2"
        ],
        [
         "39",
         "CALEDONIABARNET",
         "970",
         "42",
         "10",
         "37",
         "92",
         "710",
         "0"
        ],
        [
         "40",
         "CALEDONIABURKE",
         "762",
         "26",
         "2",
         "50",
         "68",
         "672",
         "2"
        ],
        [
         "41",
         "CALEDONIADANVILLE",
         "1290",
         "44",
         "8",
         "79",
         "100",
         "988",
         "2"
        ],
        [
         "42",
         "CALEDONIAGROTON",
         "318",
         "32",
         "8",
         "44",
         "36",
         "468",
         "2"
        ],
        [
         "43",
         "CALEDONIAHARDWICK",
         "1302",
         "98",
         "10",
         "102",
         "84",
         "1002",
         "12"
        ],
        [
         "44",
         "CALEDONIAKIRBY",
         "250",
         "16",
         "0",
         "22",
         "12",
         "192",
         "0"
        ],
        [
         "45",
         "CALEDONIALYNDON",
         "1654",
         "86",
         "16",
         "162",
         "172",
         "1766",
         "6"
        ],
        [
         "46",
         "CALEDONIANEWARK",
         "260",
         "26",
         "0",
         "24",
         "32",
         "232",
         "0"
        ],
        [
         "47",
         "CALEDONIAPEACHAM",
         "582",
         "22",
         "6",
         "18",
         "50",
         "226",
         "2"
        ],
        [
         "48",
         "CALEDONIARYEGATE",
         "504",
         "24",
         "0",
         "19",
         "30",
         "478",
         "0"
        ],
        [
         "49",
         "CALEDONIASAINT JOHNSBURY",
         "2938",
         "128",
         "32",
         "164",
         "250",
         "2220",
         "8"
        ]
       ],
       "shape": {
        "columns": 8,
        "rows": 246
       }
      },
      "text/html": [
       "<div>\n",
       "<style scoped>\n",
       "    .dataframe tbody tr th:only-of-type {\n",
       "        vertical-align: middle;\n",
       "    }\n",
       "\n",
       "    .dataframe tbody tr th {\n",
       "        vertical-align: top;\n",
       "    }\n",
       "\n",
       "    .dataframe thead th {\n",
       "        text-align: right;\n",
       "    }\n",
       "</style>\n",
       "<table border=\"1\" class=\"dataframe\">\n",
       "  <thead>\n",
       "    <tr style=\"text-align: right;\">\n",
       "      <th>candidate_column</th>\n",
       "      <th>precinct</th>\n",
       "      <th>gen_dem_CLINTON</th>\n",
       "      <th>gen_grn_STEIN</th>\n",
       "      <th>gen_ind_FUENTE</th>\n",
       "      <th>gen_ind_SANDERS</th>\n",
       "      <th>gen_lib_JOHNSON</th>\n",
       "      <th>gen_rep_TRUMP</th>\n",
       "      <th>gen_sol_RIVA</th>\n",
       "    </tr>\n",
       "  </thead>\n",
       "  <tbody>\n",
       "    <tr>\n",
       "      <th>0</th>\n",
       "      <td>ADDISONADDISON</td>\n",
       "      <td>648</td>\n",
       "      <td>16</td>\n",
       "      <td>2</td>\n",
       "      <td>45</td>\n",
       "      <td>94</td>\n",
       "      <td>674</td>\n",
       "      <td>2</td>\n",
       "    </tr>\n",
       "    <tr>\n",
       "      <th>1</th>\n",
       "      <td>ADDISONBRIDPORT</td>\n",
       "      <td>584</td>\n",
       "      <td>16</td>\n",
       "      <td>6</td>\n",
       "      <td>0</td>\n",
       "      <td>48</td>\n",
       "      <td>556</td>\n",
       "      <td>2</td>\n",
       "    </tr>\n",
       "    <tr>\n",
       "      <th>2</th>\n",
       "      <td>ADDISONBRISTOL</td>\n",
       "      <td>2150</td>\n",
       "      <td>82</td>\n",
       "      <td>18</td>\n",
       "      <td>168</td>\n",
       "      <td>120</td>\n",
       "      <td>1116</td>\n",
       "      <td>2</td>\n",
       "    </tr>\n",
       "    <tr>\n",
       "      <th>3</th>\n",
       "      <td>ADDISONCORNWALL</td>\n",
       "      <td>1034</td>\n",
       "      <td>28</td>\n",
       "      <td>6</td>\n",
       "      <td>21</td>\n",
       "      <td>44</td>\n",
       "      <td>294</td>\n",
       "      <td>2</td>\n",
       "    </tr>\n",
       "    <tr>\n",
       "      <th>4</th>\n",
       "      <td>ADDISONFERRISBURGH</td>\n",
       "      <td>1784</td>\n",
       "      <td>42</td>\n",
       "      <td>6</td>\n",
       "      <td>94</td>\n",
       "      <td>122</td>\n",
       "      <td>1002</td>\n",
       "      <td>4</td>\n",
       "    </tr>\n",
       "    <tr>\n",
       "      <th>...</th>\n",
       "      <td>...</td>\n",
       "      <td>...</td>\n",
       "      <td>...</td>\n",
       "      <td>...</td>\n",
       "      <td>...</td>\n",
       "      <td>...</td>\n",
       "      <td>...</td>\n",
       "      <td>...</td>\n",
       "    </tr>\n",
       "    <tr>\n",
       "      <th>241</th>\n",
       "      <td>WINDSORWEATHERSFIELD</td>\n",
       "      <td>1490</td>\n",
       "      <td>52</td>\n",
       "      <td>16</td>\n",
       "      <td>86</td>\n",
       "      <td>102</td>\n",
       "      <td>1294</td>\n",
       "      <td>2</td>\n",
       "    </tr>\n",
       "    <tr>\n",
       "      <th>242</th>\n",
       "      <td>WINDSORWEST WINDSOR</td>\n",
       "      <td>938</td>\n",
       "      <td>12</td>\n",
       "      <td>4</td>\n",
       "      <td>0</td>\n",
       "      <td>54</td>\n",
       "      <td>346</td>\n",
       "      <td>0</td>\n",
       "    </tr>\n",
       "    <tr>\n",
       "      <th>243</th>\n",
       "      <td>WINDSORWESTON</td>\n",
       "      <td>534</td>\n",
       "      <td>10</td>\n",
       "      <td>2</td>\n",
       "      <td>17</td>\n",
       "      <td>16</td>\n",
       "      <td>212</td>\n",
       "      <td>0</td>\n",
       "    </tr>\n",
       "    <tr>\n",
       "      <th>244</th>\n",
       "      <td>WINDSORWINDSOR</td>\n",
       "      <td>1928</td>\n",
       "      <td>88</td>\n",
       "      <td>6</td>\n",
       "      <td>92</td>\n",
       "      <td>184</td>\n",
       "      <td>924</td>\n",
       "      <td>4</td>\n",
       "    </tr>\n",
       "    <tr>\n",
       "      <th>245</th>\n",
       "      <td>WINDSORWOODSTOCK</td>\n",
       "      <td>2638</td>\n",
       "      <td>62</td>\n",
       "      <td>10</td>\n",
       "      <td>73</td>\n",
       "      <td>96</td>\n",
       "      <td>744</td>\n",
       "      <td>4</td>\n",
       "    </tr>\n",
       "  </tbody>\n",
       "</table>\n",
       "<p>246 rows × 8 columns</p>\n",
       "</div>"
      ],
      "text/plain": [
       "candidate_column              precinct  gen_dem_CLINTON  gen_grn_STEIN  \\\n",
       "0                       ADDISONADDISON              648             16   \n",
       "1                      ADDISONBRIDPORT              584             16   \n",
       "2                       ADDISONBRISTOL             2150             82   \n",
       "3                      ADDISONCORNWALL             1034             28   \n",
       "4                   ADDISONFERRISBURGH             1784             42   \n",
       "..                                 ...              ...            ...   \n",
       "241               WINDSORWEATHERSFIELD             1490             52   \n",
       "242                WINDSORWEST WINDSOR              938             12   \n",
       "243                      WINDSORWESTON              534             10   \n",
       "244                     WINDSORWINDSOR             1928             88   \n",
       "245                   WINDSORWOODSTOCK             2638             62   \n",
       "\n",
       "candidate_column  gen_ind_FUENTE  gen_ind_SANDERS  gen_lib_JOHNSON  \\\n",
       "0                              2               45               94   \n",
       "1                              6                0               48   \n",
       "2                             18              168              120   \n",
       "3                              6               21               44   \n",
       "4                              6               94              122   \n",
       "..                           ...              ...              ...   \n",
       "241                           16               86              102   \n",
       "242                            4                0               54   \n",
       "243                            2               17               16   \n",
       "244                            6               92              184   \n",
       "245                           10               73               96   \n",
       "\n",
       "candidate_column  gen_rep_TRUMP  gen_sol_RIVA  \n",
       "0                           674             2  \n",
       "1                           556             2  \n",
       "2                          1116             2  \n",
       "3                           294             2  \n",
       "4                          1002             4  \n",
       "..                          ...           ...  \n",
       "241                        1294             2  \n",
       "242                         346             0  \n",
       "243                         212             0  \n",
       "244                         924             4  \n",
       "245                         744             4  \n",
       "\n",
       "[246 rows x 8 columns]"
      ]
     },
     "execution_count": 26,
     "metadata": {},
     "output_type": "execute_result"
    }
   ],
   "source": [
    "general_data[\"candidate_column\"] = (\n",
    "    \"gen_\" +\n",
    "    general_data[\"party\"].str.lower() + \"_\" +\n",
    "    general_data[\"candidate\"].str.split().str[-1].str.upper()\n",
    ")\n",
    "\n",
    "# pivot the table\n",
    "general_result = general_data.pivot_table(\n",
    "    index=\"precinct\",\n",
    "    columns=\"candidate_column\",\n",
    "    values=\"votes\",\n",
    "    aggfunc=\"sum\",  \n",
    "    fill_value=0\n",
    ").reset_index()\n",
    "\n",
    "general_result"
   ]
  },
  {
   "cell_type": "code",
   "execution_count": 27,
   "id": "6686d34b",
   "metadata": {},
   "outputs": [],
   "source": [
    "# Merge\n",
    "combined = pd.merge(primary_result, general_result, on=\"precinct\", how=\"inner\")\n",
    "\n",
    "# Convert DEM primary columns to numeric and calculate total\n",
    "dem_cols = combined.filter(like=\"pri_dem_\").columns\n",
    "combined[dem_cols] = combined[dem_cols].apply(pd.to_numeric, errors=\"coerce\")\n",
    "combined[\"dem_primary_total\"] = combined[dem_cols].sum(axis=1)\n",
    "\n",
    "# Convert general election columns to numeric and calculate total\n",
    "gen_cols = combined.filter(like=\"gen_\").columns\n",
    "combined[gen_cols] = combined[gen_cols].apply(pd.to_numeric, errors=\"coerce\")\n",
    "combined[\"general_total\"] = combined[gen_cols].sum(axis=1)\n",
    "\n",
    "# Convert all numeric columns to int\n",
    "for col in combined.columns[1:]:\n",
    "    combined[col] = pd.to_numeric(combined[col], errors='coerce').fillna(0).astype(int)\n",
    "\n",
    "# Identify filtered-out precincts\n",
    "primary_precincts = set(primary_result[\"precinct\"])\n",
    "general_precincts = set(general_result[\"precinct\"])\n",
    "combined_precincts = set(combined[\"precinct\"])\n",
    "\n",
    "primary_filtered_out = primary_precincts - combined_precincts\n",
    "general_filtered_out = general_precincts - combined_precincts\n",
    "\n",
    "\n"
   ]
  },
  {
   "cell_type": "code",
   "execution_count": 28,
   "id": "a6797e92",
   "metadata": {},
   "outputs": [],
   "source": [
    "\n",
    "\n",
    "combined.to_csv(\"VT.csv\", index=False)\n",
    "# Step 3: Identify unmatched precincts and retrieve full rows\n",
    "combined_precincts = set(combined[\"precinct\"])\n",
    "\n",
    "# Rows in primary_result but not in combined\n",
    "primary_filtered_out = primary_result[~primary_result[\"precinct\"].isin(combined_precincts)]\n",
    "primary_filtered_out.to_csv(\"VT_primary_filtered.csv\", index=False)\n",
    "\n",
    "# Rows in general_result but not in combined\n",
    "general_filtered_out = general_result[~general_result[\"precinct\"].isin(combined_precincts)]\n",
    "general_filtered_out.to_csv(\"VT_general_filtered.csv\", index=False)"
   ]
  },
  {
   "cell_type": "code",
   "execution_count": 29,
   "id": "b3d042ff",
   "metadata": {},
   "outputs": [
    {
     "name": "stdout",
     "output_type": "stream",
     "text": [
      "primary: 246, general: 246, combined: 246\n"
     ]
    }
   ],
   "source": [
    "print(f\"primary: {len(primary_precincts)}, general: {len(general_precincts)}, combined: {len(combined)}\")"
   ]
  },
  {
   "cell_type": "code",
   "execution_count": 30,
   "id": "9900725d",
   "metadata": {},
   "outputs": [
    {
     "name": "stdout",
     "output_type": "stream",
     "text": [
      "primary: 14, general: 14\n"
     ]
    }
   ],
   "source": [
    "print(f\"primary: {len(pri_combined_df['county'].unique())}, general: {len(gen_combined_df['county'].unique())}\")\n"
   ]
  },
  {
   "cell_type": "code",
   "execution_count": null,
   "id": "b12d639e",
   "metadata": {},
   "outputs": [
    {
     "data": {
      "text/plain": [
       "array(['Carson City', 'Churchill', 'Clark', 'Douglas', 'Elko',\n",
       "       'Esmeralda', 'Eureka', 'Humboldt', 'Lander', 'Lincoln', 'Lyon',\n",
       "       'Mineral', 'Nye', 'ye', 'Pershing', 'Storey', 'Washoe',\n",
       "       'White Pine'], dtype=object)"
      ]
     },
     "execution_count": 57,
     "metadata": {},
     "output_type": "execute_result"
    }
   ],
   "source": [
    "pri_combined_df['jurisdiction'].unique()"
   ]
  },
  {
   "cell_type": "code",
   "execution_count": null,
   "id": "0fb1a12f",
   "metadata": {},
   "outputs": [
    {
     "data": {
      "text/plain": [
       "array(['CARSON CITY', 'CHURCHILL', 'CLARK', 'DOUGLAS', 'ELKO',\n",
       "       'ESMERALDA', 'EUREKA', 'HUMBOLDT', 'LANDER', 'LINCOLN', 'LYON',\n",
       "       'MINERAL', 'NYE', 'PERSHING', 'STOREY', 'WASHOE', 'WHITE PINE'],\n",
       "      dtype=object)"
      ]
     },
     "execution_count": 56,
     "metadata": {},
     "output_type": "execute_result"
    }
   ],
   "source": [
    "gen_combined_df['county'].unique()"
   ]
  },
  {
   "cell_type": "code",
   "execution_count": null,
   "id": "b28d499d",
   "metadata": {},
   "outputs": [
    {
     "name": "stdout",
     "output_type": "stream",
     "text": [
      "Counties in primary but not in general: 1\n",
      "{'YE'}\n"
     ]
    }
   ],
   "source": [
    "primary_counties = set(pri_combined_df['jurisdiction'].dropna().str.strip().str.upper())\n",
    "general_counties = set(gen_combined_df['county'].dropna().str.strip().str.upper())\n",
    "\n",
    "diff = primary_counties - general_counties\n",
    "print(f\"Counties in primary but not in general: {len(diff)}\")\n",
    "print(diff)\n"
   ]
  }
 ],
 "metadata": {
  "kernelspec": {
   "display_name": "Python 3",
   "language": "python",
   "name": "python3"
  },
  "language_info": {
   "codemirror_mode": {
    "name": "ipython",
    "version": 3
   },
   "file_extension": ".py",
   "mimetype": "text/x-python",
   "name": "python",
   "nbconvert_exporter": "python",
   "pygments_lexer": "ipython3",
   "version": "3.11.2"
  }
 },
 "nbformat": 4,
 "nbformat_minor": 5
}
