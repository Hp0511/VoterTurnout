{
 "cells": [
  {
   "cell_type": "code",
   "execution_count": 1,
   "id": "ad1be0fa",
   "metadata": {},
   "outputs": [],
   "source": [
    "# Import all the libraries\n",
    "import pandas as pd\n",
    "import glob\n",
    "import os\n",
    "import re\n",
    "from pprint import pprint"
   ]
  },
  {
   "cell_type": "code",
   "execution_count": 3,
   "id": "c263c4df",
   "metadata": {},
   "outputs": [],
   "source": [
    "#Get all CSV files in the folder of GA\n",
    "all_files = glob.glob(r\"C:\\Huy Phan\\College\\VoterTurnout\\data\\KS\\*.csv\")\n",
    "\n",
    "# Files that contain both 'precinct' and 'general' in the filename\n",
    "general_files = [\n",
    "    f for f in all_files\n",
    "    if all(word in f.lower() for word in ['precinct', 'general'])\n",
    "]\n",
    "\n",
    "\n",
    "# Files that contain both 'precinct' and 'primary' in the filename\n",
    "primary_files = [\n",
    "    f for f in all_files\n",
    "    if all(word in f.lower() for word in ['precinct', 'primary'])\n",
    "]\n"
   ]
  },
  {
   "cell_type": "code",
   "execution_count": 4,
   "id": "60d49ea6",
   "metadata": {},
   "outputs": [
    {
     "name": "stdout",
     "output_type": "stream",
     "text": [
      "General files:\n",
      "C:\\Huy Phan\\College\\VoterTurnout\\data\\KS\\20161108__ks__general__precinct.csv\n"
     ]
    }
   ],
   "source": [
    "print(\"General files:\")\n",
    "for f in general_files:\n",
    "    print(f)\n"
   ]
  },
  {
   "cell_type": "code",
   "execution_count": 5,
   "id": "4ab13110",
   "metadata": {},
   "outputs": [
    {
     "name": "stdout",
     "output_type": "stream",
     "text": [
      "\n",
      "Primary files:\n",
      "C:\\Huy Phan\\College\\VoterTurnout\\data\\KS\\20160802__ks__primary__edwards__precinct.csv\n",
      "C:\\Huy Phan\\College\\VoterTurnout\\data\\KS\\20160802__ks__primary__gray__precinct.csv\n",
      "C:\\Huy Phan\\College\\VoterTurnout\\data\\KS\\20160802__ks__primary__logan__precinct.csv\n",
      "C:\\Huy Phan\\College\\VoterTurnout\\data\\KS\\20160802__ks__primary__riley__precinct.csv\n",
      "C:\\Huy Phan\\College\\VoterTurnout\\data\\KS\\20160802__ks__primary__wabaunsee__precinct.csv\n"
     ]
    }
   ],
   "source": [
    "print(\"\\nPrimary files:\")\n",
    "for f in primary_files:\n",
    "    print(f)"
   ]
  },
  {
   "cell_type": "code",
   "execution_count": 7,
   "id": "ff5df6c7",
   "metadata": {},
   "outputs": [
    {
     "data": {
      "application/vnd.microsoft.datawrangler.viewer.v0+json": {
       "columns": [
        {
         "name": "index",
         "rawType": "int64",
         "type": "integer"
        },
        {
         "name": "county",
         "rawType": "object",
         "type": "string"
        },
        {
         "name": "precinct",
         "rawType": "object",
         "type": "string"
        },
        {
         "name": "office",
         "rawType": "object",
         "type": "string"
        },
        {
         "name": "district",
         "rawType": "float64",
         "type": "float"
        },
        {
         "name": "party",
         "rawType": "object",
         "type": "string"
        },
        {
         "name": "candidate",
         "rawType": "object",
         "type": "string"
        },
        {
         "name": "votes",
         "rawType": "int64",
         "type": "integer"
        }
       ],
       "ref": "8d60b661-2354-4679-95f7-57f3b62b37c9",
       "rows": [],
       "shape": {
        "columns": 7,
        "rows": 0
       }
      },
      "text/html": [
       "<div>\n",
       "<style scoped>\n",
       "    .dataframe tbody tr th:only-of-type {\n",
       "        vertical-align: middle;\n",
       "    }\n",
       "\n",
       "    .dataframe tbody tr th {\n",
       "        vertical-align: top;\n",
       "    }\n",
       "\n",
       "    .dataframe thead th {\n",
       "        text-align: right;\n",
       "    }\n",
       "</style>\n",
       "<table border=\"1\" class=\"dataframe\">\n",
       "  <thead>\n",
       "    <tr style=\"text-align: right;\">\n",
       "      <th></th>\n",
       "      <th>county</th>\n",
       "      <th>precinct</th>\n",
       "      <th>office</th>\n",
       "      <th>district</th>\n",
       "      <th>party</th>\n",
       "      <th>candidate</th>\n",
       "      <th>votes</th>\n",
       "    </tr>\n",
       "  </thead>\n",
       "  <tbody>\n",
       "  </tbody>\n",
       "</table>\n",
       "</div>"
      ],
      "text/plain": [
       "Empty DataFrame\n",
       "Columns: [county, precinct, office, district, party, candidate, votes]\n",
       "Index: []"
      ]
     },
     "execution_count": 7,
     "metadata": {},
     "output_type": "execute_result"
    }
   ],
   "source": [
    "# Process primary files\n",
    "primary_df_list = []\n",
    "\n",
    "for file in primary_files:\n",
    "    try:\n",
    "        df = pd.read_csv(file)\n",
    "        \n",
    "            \n",
    "        # Combine precinct as county + precinct\n",
    "        df[\"precinct\"] = df[\"county\"].astype(str) + df[\"precinct\"].astype(str)\n",
    "        df[\"precinct\"] = df[\"precinct\"].str.upper()\n",
    "        df[\"county\"] = df[\"county\"].str.upper()\n",
    "\n",
    "        # Cleaning maybe total precinct\n",
    "        if 'precinct' in df.columns:\n",
    "            df['precinct'] = df['precinct'].astype(str)                  \n",
    "            df = df[df['precinct'].str.upper() != \"TOTAL\"]               \n",
    "            df = df[df['precinct'].str.strip().str.upper() != \"TOTAL\"]   \n",
    "            df = df[df['precinct'].str.upper() != \"NAN\"]                \n",
    "            df = df[~df['precinct'].str.upper().str.contains(r\"\\w*TOTAL\\w*\", na=False)]   \n",
    "            df = df[~df['precinct'].str.upper().str.contains(r\"\\w*ABSENTEE\\w*\", na=False)]   \n",
    "\n",
    "        if 'county' in df.columns:\n",
    "            df['county'] = df['county'].astype(str)                  \n",
    "            df = df[df['county'].str.upper() != \"TOTAL\"]               \n",
    "            df = df[df['county'].str.strip().str.upper() != \"TOTAL\"]   \n",
    "            df = df[df['county'].str.upper() != \"NAN\"]       \n",
    "            df = df[~df['county'].str.upper().str.contains(r\"\\w*TOTAL\\w*\", na=False)]               \n",
    "        # Filtering out only President \n",
    "        if 'office' in df.columns:\n",
    "            df = df[df[\"office\"].str.upper() == \"PRESIDENT\"]\n",
    "        # Dropping duplicates value\n",
    "        df = df.drop_duplicates()\n",
    "        \n",
    "        primary_df_list.append(df)\n",
    "\n",
    "    except Exception as e:\n",
    "        print(f\"Error in {file}: {e}\")\n",
    "\n",
    "# Combine all cleaned files\n",
    "pri_combined_df = pd.concat(primary_df_list, ignore_index=True)\n",
    "pri_combined_df\n"
   ]
  },
  {
   "cell_type": "code",
   "execution_count": 38,
   "id": "2ef83fe2",
   "metadata": {},
   "outputs": [],
   "source": [
    "## Cleaning precinct, county name\n",
    "# Fixing Cubbler\n",
    "# pri_combined_df.loc[\n",
    "#     ( \n",
    "#         pri_combined_df[\"county\"].str.contains(\"\\w*F120\\w*\", case=False, na=False)|\n",
    "#         pri_combined_df[\"county\"].str.contains(\"\\w*STONE\\w*\", case=False, na=False)|\n",
    "#         pri_combined_df[\"county\"].str.contains(\"\\w*OBBLER\\w*\", case=False, na=False),\n",
    "#     \"county\")\n",
    "# ] = \"STONE\""
   ]
  },
  {
   "cell_type": "code",
   "execution_count": 39,
   "id": "bbe34b76",
   "metadata": {},
   "outputs": [],
   "source": [
    "# Checking any suspicious precinct, county\n",
    "suspicious_precincts = pri_combined_df[\n",
    "    pri_combined_df[\"precinct\"].isna() |\n",
    "    pri_combined_df[\"precinct\"].str.strip().str.upper().str.contains(r\"\\w*TOTAL\\w*\", na=False) |\n",
    "    pri_combined_df[\"precinct\"].str.strip().str.upper().isin([\"NONE\", \"NAN\"]) |\n",
    "    pri_combined_df[\"county\"].isna() |\n",
    "    pri_combined_df[\"county\"].str.strip().str.upper().str.contains(r\"\\w*TOTAL\\w*\", na=False) |\n",
    "    pri_combined_df[\"county\"].str.strip().str.upper().isin([\"NONE\", \"NAN\"])\n",
    "]"
   ]
  },
  {
   "cell_type": "code",
   "execution_count": 40,
   "id": "f0e1e913",
   "metadata": {},
   "outputs": [
    {
     "data": {
      "application/vnd.microsoft.datawrangler.viewer.v0+json": {
       "columns": [
        {
         "name": "index",
         "rawType": "int64",
         "type": "integer"
        },
        {
         "name": "precinct",
         "rawType": "object",
         "type": "string"
        },
        {
         "name": "party",
         "rawType": "float64",
         "type": "float"
        },
        {
         "name": "candidate",
         "rawType": "object",
         "type": "string"
        },
        {
         "name": "votes",
         "rawType": "int64",
         "type": "integer"
        }
       ],
       "ref": "1c375f0f-84f5-4744-99c5-bb7ace54b077",
       "rows": [
        [
         "0",
         "BREATHITTA101",
         null,
         "Martin J. O'MALLEY",
         "0"
        ],
        [
         "1",
         "BREATHITTA102",
         null,
         "Martin J. O'MALLEY",
         "4"
        ],
        [
         "2",
         "BREATHITTA103",
         null,
         "Martin J. O'MALLEY",
         "6"
        ],
        [
         "3",
         "BREATHITTA104",
         null,
         "Martin J. O'MALLEY",
         "5"
        ],
        [
         "4",
         "BREATHITTA105",
         null,
         "Martin J. O'MALLEY",
         "5"
        ],
        [
         "5",
         "BREATHITTB101",
         null,
         "Martin J. O'MALLEY",
         "6"
        ],
        [
         "6",
         "BREATHITTB102",
         null,
         "Martin J. O'MALLEY",
         "4"
        ],
        [
         "7",
         "BREATHITTB103",
         null,
         "Martin J. O'MALLEY",
         "1"
        ],
        [
         "8",
         "BREATHITTB104",
         null,
         "Martin J. O'MALLEY",
         "1"
        ],
        [
         "9",
         "BREATHITTB105",
         null,
         "Martin J. O'MALLEY",
         "2"
        ],
        [
         "10",
         "BREATHITTC101",
         null,
         "Martin J. O'MALLEY",
         "3"
        ],
        [
         "11",
         "BREATHITTC102",
         null,
         "Martin J. O'MALLEY",
         "1"
        ],
        [
         "12",
         "BREATHITTC103",
         null,
         "Martin J. O'MALLEY",
         "0"
        ],
        [
         "13",
         "BREATHITTC104",
         null,
         "Martin J. O'MALLEY",
         "3"
        ],
        [
         "14",
         "BREATHITTC105",
         null,
         "Martin J. O'MALLEY",
         "2"
        ],
        [
         "15",
         "BREATHITTD101",
         null,
         "Martin J. O'MALLEY",
         "0"
        ],
        [
         "16",
         "BREATHITTD102",
         null,
         "Martin J. O'MALLEY",
         "1"
        ],
        [
         "17",
         "BREATHITTD103",
         null,
         "Martin J. O'MALLEY",
         "7"
        ],
        [
         "18",
         "BREATHITTD104",
         null,
         "Martin J. O'MALLEY",
         "0"
        ],
        [
         "19",
         "BREATHITTD105",
         null,
         "Martin J. O'MALLEY",
         "1"
        ],
        [
         "20",
         "BREATHITTD106",
         null,
         "Martin J. O'MALLEY",
         "1"
        ],
        [
         "21",
         "BREATHITTA101",
         null,
         "Bernard \"Bernie\" SANDERS",
         "31"
        ],
        [
         "22",
         "BREATHITTA102",
         null,
         "Bernard \"Bernie\" SANDERS",
         "98"
        ],
        [
         "23",
         "BREATHITTA103",
         null,
         "Bernard \"Bernie\" SANDERS",
         "159"
        ],
        [
         "24",
         "BREATHITTA104",
         null,
         "Bernard \"Bernie\" SANDERS",
         "109"
        ],
        [
         "25",
         "BREATHITTA105",
         null,
         "Bernard \"Bernie\" SANDERS",
         "63"
        ],
        [
         "26",
         "BREATHITTB101",
         null,
         "Bernard \"Bernie\" SANDERS",
         "50"
        ],
        [
         "27",
         "BREATHITTB102",
         null,
         "Bernard \"Bernie\" SANDERS",
         "96"
        ],
        [
         "28",
         "BREATHITTB103",
         null,
         "Bernard \"Bernie\" SANDERS",
         "95"
        ],
        [
         "29",
         "BREATHITTB104",
         null,
         "Bernard \"Bernie\" SANDERS",
         "78"
        ],
        [
         "30",
         "BREATHITTB105",
         null,
         "Bernard \"Bernie\" SANDERS",
         "52"
        ],
        [
         "31",
         "BREATHITTC101",
         null,
         "Bernard \"Bernie\" SANDERS",
         "109"
        ],
        [
         "32",
         "BREATHITTC102",
         null,
         "Bernard \"Bernie\" SANDERS",
         "71"
        ],
        [
         "33",
         "BREATHITTC103",
         null,
         "Bernard \"Bernie\" SANDERS",
         "102"
        ],
        [
         "34",
         "BREATHITTC104",
         null,
         "Bernard \"Bernie\" SANDERS",
         "84"
        ],
        [
         "35",
         "BREATHITTC105",
         null,
         "Bernard \"Bernie\" SANDERS",
         "68"
        ],
        [
         "36",
         "BREATHITTD101",
         null,
         "Bernard \"Bernie\" SANDERS",
         "41"
        ],
        [
         "37",
         "BREATHITTD102",
         null,
         "Bernard \"Bernie\" SANDERS",
         "80"
        ],
        [
         "38",
         "BREATHITTD103",
         null,
         "Bernard \"Bernie\" SANDERS",
         "128"
        ],
        [
         "39",
         "BREATHITTD104",
         null,
         "Bernard \"Bernie\" SANDERS",
         "66"
        ],
        [
         "40",
         "BREATHITTD105",
         null,
         "Bernard \"Bernie\" SANDERS",
         "24"
        ],
        [
         "41",
         "BREATHITTD106",
         null,
         "Bernard \"Bernie\" SANDERS",
         "65"
        ],
        [
         "42",
         "BREATHITTA101",
         null,
         "Hillary CLINTON",
         "29"
        ],
        [
         "43",
         "BREATHITTA102",
         null,
         "Hillary CLINTON",
         "49"
        ],
        [
         "44",
         "BREATHITTA103",
         null,
         "Hillary CLINTON",
         "90"
        ],
        [
         "45",
         "BREATHITTA104",
         null,
         "Hillary CLINTON",
         "71"
        ],
        [
         "46",
         "BREATHITTA105",
         null,
         "Hillary CLINTON",
         "57"
        ],
        [
         "47",
         "BREATHITTB101",
         null,
         "Hillary CLINTON",
         "38"
        ],
        [
         "48",
         "BREATHITTB102",
         null,
         "Hillary CLINTON",
         "27"
        ],
        [
         "49",
         "BREATHITTB103",
         null,
         "Hillary CLINTON",
         "71"
        ]
       ],
       "shape": {
        "columns": 4,
        "rows": 1895
       }
      },
      "text/html": [
       "<div>\n",
       "<style scoped>\n",
       "    .dataframe tbody tr th:only-of-type {\n",
       "        vertical-align: middle;\n",
       "    }\n",
       "\n",
       "    .dataframe tbody tr th {\n",
       "        vertical-align: top;\n",
       "    }\n",
       "\n",
       "    .dataframe thead th {\n",
       "        text-align: right;\n",
       "    }\n",
       "</style>\n",
       "<table border=\"1\" class=\"dataframe\">\n",
       "  <thead>\n",
       "    <tr style=\"text-align: right;\">\n",
       "      <th></th>\n",
       "      <th>precinct</th>\n",
       "      <th>party</th>\n",
       "      <th>candidate</th>\n",
       "      <th>votes</th>\n",
       "    </tr>\n",
       "  </thead>\n",
       "  <tbody>\n",
       "    <tr>\n",
       "      <th>0</th>\n",
       "      <td>BREATHITTA101</td>\n",
       "      <td>NaN</td>\n",
       "      <td>Martin J. O'MALLEY</td>\n",
       "      <td>0</td>\n",
       "    </tr>\n",
       "    <tr>\n",
       "      <th>1</th>\n",
       "      <td>BREATHITTA102</td>\n",
       "      <td>NaN</td>\n",
       "      <td>Martin J. O'MALLEY</td>\n",
       "      <td>4</td>\n",
       "    </tr>\n",
       "    <tr>\n",
       "      <th>2</th>\n",
       "      <td>BREATHITTA103</td>\n",
       "      <td>NaN</td>\n",
       "      <td>Martin J. O'MALLEY</td>\n",
       "      <td>6</td>\n",
       "    </tr>\n",
       "    <tr>\n",
       "      <th>3</th>\n",
       "      <td>BREATHITTA104</td>\n",
       "      <td>NaN</td>\n",
       "      <td>Martin J. O'MALLEY</td>\n",
       "      <td>5</td>\n",
       "    </tr>\n",
       "    <tr>\n",
       "      <th>4</th>\n",
       "      <td>BREATHITTA105</td>\n",
       "      <td>NaN</td>\n",
       "      <td>Martin J. O'MALLEY</td>\n",
       "      <td>5</td>\n",
       "    </tr>\n",
       "    <tr>\n",
       "      <th>...</th>\n",
       "      <td>...</td>\n",
       "      <td>...</td>\n",
       "      <td>...</td>\n",
       "      <td>...</td>\n",
       "    </tr>\n",
       "    <tr>\n",
       "      <th>1890</th>\n",
       "      <td>ROCKCASTLEE102</td>\n",
       "      <td>NaN</td>\n",
       "      <td>\"UNCOMMITTED\"</td>\n",
       "      <td>2</td>\n",
       "    </tr>\n",
       "    <tr>\n",
       "      <th>1891</th>\n",
       "      <td>ROCKCASTLEE103</td>\n",
       "      <td>NaN</td>\n",
       "      <td>\"UNCOMMITTED\"</td>\n",
       "      <td>0</td>\n",
       "    </tr>\n",
       "    <tr>\n",
       "      <th>1892</th>\n",
       "      <td>ROCKCASTLEE104</td>\n",
       "      <td>NaN</td>\n",
       "      <td>\"UNCOMMITTED\"</td>\n",
       "      <td>1</td>\n",
       "    </tr>\n",
       "    <tr>\n",
       "      <th>1893</th>\n",
       "      <td>ROCKCASTLEE105</td>\n",
       "      <td>NaN</td>\n",
       "      <td>\"UNCOMMITTED\"</td>\n",
       "      <td>0</td>\n",
       "    </tr>\n",
       "    <tr>\n",
       "      <th>1894</th>\n",
       "      <td>ROCKCASTLEABSE</td>\n",
       "      <td>NaN</td>\n",
       "      <td>\"UNCOMMITTED\"</td>\n",
       "      <td>0</td>\n",
       "    </tr>\n",
       "  </tbody>\n",
       "</table>\n",
       "<p>1895 rows × 4 columns</p>\n",
       "</div>"
      ],
      "text/plain": [
       "            precinct  party           candidate  votes\n",
       "0      BREATHITTA101    NaN  Martin J. O'MALLEY      0\n",
       "1      BREATHITTA102    NaN  Martin J. O'MALLEY      4\n",
       "2      BREATHITTA103    NaN  Martin J. O'MALLEY      6\n",
       "3      BREATHITTA104    NaN  Martin J. O'MALLEY      5\n",
       "4      BREATHITTA105    NaN  Martin J. O'MALLEY      5\n",
       "...              ...    ...                 ...    ...\n",
       "1890  ROCKCASTLEE102    NaN       \"UNCOMMITTED\"      2\n",
       "1891  ROCKCASTLEE103    NaN       \"UNCOMMITTED\"      0\n",
       "1892  ROCKCASTLEE104    NaN       \"UNCOMMITTED\"      1\n",
       "1893  ROCKCASTLEE105    NaN       \"UNCOMMITTED\"      0\n",
       "1894  ROCKCASTLEABSE    NaN       \"UNCOMMITTED\"      0\n",
       "\n",
       "[1895 rows x 4 columns]"
      ]
     },
     "execution_count": 40,
     "metadata": {},
     "output_type": "execute_result"
    }
   ],
   "source": [
    "# Select only the relevant columns\n",
    "primary_data = pri_combined_df[[\"precinct\", \"party\", \"candidate\", \"votes\"]]\n",
    "\n",
    "primary_data"
   ]
  },
  {
   "cell_type": "code",
   "execution_count": 41,
   "id": "dc2ffa15",
   "metadata": {},
   "outputs": [
    {
     "data": {
      "application/vnd.microsoft.datawrangler.viewer.v0+json": {
       "columns": [
        {
         "name": "candidate",
         "rawType": "object",
         "type": "string"
        },
        {
         "name": "count",
         "rawType": "int64",
         "type": "integer"
        }
       ],
       "ref": "37cd556e-f984-4616-82a3-e08fad8f1bae",
       "rows": [
        [
         "Martin J. O'MALLEY",
         "379"
        ],
        [
         "Bernard \"Bernie\" SANDERS",
         "379"
        ],
        [
         "Hillary CLINTON",
         "379"
        ],
        [
         "Roque Rocky De La FUENTE",
         "379"
        ],
        [
         "\"UNCOMMITTED\"",
         "379"
        ]
       ],
       "shape": {
        "columns": 1,
        "rows": 5
       }
      },
      "text/plain": [
       "candidate\n",
       "Martin J. O'MALLEY          379\n",
       "Bernard \"Bernie\" SANDERS    379\n",
       "Hillary CLINTON             379\n",
       "Roque Rocky De La FUENTE    379\n",
       "\"UNCOMMITTED\"               379\n",
       "Name: count, dtype: int64"
      ]
     },
     "execution_count": 41,
     "metadata": {},
     "output_type": "execute_result"
    }
   ],
   "source": [
    "# Viewing candidate data\n",
    "primary_data[\"candidate\"].value_counts(dropna=False)"
   ]
  },
  {
   "cell_type": "code",
   "execution_count": 42,
   "id": "5eef8778",
   "metadata": {},
   "outputs": [
    {
     "name": "stderr",
     "output_type": "stream",
     "text": [
      "C:\\Users\\ADMIN\\AppData\\Local\\Temp\\ipykernel_21788\\214168396.py:4: SettingWithCopyWarning: \n",
      "A value is trying to be set on a copy of a slice from a DataFrame.\n",
      "Try using .loc[row_indexer,col_indexer] = value instead\n",
      "\n",
      "See the caveats in the documentation: https://pandas.pydata.org/pandas-docs/stable/user_guide/indexing.html#returning-a-view-versus-a-copy\n",
      "  primary_data[\"candidate\"] = primary_data[\"candidate\"].astype(str).str.upper()\n",
      "C:\\Users\\ADMIN\\AppData\\Local\\Temp\\ipykernel_21788\\214168396.py:34: SettingWithCopyWarning: \n",
      "A value is trying to be set on a copy of a slice from a DataFrame.\n",
      "Try using .loc[row_indexer,col_indexer] = value instead\n",
      "\n",
      "See the caveats in the documentation: https://pandas.pydata.org/pandas-docs/stable/user_guide/indexing.html#returning-a-view-versus-a-copy\n",
      "  primary_data[\"candidate\"] = primary_data[\"candidate\"].astype(str).str.upper()\n",
      "C:\\Users\\ADMIN\\AppData\\Local\\Temp\\ipykernel_21788\\214168396.py:43: SettingWithCopyWarning: \n",
      "A value is trying to be set on a copy of a slice from a DataFrame.\n",
      "Try using .loc[row_indexer,col_indexer] = value instead\n",
      "\n",
      "See the caveats in the documentation: https://pandas.pydata.org/pandas-docs/stable/user_guide/indexing.html#returning-a-view-versus-a-copy\n",
      "  primary_data[\"candidate\"] = primary_data[\"candidate\"].str.split().str[-1]\n"
     ]
    },
    {
     "data": {
      "application/vnd.microsoft.datawrangler.viewer.v0+json": {
       "columns": [
        {
         "name": "candidate",
         "rawType": "object",
         "type": "string"
        },
        {
         "name": "count",
         "rawType": "int64",
         "type": "integer"
        }
       ],
       "ref": "ddc8578f-21da-44ff-85f6-ce19f140e8e1",
       "rows": [
        [
         "O'MAILEY",
         "379"
        ],
        [
         "SANDERS",
         "379"
        ],
        [
         "CLINTON",
         "379"
        ],
        [
         "FUENTE",
         "379"
        ]
       ],
       "shape": {
        "columns": 1,
        "rows": 4
       }
      },
      "text/plain": [
       "candidate\n",
       "O'MAILEY    379\n",
       "SANDERS     379\n",
       "CLINTON     379\n",
       "FUENTE      379\n",
       "Name: count, dtype: int64"
      ]
     },
     "execution_count": 42,
     "metadata": {},
     "output_type": "execute_result"
    }
   ],
   "source": [
    "# Cleaning Candidates\n",
    "\n",
    "# Turning all primary data to uppercase\n",
    "primary_data[\"candidate\"] = primary_data[\"candidate\"].astype(str).str.upper()\n",
    "\n",
    "unwanted_keywords = [\n",
    "    r\"\\w*VOTE\\w*\",\n",
    "    r\"\\w*UNCOM\\w*\",\n",
    "    r\"\\w*TOTAL\\w*\",\n",
    "    r\"Blank Votes\", r\"All Others\",r\"Total Votes Cast\",r\"No Preference\",\n",
    "    r\"UNCOMMITTED\",\"WRITE-IN\"\n",
    "]\n",
    "\n",
    "pattern = \"|\".join(unwanted_keywords)\n",
    "\n",
    "# # Assuming candidate column is already string and uppercase\n",
    "primary_data = primary_data[~primary_data[\"candidate\"].str.upper().str.contains(pattern, regex=True, na=False)]\n",
    "\n",
    "#fIXING DE LA FUENTE\n",
    "# primary_data.loc[\n",
    "#     (\n",
    "#         primary_data[\"candidate\"].str.contains(\"rocky.*fuente\", case=False, na=False) |\n",
    "#         primary_data[\"candidate\"].str.contains(\"LA FUENTE\", case=False, na=False) |\n",
    "#         primary_data[\"candidate\"].str.contains(\"\\w*Fuque\\w*\", case=False, na=False)\n",
    "#     ),\n",
    "#     \"candidate\"\n",
    "# ] = \"LA FUENTE\"\n",
    "\n",
    "\n",
    "# primary_data.loc[:, \"candidate\"] = primary_data[\"candidate\"].replace({\n",
    "#     \"Donald I. Trump\": \"Donald J. Trump\",\n",
    "# })\n",
    "\n",
    "primary_data[\"candidate\"] = primary_data[\"candidate\"].astype(str).str.upper()\n",
    "# # Fixing the , candidate\n",
    "# primary_data[\"candidate\"] = (\n",
    "#     primary_data[\"candidate\"].str.split(\",\")\n",
    "#     .str[0]\n",
    "#     .str.strip()\n",
    "#     )\n",
    "\n",
    "# #Selecting only last name\n",
    "primary_data[\"candidate\"] = primary_data[\"candidate\"].str.split().str[-1]\n",
    "\n",
    "# Fixing Christie\n",
    "primary_data.loc[\n",
    "    primary_data[\"candidate\"].str.contains(\"CHRISTLE\", case=False, na=False),\n",
    "    \"candidate\"\n",
    "] = \"CHRISTIE\"\n",
    "\n",
    "# Fixing KASICH\n",
    "primary_data.loc[\n",
    "    primary_data[\"candidate\"].str.contains(\"KAISCH\", case=False, na=False),\n",
    "    \"candidate\"\n",
    "] = \"CHRISTIE\"\n",
    "\n",
    "# Fixing O'MALLEY\n",
    "primary_data.loc[\n",
    "    primary_data[\"candidate\"].str.contains(\"O'MALLEY\", case=False, na=False),\n",
    "    \"candidate\"\n",
    "] = \"O'MAILEY\"\n",
    "\n",
    "# Fixing O'MALLEY\n",
    "primary_data.loc[\n",
    "    primary_data[\"candidate\"].str.contains(\"PATAKL\", case=False, na=False),\n",
    "    \"candidate\"\n",
    "] = \"PATAKI\"\n",
    "\n",
    "# Fixing O'MALLEY\n",
    "primary_data.loc[\n",
    "    primary_data[\"candidate\"].str.contains(\"RUBLO\", case=False, na=False),\n",
    "    \"candidate\"\n",
    "] = \"RUBIO\"\n",
    "\n",
    "# # Fixing Huckabee\n",
    "# primary_data.loc[\n",
    "#     primary_data[\"candidate\"].str.contains(\"\\w*ABEE\\w*\", case=False, na=False),\n",
    "#     \"candidate\"\n",
    "# ] = \"HUCKABEE\"\n",
    "\n",
    "# # Fixing Fiorina\n",
    "# primary_data.loc[\n",
    "#     primary_data[\"candidate\"].str.contains(\"\\w*ORINA\\W*\", case=False, na=False),\n",
    "#     \"candidate\"\n",
    "# ] = \"FIORINA\"\n",
    "\n",
    "# # Fixing Gray\n",
    "# primary_data.loc[\n",
    "#     primary_data[\"candidate\"].str.contains(\"GREY\", case=False, na=False),\n",
    "#     \"candidate\"\n",
    "# ] = \"GRAY\"\n",
    "\n",
    "# # Fixing Wilson\n",
    "# primary_data.loc[\n",
    "#     primary_data[\"candidate\"].str.contains(\"WISON\", case=False, na=False),\n",
    "#     \"candidate\"\n",
    "# ] = \"WILSON\"\n",
    "\n",
    "\n",
    "# # Fixing separator \n",
    "# primary_data[\"candidate\"] = (\n",
    "#     primary_data[\"candidate\"]\n",
    "#     .str.split(r\"\\s*(?:and|/|&|–|-|\\+)\\s*\", n=1, expand=True)[0]\n",
    "#     .str.strip()\n",
    "#     .str.upper()\n",
    "# )\n",
    "\n",
    "# # Fixing McMullin\n",
    "\n",
    "# primary_data.loc[\n",
    "#     (\n",
    "#         primary_data[\"candidate\"].str.contains(\"MCMULLIN\", case=False, na=False) |\n",
    "#         primary_data[\"candidate\"].str.contains(\"EVAN MCMULLEN\", case=False, na=False)\n",
    "#     ),\n",
    "#     \"candidate\"\n",
    "# ] = \"MCMULLIN\"\n",
    "\n",
    "# primary_data.loc[\n",
    "#     primary_data[\"candidate\"].str.contains(\"De La Fuen\", case=False, na=False),\n",
    "#     \"candidate\"\n",
    "# ] = \"FUENTE D\"\n",
    "\n",
    "## SPLITTINNG BY ,\n",
    "# primary_data.loc[:,\"candidate\"] = (\n",
    "#     primary_data[\"candidate\"].str.split().str[0].str.upper()\n",
    "# )\n",
    "\n",
    "primary_data[\"candidate\"].value_counts(dropna=False)"
   ]
  },
  {
   "cell_type": "code",
   "execution_count": 43,
   "id": "dcc76af7",
   "metadata": {},
   "outputs": [
    {
     "data": {
      "application/vnd.microsoft.datawrangler.viewer.v0+json": {
       "columns": [
        {
         "name": "party",
         "rawType": "float64",
         "type": "float"
        },
        {
         "name": "count",
         "rawType": "int64",
         "type": "integer"
        }
       ],
       "ref": "d249e08d-a073-4e10-9508-5cbe1df0a810",
       "rows": [
        [
         null,
         "1516"
        ]
       ],
       "shape": {
        "columns": 1,
        "rows": 1
       }
      },
      "text/plain": [
       "party\n",
       "NaN    1516\n",
       "Name: count, dtype: int64"
      ]
     },
     "execution_count": 43,
     "metadata": {},
     "output_type": "execute_result"
    }
   ],
   "source": [
    "# Viewing Party\n",
    "primary_data[\"party\"].value_counts(dropna=False)"
   ]
  },
  {
   "cell_type": "code",
   "execution_count": 44,
   "id": "582aa6c5",
   "metadata": {},
   "outputs": [
    {
     "data": {
      "application/vnd.microsoft.datawrangler.viewer.v0+json": {
       "columns": [
        {
         "name": "party",
         "rawType": "float64",
         "type": "float"
        },
        {
         "name": "count",
         "rawType": "int64",
         "type": "integer"
        }
       ],
       "ref": "f19a69f2-0427-4283-beb9-30a57d7648b5",
       "rows": [
        [
         null,
         "1516"
        ]
       ],
       "shape": {
        "columns": 1,
        "rows": 1
       }
      },
      "text/plain": [
       "party\n",
       "NaN    1516\n",
       "Name: count, dtype: int64"
      ]
     },
     "execution_count": 44,
     "metadata": {},
     "output_type": "execute_result"
    }
   ],
   "source": [
    "\n",
    "\n",
    "primary_data[\"party\"].value_counts(dropna=False)\n"
   ]
  },
  {
   "cell_type": "code",
   "execution_count": 45,
   "id": "34361751",
   "metadata": {},
   "outputs": [
    {
     "name": "stderr",
     "output_type": "stream",
     "text": [
      "C:\\Users\\ADMIN\\AppData\\Local\\Temp\\ipykernel_21788\\3664840311.py:3: SettingWithCopyWarning: \n",
      "A value is trying to be set on a copy of a slice from a DataFrame.\n",
      "Try using .loc[row_indexer,col_indexer] = value instead\n",
      "\n",
      "See the caveats in the documentation: https://pandas.pydata.org/pandas-docs/stable/user_guide/indexing.html#returning-a-view-versus-a-copy\n",
      "  primary_data[\"party\"] = primary_data[\"party\"].astype(str).str.upper()\n",
      "C:\\Users\\ADMIN\\AppData\\Local\\Temp\\ipykernel_21788\\3664840311.py:5: SettingWithCopyWarning: \n",
      "A value is trying to be set on a copy of a slice from a DataFrame.\n",
      "Try using .loc[row_indexer,col_indexer] = value instead\n",
      "\n",
      "See the caveats in the documentation: https://pandas.pydata.org/pandas-docs/stable/user_guide/indexing.html#returning-a-view-versus-a-copy\n",
      "  primary_data[\"party\"] = primary_data.apply(\n",
      "C:\\Users\\ADMIN\\AppData\\Local\\Temp\\ipykernel_21788\\3664840311.py:9: SettingWithCopyWarning: \n",
      "A value is trying to be set on a copy of a slice from a DataFrame.\n",
      "Try using .loc[row_indexer,col_indexer] = value instead\n",
      "\n",
      "See the caveats in the documentation: https://pandas.pydata.org/pandas-docs/stable/user_guide/indexing.html#returning-a-view-versus-a-copy\n",
      "  primary_data[\"party\"] = (\n"
     ]
    },
    {
     "data": {
      "application/vnd.microsoft.datawrangler.viewer.v0+json": {
       "columns": [
        {
         "name": "party",
         "rawType": "object",
         "type": "string"
        },
        {
         "name": "count",
         "rawType": "int64",
         "type": "integer"
        }
       ],
       "ref": "b55eb587-89a4-4022-b6b0-4bc8ab5869d4",
       "rows": [
        [
         "DEM",
         "1516"
        ]
       ],
       "shape": {
        "columns": 1,
        "rows": 1
       }
      },
      "text/plain": [
       "party\n",
       "DEM    1516\n",
       "Name: count, dtype: int64"
      ]
     },
     "execution_count": 45,
     "metadata": {},
     "output_type": "execute_result"
    }
   ],
   "source": [
    "# Cleaning Party\n",
    "# Turning all general data party to uppercase\n",
    "primary_data[\"party\"] = primary_data[\"party\"].astype(str).str.upper()\n",
    "\n",
    "primary_data[\"party\"] = primary_data.apply(\n",
    "    lambda row: fill_party_from_data(row, primary_data),\n",
    "    axis=1\n",
    ")\n",
    "primary_data[\"party\"] = (\n",
    "    primary_data[\"party\"]\n",
    "    .replace({\n",
    "        \"PRESIDENT REPUBLICAN PARTY\": \"REP\",\n",
    "        \"PRESIDENT DEMOCRATIC PARTY\": \"DEM\",\n",
    "        \"DEMOCRATIC PARTY\": \"DEM\",\n",
    "        \"REPUBLICAN PARTY\": \"REP\",\n",
    "        \"REPUBLICAN\": \"REP\",\n",
    "        \"R\": \"REP\",\n",
    "        \"DEMOCRATIC\": \"DEM\",\n",
    "        \"DEMOCRAT\":\"DEM\",\n",
    "        \"DEM\": \"DEM\",\n",
    "        \"D\": \"DEM\",\n",
    "        \"GREEN\": \"GRN\",\n",
    "        \"G\": \"GREEN\",\n",
    "        \"GREEN-RAINBOW\":\"GRN\",\n",
    "        \"LIBERTARIAN\": \"LIB\",\n",
    "        \"LBT\": \"LIB\",\n",
    "        \"L\": \"LIB\",\n",
    "        \"CONSTITUTION\": \"CON\",\n",
    "        \"NP\": \"IND\",\n",
    "        \"NON\": \"IND\",\n",
    "        \"WRI\": \"IND\",\n",
    "        \"WRITE-IN\": \"IND\",\n",
    "        \"ONA\": \"IND\",\n",
    "        \"GEN\": \"IND\",\n",
    "        \"NONE\":\"DEM\",\n",
    "        \"NAN\":\"DEM\"\n",
    "    })\n",
    ")\n",
    "primary_data[\"party\"].value_counts(dropna=False)"
   ]
  },
  {
   "cell_type": "code",
   "execution_count": 46,
   "id": "a359cd18",
   "metadata": {},
   "outputs": [
    {
     "name": "stderr",
     "output_type": "stream",
     "text": [
      "C:\\Users\\ADMIN\\AppData\\Local\\Temp\\ipykernel_21788\\2521670330.py:1: SettingWithCopyWarning: \n",
      "A value is trying to be set on a copy of a slice from a DataFrame.\n",
      "Try using .loc[row_indexer,col_indexer] = value instead\n",
      "\n",
      "See the caveats in the documentation: https://pandas.pydata.org/pandas-docs/stable/user_guide/indexing.html#returning-a-view-versus-a-copy\n",
      "  primary_data.loc[:,\"candidate_column\"] = (\n"
     ]
    },
    {
     "data": {
      "application/vnd.microsoft.datawrangler.viewer.v0+json": {
       "columns": [
        {
         "name": "index",
         "rawType": "int64",
         "type": "integer"
        },
        {
         "name": "precinct",
         "rawType": "object",
         "type": "string"
        },
        {
         "name": "pri_dem_CLINTON",
         "rawType": "int64",
         "type": "integer"
        },
        {
         "name": "pri_dem_FUENTE",
         "rawType": "int64",
         "type": "integer"
        },
        {
         "name": "pri_dem_O'MAILEY",
         "rawType": "int64",
         "type": "integer"
        },
        {
         "name": "pri_dem_SANDERS",
         "rawType": "int64",
         "type": "integer"
        }
       ],
       "ref": "26d38072-59e2-42a5-8d9b-e64ab9fa5f25",
       "rows": [
        [
         "0",
         "BREATHITTA101",
         "29",
         "1",
         "0",
         "31"
        ],
        [
         "1",
         "BREATHITTA102",
         "49",
         "3",
         "4",
         "98"
        ],
        [
         "2",
         "BREATHITTA103",
         "90",
         "4",
         "6",
         "159"
        ],
        [
         "3",
         "BREATHITTA104",
         "71",
         "1",
         "5",
         "109"
        ],
        [
         "4",
         "BREATHITTA105",
         "57",
         "3",
         "5",
         "63"
        ],
        [
         "5",
         "BREATHITTB101",
         "38",
         "4",
         "6",
         "50"
        ],
        [
         "6",
         "BREATHITTB102",
         "27",
         "0",
         "4",
         "96"
        ],
        [
         "7",
         "BREATHITTB103",
         "71",
         "2",
         "1",
         "95"
        ],
        [
         "8",
         "BREATHITTB104",
         "93",
         "1",
         "1",
         "78"
        ],
        [
         "9",
         "BREATHITTB105",
         "48",
         "1",
         "2",
         "52"
        ],
        [
         "10",
         "BREATHITTC101",
         "86",
         "0",
         "3",
         "109"
        ],
        [
         "11",
         "BREATHITTC102",
         "35",
         "0",
         "1",
         "71"
        ],
        [
         "12",
         "BREATHITTC103",
         "66",
         "4",
         "0",
         "102"
        ],
        [
         "13",
         "BREATHITTC104",
         "27",
         "1",
         "3",
         "84"
        ],
        [
         "14",
         "BREATHITTC105",
         "43",
         "1",
         "2",
         "68"
        ],
        [
         "15",
         "BREATHITTD101",
         "37",
         "0",
         "0",
         "41"
        ],
        [
         "16",
         "BREATHITTD102",
         "58",
         "2",
         "1",
         "80"
        ],
        [
         "17",
         "BREATHITTD103",
         "54",
         "0",
         "7",
         "128"
        ],
        [
         "18",
         "BREATHITTD104",
         "37",
         "3",
         "0",
         "66"
        ],
        [
         "19",
         "BREATHITTD105",
         "10",
         "0",
         "1",
         "24"
        ],
        [
         "20",
         "BREATHITTD106",
         "48",
         "1",
         "1",
         "65"
        ],
        [
         "21",
         "CLAYA101",
         "31",
         "0",
         "1",
         "17"
        ],
        [
         "22",
         "CLAYA106",
         "9",
         "0",
         "0",
         "10"
        ],
        [
         "23",
         "CLAYA107",
         "12",
         "0",
         "0",
         "8"
        ],
        [
         "24",
         "CLAYB101",
         "4",
         "1",
         "1",
         "15"
        ],
        [
         "25",
         "CLAYB103",
         "17",
         "0",
         "0",
         "7"
        ],
        [
         "26",
         "CLAYB104",
         "10",
         "1",
         "0",
         "13"
        ],
        [
         "27",
         "CLAYC101",
         "4",
         "0",
         "0",
         "5"
        ],
        [
         "28",
         "CLAYC102",
         "1",
         "0",
         "0",
         "5"
        ],
        [
         "29",
         "CLAYC103",
         "5",
         "0",
         "0",
         "3"
        ],
        [
         "30",
         "CLAYC104",
         "8",
         "1",
         "0",
         "4"
        ],
        [
         "31",
         "CLAYD102",
         "11",
         "0",
         "0",
         "3"
        ],
        [
         "32",
         "CLAYD103",
         "8",
         "0",
         "0",
         "9"
        ],
        [
         "33",
         "CLAYD104",
         "6",
         "0",
         "1",
         "6"
        ],
        [
         "34",
         "CLAYE101",
         "1",
         "0",
         "0",
         "7"
        ],
        [
         "35",
         "CLAYE102",
         "9",
         "0",
         "1",
         "4"
        ],
        [
         "36",
         "CLAYE103",
         "14",
         "0",
         "0",
         "10"
        ],
        [
         "37",
         "CLAYE104",
         "3",
         "0",
         "0",
         "3"
        ],
        [
         "38",
         "CLAYF101",
         "6",
         "0",
         "0",
         "7"
        ],
        [
         "39",
         "CLAYF102",
         "7",
         "0",
         "0",
         "9"
        ],
        [
         "40",
         "CLAYF104",
         "7",
         "1",
         "0",
         "10"
        ],
        [
         "41",
         "CLINTONA101",
         "14",
         "0",
         "0",
         "4"
        ],
        [
         "42",
         "CLINTONA104",
         "9",
         "0",
         "1",
         "8"
        ],
        [
         "43",
         "CLINTONB101",
         "8",
         "0",
         "0",
         "12"
        ],
        [
         "44",
         "CLINTONB102",
         "3",
         "0",
         "0",
         "5"
        ],
        [
         "45",
         "CLINTONC101",
         "18",
         "0",
         "1",
         "10"
        ],
        [
         "46",
         "CLINTONC102",
         "8",
         "0",
         "0",
         "12"
        ],
        [
         "47",
         "CLINTONC103",
         "16",
         "1",
         "1",
         "10"
        ],
        [
         "48",
         "CLINTOND101",
         "7",
         "0",
         "0",
         "5"
        ],
        [
         "49",
         "CLINTOND102",
         "5",
         "1",
         "0",
         "3"
        ]
       ],
       "shape": {
        "columns": 5,
        "rows": 379
       }
      },
      "text/html": [
       "<div>\n",
       "<style scoped>\n",
       "    .dataframe tbody tr th:only-of-type {\n",
       "        vertical-align: middle;\n",
       "    }\n",
       "\n",
       "    .dataframe tbody tr th {\n",
       "        vertical-align: top;\n",
       "    }\n",
       "\n",
       "    .dataframe thead th {\n",
       "        text-align: right;\n",
       "    }\n",
       "</style>\n",
       "<table border=\"1\" class=\"dataframe\">\n",
       "  <thead>\n",
       "    <tr style=\"text-align: right;\">\n",
       "      <th>candidate_column</th>\n",
       "      <th>precinct</th>\n",
       "      <th>pri_dem_CLINTON</th>\n",
       "      <th>pri_dem_FUENTE</th>\n",
       "      <th>pri_dem_O'MAILEY</th>\n",
       "      <th>pri_dem_SANDERS</th>\n",
       "    </tr>\n",
       "  </thead>\n",
       "  <tbody>\n",
       "    <tr>\n",
       "      <th>0</th>\n",
       "      <td>BREATHITTA101</td>\n",
       "      <td>29</td>\n",
       "      <td>1</td>\n",
       "      <td>0</td>\n",
       "      <td>31</td>\n",
       "    </tr>\n",
       "    <tr>\n",
       "      <th>1</th>\n",
       "      <td>BREATHITTA102</td>\n",
       "      <td>49</td>\n",
       "      <td>3</td>\n",
       "      <td>4</td>\n",
       "      <td>98</td>\n",
       "    </tr>\n",
       "    <tr>\n",
       "      <th>2</th>\n",
       "      <td>BREATHITTA103</td>\n",
       "      <td>90</td>\n",
       "      <td>4</td>\n",
       "      <td>6</td>\n",
       "      <td>159</td>\n",
       "    </tr>\n",
       "    <tr>\n",
       "      <th>3</th>\n",
       "      <td>BREATHITTA104</td>\n",
       "      <td>71</td>\n",
       "      <td>1</td>\n",
       "      <td>5</td>\n",
       "      <td>109</td>\n",
       "    </tr>\n",
       "    <tr>\n",
       "      <th>4</th>\n",
       "      <td>BREATHITTA105</td>\n",
       "      <td>57</td>\n",
       "      <td>3</td>\n",
       "      <td>5</td>\n",
       "      <td>63</td>\n",
       "    </tr>\n",
       "    <tr>\n",
       "      <th>...</th>\n",
       "      <td>...</td>\n",
       "      <td>...</td>\n",
       "      <td>...</td>\n",
       "      <td>...</td>\n",
       "      <td>...</td>\n",
       "    </tr>\n",
       "    <tr>\n",
       "      <th>374</th>\n",
       "      <td>ROCKCASTLEE101</td>\n",
       "      <td>22</td>\n",
       "      <td>0</td>\n",
       "      <td>0</td>\n",
       "      <td>15</td>\n",
       "    </tr>\n",
       "    <tr>\n",
       "      <th>375</th>\n",
       "      <td>ROCKCASTLEE102</td>\n",
       "      <td>10</td>\n",
       "      <td>0</td>\n",
       "      <td>0</td>\n",
       "      <td>5</td>\n",
       "    </tr>\n",
       "    <tr>\n",
       "      <th>376</th>\n",
       "      <td>ROCKCASTLEE103</td>\n",
       "      <td>14</td>\n",
       "      <td>0</td>\n",
       "      <td>0</td>\n",
       "      <td>4</td>\n",
       "    </tr>\n",
       "    <tr>\n",
       "      <th>377</th>\n",
       "      <td>ROCKCASTLEE104</td>\n",
       "      <td>3</td>\n",
       "      <td>0</td>\n",
       "      <td>0</td>\n",
       "      <td>8</td>\n",
       "    </tr>\n",
       "    <tr>\n",
       "      <th>378</th>\n",
       "      <td>ROCKCASTLEE105</td>\n",
       "      <td>7</td>\n",
       "      <td>0</td>\n",
       "      <td>0</td>\n",
       "      <td>12</td>\n",
       "    </tr>\n",
       "  </tbody>\n",
       "</table>\n",
       "<p>379 rows × 5 columns</p>\n",
       "</div>"
      ],
      "text/plain": [
       "candidate_column        precinct  pri_dem_CLINTON  pri_dem_FUENTE  \\\n",
       "0                  BREATHITTA101               29               1   \n",
       "1                  BREATHITTA102               49               3   \n",
       "2                  BREATHITTA103               90               4   \n",
       "3                  BREATHITTA104               71               1   \n",
       "4                  BREATHITTA105               57               3   \n",
       "..                           ...              ...             ...   \n",
       "374               ROCKCASTLEE101               22               0   \n",
       "375               ROCKCASTLEE102               10               0   \n",
       "376               ROCKCASTLEE103               14               0   \n",
       "377               ROCKCASTLEE104                3               0   \n",
       "378               ROCKCASTLEE105                7               0   \n",
       "\n",
       "candidate_column  pri_dem_O'MAILEY  pri_dem_SANDERS  \n",
       "0                                0               31  \n",
       "1                                4               98  \n",
       "2                                6              159  \n",
       "3                                5              109  \n",
       "4                                5               63  \n",
       "..                             ...              ...  \n",
       "374                              0               15  \n",
       "375                              0                5  \n",
       "376                              0                4  \n",
       "377                              0                8  \n",
       "378                              0               12  \n",
       "\n",
       "[379 rows x 5 columns]"
      ]
     },
     "execution_count": 46,
     "metadata": {},
     "output_type": "execute_result"
    }
   ],
   "source": [
    "primary_data.loc[:,\"candidate_column\"] = (\n",
    "    \"pri_\" +\n",
    "    primary_data[\"party\"].str.lower() + \"_\" +\n",
    "    primary_data[\"candidate\"]\n",
    ")\n",
    "\n",
    "# pivot the table\n",
    "primary_result = primary_data.pivot_table(\n",
    "    index=\"precinct\",\n",
    "    columns=\"candidate_column\",\n",
    "    values=\"votes\",\n",
    "    aggfunc=\"sum\",  \n",
    "    fill_value=0\n",
    ").reset_index()\n",
    "\n",
    "primary_result"
   ]
  },
  {
   "cell_type": "code",
   "execution_count": 47,
   "id": "f1ef9692",
   "metadata": {},
   "outputs": [
    {
     "data": {
      "text/plain": [
       "['C:\\\\Huy Phan\\\\College\\\\VoterTurnout\\\\data\\\\KY\\\\20161108__ky__general__precinct.csv']"
      ]
     },
     "execution_count": 47,
     "metadata": {},
     "output_type": "execute_result"
    }
   ],
   "source": [
    "# Process general files\n",
    "general_df_list = []\n",
    "\n",
    "for file in general_files:\n",
    "    try:\n",
    "        df = pd.read_csv(file)\n",
    "        \n",
    "        # Combine precinct as county + precinct\n",
    "        df[\"precinct\"] = df[\"county\"].astype(str) + df[\"precinct\"].astype(str)\n",
    "        df[\"precinct\"] = df[\"precinct\"].str.upper()\n",
    "\n",
    "        # Cleaning maybe total precinct\n",
    "        if 'precinct' in df.columns:\n",
    "            df['precinct'] = df['precinct'].astype(str)                  \n",
    "            df = df[df['precinct'].str.upper() != \"TOTAL\"]               \n",
    "            df = df[df['precinct'].str.strip().str.upper() != \"TOTAL\"]   \n",
    "            df = df[df['precinct'].str.upper() != \"NAN\"]                \n",
    "        \n",
    "        if 'county' in df.columns:\n",
    "            df['county'] = df['county'].astype(str)                  \n",
    "            df = df[df['county'].str.upper() != \"TOTAL\"]               \n",
    "            df = df[df['county'].str.strip().str.upper() != \"TOTAL\"]   \n",
    "            df = df[df['county'].str.upper() != \"NAN\"]       \n",
    "            df = df[~df['county'].str.upper().str.contains(r\"\\w*TOTAL\\w*\", na=False)]      \n",
    "            \n",
    "        # Filtering out only President \n",
    "        if 'office' in df.columns:\n",
    "            df = df[df[\"office\"].str.upper() == \"PRESIDENT\"]\n",
    "        \n",
    "        # Dropping duplicates value\n",
    "        df = df.drop_duplicates()\n",
    "        \n",
    "        general_df_list.append(df)\n",
    "\n",
    "    except Exception as e:\n",
    "        print(f\"Error in {file}: {e}\")\n",
    "\n",
    "# Combine all cleaned files\n",
    "gen_combined_df = pd.concat(general_df_list, ignore_index=True)\n",
    "\n",
    "# Checking any suspicious precinct\n",
    "suspicious_precincts = gen_combined_df[\n",
    "    gen_combined_df[\"precinct\"].str.strip().str.upper().isin([\"TOTAL\", \"NAN\"])\n",
    "]\n",
    "general_files\n"
   ]
  },
  {
   "cell_type": "code",
   "execution_count": 48,
   "id": "1bbbd54d",
   "metadata": {},
   "outputs": [
    {
     "data": {
      "application/vnd.microsoft.datawrangler.viewer.v0+json": {
       "columns": [
        {
         "name": "index",
         "rawType": "int64",
         "type": "integer"
        },
        {
         "name": "precinct",
         "rawType": "object",
         "type": "string"
        },
        {
         "name": "party",
         "rawType": "object",
         "type": "unknown"
        },
        {
         "name": "candidate",
         "rawType": "object",
         "type": "string"
        },
        {
         "name": "votes",
         "rawType": "int64",
         "type": "integer"
        }
       ],
       "ref": "7f492a7d-7107-4d64-9588-066191ed9154",
       "rows": [
        [
         "0",
         "ADAIRA102",
         "REP",
         "Donald J. TRUMP / Michael R. PENCE",
         "215"
        ],
        [
         "1",
         "ADAIRA104",
         "REP",
         "Donald J. TRUMP / Michael R. PENCE",
         "359"
        ],
        [
         "2",
         "ADAIRA105",
         "REP",
         "Donald J. TRUMP / Michael R. PENCE",
         "288"
        ],
        [
         "3",
         "ADAIRAB",
         "REP",
         "Donald J. TRUMP / Michael R. PENCE",
         "436"
        ],
        [
         "4",
         "ADAIRB102",
         "REP",
         "Donald J. TRUMP / Michael R. PENCE",
         "422"
        ],
        [
         "5",
         "ADAIRB104",
         "REP",
         "Donald J. TRUMP / Michael R. PENCE",
         "387"
        ],
        [
         "6",
         "ADAIRC102",
         "REP",
         "Donald J. TRUMP / Michael R. PENCE",
         "341"
        ],
        [
         "7",
         "ADAIRC104",
         "REP",
         "Donald J. TRUMP / Michael R. PENCE",
         "456"
        ],
        [
         "8",
         "ADAIRD101",
         "REP",
         "Donald J. TRUMP / Michael R. PENCE",
         "328"
        ],
        [
         "9",
         "ADAIRD103",
         "REP",
         "Donald J. TRUMP / Michael R. PENCE",
         "306"
        ],
        [
         "10",
         "ADAIRD104",
         "REP",
         "Donald J. TRUMP / Michael R. PENCE",
         "275"
        ],
        [
         "11",
         "ADAIRE101",
         "REP",
         "Donald J. TRUMP / Michael R. PENCE",
         "420"
        ],
        [
         "12",
         "ADAIRE104",
         "REP",
         "Donald J. TRUMP / Michael R. PENCE",
         "473"
        ],
        [
         "13",
         "ADAIRF101",
         "REP",
         "Donald J. TRUMP / Michael R. PENCE",
         "585"
        ],
        [
         "14",
         "ADAIRF103",
         "REP",
         "Donald J. TRUMP / Michael R. PENCE",
         "349"
        ],
        [
         "15",
         "ADAIRG101",
         "REP",
         "Donald J. TRUMP / Michael R. PENCE",
         "443"
        ],
        [
         "16",
         "ADAIRG102",
         "REP",
         "Donald J. TRUMP / Michael R. PENCE",
         "554"
        ],
        [
         "17",
         "ADAIRA102",
         "IND",
         "Evan McMULLIN / Nathan JOHNSON",
         "2"
        ],
        [
         "18",
         "ADAIRA104",
         "IND",
         "Evan McMULLIN / Nathan JOHNSON",
         "3"
        ],
        [
         "19",
         "ADAIRA105",
         "IND",
         "Evan McMULLIN / Nathan JOHNSON",
         "2"
        ],
        [
         "20",
         "ADAIRAB",
         "IND",
         "Evan McMULLIN / Nathan JOHNSON",
         "8"
        ],
        [
         "21",
         "ADAIRB102",
         "IND",
         "Evan McMULLIN / Nathan JOHNSON",
         "9"
        ],
        [
         "22",
         "ADAIRB104",
         "IND",
         "Evan McMULLIN / Nathan JOHNSON",
         "1"
        ],
        [
         "23",
         "ADAIRC102",
         "IND",
         "Evan McMULLIN / Nathan JOHNSON",
         "13"
        ],
        [
         "24",
         "ADAIRC104",
         "IND",
         "Evan McMULLIN / Nathan JOHNSON",
         "11"
        ],
        [
         "25",
         "ADAIRD101",
         "IND",
         "Evan McMULLIN / Nathan JOHNSON",
         "1"
        ],
        [
         "26",
         "ADAIRD103",
         "IND",
         "Evan McMULLIN / Nathan JOHNSON",
         "2"
        ],
        [
         "27",
         "ADAIRD104",
         "IND",
         "Evan McMULLIN / Nathan JOHNSON",
         "1"
        ],
        [
         "28",
         "ADAIRE101",
         "IND",
         "Evan McMULLIN / Nathan JOHNSON",
         "3"
        ],
        [
         "29",
         "ADAIRE104",
         "IND",
         "Evan McMULLIN / Nathan JOHNSON",
         "10"
        ],
        [
         "30",
         "ADAIRF101",
         "IND",
         "Evan McMULLIN / Nathan JOHNSON",
         "5"
        ],
        [
         "31",
         "ADAIRF103",
         "IND",
         "Evan McMULLIN / Nathan JOHNSON",
         "2"
        ],
        [
         "32",
         "ADAIRG101",
         "IND",
         "Evan McMULLIN / Nathan JOHNSON",
         "10"
        ],
        [
         "33",
         "ADAIRG102",
         "IND",
         "Evan McMULLIN / Nathan JOHNSON",
         "9"
        ],
        [
         "34",
         "ADAIRA102",
         "LIB",
         "Gary JOHNSON / Bill WELD",
         "1"
        ],
        [
         "35",
         "ADAIRA104",
         "LIB",
         "Gary JOHNSON / Bill WELD",
         "6"
        ],
        [
         "36",
         "ADAIRA105",
         "LIB",
         "Gary JOHNSON / Bill WELD",
         "2"
        ],
        [
         "37",
         "ADAIRAB",
         "LIB",
         "Gary JOHNSON / Bill WELD",
         "9"
        ],
        [
         "38",
         "ADAIRB102",
         "LIB",
         "Gary JOHNSON / Bill WELD",
         "14"
        ],
        [
         "39",
         "ADAIRB104",
         "LIB",
         "Gary JOHNSON / Bill WELD",
         "8"
        ],
        [
         "40",
         "ADAIRC102",
         "LIB",
         "Gary JOHNSON / Bill WELD",
         "13"
        ],
        [
         "41",
         "ADAIRC104",
         "LIB",
         "Gary JOHNSON / Bill WELD",
         "8"
        ],
        [
         "42",
         "ADAIRD101",
         "LIB",
         "Gary JOHNSON / Bill WELD",
         "1"
        ],
        [
         "43",
         "ADAIRD103",
         "LIB",
         "Gary JOHNSON / Bill WELD",
         "3"
        ],
        [
         "44",
         "ADAIRD104",
         "LIB",
         "Gary JOHNSON / Bill WELD",
         "5"
        ],
        [
         "45",
         "ADAIRE101",
         "LIB",
         "Gary JOHNSON / Bill WELD",
         "6"
        ],
        [
         "46",
         "ADAIRE104",
         "LIB",
         "Gary JOHNSON / Bill WELD",
         "12"
        ],
        [
         "47",
         "ADAIRF101",
         "LIB",
         "Gary JOHNSON / Bill WELD",
         "11"
        ],
        [
         "48",
         "ADAIRF103",
         "LIB",
         "Gary JOHNSON / Bill WELD",
         "11"
        ],
        [
         "49",
         "ADAIRG101",
         "LIB",
         "Gary JOHNSON / Bill WELD",
         "13"
        ]
       ],
       "shape": {
        "columns": 4,
        "rows": 27729
       }
      },
      "text/html": [
       "<div>\n",
       "<style scoped>\n",
       "    .dataframe tbody tr th:only-of-type {\n",
       "        vertical-align: middle;\n",
       "    }\n",
       "\n",
       "    .dataframe tbody tr th {\n",
       "        vertical-align: top;\n",
       "    }\n",
       "\n",
       "    .dataframe thead th {\n",
       "        text-align: right;\n",
       "    }\n",
       "</style>\n",
       "<table border=\"1\" class=\"dataframe\">\n",
       "  <thead>\n",
       "    <tr style=\"text-align: right;\">\n",
       "      <th></th>\n",
       "      <th>precinct</th>\n",
       "      <th>party</th>\n",
       "      <th>candidate</th>\n",
       "      <th>votes</th>\n",
       "    </tr>\n",
       "  </thead>\n",
       "  <tbody>\n",
       "    <tr>\n",
       "      <th>0</th>\n",
       "      <td>ADAIRA102</td>\n",
       "      <td>REP</td>\n",
       "      <td>Donald J. TRUMP / Michael R. PENCE</td>\n",
       "      <td>215</td>\n",
       "    </tr>\n",
       "    <tr>\n",
       "      <th>1</th>\n",
       "      <td>ADAIRA104</td>\n",
       "      <td>REP</td>\n",
       "      <td>Donald J. TRUMP / Michael R. PENCE</td>\n",
       "      <td>359</td>\n",
       "    </tr>\n",
       "    <tr>\n",
       "      <th>2</th>\n",
       "      <td>ADAIRA105</td>\n",
       "      <td>REP</td>\n",
       "      <td>Donald J. TRUMP / Michael R. PENCE</td>\n",
       "      <td>288</td>\n",
       "    </tr>\n",
       "    <tr>\n",
       "      <th>3</th>\n",
       "      <td>ADAIRAB</td>\n",
       "      <td>REP</td>\n",
       "      <td>Donald J. TRUMP / Michael R. PENCE</td>\n",
       "      <td>436</td>\n",
       "    </tr>\n",
       "    <tr>\n",
       "      <th>4</th>\n",
       "      <td>ADAIRB102</td>\n",
       "      <td>REP</td>\n",
       "      <td>Donald J. TRUMP / Michael R. PENCE</td>\n",
       "      <td>422</td>\n",
       "    </tr>\n",
       "    <tr>\n",
       "      <th>...</th>\n",
       "      <td>...</td>\n",
       "      <td>...</td>\n",
       "      <td>...</td>\n",
       "      <td>...</td>\n",
       "    </tr>\n",
       "    <tr>\n",
       "      <th>27724</th>\n",
       "      <td>HARTPRICEVILLE</td>\n",
       "      <td>DEM</td>\n",
       "      <td>Hillary Clinton</td>\n",
       "      <td>63</td>\n",
       "    </tr>\n",
       "    <tr>\n",
       "      <th>27725</th>\n",
       "      <td>HARTPRICEVILLE</td>\n",
       "      <td>LIB</td>\n",
       "      <td>Gary Johnson</td>\n",
       "      <td>6</td>\n",
       "    </tr>\n",
       "    <tr>\n",
       "      <th>27726</th>\n",
       "      <td>HARTPRICEVILLE</td>\n",
       "      <td>DEM</td>\n",
       "      <td>Rocky Roque DE LA FUENTE</td>\n",
       "      <td>0</td>\n",
       "    </tr>\n",
       "    <tr>\n",
       "      <th>27727</th>\n",
       "      <td>HARTPRICEVILLE</td>\n",
       "      <td>GRN</td>\n",
       "      <td>Jill Stein</td>\n",
       "      <td>3</td>\n",
       "    </tr>\n",
       "    <tr>\n",
       "      <th>27728</th>\n",
       "      <td>HARTPRICEVILLE</td>\n",
       "      <td>IND</td>\n",
       "      <td>Evan McMullin</td>\n",
       "      <td>4</td>\n",
       "    </tr>\n",
       "  </tbody>\n",
       "</table>\n",
       "<p>27729 rows × 4 columns</p>\n",
       "</div>"
      ],
      "text/plain": [
       "             precinct party                           candidate  votes\n",
       "0           ADAIRA102   REP  Donald J. TRUMP / Michael R. PENCE    215\n",
       "1           ADAIRA104   REP  Donald J. TRUMP / Michael R. PENCE    359\n",
       "2           ADAIRA105   REP  Donald J. TRUMP / Michael R. PENCE    288\n",
       "3             ADAIRAB   REP  Donald J. TRUMP / Michael R. PENCE    436\n",
       "4           ADAIRB102   REP  Donald J. TRUMP / Michael R. PENCE    422\n",
       "...               ...   ...                                 ...    ...\n",
       "27724  HARTPRICEVILLE   DEM                     Hillary Clinton     63\n",
       "27725  HARTPRICEVILLE   LIB                        Gary Johnson      6\n",
       "27726  HARTPRICEVILLE   DEM            Rocky Roque DE LA FUENTE      0\n",
       "27727  HARTPRICEVILLE   GRN                          Jill Stein      3\n",
       "27728  HARTPRICEVILLE   IND                       Evan McMullin      4\n",
       "\n",
       "[27729 rows x 4 columns]"
      ]
     },
     "execution_count": 48,
     "metadata": {},
     "output_type": "execute_result"
    }
   ],
   "source": [
    "# Select only the relevant columns\n",
    "general_data = gen_combined_df[[\"precinct\", \"party\", \"candidate\", \"votes\"]]\n",
    "\n",
    "general_data"
   ]
  },
  {
   "cell_type": "code",
   "execution_count": 49,
   "id": "38fba0f1",
   "metadata": {},
   "outputs": [
    {
     "data": {
      "application/vnd.microsoft.datawrangler.viewer.v0+json": {
       "columns": [
        {
         "name": "candidate",
         "rawType": "object",
         "type": "string"
        },
        {
         "name": "count",
         "rawType": "int64",
         "type": "integer"
        }
       ],
       "ref": "a7e9a5cf-fdc4-4f16-86db-b2845689a2f2",
       "rows": [
        [
         "Donald J. TRUMP / Michael R. PENCE",
         "3562"
        ],
        [
         "Gary JOHNSON / Bill WELD",
         "3562"
        ],
        [
         "Hillary Rodham CLINTON / Timothy Michael KAINE",
         "3562"
        ],
        [
         "Jill STEIN / Ajamu BARAKA",
         "3562"
        ],
        [
         "Rocky Roque DE LA FUENTE / Michael STEINBERG",
         "3562"
        ],
        [
         "Evan McMULLIN / Nathan JOHNSON",
         "3562"
        ],
        [
         "Hillary Clinton",
         "941"
        ],
        [
         "Gary Johnson",
         "941"
        ],
        [
         "Jill Stein",
         "941"
        ],
        [
         "Evan McMullin",
         "941"
        ],
        [
         "Rocky De La Fuente",
         "905"
        ],
        [
         "Donald Trump",
         "860"
        ],
        [
         "Write-In",
         "642"
        ],
        [
         "Donald J. Trump",
         "81"
        ],
        [
         "Rocky Roque DE LA FUENTE",
         "36"
        ],
        [
         "DE LA FUENTE/STEINBERG",
         "10"
        ],
        [
         "STEIN/BARAKA",
         "10"
        ],
        [
         "MCMULL/JOHNSON",
         "10"
        ],
        [
         "JOHNSON/WELD",
         "10"
        ],
        [
         "CLINTON/KAINE",
         "10"
        ],
        [
         "TRUMP/PENCE",
         "10"
        ],
        [
         "Darrell L CASTLE (W)",
         "7"
        ],
        [
         "Darrell L CASTLE",
         "1"
        ],
        [
         "Tom Hoefling",
         "1"
        ]
       ],
       "shape": {
        "columns": 1,
        "rows": 24
       }
      },
      "text/plain": [
       "candidate\n",
       "Donald J. TRUMP / Michael R. PENCE                3562\n",
       "Gary JOHNSON / Bill WELD                          3562\n",
       "Hillary Rodham CLINTON / Timothy Michael KAINE    3562\n",
       "Jill STEIN / Ajamu BARAKA                         3562\n",
       "Rocky Roque DE LA FUENTE / Michael STEINBERG      3562\n",
       "Evan McMULLIN / Nathan JOHNSON                    3562\n",
       "Hillary Clinton                                    941\n",
       "Gary Johnson                                       941\n",
       "Jill Stein                                         941\n",
       "Evan McMullin                                      941\n",
       "Rocky De La Fuente                                 905\n",
       "Donald Trump                                       860\n",
       "Write-In                                           642\n",
       "Donald J. Trump                                     81\n",
       "Rocky Roque DE LA FUENTE                            36\n",
       "DE LA FUENTE/STEINBERG                              10\n",
       "STEIN/BARAKA                                        10\n",
       "MCMULL/JOHNSON                                      10\n",
       "JOHNSON/WELD                                        10\n",
       "CLINTON/KAINE                                       10\n",
       "TRUMP/PENCE                                         10\n",
       "Darrell L CASTLE (W)                                 7\n",
       "Darrell L CASTLE                                     1\n",
       "Tom Hoefling                                         1\n",
       "Name: count, dtype: int64"
      ]
     },
     "execution_count": 49,
     "metadata": {},
     "output_type": "execute_result"
    }
   ],
   "source": [
    "# Viewing candidate data\n",
    "general_data[\"candidate\"].value_counts(dropna=False)"
   ]
  },
  {
   "cell_type": "code",
   "execution_count": 51,
   "id": "90417a20",
   "metadata": {},
   "outputs": [
    {
     "name": "stderr",
     "output_type": "stream",
     "text": [
      "C:\\Users\\ADMIN\\AppData\\Local\\Temp\\ipykernel_21788\\2626623481.py:4: SettingWithCopyWarning: \n",
      "A value is trying to be set on a copy of a slice from a DataFrame.\n",
      "Try using .loc[row_indexer,col_indexer] = value instead\n",
      "\n",
      "See the caveats in the documentation: https://pandas.pydata.org/pandas-docs/stable/user_guide/indexing.html#returning-a-view-versus-a-copy\n",
      "  general_data[\"candidate\"] = general_data[\"candidate\"].astype(str).str.upper()\n"
     ]
    },
    {
     "data": {
      "application/vnd.microsoft.datawrangler.viewer.v0+json": {
       "columns": [
        {
         "name": "candidate",
         "rawType": "object",
         "type": "string"
        },
        {
         "name": "count",
         "rawType": "int64",
         "type": "integer"
        }
       ],
       "ref": "5a3233aa-4a10-4223-99cf-81c0b06ea3fa",
       "rows": [
        [
         "TRUMP",
         "4513"
        ],
        [
         "MCMULLIN",
         "4513"
        ],
        [
         "JOHNSON",
         "4513"
        ],
        [
         "CLINTON",
         "4513"
        ],
        [
         "STEIN",
         "4513"
        ],
        [
         "FUENTE",
         "4513"
        ],
        [
         "CASTLE",
         "8"
        ],
        [
         "HOEFLING",
         "1"
        ]
       ],
       "shape": {
        "columns": 1,
        "rows": 8
       }
      },
      "text/plain": [
       "candidate\n",
       "TRUMP       4513\n",
       "MCMULLIN    4513\n",
       "JOHNSON     4513\n",
       "CLINTON     4513\n",
       "STEIN       4513\n",
       "FUENTE      4513\n",
       "CASTLE         8\n",
       "HOEFLING       1\n",
       "Name: count, dtype: int64"
      ]
     },
     "execution_count": 51,
     "metadata": {},
     "output_type": "execute_result"
    }
   ],
   "source": [
    "# Cleaning Candidates\n",
    "\n",
    "# Turning all general data to uppercase\n",
    "general_data[\"candidate\"] = general_data[\"candidate\"].astype(str).str.upper()\n",
    "\n",
    "\n",
    "unwanted_keywords = [\n",
    "    r\"\\w*VOTE\\w*\",\n",
    "    r\"\\w*UNCOM\\w*\",\n",
    "    r\"\\w*TOTAL\\w*\",\n",
    "    r\"NAN\",\n",
    "    r\"\\w*WRITE[\\s-]\\w*\",\n",
    "    r\"UNCERTIFIED\",\n",
    "    r\"UNVERIFIED\",\n",
    "    r\"NONE OF THE ABOVE\",\n",
    "    r\"LBT\",\n",
    "    r\"DEM\",\n",
    "    r\"REP\",\n",
    "    r\"GRN\",\n",
    "    r\"NAN\"\n",
    "\n",
    "]\n",
    "\n",
    "# Fixing FUENTE\n",
    "general_data.loc[\n",
    "    general_data[\"candidate\"].str.contains(\"\\w*Fuenta\\w*\", case=False, na=False),\n",
    "    \"candidate\"\n",
    "] = \"FUENTE\"\n",
    "pattern = \"|\".join(unwanted_keywords)\n",
    "\n",
    "# # FILTER OUT TRASH WORDS\n",
    "general_data = general_data[~general_data[\"candidate\"].str.upper().str.contains(pattern, regex=True, na=False)]\n",
    "\n",
    "# Fixing Darrell Castle\"\n",
    "general_data.loc[\n",
    "    general_data[\"candidate\"].str.contains(\"\\w*ASTLE\\w*\", case=False, na=False),\n",
    "    \"candidate\"\n",
    "] = \"CASTLE\"\n",
    "\n",
    "# general_data.loc[\n",
    "#     general_data[\"candidate\"].str.contains(\"\\w*ATUREN\\w*\", case=False, na=False),\n",
    "#     \"candidate\"\n",
    "# ] = \"MATUREN\"\n",
    "\n",
    "# Fixing mixed president + vice_president by /\n",
    "general_data[\"candidate\"] = general_data[\"candidate\"].str.extract(r\"^([^/&]+)\").iloc[:, 0].str.strip()\n",
    "\n",
    "# #Selecting only last name\n",
    "# general_data[\"candidate\"] = general_data[\"candidate\"].str.split().str[-1]\n",
    "\n",
    "# # Fixing the , candidate\n",
    "# # general_data[\"candidate\"] = (\n",
    "# #     general_data[\"candidate\"].str.split(\",\")\n",
    "# #     .str[0]\n",
    "# #     .str.strip()\n",
    "# #     )\n",
    "\n",
    "\n",
    "\n",
    "\n",
    "# # Fixing Cubbler\n",
    "# general_data.loc[\n",
    "#     ( \n",
    "#         general_data[\"candidate\"].str.contains(\"\\w*UBBIER\\w*\", case=False, na=False)|\n",
    "#         general_data[\"candidate\"].str.contains(\"\\w*UBLER\\w*\", case=False, na=False)|\n",
    "#         general_data[\"candidate\"].str.contains(\"\\w*OBBLER\\w*\", case=False, na=False),\n",
    "#     \"candidate\")\n",
    "# ] = \"CUBBLER\"\n",
    "\n",
    "\n",
    "# # Fixing Kotlikoff\n",
    "# general_data.loc[\n",
    "#     general_data[\"candidate\"].str.contains(\"\\w*TIKOFF\\w*\", case=False, na=False),\n",
    "#     \"candidate\"\n",
    "# ] = \"KOTLIKOFF\"\n",
    "\n",
    "# # Fixing Valdivia\n",
    "# general_data.loc[\n",
    "#     general_data[\"candidate\"].str.contains(\"\\w*VALDIVA\\W*\", case=False, na=False),\n",
    "#     \"candidate\"\n",
    "# ] = \"VALDIVIA\"\n",
    "\n",
    "# # Fixing HOEFLING\n",
    "# general_data.loc[\n",
    "#     general_data[\"candidate\"].str.contains(\"\\w*HOEFFLING\", case=False, na=False),\n",
    "#     \"candidate\"\n",
    "# ] = \"HOEFLING\"\n",
    "\n",
    "\n",
    "# # Fixing McMullin\n",
    "general_data.loc[\n",
    "    general_data[\"candidate\"].str.contains(\"MCMULL\", case=False, na=False) ,\n",
    "    \"candidate\"\n",
    "] = \"MCMULLIN\"\n",
    "\n",
    "# Fixing LASTNAME + First name Initial\n",
    "# general_data.loc[:,\"candidate\"] = (\n",
    "#     general_data[\"candidate\"].str.split().str[0].str.upper()\n",
    "# )\n",
    "\n",
    "\n",
    "# #Selecting only last name\n",
    "general_data[\"candidate\"] = general_data[\"candidate\"].str.split().str[-1]\n",
    "\n",
    "general_data[\"candidate\"].value_counts(dropna=False)"
   ]
  },
  {
   "cell_type": "code",
   "execution_count": 52,
   "id": "a22405a6",
   "metadata": {},
   "outputs": [
    {
     "data": {
      "application/vnd.microsoft.datawrangler.viewer.v0+json": {
       "columns": [
        {
         "name": "party",
         "rawType": "object",
         "type": "unknown"
        },
        {
         "name": "count",
         "rawType": "int64",
         "type": "integer"
        }
       ],
       "ref": "1a5a7972-251f-4536-9606-fb16c93bbbaa",
       "rows": [
        [
         "DEM",
         "9026"
        ],
        [
         "REP",
         "4513"
        ],
        [
         "LIB",
         "4513"
        ],
        [
         "GRN",
         "4513"
        ],
        [
         "IND",
         "4503"
        ],
        [
         null,
         "10"
        ],
        [
         "CON",
         "8"
        ],
        [
         "Write - in",
         "1"
        ]
       ],
       "shape": {
        "columns": 1,
        "rows": 8
       }
      },
      "text/plain": [
       "party\n",
       "DEM           9026\n",
       "REP           4513\n",
       "LIB           4513\n",
       "GRN           4513\n",
       "IND           4503\n",
       "NaN             10\n",
       "CON              8\n",
       "Write - in       1\n",
       "Name: count, dtype: int64"
      ]
     },
     "execution_count": 52,
     "metadata": {},
     "output_type": "execute_result"
    }
   ],
   "source": [
    "# Viewing Party\n",
    "general_data[\"party\"].value_counts(dropna=False)"
   ]
  },
  {
   "cell_type": "code",
   "execution_count": 53,
   "id": "21d7595b",
   "metadata": {},
   "outputs": [
    {
     "data": {
      "application/vnd.microsoft.datawrangler.viewer.v0+json": {
       "columns": [
        {
         "name": "party",
         "rawType": "object",
         "type": "string"
        },
        {
         "name": "count",
         "rawType": "int64",
         "type": "integer"
        }
       ],
       "ref": "ca2a833d-2063-4a81-a51c-067ec8526b4c",
       "rows": [
        [
         "DEM",
         "9026"
        ],
        [
         "REP",
         "4513"
        ],
        [
         "IND",
         "4513"
        ],
        [
         "LIB",
         "4513"
        ],
        [
         "GRN",
         "4513"
        ],
        [
         "CON",
         "8"
        ],
        [
         "Write - in",
         "1"
        ]
       ],
       "shape": {
        "columns": 1,
        "rows": 7
       }
      },
      "text/plain": [
       "party\n",
       "DEM           9026\n",
       "REP           4513\n",
       "IND           4513\n",
       "LIB           4513\n",
       "GRN           4513\n",
       "CON              8\n",
       "Write - in       1\n",
       "Name: count, dtype: int64"
      ]
     },
     "execution_count": 53,
     "metadata": {},
     "output_type": "execute_result"
    }
   ],
   "source": [
    "#=====================================\n",
    "# This function is used to look up party\n",
    "# for the candidate in the same df\n",
    "#=====================================\n",
    "def fill_party_from_data(row, df):\n",
    "    if pd.notna(row[\"party\"]):\n",
    "        return row[\"party\"]\n",
    "    \n",
    "    # Try to find other rows with the same candidate and known party\n",
    "    matches = df[(df[\"candidate\"] == row[\"candidate\"]) & (df[\"party\"].notna())]\n",
    "    if not matches.empty:\n",
    "        return matches[\"party\"].iloc[0]  # Return the first match's party\n",
    "    else:\n",
    "        return None  # Still unknown\n",
    "    \n",
    "\n",
    "#=====================================\n",
    "# Function to fill remaining missing party from master lookup\n",
    "#=====================================\n",
    "def fill_party_from_master(df, master_df):\n",
    "    party_map = master_df.set_index(\"candidate\")[\"party\"].to_dict()\n",
    "    df[\"party\"] = df.apply(\n",
    "        lambda row: party_map.get(row[\"candidate\"], row[\"party\"])\n",
    "        if pd.isna(row[\"party\"]) else row[\"party\"],\n",
    "        axis=1\n",
    "    )\n",
    "    return df\n",
    "\n",
    "\n",
    "#=====================================\n",
    "# Function to update the master candidate-party CSV\n",
    "#=====================================\n",
    "def update_master_candidate_party(df, master_path):\n",
    "    # Read the existing master file\n",
    "    master_df = pd.read_csv(master_path)\n",
    "\n",
    "    # Filter and combine only known party entries (exclude 'UNK')\n",
    "    new_data = (\n",
    "        df[[\"candidate\", \"party\"]]\n",
    "        .dropna()\n",
    "        .query('party != \"UNK\"')\n",
    "        .drop_duplicates()\n",
    "    )\n",
    "\n",
    "    # Merge with master and remove duplicates by candidate\n",
    "    updated_master = pd.concat([master_df, new_data]).drop_duplicates(subset=\"candidate\")\n",
    "\n",
    "    # Save updated version\n",
    "    updated_master.to_csv(master_path, index=False)\n",
    "\n",
    "\n",
    "#=====================================\n",
    "# Example usage (uncomment and modify for your workflow)\n",
    "#=====================================\n",
    "# Fill party using internal data\n",
    "general_data[\"party\"] = general_data.apply(\n",
    "    lambda row: fill_party_from_data(row, general_data),\n",
    "    axis=1\n",
    ")\n",
    "\n",
    "# # # Fill remaining party using general master CSV\n",
    "# master_party_df = pd.read_csv(r\"C:\\Huy Phan\\College\\VoterTurnout\\data\\cleaned_data\\gen_can_party.csv\") # USE YOUR OWN ADDRESS\n",
    "# general_data = fill_party_from_master(general_data, master_party_df)\n",
    "general_data[\"party\"].value_counts(dropna=False)\n"
   ]
  },
  {
   "cell_type": "code",
   "execution_count": 55,
   "id": "8bb5d275",
   "metadata": {},
   "outputs": [
    {
     "data": {
      "application/vnd.microsoft.datawrangler.viewer.v0+json": {
       "columns": [
        {
         "name": "party",
         "rawType": "object",
         "type": "string"
        },
        {
         "name": "count",
         "rawType": "int64",
         "type": "integer"
        }
       ],
       "ref": "6eb37795-f136-4cbe-8370-a0838b0b727d",
       "rows": [
        [
         "DEM",
         "9026"
        ],
        [
         "IND",
         "4514"
        ],
        [
         "REP",
         "4513"
        ],
        [
         "LIB",
         "4513"
        ],
        [
         "GRN",
         "4513"
        ],
        [
         "CON",
         "8"
        ]
       ],
       "shape": {
        "columns": 1,
        "rows": 6
       }
      },
      "text/plain": [
       "party\n",
       "DEM    9026\n",
       "IND    4514\n",
       "REP    4513\n",
       "LIB    4513\n",
       "GRN    4513\n",
       "CON       8\n",
       "Name: count, dtype: int64"
      ]
     },
     "execution_count": 55,
     "metadata": {},
     "output_type": "execute_result"
    }
   ],
   "source": [
    "# Cleaning Party\n",
    "# Turning all general data party to uppercase\n",
    "general_data[\"party\"] = general_data[\"party\"].astype(str).str.upper()\n",
    "\n",
    "general_data[\"party\"] = (\n",
    "    general_data[\"party\"]\n",
    "    .replace({\n",
    "        \"REPUBLICAN\": \"REP\",\n",
    "        \"R\": \"REP\",\n",
    "        \"DEMOCRATIC\": \"DEM\",\n",
    "        \"DEMOCRAT\":\"DEM\",\n",
    "        \"DEM\": \"DEM\",\n",
    "        \"D\": \"DEM\",\n",
    "        \"GREEN\": \"GRN\",\n",
    "        \"G\": \"GRN\",\n",
    "        \"GREEN AND RAINBOW\":\"GRN\",\n",
    "        \"GREEN-RAINBOW\":\"GRN\",\n",
    "        \"LIBERTARIAN\": \"LIB\",\n",
    "        \"LIBERTARIN\":\"LIB\",\n",
    "        \"LBT\": \"LIB\",\n",
    "        \"L\": \"LIB\",\n",
    "        \"CONSTITUTION\": \"CON\",\n",
    "        \"AMERICAN DELTA\":\"AMD\",\n",
    "        \"PROHIBITION\":\"PRO\",\n",
    "        \"NP\": \"IND\",\n",
    "        \"NON\": \"IND\",\n",
    "        \"WRI\": \"IND\",\n",
    "        \"WRITE-IN\": \"IND\",\n",
    "        \"WRITE - IN\":\"IND\",\n",
    "        \"ONA\": \"IND\",\n",
    "        \"GEN\": \"IND\",\n",
    "        \"NONE\":\"UNK\",\n",
    "        \"NPA\":\"IND\",\n",
    "        \"UST\":\"CON\",\n",
    "        \"INDEPENDENT\":\"IND\",\n",
    "        \"(WRITE-IN)\":\"IND\",\n",
    "        \"SOCIALISM & LIBERATION\": \"SOL\",\n",
    "        \"SOCIALIST WORKERS\": \"SOW\"\n",
    "    })\n",
    ")\n",
    "\n",
    "general_data[\"party\"].value_counts(dropna=False)"
   ]
  },
  {
   "cell_type": "code",
   "execution_count": 56,
   "id": "ff4a4970",
   "metadata": {},
   "outputs": [],
   "source": [
    "# UPDATE MASTER FILE, CAREFUL\n",
    "update_master_candidate_party(general_data, r\"C:\\Huy Phan\\College\\VoterTurnout\\data\\cleaned_data\\gen_can_party.csv\")"
   ]
  },
  {
   "cell_type": "code",
   "execution_count": 57,
   "id": "daaed088",
   "metadata": {},
   "outputs": [
    {
     "data": {
      "application/vnd.microsoft.datawrangler.viewer.v0+json": {
       "columns": [
        {
         "name": "index",
         "rawType": "int64",
         "type": "integer"
        },
        {
         "name": "precinct",
         "rawType": "object",
         "type": "string"
        },
        {
         "name": "gen_con_CASTLE",
         "rawType": "int64",
         "type": "integer"
        },
        {
         "name": "gen_dem_CLINTON",
         "rawType": "int64",
         "type": "integer"
        },
        {
         "name": "gen_dem_FUENTE",
         "rawType": "int64",
         "type": "integer"
        },
        {
         "name": "gen_grn_STEIN",
         "rawType": "int64",
         "type": "integer"
        },
        {
         "name": "gen_ind_HOEFLING",
         "rawType": "int64",
         "type": "integer"
        },
        {
         "name": "gen_ind_MCMULLIN",
         "rawType": "int64",
         "type": "integer"
        },
        {
         "name": "gen_lib_JOHNSON",
         "rawType": "int64",
         "type": "integer"
        },
        {
         "name": "gen_rep_TRUMP",
         "rawType": "int64",
         "type": "integer"
        }
       ],
       "ref": "66f5d295-923e-4952-aacd-c290680abf44",
       "rows": [
        [
         "0",
         "ADAIRA102",
         "0",
         "10",
         "0",
         "3",
         "0",
         "2",
         "1",
         "215"
        ],
        [
         "1",
         "ADAIRA104",
         "0",
         "28",
         "0",
         "3",
         "0",
         "3",
         "6",
         "359"
        ],
        [
         "2",
         "ADAIRA105",
         "0",
         "30",
         "1",
         "0",
         "0",
         "2",
         "2",
         "288"
        ],
        [
         "3",
         "ADAIRAB",
         "0",
         "97",
         "0",
         "0",
         "0",
         "8",
         "9",
         "436"
        ],
        [
         "4",
         "ADAIRB102",
         "0",
         "148",
         "1",
         "6",
         "0",
         "9",
         "14",
         "422"
        ],
        [
         "5",
         "ADAIRB104",
         "0",
         "49",
         "0",
         "1",
         "0",
         "1",
         "8",
         "387"
        ],
        [
         "6",
         "ADAIRC102",
         "0",
         "89",
         "0",
         "1",
         "0",
         "13",
         "13",
         "341"
        ],
        [
         "7",
         "ADAIRC104",
         "0",
         "88",
         "0",
         "5",
         "0",
         "11",
         "8",
         "456"
        ],
        [
         "8",
         "ADAIRD101",
         "0",
         "44",
         "0",
         "0",
         "0",
         "1",
         "1",
         "328"
        ],
        [
         "9",
         "ADAIRD103",
         "0",
         "44",
         "0",
         "3",
         "0",
         "2",
         "3",
         "306"
        ],
        [
         "10",
         "ADAIRD104",
         "0",
         "103",
         "0",
         "3",
         "0",
         "1",
         "5",
         "275"
        ],
        [
         "11",
         "ADAIRE101",
         "0",
         "40",
         "0",
         "0",
         "0",
         "3",
         "6",
         "420"
        ],
        [
         "12",
         "ADAIRE104",
         "0",
         "152",
         "0",
         "3",
         "0",
         "10",
         "12",
         "473"
        ],
        [
         "13",
         "ADAIRF101",
         "0",
         "130",
         "0",
         "4",
         "0",
         "5",
         "11",
         "585"
        ],
        [
         "14",
         "ADAIRF103",
         "0",
         "63",
         "0",
         "1",
         "0",
         "2",
         "11",
         "349"
        ],
        [
         "15",
         "ADAIRG101",
         "0",
         "95",
         "1",
         "0",
         "0",
         "10",
         "13",
         "443"
        ],
        [
         "16",
         "ADAIRG102",
         "0",
         "113",
         "0",
         "2",
         "0",
         "9",
         "18",
         "554"
        ],
        [
         "17",
         "ALLENA101",
         "0",
         "150",
         "0",
         "7",
         "0",
         "3",
         "13",
         "411"
        ],
        [
         "18",
         "ALLENA102",
         "0",
         "85",
         "0",
         "4",
         "0",
         "2",
         "21",
         "513"
        ],
        [
         "19",
         "ALLENAB",
         "0",
         "112",
         "1",
         "3",
         "0",
         "4",
         "13",
         "345"
        ],
        [
         "20",
         "ALLENB101",
         "0",
         "104",
         "2",
         "0",
         "0",
         "7",
         "8",
         "545"
        ],
        [
         "21",
         "ALLENB102",
         "0",
         "67",
         "1",
         "4",
         "0",
         "2",
         "8",
         "468"
        ],
        [
         "22",
         "ALLENB103",
         "0",
         "49",
         "0",
         "4",
         "0",
         "0",
         "5",
         "230"
        ],
        [
         "23",
         "ALLENC101",
         "0",
         "144",
         "1",
         "4",
         "0",
         "7",
         "21",
         "576"
        ],
        [
         "24",
         "ALLENC102",
         "0",
         "136",
         "0",
         "2",
         "0",
         "11",
         "22",
         "710"
        ],
        [
         "25",
         "ALLEND101",
         "0",
         "152",
         "0",
         "7",
         "0",
         "10",
         "14",
         "739"
        ],
        [
         "26",
         "ALLEND102",
         "0",
         "57",
         "0",
         "0",
         "0",
         "4",
         "6",
         "325"
        ],
        [
         "27",
         "ALLEND103",
         "0",
         "109",
         "0",
         "1",
         "0",
         "3",
         "4",
         "529"
        ],
        [
         "28",
         "ALLENE101",
         "0",
         "41",
         "0",
         "0",
         "0",
         "1",
         "3",
         "235"
        ],
        [
         "29",
         "ALLENE102",
         "0",
         "104",
         "1",
         "8",
         "0",
         "3",
         "15",
         "510"
        ],
        [
         "30",
         "ALLENE103",
         "0",
         "39",
         "0",
         "2",
         "0",
         "6",
         "8",
         "330"
        ],
        [
         "31",
         "ANDERSONA101",
         "0",
         "223",
         "0",
         "5",
         "0",
         "14",
         "22",
         "435"
        ],
        [
         "32",
         "ANDERSONA102",
         "0",
         "153",
         "2",
         "4",
         "0",
         "9",
         "25",
         "568"
        ],
        [
         "33",
         "ANDERSONAB",
         "0",
         "165",
         "1",
         "3",
         "0",
         "14",
         "20",
         "362"
        ],
        [
         "34",
         "ANDERSONB101",
         "0",
         "200",
         "0",
         "4",
         "0",
         "5",
         "20",
         "524"
        ],
        [
         "35",
         "ANDERSONB102",
         "0",
         "275",
         "0",
         "4",
         "0",
         "20",
         "43",
         "839"
        ],
        [
         "36",
         "ANDERSONC101",
         "0",
         "211",
         "0",
         "2",
         "0",
         "9",
         "24",
         "550"
        ],
        [
         "37",
         "ANDERSONC102",
         "0",
         "211",
         "0",
         "5",
         "0",
         "21",
         "15",
         "588"
        ],
        [
         "38",
         "ANDERSOND101",
         "0",
         "129",
         "0",
         "1",
         "0",
         "12",
         "17",
         "601"
        ],
        [
         "39",
         "ANDERSOND102",
         "0",
         "238",
         "0",
         "2",
         "0",
         "16",
         "26",
         "744"
        ],
        [
         "40",
         "ANDERSONE101",
         "0",
         "290",
         "2",
         "11",
         "0",
         "14",
         "40",
         "1040"
        ],
        [
         "41",
         "ANDERSONE103",
         "0",
         "135",
         "0",
         "8",
         "0",
         "9",
         "20",
         "524"
        ],
        [
         "42",
         "ANDERSONF101",
         "0",
         "115",
         "0",
         "3",
         "0",
         "5",
         "15",
         "430"
        ],
        [
         "43",
         "ANDERSONF102",
         "0",
         "75",
         "1",
         "0",
         "0",
         "4",
         "10",
         "313"
        ],
        [
         "44",
         "ANDERSONF103",
         "0",
         "56",
         "0",
         "0",
         "0",
         "1",
         "6",
         "205"
        ],
        [
         "45",
         "ANDERSONF104",
         "0",
         "158",
         "0",
         "2",
         "0",
         "12",
         "16",
         "519"
        ],
        [
         "46",
         "BALLARDA101",
         "0",
         "37",
         "0",
         "1",
         "0",
         "0",
         "3",
         "224"
        ],
        [
         "47",
         "BALLARDA102",
         "0",
         "151",
         "1",
         "4",
         "0",
         "8",
         "8",
         "457"
        ],
        [
         "48",
         "BALLARDA103",
         "0",
         "11",
         "0",
         "0",
         "0",
         "0",
         "2",
         "103"
        ],
        [
         "49",
         "BALLARDAB",
         "0",
         "27",
         "0",
         "0",
         "0",
         "4",
         "4",
         "115"
        ]
       ],
       "shape": {
        "columns": 9,
        "rows": 3950
       }
      },
      "text/html": [
       "<div>\n",
       "<style scoped>\n",
       "    .dataframe tbody tr th:only-of-type {\n",
       "        vertical-align: middle;\n",
       "    }\n",
       "\n",
       "    .dataframe tbody tr th {\n",
       "        vertical-align: top;\n",
       "    }\n",
       "\n",
       "    .dataframe thead th {\n",
       "        text-align: right;\n",
       "    }\n",
       "</style>\n",
       "<table border=\"1\" class=\"dataframe\">\n",
       "  <thead>\n",
       "    <tr style=\"text-align: right;\">\n",
       "      <th>candidate_column</th>\n",
       "      <th>precinct</th>\n",
       "      <th>gen_con_CASTLE</th>\n",
       "      <th>gen_dem_CLINTON</th>\n",
       "      <th>gen_dem_FUENTE</th>\n",
       "      <th>gen_grn_STEIN</th>\n",
       "      <th>gen_ind_HOEFLING</th>\n",
       "      <th>gen_ind_MCMULLIN</th>\n",
       "      <th>gen_lib_JOHNSON</th>\n",
       "      <th>gen_rep_TRUMP</th>\n",
       "    </tr>\n",
       "  </thead>\n",
       "  <tbody>\n",
       "    <tr>\n",
       "      <th>0</th>\n",
       "      <td>ADAIRA102</td>\n",
       "      <td>0</td>\n",
       "      <td>10</td>\n",
       "      <td>0</td>\n",
       "      <td>3</td>\n",
       "      <td>0</td>\n",
       "      <td>2</td>\n",
       "      <td>1</td>\n",
       "      <td>215</td>\n",
       "    </tr>\n",
       "    <tr>\n",
       "      <th>1</th>\n",
       "      <td>ADAIRA104</td>\n",
       "      <td>0</td>\n",
       "      <td>28</td>\n",
       "      <td>0</td>\n",
       "      <td>3</td>\n",
       "      <td>0</td>\n",
       "      <td>3</td>\n",
       "      <td>6</td>\n",
       "      <td>359</td>\n",
       "    </tr>\n",
       "    <tr>\n",
       "      <th>2</th>\n",
       "      <td>ADAIRA105</td>\n",
       "      <td>0</td>\n",
       "      <td>30</td>\n",
       "      <td>1</td>\n",
       "      <td>0</td>\n",
       "      <td>0</td>\n",
       "      <td>2</td>\n",
       "      <td>2</td>\n",
       "      <td>288</td>\n",
       "    </tr>\n",
       "    <tr>\n",
       "      <th>3</th>\n",
       "      <td>ADAIRAB</td>\n",
       "      <td>0</td>\n",
       "      <td>97</td>\n",
       "      <td>0</td>\n",
       "      <td>0</td>\n",
       "      <td>0</td>\n",
       "      <td>8</td>\n",
       "      <td>9</td>\n",
       "      <td>436</td>\n",
       "    </tr>\n",
       "    <tr>\n",
       "      <th>4</th>\n",
       "      <td>ADAIRB102</td>\n",
       "      <td>0</td>\n",
       "      <td>148</td>\n",
       "      <td>1</td>\n",
       "      <td>6</td>\n",
       "      <td>0</td>\n",
       "      <td>9</td>\n",
       "      <td>14</td>\n",
       "      <td>422</td>\n",
       "    </tr>\n",
       "    <tr>\n",
       "      <th>...</th>\n",
       "      <td>...</td>\n",
       "      <td>...</td>\n",
       "      <td>...</td>\n",
       "      <td>...</td>\n",
       "      <td>...</td>\n",
       "      <td>...</td>\n",
       "      <td>...</td>\n",
       "      <td>...</td>\n",
       "      <td>...</td>\n",
       "    </tr>\n",
       "    <tr>\n",
       "      <th>3945</th>\n",
       "      <td>WOODFORDG102</td>\n",
       "      <td>0</td>\n",
       "      <td>224</td>\n",
       "      <td>0</td>\n",
       "      <td>4</td>\n",
       "      <td>0</td>\n",
       "      <td>15</td>\n",
       "      <td>31</td>\n",
       "      <td>413</td>\n",
       "    </tr>\n",
       "    <tr>\n",
       "      <th>3946</th>\n",
       "      <td>WOODFORDG103</td>\n",
       "      <td>0</td>\n",
       "      <td>183</td>\n",
       "      <td>1</td>\n",
       "      <td>6</td>\n",
       "      <td>0</td>\n",
       "      <td>8</td>\n",
       "      <td>23</td>\n",
       "      <td>416</td>\n",
       "    </tr>\n",
       "    <tr>\n",
       "      <th>3947</th>\n",
       "      <td>WOODFORDH101</td>\n",
       "      <td>0</td>\n",
       "      <td>155</td>\n",
       "      <td>0</td>\n",
       "      <td>5</td>\n",
       "      <td>0</td>\n",
       "      <td>7</td>\n",
       "      <td>15</td>\n",
       "      <td>352</td>\n",
       "    </tr>\n",
       "    <tr>\n",
       "      <th>3948</th>\n",
       "      <td>WOODFORDH102</td>\n",
       "      <td>0</td>\n",
       "      <td>221</td>\n",
       "      <td>1</td>\n",
       "      <td>6</td>\n",
       "      <td>0</td>\n",
       "      <td>15</td>\n",
       "      <td>17</td>\n",
       "      <td>369</td>\n",
       "    </tr>\n",
       "    <tr>\n",
       "      <th>3949</th>\n",
       "      <td>WOODFORDH103</td>\n",
       "      <td>0</td>\n",
       "      <td>217</td>\n",
       "      <td>0</td>\n",
       "      <td>14</td>\n",
       "      <td>0</td>\n",
       "      <td>10</td>\n",
       "      <td>18</td>\n",
       "      <td>477</td>\n",
       "    </tr>\n",
       "  </tbody>\n",
       "</table>\n",
       "<p>3950 rows × 9 columns</p>\n",
       "</div>"
      ],
      "text/plain": [
       "candidate_column      precinct  gen_con_CASTLE  gen_dem_CLINTON  \\\n",
       "0                    ADAIRA102               0               10   \n",
       "1                    ADAIRA104               0               28   \n",
       "2                    ADAIRA105               0               30   \n",
       "3                      ADAIRAB               0               97   \n",
       "4                    ADAIRB102               0              148   \n",
       "...                        ...             ...              ...   \n",
       "3945              WOODFORDG102               0              224   \n",
       "3946              WOODFORDG103               0              183   \n",
       "3947              WOODFORDH101               0              155   \n",
       "3948              WOODFORDH102               0              221   \n",
       "3949              WOODFORDH103               0              217   \n",
       "\n",
       "candidate_column  gen_dem_FUENTE  gen_grn_STEIN  gen_ind_HOEFLING  \\\n",
       "0                              0              3                 0   \n",
       "1                              0              3                 0   \n",
       "2                              1              0                 0   \n",
       "3                              0              0                 0   \n",
       "4                              1              6                 0   \n",
       "...                          ...            ...               ...   \n",
       "3945                           0              4                 0   \n",
       "3946                           1              6                 0   \n",
       "3947                           0              5                 0   \n",
       "3948                           1              6                 0   \n",
       "3949                           0             14                 0   \n",
       "\n",
       "candidate_column  gen_ind_MCMULLIN  gen_lib_JOHNSON  gen_rep_TRUMP  \n",
       "0                                2                1            215  \n",
       "1                                3                6            359  \n",
       "2                                2                2            288  \n",
       "3                                8                9            436  \n",
       "4                                9               14            422  \n",
       "...                            ...              ...            ...  \n",
       "3945                            15               31            413  \n",
       "3946                             8               23            416  \n",
       "3947                             7               15            352  \n",
       "3948                            15               17            369  \n",
       "3949                            10               18            477  \n",
       "\n",
       "[3950 rows x 9 columns]"
      ]
     },
     "execution_count": 57,
     "metadata": {},
     "output_type": "execute_result"
    }
   ],
   "source": [
    "general_data[\"candidate_column\"] = (\n",
    "    \"gen_\" +\n",
    "    general_data[\"party\"].str.lower() + \"_\" +\n",
    "    general_data[\"candidate\"].str.split().str[-1].str.upper()\n",
    ")\n",
    "\n",
    "# pivot the table\n",
    "general_result = general_data.pivot_table(\n",
    "    index=\"precinct\",\n",
    "    columns=\"candidate_column\",\n",
    "    values=\"votes\",\n",
    "    aggfunc=\"sum\",  \n",
    "    fill_value=0\n",
    ").reset_index()\n",
    "\n",
    "general_result"
   ]
  },
  {
   "cell_type": "code",
   "execution_count": 58,
   "id": "6686d34b",
   "metadata": {},
   "outputs": [
    {
     "data": {
      "application/vnd.microsoft.datawrangler.viewer.v0+json": {
       "columns": [
        {
         "name": "index",
         "rawType": "int64",
         "type": "integer"
        },
        {
         "name": "precinct",
         "rawType": "object",
         "type": "string"
        },
        {
         "name": "pri_dem_CLINTON",
         "rawType": "int32",
         "type": "integer"
        },
        {
         "name": "pri_dem_FUENTE",
         "rawType": "int32",
         "type": "integer"
        },
        {
         "name": "pri_dem_O'MAILEY",
         "rawType": "int32",
         "type": "integer"
        },
        {
         "name": "pri_dem_SANDERS",
         "rawType": "int32",
         "type": "integer"
        },
        {
         "name": "gen_con_CASTLE",
         "rawType": "int32",
         "type": "integer"
        },
        {
         "name": "gen_dem_CLINTON",
         "rawType": "int32",
         "type": "integer"
        },
        {
         "name": "gen_dem_FUENTE",
         "rawType": "int32",
         "type": "integer"
        },
        {
         "name": "gen_grn_STEIN",
         "rawType": "int32",
         "type": "integer"
        },
        {
         "name": "gen_ind_HOEFLING",
         "rawType": "int32",
         "type": "integer"
        },
        {
         "name": "gen_ind_MCMULLIN",
         "rawType": "int32",
         "type": "integer"
        },
        {
         "name": "gen_lib_JOHNSON",
         "rawType": "int32",
         "type": "integer"
        },
        {
         "name": "gen_rep_TRUMP",
         "rawType": "int32",
         "type": "integer"
        },
        {
         "name": "dem_primary_total",
         "rawType": "int32",
         "type": "integer"
        },
        {
         "name": "general_total",
         "rawType": "int32",
         "type": "integer"
        }
       ],
       "ref": "2d2ec86c-237b-427d-824b-f6173ad1730e",
       "rows": [
        [
         "0",
         "BREATHITTA101",
         "29",
         "1",
         "0",
         "31",
         "0",
         "31",
         "0",
         "0",
         "0",
         "0",
         "1",
         "83",
         "61",
         "115"
        ],
        [
         "1",
         "BREATHITTA102",
         "49",
         "3",
         "4",
         "98",
         "0",
         "58",
         "0",
         "2",
         "0",
         "1",
         "6",
         "257",
         "154",
         "324"
        ],
        [
         "2",
         "BREATHITTA103",
         "90",
         "4",
         "6",
         "159",
         "0",
         "102",
         "2",
         "2",
         "0",
         "3",
         "9",
         "407",
         "259",
         "525"
        ],
        [
         "3",
         "BREATHITTA104",
         "71",
         "1",
         "5",
         "109",
         "0",
         "90",
         "1",
         "3",
         "0",
         "6",
         "7",
         "208",
         "186",
         "315"
        ],
        [
         "4",
         "BREATHITTA105",
         "57",
         "3",
         "5",
         "63",
         "0",
         "64",
         "0",
         "1",
         "0",
         "1",
         "3",
         "159",
         "128",
         "228"
        ],
        [
         "5",
         "BREATHITTB101",
         "38",
         "4",
         "6",
         "50",
         "0",
         "51",
         "0",
         "0",
         "0",
         "5",
         "4",
         "142",
         "98",
         "202"
        ],
        [
         "6",
         "BREATHITTB102",
         "27",
         "0",
         "4",
         "96",
         "0",
         "47",
         "0",
         "4",
         "0",
         "1",
         "4",
         "192",
         "127",
         "248"
        ],
        [
         "7",
         "BREATHITTB103",
         "71",
         "2",
         "1",
         "95",
         "0",
         "90",
         "0",
         "0",
         "0",
         "3",
         "9",
         "264",
         "169",
         "366"
        ],
        [
         "8",
         "BREATHITTB104",
         "93",
         "1",
         "1",
         "78",
         "0",
         "109",
         "0",
         "3",
         "0",
         "1",
         "6",
         "155",
         "173",
         "274"
        ],
        [
         "9",
         "BREATHITTB105",
         "48",
         "1",
         "2",
         "52",
         "0",
         "63",
         "0",
         "0",
         "0",
         "0",
         "5",
         "104",
         "103",
         "172"
        ],
        [
         "10",
         "BREATHITTC101",
         "86",
         "0",
         "3",
         "109",
         "0",
         "138",
         "1",
         "1",
         "0",
         "8",
         "13",
         "275",
         "198",
         "436"
        ],
        [
         "11",
         "BREATHITTC102",
         "35",
         "0",
         "1",
         "71",
         "0",
         "58",
         "0",
         "1",
         "0",
         "0",
         "2",
         "129",
         "107",
         "190"
        ],
        [
         "12",
         "BREATHITTC103",
         "66",
         "4",
         "0",
         "102",
         "0",
         "88",
         "1",
         "0",
         "0",
         "3",
         "9",
         "238",
         "172",
         "339"
        ],
        [
         "13",
         "BREATHITTC104",
         "27",
         "1",
         "3",
         "84",
         "0",
         "45",
         "1",
         "2",
         "0",
         "2",
         "3",
         "204",
         "115",
         "257"
        ],
        [
         "14",
         "BREATHITTC105",
         "43",
         "1",
         "2",
         "68",
         "0",
         "53",
         "0",
         "2",
         "0",
         "1",
         "4",
         "126",
         "114",
         "186"
        ],
        [
         "15",
         "BREATHITTD101",
         "37",
         "0",
         "0",
         "41",
         "0",
         "34",
         "0",
         "1",
         "0",
         "2",
         "1",
         "71",
         "78",
         "109"
        ],
        [
         "16",
         "BREATHITTD102",
         "58",
         "2",
         "1",
         "80",
         "0",
         "84",
         "1",
         "2",
         "0",
         "5",
         "7",
         "173",
         "141",
         "272"
        ],
        [
         "17",
         "BREATHITTD103",
         "54",
         "0",
         "7",
         "128",
         "0",
         "85",
         "0",
         "3",
         "0",
         "0",
         "3",
         "260",
         "189",
         "351"
        ],
        [
         "18",
         "BREATHITTD104",
         "37",
         "3",
         "0",
         "66",
         "0",
         "45",
         "0",
         "1",
         "0",
         "0",
         "4",
         "145",
         "106",
         "195"
        ],
        [
         "19",
         "BREATHITTD105",
         "10",
         "0",
         "1",
         "24",
         "0",
         "13",
         "0",
         "0",
         "0",
         "1",
         "4",
         "55",
         "35",
         "73"
        ],
        [
         "20",
         "BREATHITTD106",
         "48",
         "1",
         "1",
         "65",
         "0",
         "75",
         "0",
         "4",
         "0",
         "1",
         "4",
         "136",
         "115",
         "220"
        ],
        [
         "21",
         "CLAYA101",
         "31",
         "0",
         "1",
         "17",
         "0",
         "86",
         "0",
         "1",
         "0",
         "1",
         "6",
         "293",
         "49",
         "387"
        ],
        [
         "22",
         "CLAYA106",
         "9",
         "0",
         "0",
         "10",
         "0",
         "37",
         "0",
         "1",
         "0",
         "1",
         "5",
         "418",
         "19",
         "462"
        ],
        [
         "23",
         "CLAYA107",
         "12",
         "0",
         "0",
         "8",
         "0",
         "36",
         "0",
         "0",
         "0",
         "1",
         "3",
         "145",
         "20",
         "185"
        ],
        [
         "24",
         "CLAYB101",
         "4",
         "1",
         "1",
         "15",
         "0",
         "41",
         "0",
         "0",
         "0",
         "1",
         "6",
         "326",
         "21",
         "374"
        ],
        [
         "25",
         "CLAYB103",
         "17",
         "0",
         "0",
         "7",
         "0",
         "52",
         "0",
         "1",
         "0",
         "1",
         "6",
         "208",
         "24",
         "268"
        ],
        [
         "26",
         "CLAYB104",
         "10",
         "1",
         "0",
         "13",
         "0",
         "37",
         "0",
         "1",
         "0",
         "6",
         "2",
         "482",
         "24",
         "528"
        ],
        [
         "27",
         "CLAYC101",
         "4",
         "0",
         "0",
         "5",
         "0",
         "14",
         "0",
         "2",
         "0",
         "0",
         "1",
         "144",
         "9",
         "161"
        ],
        [
         "28",
         "CLAYC102",
         "1",
         "0",
         "0",
         "5",
         "0",
         "18",
         "0",
         "1",
         "0",
         "0",
         "4",
         "252",
         "6",
         "275"
        ],
        [
         "29",
         "CLAYC103",
         "5",
         "0",
         "0",
         "3",
         "0",
         "16",
         "1",
         "2",
         "0",
         "9",
         "5",
         "230",
         "8",
         "263"
        ],
        [
         "30",
         "CLAYC104",
         "8",
         "1",
         "0",
         "4",
         "0",
         "39",
         "0",
         "2",
         "0",
         "1",
         "7",
         "372",
         "13",
         "421"
        ],
        [
         "31",
         "CLAYD102",
         "11",
         "0",
         "0",
         "3",
         "0",
         "23",
         "0",
         "1",
         "0",
         "0",
         "1",
         "121",
         "14",
         "146"
        ],
        [
         "32",
         "CLAYD103",
         "8",
         "0",
         "0",
         "9",
         "0",
         "30",
         "0",
         "4",
         "0",
         "5",
         "5",
         "328",
         "17",
         "372"
        ],
        [
         "33",
         "CLAYD104",
         "6",
         "0",
         "1",
         "6",
         "0",
         "18",
         "0",
         "1",
         "0",
         "0",
         "4",
         "251",
         "13",
         "274"
        ],
        [
         "34",
         "CLAYE101",
         "1",
         "0",
         "0",
         "7",
         "0",
         "31",
         "0",
         "0",
         "0",
         "2",
         "3",
         "183",
         "8",
         "219"
        ],
        [
         "35",
         "CLAYE102",
         "9",
         "0",
         "1",
         "4",
         "0",
         "32",
         "0",
         "1",
         "0",
         "1",
         "1",
         "181",
         "14",
         "216"
        ],
        [
         "36",
         "CLAYE103",
         "14",
         "0",
         "0",
         "10",
         "0",
         "42",
         "1",
         "2",
         "0",
         "5",
         "3",
         "415",
         "24",
         "468"
        ],
        [
         "37",
         "CLAYE104",
         "3",
         "0",
         "0",
         "3",
         "0",
         "17",
         "0",
         "0",
         "0",
         "0",
         "1",
         "84",
         "6",
         "102"
        ],
        [
         "38",
         "CLAYF101",
         "6",
         "0",
         "0",
         "7",
         "0",
         "30",
         "0",
         "2",
         "0",
         "1",
         "6",
         "371",
         "13",
         "410"
        ],
        [
         "39",
         "CLAYF102",
         "7",
         "0",
         "0",
         "9",
         "0",
         "38",
         "0",
         "0",
         "0",
         "2",
         "6",
         "395",
         "16",
         "441"
        ],
        [
         "40",
         "CLAYF104",
         "7",
         "1",
         "0",
         "10",
         "0",
         "47",
         "1",
         "0",
         "0",
         "1",
         "2",
         "349",
         "18",
         "400"
        ],
        [
         "41",
         "CLINTONA101",
         "14",
         "0",
         "0",
         "4",
         "0",
         "48",
         "0",
         "0",
         "0",
         "3",
         "3",
         "235",
         "18",
         "289"
        ],
        [
         "42",
         "CLINTONA104",
         "9",
         "0",
         "1",
         "8",
         "0",
         "42",
         "1",
         "0",
         "0",
         "1",
         "7",
         "218",
         "18",
         "269"
        ],
        [
         "43",
         "CLINTONB101",
         "8",
         "0",
         "0",
         "12",
         "0",
         "53",
         "0",
         "2",
         "0",
         "2",
         "3",
         "275",
         "20",
         "335"
        ],
        [
         "44",
         "CLINTONB102",
         "3",
         "0",
         "0",
         "5",
         "0",
         "29",
         "0",
         "1",
         "0",
         "0",
         "5",
         "247",
         "8",
         "282"
        ],
        [
         "45",
         "CLINTONC101",
         "18",
         "0",
         "1",
         "10",
         "0",
         "33",
         "0",
         "1",
         "0",
         "0",
         "6",
         "282",
         "29",
         "322"
        ],
        [
         "46",
         "CLINTONC102",
         "8",
         "0",
         "0",
         "12",
         "0",
         "26",
         "0",
         "0",
         "0",
         "0",
         "7",
         "173",
         "20",
         "206"
        ],
        [
         "47",
         "CLINTONC103",
         "16",
         "1",
         "1",
         "10",
         "0",
         "28",
         "0",
         "0",
         "0",
         "3",
         "2",
         "279",
         "28",
         "312"
        ],
        [
         "48",
         "CLINTOND101",
         "7",
         "0",
         "0",
         "5",
         "0",
         "35",
         "0",
         "2",
         "0",
         "2",
         "5",
         "232",
         "12",
         "276"
        ],
        [
         "49",
         "CLINTOND102",
         "5",
         "1",
         "0",
         "3",
         "0",
         "25",
         "1",
         "3",
         "0",
         "3",
         "3",
         "359",
         "9",
         "394"
        ]
       ],
       "shape": {
        "columns": 15,
        "rows": 371
       }
      },
      "text/html": [
       "<div>\n",
       "<style scoped>\n",
       "    .dataframe tbody tr th:only-of-type {\n",
       "        vertical-align: middle;\n",
       "    }\n",
       "\n",
       "    .dataframe tbody tr th {\n",
       "        vertical-align: top;\n",
       "    }\n",
       "\n",
       "    .dataframe thead th {\n",
       "        text-align: right;\n",
       "    }\n",
       "</style>\n",
       "<table border=\"1\" class=\"dataframe\">\n",
       "  <thead>\n",
       "    <tr style=\"text-align: right;\">\n",
       "      <th>candidate_column</th>\n",
       "      <th>precinct</th>\n",
       "      <th>pri_dem_CLINTON</th>\n",
       "      <th>pri_dem_FUENTE</th>\n",
       "      <th>pri_dem_O'MAILEY</th>\n",
       "      <th>pri_dem_SANDERS</th>\n",
       "      <th>gen_con_CASTLE</th>\n",
       "      <th>gen_dem_CLINTON</th>\n",
       "      <th>gen_dem_FUENTE</th>\n",
       "      <th>gen_grn_STEIN</th>\n",
       "      <th>gen_ind_HOEFLING</th>\n",
       "      <th>gen_ind_MCMULLIN</th>\n",
       "      <th>gen_lib_JOHNSON</th>\n",
       "      <th>gen_rep_TRUMP</th>\n",
       "      <th>dem_primary_total</th>\n",
       "      <th>general_total</th>\n",
       "    </tr>\n",
       "  </thead>\n",
       "  <tbody>\n",
       "    <tr>\n",
       "      <th>0</th>\n",
       "      <td>BREATHITTA101</td>\n",
       "      <td>29</td>\n",
       "      <td>1</td>\n",
       "      <td>0</td>\n",
       "      <td>31</td>\n",
       "      <td>0</td>\n",
       "      <td>31</td>\n",
       "      <td>0</td>\n",
       "      <td>0</td>\n",
       "      <td>0</td>\n",
       "      <td>0</td>\n",
       "      <td>1</td>\n",
       "      <td>83</td>\n",
       "      <td>61</td>\n",
       "      <td>115</td>\n",
       "    </tr>\n",
       "    <tr>\n",
       "      <th>1</th>\n",
       "      <td>BREATHITTA102</td>\n",
       "      <td>49</td>\n",
       "      <td>3</td>\n",
       "      <td>4</td>\n",
       "      <td>98</td>\n",
       "      <td>0</td>\n",
       "      <td>58</td>\n",
       "      <td>0</td>\n",
       "      <td>2</td>\n",
       "      <td>0</td>\n",
       "      <td>1</td>\n",
       "      <td>6</td>\n",
       "      <td>257</td>\n",
       "      <td>154</td>\n",
       "      <td>324</td>\n",
       "    </tr>\n",
       "    <tr>\n",
       "      <th>2</th>\n",
       "      <td>BREATHITTA103</td>\n",
       "      <td>90</td>\n",
       "      <td>4</td>\n",
       "      <td>6</td>\n",
       "      <td>159</td>\n",
       "      <td>0</td>\n",
       "      <td>102</td>\n",
       "      <td>2</td>\n",
       "      <td>2</td>\n",
       "      <td>0</td>\n",
       "      <td>3</td>\n",
       "      <td>9</td>\n",
       "      <td>407</td>\n",
       "      <td>259</td>\n",
       "      <td>525</td>\n",
       "    </tr>\n",
       "    <tr>\n",
       "      <th>3</th>\n",
       "      <td>BREATHITTA104</td>\n",
       "      <td>71</td>\n",
       "      <td>1</td>\n",
       "      <td>5</td>\n",
       "      <td>109</td>\n",
       "      <td>0</td>\n",
       "      <td>90</td>\n",
       "      <td>1</td>\n",
       "      <td>3</td>\n",
       "      <td>0</td>\n",
       "      <td>6</td>\n",
       "      <td>7</td>\n",
       "      <td>208</td>\n",
       "      <td>186</td>\n",
       "      <td>315</td>\n",
       "    </tr>\n",
       "    <tr>\n",
       "      <th>4</th>\n",
       "      <td>BREATHITTA105</td>\n",
       "      <td>57</td>\n",
       "      <td>3</td>\n",
       "      <td>5</td>\n",
       "      <td>63</td>\n",
       "      <td>0</td>\n",
       "      <td>64</td>\n",
       "      <td>0</td>\n",
       "      <td>1</td>\n",
       "      <td>0</td>\n",
       "      <td>1</td>\n",
       "      <td>3</td>\n",
       "      <td>159</td>\n",
       "      <td>128</td>\n",
       "      <td>228</td>\n",
       "    </tr>\n",
       "    <tr>\n",
       "      <th>...</th>\n",
       "      <td>...</td>\n",
       "      <td>...</td>\n",
       "      <td>...</td>\n",
       "      <td>...</td>\n",
       "      <td>...</td>\n",
       "      <td>...</td>\n",
       "      <td>...</td>\n",
       "      <td>...</td>\n",
       "      <td>...</td>\n",
       "      <td>...</td>\n",
       "      <td>...</td>\n",
       "      <td>...</td>\n",
       "      <td>...</td>\n",
       "      <td>...</td>\n",
       "      <td>...</td>\n",
       "    </tr>\n",
       "    <tr>\n",
       "      <th>366</th>\n",
       "      <td>ROCKCASTLEE101</td>\n",
       "      <td>22</td>\n",
       "      <td>0</td>\n",
       "      <td>0</td>\n",
       "      <td>15</td>\n",
       "      <td>0</td>\n",
       "      <td>60</td>\n",
       "      <td>0</td>\n",
       "      <td>0</td>\n",
       "      <td>0</td>\n",
       "      <td>5</td>\n",
       "      <td>5</td>\n",
       "      <td>334</td>\n",
       "      <td>37</td>\n",
       "      <td>404</td>\n",
       "    </tr>\n",
       "    <tr>\n",
       "      <th>367</th>\n",
       "      <td>ROCKCASTLEE102</td>\n",
       "      <td>10</td>\n",
       "      <td>0</td>\n",
       "      <td>0</td>\n",
       "      <td>5</td>\n",
       "      <td>0</td>\n",
       "      <td>38</td>\n",
       "      <td>0</td>\n",
       "      <td>0</td>\n",
       "      <td>0</td>\n",
       "      <td>7</td>\n",
       "      <td>1</td>\n",
       "      <td>303</td>\n",
       "      <td>15</td>\n",
       "      <td>349</td>\n",
       "    </tr>\n",
       "    <tr>\n",
       "      <th>368</th>\n",
       "      <td>ROCKCASTLEE103</td>\n",
       "      <td>14</td>\n",
       "      <td>0</td>\n",
       "      <td>0</td>\n",
       "      <td>4</td>\n",
       "      <td>0</td>\n",
       "      <td>27</td>\n",
       "      <td>0</td>\n",
       "      <td>2</td>\n",
       "      <td>0</td>\n",
       "      <td>1</td>\n",
       "      <td>0</td>\n",
       "      <td>224</td>\n",
       "      <td>18</td>\n",
       "      <td>254</td>\n",
       "    </tr>\n",
       "    <tr>\n",
       "      <th>369</th>\n",
       "      <td>ROCKCASTLEE104</td>\n",
       "      <td>3</td>\n",
       "      <td>0</td>\n",
       "      <td>0</td>\n",
       "      <td>8</td>\n",
       "      <td>0</td>\n",
       "      <td>16</td>\n",
       "      <td>0</td>\n",
       "      <td>0</td>\n",
       "      <td>0</td>\n",
       "      <td>0</td>\n",
       "      <td>1</td>\n",
       "      <td>61</td>\n",
       "      <td>11</td>\n",
       "      <td>78</td>\n",
       "    </tr>\n",
       "    <tr>\n",
       "      <th>370</th>\n",
       "      <td>ROCKCASTLEE105</td>\n",
       "      <td>7</td>\n",
       "      <td>0</td>\n",
       "      <td>0</td>\n",
       "      <td>12</td>\n",
       "      <td>0</td>\n",
       "      <td>29</td>\n",
       "      <td>0</td>\n",
       "      <td>0</td>\n",
       "      <td>0</td>\n",
       "      <td>1</td>\n",
       "      <td>0</td>\n",
       "      <td>123</td>\n",
       "      <td>19</td>\n",
       "      <td>153</td>\n",
       "    </tr>\n",
       "  </tbody>\n",
       "</table>\n",
       "<p>371 rows × 15 columns</p>\n",
       "</div>"
      ],
      "text/plain": [
       "candidate_column        precinct  pri_dem_CLINTON  pri_dem_FUENTE  \\\n",
       "0                  BREATHITTA101               29               1   \n",
       "1                  BREATHITTA102               49               3   \n",
       "2                  BREATHITTA103               90               4   \n",
       "3                  BREATHITTA104               71               1   \n",
       "4                  BREATHITTA105               57               3   \n",
       "..                           ...              ...             ...   \n",
       "366               ROCKCASTLEE101               22               0   \n",
       "367               ROCKCASTLEE102               10               0   \n",
       "368               ROCKCASTLEE103               14               0   \n",
       "369               ROCKCASTLEE104                3               0   \n",
       "370               ROCKCASTLEE105                7               0   \n",
       "\n",
       "candidate_column  pri_dem_O'MAILEY  pri_dem_SANDERS  gen_con_CASTLE  \\\n",
       "0                                0               31               0   \n",
       "1                                4               98               0   \n",
       "2                                6              159               0   \n",
       "3                                5              109               0   \n",
       "4                                5               63               0   \n",
       "..                             ...              ...             ...   \n",
       "366                              0               15               0   \n",
       "367                              0                5               0   \n",
       "368                              0                4               0   \n",
       "369                              0                8               0   \n",
       "370                              0               12               0   \n",
       "\n",
       "candidate_column  gen_dem_CLINTON  gen_dem_FUENTE  gen_grn_STEIN  \\\n",
       "0                              31               0              0   \n",
       "1                              58               0              2   \n",
       "2                             102               2              2   \n",
       "3                              90               1              3   \n",
       "4                              64               0              1   \n",
       "..                            ...             ...            ...   \n",
       "366                            60               0              0   \n",
       "367                            38               0              0   \n",
       "368                            27               0              2   \n",
       "369                            16               0              0   \n",
       "370                            29               0              0   \n",
       "\n",
       "candidate_column  gen_ind_HOEFLING  gen_ind_MCMULLIN  gen_lib_JOHNSON  \\\n",
       "0                                0                 0                1   \n",
       "1                                0                 1                6   \n",
       "2                                0                 3                9   \n",
       "3                                0                 6                7   \n",
       "4                                0                 1                3   \n",
       "..                             ...               ...              ...   \n",
       "366                              0                 5                5   \n",
       "367                              0                 7                1   \n",
       "368                              0                 1                0   \n",
       "369                              0                 0                1   \n",
       "370                              0                 1                0   \n",
       "\n",
       "candidate_column  gen_rep_TRUMP  dem_primary_total  general_total  \n",
       "0                            83                 61            115  \n",
       "1                           257                154            324  \n",
       "2                           407                259            525  \n",
       "3                           208                186            315  \n",
       "4                           159                128            228  \n",
       "..                          ...                ...            ...  \n",
       "366                         334                 37            404  \n",
       "367                         303                 15            349  \n",
       "368                         224                 18            254  \n",
       "369                          61                 11             78  \n",
       "370                         123                 19            153  \n",
       "\n",
       "[371 rows x 15 columns]"
      ]
     },
     "execution_count": 58,
     "metadata": {},
     "output_type": "execute_result"
    }
   ],
   "source": [
    "# Merge\n",
    "combined = pd.merge(primary_result, general_result, on=\"precinct\", how=\"inner\")\n",
    "\n",
    "# Convert DEM primary columns to numeric and calculate total\n",
    "dem_cols = combined.filter(like=\"pri_dem_\").columns\n",
    "combined[dem_cols] = combined[dem_cols].apply(pd.to_numeric, errors=\"coerce\")\n",
    "combined[\"dem_primary_total\"] = combined[dem_cols].sum(axis=1)\n",
    "\n",
    "# Convert general election columns to numeric and calculate total\n",
    "gen_cols = combined.filter(like=\"gen_\").columns\n",
    "combined[gen_cols] = combined[gen_cols].apply(pd.to_numeric, errors=\"coerce\")\n",
    "combined[\"general_total\"] = combined[gen_cols].sum(axis=1)\n",
    "\n",
    "# Convert all numeric columns to int\n",
    "for col in combined.columns[1:]:\n",
    "    combined[col] = pd.to_numeric(combined[col], errors='coerce').fillna(0).astype(int)\n",
    "\n",
    "# Identify filtered-out precincts\n",
    "primary_precincts = set(primary_result[\"precinct\"])\n",
    "general_precincts = set(general_result[\"precinct\"])\n",
    "combined_precincts = set(combined[\"precinct\"])\n",
    "\n",
    "primary_filtered_out = primary_precincts - combined_precincts\n",
    "general_filtered_out = general_precincts - combined_precincts\n",
    "\n",
    "combined\n"
   ]
  },
  {
   "cell_type": "code",
   "execution_count": 59,
   "id": "a6797e92",
   "metadata": {},
   "outputs": [],
   "source": [
    "combined.to_csv(\"KY.csv\", index=False)\n",
    "# Step 3: Identify unmatched precincts and retrieve full rows\n",
    "combined_precincts = set(combined[\"precinct\"])\n",
    "\n",
    "# Rows in primary_result but not in combined\n",
    "primary_filtered_out = primary_result[~primary_result[\"precinct\"].isin(combined_precincts)]\n",
    "primary_filtered_out.to_csv(\"KY_primary_filtered.csv\", index=False)\n",
    "\n",
    "# Rows in general_result but not in combined\n",
    "general_filtered_out = general_result[~general_result[\"precinct\"].isin(combined_precincts)]\n",
    "general_filtered_out.to_csv(\"KY_general_filtered.csv\", index=False)"
   ]
  },
  {
   "cell_type": "code",
   "execution_count": 60,
   "id": "b3d042ff",
   "metadata": {},
   "outputs": [
    {
     "name": "stdout",
     "output_type": "stream",
     "text": [
      "primary: 379, general: 3950, combined: 371\n"
     ]
    }
   ],
   "source": [
    "print(f\"primary: {len(primary_precincts)}, general: {len(general_precincts)}, combined: {len(combined)}\")"
   ]
  },
  {
   "cell_type": "code",
   "execution_count": 61,
   "id": "9900725d",
   "metadata": {},
   "outputs": [
    {
     "name": "stdout",
     "output_type": "stream",
     "text": [
      "primary: 18, general: 120\n"
     ]
    }
   ],
   "source": [
    "print(f\"primary: {len(pri_combined_df['county'].unique())}, general: {len(gen_combined_df['county'].unique())}\")\n"
   ]
  },
  {
   "cell_type": "code",
   "execution_count": 62,
   "id": "b12d639e",
   "metadata": {},
   "outputs": [
    {
     "data": {
      "text/plain": [
       "array(['BREATHITTA101', 'BREATHITTA102', 'BREATHITTA103', 'BREATHITTA104',\n",
       "       'BREATHITTA105', 'BREATHITTB101', 'BREATHITTB102', 'BREATHITTB103',\n",
       "       'BREATHITTB104', 'BREATHITTB105', 'BREATHITTC101', 'BREATHITTC102',\n",
       "       'BREATHITTC103', 'BREATHITTC104', 'BREATHITTC105', 'BREATHITTD101',\n",
       "       'BREATHITTD102', 'BREATHITTD103', 'BREATHITTD104', 'BREATHITTD105',\n",
       "       'BREATHITTD106', 'CLAYA101', 'CLAYA106', 'CLAYA107', 'CLAYB101',\n",
       "       'CLAYB103', 'CLAYB104', 'CLAYC101', 'CLAYC102', 'CLAYC103',\n",
       "       'CLAYC104', 'CLAYD102', 'CLAYD103', 'CLAYD104', 'CLAYE101',\n",
       "       'CLAYE102', 'CLAYE103', 'CLAYE104', 'CLAYF101', 'CLAYF102',\n",
       "       'CLAYF104', 'CLINTONA101', 'CLINTONA104', 'CLINTONB101',\n",
       "       'CLINTONB102', 'CLINTONC101', 'CLINTONC102', 'CLINTONC103',\n",
       "       'CLINTOND101', 'CLINTOND102', 'CLINTONE101', 'CLINTONE102',\n",
       "       'CLINTONF101', 'CLINTONF102', 'ELLIOTTA101', 'ELLIOTTB101',\n",
       "       'ELLIOTTC101', 'ELLIOTTD101', 'ELLIOTTE101', 'ELLIOTTF101',\n",
       "       'ELLIOTTG101', 'FLOYDA101', 'FLOYDA102', 'FLOYDA103', 'FLOYDA104',\n",
       "       'FLOYDA105', 'FLOYDA106', 'FLOYDA107', 'FLOYDA109', 'FLOYDA110',\n",
       "       'FLOYDA111', 'FLOYDA113', 'FLOYDA116', 'FLOYDB101', 'FLOYDB102',\n",
       "       'FLOYDB103', 'FLOYDB104', 'FLOYDB105', 'FLOYDB106', 'FLOYDB108',\n",
       "       'FLOYDB109', 'FLOYDB112', 'FLOYDC101', 'FLOYDC102', 'FLOYDC103',\n",
       "       'FLOYDC104', 'FLOYDC105', 'FLOYDC106', 'FLOYDC107', 'FLOYDC108',\n",
       "       'FLOYDC109', 'FLOYDC110', 'FLOYDC111', 'FLOYDD101', 'FLOYDD102',\n",
       "       'FLOYDD103', 'FLOYDD104', 'FLOYDD105', 'FLOYDD106', 'FLOYDD107',\n",
       "       'FLOYDD108', 'FLOYDD109', 'FLOYDD110', 'JACKSONA101',\n",
       "       'JACKSONA102', 'JACKSONA103', 'JACKSONA104', 'JACKSONA105',\n",
       "       'JACKSONA106', 'JACKSONB101', 'JACKSONB102', 'JACKSONB103',\n",
       "       'JACKSONB104', 'JACKSONC101', 'JACKSONC102', 'JACKSONC103',\n",
       "       'JACKSONC104', 'JOHNSONUPPER WARD', 'JOHNSONMIDDLE WARD',\n",
       "       'JOHNSONLOWER WARD', 'JOHNSONBRIDGEFORD', 'JOHNSONSTAFFORDSVILLE',\n",
       "       'JOHNSONHAGER HILL', 'JOHNSONSOUTHSIDE', 'JOHNSONKING ADDITION',\n",
       "       'JOHNSONEAST POINT', 'JOHNSONMUDDY BRANCH', 'JOHNSONWEST VAN LEAR',\n",
       "       'JOHNSONDANIELS CREEK', 'JOHNSONPOWELL ADDITION', 'JOHNSONMINGO',\n",
       "       'JOHNSONVAN LEAR', 'JOHNSONBUFFALO', 'JOHNSONGREASY CREEK',\n",
       "       'JOHNSONWHITEHOUSE', 'JOHNSONTHELMA', 'JOHNSONMOUTH OF RUSH',\n",
       "       'JOHNSONOIL SPRINGS', 'JOHNSONBARNETTS CREEK', 'JOHNSONFLAT GAP',\n",
       "       'JOHNSONVOLGA', 'JOHNSONLOW GAP', 'JOHNSONRED BUSH',\n",
       "       'JOHNSONJENNYS CREEK', 'JOHNSONLITTLE GAP', 'JOHNSONSTAMBAUGH',\n",
       "       'JOHNSONSITKA', 'JOHNSONSYCAMORE', 'KNOTTA101', 'KNOTTA103',\n",
       "       'KNOTTA104', 'KNOTTA105', 'KNOTTA106', 'KNOTTA108', 'KNOTTB101',\n",
       "       'KNOTTB102', 'KNOTTB103', 'KNOTTB104', 'KNOTTB105', 'KNOTTB106',\n",
       "       'KNOTTB107', 'KNOTTC101', 'KNOTTC102', 'KNOTTC103', 'KNOTTC104',\n",
       "       'KNOTTC105', 'KNOTTC106', 'KNOTTC107', 'KNOTTC108', 'KNOTTC109',\n",
       "       'KNOTTC110', 'KNOTTC111', 'KNOTTC112', 'KNOTTD102', 'KNOTTD103',\n",
       "       'KNOTTD104', 'KNOTTD105', 'KNOTTD107', 'KNOXA101', 'KNOXA102',\n",
       "       'KNOXA103', 'KNOXA104', 'KNOXA105', 'KNOXA106', 'KNOXB101',\n",
       "       'KNOXB102', 'KNOXB103', 'KNOXB104', 'KNOXB105', 'KNOXB106',\n",
       "       'KNOXB107', 'KNOXB108', 'KNOXC101', 'KNOXC102', 'KNOXC103',\n",
       "       'KNOXC104', 'KNOXC105', 'KNOXD101', 'KNOXD102', 'KNOXD103',\n",
       "       'KNOXD104', 'KNOXD105', 'KNOXE101', 'KNOXE102', 'KNOXE103',\n",
       "       'KNOXE104', 'KNOXE105', 'KNOXE106', 'LAURELA101', 'LAURELA102',\n",
       "       'LAURELA103', 'LAURELA104', 'LAURELA105', 'LAURELA106',\n",
       "       'LAURELA107', 'LAURELA108', 'LAURELB101', 'LAURELB102',\n",
       "       'LAURELB103', 'LAURELB104', 'LAURELB105', 'LAURELB106',\n",
       "       'LAURELC101', 'LAURELC102', 'LAURELC103', 'LAURELC104',\n",
       "       'LAURELC105', 'LAURELC106', 'LAURELC108', 'LAURELC109',\n",
       "       'LAURELC110', 'LAURELD101', 'LAURELD102', 'LAURELD103',\n",
       "       'LAURELD104', 'LAURELD105', 'LAURELD106', 'LAURELD107',\n",
       "       'LAURELD108', 'LAURELE101', 'LAURELE103', 'LAURELE104',\n",
       "       'LAURELE105', 'LAURELE106', 'LAURELE107', 'LAURELE108',\n",
       "       'LAURELF101', 'LAURELF102', 'LAURELF103', 'LAURELF104',\n",
       "       'LAURELF105', 'LAURELF106', 'LAURELF107', 'LESLIEA101',\n",
       "       'LESLIEA102', 'LESLIEA103', 'LESLIEA104', 'LESLIEA105',\n",
       "       'LESLIEB101', 'LESLIEB102', 'LESLIEB103', 'LESLIEB104',\n",
       "       'LESLIEC101', 'LESLIEC102', 'LESLIEC103', 'LESLIED101',\n",
       "       'LESLIED102', 'LESLIED103', 'LESLIED104', 'LESLIED105',\n",
       "       'LETCHERA101', 'LETCHERA102', 'LETCHERA103', 'LETCHERA104',\n",
       "       'LETCHERA105', 'LETCHERA106', 'LETCHERA107', 'LETCHERA108',\n",
       "       'LETCHERB101', 'LETCHERB102', 'LETCHERB103', 'LETCHERC101',\n",
       "       'LETCHERC102', 'LETCHERC103', 'LETCHERC104', 'LETCHERC105',\n",
       "       'LETCHERC106', 'LETCHERC107', 'LETCHERD102', 'LETCHERD103',\n",
       "       'LETCHERD104', 'LETCHERD105', 'LETCHERD106', 'LETCHERD107',\n",
       "       'LETCHERE101', 'LETCHERE102', 'LETCHERE103', 'LETCHERE104',\n",
       "       'LETCHERE105', 'LETCHERE106', 'LINCOLNA101', 'LINCOLNA102',\n",
       "       'LINCOLNA103', 'LINCOLNA104', 'LINCOLNB101', 'LINCOLNB102',\n",
       "       'LINCOLNB103', 'LINCOLNB104', 'LINCOLNC101', 'LINCOLNC102',\n",
       "       'LINCOLNC103', 'LINCOLNC104', 'LINCOLND101', 'LINCOLND102',\n",
       "       'LINCOLND103', 'LINCOLND105', 'LINCOLND106', 'MAGOFFINA101',\n",
       "       'MAGOFFINA102', 'MAGOFFINA103', 'MAGOFFINA104', 'MAGOFFINB101',\n",
       "       'MAGOFFINB102', 'MAGOFFINB103', 'MAGOFFINB104', 'MAGOFFINB105',\n",
       "       'MAGOFFINC101', 'MAGOFFINC102', 'MAGOFFINC103', 'MAGOFFINC104',\n",
       "       'MAGOFFINC105', 'MARTINA101', 'MARTINA102', 'MARTINA103',\n",
       "       'MARTINB101', 'MARTINB102', 'MARTINB103', 'MARTINC101',\n",
       "       'MARTINC102', 'MARTIND101', 'MARTIND102', 'MARTIND103',\n",
       "       'MARTIND104', 'MARTINE101', 'MARTINE102', 'MENIFEEA101',\n",
       "       'MENIFEEA102', 'MENIFEEB101', 'MENIFEEC101', 'MENIFEED101',\n",
       "       'MENIFEEE101', 'PENDLETONA101', 'PENDLETONA102', 'PENDLETONA103',\n",
       "       'PENDLETONB101', 'PENDLETONB102', 'PENDLETONB103', 'PENDLETONC101',\n",
       "       'PENDLETONC102', 'PENDLETONC103', 'PENDLETOND101', 'PENDLETOND102',\n",
       "       'PENDLETOND103', 'ROCKCASTLEA101', 'ROCKCASTLEA102',\n",
       "       'ROCKCASTLEB101', 'ROCKCASTLEB102', 'ROCKCASTLEC101',\n",
       "       'ROCKCASTLEC102', 'ROCKCASTLEC103', 'ROCKCASTLED101',\n",
       "       'ROCKCASTLED102', 'ROCKCASTLED103', 'ROCKCASTLEE101',\n",
       "       'ROCKCASTLEE102', 'ROCKCASTLEE103', 'ROCKCASTLEE104',\n",
       "       'ROCKCASTLEE105', 'ROCKCASTLEABSE'], dtype=object)"
      ]
     },
     "execution_count": 62,
     "metadata": {},
     "output_type": "execute_result"
    }
   ],
   "source": [
    "pri_combined_df['precinct'].unique()"
   ]
  },
  {
   "cell_type": "code",
   "execution_count": 63,
   "id": "0fb1a12f",
   "metadata": {},
   "outputs": [
    {
     "data": {
      "text/plain": [
       "array(['ADAIRA102', 'ADAIRA104', 'ADAIRA105', ..., 'HARTCUB RUN',\n",
       "       'HARTTOTAL', 'HARTPRICEVILLE'], dtype=object)"
      ]
     },
     "execution_count": 63,
     "metadata": {},
     "output_type": "execute_result"
    }
   ],
   "source": [
    "gen_combined_df['precinct'].unique()"
   ]
  },
  {
   "cell_type": "code",
   "execution_count": 64,
   "id": "b28d499d",
   "metadata": {},
   "outputs": [
    {
     "name": "stdout",
     "output_type": "stream",
     "text": [
      "Counties in primary but not in general: 8\n",
      "{'ELLIOTTF101', 'ELLIOTTC101', 'ELLIOTTA101', 'ELLIOTTB101', 'ELLIOTTG101', 'ELLIOTTE101', 'ROCKCASTLEABSE', 'ELLIOTTD101'}\n"
     ]
    }
   ],
   "source": [
    "primary_counties = set(pri_combined_df['precinct'].dropna().str.strip().str.upper())\n",
    "general_counties = set(gen_combined_df['precinct'].dropna().str.strip().str.upper())\n",
    "\n",
    "diff = primary_counties - general_counties\n",
    "print(f\"Counties in primary but not in general: {len(diff)}\")\n",
    "print(diff)\n"
   ]
  }
 ],
 "metadata": {
  "kernelspec": {
   "display_name": "Python 3",
   "language": "python",
   "name": "python3"
  },
  "language_info": {
   "codemirror_mode": {
    "name": "ipython",
    "version": 3
   },
   "file_extension": ".py",
   "mimetype": "text/x-python",
   "name": "python",
   "nbconvert_exporter": "python",
   "pygments_lexer": "ipython3",
   "version": "3.11.2"
  }
 },
 "nbformat": 4,
 "nbformat_minor": 5
}
