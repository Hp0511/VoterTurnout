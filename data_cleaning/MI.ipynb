{
 "cells": [
  {
   "cell_type": "code",
   "execution_count": 1,
   "id": "ad1be0fa",
   "metadata": {},
   "outputs": [],
   "source": [
    "# Import all the libraries\n",
    "import pandas as pd\n",
    "import glob\n",
    "import os\n",
    "import re\n",
    "from pprint import pprint"
   ]
  },
  {
   "cell_type": "code",
   "execution_count": 2,
   "id": "c263c4df",
   "metadata": {},
   "outputs": [],
   "source": [
    "#Get all CSV files in the folder of GA\n",
    "all_files = glob.glob(r\"C:\\Huy Phan\\College\\VoterTurnout\\data\\MI\\*.csv\")\n",
    "\n",
    "# Files that contain both 'precinct' and 'general' in the filename\n",
    "general_files = [\n",
    "    f for f in all_files\n",
    "    if all(word in f.lower() for word in ['precinct', 'general'])\n",
    "]\n",
    "\n",
    "\n",
    "# Files that contain both 'precinct' and 'primary' in the filename\n",
    "primary_files = [\n",
    "    f for f in all_files\n",
    "    if all(word in f.lower() for word in ['precinct', 'primary'])\n",
    "]\n"
   ]
  },
  {
   "cell_type": "code",
   "execution_count": 3,
   "id": "60d49ea6",
   "metadata": {},
   "outputs": [
    {
     "name": "stdout",
     "output_type": "stream",
     "text": [
      "General files:\n",
      "C:\\Huy Phan\\College\\VoterTurnout\\data\\MI\\20161108__mi__general__precinct.csv\n",
      "C:\\Huy Phan\\College\\VoterTurnout\\data\\MI\\20161108__mi__special__general__precinct.csv\n"
     ]
    }
   ],
   "source": [
    "print(\"General files:\")\n",
    "for f in general_files:\n",
    "    print(f)\n"
   ]
  },
  {
   "cell_type": "code",
   "execution_count": 4,
   "id": "4ab13110",
   "metadata": {},
   "outputs": [
    {
     "name": "stdout",
     "output_type": "stream",
     "text": [
      "\n",
      "Primary files:\n",
      "C:\\Huy Phan\\College\\VoterTurnout\\data\\MI\\20160308__mi__primary__president__precinct.csv\n"
     ]
    }
   ],
   "source": [
    "print(\"\\nPrimary files:\")\n",
    "for f in primary_files:\n",
    "    print(f)"
   ]
  },
  {
   "cell_type": "code",
   "execution_count": 5,
   "id": "ff5df6c7",
   "metadata": {},
   "outputs": [],
   "source": [
    "# Process primary files\n",
    "primary_df_list = []\n",
    "\n",
    "for file in primary_files:\n",
    "    try:\n",
    "        df = pd.read_csv(file)\n",
    "        \n",
    "        # Combine precinct as county + precinct\n",
    "        df[\"precinct\"] = df[\"county\"].astype(str) + df[\"precinct\"].astype(str)\n",
    "        df[\"precinct\"] = df[\"precinct\"].str.upper()\n",
    "\n",
    "        # Cleaning maybe total precinct\n",
    "        if 'precinct' in df.columns:\n",
    "            df['precinct'] = df['precinct'].astype(str)                  \n",
    "            df = df[df['precinct'].str.upper() != \"TOTAL\"]               \n",
    "            df = df[df['precinct'].str.strip().str.upper() != \"TOTAL\"]   \n",
    "            df = df[df['precinct'].str.upper() != \"NAN\"]       \n",
    "            df = df[~df['precinct'].str.upper().str.contains(r\"\\w*TOTAL\\w*\", na=False)] \n",
    "\n",
    "        if 'county' in df.columns:\n",
    "            df['county'] = df['county'].astype(str)                  \n",
    "            df = df[df['county'].str.upper() != \"TOTAL\"]               \n",
    "            df = df[df['county'].str.strip().str.upper() != \"TOTAL\"]   \n",
    "            df = df[df['county'].str.upper() != \"NAN\"]       \n",
    "            df = df[~df['county'].str.upper().str.contains(r\"\\w*TOTAL\\w*\", na=False)]     \n",
    "        \n",
    "        # Filtering out only President \n",
    "        if 'office' in df.columns:\n",
    "            df = df[df[\"office\"] == \"President\"]\n",
    "        \n",
    "        # Dropping duplicates value\n",
    "        df = df.drop_duplicates()\n",
    "        \n",
    "        primary_df_list.append(df)\n",
    "\n",
    "    except Exception as e:\n",
    "        print(f\"Error in {file}: {e}\")\n",
    "\n",
    "# Combine all cleaned files\n",
    "pri_combined_df = pd.concat(primary_df_list, ignore_index=True)\n",
    "\n",
    "\n",
    "# Checking any suspicious precinct\n",
    "suspicious_precincts = pri_combined_df[\n",
    "    pri_combined_df[\"precinct\"].str.strip().str.upper().isin([\"TOTAL\", \"NAN\"])\n",
    "]\n"
   ]
  },
  {
   "cell_type": "code",
   "execution_count": 6,
   "id": "f0e1e913",
   "metadata": {},
   "outputs": [
    {
     "data": {
      "application/vnd.microsoft.datawrangler.viewer.v0+json": {
       "columns": [
        {
         "name": "index",
         "rawType": "int64",
         "type": "integer"
        },
        {
         "name": "precinct",
         "rawType": "object",
         "type": "string"
        },
        {
         "name": "party",
         "rawType": "object",
         "type": "string"
        },
        {
         "name": "candidate",
         "rawType": "object",
         "type": "string"
        },
        {
         "name": "votes",
         "rawType": "object",
         "type": "unknown"
        }
       ],
       "ref": "b234f1c7-cff5-447a-9847-13fc3e0b7605",
       "rows": [
        [
         "0",
         "ALCONAALCONA TOWNSHIP 1",
         "REP",
         "Jeb Bush",
         "3"
        ],
        [
         "1",
         "ALCONACALEDONIA TOWNSHIP 1",
         "REP",
         "Jeb Bush",
         "0"
        ],
        [
         "2",
         "ALCONACURTIS TOWNSHIP 1",
         "REP",
         "Jeb Bush",
         "3"
        ],
        [
         "3",
         "ALCONAGREENBUSH TOWNSHIP 1",
         "REP",
         "Jeb Bush",
         "1"
        ],
        [
         "4",
         "ALCONAGUSTIN TOWNSHIP 1",
         "REP",
         "Jeb Bush",
         "0"
        ],
        [
         "5",
         "ALCONAHARRISVILLE TOWNSHIP 1",
         "REP",
         "Jeb Bush",
         "0"
        ],
        [
         "6",
         "ALCONAHAWES TOWNSHIP 1",
         "REP",
         "Jeb Bush",
         "1"
        ],
        [
         "7",
         "ALCONAHAYNES TOWNSHIP 1",
         "REP",
         "Jeb Bush",
         "0"
        ],
        [
         "8",
         "ALCONAMIKADO TOWNSHIP 1",
         "REP",
         "Jeb Bush",
         "3"
        ],
        [
         "9",
         "ALCONAMILLEN TOWNSHIP 1",
         "REP",
         "Jeb Bush",
         "1"
        ],
        [
         "10",
         "ALCONAMITCHELL TOWNSHIP 1",
         "REP",
         "Jeb Bush",
         "0"
        ],
        [
         "11",
         "ALCONAHARRISVILLE CITY 1 WARD 1",
         "REP",
         "Jeb Bush",
         "1"
        ],
        [
         "12",
         "ALCONAALCONA TOWNSHIP 1",
         "REP",
         "Ben Carson",
         "4"
        ],
        [
         "13",
         "ALCONACALEDONIA TOWNSHIP 1",
         "REP",
         "Ben Carson",
         "1"
        ],
        [
         "14",
         "ALCONACURTIS TOWNSHIP 1",
         "REP",
         "Ben Carson",
         "5"
        ],
        [
         "15",
         "ALCONAGREENBUSH TOWNSHIP 1",
         "REP",
         "Ben Carson",
         "5"
        ],
        [
         "16",
         "ALCONAGUSTIN TOWNSHIP 1",
         "REP",
         "Ben Carson",
         "0"
        ],
        [
         "17",
         "ALCONAHARRISVILLE TOWNSHIP 1",
         "REP",
         "Ben Carson",
         "5"
        ],
        [
         "18",
         "ALCONAHAWES TOWNSHIP 1",
         "REP",
         "Ben Carson",
         "1"
        ],
        [
         "19",
         "ALCONAHAYNES TOWNSHIP 1",
         "REP",
         "Ben Carson",
         "3"
        ],
        [
         "20",
         "ALCONAMIKADO TOWNSHIP 1",
         "REP",
         "Ben Carson",
         "1"
        ],
        [
         "21",
         "ALCONAMILLEN TOWNSHIP 1",
         "REP",
         "Ben Carson",
         "1"
        ],
        [
         "22",
         "ALCONAMITCHELL TOWNSHIP 1",
         "REP",
         "Ben Carson",
         "0"
        ],
        [
         "23",
         "ALCONAHARRISVILLE CITY 1 WARD 1",
         "REP",
         "Ben Carson",
         "1"
        ],
        [
         "24",
         "ALCONAALCONA TOWNSHIP 1",
         "REP",
         "Chris Christie",
         "1"
        ],
        [
         "25",
         "ALCONACALEDONIA TOWNSHIP 1",
         "REP",
         "Chris Christie",
         "1"
        ],
        [
         "26",
         "ALCONACURTIS TOWNSHIP 1",
         "REP",
         "Chris Christie",
         "0"
        ],
        [
         "27",
         "ALCONAGREENBUSH TOWNSHIP 1",
         "REP",
         "Chris Christie",
         "1"
        ],
        [
         "28",
         "ALCONAGUSTIN TOWNSHIP 1",
         "REP",
         "Chris Christie",
         "0"
        ],
        [
         "29",
         "ALCONAHARRISVILLE TOWNSHIP 1",
         "REP",
         "Chris Christie",
         "0"
        ],
        [
         "30",
         "ALCONAHAWES TOWNSHIP 1",
         "REP",
         "Chris Christie",
         "0"
        ],
        [
         "31",
         "ALCONAHAYNES TOWNSHIP 1",
         "REP",
         "Chris Christie",
         "0"
        ],
        [
         "32",
         "ALCONAMIKADO TOWNSHIP 1",
         "REP",
         "Chris Christie",
         "2"
        ],
        [
         "33",
         "ALCONAMILLEN TOWNSHIP 1",
         "REP",
         "Chris Christie",
         "0"
        ],
        [
         "34",
         "ALCONAMITCHELL TOWNSHIP 1",
         "REP",
         "Chris Christie",
         "0"
        ],
        [
         "35",
         "ALCONAHARRISVILLE CITY 1 WARD 1",
         "REP",
         "Chris Christie",
         "0"
        ],
        [
         "36",
         "ALCONAALCONA TOWNSHIP 1",
         "REP",
         "Ted Cruz",
         "61"
        ],
        [
         "37",
         "ALCONACALEDONIA TOWNSHIP 1",
         "REP",
         "Ted Cruz",
         "40"
        ],
        [
         "38",
         "ALCONACURTIS TOWNSHIP 1",
         "REP",
         "Ted Cruz",
         "46"
        ],
        [
         "39",
         "ALCONAGREENBUSH TOWNSHIP 1",
         "REP",
         "Ted Cruz",
         "39"
        ],
        [
         "40",
         "ALCONAGUSTIN TOWNSHIP 1",
         "REP",
         "Ted Cruz",
         "23"
        ],
        [
         "41",
         "ALCONAHARRISVILLE TOWNSHIP 1",
         "REP",
         "Ted Cruz",
         "74"
        ],
        [
         "42",
         "ALCONAHAWES TOWNSHIP 1",
         "REP",
         "Ted Cruz",
         "35"
        ],
        [
         "43",
         "ALCONAHAYNES TOWNSHIP 1",
         "REP",
         "Ted Cruz",
         "52"
        ],
        [
         "44",
         "ALCONAMIKADO TOWNSHIP 1",
         "REP",
         "Ted Cruz",
         "38"
        ],
        [
         "45",
         "ALCONAMILLEN TOWNSHIP 1",
         "REP",
         "Ted Cruz",
         "19"
        ],
        [
         "46",
         "ALCONAMITCHELL TOWNSHIP 1",
         "REP",
         "Ted Cruz",
         "16"
        ],
        [
         "47",
         "ALCONAHARRISVILLE CITY 1 WARD 1",
         "REP",
         "Ted Cruz",
         "17"
        ],
        [
         "48",
         "ALCONAALCONA TOWNSHIP 1",
         "REP",
         "Carly Fiorina",
         "2"
        ],
        [
         "49",
         "ALCONACALEDONIA TOWNSHIP 1",
         "REP",
         "Carly Fiorina",
         "0"
        ]
       ],
       "shape": {
        "columns": 4,
        "rows": 19456
       }
      },
      "text/html": [
       "<div>\n",
       "<style scoped>\n",
       "    .dataframe tbody tr th:only-of-type {\n",
       "        vertical-align: middle;\n",
       "    }\n",
       "\n",
       "    .dataframe tbody tr th {\n",
       "        vertical-align: top;\n",
       "    }\n",
       "\n",
       "    .dataframe thead th {\n",
       "        text-align: right;\n",
       "    }\n",
       "</style>\n",
       "<table border=\"1\" class=\"dataframe\">\n",
       "  <thead>\n",
       "    <tr style=\"text-align: right;\">\n",
       "      <th></th>\n",
       "      <th>precinct</th>\n",
       "      <th>party</th>\n",
       "      <th>candidate</th>\n",
       "      <th>votes</th>\n",
       "    </tr>\n",
       "  </thead>\n",
       "  <tbody>\n",
       "    <tr>\n",
       "      <th>0</th>\n",
       "      <td>ALCONAALCONA TOWNSHIP 1</td>\n",
       "      <td>REP</td>\n",
       "      <td>Jeb Bush</td>\n",
       "      <td>3</td>\n",
       "    </tr>\n",
       "    <tr>\n",
       "      <th>1</th>\n",
       "      <td>ALCONACALEDONIA TOWNSHIP 1</td>\n",
       "      <td>REP</td>\n",
       "      <td>Jeb Bush</td>\n",
       "      <td>0</td>\n",
       "    </tr>\n",
       "    <tr>\n",
       "      <th>2</th>\n",
       "      <td>ALCONACURTIS TOWNSHIP 1</td>\n",
       "      <td>REP</td>\n",
       "      <td>Jeb Bush</td>\n",
       "      <td>3</td>\n",
       "    </tr>\n",
       "    <tr>\n",
       "      <th>3</th>\n",
       "      <td>ALCONAGREENBUSH TOWNSHIP 1</td>\n",
       "      <td>REP</td>\n",
       "      <td>Jeb Bush</td>\n",
       "      <td>1</td>\n",
       "    </tr>\n",
       "    <tr>\n",
       "      <th>4</th>\n",
       "      <td>ALCONAGUSTIN TOWNSHIP 1</td>\n",
       "      <td>REP</td>\n",
       "      <td>Jeb Bush</td>\n",
       "      <td>0</td>\n",
       "    </tr>\n",
       "    <tr>\n",
       "      <th>...</th>\n",
       "      <td>...</td>\n",
       "      <td>...</td>\n",
       "      <td>...</td>\n",
       "      <td>...</td>\n",
       "    </tr>\n",
       "    <tr>\n",
       "      <th>19451</th>\n",
       "      <td>KALAMAZOOPORTAGE CITY 19</td>\n",
       "      <td>DEM</td>\n",
       "      <td>Fuente</td>\n",
       "      <td>0</td>\n",
       "    </tr>\n",
       "    <tr>\n",
       "      <th>19452</th>\n",
       "      <td>KALAMAZOOPORTAGE CITY 19</td>\n",
       "      <td>DEM</td>\n",
       "      <td>O'malley</td>\n",
       "      <td>0</td>\n",
       "    </tr>\n",
       "    <tr>\n",
       "      <th>19453</th>\n",
       "      <td>KALAMAZOOPORTAGE CITY 19</td>\n",
       "      <td>DEM</td>\n",
       "      <td>Sanders</td>\n",
       "      <td>195</td>\n",
       "    </tr>\n",
       "    <tr>\n",
       "      <th>19454</th>\n",
       "      <td>KALAMAZOOPORTAGE CITY 19</td>\n",
       "      <td>DEM</td>\n",
       "      <td>Uncommitted</td>\n",
       "      <td>9</td>\n",
       "    </tr>\n",
       "    <tr>\n",
       "      <th>19455</th>\n",
       "      <td>KALAMAZOOPORTAGE CITY 19</td>\n",
       "      <td>DEM</td>\n",
       "      <td>Write-In</td>\n",
       "      <td>0</td>\n",
       "    </tr>\n",
       "  </tbody>\n",
       "</table>\n",
       "<p>19456 rows × 4 columns</p>\n",
       "</div>"
      ],
      "text/plain": [
       "                         precinct party    candidate votes\n",
       "0         ALCONAALCONA TOWNSHIP 1   REP     Jeb Bush     3\n",
       "1      ALCONACALEDONIA TOWNSHIP 1   REP     Jeb Bush     0\n",
       "2         ALCONACURTIS TOWNSHIP 1   REP     Jeb Bush     3\n",
       "3      ALCONAGREENBUSH TOWNSHIP 1   REP     Jeb Bush     1\n",
       "4         ALCONAGUSTIN TOWNSHIP 1   REP     Jeb Bush     0\n",
       "...                           ...   ...          ...   ...\n",
       "19451    KALAMAZOOPORTAGE CITY 19   DEM       Fuente     0\n",
       "19452    KALAMAZOOPORTAGE CITY 19   DEM     O'malley     0\n",
       "19453    KALAMAZOOPORTAGE CITY 19   DEM      Sanders   195\n",
       "19454    KALAMAZOOPORTAGE CITY 19   DEM  Uncommitted     9\n",
       "19455    KALAMAZOOPORTAGE CITY 19   DEM     Write-In     0\n",
       "\n",
       "[19456 rows x 4 columns]"
      ]
     },
     "execution_count": 6,
     "metadata": {},
     "output_type": "execute_result"
    }
   ],
   "source": [
    "# Select only the relevant columns\n",
    "primary_data = pri_combined_df[[\"precinct\", \"party\", \"candidate\", \"votes\"]]\n",
    "\n",
    "primary_data"
   ]
  },
  {
   "cell_type": "code",
   "execution_count": 7,
   "id": "dc2ffa15",
   "metadata": {},
   "outputs": [
    {
     "data": {
      "application/vnd.microsoft.datawrangler.viewer.v0+json": {
       "columns": [
        {
         "name": "candidate",
         "rawType": "object",
         "type": "string"
        },
        {
         "name": "count",
         "rawType": "int64",
         "type": "integer"
        }
       ],
       "ref": "c884c289-b84d-4e89-990f-cc0a0ccc5578",
       "rows": [
        [
         "Uncommitted",
         "1942"
        ],
        [
         "Rand Paul",
         "884"
        ],
        [
         "Marco Rubio",
         "884"
        ],
        [
         "Bernie Sanders",
         "884"
        ],
        [
         "Martin J. O'Malley",
         "884"
        ],
        [
         "Hillary Clinton",
         "884"
        ],
        [
         "Donald J. Trump",
         "884"
        ],
        [
         "John R. Kasich",
         "884"
        ],
        [
         "George Pataki",
         "884"
        ],
        [
         "Rick Santorum",
         "884"
        ],
        [
         "Jeb Bush",
         "863"
        ],
        [
         "Ben Carson",
         "863"
        ],
        [
         "Mike Huckabee",
         "863"
        ],
        [
         "Lindsey Graham",
         "863"
        ],
        [
         "Carly Fiorina",
         "863"
        ],
        [
         "Ted Cruz",
         "863"
        ],
        [
         "Chris Christie",
         "863"
        ],
        [
         "Roque Rocky De La Fuente",
         "520"
        ],
        [
         "Write-ins",
         "465"
        ],
        [
         "Rocky De La Fuente",
         "364"
        ],
        [
         "Write-In",
         "119"
        ],
        [
         "O'malley",
         "108"
        ],
        [
         "Pataki",
         "108"
        ],
        [
         "Fuente",
         "108"
        ],
        [
         "Clinton",
         "108"
        ],
        [
         "Write-in",
         "108"
        ],
        [
         "Trump",
         "108"
        ],
        [
         "Santorum",
         "108"
        ],
        [
         "Rubio",
         "108"
        ],
        [
         "Paul",
         "108"
        ],
        [
         "Sanders",
         "108"
        ],
        [
         "Kasich",
         "108"
        ],
        [
         "Huckabee",
         "108"
        ],
        [
         "Graham",
         "108"
        ],
        [
         "Fiorina",
         "108"
        ],
        [
         "Cruz",
         "108"
        ],
        [
         "Christie",
         "108"
        ],
        [
         "Carson",
         "108"
        ],
        [
         "Bush",
         "108"
        ],
        [
         "Ballots Cast",
         "94"
        ],
        [
         "Write-In Votes",
         "11"
        ]
       ],
       "shape": {
        "columns": 1,
        "rows": 41
       }
      },
      "text/plain": [
       "candidate\n",
       "Uncommitted                 1942\n",
       "Rand Paul                    884\n",
       "Marco Rubio                  884\n",
       "Bernie Sanders               884\n",
       "Martin J. O'Malley           884\n",
       "Hillary Clinton              884\n",
       "Donald J. Trump              884\n",
       "John R. Kasich               884\n",
       "George Pataki                884\n",
       "Rick Santorum                884\n",
       "Jeb Bush                     863\n",
       "Ben Carson                   863\n",
       "Mike Huckabee                863\n",
       "Lindsey Graham               863\n",
       "Carly Fiorina                863\n",
       "Ted Cruz                     863\n",
       "Chris Christie               863\n",
       "Roque Rocky De La Fuente     520\n",
       "Write-ins                    465\n",
       "Rocky De La Fuente           364\n",
       "Write-In                     119\n",
       "O'malley                     108\n",
       "Pataki                       108\n",
       "Fuente                       108\n",
       "Clinton                      108\n",
       "Write-in                     108\n",
       "Trump                        108\n",
       "Santorum                     108\n",
       "Rubio                        108\n",
       "Paul                         108\n",
       "Sanders                      108\n",
       "Kasich                       108\n",
       "Huckabee                     108\n",
       "Graham                       108\n",
       "Fiorina                      108\n",
       "Cruz                         108\n",
       "Christie                     108\n",
       "Carson                       108\n",
       "Bush                         108\n",
       "Ballots Cast                  94\n",
       "Write-In Votes                11\n",
       "Name: count, dtype: int64"
      ]
     },
     "execution_count": 7,
     "metadata": {},
     "output_type": "execute_result"
    }
   ],
   "source": [
    "# Viewing candidate data\n",
    "primary_data[\"candidate\"].value_counts(dropna=False)"
   ]
  },
  {
   "cell_type": "code",
   "execution_count": 8,
   "id": "5eef8778",
   "metadata": {},
   "outputs": [
    {
     "name": "stderr",
     "output_type": "stream",
     "text": [
      "C:\\Users\\ADMIN\\AppData\\Local\\Temp\\ipykernel_27084\\986686112.py:18: SettingWithCopyWarning: \n",
      "A value is trying to be set on a copy of a slice from a DataFrame.\n",
      "Try using .loc[row_indexer,col_indexer] = value instead\n",
      "\n",
      "See the caveats in the documentation: https://pandas.pydata.org/pandas-docs/stable/user_guide/indexing.html#returning-a-view-versus-a-copy\n",
      "  primary_data[\"candidate\"] = primary_data[\"candidate\"].astype(str).str.upper()\n",
      "C:\\Users\\ADMIN\\AppData\\Local\\Temp\\ipykernel_27084\\986686112.py:33: SettingWithCopyWarning: \n",
      "A value is trying to be set on a copy of a slice from a DataFrame.\n",
      "Try using .loc[row_indexer,col_indexer] = value instead\n",
      "\n",
      "See the caveats in the documentation: https://pandas.pydata.org/pandas-docs/stable/user_guide/indexing.html#returning-a-view-versus-a-copy\n",
      "  primary_data[\"candidate\"] = primary_data[\"candidate\"].str.split().str[-1]\n"
     ]
    },
    {
     "data": {
      "application/vnd.microsoft.datawrangler.viewer.v0+json": {
       "columns": [
        {
         "name": "candidate",
         "rawType": "object",
         "type": "string"
        },
        {
         "name": "count",
         "rawType": "int64",
         "type": "integer"
        }
       ],
       "ref": "65c92ab5-81a1-4b24-bb65-69ae8672c107",
       "rows": [
        [
         "PATAKI",
         "992"
        ],
        [
         "PAUL",
         "992"
        ],
        [
         "O'MALLEY",
         "992"
        ],
        [
         "FUENTE",
         "992"
        ],
        [
         "CLINTON",
         "992"
        ],
        [
         "TRUMP",
         "992"
        ],
        [
         "SANTORUM",
         "992"
        ],
        [
         "RUBIO",
         "992"
        ],
        [
         "SANDERS",
         "992"
        ],
        [
         "KASICH",
         "992"
        ],
        [
         "CARSON",
         "971"
        ],
        [
         "HUCKABEE",
         "971"
        ],
        [
         "GRAHAM",
         "971"
        ],
        [
         "FIORINA",
         "971"
        ],
        [
         "CRUZ",
         "971"
        ],
        [
         "CHRISTIE",
         "971"
        ],
        [
         "BUSH",
         "971"
        ]
       ],
       "shape": {
        "columns": 1,
        "rows": 17
       }
      },
      "text/plain": [
       "candidate\n",
       "PATAKI      992\n",
       "PAUL        992\n",
       "O'MALLEY    992\n",
       "FUENTE      992\n",
       "CLINTON     992\n",
       "TRUMP       992\n",
       "SANTORUM    992\n",
       "RUBIO       992\n",
       "SANDERS     992\n",
       "KASICH      992\n",
       "CARSON      971\n",
       "HUCKABEE    971\n",
       "GRAHAM      971\n",
       "FIORINA     971\n",
       "CRUZ        971\n",
       "CHRISTIE    971\n",
       "BUSH        971\n",
       "Name: count, dtype: int64"
      ]
     },
     "execution_count": 8,
     "metadata": {},
     "output_type": "execute_result"
    }
   ],
   "source": [
    "# Cleaning Candidates\n",
    "\n",
    "# Turning all primary data to uppercase\n",
    "# primary_data[\"candidate\"] = primary_data[\"candidate\"].astype(str).str.upper()\n",
    "\n",
    "# unwanted_keywords = [\n",
    "#     r\"\\w*VOTE\\w*\",\n",
    "#     r\"\\w*UNCOM\\w*\",\n",
    "#     r\"\\w*TOTAL\\w*\",\n",
    "#     r\"Blank Votes\", r\"All Others\",r\"Total Votes Cast\",r\"No Preference\"\n",
    "# ]\n",
    "\n",
    "# pattern = \"|\".join(unwanted_keywords)\n",
    "\n",
    "# # Assuming candidate column is already string and uppercase\n",
    "# primary_data = primary_data[~primary_data[\"candidate\"].str.upper().str.contains(pattern, regex=True, na=False)]\n",
    "primary_data = primary_data[~primary_data[\"candidate\"].isin([\"Uncommitted\", \"Write-ins\",\"Write-in\",\"Write-In\",\"Ballots Cast\",\"Write-In Votes\"])] \n",
    "primary_data[\"candidate\"] = primary_data[\"candidate\"].astype(str).str.upper()\n",
    "# # Fixing the , candidate\n",
    "# primary_data[\"candidate\"] = (\n",
    "#     primary_data[\"candidate\"].str.split(\",\")\n",
    "#     .str[0]\n",
    "#     .str.strip()\n",
    "#     )\n",
    "\n",
    "# # Fixing De la Fuente\n",
    "# primary_data.loc[\n",
    "#     primary_data[\"candidate\"].str.contains(\"\\w*Fuen\\w*\", case=False, na=False),\n",
    "#     \"candidate\"\n",
    "# ] = \"LA FUENTE\"\n",
    "\n",
    "# #Selecting only last name\n",
    "primary_data[\"candidate\"] = primary_data[\"candidate\"].str.split().str[-1]\n",
    "\n",
    "# # Fixing Huckabee\n",
    "# primary_data.loc[\n",
    "#     primary_data[\"candidate\"].str.contains(\"\\w*ABEE\\w*\", case=False, na=False),\n",
    "#     \"candidate\"\n",
    "# ] = \"HUCKABEE\"\n",
    "\n",
    "# # Fixing Fiorina\n",
    "# primary_data.loc[\n",
    "#     primary_data[\"candidate\"].str.contains(\"\\w*ORINA\\W*\", case=False, na=False),\n",
    "#     \"candidate\"\n",
    "# ] = \"FIORINA\"\n",
    "\n",
    "# # Fixing Gray\n",
    "# primary_data.loc[\n",
    "#     primary_data[\"candidate\"].str.contains(\"GREY\", case=False, na=False),\n",
    "#     \"candidate\"\n",
    "# ] = \"GRAY\"\n",
    "\n",
    "# # Fixing Wilson\n",
    "# primary_data.loc[\n",
    "#     primary_data[\"candidate\"].str.contains(\"WISON\", case=False, na=False),\n",
    "#     \"candidate\"\n",
    "# ] = \"WILSON\"\n",
    "\n",
    "\n",
    "# # Fixing separator \n",
    "# primary_data[\"candidate\"] = (\n",
    "#     primary_data[\"candidate\"]\n",
    "#     .str.split(r\"\\s*(?:and|/|&|–|-|\\+)\\s*\", n=1, expand=True)[0]\n",
    "#     .str.strip()\n",
    "#     .str.upper()\n",
    "# )\n",
    "\n",
    "# # Fixing McMullin\n",
    "\n",
    "# primary_data.loc[\n",
    "#     (\n",
    "#         primary_data[\"candidate\"].str.contains(\"MCMULLIN\", case=False, na=False) |\n",
    "#         primary_data[\"candidate\"].str.contains(\"EVAN MCMULLEN\", case=False, na=False)\n",
    "#     ),\n",
    "#     \"candidate\"\n",
    "# ] = \"MCMULLIN\"\n",
    "\n",
    "# primary_data.loc[\n",
    "#     primary_data[\"candidate\"].str.contains(\"De La Fuen\", case=False, na=False),\n",
    "#     \"candidate\"\n",
    "# ] = \"FUENTE D\"\n",
    "\n",
    "# primary_data.loc[:,\"candidate\"] = (\n",
    "#     primary_data[\"candidate\"].str.split().str[0].str.upper()\n",
    "# )\n",
    "\n",
    "primary_data[\"candidate\"].value_counts(dropna=False)"
   ]
  },
  {
   "cell_type": "code",
   "execution_count": 9,
   "id": "dcc76af7",
   "metadata": {},
   "outputs": [
    {
     "data": {
      "application/vnd.microsoft.datawrangler.viewer.v0+json": {
       "columns": [
        {
         "name": "party",
         "rawType": "object",
         "type": "string"
        },
        {
         "name": "count",
         "rawType": "int64",
         "type": "integer"
        }
       ],
       "ref": "28ed4aa7-69c6-415d-b497-618fdf7cd2ae",
       "rows": [
        [
         "REP",
         "12749"
        ],
        [
         "DEM",
         "3968"
        ]
       ],
       "shape": {
        "columns": 1,
        "rows": 2
       }
      },
      "text/plain": [
       "party\n",
       "REP    12749\n",
       "DEM     3968\n",
       "Name: count, dtype: int64"
      ]
     },
     "execution_count": 9,
     "metadata": {},
     "output_type": "execute_result"
    }
   ],
   "source": [
    "# Viewing Party\n",
    "primary_data[\"party\"].value_counts(dropna=False)"
   ]
  },
  {
   "cell_type": "code",
   "execution_count": 10,
   "id": "582aa6c5",
   "metadata": {},
   "outputs": [
    {
     "data": {
      "application/vnd.microsoft.datawrangler.viewer.v0+json": {
       "columns": [
        {
         "name": "party",
         "rawType": "object",
         "type": "string"
        },
        {
         "name": "count",
         "rawType": "int64",
         "type": "integer"
        }
       ],
       "ref": "dd905290-c71a-4f43-9096-b35d0114a404",
       "rows": [
        [
         "REP",
         "12749"
        ],
        [
         "DEM",
         "3968"
        ]
       ],
       "shape": {
        "columns": 1,
        "rows": 2
       }
      },
      "text/plain": [
       "party\n",
       "REP    12749\n",
       "DEM     3968\n",
       "Name: count, dtype: int64"
      ]
     },
     "execution_count": 10,
     "metadata": {},
     "output_type": "execute_result"
    }
   ],
   "source": [
    "#=====================================\n",
    "# This function is used to look up party\n",
    "# for the candidate in the same df\n",
    "#=====================================\n",
    "def fill_party_from_data(row, df):\n",
    "    if pd.notna(row[\"party\"]):\n",
    "        return row[\"party\"]\n",
    "    \n",
    "    # Try to find other rows with the same candidate and known party\n",
    "    matches = df[(df[\"candidate\"] == row[\"candidate\"]) & (df[\"party\"].notna())]\n",
    "    if not matches.empty:\n",
    "        return matches[\"party\"].iloc[0]  # Return the first match's party\n",
    "    else:\n",
    "        return None  # Still unknown\n",
    "\n",
    "#=====================================\n",
    "# Example usage (uncomment and modify for your workflow)\n",
    "#=====================================\n",
    "# Fill party using internal data\n",
    "# primary_data[\"party\"] = primary_data.apply(\n",
    "#     lambda row: fill_party_from_data(row, primary_data),\n",
    "#     axis=1\n",
    "# )\n",
    "\n",
    "primary_data[\"party\"].value_counts(dropna=False)\n"
   ]
  },
  {
   "cell_type": "code",
   "execution_count": 11,
   "id": "34361751",
   "metadata": {},
   "outputs": [
    {
     "name": "stderr",
     "output_type": "stream",
     "text": [
      "C:\\Users\\ADMIN\\AppData\\Local\\Temp\\ipykernel_27084\\1660796865.py:3: SettingWithCopyWarning: \n",
      "A value is trying to be set on a copy of a slice from a DataFrame.\n",
      "Try using .loc[row_indexer,col_indexer] = value instead\n",
      "\n",
      "See the caveats in the documentation: https://pandas.pydata.org/pandas-docs/stable/user_guide/indexing.html#returning-a-view-versus-a-copy\n",
      "  primary_data[\"party\"] = primary_data[\"party\"].astype(str).str.upper()\n",
      "C:\\Users\\ADMIN\\AppData\\Local\\Temp\\ipykernel_27084\\1660796865.py:5: SettingWithCopyWarning: \n",
      "A value is trying to be set on a copy of a slice from a DataFrame.\n",
      "Try using .loc[row_indexer,col_indexer] = value instead\n",
      "\n",
      "See the caveats in the documentation: https://pandas.pydata.org/pandas-docs/stable/user_guide/indexing.html#returning-a-view-versus-a-copy\n",
      "  primary_data[\"party\"] = primary_data.apply(\n",
      "C:\\Users\\ADMIN\\AppData\\Local\\Temp\\ipykernel_27084\\1660796865.py:9: SettingWithCopyWarning: \n",
      "A value is trying to be set on a copy of a slice from a DataFrame.\n",
      "Try using .loc[row_indexer,col_indexer] = value instead\n",
      "\n",
      "See the caveats in the documentation: https://pandas.pydata.org/pandas-docs/stable/user_guide/indexing.html#returning-a-view-versus-a-copy\n",
      "  primary_data[\"party\"] = (\n"
     ]
    },
    {
     "data": {
      "application/vnd.microsoft.datawrangler.viewer.v0+json": {
       "columns": [
        {
         "name": "party",
         "rawType": "object",
         "type": "string"
        },
        {
         "name": "count",
         "rawType": "int64",
         "type": "integer"
        }
       ],
       "ref": "10e396c2-6740-4785-849d-8c1304247dfb",
       "rows": [
        [
         "REP",
         "12749"
        ],
        [
         "DEM",
         "3968"
        ]
       ],
       "shape": {
        "columns": 1,
        "rows": 2
       }
      },
      "text/plain": [
       "party\n",
       "REP    12749\n",
       "DEM     3968\n",
       "Name: count, dtype: int64"
      ]
     },
     "execution_count": 11,
     "metadata": {},
     "output_type": "execute_result"
    }
   ],
   "source": [
    "# Cleaning Party\n",
    "# Turning all general data party to uppercase\n",
    "primary_data[\"party\"] = primary_data[\"party\"].astype(str).str.upper()\n",
    "\n",
    "primary_data[\"party\"] = primary_data.apply(\n",
    "    lambda row: fill_party_from_data(row, primary_data),\n",
    "    axis=1\n",
    ")\n",
    "primary_data[\"party\"] = (\n",
    "    primary_data[\"party\"]\n",
    "    .replace({\n",
    "        \"REPUBLICAN\": \"REP\",\n",
    "        \"R\": \"REP\",\n",
    "        \"DEMOCRATIC\": \"DEM\",\n",
    "        \"DEM\": \"DEM\",\n",
    "        \"D\": \"DEM\",\n",
    "        \"GREEN\": \"GRN\",\n",
    "        \"G\": \"GREEN\",\n",
    "        \"GREEN-RAINBOW\":\"GRN\",\n",
    "        \"LIBERTARIAN\": \"LIB\",\n",
    "        \"LBT\": \"LIB\",\n",
    "        \"L\": \"LIB\",\n",
    "        \"CONSTITUTION\": \"CON\",\n",
    "        \"NP\": \"IND\",\n",
    "        \"NON\": \"IND\",\n",
    "        \"WRI\": \"IND\",\n",
    "        \"WRITE-IN\": \"IND\",\n",
    "        \"ONA\": \"IND\",\n",
    "        \"GEN\": \"IND\",\n",
    "        \"NONE\":\"UNK\"\n",
    "    })\n",
    ")\n",
    "primary_data[\"party\"].value_counts(dropna=False)"
   ]
  },
  {
   "cell_type": "code",
   "execution_count": 12,
   "id": "a359cd18",
   "metadata": {},
   "outputs": [
    {
     "name": "stderr",
     "output_type": "stream",
     "text": [
      "C:\\Users\\ADMIN\\AppData\\Local\\Temp\\ipykernel_27084\\2521670330.py:1: SettingWithCopyWarning: \n",
      "A value is trying to be set on a copy of a slice from a DataFrame.\n",
      "Try using .loc[row_indexer,col_indexer] = value instead\n",
      "\n",
      "See the caveats in the documentation: https://pandas.pydata.org/pandas-docs/stable/user_guide/indexing.html#returning-a-view-versus-a-copy\n",
      "  primary_data.loc[:,\"candidate_column\"] = (\n"
     ]
    },
    {
     "data": {
      "application/vnd.microsoft.datawrangler.viewer.v0+json": {
       "columns": [
        {
         "name": "index",
         "rawType": "int64",
         "type": "integer"
        },
        {
         "name": "precinct",
         "rawType": "object",
         "type": "string"
        },
        {
         "name": "pri_dem_CLINTON",
         "rawType": "object",
         "type": "string"
        },
        {
         "name": "pri_dem_FUENTE",
         "rawType": "object",
         "type": "string"
        },
        {
         "name": "pri_dem_O'MALLEY",
         "rawType": "object",
         "type": "string"
        },
        {
         "name": "pri_dem_SANDERS",
         "rawType": "object",
         "type": "string"
        },
        {
         "name": "pri_rep_BUSH",
         "rawType": "object",
         "type": "unknown"
        },
        {
         "name": "pri_rep_CARSON",
         "rawType": "object",
         "type": "unknown"
        },
        {
         "name": "pri_rep_CHRISTIE",
         "rawType": "object",
         "type": "unknown"
        },
        {
         "name": "pri_rep_CRUZ",
         "rawType": "object",
         "type": "unknown"
        },
        {
         "name": "pri_rep_FIORINA",
         "rawType": "object",
         "type": "unknown"
        },
        {
         "name": "pri_rep_GRAHAM",
         "rawType": "object",
         "type": "unknown"
        },
        {
         "name": "pri_rep_HUCKABEE",
         "rawType": "object",
         "type": "unknown"
        },
        {
         "name": "pri_rep_KASICH",
         "rawType": "object",
         "type": "string"
        },
        {
         "name": "pri_rep_PATAKI",
         "rawType": "object",
         "type": "string"
        },
        {
         "name": "pri_rep_PAUL",
         "rawType": "object",
         "type": "string"
        },
        {
         "name": "pri_rep_RUBIO",
         "rawType": "object",
         "type": "string"
        },
        {
         "name": "pri_rep_SANTORUM",
         "rawType": "object",
         "type": "string"
        },
        {
         "name": "pri_rep_TRUMP",
         "rawType": "object",
         "type": "string"
        }
       ],
       "ref": "447e5f85-378a-49ec-bf2c-7ee1d70e0dfa",
       "rows": [
        [
         "0",
         "ALCONAALCONA TOWNSHIP 1",
         "48",
         "0",
         "0",
         "42",
         "3",
         "4",
         "1",
         "61",
         "2",
         "0",
         "1",
         "44",
         "0",
         "0",
         "18",
         "1",
         "141"
        ],
        [
         "1",
         "ALCONACALEDONIA TOWNSHIP 1",
         "53",
         "0",
         "1",
         "34",
         "0",
         "1",
         "1",
         "40",
         "0",
         "0",
         "0",
         "32",
         "1",
         "0",
         "15",
         "0",
         "112"
        ],
        [
         "2",
         "ALCONACURTIS TOWNSHIP 1",
         "72",
         "0",
         "0",
         "63",
         "3",
         "5",
         "0",
         "46",
         "2",
         "0",
         "1",
         "24",
         "0",
         "0",
         "11",
         "0",
         "128"
        ],
        [
         "3",
         "ALCONAGREENBUSH TOWNSHIP 1",
         "67",
         "0",
         "1",
         "66",
         "1",
         "5",
         "1",
         "39",
         "0",
         "0",
         "0",
         "46",
         "0",
         "2",
         "17",
         "1",
         "121"
        ],
        [
         "4",
         "ALCONAGUSTIN TOWNSHIP 1",
         "27",
         "0",
         "0",
         "24",
         "0",
         "0",
         "0",
         "23",
         "0",
         "0",
         "0",
         "18",
         "1",
         "0",
         "5",
         "0",
         "55"
        ],
        [
         "5",
         "ALCONAHARRISVILLE CITY 1 WARD 1",
         "24",
         "1",
         "0",
         "28",
         "1",
         "1",
         "0",
         "17",
         "0",
         "0",
         "0",
         "24",
         "0",
         "0",
         "6",
         "0",
         "21"
        ],
        [
         "6",
         "ALCONAHARRISVILLE TOWNSHIP 1",
         "47",
         "0",
         "0",
         "60",
         "0",
         "5",
         "0",
         "74",
         "0",
         "0",
         "0",
         "61",
         "0",
         "1",
         "20",
         "0",
         "134"
        ],
        [
         "7",
         "ALCONAHAWES TOWNSHIP 1",
         "27",
         "0",
         "0",
         "39",
         "1",
         "1",
         "0",
         "35",
         "0",
         "0",
         "0",
         "15",
         "0",
         "1",
         "9",
         "0",
         "120"
        ],
        [
         "8",
         "ALCONAHAYNES TOWNSHIP 1",
         "26",
         "0",
         "1",
         "33",
         "0",
         "3",
         "0",
         "52",
         "0",
         "0",
         "0",
         "28",
         "0",
         "2",
         "10",
         "1",
         "91"
        ],
        [
         "9",
         "ALCONAMIKADO TOWNSHIP 1",
         "29",
         "0",
         "0",
         "27",
         "3",
         "1",
         "2",
         "38",
         "0",
         "0",
         "0",
         "21",
         "0",
         "0",
         "15",
         "1",
         "103"
        ],
        [
         "10",
         "ALCONAMILLEN TOWNSHIP 1",
         "29",
         "0",
         "2",
         "29",
         "1",
         "1",
         "0",
         "19",
         "0",
         "0",
         "0",
         "8",
         "0",
         "2",
         "6",
         "0",
         "38"
        ],
        [
         "11",
         "ALCONAMITCHELL TOWNSHIP 1",
         "14",
         "0",
         "0",
         "10",
         "0",
         "0",
         "0",
         "16",
         "0",
         "0",
         "0",
         "19",
         "0",
         "0",
         "6",
         "0",
         "47"
        ],
        [
         "12",
         "ALGERAU TRAIN TOWNSHIP 1",
         "56",
         "0",
         "0",
         "70",
         "2",
         "3",
         "0",
         "56",
         "0",
         "0",
         "0",
         "47",
         "0",
         "0",
         "11",
         "0",
         "77"
        ],
        [
         "13",
         "ALGERBURT TOWNSHIP 1",
         "28",
         "0",
         "0",
         "51",
         "0",
         "6",
         "0",
         "16",
         "0",
         "0",
         "0",
         "45",
         "0",
         "0",
         "7",
         "0",
         "53"
        ],
        [
         "14",
         "ALGERGRAND ISLAND TOWNSHIP 1",
         "6",
         "0",
         "0",
         "7",
         "0",
         "0",
         "0",
         "2",
         "0",
         "0",
         "0",
         "0",
         "0",
         "0",
         "1",
         "0",
         "1"
        ],
        [
         "15",
         "ALGERLIMESTONE TOWNSHIP 1",
         "23",
         "0",
         "0",
         "28",
         "0",
         "0",
         "0",
         "18",
         "0",
         "0",
         "0",
         "11",
         "0",
         "0",
         "6",
         "0",
         "33"
        ],
        [
         "16",
         "ALGERMATHIAS TOWNSHIP 1",
         "18",
         "0",
         "0",
         "42",
         "0",
         "1",
         "0",
         "14",
         "1",
         "0",
         "1",
         "13",
         "0",
         "0",
         "4",
         "0",
         "25"
        ],
        [
         "17",
         "ALGERMUNISING CITY 1",
         "100",
         "0",
         "3",
         "161",
         "2",
         "3",
         "0",
         "51",
         "0",
         "0",
         "0",
         "55",
         "0",
         "2",
         "23",
         "0",
         "88"
        ],
        [
         "18",
         "ALGERMUNISING TOWNSHIP 1",
         "47",
         "0",
         "0",
         "56",
         "0",
         "0",
         "1",
         "40",
         "0",
         "0",
         "0",
         "24",
         "0",
         "0",
         "17",
         "0",
         "69"
        ],
        [
         "19",
         "ALGERMUNISING TOWNSHIP 2",
         "38",
         "0",
         "0",
         "77",
         "0",
         "5",
         "1",
         "39",
         "0",
         "0",
         "0",
         "40",
         "0",
         "2",
         "11",
         "0",
         "94"
        ],
        [
         "20",
         "ALGERONOTA TOWNSHIP 1",
         "23",
         "1",
         "0",
         "32",
         "0",
         "0",
         "0",
         "28",
         "0",
         "0",
         "2",
         "8",
         "0",
         "0",
         "7",
         "0",
         "17"
        ],
        [
         "21",
         "ALGERROCK RIVER TOWNSHIP 1",
         "45",
         "0",
         "0",
         "98",
         "0",
         "2",
         "0",
         "54",
         "0",
         "0",
         "1",
         "38",
         "0",
         "1",
         "12",
         "0",
         "61"
        ],
        [
         "22",
         "ALLEGANALLEGAN CITY 1",
         "60",
         "0",
         "0",
         "83",
         "1",
         "3",
         "0",
         "49",
         "1",
         "0",
         "1",
         "47",
         "0",
         "0",
         "12",
         "0",
         "53"
        ],
        [
         "23",
         "ALLEGANALLEGAN CITY 2",
         "92",
         "1",
         "2",
         "165",
         "2",
         "9",
         "1",
         "124",
         "0",
         "0",
         "2",
         "76",
         "0",
         "2",
         "36",
         "1",
         "115"
        ],
        [
         "24",
         "ALLEGANALLEGAN TOWNSHIP 1",
         "107",
         "1",
         "0",
         "154",
         "3",
         "3",
         "0",
         "127",
         "1",
         "0",
         "3",
         "137",
         "0",
         "0",
         "40",
         "0",
         "134"
        ],
        [
         "25",
         "ALLEGANALLEGAN TOWNSHIP 2",
         "41",
         "0",
         "0",
         "59",
         "2",
         "4",
         "0",
         "61",
         "0",
         "0",
         "0",
         "34",
         "0",
         "0",
         "20",
         "0",
         "70"
        ],
        [
         "26",
         "ALLEGANCASCO TOWNSHIP 1",
         "117",
         "0",
         "0",
         "132",
         "4",
         "2",
         "0",
         "99",
         "0",
         "1",
         "0",
         "114",
         "0",
         "1",
         "46",
         "0",
         "134"
        ],
        [
         "27",
         "ALLEGANCHESHIRE TOWNSHIP 1",
         "62",
         "0",
         "0",
         "110",
         "2",
         "6",
         "0",
         "80",
         "0",
         "0",
         "1",
         "68",
         "0",
         "1",
         "23",
         "0",
         "77"
        ],
        [
         "28",
         "ALLEGANCLYDE TOWNSHIP 1",
         "64",
         "0",
         "0",
         "83",
         "2",
         "9",
         "1",
         "70",
         "0",
         "0",
         "0",
         "47",
         "0",
         "2",
         "18",
         "0",
         "79"
        ],
        [
         "29",
         "ALLEGANDORR TOWNSHIP 1",
         "67",
         "0",
         "0",
         "92",
         "3",
         "5",
         "1",
         "241",
         "0",
         "1",
         "2",
         "70",
         "0",
         "0",
         "38",
         "0",
         "119"
        ],
        [
         "30",
         "ALLEGANDORR TOWNSHIP 2",
         "60",
         "0",
         "0",
         "142",
         "5",
         "9",
         "0",
         "376",
         "1",
         "0",
         "0",
         "114",
         "0",
         "1",
         "52",
         "1",
         "171"
        ],
        [
         "31",
         "ALLEGANDORR TOWNSHIP 3",
         "64",
         "0",
         "0",
         "107",
         "3",
         "2",
         "0",
         "226",
         "0",
         "0",
         "0",
         "61",
         "1",
         "0",
         "31",
         "0",
         "116"
        ],
        [
         "32",
         "ALLEGANDOUGLAS CITY 1",
         "174",
         "0",
         "0",
         "115",
         "3",
         "1",
         "0",
         "24",
         "0",
         "1",
         "0",
         "70",
         "0",
         "1",
         "22",
         "0",
         "64"
        ],
        [
         "33",
         "ALLEGANFENNVILLE CITY 1",
         "39",
         "0",
         "0",
         "87",
         "2",
         "1",
         "0",
         "25",
         "0",
         "0",
         "1",
         "20",
         "0",
         "0",
         "11",
         "0",
         "48"
        ],
        [
         "34",
         "ALLEGANFILLMORE TOWNSHIP 1",
         "38",
         "0",
         "0",
         "79",
         "6",
         "19",
         "0",
         "345",
         "1",
         "0",
         "0",
         "164",
         "0",
         "2",
         "100",
         "3",
         "131"
        ],
        [
         "35",
         "ALLEGANGANGES TOWNSHIP 1",
         "135",
         "1",
         "0",
         "189",
         "6",
         "7",
         "4",
         "114",
         "1",
         "0",
         "0",
         "123",
         "0",
         "0",
         "62",
         "0",
         "141"
        ],
        [
         "36",
         "ALLEGANGUNPLAIN TOWNSHIP 1",
         "145",
         "0",
         "1",
         "196",
         "1",
         "14",
         "2",
         "185",
         "0",
         "0",
         "1",
         "173",
         "0",
         "1",
         "90",
         "0",
         "172"
        ],
        [
         "37",
         "ALLEGANGUNPLAIN TOWNSHIP 2",
         "69",
         "0",
         "0",
         "135",
         "2",
         "10",
         "1",
         "117",
         "1",
         "0",
         "0",
         "71",
         "0",
         "1",
         "24",
         "1",
         "142"
        ],
        [
         "38",
         "ALLEGANHEATH TOWNSHIP 1",
         "65",
         "1",
         "0",
         "136",
         "6",
         "19",
         "3",
         "308",
         "0",
         "0",
         "2",
         "160",
         "0",
         "0",
         "81",
         "0",
         "188"
        ],
        [
         "39",
         "ALLEGANHOLLAND CITY 11 WARD 5",
         "41",
         "0",
         "0",
         "121",
         "2",
         "11",
         "1",
         "107",
         "0",
         "0",
         "0",
         "87",
         "0",
         "1",
         "47",
         "1",
         "59"
        ],
        [
         "40",
         "ALLEGANHOLLAND CITY 12 WARD 5",
         "52",
         "0",
         "0",
         "79",
         "6",
         "8",
         "1",
         "161",
         "0",
         "2",
         "3",
         "166",
         "0",
         "2",
         "69",
         "0",
         "61"
        ],
        [
         "41",
         "ALLEGANHOLLAND CITY 13 WARD 5",
         "48",
         "0",
         "0",
         "70",
         "6",
         "6",
         "0",
         "73",
         "0",
         "0",
         "4",
         "89",
         "0",
         "0",
         "53",
         "0",
         "40"
        ],
        [
         "42",
         "ALLEGANHOLLAND CITY 9 WARD 4",
         "73",
         "0",
         "0",
         "101",
         "0",
         "11",
         "0",
         "152",
         "1",
         "0",
         "1",
         "138",
         "0",
         "2",
         "56",
         "0",
         "54"
        ],
        [
         "43",
         "ALLEGANHOPKINS TOWNSHIP 1",
         "40",
         "0",
         "0",
         "132",
         "1",
         "12",
         "1",
         "206",
         "0",
         "0",
         "0",
         "90",
         "0",
         "2",
         "33",
         "1",
         "136"
        ],
        [
         "44",
         "ALLEGANLAKETOWN TOWNSHIP 1",
         "105",
         "0",
         "1",
         "138",
         "1",
         "9",
         "2",
         "201",
         "0",
         "0",
         "0",
         "225",
         "0",
         "2",
         "67",
         "0",
         "96"
        ],
        [
         "45",
         "ALLEGANLAKETOWN TOWNSHIP 2",
         "73",
         "0",
         "0",
         "137",
         "10",
         "23",
         "1",
         "264",
         "0",
         "0",
         "3",
         "265",
         "2",
         "0",
         "101",
         "0",
         "172"
        ],
        [
         "46",
         "ALLEGANLAKETOWN TOWNSHIP 3",
         "55",
         "0",
         "0",
         "63",
         "0",
         "3",
         "0",
         "74",
         "1",
         "0",
         "0",
         "87",
         "0",
         "0",
         "24",
         "0",
         "49"
        ],
        [
         "47",
         "ALLEGANLEE TOWNSHIP 1",
         "67",
         "0",
         "1",
         "111",
         "1",
         "3",
         "0",
         "56",
         "0",
         "0",
         "0",
         "35",
         "0",
         "1",
         "5",
         "0",
         "104"
        ],
        [
         "48",
         "ALLEGANLEIGHTON TOWNSHIP 1",
         "50",
         "1",
         "0",
         "121",
         "6",
         "10",
         "0",
         "407",
         "1",
         "0",
         "1",
         "122",
         "0",
         "0",
         "54",
         "0",
         "174"
        ],
        [
         "49",
         "ALLEGANLEIGHTON TOWNSHIP 2",
         "27",
         "0",
         "0",
         "63",
         "2",
         "14",
         "0",
         "258",
         "0",
         "0",
         "0",
         "115",
         "0",
         "1",
         "58",
         "1",
         "132"
        ]
       ],
       "shape": {
        "columns": 18,
        "rows": 992
       }
      },
      "text/html": [
       "<div>\n",
       "<style scoped>\n",
       "    .dataframe tbody tr th:only-of-type {\n",
       "        vertical-align: middle;\n",
       "    }\n",
       "\n",
       "    .dataframe tbody tr th {\n",
       "        vertical-align: top;\n",
       "    }\n",
       "\n",
       "    .dataframe thead th {\n",
       "        text-align: right;\n",
       "    }\n",
       "</style>\n",
       "<table border=\"1\" class=\"dataframe\">\n",
       "  <thead>\n",
       "    <tr style=\"text-align: right;\">\n",
       "      <th>candidate_column</th>\n",
       "      <th>precinct</th>\n",
       "      <th>pri_dem_CLINTON</th>\n",
       "      <th>pri_dem_FUENTE</th>\n",
       "      <th>pri_dem_O'MALLEY</th>\n",
       "      <th>pri_dem_SANDERS</th>\n",
       "      <th>pri_rep_BUSH</th>\n",
       "      <th>pri_rep_CARSON</th>\n",
       "      <th>pri_rep_CHRISTIE</th>\n",
       "      <th>pri_rep_CRUZ</th>\n",
       "      <th>pri_rep_FIORINA</th>\n",
       "      <th>pri_rep_GRAHAM</th>\n",
       "      <th>pri_rep_HUCKABEE</th>\n",
       "      <th>pri_rep_KASICH</th>\n",
       "      <th>pri_rep_PATAKI</th>\n",
       "      <th>pri_rep_PAUL</th>\n",
       "      <th>pri_rep_RUBIO</th>\n",
       "      <th>pri_rep_SANTORUM</th>\n",
       "      <th>pri_rep_TRUMP</th>\n",
       "    </tr>\n",
       "  </thead>\n",
       "  <tbody>\n",
       "    <tr>\n",
       "      <th>0</th>\n",
       "      <td>ALCONAALCONA TOWNSHIP 1</td>\n",
       "      <td>48</td>\n",
       "      <td>0</td>\n",
       "      <td>0</td>\n",
       "      <td>42</td>\n",
       "      <td>3</td>\n",
       "      <td>4</td>\n",
       "      <td>1</td>\n",
       "      <td>61</td>\n",
       "      <td>2</td>\n",
       "      <td>0</td>\n",
       "      <td>1</td>\n",
       "      <td>44</td>\n",
       "      <td>0</td>\n",
       "      <td>0</td>\n",
       "      <td>18</td>\n",
       "      <td>1</td>\n",
       "      <td>141</td>\n",
       "    </tr>\n",
       "    <tr>\n",
       "      <th>1</th>\n",
       "      <td>ALCONACALEDONIA TOWNSHIP 1</td>\n",
       "      <td>53</td>\n",
       "      <td>0</td>\n",
       "      <td>1</td>\n",
       "      <td>34</td>\n",
       "      <td>0</td>\n",
       "      <td>1</td>\n",
       "      <td>1</td>\n",
       "      <td>40</td>\n",
       "      <td>0</td>\n",
       "      <td>0</td>\n",
       "      <td>0</td>\n",
       "      <td>32</td>\n",
       "      <td>1</td>\n",
       "      <td>0</td>\n",
       "      <td>15</td>\n",
       "      <td>0</td>\n",
       "      <td>112</td>\n",
       "    </tr>\n",
       "    <tr>\n",
       "      <th>2</th>\n",
       "      <td>ALCONACURTIS TOWNSHIP 1</td>\n",
       "      <td>72</td>\n",
       "      <td>0</td>\n",
       "      <td>0</td>\n",
       "      <td>63</td>\n",
       "      <td>3</td>\n",
       "      <td>5</td>\n",
       "      <td>0</td>\n",
       "      <td>46</td>\n",
       "      <td>2</td>\n",
       "      <td>0</td>\n",
       "      <td>1</td>\n",
       "      <td>24</td>\n",
       "      <td>0</td>\n",
       "      <td>0</td>\n",
       "      <td>11</td>\n",
       "      <td>0</td>\n",
       "      <td>128</td>\n",
       "    </tr>\n",
       "    <tr>\n",
       "      <th>3</th>\n",
       "      <td>ALCONAGREENBUSH TOWNSHIP 1</td>\n",
       "      <td>67</td>\n",
       "      <td>0</td>\n",
       "      <td>1</td>\n",
       "      <td>66</td>\n",
       "      <td>1</td>\n",
       "      <td>5</td>\n",
       "      <td>1</td>\n",
       "      <td>39</td>\n",
       "      <td>0</td>\n",
       "      <td>0</td>\n",
       "      <td>0</td>\n",
       "      <td>46</td>\n",
       "      <td>0</td>\n",
       "      <td>2</td>\n",
       "      <td>17</td>\n",
       "      <td>1</td>\n",
       "      <td>121</td>\n",
       "    </tr>\n",
       "    <tr>\n",
       "      <th>4</th>\n",
       "      <td>ALCONAGUSTIN TOWNSHIP 1</td>\n",
       "      <td>27</td>\n",
       "      <td>0</td>\n",
       "      <td>0</td>\n",
       "      <td>24</td>\n",
       "      <td>0</td>\n",
       "      <td>0</td>\n",
       "      <td>0</td>\n",
       "      <td>23</td>\n",
       "      <td>0</td>\n",
       "      <td>0</td>\n",
       "      <td>0</td>\n",
       "      <td>18</td>\n",
       "      <td>1</td>\n",
       "      <td>0</td>\n",
       "      <td>5</td>\n",
       "      <td>0</td>\n",
       "      <td>55</td>\n",
       "    </tr>\n",
       "    <tr>\n",
       "      <th>...</th>\n",
       "      <td>...</td>\n",
       "      <td>...</td>\n",
       "      <td>...</td>\n",
       "      <td>...</td>\n",
       "      <td>...</td>\n",
       "      <td>...</td>\n",
       "      <td>...</td>\n",
       "      <td>...</td>\n",
       "      <td>...</td>\n",
       "      <td>...</td>\n",
       "      <td>...</td>\n",
       "      <td>...</td>\n",
       "      <td>...</td>\n",
       "      <td>...</td>\n",
       "      <td>...</td>\n",
       "      <td>...</td>\n",
       "      <td>...</td>\n",
       "      <td>...</td>\n",
       "    </tr>\n",
       "    <tr>\n",
       "      <th>987</th>\n",
       "      <td>SCHOOLCRAFTMANISTIQUE CITY 3</td>\n",
       "      <td>25</td>\n",
       "      <td>0</td>\n",
       "      <td>0</td>\n",
       "      <td>28</td>\n",
       "      <td>0</td>\n",
       "      <td>2</td>\n",
       "      <td>0</td>\n",
       "      <td>21</td>\n",
       "      <td>0</td>\n",
       "      <td>0</td>\n",
       "      <td>0</td>\n",
       "      <td>15</td>\n",
       "      <td>1</td>\n",
       "      <td>0</td>\n",
       "      <td>7</td>\n",
       "      <td>0</td>\n",
       "      <td>44</td>\n",
       "    </tr>\n",
       "    <tr>\n",
       "      <th>988</th>\n",
       "      <td>SCHOOLCRAFTMANISTIQUE TOWNSHIP 1</td>\n",
       "      <td>31</td>\n",
       "      <td>0</td>\n",
       "      <td>0</td>\n",
       "      <td>41</td>\n",
       "      <td>2</td>\n",
       "      <td>0</td>\n",
       "      <td>0</td>\n",
       "      <td>24</td>\n",
       "      <td>0</td>\n",
       "      <td>0</td>\n",
       "      <td>0</td>\n",
       "      <td>37</td>\n",
       "      <td>0</td>\n",
       "      <td>0</td>\n",
       "      <td>14</td>\n",
       "      <td>0</td>\n",
       "      <td>71</td>\n",
       "    </tr>\n",
       "    <tr>\n",
       "      <th>989</th>\n",
       "      <td>SCHOOLCRAFTMUELLER TOWNSHIP 1</td>\n",
       "      <td>12</td>\n",
       "      <td>0</td>\n",
       "      <td>0</td>\n",
       "      <td>12</td>\n",
       "      <td>0</td>\n",
       "      <td>0</td>\n",
       "      <td>0</td>\n",
       "      <td>10</td>\n",
       "      <td>0</td>\n",
       "      <td>0</td>\n",
       "      <td>0</td>\n",
       "      <td>7</td>\n",
       "      <td>0</td>\n",
       "      <td>0</td>\n",
       "      <td>3</td>\n",
       "      <td>0</td>\n",
       "      <td>12</td>\n",
       "    </tr>\n",
       "    <tr>\n",
       "      <th>990</th>\n",
       "      <td>SCHOOLCRAFTSENEY TOWNSHIP 1</td>\n",
       "      <td>4</td>\n",
       "      <td>0</td>\n",
       "      <td>0</td>\n",
       "      <td>3</td>\n",
       "      <td>0</td>\n",
       "      <td>0</td>\n",
       "      <td>0</td>\n",
       "      <td>5</td>\n",
       "      <td>0</td>\n",
       "      <td>0</td>\n",
       "      <td>0</td>\n",
       "      <td>5</td>\n",
       "      <td>0</td>\n",
       "      <td>0</td>\n",
       "      <td>2</td>\n",
       "      <td>0</td>\n",
       "      <td>22</td>\n",
       "    </tr>\n",
       "    <tr>\n",
       "      <th>991</th>\n",
       "      <td>SCHOOLCRAFTTHOMPSON TOWNSHIP 1</td>\n",
       "      <td>45</td>\n",
       "      <td>1</td>\n",
       "      <td>1</td>\n",
       "      <td>47</td>\n",
       "      <td>0</td>\n",
       "      <td>1</td>\n",
       "      <td>1</td>\n",
       "      <td>27</td>\n",
       "      <td>0</td>\n",
       "      <td>0</td>\n",
       "      <td>0</td>\n",
       "      <td>26</td>\n",
       "      <td>0</td>\n",
       "      <td>0</td>\n",
       "      <td>11</td>\n",
       "      <td>1</td>\n",
       "      <td>72</td>\n",
       "    </tr>\n",
       "  </tbody>\n",
       "</table>\n",
       "<p>992 rows × 18 columns</p>\n",
       "</div>"
      ],
      "text/plain": [
       "candidate_column                          precinct pri_dem_CLINTON  \\\n",
       "0                          ALCONAALCONA TOWNSHIP 1              48   \n",
       "1                       ALCONACALEDONIA TOWNSHIP 1              53   \n",
       "2                          ALCONACURTIS TOWNSHIP 1              72   \n",
       "3                       ALCONAGREENBUSH TOWNSHIP 1              67   \n",
       "4                          ALCONAGUSTIN TOWNSHIP 1              27   \n",
       "..                                             ...             ...   \n",
       "987                   SCHOOLCRAFTMANISTIQUE CITY 3              25   \n",
       "988               SCHOOLCRAFTMANISTIQUE TOWNSHIP 1              31   \n",
       "989                  SCHOOLCRAFTMUELLER TOWNSHIP 1              12   \n",
       "990                    SCHOOLCRAFTSENEY TOWNSHIP 1               4   \n",
       "991                 SCHOOLCRAFTTHOMPSON TOWNSHIP 1              45   \n",
       "\n",
       "candidate_column pri_dem_FUENTE pri_dem_O'MALLEY pri_dem_SANDERS pri_rep_BUSH  \\\n",
       "0                             0                0              42            3   \n",
       "1                             0                1              34            0   \n",
       "2                             0                0              63            3   \n",
       "3                             0                1              66            1   \n",
       "4                             0                0              24            0   \n",
       "..                          ...              ...             ...          ...   \n",
       "987                           0                0              28            0   \n",
       "988                           0                0              41            2   \n",
       "989                           0                0              12            0   \n",
       "990                           0                0               3            0   \n",
       "991                           1                1              47            0   \n",
       "\n",
       "candidate_column pri_rep_CARSON pri_rep_CHRISTIE pri_rep_CRUZ pri_rep_FIORINA  \\\n",
       "0                             4                1           61               2   \n",
       "1                             1                1           40               0   \n",
       "2                             5                0           46               2   \n",
       "3                             5                1           39               0   \n",
       "4                             0                0           23               0   \n",
       "..                          ...              ...          ...             ...   \n",
       "987                           2                0           21               0   \n",
       "988                           0                0           24               0   \n",
       "989                           0                0           10               0   \n",
       "990                           0                0            5               0   \n",
       "991                           1                1           27               0   \n",
       "\n",
       "candidate_column pri_rep_GRAHAM pri_rep_HUCKABEE pri_rep_KASICH  \\\n",
       "0                             0                1             44   \n",
       "1                             0                0             32   \n",
       "2                             0                1             24   \n",
       "3                             0                0             46   \n",
       "4                             0                0             18   \n",
       "..                          ...              ...            ...   \n",
       "987                           0                0             15   \n",
       "988                           0                0             37   \n",
       "989                           0                0              7   \n",
       "990                           0                0              5   \n",
       "991                           0                0             26   \n",
       "\n",
       "candidate_column pri_rep_PATAKI pri_rep_PAUL pri_rep_RUBIO pri_rep_SANTORUM  \\\n",
       "0                             0            0            18                1   \n",
       "1                             1            0            15                0   \n",
       "2                             0            0            11                0   \n",
       "3                             0            2            17                1   \n",
       "4                             1            0             5                0   \n",
       "..                          ...          ...           ...              ...   \n",
       "987                           1            0             7                0   \n",
       "988                           0            0            14                0   \n",
       "989                           0            0             3                0   \n",
       "990                           0            0             2                0   \n",
       "991                           0            0            11                1   \n",
       "\n",
       "candidate_column pri_rep_TRUMP  \n",
       "0                          141  \n",
       "1                          112  \n",
       "2                          128  \n",
       "3                          121  \n",
       "4                           55  \n",
       "..                         ...  \n",
       "987                         44  \n",
       "988                         71  \n",
       "989                         12  \n",
       "990                         22  \n",
       "991                         72  \n",
       "\n",
       "[992 rows x 18 columns]"
      ]
     },
     "execution_count": 12,
     "metadata": {},
     "output_type": "execute_result"
    }
   ],
   "source": [
    "primary_data.loc[:,\"candidate_column\"] = (\n",
    "    \"pri_\" +\n",
    "    primary_data[\"party\"].str.lower() + \"_\" +\n",
    "    primary_data[\"candidate\"]\n",
    ")\n",
    "\n",
    "# pivot the table\n",
    "primary_result = primary_data.pivot_table(\n",
    "    index=\"precinct\",\n",
    "    columns=\"candidate_column\",\n",
    "    values=\"votes\",\n",
    "    aggfunc=\"sum\",  \n",
    "    fill_value=0\n",
    ").reset_index()\n",
    "\n",
    "primary_result"
   ]
  },
  {
   "cell_type": "code",
   "execution_count": 13,
   "id": "f1ef9692",
   "metadata": {},
   "outputs": [],
   "source": [
    "# Process general files\n",
    "general_df_list = []\n",
    "\n",
    "for file in general_files:\n",
    "    try:\n",
    "        df = pd.read_csv(file)\n",
    "        \n",
    "        # Combine precinct as county + precinct\n",
    "        df[\"precinct\"] = df[\"county\"].astype(str) + df[\"precinct\"].astype(str)\n",
    "        df[\"precinct\"] = df[\"precinct\"].str.upper()\n",
    "\n",
    "        # Cleaning maybe total precinct\n",
    "        if 'precinct' in df.columns:\n",
    "            df['precinct'] = df['precinct'].astype(str)                  \n",
    "            df = df[df['precinct'].str.upper() != \"TOTAL\"]               \n",
    "            df = df[df['precinct'].str.strip().str.upper() != \"TOTAL\"]   \n",
    "            df = df[df['precinct'].str.upper() != \"NAN\"]                \n",
    "            df = df[~df['precinct'].str.upper().str.contains(r\"\\w*TOTAL\\w*\", na=False)]     \n",
    "\n",
    "        if 'county' in df.columns:\n",
    "            df['county'] = df['county'].astype(str)                  \n",
    "            df = df[df['county'].str.upper() != \"TOTAL\"]               \n",
    "            df = df[df['county'].str.strip().str.upper() != \"TOTAL\"]   \n",
    "            df = df[df['county'].str.upper() != \"NAN\"]       \n",
    "            df = df[~df['county'].str.upper().str.contains(r\"\\w*TOTAL\\w*\", na=False)]     \n",
    "        # Filtering out only President \n",
    "        if 'office' in df.columns:\n",
    "            df = df[df[\"office\"] == \"President\"]\n",
    "        \n",
    "        # Dropping duplicates value\n",
    "        df = df.drop_duplicates()\n",
    "        \n",
    "        general_df_list.append(df)\n",
    "\n",
    "    except Exception as e:\n",
    "        print(f\"Error in {file}: {e}\")\n",
    "\n",
    "# Combine all cleaned files\n",
    "gen_combined_df = pd.concat(general_df_list, ignore_index=True)\n",
    "\n",
    "# Checking any suspicious precinct\n",
    "suspicious_precincts = gen_combined_df[\n",
    "    gen_combined_df[\"precinct\"].str.strip().str.upper().isin([\"TOTAL\", \"NAN\"])\n",
    "]\n"
   ]
  },
  {
   "cell_type": "code",
   "execution_count": 14,
   "id": "1bbbd54d",
   "metadata": {},
   "outputs": [
    {
     "data": {
      "application/vnd.microsoft.datawrangler.viewer.v0+json": {
       "columns": [
        {
         "name": "index",
         "rawType": "int64",
         "type": "integer"
        },
        {
         "name": "precinct",
         "rawType": "object",
         "type": "string"
        },
        {
         "name": "party",
         "rawType": "object",
         "type": "string"
        },
        {
         "name": "candidate",
         "rawType": "object",
         "type": "string"
        },
        {
         "name": "votes",
         "rawType": "int64",
         "type": "integer"
        }
       ],
       "ref": "561395c2-7f6e-46f2-836e-b97485f548c6",
       "rows": [
        [
         "0",
         "ALCONAALCONA TOWNSHIP 1",
         "NPA",
         "Tom Hoefling",
         "0"
        ],
        [
         "1",
         "ALCONAALCONA TOWNSHIP 1",
         "NPA",
         "Michael A. Maturen",
         "0"
        ],
        [
         "2",
         "ALCONAALCONA TOWNSHIP 1",
         "NPA",
         "Monica Moorehead",
         "0"
        ],
        [
         "3",
         "ALCONAALCONA TOWNSHIP 1",
         "NPA",
         "Evan Mcmullin",
         "0"
        ],
        [
         "4",
         "ALCONAALCONA TOWNSHIP 1",
         "NPA",
         "Laurence Kotlikoff",
         "0"
        ],
        [
         "5",
         "ALCONAALCONA TOWNSHIP 1",
         "NPA",
         "Ben Hartnell",
         "0"
        ],
        [
         "6",
         "ALCONAALCONA TOWNSHIP 1",
         "NPA",
         "Cherunda Fox",
         "0"
        ],
        [
         "7",
         "ALCONAALCONA TOWNSHIP 1",
         "GRN",
         "Jill Stein",
         "2"
        ],
        [
         "8",
         "ALCONAALCONA TOWNSHIP 1",
         "DEM",
         "Hillary Clinton",
         "199"
        ],
        [
         "9",
         "ALCONAALCONA TOWNSHIP 1",
         "NLP",
         "Emidio Mimi Soltysik",
         "0"
        ],
        [
         "10",
         "ALCONAALCONA TOWNSHIP 1",
         "REP",
         "Donald J. Trump",
         "500"
        ],
        [
         "11",
         "ALCONAALCONA TOWNSHIP 1",
         "UST",
         "Darrell L. Castle",
         "4"
        ],
        [
         "12",
         "ALCONAALCONA TOWNSHIP 1",
         "LIB",
         "Gary Johnson",
         "13"
        ],
        [
         "13",
         "ALCONACALEDONIA TOWNSHIP 1",
         "NPA",
         "Tom Hoefling",
         "0"
        ],
        [
         "14",
         "ALCONACALEDONIA TOWNSHIP 1",
         "NPA",
         "Michael A. Maturen",
         "0"
        ],
        [
         "15",
         "ALCONACALEDONIA TOWNSHIP 1",
         "NPA",
         "Monica Moorehead",
         "0"
        ],
        [
         "16",
         "ALCONACALEDONIA TOWNSHIP 1",
         "NPA",
         "Evan Mcmullin",
         "0"
        ],
        [
         "17",
         "ALCONACALEDONIA TOWNSHIP 1",
         "NPA",
         "Laurence Kotlikoff",
         "0"
        ],
        [
         "18",
         "ALCONACALEDONIA TOWNSHIP 1",
         "NPA",
         "Ben Hartnell",
         "0"
        ],
        [
         "19",
         "ALCONACALEDONIA TOWNSHIP 1",
         "NPA",
         "Cherunda Fox",
         "0"
        ],
        [
         "20",
         "ALCONACALEDONIA TOWNSHIP 1",
         "GRN",
         "Jill Stein",
         "4"
        ],
        [
         "21",
         "ALCONACALEDONIA TOWNSHIP 1",
         "DEM",
         "Hillary Clinton",
         "178"
        ],
        [
         "22",
         "ALCONACALEDONIA TOWNSHIP 1",
         "NLP",
         "Emidio Mimi Soltysik",
         "0"
        ],
        [
         "23",
         "ALCONACALEDONIA TOWNSHIP 1",
         "REP",
         "Donald J. Trump",
         "441"
        ],
        [
         "24",
         "ALCONACALEDONIA TOWNSHIP 1",
         "UST",
         "Darrell L. Castle",
         "5"
        ],
        [
         "25",
         "ALCONACALEDONIA TOWNSHIP 1",
         "LIB",
         "Gary Johnson",
         "14"
        ],
        [
         "26",
         "ALCONACURTIS TOWNSHIP 1",
         "NPA",
         "Tom Hoefling",
         "0"
        ],
        [
         "27",
         "ALCONACURTIS TOWNSHIP 1",
         "NPA",
         "Michael A. Maturen",
         "0"
        ],
        [
         "28",
         "ALCONACURTIS TOWNSHIP 1",
         "NPA",
         "Monica Moorehead",
         "0"
        ],
        [
         "29",
         "ALCONACURTIS TOWNSHIP 1",
         "NPA",
         "Evan Mcmullin",
         "0"
        ],
        [
         "30",
         "ALCONACURTIS TOWNSHIP 1",
         "NPA",
         "Laurence Kotlikoff",
         "0"
        ],
        [
         "31",
         "ALCONACURTIS TOWNSHIP 1",
         "NPA",
         "Ben Hartnell",
         "0"
        ],
        [
         "32",
         "ALCONACURTIS TOWNSHIP 1",
         "NPA",
         "Cherunda Fox",
         "0"
        ],
        [
         "33",
         "ALCONACURTIS TOWNSHIP 1",
         "GRN",
         "Jill Stein",
         "13"
        ],
        [
         "34",
         "ALCONACURTIS TOWNSHIP 1",
         "DEM",
         "Hillary Clinton",
         "214"
        ],
        [
         "35",
         "ALCONACURTIS TOWNSHIP 1",
         "NLP",
         "Emidio Mimi Soltysik",
         "0"
        ],
        [
         "36",
         "ALCONACURTIS TOWNSHIP 1",
         "REP",
         "Donald J. Trump",
         "401"
        ],
        [
         "37",
         "ALCONACURTIS TOWNSHIP 1",
         "UST",
         "Darrell L. Castle",
         "3"
        ],
        [
         "38",
         "ALCONACURTIS TOWNSHIP 1",
         "LIB",
         "Gary Johnson",
         "8"
        ],
        [
         "39",
         "ALCONAGREENBUSH TOWNSHIP 1",
         "NPA",
         "Tom Hoefling",
         "0"
        ],
        [
         "40",
         "ALCONAGREENBUSH TOWNSHIP 1",
         "NPA",
         "Michael A. Maturen",
         "0"
        ],
        [
         "41",
         "ALCONAGREENBUSH TOWNSHIP 1",
         "NPA",
         "Monica Moorehead",
         "0"
        ],
        [
         "42",
         "ALCONAGREENBUSH TOWNSHIP 1",
         "NPA",
         "Evan Mcmullin",
         "0"
        ],
        [
         "43",
         "ALCONAGREENBUSH TOWNSHIP 1",
         "NPA",
         "Laurence Kotlikoff",
         "0"
        ],
        [
         "44",
         "ALCONAGREENBUSH TOWNSHIP 1",
         "NPA",
         "Ben Hartnell",
         "0"
        ],
        [
         "45",
         "ALCONAGREENBUSH TOWNSHIP 1",
         "NPA",
         "Cherunda Fox",
         "0"
        ],
        [
         "46",
         "ALCONAGREENBUSH TOWNSHIP 1",
         "GRN",
         "Jill Stein",
         "4"
        ],
        [
         "47",
         "ALCONAGREENBUSH TOWNSHIP 1",
         "DEM",
         "Hillary Clinton",
         "256"
        ],
        [
         "48",
         "ALCONAGREENBUSH TOWNSHIP 1",
         "NLP",
         "Emidio Mimi Soltysik",
         "0"
        ],
        [
         "49",
         "ALCONAGREENBUSH TOWNSHIP 1",
         "REP",
         "Donald J. Trump",
         "501"
        ]
       ],
       "shape": {
        "columns": 4,
        "rows": 66001
       }
      },
      "text/html": [
       "<div>\n",
       "<style scoped>\n",
       "    .dataframe tbody tr th:only-of-type {\n",
       "        vertical-align: middle;\n",
       "    }\n",
       "\n",
       "    .dataframe tbody tr th {\n",
       "        vertical-align: top;\n",
       "    }\n",
       "\n",
       "    .dataframe thead th {\n",
       "        text-align: right;\n",
       "    }\n",
       "</style>\n",
       "<table border=\"1\" class=\"dataframe\">\n",
       "  <thead>\n",
       "    <tr style=\"text-align: right;\">\n",
       "      <th></th>\n",
       "      <th>precinct</th>\n",
       "      <th>party</th>\n",
       "      <th>candidate</th>\n",
       "      <th>votes</th>\n",
       "    </tr>\n",
       "  </thead>\n",
       "  <tbody>\n",
       "    <tr>\n",
       "      <th>0</th>\n",
       "      <td>ALCONAALCONA TOWNSHIP 1</td>\n",
       "      <td>NPA</td>\n",
       "      <td>Tom Hoefling</td>\n",
       "      <td>0</td>\n",
       "    </tr>\n",
       "    <tr>\n",
       "      <th>1</th>\n",
       "      <td>ALCONAALCONA TOWNSHIP 1</td>\n",
       "      <td>NPA</td>\n",
       "      <td>Michael A. Maturen</td>\n",
       "      <td>0</td>\n",
       "    </tr>\n",
       "    <tr>\n",
       "      <th>2</th>\n",
       "      <td>ALCONAALCONA TOWNSHIP 1</td>\n",
       "      <td>NPA</td>\n",
       "      <td>Monica Moorehead</td>\n",
       "      <td>0</td>\n",
       "    </tr>\n",
       "    <tr>\n",
       "      <th>3</th>\n",
       "      <td>ALCONAALCONA TOWNSHIP 1</td>\n",
       "      <td>NPA</td>\n",
       "      <td>Evan Mcmullin</td>\n",
       "      <td>0</td>\n",
       "    </tr>\n",
       "    <tr>\n",
       "      <th>4</th>\n",
       "      <td>ALCONAALCONA TOWNSHIP 1</td>\n",
       "      <td>NPA</td>\n",
       "      <td>Laurence Kotlikoff</td>\n",
       "      <td>0</td>\n",
       "    </tr>\n",
       "    <tr>\n",
       "      <th>...</th>\n",
       "      <td>...</td>\n",
       "      <td>...</td>\n",
       "      <td>...</td>\n",
       "      <td>...</td>\n",
       "    </tr>\n",
       "    <tr>\n",
       "      <th>65996</th>\n",
       "      <td>WEXFORD9999</td>\n",
       "      <td>DEM</td>\n",
       "      <td>Hillary Clinton</td>\n",
       "      <td>0</td>\n",
       "    </tr>\n",
       "    <tr>\n",
       "      <th>65997</th>\n",
       "      <td>WEXFORD9999</td>\n",
       "      <td>NLP</td>\n",
       "      <td>Emidio Mimi Soltysik</td>\n",
       "      <td>0</td>\n",
       "    </tr>\n",
       "    <tr>\n",
       "      <th>65998</th>\n",
       "      <td>WEXFORD9999</td>\n",
       "      <td>REP</td>\n",
       "      <td>Donald J. Trump</td>\n",
       "      <td>0</td>\n",
       "    </tr>\n",
       "    <tr>\n",
       "      <th>65999</th>\n",
       "      <td>WEXFORD9999</td>\n",
       "      <td>UST</td>\n",
       "      <td>Darrell L. Castle</td>\n",
       "      <td>0</td>\n",
       "    </tr>\n",
       "    <tr>\n",
       "      <th>66000</th>\n",
       "      <td>WEXFORD9999</td>\n",
       "      <td>LIB</td>\n",
       "      <td>Gary Johnson</td>\n",
       "      <td>0</td>\n",
       "    </tr>\n",
       "  </tbody>\n",
       "</table>\n",
       "<p>66001 rows × 4 columns</p>\n",
       "</div>"
      ],
      "text/plain": [
       "                      precinct party             candidate  votes\n",
       "0      ALCONAALCONA TOWNSHIP 1   NPA          Tom Hoefling      0\n",
       "1      ALCONAALCONA TOWNSHIP 1   NPA    Michael A. Maturen      0\n",
       "2      ALCONAALCONA TOWNSHIP 1   NPA      Monica Moorehead      0\n",
       "3      ALCONAALCONA TOWNSHIP 1   NPA         Evan Mcmullin      0\n",
       "4      ALCONAALCONA TOWNSHIP 1   NPA    Laurence Kotlikoff      0\n",
       "...                        ...   ...                   ...    ...\n",
       "65996              WEXFORD9999   DEM       Hillary Clinton      0\n",
       "65997              WEXFORD9999   NLP  Emidio Mimi Soltysik      0\n",
       "65998              WEXFORD9999   REP       Donald J. Trump      0\n",
       "65999              WEXFORD9999   UST     Darrell L. Castle      0\n",
       "66000              WEXFORD9999   LIB          Gary Johnson      0\n",
       "\n",
       "[66001 rows x 4 columns]"
      ]
     },
     "execution_count": 14,
     "metadata": {},
     "output_type": "execute_result"
    }
   ],
   "source": [
    "# Select only the relevant columns\n",
    "general_data = gen_combined_df[[\"precinct\", \"party\", \"candidate\", \"votes\"]]\n",
    "\n",
    "general_data"
   ]
  },
  {
   "cell_type": "code",
   "execution_count": 15,
   "id": "38fba0f1",
   "metadata": {},
   "outputs": [
    {
     "data": {
      "application/vnd.microsoft.datawrangler.viewer.v0+json": {
       "columns": [
        {
         "name": "candidate",
         "rawType": "object",
         "type": "string"
        },
        {
         "name": "count",
         "rawType": "int64",
         "type": "integer"
        }
       ],
       "ref": "10b4807f-8fbd-4d40-b64f-6b2db76979c3",
       "rows": [
        [
         "Tom Hoefling",
         "5077"
        ],
        [
         "Michael A. Maturen",
         "5077"
        ],
        [
         "Monica Moorehead",
         "5077"
        ],
        [
         "Evan Mcmullin",
         "5077"
        ],
        [
         "Laurence Kotlikoff",
         "5077"
        ],
        [
         "Ben Hartnell",
         "5077"
        ],
        [
         "Cherunda Fox",
         "5077"
        ],
        [
         "Jill Stein",
         "5077"
        ],
        [
         "Hillary Clinton",
         "5077"
        ],
        [
         "Emidio Mimi Soltysik",
         "5077"
        ],
        [
         "Donald J. Trump",
         "5077"
        ],
        [
         "Darrell L. Castle",
         "5077"
        ],
        [
         "Gary Johnson",
         "5077"
        ]
       ],
       "shape": {
        "columns": 1,
        "rows": 13
       }
      },
      "text/plain": [
       "candidate\n",
       "Tom Hoefling            5077\n",
       "Michael A. Maturen      5077\n",
       "Monica Moorehead        5077\n",
       "Evan Mcmullin           5077\n",
       "Laurence Kotlikoff      5077\n",
       "Ben Hartnell            5077\n",
       "Cherunda Fox            5077\n",
       "Jill Stein              5077\n",
       "Hillary Clinton         5077\n",
       "Emidio Mimi Soltysik    5077\n",
       "Donald J. Trump         5077\n",
       "Darrell L. Castle       5077\n",
       "Gary Johnson            5077\n",
       "Name: count, dtype: int64"
      ]
     },
     "execution_count": 15,
     "metadata": {},
     "output_type": "execute_result"
    }
   ],
   "source": [
    "# Viewing candidate data\n",
    "general_data[\"candidate\"].value_counts(dropna=False)"
   ]
  },
  {
   "cell_type": "code",
   "execution_count": 16,
   "id": "90417a20",
   "metadata": {},
   "outputs": [
    {
     "name": "stderr",
     "output_type": "stream",
     "text": [
      "C:\\Users\\ADMIN\\AppData\\Local\\Temp\\ipykernel_27084\\4180683526.py:4: SettingWithCopyWarning: \n",
      "A value is trying to be set on a copy of a slice from a DataFrame.\n",
      "Try using .loc[row_indexer,col_indexer] = value instead\n",
      "\n",
      "See the caveats in the documentation: https://pandas.pydata.org/pandas-docs/stable/user_guide/indexing.html#returning-a-view-versus-a-copy\n",
      "  general_data[\"candidate\"] = general_data[\"candidate\"].astype(str).str.upper()\n",
      "C:\\Users\\ADMIN\\AppData\\Local\\Temp\\ipykernel_27084\\4180683526.py:102: SettingWithCopyWarning: \n",
      "A value is trying to be set on a copy of a slice from a DataFrame.\n",
      "Try using .loc[row_indexer,col_indexer] = value instead\n",
      "\n",
      "See the caveats in the documentation: https://pandas.pydata.org/pandas-docs/stable/user_guide/indexing.html#returning-a-view-versus-a-copy\n",
      "  general_data[\"candidate\"] = general_data[\"candidate\"].str.split().str[-1]\n"
     ]
    },
    {
     "data": {
      "application/vnd.microsoft.datawrangler.viewer.v0+json": {
       "columns": [
        {
         "name": "candidate",
         "rawType": "object",
         "type": "string"
        },
        {
         "name": "count",
         "rawType": "int64",
         "type": "integer"
        }
       ],
       "ref": "570fd9a3-7de0-4d51-aa0a-fd4a23dbc79c",
       "rows": [
        [
         "HOEFLING",
         "5077"
        ],
        [
         "MATUREN",
         "5077"
        ],
        [
         "MOOREHEAD",
         "5077"
        ],
        [
         "MCMULLIN",
         "5077"
        ],
        [
         "KOTLIKOFF",
         "5077"
        ],
        [
         "HARTNELL",
         "5077"
        ],
        [
         "FOX",
         "5077"
        ],
        [
         "STEIN",
         "5077"
        ],
        [
         "CLINTON",
         "5077"
        ],
        [
         "SOLTYSIK",
         "5077"
        ],
        [
         "TRUMP",
         "5077"
        ],
        [
         "CASTLE",
         "5077"
        ],
        [
         "JOHNSON",
         "5077"
        ]
       ],
       "shape": {
        "columns": 1,
        "rows": 13
       }
      },
      "text/plain": [
       "candidate\n",
       "HOEFLING     5077\n",
       "MATUREN      5077\n",
       "MOOREHEAD    5077\n",
       "MCMULLIN     5077\n",
       "KOTLIKOFF    5077\n",
       "HARTNELL     5077\n",
       "FOX          5077\n",
       "STEIN        5077\n",
       "CLINTON      5077\n",
       "SOLTYSIK     5077\n",
       "TRUMP        5077\n",
       "CASTLE       5077\n",
       "JOHNSON      5077\n",
       "Name: count, dtype: int64"
      ]
     },
     "execution_count": 16,
     "metadata": {},
     "output_type": "execute_result"
    }
   ],
   "source": [
    "# Cleaning Candidates\n",
    "\n",
    "# Turning all general data to uppercase\n",
    "general_data[\"candidate\"] = general_data[\"candidate\"].astype(str).str.upper()\n",
    "\n",
    "\n",
    "# unwanted_keywords = [\n",
    "#     r\"\\w*VOTE\\w*\",\n",
    "#     r\"\\w*UNCOM\\w*\",\n",
    "#     r\"\\w*TOTAL\\w*\",\n",
    "#     r\"\\w*WRITE[\\s-]\\w*\",\n",
    "#     r\"NAN\",\n",
    "#     r\"UNCERTIFIED\",\n",
    "#     r\"UNVERIFIED\",\n",
    "#     r\"NONE OF THE ABOVE\",\n",
    "#     r\"LBT\",\n",
    "#     r\"DEM\",\n",
    "#     r\"REP\",\n",
    "#     r\"GRN\",\n",
    "#     r\"NAN\"\n",
    "\n",
    "# ]\n",
    "\n",
    "# pattern = \"|\".join(unwanted_keywords)\n",
    "\n",
    "# # FILTER OUT TRASH WORDS\n",
    "# general_data = general_data[~general_data[\"candidate\"].str.upper().str.contains(pattern, regex=True, na=False)]\n",
    "\n",
    "# # Fixing Darrell Castle\"\n",
    "# general_data.loc[\n",
    "#     general_data[\"candidate\"].str.contains(\"\\w*ASTLE\\w*\", case=False, na=False),\n",
    "#     \"candidate\"\n",
    "# ] = \"CASTLE\"\n",
    "\n",
    "# general_data.loc[\n",
    "#     general_data[\"candidate\"].str.contains(\"\\w*ATUREN\\w*\", case=False, na=False),\n",
    "#     \"candidate\"\n",
    "# ] = \"MATUREN\"\n",
    "\n",
    "# # Fixing mixed president + vice_president by /\n",
    "# general_data[\"candidate\"] = (\n",
    "#     general_data[\"candidate\"].str.split(\"/\")\n",
    "#     .str[0]\n",
    "#     .str.strip()\n",
    "#     )\n",
    "\n",
    "# #Selecting only last name\n",
    "# general_data[\"candidate\"] = general_data[\"candidate\"].str.split().str[-1]\n",
    "\n",
    "# # Fixing the , candidate\n",
    "# # general_data[\"candidate\"] = (\n",
    "# #     general_data[\"candidate\"].str.split(\",\")\n",
    "# #     .str[0]\n",
    "# #     .str.strip()\n",
    "# #     )\n",
    "\n",
    "\n",
    "\n",
    "\n",
    "# # Fixing Cubbler\n",
    "# general_data.loc[\n",
    "#     ( \n",
    "#         general_data[\"candidate\"].str.contains(\"\\w*UBBIER\\w*\", case=False, na=False)|\n",
    "#         general_data[\"candidate\"].str.contains(\"\\w*UBLER\\w*\", case=False, na=False)|\n",
    "#         general_data[\"candidate\"].str.contains(\"\\w*OBBLER\\w*\", case=False, na=False),\n",
    "#     \"candidate\")\n",
    "# ] = \"CUBBLER\"\n",
    "\n",
    "\n",
    "# # Fixing Kotlikoff\n",
    "# general_data.loc[\n",
    "#     general_data[\"candidate\"].str.contains(\"\\w*TIKOFF\\w*\", case=False, na=False),\n",
    "#     \"candidate\"\n",
    "# ] = \"KOTLIKOFF\"\n",
    "\n",
    "# # Fixing Valdivia\n",
    "# general_data.loc[\n",
    "#     general_data[\"candidate\"].str.contains(\"\\w*VALDIVA\\W*\", case=False, na=False),\n",
    "#     \"candidate\"\n",
    "# ] = \"VALDIVIA\"\n",
    "\n",
    "# # Fixing HOEFLING\n",
    "# general_data.loc[\n",
    "#     general_data[\"candidate\"].str.contains(\"\\w*HOEFFLING\", case=False, na=False),\n",
    "#     \"candidate\"\n",
    "# ] = \"HOEFLING\"\n",
    "\n",
    "\n",
    "# # Fixing McMullin\n",
    "# general_data.loc[\n",
    "#     general_data[\"candidate\"].str.contains(\"MCMULLEN\", case=False, na=False) ,\n",
    "#     \"candidate\"\n",
    "# ] = \"MCMULLIN\"\n",
    "\n",
    "# Fixing LASTNAME + First name Initial\n",
    "# general_data.loc[:,\"candidate\"] = (\n",
    "#     general_data[\"candidate\"].str.split().str[0].str.upper()\n",
    "# )\n",
    "\n",
    "\n",
    "# #Selecting only last name\n",
    "general_data[\"candidate\"] = general_data[\"candidate\"].str.split().str[-1]\n",
    "\n",
    "general_data[\"candidate\"].value_counts(dropna=False)"
   ]
  },
  {
   "cell_type": "code",
   "execution_count": 17,
   "id": "a22405a6",
   "metadata": {},
   "outputs": [
    {
     "data": {
      "application/vnd.microsoft.datawrangler.viewer.v0+json": {
       "columns": [
        {
         "name": "party",
         "rawType": "object",
         "type": "string"
        },
        {
         "name": "count",
         "rawType": "int64",
         "type": "integer"
        }
       ],
       "ref": "1718d534-3602-471c-b958-8599be3cd311",
       "rows": [
        [
         "NPA",
         "35539"
        ],
        [
         "GRN",
         "5077"
        ],
        [
         "DEM",
         "5077"
        ],
        [
         "NLP",
         "5077"
        ],
        [
         "REP",
         "5077"
        ],
        [
         "UST",
         "5077"
        ],
        [
         "LIB",
         "5077"
        ]
       ],
       "shape": {
        "columns": 1,
        "rows": 7
       }
      },
      "text/plain": [
       "party\n",
       "NPA    35539\n",
       "GRN     5077\n",
       "DEM     5077\n",
       "NLP     5077\n",
       "REP     5077\n",
       "UST     5077\n",
       "LIB     5077\n",
       "Name: count, dtype: int64"
      ]
     },
     "execution_count": 17,
     "metadata": {},
     "output_type": "execute_result"
    }
   ],
   "source": [
    "# Viewing Party\n",
    "general_data[\"party\"].value_counts(dropna=False)"
   ]
  },
  {
   "cell_type": "code",
   "execution_count": 18,
   "id": "21d7595b",
   "metadata": {},
   "outputs": [
    {
     "data": {
      "application/vnd.microsoft.datawrangler.viewer.v0+json": {
       "columns": [
        {
         "name": "party",
         "rawType": "object",
         "type": "string"
        },
        {
         "name": "count",
         "rawType": "int64",
         "type": "integer"
        }
       ],
       "ref": "84915c07-458e-4085-8fdb-15b04425fd61",
       "rows": [
        [
         "NPA",
         "35539"
        ],
        [
         "GRN",
         "5077"
        ],
        [
         "DEM",
         "5077"
        ],
        [
         "NLP",
         "5077"
        ],
        [
         "REP",
         "5077"
        ],
        [
         "UST",
         "5077"
        ],
        [
         "LIB",
         "5077"
        ]
       ],
       "shape": {
        "columns": 1,
        "rows": 7
       }
      },
      "text/plain": [
       "party\n",
       "NPA    35539\n",
       "GRN     5077\n",
       "DEM     5077\n",
       "NLP     5077\n",
       "REP     5077\n",
       "UST     5077\n",
       "LIB     5077\n",
       "Name: count, dtype: int64"
      ]
     },
     "execution_count": 18,
     "metadata": {},
     "output_type": "execute_result"
    }
   ],
   "source": [
    "#=====================================\n",
    "# This function is used to look up party\n",
    "# for the candidate in the same df\n",
    "#=====================================\n",
    "def fill_party_from_data(row, df):\n",
    "    if pd.notna(row[\"party\"]):\n",
    "        return row[\"party\"]\n",
    "    \n",
    "    # Try to find other rows with the same candidate and known party\n",
    "    matches = df[(df[\"candidate\"] == row[\"candidate\"]) & (df[\"party\"].notna())]\n",
    "    if not matches.empty:\n",
    "        return matches[\"party\"].iloc[0]  # Return the first match's party\n",
    "    else:\n",
    "        return None  # Still unknown\n",
    "    \n",
    "\n",
    "#=====================================\n",
    "# Function to update the master candidate-party CSV\n",
    "#=====================================\n",
    "def update_master_candidate_party(df, master_path):\n",
    "    # Read the existing master file\n",
    "    master_df = pd.read_csv(master_path)\n",
    "\n",
    "    # Filter and combine only known party entries (exclude 'UNK')\n",
    "    new_data = (\n",
    "        df[[\"candidate\", \"party\"]]\n",
    "        .dropna()\n",
    "        .query('party != \"UNK\"')\n",
    "        .drop_duplicates()\n",
    "    )\n",
    "\n",
    "    # Merge with master and remove duplicates by candidate\n",
    "    updated_master = pd.concat([master_df, new_data]).drop_duplicates(subset=\"candidate\")\n",
    "\n",
    "    # Save updated version\n",
    "    updated_master.to_csv(master_path, index=False)\n",
    "\n",
    "\n",
    "#=====================================\n",
    "# Function to update the master candidate-party CSV\n",
    "#=====================================\n",
    "def update_master_candidate_party(df, master_path):\n",
    "    # Read the existing master file\n",
    "    master_df = pd.read_csv(master_path)\n",
    "\n",
    "    # Filter and combine only known party entries (exclude 'UNK')\n",
    "    new_data = (\n",
    "        df[[\"candidate\", \"party\"]]\n",
    "        .dropna()\n",
    "        .query('party != \"UNK\"')\n",
    "        .drop_duplicates()\n",
    "    )\n",
    "\n",
    "    # Merge with master and remove duplicates by candidate\n",
    "    updated_master = pd.concat([master_df, new_data]).drop_duplicates(subset=\"candidate\")\n",
    "\n",
    "    # Save updated version\n",
    "    updated_master.to_csv(master_path, index=False)\n",
    "\n",
    "\n",
    "#=====================================\n",
    "# Example usage (uncomment and modify for your workflow)\n",
    "#=====================================\n",
    "# Fill party using internal data\n",
    "# general_data[\"party\"] = general_data.apply(\n",
    "#     lambda row: fill_party_from_data(row, general_data),\n",
    "#     axis=1\n",
    "# )\n",
    "\n",
    "# # Fill remaining party using general master CSV\n",
    "# master_party_df = pd.read_csv(r\"C:\\Huy Phan\\College\\VoterTurnout\\data\\cleaned_data\\gen_can_party.csv\") # USE YOUR OWN ADDRESS\n",
    "# general_data = fill_party_from_master(general_data, master_party_df)\n",
    "general_data[\"party\"].value_counts(dropna=False)\n"
   ]
  },
  {
   "cell_type": "code",
   "execution_count": 19,
   "id": "8bb5d275",
   "metadata": {},
   "outputs": [
    {
     "name": "stderr",
     "output_type": "stream",
     "text": [
      "C:\\Users\\ADMIN\\AppData\\Local\\Temp\\ipykernel_27084\\1506123479.py:3: SettingWithCopyWarning: \n",
      "A value is trying to be set on a copy of a slice from a DataFrame.\n",
      "Try using .loc[row_indexer,col_indexer] = value instead\n",
      "\n",
      "See the caveats in the documentation: https://pandas.pydata.org/pandas-docs/stable/user_guide/indexing.html#returning-a-view-versus-a-copy\n",
      "  general_data[\"party\"] = general_data[\"party\"].astype(str).str.upper()\n",
      "C:\\Users\\ADMIN\\AppData\\Local\\Temp\\ipykernel_27084\\1506123479.py:5: SettingWithCopyWarning: \n",
      "A value is trying to be set on a copy of a slice from a DataFrame.\n",
      "Try using .loc[row_indexer,col_indexer] = value instead\n",
      "\n",
      "See the caveats in the documentation: https://pandas.pydata.org/pandas-docs/stable/user_guide/indexing.html#returning-a-view-versus-a-copy\n",
      "  general_data[\"party\"] = (\n"
     ]
    },
    {
     "data": {
      "application/vnd.microsoft.datawrangler.viewer.v0+json": {
       "columns": [
        {
         "name": "party",
         "rawType": "object",
         "type": "string"
        },
        {
         "name": "count",
         "rawType": "int64",
         "type": "integer"
        }
       ],
       "ref": "d708a6e8-e8c5-4f21-bd71-5b50adca7d3c",
       "rows": [
        [
         "IND",
         "35539"
        ],
        [
         "GRN",
         "5077"
        ],
        [
         "DEM",
         "5077"
        ],
        [
         "NLP",
         "5077"
        ],
        [
         "REP",
         "5077"
        ],
        [
         "CON",
         "5077"
        ],
        [
         "LIB",
         "5077"
        ]
       ],
       "shape": {
        "columns": 1,
        "rows": 7
       }
      },
      "text/plain": [
       "party\n",
       "IND    35539\n",
       "GRN     5077\n",
       "DEM     5077\n",
       "NLP     5077\n",
       "REP     5077\n",
       "CON     5077\n",
       "LIB     5077\n",
       "Name: count, dtype: int64"
      ]
     },
     "execution_count": 19,
     "metadata": {},
     "output_type": "execute_result"
    }
   ],
   "source": [
    "# Cleaning Party\n",
    "# Turning all general data party to uppercase\n",
    "general_data[\"party\"] = general_data[\"party\"].astype(str).str.upper()\n",
    "\n",
    "general_data[\"party\"] = (\n",
    "    general_data[\"party\"]\n",
    "    .replace({\n",
    "        \"REPUBLICAN\": \"REP\",\n",
    "        \"R\": \"REP\",\n",
    "        \"DEMOCRATIC\": \"DEM\",\n",
    "        \"DEM\": \"DEM\",\n",
    "        \"D\": \"DEM\",\n",
    "        \"GREEN\": \"GRN\",\n",
    "        \"G\": \"GRN\",\n",
    "        \"GREEN AND RAINBOW\":\"GRN\",\n",
    "        \"GREEN-RAINBOW\":\"GRN\",\n",
    "        \"LIBERTARIAN\": \"LIB\",\n",
    "        \"LIBERTARIN\":\"LIB\",\n",
    "        \"LBT\": \"LIB\",\n",
    "        \"L\": \"LIB\",\n",
    "        \"CONSTITUTION\": \"CON\",\n",
    "        \"NP\": \"IND\",\n",
    "        \"NON\": \"IND\",\n",
    "        \"WRI\": \"IND\",\n",
    "        \"WRITE-IN\": \"IND\",\n",
    "        \"ONA\": \"IND\",\n",
    "        \"GEN\": \"IND\",\n",
    "        \"NONE\":\"UNK\",\n",
    "        \"NPA\":\"IND\",\n",
    "        \"UST\":\"CON\",\n",
    "        \"(WRITE-IN)\":\"IND\"\n",
    "    })\n",
    ")\n",
    "\n",
    "general_data[\"party\"].value_counts(dropna=False)"
   ]
  },
  {
   "cell_type": "code",
   "execution_count": 20,
   "id": "ff4a4970",
   "metadata": {},
   "outputs": [],
   "source": [
    "# UPDATE MASTER FILE, CAREFUL\n",
    "update_master_candidate_party(general_data, r\"C:\\Huy Phan\\College\\VoterTurnout\\data\\cleaned_data\\gen_can_party.csv\")"
   ]
  },
  {
   "cell_type": "code",
   "execution_count": 21,
   "id": "daaed088",
   "metadata": {},
   "outputs": [
    {
     "name": "stderr",
     "output_type": "stream",
     "text": [
      "C:\\Users\\ADMIN\\AppData\\Local\\Temp\\ipykernel_27084\\1829951435.py:1: SettingWithCopyWarning: \n",
      "A value is trying to be set on a copy of a slice from a DataFrame.\n",
      "Try using .loc[row_indexer,col_indexer] = value instead\n",
      "\n",
      "See the caveats in the documentation: https://pandas.pydata.org/pandas-docs/stable/user_guide/indexing.html#returning-a-view-versus-a-copy\n",
      "  general_data[\"candidate_column\"] = (\n"
     ]
    },
    {
     "data": {
      "application/vnd.microsoft.datawrangler.viewer.v0+json": {
       "columns": [
        {
         "name": "index",
         "rawType": "int64",
         "type": "integer"
        },
        {
         "name": "precinct",
         "rawType": "object",
         "type": "string"
        },
        {
         "name": "gen_con_CASTLE",
         "rawType": "int64",
         "type": "integer"
        },
        {
         "name": "gen_dem_CLINTON",
         "rawType": "int64",
         "type": "integer"
        },
        {
         "name": "gen_grn_STEIN",
         "rawType": "int64",
         "type": "integer"
        },
        {
         "name": "gen_ind_FOX",
         "rawType": "int64",
         "type": "integer"
        },
        {
         "name": "gen_ind_HARTNELL",
         "rawType": "int64",
         "type": "integer"
        },
        {
         "name": "gen_ind_HOEFLING",
         "rawType": "int64",
         "type": "integer"
        },
        {
         "name": "gen_ind_KOTLIKOFF",
         "rawType": "int64",
         "type": "integer"
        },
        {
         "name": "gen_ind_MATUREN",
         "rawType": "int64",
         "type": "integer"
        },
        {
         "name": "gen_ind_MCMULLIN",
         "rawType": "int64",
         "type": "integer"
        },
        {
         "name": "gen_ind_MOOREHEAD",
         "rawType": "int64",
         "type": "integer"
        },
        {
         "name": "gen_lib_JOHNSON",
         "rawType": "int64",
         "type": "integer"
        },
        {
         "name": "gen_nlp_SOLTYSIK",
         "rawType": "int64",
         "type": "integer"
        },
        {
         "name": "gen_rep_TRUMP",
         "rawType": "int64",
         "type": "integer"
        }
       ],
       "ref": "b25573d8-1d40-4246-ac76-d0c3cb474396",
       "rows": [
        [
         "0",
         "ALCONA9999",
         "0",
         "0",
         "0",
         "0",
         "0",
         "0",
         "0",
         "16",
         "3",
         "0",
         "0",
         "0",
         "0"
        ],
        [
         "1",
         "ALCONAALCONA TOWNSHIP 1",
         "4",
         "199",
         "2",
         "0",
         "0",
         "0",
         "0",
         "0",
         "0",
         "0",
         "13",
         "0",
         "500"
        ],
        [
         "2",
         "ALCONACALEDONIA TOWNSHIP 1",
         "5",
         "178",
         "4",
         "0",
         "0",
         "0",
         "0",
         "0",
         "0",
         "0",
         "14",
         "0",
         "441"
        ],
        [
         "3",
         "ALCONACURTIS TOWNSHIP 1",
         "3",
         "214",
         "13",
         "0",
         "0",
         "0",
         "0",
         "0",
         "0",
         "0",
         "8",
         "0",
         "401"
        ],
        [
         "4",
         "ALCONAGREENBUSH TOWNSHIP 1",
         "2",
         "256",
         "4",
         "0",
         "0",
         "0",
         "0",
         "0",
         "0",
         "0",
         "22",
         "0",
         "501"
        ],
        [
         "5",
         "ALCONAGUSTIN TOWNSHIP 1",
         "1",
         "80",
         "6",
         "0",
         "0",
         "0",
         "0",
         "0",
         "0",
         "0",
         "16",
         "0",
         "249"
        ],
        [
         "6",
         "ALCONAHARRISVILLE CITY 1 WARD 1",
         "0",
         "98",
         "4",
         "0",
         "0",
         "0",
         "0",
         "0",
         "0",
         "0",
         "16",
         "0",
         "137"
        ],
        [
         "7",
         "ALCONAHARRISVILLE TOWNSHIP 1",
         "3",
         "216",
         "6",
         "0",
         "0",
         "0",
         "0",
         "0",
         "0",
         "0",
         "21",
         "0",
         "541"
        ],
        [
         "8",
         "ALCONAHAWES TOWNSHIP 1",
         "2",
         "160",
         "4",
         "0",
         "0",
         "0",
         "0",
         "0",
         "0",
         "0",
         "22",
         "0",
         "417"
        ],
        [
         "9",
         "ALCONAHAYNES TOWNSHIP 1",
         "3",
         "121",
         "3",
         "0",
         "0",
         "0",
         "0",
         "0",
         "0",
         "0",
         "14",
         "0",
         "318"
        ],
        [
         "10",
         "ALCONAMIKADO TOWNSHIP 1",
         "1",
         "96",
         "4",
         "0",
         "0",
         "0",
         "0",
         "0",
         "0",
         "0",
         "11",
         "0",
         "382"
        ],
        [
         "11",
         "ALCONAMILLEN TOWNSHIP 1",
         "2",
         "72",
         "3",
         "0",
         "0",
         "0",
         "0",
         "0",
         "0",
         "0",
         "2",
         "0",
         "135"
        ],
        [
         "12",
         "ALCONAMITCHELL TOWNSHIP 1",
         "2",
         "42",
         "1",
         "0",
         "0",
         "0",
         "0",
         "0",
         "0",
         "0",
         "5",
         "0",
         "179"
        ],
        [
         "13",
         "ALGER9999",
         "0",
         "0",
         "0",
         "0",
         "0",
         "0",
         "0",
         "0",
         "5",
         "0",
         "0",
         "0",
         "0"
        ],
        [
         "14",
         "ALGERAU TRAIN TOWNSHIP 1",
         "2",
         "199",
         "6",
         "0",
         "0",
         "0",
         "0",
         "0",
         "0",
         "0",
         "28",
         "1",
         "396"
        ],
        [
         "15",
         "ALGERBURT TOWNSHIP 1",
         "3",
         "101",
         "6",
         "0",
         "0",
         "0",
         "0",
         "0",
         "0",
         "0",
         "16",
         "0",
         "200"
        ],
        [
         "16",
         "ALGERGRAND ISLAND TOWNSHIP 1",
         "0",
         "15",
         "0",
         "0",
         "0",
         "0",
         "0",
         "0",
         "0",
         "0",
         "2",
         "0",
         "9"
        ],
        [
         "17",
         "ALGERLIMESTONE TOWNSHIP 1",
         "1",
         "75",
         "3",
         "0",
         "0",
         "0",
         "0",
         "0",
         "0",
         "0",
         "7",
         "0",
         "135"
        ],
        [
         "18",
         "ALGERMATHIAS TOWNSHIP 1",
         "1",
         "111",
         "3",
         "0",
         "0",
         "0",
         "0",
         "0",
         "0",
         "0",
         "11",
         "1",
         "108"
        ],
        [
         "19",
         "ALGERMUNISING CITY 1",
         "3",
         "441",
         "23",
         "0",
         "0",
         "0",
         "0",
         "0",
         "0",
         "0",
         "42",
         "0",
         "518"
        ],
        [
         "20",
         "ALGERMUNISING TOWNSHIP 1",
         "2",
         "166",
         "6",
         "0",
         "0",
         "0",
         "0",
         "0",
         "0",
         "0",
         "18",
         "0",
         "345"
        ],
        [
         "21",
         "ALGERMUNISING TOWNSHIP 2",
         "4",
         "158",
         "6",
         "0",
         "0",
         "0",
         "0",
         "0",
         "0",
         "0",
         "13",
         "0",
         "422"
        ],
        [
         "22",
         "ALGERONOTA TOWNSHIP 1",
         "1",
         "121",
         "4",
         "0",
         "0",
         "0",
         "0",
         "0",
         "0",
         "0",
         "13",
         "0",
         "138"
        ],
        [
         "23",
         "ALGERROCK RIVER TOWNSHIP 1",
         "2",
         "276",
         "10",
         "0",
         "0",
         "0",
         "0",
         "0",
         "0",
         "0",
         "27",
         "0",
         "314"
        ],
        [
         "24",
         "ALLEGANALLEGAN CITY 1",
         "5",
         "283",
         "10",
         "0",
         "0",
         "0",
         "0",
         "0",
         "0",
         "0",
         "32",
         "1",
         "274"
        ],
        [
         "25",
         "ALLEGANALLEGAN CITY 2",
         "4",
         "475",
         "32",
         "0",
         "0",
         "0",
         "0",
         "0",
         "1",
         "0",
         "69",
         "3",
         "667"
        ],
        [
         "26",
         "ALLEGANALLEGAN TOWNSHIP 1",
         "6",
         "554",
         "10",
         "0",
         "0",
         "0",
         "0",
         "0",
         "1",
         "0",
         "78",
         "0",
         "835"
        ],
        [
         "27",
         "ALLEGANALLEGAN TOWNSHIP 2",
         "3",
         "209",
         "7",
         "0",
         "0",
         "0",
         "0",
         "0",
         "0",
         "0",
         "20",
         "0",
         "354"
        ],
        [
         "28",
         "ALLEGANCASCO TOWNSHIP 1",
         "4",
         "605",
         "8",
         "0",
         "0",
         "0",
         "0",
         "0",
         "0",
         "0",
         "69",
         "0",
         "730"
        ],
        [
         "29",
         "ALLEGANCHESHIRE TOWNSHIP 1",
         "5",
         "290",
         "13",
         "0",
         "0",
         "0",
         "0",
         "0",
         "0",
         "0",
         "43",
         "0",
         "516"
        ],
        [
         "30",
         "ALLEGANCLYDE TOWNSHIP 1",
         "0",
         "310",
         "6",
         "0",
         "0",
         "0",
         "0",
         "0",
         "1",
         "0",
         "30",
         "0",
         "409"
        ],
        [
         "31",
         "ALLEGANDORR TOWNSHIP 1",
         "10",
         "261",
         "7",
         "0",
         "0",
         "0",
         "0",
         "0",
         "1",
         "0",
         "47",
         "0",
         "782"
        ],
        [
         "32",
         "ALLEGANDORR TOWNSHIP 2",
         "8",
         "348",
         "22",
         "0",
         "0",
         "0",
         "0",
         "0",
         "11",
         "0",
         "81",
         "0",
         "1163"
        ],
        [
         "33",
         "ALLEGANDORR TOWNSHIP 3",
         "8",
         "330",
         "14",
         "0",
         "0",
         "0",
         "0",
         "0",
         "1",
         "0",
         "58",
         "0",
         "810"
        ],
        [
         "34",
         "ALLEGANDOUGLAS CITY 1",
         "1",
         "528",
         "6",
         "0",
         "0",
         "0",
         "0",
         "0",
         "0",
         "0",
         "17",
         "0",
         "245"
        ],
        [
         "35",
         "ALLEGANFENNVILLE CITY 1",
         "2",
         "204",
         "10",
         "0",
         "0",
         "0",
         "0",
         "0",
         "0",
         "0",
         "28",
         "0",
         "229"
        ],
        [
         "36",
         "ALLEGANFILLMORE TOWNSHIP 1",
         "4",
         "227",
         "10",
         "0",
         "0",
         "0",
         "0",
         "0",
         "0",
         "0",
         "39",
         "0",
         "1163"
        ],
        [
         "37",
         "ALLEGANGANGES TOWNSHIP 1",
         "3",
         "602",
         "13",
         "0",
         "0",
         "0",
         "0",
         "0",
         "1",
         "0",
         "52",
         "1",
         "727"
        ],
        [
         "38",
         "ALLEGANGUNPLAIN TOWNSHIP 1",
         "10",
         "743",
         "25",
         "0",
         "0",
         "0",
         "0",
         "0",
         "4",
         "0",
         "89",
         "0",
         "1009"
        ],
        [
         "39",
         "ALLEGANGUNPLAIN TOWNSHIP 2",
         "6",
         "445",
         "11",
         "0",
         "0",
         "0",
         "0",
         "0",
         "4",
         "0",
         "66",
         "1",
         "648"
        ],
        [
         "40",
         "ALLEGANHEATH TOWNSHIP 1",
         "11",
         "348",
         "17",
         "0",
         "0",
         "0",
         "0",
         "0",
         "1",
         "0",
         "70",
         "1",
         "1401"
        ],
        [
         "41",
         "ALLEGANHOLLAND CITY 11 WARD 5",
         "3",
         "316",
         "12",
         "0",
         "0",
         "0",
         "0",
         "0",
         "10",
         "0",
         "37",
         "0",
         "445"
        ],
        [
         "42",
         "ALLEGANHOLLAND CITY 12 WARD 5",
         "3",
         "312",
         "10",
         "0",
         "0",
         "0",
         "0",
         "0",
         "10",
         "0",
         "44",
         "0",
         "583"
        ],
        [
         "43",
         "ALLEGANHOLLAND CITY 13 WARD 5",
         "5",
         "335",
         "4",
         "0",
         "0",
         "0",
         "0",
         "0",
         "3",
         "0",
         "43",
         "0",
         "430"
        ],
        [
         "44",
         "ALLEGANHOLLAND CITY 9 WARD 4",
         "5",
         "370",
         "18",
         "0",
         "0",
         "0",
         "0",
         "0",
         "11",
         "0",
         "23",
         "2",
         "473"
        ],
        [
         "45",
         "ALLEGANHOPKINS TOWNSHIP 1",
         "7",
         "306",
         "17",
         "0",
         "0",
         "0",
         "0",
         "0",
         "0",
         "0",
         "85",
         "3",
         "905"
        ],
        [
         "46",
         "ALLEGANLAKETOWN TOWNSHIP 1",
         "7",
         "523",
         "6",
         "0",
         "0",
         "0",
         "1",
         "0",
         "15",
         "0",
         "53",
         "3",
         "759"
        ],
        [
         "47",
         "ALLEGANLAKETOWN TOWNSHIP 2",
         "8",
         "459",
         "14",
         "0",
         "0",
         "0",
         "0",
         "0",
         "7",
         "0",
         "52",
         "0",
         "1151"
        ],
        [
         "48",
         "ALLEGANLAKETOWN TOWNSHIP 3",
         "4",
         "254",
         "11",
         "0",
         "0",
         "0",
         "0",
         "0",
         "3",
         "0",
         "22",
         "0",
         "342"
        ],
        [
         "49",
         "ALLEGANLEE TOWNSHIP 1",
         "1",
         "381",
         "7",
         "0",
         "0",
         "0",
         "0",
         "0",
         "0",
         "0",
         "39",
         "1",
         "521"
        ]
       ],
       "shape": {
        "columns": 14,
        "rows": 5077
       }
      },
      "text/html": [
       "<div>\n",
       "<style scoped>\n",
       "    .dataframe tbody tr th:only-of-type {\n",
       "        vertical-align: middle;\n",
       "    }\n",
       "\n",
       "    .dataframe tbody tr th {\n",
       "        vertical-align: top;\n",
       "    }\n",
       "\n",
       "    .dataframe thead th {\n",
       "        text-align: right;\n",
       "    }\n",
       "</style>\n",
       "<table border=\"1\" class=\"dataframe\">\n",
       "  <thead>\n",
       "    <tr style=\"text-align: right;\">\n",
       "      <th>candidate_column</th>\n",
       "      <th>precinct</th>\n",
       "      <th>gen_con_CASTLE</th>\n",
       "      <th>gen_dem_CLINTON</th>\n",
       "      <th>gen_grn_STEIN</th>\n",
       "      <th>gen_ind_FOX</th>\n",
       "      <th>gen_ind_HARTNELL</th>\n",
       "      <th>gen_ind_HOEFLING</th>\n",
       "      <th>gen_ind_KOTLIKOFF</th>\n",
       "      <th>gen_ind_MATUREN</th>\n",
       "      <th>gen_ind_MCMULLIN</th>\n",
       "      <th>gen_ind_MOOREHEAD</th>\n",
       "      <th>gen_lib_JOHNSON</th>\n",
       "      <th>gen_nlp_SOLTYSIK</th>\n",
       "      <th>gen_rep_TRUMP</th>\n",
       "    </tr>\n",
       "  </thead>\n",
       "  <tbody>\n",
       "    <tr>\n",
       "      <th>0</th>\n",
       "      <td>ALCONA9999</td>\n",
       "      <td>0</td>\n",
       "      <td>0</td>\n",
       "      <td>0</td>\n",
       "      <td>0</td>\n",
       "      <td>0</td>\n",
       "      <td>0</td>\n",
       "      <td>0</td>\n",
       "      <td>16</td>\n",
       "      <td>3</td>\n",
       "      <td>0</td>\n",
       "      <td>0</td>\n",
       "      <td>0</td>\n",
       "      <td>0</td>\n",
       "    </tr>\n",
       "    <tr>\n",
       "      <th>1</th>\n",
       "      <td>ALCONAALCONA TOWNSHIP 1</td>\n",
       "      <td>4</td>\n",
       "      <td>199</td>\n",
       "      <td>2</td>\n",
       "      <td>0</td>\n",
       "      <td>0</td>\n",
       "      <td>0</td>\n",
       "      <td>0</td>\n",
       "      <td>0</td>\n",
       "      <td>0</td>\n",
       "      <td>0</td>\n",
       "      <td>13</td>\n",
       "      <td>0</td>\n",
       "      <td>500</td>\n",
       "    </tr>\n",
       "    <tr>\n",
       "      <th>2</th>\n",
       "      <td>ALCONACALEDONIA TOWNSHIP 1</td>\n",
       "      <td>5</td>\n",
       "      <td>178</td>\n",
       "      <td>4</td>\n",
       "      <td>0</td>\n",
       "      <td>0</td>\n",
       "      <td>0</td>\n",
       "      <td>0</td>\n",
       "      <td>0</td>\n",
       "      <td>0</td>\n",
       "      <td>0</td>\n",
       "      <td>14</td>\n",
       "      <td>0</td>\n",
       "      <td>441</td>\n",
       "    </tr>\n",
       "    <tr>\n",
       "      <th>3</th>\n",
       "      <td>ALCONACURTIS TOWNSHIP 1</td>\n",
       "      <td>3</td>\n",
       "      <td>214</td>\n",
       "      <td>13</td>\n",
       "      <td>0</td>\n",
       "      <td>0</td>\n",
       "      <td>0</td>\n",
       "      <td>0</td>\n",
       "      <td>0</td>\n",
       "      <td>0</td>\n",
       "      <td>0</td>\n",
       "      <td>8</td>\n",
       "      <td>0</td>\n",
       "      <td>401</td>\n",
       "    </tr>\n",
       "    <tr>\n",
       "      <th>4</th>\n",
       "      <td>ALCONAGREENBUSH TOWNSHIP 1</td>\n",
       "      <td>2</td>\n",
       "      <td>256</td>\n",
       "      <td>4</td>\n",
       "      <td>0</td>\n",
       "      <td>0</td>\n",
       "      <td>0</td>\n",
       "      <td>0</td>\n",
       "      <td>0</td>\n",
       "      <td>0</td>\n",
       "      <td>0</td>\n",
       "      <td>22</td>\n",
       "      <td>0</td>\n",
       "      <td>501</td>\n",
       "    </tr>\n",
       "    <tr>\n",
       "      <th>...</th>\n",
       "      <td>...</td>\n",
       "      <td>...</td>\n",
       "      <td>...</td>\n",
       "      <td>...</td>\n",
       "      <td>...</td>\n",
       "      <td>...</td>\n",
       "      <td>...</td>\n",
       "      <td>...</td>\n",
       "      <td>...</td>\n",
       "      <td>...</td>\n",
       "      <td>...</td>\n",
       "      <td>...</td>\n",
       "      <td>...</td>\n",
       "      <td>...</td>\n",
       "    </tr>\n",
       "    <tr>\n",
       "      <th>5072</th>\n",
       "      <td>WEXFORDSELMA TOWNSHIP 1</td>\n",
       "      <td>4</td>\n",
       "      <td>322</td>\n",
       "      <td>14</td>\n",
       "      <td>0</td>\n",
       "      <td>0</td>\n",
       "      <td>0</td>\n",
       "      <td>0</td>\n",
       "      <td>0</td>\n",
       "      <td>0</td>\n",
       "      <td>0</td>\n",
       "      <td>36</td>\n",
       "      <td>1</td>\n",
       "      <td>729</td>\n",
       "    </tr>\n",
       "    <tr>\n",
       "      <th>5073</th>\n",
       "      <td>WEXFORDSLAGLE TOWNSHIP 1</td>\n",
       "      <td>2</td>\n",
       "      <td>92</td>\n",
       "      <td>0</td>\n",
       "      <td>0</td>\n",
       "      <td>0</td>\n",
       "      <td>0</td>\n",
       "      <td>0</td>\n",
       "      <td>0</td>\n",
       "      <td>0</td>\n",
       "      <td>0</td>\n",
       "      <td>12</td>\n",
       "      <td>0</td>\n",
       "      <td>179</td>\n",
       "    </tr>\n",
       "    <tr>\n",
       "      <th>5074</th>\n",
       "      <td>WEXFORDSOUTH BRANCH TOWNSHIP 1</td>\n",
       "      <td>0</td>\n",
       "      <td>76</td>\n",
       "      <td>3</td>\n",
       "      <td>0</td>\n",
       "      <td>0</td>\n",
       "      <td>0</td>\n",
       "      <td>0</td>\n",
       "      <td>0</td>\n",
       "      <td>0</td>\n",
       "      <td>0</td>\n",
       "      <td>5</td>\n",
       "      <td>0</td>\n",
       "      <td>127</td>\n",
       "    </tr>\n",
       "    <tr>\n",
       "      <th>5075</th>\n",
       "      <td>WEXFORDSPRINGVILLE TOWNSHIP 1</td>\n",
       "      <td>0</td>\n",
       "      <td>176</td>\n",
       "      <td>10</td>\n",
       "      <td>0</td>\n",
       "      <td>0</td>\n",
       "      <td>0</td>\n",
       "      <td>0</td>\n",
       "      <td>0</td>\n",
       "      <td>0</td>\n",
       "      <td>0</td>\n",
       "      <td>28</td>\n",
       "      <td>0</td>\n",
       "      <td>494</td>\n",
       "    </tr>\n",
       "    <tr>\n",
       "      <th>5076</th>\n",
       "      <td>WEXFORDWEXFORD TOWNSHIP 1</td>\n",
       "      <td>1</td>\n",
       "      <td>110</td>\n",
       "      <td>7</td>\n",
       "      <td>0</td>\n",
       "      <td>0</td>\n",
       "      <td>0</td>\n",
       "      <td>0</td>\n",
       "      <td>0</td>\n",
       "      <td>0</td>\n",
       "      <td>0</td>\n",
       "      <td>17</td>\n",
       "      <td>2</td>\n",
       "      <td>357</td>\n",
       "    </tr>\n",
       "  </tbody>\n",
       "</table>\n",
       "<p>5077 rows × 14 columns</p>\n",
       "</div>"
      ],
      "text/plain": [
       "candidate_column                        precinct  gen_con_CASTLE  \\\n",
       "0                                     ALCONA9999               0   \n",
       "1                        ALCONAALCONA TOWNSHIP 1               4   \n",
       "2                     ALCONACALEDONIA TOWNSHIP 1               5   \n",
       "3                        ALCONACURTIS TOWNSHIP 1               3   \n",
       "4                     ALCONAGREENBUSH TOWNSHIP 1               2   \n",
       "...                                          ...             ...   \n",
       "5072                     WEXFORDSELMA TOWNSHIP 1               4   \n",
       "5073                    WEXFORDSLAGLE TOWNSHIP 1               2   \n",
       "5074              WEXFORDSOUTH BRANCH TOWNSHIP 1               0   \n",
       "5075               WEXFORDSPRINGVILLE TOWNSHIP 1               0   \n",
       "5076                   WEXFORDWEXFORD TOWNSHIP 1               1   \n",
       "\n",
       "candidate_column  gen_dem_CLINTON  gen_grn_STEIN  gen_ind_FOX  \\\n",
       "0                               0              0            0   \n",
       "1                             199              2            0   \n",
       "2                             178              4            0   \n",
       "3                             214             13            0   \n",
       "4                             256              4            0   \n",
       "...                           ...            ...          ...   \n",
       "5072                          322             14            0   \n",
       "5073                           92              0            0   \n",
       "5074                           76              3            0   \n",
       "5075                          176             10            0   \n",
       "5076                          110              7            0   \n",
       "\n",
       "candidate_column  gen_ind_HARTNELL  gen_ind_HOEFLING  gen_ind_KOTLIKOFF  \\\n",
       "0                                0                 0                  0   \n",
       "1                                0                 0                  0   \n",
       "2                                0                 0                  0   \n",
       "3                                0                 0                  0   \n",
       "4                                0                 0                  0   \n",
       "...                            ...               ...                ...   \n",
       "5072                             0                 0                  0   \n",
       "5073                             0                 0                  0   \n",
       "5074                             0                 0                  0   \n",
       "5075                             0                 0                  0   \n",
       "5076                             0                 0                  0   \n",
       "\n",
       "candidate_column  gen_ind_MATUREN  gen_ind_MCMULLIN  gen_ind_MOOREHEAD  \\\n",
       "0                              16                 3                  0   \n",
       "1                               0                 0                  0   \n",
       "2                               0                 0                  0   \n",
       "3                               0                 0                  0   \n",
       "4                               0                 0                  0   \n",
       "...                           ...               ...                ...   \n",
       "5072                            0                 0                  0   \n",
       "5073                            0                 0                  0   \n",
       "5074                            0                 0                  0   \n",
       "5075                            0                 0                  0   \n",
       "5076                            0                 0                  0   \n",
       "\n",
       "candidate_column  gen_lib_JOHNSON  gen_nlp_SOLTYSIK  gen_rep_TRUMP  \n",
       "0                               0                 0              0  \n",
       "1                              13                 0            500  \n",
       "2                              14                 0            441  \n",
       "3                               8                 0            401  \n",
       "4                              22                 0            501  \n",
       "...                           ...               ...            ...  \n",
       "5072                           36                 1            729  \n",
       "5073                           12                 0            179  \n",
       "5074                            5                 0            127  \n",
       "5075                           28                 0            494  \n",
       "5076                           17                 2            357  \n",
       "\n",
       "[5077 rows x 14 columns]"
      ]
     },
     "execution_count": 21,
     "metadata": {},
     "output_type": "execute_result"
    }
   ],
   "source": [
    "general_data[\"candidate_column\"] = (\n",
    "    \"gen_\" +\n",
    "    general_data[\"party\"].str.lower() + \"_\" +\n",
    "    general_data[\"candidate\"].str.split().str[-1].str.upper()\n",
    ")\n",
    "\n",
    "# pivot the table\n",
    "general_result = general_data.pivot_table(\n",
    "    index=\"precinct\",\n",
    "    columns=\"candidate_column\",\n",
    "    values=\"votes\",\n",
    "    aggfunc=\"sum\",  \n",
    "    fill_value=0\n",
    ").reset_index()\n",
    "\n",
    "general_result"
   ]
  },
  {
   "cell_type": "code",
   "execution_count": 22,
   "id": "6686d34b",
   "metadata": {},
   "outputs": [],
   "source": [
    "# Merge\n",
    "combined = pd.merge(primary_result, general_result, on=\"precinct\", how=\"inner\")\n",
    "\n",
    "# Convert DEM primary columns to numeric and calculate total\n",
    "dem_cols = combined.filter(like=\"pri_dem_\").columns\n",
    "combined[dem_cols] = combined[dem_cols].apply(pd.to_numeric, errors=\"coerce\")\n",
    "combined[\"dem_primary_total\"] = combined[dem_cols].sum(axis=1)\n",
    "\n",
    "# Convert general election columns to numeric and calculate total\n",
    "gen_cols = combined.filter(like=\"gen_\").columns\n",
    "combined[gen_cols] = combined[gen_cols].apply(pd.to_numeric, errors=\"coerce\")\n",
    "combined[\"general_total\"] = combined[gen_cols].sum(axis=1)\n",
    "\n",
    "# Convert all numeric columns to int\n",
    "for col in combined.columns[1:]:\n",
    "    combined[col] = pd.to_numeric(combined[col], errors='coerce').fillna(0).astype(int)\n",
    "\n",
    "# Identify filtered-out precincts\n",
    "primary_precincts = set(primary_result[\"precinct\"])\n",
    "general_precincts = set(general_result[\"precinct\"])\n",
    "combined_precincts = set(combined[\"precinct\"])\n",
    "\n",
    "primary_filtered_out = primary_precincts - combined_precincts\n",
    "general_filtered_out = general_precincts - combined_precincts\n",
    "\n",
    "\n"
   ]
  },
  {
   "cell_type": "code",
   "execution_count": 23,
   "id": "a6797e92",
   "metadata": {},
   "outputs": [],
   "source": [
    "\n",
    "\n",
    "combined.to_csv(\"MI.csv\", index=False)\n",
    "# Step 3: Identify unmatched precincts and retrieve full rows\n",
    "combined_precincts = set(combined[\"precinct\"])\n",
    "\n",
    "# Rows in primary_result but not in combined\n",
    "primary_filtered_out = primary_result[~primary_result[\"precinct\"].isin(combined_precincts)]\n",
    "primary_filtered_out.to_csv(\"MI_primary_filtered.csv\", index=False)\n",
    "\n",
    "# Rows in general_result but not in combined\n",
    "general_filtered_out = general_result[~general_result[\"precinct\"].isin(combined_precincts)]\n",
    "general_filtered_out.to_csv(\"MI_general_filtered.csv\", index=False)"
   ]
  },
  {
   "cell_type": "code",
   "execution_count": 24,
   "id": "b3d042ff",
   "metadata": {},
   "outputs": [
    {
     "name": "stdout",
     "output_type": "stream",
     "text": [
      "primary: 992, general: 5077, combined: 407\n"
     ]
    }
   ],
   "source": [
    "print(f\"primary: {len(primary_precincts)}, general: {len(general_precincts)}, combined: {len(combined)}\")"
   ]
  },
  {
   "cell_type": "code",
   "execution_count": 25,
   "id": "9900725d",
   "metadata": {},
   "outputs": [
    {
     "name": "stdout",
     "output_type": "stream",
     "text": [
      "primary: 22, general: 83\n"
     ]
    }
   ],
   "source": [
    "print(f\"primary: {len(pri_combined_df['county'].unique())}, general: {len(gen_combined_df['county'].unique())}\")\n"
   ]
  },
  {
   "cell_type": "code",
   "execution_count": 26,
   "id": "b12d639e",
   "metadata": {},
   "outputs": [
    {
     "data": {
      "text/plain": [
       "array(['Alcona', 'Alger', 'Allegan', 'Schoolcraft', 'Barry', 'Charlevoix',\n",
       "       'Cheboygan', 'Clare', 'Gogebic', 'Gratiot', 'Houghton', 'Iron',\n",
       "       'Keweenaw', 'Luce', 'Mackinac', 'Marquette', 'Montcalm',\n",
       "       'Montmorency', 'Ontonagon', 'Oscoda', 'Oakland', 'Kalamazoo'],\n",
       "      dtype=object)"
      ]
     },
     "execution_count": 26,
     "metadata": {},
     "output_type": "execute_result"
    }
   ],
   "source": [
    "pri_combined_df['county'].unique()"
   ]
  }
 ],
 "metadata": {
  "kernelspec": {
   "display_name": "Python 3",
   "language": "python",
   "name": "python3"
  },
  "language_info": {
   "codemirror_mode": {
    "name": "ipython",
    "version": 3
   },
   "file_extension": ".py",
   "mimetype": "text/x-python",
   "name": "python",
   "nbconvert_exporter": "python",
   "pygments_lexer": "ipython3",
   "version": "3.11.2"
  }
 },
 "nbformat": 4,
 "nbformat_minor": 5
}
