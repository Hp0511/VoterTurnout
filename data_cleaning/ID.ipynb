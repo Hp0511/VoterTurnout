{
 "cells": [
  {
   "cell_type": "code",
   "execution_count": 6,
   "id": "ad1be0fa",
   "metadata": {},
   "outputs": [],
   "source": [
    "# Import all the libraries\n",
    "import pandas as pd\n",
    "import glob\n",
    "import os\n",
    "import re\n",
    "from pprint import pprint"
   ]
  },
  {
   "cell_type": "code",
   "execution_count": 7,
   "id": "c263c4df",
   "metadata": {},
   "outputs": [],
   "source": [
    "#Get all CSV files in the folder of GA\n",
    "all_files = glob.glob(r\"C:\\Huy Phan\\College\\VoterTurnout\\data\\ID\\*.csv\")\n",
    "\n",
    "# Files that contain both 'precinct' and 'general' in the filename\n",
    "general_files = [\n",
    "    f for f in all_files\n",
    "    if all(word in f.lower() for word in ['precinct', 'general'])\n",
    "]\n",
    "\n",
    "\n",
    "# Files that contain both 'precinct' and 'primary' in the filename\n",
    "primary_files = [\n",
    "    f for f in all_files\n",
    "    if all(word in f.lower() for word in ['precinct', 'primary'])\n",
    "]\n"
   ]
  },
  {
   "cell_type": "code",
   "execution_count": 8,
   "id": "60d49ea6",
   "metadata": {},
   "outputs": [
    {
     "name": "stdout",
     "output_type": "stream",
     "text": [
      "General files:\n",
      "C:\\Huy Phan\\College\\VoterTurnout\\data\\ID\\20161108__id__general__precinct.csv\n"
     ]
    }
   ],
   "source": [
    "print(\"General files:\")\n",
    "for f in general_files:\n",
    "    print(f)\n"
   ]
  },
  {
   "cell_type": "code",
   "execution_count": 9,
   "id": "4ab13110",
   "metadata": {},
   "outputs": [
    {
     "name": "stdout",
     "output_type": "stream",
     "text": [
      "\n",
      "Primary files:\n",
      "C:\\Huy Phan\\College\\VoterTurnout\\data\\ID\\20160308__id__primary__presidential__precinct.csv\n",
      "C:\\Huy Phan\\College\\VoterTurnout\\data\\ID\\20160517__id__primary__precinct.csv\n"
     ]
    }
   ],
   "source": [
    "print(\"\\nPrimary files:\")\n",
    "for f in primary_files:\n",
    "    print(f)"
   ]
  },
  {
   "cell_type": "code",
   "execution_count": 10,
   "id": "ff5df6c7",
   "metadata": {},
   "outputs": [],
   "source": [
    "# Process primary files\n",
    "primary_df_list = []\n",
    "\n",
    "for file in primary_files:\n",
    "    try:\n",
    "        df = pd.read_csv(file)\n",
    "        \n",
    "        # Combine precinct as county + precinct\n",
    "        df[\"precinct\"] = df[\"county\"].astype(str) + df[\"precinct\"].astype(str)\n",
    "        df[\"precinct\"] = df[\"precinct\"].str.upper()\n",
    "\n",
    "        # Cleaning maybe total precinct\n",
    "        if 'precinct' in df.columns:\n",
    "            df['precinct'] = df['precinct'].astype(str)                  \n",
    "            df = df[df['precinct'].str.upper() != \"TOTAL\"]               \n",
    "            df = df[df['precinct'].str.strip().str.upper() != \"TOTAL\"]   \n",
    "            df = df[df['precinct'].str.upper() != \"NAN\"]       \n",
    "            df = df[~df['precinct'].str.upper().str.contains(r\"\\w*TOTAL\\w*\", na=False)]          \n",
    "        \n",
    "        if 'county' in df.columns:\n",
    "            df['county'] = df['county'].astype(str)                  \n",
    "            df = df[df['county'].str.upper() != \"TOTAL\"]               \n",
    "            df = df[df['county'].str.strip().str.upper() != \"TOTAL\"]   \n",
    "            df = df[df['county'].str.upper() != \"NAN\"]  \n",
    "            df = df[~df['county'].str.upper().str.contains(r\"\\w*TOTAL\\w*\", na=False)]    \n",
    "\n",
    "        # Filtering out only President \n",
    "        if 'office' in df.columns:\n",
    "            df = df[df[\"office\"] == \"President\"]\n",
    "        \n",
    "        # Dropping duplicates value\n",
    "        df = df.drop_duplicates()\n",
    "        \n",
    "        primary_df_list.append(df)\n",
    "\n",
    "    except Exception as e:\n",
    "        print(f\"Error in {file}: {e}\")\n",
    "\n",
    "# Combine all cleaned files\n",
    "pri_combined_df = pd.concat(primary_df_list, ignore_index=True)\n",
    "\n",
    "\n",
    "# Checking any suspicious precinct\n",
    "suspicious_precincts = pri_combined_df[\n",
    "    pri_combined_df[\"precinct\"].str.strip().str.upper().isin([\"TOTAL\", \"NAN\"])\n",
    "]\n"
   ]
  },
  {
   "cell_type": "code",
   "execution_count": 11,
   "id": "f0e1e913",
   "metadata": {},
   "outputs": [
    {
     "data": {
      "application/vnd.microsoft.datawrangler.viewer.v0+json": {
       "columns": [
        {
         "name": "index",
         "rawType": "int64",
         "type": "integer"
        },
        {
         "name": "precinct",
         "rawType": "object",
         "type": "string"
        },
        {
         "name": "party",
         "rawType": "object",
         "type": "string"
        },
        {
         "name": "candidate",
         "rawType": "object",
         "type": "string"
        },
        {
         "name": "votes",
         "rawType": "float64",
         "type": "float"
        }
       ],
       "ref": "231b2d93-e4c7-4d92-8a61-4c62e278ede6",
       "rows": [
        [
         "0",
         "ADA1401",
         "REP",
         "Jeb Bush",
         "0.0"
        ],
        [
         "1",
         "ADA1402",
         "REP",
         "Jeb Bush",
         "0.0"
        ],
        [
         "2",
         "ADA1403",
         "REP",
         "Jeb Bush",
         "1.0"
        ],
        [
         "3",
         "ADA1404",
         "REP",
         "Jeb Bush",
         "1.0"
        ],
        [
         "4",
         "ADA1405",
         "REP",
         "Jeb Bush",
         "1.0"
        ],
        [
         "5",
         "ADA1406",
         "REP",
         "Jeb Bush",
         "2.0"
        ],
        [
         "6",
         "ADA1407",
         "REP",
         "Jeb Bush",
         "2.0"
        ],
        [
         "7",
         "ADA1408",
         "REP",
         "Jeb Bush",
         "3.0"
        ],
        [
         "8",
         "ADA1409",
         "REP",
         "Jeb Bush",
         "2.0"
        ],
        [
         "9",
         "ADA1410",
         "REP",
         "Jeb Bush",
         "0.0"
        ],
        [
         "10",
         "ADA1411",
         "REP",
         "Jeb Bush",
         "0.0"
        ],
        [
         "11",
         "ADA1412",
         "REP",
         "Jeb Bush",
         "1.0"
        ],
        [
         "12",
         "ADA1413",
         "REP",
         "Jeb Bush",
         "1.0"
        ],
        [
         "13",
         "ADA1414",
         "REP",
         "Jeb Bush",
         "2.0"
        ],
        [
         "14",
         "ADA1415",
         "REP",
         "Jeb Bush",
         "0.0"
        ],
        [
         "15",
         "ADA1416",
         "REP",
         "Jeb Bush",
         "0.0"
        ],
        [
         "16",
         "ADA1417",
         "REP",
         "Jeb Bush",
         "1.0"
        ],
        [
         "17",
         "ADA1418",
         "REP",
         "Jeb Bush",
         "4.0"
        ],
        [
         "18",
         "ADA1419",
         "REP",
         "Jeb Bush",
         "2.0"
        ],
        [
         "19",
         "ADA1501",
         "REP",
         "Jeb Bush",
         "0.0"
        ],
        [
         "20",
         "ADA1502",
         "REP",
         "Jeb Bush",
         "4.0"
        ],
        [
         "21",
         "ADA1503",
         "REP",
         "Jeb Bush",
         "2.0"
        ],
        [
         "22",
         "ADA1504",
         "REP",
         "Jeb Bush",
         "1.0"
        ],
        [
         "23",
         "ADA1505",
         "REP",
         "Jeb Bush",
         "0.0"
        ],
        [
         "24",
         "ADA1506",
         "REP",
         "Jeb Bush",
         "0.0"
        ],
        [
         "25",
         "ADA1507",
         "REP",
         "Jeb Bush",
         "0.0"
        ],
        [
         "26",
         "ADA1508",
         "REP",
         "Jeb Bush",
         "0.0"
        ],
        [
         "27",
         "ADA1509",
         "REP",
         "Jeb Bush",
         "2.0"
        ],
        [
         "28",
         "ADA1510",
         "REP",
         "Jeb Bush",
         "1.0"
        ],
        [
         "29",
         "ADA1511",
         "REP",
         "Jeb Bush",
         "3.0"
        ],
        [
         "30",
         "ADA1512",
         "REP",
         "Jeb Bush",
         "2.0"
        ],
        [
         "31",
         "ADA1513",
         "REP",
         "Jeb Bush",
         "2.0"
        ],
        [
         "32",
         "ADA1514",
         "REP",
         "Jeb Bush",
         "0.0"
        ],
        [
         "33",
         "ADA1515",
         "REP",
         "Jeb Bush",
         "1.0"
        ],
        [
         "34",
         "ADA1601",
         "REP",
         "Jeb Bush",
         "0.0"
        ],
        [
         "35",
         "ADA1602",
         "REP",
         "Jeb Bush",
         "5.0"
        ],
        [
         "36",
         "ADA1603",
         "REP",
         "Jeb Bush",
         "2.0"
        ],
        [
         "37",
         "ADA1604",
         "REP",
         "Jeb Bush",
         "4.0"
        ],
        [
         "38",
         "ADA1605",
         "REP",
         "Jeb Bush",
         "0.0"
        ],
        [
         "39",
         "ADA1606",
         "REP",
         "Jeb Bush",
         "0.0"
        ],
        [
         "40",
         "ADA1607",
         "REP",
         "Jeb Bush",
         "2.0"
        ],
        [
         "41",
         "ADA1608",
         "REP",
         "Jeb Bush",
         "0.0"
        ],
        [
         "42",
         "ADA1609",
         "REP",
         "Jeb Bush",
         "1.0"
        ],
        [
         "43",
         "ADA1610",
         "REP",
         "Jeb Bush",
         "0.0"
        ],
        [
         "44",
         "ADA1611",
         "REP",
         "Jeb Bush",
         "0.0"
        ],
        [
         "45",
         "ADA1612",
         "REP",
         "Jeb Bush",
         "2.0"
        ],
        [
         "46",
         "ADA1613",
         "REP",
         "Jeb Bush",
         "1.0"
        ],
        [
         "47",
         "ADA1614",
         "REP",
         "Jeb Bush",
         "5.0"
        ],
        [
         "48",
         "ADA1615",
         "REP",
         "Jeb Bush",
         "1.0"
        ],
        [
         "49",
         "ADA1701",
         "REP",
         "Jeb Bush",
         "0.0"
        ]
       ],
       "shape": {
        "columns": 4,
        "rows": 12493
       }
      },
      "text/html": [
       "<div>\n",
       "<style scoped>\n",
       "    .dataframe tbody tr th:only-of-type {\n",
       "        vertical-align: middle;\n",
       "    }\n",
       "\n",
       "    .dataframe tbody tr th {\n",
       "        vertical-align: top;\n",
       "    }\n",
       "\n",
       "    .dataframe thead th {\n",
       "        text-align: right;\n",
       "    }\n",
       "</style>\n",
       "<table border=\"1\" class=\"dataframe\">\n",
       "  <thead>\n",
       "    <tr style=\"text-align: right;\">\n",
       "      <th></th>\n",
       "      <th>precinct</th>\n",
       "      <th>party</th>\n",
       "      <th>candidate</th>\n",
       "      <th>votes</th>\n",
       "    </tr>\n",
       "  </thead>\n",
       "  <tbody>\n",
       "    <tr>\n",
       "      <th>0</th>\n",
       "      <td>ADA1401</td>\n",
       "      <td>REP</td>\n",
       "      <td>Jeb Bush</td>\n",
       "      <td>0.0</td>\n",
       "    </tr>\n",
       "    <tr>\n",
       "      <th>1</th>\n",
       "      <td>ADA1402</td>\n",
       "      <td>REP</td>\n",
       "      <td>Jeb Bush</td>\n",
       "      <td>0.0</td>\n",
       "    </tr>\n",
       "    <tr>\n",
       "      <th>2</th>\n",
       "      <td>ADA1403</td>\n",
       "      <td>REP</td>\n",
       "      <td>Jeb Bush</td>\n",
       "      <td>1.0</td>\n",
       "    </tr>\n",
       "    <tr>\n",
       "      <th>3</th>\n",
       "      <td>ADA1404</td>\n",
       "      <td>REP</td>\n",
       "      <td>Jeb Bush</td>\n",
       "      <td>1.0</td>\n",
       "    </tr>\n",
       "    <tr>\n",
       "      <th>4</th>\n",
       "      <td>ADA1405</td>\n",
       "      <td>REP</td>\n",
       "      <td>Jeb Bush</td>\n",
       "      <td>1.0</td>\n",
       "    </tr>\n",
       "    <tr>\n",
       "      <th>...</th>\n",
       "      <td>...</td>\n",
       "      <td>...</td>\n",
       "      <td>...</td>\n",
       "      <td>...</td>\n",
       "    </tr>\n",
       "    <tr>\n",
       "      <th>12488</th>\n",
       "      <td>WASHINGTON07 MIDVALE</td>\n",
       "      <td>REP</td>\n",
       "      <td>Donald J. Trump</td>\n",
       "      <td>96.0</td>\n",
       "    </tr>\n",
       "    <tr>\n",
       "      <th>12489</th>\n",
       "      <td>WASHINGTON08 CAMBRIDGE</td>\n",
       "      <td>REP</td>\n",
       "      <td>Donald J. Trump</td>\n",
       "      <td>72.0</td>\n",
       "    </tr>\n",
       "    <tr>\n",
       "      <th>12490</th>\n",
       "      <td>WASHINGTON09 PIONEER</td>\n",
       "      <td>REP</td>\n",
       "      <td>Donald J. Trump</td>\n",
       "      <td>52.0</td>\n",
       "    </tr>\n",
       "    <tr>\n",
       "      <th>12491</th>\n",
       "      <td>WASHINGTON10 SUNNYSIDE</td>\n",
       "      <td>REP</td>\n",
       "      <td>Donald J. Trump</td>\n",
       "      <td>88.0</td>\n",
       "    </tr>\n",
       "    <tr>\n",
       "      <th>12492</th>\n",
       "      <td>WASHINGTON11 MINERAL</td>\n",
       "      <td>REP</td>\n",
       "      <td>Donald J. Trump</td>\n",
       "      <td>71.0</td>\n",
       "    </tr>\n",
       "  </tbody>\n",
       "</table>\n",
       "<p>12493 rows × 4 columns</p>\n",
       "</div>"
      ],
      "text/plain": [
       "                     precinct party        candidate  votes\n",
       "0                     ADA1401   REP         Jeb Bush    0.0\n",
       "1                     ADA1402   REP         Jeb Bush    0.0\n",
       "2                     ADA1403   REP         Jeb Bush    1.0\n",
       "3                     ADA1404   REP         Jeb Bush    1.0\n",
       "4                     ADA1405   REP         Jeb Bush    1.0\n",
       "...                       ...   ...              ...    ...\n",
       "12488    WASHINGTON07 MIDVALE   REP  Donald J. Trump   96.0\n",
       "12489  WASHINGTON08 CAMBRIDGE   REP  Donald J. Trump   72.0\n",
       "12490    WASHINGTON09 PIONEER   REP  Donald J. Trump   52.0\n",
       "12491  WASHINGTON10 SUNNYSIDE   REP  Donald J. Trump   88.0\n",
       "12492    WASHINGTON11 MINERAL   REP  Donald J. Trump   71.0\n",
       "\n",
       "[12493 rows x 4 columns]"
      ]
     },
     "execution_count": 11,
     "metadata": {},
     "output_type": "execute_result"
    }
   ],
   "source": [
    "# Select only the relevant columns\n",
    "primary_data = pri_combined_df[[\"precinct\", \"party\", \"candidate\", \"votes\"]]\n",
    "\n",
    "primary_data"
   ]
  },
  {
   "cell_type": "code",
   "execution_count": 12,
   "id": "dc2ffa15",
   "metadata": {},
   "outputs": [
    {
     "data": {
      "application/vnd.microsoft.datawrangler.viewer.v0+json": {
       "columns": [
        {
         "name": "candidate",
         "rawType": "object",
         "type": "string"
        },
        {
         "name": "count",
         "rawType": "int64",
         "type": "integer"
        }
       ],
       "ref": "8c306194-260c-4480-8020-568df07fa118",
       "rows": [
        [
         "Jeb Bush",
         "961"
        ],
        [
         "Ben Carson",
         "961"
        ],
        [
         "Chris Christie",
         "961"
        ],
        [
         "Ted Cruz",
         "961"
        ],
        [
         "Carly Fiorina",
         "961"
        ],
        [
         "Lindsey Graham",
         "961"
        ],
        [
         "Mike Huckabee",
         "961"
        ],
        [
         "John R. Kasich",
         "961"
        ],
        [
         "Peter Messina",
         "961"
        ],
        [
         "Rand Paul",
         "961"
        ],
        [
         "Marco Rubio",
         "961"
        ],
        [
         "Rick Santorum",
         "961"
        ],
        [
         "Donald J. Trump",
         "961"
        ]
       ],
       "shape": {
        "columns": 1,
        "rows": 13
       }
      },
      "text/plain": [
       "candidate\n",
       "Jeb Bush           961\n",
       "Ben Carson         961\n",
       "Chris Christie     961\n",
       "Ted Cruz           961\n",
       "Carly Fiorina      961\n",
       "Lindsey Graham     961\n",
       "Mike Huckabee      961\n",
       "John R. Kasich     961\n",
       "Peter Messina      961\n",
       "Rand Paul          961\n",
       "Marco Rubio        961\n",
       "Rick Santorum      961\n",
       "Donald J. Trump    961\n",
       "Name: count, dtype: int64"
      ]
     },
     "execution_count": 12,
     "metadata": {},
     "output_type": "execute_result"
    }
   ],
   "source": [
    "# Viewing candidate data\n",
    "primary_data[\"candidate\"].value_counts(dropna=False)"
   ]
  },
  {
   "cell_type": "code",
   "execution_count": 13,
   "id": "5eef8778",
   "metadata": {},
   "outputs": [
    {
     "data": {
      "application/vnd.microsoft.datawrangler.viewer.v0+json": {
       "columns": [
        {
         "name": "candidate",
         "rawType": "object",
         "type": "string"
        },
        {
         "name": "count",
         "rawType": "int64",
         "type": "integer"
        }
       ],
       "ref": "9cf3ebf6-7453-42c9-9a5f-17012ff68d82",
       "rows": [
        [
         "BUSH",
         "961"
        ],
        [
         "CARSON",
         "961"
        ],
        [
         "CHRISTIE",
         "961"
        ],
        [
         "CRUZ",
         "961"
        ],
        [
         "FIORINA",
         "961"
        ],
        [
         "GRAHAM",
         "961"
        ],
        [
         "HUCKABEE",
         "961"
        ],
        [
         "KASICH",
         "961"
        ],
        [
         "MESSINA",
         "961"
        ],
        [
         "PAUL",
         "961"
        ],
        [
         "RUBIO",
         "961"
        ],
        [
         "SANTORUM",
         "961"
        ],
        [
         "TRUMP",
         "961"
        ]
       ],
       "shape": {
        "columns": 1,
        "rows": 13
       }
      },
      "text/plain": [
       "candidate\n",
       "BUSH        961\n",
       "CARSON      961\n",
       "CHRISTIE    961\n",
       "CRUZ        961\n",
       "FIORINA     961\n",
       "GRAHAM      961\n",
       "HUCKABEE    961\n",
       "KASICH      961\n",
       "MESSINA     961\n",
       "PAUL        961\n",
       "RUBIO       961\n",
       "SANTORUM    961\n",
       "TRUMP       961\n",
       "Name: count, dtype: int64"
      ]
     },
     "execution_count": 13,
     "metadata": {},
     "output_type": "execute_result"
    }
   ],
   "source": [
    "# Cleaning Candidates\n",
    "\n",
    "# Turning all primary data to uppercase\n",
    "# primary_data[\"candidate\"] = primary_data[\"candidate\"].astype(str).str.upper()\n",
    "\n",
    "# unwanted_keywords = [\n",
    "#     r\"\\w*VOTE\\w*\",\n",
    "#     r\"\\w*UNCOM\\w*\",\n",
    "#     r\"\\w*TOTAL\\w*\",\n",
    "#     r\"Blank Votes\", r\"All Others\",r\"Total Votes Cast\",r\"No Preference\"\n",
    "# ]\n",
    "\n",
    "# pattern = \"|\".join(unwanted_keywords)\n",
    "\n",
    "# # Assuming candidate column is already string and uppercase\n",
    "# primary_data = primary_data[~primary_data[\"candidate\"].str.upper().str.contains(pattern, regex=True, na=False)]\n",
    "\n",
    "primary_data = primary_data[~primary_data[\"candidate\"].isin([\"Blank Votes\", \"All Others\",\"Total Votes Cast\",\"No Preference\"])] \n",
    "primary_data[\"candidate\"] = primary_data[\"candidate\"].astype(str).str.upper()\n",
    "# # Fixing the , candidate\n",
    "# primary_data[\"candidate\"] = (\n",
    "#     primary_data[\"candidate\"].str.split(\",\")\n",
    "#     .str[0]\n",
    "#     .str.strip()\n",
    "#     )\n",
    "\n",
    "# # Fixing De la Fuente\n",
    "# primary_data.loc[\n",
    "#     primary_data[\"candidate\"].str.contains(\"\\w*Fuen\\w*\", case=False, na=False),\n",
    "#     \"candidate\"\n",
    "# ] = \"LA FUENTE\"\n",
    "\n",
    "# #Selecting only last name\n",
    "primary_data[\"candidate\"] = primary_data[\"candidate\"].str.split().str[-1]\n",
    "\n",
    "# # Fixing Huckabee\n",
    "# primary_data.loc[\n",
    "#     primary_data[\"candidate\"].str.contains(\"\\w*ABEE\\w*\", case=False, na=False),\n",
    "#     \"candidate\"\n",
    "# ] = \"HUCKABEE\"\n",
    "\n",
    "# # Fixing Fiorina\n",
    "# primary_data.loc[\n",
    "#     primary_data[\"candidate\"].str.contains(\"\\w*ORINA\\W*\", case=False, na=False),\n",
    "#     \"candidate\"\n",
    "# ] = \"FIORINA\"\n",
    "\n",
    "# # Fixing Gray\n",
    "# primary_data.loc[\n",
    "#     primary_data[\"candidate\"].str.contains(\"GREY\", case=False, na=False),\n",
    "#     \"candidate\"\n",
    "# ] = \"GRAY\"\n",
    "\n",
    "# # Fixing Wilson\n",
    "# primary_data.loc[\n",
    "#     primary_data[\"candidate\"].str.contains(\"WISON\", case=False, na=False),\n",
    "#     \"candidate\"\n",
    "# ] = \"WILSON\"\n",
    "\n",
    "\n",
    "# # Fixing separator \n",
    "# primary_data[\"candidate\"] = (\n",
    "#     primary_data[\"candidate\"]\n",
    "#     .str.split(r\"\\s*(?:and|/|&|–|-|\\+)\\s*\", n=1, expand=True)[0]\n",
    "#     .str.strip()\n",
    "#     .str.upper()\n",
    "# )\n",
    "\n",
    "# # Fixing McMullin\n",
    "\n",
    "# primary_data.loc[\n",
    "#     (\n",
    "#         primary_data[\"candidate\"].str.contains(\"MCMULLIN\", case=False, na=False) |\n",
    "#         primary_data[\"candidate\"].str.contains(\"EVAN MCMULLEN\", case=False, na=False)\n",
    "#     ),\n",
    "#     \"candidate\"\n",
    "# ] = \"MCMULLIN\"\n",
    "\n",
    "# primary_data.loc[\n",
    "#     primary_data[\"candidate\"].str.contains(\"De La Fuen\", case=False, na=False),\n",
    "#     \"candidate\"\n",
    "# ] = \"FUENTE D\"\n",
    "\n",
    "# primary_data.loc[:,\"candidate\"] = (\n",
    "#     primary_data[\"candidate\"].str.split().str[0].str.upper()\n",
    "# )\n",
    "\n",
    "primary_data[\"candidate\"].value_counts(dropna=False)"
   ]
  },
  {
   "cell_type": "code",
   "execution_count": 14,
   "id": "dcc76af7",
   "metadata": {},
   "outputs": [
    {
     "data": {
      "application/vnd.microsoft.datawrangler.viewer.v0+json": {
       "columns": [
        {
         "name": "party",
         "rawType": "object",
         "type": "string"
        },
        {
         "name": "count",
         "rawType": "int64",
         "type": "integer"
        }
       ],
       "ref": "7247643a-9b37-4cc3-b7b1-699a062d3e38",
       "rows": [
        [
         "REP",
         "12493"
        ]
       ],
       "shape": {
        "columns": 1,
        "rows": 1
       }
      },
      "text/plain": [
       "party\n",
       "REP    12493\n",
       "Name: count, dtype: int64"
      ]
     },
     "execution_count": 14,
     "metadata": {},
     "output_type": "execute_result"
    }
   ],
   "source": [
    "# Viewing Party\n",
    "primary_data[\"party\"].value_counts(dropna=False)"
   ]
  },
  {
   "cell_type": "code",
   "execution_count": 15,
   "id": "582aa6c5",
   "metadata": {},
   "outputs": [
    {
     "data": {
      "application/vnd.microsoft.datawrangler.viewer.v0+json": {
       "columns": [
        {
         "name": "party",
         "rawType": "object",
         "type": "string"
        },
        {
         "name": "count",
         "rawType": "int64",
         "type": "integer"
        }
       ],
       "ref": "e072d020-49b2-487c-b315-3834c7aeb34f",
       "rows": [
        [
         "REP",
         "12493"
        ]
       ],
       "shape": {
        "columns": 1,
        "rows": 1
       }
      },
      "text/plain": [
       "party\n",
       "REP    12493\n",
       "Name: count, dtype: int64"
      ]
     },
     "execution_count": 15,
     "metadata": {},
     "output_type": "execute_result"
    }
   ],
   "source": [
    "#=====================================\n",
    "# This function is used to look up party\n",
    "# for the candidate in the same df\n",
    "#=====================================\n",
    "def fill_party_from_data(row, df):\n",
    "    if pd.notna(row[\"party\"]):\n",
    "        return row[\"party\"]\n",
    "    \n",
    "    # Try to find other rows with the same candidate and known party\n",
    "    matches = df[(df[\"candidate\"] == row[\"candidate\"]) & (df[\"party\"].notna())]\n",
    "    if not matches.empty:\n",
    "        return matches[\"party\"].iloc[0]  # Return the first match's party\n",
    "    else:\n",
    "        return None  # Still unknown\n",
    "    \n",
    "\n",
    "#=====================================\n",
    "# Function to fill remaining missing party from master lookup\n",
    "#=====================================\n",
    "def fill_party_from_master(df, master_df):\n",
    "    party_map = master_df.set_index(\"candidate\")[\"party\"].to_dict()\n",
    "    df[\"party\"] = df.apply(\n",
    "        lambda row: party_map.get(row[\"candidate\"], row[\"party\"])\n",
    "        if pd.isna(row[\"party\"]) else row[\"party\"],\n",
    "        axis=1\n",
    "    )\n",
    "    return df\n",
    "\n",
    "\n",
    "#=====================================\n",
    "# Function to update the master candidate-party CSV\n",
    "#=====================================\n",
    "def update_master_candidate_party(df, master_path):\n",
    "    # Read the existing master file\n",
    "    master_df = pd.read_csv(master_path)\n",
    "    \n",
    "    # Combine unique pairs\n",
    "    new_data = df[[\"candidate\", \"party\"]].dropna().drop_duplicates()\n",
    "    updated_master = pd.concat([master_df, new_data]).drop_duplicates(subset=\"candidate\")\n",
    "\n",
    "    # Save updated version\n",
    "    updated_master.to_csv(master_path, index=False)\n",
    "\n",
    "\n",
    "#=====================================\n",
    "# Example usage (uncomment and modify for your workflow)\n",
    "#=====================================\n",
    "# Fill party using internal data\n",
    "# primary_data[\"party\"] = primary_data.apply(\n",
    "#     lambda row: fill_party_from_data(row, primary_data),\n",
    "#     axis=1\n",
    "# )\n",
    "\n",
    "# Fill remaining party using general master CSV\n",
    "# master_party_df = pd.read_csv(\"data/master_primary_candidate_party.csv\")\n",
    "# general_data = fill_party_from_master(general_data, master_party_df)\n",
    "\n",
    "# STEP 3: Update master file with new (candidate, party) pairs\n",
    "# update_master_candidate_party(general_data, \"data/master_candidate_party.csv\")\n",
    "primary_data[\"party\"].value_counts(dropna=False)\n"
   ]
  },
  {
   "cell_type": "code",
   "execution_count": 16,
   "id": "34361751",
   "metadata": {},
   "outputs": [
    {
     "data": {
      "application/vnd.microsoft.datawrangler.viewer.v0+json": {
       "columns": [
        {
         "name": "party",
         "rawType": "object",
         "type": "string"
        },
        {
         "name": "count",
         "rawType": "int64",
         "type": "integer"
        }
       ],
       "ref": "30fb3420-4d35-4350-b8dd-81e2f7705b3e",
       "rows": [
        [
         "REP",
         "12493"
        ]
       ],
       "shape": {
        "columns": 1,
        "rows": 1
       }
      },
      "text/plain": [
       "party\n",
       "REP    12493\n",
       "Name: count, dtype: int64"
      ]
     },
     "execution_count": 16,
     "metadata": {},
     "output_type": "execute_result"
    }
   ],
   "source": [
    "# Cleaning Party\n",
    "# Turning all general data party to uppercase\n",
    "primary_data[\"party\"] = primary_data[\"party\"].astype(str).str.upper()\n",
    "\n",
    "primary_data[\"party\"] = primary_data.apply(\n",
    "    lambda row: fill_party_from_data(row, primary_data),\n",
    "    axis=1\n",
    ")\n",
    "primary_data[\"party\"] = (\n",
    "    primary_data[\"party\"]\n",
    "    .replace({\n",
    "        \"REPUBLICAN\": \"REP\",\n",
    "        \"R\": \"REP\",\n",
    "        \"DEMOCRATIC\": \"DEM\",\n",
    "        \"DEM\": \"DEM\",\n",
    "        \"D\": \"DEM\",\n",
    "        \"GREEN\": \"GRN\",\n",
    "        \"G\": \"GREEN\",\n",
    "        \"GREEN-RAINBOW\":\"GRN\",\n",
    "        \"LIBERTARIAN\": \"LIB\",\n",
    "        \"LBT\": \"LIB\",\n",
    "        \"L\": \"LIB\",\n",
    "        \"CONSTITUTION\": \"CON\",\n",
    "        \"NP\": \"IND\",\n",
    "        \"NON\": \"IND\",\n",
    "        \"WRI\": \"IND\",\n",
    "        \"WRITE-IN\": \"IND\",\n",
    "        \"ONA\": \"IND\",\n",
    "        \"GEN\": \"IND\",\n",
    "        \"NONE\":\"UNK\"\n",
    "    })\n",
    ")\n",
    "primary_data[\"party\"].value_counts(dropna=False)"
   ]
  },
  {
   "cell_type": "code",
   "execution_count": 17,
   "id": "a359cd18",
   "metadata": {},
   "outputs": [
    {
     "data": {
      "application/vnd.microsoft.datawrangler.viewer.v0+json": {
       "columns": [
        {
         "name": "index",
         "rawType": "int64",
         "type": "integer"
        },
        {
         "name": "precinct",
         "rawType": "object",
         "type": "string"
        },
        {
         "name": "pri_rep_BUSH",
         "rawType": "float64",
         "type": "float"
        },
        {
         "name": "pri_rep_CARSON",
         "rawType": "float64",
         "type": "float"
        },
        {
         "name": "pri_rep_CHRISTIE",
         "rawType": "float64",
         "type": "float"
        },
        {
         "name": "pri_rep_CRUZ",
         "rawType": "float64",
         "type": "float"
        },
        {
         "name": "pri_rep_FIORINA",
         "rawType": "float64",
         "type": "float"
        },
        {
         "name": "pri_rep_GRAHAM",
         "rawType": "float64",
         "type": "float"
        },
        {
         "name": "pri_rep_HUCKABEE",
         "rawType": "float64",
         "type": "float"
        },
        {
         "name": "pri_rep_KASICH",
         "rawType": "float64",
         "type": "float"
        },
        {
         "name": "pri_rep_MESSINA",
         "rawType": "float64",
         "type": "float"
        },
        {
         "name": "pri_rep_PAUL",
         "rawType": "float64",
         "type": "float"
        },
        {
         "name": "pri_rep_RUBIO",
         "rawType": "float64",
         "type": "float"
        },
        {
         "name": "pri_rep_SANTORUM",
         "rawType": "float64",
         "type": "float"
        },
        {
         "name": "pri_rep_TRUMP",
         "rawType": "float64",
         "type": "float"
        }
       ],
       "ref": "6c34d9a2-ace2-400a-b1a0-1b9803b59a4d",
       "rows": [
        [
         "0",
         "ADA1401",
         "0.0",
         "5.0",
         "1.0",
         "219.0",
         "0.0",
         "0.0",
         "0.0",
         "35.0",
         "0.0",
         "0.0",
         "66.0",
         "1.0",
         "139.0"
        ],
        [
         "1",
         "ADA1402",
         "0.0",
         "6.0",
         "0.0",
         "192.0",
         "0.0",
         "0.0",
         "0.0",
         "53.0",
         "0.0",
         "3.0",
         "73.0",
         "0.0",
         "160.0"
        ],
        [
         "2",
         "ADA1403",
         "1.0",
         "3.0",
         "0.0",
         "75.0",
         "1.0",
         "0.0",
         "0.0",
         "26.0",
         "0.0",
         "0.0",
         "18.0",
         "0.0",
         "53.0"
        ],
        [
         "3",
         "ADA1404",
         "1.0",
         "12.0",
         "2.0",
         "310.0",
         "0.0",
         "0.0",
         "1.0",
         "44.0",
         "0.0",
         "4.0",
         "78.0",
         "0.0",
         "239.0"
        ],
        [
         "4",
         "ADA1405",
         "1.0",
         "5.0",
         "0.0",
         "211.0",
         "1.0",
         "0.0",
         "1.0",
         "32.0",
         "0.0",
         "3.0",
         "71.0",
         "0.0",
         "224.0"
        ],
        [
         "5",
         "ADA1406",
         "2.0",
         "7.0",
         "1.0",
         "357.0",
         "3.0",
         "0.0",
         "0.0",
         "80.0",
         "0.0",
         "2.0",
         "159.0",
         "1.0",
         "265.0"
        ],
        [
         "6",
         "ADA1407",
         "2.0",
         "3.0",
         "1.0",
         "126.0",
         "0.0",
         "0.0",
         "2.0",
         "48.0",
         "0.0",
         "2.0",
         "66.0",
         "0.0",
         "134.0"
        ],
        [
         "7",
         "ADA1408",
         "3.0",
         "4.0",
         "1.0",
         "172.0",
         "1.0",
         "0.0",
         "1.0",
         "56.0",
         "0.0",
         "1.0",
         "79.0",
         "0.0",
         "119.0"
        ],
        [
         "8",
         "ADA1409",
         "2.0",
         "6.0",
         "1.0",
         "187.0",
         "2.0",
         "0.0",
         "0.0",
         "69.0",
         "0.0",
         "0.0",
         "96.0",
         "1.0",
         "133.0"
        ],
        [
         "9",
         "ADA1410",
         "0.0",
         "5.0",
         "2.0",
         "120.0",
         "0.0",
         "0.0",
         "2.0",
         "50.0",
         "0.0",
         "0.0",
         "48.0",
         "0.0",
         "123.0"
        ],
        [
         "10",
         "ADA1411",
         "0.0",
         "8.0",
         "0.0",
         "163.0",
         "0.0",
         "0.0",
         "0.0",
         "54.0",
         "0.0",
         "2.0",
         "66.0",
         "0.0",
         "129.0"
        ],
        [
         "11",
         "ADA1412",
         "1.0",
         "4.0",
         "0.0",
         "91.0",
         "0.0",
         "0.0",
         "1.0",
         "12.0",
         "0.0",
         "0.0",
         "44.0",
         "0.0",
         "72.0"
        ],
        [
         "12",
         "ADA1413",
         "1.0",
         "10.0",
         "0.0",
         "340.0",
         "2.0",
         "0.0",
         "1.0",
         "91.0",
         "0.0",
         "3.0",
         "145.0",
         "0.0",
         "252.0"
        ],
        [
         "13",
         "ADA1414",
         "2.0",
         "9.0",
         "1.0",
         "314.0",
         "1.0",
         "0.0",
         "0.0",
         "38.0",
         "0.0",
         "2.0",
         "118.0",
         "0.0",
         "186.0"
        ],
        [
         "14",
         "ADA1415",
         "0.0",
         "8.0",
         "1.0",
         "197.0",
         "0.0",
         "0.0",
         "0.0",
         "79.0",
         "0.0",
         "2.0",
         "91.0",
         "0.0",
         "200.0"
        ],
        [
         "15",
         "ADA1416",
         "0.0",
         "1.0",
         "3.0",
         "166.0",
         "0.0",
         "0.0",
         "0.0",
         "85.0",
         "0.0",
         "0.0",
         "90.0",
         "0.0",
         "195.0"
        ],
        [
         "16",
         "ADA1417",
         "1.0",
         "11.0",
         "1.0",
         "229.0",
         "0.0",
         "0.0",
         "2.0",
         "29.0",
         "0.0",
         "2.0",
         "54.0",
         "0.0",
         "137.0"
        ],
        [
         "17",
         "ADA1418",
         "4.0",
         "7.0",
         "4.0",
         "300.0",
         "0.0",
         "0.0",
         "3.0",
         "64.0",
         "0.0",
         "1.0",
         "123.0",
         "0.0",
         "205.0"
        ],
        [
         "18",
         "ADA1419",
         "2.0",
         "11.0",
         "0.0",
         "164.0",
         "0.0",
         "0.0",
         "0.0",
         "18.0",
         "0.0",
         "0.0",
         "44.0",
         "1.0",
         "102.0"
        ],
        [
         "19",
         "ADA1501",
         "0.0",
         "10.0",
         "1.0",
         "250.0",
         "0.0",
         "0.0",
         "1.0",
         "71.0",
         "0.0",
         "0.0",
         "129.0",
         "1.0",
         "138.0"
        ],
        [
         "20",
         "ADA1502",
         "4.0",
         "14.0",
         "2.0",
         "228.0",
         "0.0",
         "0.0",
         "0.0",
         "59.0",
         "0.0",
         "1.0",
         "88.0",
         "0.0",
         "122.0"
        ],
        [
         "21",
         "ADA1503",
         "2.0",
         "12.0",
         "1.0",
         "172.0",
         "2.0",
         "0.0",
         "0.0",
         "41.0",
         "0.0",
         "1.0",
         "58.0",
         "0.0",
         "129.0"
        ],
        [
         "22",
         "ADA1504",
         "1.0",
         "14.0",
         "1.0",
         "290.0",
         "1.0",
         "0.0",
         "0.0",
         "40.0",
         "0.0",
         "3.0",
         "99.0",
         "1.0",
         "146.0"
        ],
        [
         "23",
         "ADA1505",
         "0.0",
         "11.0",
         "0.0",
         "144.0",
         "1.0",
         "0.0",
         "0.0",
         "28.0",
         "0.0",
         "1.0",
         "45.0",
         "2.0",
         "85.0"
        ],
        [
         "24",
         "ADA1506",
         "0.0",
         "4.0",
         "0.0",
         "172.0",
         "2.0",
         "0.0",
         "1.0",
         "34.0",
         "0.0",
         "0.0",
         "79.0",
         "0.0",
         "81.0"
        ],
        [
         "25",
         "ADA1507",
         "0.0",
         "5.0",
         "1.0",
         "166.0",
         "0.0",
         "0.0",
         "1.0",
         "32.0",
         "0.0",
         "3.0",
         "58.0",
         "0.0",
         "125.0"
        ],
        [
         "26",
         "ADA1508",
         "0.0",
         "4.0",
         "1.0",
         "138.0",
         "0.0",
         "0.0",
         "1.0",
         "51.0",
         "0.0",
         "1.0",
         "69.0",
         "0.0",
         "105.0"
        ],
        [
         "27",
         "ADA1509",
         "2.0",
         "1.0",
         "0.0",
         "199.0",
         "1.0",
         "1.0",
         "0.0",
         "30.0",
         "0.0",
         "3.0",
         "70.0",
         "0.0",
         "115.0"
        ],
        [
         "28",
         "ADA1510",
         "1.0",
         "5.0",
         "1.0",
         "72.0",
         "1.0",
         "0.0",
         "0.0",
         "13.0",
         "0.0",
         "1.0",
         "22.0",
         "0.0",
         "87.0"
        ],
        [
         "29",
         "ADA1511",
         "3.0",
         "4.0",
         "0.0",
         "95.0",
         "0.0",
         "0.0",
         "0.0",
         "12.0",
         "0.0",
         "0.0",
         "34.0",
         "2.0",
         "67.0"
        ],
        [
         "30",
         "ADA1512",
         "2.0",
         "5.0",
         "1.0",
         "64.0",
         "0.0",
         "0.0",
         "0.0",
         "12.0",
         "0.0",
         "1.0",
         "24.0",
         "0.0",
         "76.0"
        ],
        [
         "31",
         "ADA1513",
         "2.0",
         "3.0",
         "1.0",
         "95.0",
         "0.0",
         "0.0",
         "0.0",
         "16.0",
         "0.0",
         "0.0",
         "26.0",
         "0.0",
         "72.0"
        ],
        [
         "32",
         "ADA1514",
         "0.0",
         "4.0",
         "0.0",
         "102.0",
         "0.0",
         "0.0",
         "0.0",
         "39.0",
         "0.0",
         "0.0",
         "46.0",
         "0.0",
         "77.0"
        ],
        [
         "33",
         "ADA1515",
         "1.0",
         "3.0",
         "0.0",
         "80.0",
         "0.0",
         "0.0",
         "0.0",
         "20.0",
         "0.0",
         "1.0",
         "32.0",
         "1.0",
         "62.0"
        ],
        [
         "34",
         "ADA1601",
         "0.0",
         "4.0",
         "1.0",
         "149.0",
         "1.0",
         "0.0",
         "0.0",
         "92.0",
         "0.0",
         "0.0",
         "93.0",
         "1.0",
         "188.0"
        ],
        [
         "35",
         "ADA1602",
         "5.0",
         "3.0",
         "0.0",
         "89.0",
         "0.0",
         "1.0",
         "1.0",
         "65.0",
         "0.0",
         "1.0",
         "63.0",
         "0.0",
         "84.0"
        ],
        [
         "36",
         "ADA1603",
         "2.0",
         "3.0",
         "0.0",
         "141.0",
         "0.0",
         "0.0",
         "2.0",
         "60.0",
         "1.0",
         "0.0",
         "46.0",
         "0.0",
         "88.0"
        ],
        [
         "37",
         "ADA1604",
         "4.0",
         "8.0",
         "0.0",
         "84.0",
         "0.0",
         "0.0",
         "1.0",
         "18.0",
         "0.0",
         "1.0",
         "47.0",
         "0.0",
         "73.0"
        ],
        [
         "38",
         "ADA1605",
         "0.0",
         "2.0",
         "1.0",
         "65.0",
         "0.0",
         "0.0",
         "0.0",
         "18.0",
         "0.0",
         "0.0",
         "27.0",
         "0.0",
         "51.0"
        ],
        [
         "39",
         "ADA1606",
         "0.0",
         "3.0",
         "0.0",
         "60.0",
         "0.0",
         "0.0",
         "0.0",
         "17.0",
         "0.0",
         "0.0",
         "11.0",
         "0.0",
         "38.0"
        ],
        [
         "40",
         "ADA1607",
         "2.0",
         "5.0",
         "0.0",
         "184.0",
         "1.0",
         "1.0",
         "1.0",
         "62.0",
         "0.0",
         "2.0",
         "75.0",
         "1.0",
         "141.0"
        ],
        [
         "41",
         "ADA1608",
         "0.0",
         "4.0",
         "0.0",
         "75.0",
         "3.0",
         "0.0",
         "2.0",
         "17.0",
         "0.0",
         "0.0",
         "10.0",
         "0.0",
         "71.0"
        ],
        [
         "42",
         "ADA1609",
         "1.0",
         "14.0",
         "0.0",
         "151.0",
         "0.0",
         "0.0",
         "0.0",
         "44.0",
         "0.0",
         "4.0",
         "37.0",
         "0.0",
         "104.0"
        ],
        [
         "43",
         "ADA1610",
         "0.0",
         "8.0",
         "2.0",
         "157.0",
         "0.0",
         "0.0",
         "1.0",
         "36.0",
         "0.0",
         "1.0",
         "67.0",
         "0.0",
         "117.0"
        ],
        [
         "44",
         "ADA1611",
         "0.0",
         "4.0",
         "0.0",
         "122.0",
         "0.0",
         "0.0",
         "0.0",
         "69.0",
         "0.0",
         "1.0",
         "66.0",
         "0.0",
         "95.0"
        ],
        [
         "45",
         "ADA1612",
         "2.0",
         "2.0",
         "0.0",
         "65.0",
         "0.0",
         "0.0",
         "0.0",
         "10.0",
         "0.0",
         "2.0",
         "28.0",
         "0.0",
         "58.0"
        ],
        [
         "46",
         "ADA1613",
         "1.0",
         "3.0",
         "0.0",
         "114.0",
         "1.0",
         "0.0",
         "2.0",
         "48.0",
         "0.0",
         "1.0",
         "51.0",
         "0.0",
         "83.0"
        ],
        [
         "47",
         "ADA1614",
         "5.0",
         "4.0",
         "0.0",
         "84.0",
         "0.0",
         "0.0",
         "1.0",
         "21.0",
         "0.0",
         "2.0",
         "51.0",
         "0.0",
         "76.0"
        ],
        [
         "48",
         "ADA1615",
         "1.0",
         "7.0",
         "0.0",
         "97.0",
         "0.0",
         "0.0",
         "0.0",
         "22.0",
         "0.0",
         "0.0",
         "52.0",
         "0.0",
         "95.0"
        ],
        [
         "49",
         "ADA1701",
         "0.0",
         "5.0",
         "0.0",
         "99.0",
         "0.0",
         "0.0",
         "0.0",
         "24.0",
         "0.0",
         "0.0",
         "41.0",
         "1.0",
         "82.0"
        ]
       ],
       "shape": {
        "columns": 14,
        "rows": 961
       }
      },
      "text/html": [
       "<div>\n",
       "<style scoped>\n",
       "    .dataframe tbody tr th:only-of-type {\n",
       "        vertical-align: middle;\n",
       "    }\n",
       "\n",
       "    .dataframe tbody tr th {\n",
       "        vertical-align: top;\n",
       "    }\n",
       "\n",
       "    .dataframe thead th {\n",
       "        text-align: right;\n",
       "    }\n",
       "</style>\n",
       "<table border=\"1\" class=\"dataframe\">\n",
       "  <thead>\n",
       "    <tr style=\"text-align: right;\">\n",
       "      <th>candidate_column</th>\n",
       "      <th>precinct</th>\n",
       "      <th>pri_rep_BUSH</th>\n",
       "      <th>pri_rep_CARSON</th>\n",
       "      <th>pri_rep_CHRISTIE</th>\n",
       "      <th>pri_rep_CRUZ</th>\n",
       "      <th>pri_rep_FIORINA</th>\n",
       "      <th>pri_rep_GRAHAM</th>\n",
       "      <th>pri_rep_HUCKABEE</th>\n",
       "      <th>pri_rep_KASICH</th>\n",
       "      <th>pri_rep_MESSINA</th>\n",
       "      <th>pri_rep_PAUL</th>\n",
       "      <th>pri_rep_RUBIO</th>\n",
       "      <th>pri_rep_SANTORUM</th>\n",
       "      <th>pri_rep_TRUMP</th>\n",
       "    </tr>\n",
       "  </thead>\n",
       "  <tbody>\n",
       "    <tr>\n",
       "      <th>0</th>\n",
       "      <td>ADA1401</td>\n",
       "      <td>0.0</td>\n",
       "      <td>5.0</td>\n",
       "      <td>1.0</td>\n",
       "      <td>219.0</td>\n",
       "      <td>0.0</td>\n",
       "      <td>0.0</td>\n",
       "      <td>0.0</td>\n",
       "      <td>35.0</td>\n",
       "      <td>0.0</td>\n",
       "      <td>0.0</td>\n",
       "      <td>66.0</td>\n",
       "      <td>1.0</td>\n",
       "      <td>139.0</td>\n",
       "    </tr>\n",
       "    <tr>\n",
       "      <th>1</th>\n",
       "      <td>ADA1402</td>\n",
       "      <td>0.0</td>\n",
       "      <td>6.0</td>\n",
       "      <td>0.0</td>\n",
       "      <td>192.0</td>\n",
       "      <td>0.0</td>\n",
       "      <td>0.0</td>\n",
       "      <td>0.0</td>\n",
       "      <td>53.0</td>\n",
       "      <td>0.0</td>\n",
       "      <td>3.0</td>\n",
       "      <td>73.0</td>\n",
       "      <td>0.0</td>\n",
       "      <td>160.0</td>\n",
       "    </tr>\n",
       "    <tr>\n",
       "      <th>2</th>\n",
       "      <td>ADA1403</td>\n",
       "      <td>1.0</td>\n",
       "      <td>3.0</td>\n",
       "      <td>0.0</td>\n",
       "      <td>75.0</td>\n",
       "      <td>1.0</td>\n",
       "      <td>0.0</td>\n",
       "      <td>0.0</td>\n",
       "      <td>26.0</td>\n",
       "      <td>0.0</td>\n",
       "      <td>0.0</td>\n",
       "      <td>18.0</td>\n",
       "      <td>0.0</td>\n",
       "      <td>53.0</td>\n",
       "    </tr>\n",
       "    <tr>\n",
       "      <th>3</th>\n",
       "      <td>ADA1404</td>\n",
       "      <td>1.0</td>\n",
       "      <td>12.0</td>\n",
       "      <td>2.0</td>\n",
       "      <td>310.0</td>\n",
       "      <td>0.0</td>\n",
       "      <td>0.0</td>\n",
       "      <td>1.0</td>\n",
       "      <td>44.0</td>\n",
       "      <td>0.0</td>\n",
       "      <td>4.0</td>\n",
       "      <td>78.0</td>\n",
       "      <td>0.0</td>\n",
       "      <td>239.0</td>\n",
       "    </tr>\n",
       "    <tr>\n",
       "      <th>4</th>\n",
       "      <td>ADA1405</td>\n",
       "      <td>1.0</td>\n",
       "      <td>5.0</td>\n",
       "      <td>0.0</td>\n",
       "      <td>211.0</td>\n",
       "      <td>1.0</td>\n",
       "      <td>0.0</td>\n",
       "      <td>1.0</td>\n",
       "      <td>32.0</td>\n",
       "      <td>0.0</td>\n",
       "      <td>3.0</td>\n",
       "      <td>71.0</td>\n",
       "      <td>0.0</td>\n",
       "      <td>224.0</td>\n",
       "    </tr>\n",
       "    <tr>\n",
       "      <th>...</th>\n",
       "      <td>...</td>\n",
       "      <td>...</td>\n",
       "      <td>...</td>\n",
       "      <td>...</td>\n",
       "      <td>...</td>\n",
       "      <td>...</td>\n",
       "      <td>...</td>\n",
       "      <td>...</td>\n",
       "      <td>...</td>\n",
       "      <td>...</td>\n",
       "      <td>...</td>\n",
       "      <td>...</td>\n",
       "      <td>...</td>\n",
       "      <td>...</td>\n",
       "    </tr>\n",
       "    <tr>\n",
       "      <th>956</th>\n",
       "      <td>WASHINGTON07 MIDVALE</td>\n",
       "      <td>1.0</td>\n",
       "      <td>9.0</td>\n",
       "      <td>0.0</td>\n",
       "      <td>120.0</td>\n",
       "      <td>0.0</td>\n",
       "      <td>0.0</td>\n",
       "      <td>0.0</td>\n",
       "      <td>11.0</td>\n",
       "      <td>0.0</td>\n",
       "      <td>1.0</td>\n",
       "      <td>14.0</td>\n",
       "      <td>0.0</td>\n",
       "      <td>96.0</td>\n",
       "    </tr>\n",
       "    <tr>\n",
       "      <th>957</th>\n",
       "      <td>WASHINGTON08 CAMBRIDGE</td>\n",
       "      <td>1.0</td>\n",
       "      <td>9.0</td>\n",
       "      <td>2.0</td>\n",
       "      <td>121.0</td>\n",
       "      <td>0.0</td>\n",
       "      <td>0.0</td>\n",
       "      <td>0.0</td>\n",
       "      <td>9.0</td>\n",
       "      <td>0.0</td>\n",
       "      <td>1.0</td>\n",
       "      <td>42.0</td>\n",
       "      <td>0.0</td>\n",
       "      <td>72.0</td>\n",
       "    </tr>\n",
       "    <tr>\n",
       "      <th>958</th>\n",
       "      <td>WASHINGTON09 PIONEER</td>\n",
       "      <td>2.0</td>\n",
       "      <td>7.0</td>\n",
       "      <td>1.0</td>\n",
       "      <td>46.0</td>\n",
       "      <td>1.0</td>\n",
       "      <td>0.0</td>\n",
       "      <td>0.0</td>\n",
       "      <td>16.0</td>\n",
       "      <td>0.0</td>\n",
       "      <td>0.0</td>\n",
       "      <td>24.0</td>\n",
       "      <td>2.0</td>\n",
       "      <td>52.0</td>\n",
       "    </tr>\n",
       "    <tr>\n",
       "      <th>959</th>\n",
       "      <td>WASHINGTON10 SUNNYSIDE</td>\n",
       "      <td>1.0</td>\n",
       "      <td>8.0</td>\n",
       "      <td>1.0</td>\n",
       "      <td>98.0</td>\n",
       "      <td>2.0</td>\n",
       "      <td>0.0</td>\n",
       "      <td>1.0</td>\n",
       "      <td>16.0</td>\n",
       "      <td>1.0</td>\n",
       "      <td>2.0</td>\n",
       "      <td>20.0</td>\n",
       "      <td>0.0</td>\n",
       "      <td>88.0</td>\n",
       "    </tr>\n",
       "    <tr>\n",
       "      <th>960</th>\n",
       "      <td>WASHINGTON11 MINERAL</td>\n",
       "      <td>4.0</td>\n",
       "      <td>8.0</td>\n",
       "      <td>0.0</td>\n",
       "      <td>61.0</td>\n",
       "      <td>0.0</td>\n",
       "      <td>0.0</td>\n",
       "      <td>1.0</td>\n",
       "      <td>14.0</td>\n",
       "      <td>0.0</td>\n",
       "      <td>1.0</td>\n",
       "      <td>22.0</td>\n",
       "      <td>0.0</td>\n",
       "      <td>71.0</td>\n",
       "    </tr>\n",
       "  </tbody>\n",
       "</table>\n",
       "<p>961 rows × 14 columns</p>\n",
       "</div>"
      ],
      "text/plain": [
       "candidate_column                precinct  pri_rep_BUSH  pri_rep_CARSON  \\\n",
       "0                                ADA1401           0.0             5.0   \n",
       "1                                ADA1402           0.0             6.0   \n",
       "2                                ADA1403           1.0             3.0   \n",
       "3                                ADA1404           1.0            12.0   \n",
       "4                                ADA1405           1.0             5.0   \n",
       "..                                   ...           ...             ...   \n",
       "956                 WASHINGTON07 MIDVALE           1.0             9.0   \n",
       "957               WASHINGTON08 CAMBRIDGE           1.0             9.0   \n",
       "958                 WASHINGTON09 PIONEER           2.0             7.0   \n",
       "959               WASHINGTON10 SUNNYSIDE           1.0             8.0   \n",
       "960                 WASHINGTON11 MINERAL           4.0             8.0   \n",
       "\n",
       "candidate_column  pri_rep_CHRISTIE  pri_rep_CRUZ  pri_rep_FIORINA  \\\n",
       "0                              1.0         219.0              0.0   \n",
       "1                              0.0         192.0              0.0   \n",
       "2                              0.0          75.0              1.0   \n",
       "3                              2.0         310.0              0.0   \n",
       "4                              0.0         211.0              1.0   \n",
       "..                             ...           ...              ...   \n",
       "956                            0.0         120.0              0.0   \n",
       "957                            2.0         121.0              0.0   \n",
       "958                            1.0          46.0              1.0   \n",
       "959                            1.0          98.0              2.0   \n",
       "960                            0.0          61.0              0.0   \n",
       "\n",
       "candidate_column  pri_rep_GRAHAM  pri_rep_HUCKABEE  pri_rep_KASICH  \\\n",
       "0                            0.0               0.0            35.0   \n",
       "1                            0.0               0.0            53.0   \n",
       "2                            0.0               0.0            26.0   \n",
       "3                            0.0               1.0            44.0   \n",
       "4                            0.0               1.0            32.0   \n",
       "..                           ...               ...             ...   \n",
       "956                          0.0               0.0            11.0   \n",
       "957                          0.0               0.0             9.0   \n",
       "958                          0.0               0.0            16.0   \n",
       "959                          0.0               1.0            16.0   \n",
       "960                          0.0               1.0            14.0   \n",
       "\n",
       "candidate_column  pri_rep_MESSINA  pri_rep_PAUL  pri_rep_RUBIO  \\\n",
       "0                             0.0           0.0           66.0   \n",
       "1                             0.0           3.0           73.0   \n",
       "2                             0.0           0.0           18.0   \n",
       "3                             0.0           4.0           78.0   \n",
       "4                             0.0           3.0           71.0   \n",
       "..                            ...           ...            ...   \n",
       "956                           0.0           1.0           14.0   \n",
       "957                           0.0           1.0           42.0   \n",
       "958                           0.0           0.0           24.0   \n",
       "959                           1.0           2.0           20.0   \n",
       "960                           0.0           1.0           22.0   \n",
       "\n",
       "candidate_column  pri_rep_SANTORUM  pri_rep_TRUMP  \n",
       "0                              1.0          139.0  \n",
       "1                              0.0          160.0  \n",
       "2                              0.0           53.0  \n",
       "3                              0.0          239.0  \n",
       "4                              0.0          224.0  \n",
       "..                             ...            ...  \n",
       "956                            0.0           96.0  \n",
       "957                            0.0           72.0  \n",
       "958                            2.0           52.0  \n",
       "959                            0.0           88.0  \n",
       "960                            0.0           71.0  \n",
       "\n",
       "[961 rows x 14 columns]"
      ]
     },
     "execution_count": 17,
     "metadata": {},
     "output_type": "execute_result"
    }
   ],
   "source": [
    "primary_data.loc[:,\"candidate_column\"] = (\n",
    "    \"pri_\" +\n",
    "    primary_data[\"party\"].str.lower() + \"_\" +\n",
    "    primary_data[\"candidate\"]\n",
    ")\n",
    "\n",
    "# pivot the table\n",
    "primary_result = primary_data.pivot_table(\n",
    "    index=\"precinct\",\n",
    "    columns=\"candidate_column\",\n",
    "    values=\"votes\",\n",
    "    aggfunc=\"sum\",  \n",
    "    fill_value=0\n",
    ").reset_index()\n",
    "\n",
    "primary_result"
   ]
  },
  {
   "cell_type": "code",
   "execution_count": 18,
   "id": "f1ef9692",
   "metadata": {},
   "outputs": [],
   "source": [
    "# Process general files\n",
    "general_df_list = []\n",
    "\n",
    "for file in general_files:\n",
    "    try:\n",
    "        df = pd.read_csv(file)\n",
    "        \n",
    "        # Combine precinct as county + precinct\n",
    "        df[\"precinct\"] = df[\"county\"].astype(str) + df[\"precinct\"].astype(str)\n",
    "        df[\"precinct\"] = df[\"precinct\"].str.upper()\n",
    "\n",
    "        # Cleaning maybe total precinct\n",
    "        if 'precinct' in df.columns:\n",
    "            df['precinct'] = df['precinct'].astype(str)                  \n",
    "            df = df[df['precinct'].str.upper() != \"TOTAL\"]               \n",
    "            df = df[df['precinct'].str.strip().str.upper() != \"TOTAL\"]   \n",
    "            df = df[df['precinct'].str.upper() != \"NAN\"]          \n",
    "            df = df[~df['precinct'].str.upper().str.contains(r\"\\w*TOTAL\\w*\", na=False)]       \n",
    "        \n",
    "        if 'county' in df.columns:\n",
    "            df['county'] = df['county'].astype(str)                  \n",
    "            df = df[df['county'].str.upper() != \"TOTAL\"]               \n",
    "            df = df[df['county'].str.strip().str.upper() != \"TOTAL\"]   \n",
    "            df = df[df['county'].str.upper() != \"NAN\"]  \n",
    "            df = df[~df['county'].str.upper().str.contains(r\"\\w*TOTAL\\w*\", na=False)]    \n",
    "        # Filtering out only President \n",
    "        if 'office' in df.columns:\n",
    "            df = df[df[\"office\"] == \"President\"]\n",
    "        \n",
    "        # Dropping duplicates value\n",
    "        df = df.drop_duplicates()\n",
    "        \n",
    "        general_df_list.append(df)\n",
    "\n",
    "    except Exception as e:\n",
    "        print(f\"Error in {file}: {e}\")\n",
    "\n",
    "# Combine all cleaned files\n",
    "gen_combined_df = pd.concat(general_df_list, ignore_index=True)\n",
    "\n",
    "# Checking any suspicious precinct\n",
    "suspicious_precincts = gen_combined_df[\n",
    "    gen_combined_df[\"precinct\"].str.strip().str.upper().isin([\"TOTAL\", \"NAN\"])\n",
    "]\n"
   ]
  },
  {
   "cell_type": "code",
   "execution_count": 19,
   "id": "1bbbd54d",
   "metadata": {},
   "outputs": [
    {
     "data": {
      "application/vnd.microsoft.datawrangler.viewer.v0+json": {
       "columns": [
        {
         "name": "index",
         "rawType": "int64",
         "type": "integer"
        },
        {
         "name": "precinct",
         "rawType": "object",
         "type": "string"
        },
        {
         "name": "party",
         "rawType": "object",
         "type": "string"
        },
        {
         "name": "candidate",
         "rawType": "object",
         "type": "string"
        },
        {
         "name": "votes",
         "rawType": "object",
         "type": "string"
        }
       ],
       "ref": "6cfc09ea-34a1-43ea-b879-bfbd442f37cd",
       "rows": [
        [
         "0",
         "ADA1401",
         "IND",
         "Darrell L. Castle",
         "4"
        ],
        [
         "1",
         "ADA1402",
         "IND",
         "Darrell L. Castle",
         "3"
        ],
        [
         "2",
         "ADA1403",
         "IND",
         "Darrell L. Castle",
         "2"
        ],
        [
         "3",
         "ADA1404",
         "IND",
         "Darrell L. Castle",
         "13"
        ],
        [
         "4",
         "ADA1405",
         "IND",
         "Darrell L. Castle",
         "8"
        ],
        [
         "5",
         "ADA1406",
         "IND",
         "Darrell L. Castle",
         "7"
        ],
        [
         "6",
         "ADA1407",
         "IND",
         "Darrell L. Castle",
         "9"
        ],
        [
         "7",
         "ADA1408",
         "IND",
         "Darrell L. Castle",
         "4"
        ],
        [
         "8",
         "ADA1409",
         "IND",
         "Darrell L. Castle",
         "3"
        ],
        [
         "9",
         "ADA1410",
         "IND",
         "Darrell L. Castle",
         "10"
        ],
        [
         "10",
         "ADA1411",
         "IND",
         "Darrell L. Castle",
         "6"
        ],
        [
         "11",
         "ADA1412",
         "IND",
         "Darrell L. Castle",
         "3"
        ],
        [
         "12",
         "ADA1413",
         "IND",
         "Darrell L. Castle",
         "5"
        ],
        [
         "13",
         "ADA1414",
         "IND",
         "Darrell L. Castle",
         "4"
        ],
        [
         "14",
         "ADA1415",
         "IND",
         "Darrell L. Castle",
         "3"
        ],
        [
         "15",
         "ADA1416",
         "IND",
         "Darrell L. Castle",
         "2"
        ],
        [
         "16",
         "ADA1417",
         "IND",
         "Darrell L. Castle",
         "11"
        ],
        [
         "17",
         "ADA1418",
         "IND",
         "Darrell L. Castle",
         "8"
        ],
        [
         "18",
         "ADA1419",
         "IND",
         "Darrell L. Castle",
         "3"
        ],
        [
         "19",
         "ADA1501",
         "IND",
         "Darrell L. Castle",
         "10"
        ],
        [
         "20",
         "ADA1502",
         "IND",
         "Darrell L. Castle",
         "3"
        ],
        [
         "21",
         "ADA1503",
         "IND",
         "Darrell L. Castle",
         "8"
        ],
        [
         "22",
         "ADA1504",
         "IND",
         "Darrell L. Castle",
         "11"
        ],
        [
         "23",
         "ADA1505",
         "IND",
         "Darrell L. Castle",
         "3"
        ],
        [
         "24",
         "ADA1506",
         "IND",
         "Darrell L. Castle",
         "12"
        ],
        [
         "25",
         "ADA1507",
         "IND",
         "Darrell L. Castle",
         "11"
        ],
        [
         "26",
         "ADA1508",
         "IND",
         "Darrell L. Castle",
         "7"
        ],
        [
         "27",
         "ADA1509",
         "IND",
         "Darrell L. Castle",
         "6"
        ],
        [
         "28",
         "ADA1510",
         "IND",
         "Darrell L. Castle",
         "9"
        ],
        [
         "29",
         "ADA1511",
         "IND",
         "Darrell L. Castle",
         "0"
        ],
        [
         "30",
         "ADA1512",
         "IND",
         "Darrell L. Castle",
         "4"
        ],
        [
         "31",
         "ADA1513",
         "IND",
         "Darrell L. Castle",
         "3"
        ],
        [
         "32",
         "ADA1514",
         "IND",
         "Darrell L. Castle",
         "10"
        ],
        [
         "33",
         "ADA1515",
         "IND",
         "Darrell L. Castle",
         "1"
        ],
        [
         "34",
         "ADA1601",
         "IND",
         "Darrell L. Castle",
         "5"
        ],
        [
         "35",
         "ADA1602",
         "IND",
         "Darrell L. Castle",
         "5"
        ],
        [
         "36",
         "ADA1603",
         "IND",
         "Darrell L. Castle",
         "7"
        ],
        [
         "37",
         "ADA1604",
         "IND",
         "Darrell L. Castle",
         "8"
        ],
        [
         "38",
         "ADA1605",
         "IND",
         "Darrell L. Castle",
         "4"
        ],
        [
         "39",
         "ADA1606",
         "IND",
         "Darrell L. Castle",
         "2"
        ],
        [
         "40",
         "ADA1607",
         "IND",
         "Darrell L. Castle",
         "11"
        ],
        [
         "41",
         "ADA1608",
         "IND",
         "Darrell L. Castle",
         "9"
        ],
        [
         "42",
         "ADA1609",
         "IND",
         "Darrell L. Castle",
         "12"
        ],
        [
         "43",
         "ADA1610",
         "IND",
         "Darrell L. Castle",
         "9"
        ],
        [
         "44",
         "ADA1611",
         "IND",
         "Darrell L. Castle",
         "12"
        ],
        [
         "45",
         "ADA1612",
         "IND",
         "Darrell L. Castle",
         "8"
        ],
        [
         "46",
         "ADA1613",
         "IND",
         "Darrell L. Castle",
         "17"
        ],
        [
         "47",
         "ADA1614",
         "IND",
         "Darrell L. Castle",
         "3"
        ],
        [
         "48",
         "ADA1615",
         "IND",
         "Darrell L. Castle",
         "5"
        ],
        [
         "49",
         "ADA1701",
         "IND",
         "Darrell L. Castle",
         "1"
        ]
       ],
       "shape": {
        "columns": 4,
        "rows": 7688
       }
      },
      "text/html": [
       "<div>\n",
       "<style scoped>\n",
       "    .dataframe tbody tr th:only-of-type {\n",
       "        vertical-align: middle;\n",
       "    }\n",
       "\n",
       "    .dataframe tbody tr th {\n",
       "        vertical-align: top;\n",
       "    }\n",
       "\n",
       "    .dataframe thead th {\n",
       "        text-align: right;\n",
       "    }\n",
       "</style>\n",
       "<table border=\"1\" class=\"dataframe\">\n",
       "  <thead>\n",
       "    <tr style=\"text-align: right;\">\n",
       "      <th></th>\n",
       "      <th>precinct</th>\n",
       "      <th>party</th>\n",
       "      <th>candidate</th>\n",
       "      <th>votes</th>\n",
       "    </tr>\n",
       "  </thead>\n",
       "  <tbody>\n",
       "    <tr>\n",
       "      <th>0</th>\n",
       "      <td>ADA1401</td>\n",
       "      <td>IND</td>\n",
       "      <td>Darrell L. Castle</td>\n",
       "      <td>4</td>\n",
       "    </tr>\n",
       "    <tr>\n",
       "      <th>1</th>\n",
       "      <td>ADA1402</td>\n",
       "      <td>IND</td>\n",
       "      <td>Darrell L. Castle</td>\n",
       "      <td>3</td>\n",
       "    </tr>\n",
       "    <tr>\n",
       "      <th>2</th>\n",
       "      <td>ADA1403</td>\n",
       "      <td>IND</td>\n",
       "      <td>Darrell L. Castle</td>\n",
       "      <td>2</td>\n",
       "    </tr>\n",
       "    <tr>\n",
       "      <th>3</th>\n",
       "      <td>ADA1404</td>\n",
       "      <td>IND</td>\n",
       "      <td>Darrell L. Castle</td>\n",
       "      <td>13</td>\n",
       "    </tr>\n",
       "    <tr>\n",
       "      <th>4</th>\n",
       "      <td>ADA1405</td>\n",
       "      <td>IND</td>\n",
       "      <td>Darrell L. Castle</td>\n",
       "      <td>8</td>\n",
       "    </tr>\n",
       "    <tr>\n",
       "      <th>...</th>\n",
       "      <td>...</td>\n",
       "      <td>...</td>\n",
       "      <td>...</td>\n",
       "      <td>...</td>\n",
       "    </tr>\n",
       "    <tr>\n",
       "      <th>7683</th>\n",
       "      <td>WASHINGTON07 MIDVALE</td>\n",
       "      <td>REP</td>\n",
       "      <td>Donald J. Trump</td>\n",
       "      <td>403</td>\n",
       "    </tr>\n",
       "    <tr>\n",
       "      <th>7684</th>\n",
       "      <td>WASHINGTON08 CAMBRIDGE</td>\n",
       "      <td>REP</td>\n",
       "      <td>Donald J. Trump</td>\n",
       "      <td>398</td>\n",
       "    </tr>\n",
       "    <tr>\n",
       "      <th>7685</th>\n",
       "      <td>WASHINGTON09 PIONEER</td>\n",
       "      <td>REP</td>\n",
       "      <td>Donald J. Trump</td>\n",
       "      <td>288</td>\n",
       "    </tr>\n",
       "    <tr>\n",
       "      <th>7686</th>\n",
       "      <td>WASHINGTON10 SUNNYSIDE</td>\n",
       "      <td>REP</td>\n",
       "      <td>Donald J. Trump</td>\n",
       "      <td>359</td>\n",
       "    </tr>\n",
       "    <tr>\n",
       "      <th>7687</th>\n",
       "      <td>WASHINGTON11 MINERAL</td>\n",
       "      <td>REP</td>\n",
       "      <td>Donald J. Trump</td>\n",
       "      <td>265</td>\n",
       "    </tr>\n",
       "  </tbody>\n",
       "</table>\n",
       "<p>7688 rows × 4 columns</p>\n",
       "</div>"
      ],
      "text/plain": [
       "                    precinct party          candidate votes\n",
       "0                    ADA1401   IND  Darrell L. Castle     4\n",
       "1                    ADA1402   IND  Darrell L. Castle     3\n",
       "2                    ADA1403   IND  Darrell L. Castle     2\n",
       "3                    ADA1404   IND  Darrell L. Castle    13\n",
       "4                    ADA1405   IND  Darrell L. Castle     8\n",
       "...                      ...   ...                ...   ...\n",
       "7683    WASHINGTON07 MIDVALE   REP    Donald J. Trump   403\n",
       "7684  WASHINGTON08 CAMBRIDGE   REP    Donald J. Trump   398\n",
       "7685    WASHINGTON09 PIONEER   REP    Donald J. Trump   288\n",
       "7686  WASHINGTON10 SUNNYSIDE   REP    Donald J. Trump   359\n",
       "7687    WASHINGTON11 MINERAL   REP    Donald J. Trump   265\n",
       "\n",
       "[7688 rows x 4 columns]"
      ]
     },
     "execution_count": 19,
     "metadata": {},
     "output_type": "execute_result"
    }
   ],
   "source": [
    "# Select only the relevant columns\n",
    "general_data = gen_combined_df[[\"precinct\", \"party\", \"candidate\", \"votes\"]]\n",
    "\n",
    "general_data"
   ]
  },
  {
   "cell_type": "code",
   "execution_count": 20,
   "id": "38fba0f1",
   "metadata": {},
   "outputs": [
    {
     "data": {
      "application/vnd.microsoft.datawrangler.viewer.v0+json": {
       "columns": [
        {
         "name": "candidate",
         "rawType": "object",
         "type": "string"
        },
        {
         "name": "count",
         "rawType": "int64",
         "type": "integer"
        }
       ],
       "ref": "d69bfdf9-f30a-49e1-8ace-84ca21134df8",
       "rows": [
        [
         "Darrell L. Castle",
         "961"
        ],
        [
         "Hillary Rodham Clinton",
         "961"
        ],
        [
         "Scott Copeland",
         "961"
        ],
        [
         "Rocky De La Fuente",
         "961"
        ],
        [
         "Gary Johnson",
         "961"
        ],
        [
         "Evan McMullin",
         "961"
        ],
        [
         "Jill Stein",
         "961"
        ],
        [
         "Donald J. Trump",
         "961"
        ]
       ],
       "shape": {
        "columns": 1,
        "rows": 8
       }
      },
      "text/plain": [
       "candidate\n",
       "Darrell L. Castle         961\n",
       "Hillary Rodham Clinton    961\n",
       "Scott Copeland            961\n",
       "Rocky De La Fuente        961\n",
       "Gary Johnson              961\n",
       "Evan McMullin             961\n",
       "Jill Stein                961\n",
       "Donald J. Trump           961\n",
       "Name: count, dtype: int64"
      ]
     },
     "execution_count": 20,
     "metadata": {},
     "output_type": "execute_result"
    }
   ],
   "source": [
    "# Viewing candidate data\n",
    "general_data[\"candidate\"].value_counts(dropna=False)"
   ]
  },
  {
   "cell_type": "code",
   "execution_count": 21,
   "id": "90417a20",
   "metadata": {},
   "outputs": [
    {
     "name": "stderr",
     "output_type": "stream",
     "text": [
      "C:\\Users\\ADMIN\\AppData\\Local\\Temp\\ipykernel_17984\\4180683526.py:4: SettingWithCopyWarning: \n",
      "A value is trying to be set on a copy of a slice from a DataFrame.\n",
      "Try using .loc[row_indexer,col_indexer] = value instead\n",
      "\n",
      "See the caveats in the documentation: https://pandas.pydata.org/pandas-docs/stable/user_guide/indexing.html#returning-a-view-versus-a-copy\n",
      "  general_data[\"candidate\"] = general_data[\"candidate\"].astype(str).str.upper()\n",
      "C:\\Users\\ADMIN\\AppData\\Local\\Temp\\ipykernel_17984\\4180683526.py:102: SettingWithCopyWarning: \n",
      "A value is trying to be set on a copy of a slice from a DataFrame.\n",
      "Try using .loc[row_indexer,col_indexer] = value instead\n",
      "\n",
      "See the caveats in the documentation: https://pandas.pydata.org/pandas-docs/stable/user_guide/indexing.html#returning-a-view-versus-a-copy\n",
      "  general_data[\"candidate\"] = general_data[\"candidate\"].str.split().str[-1]\n"
     ]
    },
    {
     "data": {
      "application/vnd.microsoft.datawrangler.viewer.v0+json": {
       "columns": [
        {
         "name": "candidate",
         "rawType": "object",
         "type": "string"
        },
        {
         "name": "count",
         "rawType": "int64",
         "type": "integer"
        }
       ],
       "ref": "e9a0df47-d63c-4466-9e52-4782deef978d",
       "rows": [
        [
         "CASTLE",
         "961"
        ],
        [
         "CLINTON",
         "961"
        ],
        [
         "COPELAND",
         "961"
        ],
        [
         "FUENTE",
         "961"
        ],
        [
         "JOHNSON",
         "961"
        ],
        [
         "MCMULLIN",
         "961"
        ],
        [
         "STEIN",
         "961"
        ],
        [
         "TRUMP",
         "961"
        ]
       ],
       "shape": {
        "columns": 1,
        "rows": 8
       }
      },
      "text/plain": [
       "candidate\n",
       "CASTLE      961\n",
       "CLINTON     961\n",
       "COPELAND    961\n",
       "FUENTE      961\n",
       "JOHNSON     961\n",
       "MCMULLIN    961\n",
       "STEIN       961\n",
       "TRUMP       961\n",
       "Name: count, dtype: int64"
      ]
     },
     "execution_count": 21,
     "metadata": {},
     "output_type": "execute_result"
    }
   ],
   "source": [
    "# Cleaning Candidates\n",
    "\n",
    "# Turning all general data to uppercase\n",
    "general_data[\"candidate\"] = general_data[\"candidate\"].astype(str).str.upper()\n",
    "\n",
    "\n",
    "# unwanted_keywords = [\n",
    "#     r\"\\w*VOTE\\w*\",\n",
    "#     r\"\\w*UNCOM\\w*\",\n",
    "#     r\"\\w*TOTAL\\w*\",\n",
    "#     r\"\\w*WRITE[\\s-]\\w*\",\n",
    "#     r\"NAN\",\n",
    "#     r\"UNCERTIFIED\",\n",
    "#     r\"UNVERIFIED\",\n",
    "#     r\"NONE OF THE ABOVE\",\n",
    "#     r\"LBT\",\n",
    "#     r\"DEM\",\n",
    "#     r\"REP\",\n",
    "#     r\"GRN\",\n",
    "#     r\"NAN\"\n",
    "\n",
    "# ]\n",
    "\n",
    "# pattern = \"|\".join(unwanted_keywords)\n",
    "\n",
    "# # FILTER OUT TRASH WORDS\n",
    "# general_data = general_data[~general_data[\"candidate\"].str.upper().str.contains(pattern, regex=True, na=False)]\n",
    "\n",
    "# # Fixing Darrell Castle\"\n",
    "# general_data.loc[\n",
    "#     general_data[\"candidate\"].str.contains(\"\\w*ASTLE\\w*\", case=False, na=False),\n",
    "#     \"candidate\"\n",
    "# ] = \"CASTLE\"\n",
    "\n",
    "# general_data.loc[\n",
    "#     general_data[\"candidate\"].str.contains(\"\\w*ATUREN\\w*\", case=False, na=False),\n",
    "#     \"candidate\"\n",
    "# ] = \"MATUREN\"\n",
    "\n",
    "# # Fixing mixed president + vice_president by /\n",
    "# general_data[\"candidate\"] = (\n",
    "#     general_data[\"candidate\"].str.split(\"/\")\n",
    "#     .str[0]\n",
    "#     .str.strip()\n",
    "#     )\n",
    "\n",
    "# #Selecting only last name\n",
    "# general_data[\"candidate\"] = general_data[\"candidate\"].str.split().str[-1]\n",
    "\n",
    "# # Fixing the , candidate\n",
    "# # general_data[\"candidate\"] = (\n",
    "# #     general_data[\"candidate\"].str.split(\",\")\n",
    "# #     .str[0]\n",
    "# #     .str.strip()\n",
    "# #     )\n",
    "\n",
    "\n",
    "\n",
    "\n",
    "# # Fixing Cubbler\n",
    "# general_data.loc[\n",
    "#     ( \n",
    "#         general_data[\"candidate\"].str.contains(\"\\w*UBBIER\\w*\", case=False, na=False)|\n",
    "#         general_data[\"candidate\"].str.contains(\"\\w*UBLER\\w*\", case=False, na=False)|\n",
    "#         general_data[\"candidate\"].str.contains(\"\\w*OBBLER\\w*\", case=False, na=False),\n",
    "#     \"candidate\")\n",
    "# ] = \"CUBBLER\"\n",
    "\n",
    "\n",
    "# # Fixing Kotlikoff\n",
    "# general_data.loc[\n",
    "#     general_data[\"candidate\"].str.contains(\"\\w*TIKOFF\\w*\", case=False, na=False),\n",
    "#     \"candidate\"\n",
    "# ] = \"KOTLIKOFF\"\n",
    "\n",
    "# # Fixing Valdivia\n",
    "# general_data.loc[\n",
    "#     general_data[\"candidate\"].str.contains(\"\\w*VALDIVA\\W*\", case=False, na=False),\n",
    "#     \"candidate\"\n",
    "# ] = \"VALDIVIA\"\n",
    "\n",
    "# # Fixing HOEFLING\n",
    "# general_data.loc[\n",
    "#     general_data[\"candidate\"].str.contains(\"\\w*HOEFFLING\", case=False, na=False),\n",
    "#     \"candidate\"\n",
    "# ] = \"HOEFLING\"\n",
    "\n",
    "\n",
    "# # Fixing McMullin\n",
    "# general_data.loc[\n",
    "#     general_data[\"candidate\"].str.contains(\"MCMULLEN\", case=False, na=False) ,\n",
    "#     \"candidate\"\n",
    "# ] = \"MCMULLIN\"\n",
    "\n",
    "# Fixing LASTNAME + First name Initial\n",
    "# general_data.loc[:,\"candidate\"] = (\n",
    "#     general_data[\"candidate\"].str.split().str[0].str.upper()\n",
    "# )\n",
    "\n",
    "\n",
    "# #Selecting only last name\n",
    "general_data[\"candidate\"] = general_data[\"candidate\"].str.split().str[-1]\n",
    "\n",
    "general_data[\"candidate\"].value_counts(dropna=False)"
   ]
  },
  {
   "cell_type": "code",
   "execution_count": 22,
   "id": "a22405a6",
   "metadata": {},
   "outputs": [
    {
     "data": {
      "application/vnd.microsoft.datawrangler.viewer.v0+json": {
       "columns": [
        {
         "name": "party",
         "rawType": "object",
         "type": "string"
        },
        {
         "name": "count",
         "rawType": "int64",
         "type": "integer"
        }
       ],
       "ref": "98b77870-da68-4e00-aab9-7532901a6b6c",
       "rows": [
        [
         "IND",
         "3844"
        ],
        [
         "DEM",
         "961"
        ],
        [
         "CON",
         "961"
        ],
        [
         "LIB",
         "961"
        ],
        [
         "REP",
         "961"
        ]
       ],
       "shape": {
        "columns": 1,
        "rows": 5
       }
      },
      "text/plain": [
       "party\n",
       "IND    3844\n",
       "DEM     961\n",
       "CON     961\n",
       "LIB     961\n",
       "REP     961\n",
       "Name: count, dtype: int64"
      ]
     },
     "execution_count": 22,
     "metadata": {},
     "output_type": "execute_result"
    }
   ],
   "source": [
    "# Viewing Party\n",
    "general_data[\"party\"].value_counts(dropna=False)"
   ]
  },
  {
   "cell_type": "code",
   "execution_count": 23,
   "id": "21d7595b",
   "metadata": {},
   "outputs": [
    {
     "data": {
      "application/vnd.microsoft.datawrangler.viewer.v0+json": {
       "columns": [
        {
         "name": "party",
         "rawType": "object",
         "type": "string"
        },
        {
         "name": "count",
         "rawType": "int64",
         "type": "integer"
        }
       ],
       "ref": "6170a6df-befa-4883-9b7e-bde639b9570e",
       "rows": [
        [
         "IND",
         "3844"
        ],
        [
         "DEM",
         "961"
        ],
        [
         "CON",
         "961"
        ],
        [
         "LIB",
         "961"
        ],
        [
         "REP",
         "961"
        ]
       ],
       "shape": {
        "columns": 1,
        "rows": 5
       }
      },
      "text/plain": [
       "party\n",
       "IND    3844\n",
       "DEM     961\n",
       "CON     961\n",
       "LIB     961\n",
       "REP     961\n",
       "Name: count, dtype: int64"
      ]
     },
     "execution_count": 23,
     "metadata": {},
     "output_type": "execute_result"
    }
   ],
   "source": [
    "#=====================================\n",
    "# This function is used to look up party\n",
    "# for the candidate in the same df\n",
    "#=====================================\n",
    "def fill_party_from_data(row, df):\n",
    "    if pd.notna(row[\"party\"]):\n",
    "        return row[\"party\"]\n",
    "    \n",
    "    # Try to find other rows with the same candidate and known party\n",
    "    matches = df[(df[\"candidate\"] == row[\"candidate\"]) & (df[\"party\"].notna())]\n",
    "    if not matches.empty:\n",
    "        return matches[\"party\"].iloc[0]  # Return the first match's party\n",
    "    else:\n",
    "        return None  # Still unknown\n",
    "    \n",
    "\n",
    "#=====================================\n",
    "# Function to update the master candidate-party CSV\n",
    "#=====================================\n",
    "def update_master_candidate_party(df, master_path):\n",
    "    # Read the existing master file\n",
    "    master_df = pd.read_csv(master_path)\n",
    "\n",
    "    # Filter and combine only known party entries (exclude 'UNK')\n",
    "    new_data = (\n",
    "        df[[\"candidate\", \"party\"]]\n",
    "        .dropna()\n",
    "        .query('party != \"UNK\"')\n",
    "        .drop_duplicates()\n",
    "    )\n",
    "\n",
    "    # Merge with master and remove duplicates by candidate\n",
    "    updated_master = pd.concat([master_df, new_data]).drop_duplicates(subset=\"candidate\")\n",
    "\n",
    "    # Save updated version\n",
    "    updated_master.to_csv(master_path, index=False)\n",
    "\n",
    "\n",
    "#=====================================\n",
    "# Function to update the master candidate-party CSV\n",
    "#=====================================\n",
    "def update_master_candidate_party(df, master_path):\n",
    "    # Read the existing master file\n",
    "    master_df = pd.read_csv(master_path)\n",
    "\n",
    "    # Filter and combine only known party entries (exclude 'UNK')\n",
    "    new_data = (\n",
    "        df[[\"candidate\", \"party\"]]\n",
    "        .dropna()\n",
    "        .query('party != \"UNK\"')\n",
    "        .drop_duplicates()\n",
    "    )\n",
    "\n",
    "    # Merge with master and remove duplicates by candidate\n",
    "    updated_master = pd.concat([master_df, new_data]).drop_duplicates(subset=\"candidate\")\n",
    "\n",
    "    # Save updated version\n",
    "    updated_master.to_csv(master_path, index=False)\n",
    "\n",
    "\n",
    "#=====================================\n",
    "# Example usage (uncomment and modify for your workflow)\n",
    "#=====================================\n",
    "# Fill party using internal data\n",
    "# general_data[\"party\"] = general_data.apply(\n",
    "#     lambda row: fill_party_from_data(row, general_data),\n",
    "#     axis=1\n",
    "# )\n",
    "\n",
    "# # Fill remaining party using general master CSV\n",
    "# master_party_df = pd.read_csv(r\"C:\\Huy Phan\\College\\VoterTurnout\\data\\cleaned_data\\gen_can_party.csv\") # USE YOUR OWN ADDRESS\n",
    "# general_data = fill_party_from_master(general_data, master_party_df)\n",
    "general_data[\"party\"].value_counts(dropna=False)\n"
   ]
  },
  {
   "cell_type": "code",
   "execution_count": 24,
   "id": "8bb5d275",
   "metadata": {},
   "outputs": [
    {
     "name": "stderr",
     "output_type": "stream",
     "text": [
      "C:\\Users\\ADMIN\\AppData\\Local\\Temp\\ipykernel_17984\\2987819952.py:3: SettingWithCopyWarning: \n",
      "A value is trying to be set on a copy of a slice from a DataFrame.\n",
      "Try using .loc[row_indexer,col_indexer] = value instead\n",
      "\n",
      "See the caveats in the documentation: https://pandas.pydata.org/pandas-docs/stable/user_guide/indexing.html#returning-a-view-versus-a-copy\n",
      "  general_data[\"party\"] = general_data[\"party\"].astype(str).str.upper()\n",
      "C:\\Users\\ADMIN\\AppData\\Local\\Temp\\ipykernel_17984\\2987819952.py:5: SettingWithCopyWarning: \n",
      "A value is trying to be set on a copy of a slice from a DataFrame.\n",
      "Try using .loc[row_indexer,col_indexer] = value instead\n",
      "\n",
      "See the caveats in the documentation: https://pandas.pydata.org/pandas-docs/stable/user_guide/indexing.html#returning-a-view-versus-a-copy\n",
      "  general_data[\"party\"] = (\n"
     ]
    },
    {
     "data": {
      "application/vnd.microsoft.datawrangler.viewer.v0+json": {
       "columns": [
        {
         "name": "party",
         "rawType": "object",
         "type": "string"
        },
        {
         "name": "count",
         "rawType": "int64",
         "type": "integer"
        }
       ],
       "ref": "d747a84f-a057-495b-a057-5eddc591ff25",
       "rows": [
        [
         "IND",
         "3844"
        ],
        [
         "DEM",
         "961"
        ],
        [
         "CON",
         "961"
        ],
        [
         "LIB",
         "961"
        ],
        [
         "REP",
         "961"
        ]
       ],
       "shape": {
        "columns": 1,
        "rows": 5
       }
      },
      "text/plain": [
       "party\n",
       "IND    3844\n",
       "DEM     961\n",
       "CON     961\n",
       "LIB     961\n",
       "REP     961\n",
       "Name: count, dtype: int64"
      ]
     },
     "execution_count": 24,
     "metadata": {},
     "output_type": "execute_result"
    }
   ],
   "source": [
    "# Cleaning Party\n",
    "# Turning all general data party to uppercase\n",
    "general_data[\"party\"] = general_data[\"party\"].astype(str).str.upper()\n",
    "\n",
    "general_data[\"party\"] = (\n",
    "    general_data[\"party\"]\n",
    "    .replace({\n",
    "        \"REPUBLICAN\": \"REP\",\n",
    "        \"R\": \"REP\",\n",
    "        \"DEMOCRATIC\": \"DEM\",\n",
    "        \"DEM\": \"DEM\",\n",
    "        \"D\": \"DEM\",\n",
    "        \"GREEN\": \"GRN\",\n",
    "        \"G\": \"GRN\",\n",
    "        \"GREEN AND RAINBOW\":\"GRN\",\n",
    "        \"GREEN-RAINBOW\":\"GRN\",\n",
    "        \"LIBERTARIAN\": \"LIB\",\n",
    "        \"LIBERTARIN\":\"LIB\",\n",
    "        \"LBT\": \"LIB\",\n",
    "        \"L\": \"LIB\",\n",
    "        \"CONSTITUTION\": \"CON\",\n",
    "        \"NP\": \"IND\",\n",
    "        \"NON\": \"IND\",\n",
    "        \"WRI\": \"IND\",\n",
    "        \"WRITE-IN\": \"IND\",\n",
    "        \"ONA\": \"IND\",\n",
    "        \"GEN\": \"IND\",\n",
    "        \"NONE\":\"UNK\",\n",
    "        \"(WRITE-IN)\":\"IND\"\n",
    "    })\n",
    ")\n",
    "\n",
    "general_data[\"party\"].value_counts(dropna=False)"
   ]
  },
  {
   "cell_type": "code",
   "execution_count": 25,
   "id": "ff4a4970",
   "metadata": {},
   "outputs": [],
   "source": [
    "# UPDATE MASTER FILE, CAREFUL\n",
    "update_master_candidate_party(general_data, r\"C:\\Huy Phan\\College\\VoterTurnout\\data\\cleaned_data\\gen_can_party.csv\")"
   ]
  },
  {
   "cell_type": "code",
   "execution_count": 26,
   "id": "daaed088",
   "metadata": {},
   "outputs": [
    {
     "name": "stderr",
     "output_type": "stream",
     "text": [
      "C:\\Users\\ADMIN\\AppData\\Local\\Temp\\ipykernel_17984\\1829951435.py:1: SettingWithCopyWarning: \n",
      "A value is trying to be set on a copy of a slice from a DataFrame.\n",
      "Try using .loc[row_indexer,col_indexer] = value instead\n",
      "\n",
      "See the caveats in the documentation: https://pandas.pydata.org/pandas-docs/stable/user_guide/indexing.html#returning-a-view-versus-a-copy\n",
      "  general_data[\"candidate_column\"] = (\n"
     ]
    },
    {
     "data": {
      "application/vnd.microsoft.datawrangler.viewer.v0+json": {
       "columns": [
        {
         "name": "index",
         "rawType": "int64",
         "type": "integer"
        },
        {
         "name": "precinct",
         "rawType": "object",
         "type": "string"
        },
        {
         "name": "gen_con_COPELAND",
         "rawType": "object",
         "type": "string"
        },
        {
         "name": "gen_dem_CLINTON",
         "rawType": "object",
         "type": "string"
        },
        {
         "name": "gen_ind_CASTLE",
         "rawType": "object",
         "type": "string"
        },
        {
         "name": "gen_ind_FUENTE",
         "rawType": "object",
         "type": "string"
        },
        {
         "name": "gen_ind_MCMULLIN",
         "rawType": "object",
         "type": "string"
        },
        {
         "name": "gen_ind_STEIN",
         "rawType": "object",
         "type": "string"
        },
        {
         "name": "gen_lib_JOHNSON",
         "rawType": "object",
         "type": "string"
        },
        {
         "name": "gen_rep_TRUMP",
         "rawType": "object",
         "type": "string"
        }
       ],
       "ref": "85098e7d-899f-4577-8757-065ffd135dbe",
       "rows": [
        [
         "0",
         "ADA1401",
         "0",
         "206",
         "4",
         "0",
         "63",
         "10",
         "35",
         "857"
        ],
        [
         "1",
         "ADA1402",
         "2",
         "292",
         "3",
         "1",
         "86",
         "8",
         "49",
         "796"
        ],
        [
         "2",
         "ADA1403",
         "2",
         "121",
         "2",
         "1",
         "41",
         "5",
         "18",
         "289"
        ],
        [
         "3",
         "ADA1404",
         "2",
         "317",
         "13",
         "7",
         "148",
         "13",
         "79",
         "1290"
        ],
        [
         "4",
         "ADA1405",
         "3",
         "331",
         "8",
         "3",
         "90",
         "9",
         "54",
         "994"
        ],
        [
         "5",
         "ADA1406",
         "5",
         "549",
         "7",
         "8",
         "136",
         "9",
         "74",
         "1691"
        ],
        [
         "6",
         "ADA1407",
         "3",
         "305",
         "9",
         "3",
         "59",
         "6",
         "31",
         "656"
        ],
        [
         "7",
         "ADA1408",
         "1",
         "474",
         "4",
         "1",
         "99",
         "6",
         "57",
         "726"
        ],
        [
         "8",
         "ADA1409",
         "2",
         "394",
         "3",
         "1",
         "73",
         "18",
         "47",
         "713"
        ],
        [
         "9",
         "ADA1410",
         "2",
         "470",
         "10",
         "1",
         "59",
         "30",
         "61",
         "648"
        ],
        [
         "10",
         "ADA1411",
         "1",
         "451",
         "6",
         "0",
         "67",
         "17",
         "69",
         "801"
        ],
        [
         "11",
         "ADA1412",
         "3",
         "139",
         "3",
         "0",
         "40",
         "10",
         "17",
         "400"
        ],
        [
         "12",
         "ADA1413",
         "5",
         "728",
         "5",
         "0",
         "264",
         "13",
         "92",
         "1683"
        ],
        [
         "13",
         "ADA1414",
         "4",
         "456",
         "4",
         "1",
         "209",
         "25",
         "95",
         "1280"
        ],
        [
         "14",
         "ADA1415",
         "4",
         "277",
         "3",
         "2",
         "93",
         "7",
         "47",
         "870"
        ],
        [
         "15",
         "ADA1416",
         "3",
         "446",
         "2",
         "0",
         "89",
         "4",
         "58",
         "1009"
        ],
        [
         "16",
         "ADA1417",
         "1",
         "293",
         "11",
         "2",
         "91",
         "10",
         "73",
         "903"
        ],
        [
         "17",
         "ADA1418",
         "9",
         "464",
         "8",
         "4",
         "96",
         "11",
         "64",
         "1213"
        ],
        [
         "18",
         "ADA1419",
         "3",
         "320",
         "3",
         "4",
         "69",
         "9",
         "66",
         "677"
        ],
        [
         "19",
         "ADA1501",
         "1",
         "641",
         "10",
         "5",
         "180",
         "21",
         "82",
         "888"
        ],
        [
         "20",
         "ADA1502",
         "1",
         "559",
         "3",
         "3",
         "122",
         "12",
         "72",
         "789"
        ],
        [
         "21",
         "ADA1503",
         "5",
         "477",
         "8",
         "1",
         "69",
         "15",
         "42",
         "631"
        ],
        [
         "22",
         "ADA1504",
         "6",
         "733",
         "11",
         "0",
         "162",
         "27",
         "95",
         "1006"
        ],
        [
         "23",
         "ADA1505",
         "7",
         "393",
         "3",
         "1",
         "82",
         "17",
         "55",
         "581"
        ],
        [
         "24",
         "ADA1506",
         "5",
         "486",
         "12",
         "2",
         "80",
         "29",
         "62",
         "597"
        ],
        [
         "25",
         "ADA1507",
         "3",
         "439",
         "11",
         "7",
         "103",
         "19",
         "85",
         "687"
        ],
        [
         "26",
         "ADA1508",
         "6",
         "481",
         "7",
         "1",
         "86",
         "20",
         "53",
         "640"
        ],
        [
         "27",
         "ADA1509",
         "4",
         "727",
         "6",
         "6",
         "82",
         "35",
         "128",
         "943"
        ],
        [
         "28",
         "ADA1510",
         "4",
         "389",
         "9",
         "4",
         "31",
         "17",
         "85",
         "490"
        ],
        [
         "29",
         "ADA1511",
         "3",
         "341",
         "0",
         "1",
         "44",
         "21",
         "45",
         "451"
        ],
        [
         "30",
         "ADA1512",
         "3",
         "343",
         "4",
         "4",
         "42",
         "21",
         "72",
         "422"
        ],
        [
         "31",
         "ADA1513",
         "2",
         "386",
         "3",
         "3",
         "44",
         "22",
         "71",
         "506"
        ],
        [
         "32",
         "ADA1514",
         "6",
         "340",
         "10",
         "3",
         "69",
         "18",
         "58",
         "504"
        ],
        [
         "33",
         "ADA1515",
         "1",
         "229",
         "1",
         "1",
         "32",
         "7",
         "45",
         "404"
        ],
        [
         "34",
         "ADA1601",
         "2",
         "890",
         "5",
         "1",
         "54",
         "18",
         "77",
         "859"
        ],
        [
         "35",
         "ADA1602",
         "2",
         "738",
         "5",
         "2",
         "65",
         "29",
         "82",
         "545"
        ],
        [
         "36",
         "ADA1603",
         "1",
         "1004",
         "7",
         "3",
         "81",
         "42",
         "128",
         "612"
        ],
        [
         "37",
         "ADA1604",
         "3",
         "700",
         "8",
         "3",
         "43",
         "28",
         "62",
         "423"
        ],
        [
         "38",
         "ADA1605",
         "4",
         "668",
         "4",
         "2",
         "42",
         "60",
         "81",
         "350"
        ],
        [
         "39",
         "ADA1606",
         "3",
         "682",
         "2",
         "4",
         "33",
         "38",
         "65",
         "286"
        ],
        [
         "40",
         "ADA1607",
         "7",
         "637",
         "11",
         "5",
         "88",
         "26",
         "63",
         "729"
        ],
        [
         "41",
         "ADA1608",
         "4",
         "456",
         "9",
         "8",
         "32",
         "27",
         "71",
         "491"
        ],
        [
         "42",
         "ADA1609",
         "0",
         "452",
         "12",
         "5",
         "72",
         "22",
         "67",
         "612"
        ],
        [
         "43",
         "ADA1610",
         "3",
         "672",
         "9",
         "5",
         "116",
         "33",
         "111",
         "723"
        ],
        [
         "44",
         "ADA1611",
         "1",
         "609",
         "12",
         "4",
         "99",
         "19",
         "41",
         "587"
        ],
        [
         "45",
         "ADA1612",
         "7",
         "325",
         "8",
         "2",
         "42",
         "16",
         "47",
         "332"
        ],
        [
         "46",
         "ADA1613",
         "4",
         "566",
         "17",
         "2",
         "59",
         "29",
         "58",
         "483"
        ],
        [
         "47",
         "ADA1614",
         "4",
         "511",
         "3",
         "0",
         "83",
         "27",
         "63",
         "469"
        ],
        [
         "48",
         "ADA1615",
         "1",
         "766",
         "5",
         "6",
         "79",
         "33",
         "111",
         "547"
        ],
        [
         "49",
         "ADA1701",
         "5",
         "515",
         "1",
         "8",
         "66",
         "28",
         "65",
         "527"
        ]
       ],
       "shape": {
        "columns": 9,
        "rows": 961
       }
      },
      "text/html": [
       "<div>\n",
       "<style scoped>\n",
       "    .dataframe tbody tr th:only-of-type {\n",
       "        vertical-align: middle;\n",
       "    }\n",
       "\n",
       "    .dataframe tbody tr th {\n",
       "        vertical-align: top;\n",
       "    }\n",
       "\n",
       "    .dataframe thead th {\n",
       "        text-align: right;\n",
       "    }\n",
       "</style>\n",
       "<table border=\"1\" class=\"dataframe\">\n",
       "  <thead>\n",
       "    <tr style=\"text-align: right;\">\n",
       "      <th>candidate_column</th>\n",
       "      <th>precinct</th>\n",
       "      <th>gen_con_COPELAND</th>\n",
       "      <th>gen_dem_CLINTON</th>\n",
       "      <th>gen_ind_CASTLE</th>\n",
       "      <th>gen_ind_FUENTE</th>\n",
       "      <th>gen_ind_MCMULLIN</th>\n",
       "      <th>gen_ind_STEIN</th>\n",
       "      <th>gen_lib_JOHNSON</th>\n",
       "      <th>gen_rep_TRUMP</th>\n",
       "    </tr>\n",
       "  </thead>\n",
       "  <tbody>\n",
       "    <tr>\n",
       "      <th>0</th>\n",
       "      <td>ADA1401</td>\n",
       "      <td>0</td>\n",
       "      <td>206</td>\n",
       "      <td>4</td>\n",
       "      <td>0</td>\n",
       "      <td>63</td>\n",
       "      <td>10</td>\n",
       "      <td>35</td>\n",
       "      <td>857</td>\n",
       "    </tr>\n",
       "    <tr>\n",
       "      <th>1</th>\n",
       "      <td>ADA1402</td>\n",
       "      <td>2</td>\n",
       "      <td>292</td>\n",
       "      <td>3</td>\n",
       "      <td>1</td>\n",
       "      <td>86</td>\n",
       "      <td>8</td>\n",
       "      <td>49</td>\n",
       "      <td>796</td>\n",
       "    </tr>\n",
       "    <tr>\n",
       "      <th>2</th>\n",
       "      <td>ADA1403</td>\n",
       "      <td>2</td>\n",
       "      <td>121</td>\n",
       "      <td>2</td>\n",
       "      <td>1</td>\n",
       "      <td>41</td>\n",
       "      <td>5</td>\n",
       "      <td>18</td>\n",
       "      <td>289</td>\n",
       "    </tr>\n",
       "    <tr>\n",
       "      <th>3</th>\n",
       "      <td>ADA1404</td>\n",
       "      <td>2</td>\n",
       "      <td>317</td>\n",
       "      <td>13</td>\n",
       "      <td>7</td>\n",
       "      <td>148</td>\n",
       "      <td>13</td>\n",
       "      <td>79</td>\n",
       "      <td>1290</td>\n",
       "    </tr>\n",
       "    <tr>\n",
       "      <th>4</th>\n",
       "      <td>ADA1405</td>\n",
       "      <td>3</td>\n",
       "      <td>331</td>\n",
       "      <td>8</td>\n",
       "      <td>3</td>\n",
       "      <td>90</td>\n",
       "      <td>9</td>\n",
       "      <td>54</td>\n",
       "      <td>994</td>\n",
       "    </tr>\n",
       "    <tr>\n",
       "      <th>...</th>\n",
       "      <td>...</td>\n",
       "      <td>...</td>\n",
       "      <td>...</td>\n",
       "      <td>...</td>\n",
       "      <td>...</td>\n",
       "      <td>...</td>\n",
       "      <td>...</td>\n",
       "      <td>...</td>\n",
       "      <td>...</td>\n",
       "    </tr>\n",
       "    <tr>\n",
       "      <th>956</th>\n",
       "      <td>WASHINGTON07 MIDVALE</td>\n",
       "      <td>3</td>\n",
       "      <td>31</td>\n",
       "      <td>2</td>\n",
       "      <td>0</td>\n",
       "      <td>4</td>\n",
       "      <td>0</td>\n",
       "      <td>3</td>\n",
       "      <td>403</td>\n",
       "    </tr>\n",
       "    <tr>\n",
       "      <th>957</th>\n",
       "      <td>WASHINGTON08 CAMBRIDGE</td>\n",
       "      <td>0</td>\n",
       "      <td>68</td>\n",
       "      <td>2</td>\n",
       "      <td>0</td>\n",
       "      <td>29</td>\n",
       "      <td>2</td>\n",
       "      <td>8</td>\n",
       "      <td>398</td>\n",
       "    </tr>\n",
       "    <tr>\n",
       "      <th>958</th>\n",
       "      <td>WASHINGTON09 PIONEER</td>\n",
       "      <td>1</td>\n",
       "      <td>110</td>\n",
       "      <td>2</td>\n",
       "      <td>1</td>\n",
       "      <td>14</td>\n",
       "      <td>4</td>\n",
       "      <td>18</td>\n",
       "      <td>288</td>\n",
       "    </tr>\n",
       "    <tr>\n",
       "      <th>959</th>\n",
       "      <td>WASHINGTON10 SUNNYSIDE</td>\n",
       "      <td>4</td>\n",
       "      <td>48</td>\n",
       "      <td>2</td>\n",
       "      <td>1</td>\n",
       "      <td>24</td>\n",
       "      <td>1</td>\n",
       "      <td>15</td>\n",
       "      <td>359</td>\n",
       "    </tr>\n",
       "    <tr>\n",
       "      <th>960</th>\n",
       "      <td>WASHINGTON11 MINERAL</td>\n",
       "      <td>4</td>\n",
       "      <td>41</td>\n",
       "      <td>4</td>\n",
       "      <td>0</td>\n",
       "      <td>20</td>\n",
       "      <td>1</td>\n",
       "      <td>8</td>\n",
       "      <td>265</td>\n",
       "    </tr>\n",
       "  </tbody>\n",
       "</table>\n",
       "<p>961 rows × 9 columns</p>\n",
       "</div>"
      ],
      "text/plain": [
       "candidate_column                precinct gen_con_COPELAND gen_dem_CLINTON  \\\n",
       "0                                ADA1401                0             206   \n",
       "1                                ADA1402                2             292   \n",
       "2                                ADA1403                2             121   \n",
       "3                                ADA1404                2             317   \n",
       "4                                ADA1405                3             331   \n",
       "..                                   ...              ...             ...   \n",
       "956                 WASHINGTON07 MIDVALE                3              31   \n",
       "957               WASHINGTON08 CAMBRIDGE                0              68   \n",
       "958                 WASHINGTON09 PIONEER                1             110   \n",
       "959               WASHINGTON10 SUNNYSIDE                4              48   \n",
       "960                 WASHINGTON11 MINERAL                4              41   \n",
       "\n",
       "candidate_column gen_ind_CASTLE gen_ind_FUENTE gen_ind_MCMULLIN gen_ind_STEIN  \\\n",
       "0                             4              0               63            10   \n",
       "1                             3              1               86             8   \n",
       "2                             2              1               41             5   \n",
       "3                            13              7              148            13   \n",
       "4                             8              3               90             9   \n",
       "..                          ...            ...              ...           ...   \n",
       "956                           2              0                4             0   \n",
       "957                           2              0               29             2   \n",
       "958                           2              1               14             4   \n",
       "959                           2              1               24             1   \n",
       "960                           4              0               20             1   \n",
       "\n",
       "candidate_column gen_lib_JOHNSON gen_rep_TRUMP  \n",
       "0                             35           857  \n",
       "1                             49           796  \n",
       "2                             18           289  \n",
       "3                             79          1290  \n",
       "4                             54           994  \n",
       "..                           ...           ...  \n",
       "956                            3           403  \n",
       "957                            8           398  \n",
       "958                           18           288  \n",
       "959                           15           359  \n",
       "960                            8           265  \n",
       "\n",
       "[961 rows x 9 columns]"
      ]
     },
     "execution_count": 26,
     "metadata": {},
     "output_type": "execute_result"
    }
   ],
   "source": [
    "general_data[\"candidate_column\"] = (\n",
    "    \"gen_\" +\n",
    "    general_data[\"party\"].str.lower() + \"_\" +\n",
    "    general_data[\"candidate\"].str.split().str[-1].str.upper()\n",
    ")\n",
    "\n",
    "# pivot the table\n",
    "general_result = general_data.pivot_table(\n",
    "    index=\"precinct\",\n",
    "    columns=\"candidate_column\",\n",
    "    values=\"votes\",\n",
    "    aggfunc=\"sum\",  \n",
    "    fill_value=0\n",
    ").reset_index()\n",
    "\n",
    "general_result"
   ]
  },
  {
   "cell_type": "code",
   "execution_count": 27,
   "id": "6686d34b",
   "metadata": {},
   "outputs": [],
   "source": [
    "# Merge\n",
    "combined = pd.merge(primary_result, general_result, on=\"precinct\", how=\"inner\")\n",
    "\n",
    "# Convert DEM primary columns to numeric and calculate total\n",
    "dem_cols = combined.filter(like=\"pri_dem_\").columns\n",
    "combined[dem_cols] = combined[dem_cols].apply(pd.to_numeric, errors=\"coerce\")\n",
    "combined[\"dem_primary_total\"] = combined[dem_cols].sum(axis=1)\n",
    "\n",
    "# Convert general election columns to numeric and calculate total\n",
    "gen_cols = combined.filter(like=\"gen_\").columns\n",
    "combined[gen_cols] = combined[gen_cols].apply(pd.to_numeric, errors=\"coerce\")\n",
    "combined[\"general_total\"] = combined[gen_cols].sum(axis=1)\n",
    "\n",
    "# Convert all numeric columns to int\n",
    "for col in combined.columns[1:]:\n",
    "    combined[col] = pd.to_numeric(combined[col], errors='coerce').fillna(0).astype(int)\n",
    "\n",
    "# Identify filtered-out precincts\n",
    "primary_precincts = set(primary_result[\"precinct\"])\n",
    "general_precincts = set(general_result[\"precinct\"])\n",
    "combined_precincts = set(combined[\"precinct\"])\n",
    "\n",
    "primary_filtered_out = primary_precincts - combined_precincts\n",
    "general_filtered_out = general_precincts - combined_precincts\n",
    "\n",
    "\n"
   ]
  },
  {
   "cell_type": "code",
   "execution_count": 28,
   "id": "a6797e92",
   "metadata": {},
   "outputs": [],
   "source": [
    "\n",
    "\n",
    "combined.to_csv(\"ID.csv\", index=False)\n",
    "# Step 3: Identify unmatched precincts and retrieve full rows\n",
    "combined_precincts = set(combined[\"precinct\"])\n",
    "\n",
    "# Rows in primary_result but not in combined\n",
    "primary_filtered_out = primary_result[~primary_result[\"precinct\"].isin(combined_precincts)]\n",
    "primary_filtered_out.to_csv(\"ID_primary_filtered.csv\", index=False)\n",
    "\n",
    "# Rows in general_result but not in combined\n",
    "general_filtered_out = general_result[~general_result[\"precinct\"].isin(combined_precincts)]\n",
    "general_filtered_out.to_csv(\"ID_general_filtered.csv\", index=False)"
   ]
  },
  {
   "cell_type": "code",
   "execution_count": 29,
   "id": "b3d042ff",
   "metadata": {},
   "outputs": [
    {
     "name": "stdout",
     "output_type": "stream",
     "text": [
      "primary: 961, general: 961, combined: 936\n"
     ]
    }
   ],
   "source": [
    "print(f\"primary: {len(primary_precincts)}, general: {len(general_precincts)}, combined: {len(combined)}\")"
   ]
  },
  {
   "cell_type": "code",
   "execution_count": 30,
   "id": "9900725d",
   "metadata": {},
   "outputs": [
    {
     "name": "stdout",
     "output_type": "stream",
     "text": [
      "primary: 44, general: 44\n"
     ]
    }
   ],
   "source": [
    "print(f\"primary: {len(pri_combined_df['county'].unique())}, general: {len(gen_combined_df['county'].unique())}\")\n"
   ]
  }
 ],
 "metadata": {
  "kernelspec": {
   "display_name": "Python 3",
   "language": "python",
   "name": "python3"
  },
  "language_info": {
   "codemirror_mode": {
    "name": "ipython",
    "version": 3
   },
   "file_extension": ".py",
   "mimetype": "text/x-python",
   "name": "python",
   "nbconvert_exporter": "python",
   "pygments_lexer": "ipython3",
   "version": "3.11.2"
  }
 },
 "nbformat": 4,
 "nbformat_minor": 5
}
