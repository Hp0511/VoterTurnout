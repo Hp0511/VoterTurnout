{
 "cells": [
  {
   "cell_type": "code",
   "execution_count": 1,
   "id": "ad1be0fa",
   "metadata": {},
   "outputs": [],
   "source": [
    "# Import all the libraries\n",
    "import pandas as pd\n",
    "import glob\n",
    "import os\n",
    "import re\n",
    "from pprint import pprint"
   ]
  },
  {
   "cell_type": "code",
   "execution_count": 2,
   "id": "c263c4df",
   "metadata": {},
   "outputs": [],
   "source": [
    "#Get all CSV files in the folder of GA\n",
    "all_files = glob.glob(r\"C:\\Huy Phan\\College\\VoterTurnout\\data\\SC\\*.csv\")\n",
    "\n",
    "# Files that contain both 'precinct' and 'general' in the filename\n",
    "general_files = [\n",
    "    f for f in all_files\n",
    "    if all(word in f.lower() for word in ['precinct', 'general'])\n",
    "]\n",
    "\n",
    "\n",
    "# Files that contain both 'precinct' and 'primary' in the filename\n",
    "primary_files = [\n",
    "    f for f in all_files\n",
    "    if all(word in f.lower() for word in ['precinct', 'primary', 'president'])\n",
    "]\n"
   ]
  },
  {
   "cell_type": "code",
   "execution_count": 3,
   "id": "60d49ea6",
   "metadata": {},
   "outputs": [
    {
     "name": "stdout",
     "output_type": "stream",
     "text": [
      "General files:\n",
      "C:\\Huy Phan\\College\\VoterTurnout\\data\\SC\\20161108__sc__general__precinct.csv\n"
     ]
    }
   ],
   "source": [
    "print(\"General files:\")\n",
    "for f in general_files:\n",
    "    print(f)\n"
   ]
  },
  {
   "cell_type": "code",
   "execution_count": 4,
   "id": "4ab13110",
   "metadata": {},
   "outputs": [
    {
     "name": "stdout",
     "output_type": "stream",
     "text": [
      "\n",
      "Primary files:\n",
      "C:\\Huy Phan\\College\\VoterTurnout\\data\\SC\\20160227__sc__primary__president__precinct.csv\n"
     ]
    }
   ],
   "source": [
    "print(\"\\nPrimary files:\")\n",
    "for f in primary_files:\n",
    "    print(f)"
   ]
  },
  {
   "cell_type": "code",
   "execution_count": 5,
   "id": "ff5df6c7",
   "metadata": {},
   "outputs": [],
   "source": [
    "# Process primary files\n",
    "primary_df_list = []\n",
    "\n",
    "for file in primary_files:\n",
    "    try:\n",
    "        df = pd.read_csv(file)\n",
    "        \n",
    "            \n",
    "        # Combine precinct as county + precinct\n",
    "        df[\"precinct\"] = df[\"county\"].astype(str) + df[\"precinct\"].astype(str)\n",
    "        df[\"precinct\"] = df[\"precinct\"].str.upper()\n",
    "        df[\"county\"] = df[\"county\"].str.upper()\n",
    "\n",
    "        # Cleaning maybe total precinct\n",
    "        if 'precinct' in df.columns:\n",
    "            df['precinct'] = df['precinct'].astype(str)                  \n",
    "            df = df[df['precinct'].str.upper() != \"TOTAL\"]               \n",
    "            df = df[df['precinct'].str.strip().str.upper() != \"TOTAL\"]   \n",
    "            df = df[df['precinct'].str.upper() != \"NAN\"]                \n",
    "            df = df[~df['precinct'].str.upper().str.contains(r\"\\w*TOTAL\\w*\", na=False)]   \n",
    "\n",
    "        if 'county' in df.columns:\n",
    "            df['county'] = df['county'].astype(str)                  \n",
    "            df = df[df['county'].str.upper() != \"TOTAL\"]               \n",
    "            df = df[df['county'].str.strip().str.upper() != \"TOTAL\"]   \n",
    "            df = df[df['county'].str.upper() != \"NAN\"]       \n",
    "            df = df[~df['county'].str.upper().str.contains(r\"\\w*TOTAL\\w*\", na=False)]               \n",
    "        # Filtering out only President \n",
    "        if 'office' in df.columns:\n",
    "            df = df[df[\"office\"].str.upper() == \"PRESIDENT\"]\n",
    "            \n",
    "        # Dropping duplicates value\n",
    "        df = df.drop_duplicates()\n",
    "        \n",
    "        primary_df_list.append(df)\n",
    "\n",
    "    except Exception as e:\n",
    "        print(f\"Error in {file}: {e}\")\n",
    "\n",
    "# Combine all cleaned files\n",
    "pri_combined_df = pd.concat(primary_df_list, ignore_index=True)\n",
    "\n"
   ]
  },
  {
   "cell_type": "code",
   "execution_count": 6,
   "id": "2ef83fe2",
   "metadata": {},
   "outputs": [],
   "source": [
    "## Cleaning precinct, county name\n",
    "# Fixing Cubbler\n",
    "# pri_combined_df.loc[\n",
    "#     ( \n",
    "#         pri_combined_df[\"county\"].str.contains(\"\\w*F120\\w*\", case=False, na=False)|\n",
    "#         pri_combined_df[\"county\"].str.contains(\"\\w*STONE\\w*\", case=False, na=False)|\n",
    "#         pri_combined_df[\"county\"].str.contains(\"\\w*OBBLER\\w*\", case=False, na=False),\n",
    "#     \"county\")\n",
    "# ] = \"STONE\""
   ]
  },
  {
   "cell_type": "code",
   "execution_count": 7,
   "id": "bbe34b76",
   "metadata": {},
   "outputs": [],
   "source": [
    "# Checking any suspicious precinct, county\n",
    "suspicious_precincts = pri_combined_df[\n",
    "    pri_combined_df[\"precinct\"].isna() |\n",
    "    pri_combined_df[\"precinct\"].str.strip().str.upper().str.contains(r\"\\w*TOTAL\\w*\", na=False) |\n",
    "    pri_combined_df[\"precinct\"].str.strip().str.upper().isin([\"NONE\", \"NAN\"]) |\n",
    "    pri_combined_df[\"county\"].isna() |\n",
    "    pri_combined_df[\"county\"].str.strip().str.upper().str.contains(r\"\\w*TOTAL\\w*\", na=False) |\n",
    "    pri_combined_df[\"county\"].str.strip().str.upper().isin([\"NONE\", \"NAN\"])\n",
    "]"
   ]
  },
  {
   "cell_type": "code",
   "execution_count": 8,
   "id": "f0e1e913",
   "metadata": {},
   "outputs": [
    {
     "data": {
      "application/vnd.microsoft.datawrangler.viewer.v0+json": {
       "columns": [
        {
         "name": "index",
         "rawType": "int64",
         "type": "integer"
        },
        {
         "name": "precinct",
         "rawType": "object",
         "type": "string"
        },
        {
         "name": "party",
         "rawType": "object",
         "type": "string"
        },
        {
         "name": "candidate",
         "rawType": "object",
         "type": "string"
        },
        {
         "name": "votes",
         "rawType": "int64",
         "type": "integer"
        }
       ],
       "ref": "7d19600f-1339-4ffc-97db-425a786e3f7d",
       "rows": [
        [
         "0",
         "SALUDACENTENNIAL",
         "DEM",
         "Hillary Clinton",
         "15"
        ],
        [
         "1",
         "SALUDACLYDE",
         "DEM",
         "Hillary Clinton",
         "0"
        ],
        [
         "2",
         "SALUDADELMAR",
         "DEM",
         "Hillary Clinton",
         "8"
        ],
        [
         "3",
         "SALUDAFRUIT HILL",
         "DEM",
         "Hillary Clinton",
         "130"
        ],
        [
         "4",
         "SALUDAHIGGINS-ZOAR",
         "DEM",
         "Hillary Clinton",
         "58"
        ],
        [
         "5",
         "SALUDAHOLLY",
         "DEM",
         "Hillary Clinton",
         "12"
        ],
        [
         "6",
         "SALUDAHOLLYWOOD",
         "DEM",
         "Hillary Clinton",
         "44"
        ],
        [
         "7",
         "SALUDAHOLSTONS",
         "DEM",
         "Hillary Clinton",
         "71"
        ],
        [
         "8",
         "SALUDAMAYSON",
         "DEM",
         "Hillary Clinton",
         "26"
        ],
        [
         "9",
         "SALUDAMT. WILLING",
         "DEM",
         "Hillary Clinton",
         "11"
        ],
        [
         "10",
         "SALUDAPLEASANT CROSS",
         "DEM",
         "Hillary Clinton",
         "37"
        ],
        [
         "11",
         "SALUDAPLEASANT GROVE",
         "DEM",
         "Hillary Clinton",
         "24"
        ],
        [
         "12",
         "SALUDARICHLAND",
         "DEM",
         "Hillary Clinton",
         "25"
        ],
        [
         "13",
         "SALUDARIDGE SPRING - MONETTA",
         "DEM",
         "Hillary Clinton",
         "116"
        ],
        [
         "14",
         "SALUDASALUDA NO. 1",
         "DEM",
         "Hillary Clinton",
         "217"
        ],
        [
         "15",
         "SALUDASALUDA NO. 2",
         "DEM",
         "Hillary Clinton",
         "73"
        ],
        [
         "16",
         "SALUDASARDIS",
         "DEM",
         "Hillary Clinton",
         "6"
        ],
        [
         "17",
         "SALUDAWARD",
         "DEM",
         "Hillary Clinton",
         "34"
        ],
        [
         "18",
         "SALUDAABSENTEE",
         "DEM",
         "Hillary Clinton",
         "105"
        ],
        [
         "19",
         "SALUDAEMERGENCY",
         "DEM",
         "Hillary Clinton",
         "1"
        ],
        [
         "20",
         "SALUDAFAILSAFE",
         "DEM",
         "Hillary Clinton",
         "10"
        ],
        [
         "21",
         "SALUDAPROVISIONAL",
         "DEM",
         "Hillary Clinton",
         "0"
        ],
        [
         "22",
         "SALUDAFAILSAFE PROVISIONAL",
         "DEM",
         "Hillary Clinton",
         "0"
        ],
        [
         "23",
         "SALUDACENTENNIAL",
         "DEM",
         "Martin O'Malley",
         "0"
        ],
        [
         "24",
         "SALUDACLYDE",
         "DEM",
         "Martin O'Malley",
         "0"
        ],
        [
         "25",
         "SALUDADELMAR",
         "DEM",
         "Martin O'Malley",
         "0"
        ],
        [
         "26",
         "SALUDAFRUIT HILL",
         "DEM",
         "Martin O'Malley",
         "0"
        ],
        [
         "27",
         "SALUDAHIGGINS-ZOAR",
         "DEM",
         "Martin O'Malley",
         "0"
        ],
        [
         "28",
         "SALUDAHOLLY",
         "DEM",
         "Martin O'Malley",
         "0"
        ],
        [
         "29",
         "SALUDAHOLLYWOOD",
         "DEM",
         "Martin O'Malley",
         "0"
        ],
        [
         "30",
         "SALUDAHOLSTONS",
         "DEM",
         "Martin O'Malley",
         "0"
        ],
        [
         "31",
         "SALUDAMAYSON",
         "DEM",
         "Martin O'Malley",
         "0"
        ],
        [
         "32",
         "SALUDAMT. WILLING",
         "DEM",
         "Martin O'Malley",
         "0"
        ],
        [
         "33",
         "SALUDAPLEASANT CROSS",
         "DEM",
         "Martin O'Malley",
         "0"
        ],
        [
         "34",
         "SALUDAPLEASANT GROVE",
         "DEM",
         "Martin O'Malley",
         "0"
        ],
        [
         "35",
         "SALUDARICHLAND",
         "DEM",
         "Martin O'Malley",
         "0"
        ],
        [
         "36",
         "SALUDARIDGE SPRING - MONETTA",
         "DEM",
         "Martin O'Malley",
         "1"
        ],
        [
         "37",
         "SALUDASALUDA NO. 1",
         "DEM",
         "Martin O'Malley",
         "0"
        ],
        [
         "38",
         "SALUDASALUDA NO. 2",
         "DEM",
         "Martin O'Malley",
         "0"
        ],
        [
         "39",
         "SALUDASARDIS",
         "DEM",
         "Martin O'Malley",
         "0"
        ],
        [
         "40",
         "SALUDAWARD",
         "DEM",
         "Martin O'Malley",
         "0"
        ],
        [
         "41",
         "SALUDAABSENTEE",
         "DEM",
         "Martin O'Malley",
         "0"
        ],
        [
         "42",
         "SALUDAEMERGENCY",
         "DEM",
         "Martin O'Malley",
         "0"
        ],
        [
         "43",
         "SALUDAFAILSAFE",
         "DEM",
         "Martin O'Malley",
         "0"
        ],
        [
         "44",
         "SALUDAPROVISIONAL",
         "DEM",
         "Martin O'Malley",
         "0"
        ],
        [
         "45",
         "SALUDAFAILSAFE PROVISIONAL",
         "DEM",
         "Martin O'Malley",
         "0"
        ],
        [
         "46",
         "SALUDACENTENNIAL",
         "DEM",
         "Bernie Sanders",
         "7"
        ],
        [
         "47",
         "SALUDACLYDE",
         "DEM",
         "Bernie Sanders",
         "3"
        ],
        [
         "48",
         "SALUDADELMAR",
         "DEM",
         "Bernie Sanders",
         "3"
        ],
        [
         "49",
         "SALUDAFRUIT HILL",
         "DEM",
         "Bernie Sanders",
         "16"
        ]
       ],
       "shape": {
        "columns": 4,
        "rows": 9571
       }
      },
      "text/html": [
       "<div>\n",
       "<style scoped>\n",
       "    .dataframe tbody tr th:only-of-type {\n",
       "        vertical-align: middle;\n",
       "    }\n",
       "\n",
       "    .dataframe tbody tr th {\n",
       "        vertical-align: top;\n",
       "    }\n",
       "\n",
       "    .dataframe thead th {\n",
       "        text-align: right;\n",
       "    }\n",
       "</style>\n",
       "<table border=\"1\" class=\"dataframe\">\n",
       "  <thead>\n",
       "    <tr style=\"text-align: right;\">\n",
       "      <th></th>\n",
       "      <th>precinct</th>\n",
       "      <th>party</th>\n",
       "      <th>candidate</th>\n",
       "      <th>votes</th>\n",
       "    </tr>\n",
       "  </thead>\n",
       "  <tbody>\n",
       "    <tr>\n",
       "      <th>0</th>\n",
       "      <td>SALUDACENTENNIAL</td>\n",
       "      <td>DEM</td>\n",
       "      <td>Hillary Clinton</td>\n",
       "      <td>15</td>\n",
       "    </tr>\n",
       "    <tr>\n",
       "      <th>1</th>\n",
       "      <td>SALUDACLYDE</td>\n",
       "      <td>DEM</td>\n",
       "      <td>Hillary Clinton</td>\n",
       "      <td>0</td>\n",
       "    </tr>\n",
       "    <tr>\n",
       "      <th>2</th>\n",
       "      <td>SALUDADELMAR</td>\n",
       "      <td>DEM</td>\n",
       "      <td>Hillary Clinton</td>\n",
       "      <td>8</td>\n",
       "    </tr>\n",
       "    <tr>\n",
       "      <th>3</th>\n",
       "      <td>SALUDAFRUIT HILL</td>\n",
       "      <td>DEM</td>\n",
       "      <td>Hillary Clinton</td>\n",
       "      <td>130</td>\n",
       "    </tr>\n",
       "    <tr>\n",
       "      <th>4</th>\n",
       "      <td>SALUDAHIGGINS-ZOAR</td>\n",
       "      <td>DEM</td>\n",
       "      <td>Hillary Clinton</td>\n",
       "      <td>58</td>\n",
       "    </tr>\n",
       "    <tr>\n",
       "      <th>...</th>\n",
       "      <td>...</td>\n",
       "      <td>...</td>\n",
       "      <td>...</td>\n",
       "      <td>...</td>\n",
       "    </tr>\n",
       "    <tr>\n",
       "      <th>9566</th>\n",
       "      <td>BEAUFORTABSENTEE</td>\n",
       "      <td>DEM</td>\n",
       "      <td>Willie Wilson</td>\n",
       "      <td>7</td>\n",
       "    </tr>\n",
       "    <tr>\n",
       "      <th>9567</th>\n",
       "      <td>BEAUFORTEMERGENCY</td>\n",
       "      <td>DEM</td>\n",
       "      <td>Willie Wilson</td>\n",
       "      <td>0</td>\n",
       "    </tr>\n",
       "    <tr>\n",
       "      <th>9568</th>\n",
       "      <td>BEAUFORTFAILSAFE</td>\n",
       "      <td>DEM</td>\n",
       "      <td>Willie Wilson</td>\n",
       "      <td>0</td>\n",
       "    </tr>\n",
       "    <tr>\n",
       "      <th>9569</th>\n",
       "      <td>BEAUFORTPROVISIONAL</td>\n",
       "      <td>DEM</td>\n",
       "      <td>Willie Wilson</td>\n",
       "      <td>1</td>\n",
       "    </tr>\n",
       "    <tr>\n",
       "      <th>9570</th>\n",
       "      <td>BEAUFORTFAILSAFE PROVISIONAL</td>\n",
       "      <td>DEM</td>\n",
       "      <td>Willie Wilson</td>\n",
       "      <td>0</td>\n",
       "    </tr>\n",
       "  </tbody>\n",
       "</table>\n",
       "<p>9571 rows × 4 columns</p>\n",
       "</div>"
      ],
      "text/plain": [
       "                          precinct party        candidate  votes\n",
       "0                 SALUDACENTENNIAL   DEM  Hillary Clinton     15\n",
       "1                      SALUDACLYDE   DEM  Hillary Clinton      0\n",
       "2                     SALUDADELMAR   DEM  Hillary Clinton      8\n",
       "3                 SALUDAFRUIT HILL   DEM  Hillary Clinton    130\n",
       "4               SALUDAHIGGINS-ZOAR   DEM  Hillary Clinton     58\n",
       "...                            ...   ...              ...    ...\n",
       "9566              BEAUFORTABSENTEE   DEM    Willie Wilson      7\n",
       "9567             BEAUFORTEMERGENCY   DEM    Willie Wilson      0\n",
       "9568              BEAUFORTFAILSAFE   DEM    Willie Wilson      0\n",
       "9569           BEAUFORTPROVISIONAL   DEM    Willie Wilson      1\n",
       "9570  BEAUFORTFAILSAFE PROVISIONAL   DEM    Willie Wilson      0\n",
       "\n",
       "[9571 rows x 4 columns]"
      ]
     },
     "execution_count": 8,
     "metadata": {},
     "output_type": "execute_result"
    }
   ],
   "source": [
    "# Select only the relevant columns\n",
    "primary_data = pri_combined_df[[\"precinct\", \"party\", \"candidate\", \"votes\"]]\n",
    "\n",
    "primary_data"
   ]
  },
  {
   "cell_type": "code",
   "execution_count": 9,
   "id": "dc2ffa15",
   "metadata": {},
   "outputs": [
    {
     "data": {
      "application/vnd.microsoft.datawrangler.viewer.v0+json": {
       "columns": [
        {
         "name": "candidate",
         "rawType": "object",
         "type": "string"
        },
        {
         "name": "count",
         "rawType": "int64",
         "type": "integer"
        }
       ],
       "ref": "e3886fcd-86fa-493b-8c41-4a25f15881fe",
       "rows": [
        [
         "Hillary Clinton",
         "2455"
        ],
        [
         "Bernie Sanders",
         "2454"
        ],
        [
         "Willie Wilson",
         "2337"
        ],
        [
         "Martin O'Malley",
         "2325"
        ]
       ],
       "shape": {
        "columns": 1,
        "rows": 4
       }
      },
      "text/plain": [
       "candidate\n",
       "Hillary Clinton    2455\n",
       "Bernie Sanders     2454\n",
       "Willie Wilson      2337\n",
       "Martin O'Malley    2325\n",
       "Name: count, dtype: int64"
      ]
     },
     "execution_count": 9,
     "metadata": {},
     "output_type": "execute_result"
    }
   ],
   "source": [
    "# Viewing candidate data\n",
    "primary_data[\"candidate\"].value_counts(dropna=False)"
   ]
  },
  {
   "cell_type": "code",
   "execution_count": 10,
   "id": "5eef8778",
   "metadata": {},
   "outputs": [
    {
     "name": "stderr",
     "output_type": "stream",
     "text": [
      "C:\\Users\\ADMIN\\AppData\\Local\\Temp\\ipykernel_34304\\2359132497.py:4: SettingWithCopyWarning: \n",
      "A value is trying to be set on a copy of a slice from a DataFrame.\n",
      "Try using .loc[row_indexer,col_indexer] = value instead\n",
      "\n",
      "See the caveats in the documentation: https://pandas.pydata.org/pandas-docs/stable/user_guide/indexing.html#returning-a-view-versus-a-copy\n",
      "  primary_data[\"candidate\"] = primary_data[\"candidate\"].astype(str).str.upper()\n",
      "C:\\Users\\ADMIN\\AppData\\Local\\Temp\\ipykernel_34304\\2359132497.py:34: SettingWithCopyWarning: \n",
      "A value is trying to be set on a copy of a slice from a DataFrame.\n",
      "Try using .loc[row_indexer,col_indexer] = value instead\n",
      "\n",
      "See the caveats in the documentation: https://pandas.pydata.org/pandas-docs/stable/user_guide/indexing.html#returning-a-view-versus-a-copy\n",
      "  primary_data[\"candidate\"] = primary_data[\"candidate\"].astype(str).str.upper()\n",
      "C:\\Users\\ADMIN\\AppData\\Local\\Temp\\ipykernel_34304\\2359132497.py:43: SettingWithCopyWarning: \n",
      "A value is trying to be set on a copy of a slice from a DataFrame.\n",
      "Try using .loc[row_indexer,col_indexer] = value instead\n",
      "\n",
      "See the caveats in the documentation: https://pandas.pydata.org/pandas-docs/stable/user_guide/indexing.html#returning-a-view-versus-a-copy\n",
      "  primary_data[\"candidate\"] = primary_data[\"candidate\"].str.split().str[-1]\n"
     ]
    },
    {
     "data": {
      "application/vnd.microsoft.datawrangler.viewer.v0+json": {
       "columns": [
        {
         "name": "candidate",
         "rawType": "object",
         "type": "string"
        },
        {
         "name": "count",
         "rawType": "int64",
         "type": "integer"
        }
       ],
       "ref": "9bfad468-477c-4045-b005-22f9e652343a",
       "rows": [
        [
         "CLINTON",
         "2455"
        ],
        [
         "SANDERS",
         "2454"
        ],
        [
         "WILSON",
         "2337"
        ],
        [
         "O'MAILEY",
         "2325"
        ]
       ],
       "shape": {
        "columns": 1,
        "rows": 4
       }
      },
      "text/plain": [
       "candidate\n",
       "CLINTON     2455\n",
       "SANDERS     2454\n",
       "WILSON      2337\n",
       "O'MAILEY    2325\n",
       "Name: count, dtype: int64"
      ]
     },
     "execution_count": 10,
     "metadata": {},
     "output_type": "execute_result"
    }
   ],
   "source": [
    "# Cleaning Candidates\n",
    "\n",
    "# Turning all primary data to uppercase\n",
    "primary_data[\"candidate\"] = primary_data[\"candidate\"].astype(str).str.upper()\n",
    "\n",
    "# unwanted_keywords = [\n",
    "#     r\"\\w*VOTE\\w*\",\n",
    "#     r\"\\w*UNCOM\\w*\",\n",
    "#     r\"\\w*TOTAL\\w*\",\n",
    "#     r\"Blank Votes\", r\"All Others\",r\"Total Votes Cast\",r\"No Preference\",\n",
    "#     r\"UNCOMMITTED\"\n",
    "# ]\n",
    "\n",
    "# pattern = \"|\".join(unwanted_keywords)\n",
    "\n",
    "# # # Assuming candidate column is already string and uppercase\n",
    "# primary_data = primary_data[~primary_data[\"candidate\"].str.upper().str.contains(pattern, regex=True, na=False)]\n",
    "\n",
    "#fIXING DE LA FUENTE\n",
    "# primary_data.loc[\n",
    "#     (\n",
    "#         primary_data[\"candidate\"].str.contains(\"rocky.*fuente\", case=False, na=False) |\n",
    "#         primary_data[\"candidate\"].str.contains(\"LA FUENTE\", case=False, na=False) |\n",
    "#         primary_data[\"candidate\"].str.contains(\"\\w*Fuque\\w*\", case=False, na=False)\n",
    "#     ),\n",
    "#     \"candidate\"\n",
    "# ] = \"LA FUENTE\"\n",
    "\n",
    "\n",
    "# primary_data.loc[:, \"candidate\"] = primary_data[\"candidate\"].replace({\n",
    "#     \"Donald I. Trump\": \"Donald J. Trump\",\n",
    "# })\n",
    "\n",
    "primary_data[\"candidate\"] = primary_data[\"candidate\"].astype(str).str.upper()\n",
    "# # Fixing the , candidate\n",
    "# primary_data[\"candidate\"] = (\n",
    "#     primary_data[\"candidate\"].str.split(\",\")\n",
    "#     .str[0]\n",
    "#     .str.strip()\n",
    "#     )\n",
    "\n",
    "# #Selecting only last name\n",
    "primary_data[\"candidate\"] = primary_data[\"candidate\"].str.split().str[-1]\n",
    "\n",
    "# Fixing Christie\n",
    "primary_data.loc[\n",
    "    primary_data[\"candidate\"].str.contains(\"CHRISTLE\", case=False, na=False),\n",
    "    \"candidate\"\n",
    "] = \"CHRISTIE\"\n",
    "\n",
    "# Fixing KASICH\n",
    "primary_data.loc[\n",
    "    primary_data[\"candidate\"].str.contains(\"KAISCH\", case=False, na=False),\n",
    "    \"candidate\"\n",
    "] = \"CHRISTIE\"\n",
    "\n",
    "# Fixing O'MALLEY\n",
    "primary_data.loc[\n",
    "    primary_data[\"candidate\"].str.contains(\"O'MALLEY\", case=False, na=False),\n",
    "    \"candidate\"\n",
    "] = \"O'MAILEY\"\n",
    "\n",
    "# Fixing O'MALLEY\n",
    "primary_data.loc[\n",
    "    primary_data[\"candidate\"].str.contains(\"PATAKL\", case=False, na=False),\n",
    "    \"candidate\"\n",
    "] = \"PATAKI\"\n",
    "\n",
    "# Fixing O'MALLEY\n",
    "primary_data.loc[\n",
    "    primary_data[\"candidate\"].str.contains(\"RUBLO\", case=False, na=False),\n",
    "    \"candidate\"\n",
    "] = \"RUBIO\"\n",
    "\n",
    "# # Fixing Huckabee\n",
    "# primary_data.loc[\n",
    "#     primary_data[\"candidate\"].str.contains(\"\\w*ABEE\\w*\", case=False, na=False),\n",
    "#     \"candidate\"\n",
    "# ] = \"HUCKABEE\"\n",
    "\n",
    "# # Fixing Fiorina\n",
    "# primary_data.loc[\n",
    "#     primary_data[\"candidate\"].str.contains(\"\\w*ORINA\\W*\", case=False, na=False),\n",
    "#     \"candidate\"\n",
    "# ] = \"FIORINA\"\n",
    "\n",
    "# # Fixing Gray\n",
    "# primary_data.loc[\n",
    "#     primary_data[\"candidate\"].str.contains(\"GREY\", case=False, na=False),\n",
    "#     \"candidate\"\n",
    "# ] = \"GRAY\"\n",
    "\n",
    "# # Fixing Wilson\n",
    "# primary_data.loc[\n",
    "#     primary_data[\"candidate\"].str.contains(\"WISON\", case=False, na=False),\n",
    "#     \"candidate\"\n",
    "# ] = \"WILSON\"\n",
    "\n",
    "\n",
    "# # Fixing separator \n",
    "# primary_data[\"candidate\"] = (\n",
    "#     primary_data[\"candidate\"]\n",
    "#     .str.split(r\"\\s*(?:and|/|&|–|-|\\+)\\s*\", n=1, expand=True)[0]\n",
    "#     .str.strip()\n",
    "#     .str.upper()\n",
    "# )\n",
    "\n",
    "# # Fixing McMullin\n",
    "\n",
    "# primary_data.loc[\n",
    "#     (\n",
    "#         primary_data[\"candidate\"].str.contains(\"MCMULLIN\", case=False, na=False) |\n",
    "#         primary_data[\"candidate\"].str.contains(\"EVAN MCMULLEN\", case=False, na=False)\n",
    "#     ),\n",
    "#     \"candidate\"\n",
    "# ] = \"MCMULLIN\"\n",
    "\n",
    "# primary_data.loc[\n",
    "#     primary_data[\"candidate\"].str.contains(\"De La Fuen\", case=False, na=False),\n",
    "#     \"candidate\"\n",
    "# ] = \"FUENTE D\"\n",
    "\n",
    "## SPLITTINNG BY ,\n",
    "# primary_data.loc[:,\"candidate\"] = (\n",
    "#     primary_data[\"candidate\"].str.split().str[0].str.upper()\n",
    "# )\n",
    "\n",
    "primary_data[\"candidate\"].value_counts(dropna=False)"
   ]
  },
  {
   "cell_type": "code",
   "execution_count": 11,
   "id": "dcc76af7",
   "metadata": {},
   "outputs": [
    {
     "data": {
      "application/vnd.microsoft.datawrangler.viewer.v0+json": {
       "columns": [
        {
         "name": "party",
         "rawType": "object",
         "type": "string"
        },
        {
         "name": "count",
         "rawType": "int64",
         "type": "integer"
        }
       ],
       "ref": "a9996524-5c21-4d7b-8cb0-f283b25ffcec",
       "rows": [
        [
         "DEM",
         "9571"
        ]
       ],
       "shape": {
        "columns": 1,
        "rows": 1
       }
      },
      "text/plain": [
       "party\n",
       "DEM    9571\n",
       "Name: count, dtype: int64"
      ]
     },
     "execution_count": 11,
     "metadata": {},
     "output_type": "execute_result"
    }
   ],
   "source": [
    "# Viewing Party\n",
    "primary_data[\"party\"].value_counts(dropna=False)"
   ]
  },
  {
   "cell_type": "code",
   "execution_count": 12,
   "id": "582aa6c5",
   "metadata": {},
   "outputs": [
    {
     "data": {
      "application/vnd.microsoft.datawrangler.viewer.v0+json": {
       "columns": [
        {
         "name": "party",
         "rawType": "object",
         "type": "string"
        },
        {
         "name": "count",
         "rawType": "int64",
         "type": "integer"
        }
       ],
       "ref": "b66452f5-79d3-494c-8f19-a7177d897ccd",
       "rows": [
        [
         "DEM",
         "9571"
        ]
       ],
       "shape": {
        "columns": 1,
        "rows": 1
       }
      },
      "text/plain": [
       "party\n",
       "DEM    9571\n",
       "Name: count, dtype: int64"
      ]
     },
     "execution_count": 12,
     "metadata": {},
     "output_type": "execute_result"
    }
   ],
   "source": [
    "#=====================================\n",
    "# This function is used to look up party\n",
    "# for the candidate in the same df\n",
    "#=====================================\n",
    "def fill_party_from_data(row, df):\n",
    "    if pd.notna(row[\"party\"]):\n",
    "        return row[\"party\"]\n",
    "    \n",
    "    # Try to find other rows with the same candidate and known party\n",
    "    matches = df[(df[\"candidate\"] == row[\"candidate\"]) & (df[\"party\"].notna())]\n",
    "    if not matches.empty:\n",
    "        return matches[\"party\"].iloc[0]  # Return the first match's party\n",
    "    else:\n",
    "        return None  # Still unknown\n",
    "\n",
    "#=====================================\n",
    "# Example usage (uncomment and modify for your workflow)\n",
    "#=====================================\n",
    "# Fill party using internal data\n",
    "# primary_data[\"party\"] = primary_data.apply(\n",
    "#     lambda row: fill_party_from_data(row, primary_data),\n",
    "#     axis=1\n",
    "# )\n",
    "\n",
    "primary_data[\"party\"].value_counts(dropna=False)\n"
   ]
  },
  {
   "cell_type": "code",
   "execution_count": 13,
   "id": "34361751",
   "metadata": {},
   "outputs": [
    {
     "name": "stderr",
     "output_type": "stream",
     "text": [
      "C:\\Users\\ADMIN\\AppData\\Local\\Temp\\ipykernel_34304\\2220816968.py:3: SettingWithCopyWarning: \n",
      "A value is trying to be set on a copy of a slice from a DataFrame.\n",
      "Try using .loc[row_indexer,col_indexer] = value instead\n",
      "\n",
      "See the caveats in the documentation: https://pandas.pydata.org/pandas-docs/stable/user_guide/indexing.html#returning-a-view-versus-a-copy\n",
      "  primary_data[\"party\"] = primary_data[\"party\"].astype(str).str.upper()\n",
      "C:\\Users\\ADMIN\\AppData\\Local\\Temp\\ipykernel_34304\\2220816968.py:5: SettingWithCopyWarning: \n",
      "A value is trying to be set on a copy of a slice from a DataFrame.\n",
      "Try using .loc[row_indexer,col_indexer] = value instead\n",
      "\n",
      "See the caveats in the documentation: https://pandas.pydata.org/pandas-docs/stable/user_guide/indexing.html#returning-a-view-versus-a-copy\n",
      "  primary_data[\"party\"] = primary_data.apply(\n",
      "C:\\Users\\ADMIN\\AppData\\Local\\Temp\\ipykernel_34304\\2220816968.py:9: SettingWithCopyWarning: \n",
      "A value is trying to be set on a copy of a slice from a DataFrame.\n",
      "Try using .loc[row_indexer,col_indexer] = value instead\n",
      "\n",
      "See the caveats in the documentation: https://pandas.pydata.org/pandas-docs/stable/user_guide/indexing.html#returning-a-view-versus-a-copy\n",
      "  primary_data[\"party\"] = (\n"
     ]
    },
    {
     "data": {
      "application/vnd.microsoft.datawrangler.viewer.v0+json": {
       "columns": [
        {
         "name": "party",
         "rawType": "object",
         "type": "string"
        },
        {
         "name": "count",
         "rawType": "int64",
         "type": "integer"
        }
       ],
       "ref": "3672bc91-ceae-4ecb-a906-f952f4fd7744",
       "rows": [
        [
         "DEM",
         "9571"
        ]
       ],
       "shape": {
        "columns": 1,
        "rows": 1
       }
      },
      "text/plain": [
       "party\n",
       "DEM    9571\n",
       "Name: count, dtype: int64"
      ]
     },
     "execution_count": 13,
     "metadata": {},
     "output_type": "execute_result"
    }
   ],
   "source": [
    "# Cleaning Party\n",
    "# Turning all general data party to uppercase\n",
    "primary_data[\"party\"] = primary_data[\"party\"].astype(str).str.upper()\n",
    "\n",
    "primary_data[\"party\"] = primary_data.apply(\n",
    "    lambda row: fill_party_from_data(row, primary_data),\n",
    "    axis=1\n",
    ")\n",
    "primary_data[\"party\"] = (\n",
    "    primary_data[\"party\"]\n",
    "    .replace({\n",
    "        \"REPUBLICAN\": \"REP\",\n",
    "        \"R\": \"REP\",\n",
    "        \"DEMOCRATIC\": \"DEM\",\n",
    "        \"DEMOCRAT\":\"DEM\",\n",
    "        \"DEM\": \"DEM\",\n",
    "        \"D\": \"DEM\",\n",
    "        \"GREEN\": \"GRN\",\n",
    "        \"G\": \"GREEN\",\n",
    "        \"GREEN-RAINBOW\":\"GRN\",\n",
    "        \"LIBERTARIAN\": \"LIB\",\n",
    "        \"LBT\": \"LIB\",\n",
    "        \"L\": \"LIB\",\n",
    "        \"CONSTITUTION\": \"CON\",\n",
    "        \"NP\": \"IND\",\n",
    "        \"NON\": \"IND\",\n",
    "        \"WRI\": \"IND\",\n",
    "        \"WRITE-IN\": \"IND\",\n",
    "        \"ONA\": \"IND\",\n",
    "        \"GEN\": \"IND\",\n",
    "        \"NONE\":\"UNK\"\n",
    "    })\n",
    ")\n",
    "primary_data[\"party\"].value_counts(dropna=False)"
   ]
  },
  {
   "cell_type": "code",
   "execution_count": 14,
   "id": "a359cd18",
   "metadata": {},
   "outputs": [
    {
     "name": "stderr",
     "output_type": "stream",
     "text": [
      "C:\\Users\\ADMIN\\AppData\\Local\\Temp\\ipykernel_34304\\2521670330.py:1: SettingWithCopyWarning: \n",
      "A value is trying to be set on a copy of a slice from a DataFrame.\n",
      "Try using .loc[row_indexer,col_indexer] = value instead\n",
      "\n",
      "See the caveats in the documentation: https://pandas.pydata.org/pandas-docs/stable/user_guide/indexing.html#returning-a-view-versus-a-copy\n",
      "  primary_data.loc[:,\"candidate_column\"] = (\n"
     ]
    },
    {
     "data": {
      "application/vnd.microsoft.datawrangler.viewer.v0+json": {
       "columns": [
        {
         "name": "index",
         "rawType": "int64",
         "type": "integer"
        },
        {
         "name": "precinct",
         "rawType": "object",
         "type": "string"
        },
        {
         "name": "pri_dem_CLINTON",
         "rawType": "int64",
         "type": "integer"
        },
        {
         "name": "pri_dem_O'MAILEY",
         "rawType": "int64",
         "type": "integer"
        },
        {
         "name": "pri_dem_SANDERS",
         "rawType": "int64",
         "type": "integer"
        },
        {
         "name": "pri_dem_WILSON",
         "rawType": "int64",
         "type": "integer"
        }
       ],
       "ref": "0d6c00cc-dd2f-4579-ad6f-8f2d420eb5bf",
       "rows": [
        [
         "0",
         "ABBEVILLEABBEVILLE NO. 1",
         "104",
         "1",
         "28",
         "1"
        ],
        [
         "1",
         "ABBEVILLEABBEVILLE NO. 2",
         "193",
         "0",
         "24",
         "1"
        ],
        [
         "2",
         "ABBEVILLEABBEVILLE NO. 3",
         "105",
         "1",
         "25",
         "0"
        ],
        [
         "3",
         "ABBEVILLEABBEVILLE NO. 4",
         "53",
         "0",
         "5",
         "0"
        ],
        [
         "4",
         "ABBEVILLEABSENTEE",
         "354",
         "0",
         "52",
         "4"
        ],
        [
         "5",
         "ABBEVILLEANTREVILLE",
         "47",
         "0",
         "10",
         "0"
        ],
        [
         "6",
         "ABBEVILLEBROADMOUTH",
         "27",
         "0",
         "8",
         "2"
        ],
        [
         "7",
         "ABBEVILLECALHOUN FALLS",
         "260",
         "2",
         "38",
         "3"
        ],
        [
         "8",
         "ABBEVILLECOLD SPRINGS",
         "34",
         "0",
         "9",
         "0"
        ],
        [
         "9",
         "ABBEVILLEDONALDS",
         "23",
         "0",
         "10",
         "0"
        ],
        [
         "10",
         "ABBEVILLEDUE WEST",
         "124",
         "1",
         "41",
         "3"
        ],
        [
         "11",
         "ABBEVILLEEMERGENCY",
         "0",
         "0",
         "0",
         "0"
        ],
        [
         "12",
         "ABBEVILLEFAILSAFE",
         "0",
         "0",
         "0",
         "0"
        ],
        [
         "13",
         "ABBEVILLEFAILSAFE PROVISIONAL",
         "7",
         "0",
         "0",
         "0"
        ],
        [
         "14",
         "ABBEVILLEHALL'S STORE",
         "46",
         "0",
         "15",
         "1"
        ],
        [
         "15",
         "ABBEVILLEKEOWEE",
         "46",
         "1",
         "20",
         "0"
        ],
        [
         "16",
         "ABBEVILLELEBANON",
         "48",
         "0",
         "7",
         "0"
        ],
        [
         "17",
         "ABBEVILLELOWNDESVILLE",
         "37",
         "0",
         "20",
         "0"
        ],
        [
         "18",
         "ABBEVILLEPROVISIONAL",
         "0",
         "0",
         "0",
         "0"
        ],
        [
         "19",
         "AIKENABSENTEE",
         "997",
         "3",
         "292",
         "4"
        ],
        [
         "20",
         "AIKENAIKEN NO. 1",
         "52",
         "0",
         "41",
         "0"
        ],
        [
         "21",
         "AIKENAIKEN NO. 2",
         "142",
         "0",
         "37",
         "1"
        ],
        [
         "22",
         "AIKENAIKEN NO. 3",
         "180",
         "0",
         "52",
         "5"
        ],
        [
         "23",
         "AIKENAIKEN NO. 4",
         "102",
         "0",
         "37",
         "2"
        ],
        [
         "24",
         "AIKENAIKEN NO. 47",
         "54",
         "1",
         "41",
         "0"
        ],
        [
         "25",
         "AIKENAIKEN NO. 5",
         "121",
         "1",
         "49",
         "1"
        ],
        [
         "26",
         "AIKENAIKEN NO. 6",
         "53",
         "0",
         "49",
         "0"
        ],
        [
         "27",
         "AIKENANDERSON POND NO. 69",
         "75",
         "0",
         "24",
         "0"
        ],
        [
         "28",
         "AIKENASCAUGA LAKE NO. 63",
         "61",
         "0",
         "23",
         "0"
        ],
        [
         "29",
         "AIKENASCAUGA LAKE NO. 84",
         "50",
         "0",
         "19",
         "0"
        ],
        [
         "30",
         "AIKENBATH",
         "83",
         "0",
         "3",
         "0"
        ],
        [
         "31",
         "AIKENBEECH ISLAND",
         "118",
         "0",
         "31",
         "0"
        ],
        [
         "32",
         "AIKENBELVEDERE NO. 44",
         "56",
         "0",
         "29",
         "0"
        ],
        [
         "33",
         "AIKENBELVEDERE NO. 62",
         "90",
         "0",
         "33",
         "0"
        ],
        [
         "34",
         "AIKENBELVEDERE NO. 74",
         "34",
         "0",
         "14",
         "0"
        ],
        [
         "35",
         "AIKENBELVEDERE NO. 9",
         "73",
         "0",
         "38",
         "0"
        ],
        [
         "36",
         "AIKENBREEZY HILL",
         "88",
         "1",
         "39",
         "1"
        ],
        [
         "37",
         "AIKENCAROLINA HEIGHTS",
         "131",
         "0",
         "22",
         "0"
        ],
        [
         "38",
         "AIKENCEDAR CREEK NO. 64",
         "68",
         "0",
         "20",
         "0"
        ],
        [
         "39",
         "AIKENCHINA SPRINGS",
         "184",
         "0",
         "35",
         "0"
        ],
        [
         "40",
         "AIKENCLEARWATER",
         "59",
         "0",
         "12",
         "0"
        ],
        [
         "41",
         "AIKENCOLLEGE ACRES",
         "54",
         "0",
         "61",
         "0"
        ],
        [
         "42",
         "AIKENCOUCHTON",
         "88",
         "0",
         "29",
         "1"
        ],
        [
         "43",
         "AIKENEMERGENCY",
         "0",
         "0",
         "0",
         "0"
        ],
        [
         "44",
         "AIKENEUREKA",
         "47",
         "0",
         "26",
         "0"
        ],
        [
         "45",
         "AIKENFAILSAFE",
         "10",
         "0",
         "8",
         "0"
        ],
        [
         "46",
         "AIKENFAILSAFE PROVISIONAL",
         "0",
         "0",
         "0",
         "0"
        ],
        [
         "47",
         "AIKENFOX CREEK NO. 58",
         "48",
         "0",
         "26",
         "0"
        ],
        [
         "48",
         "AIKENFOX CREEK NO. 73",
         "48",
         "0",
         "16",
         "0"
        ],
        [
         "49",
         "AIKENGEM LAKES NO. 60",
         "34",
         "0",
         "45",
         "0"
        ]
       ],
       "shape": {
        "columns": 5,
        "rows": 2455
       }
      },
      "text/html": [
       "<div>\n",
       "<style scoped>\n",
       "    .dataframe tbody tr th:only-of-type {\n",
       "        vertical-align: middle;\n",
       "    }\n",
       "\n",
       "    .dataframe tbody tr th {\n",
       "        vertical-align: top;\n",
       "    }\n",
       "\n",
       "    .dataframe thead th {\n",
       "        text-align: right;\n",
       "    }\n",
       "</style>\n",
       "<table border=\"1\" class=\"dataframe\">\n",
       "  <thead>\n",
       "    <tr style=\"text-align: right;\">\n",
       "      <th>candidate_column</th>\n",
       "      <th>precinct</th>\n",
       "      <th>pri_dem_CLINTON</th>\n",
       "      <th>pri_dem_O'MAILEY</th>\n",
       "      <th>pri_dem_SANDERS</th>\n",
       "      <th>pri_dem_WILSON</th>\n",
       "    </tr>\n",
       "  </thead>\n",
       "  <tbody>\n",
       "    <tr>\n",
       "      <th>0</th>\n",
       "      <td>ABBEVILLEABBEVILLE NO. 1</td>\n",
       "      <td>104</td>\n",
       "      <td>1</td>\n",
       "      <td>28</td>\n",
       "      <td>1</td>\n",
       "    </tr>\n",
       "    <tr>\n",
       "      <th>1</th>\n",
       "      <td>ABBEVILLEABBEVILLE NO. 2</td>\n",
       "      <td>193</td>\n",
       "      <td>0</td>\n",
       "      <td>24</td>\n",
       "      <td>1</td>\n",
       "    </tr>\n",
       "    <tr>\n",
       "      <th>2</th>\n",
       "      <td>ABBEVILLEABBEVILLE NO. 3</td>\n",
       "      <td>105</td>\n",
       "      <td>1</td>\n",
       "      <td>25</td>\n",
       "      <td>0</td>\n",
       "    </tr>\n",
       "    <tr>\n",
       "      <th>3</th>\n",
       "      <td>ABBEVILLEABBEVILLE NO. 4</td>\n",
       "      <td>53</td>\n",
       "      <td>0</td>\n",
       "      <td>5</td>\n",
       "      <td>0</td>\n",
       "    </tr>\n",
       "    <tr>\n",
       "      <th>4</th>\n",
       "      <td>ABBEVILLEABSENTEE</td>\n",
       "      <td>354</td>\n",
       "      <td>0</td>\n",
       "      <td>52</td>\n",
       "      <td>4</td>\n",
       "    </tr>\n",
       "    <tr>\n",
       "      <th>...</th>\n",
       "      <td>...</td>\n",
       "      <td>...</td>\n",
       "      <td>...</td>\n",
       "      <td>...</td>\n",
       "      <td>...</td>\n",
       "    </tr>\n",
       "    <tr>\n",
       "      <th>2450</th>\n",
       "      <td>YORKWATERSTONE</td>\n",
       "      <td>61</td>\n",
       "      <td>0</td>\n",
       "      <td>54</td>\n",
       "      <td>0</td>\n",
       "    </tr>\n",
       "    <tr>\n",
       "      <th>2451</th>\n",
       "      <td>YORKWINDJAMMER</td>\n",
       "      <td>79</td>\n",
       "      <td>1</td>\n",
       "      <td>87</td>\n",
       "      <td>0</td>\n",
       "    </tr>\n",
       "    <tr>\n",
       "      <th>2452</th>\n",
       "      <td>YORKWYLIE</td>\n",
       "      <td>37</td>\n",
       "      <td>0</td>\n",
       "      <td>29</td>\n",
       "      <td>0</td>\n",
       "    </tr>\n",
       "    <tr>\n",
       "      <th>2453</th>\n",
       "      <td>YORKYORK NO. 1</td>\n",
       "      <td>139</td>\n",
       "      <td>0</td>\n",
       "      <td>41</td>\n",
       "      <td>1</td>\n",
       "    </tr>\n",
       "    <tr>\n",
       "      <th>2454</th>\n",
       "      <td>YORKYORK NO. 2</td>\n",
       "      <td>146</td>\n",
       "      <td>1</td>\n",
       "      <td>78</td>\n",
       "      <td>0</td>\n",
       "    </tr>\n",
       "  </tbody>\n",
       "</table>\n",
       "<p>2455 rows × 5 columns</p>\n",
       "</div>"
      ],
      "text/plain": [
       "candidate_column                  precinct  pri_dem_CLINTON  pri_dem_O'MAILEY  \\\n",
       "0                 ABBEVILLEABBEVILLE NO. 1              104                 1   \n",
       "1                 ABBEVILLEABBEVILLE NO. 2              193                 0   \n",
       "2                 ABBEVILLEABBEVILLE NO. 3              105                 1   \n",
       "3                 ABBEVILLEABBEVILLE NO. 4               53                 0   \n",
       "4                        ABBEVILLEABSENTEE              354                 0   \n",
       "...                                    ...              ...               ...   \n",
       "2450                        YORKWATERSTONE               61                 0   \n",
       "2451                        YORKWINDJAMMER               79                 1   \n",
       "2452                             YORKWYLIE               37                 0   \n",
       "2453                        YORKYORK NO. 1              139                 0   \n",
       "2454                        YORKYORK NO. 2              146                 1   \n",
       "\n",
       "candidate_column  pri_dem_SANDERS  pri_dem_WILSON  \n",
       "0                              28               1  \n",
       "1                              24               1  \n",
       "2                              25               0  \n",
       "3                               5               0  \n",
       "4                              52               4  \n",
       "...                           ...             ...  \n",
       "2450                           54               0  \n",
       "2451                           87               0  \n",
       "2452                           29               0  \n",
       "2453                           41               1  \n",
       "2454                           78               0  \n",
       "\n",
       "[2455 rows x 5 columns]"
      ]
     },
     "execution_count": 14,
     "metadata": {},
     "output_type": "execute_result"
    }
   ],
   "source": [
    "primary_data.loc[:,\"candidate_column\"] = (\n",
    "    \"pri_\" +\n",
    "    primary_data[\"party\"].str.lower() + \"_\" +\n",
    "    primary_data[\"candidate\"]\n",
    ")\n",
    "\n",
    "# pivot the table\n",
    "primary_result = primary_data.pivot_table(\n",
    "    index=\"precinct\",\n",
    "    columns=\"candidate_column\",\n",
    "    values=\"votes\",\n",
    "    aggfunc=\"sum\",  \n",
    "    fill_value=0\n",
    ").reset_index()\n",
    "\n",
    "primary_result"
   ]
  },
  {
   "cell_type": "code",
   "execution_count": 15,
   "id": "f1ef9692",
   "metadata": {},
   "outputs": [
    {
     "data": {
      "text/plain": [
       "['C:\\\\Huy Phan\\\\College\\\\VoterTurnout\\\\data\\\\SC\\\\20161108__sc__general__precinct.csv']"
      ]
     },
     "execution_count": 15,
     "metadata": {},
     "output_type": "execute_result"
    }
   ],
   "source": [
    "# Process general files\n",
    "general_df_list = []\n",
    "\n",
    "for file in general_files:\n",
    "    try:\n",
    "        df = pd.read_csv(file)\n",
    "        \n",
    "        # Combine precinct as county + precinct\n",
    "        df[\"precinct\"] = df[\"county\"].astype(str) + df[\"precinct\"].astype(str)\n",
    "        df[\"precinct\"] = df[\"precinct\"].str.upper()\n",
    "\n",
    "        # Cleaning maybe total precinct\n",
    "        if 'precinct' in df.columns:\n",
    "            df['precinct'] = df['precinct'].astype(str)                  \n",
    "            df = df[df['precinct'].str.upper() != \"TOTAL\"]               \n",
    "            df = df[df['precinct'].str.strip().str.upper() != \"TOTAL\"]   \n",
    "            df = df[df['precinct'].str.upper() != \"NAN\"]                \n",
    "        \n",
    "        if 'county' in df.columns:\n",
    "            df['county'] = df['county'].astype(str)                  \n",
    "            df = df[df['county'].str.upper() != \"TOTAL\"]               \n",
    "            df = df[df['county'].str.strip().str.upper() != \"TOTAL\"]   \n",
    "            df = df[df['county'].str.upper() != \"NAN\"]       \n",
    "            df = df[~df['county'].str.upper().str.contains(r\"\\w*TOTAL\\w*\", na=False)]      \n",
    "            \n",
    "        # Filtering out only President \n",
    "        if 'office' in df.columns:\n",
    "            df = df[df[\"office\"].str.upper() == \"PRESIDENT\"]\n",
    "        \n",
    "        # Dropping duplicates value\n",
    "        df = df.drop_duplicates()\n",
    "        \n",
    "        general_df_list.append(df)\n",
    "\n",
    "    except Exception as e:\n",
    "        print(f\"Error in {file}: {e}\")\n",
    "\n",
    "# Combine all cleaned files\n",
    "gen_combined_df = pd.concat(general_df_list, ignore_index=True)\n",
    "\n",
    "# Checking any suspicious precinct\n",
    "suspicious_precincts = gen_combined_df[\n",
    "    gen_combined_df[\"precinct\"].str.strip().str.upper().isin([\"TOTAL\", \"NAN\"])\n",
    "]\n",
    "general_files\n"
   ]
  },
  {
   "cell_type": "code",
   "execution_count": 16,
   "id": "1bbbd54d",
   "metadata": {},
   "outputs": [
    {
     "data": {
      "application/vnd.microsoft.datawrangler.viewer.v0+json": {
       "columns": [
        {
         "name": "index",
         "rawType": "int64",
         "type": "integer"
        },
        {
         "name": "precinct",
         "rawType": "object",
         "type": "string"
        },
        {
         "name": "party",
         "rawType": "object",
         "type": "string"
        },
        {
         "name": "candidate",
         "rawType": "object",
         "type": "string"
        },
        {
         "name": "votes",
         "rawType": "int64",
         "type": "integer"
        }
       ],
       "ref": "0760bde6-e630-4b45-8c0e-24ad8aa5289a",
       "rows": [
        [
         "0",
         "ABBEVILLEABBEVILLE NO. 1",
         "DEM",
         "Hillary Rodham Clinton / Timothy Michael Kaine",
         "245"
        ],
        [
         "1",
         "ABBEVILLEABBEVILLE NO. 2",
         "DEM",
         "Hillary Rodham Clinton / Timothy Michael Kaine",
         "373"
        ],
        [
         "2",
         "ABBEVILLEABBEVILLE NO. 3",
         "DEM",
         "Hillary Rodham Clinton / Timothy Michael Kaine",
         "214"
        ],
        [
         "3",
         "ABBEVILLEABBEVILLE NO. 4",
         "DEM",
         "Hillary Rodham Clinton / Timothy Michael Kaine",
         "131"
        ],
        [
         "4",
         "ABBEVILLEANTREVILLE",
         "DEM",
         "Hillary Rodham Clinton / Timothy Michael Kaine",
         "105"
        ],
        [
         "5",
         "ABBEVILLEBROADMOUTH",
         "DEM",
         "Hillary Rodham Clinton / Timothy Michael Kaine",
         "62"
        ],
        [
         "6",
         "ABBEVILLECALHOUN FALLS",
         "DEM",
         "Hillary Rodham Clinton / Timothy Michael Kaine",
         "514"
        ],
        [
         "7",
         "ABBEVILLECOLD SPRINGS",
         "DEM",
         "Hillary Rodham Clinton / Timothy Michael Kaine",
         "88"
        ],
        [
         "8",
         "ABBEVILLEDONALDS",
         "DEM",
         "Hillary Rodham Clinton / Timothy Michael Kaine",
         "44"
        ],
        [
         "9",
         "ABBEVILLEDUE WEST",
         "DEM",
         "Hillary Rodham Clinton / Timothy Michael Kaine",
         "233"
        ],
        [
         "10",
         "ABBEVILLEHALL'S STORE",
         "DEM",
         "Hillary Rodham Clinton / Timothy Michael Kaine",
         "136"
        ],
        [
         "11",
         "ABBEVILLEKEOWEE",
         "DEM",
         "Hillary Rodham Clinton / Timothy Michael Kaine",
         "109"
        ],
        [
         "12",
         "ABBEVILLELOWNDESVILLE",
         "DEM",
         "Hillary Rodham Clinton / Timothy Michael Kaine",
         "81"
        ],
        [
         "13",
         "ABBEVILLELEBANON",
         "DEM",
         "Hillary Rodham Clinton / Timothy Michael Kaine",
         "107"
        ],
        [
         "14",
         "ABBEVILLEABSENTEE",
         "DEM",
         "Hillary Rodham Clinton / Timothy Michael Kaine",
         "1270"
        ],
        [
         "15",
         "ABBEVILLEPROVISIONAL",
         "DEM",
         "Hillary Rodham Clinton / Timothy Michael Kaine",
         "15"
        ],
        [
         "16",
         "ABBEVILLEFAILSAFE PROVISIONAL",
         "DEM",
         "Hillary Rodham Clinton / Timothy Michael Kaine",
         "14"
        ],
        [
         "17",
         "ABBEVILLEABBEVILLE NO. 1",
         "CON",
         "Darrell Castle / Scott Bradley",
         "2"
        ],
        [
         "18",
         "ABBEVILLEABBEVILLE NO. 2",
         "CON",
         "Darrell Castle / Scott Bradley",
         "1"
        ],
        [
         "19",
         "ABBEVILLEABBEVILLE NO. 3",
         "CON",
         "Darrell Castle / Scott Bradley",
         "3"
        ],
        [
         "20",
         "ABBEVILLEABBEVILLE NO. 4",
         "CON",
         "Darrell Castle / Scott Bradley",
         "2"
        ],
        [
         "21",
         "ABBEVILLEANTREVILLE",
         "CON",
         "Darrell Castle / Scott Bradley",
         "1"
        ],
        [
         "22",
         "ABBEVILLECALHOUN FALLS",
         "CON",
         "Darrell Castle / Scott Bradley",
         "3"
        ],
        [
         "23",
         "ABBEVILLECOLD SPRINGS",
         "CON",
         "Darrell Castle / Scott Bradley",
         "1"
        ],
        [
         "24",
         "ABBEVILLEDONALDS",
         "CON",
         "Darrell Castle / Scott Bradley",
         "2"
        ],
        [
         "25",
         "ABBEVILLEDUE WEST",
         "CON",
         "Darrell Castle / Scott Bradley",
         "7"
        ],
        [
         "26",
         "ABBEVILLEKEOWEE",
         "CON",
         "Darrell Castle / Scott Bradley",
         "1"
        ],
        [
         "27",
         "ABBEVILLELOWNDESVILLE",
         "CON",
         "Darrell Castle / Scott Bradley",
         "2"
        ],
        [
         "28",
         "ABBEVILLELEBANON",
         "CON",
         "Darrell Castle / Scott Bradley",
         "1"
        ],
        [
         "29",
         "ABBEVILLEABSENTEE",
         "CON",
         "Darrell Castle / Scott Bradley",
         "12"
        ],
        [
         "30",
         "ABBEVILLEABBEVILLE NO. 1",
         "IND",
         "Evan McMullin / Nathan Johnson",
         "4"
        ],
        [
         "31",
         "ABBEVILLEABBEVILLE NO. 2",
         "IND",
         "Evan McMullin / Nathan Johnson",
         "2"
        ],
        [
         "32",
         "ABBEVILLEABBEVILLE NO. 3",
         "IND",
         "Evan McMullin / Nathan Johnson",
         "3"
        ],
        [
         "33",
         "ABBEVILLEABBEVILLE NO. 4",
         "IND",
         "Evan McMullin / Nathan Johnson",
         "2"
        ],
        [
         "34",
         "ABBEVILLEANTREVILLE",
         "IND",
         "Evan McMullin / Nathan Johnson",
         "3"
        ],
        [
         "35",
         "ABBEVILLEBROADMOUTH",
         "IND",
         "Evan McMullin / Nathan Johnson",
         "3"
        ],
        [
         "36",
         "ABBEVILLECALHOUN FALLS",
         "IND",
         "Evan McMullin / Nathan Johnson",
         "3"
        ],
        [
         "37",
         "ABBEVILLECOLD SPRINGS",
         "IND",
         "Evan McMullin / Nathan Johnson",
         "1"
        ],
        [
         "38",
         "ABBEVILLEDONALDS",
         "IND",
         "Evan McMullin / Nathan Johnson",
         "3"
        ],
        [
         "39",
         "ABBEVILLEDUE WEST",
         "IND",
         "Evan McMullin / Nathan Johnson",
         "11"
        ],
        [
         "40",
         "ABBEVILLEHALL'S STORE",
         "IND",
         "Evan McMullin / Nathan Johnson",
         "4"
        ],
        [
         "41",
         "ABBEVILLEKEOWEE",
         "IND",
         "Evan McMullin / Nathan Johnson",
         "6"
        ],
        [
         "42",
         "ABBEVILLELOWNDESVILLE",
         "IND",
         "Evan McMullin / Nathan Johnson",
         "1"
        ],
        [
         "43",
         "ABBEVILLELEBANON",
         "IND",
         "Evan McMullin / Nathan Johnson",
         "2"
        ],
        [
         "44",
         "ABBEVILLEABSENTEE",
         "IND",
         "Evan McMullin / Nathan Johnson",
         "8"
        ],
        [
         "45",
         "ABBEVILLEABBEVILLE NO. 1",
         "GRN",
         "Jill Stein / Ajamu Baraka",
         "1"
        ],
        [
         "46",
         "ABBEVILLEABBEVILLE NO. 3",
         "GRN",
         "Jill Stein / Ajamu Baraka",
         "2"
        ],
        [
         "47",
         "ABBEVILLEABBEVILLE NO. 4",
         "GRN",
         "Jill Stein / Ajamu Baraka",
         "1"
        ],
        [
         "48",
         "ABBEVILLEANTREVILLE",
         "GRN",
         "Jill Stein / Ajamu Baraka",
         "1"
        ],
        [
         "49",
         "ABBEVILLEBROADMOUTH",
         "GRN",
         "Jill Stein / Ajamu Baraka",
         "1"
        ]
       ],
       "shape": {
        "columns": 4,
        "rows": 14687
       }
      },
      "text/html": [
       "<div>\n",
       "<style scoped>\n",
       "    .dataframe tbody tr th:only-of-type {\n",
       "        vertical-align: middle;\n",
       "    }\n",
       "\n",
       "    .dataframe tbody tr th {\n",
       "        vertical-align: top;\n",
       "    }\n",
       "\n",
       "    .dataframe thead th {\n",
       "        text-align: right;\n",
       "    }\n",
       "</style>\n",
       "<table border=\"1\" class=\"dataframe\">\n",
       "  <thead>\n",
       "    <tr style=\"text-align: right;\">\n",
       "      <th></th>\n",
       "      <th>precinct</th>\n",
       "      <th>party</th>\n",
       "      <th>candidate</th>\n",
       "      <th>votes</th>\n",
       "    </tr>\n",
       "  </thead>\n",
       "  <tbody>\n",
       "    <tr>\n",
       "      <th>0</th>\n",
       "      <td>ABBEVILLEABBEVILLE NO. 1</td>\n",
       "      <td>DEM</td>\n",
       "      <td>Hillary Rodham Clinton / Timothy Michael Kaine</td>\n",
       "      <td>245</td>\n",
       "    </tr>\n",
       "    <tr>\n",
       "      <th>1</th>\n",
       "      <td>ABBEVILLEABBEVILLE NO. 2</td>\n",
       "      <td>DEM</td>\n",
       "      <td>Hillary Rodham Clinton / Timothy Michael Kaine</td>\n",
       "      <td>373</td>\n",
       "    </tr>\n",
       "    <tr>\n",
       "      <th>2</th>\n",
       "      <td>ABBEVILLEABBEVILLE NO. 3</td>\n",
       "      <td>DEM</td>\n",
       "      <td>Hillary Rodham Clinton / Timothy Michael Kaine</td>\n",
       "      <td>214</td>\n",
       "    </tr>\n",
       "    <tr>\n",
       "      <th>3</th>\n",
       "      <td>ABBEVILLEABBEVILLE NO. 4</td>\n",
       "      <td>DEM</td>\n",
       "      <td>Hillary Rodham Clinton / Timothy Michael Kaine</td>\n",
       "      <td>131</td>\n",
       "    </tr>\n",
       "    <tr>\n",
       "      <th>4</th>\n",
       "      <td>ABBEVILLEANTREVILLE</td>\n",
       "      <td>DEM</td>\n",
       "      <td>Hillary Rodham Clinton / Timothy Michael Kaine</td>\n",
       "      <td>105</td>\n",
       "    </tr>\n",
       "    <tr>\n",
       "      <th>...</th>\n",
       "      <td>...</td>\n",
       "      <td>...</td>\n",
       "      <td>...</td>\n",
       "      <td>...</td>\n",
       "    </tr>\n",
       "    <tr>\n",
       "      <th>14682</th>\n",
       "      <td>YORKFAILSAFE 2</td>\n",
       "      <td>LIB</td>\n",
       "      <td>Gary Johnson / Bill Weld</td>\n",
       "      <td>1</td>\n",
       "    </tr>\n",
       "    <tr>\n",
       "      <th>14683</th>\n",
       "      <td>YORKPROVISIONAL 1</td>\n",
       "      <td>LIB</td>\n",
       "      <td>Gary Johnson / Bill Weld</td>\n",
       "      <td>3</td>\n",
       "    </tr>\n",
       "    <tr>\n",
       "      <th>14684</th>\n",
       "      <td>YORKPROVISIONAL 2</td>\n",
       "      <td>LIB</td>\n",
       "      <td>Gary Johnson / Bill Weld</td>\n",
       "      <td>4</td>\n",
       "    </tr>\n",
       "    <tr>\n",
       "      <th>14685</th>\n",
       "      <td>YORKPROVISIONAL 3</td>\n",
       "      <td>LIB</td>\n",
       "      <td>Gary Johnson / Bill Weld</td>\n",
       "      <td>1</td>\n",
       "    </tr>\n",
       "    <tr>\n",
       "      <th>14686</th>\n",
       "      <td>YORKFAILSAFE PROV 1</td>\n",
       "      <td>LIB</td>\n",
       "      <td>Gary Johnson / Bill Weld</td>\n",
       "      <td>24</td>\n",
       "    </tr>\n",
       "  </tbody>\n",
       "</table>\n",
       "<p>14687 rows × 4 columns</p>\n",
       "</div>"
      ],
      "text/plain": [
       "                       precinct party  \\\n",
       "0      ABBEVILLEABBEVILLE NO. 1   DEM   \n",
       "1      ABBEVILLEABBEVILLE NO. 2   DEM   \n",
       "2      ABBEVILLEABBEVILLE NO. 3   DEM   \n",
       "3      ABBEVILLEABBEVILLE NO. 4   DEM   \n",
       "4           ABBEVILLEANTREVILLE   DEM   \n",
       "...                         ...   ...   \n",
       "14682            YORKFAILSAFE 2   LIB   \n",
       "14683         YORKPROVISIONAL 1   LIB   \n",
       "14684         YORKPROVISIONAL 2   LIB   \n",
       "14685         YORKPROVISIONAL 3   LIB   \n",
       "14686       YORKFAILSAFE PROV 1   LIB   \n",
       "\n",
       "                                            candidate  votes  \n",
       "0      Hillary Rodham Clinton / Timothy Michael Kaine    245  \n",
       "1      Hillary Rodham Clinton / Timothy Michael Kaine    373  \n",
       "2      Hillary Rodham Clinton / Timothy Michael Kaine    214  \n",
       "3      Hillary Rodham Clinton / Timothy Michael Kaine    131  \n",
       "4      Hillary Rodham Clinton / Timothy Michael Kaine    105  \n",
       "...                                               ...    ...  \n",
       "14682                        Gary Johnson / Bill Weld      1  \n",
       "14683                        Gary Johnson / Bill Weld      3  \n",
       "14684                        Gary Johnson / Bill Weld      4  \n",
       "14685                        Gary Johnson / Bill Weld      1  \n",
       "14686                        Gary Johnson / Bill Weld     24  \n",
       "\n",
       "[14687 rows x 4 columns]"
      ]
     },
     "execution_count": 16,
     "metadata": {},
     "output_type": "execute_result"
    }
   ],
   "source": [
    "# Select only the relevant columns\n",
    "general_data = gen_combined_df[[\"precinct\", \"party\", \"candidate\", \"votes\"]]\n",
    "\n",
    "general_data"
   ]
  },
  {
   "cell_type": "code",
   "execution_count": 17,
   "id": "38fba0f1",
   "metadata": {},
   "outputs": [
    {
     "data": {
      "application/vnd.microsoft.datawrangler.viewer.v0+json": {
       "columns": [
        {
         "name": "candidate",
         "rawType": "object",
         "type": "string"
        },
        {
         "name": "count",
         "rawType": "int64",
         "type": "integer"
        }
       ],
       "ref": "d2833064-5f23-4426-a46b-f205017810de",
       "rows": [
        [
         "Donald J Trump / Michael R Pence",
         "2456"
        ],
        [
         "Hillary Rodham Clinton / Timothy Michael Kaine",
         "2455"
        ],
        [
         "Gary Johnson / Bill Weld",
         "2310"
        ],
        [
         "Evan McMullin / Nathan Johnson",
         "2161"
        ],
        [
         "Jill Stein / Ajamu Baraka",
         "2108"
        ],
        [
         "Darrell Castle / Scott Bradley",
         "1736"
        ],
        [
         "Peter Skewes / Michael Lacy",
         "1461"
        ]
       ],
       "shape": {
        "columns": 1,
        "rows": 7
       }
      },
      "text/plain": [
       "candidate\n",
       "Donald J Trump / Michael R Pence                  2456\n",
       "Hillary Rodham Clinton / Timothy Michael Kaine    2455\n",
       "Gary Johnson / Bill Weld                          2310\n",
       "Evan McMullin / Nathan Johnson                    2161\n",
       "Jill Stein / Ajamu Baraka                         2108\n",
       "Darrell Castle / Scott Bradley                    1736\n",
       "Peter Skewes / Michael Lacy                       1461\n",
       "Name: count, dtype: int64"
      ]
     },
     "execution_count": 17,
     "metadata": {},
     "output_type": "execute_result"
    }
   ],
   "source": [
    "# Viewing candidate data\n",
    "general_data[\"candidate\"].value_counts(dropna=False)"
   ]
  },
  {
   "cell_type": "code",
   "execution_count": 18,
   "id": "90417a20",
   "metadata": {},
   "outputs": [
    {
     "name": "stderr",
     "output_type": "stream",
     "text": [
      "C:\\Users\\ADMIN\\AppData\\Local\\Temp\\ipykernel_34304\\3810900807.py:4: SettingWithCopyWarning: \n",
      "A value is trying to be set on a copy of a slice from a DataFrame.\n",
      "Try using .loc[row_indexer,col_indexer] = value instead\n",
      "\n",
      "See the caveats in the documentation: https://pandas.pydata.org/pandas-docs/stable/user_guide/indexing.html#returning-a-view-versus-a-copy\n",
      "  general_data[\"candidate\"] = general_data[\"candidate\"].astype(str).str.upper()\n"
     ]
    },
    {
     "data": {
      "application/vnd.microsoft.datawrangler.viewer.v0+json": {
       "columns": [
        {
         "name": "candidate",
         "rawType": "object",
         "type": "string"
        },
        {
         "name": "count",
         "rawType": "int64",
         "type": "integer"
        }
       ],
       "ref": "5f78b06c-a1fe-4faa-8edc-8a1ace6541d5",
       "rows": [
        [
         "TRUMP",
         "2456"
        ],
        [
         "CLINTON",
         "2455"
        ],
        [
         "JOHNSON",
         "2310"
        ],
        [
         "MCMULLIN",
         "2161"
        ],
        [
         "STEIN",
         "2108"
        ],
        [
         "CASTLE",
         "1736"
        ],
        [
         "SKEWES",
         "1461"
        ]
       ],
       "shape": {
        "columns": 1,
        "rows": 7
       }
      },
      "text/plain": [
       "candidate\n",
       "TRUMP       2456\n",
       "CLINTON     2455\n",
       "JOHNSON     2310\n",
       "MCMULLIN    2161\n",
       "STEIN       2108\n",
       "CASTLE      1736\n",
       "SKEWES      1461\n",
       "Name: count, dtype: int64"
      ]
     },
     "execution_count": 18,
     "metadata": {},
     "output_type": "execute_result"
    }
   ],
   "source": [
    "# Cleaning Candidates\n",
    "\n",
    "# Turning all general data to uppercase\n",
    "general_data[\"candidate\"] = general_data[\"candidate\"].astype(str).str.upper()\n",
    "\n",
    "\n",
    "unwanted_keywords = [\n",
    "    r\"\\w*VOTE\\w*\",\n",
    "    r\"\\w*UNCOM\\w*\",\n",
    "    r\"\\w*TOTAL\\w*\",\n",
    "    r\"\\w*WRITE[\\s-]\\w*\",\n",
    "    r\"NAN\",\n",
    "    r\"UNCERTIFIED\",\n",
    "    r\"UNVERIFIED\",\n",
    "    r\"NONE OF THE ABOVE\",\n",
    "    r\"LBT\",\n",
    "    r\"DEM\",\n",
    "    r\"REP\",\n",
    "    r\"GRN\",\n",
    "    r\"NAN\"\n",
    "\n",
    "]\n",
    "\n",
    "# Fixing FUENTE\n",
    "general_data.loc[\n",
    "    general_data[\"candidate\"].str.contains(\"\\w*Fuenta\\w*\", case=False, na=False),\n",
    "    \"candidate\"\n",
    "] = \"FUENTE\"\n",
    "pattern = \"|\".join(unwanted_keywords)\n",
    "\n",
    "# # FILTER OUT TRASH WORDS\n",
    "general_data = general_data[~general_data[\"candidate\"].str.upper().str.contains(pattern, regex=True, na=False)]\n",
    "\n",
    "# # Fixing Darrell Castle\"\n",
    "# general_data.loc[\n",
    "#     general_data[\"candidate\"].str.contains(\"\\w*ASTLE\\w*\", case=False, na=False),\n",
    "#     \"candidate\"\n",
    "# ] = \"CASTLE\"\n",
    "\n",
    "# general_data.loc[\n",
    "#     general_data[\"candidate\"].str.contains(\"\\w*ATUREN\\w*\", case=False, na=False),\n",
    "#     \"candidate\"\n",
    "# ] = \"MATUREN\"\n",
    "\n",
    "# Fixing mixed president + vice_president by /\n",
    "general_data[\"candidate\"] = (\n",
    "    general_data[\"candidate\"].str.split(\"/\")\n",
    "    .str[0]\n",
    "    .str.strip()\n",
    "    )\n",
    "\n",
    "# #Selecting only last name\n",
    "# general_data[\"candidate\"] = general_data[\"candidate\"].str.split().str[-1]\n",
    "\n",
    "# # Fixing the , candidate\n",
    "# # general_data[\"candidate\"] = (\n",
    "# #     general_data[\"candidate\"].str.split(\",\")\n",
    "# #     .str[0]\n",
    "# #     .str.strip()\n",
    "# #     )\n",
    "\n",
    "\n",
    "\n",
    "\n",
    "# # Fixing Cubbler\n",
    "# general_data.loc[\n",
    "#     ( \n",
    "#         general_data[\"candidate\"].str.contains(\"\\w*UBBIER\\w*\", case=False, na=False)|\n",
    "#         general_data[\"candidate\"].str.contains(\"\\w*UBLER\\w*\", case=False, na=False)|\n",
    "#         general_data[\"candidate\"].str.contains(\"\\w*OBBLER\\w*\", case=False, na=False),\n",
    "#     \"candidate\")\n",
    "# ] = \"CUBBLER\"\n",
    "\n",
    "\n",
    "# # Fixing Kotlikoff\n",
    "# general_data.loc[\n",
    "#     general_data[\"candidate\"].str.contains(\"\\w*TIKOFF\\w*\", case=False, na=False),\n",
    "#     \"candidate\"\n",
    "# ] = \"KOTLIKOFF\"\n",
    "\n",
    "# # Fixing Valdivia\n",
    "# general_data.loc[\n",
    "#     general_data[\"candidate\"].str.contains(\"\\w*VALDIVA\\W*\", case=False, na=False),\n",
    "#     \"candidate\"\n",
    "# ] = \"VALDIVIA\"\n",
    "\n",
    "# # Fixing HOEFLING\n",
    "# general_data.loc[\n",
    "#     general_data[\"candidate\"].str.contains(\"\\w*HOEFFLING\", case=False, na=False),\n",
    "#     \"candidate\"\n",
    "# ] = \"HOEFLING\"\n",
    "\n",
    "\n",
    "# # Fixing McMullin\n",
    "# general_data.loc[\n",
    "#     general_data[\"candidate\"].str.contains(\"MCMULLEN\", case=False, na=False) ,\n",
    "#     \"candidate\"\n",
    "# ] = \"MCMULLIN\"\n",
    "\n",
    "# Fixing LASTNAME + First name Initial\n",
    "# general_data.loc[:,\"candidate\"] = (\n",
    "#     general_data[\"candidate\"].str.split().str[0].str.upper()\n",
    "# )\n",
    "\n",
    "\n",
    "# #Selecting only last name\n",
    "general_data[\"candidate\"] = general_data[\"candidate\"].str.split().str[-1]\n",
    "\n",
    "general_data[\"candidate\"].value_counts(dropna=False)"
   ]
  },
  {
   "cell_type": "code",
   "execution_count": 19,
   "id": "a22405a6",
   "metadata": {},
   "outputs": [
    {
     "data": {
      "application/vnd.microsoft.datawrangler.viewer.v0+json": {
       "columns": [
        {
         "name": "party",
         "rawType": "object",
         "type": "string"
        },
        {
         "name": "count",
         "rawType": "int64",
         "type": "integer"
        }
       ],
       "ref": "a0854448-566e-4339-bcef-bf29eda1627c",
       "rows": [
        [
         "REP",
         "2456"
        ],
        [
         "DEM",
         "2455"
        ],
        [
         "LIB",
         "2310"
        ],
        [
         "IND",
         "2161"
        ],
        [
         "GRN",
         "2108"
        ],
        [
         "CON",
         "1736"
        ],
        [
         "AMR",
         "1178"
        ],
        [
         "AME",
         "150"
        ],
        [
         "AMC",
         "133"
        ]
       ],
       "shape": {
        "columns": 1,
        "rows": 9
       }
      },
      "text/plain": [
       "party\n",
       "REP    2456\n",
       "DEM    2455\n",
       "LIB    2310\n",
       "IND    2161\n",
       "GRN    2108\n",
       "CON    1736\n",
       "AMR    1178\n",
       "AME     150\n",
       "AMC     133\n",
       "Name: count, dtype: int64"
      ]
     },
     "execution_count": 19,
     "metadata": {},
     "output_type": "execute_result"
    }
   ],
   "source": [
    "# Viewing Party\n",
    "general_data[\"party\"].value_counts(dropna=False)"
   ]
  },
  {
   "cell_type": "code",
   "execution_count": 20,
   "id": "21d7595b",
   "metadata": {},
   "outputs": [
    {
     "data": {
      "application/vnd.microsoft.datawrangler.viewer.v0+json": {
       "columns": [
        {
         "name": "party",
         "rawType": "object",
         "type": "string"
        },
        {
         "name": "count",
         "rawType": "int64",
         "type": "integer"
        }
       ],
       "ref": "e5785aef-d282-4fde-a4c7-10f123726c13",
       "rows": [
        [
         "REP",
         "2456"
        ],
        [
         "DEM",
         "2455"
        ],
        [
         "LIB",
         "2310"
        ],
        [
         "IND",
         "2161"
        ],
        [
         "GRN",
         "2108"
        ],
        [
         "CON",
         "1736"
        ],
        [
         "AMR",
         "1178"
        ],
        [
         "AME",
         "150"
        ],
        [
         "AMC",
         "133"
        ]
       ],
       "shape": {
        "columns": 1,
        "rows": 9
       }
      },
      "text/plain": [
       "party\n",
       "REP    2456\n",
       "DEM    2455\n",
       "LIB    2310\n",
       "IND    2161\n",
       "GRN    2108\n",
       "CON    1736\n",
       "AMR    1178\n",
       "AME     150\n",
       "AMC     133\n",
       "Name: count, dtype: int64"
      ]
     },
     "execution_count": 20,
     "metadata": {},
     "output_type": "execute_result"
    }
   ],
   "source": [
    "#=====================================\n",
    "# This function is used to look up party\n",
    "# for the candidate in the same df\n",
    "#=====================================\n",
    "def fill_party_from_data(row, df):\n",
    "    if pd.notna(row[\"party\"]):\n",
    "        return row[\"party\"]\n",
    "    \n",
    "    # Try to find other rows with the same candidate and known party\n",
    "    matches = df[(df[\"candidate\"] == row[\"candidate\"]) & (df[\"party\"].notna())]\n",
    "    if not matches.empty:\n",
    "        return matches[\"party\"].iloc[0]  # Return the first match's party\n",
    "    else:\n",
    "        return None  # Still unknown\n",
    "    \n",
    "\n",
    "#=====================================\n",
    "# Function to fill remaining missing party from master lookup\n",
    "#=====================================\n",
    "def fill_party_from_master(df, master_df):\n",
    "    party_map = master_df.set_index(\"candidate\")[\"party\"].to_dict()\n",
    "    df[\"party\"] = df.apply(\n",
    "        lambda row: party_map.get(row[\"candidate\"], row[\"party\"])\n",
    "        if pd.isna(row[\"party\"]) else row[\"party\"],\n",
    "        axis=1\n",
    "    )\n",
    "    return df\n",
    "\n",
    "\n",
    "#=====================================\n",
    "# Function to update the master candidate-party CSV\n",
    "#=====================================\n",
    "def update_master_candidate_party(df, master_path):\n",
    "    # Read the existing master file\n",
    "    master_df = pd.read_csv(master_path)\n",
    "\n",
    "    # Filter and combine only known party entries (exclude 'UNK')\n",
    "    new_data = (\n",
    "        df[[\"candidate\", \"party\"]]\n",
    "        .dropna()\n",
    "        .query('party != \"UNK\"')\n",
    "        .drop_duplicates()\n",
    "    )\n",
    "\n",
    "    # Merge with master and remove duplicates by candidate\n",
    "    updated_master = pd.concat([master_df, new_data]).drop_duplicates(subset=\"candidate\")\n",
    "\n",
    "    # Save updated version\n",
    "    updated_master.to_csv(master_path, index=False)\n",
    "\n",
    "\n",
    "#=====================================\n",
    "# Example usage (uncomment and modify for your workflow)\n",
    "#=====================================\n",
    "# Fill party using internal data\n",
    "# general_data[\"party\"] = general_data.apply(\n",
    "#     lambda row: fill_party_from_data(row, general_data),\n",
    "#     axis=1\n",
    "# )\n",
    "\n",
    "# # # Fill remaining party using general master CSV\n",
    "# master_party_df = pd.read_csv(r\"C:\\Huy Phan\\College\\VoterTurnout\\data\\cleaned_data\\gen_can_party.csv\") # USE YOUR OWN ADDRESS\n",
    "# general_data = fill_party_from_master(general_data, master_party_df)\n",
    "general_data[\"party\"].value_counts(dropna=False)\n"
   ]
  },
  {
   "cell_type": "code",
   "execution_count": 21,
   "id": "8bb5d275",
   "metadata": {},
   "outputs": [
    {
     "data": {
      "application/vnd.microsoft.datawrangler.viewer.v0+json": {
       "columns": [
        {
         "name": "party",
         "rawType": "object",
         "type": "string"
        },
        {
         "name": "count",
         "rawType": "int64",
         "type": "integer"
        }
       ],
       "ref": "2ede9700-bc7b-40ae-80d2-8417de0db99d",
       "rows": [
        [
         "REP",
         "2456"
        ],
        [
         "DEM",
         "2455"
        ],
        [
         "LIB",
         "2310"
        ],
        [
         "IND",
         "2161"
        ],
        [
         "GRN",
         "2108"
        ],
        [
         "CON",
         "1736"
        ],
        [
         "AMR",
         "1178"
        ],
        [
         "AME",
         "150"
        ],
        [
         "AMC",
         "133"
        ]
       ],
       "shape": {
        "columns": 1,
        "rows": 9
       }
      },
      "text/plain": [
       "party\n",
       "REP    2456\n",
       "DEM    2455\n",
       "LIB    2310\n",
       "IND    2161\n",
       "GRN    2108\n",
       "CON    1736\n",
       "AMR    1178\n",
       "AME     150\n",
       "AMC     133\n",
       "Name: count, dtype: int64"
      ]
     },
     "execution_count": 21,
     "metadata": {},
     "output_type": "execute_result"
    }
   ],
   "source": [
    "# Cleaning Party\n",
    "# Turning all general data party to uppercase\n",
    "general_data[\"party\"] = general_data[\"party\"].astype(str).str.upper()\n",
    "\n",
    "general_data[\"party\"] = (\n",
    "    general_data[\"party\"]\n",
    "    .replace({\n",
    "        \"REPUBLICAN\": \"REP\",\n",
    "        \"R\": \"REP\",\n",
    "        \"DEMOCRATIC\": \"DEM\",\n",
    "        \"DEMOCRAT\":\"DEM\",\n",
    "        \"DEM\": \"DEM\",\n",
    "        \"D\": \"DEM\",\n",
    "        \"GREEN\": \"GRN\",\n",
    "        \"G\": \"GRN\",\n",
    "        \"GREEN AND RAINBOW\":\"GRN\",\n",
    "        \"GREEN-RAINBOW\":\"GRN\",\n",
    "        \"LIBERTARIAN\": \"LIB\",\n",
    "        \"LIBERTARIN\":\"LIB\",\n",
    "        \"LBT\": \"LIB\",\n",
    "        \"L\": \"LIB\",\n",
    "        \"CONSTITUTION\": \"CON\",\n",
    "        \"AMERICAN DELTA\":\"AMD\",\n",
    "        \"PROHIBITION\":\"PRO\",\n",
    "        \"NP\": \"IND\",\n",
    "        \"NON\": \"IND\",\n",
    "        \"WRI\": \"IND\",\n",
    "        \"WRITE-IN\": \"IND\",\n",
    "        \"ONA\": \"IND\",\n",
    "        \"GEN\": \"IND\",\n",
    "        \"NONE\":\"UNK\",\n",
    "        \"NPA\":\"IND\",\n",
    "        \"UST\":\"CON\",\n",
    "        \"(WRITE-IN)\":\"IND\"\n",
    "    })\n",
    ")\n",
    "\n",
    "general_data[\"party\"].value_counts(dropna=False)"
   ]
  },
  {
   "cell_type": "code",
   "execution_count": 22,
   "id": "ff4a4970",
   "metadata": {},
   "outputs": [],
   "source": [
    "# UPDATE MASTER FILE, CAREFUL\n",
    "update_master_candidate_party(general_data, r\"C:\\Huy Phan\\College\\VoterTurnout\\data\\cleaned_data\\gen_can_party.csv\")"
   ]
  },
  {
   "cell_type": "code",
   "execution_count": 23,
   "id": "daaed088",
   "metadata": {},
   "outputs": [
    {
     "data": {
      "application/vnd.microsoft.datawrangler.viewer.v0+json": {
       "columns": [
        {
         "name": "index",
         "rawType": "int64",
         "type": "integer"
        },
        {
         "name": "precinct",
         "rawType": "object",
         "type": "string"
        },
        {
         "name": "gen_amc_SKEWES",
         "rawType": "int64",
         "type": "integer"
        },
        {
         "name": "gen_ame_SKEWES",
         "rawType": "int64",
         "type": "integer"
        },
        {
         "name": "gen_amr_SKEWES",
         "rawType": "int64",
         "type": "integer"
        },
        {
         "name": "gen_con_CASTLE",
         "rawType": "int64",
         "type": "integer"
        },
        {
         "name": "gen_dem_CLINTON",
         "rawType": "int64",
         "type": "integer"
        },
        {
         "name": "gen_grn_STEIN",
         "rawType": "int64",
         "type": "integer"
        },
        {
         "name": "gen_ind_MCMULLIN",
         "rawType": "int64",
         "type": "integer"
        },
        {
         "name": "gen_lib_JOHNSON",
         "rawType": "int64",
         "type": "integer"
        },
        {
         "name": "gen_rep_TRUMP",
         "rawType": "int64",
         "type": "integer"
        }
       ],
       "ref": "52026cf2-34e7-49f2-8bd9-6d1026d80bab",
       "rows": [
        [
         "0",
         "ABBEVILLEABBEVILLE NO. 1",
         "0",
         "0",
         "2",
         "2",
         "245",
         "1",
         "4",
         "21",
         "610"
        ],
        [
         "1",
         "ABBEVILLEABBEVILLE NO. 2",
         "0",
         "0",
         "1",
         "1",
         "373",
         "0",
         "2",
         "7",
         "303"
        ],
        [
         "2",
         "ABBEVILLEABBEVILLE NO. 3",
         "0",
         "0",
         "2",
         "3",
         "214",
         "2",
         "3",
         "5",
         "284"
        ],
        [
         "3",
         "ABBEVILLEABBEVILLE NO. 4",
         "0",
         "0",
         "0",
         "2",
         "131",
         "1",
         "2",
         "5",
         "279"
        ],
        [
         "4",
         "ABBEVILLEABSENTEE",
         "0",
         "0",
         "2",
         "12",
         "1270",
         "7",
         "8",
         "29",
         "1439"
        ],
        [
         "5",
         "ABBEVILLEANTREVILLE",
         "0",
         "0",
         "0",
         "1",
         "105",
         "1",
         "3",
         "7",
         "496"
        ],
        [
         "6",
         "ABBEVILLEBROADMOUTH",
         "0",
         "0",
         "0",
         "0",
         "62",
         "1",
         "3",
         "3",
         "215"
        ],
        [
         "7",
         "ABBEVILLECALHOUN FALLS",
         "0",
         "0",
         "2",
         "3",
         "514",
         "2",
         "3",
         "6",
         "407"
        ],
        [
         "8",
         "ABBEVILLECOLD SPRINGS",
         "0",
         "0",
         "0",
         "1",
         "88",
         "3",
         "1",
         "6",
         "396"
        ],
        [
         "9",
         "ABBEVILLEDONALDS",
         "0",
         "0",
         "0",
         "2",
         "44",
         "2",
         "3",
         "2",
         "254"
        ],
        [
         "10",
         "ABBEVILLEDUE WEST",
         "0",
         "0",
         "2",
         "7",
         "233",
         "7",
         "11",
         "13",
         "520"
        ],
        [
         "11",
         "ABBEVILLEFAILSAFE",
         "0",
         "0",
         "0",
         "0",
         "0",
         "0",
         "0",
         "0",
         "1"
        ],
        [
         "12",
         "ABBEVILLEFAILSAFE PROVISIONAL",
         "0",
         "0",
         "0",
         "0",
         "14",
         "0",
         "0",
         "1",
         "9"
        ],
        [
         "13",
         "ABBEVILLEHALL'S STORE",
         "0",
         "0",
         "0",
         "0",
         "136",
         "1",
         "4",
         "2",
         "255"
        ],
        [
         "14",
         "ABBEVILLEKEOWEE",
         "0",
         "0",
         "0",
         "1",
         "109",
         "4",
         "6",
         "4",
         "491"
        ],
        [
         "15",
         "ABBEVILLELEBANON",
         "0",
         "0",
         "1",
         "1",
         "107",
         "2",
         "2",
         "10",
         "309"
        ],
        [
         "16",
         "ABBEVILLELOWNDESVILLE",
         "0",
         "0",
         "0",
         "2",
         "81",
         "2",
         "1",
         "8",
         "483"
        ],
        [
         "17",
         "ABBEVILLEPROVISIONAL",
         "0",
         "0",
         "0",
         "0",
         "15",
         "0",
         "0",
         "0",
         "12"
        ],
        [
         "18",
         "AIKENABSENTEE",
         "0",
         "0",
         "25",
         "27",
         "6217",
         "60",
         "126",
         "242",
         "10117"
        ],
        [
         "19",
         "AIKENAIKEN NO. 1",
         "0",
         "0",
         "1",
         "1",
         "164",
         "11",
         "15",
         "30",
         "394"
        ],
        [
         "20",
         "AIKENAIKEN NO. 2",
         "0",
         "0",
         "0",
         "2",
         "402",
         "4",
         "2",
         "11",
         "122"
        ],
        [
         "21",
         "AIKENAIKEN NO. 3",
         "0",
         "0",
         "1",
         "2",
         "560",
         "4",
         "6",
         "10",
         "106"
        ],
        [
         "22",
         "AIKENAIKEN NO. 4",
         "0",
         "0",
         "0",
         "1",
         "255",
         "4",
         "2",
         "3",
         "36"
        ],
        [
         "23",
         "AIKENAIKEN NO. 47",
         "0",
         "0",
         "3",
         "2",
         "182",
         "3",
         "15",
         "24",
         "331"
        ],
        [
         "24",
         "AIKENAIKEN NO. 5",
         "0",
         "0",
         "5",
         "1",
         "274",
         "8",
         "4",
         "13",
         "215"
        ],
        [
         "25",
         "AIKENAIKEN NO. 6",
         "0",
         "0",
         "1",
         "3",
         "195",
         "7",
         "7",
         "28",
         "432"
        ],
        [
         "26",
         "AIKENANDERSON POND NO. 69",
         "0",
         "0",
         "4",
         "2",
         "191",
         "4",
         "12",
         "24",
         "563"
        ],
        [
         "27",
         "AIKENASCAUGA LAKE NO. 63",
         "0",
         "0",
         "0",
         "3",
         "160",
         "2",
         "9",
         "20",
         "364"
        ],
        [
         "28",
         "AIKENASCAUGA LAKE NO. 84",
         "0",
         "0",
         "1",
         "2",
         "158",
         "1",
         "8",
         "13",
         "443"
        ],
        [
         "29",
         "AIKENBATH",
         "0",
         "0",
         "3",
         "0",
         "196",
         "0",
         "3",
         "8",
         "242"
        ],
        [
         "30",
         "AIKENBEECH ISLAND",
         "0",
         "0",
         "1",
         "2",
         "459",
         "6",
         "6",
         "9",
         "414"
        ],
        [
         "31",
         "AIKENBELVEDERE NO. 44",
         "0",
         "0",
         "1",
         "7",
         "257",
         "3",
         "8",
         "23",
         "483"
        ],
        [
         "32",
         "AIKENBELVEDERE NO. 62",
         "0",
         "0",
         "1",
         "5",
         "312",
         "9",
         "3",
         "3",
         "272"
        ],
        [
         "33",
         "AIKENBELVEDERE NO. 74",
         "0",
         "0",
         "0",
         "1",
         "99",
         "1",
         "4",
         "4",
         "230"
        ],
        [
         "34",
         "AIKENBELVEDERE NO. 9",
         "0",
         "0",
         "2",
         "2",
         "395",
         "9",
         "9",
         "28",
         "447"
        ],
        [
         "35",
         "AIKENBREEZY HILL",
         "0",
         "0",
         "1",
         "1",
         "390",
         "11",
         "15",
         "33",
         "807"
        ],
        [
         "36",
         "AIKENCAROLINA HEIGHTS",
         "0",
         "0",
         "2",
         "2",
         "388",
         "1",
         "9",
         "13",
         "169"
        ],
        [
         "37",
         "AIKENCEDAR CREEK NO. 64",
         "0",
         "0",
         "1",
         "0",
         "147",
         "7",
         "8",
         "14",
         "489"
        ],
        [
         "38",
         "AIKENCHINA SPRINGS",
         "0",
         "0",
         "2",
         "1",
         "465",
         "1",
         "1",
         "8",
         "210"
        ],
        [
         "39",
         "AIKENCLEARWATER",
         "0",
         "0",
         "0",
         "1",
         "147",
         "0",
         "1",
         "3",
         "173"
        ],
        [
         "40",
         "AIKENCOLLEGE ACRES",
         "0",
         "0",
         "3",
         "2",
         "238",
         "9",
         "13",
         "41",
         "590"
        ],
        [
         "41",
         "AIKENCOUCHTON",
         "0",
         "0",
         "0",
         "3",
         "223",
         "3",
         "1",
         "19",
         "420"
        ],
        [
         "42",
         "AIKENEUREKA",
         "0",
         "0",
         "0",
         "3",
         "174",
         "6",
         "7",
         "24",
         "592"
        ],
        [
         "43",
         "AIKENFAILSAFE",
         "0",
         "0",
         "0",
         "0",
         "87",
         "0",
         "0",
         "2",
         "82"
        ],
        [
         "44",
         "AIKENFAILSAFE PROVISIONAL",
         "0",
         "0",
         "0",
         "0",
         "16",
         "1",
         "1",
         "2",
         "31"
        ],
        [
         "45",
         "AIKENFOX CREEK NO. 58",
         "0",
         "0",
         "1",
         "0",
         "179",
         "2",
         "12",
         "19",
         "610"
        ],
        [
         "46",
         "AIKENFOX CREEK NO. 73",
         "0",
         "0",
         "2",
         "0",
         "158",
         "4",
         "6",
         "32",
         "651"
        ],
        [
         "47",
         "AIKENGEM LAKES NO. 60",
         "0",
         "0",
         "1",
         "2",
         "153",
         "7",
         "18",
         "22",
         "489"
        ],
        [
         "48",
         "AIKENGEM LAKES NO. 77",
         "0",
         "0",
         "0",
         "5",
         "171",
         "8",
         "23",
         "29",
         "543"
        ],
        [
         "49",
         "AIKENGLOVERVILLE",
         "0",
         "0",
         "2",
         "4",
         "111",
         "3",
         "6",
         "15",
         "434"
        ]
       ],
       "shape": {
        "columns": 10,
        "rows": 2464
       }
      },
      "text/html": [
       "<div>\n",
       "<style scoped>\n",
       "    .dataframe tbody tr th:only-of-type {\n",
       "        vertical-align: middle;\n",
       "    }\n",
       "\n",
       "    .dataframe tbody tr th {\n",
       "        vertical-align: top;\n",
       "    }\n",
       "\n",
       "    .dataframe thead th {\n",
       "        text-align: right;\n",
       "    }\n",
       "</style>\n",
       "<table border=\"1\" class=\"dataframe\">\n",
       "  <thead>\n",
       "    <tr style=\"text-align: right;\">\n",
       "      <th>candidate_column</th>\n",
       "      <th>precinct</th>\n",
       "      <th>gen_amc_SKEWES</th>\n",
       "      <th>gen_ame_SKEWES</th>\n",
       "      <th>gen_amr_SKEWES</th>\n",
       "      <th>gen_con_CASTLE</th>\n",
       "      <th>gen_dem_CLINTON</th>\n",
       "      <th>gen_grn_STEIN</th>\n",
       "      <th>gen_ind_MCMULLIN</th>\n",
       "      <th>gen_lib_JOHNSON</th>\n",
       "      <th>gen_rep_TRUMP</th>\n",
       "    </tr>\n",
       "  </thead>\n",
       "  <tbody>\n",
       "    <tr>\n",
       "      <th>0</th>\n",
       "      <td>ABBEVILLEABBEVILLE NO. 1</td>\n",
       "      <td>0</td>\n",
       "      <td>0</td>\n",
       "      <td>2</td>\n",
       "      <td>2</td>\n",
       "      <td>245</td>\n",
       "      <td>1</td>\n",
       "      <td>4</td>\n",
       "      <td>21</td>\n",
       "      <td>610</td>\n",
       "    </tr>\n",
       "    <tr>\n",
       "      <th>1</th>\n",
       "      <td>ABBEVILLEABBEVILLE NO. 2</td>\n",
       "      <td>0</td>\n",
       "      <td>0</td>\n",
       "      <td>1</td>\n",
       "      <td>1</td>\n",
       "      <td>373</td>\n",
       "      <td>0</td>\n",
       "      <td>2</td>\n",
       "      <td>7</td>\n",
       "      <td>303</td>\n",
       "    </tr>\n",
       "    <tr>\n",
       "      <th>2</th>\n",
       "      <td>ABBEVILLEABBEVILLE NO. 3</td>\n",
       "      <td>0</td>\n",
       "      <td>0</td>\n",
       "      <td>2</td>\n",
       "      <td>3</td>\n",
       "      <td>214</td>\n",
       "      <td>2</td>\n",
       "      <td>3</td>\n",
       "      <td>5</td>\n",
       "      <td>284</td>\n",
       "    </tr>\n",
       "    <tr>\n",
       "      <th>3</th>\n",
       "      <td>ABBEVILLEABBEVILLE NO. 4</td>\n",
       "      <td>0</td>\n",
       "      <td>0</td>\n",
       "      <td>0</td>\n",
       "      <td>2</td>\n",
       "      <td>131</td>\n",
       "      <td>1</td>\n",
       "      <td>2</td>\n",
       "      <td>5</td>\n",
       "      <td>279</td>\n",
       "    </tr>\n",
       "    <tr>\n",
       "      <th>4</th>\n",
       "      <td>ABBEVILLEABSENTEE</td>\n",
       "      <td>0</td>\n",
       "      <td>0</td>\n",
       "      <td>2</td>\n",
       "      <td>12</td>\n",
       "      <td>1270</td>\n",
       "      <td>7</td>\n",
       "      <td>8</td>\n",
       "      <td>29</td>\n",
       "      <td>1439</td>\n",
       "    </tr>\n",
       "    <tr>\n",
       "      <th>...</th>\n",
       "      <td>...</td>\n",
       "      <td>...</td>\n",
       "      <td>...</td>\n",
       "      <td>...</td>\n",
       "      <td>...</td>\n",
       "      <td>...</td>\n",
       "      <td>...</td>\n",
       "      <td>...</td>\n",
       "      <td>...</td>\n",
       "      <td>...</td>\n",
       "    </tr>\n",
       "    <tr>\n",
       "      <th>2459</th>\n",
       "      <td>YORKWATERSTONE</td>\n",
       "      <td>2</td>\n",
       "      <td>0</td>\n",
       "      <td>0</td>\n",
       "      <td>4</td>\n",
       "      <td>419</td>\n",
       "      <td>11</td>\n",
       "      <td>16</td>\n",
       "      <td>44</td>\n",
       "      <td>602</td>\n",
       "    </tr>\n",
       "    <tr>\n",
       "      <th>2460</th>\n",
       "      <td>YORKWINDJAMMER</td>\n",
       "      <td>2</td>\n",
       "      <td>0</td>\n",
       "      <td>0</td>\n",
       "      <td>5</td>\n",
       "      <td>382</td>\n",
       "      <td>8</td>\n",
       "      <td>12</td>\n",
       "      <td>41</td>\n",
       "      <td>699</td>\n",
       "    </tr>\n",
       "    <tr>\n",
       "      <th>2461</th>\n",
       "      <td>YORKWYLIE</td>\n",
       "      <td>1</td>\n",
       "      <td>0</td>\n",
       "      <td>0</td>\n",
       "      <td>4</td>\n",
       "      <td>168</td>\n",
       "      <td>2</td>\n",
       "      <td>5</td>\n",
       "      <td>25</td>\n",
       "      <td>411</td>\n",
       "    </tr>\n",
       "    <tr>\n",
       "      <th>2462</th>\n",
       "      <td>YORKYORK NO. 1</td>\n",
       "      <td>1</td>\n",
       "      <td>0</td>\n",
       "      <td>0</td>\n",
       "      <td>0</td>\n",
       "      <td>405</td>\n",
       "      <td>7</td>\n",
       "      <td>7</td>\n",
       "      <td>14</td>\n",
       "      <td>309</td>\n",
       "    </tr>\n",
       "    <tr>\n",
       "      <th>2463</th>\n",
       "      <td>YORKYORK NO. 2</td>\n",
       "      <td>2</td>\n",
       "      <td>0</td>\n",
       "      <td>0</td>\n",
       "      <td>4</td>\n",
       "      <td>446</td>\n",
       "      <td>8</td>\n",
       "      <td>12</td>\n",
       "      <td>30</td>\n",
       "      <td>602</td>\n",
       "    </tr>\n",
       "  </tbody>\n",
       "</table>\n",
       "<p>2464 rows × 10 columns</p>\n",
       "</div>"
      ],
      "text/plain": [
       "candidate_column                  precinct  gen_amc_SKEWES  gen_ame_SKEWES  \\\n",
       "0                 ABBEVILLEABBEVILLE NO. 1               0               0   \n",
       "1                 ABBEVILLEABBEVILLE NO. 2               0               0   \n",
       "2                 ABBEVILLEABBEVILLE NO. 3               0               0   \n",
       "3                 ABBEVILLEABBEVILLE NO. 4               0               0   \n",
       "4                        ABBEVILLEABSENTEE               0               0   \n",
       "...                                    ...             ...             ...   \n",
       "2459                        YORKWATERSTONE               2               0   \n",
       "2460                        YORKWINDJAMMER               2               0   \n",
       "2461                             YORKWYLIE               1               0   \n",
       "2462                        YORKYORK NO. 1               1               0   \n",
       "2463                        YORKYORK NO. 2               2               0   \n",
       "\n",
       "candidate_column  gen_amr_SKEWES  gen_con_CASTLE  gen_dem_CLINTON  \\\n",
       "0                              2               2              245   \n",
       "1                              1               1              373   \n",
       "2                              2               3              214   \n",
       "3                              0               2              131   \n",
       "4                              2              12             1270   \n",
       "...                          ...             ...              ...   \n",
       "2459                           0               4              419   \n",
       "2460                           0               5              382   \n",
       "2461                           0               4              168   \n",
       "2462                           0               0              405   \n",
       "2463                           0               4              446   \n",
       "\n",
       "candidate_column  gen_grn_STEIN  gen_ind_MCMULLIN  gen_lib_JOHNSON  \\\n",
       "0                             1                 4               21   \n",
       "1                             0                 2                7   \n",
       "2                             2                 3                5   \n",
       "3                             1                 2                5   \n",
       "4                             7                 8               29   \n",
       "...                         ...               ...              ...   \n",
       "2459                         11                16               44   \n",
       "2460                          8                12               41   \n",
       "2461                          2                 5               25   \n",
       "2462                          7                 7               14   \n",
       "2463                          8                12               30   \n",
       "\n",
       "candidate_column  gen_rep_TRUMP  \n",
       "0                           610  \n",
       "1                           303  \n",
       "2                           284  \n",
       "3                           279  \n",
       "4                          1439  \n",
       "...                         ...  \n",
       "2459                        602  \n",
       "2460                        699  \n",
       "2461                        411  \n",
       "2462                        309  \n",
       "2463                        602  \n",
       "\n",
       "[2464 rows x 10 columns]"
      ]
     },
     "execution_count": 23,
     "metadata": {},
     "output_type": "execute_result"
    }
   ],
   "source": [
    "general_data[\"candidate_column\"] = (\n",
    "    \"gen_\" +\n",
    "    general_data[\"party\"].str.lower() + \"_\" +\n",
    "    general_data[\"candidate\"].str.split().str[-1].str.upper()\n",
    ")\n",
    "\n",
    "# pivot the table\n",
    "general_result = general_data.pivot_table(\n",
    "    index=\"precinct\",\n",
    "    columns=\"candidate_column\",\n",
    "    values=\"votes\",\n",
    "    aggfunc=\"sum\",  \n",
    "    fill_value=0\n",
    ").reset_index()\n",
    "\n",
    "general_result"
   ]
  },
  {
   "cell_type": "code",
   "execution_count": 24,
   "id": "6686d34b",
   "metadata": {},
   "outputs": [],
   "source": [
    "# Merge\n",
    "combined = pd.merge(primary_result, general_result, on=\"precinct\", how=\"inner\")\n",
    "\n",
    "# Convert DEM primary columns to numeric and calculate total\n",
    "dem_cols = combined.filter(like=\"pri_dem_\").columns\n",
    "combined[dem_cols] = combined[dem_cols].apply(pd.to_numeric, errors=\"coerce\")\n",
    "combined[\"dem_primary_total\"] = combined[dem_cols].sum(axis=1)\n",
    "\n",
    "# Convert general election columns to numeric and calculate total\n",
    "gen_cols = combined.filter(like=\"gen_\").columns\n",
    "combined[gen_cols] = combined[gen_cols].apply(pd.to_numeric, errors=\"coerce\")\n",
    "combined[\"general_total\"] = combined[gen_cols].sum(axis=1)\n",
    "\n",
    "# Convert all numeric columns to int\n",
    "for col in combined.columns[1:]:\n",
    "    combined[col] = pd.to_numeric(combined[col], errors='coerce').fillna(0).astype(int)\n",
    "\n",
    "# Identify filtered-out precincts\n",
    "primary_precincts = set(primary_result[\"precinct\"])\n",
    "general_precincts = set(general_result[\"precinct\"])\n",
    "combined_precincts = set(combined[\"precinct\"])\n",
    "\n",
    "primary_filtered_out = primary_precincts - combined_precincts\n",
    "general_filtered_out = general_precincts - combined_precincts\n",
    "\n",
    "\n"
   ]
  },
  {
   "cell_type": "code",
   "execution_count": 25,
   "id": "a6797e92",
   "metadata": {},
   "outputs": [],
   "source": [
    "\n",
    "\n",
    "combined.to_csv(\"SC.csv\", index=False)\n",
    "# Step 3: Identify unmatched precincts and retrieve full rows\n",
    "combined_precincts = set(combined[\"precinct\"])\n",
    "\n",
    "# Rows in primary_result but not in combined\n",
    "primary_filtered_out = primary_result[~primary_result[\"precinct\"].isin(combined_precincts)]\n",
    "primary_filtered_out.to_csv(\"SC_primary_filtered.csv\", index=False)\n",
    "\n",
    "# Rows in general_result but not in combined\n",
    "general_filtered_out = general_result[~general_result[\"precinct\"].isin(combined_precincts)]\n",
    "general_filtered_out.to_csv(\"SC_general_filtered.csv\", index=False)"
   ]
  },
  {
   "cell_type": "code",
   "execution_count": 26,
   "id": "b3d042ff",
   "metadata": {},
   "outputs": [
    {
     "name": "stdout",
     "output_type": "stream",
     "text": [
      "primary: 2455, general: 2464, combined: 2296\n"
     ]
    }
   ],
   "source": [
    "print(f\"primary: {len(primary_precincts)}, general: {len(general_precincts)}, combined: {len(combined)}\")"
   ]
  },
  {
   "cell_type": "code",
   "execution_count": 27,
   "id": "9900725d",
   "metadata": {},
   "outputs": [
    {
     "name": "stdout",
     "output_type": "stream",
     "text": [
      "primary: 46, general: 46\n"
     ]
    }
   ],
   "source": [
    "print(f\"primary: {len(pri_combined_df['county'].unique())}, general: {len(gen_combined_df['county'].unique())}\")\n"
   ]
  },
  {
   "cell_type": "code",
   "execution_count": 28,
   "id": "b12d639e",
   "metadata": {},
   "outputs": [
    {
     "data": {
      "text/plain": [
       "array(['SALUDACENTENNIAL', 'SALUDACLYDE', 'SALUDADELMAR', ...,\n",
       "       'BEAUFORTFAILSAFE', 'BEAUFORTPROVISIONAL',\n",
       "       'BEAUFORTFAILSAFE PROVISIONAL'], dtype=object)"
      ]
     },
     "execution_count": 28,
     "metadata": {},
     "output_type": "execute_result"
    }
   ],
   "source": [
    "pri_combined_df['precinct'].unique()"
   ]
  },
  {
   "cell_type": "code",
   "execution_count": 29,
   "id": "0fb1a12f",
   "metadata": {},
   "outputs": [
    {
     "data": {
      "text/plain": [
       "array(['ABBEVILLEABBEVILLE NO. 1', 'ABBEVILLEABBEVILLE NO. 2',\n",
       "       'ABBEVILLEABBEVILLE NO. 3', ..., 'YORKPROVISIONAL 3',\n",
       "       'YORKPROVISIONAL 4', 'YORKFAILSAFE PROV 1'], dtype=object)"
      ]
     },
     "execution_count": 29,
     "metadata": {},
     "output_type": "execute_result"
    }
   ],
   "source": [
    "gen_combined_df['precinct'].unique()"
   ]
  },
  {
   "cell_type": "code",
   "execution_count": 30,
   "id": "b28d499d",
   "metadata": {},
   "outputs": [
    {
     "name": "stdout",
     "output_type": "stream",
     "text": [
      "Counties in primary but not in general: 159\n",
      "{'BEAUFORTBLUFF 5A', 'LEXINGTONGASTON 1', 'DILLONPROVISIONAL', 'YORKEMERGENCY', 'LEXINGTONPINE RIDGE 1', 'CALHOUNEMERGENCY', 'YORKFAILSAFE', 'SUMTEREMERGENCY', 'LEXINGTONWEST COLUMBIA NO. 3', 'LEXINGTONLEAPHART RD', 'LEXINGTONMT. HEBRON', 'BEAUFORTLI 3A', 'COLLETONPROVISIONAL', 'LEXINGTONGASTON 2', 'LEXINGTONEDMUND 2', 'HORRYNORTON', 'BEAUFORTBLUFF 4C', 'BEAUFORTLI 2C', 'MCCORMICKEMERGENCY', 'JASPEREMERGENCY', 'FLORENCEEMERGENCY 1', 'BEAUFORTLI 2A', 'LEXINGTONPILGRIM CHRUCH', 'COLLETONEMERGENCY', 'SUMTERABSENTEE', 'LEXINGTONCONGAREE 2', 'ALLENDALEFAILSAFE', 'BEAUFORTBLUFF 2D', 'JASPERFAILSAFE/PROVISIONAL', 'BEAUFORTLI 3C', 'CHARLESTONEMERGENCY', 'BEAUFORTBLUFF 1A', 'COLLETONFAILSAFE', 'UNIONABSENTEE', 'SALUDAFAILSAFE PROVISIONAL', 'BEAUFORTST. HELENA 2A', 'GREENWOODEMERGENCY', 'YORKPROVISIONAL', 'CHESTERFIELDFAILSAFE', 'DILLONFAILSAFE PROVISIONAL', \"LANCASTERGOOCH'S CROSS RDS\", 'SUMTERPROVISIONAL', 'MARLBOROEMERGENCY', 'KERSHAWABSENTEE', 'LANCASTERPLEASANT VALLEY NUMBER 2', 'YORKFAILSAFE PROVISIONAL', 'BEAUFORTBLUFF 2E', 'LEXINGTONLEXINGTON NO. 3', 'BEAUFORTST. HELENA 2C', 'BEAUFORTBLUFF 5B', 'BARNWELLEMERGENCY', 'LEXINGTONPELION 2', 'BAMBERGEMERGENCY', 'OCONEEEMERGENCY', 'LEXINGTONSAND HILL', 'BEAUFORTST. HELENA 1A', 'LEXINGTONCAYCE NO. 3', 'BEAUFORTLI 1B', 'EDGEFIELDFAILSAFE PROVISIONAL', 'BEAUFORTST. HELENA 1B', 'SPARTANBURGPROVISIONAL', 'LEXINGTONLAKE MURRAY 1', 'MCCORMICKFAILSAFE PROVISIONAL', 'EDGEFIELDEMERGENCY', 'BAMBERGFAILSAFE PROVISIONAL', 'LANCASTERBELAIR NUMBER 2', 'ABBEVILLEEMERGENCY', 'MARIONEMERGENCY', 'BEAUFORTLI 2B', 'FAIRFIELDFAILSAFE PROVISIONAL', 'CHESTERPROVISIONAL', 'CHESTERFIELDFAILSAFE PROVISIONAL', 'LEXINGTONWEST COLUMBIA NO. 1', 'KERSHAWEMERGENCY', 'EDGEFIELDPROVISIONAL', 'SUMTERFAILSAFE', 'BEAUFORTST. HELENA 2B', 'SALUDAPROVISIONAL', 'UNIONFAILSAFE PROVISIONAL', 'BEAUFORTBLUFF 2A', 'HAMPTONEMERGENCY', 'BEAUFORTLI 1A', 'CLARENDONFAILSAFE PROVISIONAL', 'ANDERSONEMERGENCY', 'GREENVILLEEMERGENCY', 'LEXINGTONEDMUND 1', 'HORRYNIXONS X ROADS #3', 'DILLONEMERGENCY', 'BEAUFORTBLUFF 4A', 'CLARENDONEMERGENCY', 'LEXINGTONWEST COLUMBIA NO. 2', 'KERSHAWPROVISIONAL', 'CHEROKEEFAILSAFE PROVISIONAL', 'BEAUFORTBLUFF 1C', 'LEXINGTONOLD BARNWELL ROAD', 'GREENVILLEFAILSAFE/ PROVISIONAL', 'LANCASTEREMERGENCY', 'GREENVILLEPROVISIONAL', 'MARLBOROFAILSAFE PROVISIONAL', 'LEXINGTONCONGAREE 1', 'BEAUFORTBLUFF 4D', 'BEAUFORTMO 1A', 'BEAUFORTMO 2', 'LEXINGTONRED BANK SOUTH 2', 'BEAUFORTBLUFF 1D', 'ORANGEBURGEMERGENCY', 'UNIONPROVISIONAL', 'LEXINGTONPARK ROAD 2', 'LEXINGTONCAYCE 2A', 'LEXINGTONSWANSEA 1', 'CALHOUNPROVISIONAL', 'BEAUFORTBLUFF 2C', 'HORRYFLOYDS', 'NEWBERRYFAILSAFE PROVISIONAL', 'PICKENSEMERGENCY', 'ALLENDALEFAILSAFE PROVISIONAL', 'LEXINGTONCAYCE NO. 2', 'NEWBERRYEMERGENCY', 'ANDERSONABSENTEE', 'GREENVILLEFAILSAFE', 'LEXINGTONRED BANK SOUTH 1', 'AIKENEMERGENCY', 'KERSHAWFAILSAFE', 'ANDERSONFAILSAFE', 'UNIONFAILSAFE', 'CHESTERFAILSAFE PROVISIONAL', 'BEAUFORTLI 3B', 'BEAUFORTBLUFF 1B', 'LEXINGTONBARR ROAD 2', 'HORRYBROOKSVILLE', 'LEXINGTONPARK ROAD 1', 'UNIONEMERGENCY', 'BARNWELLPROVISIONAL', 'WILLIAMSBURGPROVISIONAL', 'CHEROKEEEMERGENCY', 'GREENVILLEABSENTEE', 'BEAUFORTBLUFF 4B', 'LEXINGTONPELION 1', 'LEXINGTONWEST COLUMBIA NO. 4', 'LANCASTERWYLIE PARK', 'LEXINGTONSWANSEA 2', 'ANDERSONFAILSAFE PROVISIONAL', 'BEAUFORTST. HELENA 1C', 'ANDERSONPROVISIONAL', 'BEAUFORTEMERGENCY', 'LEXINGTONLAKE MURRAY 2', 'CHESTEREMERGENCY', 'BEAUFORTBLUFF 3', 'LEXINGTONPINE RIDGE 2', 'BEAUFORTMO 1B', 'LEXINGTONLEXINGTON NO. 4', 'LEXINGTONCAYCE NO. 1', 'FAIRFIELDEMERGENCY', 'LEXINGTONBARR ROAD 1', 'BEAUFORTBLUFF 2B', 'YORKABSENTEE', 'ALLENDALEEMERGENCY', 'LEXINGTONST. DAVIDS', 'CHESTERFIELDEMERGENCY'}\n"
     ]
    }
   ],
   "source": [
    "primary_counties = set(pri_combined_df['precinct'].dropna().str.strip().str.upper())\n",
    "general_counties = set(gen_combined_df['precinct'].dropna().str.strip().str.upper())\n",
    "\n",
    "diff = primary_counties - general_counties\n",
    "print(f\"Counties in primary but not in general: {len(diff)}\")\n",
    "print(diff)\n"
   ]
  }
 ],
 "metadata": {
  "kernelspec": {
   "display_name": "Python 3",
   "language": "python",
   "name": "python3"
  },
  "language_info": {
   "codemirror_mode": {
    "name": "ipython",
    "version": 3
   },
   "file_extension": ".py",
   "mimetype": "text/x-python",
   "name": "python",
   "nbconvert_exporter": "python",
   "pygments_lexer": "ipython3",
   "version": "3.11.2"
  }
 },
 "nbformat": 4,
 "nbformat_minor": 5
}
