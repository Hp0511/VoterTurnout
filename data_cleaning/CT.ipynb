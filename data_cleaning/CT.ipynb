{
 "cells": [
  {
   "cell_type": "code",
   "execution_count": 3,
   "id": "ad1be0fa",
   "metadata": {},
   "outputs": [],
   "source": [
    "# Import all the libraries\n",
    "import pandas as pd\n",
    "import glob\n",
    "import os\n",
    "import re\n",
    "from pprint import pprint"
   ]
  },
  {
   "cell_type": "code",
   "execution_count": 4,
   "id": "c263c4df",
   "metadata": {},
   "outputs": [],
   "source": [
    "#Get all CSV files in the folder of GA\n",
    "all_files = glob.glob(r\"C:\\Huy Phan\\College\\VoterTurnout\\data\\CT\\*.csv\")\n",
    "\n",
    "# Files that contain both 'precinct' and 'general' in the filename\n",
    "general_files = [\n",
    "    f for f in all_files\n",
    "    if all(word in f.lower() for word in ['general'])\n",
    "]\n",
    "\n",
    "\n",
    "# Files that contain both 'precinct' and 'primary' in the filename\n",
    "primary_files = [\n",
    "    f for f in all_files\n",
    "    if all(word in f.lower() for word in ['primary'])\n",
    "]\n"
   ]
  },
  {
   "cell_type": "code",
   "execution_count": 5,
   "id": "60d49ea6",
   "metadata": {},
   "outputs": [
    {
     "name": "stdout",
     "output_type": "stream",
     "text": [
      "General files:\n",
      "C:\\Huy Phan\\College\\VoterTurnout\\data\\CT\\20161108__ct__general__precinct.csv\n"
     ]
    },
    {
     "data": {
      "text/plain": [
       "1"
      ]
     },
     "execution_count": 5,
     "metadata": {},
     "output_type": "execute_result"
    }
   ],
   "source": [
    "print(\"General files:\")\n",
    "for f in general_files:\n",
    "    print(f)\n",
    "len(general_files)"
   ]
  },
  {
   "cell_type": "code",
   "execution_count": 6,
   "id": "4ab13110",
   "metadata": {},
   "outputs": [
    {
     "name": "stdout",
     "output_type": "stream",
     "text": [
      "\n",
      "Primary files:\n",
      "C:\\Huy Phan\\College\\VoterTurnout\\data\\CT\\20160426__ct__primary__president.csv\n"
     ]
    }
   ],
   "source": [
    "print(\"\\nPrimary files:\")\n",
    "for f in primary_files:\n",
    "    print(f)"
   ]
  },
  {
   "cell_type": "code",
   "execution_count": 7,
   "id": "ff5df6c7",
   "metadata": {},
   "outputs": [
    {
     "data": {
      "application/vnd.microsoft.datawrangler.viewer.v0+json": {
       "columns": [
        {
         "name": "index",
         "rawType": "int64",
         "type": "integer"
        },
        {
         "name": "town",
         "rawType": "object",
         "type": "unknown"
        },
        {
         "name": "office",
         "rawType": "object",
         "type": "string"
        },
        {
         "name": "district",
         "rawType": "float64",
         "type": "float"
        },
        {
         "name": "party",
         "rawType": "object",
         "type": "string"
        },
        {
         "name": "candidate",
         "rawType": "object",
         "type": "string"
        },
        {
         "name": "votes",
         "rawType": "object",
         "type": "string"
        },
        {
         "name": "precinct",
         "rawType": "object",
         "type": "unknown"
        }
       ],
       "ref": "57c064a7-29b4-4e13-ac42-02076a1d4faf",
       "rows": [
        [
         "0",
         "Andover",
         "President",
         null,
         "DEM",
         "De La Fuente",
         "1",
         "ANDOVER"
        ],
        [
         "1",
         "Ansonia",
         "President",
         null,
         "DEM",
         "De La Fuente",
         "6",
         "ANSONIA"
        ],
        [
         "2",
         "Ashford",
         "President",
         null,
         "DEM",
         "De La Fuente",
         "3",
         "ASHFORD"
        ],
        [
         "3",
         "Avon",
         "President",
         null,
         "DEM",
         "De La Fuente",
         "5",
         "AVON"
        ],
        [
         "4",
         "Barkhamsted",
         "President",
         null,
         "DEM",
         "De La Fuente",
         "2",
         "BARKHAMSTED"
        ],
        [
         "5",
         "Beacon Falls",
         "President",
         null,
         "DEM",
         "De La Fuente",
         "4",
         "BEACON FALLS"
        ],
        [
         "6",
         "Berlin",
         "President",
         null,
         "DEM",
         "De La Fuente",
         "11",
         "BERLIN"
        ],
        [
         "7",
         "Bethany",
         "President",
         null,
         "DEM",
         "De La Fuente",
         "2",
         "BETHANY"
        ],
        [
         "8",
         "Bethel",
         "President",
         null,
         "DEM",
         "De La Fuente",
         "9",
         "BETHEL"
        ],
        [
         "9",
         "Bethlehem",
         "President",
         null,
         "DEM",
         "De La Fuente",
         "0",
         "BETHLEHEM"
        ],
        [
         "10",
         "Bloomfield",
         "President",
         null,
         "DEM",
         "De La Fuente",
         "5",
         "BLOOMFIELD"
        ],
        [
         "11",
         "Bolton",
         "President",
         null,
         "DEM",
         "De La Fuente",
         "2",
         "BOLTON"
        ],
        [
         "12",
         "Bozrah",
         "President",
         null,
         "DEM",
         "De La Fuente",
         "1",
         "BOZRAH"
        ],
        [
         "13",
         "Branford",
         "President",
         null,
         "DEM",
         "De La Fuente",
         "8",
         "BRANFORD"
        ],
        [
         "14",
         "Bridgeport",
         "President",
         null,
         "DEM",
         "De La Fuente",
         "36",
         "BRIDGEPORT"
        ],
        [
         "15",
         "Bridgewater",
         "President",
         null,
         "DEM",
         "De La Fuente",
         "0",
         "BRIDGEWATER"
        ],
        [
         "16",
         "Bristol",
         "President",
         null,
         "DEM",
         "De La Fuente",
         "26",
         "BRISTOL"
        ],
        [
         "17",
         "Brookfield",
         "President",
         null,
         "DEM",
         "De La Fuente",
         "2",
         "BROOKFIELD"
        ],
        [
         "18",
         "Brooklyn",
         "President",
         null,
         "DEM",
         "De La Fuente",
         "2",
         "BROOKLYN"
        ],
        [
         "19",
         "Burlington",
         "President",
         null,
         "DEM",
         "De La Fuente",
         "3",
         "BURLINGTON"
        ],
        [
         "20",
         "Canaan",
         "President",
         null,
         "DEM",
         "De La Fuente",
         "0",
         "CANAAN"
        ],
        [
         "21",
         "Canterbury",
         "President",
         null,
         "DEM",
         "De La Fuente",
         "1",
         "CANTERBURY"
        ],
        [
         "22",
         "Canton",
         "President",
         null,
         "DEM",
         "De La Fuente",
         "6",
         "CANTON"
        ],
        [
         "23",
         "Chaplin",
         "President",
         null,
         "DEM",
         "De La Fuente",
         "0",
         "CHAPLIN"
        ],
        [
         "24",
         "Cheshire",
         "President",
         null,
         "DEM",
         "De La Fuente",
         "4",
         "CHESHIRE"
        ],
        [
         "25",
         "Chester",
         "President",
         null,
         "DEM",
         "De La Fuente",
         "1",
         "CHESTER"
        ],
        [
         "26",
         "Clinton",
         "President",
         null,
         "DEM",
         "De La Fuente",
         "0",
         "CLINTON"
        ],
        [
         "27",
         "Colchester",
         "President",
         null,
         "DEM",
         "De La Fuente",
         "6",
         "COLCHESTER"
        ],
        [
         "28",
         "Colebrook",
         "President",
         null,
         "DEM",
         "De La Fuente",
         "2",
         "COLEBROOK"
        ],
        [
         "29",
         "Columbia",
         "President",
         null,
         "DEM",
         "De La Fuente",
         "3",
         "COLUMBIA"
        ],
        [
         "30",
         "Cornwall",
         "President",
         null,
         "DEM",
         "De La Fuente",
         "0",
         "CORNWALL"
        ],
        [
         "31",
         "Coventry",
         "President",
         null,
         "DEM",
         "De La Fuente",
         "2",
         "COVENTRY"
        ],
        [
         "32",
         "Cromwell",
         "President",
         null,
         "DEM",
         "De La Fuente",
         "6",
         "CROMWELL"
        ],
        [
         "33",
         "Danbury",
         "President",
         null,
         "DEM",
         "De La Fuente",
         "15",
         "DANBURY"
        ],
        [
         "34",
         "Darien",
         "President",
         null,
         "DEM",
         "De La Fuente",
         "2",
         "DARIEN"
        ],
        [
         "35",
         "Deep River",
         "President",
         null,
         "DEM",
         "De La Fuente",
         "0",
         "DEEP RIVER"
        ],
        [
         "36",
         "Derby",
         "President",
         null,
         "DEM",
         "De La Fuente",
         "6",
         "DERBY"
        ],
        [
         "37",
         "Durham",
         "President",
         null,
         "DEM",
         "De La Fuente",
         "2",
         "DURHAM"
        ],
        [
         "38",
         "East Granby",
         "President",
         null,
         "DEM",
         "De La Fuente",
         "1",
         "EAST GRANBY"
        ],
        [
         "39",
         "East Haddam",
         "President",
         null,
         "DEM",
         "De La Fuente",
         "5",
         "EAST HADDAM"
        ],
        [
         "40",
         "East Hampton",
         "President",
         null,
         "DEM",
         "De La Fuente",
         "2",
         "EAST HAMPTON"
        ],
        [
         "41",
         "East Hartford",
         "President",
         null,
         "DEM",
         "De La Fuente",
         "13",
         "EAST HARTFORD"
        ],
        [
         "42",
         "East Haven",
         "President",
         null,
         "DEM",
         "De La Fuente",
         "9",
         "EAST HAVEN"
        ],
        [
         "43",
         "East Lyme",
         "President",
         null,
         "DEM",
         "De La Fuente",
         "3",
         "EAST LYME"
        ],
        [
         "44",
         "East Windsor",
         "President",
         null,
         "DEM",
         "De La Fuente",
         "4",
         "EAST WINDSOR"
        ],
        [
         "45",
         "Eastford",
         "President",
         null,
         "DEM",
         "De La Fuente",
         "1",
         "EASTFORD"
        ],
        [
         "46",
         "Easton",
         "President",
         null,
         "DEM",
         "De La Fuente",
         "3",
         "EASTON"
        ],
        [
         "47",
         "Ellington",
         "President",
         null,
         "DEM",
         "De La Fuente",
         "3",
         "ELLINGTON"
        ],
        [
         "48",
         "Enfield",
         "President",
         null,
         "DEM",
         "De La Fuente",
         "20",
         "ENFIELD"
        ],
        [
         "49",
         "Essex",
         "President",
         null,
         "DEM",
         "De La Fuente",
         "1",
         "ESSEX"
        ]
       ],
       "shape": {
        "columns": 7,
        "rows": 1525
       }
      },
      "text/html": [
       "<div>\n",
       "<style scoped>\n",
       "    .dataframe tbody tr th:only-of-type {\n",
       "        vertical-align: middle;\n",
       "    }\n",
       "\n",
       "    .dataframe tbody tr th {\n",
       "        vertical-align: top;\n",
       "    }\n",
       "\n",
       "    .dataframe thead th {\n",
       "        text-align: right;\n",
       "    }\n",
       "</style>\n",
       "<table border=\"1\" class=\"dataframe\">\n",
       "  <thead>\n",
       "    <tr style=\"text-align: right;\">\n",
       "      <th></th>\n",
       "      <th>town</th>\n",
       "      <th>office</th>\n",
       "      <th>district</th>\n",
       "      <th>party</th>\n",
       "      <th>candidate</th>\n",
       "      <th>votes</th>\n",
       "      <th>precinct</th>\n",
       "    </tr>\n",
       "  </thead>\n",
       "  <tbody>\n",
       "    <tr>\n",
       "      <th>0</th>\n",
       "      <td>Andover</td>\n",
       "      <td>President</td>\n",
       "      <td>NaN</td>\n",
       "      <td>DEM</td>\n",
       "      <td>De La Fuente</td>\n",
       "      <td>1</td>\n",
       "      <td>ANDOVER</td>\n",
       "    </tr>\n",
       "    <tr>\n",
       "      <th>1</th>\n",
       "      <td>Ansonia</td>\n",
       "      <td>President</td>\n",
       "      <td>NaN</td>\n",
       "      <td>DEM</td>\n",
       "      <td>De La Fuente</td>\n",
       "      <td>6</td>\n",
       "      <td>ANSONIA</td>\n",
       "    </tr>\n",
       "    <tr>\n",
       "      <th>2</th>\n",
       "      <td>Ashford</td>\n",
       "      <td>President</td>\n",
       "      <td>NaN</td>\n",
       "      <td>DEM</td>\n",
       "      <td>De La Fuente</td>\n",
       "      <td>3</td>\n",
       "      <td>ASHFORD</td>\n",
       "    </tr>\n",
       "    <tr>\n",
       "      <th>3</th>\n",
       "      <td>Avon</td>\n",
       "      <td>President</td>\n",
       "      <td>NaN</td>\n",
       "      <td>DEM</td>\n",
       "      <td>De La Fuente</td>\n",
       "      <td>5</td>\n",
       "      <td>AVON</td>\n",
       "    </tr>\n",
       "    <tr>\n",
       "      <th>4</th>\n",
       "      <td>Barkhamsted</td>\n",
       "      <td>President</td>\n",
       "      <td>NaN</td>\n",
       "      <td>DEM</td>\n",
       "      <td>De La Fuente</td>\n",
       "      <td>2</td>\n",
       "      <td>BARKHAMSTED</td>\n",
       "    </tr>\n",
       "    <tr>\n",
       "      <th>...</th>\n",
       "      <td>...</td>\n",
       "      <td>...</td>\n",
       "      <td>...</td>\n",
       "      <td>...</td>\n",
       "      <td>...</td>\n",
       "      <td>...</td>\n",
       "      <td>...</td>\n",
       "    </tr>\n",
       "    <tr>\n",
       "      <th>1520</th>\n",
       "      <td>Windsor Locks</td>\n",
       "      <td>President</td>\n",
       "      <td>NaN</td>\n",
       "      <td>REP</td>\n",
       "      <td>Uncommitted</td>\n",
       "      <td>11</td>\n",
       "      <td>WINDSOR LOCKS</td>\n",
       "    </tr>\n",
       "    <tr>\n",
       "      <th>1521</th>\n",
       "      <td>Wolcott</td>\n",
       "      <td>President</td>\n",
       "      <td>NaN</td>\n",
       "      <td>REP</td>\n",
       "      <td>Uncommitted</td>\n",
       "      <td>8</td>\n",
       "      <td>WOLCOTT</td>\n",
       "    </tr>\n",
       "    <tr>\n",
       "      <th>1522</th>\n",
       "      <td>Woodbridge</td>\n",
       "      <td>President</td>\n",
       "      <td>NaN</td>\n",
       "      <td>REP</td>\n",
       "      <td>Uncommitted</td>\n",
       "      <td>5</td>\n",
       "      <td>WOODBRIDGE</td>\n",
       "    </tr>\n",
       "    <tr>\n",
       "      <th>1523</th>\n",
       "      <td>Woodbury</td>\n",
       "      <td>President</td>\n",
       "      <td>NaN</td>\n",
       "      <td>REP</td>\n",
       "      <td>Uncommitted</td>\n",
       "      <td>9</td>\n",
       "      <td>WOODBURY</td>\n",
       "    </tr>\n",
       "    <tr>\n",
       "      <th>1524</th>\n",
       "      <td>Woodstock</td>\n",
       "      <td>President</td>\n",
       "      <td>NaN</td>\n",
       "      <td>REP</td>\n",
       "      <td>Uncommitted</td>\n",
       "      <td>11</td>\n",
       "      <td>WOODSTOCK</td>\n",
       "    </tr>\n",
       "  </tbody>\n",
       "</table>\n",
       "<p>1525 rows × 7 columns</p>\n",
       "</div>"
      ],
      "text/plain": [
       "               town     office  district party     candidate votes  \\\n",
       "0           Andover  President       NaN   DEM  De La Fuente     1   \n",
       "1           Ansonia  President       NaN   DEM  De La Fuente     6   \n",
       "2           Ashford  President       NaN   DEM  De La Fuente     3   \n",
       "3              Avon  President       NaN   DEM  De La Fuente     5   \n",
       "4       Barkhamsted  President       NaN   DEM  De La Fuente     2   \n",
       "...             ...        ...       ...   ...           ...   ...   \n",
       "1520  Windsor Locks  President       NaN   REP   Uncommitted    11   \n",
       "1521        Wolcott  President       NaN   REP   Uncommitted     8   \n",
       "1522     Woodbridge  President       NaN   REP   Uncommitted     5   \n",
       "1523       Woodbury  President       NaN   REP   Uncommitted     9   \n",
       "1524      Woodstock  President       NaN   REP   Uncommitted    11   \n",
       "\n",
       "           precinct  \n",
       "0           ANDOVER  \n",
       "1           ANSONIA  \n",
       "2           ASHFORD  \n",
       "3              AVON  \n",
       "4       BARKHAMSTED  \n",
       "...             ...  \n",
       "1520  WINDSOR LOCKS  \n",
       "1521        WOLCOTT  \n",
       "1522     WOODBRIDGE  \n",
       "1523       WOODBURY  \n",
       "1524      WOODSTOCK  \n",
       "\n",
       "[1525 rows x 7 columns]"
      ]
     },
     "execution_count": 7,
     "metadata": {},
     "output_type": "execute_result"
    }
   ],
   "source": [
    "# Process primary files\n",
    "primary_df_list = []\n",
    "\n",
    "for file in primary_files:\n",
    "    try:\n",
    "        df = pd.read_csv(file)\n",
    "        \n",
    "        # CHOOSING PRESIDENT ONLY\n",
    "        # office, \n",
    "        # Combine precinct as county + precinct\n",
    "\n",
    "        # Filtering out only President \n",
    "        if 'office' in df.columns:\n",
    "            df = df[df[\"office\"].str.upper().str.contains(\"\\w*PRESIDENT\\w*\", na=False)]\n",
    "\n",
    "        # cleaning precinct\n",
    "        if 'precinct' in df.columns:\n",
    "            df['precinct'] = df['precinct'].astype(str)                  \n",
    "            df = df[df['precinct'].str.upper() != \"TOTAL\"]               \n",
    "            df = df[df['precinct'].str.strip().str.upper() != \"TOTAL\"]   \n",
    "            df = df[df['precinct'].str.upper() != \"NAN\"]        \n",
    "            df = df[df['precinct'].str.upper() != \"ELECTION TOTAL\"]     \n",
    "\n",
    "        df[\"precinct\"] = df[\"town\"].str.upper()\n",
    "    \n",
    "\n",
    "        \n",
    "        # Dropping duplicates value\n",
    "        df = df.drop_duplicates()\n",
    "        \n",
    "        primary_df_list.append(df)\n",
    "\n",
    "    except Exception as e:\n",
    "        print(f\"Error in {file}: {e}\")\n",
    "\n",
    "# Combine all cleaned files\n",
    "pri_combined_df = pd.concat(primary_df_list, ignore_index=True)\n",
    "\n",
    "# Checking any suspicious precinct\n",
    "suspicious_precincts = pri_combined_df[\n",
    "    pri_combined_df[\"precinct\"].str.strip().str.upper().isin([\"TOTAL\", \"NAN\"])\n",
    "]\n",
    "pri_combined_df\n"
   ]
  },
  {
   "cell_type": "code",
   "execution_count": 53,
   "id": "ed39be15",
   "metadata": {},
   "outputs": [],
   "source": [
    "# cleaning "
   ]
  },
  {
   "cell_type": "code",
   "execution_count": 9,
   "id": "f0e1e913",
   "metadata": {},
   "outputs": [
    {
     "data": {
      "application/vnd.microsoft.datawrangler.viewer.v0+json": {
       "columns": [
        {
         "name": "index",
         "rawType": "int64",
         "type": "integer"
        },
        {
         "name": "precinct",
         "rawType": "object",
         "type": "unknown"
        },
        {
         "name": "party",
         "rawType": "object",
         "type": "string"
        },
        {
         "name": "candidate",
         "rawType": "object",
         "type": "string"
        },
        {
         "name": "votes",
         "rawType": "object",
         "type": "string"
        }
       ],
       "ref": "11191c67-db2d-4191-ab4a-eb7ad8379172",
       "rows": [
        [
         "0",
         "ANDOVER",
         "DEM",
         "De La Fuente",
         "1"
        ],
        [
         "1",
         "ANSONIA",
         "DEM",
         "De La Fuente",
         "6"
        ],
        [
         "2",
         "ASHFORD",
         "DEM",
         "De La Fuente",
         "3"
        ],
        [
         "3",
         "AVON",
         "DEM",
         "De La Fuente",
         "5"
        ],
        [
         "4",
         "BARKHAMSTED",
         "DEM",
         "De La Fuente",
         "2"
        ],
        [
         "5",
         "BEACON FALLS",
         "DEM",
         "De La Fuente",
         "4"
        ],
        [
         "6",
         "BERLIN",
         "DEM",
         "De La Fuente",
         "11"
        ],
        [
         "7",
         "BETHANY",
         "DEM",
         "De La Fuente",
         "2"
        ],
        [
         "8",
         "BETHEL",
         "DEM",
         "De La Fuente",
         "9"
        ],
        [
         "9",
         "BETHLEHEM",
         "DEM",
         "De La Fuente",
         "0"
        ],
        [
         "10",
         "BLOOMFIELD",
         "DEM",
         "De La Fuente",
         "5"
        ],
        [
         "11",
         "BOLTON",
         "DEM",
         "De La Fuente",
         "2"
        ],
        [
         "12",
         "BOZRAH",
         "DEM",
         "De La Fuente",
         "1"
        ],
        [
         "13",
         "BRANFORD",
         "DEM",
         "De La Fuente",
         "8"
        ],
        [
         "14",
         "BRIDGEPORT",
         "DEM",
         "De La Fuente",
         "36"
        ],
        [
         "15",
         "BRIDGEWATER",
         "DEM",
         "De La Fuente",
         "0"
        ],
        [
         "16",
         "BRISTOL",
         "DEM",
         "De La Fuente",
         "26"
        ],
        [
         "17",
         "BROOKFIELD",
         "DEM",
         "De La Fuente",
         "2"
        ],
        [
         "18",
         "BROOKLYN",
         "DEM",
         "De La Fuente",
         "2"
        ],
        [
         "19",
         "BURLINGTON",
         "DEM",
         "De La Fuente",
         "3"
        ],
        [
         "20",
         "CANAAN",
         "DEM",
         "De La Fuente",
         "0"
        ],
        [
         "21",
         "CANTERBURY",
         "DEM",
         "De La Fuente",
         "1"
        ],
        [
         "22",
         "CANTON",
         "DEM",
         "De La Fuente",
         "6"
        ],
        [
         "23",
         "CHAPLIN",
         "DEM",
         "De La Fuente",
         "0"
        ],
        [
         "24",
         "CHESHIRE",
         "DEM",
         "De La Fuente",
         "4"
        ],
        [
         "25",
         "CHESTER",
         "DEM",
         "De La Fuente",
         "1"
        ],
        [
         "26",
         "CLINTON",
         "DEM",
         "De La Fuente",
         "0"
        ],
        [
         "27",
         "COLCHESTER",
         "DEM",
         "De La Fuente",
         "6"
        ],
        [
         "28",
         "COLEBROOK",
         "DEM",
         "De La Fuente",
         "2"
        ],
        [
         "29",
         "COLUMBIA",
         "DEM",
         "De La Fuente",
         "3"
        ],
        [
         "30",
         "CORNWALL",
         "DEM",
         "De La Fuente",
         "0"
        ],
        [
         "31",
         "COVENTRY",
         "DEM",
         "De La Fuente",
         "2"
        ],
        [
         "32",
         "CROMWELL",
         "DEM",
         "De La Fuente",
         "6"
        ],
        [
         "33",
         "DANBURY",
         "DEM",
         "De La Fuente",
         "15"
        ],
        [
         "34",
         "DARIEN",
         "DEM",
         "De La Fuente",
         "2"
        ],
        [
         "35",
         "DEEP RIVER",
         "DEM",
         "De La Fuente",
         "0"
        ],
        [
         "36",
         "DERBY",
         "DEM",
         "De La Fuente",
         "6"
        ],
        [
         "37",
         "DURHAM",
         "DEM",
         "De La Fuente",
         "2"
        ],
        [
         "38",
         "EAST GRANBY",
         "DEM",
         "De La Fuente",
         "1"
        ],
        [
         "39",
         "EAST HADDAM",
         "DEM",
         "De La Fuente",
         "5"
        ],
        [
         "40",
         "EAST HAMPTON",
         "DEM",
         "De La Fuente",
         "2"
        ],
        [
         "41",
         "EAST HARTFORD",
         "DEM",
         "De La Fuente",
         "13"
        ],
        [
         "42",
         "EAST HAVEN",
         "DEM",
         "De La Fuente",
         "9"
        ],
        [
         "43",
         "EAST LYME",
         "DEM",
         "De La Fuente",
         "3"
        ],
        [
         "44",
         "EAST WINDSOR",
         "DEM",
         "De La Fuente",
         "4"
        ],
        [
         "45",
         "EASTFORD",
         "DEM",
         "De La Fuente",
         "1"
        ],
        [
         "46",
         "EASTON",
         "DEM",
         "De La Fuente",
         "3"
        ],
        [
         "47",
         "ELLINGTON",
         "DEM",
         "De La Fuente",
         "3"
        ],
        [
         "48",
         "ENFIELD",
         "DEM",
         "De La Fuente",
         "20"
        ],
        [
         "49",
         "ESSEX",
         "DEM",
         "De La Fuente",
         "1"
        ]
       ],
       "shape": {
        "columns": 4,
        "rows": 1525
       }
      },
      "text/html": [
       "<div>\n",
       "<style scoped>\n",
       "    .dataframe tbody tr th:only-of-type {\n",
       "        vertical-align: middle;\n",
       "    }\n",
       "\n",
       "    .dataframe tbody tr th {\n",
       "        vertical-align: top;\n",
       "    }\n",
       "\n",
       "    .dataframe thead th {\n",
       "        text-align: right;\n",
       "    }\n",
       "</style>\n",
       "<table border=\"1\" class=\"dataframe\">\n",
       "  <thead>\n",
       "    <tr style=\"text-align: right;\">\n",
       "      <th></th>\n",
       "      <th>precinct</th>\n",
       "      <th>party</th>\n",
       "      <th>candidate</th>\n",
       "      <th>votes</th>\n",
       "    </tr>\n",
       "  </thead>\n",
       "  <tbody>\n",
       "    <tr>\n",
       "      <th>0</th>\n",
       "      <td>ANDOVER</td>\n",
       "      <td>DEM</td>\n",
       "      <td>De La Fuente</td>\n",
       "      <td>1</td>\n",
       "    </tr>\n",
       "    <tr>\n",
       "      <th>1</th>\n",
       "      <td>ANSONIA</td>\n",
       "      <td>DEM</td>\n",
       "      <td>De La Fuente</td>\n",
       "      <td>6</td>\n",
       "    </tr>\n",
       "    <tr>\n",
       "      <th>2</th>\n",
       "      <td>ASHFORD</td>\n",
       "      <td>DEM</td>\n",
       "      <td>De La Fuente</td>\n",
       "      <td>3</td>\n",
       "    </tr>\n",
       "    <tr>\n",
       "      <th>3</th>\n",
       "      <td>AVON</td>\n",
       "      <td>DEM</td>\n",
       "      <td>De La Fuente</td>\n",
       "      <td>5</td>\n",
       "    </tr>\n",
       "    <tr>\n",
       "      <th>4</th>\n",
       "      <td>BARKHAMSTED</td>\n",
       "      <td>DEM</td>\n",
       "      <td>De La Fuente</td>\n",
       "      <td>2</td>\n",
       "    </tr>\n",
       "    <tr>\n",
       "      <th>...</th>\n",
       "      <td>...</td>\n",
       "      <td>...</td>\n",
       "      <td>...</td>\n",
       "      <td>...</td>\n",
       "    </tr>\n",
       "    <tr>\n",
       "      <th>1520</th>\n",
       "      <td>WINDSOR LOCKS</td>\n",
       "      <td>REP</td>\n",
       "      <td>Uncommitted</td>\n",
       "      <td>11</td>\n",
       "    </tr>\n",
       "    <tr>\n",
       "      <th>1521</th>\n",
       "      <td>WOLCOTT</td>\n",
       "      <td>REP</td>\n",
       "      <td>Uncommitted</td>\n",
       "      <td>8</td>\n",
       "    </tr>\n",
       "    <tr>\n",
       "      <th>1522</th>\n",
       "      <td>WOODBRIDGE</td>\n",
       "      <td>REP</td>\n",
       "      <td>Uncommitted</td>\n",
       "      <td>5</td>\n",
       "    </tr>\n",
       "    <tr>\n",
       "      <th>1523</th>\n",
       "      <td>WOODBURY</td>\n",
       "      <td>REP</td>\n",
       "      <td>Uncommitted</td>\n",
       "      <td>9</td>\n",
       "    </tr>\n",
       "    <tr>\n",
       "      <th>1524</th>\n",
       "      <td>WOODSTOCK</td>\n",
       "      <td>REP</td>\n",
       "      <td>Uncommitted</td>\n",
       "      <td>11</td>\n",
       "    </tr>\n",
       "  </tbody>\n",
       "</table>\n",
       "<p>1525 rows × 4 columns</p>\n",
       "</div>"
      ],
      "text/plain": [
       "           precinct party     candidate votes\n",
       "0           ANDOVER   DEM  De La Fuente     1\n",
       "1           ANSONIA   DEM  De La Fuente     6\n",
       "2           ASHFORD   DEM  De La Fuente     3\n",
       "3              AVON   DEM  De La Fuente     5\n",
       "4       BARKHAMSTED   DEM  De La Fuente     2\n",
       "...             ...   ...           ...   ...\n",
       "1520  WINDSOR LOCKS   REP   Uncommitted    11\n",
       "1521        WOLCOTT   REP   Uncommitted     8\n",
       "1522     WOODBRIDGE   REP   Uncommitted     5\n",
       "1523       WOODBURY   REP   Uncommitted     9\n",
       "1524      WOODSTOCK   REP   Uncommitted    11\n",
       "\n",
       "[1525 rows x 4 columns]"
      ]
     },
     "execution_count": 9,
     "metadata": {},
     "output_type": "execute_result"
    }
   ],
   "source": [
    "# Select only the relevant columns\n",
    "primary_data = pri_combined_df[[\"precinct\", \"party\", \"candidate\", \"votes\"]]\n",
    "\n",
    "primary_data"
   ]
  },
  {
   "cell_type": "code",
   "execution_count": 10,
   "id": "dc2ffa15",
   "metadata": {},
   "outputs": [
    {
     "data": {
      "application/vnd.microsoft.datawrangler.viewer.v0+json": {
       "columns": [
        {
         "name": "candidate",
         "rawType": "object",
         "type": "string"
        },
        {
         "name": "count",
         "rawType": "int64",
         "type": "integer"
        }
       ],
       "ref": "d18fb4ce-6cc1-4abe-ad7a-998571d029ae",
       "rows": [
        [
         "Uncommitted",
         "339"
        ],
        [
         "De La Fuente",
         "170"
        ],
        [
         "Clinton",
         "170"
        ],
        [
         "Sanders",
         "170"
        ],
        [
         "Cruz",
         "169"
        ],
        [
         "Carson",
         "169"
        ],
        [
         "Trump",
         "169"
        ],
        [
         "Kasich",
         "169"
        ]
       ],
       "shape": {
        "columns": 1,
        "rows": 8
       }
      },
      "text/plain": [
       "candidate\n",
       "Uncommitted     339\n",
       "De La Fuente    170\n",
       "Clinton         170\n",
       "Sanders         170\n",
       "Cruz            169\n",
       "Carson          169\n",
       "Trump           169\n",
       "Kasich          169\n",
       "Name: count, dtype: int64"
      ]
     },
     "execution_count": 10,
     "metadata": {},
     "output_type": "execute_result"
    }
   ],
   "source": [
    "# Viewing candidate data\n",
    "primary_data[\"candidate\"].value_counts(dropna=False)"
   ]
  },
  {
   "cell_type": "code",
   "execution_count": 11,
   "id": "5eef8778",
   "metadata": {},
   "outputs": [
    {
     "name": "stderr",
     "output_type": "stream",
     "text": [
      "C:\\Users\\ADMIN\\AppData\\Local\\Temp\\ipykernel_32564\\2623341596.py:4: SettingWithCopyWarning: \n",
      "A value is trying to be set on a copy of a slice from a DataFrame.\n",
      "Try using .loc[row_indexer,col_indexer] = value instead\n",
      "\n",
      "See the caveats in the documentation: https://pandas.pydata.org/pandas-docs/stable/user_guide/indexing.html#returning-a-view-versus-a-copy\n",
      "  primary_data[\"candidate\"] = primary_data[\"candidate\"].astype(str).str.upper()\n",
      "C:\\Users\\ADMIN\\AppData\\Local\\Temp\\ipykernel_32564\\2623341596.py:20: SettingWithCopyWarning: \n",
      "A value is trying to be set on a copy of a slice from a DataFrame.\n",
      "Try using .loc[row_indexer,col_indexer] = value instead\n",
      "\n",
      "See the caveats in the documentation: https://pandas.pydata.org/pandas-docs/stable/user_guide/indexing.html#returning-a-view-versus-a-copy\n",
      "  primary_data[\"candidate\"] = (\n",
      "C:\\Users\\ADMIN\\AppData\\Local\\Temp\\ipykernel_32564\\2623341596.py:33: SettingWithCopyWarning: \n",
      "A value is trying to be set on a copy of a slice from a DataFrame.\n",
      "Try using .loc[row_indexer,col_indexer] = value instead\n",
      "\n",
      "See the caveats in the documentation: https://pandas.pydata.org/pandas-docs/stable/user_guide/indexing.html#returning-a-view-versus-a-copy\n",
      "  primary_data[\"candidate\"] = primary_data[\"candidate\"].str.split().str[-1]\n",
      "C:\\Users\\ADMIN\\AppData\\Local\\Temp\\ipykernel_32564\\2623341596.py:60: SettingWithCopyWarning: \n",
      "A value is trying to be set on a copy of a slice from a DataFrame.\n",
      "Try using .loc[row_indexer,col_indexer] = value instead\n",
      "\n",
      "See the caveats in the documentation: https://pandas.pydata.org/pandas-docs/stable/user_guide/indexing.html#returning-a-view-versus-a-copy\n",
      "  primary_data[\"candidate\"] = (\n"
     ]
    },
    {
     "data": {
      "application/vnd.microsoft.datawrangler.viewer.v0+json": {
       "columns": [
        {
         "name": "candidate",
         "rawType": "object",
         "type": "string"
        },
        {
         "name": "count",
         "rawType": "int64",
         "type": "integer"
        }
       ],
       "ref": "36bc52ef-c437-4328-a986-8713519d3d76",
       "rows": [
        [
         "FUENTE",
         "170"
        ],
        [
         "CLINTON",
         "170"
        ],
        [
         "SANDERS",
         "170"
        ],
        [
         "CRUZ",
         "169"
        ],
        [
         "CARSON",
         "169"
        ],
        [
         "TRUMP",
         "169"
        ],
        [
         "KASICH",
         "169"
        ]
       ],
       "shape": {
        "columns": 1,
        "rows": 7
       }
      },
      "text/plain": [
       "candidate\n",
       "FUENTE     170\n",
       "CLINTON    170\n",
       "SANDERS    170\n",
       "CRUZ       169\n",
       "CARSON     169\n",
       "TRUMP      169\n",
       "KASICH     169\n",
       "Name: count, dtype: int64"
      ]
     },
     "execution_count": 11,
     "metadata": {},
     "output_type": "execute_result"
    }
   ],
   "source": [
    "# Cleaning Candidates\n",
    "\n",
    "# Turning all primary data to uppercase\n",
    "primary_data[\"candidate\"] = primary_data[\"candidate\"].astype(str).str.upper()\n",
    "\n",
    "unwanted_keywords = [\n",
    "    r\"\\w*VOTE\\w*\",\n",
    "    r\"\\w*UNCOM\\w*\",\n",
    "    r\"\\w*TOTAL\\w*\",\n",
    "    r\"\\w*NUMBER\\w*\",\n",
    "    r\"\\w*TIME\\w*\",\n",
    "]\n",
    "\n",
    "pattern = \"|\".join(unwanted_keywords)\n",
    "\n",
    "# Assuming candidate column is already string and uppercase\n",
    "primary_data = primary_data[~primary_data[\"candidate\"].str.upper().str.contains(pattern, regex=True, na=False)]\n",
    "\n",
    "# Fixing the , candidate\n",
    "primary_data[\"candidate\"] = (\n",
    "    primary_data[\"candidate\"].str.split(\",\")\n",
    "    .str[0]\n",
    "    .str.strip()\n",
    "    )\n",
    "\n",
    "# Fixing De la Fuente\n",
    "primary_data.loc[\n",
    "    primary_data[\"candidate\"].str.contains(\"\\w*FUEN\\w*\", case=False, na=False),\n",
    "    \"candidate\"\n",
    "] = \"FUENTE\"\n",
    "\n",
    "#Selecting only last name\n",
    "primary_data[\"candidate\"] = primary_data[\"candidate\"].str.split().str[-1]\n",
    "\n",
    "# Fixing Huckabee\n",
    "primary_data.loc[\n",
    "    primary_data[\"candidate\"].str.contains(\"\\w*ABEE\\w*\", case=False, na=False),\n",
    "    \"candidate\"\n",
    "] = \"HUCKABEE\"\n",
    "\n",
    "# Fixing Fiorina\n",
    "primary_data.loc[\n",
    "    primary_data[\"candidate\"].str.contains(\"\\w*ORINA\\W*\", case=False, na=False),\n",
    "    \"candidate\"\n",
    "] = \"FIORINA\"\n",
    "\n",
    "# Fixing Gray\n",
    "primary_data.loc[\n",
    "    primary_data[\"candidate\"].str.contains(\"GREY\", case=False, na=False),\n",
    "    \"candidate\"\n",
    "] = \"GRAY\"\n",
    "\n",
    "# Fixing Wilson\n",
    "primary_data.loc[\n",
    "    primary_data[\"candidate\"].str.contains(\"WISON\", case=False, na=False),\n",
    "    \"candidate\"\n",
    "] = \"WILSON\"\n",
    "\n",
    "# Fixing the , candidate\n",
    "primary_data[\"candidate\"] = (\n",
    "    primary_data[\"candidate\"].str.split(\",\")\n",
    "    .str[0]\n",
    "    .str.strip()\n",
    "    )\n",
    "# Fixing separator \n",
    "# primary_data[\"candidate\"] = (\n",
    "#     primary_data[\"candidate\"]\n",
    "#     .str.split(r\"\\s*(?:and|/|&|–|-|\\+)\\s*\", n=1, expand=True)[0]\n",
    "#     .str.strip()\n",
    "#     .str.upper()\n",
    "# )\n",
    "\n",
    "# # Fixing McMullin\n",
    "\n",
    "# primary_data.loc[\n",
    "#     (\n",
    "#         primary_data[\"candidate\"].str.contains(\"MCMULLIN\", case=False, na=False) |\n",
    "#         primary_data[\"candidate\"].str.contains(\"EVAN MCMULLEN\", case=False, na=False)\n",
    "#     ),\n",
    "#     \"candidate\"\n",
    "# ] = \"MCMULLIN\"\n",
    "\n",
    "primary_data[\"candidate\"].value_counts(dropna=False)"
   ]
  },
  {
   "cell_type": "code",
   "execution_count": 12,
   "id": "dcc76af7",
   "metadata": {},
   "outputs": [
    {
     "data": {
      "application/vnd.microsoft.datawrangler.viewer.v0+json": {
       "columns": [
        {
         "name": "party",
         "rawType": "object",
         "type": "string"
        },
        {
         "name": "count",
         "rawType": "int64",
         "type": "integer"
        }
       ],
       "ref": "f789a0a3-e3f7-43c6-b62e-61eaeab80b66",
       "rows": [
        [
         "REP",
         "676"
        ],
        [
         "DEM",
         "510"
        ]
       ],
       "shape": {
        "columns": 1,
        "rows": 2
       }
      },
      "text/plain": [
       "party\n",
       "REP    676\n",
       "DEM    510\n",
       "Name: count, dtype: int64"
      ]
     },
     "execution_count": 12,
     "metadata": {},
     "output_type": "execute_result"
    }
   ],
   "source": [
    "# Viewing Party\n",
    "primary_data[\"party\"].value_counts(dropna=False)"
   ]
  },
  {
   "cell_type": "code",
   "execution_count": 58,
   "id": "582aa6c5",
   "metadata": {},
   "outputs": [
    {
     "name": "stderr",
     "output_type": "stream",
     "text": [
      "C:\\Users\\ADMIN\\AppData\\Local\\Temp\\ipykernel_29772\\509361827.py:49: SettingWithCopyWarning: \n",
      "A value is trying to be set on a copy of a slice from a DataFrame.\n",
      "Try using .loc[row_indexer,col_indexer] = value instead\n",
      "\n",
      "See the caveats in the documentation: https://pandas.pydata.org/pandas-docs/stable/user_guide/indexing.html#returning-a-view-versus-a-copy\n",
      "  primary_data[\"party\"] = primary_data.apply(\n"
     ]
    },
    {
     "data": {
      "application/vnd.microsoft.datawrangler.viewer.v0+json": {
       "columns": [
        {
         "name": "party",
         "rawType": "object",
         "type": "string"
        },
        {
         "name": "count",
         "rawType": "int64",
         "type": "integer"
        }
       ],
       "ref": "febdc0bc-8dce-4781-87f4-07339ba4aa47",
       "rows": [
        [
         "REP",
         "5768"
        ],
        [
         "DEM",
         "2472"
        ],
        [
         "GRN",
         "824"
        ],
        [
         "REPUBLICAN PARTY",
         "112"
        ],
        [
         "DEMOCRATIC PARTY",
         "48"
        ],
        [
         "GREEN PARTY",
         "16"
        ]
       ],
       "shape": {
        "columns": 1,
        "rows": 6
       }
      },
      "text/plain": [
       "party\n",
       "REP                 5768\n",
       "DEM                 2472\n",
       "GRN                  824\n",
       "REPUBLICAN PARTY     112\n",
       "DEMOCRATIC PARTY      48\n",
       "GREEN PARTY           16\n",
       "Name: count, dtype: int64"
      ]
     },
     "execution_count": 58,
     "metadata": {},
     "output_type": "execute_result"
    }
   ],
   "source": [
    "#=====================================\n",
    "# This function is used to look up party\n",
    "# for the candidate in the same df\n",
    "#=====================================\n",
    "def fill_party_from_data(row, df):\n",
    "    if pd.notna(row[\"party\"]):\n",
    "        return row[\"party\"]\n",
    "    \n",
    "    # Try to find other rows with the same candidate and known party\n",
    "    matches = df[(df[\"candidate\"] == row[\"candidate\"]) & (df[\"party\"].notna())]\n",
    "    if not matches.empty:\n",
    "        return matches[\"party\"].iloc[0]  # Return the first match's party\n",
    "    else:\n",
    "        return None  # Still unknown\n",
    "    \n",
    "\n",
    "#=====================================\n",
    "# Function to fill remaining missing party from master lookup\n",
    "#=====================================\n",
    "def fill_party_from_master(df, master_df):\n",
    "    party_map = master_df.set_index(\"candidate\")[\"party\"].to_dict()\n",
    "    df[\"party\"] = df.apply(\n",
    "        lambda row: party_map.get(row[\"candidate\"], row[\"party\"])\n",
    "        if pd.isna(row[\"party\"]) else row[\"party\"],\n",
    "        axis=1\n",
    "    )\n",
    "    return df\n",
    "\n",
    "\n",
    "#=====================================\n",
    "# Function to update the master candidate-party CSV\n",
    "#=====================================\n",
    "def update_master_candidate_party(df, master_path):\n",
    "    # Read the existing master file\n",
    "    master_df = pd.read_csv(master_path)\n",
    "    \n",
    "    # Combine unique pairs\n",
    "    new_data = df[[\"candidate\", \"party\"]].dropna().drop_duplicates()\n",
    "    updated_master = pd.concat([master_df, new_data]).drop_duplicates(subset=\"candidate\")\n",
    "\n",
    "    # Save updated version\n",
    "    updated_master.to_csv(master_path, index=False)\n",
    "\n",
    "\n",
    "#=====================================\n",
    "# Example usage (uncomment and modify for your workflow)\n",
    "#=====================================\n",
    "# Fill party using internal data\n",
    "primary_data[\"party\"] = primary_data.apply(\n",
    "    lambda row: fill_party_from_data(row, primary_data),\n",
    "    axis=1\n",
    ")\n",
    "\n",
    "# Fill remaining party using general master CSV\n",
    "# master_party_df = pd.read_csv(\"data/master_primary_candidate_party.csv\")\n",
    "# general_data = fill_party_from_master(general_data, master_party_df)\n",
    "\n",
    "# STEP 3: Update master file with new (candidate, party) pairs\n",
    "# update_master_candidate_party(general_data, \"data/master_candidate_party.csv\")\n",
    "primary_data[\"party\"].value_counts(dropna=False)\n"
   ]
  },
  {
   "cell_type": "code",
   "execution_count": 14,
   "id": "34361751",
   "metadata": {},
   "outputs": [
    {
     "data": {
      "application/vnd.microsoft.datawrangler.viewer.v0+json": {
       "columns": [
        {
         "name": "party",
         "rawType": "object",
         "type": "string"
        },
        {
         "name": "count",
         "rawType": "int64",
         "type": "integer"
        }
       ],
       "ref": "7083e1cb-434c-437a-8084-08edf383c671",
       "rows": [
        [
         "REP",
         "676"
        ],
        [
         "DEM",
         "510"
        ]
       ],
       "shape": {
        "columns": 1,
        "rows": 2
       }
      },
      "text/plain": [
       "party\n",
       "REP    676\n",
       "DEM    510\n",
       "Name: count, dtype: int64"
      ]
     },
     "execution_count": 14,
     "metadata": {},
     "output_type": "execute_result"
    }
   ],
   "source": [
    "# Cleaning Party\n",
    "# primary_data[\"party\"] = primary_data.apply(\n",
    "#     lambda row: fill_party_from_data(row, primary_data),\n",
    "#     axis=1\n",
    "# # )\n",
    "# primary_data.loc[:,\"party\"] = (\n",
    "#     primary_data[\"party\"]\n",
    "#     .replace({\n",
    "#         \"REPUBLICAN PARTY\": \"REP\",\n",
    "#         \"R\": \"REP\",\n",
    "#         \"Republican\":\"REP\",\n",
    "#         \"DEMOCRATIC PARTY\": \"DEM\",\n",
    "#         \"D\": \"DEM\",\n",
    "#         \"Democratic\": \"DEM\",\n",
    "#         \"GREEN PARTY\":\"GRN\"\n",
    "#     })\n",
    "#     .fillna(\"IND\")\n",
    "# )\n",
    "primary_data[\"party\"].value_counts(dropna=False)"
   ]
  },
  {
   "cell_type": "code",
   "execution_count": 16,
   "id": "a359cd18",
   "metadata": {},
   "outputs": [
    {
     "data": {
      "application/vnd.microsoft.datawrangler.viewer.v0+json": {
       "columns": [
        {
         "name": "index",
         "rawType": "int64",
         "type": "integer"
        },
        {
         "name": "precinct",
         "rawType": "object",
         "type": "string"
        },
        {
         "name": "pri_dem_CLINTON",
         "rawType": "object",
         "type": "unknown"
        },
        {
         "name": "pri_dem_FUENTE",
         "rawType": "object",
         "type": "unknown"
        },
        {
         "name": "pri_dem_SANDERS",
         "rawType": "object",
         "type": "unknown"
        },
        {
         "name": "pri_rep_CARSON",
         "rawType": "object",
         "type": "unknown"
        },
        {
         "name": "pri_rep_CRUZ",
         "rawType": "object",
         "type": "unknown"
        },
        {
         "name": "pri_rep_KASICH",
         "rawType": "object",
         "type": "unknown"
        },
        {
         "name": "pri_rep_TRUMP",
         "rawType": "object",
         "type": "unknown"
        }
       ],
       "ref": "b025e06a-10ea-44b5-b90a-995882492a77",
       "rows": [
        [
         "0",
         "ANDOVER",
         "145",
         "1",
         "259",
         "4",
         "42",
         "80",
         "163"
        ],
        [
         "1",
         "ANSONIA",
         "584",
         "6",
         "598",
         "10",
         "116",
         "96",
         "497"
        ],
        [
         "2",
         "ASHFORD",
         "212",
         "3",
         "377",
         "12",
         "50",
         "70",
         "158"
        ],
        [
         "3",
         "AVON",
         "1097",
         "5",
         "771",
         "9",
         "242",
         "811",
         "1027"
        ],
        [
         "4",
         "BARKHAMSTED",
         "137",
         "2",
         "210",
         "9",
         "68",
         "127",
         "242"
        ],
        [
         "5",
         "BEACON FALLS",
         "150",
         "4",
         "270",
         "3",
         "64",
         "89",
         "358"
        ],
        [
         "6",
         "BERLIN",
         "1007",
         "11",
         "1108",
         "18",
         "180",
         "437",
         "1256"
        ],
        [
         "7",
         "BETHANY",
         "310",
         "2",
         "376",
         "5",
         "70",
         "138",
         "379"
        ],
        [
         "8",
         "BETHEL",
         "737",
         "9",
         "837",
         "23",
         "171",
         "372",
         "1025"
        ],
        [
         "9",
         "BETHLEHEM",
         "144",
         "0",
         "226",
         "4",
         "49",
         "84",
         "348"
        ],
        [
         "10",
         "BLOOMFIELD",
         "2821",
         "5",
         "942",
         "11",
         "95",
         "291",
         "304"
        ],
        [
         "11",
         "BOLTON",
         "251",
         "2",
         "350",
         "8",
         "71",
         "144",
         "307"
        ],
        [
         "12",
         "BOZRAH",
         "102",
         "1",
         "163",
         "2",
         "28",
         "42",
         "100"
        ],
        [
         "13",
         "BRANFORD",
         "1626",
         "8",
         "1684",
         "11",
         "230",
         "420",
         "1010"
        ],
        [
         "14",
         "BRIDGEPORT",
         "7278",
         "36",
         "3756",
         "29",
         "215",
         "251",
         "694"
        ],
        [
         "15",
         "BRIDGEWATER",
         "95",
         "0",
         "125",
         "2",
         "31",
         "70",
         "147"
        ],
        [
         "16",
         "BRISTOL",
         "2235",
         "26",
         "2735",
         "22",
         "439",
         "620",
         "1971"
        ],
        [
         "17",
         "BROOKFIELD",
         "598",
         "2",
         "620",
         "19",
         "204",
         "497",
         "1090"
        ],
        [
         "18",
         "BROOKLYN",
         "225",
         "2",
         "315",
         "6",
         "57",
         "120",
         "313"
        ],
        [
         "19",
         "BURLINGTON",
         "402",
         "3",
         "459",
         "5",
         "117",
         "244",
         "544"
        ],
        [
         "20",
         "CANAAN",
         "54",
         "0",
         "126",
         "1",
         "13",
         "30",
         "52"
        ],
        [
         "21",
         "CANTERBURY",
         "133",
         "1",
         "212",
         "9",
         "85",
         "84",
         "351"
        ],
        [
         "22",
         "CANTON",
         "540",
         "6",
         "674",
         "23",
         "142",
         "362",
         "595"
        ],
        [
         "23",
         "CHAPLIN",
         "69",
         "0",
         "140",
         "2",
         "30",
         "38",
         "129"
        ],
        [
         "24",
         "CHESHIRE",
         "1342",
         "4",
         "1254",
         "18",
         "312",
         "694",
         "1364"
        ],
        [
         "25",
         "CHESTER",
         "277",
         "1",
         "361",
         "2",
         "27",
         "103",
         "133"
        ],
        [
         "26",
         "CLINTON",
         "632",
         "0",
         "723",
         "16",
         "130",
         "295",
         "705"
        ],
        [
         "27",
         "COLCHESTER",
         "624",
         "6",
         "977",
         "10",
         "174",
         "322",
         "698"
        ],
        [
         "28",
         "COLEBROOK",
         "53",
         "2",
         "86",
         "0",
         "22",
         "23",
         "97"
        ],
        [
         "29",
         "COLUMBIA",
         "267",
         "3",
         "408",
         "1",
         "58",
         "132",
         "309"
        ],
        [
         "30",
         "CORNWALL",
         "141",
         "0",
         "199",
         "0",
         "7",
         "43",
         "54"
        ],
        [
         "31",
         "COVENTRY",
         "521",
         "2",
         "761",
         "4",
         "125",
         "227",
         "525"
        ],
        [
         "32",
         "CROMWELL",
         "731",
         "6",
         "718",
         "8",
         "126",
         "329",
         "632"
        ],
        [
         "33",
         "DANBURY",
         "2318",
         "15",
         "1907",
         "30",
         "388",
         "651",
         "2097"
        ],
        [
         "34",
         "DARIEN",
         "832",
         "2",
         "363",
         "15",
         "186",
         "1284",
         "1070"
        ],
        [
         "35",
         "DEEP RIVER",
         "242",
         "0",
         "339",
         "5",
         "29",
         "94",
         "173"
        ],
        [
         "36",
         "DERBY",
         "460",
         "6",
         "494",
         "1",
         "55",
         "59",
         "357"
        ],
        [
         "37",
         "DURHAM",
         "303",
         "2",
         "408",
         "8",
         "98",
         "224",
         "473"
        ],
        [
         "38",
         "EAST GRANBY",
         "244",
         "1",
         "283",
         "5",
         "70",
         "178",
         "302"
        ],
        [
         "39",
         "EAST HADDAM",
         "407",
         "5",
         "570",
         "5",
         "114",
         "185",
         "496"
        ],
        [
         "40",
         "EAST HAMPTON",
         "506",
         "2",
         "738",
         "4",
         "152",
         "267",
         "574"
        ],
        [
         "41",
         "EAST HARTFORD",
         "2419",
         "13",
         "1821",
         "20",
         "184",
         "277",
         "688"
        ],
        [
         "42",
         "EAST HAVEN",
         "939",
         "9",
         "917",
         "9",
         "111",
         "178",
         "964"
        ],
        [
         "43",
         "EAST LYME",
         "1013",
         "3",
         "977",
         "10",
         "173",
         "523",
         "853"
        ],
        [
         "44",
         "EAST WINDSOR",
         "371",
         "4",
         "498",
         "10",
         "90",
         "127",
         "406"
        ],
        [
         "45",
         "EASTFORD",
         "62",
         "1",
         "117",
         "3",
         "48",
         "60",
         "94"
        ],
        [
         "46",
         "EASTON",
         "395",
         "3",
         "313",
         "3",
         "70",
         "288",
         "497"
        ],
        [
         "47",
         "ELLINGTON",
         "488",
         "3",
         "647",
         "13",
         "181",
         "360",
         "739"
        ],
        [
         "48",
         "ENFIELD",
         "1375",
         "20",
         "1765",
         "16",
         "308",
         "539",
         "1518"
        ],
        [
         "49",
         "ESSEX",
         "513",
         "1",
         "458",
         "6",
         "73",
         "297",
         "407"
        ]
       ],
       "shape": {
        "columns": 8,
        "rows": 170
       }
      },
      "text/html": [
       "<div>\n",
       "<style scoped>\n",
       "    .dataframe tbody tr th:only-of-type {\n",
       "        vertical-align: middle;\n",
       "    }\n",
       "\n",
       "    .dataframe tbody tr th {\n",
       "        vertical-align: top;\n",
       "    }\n",
       "\n",
       "    .dataframe thead th {\n",
       "        text-align: right;\n",
       "    }\n",
       "</style>\n",
       "<table border=\"1\" class=\"dataframe\">\n",
       "  <thead>\n",
       "    <tr style=\"text-align: right;\">\n",
       "      <th>candidate_column</th>\n",
       "      <th>precinct</th>\n",
       "      <th>pri_dem_CLINTON</th>\n",
       "      <th>pri_dem_FUENTE</th>\n",
       "      <th>pri_dem_SANDERS</th>\n",
       "      <th>pri_rep_CARSON</th>\n",
       "      <th>pri_rep_CRUZ</th>\n",
       "      <th>pri_rep_KASICH</th>\n",
       "      <th>pri_rep_TRUMP</th>\n",
       "    </tr>\n",
       "  </thead>\n",
       "  <tbody>\n",
       "    <tr>\n",
       "      <th>0</th>\n",
       "      <td>ANDOVER</td>\n",
       "      <td>145</td>\n",
       "      <td>1</td>\n",
       "      <td>259</td>\n",
       "      <td>4</td>\n",
       "      <td>42</td>\n",
       "      <td>80</td>\n",
       "      <td>163</td>\n",
       "    </tr>\n",
       "    <tr>\n",
       "      <th>1</th>\n",
       "      <td>ANSONIA</td>\n",
       "      <td>584</td>\n",
       "      <td>6</td>\n",
       "      <td>598</td>\n",
       "      <td>10</td>\n",
       "      <td>116</td>\n",
       "      <td>96</td>\n",
       "      <td>497</td>\n",
       "    </tr>\n",
       "    <tr>\n",
       "      <th>2</th>\n",
       "      <td>ASHFORD</td>\n",
       "      <td>212</td>\n",
       "      <td>3</td>\n",
       "      <td>377</td>\n",
       "      <td>12</td>\n",
       "      <td>50</td>\n",
       "      <td>70</td>\n",
       "      <td>158</td>\n",
       "    </tr>\n",
       "    <tr>\n",
       "      <th>3</th>\n",
       "      <td>AVON</td>\n",
       "      <td>1097</td>\n",
       "      <td>5</td>\n",
       "      <td>771</td>\n",
       "      <td>9</td>\n",
       "      <td>242</td>\n",
       "      <td>811</td>\n",
       "      <td>1027</td>\n",
       "    </tr>\n",
       "    <tr>\n",
       "      <th>4</th>\n",
       "      <td>BARKHAMSTED</td>\n",
       "      <td>137</td>\n",
       "      <td>2</td>\n",
       "      <td>210</td>\n",
       "      <td>9</td>\n",
       "      <td>68</td>\n",
       "      <td>127</td>\n",
       "      <td>242</td>\n",
       "    </tr>\n",
       "    <tr>\n",
       "      <th>...</th>\n",
       "      <td>...</td>\n",
       "      <td>...</td>\n",
       "      <td>...</td>\n",
       "      <td>...</td>\n",
       "      <td>...</td>\n",
       "      <td>...</td>\n",
       "      <td>...</td>\n",
       "      <td>...</td>\n",
       "    </tr>\n",
       "    <tr>\n",
       "      <th>165</th>\n",
       "      <td>WINDSOR LOCKS</td>\n",
       "      <td>442</td>\n",
       "      <td>4</td>\n",
       "      <td>552</td>\n",
       "      <td>10</td>\n",
       "      <td>81</td>\n",
       "      <td>166</td>\n",
       "      <td>422</td>\n",
       "    </tr>\n",
       "    <tr>\n",
       "      <th>166</th>\n",
       "      <td>WOLCOTT</td>\n",
       "      <td>384</td>\n",
       "      <td>4</td>\n",
       "      <td>514</td>\n",
       "      <td>13</td>\n",
       "      <td>152</td>\n",
       "      <td>190</td>\n",
       "      <td>1021</td>\n",
       "    </tr>\n",
       "    <tr>\n",
       "      <th>167</th>\n",
       "      <td>WOODBRIDGE</td>\n",
       "      <td>893</td>\n",
       "      <td>1</td>\n",
       "      <td>546</td>\n",
       "      <td>4</td>\n",
       "      <td>66</td>\n",
       "      <td>265</td>\n",
       "      <td>406</td>\n",
       "    </tr>\n",
       "    <tr>\n",
       "      <th>168</th>\n",
       "      <td>WOODBURY</td>\n",
       "      <td>465</td>\n",
       "      <td>1</td>\n",
       "      <td>527</td>\n",
       "      <td>14</td>\n",
       "      <td>172</td>\n",
       "      <td>397</td>\n",
       "      <td>835</td>\n",
       "    </tr>\n",
       "    <tr>\n",
       "      <th>169</th>\n",
       "      <td>WOODSTOCK</td>\n",
       "      <td>305</td>\n",
       "      <td>0</td>\n",
       "      <td>497</td>\n",
       "      <td>2</td>\n",
       "      <td>130</td>\n",
       "      <td>230</td>\n",
       "      <td>457</td>\n",
       "    </tr>\n",
       "  </tbody>\n",
       "</table>\n",
       "<p>170 rows × 8 columns</p>\n",
       "</div>"
      ],
      "text/plain": [
       "candidate_column       precinct pri_dem_CLINTON pri_dem_FUENTE  \\\n",
       "0                       ANDOVER             145              1   \n",
       "1                       ANSONIA             584              6   \n",
       "2                       ASHFORD             212              3   \n",
       "3                          AVON            1097              5   \n",
       "4                   BARKHAMSTED             137              2   \n",
       "..                          ...             ...            ...   \n",
       "165               WINDSOR LOCKS             442              4   \n",
       "166                     WOLCOTT             384              4   \n",
       "167                  WOODBRIDGE             893              1   \n",
       "168                    WOODBURY             465              1   \n",
       "169                   WOODSTOCK             305              0   \n",
       "\n",
       "candidate_column pri_dem_SANDERS pri_rep_CARSON pri_rep_CRUZ pri_rep_KASICH  \\\n",
       "0                            259              4           42             80   \n",
       "1                            598             10          116             96   \n",
       "2                            377             12           50             70   \n",
       "3                            771              9          242            811   \n",
       "4                            210              9           68            127   \n",
       "..                           ...            ...          ...            ...   \n",
       "165                          552             10           81            166   \n",
       "166                          514             13          152            190   \n",
       "167                          546              4           66            265   \n",
       "168                          527             14          172            397   \n",
       "169                          497              2          130            230   \n",
       "\n",
       "candidate_column pri_rep_TRUMP  \n",
       "0                          163  \n",
       "1                          497  \n",
       "2                          158  \n",
       "3                         1027  \n",
       "4                          242  \n",
       "..                         ...  \n",
       "165                        422  \n",
       "166                       1021  \n",
       "167                        406  \n",
       "168                        835  \n",
       "169                        457  \n",
       "\n",
       "[170 rows x 8 columns]"
      ]
     },
     "execution_count": 16,
     "metadata": {},
     "output_type": "execute_result"
    }
   ],
   "source": [
    "primary_data.loc[:,\"candidate_column\"] = (\n",
    "    \"pri_\" +\n",
    "    primary_data[\"party\"].str.lower() + \"_\" +\n",
    "    primary_data[\"candidate\"]\n",
    ")\n",
    "\n",
    "# pivot the table\n",
    "primary_result = primary_data.pivot_table(\n",
    "    index=\"precinct\",\n",
    "    columns=\"candidate_column\",\n",
    "    values=\"votes\",\n",
    "    aggfunc=\"sum\",  \n",
    "    fill_value=0\n",
    ").reset_index()\n",
    "\n",
    "primary_result"
   ]
  },
  {
   "cell_type": "code",
   "execution_count": 61,
   "id": "f1ef9692",
   "metadata": {},
   "outputs": [
    {
     "data": {
      "application/vnd.microsoft.datawrangler.viewer.v0+json": {
       "columns": [
        {
         "name": "index",
         "rawType": "int64",
         "type": "integer"
        },
        {
         "name": "county",
         "rawType": "object",
         "type": "string"
        },
        {
         "name": "precinct",
         "rawType": "object",
         "type": "string"
        },
        {
         "name": "votes",
         "rawType": "int64",
         "type": "integer"
        },
        {
         "name": "election_day",
         "rawType": "int64",
         "type": "integer"
        },
        {
         "name": "early_voting",
         "rawType": "int64",
         "type": "integer"
        },
        {
         "name": "provisional",
         "rawType": "float64",
         "type": "float"
        },
        {
         "name": "polling_place_votes_ds200",
         "rawType": "float64",
         "type": "float"
        },
        {
         "name": "early_votes_ds200",
         "rawType": "float64",
         "type": "float"
        },
        {
         "name": "party",
         "rawType": "object",
         "type": "unknown"
        },
        {
         "name": "office",
         "rawType": "object",
         "type": "string"
        },
        {
         "name": "district",
         "rawType": "float64",
         "type": "float"
        },
        {
         "name": "candidate",
         "rawType": "object",
         "type": "string"
        },
        {
         "name": "Unnamed: 0.1",
         "rawType": "float64",
         "type": "float"
        },
        {
         "name": "Unnamed: 0",
         "rawType": "float64",
         "type": "float"
        },
        {
         "name": "central_count",
         "rawType": "float64",
         "type": "float"
        },
        {
         "name": "late_early_voting",
         "rawType": "float64",
         "type": "float"
        }
       ],
       "ref": "bcd3c47d-50cf-4b50-b9ef-6f9b6639a243",
       "rows": [
        [
         "0",
         "Apache",
         "APACHEALPINE",
         "60",
         "10",
         "5",
         "0.0",
         "0.0",
         "0.0",
         "DEM",
         "President",
         null,
         "CLINTON, KAINE",
         null,
         null,
         null,
         null
        ],
        [
         "1",
         "Apache",
         "APACHECANYON DE CHELLY",
         "1387",
         "674",
         "63",
         "7.0",
         "0.0",
         "0.0",
         "DEM",
         "President",
         null,
         "CLINTON, KAINE",
         null,
         null,
         null,
         null
        ],
        [
         "2",
         "Apache",
         "APACHECHINLE",
         "678",
         "300",
         "34",
         "3.0",
         "0.0",
         "0.0",
         "DEM",
         "President",
         null,
         "CLINTON, KAINE",
         null,
         null,
         null,
         null
        ],
        [
         "3",
         "Apache",
         "APACHECONCHO",
         "228",
         "40",
         "18",
         "0.0",
         "0.0",
         "0.0",
         "DEM",
         "President",
         null,
         "CLINTON, KAINE",
         null,
         null,
         null,
         null
        ],
        [
         "4",
         "Apache",
         "APACHECORNFIELDS",
         "349",
         "262",
         "8",
         "0.0",
         "0.0",
         "0.0",
         "DEM",
         "President",
         null,
         "CLINTON, KAINE",
         null,
         null,
         null,
         null
        ],
        [
         "5",
         "Apache",
         "APACHECOTTONWOOD",
         "589",
         "373",
         "19",
         "2.0",
         "0.0",
         "0.0",
         "DEM",
         "President",
         null,
         "CLINTON, KAINE",
         null,
         null,
         null,
         null
        ],
        [
         "6",
         "Apache",
         "APACHECORONADO",
         "57",
         "17",
         "3",
         "0.0",
         "0.0",
         "0.0",
         "DEM",
         "President",
         null,
         "CLINTON, KAINE",
         null,
         null,
         null,
         null
        ],
        [
         "7",
         "Apache",
         "APACHEDENNEHOTSO",
         "430",
         "352",
         "6",
         "1.0",
         "0.0",
         "0.0",
         "DEM",
         "President",
         null,
         "CLINTON, KAINE",
         null,
         null,
         null,
         null
        ],
        [
         "8",
         "Apache",
         "APACHEEAGAR",
         "141",
         "36",
         "9",
         "0.0",
         "0.0",
         "0.0",
         "DEM",
         "President",
         null,
         "CLINTON, KAINE",
         null,
         null,
         null,
         null
        ],
        [
         "9",
         "Apache",
         "APACHEFLAT TOP",
         "83",
         "24",
         "5",
         "0.0",
         "0.0",
         "0.0",
         "DEM",
         "President",
         null,
         "CLINTON, KAINE",
         null,
         null,
         null,
         null
        ],
        [
         "10",
         "Apache",
         "APACHEFT. DEFIANCE",
         "1306",
         "585",
         "65",
         "6.0",
         "0.0",
         "0.0",
         "DEM",
         "President",
         null,
         "CLINTON, KAINE",
         null,
         null,
         null,
         null
        ],
        [
         "11",
         "Apache",
         "APACHEGANADO NORTH",
         "316",
         "181",
         "11",
         "1.0",
         "0.0",
         "0.0",
         "DEM",
         "President",
         null,
         "CLINTON, KAINE",
         null,
         null,
         null,
         null
        ],
        [
         "12",
         "Apache",
         "APACHEGANADO SOUTH",
         "485",
         "287",
         "17",
         "2.0",
         "0.0",
         "0.0",
         "DEM",
         "President",
         null,
         "CLINTON, KAINE",
         null,
         null,
         null,
         null
        ],
        [
         "13",
         "Apache",
         "APACHEGREER",
         "34",
         "4",
         "3",
         "0.0",
         "0.0",
         "0.0",
         "DEM",
         "President",
         null,
         "CLINTON, KAINE",
         null,
         null,
         null,
         null
        ],
        [
         "14",
         "Apache",
         "APACHEHOUCK",
         "407",
         "223",
         "17",
         "0.0",
         "0.0",
         "0.0",
         "DEM",
         "President",
         null,
         "CLINTON, KAINE",
         null,
         null,
         null,
         null
        ],
        [
         "15",
         "Apache",
         "APACHEKINLICHEE",
         "520",
         "320",
         "14",
         "5.0",
         "0.0",
         "0.0",
         "DEM",
         "President",
         null,
         "CLINTON, KAINE",
         null,
         null,
         null,
         null
        ],
        [
         "16",
         "Apache",
         "APACHEKLAGETOH",
         "359",
         "214",
         "11",
         "2.0",
         "0.0",
         "0.0",
         "DEM",
         "President",
         null,
         "CLINTON, KAINE",
         null,
         null,
         null,
         null
        ],
        [
         "17",
         "Apache",
         "APACHELUKACHUKAI",
         "710",
         "476",
         "16",
         "6.0",
         "0.0",
         "0.0",
         "DEM",
         "President",
         null,
         "CLINTON, KAINE",
         null,
         null,
         null,
         null
        ],
        [
         "18",
         "Apache",
         "APACHELUPTON",
         "261",
         "179",
         "7",
         "0.0",
         "0.0",
         "0.0",
         "DEM",
         "President",
         null,
         "CLINTON, KAINE",
         null,
         null,
         null,
         null
        ],
        [
         "19",
         "Apache",
         "APACHEMCNARY",
         "66",
         "52",
         "0",
         "0.0",
         "0.0",
         "0.0",
         "DEM",
         "President",
         null,
         "CLINTON, KAINE",
         null,
         null,
         null,
         null
        ],
        [
         "20",
         "Apache",
         "APACHEMANY FARMS",
         "732",
         "390",
         "30",
         "4.0",
         "0.0",
         "0.0",
         "DEM",
         "President",
         null,
         "CLINTON, KAINE",
         null,
         null,
         null,
         null
        ],
        [
         "21",
         "Apache",
         "APACHEMEXICAN WATER",
         "87",
         "58",
         "2",
         "0.0",
         "0.0",
         "0.0",
         "DEM",
         "President",
         null,
         "CLINTON, KAINE",
         null,
         null,
         null,
         null
        ],
        [
         "22",
         "Apache",
         "APACHENAZLINI",
         "430",
         "224",
         "18",
         "2.0",
         "0.0",
         "0.0",
         "DEM",
         "President",
         null,
         "CLINTON, KAINE",
         null,
         null,
         null,
         null
        ],
        [
         "23",
         "Apache",
         "APACHENUTRIOSO",
         "59",
         "11",
         "4",
         "0.0",
         "0.0",
         "0.0",
         "DEM",
         "President",
         null,
         "CLINTON, KAINE",
         null,
         null,
         null,
         null
        ],
        [
         "24",
         "Apache",
         "APACHEOAK SPRINGS",
         "218",
         "115",
         "9",
         "0.0",
         "0.0",
         "0.0",
         "DEM",
         "President",
         null,
         "CLINTON, KAINE",
         null,
         null,
         null,
         null
        ],
        [
         "25",
         "Apache",
         "APACHEPUERCO EAST & 49 PUERCO WE",
         "478",
         "244",
         "19",
         "3.0",
         "0.0",
         "0.0",
         "DEM",
         "President",
         null,
         "CLINTON, KAINE",
         null,
         null,
         null,
         null
        ],
        [
         "26",
         "Apache",
         "APACHERED MESA",
         "98",
         "63",
         "2",
         "0.0",
         "0.0",
         "0.0",
         "DEM",
         "President",
         null,
         "CLINTON, KAINE",
         null,
         null,
         null,
         null
        ],
        [
         "27",
         "Apache",
         "APACHERED VALLEY",
         "259",
         "188",
         "6",
         "1.0",
         "0.0",
         "0.0",
         "DEM",
         "President",
         null,
         "CLINTON, KAINE",
         null,
         null,
         null,
         null
        ],
        [
         "28",
         "Apache",
         "APACHEROCK POINT",
         "557",
         "398",
         "11",
         "4.0",
         "0.0",
         "0.0",
         "DEM",
         "President",
         null,
         "CLINTON, KAINE",
         null,
         null,
         null,
         null
        ],
        [
         "29",
         "Apache",
         "APACHEROUGH ROCK",
         "381",
         "245",
         "11",
         "2.0",
         "0.0",
         "0.0",
         "DEM",
         "President",
         null,
         "CLINTON, KAINE",
         null,
         null,
         null,
         null
        ],
        [
         "30",
         "Apache",
         "APACHEROUND ROCK",
         "407",
         "293",
         "8",
         "2.0",
         "0.0",
         "0.0",
         "DEM",
         "President",
         null,
         "CLINTON, KAINE",
         null,
         null,
         null,
         null
        ],
        [
         "31",
         "Apache",
         "APACHEROUND VALLEY",
         "66",
         "22",
         "4",
         "0.0",
         "0.0",
         "0.0",
         "DEM",
         "President",
         null,
         "CLINTON, KAINE",
         null,
         null,
         null,
         null
        ],
        [
         "32",
         "Apache",
         "APACHEST. JOHNS",
         "195",
         "60",
         "13",
         "0.0",
         "0.0",
         "0.0",
         "DEM",
         "President",
         null,
         "CLINTON, KAINE",
         null,
         null,
         null,
         null
        ],
        [
         "33",
         "Apache",
         "APACHEST. MICHAELS",
         "854",
         "412",
         "38",
         "5.0",
         "0.0",
         "0.0",
         "DEM",
         "President",
         null,
         "CLINTON, KAINE",
         null,
         null,
         null,
         null
        ],
        [
         "34",
         "Apache",
         "APACHESAWMILL",
         "337",
         "196",
         "12",
         "1.0",
         "0.0",
         "0.0",
         "DEM",
         "President",
         null,
         "CLINTON, KAINE",
         null,
         null,
         null,
         null
        ],
        [
         "35",
         "Apache",
         "APACHESPRINGERVILLE",
         "145",
         "43",
         "10",
         "0.0",
         "0.0",
         "0.0",
         "DEM",
         "President",
         null,
         "CLINTON, KAINE",
         null,
         null,
         null,
         null
        ],
        [
         "36",
         "Apache",
         "APACHESTEAMBOAT",
         "630",
         "362",
         "23",
         "3.0",
         "0.0",
         "0.0",
         "DEM",
         "President",
         null,
         "CLINTON, KAINE",
         null,
         null,
         null,
         null
        ],
        [
         "37",
         "Apache",
         "APACHESWEETWATER",
         "228",
         "162",
         "6",
         "0.0",
         "0.0",
         "0.0",
         "DEM",
         "President",
         null,
         "CLINTON, KAINE",
         null,
         null,
         null,
         null
        ],
        [
         "38",
         "Apache",
         "APACHETACHEE",
         "245",
         "164",
         "7",
         "0.0",
         "0.0",
         "0.0",
         "DEM",
         "President",
         null,
         "CLINTON, KAINE",
         null,
         null,
         null,
         null
        ],
        [
         "39",
         "Apache",
         "APACHETEEC NOS POS",
         "303",
         "209",
         "7",
         "1.0",
         "0.0",
         "0.0",
         "DEM",
         "President",
         null,
         "CLINTON, KAINE",
         null,
         null,
         null,
         null
        ],
        [
         "40",
         "Apache",
         "APACHEVERNON",
         "175",
         "23",
         "14",
         "0.0",
         "0.0",
         "0.0",
         "DEM",
         "President",
         null,
         "CLINTON, KAINE",
         null,
         null,
         null,
         null
        ],
        [
         "41",
         "Apache",
         "APACHEWHEATFIELDS",
         "693",
         "438",
         "20",
         "4.0",
         "0.0",
         "0.0",
         "DEM",
         "President",
         null,
         "CLINTON, KAINE",
         null,
         null,
         null,
         null
        ],
        [
         "42",
         "Apache",
         "APACHEWIDE RUINS",
         "335",
         "204",
         "11",
         "1.0",
         "0.0",
         "0.0",
         "DEM",
         "President",
         null,
         "CLINTON, KAINE",
         null,
         null,
         null,
         null
        ],
        [
         "43",
         "Apache",
         "APACHEWINDOW ROCK",
         "705",
         "280",
         "40",
         "2.0",
         "0.0",
         "0.0",
         "DEM",
         "President",
         null,
         "CLINTON, KAINE",
         null,
         null,
         null,
         null
        ],
        [
         "44",
         "Apache",
         "APACHEALPINE",
         "216",
         "63",
         "14",
         "0.0",
         "0.0",
         "0.0",
         "REP",
         "President",
         null,
         "TRUMP, PENCE",
         null,
         null,
         null,
         null
        ],
        [
         "45",
         "Apache",
         "APACHECANYON DE CHELLY",
         "143",
         "67",
         "6",
         "1.0",
         "0.0",
         "0.0",
         "REP",
         "President",
         null,
         "TRUMP, PENCE",
         null,
         null,
         null,
         null
        ],
        [
         "46",
         "Apache",
         "APACHECHINLE",
         "93",
         "44",
         "4",
         "0.0",
         "0.0",
         "0.0",
         "REP",
         "President",
         null,
         "TRUMP, PENCE",
         null,
         null,
         null,
         null
        ],
        [
         "47",
         "Apache",
         "APACHECONCHO",
         "1135",
         "305",
         "78",
         "4.0",
         "0.0",
         "0.0",
         "REP",
         "President",
         null,
         "TRUMP, PENCE",
         null,
         null,
         null,
         null
        ],
        [
         "48",
         "Apache",
         "APACHECORNFIELDS",
         "33",
         "22",
         "0",
         "0.0",
         "0.0",
         "0.0",
         "REP",
         "President",
         null,
         "TRUMP, PENCE",
         null,
         null,
         null,
         null
        ],
        [
         "49",
         "Apache",
         "APACHECOTTONWOOD",
         "47",
         "33",
         "1",
         "0.0",
         "0.0",
         "0.0",
         "REP",
         "President",
         null,
         "TRUMP, PENCE",
         null,
         null,
         null,
         null
        ]
       ],
       "shape": {
        "columns": 16,
        "rows": 4333
       }
      },
      "text/html": [
       "<div>\n",
       "<style scoped>\n",
       "    .dataframe tbody tr th:only-of-type {\n",
       "        vertical-align: middle;\n",
       "    }\n",
       "\n",
       "    .dataframe tbody tr th {\n",
       "        vertical-align: top;\n",
       "    }\n",
       "\n",
       "    .dataframe thead th {\n",
       "        text-align: right;\n",
       "    }\n",
       "</style>\n",
       "<table border=\"1\" class=\"dataframe\">\n",
       "  <thead>\n",
       "    <tr style=\"text-align: right;\">\n",
       "      <th></th>\n",
       "      <th>county</th>\n",
       "      <th>precinct</th>\n",
       "      <th>votes</th>\n",
       "      <th>election_day</th>\n",
       "      <th>early_voting</th>\n",
       "      <th>provisional</th>\n",
       "      <th>polling_place_votes_ds200</th>\n",
       "      <th>early_votes_ds200</th>\n",
       "      <th>party</th>\n",
       "      <th>office</th>\n",
       "      <th>district</th>\n",
       "      <th>candidate</th>\n",
       "      <th>Unnamed: 0.1</th>\n",
       "      <th>Unnamed: 0</th>\n",
       "      <th>central_count</th>\n",
       "      <th>late_early_voting</th>\n",
       "    </tr>\n",
       "  </thead>\n",
       "  <tbody>\n",
       "    <tr>\n",
       "      <th>0</th>\n",
       "      <td>Apache</td>\n",
       "      <td>APACHEALPINE</td>\n",
       "      <td>60</td>\n",
       "      <td>10</td>\n",
       "      <td>5</td>\n",
       "      <td>0.0</td>\n",
       "      <td>0.0</td>\n",
       "      <td>0.0</td>\n",
       "      <td>DEM</td>\n",
       "      <td>President</td>\n",
       "      <td>NaN</td>\n",
       "      <td>CLINTON, KAINE</td>\n",
       "      <td>NaN</td>\n",
       "      <td>NaN</td>\n",
       "      <td>NaN</td>\n",
       "      <td>NaN</td>\n",
       "    </tr>\n",
       "    <tr>\n",
       "      <th>1</th>\n",
       "      <td>Apache</td>\n",
       "      <td>APACHECANYON DE CHELLY</td>\n",
       "      <td>1387</td>\n",
       "      <td>674</td>\n",
       "      <td>63</td>\n",
       "      <td>7.0</td>\n",
       "      <td>0.0</td>\n",
       "      <td>0.0</td>\n",
       "      <td>DEM</td>\n",
       "      <td>President</td>\n",
       "      <td>NaN</td>\n",
       "      <td>CLINTON, KAINE</td>\n",
       "      <td>NaN</td>\n",
       "      <td>NaN</td>\n",
       "      <td>NaN</td>\n",
       "      <td>NaN</td>\n",
       "    </tr>\n",
       "    <tr>\n",
       "      <th>2</th>\n",
       "      <td>Apache</td>\n",
       "      <td>APACHECHINLE</td>\n",
       "      <td>678</td>\n",
       "      <td>300</td>\n",
       "      <td>34</td>\n",
       "      <td>3.0</td>\n",
       "      <td>0.0</td>\n",
       "      <td>0.0</td>\n",
       "      <td>DEM</td>\n",
       "      <td>President</td>\n",
       "      <td>NaN</td>\n",
       "      <td>CLINTON, KAINE</td>\n",
       "      <td>NaN</td>\n",
       "      <td>NaN</td>\n",
       "      <td>NaN</td>\n",
       "      <td>NaN</td>\n",
       "    </tr>\n",
       "    <tr>\n",
       "      <th>3</th>\n",
       "      <td>Apache</td>\n",
       "      <td>APACHECONCHO</td>\n",
       "      <td>228</td>\n",
       "      <td>40</td>\n",
       "      <td>18</td>\n",
       "      <td>0.0</td>\n",
       "      <td>0.0</td>\n",
       "      <td>0.0</td>\n",
       "      <td>DEM</td>\n",
       "      <td>President</td>\n",
       "      <td>NaN</td>\n",
       "      <td>CLINTON, KAINE</td>\n",
       "      <td>NaN</td>\n",
       "      <td>NaN</td>\n",
       "      <td>NaN</td>\n",
       "      <td>NaN</td>\n",
       "    </tr>\n",
       "    <tr>\n",
       "      <th>4</th>\n",
       "      <td>Apache</td>\n",
       "      <td>APACHECORNFIELDS</td>\n",
       "      <td>349</td>\n",
       "      <td>262</td>\n",
       "      <td>8</td>\n",
       "      <td>0.0</td>\n",
       "      <td>0.0</td>\n",
       "      <td>0.0</td>\n",
       "      <td>DEM</td>\n",
       "      <td>President</td>\n",
       "      <td>NaN</td>\n",
       "      <td>CLINTON, KAINE</td>\n",
       "      <td>NaN</td>\n",
       "      <td>NaN</td>\n",
       "      <td>NaN</td>\n",
       "      <td>NaN</td>\n",
       "    </tr>\n",
       "    <tr>\n",
       "      <th>...</th>\n",
       "      <td>...</td>\n",
       "      <td>...</td>\n",
       "      <td>...</td>\n",
       "      <td>...</td>\n",
       "      <td>...</td>\n",
       "      <td>...</td>\n",
       "      <td>...</td>\n",
       "      <td>...</td>\n",
       "      <td>...</td>\n",
       "      <td>...</td>\n",
       "      <td>...</td>\n",
       "      <td>...</td>\n",
       "      <td>...</td>\n",
       "      <td>...</td>\n",
       "      <td>...</td>\n",
       "      <td>...</td>\n",
       "    </tr>\n",
       "    <tr>\n",
       "      <th>4328</th>\n",
       "      <td>Yuma</td>\n",
       "      <td>YUMA44</td>\n",
       "      <td>0</td>\n",
       "      <td>0</td>\n",
       "      <td>0</td>\n",
       "      <td>0.0</td>\n",
       "      <td>NaN</td>\n",
       "      <td>NaN</td>\n",
       "      <td>REP</td>\n",
       "      <td>President</td>\n",
       "      <td>NaN</td>\n",
       "      <td>TRUMP / PENCE</td>\n",
       "      <td>NaN</td>\n",
       "      <td>NaN</td>\n",
       "      <td>NaN</td>\n",
       "      <td>0.0</td>\n",
       "    </tr>\n",
       "    <tr>\n",
       "      <th>4329</th>\n",
       "      <td>Yuma</td>\n",
       "      <td>YUMA44</td>\n",
       "      <td>0</td>\n",
       "      <td>0</td>\n",
       "      <td>0</td>\n",
       "      <td>0.0</td>\n",
       "      <td>NaN</td>\n",
       "      <td>NaN</td>\n",
       "      <td>DEM</td>\n",
       "      <td>President</td>\n",
       "      <td>NaN</td>\n",
       "      <td>CLINTON / KAINE</td>\n",
       "      <td>NaN</td>\n",
       "      <td>NaN</td>\n",
       "      <td>NaN</td>\n",
       "      <td>0.0</td>\n",
       "    </tr>\n",
       "    <tr>\n",
       "      <th>4330</th>\n",
       "      <td>Yuma</td>\n",
       "      <td>YUMA44</td>\n",
       "      <td>0</td>\n",
       "      <td>0</td>\n",
       "      <td>0</td>\n",
       "      <td>0.0</td>\n",
       "      <td>NaN</td>\n",
       "      <td>NaN</td>\n",
       "      <td>LIB</td>\n",
       "      <td>President</td>\n",
       "      <td>NaN</td>\n",
       "      <td>JOHNSON / WELD</td>\n",
       "      <td>NaN</td>\n",
       "      <td>NaN</td>\n",
       "      <td>NaN</td>\n",
       "      <td>0.0</td>\n",
       "    </tr>\n",
       "    <tr>\n",
       "      <th>4331</th>\n",
       "      <td>Yuma</td>\n",
       "      <td>YUMA44</td>\n",
       "      <td>0</td>\n",
       "      <td>0</td>\n",
       "      <td>0</td>\n",
       "      <td>0.0</td>\n",
       "      <td>NaN</td>\n",
       "      <td>NaN</td>\n",
       "      <td>GRN</td>\n",
       "      <td>President</td>\n",
       "      <td>NaN</td>\n",
       "      <td>STEIN / BARAKA</td>\n",
       "      <td>NaN</td>\n",
       "      <td>NaN</td>\n",
       "      <td>NaN</td>\n",
       "      <td>0.0</td>\n",
       "    </tr>\n",
       "    <tr>\n",
       "      <th>4332</th>\n",
       "      <td>Yuma</td>\n",
       "      <td>YUMA44</td>\n",
       "      <td>0</td>\n",
       "      <td>0</td>\n",
       "      <td>0</td>\n",
       "      <td>0.0</td>\n",
       "      <td>NaN</td>\n",
       "      <td>NaN</td>\n",
       "      <td>NaN</td>\n",
       "      <td>President</td>\n",
       "      <td>NaN</td>\n",
       "      <td>Write-in 50</td>\n",
       "      <td>NaN</td>\n",
       "      <td>NaN</td>\n",
       "      <td>NaN</td>\n",
       "      <td>0.0</td>\n",
       "    </tr>\n",
       "  </tbody>\n",
       "</table>\n",
       "<p>4333 rows × 16 columns</p>\n",
       "</div>"
      ],
      "text/plain": [
       "      county                precinct  votes  election_day  early_voting  \\\n",
       "0     Apache            APACHEALPINE     60            10             5   \n",
       "1     Apache  APACHECANYON DE CHELLY   1387           674            63   \n",
       "2     Apache            APACHECHINLE    678           300            34   \n",
       "3     Apache            APACHECONCHO    228            40            18   \n",
       "4     Apache        APACHECORNFIELDS    349           262             8   \n",
       "...      ...                     ...    ...           ...           ...   \n",
       "4328    Yuma                  YUMA44      0             0             0   \n",
       "4329    Yuma                  YUMA44      0             0             0   \n",
       "4330    Yuma                  YUMA44      0             0             0   \n",
       "4331    Yuma                  YUMA44      0             0             0   \n",
       "4332    Yuma                  YUMA44      0             0             0   \n",
       "\n",
       "      provisional  polling_place_votes_ds200  early_votes_ds200 party  \\\n",
       "0             0.0                        0.0                0.0   DEM   \n",
       "1             7.0                        0.0                0.0   DEM   \n",
       "2             3.0                        0.0                0.0   DEM   \n",
       "3             0.0                        0.0                0.0   DEM   \n",
       "4             0.0                        0.0                0.0   DEM   \n",
       "...           ...                        ...                ...   ...   \n",
       "4328          0.0                        NaN                NaN   REP   \n",
       "4329          0.0                        NaN                NaN   DEM   \n",
       "4330          0.0                        NaN                NaN   LIB   \n",
       "4331          0.0                        NaN                NaN   GRN   \n",
       "4332          0.0                        NaN                NaN   NaN   \n",
       "\n",
       "         office  district        candidate  Unnamed: 0.1  Unnamed: 0  \\\n",
       "0     President       NaN   CLINTON, KAINE           NaN         NaN   \n",
       "1     President       NaN   CLINTON, KAINE           NaN         NaN   \n",
       "2     President       NaN   CLINTON, KAINE           NaN         NaN   \n",
       "3     President       NaN   CLINTON, KAINE           NaN         NaN   \n",
       "4     President       NaN   CLINTON, KAINE           NaN         NaN   \n",
       "...         ...       ...              ...           ...         ...   \n",
       "4328  President       NaN    TRUMP / PENCE           NaN         NaN   \n",
       "4329  President       NaN  CLINTON / KAINE           NaN         NaN   \n",
       "4330  President       NaN   JOHNSON / WELD           NaN         NaN   \n",
       "4331  President       NaN   STEIN / BARAKA           NaN         NaN   \n",
       "4332  President       NaN      Write-in 50           NaN         NaN   \n",
       "\n",
       "      central_count  late_early_voting  \n",
       "0               NaN                NaN  \n",
       "1               NaN                NaN  \n",
       "2               NaN                NaN  \n",
       "3               NaN                NaN  \n",
       "4               NaN                NaN  \n",
       "...             ...                ...  \n",
       "4328            NaN                0.0  \n",
       "4329            NaN                0.0  \n",
       "4330            NaN                0.0  \n",
       "4331            NaN                0.0  \n",
       "4332            NaN                0.0  \n",
       "\n",
       "[4333 rows x 16 columns]"
      ]
     },
     "execution_count": 61,
     "metadata": {},
     "output_type": "execute_result"
    }
   ],
   "source": [
    "# Process general files\n",
    "general_df_list = []\n",
    "\n",
    "for file in general_files:\n",
    "    try:\n",
    "        df = pd.read_csv(file)\n",
    "        # Cleaning maybe total precinct\n",
    "        if 'precinct' in df.columns:\n",
    "            df['precinct'] = df['precinct'].astype(str)                  \n",
    "            df = df[df['precinct'].str.upper() != \"TOTAL\"]               \n",
    "            df = df[df['precinct'].str.strip().str.upper() != \"TOTAL\"]   \n",
    "            df = df[df['precinct'].str.upper() != \"NAN\"]           \n",
    "\n",
    "        # Combine precinct as county + precinct\n",
    "        df[\"precinct\"] = df[\"county\"].astype(str) + df[\"precinct\"].astype(str)\n",
    "        df[\"precinct\"] = df[\"precinct\"].str.upper()\n",
    "\n",
    "             \n",
    "        \n",
    "        # Filtering out only President \n",
    "        if 'office' in df.columns:\n",
    "            df = df[df[\"office\"] == \"President\"]\n",
    "        \n",
    "        # Dropping duplicates value\n",
    "        df = df.drop_duplicates()\n",
    "        \n",
    "        general_df_list.append(df)\n",
    "\n",
    "    except Exception as e:\n",
    "        print(f\"Error in {file}: {e}\")\n",
    "\n",
    "# Combine all cleaned files\n",
    "gen_combined_df = pd.concat(general_df_list, ignore_index=True)\n",
    "\n",
    "# Checking any suspicious precinct\n",
    "suspicious_precincts = gen_combined_df[\n",
    "    gen_combined_df[\"precinct\"].str.strip().str.upper().isin([\"TOTAL\", \"NAN\"])\n",
    "]\n",
    "gen_combined_df"
   ]
  },
  {
   "cell_type": "code",
   "execution_count": 62,
   "id": "1bbbd54d",
   "metadata": {},
   "outputs": [
    {
     "data": {
      "application/vnd.microsoft.datawrangler.viewer.v0+json": {
       "columns": [
        {
         "name": "index",
         "rawType": "int64",
         "type": "integer"
        },
        {
         "name": "precinct",
         "rawType": "object",
         "type": "string"
        },
        {
         "name": "party",
         "rawType": "object",
         "type": "unknown"
        },
        {
         "name": "candidate",
         "rawType": "object",
         "type": "string"
        },
        {
         "name": "votes",
         "rawType": "int64",
         "type": "integer"
        }
       ],
       "ref": "457225cd-1d72-4ef5-9922-2fa3bc3ac409",
       "rows": [
        [
         "0",
         "APACHEALPINE",
         "DEM",
         "CLINTON, KAINE",
         "60"
        ],
        [
         "1",
         "APACHECANYON DE CHELLY",
         "DEM",
         "CLINTON, KAINE",
         "1387"
        ],
        [
         "2",
         "APACHECHINLE",
         "DEM",
         "CLINTON, KAINE",
         "678"
        ],
        [
         "3",
         "APACHECONCHO",
         "DEM",
         "CLINTON, KAINE",
         "228"
        ],
        [
         "4",
         "APACHECORNFIELDS",
         "DEM",
         "CLINTON, KAINE",
         "349"
        ],
        [
         "5",
         "APACHECOTTONWOOD",
         "DEM",
         "CLINTON, KAINE",
         "589"
        ],
        [
         "6",
         "APACHECORONADO",
         "DEM",
         "CLINTON, KAINE",
         "57"
        ],
        [
         "7",
         "APACHEDENNEHOTSO",
         "DEM",
         "CLINTON, KAINE",
         "430"
        ],
        [
         "8",
         "APACHEEAGAR",
         "DEM",
         "CLINTON, KAINE",
         "141"
        ],
        [
         "9",
         "APACHEFLAT TOP",
         "DEM",
         "CLINTON, KAINE",
         "83"
        ],
        [
         "10",
         "APACHEFT. DEFIANCE",
         "DEM",
         "CLINTON, KAINE",
         "1306"
        ],
        [
         "11",
         "APACHEGANADO NORTH",
         "DEM",
         "CLINTON, KAINE",
         "316"
        ],
        [
         "12",
         "APACHEGANADO SOUTH",
         "DEM",
         "CLINTON, KAINE",
         "485"
        ],
        [
         "13",
         "APACHEGREER",
         "DEM",
         "CLINTON, KAINE",
         "34"
        ],
        [
         "14",
         "APACHEHOUCK",
         "DEM",
         "CLINTON, KAINE",
         "407"
        ],
        [
         "15",
         "APACHEKINLICHEE",
         "DEM",
         "CLINTON, KAINE",
         "520"
        ],
        [
         "16",
         "APACHEKLAGETOH",
         "DEM",
         "CLINTON, KAINE",
         "359"
        ],
        [
         "17",
         "APACHELUKACHUKAI",
         "DEM",
         "CLINTON, KAINE",
         "710"
        ],
        [
         "18",
         "APACHELUPTON",
         "DEM",
         "CLINTON, KAINE",
         "261"
        ],
        [
         "19",
         "APACHEMCNARY",
         "DEM",
         "CLINTON, KAINE",
         "66"
        ],
        [
         "20",
         "APACHEMANY FARMS",
         "DEM",
         "CLINTON, KAINE",
         "732"
        ],
        [
         "21",
         "APACHEMEXICAN WATER",
         "DEM",
         "CLINTON, KAINE",
         "87"
        ],
        [
         "22",
         "APACHENAZLINI",
         "DEM",
         "CLINTON, KAINE",
         "430"
        ],
        [
         "23",
         "APACHENUTRIOSO",
         "DEM",
         "CLINTON, KAINE",
         "59"
        ],
        [
         "24",
         "APACHEOAK SPRINGS",
         "DEM",
         "CLINTON, KAINE",
         "218"
        ],
        [
         "25",
         "APACHEPUERCO EAST & 49 PUERCO WE",
         "DEM",
         "CLINTON, KAINE",
         "478"
        ],
        [
         "26",
         "APACHERED MESA",
         "DEM",
         "CLINTON, KAINE",
         "98"
        ],
        [
         "27",
         "APACHERED VALLEY",
         "DEM",
         "CLINTON, KAINE",
         "259"
        ],
        [
         "28",
         "APACHEROCK POINT",
         "DEM",
         "CLINTON, KAINE",
         "557"
        ],
        [
         "29",
         "APACHEROUGH ROCK",
         "DEM",
         "CLINTON, KAINE",
         "381"
        ],
        [
         "30",
         "APACHEROUND ROCK",
         "DEM",
         "CLINTON, KAINE",
         "407"
        ],
        [
         "31",
         "APACHEROUND VALLEY",
         "DEM",
         "CLINTON, KAINE",
         "66"
        ],
        [
         "32",
         "APACHEST. JOHNS",
         "DEM",
         "CLINTON, KAINE",
         "195"
        ],
        [
         "33",
         "APACHEST. MICHAELS",
         "DEM",
         "CLINTON, KAINE",
         "854"
        ],
        [
         "34",
         "APACHESAWMILL",
         "DEM",
         "CLINTON, KAINE",
         "337"
        ],
        [
         "35",
         "APACHESPRINGERVILLE",
         "DEM",
         "CLINTON, KAINE",
         "145"
        ],
        [
         "36",
         "APACHESTEAMBOAT",
         "DEM",
         "CLINTON, KAINE",
         "630"
        ],
        [
         "37",
         "APACHESWEETWATER",
         "DEM",
         "CLINTON, KAINE",
         "228"
        ],
        [
         "38",
         "APACHETACHEE",
         "DEM",
         "CLINTON, KAINE",
         "245"
        ],
        [
         "39",
         "APACHETEEC NOS POS",
         "DEM",
         "CLINTON, KAINE",
         "303"
        ],
        [
         "40",
         "APACHEVERNON",
         "DEM",
         "CLINTON, KAINE",
         "175"
        ],
        [
         "41",
         "APACHEWHEATFIELDS",
         "DEM",
         "CLINTON, KAINE",
         "693"
        ],
        [
         "42",
         "APACHEWIDE RUINS",
         "DEM",
         "CLINTON, KAINE",
         "335"
        ],
        [
         "43",
         "APACHEWINDOW ROCK",
         "DEM",
         "CLINTON, KAINE",
         "705"
        ],
        [
         "44",
         "APACHEALPINE",
         "REP",
         "TRUMP, PENCE",
         "216"
        ],
        [
         "45",
         "APACHECANYON DE CHELLY",
         "REP",
         "TRUMP, PENCE",
         "143"
        ],
        [
         "46",
         "APACHECHINLE",
         "REP",
         "TRUMP, PENCE",
         "93"
        ],
        [
         "47",
         "APACHECONCHO",
         "REP",
         "TRUMP, PENCE",
         "1135"
        ],
        [
         "48",
         "APACHECORNFIELDS",
         "REP",
         "TRUMP, PENCE",
         "33"
        ],
        [
         "49",
         "APACHECOTTONWOOD",
         "REP",
         "TRUMP, PENCE",
         "47"
        ]
       ],
       "shape": {
        "columns": 4,
        "rows": 4333
       }
      },
      "text/html": [
       "<div>\n",
       "<style scoped>\n",
       "    .dataframe tbody tr th:only-of-type {\n",
       "        vertical-align: middle;\n",
       "    }\n",
       "\n",
       "    .dataframe tbody tr th {\n",
       "        vertical-align: top;\n",
       "    }\n",
       "\n",
       "    .dataframe thead th {\n",
       "        text-align: right;\n",
       "    }\n",
       "</style>\n",
       "<table border=\"1\" class=\"dataframe\">\n",
       "  <thead>\n",
       "    <tr style=\"text-align: right;\">\n",
       "      <th></th>\n",
       "      <th>precinct</th>\n",
       "      <th>party</th>\n",
       "      <th>candidate</th>\n",
       "      <th>votes</th>\n",
       "    </tr>\n",
       "  </thead>\n",
       "  <tbody>\n",
       "    <tr>\n",
       "      <th>0</th>\n",
       "      <td>APACHEALPINE</td>\n",
       "      <td>DEM</td>\n",
       "      <td>CLINTON, KAINE</td>\n",
       "      <td>60</td>\n",
       "    </tr>\n",
       "    <tr>\n",
       "      <th>1</th>\n",
       "      <td>APACHECANYON DE CHELLY</td>\n",
       "      <td>DEM</td>\n",
       "      <td>CLINTON, KAINE</td>\n",
       "      <td>1387</td>\n",
       "    </tr>\n",
       "    <tr>\n",
       "      <th>2</th>\n",
       "      <td>APACHECHINLE</td>\n",
       "      <td>DEM</td>\n",
       "      <td>CLINTON, KAINE</td>\n",
       "      <td>678</td>\n",
       "    </tr>\n",
       "    <tr>\n",
       "      <th>3</th>\n",
       "      <td>APACHECONCHO</td>\n",
       "      <td>DEM</td>\n",
       "      <td>CLINTON, KAINE</td>\n",
       "      <td>228</td>\n",
       "    </tr>\n",
       "    <tr>\n",
       "      <th>4</th>\n",
       "      <td>APACHECORNFIELDS</td>\n",
       "      <td>DEM</td>\n",
       "      <td>CLINTON, KAINE</td>\n",
       "      <td>349</td>\n",
       "    </tr>\n",
       "    <tr>\n",
       "      <th>...</th>\n",
       "      <td>...</td>\n",
       "      <td>...</td>\n",
       "      <td>...</td>\n",
       "      <td>...</td>\n",
       "    </tr>\n",
       "    <tr>\n",
       "      <th>4328</th>\n",
       "      <td>YUMA44</td>\n",
       "      <td>REP</td>\n",
       "      <td>TRUMP / PENCE</td>\n",
       "      <td>0</td>\n",
       "    </tr>\n",
       "    <tr>\n",
       "      <th>4329</th>\n",
       "      <td>YUMA44</td>\n",
       "      <td>DEM</td>\n",
       "      <td>CLINTON / KAINE</td>\n",
       "      <td>0</td>\n",
       "    </tr>\n",
       "    <tr>\n",
       "      <th>4330</th>\n",
       "      <td>YUMA44</td>\n",
       "      <td>LIB</td>\n",
       "      <td>JOHNSON / WELD</td>\n",
       "      <td>0</td>\n",
       "    </tr>\n",
       "    <tr>\n",
       "      <th>4331</th>\n",
       "      <td>YUMA44</td>\n",
       "      <td>GRN</td>\n",
       "      <td>STEIN / BARAKA</td>\n",
       "      <td>0</td>\n",
       "    </tr>\n",
       "    <tr>\n",
       "      <th>4332</th>\n",
       "      <td>YUMA44</td>\n",
       "      <td>NaN</td>\n",
       "      <td>Write-in 50</td>\n",
       "      <td>0</td>\n",
       "    </tr>\n",
       "  </tbody>\n",
       "</table>\n",
       "<p>4333 rows × 4 columns</p>\n",
       "</div>"
      ],
      "text/plain": [
       "                    precinct party        candidate  votes\n",
       "0               APACHEALPINE   DEM   CLINTON, KAINE     60\n",
       "1     APACHECANYON DE CHELLY   DEM   CLINTON, KAINE   1387\n",
       "2               APACHECHINLE   DEM   CLINTON, KAINE    678\n",
       "3               APACHECONCHO   DEM   CLINTON, KAINE    228\n",
       "4           APACHECORNFIELDS   DEM   CLINTON, KAINE    349\n",
       "...                      ...   ...              ...    ...\n",
       "4328                  YUMA44   REP    TRUMP / PENCE      0\n",
       "4329                  YUMA44   DEM  CLINTON / KAINE      0\n",
       "4330                  YUMA44   LIB   JOHNSON / WELD      0\n",
       "4331                  YUMA44   GRN   STEIN / BARAKA      0\n",
       "4332                  YUMA44   NaN      Write-in 50      0\n",
       "\n",
       "[4333 rows x 4 columns]"
      ]
     },
     "execution_count": 62,
     "metadata": {},
     "output_type": "execute_result"
    }
   ],
   "source": [
    "# Select only the relevant columns\n",
    "general_data = gen_combined_df[[\"precinct\", \"party\", \"candidate\", \"votes\"]]\n",
    "\n",
    "general_data"
   ]
  },
  {
   "cell_type": "code",
   "execution_count": 63,
   "id": "38fba0f1",
   "metadata": {},
   "outputs": [
    {
     "data": {
      "application/vnd.microsoft.datawrangler.viewer.v0+json": {
       "columns": [
        {
         "name": "candidate",
         "rawType": "object",
         "type": "string"
        },
        {
         "name": "count",
         "rawType": "int64",
         "type": "integer"
        }
       ],
       "ref": "6994495c-1e72-4453-a7c6-462176a35ed4",
       "rows": [
        [
         "WRITE-IN",
         "489"
        ],
        [
         "OVER VOTES",
         "489"
        ],
        [
         "UNDER VOTES",
         "489"
        ],
        [
         "STEIN",
         "350"
        ],
        [
         "JOHNSON",
         "350"
        ],
        [
         "TRUMP",
         "350"
        ],
        [
         "CLINTON",
         "350"
        ],
        [
         "CLINTON, KAINE",
         "139"
        ],
        [
         "TRUMP, PENCE",
         "139"
        ],
        [
         "JOHNSON, WELD",
         "139"
        ],
        [
         "STEIN, BARAKA",
         "139"
        ],
        [
         "STEIN / BARAKA",
         "100"
        ],
        [
         "JOHNSON / WELD",
         "100"
        ],
        [
         "CLINTON / KAINE",
         "100"
        ],
        [
         "TRUMP / PENCE",
         "100"
        ],
        [
         "Number of Under Votes",
         "55"
        ],
        [
         "Times Over Voted",
         "55"
        ],
        [
         "Times Blank Voted",
         "55"
        ],
        [
         "Registered Voters",
         "55"
        ],
        [
         "WRITE-IN 900",
         "45"
        ],
        [
         "Overvote",
         "45"
        ],
        [
         "Undervote",
         "45"
        ],
        [
         "TotalVotes",
         "45"
        ],
        [
         "Ballots Cast",
         "44"
        ],
        [
         "Write-in 50",
         "44"
        ],
        [
         "Write-in",
         "11"
        ],
        [
         "Times Counted",
         "11"
        ]
       ],
       "shape": {
        "columns": 1,
        "rows": 27
       }
      },
      "text/plain": [
       "candidate\n",
       "WRITE-IN                 489\n",
       "OVER VOTES               489\n",
       "UNDER VOTES              489\n",
       "STEIN                    350\n",
       "JOHNSON                  350\n",
       "TRUMP                    350\n",
       "CLINTON                  350\n",
       "CLINTON, KAINE           139\n",
       "TRUMP, PENCE             139\n",
       "JOHNSON, WELD            139\n",
       "STEIN, BARAKA            139\n",
       "STEIN / BARAKA           100\n",
       "JOHNSON / WELD           100\n",
       "CLINTON / KAINE          100\n",
       "TRUMP / PENCE            100\n",
       "Number of Under Votes     55\n",
       "Times Over Voted          55\n",
       "Times Blank Voted         55\n",
       "Registered Voters         55\n",
       "WRITE-IN 900              45\n",
       "Overvote                  45\n",
       "Undervote                 45\n",
       "TotalVotes                45\n",
       "Ballots Cast              44\n",
       "Write-in 50               44\n",
       "Write-in                  11\n",
       "Times Counted             11\n",
       "Name: count, dtype: int64"
      ]
     },
     "execution_count": 63,
     "metadata": {},
     "output_type": "execute_result"
    }
   ],
   "source": [
    "# Viewing candidate data\n",
    "general_data[\"candidate\"].value_counts(dropna=False)"
   ]
  },
  {
   "cell_type": "code",
   "execution_count": 64,
   "id": "90417a20",
   "metadata": {},
   "outputs": [
    {
     "name": "stderr",
     "output_type": "stream",
     "text": [
      "C:\\Users\\ADMIN\\AppData\\Local\\Temp\\ipykernel_29772\\3866137965.py:4: SettingWithCopyWarning: \n",
      "A value is trying to be set on a copy of a slice from a DataFrame.\n",
      "Try using .loc[row_indexer,col_indexer] = value instead\n",
      "\n",
      "See the caveats in the documentation: https://pandas.pydata.org/pandas-docs/stable/user_guide/indexing.html#returning-a-view-versus-a-copy\n",
      "  general_data[\"candidate\"] = general_data[\"candidate\"].astype(str).str.upper()\n",
      "C:\\Users\\ADMIN\\AppData\\Local\\Temp\\ipykernel_29772\\3866137965.py:43: SettingWithCopyWarning: \n",
      "A value is trying to be set on a copy of a slice from a DataFrame.\n",
      "Try using .loc[row_indexer,col_indexer] = value instead\n",
      "\n",
      "See the caveats in the documentation: https://pandas.pydata.org/pandas-docs/stable/user_guide/indexing.html#returning-a-view-versus-a-copy\n",
      "  general_data[\"candidate\"] = (\n",
      "C:\\Users\\ADMIN\\AppData\\Local\\Temp\\ipykernel_29772\\3866137965.py:50: SettingWithCopyWarning: \n",
      "A value is trying to be set on a copy of a slice from a DataFrame.\n",
      "Try using .loc[row_indexer,col_indexer] = value instead\n",
      "\n",
      "See the caveats in the documentation: https://pandas.pydata.org/pandas-docs/stable/user_guide/indexing.html#returning-a-view-versus-a-copy\n",
      "  general_data[\"candidate\"] = general_data[\"candidate\"].str.split().str[-1]\n",
      "C:\\Users\\ADMIN\\AppData\\Local\\Temp\\ipykernel_29772\\3866137965.py:53: SettingWithCopyWarning: \n",
      "A value is trying to be set on a copy of a slice from a DataFrame.\n",
      "Try using .loc[row_indexer,col_indexer] = value instead\n",
      "\n",
      "See the caveats in the documentation: https://pandas.pydata.org/pandas-docs/stable/user_guide/indexing.html#returning-a-view-versus-a-copy\n",
      "  general_data[\"candidate\"] = (\n"
     ]
    },
    {
     "data": {
      "application/vnd.microsoft.datawrangler.viewer.v0+json": {
       "columns": [
        {
         "name": "candidate",
         "rawType": "object",
         "type": "string"
        },
        {
         "name": "count",
         "rawType": "int64",
         "type": "integer"
        }
       ],
       "ref": "265df686-0d88-43ce-a025-45a20c1a6c96",
       "rows": [
        [
         "CLINTON",
         "589"
        ],
        [
         "TRUMP",
         "589"
        ],
        [
         "JOHNSON",
         "589"
        ],
        [
         "STEIN",
         "589"
        ]
       ],
       "shape": {
        "columns": 1,
        "rows": 4
       }
      },
      "text/plain": [
       "candidate\n",
       "CLINTON    589\n",
       "TRUMP      589\n",
       "JOHNSON    589\n",
       "STEIN      589\n",
       "Name: count, dtype: int64"
      ]
     },
     "execution_count": 64,
     "metadata": {},
     "output_type": "execute_result"
    }
   ],
   "source": [
    "# Cleaning Candidates\n",
    "\n",
    "# Turning all primary data to uppercase\n",
    "general_data[\"candidate\"] = general_data[\"candidate\"].astype(str).str.upper()\n",
    "\n",
    "\n",
    "unwanted_keywords = [\n",
    "    r\"\\w*VOTE\\w*\",\n",
    "    r\"\\w*UNCOM\\w*\",\n",
    "    r\"\\w*TOTAL\\w*\",\n",
    "    r\"\\w*WRITE[\\s-]\\w*\",\n",
    "    r\"NAN\",\n",
    "    r\"UNCERTIFIED\",\n",
    "    r\"UNVERIFIED\",\n",
    "    r\"NONE OF THE ABOVE\",\n",
    "    r\"LBT\",\n",
    "    r\"DEM\",\n",
    "    r\"REP\",\n",
    "    r\"GRN\",\n",
    "    r\"NAN\",\n",
    "    r\"\\w*CAST\\w*\",\n",
    "    r\"\\w*COUNT\\w*\"\n",
    "\n",
    "]\n",
    "\n",
    "pattern = \"|\".join(unwanted_keywords)\n",
    "\n",
    "# FILTER OUT TRASH WORDS\n",
    "general_data = general_data[~general_data[\"candidate\"].str.upper().str.contains(pattern, regex=True, na=False)]\n",
    "\n",
    "# Fixing Darrell Castle\"\n",
    "general_data.loc[\n",
    "    general_data[\"candidate\"].str.contains(\"\\w*KAIN\\w*\", case=False, na=False),\n",
    "    \"candidate\"\n",
    "] = \"CLINTON\"\n",
    "\n",
    "general_data.loc[\n",
    "    general_data[\"candidate\"].str.contains(\"\\w*PENCE\\w*\", case=False, na=False),\n",
    "    \"candidate\"\n",
    "] = \"TRUMP\"\n",
    "\n",
    "# Fixing mixed president + vice_president by /\n",
    "general_data[\"candidate\"] = (\n",
    "    general_data[\"candidate\"].str.split(\"/\")\n",
    "    .str[0]\n",
    "    .str.strip()\n",
    "    )\n",
    "\n",
    "#Selecting only last name\n",
    "general_data[\"candidate\"] = general_data[\"candidate\"].str.split().str[-1]\n",
    "\n",
    "# Fixing the , candidate\n",
    "general_data[\"candidate\"] = (\n",
    "    general_data[\"candidate\"].str.split(\",\")\n",
    "    .str[0]\n",
    "    .str.strip()\n",
    "    )\n",
    "\n",
    "\n",
    "\n",
    "# Fixing Cubbler\n",
    "general_data.loc[\n",
    "    ( \n",
    "        general_data[\"candidate\"].str.contains(\"\\w*UBBIER\\w*\", case=False, na=False)|\n",
    "        general_data[\"candidate\"].str.contains(\"\\w*UBLER\\w*\", case=False, na=False)|\n",
    "        general_data[\"candidate\"].str.contains(\"\\w*OBBLER\\w*\", case=False, na=False),\n",
    "    \"candidate\")\n",
    "] = \"CUBBLER\"\n",
    "\n",
    "\n",
    "# Fixing Kotlikoff\n",
    "general_data.loc[\n",
    "    general_data[\"candidate\"].str.contains(\"\\w*BARAKA\\w*\", case=False, na=False),\n",
    "    \"candidate\"\n",
    "] = \"STEIN\"\n",
    "\n",
    "# Fixing Valdivia\n",
    "general_data.loc[\n",
    "    general_data[\"candidate\"].str.contains(\"\\w*WELD\\W*\", case=False, na=False),\n",
    "    \"candidate\"\n",
    "] = \"JOHNSON\"\n",
    "\n",
    "# Fixing HOEFLING\n",
    "general_data.loc[\n",
    "    general_data[\"candidate\"].str.contains(\"\\w*HOEFFLING\", case=False, na=False),\n",
    "    \"candidate\"\n",
    "] = \"HOEFLING\"\n",
    "\n",
    "\n",
    "# Fixing McMullin\n",
    "general_data.loc[\n",
    "    general_data[\"candidate\"].str.contains(\"MCMULLEN\", case=False, na=False) ,\n",
    "    \"candidate\"\n",
    "] = \"MCMULLIN\"\n",
    "\n",
    "general_data[\"candidate\"].value_counts(dropna=False)"
   ]
  },
  {
   "cell_type": "code",
   "execution_count": 65,
   "id": "a22405a6",
   "metadata": {},
   "outputs": [
    {
     "data": {
      "application/vnd.microsoft.datawrangler.viewer.v0+json": {
       "columns": [
        {
         "name": "party",
         "rawType": "object",
         "type": "string"
        },
        {
         "name": "count",
         "rawType": "int64",
         "type": "integer"
        }
       ],
       "ref": "908be011-0205-4462-a0ef-bb4be3d8930b",
       "rows": [
        [
         "DEM",
         "589"
        ],
        [
         "REP",
         "589"
        ],
        [
         "GRN",
         "589"
        ],
        [
         "LBT",
         "534"
        ],
        [
         "LIB",
         "55"
        ]
       ],
       "shape": {
        "columns": 1,
        "rows": 5
       }
      },
      "text/plain": [
       "party\n",
       "DEM    589\n",
       "REP    589\n",
       "GRN    589\n",
       "LBT    534\n",
       "LIB     55\n",
       "Name: count, dtype: int64"
      ]
     },
     "execution_count": 65,
     "metadata": {},
     "output_type": "execute_result"
    }
   ],
   "source": [
    "# Viewing Party\n",
    "general_data[\"party\"].value_counts(dropna=False)"
   ]
  },
  {
   "cell_type": "code",
   "execution_count": 66,
   "id": "21d7595b",
   "metadata": {},
   "outputs": [
    {
     "name": "stderr",
     "output_type": "stream",
     "text": [
      "C:\\Users\\ADMIN\\AppData\\Local\\Temp\\ipykernel_29772\\1869924615.py:49: SettingWithCopyWarning: \n",
      "A value is trying to be set on a copy of a slice from a DataFrame.\n",
      "Try using .loc[row_indexer,col_indexer] = value instead\n",
      "\n",
      "See the caveats in the documentation: https://pandas.pydata.org/pandas-docs/stable/user_guide/indexing.html#returning-a-view-versus-a-copy\n",
      "  general_data[\"party\"] = general_data.apply(\n"
     ]
    },
    {
     "data": {
      "application/vnd.microsoft.datawrangler.viewer.v0+json": {
       "columns": [
        {
         "name": "party",
         "rawType": "object",
         "type": "string"
        },
        {
         "name": "count",
         "rawType": "int64",
         "type": "integer"
        }
       ],
       "ref": "e9aba9d3-ac65-4042-b743-6cb4a72bbcd2",
       "rows": [
        [
         "DEM",
         "589"
        ],
        [
         "REP",
         "589"
        ],
        [
         "GRN",
         "589"
        ],
        [
         "LBT",
         "534"
        ],
        [
         "LIB",
         "55"
        ]
       ],
       "shape": {
        "columns": 1,
        "rows": 5
       }
      },
      "text/plain": [
       "party\n",
       "DEM    589\n",
       "REP    589\n",
       "GRN    589\n",
       "LBT    534\n",
       "LIB     55\n",
       "Name: count, dtype: int64"
      ]
     },
     "execution_count": 66,
     "metadata": {},
     "output_type": "execute_result"
    }
   ],
   "source": [
    "#=====================================\n",
    "# This function is used to look up party\n",
    "# for the candidate in the same df\n",
    "#=====================================\n",
    "def fill_party_from_data(row, df):\n",
    "    if pd.notna(row[\"party\"]):\n",
    "        return row[\"party\"]\n",
    "    \n",
    "    # Try to find other rows with the same candidate and known party\n",
    "    matches = df[(df[\"candidate\"] == row[\"candidate\"]) & (df[\"party\"].notna())]\n",
    "    if not matches.empty:\n",
    "        return matches[\"party\"].iloc[0]  # Return the first match's party\n",
    "    else:\n",
    "        return None  # Still unknown\n",
    "    \n",
    "\n",
    "#=====================================\n",
    "# Function to fill remaining missing party from master lookup\n",
    "#=====================================\n",
    "def fill_party_from_master(df, master_df):\n",
    "    party_map = master_df.set_index(\"candidate\")[\"party\"].to_dict()\n",
    "    df[\"party\"] = df.apply(\n",
    "        lambda row: party_map.get(row[\"candidate\"], row[\"party\"])\n",
    "        if pd.isna(row[\"party\"]) else row[\"party\"],\n",
    "        axis=1\n",
    "    )\n",
    "    return df\n",
    "\n",
    "\n",
    "#=====================================\n",
    "# Function to update the master candidate-party CSV\n",
    "#=====================================\n",
    "def update_master_candidate_party(df, master_path):\n",
    "    # Read the existing master file\n",
    "    master_df = pd.read_csv(master_path)\n",
    "    \n",
    "    # Combine unique pairs\n",
    "    new_data = df[[\"candidate\", \"party\"]].dropna().drop_duplicates()\n",
    "    updated_master = pd.concat([master_df, new_data]).drop_duplicates(subset=\"candidate\")\n",
    "\n",
    "    # Save updated version\n",
    "    updated_master.to_csv(master_path, index=False)\n",
    "\n",
    "\n",
    "#=====================================\n",
    "# Example usage (uncomment and modify for your workflow)\n",
    "#=====================================\n",
    "# Fill party using internal data\n",
    "general_data[\"party\"] = general_data.apply(\n",
    "    lambda row: fill_party_from_data(row, general_data),\n",
    "    axis=1\n",
    ")\n",
    "\n",
    "# Fill remaining party using general master CSV\n",
    "# master_party_df = pd.read_csv(r\"C:\\Huy Phan\\College\\VoterTurnout\\data\\cleaned_data\\master_candidate_party.csv\") # USE YOUR OWN ADDRESS\n",
    "#  general_data = fill_party_from_master(general_data, master_party_df)\n",
    "general_data[\"party\"].value_counts(dropna=False)\n"
   ]
  },
  {
   "cell_type": "code",
   "execution_count": 67,
   "id": "8bb5d275",
   "metadata": {},
   "outputs": [
    {
     "name": "stderr",
     "output_type": "stream",
     "text": [
      "C:\\Users\\ADMIN\\AppData\\Local\\Temp\\ipykernel_29772\\477868490.py:3: SettingWithCopyWarning: \n",
      "A value is trying to be set on a copy of a slice from a DataFrame.\n",
      "Try using .loc[row_indexer,col_indexer] = value instead\n",
      "\n",
      "See the caveats in the documentation: https://pandas.pydata.org/pandas-docs/stable/user_guide/indexing.html#returning-a-view-versus-a-copy\n",
      "  general_data[\"party\"] = general_data[\"party\"].astype(str).str.upper()\n",
      "C:\\Users\\ADMIN\\AppData\\Local\\Temp\\ipykernel_29772\\477868490.py:5: SettingWithCopyWarning: \n",
      "A value is trying to be set on a copy of a slice from a DataFrame.\n",
      "Try using .loc[row_indexer,col_indexer] = value instead\n",
      "\n",
      "See the caveats in the documentation: https://pandas.pydata.org/pandas-docs/stable/user_guide/indexing.html#returning-a-view-versus-a-copy\n",
      "  general_data[\"party\"] = (\n"
     ]
    },
    {
     "data": {
      "application/vnd.microsoft.datawrangler.viewer.v0+json": {
       "columns": [
        {
         "name": "party",
         "rawType": "object",
         "type": "string"
        },
        {
         "name": "count",
         "rawType": "int64",
         "type": "integer"
        }
       ],
       "ref": "f279d71e-d110-4f44-a46c-1c65875039ea",
       "rows": [
        [
         "DEM",
         "589"
        ],
        [
         "REP",
         "589"
        ],
        [
         "LIB",
         "589"
        ],
        [
         "GRN",
         "589"
        ]
       ],
       "shape": {
        "columns": 1,
        "rows": 4
       }
      },
      "text/plain": [
       "party\n",
       "DEM    589\n",
       "REP    589\n",
       "LIB    589\n",
       "GRN    589\n",
       "Name: count, dtype: int64"
      ]
     },
     "execution_count": 67,
     "metadata": {},
     "output_type": "execute_result"
    }
   ],
   "source": [
    "# Cleaning Party\n",
    "# Turning all general data party to uppercase\n",
    "general_data[\"party\"] = general_data[\"party\"].astype(str).str.upper()\n",
    "\n",
    "general_data[\"party\"] = (\n",
    "    general_data[\"party\"]\n",
    "    .replace({\n",
    "        \"REPUBLICAN\": \"REP\",\n",
    "        \"R\": \"REP\",\n",
    "        \"DEMOCRATIC\": \"DEM\",\n",
    "        \"DEM\": \"DEM\",\n",
    "        \"D\": \"DEM\",\n",
    "        \"GREEN\": \"GRN\",\n",
    "        \"G\": \"GREEN\",\n",
    "        \"LIBERTARIAN\": \"LIB\",\n",
    "        \"LBT\": \"LIB\",\n",
    "        \"L\": \"LIB\",\n",
    "        \"CONSTITUTION\": \"CON\",\n",
    "        \"NP\": \"IND\",\n",
    "        \"NON\": \"IND\",\n",
    "        \"WRI\": \"IND\",\n",
    "        \"WRITE-IN\": \"IND\",\n",
    "        \"ONA\": \"IND\",\n",
    "        \"GEN\": \"IND\",\n",
    "        \"NONE\":\"UNK\"\n",
    "    })\n",
    ")\n",
    "\n",
    "general_data[\"party\"].value_counts(dropna=False)"
   ]
  },
  {
   "cell_type": "code",
   "execution_count": 68,
   "id": "ff4a4970",
   "metadata": {},
   "outputs": [],
   "source": [
    "# UPDATE MASTER FILE, CAREFUL\n",
    "update_master_candidate_party(general_data, r\"C:\\Huy Phan\\College\\VoterTurnout\\data\\cleaned_data\\gen_can_party.csv\")"
   ]
  },
  {
   "cell_type": "code",
   "execution_count": 69,
   "id": "daaed088",
   "metadata": {},
   "outputs": [
    {
     "name": "stderr",
     "output_type": "stream",
     "text": [
      "C:\\Users\\ADMIN\\AppData\\Local\\Temp\\ipykernel_29772\\1829951435.py:1: SettingWithCopyWarning: \n",
      "A value is trying to be set on a copy of a slice from a DataFrame.\n",
      "Try using .loc[row_indexer,col_indexer] = value instead\n",
      "\n",
      "See the caveats in the documentation: https://pandas.pydata.org/pandas-docs/stable/user_guide/indexing.html#returning-a-view-versus-a-copy\n",
      "  general_data[\"candidate_column\"] = (\n"
     ]
    },
    {
     "data": {
      "application/vnd.microsoft.datawrangler.viewer.v0+json": {
       "columns": [
        {
         "name": "index",
         "rawType": "int64",
         "type": "integer"
        },
        {
         "name": "precinct",
         "rawType": "object",
         "type": "string"
        },
        {
         "name": "gen_dem_CLINTON",
         "rawType": "int64",
         "type": "integer"
        },
        {
         "name": "gen_grn_STEIN",
         "rawType": "int64",
         "type": "integer"
        },
        {
         "name": "gen_lib_JOHNSON",
         "rawType": "int64",
         "type": "integer"
        },
        {
         "name": "gen_rep_TRUMP",
         "rawType": "int64",
         "type": "integer"
        }
       ],
       "ref": "268d62a6-1276-4a96-8fa8-8d7b249ce0bc",
       "rows": [
        [
         "0",
         "APACHEALPINE",
         "60",
         "2",
         "13",
         "216"
        ],
        [
         "1",
         "APACHECANYON DE CHELLY",
         "1387",
         "32",
         "72",
         "143"
        ],
        [
         "2",
         "APACHECHINLE",
         "678",
         "17",
         "38",
         "93"
        ],
        [
         "3",
         "APACHECONCHO",
         "228",
         "11",
         "44",
         "1135"
        ],
        [
         "4",
         "APACHECORNFIELDS",
         "349",
         "3",
         "16",
         "33"
        ],
        [
         "5",
         "APACHECORONADO",
         "57",
         "5",
         "13",
         "582"
        ],
        [
         "6",
         "APACHECOTTONWOOD",
         "589",
         "11",
         "26",
         "47"
        ],
        [
         "7",
         "APACHEDENNEHOTSO",
         "430",
         "9",
         "16",
         "40"
        ],
        [
         "8",
         "APACHEEAGAR",
         "141",
         "7",
         "22",
         "762"
        ],
        [
         "9",
         "APACHEFLAT TOP",
         "83",
         "2",
         "12",
         "559"
        ],
        [
         "10",
         "APACHEFT. DEFIANCE",
         "1306",
         "39",
         "90",
         "251"
        ],
        [
         "11",
         "APACHEGANADO NORTH",
         "316",
         "4",
         "18",
         "33"
        ],
        [
         "12",
         "APACHEGANADO SOUTH",
         "485",
         "15",
         "25",
         "55"
        ],
        [
         "13",
         "APACHEGREER",
         "34",
         "0",
         "1",
         "87"
        ],
        [
         "14",
         "APACHEHOUCK",
         "407",
         "9",
         "47",
         "102"
        ],
        [
         "15",
         "APACHEKINLICHEE",
         "520",
         "8",
         "27",
         "42"
        ],
        [
         "16",
         "APACHEKLAGETOH",
         "359",
         "12",
         "35",
         "54"
        ],
        [
         "17",
         "APACHELUKACHUKAI",
         "710",
         "14",
         "44",
         "47"
        ],
        [
         "18",
         "APACHELUPTON",
         "261",
         "8",
         "12",
         "50"
        ],
        [
         "19",
         "APACHEMANY FARMS",
         "732",
         "7",
         "45",
         "51"
        ],
        [
         "20",
         "APACHEMCNARY",
         "66",
         "3",
         "4",
         "11"
        ],
        [
         "21",
         "APACHEMEXICAN WATER",
         "87",
         "1",
         "9",
         "5"
        ],
        [
         "22",
         "APACHENAZLINI",
         "430",
         "6",
         "28",
         "45"
        ],
        [
         "23",
         "APACHENUTRIOSO",
         "59",
         "3",
         "4",
         "213"
        ],
        [
         "24",
         "APACHEOAK SPRINGS",
         "218",
         "10",
         "17",
         "24"
        ],
        [
         "25",
         "APACHEPUERCO EAST & 49 PUERCO WE",
         "478",
         "20",
         "32",
         "223"
        ],
        [
         "26",
         "APACHERED MESA",
         "98",
         "4",
         "9",
         "10"
        ],
        [
         "27",
         "APACHERED VALLEY",
         "259",
         "6",
         "45",
         "81"
        ],
        [
         "28",
         "APACHEROCK POINT",
         "557",
         "8",
         "28",
         "38"
        ],
        [
         "29",
         "APACHEROUGH ROCK",
         "381",
         "1",
         "12",
         "25"
        ],
        [
         "30",
         "APACHEROUND ROCK",
         "407",
         "5",
         "23",
         "25"
        ],
        [
         "31",
         "APACHEROUND VALLEY",
         "66",
         "5",
         "14",
         "470"
        ],
        [
         "32",
         "APACHESAWMILL",
         "337",
         "16",
         "28",
         "39"
        ],
        [
         "33",
         "APACHESPRINGERVILLE",
         "145",
         "5",
         "28",
         "521"
        ],
        [
         "34",
         "APACHEST. JOHNS",
         "195",
         "19",
         "31",
         "761"
        ],
        [
         "35",
         "APACHEST. MICHAELS",
         "854",
         "39",
         "62",
         "124"
        ],
        [
         "36",
         "APACHESTEAMBOAT",
         "630",
         "11",
         "22",
         "38"
        ],
        [
         "37",
         "APACHESWEETWATER",
         "228",
         "7",
         "36",
         "61"
        ],
        [
         "38",
         "APACHETACHEE",
         "245",
         "6",
         "5",
         "22"
        ],
        [
         "39",
         "APACHETEEC NOS POS",
         "303",
         "7",
         "27",
         "61"
        ],
        [
         "40",
         "APACHEVERNON",
         "175",
         "16",
         "30",
         "838"
        ],
        [
         "41",
         "APACHEWHEATFIELDS",
         "693",
         "17",
         "30",
         "42"
        ],
        [
         "42",
         "APACHEWIDE RUINS",
         "335",
         "5",
         "19",
         "37"
        ],
        [
         "43",
         "APACHEWINDOW ROCK",
         "705",
         "34",
         "62",
         "144"
        ],
        [
         "44",
         "COCHISE01 BE BENSON",
         "304",
         "24",
         "48",
         "630"
        ],
        [
         "45",
         "COCHISE02 BE J-SIX",
         "320",
         "20",
         "59",
         "992"
        ],
        [
         "46",
         "COCHISE03 BE SAN PEDRO",
         "376",
         "26",
         "65",
         "727"
        ],
        [
         "47",
         "COCHISE04 BI BISBEE",
         "699",
         "58",
         "26",
         "179"
        ],
        [
         "48",
         "COCHISE05 BI DON LUIS",
         "499",
         "27",
         "41",
         "397"
        ],
        [
         "49",
         "COCHISE06 BI WARREN",
         "577",
         "40",
         "50",
         "330"
        ]
       ],
       "shape": {
        "columns": 5,
        "rows": 589
       }
      },
      "text/html": [
       "<div>\n",
       "<style scoped>\n",
       "    .dataframe tbody tr th:only-of-type {\n",
       "        vertical-align: middle;\n",
       "    }\n",
       "\n",
       "    .dataframe tbody tr th {\n",
       "        vertical-align: top;\n",
       "    }\n",
       "\n",
       "    .dataframe thead th {\n",
       "        text-align: right;\n",
       "    }\n",
       "</style>\n",
       "<table border=\"1\" class=\"dataframe\">\n",
       "  <thead>\n",
       "    <tr style=\"text-align: right;\">\n",
       "      <th>candidate_column</th>\n",
       "      <th>precinct</th>\n",
       "      <th>gen_dem_CLINTON</th>\n",
       "      <th>gen_grn_STEIN</th>\n",
       "      <th>gen_lib_JOHNSON</th>\n",
       "      <th>gen_rep_TRUMP</th>\n",
       "    </tr>\n",
       "  </thead>\n",
       "  <tbody>\n",
       "    <tr>\n",
       "      <th>0</th>\n",
       "      <td>APACHEALPINE</td>\n",
       "      <td>60</td>\n",
       "      <td>2</td>\n",
       "      <td>13</td>\n",
       "      <td>216</td>\n",
       "    </tr>\n",
       "    <tr>\n",
       "      <th>1</th>\n",
       "      <td>APACHECANYON DE CHELLY</td>\n",
       "      <td>1387</td>\n",
       "      <td>32</td>\n",
       "      <td>72</td>\n",
       "      <td>143</td>\n",
       "    </tr>\n",
       "    <tr>\n",
       "      <th>2</th>\n",
       "      <td>APACHECHINLE</td>\n",
       "      <td>678</td>\n",
       "      <td>17</td>\n",
       "      <td>38</td>\n",
       "      <td>93</td>\n",
       "    </tr>\n",
       "    <tr>\n",
       "      <th>3</th>\n",
       "      <td>APACHECONCHO</td>\n",
       "      <td>228</td>\n",
       "      <td>11</td>\n",
       "      <td>44</td>\n",
       "      <td>1135</td>\n",
       "    </tr>\n",
       "    <tr>\n",
       "      <th>4</th>\n",
       "      <td>APACHECORNFIELDS</td>\n",
       "      <td>349</td>\n",
       "      <td>3</td>\n",
       "      <td>16</td>\n",
       "      <td>33</td>\n",
       "    </tr>\n",
       "    <tr>\n",
       "      <th>...</th>\n",
       "      <td>...</td>\n",
       "      <td>...</td>\n",
       "      <td>...</td>\n",
       "      <td>...</td>\n",
       "      <td>...</td>\n",
       "    </tr>\n",
       "    <tr>\n",
       "      <th>584</th>\n",
       "      <td>YUMA5</td>\n",
       "      <td>461</td>\n",
       "      <td>4</td>\n",
       "      <td>58</td>\n",
       "      <td>808</td>\n",
       "    </tr>\n",
       "    <tr>\n",
       "      <th>585</th>\n",
       "      <td>YUMA6</td>\n",
       "      <td>902</td>\n",
       "      <td>24</td>\n",
       "      <td>47</td>\n",
       "      <td>298</td>\n",
       "    </tr>\n",
       "    <tr>\n",
       "      <th>586</th>\n",
       "      <td>YUMA7</td>\n",
       "      <td>1351</td>\n",
       "      <td>36</td>\n",
       "      <td>39</td>\n",
       "      <td>199</td>\n",
       "    </tr>\n",
       "    <tr>\n",
       "      <th>587</th>\n",
       "      <td>YUMA8</td>\n",
       "      <td>267</td>\n",
       "      <td>5</td>\n",
       "      <td>24</td>\n",
       "      <td>515</td>\n",
       "    </tr>\n",
       "    <tr>\n",
       "      <th>588</th>\n",
       "      <td>YUMA9</td>\n",
       "      <td>257</td>\n",
       "      <td>12</td>\n",
       "      <td>47</td>\n",
       "      <td>994</td>\n",
       "    </tr>\n",
       "  </tbody>\n",
       "</table>\n",
       "<p>589 rows × 5 columns</p>\n",
       "</div>"
      ],
      "text/plain": [
       "candidate_column                precinct  gen_dem_CLINTON  gen_grn_STEIN  \\\n",
       "0                           APACHEALPINE               60              2   \n",
       "1                 APACHECANYON DE CHELLY             1387             32   \n",
       "2                           APACHECHINLE              678             17   \n",
       "3                           APACHECONCHO              228             11   \n",
       "4                       APACHECORNFIELDS              349              3   \n",
       "..                                   ...              ...            ...   \n",
       "584                                YUMA5              461              4   \n",
       "585                                YUMA6              902             24   \n",
       "586                                YUMA7             1351             36   \n",
       "587                                YUMA8              267              5   \n",
       "588                                YUMA9              257             12   \n",
       "\n",
       "candidate_column  gen_lib_JOHNSON  gen_rep_TRUMP  \n",
       "0                              13            216  \n",
       "1                              72            143  \n",
       "2                              38             93  \n",
       "3                              44           1135  \n",
       "4                              16             33  \n",
       "..                            ...            ...  \n",
       "584                            58            808  \n",
       "585                            47            298  \n",
       "586                            39            199  \n",
       "587                            24            515  \n",
       "588                            47            994  \n",
       "\n",
       "[589 rows x 5 columns]"
      ]
     },
     "execution_count": 69,
     "metadata": {},
     "output_type": "execute_result"
    }
   ],
   "source": [
    "general_data[\"candidate_column\"] = (\n",
    "    \"gen_\" +\n",
    "    general_data[\"party\"].str.lower() + \"_\" +\n",
    "    general_data[\"candidate\"].str.split().str[-1].str.upper()\n",
    ")\n",
    "\n",
    "# pivot the table\n",
    "general_result = general_data.pivot_table(\n",
    "    index=\"precinct\",\n",
    "    columns=\"candidate_column\",\n",
    "    values=\"votes\",\n",
    "    aggfunc=\"sum\",  \n",
    "    fill_value=0\n",
    ").reset_index()\n",
    "\n",
    "general_result"
   ]
  },
  {
   "cell_type": "code",
   "execution_count": 70,
   "id": "6686d34b",
   "metadata": {},
   "outputs": [],
   "source": [
    "# Merge\n",
    "combined = pd.merge(primary_result, general_result, on=\"precinct\", how=\"inner\")\n",
    "\n",
    "# Convert DEM primary columns to numeric and calculate total\n",
    "dem_cols = combined.filter(like=\"pri_dem_\").columns\n",
    "combined[dem_cols] = combined[dem_cols].apply(pd.to_numeric, errors=\"coerce\")\n",
    "combined[\"dem_primary_total\"] = combined[dem_cols].sum(axis=1)\n",
    "\n",
    "# Convert general election columns to numeric and calculate total\n",
    "gen_cols = combined.filter(like=\"gen_\").columns\n",
    "combined[gen_cols] = combined[gen_cols].apply(pd.to_numeric, errors=\"coerce\")\n",
    "combined[\"general_total\"] = combined[gen_cols].sum(axis=1)\n",
    "\n",
    "# Convert all numeric columns to int\n",
    "for col in combined.columns[1:]:\n",
    "    combined[col] = pd.to_numeric(combined[col], errors='coerce').fillna(0).astype(int)\n",
    "\n",
    "# Save combined\n",
    "combined.to_csv(\"TX.csv\", index=False)\n",
    "\n",
    "# Identify filtered-out precincts\n",
    "primary_precincts = set(primary_result[\"precinct\"])\n",
    "general_precincts = set(general_result[\"precinct\"])\n",
    "combined_precincts = set(combined[\"precinct\"])\n",
    "\n",
    "primary_filtered_out = primary_precincts - combined_precincts\n",
    "general_filtered_out = general_precincts - combined_precincts\n",
    "\n",
    "\n"
   ]
  },
  {
   "cell_type": "code",
   "execution_count": 71,
   "id": "a6797e92",
   "metadata": {},
   "outputs": [],
   "source": [
    "\n",
    "combined.to_csv(\"AZ.csv\", index=False)\n",
    "# Step 3: Identify unmatched precincts and retrieve full rows\n",
    "combined_precincts = set(combined[\"precinct\"])\n",
    "\n",
    "# Rows in primary_result but not in combined\n",
    "primary_filtered_out = primary_result[~primary_result[\"precinct\"].isin(combined_precincts)]\n",
    "primary_filtered_out.to_csv(\"AZ_primary_filtered.csv\", index=False)\n",
    "\n",
    "# Rows in general_result but not in combined\n",
    "general_filtered_out = general_result[~general_result[\"precinct\"].isin(combined_precincts)]\n",
    "general_filtered_out.to_csv(\"AZ_general_filtered.csv\", index=False)"
   ]
  },
  {
   "cell_type": "code",
   "execution_count": 72,
   "id": "bc42786f",
   "metadata": {},
   "outputs": [
    {
     "name": "stdout",
     "output_type": "stream",
     "text": [
      "primary: 411, general: 589, combined: 388\n"
     ]
    }
   ],
   "source": [
    "print(f\"primary: {len(primary_precincts)}, general: {len(general_precincts)}, combined: {len(combined)}\")"
   ]
  },
  {
   "cell_type": "code",
   "execution_count": 73,
   "id": "51b5190d",
   "metadata": {},
   "outputs": [
    {
     "name": "stdout",
     "output_type": "stream",
     "text": [
      "primary: 10, general: 10\n"
     ]
    }
   ],
   "source": [
    "print(f\"primary: {len(pri_combined_df['county'].unique())}, general: {len(gen_combined_df['county'].unique())}\")\n"
   ]
  },
  {
   "cell_type": "code",
   "execution_count": 74,
   "id": "dfcbc456",
   "metadata": {},
   "outputs": [
    {
     "data": {
      "text/plain": [
       "array(['APACHE', 'COCHISE', 'GREENLEE', 'LA PAZ', 'MOHAVE', 'NAVAJO',\n",
       "       'PIMA', 'PINAL', 'YAVAPAI', 'YUMA'], dtype=object)"
      ]
     },
     "execution_count": 74,
     "metadata": {},
     "output_type": "execute_result"
    }
   ],
   "source": [
    "pri_combined_df['county'].unique()"
   ]
  },
  {
   "cell_type": "code",
   "execution_count": 75,
   "id": "b6602b92",
   "metadata": {},
   "outputs": [
    {
     "data": {
      "text/plain": [
       "array(['Apache', 'Cochise', 'Greenlee', 'La Paz', 'Mohave', 'Navajo',\n",
       "       'Pima', 'Pinal', 'Yavapai', 'Yuma'], dtype=object)"
      ]
     },
     "execution_count": 75,
     "metadata": {},
     "output_type": "execute_result"
    }
   ],
   "source": [
    "gen_combined_df['county'].unique()\n"
   ]
  }
 ],
 "metadata": {
  "kernelspec": {
   "display_name": "Python 3",
   "language": "python",
   "name": "python3"
  },
  "language_info": {
   "codemirror_mode": {
    "name": "ipython",
    "version": 3
   },
   "file_extension": ".py",
   "mimetype": "text/x-python",
   "name": "python",
   "nbconvert_exporter": "python",
   "pygments_lexer": "ipython3",
   "version": "3.11.2"
  }
 },
 "nbformat": 4,
 "nbformat_minor": 5
}
