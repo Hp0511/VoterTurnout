{
 "cells": [
  {
   "cell_type": "code",
   "execution_count": 1,
   "id": "ad1be0fa",
   "metadata": {},
   "outputs": [],
   "source": [
    "# Import all the libraries\n",
    "import pandas as pd\n",
    "import glob\n",
    "import os\n",
    "import re\n",
    "from pprint import pprint"
   ]
  },
  {
   "cell_type": "code",
   "execution_count": 2,
   "id": "c263c4df",
   "metadata": {},
   "outputs": [],
   "source": [
    "#Get all CSV files in the folder of GA\n",
    "all_files = glob.glob(r\"C:\\Huy Phan\\College\\VoterTurnout\\data\\NY\\*.csv\")\n",
    "\n",
    "# Files that contain both 'precinct' and 'general' in the filename\n",
    "general_files = [\n",
    "    f for f in all_files\n",
    "    if all(word in f.lower() for word in ['general','precinct'])\n",
    "]\n",
    "\n",
    "# Files that contain both 'precinct' and 'primary' in the filename\n",
    "primary_files = [\n",
    "    f for f in all_files\n",
    "    if all(word in f.lower() for word in ['primary','precinct'])\n",
    "]\n"
   ]
  },
  {
   "cell_type": "code",
   "execution_count": 3,
   "id": "60d49ea6",
   "metadata": {},
   "outputs": [
    {
     "name": "stdout",
     "output_type": "stream",
     "text": [
      "General files:\n",
      "C:\\Huy Phan\\College\\VoterTurnout\\data\\NY\\20161108__ny__general__precinct.csv\n"
     ]
    }
   ],
   "source": [
    "print(\"General files:\")\n",
    "for f in general_files:\n",
    "    print(f)\n"
   ]
  },
  {
   "cell_type": "code",
   "execution_count": 4,
   "id": "4ab13110",
   "metadata": {},
   "outputs": [
    {
     "name": "stdout",
     "output_type": "stream",
     "text": [
      "\n",
      "Primary files:\n",
      "C:\\Huy Phan\\College\\VoterTurnout\\data\\NY\\20160419__ny__primary__albany__precinct.csv\n",
      "C:\\Huy Phan\\College\\VoterTurnout\\data\\NY\\20160419__ny__primary__bronx__precinct.csv\n",
      "C:\\Huy Phan\\College\\VoterTurnout\\data\\NY\\20160419__ny__primary__chenango__precinct.csv\n",
      "C:\\Huy Phan\\College\\VoterTurnout\\data\\NY\\20160419__ny__primary__kings__precinct.csv\n",
      "C:\\Huy Phan\\College\\VoterTurnout\\data\\NY\\20160419__ny__primary__new york__precinct.csv\n",
      "C:\\Huy Phan\\College\\VoterTurnout\\data\\NY\\20160419__ny__primary__queens__precinct.csv\n",
      "C:\\Huy Phan\\College\\VoterTurnout\\data\\NY\\20160419__ny__primary__richmond__precinct.csv\n",
      "C:\\Huy Phan\\College\\VoterTurnout\\data\\NY\\20160628__ny__primary__bronx__precinct.csv\n",
      "C:\\Huy Phan\\College\\VoterTurnout\\data\\NY\\20160628__ny__primary__chenango__precinct.csv\n",
      "C:\\Huy Phan\\College\\VoterTurnout\\data\\NY\\20160628__ny__primary__kings__precinct.csv\n",
      "C:\\Huy Phan\\College\\VoterTurnout\\data\\NY\\20160628__ny__primary__new york__precinct.csv\n",
      "C:\\Huy Phan\\College\\VoterTurnout\\data\\NY\\20160628__ny__primary__queens__precinct.csv\n",
      "C:\\Huy Phan\\College\\VoterTurnout\\data\\NY\\20160913__ny__primary__bronx__precinct.csv\n",
      "C:\\Huy Phan\\College\\VoterTurnout\\data\\NY\\20160913__ny__primary__kings__precinct.csv\n",
      "C:\\Huy Phan\\College\\VoterTurnout\\data\\NY\\20160913__ny__primary__new york__precinct.csv\n",
      "C:\\Huy Phan\\College\\VoterTurnout\\data\\NY\\20160913__ny__primary__queens__precinct.csv\n",
      "C:\\Huy Phan\\College\\VoterTurnout\\data\\NY\\20160913__ny__primary__richmond__precinct.csv\n"
     ]
    }
   ],
   "source": [
    "print(\"\\nPrimary files:\")\n",
    "for f in primary_files:\n",
    "    print(f)"
   ]
  },
  {
   "cell_type": "code",
   "execution_count": 5,
   "id": "ff5df6c7",
   "metadata": {},
   "outputs": [
    {
     "data": {
      "application/vnd.microsoft.datawrangler.viewer.v0+json": {
       "columns": [
        {
         "name": "index",
         "rawType": "int64",
         "type": "integer"
        },
        {
         "name": "county",
         "rawType": "object",
         "type": "string"
        },
        {
         "name": "precinct",
         "rawType": "object",
         "type": "string"
        },
        {
         "name": "office",
         "rawType": "object",
         "type": "string"
        },
        {
         "name": "district",
         "rawType": "object",
         "type": "unknown"
        },
        {
         "name": "party",
         "rawType": "object",
         "type": "string"
        },
        {
         "name": "candidate",
         "rawType": "object",
         "type": "string"
        },
        {
         "name": "votes",
         "rawType": "int64",
         "type": "integer"
        },
        {
         "name": "assembly_district",
         "rawType": "float64",
         "type": "float"
        }
       ],
       "ref": "6618ece7-c4a6-473b-b35a-2c4ad37aa237",
       "rows": [
        [
         "0",
         "Albany",
         "ALBANY001 ALBANY WARD 1 ED 1",
         "President",
         null,
         "DEM",
         "Bernie Sanders",
         "12",
         null
        ],
        [
         "1",
         "Albany",
         "ALBANY002 ALBANY WARD 1 ED 2",
         "President",
         null,
         "DEM",
         "Bernie Sanders",
         "73",
         null
        ],
        [
         "2",
         "Albany",
         "ALBANY003 ALBANY WARD 1 ED 3",
         "President",
         null,
         "DEM",
         "Bernie Sanders",
         "84",
         null
        ],
        [
         "3",
         "Albany",
         "ALBANY004 ALBANY WARD 1 ED 4",
         "President",
         null,
         "DEM",
         "Bernie Sanders",
         "91",
         null
        ],
        [
         "4",
         "Albany",
         "ALBANY005 ALBANY WARD 1 ED 5",
         "President",
         null,
         "DEM",
         "Bernie Sanders",
         "3",
         null
        ],
        [
         "5",
         "Albany",
         "ALBANY006 ALBANY WARD 1 ED 6",
         "President",
         null,
         "DEM",
         "Bernie Sanders",
         "70",
         null
        ],
        [
         "6",
         "Albany",
         "ALBANY007 ALBANY WARD 1 ED 7",
         "President",
         null,
         "DEM",
         "Bernie Sanders",
         "58",
         null
        ],
        [
         "7",
         "Albany",
         "ALBANY008 ALBANY WARD 1 ED 8",
         "President",
         null,
         "DEM",
         "Bernie Sanders",
         "7",
         null
        ],
        [
         "8",
         "Albany",
         "ALBANY009 ALBANY WARD 1 ED 9",
         "President",
         null,
         "DEM",
         "Bernie Sanders",
         "78",
         null
        ],
        [
         "9",
         "Albany",
         "ALBANY010 ALBANY WARD 1 ED 10",
         "President",
         null,
         "DEM",
         "Bernie Sanders",
         "3",
         null
        ],
        [
         "10",
         "Albany",
         "ALBANY011 ALBANY WARD 2 ED 1",
         "President",
         null,
         "DEM",
         "Bernie Sanders",
         "50",
         null
        ],
        [
         "11",
         "Albany",
         "ALBANY012 ALBANY WARD 2 ED 2",
         "President",
         null,
         "DEM",
         "Bernie Sanders",
         "21",
         null
        ],
        [
         "12",
         "Albany",
         "ALBANY013 ALBANY WARD 2 ED 3",
         "President",
         null,
         "DEM",
         "Bernie Sanders",
         "15",
         null
        ],
        [
         "13",
         "Albany",
         "ALBANY014 ALBANY WARD 2 ED 4",
         "President",
         null,
         "DEM",
         "Bernie Sanders",
         "54",
         null
        ],
        [
         "14",
         "Albany",
         "ALBANY015 ALBANY WARD 2 ED 5",
         "President",
         null,
         "DEM",
         "Bernie Sanders",
         "61",
         null
        ],
        [
         "15",
         "Albany",
         "ALBANY016 ALBANY WARD 2 ED 6",
         "President",
         null,
         "DEM",
         "Bernie Sanders",
         "96",
         null
        ],
        [
         "16",
         "Albany",
         "ALBANY017 ALBANY WARD 2 ED 7",
         "President",
         null,
         "DEM",
         "Bernie Sanders",
         "1",
         null
        ],
        [
         "17",
         "Albany",
         "ALBANY018 ALBANY WARD 2 ED 8",
         "President",
         null,
         "DEM",
         "Bernie Sanders",
         "9",
         null
        ],
        [
         "18",
         "Albany",
         "ALBANY019 ALBANY WARD 2 ED 9",
         "President",
         null,
         "DEM",
         "Bernie Sanders",
         "24",
         null
        ],
        [
         "19",
         "Albany",
         "ALBANY020 ALBANY WARD 2 ED 10",
         "President",
         null,
         "DEM",
         "Bernie Sanders",
         "0",
         null
        ],
        [
         "20",
         "Albany",
         "ALBANY021 ALBANY WARD 3 ED 1",
         "President",
         null,
         "DEM",
         "Bernie Sanders",
         "71",
         null
        ],
        [
         "21",
         "Albany",
         "ALBANY022 ALBANY WARD 3 ED 2",
         "President",
         null,
         "DEM",
         "Bernie Sanders",
         "4",
         null
        ],
        [
         "22",
         "Albany",
         "ALBANY023 ALBANY WARD 3 ED 3",
         "President",
         null,
         "DEM",
         "Bernie Sanders",
         "4",
         null
        ],
        [
         "23",
         "Albany",
         "ALBANY024 ALBANY WARD 3 ED 4",
         "President",
         null,
         "DEM",
         "Bernie Sanders",
         "31",
         null
        ],
        [
         "24",
         "Albany",
         "ALBANY025 ALBANY WARD 3 ED 5",
         "President",
         null,
         "DEM",
         "Bernie Sanders",
         "27",
         null
        ],
        [
         "25",
         "Albany",
         "ALBANY026 ALBANY WARD 3 ED 6",
         "President",
         null,
         "DEM",
         "Bernie Sanders",
         "17",
         null
        ],
        [
         "26",
         "Albany",
         "ALBANY027 ALBANY WARD 3 ED 7",
         "President",
         null,
         "DEM",
         "Bernie Sanders",
         "42",
         null
        ],
        [
         "27",
         "Albany",
         "ALBANY028 ALBANY WARD 3 ED 8",
         "President",
         null,
         "DEM",
         "Bernie Sanders",
         "19",
         null
        ],
        [
         "28",
         "Albany",
         "ALBANY029 ALBANY WARD 3 ED 9",
         "President",
         null,
         "DEM",
         "Bernie Sanders",
         "16",
         null
        ],
        [
         "29",
         "Albany",
         "ALBANY030 ALBANY WARD 3 ED 10",
         "President",
         null,
         "DEM",
         "Bernie Sanders",
         "33",
         null
        ],
        [
         "30",
         "Albany",
         "ALBANY031 ALBANY WARD 4 ED 1",
         "President",
         null,
         "DEM",
         "Bernie Sanders",
         "20",
         null
        ],
        [
         "31",
         "Albany",
         "ALBANY032 ALBANY WARD 4 ED 2",
         "President",
         null,
         "DEM",
         "Bernie Sanders",
         "13",
         null
        ],
        [
         "32",
         "Albany",
         "ALBANY033 ALBANY WARD 4 ED 3",
         "President",
         null,
         "DEM",
         "Bernie Sanders",
         "56",
         null
        ],
        [
         "33",
         "Albany",
         "ALBANY034 ALBANY WARD 4 ED 4",
         "President",
         null,
         "DEM",
         "Bernie Sanders",
         "96",
         null
        ],
        [
         "34",
         "Albany",
         "ALBANY035 ALBANY WARD 4 ED 5",
         "President",
         null,
         "DEM",
         "Bernie Sanders",
         "92",
         null
        ],
        [
         "35",
         "Albany",
         "ALBANY036 ALBANY WARD 4 ED 6",
         "President",
         null,
         "DEM",
         "Bernie Sanders",
         "21",
         null
        ],
        [
         "36",
         "Albany",
         "ALBANY037 ALBANY WARD 5 ED 1",
         "President",
         null,
         "DEM",
         "Bernie Sanders",
         "19",
         null
        ],
        [
         "37",
         "Albany",
         "ALBANY038 ALBANY WARD 5 ED 2",
         "President",
         null,
         "DEM",
         "Bernie Sanders",
         "14",
         null
        ],
        [
         "38",
         "Albany",
         "ALBANY039 ALBANY WARD 5 ED 3",
         "President",
         null,
         "DEM",
         "Bernie Sanders",
         "30",
         null
        ],
        [
         "39",
         "Albany",
         "ALBANY040 ALBANY WARD 5 ED 4",
         "President",
         null,
         "DEM",
         "Bernie Sanders",
         "14",
         null
        ],
        [
         "40",
         "Albany",
         "ALBANY041 ALBANY WARD 5 ED 5",
         "President",
         null,
         "DEM",
         "Bernie Sanders",
         "57",
         null
        ],
        [
         "41",
         "Albany",
         "ALBANY042 ALBANY WARD 5 ED 6",
         "President",
         null,
         "DEM",
         "Bernie Sanders",
         "38",
         null
        ],
        [
         "42",
         "Albany",
         "ALBANY043 ALBANY WARD 5 ED 7",
         "President",
         null,
         "DEM",
         "Bernie Sanders",
         "39",
         null
        ],
        [
         "43",
         "Albany",
         "ALBANY044 ALBANY WARD 6 ED 1",
         "President",
         null,
         "DEM",
         "Bernie Sanders",
         "21",
         null
        ],
        [
         "44",
         "Albany",
         "ALBANY045 ALBANY WARD 6 ED 2",
         "President",
         null,
         "DEM",
         "Bernie Sanders",
         "67",
         null
        ],
        [
         "45",
         "Albany",
         "ALBANY046 ALBANY WARD 6 ED 3",
         "President",
         null,
         "DEM",
         "Bernie Sanders",
         "102",
         null
        ],
        [
         "46",
         "Albany",
         "ALBANY047 ALBANY WARD 6 ED 4",
         "President",
         null,
         "DEM",
         "Bernie Sanders",
         "182",
         null
        ],
        [
         "47",
         "Albany",
         "ALBANY048 ALBANY WARD 6 ED 5",
         "President",
         null,
         "DEM",
         "Bernie Sanders",
         "180",
         null
        ],
        [
         "48",
         "Albany",
         "ALBANY049 ALBANY WARD 6 ED 6",
         "President",
         null,
         "DEM",
         "Bernie Sanders",
         "84",
         null
        ],
        [
         "49",
         "Albany",
         "ALBANY050 ALBANY WARD 6 ED 7",
         "President",
         null,
         "DEM",
         "Bernie Sanders",
         "4",
         null
        ]
       ],
       "shape": {
        "columns": 8,
        "rows": 83778
       }
      },
      "text/html": [
       "<div>\n",
       "<style scoped>\n",
       "    .dataframe tbody tr th:only-of-type {\n",
       "        vertical-align: middle;\n",
       "    }\n",
       "\n",
       "    .dataframe tbody tr th {\n",
       "        vertical-align: top;\n",
       "    }\n",
       "\n",
       "    .dataframe thead th {\n",
       "        text-align: right;\n",
       "    }\n",
       "</style>\n",
       "<table border=\"1\" class=\"dataframe\">\n",
       "  <thead>\n",
       "    <tr style=\"text-align: right;\">\n",
       "      <th></th>\n",
       "      <th>county</th>\n",
       "      <th>precinct</th>\n",
       "      <th>office</th>\n",
       "      <th>district</th>\n",
       "      <th>party</th>\n",
       "      <th>candidate</th>\n",
       "      <th>votes</th>\n",
       "      <th>assembly_district</th>\n",
       "    </tr>\n",
       "  </thead>\n",
       "  <tbody>\n",
       "    <tr>\n",
       "      <th>0</th>\n",
       "      <td>Albany</td>\n",
       "      <td>ALBANY001 ALBANY WARD 1 ED 1</td>\n",
       "      <td>President</td>\n",
       "      <td>NaN</td>\n",
       "      <td>DEM</td>\n",
       "      <td>Bernie Sanders</td>\n",
       "      <td>12</td>\n",
       "      <td>NaN</td>\n",
       "    </tr>\n",
       "    <tr>\n",
       "      <th>1</th>\n",
       "      <td>Albany</td>\n",
       "      <td>ALBANY002 ALBANY WARD 1 ED 2</td>\n",
       "      <td>President</td>\n",
       "      <td>NaN</td>\n",
       "      <td>DEM</td>\n",
       "      <td>Bernie Sanders</td>\n",
       "      <td>73</td>\n",
       "      <td>NaN</td>\n",
       "    </tr>\n",
       "    <tr>\n",
       "      <th>2</th>\n",
       "      <td>Albany</td>\n",
       "      <td>ALBANY003 ALBANY WARD 1 ED 3</td>\n",
       "      <td>President</td>\n",
       "      <td>NaN</td>\n",
       "      <td>DEM</td>\n",
       "      <td>Bernie Sanders</td>\n",
       "      <td>84</td>\n",
       "      <td>NaN</td>\n",
       "    </tr>\n",
       "    <tr>\n",
       "      <th>3</th>\n",
       "      <td>Albany</td>\n",
       "      <td>ALBANY004 ALBANY WARD 1 ED 4</td>\n",
       "      <td>President</td>\n",
       "      <td>NaN</td>\n",
       "      <td>DEM</td>\n",
       "      <td>Bernie Sanders</td>\n",
       "      <td>91</td>\n",
       "      <td>NaN</td>\n",
       "    </tr>\n",
       "    <tr>\n",
       "      <th>4</th>\n",
       "      <td>Albany</td>\n",
       "      <td>ALBANY005 ALBANY WARD 1 ED 5</td>\n",
       "      <td>President</td>\n",
       "      <td>NaN</td>\n",
       "      <td>DEM</td>\n",
       "      <td>Bernie Sanders</td>\n",
       "      <td>3</td>\n",
       "      <td>NaN</td>\n",
       "    </tr>\n",
       "    <tr>\n",
       "      <th>...</th>\n",
       "      <td>...</td>\n",
       "      <td>...</td>\n",
       "      <td>...</td>\n",
       "      <td>...</td>\n",
       "      <td>...</td>\n",
       "      <td>...</td>\n",
       "      <td>...</td>\n",
       "      <td>...</td>\n",
       "    </tr>\n",
       "    <tr>\n",
       "      <th>83773</th>\n",
       "      <td>Richmond</td>\n",
       "      <td>RICHMOND62</td>\n",
       "      <td>President</td>\n",
       "      <td>NaN</td>\n",
       "      <td>Republican</td>\n",
       "      <td>Affidavit</td>\n",
       "      <td>1</td>\n",
       "      <td>64.0</td>\n",
       "    </tr>\n",
       "    <tr>\n",
       "      <th>83774</th>\n",
       "      <td>Richmond</td>\n",
       "      <td>RICHMOND62</td>\n",
       "      <td>President</td>\n",
       "      <td>NaN</td>\n",
       "      <td>Republican</td>\n",
       "      <td>Donald J. Trump</td>\n",
       "      <td>41</td>\n",
       "      <td>64.0</td>\n",
       "    </tr>\n",
       "    <tr>\n",
       "      <th>83775</th>\n",
       "      <td>Richmond</td>\n",
       "      <td>RICHMOND62</td>\n",
       "      <td>President</td>\n",
       "      <td>NaN</td>\n",
       "      <td>Republican</td>\n",
       "      <td>John R. Kasich</td>\n",
       "      <td>5</td>\n",
       "      <td>64.0</td>\n",
       "    </tr>\n",
       "    <tr>\n",
       "      <th>83776</th>\n",
       "      <td>Richmond</td>\n",
       "      <td>RICHMOND62</td>\n",
       "      <td>President</td>\n",
       "      <td>NaN</td>\n",
       "      <td>Republican</td>\n",
       "      <td>Ben Carson</td>\n",
       "      <td>0</td>\n",
       "      <td>64.0</td>\n",
       "    </tr>\n",
       "    <tr>\n",
       "      <th>83777</th>\n",
       "      <td>Richmond</td>\n",
       "      <td>RICHMOND62</td>\n",
       "      <td>President</td>\n",
       "      <td>NaN</td>\n",
       "      <td>Republican</td>\n",
       "      <td>Ted Cruz</td>\n",
       "      <td>1</td>\n",
       "      <td>64.0</td>\n",
       "    </tr>\n",
       "  </tbody>\n",
       "</table>\n",
       "<p>83778 rows × 8 columns</p>\n",
       "</div>"
      ],
      "text/plain": [
       "         county                      precinct     office district       party  \\\n",
       "0        Albany  ALBANY001 ALBANY WARD 1 ED 1  President      NaN         DEM   \n",
       "1        Albany  ALBANY002 ALBANY WARD 1 ED 2  President      NaN         DEM   \n",
       "2        Albany  ALBANY003 ALBANY WARD 1 ED 3  President      NaN         DEM   \n",
       "3        Albany  ALBANY004 ALBANY WARD 1 ED 4  President      NaN         DEM   \n",
       "4        Albany  ALBANY005 ALBANY WARD 1 ED 5  President      NaN         DEM   \n",
       "...         ...                           ...        ...      ...         ...   \n",
       "83773  Richmond                    RICHMOND62  President      NaN  Republican   \n",
       "83774  Richmond                    RICHMOND62  President      NaN  Republican   \n",
       "83775  Richmond                    RICHMOND62  President      NaN  Republican   \n",
       "83776  Richmond                    RICHMOND62  President      NaN  Republican   \n",
       "83777  Richmond                    RICHMOND62  President      NaN  Republican   \n",
       "\n",
       "             candidate  votes  assembly_district  \n",
       "0       Bernie Sanders     12                NaN  \n",
       "1       Bernie Sanders     73                NaN  \n",
       "2       Bernie Sanders     84                NaN  \n",
       "3       Bernie Sanders     91                NaN  \n",
       "4       Bernie Sanders      3                NaN  \n",
       "...                ...    ...                ...  \n",
       "83773        Affidavit      1               64.0  \n",
       "83774  Donald J. Trump     41               64.0  \n",
       "83775   John R. Kasich      5               64.0  \n",
       "83776       Ben Carson      0               64.0  \n",
       "83777         Ted Cruz      1               64.0  \n",
       "\n",
       "[83778 rows x 8 columns]"
      ]
     },
     "execution_count": 5,
     "metadata": {},
     "output_type": "execute_result"
    }
   ],
   "source": [
    "# Process primary files\n",
    "primary_df_list = []\n",
    "\n",
    "for file in primary_files:\n",
    "    try:\n",
    "        df = pd.read_csv(file)\n",
    "        # Filtering out only President \n",
    "        if 'office' in df.columns:\n",
    "            df = df[df[\"office\"] == \"President\"]\n",
    "            \n",
    "        # Combine precinct as county + precinct\n",
    "        df[\"precinct\"] = df[\"county\"].astype(str) + df[\"precinct\"].astype(str)\n",
    "        df[\"precinct\"] = df[\"precinct\"].str.upper()\n",
    "\n",
    "        # Cleaning maybe total precinct\n",
    "        if 'precinct' in df.columns:\n",
    "            df['precinct'] = df['precinct'].astype(str)                  \n",
    "            df = df[df['precinct'].str.upper() != \"TOTAL\"]               \n",
    "            df = df[df['precinct'].str.strip().str.upper() != \"TOTAL\"]   \n",
    "            df = df[df['precinct'].str.upper() != \"NAN\"]                \n",
    "            df = df[~df['precinct'].str.upper().str.contains(r\"\\w*TOTAL\\w*\", na=False)]   \n",
    "\n",
    "        if 'county' in df.columns:\n",
    "            df['county'] = df['county'].astype(str)                  \n",
    "            df = df[df['county'].str.upper() != \"TOTAL\"]               \n",
    "            df = df[df['county'].str.strip().str.upper() != \"TOTAL\"]   \n",
    "            df = df[df['county'].str.upper() != \"NAN\"]       \n",
    "            df = df[~df['county'].str.upper().str.contains(r\"\\w*TOTAL\\w*\", na=False)]               \n",
    "        \n",
    "        # Dropping duplicates value\n",
    "        df = df.drop_duplicates()\n",
    "        primary_df_list.append(df)\n",
    "\n",
    "    except Exception as e:\n",
    "        print(f\"Error in {file}: {e}\")\n",
    "\n",
    "# Combine all cleaned files\n",
    "pri_combined_df = pd.concat(primary_df_list, ignore_index=True)\n",
    "pri_combined_df"
   ]
  },
  {
   "cell_type": "code",
   "execution_count": 6,
   "id": "bbe34b76",
   "metadata": {},
   "outputs": [],
   "source": [
    "# Checking any suspicious precinct, county\n",
    "suspicious_precincts = pri_combined_df[\n",
    "    pri_combined_df[\"precinct\"].isna() |\n",
    "    pri_combined_df[\"precinct\"].str.strip().str.upper().str.contains(r\"\\w*TOTAL\\w*\", na=False) |\n",
    "    pri_combined_df[\"precinct\"].str.strip().str.upper().isin([\"NONE\", \"NAN\"]) |\n",
    "    pri_combined_df[\"county\"].isna() |\n",
    "    pri_combined_df[\"county\"].str.strip().str.upper().str.contains(r\"\\w*TOTAL\\w*\", na=False) |\n",
    "    pri_combined_df[\"county\"].str.strip().str.upper().isin([\"NONE\", \"NAN\"])\n",
    "]"
   ]
  },
  {
   "cell_type": "code",
   "execution_count": 7,
   "id": "f0e1e913",
   "metadata": {},
   "outputs": [
    {
     "data": {
      "application/vnd.microsoft.datawrangler.viewer.v0+json": {
       "columns": [
        {
         "name": "index",
         "rawType": "int64",
         "type": "integer"
        },
        {
         "name": "precinct",
         "rawType": "object",
         "type": "string"
        },
        {
         "name": "party",
         "rawType": "object",
         "type": "string"
        },
        {
         "name": "candidate",
         "rawType": "object",
         "type": "string"
        },
        {
         "name": "votes",
         "rawType": "int64",
         "type": "integer"
        }
       ],
       "ref": "d163f625-6f66-473f-a0ba-c21e7a38b1c4",
       "rows": [
        [
         "0",
         "ALBANY001 ALBANY WARD 1 ED 1",
         "DEM",
         "Bernie Sanders",
         "12"
        ],
        [
         "1",
         "ALBANY002 ALBANY WARD 1 ED 2",
         "DEM",
         "Bernie Sanders",
         "73"
        ],
        [
         "2",
         "ALBANY003 ALBANY WARD 1 ED 3",
         "DEM",
         "Bernie Sanders",
         "84"
        ],
        [
         "3",
         "ALBANY004 ALBANY WARD 1 ED 4",
         "DEM",
         "Bernie Sanders",
         "91"
        ],
        [
         "4",
         "ALBANY005 ALBANY WARD 1 ED 5",
         "DEM",
         "Bernie Sanders",
         "3"
        ],
        [
         "5",
         "ALBANY006 ALBANY WARD 1 ED 6",
         "DEM",
         "Bernie Sanders",
         "70"
        ],
        [
         "6",
         "ALBANY007 ALBANY WARD 1 ED 7",
         "DEM",
         "Bernie Sanders",
         "58"
        ],
        [
         "7",
         "ALBANY008 ALBANY WARD 1 ED 8",
         "DEM",
         "Bernie Sanders",
         "7"
        ],
        [
         "8",
         "ALBANY009 ALBANY WARD 1 ED 9",
         "DEM",
         "Bernie Sanders",
         "78"
        ],
        [
         "9",
         "ALBANY010 ALBANY WARD 1 ED 10",
         "DEM",
         "Bernie Sanders",
         "3"
        ],
        [
         "10",
         "ALBANY011 ALBANY WARD 2 ED 1",
         "DEM",
         "Bernie Sanders",
         "50"
        ],
        [
         "11",
         "ALBANY012 ALBANY WARD 2 ED 2",
         "DEM",
         "Bernie Sanders",
         "21"
        ],
        [
         "12",
         "ALBANY013 ALBANY WARD 2 ED 3",
         "DEM",
         "Bernie Sanders",
         "15"
        ],
        [
         "13",
         "ALBANY014 ALBANY WARD 2 ED 4",
         "DEM",
         "Bernie Sanders",
         "54"
        ],
        [
         "14",
         "ALBANY015 ALBANY WARD 2 ED 5",
         "DEM",
         "Bernie Sanders",
         "61"
        ],
        [
         "15",
         "ALBANY016 ALBANY WARD 2 ED 6",
         "DEM",
         "Bernie Sanders",
         "96"
        ],
        [
         "16",
         "ALBANY017 ALBANY WARD 2 ED 7",
         "DEM",
         "Bernie Sanders",
         "1"
        ],
        [
         "17",
         "ALBANY018 ALBANY WARD 2 ED 8",
         "DEM",
         "Bernie Sanders",
         "9"
        ],
        [
         "18",
         "ALBANY019 ALBANY WARD 2 ED 9",
         "DEM",
         "Bernie Sanders",
         "24"
        ],
        [
         "19",
         "ALBANY020 ALBANY WARD 2 ED 10",
         "DEM",
         "Bernie Sanders",
         "0"
        ],
        [
         "20",
         "ALBANY021 ALBANY WARD 3 ED 1",
         "DEM",
         "Bernie Sanders",
         "71"
        ],
        [
         "21",
         "ALBANY022 ALBANY WARD 3 ED 2",
         "DEM",
         "Bernie Sanders",
         "4"
        ],
        [
         "22",
         "ALBANY023 ALBANY WARD 3 ED 3",
         "DEM",
         "Bernie Sanders",
         "4"
        ],
        [
         "23",
         "ALBANY024 ALBANY WARD 3 ED 4",
         "DEM",
         "Bernie Sanders",
         "31"
        ],
        [
         "24",
         "ALBANY025 ALBANY WARD 3 ED 5",
         "DEM",
         "Bernie Sanders",
         "27"
        ],
        [
         "25",
         "ALBANY026 ALBANY WARD 3 ED 6",
         "DEM",
         "Bernie Sanders",
         "17"
        ],
        [
         "26",
         "ALBANY027 ALBANY WARD 3 ED 7",
         "DEM",
         "Bernie Sanders",
         "42"
        ],
        [
         "27",
         "ALBANY028 ALBANY WARD 3 ED 8",
         "DEM",
         "Bernie Sanders",
         "19"
        ],
        [
         "28",
         "ALBANY029 ALBANY WARD 3 ED 9",
         "DEM",
         "Bernie Sanders",
         "16"
        ],
        [
         "29",
         "ALBANY030 ALBANY WARD 3 ED 10",
         "DEM",
         "Bernie Sanders",
         "33"
        ],
        [
         "30",
         "ALBANY031 ALBANY WARD 4 ED 1",
         "DEM",
         "Bernie Sanders",
         "20"
        ],
        [
         "31",
         "ALBANY032 ALBANY WARD 4 ED 2",
         "DEM",
         "Bernie Sanders",
         "13"
        ],
        [
         "32",
         "ALBANY033 ALBANY WARD 4 ED 3",
         "DEM",
         "Bernie Sanders",
         "56"
        ],
        [
         "33",
         "ALBANY034 ALBANY WARD 4 ED 4",
         "DEM",
         "Bernie Sanders",
         "96"
        ],
        [
         "34",
         "ALBANY035 ALBANY WARD 4 ED 5",
         "DEM",
         "Bernie Sanders",
         "92"
        ],
        [
         "35",
         "ALBANY036 ALBANY WARD 4 ED 6",
         "DEM",
         "Bernie Sanders",
         "21"
        ],
        [
         "36",
         "ALBANY037 ALBANY WARD 5 ED 1",
         "DEM",
         "Bernie Sanders",
         "19"
        ],
        [
         "37",
         "ALBANY038 ALBANY WARD 5 ED 2",
         "DEM",
         "Bernie Sanders",
         "14"
        ],
        [
         "38",
         "ALBANY039 ALBANY WARD 5 ED 3",
         "DEM",
         "Bernie Sanders",
         "30"
        ],
        [
         "39",
         "ALBANY040 ALBANY WARD 5 ED 4",
         "DEM",
         "Bernie Sanders",
         "14"
        ],
        [
         "40",
         "ALBANY041 ALBANY WARD 5 ED 5",
         "DEM",
         "Bernie Sanders",
         "57"
        ],
        [
         "41",
         "ALBANY042 ALBANY WARD 5 ED 6",
         "DEM",
         "Bernie Sanders",
         "38"
        ],
        [
         "42",
         "ALBANY043 ALBANY WARD 5 ED 7",
         "DEM",
         "Bernie Sanders",
         "39"
        ],
        [
         "43",
         "ALBANY044 ALBANY WARD 6 ED 1",
         "DEM",
         "Bernie Sanders",
         "21"
        ],
        [
         "44",
         "ALBANY045 ALBANY WARD 6 ED 2",
         "DEM",
         "Bernie Sanders",
         "67"
        ],
        [
         "45",
         "ALBANY046 ALBANY WARD 6 ED 3",
         "DEM",
         "Bernie Sanders",
         "102"
        ],
        [
         "46",
         "ALBANY047 ALBANY WARD 6 ED 4",
         "DEM",
         "Bernie Sanders",
         "182"
        ],
        [
         "47",
         "ALBANY048 ALBANY WARD 6 ED 5",
         "DEM",
         "Bernie Sanders",
         "180"
        ],
        [
         "48",
         "ALBANY049 ALBANY WARD 6 ED 6",
         "DEM",
         "Bernie Sanders",
         "84"
        ],
        [
         "49",
         "ALBANY050 ALBANY WARD 6 ED 7",
         "DEM",
         "Bernie Sanders",
         "4"
        ]
       ],
       "shape": {
        "columns": 4,
        "rows": 83778
       }
      },
      "text/html": [
       "<div>\n",
       "<style scoped>\n",
       "    .dataframe tbody tr th:only-of-type {\n",
       "        vertical-align: middle;\n",
       "    }\n",
       "\n",
       "    .dataframe tbody tr th {\n",
       "        vertical-align: top;\n",
       "    }\n",
       "\n",
       "    .dataframe thead th {\n",
       "        text-align: right;\n",
       "    }\n",
       "</style>\n",
       "<table border=\"1\" class=\"dataframe\">\n",
       "  <thead>\n",
       "    <tr style=\"text-align: right;\">\n",
       "      <th></th>\n",
       "      <th>precinct</th>\n",
       "      <th>party</th>\n",
       "      <th>candidate</th>\n",
       "      <th>votes</th>\n",
       "    </tr>\n",
       "  </thead>\n",
       "  <tbody>\n",
       "    <tr>\n",
       "      <th>0</th>\n",
       "      <td>ALBANY001 ALBANY WARD 1 ED 1</td>\n",
       "      <td>DEM</td>\n",
       "      <td>Bernie Sanders</td>\n",
       "      <td>12</td>\n",
       "    </tr>\n",
       "    <tr>\n",
       "      <th>1</th>\n",
       "      <td>ALBANY002 ALBANY WARD 1 ED 2</td>\n",
       "      <td>DEM</td>\n",
       "      <td>Bernie Sanders</td>\n",
       "      <td>73</td>\n",
       "    </tr>\n",
       "    <tr>\n",
       "      <th>2</th>\n",
       "      <td>ALBANY003 ALBANY WARD 1 ED 3</td>\n",
       "      <td>DEM</td>\n",
       "      <td>Bernie Sanders</td>\n",
       "      <td>84</td>\n",
       "    </tr>\n",
       "    <tr>\n",
       "      <th>3</th>\n",
       "      <td>ALBANY004 ALBANY WARD 1 ED 4</td>\n",
       "      <td>DEM</td>\n",
       "      <td>Bernie Sanders</td>\n",
       "      <td>91</td>\n",
       "    </tr>\n",
       "    <tr>\n",
       "      <th>4</th>\n",
       "      <td>ALBANY005 ALBANY WARD 1 ED 5</td>\n",
       "      <td>DEM</td>\n",
       "      <td>Bernie Sanders</td>\n",
       "      <td>3</td>\n",
       "    </tr>\n",
       "    <tr>\n",
       "      <th>...</th>\n",
       "      <td>...</td>\n",
       "      <td>...</td>\n",
       "      <td>...</td>\n",
       "      <td>...</td>\n",
       "    </tr>\n",
       "    <tr>\n",
       "      <th>83773</th>\n",
       "      <td>RICHMOND62</td>\n",
       "      <td>Republican</td>\n",
       "      <td>Affidavit</td>\n",
       "      <td>1</td>\n",
       "    </tr>\n",
       "    <tr>\n",
       "      <th>83774</th>\n",
       "      <td>RICHMOND62</td>\n",
       "      <td>Republican</td>\n",
       "      <td>Donald J. Trump</td>\n",
       "      <td>41</td>\n",
       "    </tr>\n",
       "    <tr>\n",
       "      <th>83775</th>\n",
       "      <td>RICHMOND62</td>\n",
       "      <td>Republican</td>\n",
       "      <td>John R. Kasich</td>\n",
       "      <td>5</td>\n",
       "    </tr>\n",
       "    <tr>\n",
       "      <th>83776</th>\n",
       "      <td>RICHMOND62</td>\n",
       "      <td>Republican</td>\n",
       "      <td>Ben Carson</td>\n",
       "      <td>0</td>\n",
       "    </tr>\n",
       "    <tr>\n",
       "      <th>83777</th>\n",
       "      <td>RICHMOND62</td>\n",
       "      <td>Republican</td>\n",
       "      <td>Ted Cruz</td>\n",
       "      <td>1</td>\n",
       "    </tr>\n",
       "  </tbody>\n",
       "</table>\n",
       "<p>83778 rows × 4 columns</p>\n",
       "</div>"
      ],
      "text/plain": [
       "                           precinct       party        candidate  votes\n",
       "0      ALBANY001 ALBANY WARD 1 ED 1         DEM   Bernie Sanders     12\n",
       "1      ALBANY002 ALBANY WARD 1 ED 2         DEM   Bernie Sanders     73\n",
       "2      ALBANY003 ALBANY WARD 1 ED 3         DEM   Bernie Sanders     84\n",
       "3      ALBANY004 ALBANY WARD 1 ED 4         DEM   Bernie Sanders     91\n",
       "4      ALBANY005 ALBANY WARD 1 ED 5         DEM   Bernie Sanders      3\n",
       "...                             ...         ...              ...    ...\n",
       "83773                    RICHMOND62  Republican        Affidavit      1\n",
       "83774                    RICHMOND62  Republican  Donald J. Trump     41\n",
       "83775                    RICHMOND62  Republican   John R. Kasich      5\n",
       "83776                    RICHMOND62  Republican       Ben Carson      0\n",
       "83777                    RICHMOND62  Republican         Ted Cruz      1\n",
       "\n",
       "[83778 rows x 4 columns]"
      ]
     },
     "execution_count": 7,
     "metadata": {},
     "output_type": "execute_result"
    }
   ],
   "source": [
    "# Select only the relevant columns\n",
    "primary_data = pri_combined_df[[\"precinct\", \"party\", \"candidate\", \"votes\"]]\n",
    "\n",
    "primary_data"
   ]
  },
  {
   "cell_type": "code",
   "execution_count": 8,
   "id": "dc2ffa15",
   "metadata": {},
   "outputs": [
    {
     "data": {
      "application/vnd.microsoft.datawrangler.viewer.v0+json": {
       "columns": [
        {
         "name": "candidate",
         "rawType": "object",
         "type": "string"
        },
        {
         "name": "count",
         "rawType": "int64",
         "type": "integer"
        }
       ],
       "ref": "843ec9e6-2fb3-4fe0-b82d-1c29ab314207",
       "rows": [
        [
         "Emergency",
         "10912"
        ],
        [
         "Absentee/Military",
         "10912"
        ],
        [
         "Federal",
         "10912"
        ],
        [
         "Affidavit",
         "10912"
        ],
        [
         "Bernie Sanders",
         "5547"
        ],
        [
         "Hillary Clinton",
         "5547"
        ],
        [
         "Donald J. Trump",
         "5547"
        ],
        [
         "John R. Kasich",
         "5547"
        ],
        [
         "Ben Carson",
         "5547"
        ],
        [
         "Ted Cruz",
         "5547"
        ],
        [
         "Public Counter",
         "5456"
        ],
        [
         "Over Votes",
         "634"
        ],
        [
         "Under Votes",
         "634"
        ],
        [
         "Blanks",
         "62"
        ],
        [
         "Void",
         "62"
        ]
       ],
       "shape": {
        "columns": 1,
        "rows": 15
       }
      },
      "text/plain": [
       "candidate\n",
       "Emergency            10912\n",
       "Absentee/Military    10912\n",
       "Federal              10912\n",
       "Affidavit            10912\n",
       "Bernie Sanders        5547\n",
       "Hillary Clinton       5547\n",
       "Donald J. Trump       5547\n",
       "John R. Kasich        5547\n",
       "Ben Carson            5547\n",
       "Ted Cruz              5547\n",
       "Public Counter        5456\n",
       "Over Votes             634\n",
       "Under Votes            634\n",
       "Blanks                  62\n",
       "Void                    62\n",
       "Name: count, dtype: int64"
      ]
     },
     "execution_count": 8,
     "metadata": {},
     "output_type": "execute_result"
    }
   ],
   "source": [
    "# Viewing candidate data\n",
    "primary_data[\"candidate\"].value_counts(dropna=False)"
   ]
  },
  {
   "cell_type": "code",
   "execution_count": 9,
   "id": "5eef8778",
   "metadata": {},
   "outputs": [
    {
     "name": "stderr",
     "output_type": "stream",
     "text": [
      "C:\\Users\\ADMIN\\AppData\\Local\\Temp\\ipykernel_26380\\2270807533.py:4: SettingWithCopyWarning: \n",
      "A value is trying to be set on a copy of a slice from a DataFrame.\n",
      "Try using .loc[row_indexer,col_indexer] = value instead\n",
      "\n",
      "See the caveats in the documentation: https://pandas.pydata.org/pandas-docs/stable/user_guide/indexing.html#returning-a-view-versus-a-copy\n",
      "  primary_data[\"candidate\"] = primary_data[\"candidate\"].astype(str).str.upper()\n",
      "C:\\Users\\ADMIN\\AppData\\Local\\Temp\\ipykernel_26380\\2270807533.py:59: SettingWithCopyWarning: \n",
      "A value is trying to be set on a copy of a slice from a DataFrame.\n",
      "Try using .loc[row_indexer,col_indexer] = value instead\n",
      "\n",
      "See the caveats in the documentation: https://pandas.pydata.org/pandas-docs/stable/user_guide/indexing.html#returning-a-view-versus-a-copy\n",
      "  primary_data[\"candidate\"] = primary_data[\"candidate\"].str.split().str[-1]\n"
     ]
    },
    {
     "data": {
      "application/vnd.microsoft.datawrangler.viewer.v0+json": {
       "columns": [
        {
         "name": "candidate",
         "rawType": "object",
         "type": "string"
        },
        {
         "name": "count",
         "rawType": "int64",
         "type": "integer"
        }
       ],
       "ref": "7c7b4851-bdba-414c-9fc1-5defade9c8cd",
       "rows": [
        [
         "SANDERS",
         "5547"
        ],
        [
         "CLINTON",
         "5547"
        ],
        [
         "TRUMP",
         "5547"
        ],
        [
         "KASICH",
         "5547"
        ],
        [
         "CARSON",
         "5547"
        ],
        [
         "CRUZ",
         "5547"
        ]
       ],
       "shape": {
        "columns": 1,
        "rows": 6
       }
      },
      "text/plain": [
       "candidate\n",
       "SANDERS    5547\n",
       "CLINTON    5547\n",
       "TRUMP      5547\n",
       "KASICH     5547\n",
       "CARSON     5547\n",
       "CRUZ       5547\n",
       "Name: count, dtype: int64"
      ]
     },
     "execution_count": 9,
     "metadata": {},
     "output_type": "execute_result"
    }
   ],
   "source": [
    "# Cleaning Candidates\n",
    "\n",
    "# Turning all primary data to uppercase\n",
    "primary_data[\"candidate\"] = primary_data[\"candidate\"].astype(str).str.upper()\n",
    "\n",
    "unwanted_keywords = [\n",
    "    r\"\\w*VOTE\\w*\",\n",
    "    r\"\\w*UNCOM\\w*\",\n",
    "    r\"\\w*TOTAL\\w*\",\n",
    "    r\"\\w*ATTERING\\w*\",\n",
    "    r\"\\w*UNINSTRUCTED\\w*\",\n",
    "    r\"UNCOMMITTED\", r\"OTHER\",r\"Total Votes Cast\",r\"No Preference\",\n",
    "    \"EMERGENCY\",\n",
    "    r\"\\w*ABSENTEE\\w*\",\n",
    "    r\"\\w*AFFIDAVIT\\w*\",\n",
    "    \"FEDERAL\",\"BLANKS\",\"VOID\",\"PUBLIC COUNTER\"\n",
    "]\n",
    "\n",
    "pattern = \"|\".join(unwanted_keywords)\n",
    "\n",
    "# Assuming candidate column is already string and uppercase\n",
    "primary_data = primary_data[~primary_data[\"candidate\"].str.upper().str.contains(pattern, regex=True, na=False)]\n",
    "\n",
    "#fIXING DE LA FUENTE\n",
    "# primary_data.loc[\n",
    "#     (\n",
    "#         primary_data[\"candidate\"].str.contains(\"rocky.*fuente\", case=False, na=False) |\n",
    "#         primary_data[\"candidate\"].str.contains(\"LA FUENTE\", case=False, na=False) |\n",
    "#         primary_data[\"candidate\"].str.contains(\"\\w*Fuque\\w*\", case=False, na=False)\n",
    "#     ),\n",
    "#     \"candidate\"\n",
    "# ] = \"LA FUENTE\"\n",
    "\n",
    "# # Fixing williams\n",
    "primary_data.loc[\n",
    "    primary_data[\"candidate\"].str.contains(\"FARRELL\", case=False, na=False),\n",
    "    \"candidate\"\n",
    "] = \"FARRELL\"\n",
    "\n",
    "# # Fixing williams\n",
    "primary_data.loc[\n",
    "    primary_data[\"candidate\"].str.contains(\"FIONINA\", case=False, na=False),\n",
    "    \"candidate\"\n",
    "] = \"FIORINA\"\n",
    "\n",
    "primary_data.loc[:, \"candidate\"] = primary_data[\"candidate\"].replace({\n",
    "    \"Donald I. Trump\": \"Donald J. Trump\",\n",
    "})\n",
    "\n",
    "# # Fixing the , candidate\n",
    "# primary_data[\"candidate\"] = (\n",
    "#     primary_data[\"candidate\"].str.split(\",\")\n",
    "#     .str[0]\n",
    "#     .str.strip()\n",
    "#     )\n",
    "\n",
    "\n",
    "# #Selecting only last name\n",
    "primary_data[\"candidate\"] = primary_data[\"candidate\"].str.split().str[-1]\n",
    "\n",
    "# # Fixing Christie\n",
    "# primary_data.loc[\n",
    "#     primary_data[\"candidate\"].str.contains(\"CHRISTLE\", case=False, na=False),\n",
    "#     \"candidate\"\n",
    "# ] = \"CHRISTIE\"\n",
    "\n",
    "# # Fixing KASICH\n",
    "# primary_data.loc[\n",
    "#     primary_data[\"candidate\"].str.contains(\"KAISCH\", case=False, na=False),\n",
    "#     \"candidate\"\n",
    "# ] = \"CHRISTIE\"\n",
    "\n",
    "# # Fixing O'MALLEY\n",
    "# primary_data.loc[\n",
    "#     primary_data[\"candidate\"].str.contains(\"O'MALLEY\", case=False, na=False),\n",
    "#     \"candidate\"\n",
    "# ] = \"O'MAILEY\"\n",
    "\n",
    "# # Fixing O'MALLEY\n",
    "# primary_data.loc[\n",
    "#     primary_data[\"candidate\"].str.contains(\"PATAKL\", case=False, na=False),\n",
    "#     \"candidate\"\n",
    "# ] = \"PATAKI\"\n",
    "\n",
    "# # Fixing O'MALLEY\n",
    "# primary_data.loc[\n",
    "#     primary_data[\"candidate\"].str.contains(\"RUBLO\", case=False, na=False),\n",
    "#     \"candidate\"\n",
    "# ] = \"RUBIO\"\n",
    "\n",
    "# # Fixing Huckabee\n",
    "# primary_data.loc[\n",
    "#     primary_data[\"candidate\"].str.contains(\"\\w*ABEE\\w*\", case=False, na=False),\n",
    "#     \"candidate\"\n",
    "# ] = \"HUCKABEE\"\n",
    "\n",
    "# # Fixing Fiorina\n",
    "# primary_data.loc[\n",
    "#     primary_data[\"candidate\"].str.contains(\"\\w*ORINA\\W*\", case=False, na=False),\n",
    "#     \"candidate\"\n",
    "# ] = \"FIORINA\"\n",
    "\n",
    "# # Fixing Gray\n",
    "# primary_data.loc[\n",
    "#     primary_data[\"candidate\"].str.contains(\"GREY\", case=False, na=False),\n",
    "#     \"candidate\"\n",
    "# ] = \"GRAY\"\n",
    "\n",
    "# # Fixing Wilson\n",
    "# primary_data.loc[\n",
    "#     primary_data[\"candidate\"].str.contains(\"WISON\", case=False, na=False),\n",
    "#     \"candidate\"\n",
    "# ] = \"WILSON\"\n",
    "\n",
    "\n",
    "# # Fixing separator \n",
    "# primary_data[\"candidate\"] = (\n",
    "#     primary_data[\"candidate\"]\n",
    "#     .str.split(r\"\\s*(?:and|/|&|–|-|\\+)\\s*\", n=1, expand=True)[0]\n",
    "#     .str.strip()\n",
    "#     .str.upper()\n",
    "# )\n",
    "\n",
    "# # Fixing McMullin\n",
    "\n",
    "# primary_data.loc[\n",
    "#     (\n",
    "#         primary_data[\"candidate\"].str.contains(\"MCMULLIN\", case=False, na=False) |\n",
    "#         primary_data[\"candidate\"].str.contains(\"EVAN MCMULLEN\", case=False, na=False)\n",
    "#     ),\n",
    "#     \"candidate\"\n",
    "# ] = \"MCMULLIN\"\n",
    "\n",
    "# primary_data.loc[\n",
    "#     primary_data[\"candidate\"].str.contains(\"De La Fuen\", case=False, na=False),\n",
    "#     \"candidate\"\n",
    "# ] = \"FUENTE D\"\n",
    "\n",
    "# primary_data.loc[:,\"candidate\"] = (\n",
    "#     primary_data[\"candidate\"].str.split().str[0].str.upper()\n",
    "# )\n",
    "\n",
    "primary_data[\"candidate\"].value_counts(dropna=False)"
   ]
  },
  {
   "cell_type": "code",
   "execution_count": 10,
   "id": "dcc76af7",
   "metadata": {},
   "outputs": [
    {
     "data": {
      "application/vnd.microsoft.datawrangler.viewer.v0+json": {
       "columns": [
        {
         "name": "party",
         "rawType": "object",
         "type": "string"
        },
        {
         "name": "count",
         "rawType": "int64",
         "type": "integer"
        }
       ],
       "ref": "79a74cbd-3774-4751-9d63-06dbca52146c",
       "rows": [
        [
         "Republican",
         "20796"
        ],
        [
         "Democratic",
         "10398"
        ],
        [
         "REP",
         "1392"
        ],
        [
         "DEM",
         "696"
        ]
       ],
       "shape": {
        "columns": 1,
        "rows": 4
       }
      },
      "text/plain": [
       "party\n",
       "Republican    20796\n",
       "Democratic    10398\n",
       "REP            1392\n",
       "DEM             696\n",
       "Name: count, dtype: int64"
      ]
     },
     "execution_count": 10,
     "metadata": {},
     "output_type": "execute_result"
    }
   ],
   "source": [
    "# Viewing Party\n",
    "primary_data[\"party\"].value_counts(dropna=False)"
   ]
  },
  {
   "cell_type": "code",
   "execution_count": 11,
   "id": "582aa6c5",
   "metadata": {},
   "outputs": [
    {
     "data": {
      "application/vnd.microsoft.datawrangler.viewer.v0+json": {
       "columns": [
        {
         "name": "party",
         "rawType": "object",
         "type": "string"
        },
        {
         "name": "count",
         "rawType": "int64",
         "type": "integer"
        }
       ],
       "ref": "4ac9171c-1b9b-436c-ae3d-a8bc533eafec",
       "rows": [
        [
         "Republican",
         "20796"
        ],
        [
         "Democratic",
         "10398"
        ],
        [
         "REP",
         "1392"
        ],
        [
         "DEM",
         "696"
        ]
       ],
       "shape": {
        "columns": 1,
        "rows": 4
       }
      },
      "text/plain": [
       "party\n",
       "Republican    20796\n",
       "Democratic    10398\n",
       "REP            1392\n",
       "DEM             696\n",
       "Name: count, dtype: int64"
      ]
     },
     "execution_count": 11,
     "metadata": {},
     "output_type": "execute_result"
    }
   ],
   "source": [
    "#=====================================\n",
    "# This function is used to look up party\n",
    "# for the candidate in the same df\n",
    "#=====================================\n",
    "def fill_party_from_data(row, df):\n",
    "    if pd.notna(row[\"party\"]):\n",
    "        return row[\"party\"]\n",
    "    \n",
    "    # Try to find other rows with the same candidate and known party\n",
    "    matches = df[(df[\"candidate\"] == row[\"candidate\"]) & (df[\"party\"].notna())]\n",
    "    if not matches.empty:\n",
    "        return matches[\"party\"].iloc[0]  # Return the first match's party\n",
    "    else:\n",
    "        return None  # Still unknown\n",
    "\n",
    "#=====================================\n",
    "# Example usage (uncomment and modify for your workflow)\n",
    "#=====================================\n",
    "# Fill party using internal data\n",
    "# primary_data[\"party\"] = primary_data.apply(\n",
    "#     lambda row: fill_party_from_data(row, primary_data),\n",
    "#     axis=1\n",
    "# )\n",
    "\n",
    "primary_data[\"party\"].value_counts(dropna=False)\n"
   ]
  },
  {
   "cell_type": "code",
   "execution_count": 12,
   "id": "34361751",
   "metadata": {},
   "outputs": [
    {
     "name": "stderr",
     "output_type": "stream",
     "text": [
      "C:\\Users\\ADMIN\\AppData\\Local\\Temp\\ipykernel_26380\\453441538.py:3: SettingWithCopyWarning: \n",
      "A value is trying to be set on a copy of a slice from a DataFrame.\n",
      "Try using .loc[row_indexer,col_indexer] = value instead\n",
      "\n",
      "See the caveats in the documentation: https://pandas.pydata.org/pandas-docs/stable/user_guide/indexing.html#returning-a-view-versus-a-copy\n",
      "  primary_data[\"party\"] = primary_data[\"party\"].astype(str).str.upper()\n",
      "C:\\Users\\ADMIN\\AppData\\Local\\Temp\\ipykernel_26380\\453441538.py:9: SettingWithCopyWarning: \n",
      "A value is trying to be set on a copy of a slice from a DataFrame.\n",
      "Try using .loc[row_indexer,col_indexer] = value instead\n",
      "\n",
      "See the caveats in the documentation: https://pandas.pydata.org/pandas-docs/stable/user_guide/indexing.html#returning-a-view-versus-a-copy\n",
      "  primary_data[\"party\"] = (\n"
     ]
    },
    {
     "data": {
      "application/vnd.microsoft.datawrangler.viewer.v0+json": {
       "columns": [
        {
         "name": "party",
         "rawType": "object",
         "type": "string"
        },
        {
         "name": "count",
         "rawType": "int64",
         "type": "integer"
        }
       ],
       "ref": "ffce07b6-c65c-4d51-aecf-aca90e0f118e",
       "rows": [
        [
         "REP",
         "22188"
        ],
        [
         "DEM",
         "11094"
        ]
       ],
       "shape": {
        "columns": 1,
        "rows": 2
       }
      },
      "text/plain": [
       "party\n",
       "REP    22188\n",
       "DEM    11094\n",
       "Name: count, dtype: int64"
      ]
     },
     "execution_count": 12,
     "metadata": {},
     "output_type": "execute_result"
    }
   ],
   "source": [
    "# Cleaning Party\n",
    "# Turning all general data party to uppercase\n",
    "primary_data[\"party\"] = primary_data[\"party\"].astype(str).str.upper()\n",
    "\n",
    "# primary_data[\"party\"] = primary_data.apply(\n",
    "#     lambda row: fill_party_from_data(row, primary_data),\n",
    "#     axis=1\n",
    "# )\n",
    "primary_data[\"party\"] = (\n",
    "    primary_data[\"party\"]\n",
    "    .replace({\n",
    "        \"REPUBLICAN\": \"REP\",\n",
    "        \"R\": \"REP\",\n",
    "        \"DEMOCRATIC\": \"DEM\",\n",
    "        \"DEMOCRAT\":\"DEM\",\n",
    "        \"DEM\": \"DEM\",\n",
    "        \"D\": \"DEM\",\n",
    "        \"GREEN\": \"GRN\",\n",
    "        \"G\": \"GREEN\",\n",
    "        \"GREEN-RAINBOW\":\"GRN\",\n",
    "        \"LIBERTARIAN\": \"LIB\",\n",
    "        \"LBT\": \"LIB\",\n",
    "        \"L\": \"LIB\",\n",
    "        \"CONSTITUTION\": \"CON\",\n",
    "        \"NP\": \"IND\",\n",
    "        \"NON\": \"IND\",\n",
    "        \"WRI\": \"IND\",\n",
    "        \"WRITE-IN\": \"IND\",\n",
    "        \"ONA\": \"IND\",\n",
    "        \"GEN\": \"IND\",\n",
    "        \"NONE\":\"UNK\"\n",
    "    })\n",
    ")\n",
    "primary_data[\"party\"].value_counts(dropna=False)"
   ]
  },
  {
   "cell_type": "code",
   "execution_count": 13,
   "id": "a359cd18",
   "metadata": {},
   "outputs": [
    {
     "name": "stderr",
     "output_type": "stream",
     "text": [
      "C:\\Users\\ADMIN\\AppData\\Local\\Temp\\ipykernel_26380\\2521670330.py:1: SettingWithCopyWarning: \n",
      "A value is trying to be set on a copy of a slice from a DataFrame.\n",
      "Try using .loc[row_indexer,col_indexer] = value instead\n",
      "\n",
      "See the caveats in the documentation: https://pandas.pydata.org/pandas-docs/stable/user_guide/indexing.html#returning-a-view-versus-a-copy\n",
      "  primary_data.loc[:,\"candidate_column\"] = (\n"
     ]
    },
    {
     "data": {
      "application/vnd.microsoft.datawrangler.viewer.v0+json": {
       "columns": [
        {
         "name": "index",
         "rawType": "int64",
         "type": "integer"
        },
        {
         "name": "precinct",
         "rawType": "object",
         "type": "string"
        },
        {
         "name": "pri_dem_CLINTON",
         "rawType": "int64",
         "type": "integer"
        },
        {
         "name": "pri_dem_SANDERS",
         "rawType": "int64",
         "type": "integer"
        },
        {
         "name": "pri_rep_CARSON",
         "rawType": "int64",
         "type": "integer"
        },
        {
         "name": "pri_rep_CRUZ",
         "rawType": "int64",
         "type": "integer"
        },
        {
         "name": "pri_rep_KASICH",
         "rawType": "int64",
         "type": "integer"
        },
        {
         "name": "pri_rep_TRUMP",
         "rawType": "int64",
         "type": "integer"
        }
       ],
       "ref": "5337aa92-21fd-4dc6-8eed-d57eef5f5cfc",
       "rows": [
        [
         "0",
         "ALBANY001 ALBANY WARD 1 ED 1",
         "14",
         "12",
         "0",
         "2",
         "3",
         "2"
        ],
        [
         "1",
         "ALBANY002 ALBANY WARD 1 ED 2",
         "77",
         "73",
         "0",
         "0",
         "1",
         "3"
        ],
        [
         "2",
         "ALBANY003 ALBANY WARD 1 ED 3",
         "93",
         "84",
         "0",
         "2",
         "3",
         "4"
        ],
        [
         "3",
         "ALBANY004 ALBANY WARD 1 ED 4",
         "98",
         "91",
         "1",
         "2",
         "3",
         "1"
        ],
        [
         "4",
         "ALBANY005 ALBANY WARD 1 ED 5",
         "3",
         "3",
         "0",
         "0",
         "0",
         "0"
        ],
        [
         "5",
         "ALBANY006 ALBANY WARD 1 ED 6",
         "79",
         "70",
         "2",
         "0",
         "0",
         "0"
        ],
        [
         "6",
         "ALBANY007 ALBANY WARD 1 ED 7",
         "84",
         "58",
         "0",
         "0",
         "0",
         "2"
        ],
        [
         "7",
         "ALBANY008 ALBANY WARD 1 ED 8",
         "12",
         "7",
         "0",
         "0",
         "0",
         "0"
        ],
        [
         "8",
         "ALBANY009 ALBANY WARD 1 ED 9",
         "83",
         "78",
         "0",
         "3",
         "2",
         "4"
        ],
        [
         "9",
         "ALBANY010 ALBANY WARD 1 ED 10",
         "4",
         "3",
         "0",
         "1",
         "0",
         "1"
        ],
        [
         "10",
         "ALBANY011 ALBANY WARD 2 ED 1",
         "95",
         "50",
         "0",
         "0",
         "0",
         "1"
        ],
        [
         "11",
         "ALBANY012 ALBANY WARD 2 ED 2",
         "39",
         "21",
         "0",
         "0",
         "1",
         "0"
        ],
        [
         "12",
         "ALBANY013 ALBANY WARD 2 ED 3",
         "38",
         "15",
         "0",
         "1",
         "0",
         "0"
        ],
        [
         "13",
         "ALBANY014 ALBANY WARD 2 ED 4",
         "104",
         "54",
         "2",
         "1",
         "2",
         "7"
        ],
        [
         "14",
         "ALBANY015 ALBANY WARD 2 ED 5",
         "42",
         "61",
         "0",
         "1",
         "3",
         "1"
        ],
        [
         "15",
         "ALBANY016 ALBANY WARD 2 ED 6",
         "36",
         "96",
         "0",
         "2",
         "3",
         "6"
        ],
        [
         "16",
         "ALBANY017 ALBANY WARD 2 ED 7",
         "1",
         "1",
         "0",
         "0",
         "0",
         "0"
        ],
        [
         "17",
         "ALBANY018 ALBANY WARD 2 ED 8",
         "15",
         "9",
         "1",
         "0",
         "1",
         "0"
        ],
        [
         "18",
         "ALBANY019 ALBANY WARD 2 ED 9",
         "50",
         "24",
         "0",
         "1",
         "0",
         "3"
        ],
        [
         "19",
         "ALBANY020 ALBANY WARD 2 ED 10",
         "0",
         "0",
         "0",
         "0",
         "0",
         "0"
        ],
        [
         "20",
         "ALBANY021 ALBANY WARD 3 ED 1",
         "43",
         "71",
         "0",
         "0",
         "4",
         "7"
        ],
        [
         "21",
         "ALBANY022 ALBANY WARD 3 ED 2",
         "1",
         "4",
         "0",
         "0",
         "0",
         "0"
        ],
        [
         "22",
         "ALBANY023 ALBANY WARD 3 ED 3",
         "1",
         "4",
         "0",
         "0",
         "0",
         "1"
        ],
        [
         "23",
         "ALBANY024 ALBANY WARD 3 ED 4",
         "30",
         "31",
         "1",
         "1",
         "3",
         "0"
        ],
        [
         "24",
         "ALBANY025 ALBANY WARD 3 ED 5",
         "23",
         "27",
         "1",
         "0",
         "2",
         "1"
        ],
        [
         "25",
         "ALBANY026 ALBANY WARD 3 ED 6",
         "33",
         "17",
         "0",
         "0",
         "1",
         "0"
        ],
        [
         "26",
         "ALBANY027 ALBANY WARD 3 ED 7",
         "77",
         "42",
         "0",
         "2",
         "1",
         "0"
        ],
        [
         "27",
         "ALBANY028 ALBANY WARD 3 ED 8",
         "34",
         "19",
         "0",
         "1",
         "0",
         "0"
        ],
        [
         "28",
         "ALBANY029 ALBANY WARD 3 ED 9",
         "16",
         "16",
         "0",
         "1",
         "0",
         "3"
        ],
        [
         "29",
         "ALBANY030 ALBANY WARD 3 ED 10",
         "44",
         "33",
         "0",
         "2",
         "0",
         "0"
        ],
        [
         "30",
         "ALBANY031 ALBANY WARD 4 ED 1",
         "53",
         "20",
         "0",
         "0",
         "0",
         "0"
        ],
        [
         "31",
         "ALBANY032 ALBANY WARD 4 ED 2",
         "26",
         "13",
         "0",
         "0",
         "0",
         "0"
        ],
        [
         "32",
         "ALBANY033 ALBANY WARD 4 ED 3",
         "69",
         "56",
         "1",
         "1",
         "0",
         "4"
        ],
        [
         "33",
         "ALBANY034 ALBANY WARD 4 ED 4",
         "134",
         "96",
         "0",
         "7",
         "2",
         "7"
        ],
        [
         "34",
         "ALBANY035 ALBANY WARD 4 ED 5",
         "105",
         "92",
         "0",
         "7",
         "12",
         "20"
        ],
        [
         "35",
         "ALBANY036 ALBANY WARD 4 ED 6",
         "48",
         "21",
         "0",
         "0",
         "1",
         "0"
        ],
        [
         "36",
         "ALBANY037 ALBANY WARD 5 ED 1",
         "55",
         "19",
         "1",
         "3",
         "1",
         "0"
        ],
        [
         "37",
         "ALBANY038 ALBANY WARD 5 ED 2",
         "38",
         "14",
         "0",
         "0",
         "0",
         "1"
        ],
        [
         "38",
         "ALBANY039 ALBANY WARD 5 ED 3",
         "44",
         "30",
         "0",
         "0",
         "0",
         "0"
        ],
        [
         "39",
         "ALBANY040 ALBANY WARD 5 ED 4",
         "22",
         "14",
         "0",
         "0",
         "0",
         "0"
        ],
        [
         "40",
         "ALBANY041 ALBANY WARD 5 ED 5",
         "148",
         "57",
         "0",
         "2",
         "3",
         "2"
        ],
        [
         "41",
         "ALBANY042 ALBANY WARD 5 ED 6",
         "58",
         "38",
         "0",
         "1",
         "0",
         "1"
        ],
        [
         "42",
         "ALBANY043 ALBANY WARD 5 ED 7",
         "47",
         "39",
         "0",
         "1",
         "0",
         "0"
        ],
        [
         "43",
         "ALBANY044 ALBANY WARD 6 ED 1",
         "19",
         "21",
         "0",
         "0",
         "0",
         "3"
        ],
        [
         "44",
         "ALBANY045 ALBANY WARD 6 ED 2",
         "37",
         "67",
         "1",
         "0",
         "2",
         "2"
        ],
        [
         "45",
         "ALBANY046 ALBANY WARD 6 ED 3",
         "70",
         "102",
         "0",
         "1",
         "5",
         "5"
        ],
        [
         "46",
         "ALBANY047 ALBANY WARD 6 ED 4",
         "127",
         "182",
         "0",
         "2",
         "11",
         "8"
        ],
        [
         "47",
         "ALBANY048 ALBANY WARD 6 ED 5",
         "121",
         "180",
         "0",
         "1",
         "11",
         "3"
        ],
        [
         "48",
         "ALBANY049 ALBANY WARD 6 ED 6",
         "78",
         "84",
         "0",
         "0",
         "4",
         "2"
        ],
        [
         "49",
         "ALBANY050 ALBANY WARD 6 ED 7",
         "2",
         "4",
         "0",
         "0",
         "0",
         "0"
        ]
       ],
       "shape": {
        "columns": 7,
        "rows": 836
       }
      },
      "text/html": [
       "<div>\n",
       "<style scoped>\n",
       "    .dataframe tbody tr th:only-of-type {\n",
       "        vertical-align: middle;\n",
       "    }\n",
       "\n",
       "    .dataframe tbody tr th {\n",
       "        vertical-align: top;\n",
       "    }\n",
       "\n",
       "    .dataframe thead th {\n",
       "        text-align: right;\n",
       "    }\n",
       "</style>\n",
       "<table border=\"1\" class=\"dataframe\">\n",
       "  <thead>\n",
       "    <tr style=\"text-align: right;\">\n",
       "      <th>candidate_column</th>\n",
       "      <th>precinct</th>\n",
       "      <th>pri_dem_CLINTON</th>\n",
       "      <th>pri_dem_SANDERS</th>\n",
       "      <th>pri_rep_CARSON</th>\n",
       "      <th>pri_rep_CRUZ</th>\n",
       "      <th>pri_rep_KASICH</th>\n",
       "      <th>pri_rep_TRUMP</th>\n",
       "    </tr>\n",
       "  </thead>\n",
       "  <tbody>\n",
       "    <tr>\n",
       "      <th>0</th>\n",
       "      <td>ALBANY001 ALBANY WARD 1 ED 1</td>\n",
       "      <td>14</td>\n",
       "      <td>12</td>\n",
       "      <td>0</td>\n",
       "      <td>2</td>\n",
       "      <td>3</td>\n",
       "      <td>2</td>\n",
       "    </tr>\n",
       "    <tr>\n",
       "      <th>1</th>\n",
       "      <td>ALBANY002 ALBANY WARD 1 ED 2</td>\n",
       "      <td>77</td>\n",
       "      <td>73</td>\n",
       "      <td>0</td>\n",
       "      <td>0</td>\n",
       "      <td>1</td>\n",
       "      <td>3</td>\n",
       "    </tr>\n",
       "    <tr>\n",
       "      <th>2</th>\n",
       "      <td>ALBANY003 ALBANY WARD 1 ED 3</td>\n",
       "      <td>93</td>\n",
       "      <td>84</td>\n",
       "      <td>0</td>\n",
       "      <td>2</td>\n",
       "      <td>3</td>\n",
       "      <td>4</td>\n",
       "    </tr>\n",
       "    <tr>\n",
       "      <th>3</th>\n",
       "      <td>ALBANY004 ALBANY WARD 1 ED 4</td>\n",
       "      <td>98</td>\n",
       "      <td>91</td>\n",
       "      <td>1</td>\n",
       "      <td>2</td>\n",
       "      <td>3</td>\n",
       "      <td>1</td>\n",
       "    </tr>\n",
       "    <tr>\n",
       "      <th>4</th>\n",
       "      <td>ALBANY005 ALBANY WARD 1 ED 5</td>\n",
       "      <td>3</td>\n",
       "      <td>3</td>\n",
       "      <td>0</td>\n",
       "      <td>0</td>\n",
       "      <td>0</td>\n",
       "      <td>0</td>\n",
       "    </tr>\n",
       "    <tr>\n",
       "      <th>...</th>\n",
       "      <td>...</td>\n",
       "      <td>...</td>\n",
       "      <td>...</td>\n",
       "      <td>...</td>\n",
       "      <td>...</td>\n",
       "      <td>...</td>\n",
       "      <td>...</td>\n",
       "    </tr>\n",
       "    <tr>\n",
       "      <th>831</th>\n",
       "      <td>RICHMOND75</td>\n",
       "      <td>84</td>\n",
       "      <td>51</td>\n",
       "      <td>0</td>\n",
       "      <td>3</td>\n",
       "      <td>3</td>\n",
       "      <td>10</td>\n",
       "    </tr>\n",
       "    <tr>\n",
       "      <th>832</th>\n",
       "      <td>RICHMOND76</td>\n",
       "      <td>7</td>\n",
       "      <td>23</td>\n",
       "      <td>0</td>\n",
       "      <td>12</td>\n",
       "      <td>3</td>\n",
       "      <td>86</td>\n",
       "    </tr>\n",
       "    <tr>\n",
       "      <th>833</th>\n",
       "      <td>RICHMOND8</td>\n",
       "      <td>261</td>\n",
       "      <td>229</td>\n",
       "      <td>1</td>\n",
       "      <td>25</td>\n",
       "      <td>42</td>\n",
       "      <td>343</td>\n",
       "    </tr>\n",
       "    <tr>\n",
       "      <th>834</th>\n",
       "      <td>RICHMOND81</td>\n",
       "      <td>46</td>\n",
       "      <td>51</td>\n",
       "      <td>1</td>\n",
       "      <td>7</td>\n",
       "      <td>9</td>\n",
       "      <td>76</td>\n",
       "    </tr>\n",
       "    <tr>\n",
       "      <th>835</th>\n",
       "      <td>RICHMOND9</td>\n",
       "      <td>252</td>\n",
       "      <td>198</td>\n",
       "      <td>5</td>\n",
       "      <td>31</td>\n",
       "      <td>21</td>\n",
       "      <td>259</td>\n",
       "    </tr>\n",
       "  </tbody>\n",
       "</table>\n",
       "<p>836 rows × 7 columns</p>\n",
       "</div>"
      ],
      "text/plain": [
       "candidate_column                      precinct  pri_dem_CLINTON  \\\n",
       "0                 ALBANY001 ALBANY WARD 1 ED 1               14   \n",
       "1                 ALBANY002 ALBANY WARD 1 ED 2               77   \n",
       "2                 ALBANY003 ALBANY WARD 1 ED 3               93   \n",
       "3                 ALBANY004 ALBANY WARD 1 ED 4               98   \n",
       "4                 ALBANY005 ALBANY WARD 1 ED 5                3   \n",
       "..                                         ...              ...   \n",
       "831                                 RICHMOND75               84   \n",
       "832                                 RICHMOND76                7   \n",
       "833                                  RICHMOND8              261   \n",
       "834                                 RICHMOND81               46   \n",
       "835                                  RICHMOND9              252   \n",
       "\n",
       "candidate_column  pri_dem_SANDERS  pri_rep_CARSON  pri_rep_CRUZ  \\\n",
       "0                              12               0             2   \n",
       "1                              73               0             0   \n",
       "2                              84               0             2   \n",
       "3                              91               1             2   \n",
       "4                               3               0             0   \n",
       "..                            ...             ...           ...   \n",
       "831                            51               0             3   \n",
       "832                            23               0            12   \n",
       "833                           229               1            25   \n",
       "834                            51               1             7   \n",
       "835                           198               5            31   \n",
       "\n",
       "candidate_column  pri_rep_KASICH  pri_rep_TRUMP  \n",
       "0                              3              2  \n",
       "1                              1              3  \n",
       "2                              3              4  \n",
       "3                              3              1  \n",
       "4                              0              0  \n",
       "..                           ...            ...  \n",
       "831                            3             10  \n",
       "832                            3             86  \n",
       "833                           42            343  \n",
       "834                            9             76  \n",
       "835                           21            259  \n",
       "\n",
       "[836 rows x 7 columns]"
      ]
     },
     "execution_count": 13,
     "metadata": {},
     "output_type": "execute_result"
    }
   ],
   "source": [
    "primary_data.loc[:,\"candidate_column\"] = (\n",
    "    \"pri_\" +\n",
    "    primary_data[\"party\"].str.lower() + \"_\" +\n",
    "    primary_data[\"candidate\"]\n",
    ")\n",
    "\n",
    "# pivot the table\n",
    "primary_result = primary_data.pivot_table(\n",
    "    index=\"precinct\",\n",
    "    columns=\"candidate_column\",\n",
    "    values=\"votes\",\n",
    "    aggfunc=\"sum\",  \n",
    "    fill_value=0\n",
    ").reset_index()\n",
    "\n",
    "primary_result"
   ]
  },
  {
   "cell_type": "code",
   "execution_count": 16,
   "id": "f1ef9692",
   "metadata": {},
   "outputs": [
    {
     "name": "stderr",
     "output_type": "stream",
     "text": [
      "C:\\Users\\ADMIN\\AppData\\Local\\Temp\\ipykernel_26380\\3265044686.py:6: DtypeWarning: Columns (6) have mixed types. Specify dtype option on import or set low_memory=False.\n",
      "  df = pd.read_csv(file, on_bad_lines='skip')\n"
     ]
    },
    {
     "data": {
      "application/vnd.microsoft.datawrangler.viewer.v0+json": {
       "columns": [
        {
         "name": "index",
         "rawType": "int64",
         "type": "integer"
        },
        {
         "name": "county",
         "rawType": "object",
         "type": "string"
        },
        {
         "name": "precinct",
         "rawType": "object",
         "type": "string"
        },
        {
         "name": "office",
         "rawType": "object",
         "type": "string"
        },
        {
         "name": "district",
         "rawType": "float64",
         "type": "float"
        },
        {
         "name": "candidate",
         "rawType": "object",
         "type": "string"
        },
        {
         "name": "party",
         "rawType": "object",
         "type": "unknown"
        },
        {
         "name": "votes",
         "rawType": "object",
         "type": "unknown"
        },
        {
         "name": "election_day",
         "rawType": "float64",
         "type": "float"
        },
        {
         "name": "absentee",
         "rawType": "float64",
         "type": "float"
        },
        {
         "name": "machine_votes",
         "rawType": "float64",
         "type": "float"
        },
        {
         "name": "absentee_hc",
         "rawType": "float64",
         "type": "float"
        },
        {
         "name": "affidavit",
         "rawType": "float64",
         "type": "float"
        }
       ],
       "ref": "5f73a3b0-a595-4c3d-9cf0-a79189cbf634",
       "rows": [
        [
         "0",
         "ALBANY",
         "ALBANY0001 ALBANY W1 ED1",
         "President",
         null,
         "Hillary Clinton",
         "DEM",
         "39",
         null,
         null,
         null,
         null,
         null
        ],
        [
         "1",
         "ALBANY",
         "ALBANY0002 ALBANY W1 ED2",
         "President",
         null,
         "Hillary Clinton",
         "DEM",
         "194",
         null,
         null,
         null,
         null,
         null
        ],
        [
         "2",
         "ALBANY",
         "ALBANY0003 ALBANY W1 ED3",
         "President",
         null,
         "Hillary Clinton",
         "DEM",
         "294",
         null,
         null,
         null,
         null,
         null
        ],
        [
         "3",
         "ALBANY",
         "ALBANY0004 ALBANY W1 ED4",
         "President",
         null,
         "Hillary Clinton",
         "DEM",
         "325",
         null,
         null,
         null,
         null,
         null
        ],
        [
         "4",
         "ALBANY",
         "ALBANY0005 ALBANY W1 ED5",
         "President",
         null,
         "Hillary Clinton",
         "DEM",
         "6",
         null,
         null,
         null,
         null,
         null
        ],
        [
         "5",
         "ALBANY",
         "ALBANY0006 ALBANY W1 ED6",
         "President",
         null,
         "Hillary Clinton",
         "DEM",
         "311",
         null,
         null,
         null,
         null,
         null
        ],
        [
         "6",
         "ALBANY",
         "ALBANY0007 ALBANY W1 ED7",
         "President",
         null,
         "Hillary Clinton",
         "DEM",
         "302",
         null,
         null,
         null,
         null,
         null
        ],
        [
         "7",
         "ALBANY",
         "ALBANY0008 ALBANY W1 ED8",
         "President",
         null,
         "Hillary Clinton",
         "DEM",
         "72",
         null,
         null,
         null,
         null,
         null
        ],
        [
         "8",
         "ALBANY",
         "ALBANY0009 ALBANY W1 ED9",
         "President",
         null,
         "Hillary Clinton",
         "DEM",
         "272",
         null,
         null,
         null,
         null,
         null
        ],
        [
         "9",
         "ALBANY",
         "ALBANY0010 ALBANY W1 ED10",
         "President",
         null,
         "Hillary Clinton",
         "DEM",
         "29",
         null,
         null,
         null,
         null,
         null
        ],
        [
         "10",
         "ALBANY",
         "ALBANY0011 ALBANY W2 ED1",
         "President",
         null,
         "Hillary Clinton",
         "DEM",
         "306",
         null,
         null,
         null,
         null,
         null
        ],
        [
         "11",
         "ALBANY",
         "ALBANY0012 ALBANY W2 ED2",
         "President",
         null,
         "Hillary Clinton",
         "DEM",
         "152",
         null,
         null,
         null,
         null,
         null
        ],
        [
         "12",
         "ALBANY",
         "ALBANY0013 ALBANY W2 ED3",
         "President",
         null,
         "Hillary Clinton",
         "DEM",
         "145",
         null,
         null,
         null,
         null,
         null
        ],
        [
         "13",
         "ALBANY",
         "ALBANY0014 ALBANY W2 ED4",
         "President",
         null,
         "Hillary Clinton",
         "DEM",
         "328",
         null,
         null,
         null,
         null,
         null
        ],
        [
         "14",
         "ALBANY",
         "ALBANY0015 ALBANY W2 ED5",
         "President",
         null,
         "Hillary Clinton",
         "DEM",
         "223",
         null,
         null,
         null,
         null,
         null
        ],
        [
         "15",
         "ALBANY",
         "ALBANY0016 ALBANY W2 ED6",
         "President",
         null,
         "Hillary Clinton",
         "DEM",
         "169",
         null,
         null,
         null,
         null,
         null
        ],
        [
         "16",
         "ALBANY",
         "ALBANY0017 ALBANY W2 ED7",
         "President",
         null,
         "Hillary Clinton",
         "DEM",
         "3",
         null,
         null,
         null,
         null,
         null
        ],
        [
         "17",
         "ALBANY",
         "ALBANY0018 ALBANY W2 ED8",
         "President",
         null,
         "Hillary Clinton",
         "DEM",
         "62",
         null,
         null,
         null,
         null,
         null
        ],
        [
         "18",
         "ALBANY",
         "ALBANY0019 ALBANY W2 ED9",
         "President",
         null,
         "Hillary Clinton",
         "DEM",
         "208",
         null,
         null,
         null,
         null,
         null
        ],
        [
         "19",
         "ALBANY",
         "ALBANY0020 ALBANY W2 ED10",
         "President",
         null,
         "Hillary Clinton",
         "DEM",
         "0",
         null,
         null,
         null,
         null,
         null
        ],
        [
         "20",
         "ALBANY",
         "ALBANY0021 ALBANY W3 ED1",
         "President",
         null,
         "Hillary Clinton",
         "DEM",
         "262",
         null,
         null,
         null,
         null,
         null
        ],
        [
         "21",
         "ALBANY",
         "ALBANY0022 ALBANY W3 ED2",
         "President",
         null,
         "Hillary Clinton",
         "DEM",
         "6",
         null,
         null,
         null,
         null,
         null
        ],
        [
         "22",
         "ALBANY",
         "ALBANY0023 ALBANY W3 ED3",
         "President",
         null,
         "Hillary Clinton",
         "DEM",
         "10",
         null,
         null,
         null,
         null,
         null
        ],
        [
         "23",
         "ALBANY",
         "ALBANY0024 ALBANY W3 ED4",
         "President",
         null,
         "Hillary Clinton",
         "DEM",
         "175",
         null,
         null,
         null,
         null,
         null
        ],
        [
         "24",
         "ALBANY",
         "ALBANY0025 ALBANY W3 ED5",
         "President",
         null,
         "Hillary Clinton",
         "DEM",
         "127",
         null,
         null,
         null,
         null,
         null
        ],
        [
         "25",
         "ALBANY",
         "ALBANY0026 ALBANY W3 ED6",
         "President",
         null,
         "Hillary Clinton",
         "DEM",
         "118",
         null,
         null,
         null,
         null,
         null
        ],
        [
         "26",
         "ALBANY",
         "ALBANY0027 ALBANY W3 ED7",
         "President",
         null,
         "Hillary Clinton",
         "DEM",
         "248",
         null,
         null,
         null,
         null,
         null
        ],
        [
         "27",
         "ALBANY",
         "ALBANY0028 ALBANY W3 ED8",
         "President",
         null,
         "Hillary Clinton",
         "DEM",
         "116",
         null,
         null,
         null,
         null,
         null
        ],
        [
         "28",
         "ALBANY",
         "ALBANY0029 ALBANY W3 ED9",
         "President",
         null,
         "Hillary Clinton",
         "DEM",
         "42",
         null,
         null,
         null,
         null,
         null
        ],
        [
         "29",
         "ALBANY",
         "ALBANY0030 ALBANY W3 ED10",
         "President",
         null,
         "Hillary Clinton",
         "DEM",
         "192",
         null,
         null,
         null,
         null,
         null
        ],
        [
         "30",
         "ALBANY",
         "ALBANY0031 ALBANY W4 ED1",
         "President",
         null,
         "Hillary Clinton",
         "DEM",
         "200",
         null,
         null,
         null,
         null,
         null
        ],
        [
         "31",
         "ALBANY",
         "ALBANY0032 ALBANY W4 ED2",
         "President",
         null,
         "Hillary Clinton",
         "DEM",
         "91",
         null,
         null,
         null,
         null,
         null
        ],
        [
         "32",
         "ALBANY",
         "ALBANY0033 ALBANY W4 ED3",
         "President",
         null,
         "Hillary Clinton",
         "DEM",
         "267",
         null,
         null,
         null,
         null,
         null
        ],
        [
         "33",
         "ALBANY",
         "ALBANY0034 ALBANY W4 ED4",
         "President",
         null,
         "Hillary Clinton",
         "DEM",
         "424",
         null,
         null,
         null,
         null,
         null
        ],
        [
         "34",
         "ALBANY",
         "ALBANY0035 ALBANY W4 ED5",
         "President",
         null,
         "Hillary Clinton",
         "DEM",
         "326",
         null,
         null,
         null,
         null,
         null
        ],
        [
         "35",
         "ALBANY",
         "ALBANY0036 ALBANY W4 ED6",
         "President",
         null,
         "Hillary Clinton",
         "DEM",
         "176",
         null,
         null,
         null,
         null,
         null
        ],
        [
         "36",
         "ALBANY",
         "ALBANY0037 ALBANY W5 ED1",
         "President",
         null,
         "Hillary Clinton",
         "DEM",
         "216",
         null,
         null,
         null,
         null,
         null
        ],
        [
         "37",
         "ALBANY",
         "ALBANY0038 ALBANY W5 ED2",
         "President",
         null,
         "Hillary Clinton",
         "DEM",
         "137",
         null,
         null,
         null,
         null,
         null
        ],
        [
         "38",
         "ALBANY",
         "ALBANY0039 ALBANY W5 ED3",
         "President",
         null,
         "Hillary Clinton",
         "DEM",
         "192",
         null,
         null,
         null,
         null,
         null
        ],
        [
         "39",
         "ALBANY",
         "ALBANY0040 ALBANY W5 ED4",
         "President",
         null,
         "Hillary Clinton",
         "DEM",
         "80",
         null,
         null,
         null,
         null,
         null
        ],
        [
         "40",
         "ALBANY",
         "ALBANY0041 ALBANY W5 ED5",
         "President",
         null,
         "Hillary Clinton",
         "DEM",
         "435",
         null,
         null,
         null,
         null,
         null
        ],
        [
         "41",
         "ALBANY",
         "ALBANY0042 ALBANY W5 ED6",
         "President",
         null,
         "Hillary Clinton",
         "DEM",
         "225",
         null,
         null,
         null,
         null,
         null
        ],
        [
         "42",
         "ALBANY",
         "ALBANY0043 ALBANY W5 ED7",
         "President",
         null,
         "Hillary Clinton",
         "DEM",
         "210",
         null,
         null,
         null,
         null,
         null
        ],
        [
         "43",
         "ALBANY",
         "ALBANY0044 ALBANY W6 ED1",
         "President",
         null,
         "Hillary Clinton",
         "DEM",
         "113",
         null,
         null,
         null,
         null,
         null
        ],
        [
         "44",
         "ALBANY",
         "ALBANY0045 ALBANY W6 ED2",
         "President",
         null,
         "Hillary Clinton",
         "DEM",
         "143",
         null,
         null,
         null,
         null,
         null
        ],
        [
         "45",
         "ALBANY",
         "ALBANY0046 ALBANY W6 ED3",
         "President",
         null,
         "Hillary Clinton",
         "DEM",
         "243",
         null,
         null,
         null,
         null,
         null
        ],
        [
         "46",
         "ALBANY",
         "ALBANY0047 ALBANY W6 ED4",
         "President",
         null,
         "Hillary Clinton",
         "DEM",
         "418",
         null,
         null,
         null,
         null,
         null
        ],
        [
         "47",
         "ALBANY",
         "ALBANY0048 ALBANY W6 ED5",
         "President",
         null,
         "Hillary Clinton",
         "DEM",
         "428",
         null,
         null,
         null,
         null,
         null
        ],
        [
         "48",
         "ALBANY",
         "ALBANY0049 ALBANY W6 ED6",
         "President",
         null,
         "Hillary Clinton",
         "DEM",
         "243",
         null,
         null,
         null,
         null,
         null
        ],
        [
         "49",
         "ALBANY",
         "ALBANY0050 ALBANY W6 ED7",
         "President",
         null,
         "Hillary Clinton",
         "DEM",
         "16",
         null,
         null,
         null,
         null,
         null
        ]
       ],
       "shape": {
        "columns": 12,
        "rows": 192712
       }
      },
      "text/html": [
       "<div>\n",
       "<style scoped>\n",
       "    .dataframe tbody tr th:only-of-type {\n",
       "        vertical-align: middle;\n",
       "    }\n",
       "\n",
       "    .dataframe tbody tr th {\n",
       "        vertical-align: top;\n",
       "    }\n",
       "\n",
       "    .dataframe thead th {\n",
       "        text-align: right;\n",
       "    }\n",
       "</style>\n",
       "<table border=\"1\" class=\"dataframe\">\n",
       "  <thead>\n",
       "    <tr style=\"text-align: right;\">\n",
       "      <th></th>\n",
       "      <th>county</th>\n",
       "      <th>precinct</th>\n",
       "      <th>office</th>\n",
       "      <th>district</th>\n",
       "      <th>candidate</th>\n",
       "      <th>party</th>\n",
       "      <th>votes</th>\n",
       "      <th>election_day</th>\n",
       "      <th>absentee</th>\n",
       "      <th>machine_votes</th>\n",
       "      <th>absentee_hc</th>\n",
       "      <th>affidavit</th>\n",
       "    </tr>\n",
       "  </thead>\n",
       "  <tbody>\n",
       "    <tr>\n",
       "      <th>0</th>\n",
       "      <td>ALBANY</td>\n",
       "      <td>ALBANY0001 ALBANY W1 ED1</td>\n",
       "      <td>President</td>\n",
       "      <td>NaN</td>\n",
       "      <td>Hillary Clinton</td>\n",
       "      <td>DEM</td>\n",
       "      <td>39</td>\n",
       "      <td>NaN</td>\n",
       "      <td>NaN</td>\n",
       "      <td>NaN</td>\n",
       "      <td>NaN</td>\n",
       "      <td>NaN</td>\n",
       "    </tr>\n",
       "    <tr>\n",
       "      <th>1</th>\n",
       "      <td>ALBANY</td>\n",
       "      <td>ALBANY0002 ALBANY W1 ED2</td>\n",
       "      <td>President</td>\n",
       "      <td>NaN</td>\n",
       "      <td>Hillary Clinton</td>\n",
       "      <td>DEM</td>\n",
       "      <td>194</td>\n",
       "      <td>NaN</td>\n",
       "      <td>NaN</td>\n",
       "      <td>NaN</td>\n",
       "      <td>NaN</td>\n",
       "      <td>NaN</td>\n",
       "    </tr>\n",
       "    <tr>\n",
       "      <th>2</th>\n",
       "      <td>ALBANY</td>\n",
       "      <td>ALBANY0003 ALBANY W1 ED3</td>\n",
       "      <td>President</td>\n",
       "      <td>NaN</td>\n",
       "      <td>Hillary Clinton</td>\n",
       "      <td>DEM</td>\n",
       "      <td>294</td>\n",
       "      <td>NaN</td>\n",
       "      <td>NaN</td>\n",
       "      <td>NaN</td>\n",
       "      <td>NaN</td>\n",
       "      <td>NaN</td>\n",
       "    </tr>\n",
       "    <tr>\n",
       "      <th>3</th>\n",
       "      <td>ALBANY</td>\n",
       "      <td>ALBANY0004 ALBANY W1 ED4</td>\n",
       "      <td>President</td>\n",
       "      <td>NaN</td>\n",
       "      <td>Hillary Clinton</td>\n",
       "      <td>DEM</td>\n",
       "      <td>325</td>\n",
       "      <td>NaN</td>\n",
       "      <td>NaN</td>\n",
       "      <td>NaN</td>\n",
       "      <td>NaN</td>\n",
       "      <td>NaN</td>\n",
       "    </tr>\n",
       "    <tr>\n",
       "      <th>4</th>\n",
       "      <td>ALBANY</td>\n",
       "      <td>ALBANY0005 ALBANY W1 ED5</td>\n",
       "      <td>President</td>\n",
       "      <td>NaN</td>\n",
       "      <td>Hillary Clinton</td>\n",
       "      <td>DEM</td>\n",
       "      <td>6</td>\n",
       "      <td>NaN</td>\n",
       "      <td>NaN</td>\n",
       "      <td>NaN</td>\n",
       "      <td>NaN</td>\n",
       "      <td>NaN</td>\n",
       "    </tr>\n",
       "    <tr>\n",
       "      <th>...</th>\n",
       "      <td>...</td>\n",
       "      <td>...</td>\n",
       "      <td>...</td>\n",
       "      <td>...</td>\n",
       "      <td>...</td>\n",
       "      <td>...</td>\n",
       "      <td>...</td>\n",
       "      <td>...</td>\n",
       "      <td>...</td>\n",
       "      <td>...</td>\n",
       "      <td>...</td>\n",
       "      <td>...</td>\n",
       "    </tr>\n",
       "    <tr>\n",
       "      <th>192707</th>\n",
       "      <td>YATES</td>\n",
       "      <td>YATESMILO 6</td>\n",
       "      <td>President</td>\n",
       "      <td>NaN</td>\n",
       "      <td>Scatterings</td>\n",
       "      <td>NaN</td>\n",
       "      <td>5</td>\n",
       "      <td>NaN</td>\n",
       "      <td>NaN</td>\n",
       "      <td>NaN</td>\n",
       "      <td>NaN</td>\n",
       "      <td>NaN</td>\n",
       "    </tr>\n",
       "    <tr>\n",
       "      <th>192708</th>\n",
       "      <td>YATES</td>\n",
       "      <td>YATESPOTTER 1</td>\n",
       "      <td>President</td>\n",
       "      <td>NaN</td>\n",
       "      <td>Scatterings</td>\n",
       "      <td>NaN</td>\n",
       "      <td>0</td>\n",
       "      <td>NaN</td>\n",
       "      <td>NaN</td>\n",
       "      <td>NaN</td>\n",
       "      <td>NaN</td>\n",
       "      <td>NaN</td>\n",
       "    </tr>\n",
       "    <tr>\n",
       "      <th>192709</th>\n",
       "      <td>YATES</td>\n",
       "      <td>YATESSTARKEY 1</td>\n",
       "      <td>President</td>\n",
       "      <td>NaN</td>\n",
       "      <td>Scatterings</td>\n",
       "      <td>NaN</td>\n",
       "      <td>7</td>\n",
       "      <td>NaN</td>\n",
       "      <td>NaN</td>\n",
       "      <td>NaN</td>\n",
       "      <td>NaN</td>\n",
       "      <td>NaN</td>\n",
       "    </tr>\n",
       "    <tr>\n",
       "      <th>192710</th>\n",
       "      <td>YATES</td>\n",
       "      <td>YATESSTARKEY 2</td>\n",
       "      <td>President</td>\n",
       "      <td>NaN</td>\n",
       "      <td>Scatterings</td>\n",
       "      <td>NaN</td>\n",
       "      <td>6</td>\n",
       "      <td>NaN</td>\n",
       "      <td>NaN</td>\n",
       "      <td>NaN</td>\n",
       "      <td>NaN</td>\n",
       "      <td>NaN</td>\n",
       "    </tr>\n",
       "    <tr>\n",
       "      <th>192711</th>\n",
       "      <td>YATES</td>\n",
       "      <td>YATESTORREY 1</td>\n",
       "      <td>President</td>\n",
       "      <td>NaN</td>\n",
       "      <td>Scatterings</td>\n",
       "      <td>NaN</td>\n",
       "      <td>0</td>\n",
       "      <td>NaN</td>\n",
       "      <td>NaN</td>\n",
       "      <td>NaN</td>\n",
       "      <td>NaN</td>\n",
       "      <td>NaN</td>\n",
       "    </tr>\n",
       "  </tbody>\n",
       "</table>\n",
       "<p>192712 rows × 12 columns</p>\n",
       "</div>"
      ],
      "text/plain": [
       "        county                  precinct     office  district  \\\n",
       "0       ALBANY  ALBANY0001 ALBANY W1 ED1  President       NaN   \n",
       "1       ALBANY  ALBANY0002 ALBANY W1 ED2  President       NaN   \n",
       "2       ALBANY  ALBANY0003 ALBANY W1 ED3  President       NaN   \n",
       "3       ALBANY  ALBANY0004 ALBANY W1 ED4  President       NaN   \n",
       "4       ALBANY  ALBANY0005 ALBANY W1 ED5  President       NaN   \n",
       "...        ...                       ...        ...       ...   \n",
       "192707   YATES               YATESMILO 6  President       NaN   \n",
       "192708   YATES             YATESPOTTER 1  President       NaN   \n",
       "192709   YATES            YATESSTARKEY 1  President       NaN   \n",
       "192710   YATES            YATESSTARKEY 2  President       NaN   \n",
       "192711   YATES             YATESTORREY 1  President       NaN   \n",
       "\n",
       "              candidate party votes  election_day  absentee  machine_votes  \\\n",
       "0       Hillary Clinton   DEM    39           NaN       NaN            NaN   \n",
       "1       Hillary Clinton   DEM   194           NaN       NaN            NaN   \n",
       "2       Hillary Clinton   DEM   294           NaN       NaN            NaN   \n",
       "3       Hillary Clinton   DEM   325           NaN       NaN            NaN   \n",
       "4       Hillary Clinton   DEM     6           NaN       NaN            NaN   \n",
       "...                 ...   ...   ...           ...       ...            ...   \n",
       "192707      Scatterings   NaN     5           NaN       NaN            NaN   \n",
       "192708      Scatterings   NaN     0           NaN       NaN            NaN   \n",
       "192709      Scatterings   NaN     7           NaN       NaN            NaN   \n",
       "192710      Scatterings   NaN     6           NaN       NaN            NaN   \n",
       "192711      Scatterings   NaN     0           NaN       NaN            NaN   \n",
       "\n",
       "        absentee_hc  affidavit  \n",
       "0               NaN        NaN  \n",
       "1               NaN        NaN  \n",
       "2               NaN        NaN  \n",
       "3               NaN        NaN  \n",
       "4               NaN        NaN  \n",
       "...             ...        ...  \n",
       "192707          NaN        NaN  \n",
       "192708          NaN        NaN  \n",
       "192709          NaN        NaN  \n",
       "192710          NaN        NaN  \n",
       "192711          NaN        NaN  \n",
       "\n",
       "[192712 rows x 12 columns]"
      ]
     },
     "execution_count": 16,
     "metadata": {},
     "output_type": "execute_result"
    }
   ],
   "source": [
    "# Process general files\n",
    "general_df_list = []\n",
    "\n",
    "for file in general_files:\n",
    "    try:\n",
    "        df = pd.read_csv(file, on_bad_lines='skip')\n",
    "        \n",
    "        # Combine precinct as county + precinct\n",
    "        df[\"precinct\"] = df[\"county\"].astype(str) + df[\"precinct\"].astype(str)\n",
    "        df[\"precinct\"] = df[\"precinct\"].str.upper()\n",
    "        df[\"county\"] = df[\"county\"].str.upper()\n",
    "\n",
    "        # Cleaning maybe total precinct\n",
    "        if 'precinct' in df.columns:\n",
    "            df['precinct'] = df['precinct'].astype(str)                  \n",
    "            df = df[df['precinct'].str.upper() != \"TOTAL\"]               \n",
    "            df = df[df['precinct'].str.strip().str.upper() != \"TOTAL\"]   \n",
    "            df = df[df['precinct'].str.upper() != \"NAN\"]                \n",
    "        \n",
    "        if 'county' in df.columns:\n",
    "            df['county'] = df['county'].astype(str)                  \n",
    "            df = df[df['county'].str.upper() != \"TOTAL\"]               \n",
    "            df = df[df['county'].str.strip().str.upper() != \"TOTAL\"]   \n",
    "            df = df[df['county'].str.upper() != \"NAN\"]       \n",
    "            df = df[~df['county'].str.upper().str.contains(r\"\\w*TOTAL\\w*\", na=False)]      \n",
    "            \n",
    "        # Filtering out only President \n",
    "        if 'office' in df.columns:\n",
    "            df = df[df[\"office\"] == \"President\"]\n",
    "        \n",
    "        # Dropping duplicates value\n",
    "        df = df.drop_duplicates()\n",
    "        \n",
    "        general_df_list.append(df)\n",
    "\n",
    "    except Exception as e:\n",
    "        print(f\"Error in {file}: {e}\")\n",
    "\n",
    "# Combine all cleaned files\n",
    "gen_combined_df = pd.concat(general_df_list, ignore_index=True)\n",
    "# Checking any suspicious precinct\n",
    "suspicious_precincts = gen_combined_df[\n",
    "    gen_combined_df[\"precinct\"].str.strip().str.upper().isin([\"TOTAL\", \"NAN\"])\n",
    "]\n",
    "gen_combined_df\n"
   ]
  },
  {
   "cell_type": "code",
   "execution_count": 17,
   "id": "1bbbd54d",
   "metadata": {},
   "outputs": [
    {
     "data": {
      "application/vnd.microsoft.datawrangler.viewer.v0+json": {
       "columns": [
        {
         "name": "index",
         "rawType": "int64",
         "type": "integer"
        },
        {
         "name": "precinct",
         "rawType": "object",
         "type": "string"
        },
        {
         "name": "party",
         "rawType": "object",
         "type": "unknown"
        },
        {
         "name": "candidate",
         "rawType": "object",
         "type": "string"
        },
        {
         "name": "votes",
         "rawType": "object",
         "type": "unknown"
        }
       ],
       "ref": "9bd70d89-3f61-4aaa-8a1e-4e0bada93edb",
       "rows": [
        [
         "0",
         "ALBANY0001 ALBANY W1 ED1",
         "DEM",
         "Hillary Clinton",
         "39"
        ],
        [
         "1",
         "ALBANY0002 ALBANY W1 ED2",
         "DEM",
         "Hillary Clinton",
         "194"
        ],
        [
         "2",
         "ALBANY0003 ALBANY W1 ED3",
         "DEM",
         "Hillary Clinton",
         "294"
        ],
        [
         "3",
         "ALBANY0004 ALBANY W1 ED4",
         "DEM",
         "Hillary Clinton",
         "325"
        ],
        [
         "4",
         "ALBANY0005 ALBANY W1 ED5",
         "DEM",
         "Hillary Clinton",
         "6"
        ],
        [
         "5",
         "ALBANY0006 ALBANY W1 ED6",
         "DEM",
         "Hillary Clinton",
         "311"
        ],
        [
         "6",
         "ALBANY0007 ALBANY W1 ED7",
         "DEM",
         "Hillary Clinton",
         "302"
        ],
        [
         "7",
         "ALBANY0008 ALBANY W1 ED8",
         "DEM",
         "Hillary Clinton",
         "72"
        ],
        [
         "8",
         "ALBANY0009 ALBANY W1 ED9",
         "DEM",
         "Hillary Clinton",
         "272"
        ],
        [
         "9",
         "ALBANY0010 ALBANY W1 ED10",
         "DEM",
         "Hillary Clinton",
         "29"
        ],
        [
         "10",
         "ALBANY0011 ALBANY W2 ED1",
         "DEM",
         "Hillary Clinton",
         "306"
        ],
        [
         "11",
         "ALBANY0012 ALBANY W2 ED2",
         "DEM",
         "Hillary Clinton",
         "152"
        ],
        [
         "12",
         "ALBANY0013 ALBANY W2 ED3",
         "DEM",
         "Hillary Clinton",
         "145"
        ],
        [
         "13",
         "ALBANY0014 ALBANY W2 ED4",
         "DEM",
         "Hillary Clinton",
         "328"
        ],
        [
         "14",
         "ALBANY0015 ALBANY W2 ED5",
         "DEM",
         "Hillary Clinton",
         "223"
        ],
        [
         "15",
         "ALBANY0016 ALBANY W2 ED6",
         "DEM",
         "Hillary Clinton",
         "169"
        ],
        [
         "16",
         "ALBANY0017 ALBANY W2 ED7",
         "DEM",
         "Hillary Clinton",
         "3"
        ],
        [
         "17",
         "ALBANY0018 ALBANY W2 ED8",
         "DEM",
         "Hillary Clinton",
         "62"
        ],
        [
         "18",
         "ALBANY0019 ALBANY W2 ED9",
         "DEM",
         "Hillary Clinton",
         "208"
        ],
        [
         "19",
         "ALBANY0020 ALBANY W2 ED10",
         "DEM",
         "Hillary Clinton",
         "0"
        ],
        [
         "20",
         "ALBANY0021 ALBANY W3 ED1",
         "DEM",
         "Hillary Clinton",
         "262"
        ],
        [
         "21",
         "ALBANY0022 ALBANY W3 ED2",
         "DEM",
         "Hillary Clinton",
         "6"
        ],
        [
         "22",
         "ALBANY0023 ALBANY W3 ED3",
         "DEM",
         "Hillary Clinton",
         "10"
        ],
        [
         "23",
         "ALBANY0024 ALBANY W3 ED4",
         "DEM",
         "Hillary Clinton",
         "175"
        ],
        [
         "24",
         "ALBANY0025 ALBANY W3 ED5",
         "DEM",
         "Hillary Clinton",
         "127"
        ],
        [
         "25",
         "ALBANY0026 ALBANY W3 ED6",
         "DEM",
         "Hillary Clinton",
         "118"
        ],
        [
         "26",
         "ALBANY0027 ALBANY W3 ED7",
         "DEM",
         "Hillary Clinton",
         "248"
        ],
        [
         "27",
         "ALBANY0028 ALBANY W3 ED8",
         "DEM",
         "Hillary Clinton",
         "116"
        ],
        [
         "28",
         "ALBANY0029 ALBANY W3 ED9",
         "DEM",
         "Hillary Clinton",
         "42"
        ],
        [
         "29",
         "ALBANY0030 ALBANY W3 ED10",
         "DEM",
         "Hillary Clinton",
         "192"
        ],
        [
         "30",
         "ALBANY0031 ALBANY W4 ED1",
         "DEM",
         "Hillary Clinton",
         "200"
        ],
        [
         "31",
         "ALBANY0032 ALBANY W4 ED2",
         "DEM",
         "Hillary Clinton",
         "91"
        ],
        [
         "32",
         "ALBANY0033 ALBANY W4 ED3",
         "DEM",
         "Hillary Clinton",
         "267"
        ],
        [
         "33",
         "ALBANY0034 ALBANY W4 ED4",
         "DEM",
         "Hillary Clinton",
         "424"
        ],
        [
         "34",
         "ALBANY0035 ALBANY W4 ED5",
         "DEM",
         "Hillary Clinton",
         "326"
        ],
        [
         "35",
         "ALBANY0036 ALBANY W4 ED6",
         "DEM",
         "Hillary Clinton",
         "176"
        ],
        [
         "36",
         "ALBANY0037 ALBANY W5 ED1",
         "DEM",
         "Hillary Clinton",
         "216"
        ],
        [
         "37",
         "ALBANY0038 ALBANY W5 ED2",
         "DEM",
         "Hillary Clinton",
         "137"
        ],
        [
         "38",
         "ALBANY0039 ALBANY W5 ED3",
         "DEM",
         "Hillary Clinton",
         "192"
        ],
        [
         "39",
         "ALBANY0040 ALBANY W5 ED4",
         "DEM",
         "Hillary Clinton",
         "80"
        ],
        [
         "40",
         "ALBANY0041 ALBANY W5 ED5",
         "DEM",
         "Hillary Clinton",
         "435"
        ],
        [
         "41",
         "ALBANY0042 ALBANY W5 ED6",
         "DEM",
         "Hillary Clinton",
         "225"
        ],
        [
         "42",
         "ALBANY0043 ALBANY W5 ED7",
         "DEM",
         "Hillary Clinton",
         "210"
        ],
        [
         "43",
         "ALBANY0044 ALBANY W6 ED1",
         "DEM",
         "Hillary Clinton",
         "113"
        ],
        [
         "44",
         "ALBANY0045 ALBANY W6 ED2",
         "DEM",
         "Hillary Clinton",
         "143"
        ],
        [
         "45",
         "ALBANY0046 ALBANY W6 ED3",
         "DEM",
         "Hillary Clinton",
         "243"
        ],
        [
         "46",
         "ALBANY0047 ALBANY W6 ED4",
         "DEM",
         "Hillary Clinton",
         "418"
        ],
        [
         "47",
         "ALBANY0048 ALBANY W6 ED5",
         "DEM",
         "Hillary Clinton",
         "428"
        ],
        [
         "48",
         "ALBANY0049 ALBANY W6 ED6",
         "DEM",
         "Hillary Clinton",
         "243"
        ],
        [
         "49",
         "ALBANY0050 ALBANY W6 ED7",
         "DEM",
         "Hillary Clinton",
         "16"
        ]
       ],
       "shape": {
        "columns": 4,
        "rows": 192712
       }
      },
      "text/html": [
       "<div>\n",
       "<style scoped>\n",
       "    .dataframe tbody tr th:only-of-type {\n",
       "        vertical-align: middle;\n",
       "    }\n",
       "\n",
       "    .dataframe tbody tr th {\n",
       "        vertical-align: top;\n",
       "    }\n",
       "\n",
       "    .dataframe thead th {\n",
       "        text-align: right;\n",
       "    }\n",
       "</style>\n",
       "<table border=\"1\" class=\"dataframe\">\n",
       "  <thead>\n",
       "    <tr style=\"text-align: right;\">\n",
       "      <th></th>\n",
       "      <th>precinct</th>\n",
       "      <th>party</th>\n",
       "      <th>candidate</th>\n",
       "      <th>votes</th>\n",
       "    </tr>\n",
       "  </thead>\n",
       "  <tbody>\n",
       "    <tr>\n",
       "      <th>0</th>\n",
       "      <td>ALBANY0001 ALBANY W1 ED1</td>\n",
       "      <td>DEM</td>\n",
       "      <td>Hillary Clinton</td>\n",
       "      <td>39</td>\n",
       "    </tr>\n",
       "    <tr>\n",
       "      <th>1</th>\n",
       "      <td>ALBANY0002 ALBANY W1 ED2</td>\n",
       "      <td>DEM</td>\n",
       "      <td>Hillary Clinton</td>\n",
       "      <td>194</td>\n",
       "    </tr>\n",
       "    <tr>\n",
       "      <th>2</th>\n",
       "      <td>ALBANY0003 ALBANY W1 ED3</td>\n",
       "      <td>DEM</td>\n",
       "      <td>Hillary Clinton</td>\n",
       "      <td>294</td>\n",
       "    </tr>\n",
       "    <tr>\n",
       "      <th>3</th>\n",
       "      <td>ALBANY0004 ALBANY W1 ED4</td>\n",
       "      <td>DEM</td>\n",
       "      <td>Hillary Clinton</td>\n",
       "      <td>325</td>\n",
       "    </tr>\n",
       "    <tr>\n",
       "      <th>4</th>\n",
       "      <td>ALBANY0005 ALBANY W1 ED5</td>\n",
       "      <td>DEM</td>\n",
       "      <td>Hillary Clinton</td>\n",
       "      <td>6</td>\n",
       "    </tr>\n",
       "    <tr>\n",
       "      <th>...</th>\n",
       "      <td>...</td>\n",
       "      <td>...</td>\n",
       "      <td>...</td>\n",
       "      <td>...</td>\n",
       "    </tr>\n",
       "    <tr>\n",
       "      <th>192707</th>\n",
       "      <td>YATESMILO 6</td>\n",
       "      <td>NaN</td>\n",
       "      <td>Scatterings</td>\n",
       "      <td>5</td>\n",
       "    </tr>\n",
       "    <tr>\n",
       "      <th>192708</th>\n",
       "      <td>YATESPOTTER 1</td>\n",
       "      <td>NaN</td>\n",
       "      <td>Scatterings</td>\n",
       "      <td>0</td>\n",
       "    </tr>\n",
       "    <tr>\n",
       "      <th>192709</th>\n",
       "      <td>YATESSTARKEY 1</td>\n",
       "      <td>NaN</td>\n",
       "      <td>Scatterings</td>\n",
       "      <td>7</td>\n",
       "    </tr>\n",
       "    <tr>\n",
       "      <th>192710</th>\n",
       "      <td>YATESSTARKEY 2</td>\n",
       "      <td>NaN</td>\n",
       "      <td>Scatterings</td>\n",
       "      <td>6</td>\n",
       "    </tr>\n",
       "    <tr>\n",
       "      <th>192711</th>\n",
       "      <td>YATESTORREY 1</td>\n",
       "      <td>NaN</td>\n",
       "      <td>Scatterings</td>\n",
       "      <td>0</td>\n",
       "    </tr>\n",
       "  </tbody>\n",
       "</table>\n",
       "<p>192712 rows × 4 columns</p>\n",
       "</div>"
      ],
      "text/plain": [
       "                        precinct party        candidate votes\n",
       "0       ALBANY0001 ALBANY W1 ED1   DEM  Hillary Clinton    39\n",
       "1       ALBANY0002 ALBANY W1 ED2   DEM  Hillary Clinton   194\n",
       "2       ALBANY0003 ALBANY W1 ED3   DEM  Hillary Clinton   294\n",
       "3       ALBANY0004 ALBANY W1 ED4   DEM  Hillary Clinton   325\n",
       "4       ALBANY0005 ALBANY W1 ED5   DEM  Hillary Clinton     6\n",
       "...                          ...   ...              ...   ...\n",
       "192707               YATESMILO 6   NaN      Scatterings     5\n",
       "192708             YATESPOTTER 1   NaN      Scatterings     0\n",
       "192709            YATESSTARKEY 1   NaN      Scatterings     7\n",
       "192710            YATESSTARKEY 2   NaN      Scatterings     6\n",
       "192711             YATESTORREY 1   NaN      Scatterings     0\n",
       "\n",
       "[192712 rows x 4 columns]"
      ]
     },
     "execution_count": 17,
     "metadata": {},
     "output_type": "execute_result"
    }
   ],
   "source": [
    "# Select only the relevant columns\n",
    "general_data = gen_combined_df[[\"precinct\", \"party\", \"candidate\", \"votes\"]]\n",
    "\n",
    "general_data"
   ]
  },
  {
   "cell_type": "code",
   "execution_count": 18,
   "id": "38fba0f1",
   "metadata": {},
   "outputs": [
    {
     "name": "stderr",
     "output_type": "stream",
     "text": [
      "C:\\Users\\ADMIN\\AppData\\Local\\Temp\\ipykernel_26380\\1743146100.py:2: SettingWithCopyWarning: \n",
      "A value is trying to be set on a copy of a slice from a DataFrame.\n",
      "Try using .loc[row_indexer,col_indexer] = value instead\n",
      "\n",
      "See the caveats in the documentation: https://pandas.pydata.org/pandas-docs/stable/user_guide/indexing.html#returning-a-view-versus-a-copy\n",
      "  general_data[\"candidate\"] = general_data[\"candidate\"].astype(str).str.upper()\n"
     ]
    },
    {
     "data": {
      "application/vnd.microsoft.datawrangler.viewer.v0+json": {
       "columns": [
        {
         "name": "candidate",
         "rawType": "object",
         "type": "string"
        },
        {
         "name": "count",
         "rawType": "int64",
         "type": "integer"
        }
       ],
       "ref": "6b8a7f31-9d2f-4237-99f4-c96f5035070a",
       "rows": [
        [
         "HILLARY CLINTON",
         "44977"
        ],
        [
         "GARY JOHNSON",
         "29995"
        ],
        [
         "DONALD J. TRUMP",
         "29995"
        ],
        [
         "JILL STEIN",
         "14870"
        ],
        [
         "WRITE-INS",
         "5602"
        ],
        [
         "SCATTERED",
         "4286"
        ],
        [
         "EVAN MCMULLIN",
         "3744"
        ],
        [
         "DARRELL L. CASTLE",
         "3533"
        ],
        [
         "SCATTERING",
         "2785"
        ],
        [
         "BLANKS",
         "2422"
        ],
        [
         "CHRIS KENISTON",
         "2208"
        ],
        [
         "TOM HOEFLING",
         "2049"
        ],
        [
         "BEN HARTNELL",
         "1981"
        ],
        [
         "ZOLTAN ISTVAN GYURKO",
         "1943"
        ],
        [
         "EMIDIO SOLTYSIK",
         "1939"
        ],
        [
         "GLORIA LA RIVA",
         "1891"
        ],
        [
         "CLIFTON ROBERTS",
         "1890"
        ],
        [
         "SCATTERINGS",
         "1832"
        ],
        [
         "VOIDS",
         "1265"
        ],
        [
         "MICHAEL MATUREN",
         "1185"
        ],
        [
         "UNDER VOTES",
         "1183"
        ],
        [
         "ROCKY DE LA FUENTE",
         "1093"
        ],
        [
         "ROBERT BUCHANAN",
         "1053"
        ],
        [
         "OVER VOTES",
         "965"
        ],
        [
         "OVER AND UNDER VOTES",
         "898"
        ],
        [
         "LYNN KAHN",
         "887"
        ],
        [
         "WILLIE CARTER",
         "883"
        ],
        [
         "MICHAEL A. MATUREN",
         "877"
        ],
        [
         "VOID",
         "869"
        ],
        [
         "ROBERT M. WOLFF",
         "838"
        ],
        [
         "JASON MUTFORD",
         "838"
        ],
        [
         "“ROCKY” ROGUE DE LA FUENTE",
         "837"
        ],
        [
         "WILLIAM J. CONNOLLY",
         "837"
        ],
        [
         "JASON FRIED",
         "837"
        ],
        [
         "ARIEL COHEN",
         "837"
        ],
        [
         "GARY S. CANNS",
         "837"
        ],
        [
         "NEER R. ASHERIE",
         "837"
        ],
        [
         "ROBERT L. BUCHANAN",
         "837"
        ],
        [
         "ARANTXA ARANJA",
         "837"
        ],
        [
         "MICHAEL FREDERICK INGBAR",
         "837"
        ],
        [
         "J. J. VOGEL-WALCUTT",
         "837"
        ],
        [
         "JEFFREY MACKLER",
         "837"
        ],
        [
         "BVS",
         "837"
        ],
        [
         "BARBARA WHITAKER",
         "837"
        ],
        [
         "ESTHER WELSH",
         "837"
        ],
        [
         "MARK BLICKLEY",
         "837"
        ],
        [
         "TONY VALDIVIA",
         "837"
        ],
        [
         "MONICA MOOREHEAD",
         "837"
        ],
        [
         "RYAN ALAN SCOTT",
         "837"
        ],
        [
         "MARSHALL SCHOENKE",
         "837"
        ]
       ],
       "shape": {
        "columns": 1,
        "rows": 176
       }
      },
      "text/plain": [
       "candidate\n",
       "HILLARY CLINTON               44977\n",
       "GARY JOHNSON                  29995\n",
       "DONALD J. TRUMP               29995\n",
       "JILL STEIN                    14870\n",
       "WRITE-INS                      5602\n",
       "                              ...  \n",
       "ROQUE DE LA FUENTE                1\n",
       "REP                               1\n",
       "TOM HOEFLING (INCLUDED)           1\n",
       "\"ROCKY\" ROQUE DE LA FUENTE        1\n",
       "ZOLTAN GYURKO                     1\n",
       "Name: count, Length: 176, dtype: int64"
      ]
     },
     "execution_count": 18,
     "metadata": {},
     "output_type": "execute_result"
    }
   ],
   "source": [
    "# Viewing candidate data\n",
    "general_data[\"candidate\"] = general_data[\"candidate\"].astype(str).str.upper()\n",
    "general_data[\"candidate\"].value_counts(dropna=False)"
   ]
  },
  {
   "cell_type": "code",
   "execution_count": 34,
   "id": "90417a20",
   "metadata": {},
   "outputs": [
    {
     "name": "stderr",
     "output_type": "stream",
     "text": [
      "C:\\Users\\ADMIN\\AppData\\Local\\Temp\\ipykernel_22308\\2515688606.py:4: SettingWithCopyWarning: \n",
      "A value is trying to be set on a copy of a slice from a DataFrame.\n",
      "Try using .loc[row_indexer,col_indexer] = value instead\n",
      "\n",
      "See the caveats in the documentation: https://pandas.pydata.org/pandas-docs/stable/user_guide/indexing.html#returning-a-view-versus-a-copy\n",
      "  general_data[\"candidate\"] = general_data[\"candidate\"].astype(str).str.upper()\n"
     ]
    },
    {
     "data": {
      "application/vnd.microsoft.datawrangler.viewer.v0+json": {
       "columns": [
        {
         "name": "candidate",
         "rawType": "object",
         "type": "string"
        },
        {
         "name": "count",
         "rawType": "int64",
         "type": "integer"
        }
       ],
       "ref": "7daeb70d-9c86-4008-bfc4-e95c18e5e29f",
       "rows": [
        [
         "CASTLE",
         "355"
        ],
        [
         "TRUMP",
         "348"
        ],
        [
         "CLINTON",
         "348"
        ],
        [
         "JOHNSON",
         "348"
        ],
        [
         "STEIN",
         "339"
        ]
       ],
       "shape": {
        "columns": 1,
        "rows": 5
       }
      },
      "text/plain": [
       "candidate\n",
       "CASTLE     355\n",
       "TRUMP      348\n",
       "CLINTON    348\n",
       "JOHNSON    348\n",
       "STEIN      339\n",
       "Name: count, dtype: int64"
      ]
     },
     "execution_count": 34,
     "metadata": {},
     "output_type": "execute_result"
    }
   ],
   "source": [
    "# Cleaning Candidates\n",
    "\n",
    "# Turning all general data to uppercase\n",
    "general_data[\"candidate\"] = general_data[\"candidate\"].astype(str).str.upper()\n",
    "\n",
    "\n",
    "unwanted_keywords = [\n",
    "    r\"\\w*VOTE\\w*\",\n",
    "    r\"\\w*UNCOM\\w*\",\n",
    "    r\"\\w*TOTAL\\w*\",\n",
    "    r\"\\w*WRITE-INS\\w*\",\n",
    "    r\"NAN\",\n",
    "    r\"UNCERTIFIED\",\n",
    "    r\"UNVERIFIED\",\n",
    "    r\"NONE OF THE ABOVE\",\n",
    "    r\"LBT\",\n",
    "    r\"DEM\",\n",
    "    r\"REP\",\n",
    "    r\"GRN\",\n",
    "    r\"NAN\",\n",
    "    r\"\\w*CANDIDATES\\w*\",\n",
    "    \"SCATTERING\"\n",
    "]\n",
    "\n",
    "# Fixing FUENTE\n",
    "general_data.loc[\n",
    "    general_data[\"candidate\"].str.contains(\"\\w*FUENTE\\w*\", case=False, na=False),\n",
    "    \"candidate\"\n",
    "] = \"FUENTE\"\n",
    "pattern = \"|\".join(unwanted_keywords)\n",
    "\n",
    "# FILTER OUT TRASH WORDS\n",
    "general_data = general_data[~general_data[\"candidate\"].str.upper().str.contains(pattern, regex=True, na=False)]\n",
    "\n",
    "# # Fixing Darrell Castle\"\n",
    "# general_data.loc[\n",
    "#     general_data[\"candidate\"].str.contains(\"\\w*ASTLE\\w*\", case=False, na=False),\n",
    "#     \"candidate\"\n",
    "# ] = \"CASTLE\"\n",
    "\n",
    "general_data.loc[\n",
    "    general_data[\"candidate\"].str.contains(\"\\w*ATUREN\\w*\", case=False, na=False),\n",
    "    \"candidate\"\n",
    "] = \"MATUREN\"\n",
    "\n",
    "general_data.loc[\n",
    "    general_data[\"candidate\"].str.contains(\"\\w*OLTYSIK\\w*\", case=False, na=False),\n",
    "    \"candidate\"\n",
    "] = \"SOLTYSIK\"\n",
    "\n",
    "general_data.loc[\n",
    "    general_data[\"candidate\"].str.contains(\"\\w*MALDONADO\\w*\", case=False, na=False),\n",
    "    \"candidate\"\n",
    "] = \"MALDONADO\"\n",
    "\n",
    "# # Fixing mixed president + vice_president by /\n",
    "# general_data[\"candidate\"] = (\n",
    "#     general_data[\"candidate\"].str.split(\"/\")\n",
    "#     .str[0]\n",
    "#     .str.strip()\n",
    "#     )\n",
    "\n",
    "# #Selecting only last name\n",
    "# general_data[\"candidate\"] = general_data[\"candidate\"].str.split().str[-1]\n",
    "\n",
    "# Fixing the & candidate\n",
    "general_data[\"candidate\"] = (\n",
    "    general_data[\"candidate\"].str.split(\"&\")\n",
    "    .str[0]\n",
    "    .str.strip()\n",
    "    )\n",
    "\n",
    "\n",
    "\n",
    "\n",
    "# # Fixing Cubbler\n",
    "# general_data.loc[\n",
    "#     ( \n",
    "#         general_data[\"candidate\"].str.contains(\"\\w*UBBIER\\w*\", case=False, na=False)|\n",
    "#         general_data[\"candidate\"].str.contains(\"\\w*UBLER\\w*\", case=False, na=False)|\n",
    "#         general_data[\"candidate\"].str.contains(\"\\w*OBBLER\\w*\", case=False, na=False),\n",
    "#     \"candidate\")\n",
    "# ] = \"CUBBLER\"\n",
    "\n",
    "\n",
    "# Fixing Kotlikoff\n",
    "general_data.loc[\n",
    "    general_data[\"candidate\"].str.contains(\"\\w*LIKOFF\\w*\", case=False, na=False),\n",
    "    \"candidate\"\n",
    "] = \"KOTLIKOFF\"\n",
    "\n",
    "# Fixing Valdivia\n",
    "general_data.loc[\n",
    "    general_data[\"candidate\"].str.contains(\"\\w*KENISTON\\W*\", case=False, na=False),\n",
    "    \"candidate\"\n",
    "] = \"KENISTON\"\n",
    "\n",
    "# Fixing HOEFLING\n",
    "general_data.loc[\n",
    "    general_data[\"candidate\"].str.contains(\"\\w*HOEFFLING\", case=False, na=False),\n",
    "    \"candidate\"\n",
    "] = \"HOEFLING\"\n",
    "\n",
    "general_data.loc[\n",
    "    general_data[\"candidate\"].str.contains(\"\\w*SCHOENKE\", case=False, na=False),\n",
    "    \"candidate\"\n",
    "] = \"SCHOENKE\"\n",
    "\n",
    "\n",
    "# Fixing McMullin\n",
    "general_data.loc[\n",
    "    general_data[\"candidate\"].str.contains(\"MCMULLIN\", case=False, na=False) ,\n",
    "    \"candidate\"\n",
    "] = \"MCMULLIN\"\n",
    "\n",
    "general_data.loc[\n",
    "    general_data[\"candidate\"].str.contains(\"FOX\", case=False, na=False) ,\n",
    "    \"candidate\"\n",
    "] = \"FOX\"\n",
    "\n",
    "# Fixing LASTNAME + First name Initial\n",
    "# general_data.loc[:,\"candidate\"] = (\n",
    "#     general_data[\"candidate\"].str.split().str[0].str.upper()\n",
    "# )\n",
    "\n",
    "\n",
    "# #Selecting only last name\n",
    "general_data[\"candidate\"] = general_data[\"candidate\"].str.split().str[-1]\n",
    "\n",
    "general_data[\"candidate\"].value_counts(dropna=False)"
   ]
  },
  {
   "cell_type": "code",
   "execution_count": 35,
   "id": "a22405a6",
   "metadata": {},
   "outputs": [
    {
     "data": {
      "application/vnd.microsoft.datawrangler.viewer.v0+json": {
       "columns": [
        {
         "name": "party",
         "rawType": "object",
         "type": "unknown"
        },
        {
         "name": "count",
         "rawType": "int64",
         "type": "integer"
        }
       ],
       "ref": "c82ca703-0efa-4927-aac5-22d933f81a8c",
       "rows": [
        [
         "CST",
         "340"
        ],
        [
         "REP",
         "333"
        ],
        [
         "DEM",
         "333"
        ],
        [
         "LIB",
         "333"
        ],
        [
         "MTN",
         "324"
        ],
        [
         null,
         "75"
        ]
       ],
       "shape": {
        "columns": 1,
        "rows": 6
       }
      },
      "text/plain": [
       "party\n",
       "CST    340\n",
       "REP    333\n",
       "DEM    333\n",
       "LIB    333\n",
       "MTN    324\n",
       "NaN     75\n",
       "Name: count, dtype: int64"
      ]
     },
     "execution_count": 35,
     "metadata": {},
     "output_type": "execute_result"
    }
   ],
   "source": [
    "# Viewing Party\n",
    "general_data[\"party\"].value_counts(dropna=False)"
   ]
  },
  {
   "cell_type": "code",
   "execution_count": 37,
   "id": "21d7595b",
   "metadata": {},
   "outputs": [
    {
     "data": {
      "application/vnd.microsoft.datawrangler.viewer.v0+json": {
       "columns": [
        {
         "name": "party",
         "rawType": "object",
         "type": "string"
        },
        {
         "name": "count",
         "rawType": "int64",
         "type": "integer"
        }
       ],
       "ref": "d158ee90-a0a1-4239-9e9c-bcc27a4e624c",
       "rows": [
        [
         "REP",
         "348"
        ],
        [
         "DEM",
         "348"
        ],
        [
         "LIB",
         "348"
        ],
        [
         "CST",
         "340"
        ],
        [
         "MTN",
         "324"
        ],
        [
         "GRN",
         "15"
        ],
        [
         "CON",
         "15"
        ]
       ],
       "shape": {
        "columns": 1,
        "rows": 7
       }
      },
      "text/plain": [
       "party\n",
       "REP    348\n",
       "DEM    348\n",
       "LIB    348\n",
       "CST    340\n",
       "MTN    324\n",
       "GRN     15\n",
       "CON     15\n",
       "Name: count, dtype: int64"
      ]
     },
     "execution_count": 37,
     "metadata": {},
     "output_type": "execute_result"
    }
   ],
   "source": [
    "#=====================================\n",
    "# This function is used to look up party\n",
    "# for the candidate in the same df\n",
    "#=====================================\n",
    "def fill_party_from_data(row, df):\n",
    "    if pd.notna(row[\"party\"]):\n",
    "        return row[\"party\"]\n",
    "    \n",
    "    # Try to find other rows with the same candidate and known party\n",
    "    matches = df[(df[\"candidate\"] == row[\"candidate\"]) & (df[\"party\"].notna())]\n",
    "    if not matches.empty:\n",
    "        return matches[\"party\"].iloc[0]  # Return the first match's party\n",
    "    else:\n",
    "        return None  # Still unknown\n",
    "    \n",
    "\n",
    "#=====================================\n",
    "# Function to fill remaining missing party from master lookup\n",
    "#=====================================\n",
    "def fill_party_from_master(df, master_df):\n",
    "    party_map = master_df.set_index(\"candidate\")[\"party\"].to_dict()\n",
    "    df[\"party\"] = df.apply(\n",
    "        lambda row: party_map.get(row[\"candidate\"], row[\"party\"])\n",
    "        if pd.isna(row[\"party\"]) else row[\"party\"],\n",
    "        axis=1\n",
    "    )\n",
    "    return df\n",
    "\n",
    "\n",
    "#=====================================\n",
    "# Function to update the master candidate-party CSV\n",
    "#=====================================\n",
    "def update_master_candidate_party(df, master_path):\n",
    "    # Read the existing master file\n",
    "    master_df = pd.read_csv(master_path)\n",
    "\n",
    "    # Filter and combine only known party entries (exclude 'UNK')\n",
    "    new_data = (\n",
    "        df[[\"candidate\", \"party\"]]\n",
    "        .dropna()\n",
    "        .query('party != \"UNK\"')\n",
    "        .drop_duplicates()\n",
    "    )\n",
    "\n",
    "    # Merge with master and remove duplicates by candidate\n",
    "    updated_master = pd.concat([master_df, new_data]).drop_duplicates(subset=\"candidate\")\n",
    "\n",
    "    # Save updated version\n",
    "    updated_master.to_csv(master_path, index=False)\n",
    "\n",
    "\n",
    "#=====================================\n",
    "# Example usage (uncomment and modify for your workflow)\n",
    "#=====================================\n",
    "# Fill party using internal data\n",
    "# general_data[\"party\"] = general_data.apply(\n",
    "#     lambda row: fill_party_from_data(row, general_data),\n",
    "#     axis=1\n",
    "# )\n",
    "\n",
    "# # Fill remaining party using general master CSV\n",
    "master_party_df = pd.read_csv(r\"C:\\Huy Phan\\College\\VoterTurnout\\data\\cleaned_data\\gen_can_party.csv\") # USE YOUR OWN ADDRESS\n",
    "general_data = fill_party_from_master(general_data, master_party_df)\n",
    "general_data[\"party\"].value_counts(dropna=False)\n"
   ]
  },
  {
   "cell_type": "code",
   "execution_count": 38,
   "id": "8bb5d275",
   "metadata": {},
   "outputs": [
    {
     "data": {
      "application/vnd.microsoft.datawrangler.viewer.v0+json": {
       "columns": [
        {
         "name": "party",
         "rawType": "object",
         "type": "string"
        },
        {
         "name": "count",
         "rawType": "int64",
         "type": "integer"
        }
       ],
       "ref": "2c48766b-01da-44ea-b67b-5884519a623d",
       "rows": [
        [
         "CON",
         "355"
        ],
        [
         "REP",
         "348"
        ],
        [
         "DEM",
         "348"
        ],
        [
         "LIB",
         "348"
        ],
        [
         "GRN",
         "339"
        ]
       ],
       "shape": {
        "columns": 1,
        "rows": 5
       }
      },
      "text/plain": [
       "party\n",
       "CON    355\n",
       "REP    348\n",
       "DEM    348\n",
       "LIB    348\n",
       "GRN    339\n",
       "Name: count, dtype: int64"
      ]
     },
     "execution_count": 38,
     "metadata": {},
     "output_type": "execute_result"
    }
   ],
   "source": [
    "# Cleaning Party\n",
    "# Turning all general data party to uppercase\n",
    "general_data[\"party\"] = general_data[\"party\"].astype(str).str.upper()\n",
    "\n",
    "general_data[\"party\"] = (\n",
    "    general_data[\"party\"]\n",
    "    .replace({\n",
    "        \"REPUBLICAN\": \"REP\",\n",
    "        \"R\": \"REP\",\n",
    "        \"DEMOCRATIC\": \"DEM\",\n",
    "        \"DEMOCRAT\":\"DEM\",\n",
    "        \"DEM\": \"DEM\",\n",
    "        \"D\": \"DEM\",\n",
    "        \"GREEN\": \"GRN\",\n",
    "        \"G\": \"GRN\",\n",
    "        \"WGR\":\"GRN\",\n",
    "        \"GREEN AND RAINBOW\":\"GRN\",\n",
    "        \"GREEN-RAINBOW\":\"GRN\",\n",
    "        \"MTN\":\"GRN\",\n",
    "        \"LIBERTARIAN\": \"LIB\",\n",
    "        \"LIBERTARIN\":\"LIB\",\n",
    "        \"LPN\":\"LIB\",\n",
    "        \"LBT\": \"LIB\",\n",
    "        \"L\": \"LIB\",\n",
    "        \"IAP\":\"CON\",\n",
    "        \"CONSTITUTION\": \"CON\",\n",
    "        \"CST\":\"CON\",\n",
    "        \"AMERICAN DELTA\":\"AMD\",\n",
    "        \"PROHIBITION\":\"PRO\",\n",
    "        \"NP\": \"IND\",\n",
    "        \"NON\": \"IND\",\n",
    "        \"WRI\": \"IND\",\n",
    "        \"WRITE-IN\": \"IND\",\n",
    "        \"ONA\": \"IND\",\n",
    "        \"GEN\": \"IND\",\n",
    "        \"NONE\":\"UNK\",\n",
    "        \"NPA\":\"IND\",\n",
    "        \"UST\":\"CON\",\n",
    "        \"NPP\":\"IND\",\n",
    "        \"(WRITE-IN)\":\"IND\"\n",
    "    })\n",
    ")\n",
    "\n",
    "general_data[\"party\"].value_counts(dropna=False)"
   ]
  },
  {
   "cell_type": "code",
   "execution_count": 39,
   "id": "ff4a4970",
   "metadata": {},
   "outputs": [],
   "source": [
    "# UPDATE MASTER FILE, CAREFUL\n",
    "update_master_candidate_party(general_data, r\"C:\\Huy Phan\\College\\VoterTurnout\\data\\cleaned_data\\gen_can_party.csv\")"
   ]
  },
  {
   "cell_type": "code",
   "execution_count": 40,
   "id": "daaed088",
   "metadata": {},
   "outputs": [
    {
     "data": {
      "application/vnd.microsoft.datawrangler.viewer.v0+json": {
       "columns": [
        {
         "name": "index",
         "rawType": "int64",
         "type": "integer"
        },
        {
         "name": "precinct",
         "rawType": "object",
         "type": "string"
        },
        {
         "name": "gen_con_CASTLE",
         "rawType": "int64",
         "type": "integer"
        },
        {
         "name": "gen_dem_CLINTON",
         "rawType": "int64",
         "type": "integer"
        },
        {
         "name": "gen_grn_STEIN",
         "rawType": "int64",
         "type": "integer"
        },
        {
         "name": "gen_lib_JOHNSON",
         "rawType": "int64",
         "type": "integer"
        },
        {
         "name": "gen_rep_TRUMP",
         "rawType": "int64",
         "type": "integer"
        }
       ],
       "ref": "73214c06-1cfa-4936-8536-388fe448a924",
       "rows": [
        [
         "0",
         "CABELLCT 65 -MILTON MIDDLE SCH",
         "1",
         "65",
         "5",
         "11",
         "330"
        ],
        [
         "1",
         "CABELLNAN",
         "182",
         "11447",
         "397",
         "1209",
         "19850"
        ],
        [
         "2",
         "CABELLPCT 1 - CENTRAL CITY ELEM",
         "7",
         "201",
         "15",
         "22",
         "317"
        ],
        [
         "3",
         "CABELLPCT 10 -HUNTINGTON MIDDLE",
         "1",
         "236",
         "3",
         "6",
         "81"
        ],
        [
         "4",
         "CABELLPCT 11 -FIRST PRES CHURC",
         "0",
         "116",
         "8",
         "8",
         "68"
        ],
        [
         "5",
         "CABELLPCT 12 - AD LEWIS COMM",
         "0",
         "331",
         "11",
         "11",
         "90"
        ],
        [
         "6",
         "CABELLPCT 13 - BARNETT CENTER",
         "0",
         "275",
         "10",
         "24",
         "167"
        ],
        [
         "7",
         "CABELLPCT 14 - MEADOWS ELEM SCH",
         "3",
         "354",
         "10",
         "40",
         "350"
        ],
        [
         "8",
         "CABELLPCT 15 -FIRST PRES CHURCH",
         "1",
         "69",
         "8",
         "7",
         "40"
        ],
        [
         "9",
         "CABELLPCT 16 - SR LIFE ENRICH",
         "3",
         "320",
         "2",
         "8",
         "16"
        ],
        [
         "10",
         "CABELLPCT 17 - SPRING HILL ELEM",
         "0",
         "199",
         "8",
         "11",
         "99"
        ],
        [
         "11",
         "CABELLPCT 18 - MEADOWS ELEM",
         "0",
         "155",
         "1",
         "20",
         "111"
        ],
        [
         "12",
         "CABELLPCT 19 - HIGHLAWN ELEM",
         "1",
         "158",
         "6",
         "15",
         "135"
        ],
        [
         "13",
         "CABELLPCT 2 - CENTRAL CITY ELEM",
         "4",
         "68",
         "8",
         "7",
         "99"
        ],
        [
         "14",
         "CABELLPCT 20 - COMM OF GRACE",
         "4",
         "136",
         "8",
         "14",
         "115"
        ],
        [
         "15",
         "CABELLPCT 21 - FAIRFIELD E COMM",
         "0",
         "155",
         "2",
         "7",
         "98"
        ],
        [
         "16",
         "CABELLPCT 22 - HUNTINGTON HIGH",
         "1",
         "256",
         "3",
         "37",
         "379"
        ],
        [
         "17",
         "CABELLPCT 23 - FAIRFIELD E COMM",
         "2",
         "128",
         "10",
         "18",
         "142"
        ],
        [
         "18",
         "CABELLPCT 24 - LIGHTHOUSE BAPT",
         "2",
         "137",
         "4",
         "16",
         "132"
        ],
        [
         "19",
         "CABELLPCT 25 - BEV HILLS CHURCH",
         "6",
         "193",
         "10",
         "16",
         "168"
        ],
        [
         "20",
         "CABELLPCT 26 - HIGHLAWN ELEM",
         "3",
         "229",
         "6",
         "26",
         "242"
        ],
        [
         "21",
         "CABELLPCT 27 - COMM OF GRACE",
         "1",
         "104",
         "1",
         "8",
         "144"
        ],
        [
         "22",
         "CABELLPCT 28 -ODD FELLOWS LODGE",
         "1",
         "183",
         "5",
         "20",
         "168"
        ],
        [
         "23",
         "CABELLPCT 29 - HTGN EAST MIDDLE",
         "5",
         "155",
         "8",
         "19",
         "215"
        ],
        [
         "24",
         "CABELLPCT 3 - DEPT OF TRANS",
         "4",
         "178",
         "10",
         "15",
         "202"
        ],
        [
         "25",
         "CABELLPCT 30 - HTGN EAST MIDDLE",
         "4",
         "160",
         "6",
         "12",
         "256"
        ],
        [
         "26",
         "CABELLPCT 31 - HTGN EAST MIDDLE",
         "1",
         "257",
         "12",
         "35",
         "395"
        ],
        [
         "27",
         "CABELLPCT 32 - GUYANDOTTE ELEM",
         "3",
         "99",
         "6",
         "15",
         "171"
        ],
        [
         "28",
         "CABELLPCT 33 - GUYANDOTTE ELEM",
         "2",
         "52",
         "1",
         "7",
         "165"
        ],
        [
         "29",
         "CABELLPCT 34 - ALTIZER ELEM",
         "3",
         "129",
         "6",
         "16",
         "285"
        ],
        [
         "30",
         "CABELLPCT 35 - HUNTINGTON HIGH",
         "2",
         "155",
         "7",
         "19",
         "309"
        ],
        [
         "31",
         "CABELLPCT 36 - HITE SAUNDERS",
         "7",
         "135",
         "6",
         "23",
         "484"
        ],
        [
         "32",
         "CABELLPCT 37 - HITE SAUNDERS",
         "2",
         "156",
         "1",
         "16",
         "281"
        ],
        [
         "33",
         "CABELLPCT 38 -CABELL CO VO-TECH",
         "1",
         "114",
         "3",
         "9",
         "160"
        ],
        [
         "34",
         "CABELLPCT 39 -CABELL CO VO-TECH",
         "1",
         "176",
         "5",
         "28",
         "347"
        ],
        [
         "35",
         "CABELLPCT 4 - MUSEUM OF RADIO",
         "0",
         "93",
         "6",
         "19",
         "178"
        ],
        [
         "36",
         "CABELLPCT 40 -CABELL CO VO-TECH",
         "4",
         "187",
         "11",
         "22",
         "238"
        ],
        [
         "37",
         "CABELLPCT 41A - CABELL CO 4-H",
         "1",
         "182",
         "4",
         "16",
         "302"
        ],
        [
         "38",
         "CABELLPCT 41B - CABELL CO 4-H",
         "2",
         "202",
         "2",
         "22",
         "315"
        ],
        [
         "39",
         "CABELLPCT 42 -B'VILLE COMM BLDG",
         "3",
         "235",
         "5",
         "29",
         "461"
        ],
        [
         "40",
         "CABELLPCT 43-B'VILLE MIDDLE SCH",
         "3",
         "167",
         "7",
         "19",
         "335"
        ],
        [
         "41",
         "CABELLPCT 44 - B'VILLE ELEM SCH",
         "2",
         "143",
         "5",
         "14",
         "239"
        ],
        [
         "42",
         "CABELLPCT 45 - B'VILLE ELEM SCH",
         "1",
         "155",
         "7",
         "16",
         "348"
        ],
        [
         "43",
         "CABELLPCT 46-B'VILLE MIDDLE SCH",
         "5",
         "287",
         "3",
         "23",
         "643"
        ],
        [
         "44",
         "CABELLPCT 47 - DAVIS CREEK ELEM",
         "2",
         "168",
         "5",
         "15",
         "339"
        ],
        [
         "45",
         "CABELLPCT 48 - DAVIS CREEK ELEM",
         "1",
         "67",
         "0",
         "10",
         "223"
        ],
        [
         "46",
         "CABELLPCT 49 - MARTHA ELEM SCH",
         "3",
         "176",
         "5",
         "14",
         "700"
        ],
        [
         "47",
         "CABELLPCT 5 - DEPT OF TRANS",
         "0",
         "82",
         "4",
         "11",
         "96"
        ],
        [
         "48",
         "CABELLPCT 50A - SALT ROCK ELEM",
         "7",
         "56",
         "3",
         "13",
         "437"
        ],
        [
         "49",
         "CABELLPCT 50B - SALT ROCK ELEM",
         "3",
         "76",
         "3",
         "11",
         "355"
        ]
       ],
       "shape": {
        "columns": 6,
        "rows": 348
       }
      },
      "text/html": [
       "<div>\n",
       "<style scoped>\n",
       "    .dataframe tbody tr th:only-of-type {\n",
       "        vertical-align: middle;\n",
       "    }\n",
       "\n",
       "    .dataframe tbody tr th {\n",
       "        vertical-align: top;\n",
       "    }\n",
       "\n",
       "    .dataframe thead th {\n",
       "        text-align: right;\n",
       "    }\n",
       "</style>\n",
       "<table border=\"1\" class=\"dataframe\">\n",
       "  <thead>\n",
       "    <tr style=\"text-align: right;\">\n",
       "      <th>candidate_column</th>\n",
       "      <th>precinct</th>\n",
       "      <th>gen_con_CASTLE</th>\n",
       "      <th>gen_dem_CLINTON</th>\n",
       "      <th>gen_grn_STEIN</th>\n",
       "      <th>gen_lib_JOHNSON</th>\n",
       "      <th>gen_rep_TRUMP</th>\n",
       "    </tr>\n",
       "  </thead>\n",
       "  <tbody>\n",
       "    <tr>\n",
       "      <th>0</th>\n",
       "      <td>CABELLCT 65 -MILTON MIDDLE SCH</td>\n",
       "      <td>1</td>\n",
       "      <td>65</td>\n",
       "      <td>5</td>\n",
       "      <td>11</td>\n",
       "      <td>330</td>\n",
       "    </tr>\n",
       "    <tr>\n",
       "      <th>1</th>\n",
       "      <td>CABELLNAN</td>\n",
       "      <td>182</td>\n",
       "      <td>11447</td>\n",
       "      <td>397</td>\n",
       "      <td>1209</td>\n",
       "      <td>19850</td>\n",
       "    </tr>\n",
       "    <tr>\n",
       "      <th>2</th>\n",
       "      <td>CABELLPCT 1 - CENTRAL CITY ELEM</td>\n",
       "      <td>7</td>\n",
       "      <td>201</td>\n",
       "      <td>15</td>\n",
       "      <td>22</td>\n",
       "      <td>317</td>\n",
       "    </tr>\n",
       "    <tr>\n",
       "      <th>3</th>\n",
       "      <td>CABELLPCT 10 -HUNTINGTON MIDDLE</td>\n",
       "      <td>1</td>\n",
       "      <td>236</td>\n",
       "      <td>3</td>\n",
       "      <td>6</td>\n",
       "      <td>81</td>\n",
       "    </tr>\n",
       "    <tr>\n",
       "      <th>4</th>\n",
       "      <td>CABELLPCT 11 -FIRST PRES CHURC</td>\n",
       "      <td>0</td>\n",
       "      <td>116</td>\n",
       "      <td>8</td>\n",
       "      <td>8</td>\n",
       "      <td>68</td>\n",
       "    </tr>\n",
       "    <tr>\n",
       "      <th>...</th>\n",
       "      <td>...</td>\n",
       "      <td>...</td>\n",
       "      <td>...</td>\n",
       "      <td>...</td>\n",
       "      <td>...</td>\n",
       "      <td>...</td>\n",
       "    </tr>\n",
       "    <tr>\n",
       "      <th>343</th>\n",
       "      <td>WEBSTER3</td>\n",
       "      <td>0</td>\n",
       "      <td>39</td>\n",
       "      <td>6</td>\n",
       "      <td>6</td>\n",
       "      <td>191</td>\n",
       "    </tr>\n",
       "    <tr>\n",
       "      <th>344</th>\n",
       "      <td>WEBSTER4</td>\n",
       "      <td>0</td>\n",
       "      <td>81</td>\n",
       "      <td>2</td>\n",
       "      <td>7</td>\n",
       "      <td>144</td>\n",
       "    </tr>\n",
       "    <tr>\n",
       "      <th>345</th>\n",
       "      <td>WEBSTER5</td>\n",
       "      <td>1</td>\n",
       "      <td>31</td>\n",
       "      <td>5</td>\n",
       "      <td>5</td>\n",
       "      <td>143</td>\n",
       "    </tr>\n",
       "    <tr>\n",
       "      <th>346</th>\n",
       "      <td>WEBSTER8</td>\n",
       "      <td>1</td>\n",
       "      <td>53</td>\n",
       "      <td>2</td>\n",
       "      <td>5</td>\n",
       "      <td>232</td>\n",
       "    </tr>\n",
       "    <tr>\n",
       "      <th>347</th>\n",
       "      <td>WEBSTERTOTAL</td>\n",
       "      <td>8</td>\n",
       "      <td>554</td>\n",
       "      <td>30</td>\n",
       "      <td>82</td>\n",
       "      <td>2302</td>\n",
       "    </tr>\n",
       "  </tbody>\n",
       "</table>\n",
       "<p>348 rows × 6 columns</p>\n",
       "</div>"
      ],
      "text/plain": [
       "candidate_column                         precinct  gen_con_CASTLE  \\\n",
       "0                  CABELLCT 65 -MILTON MIDDLE SCH               1   \n",
       "1                                       CABELLNAN             182   \n",
       "2                 CABELLPCT 1 - CENTRAL CITY ELEM               7   \n",
       "3                 CABELLPCT 10 -HUNTINGTON MIDDLE               1   \n",
       "4                  CABELLPCT 11 -FIRST PRES CHURC               0   \n",
       "..                                            ...             ...   \n",
       "343                                      WEBSTER3               0   \n",
       "344                                      WEBSTER4               0   \n",
       "345                                      WEBSTER5               1   \n",
       "346                                      WEBSTER8               1   \n",
       "347                                  WEBSTERTOTAL               8   \n",
       "\n",
       "candidate_column  gen_dem_CLINTON  gen_grn_STEIN  gen_lib_JOHNSON  \\\n",
       "0                              65              5               11   \n",
       "1                           11447            397             1209   \n",
       "2                             201             15               22   \n",
       "3                             236              3                6   \n",
       "4                             116              8                8   \n",
       "..                            ...            ...              ...   \n",
       "343                            39              6                6   \n",
       "344                            81              2                7   \n",
       "345                            31              5                5   \n",
       "346                            53              2                5   \n",
       "347                           554             30               82   \n",
       "\n",
       "candidate_column  gen_rep_TRUMP  \n",
       "0                           330  \n",
       "1                         19850  \n",
       "2                           317  \n",
       "3                            81  \n",
       "4                            68  \n",
       "..                          ...  \n",
       "343                         191  \n",
       "344                         144  \n",
       "345                         143  \n",
       "346                         232  \n",
       "347                        2302  \n",
       "\n",
       "[348 rows x 6 columns]"
      ]
     },
     "execution_count": 40,
     "metadata": {},
     "output_type": "execute_result"
    }
   ],
   "source": [
    "general_data[\"candidate_column\"] = (\n",
    "    \"gen_\" +\n",
    "    general_data[\"party\"].str.lower() + \"_\" +\n",
    "    general_data[\"candidate\"].str.split().str[-1].str.upper()\n",
    ")\n",
    "\n",
    "# pivot the table\n",
    "general_result = general_data.pivot_table(\n",
    "    index=\"precinct\",\n",
    "    columns=\"candidate_column\",\n",
    "    values=\"votes\",\n",
    "    aggfunc=\"sum\",  \n",
    "    fill_value=0\n",
    ").reset_index()\n",
    "\n",
    "general_result"
   ]
  },
  {
   "cell_type": "code",
   "execution_count": 41,
   "id": "6686d34b",
   "metadata": {},
   "outputs": [],
   "source": [
    "# Merge\n",
    "combined = pd.merge(primary_result, general_result, on=\"precinct\", how=\"inner\")\n",
    "\n",
    "# Convert DEM primary columns to numeric and calculate total\n",
    "dem_cols = combined.filter(like=\"pri_dem_\").columns\n",
    "combined[dem_cols] = combined[dem_cols].apply(pd.to_numeric, errors=\"coerce\")\n",
    "combined[\"dem_primary_total\"] = combined[dem_cols].sum(axis=1)\n",
    "\n",
    "# Convert general election columns to numeric and calculate total\n",
    "gen_cols = combined.filter(like=\"gen_\").columns\n",
    "combined[gen_cols] = combined[gen_cols].apply(pd.to_numeric, errors=\"coerce\")\n",
    "combined[\"general_total\"] = combined[gen_cols].sum(axis=1)\n",
    "\n",
    "# Convert all numeric columns to int\n",
    "for col in combined.columns[1:]:\n",
    "    combined[col] = pd.to_numeric(combined[col], errors='coerce').fillna(0).astype(int)\n",
    "\n",
    "# Identify filtered-out precincts\n",
    "primary_precincts = set(primary_result[\"precinct\"])\n",
    "general_precincts = set(general_result[\"precinct\"])\n",
    "combined_precincts = set(combined[\"precinct\"])\n",
    "\n",
    "primary_filtered_out = primary_precincts - combined_precincts\n",
    "general_filtered_out = general_precincts - combined_precincts\n",
    "\n",
    "\n"
   ]
  },
  {
   "cell_type": "code",
   "execution_count": 42,
   "id": "a6797e92",
   "metadata": {},
   "outputs": [],
   "source": [
    "\n",
    "\n",
    "combined.to_csv(\"WV.csv\", index=False)\n",
    "# Step 3: Identify unmatched precincts and retrieve full rows\n",
    "combined_precincts = set(combined[\"precinct\"])\n",
    "\n",
    "# Rows in primary_result but not in combined\n",
    "primary_filtered_out = primary_result[~primary_result[\"precinct\"].isin(combined_precincts)]\n",
    "primary_filtered_out.to_csv(\"WV_primary_filtered.csv\", index=False)\n",
    "\n",
    "# Rows in general_result but not in combined\n",
    "general_filtered_out = general_result[~general_result[\"precinct\"].isin(combined_precincts)]\n",
    "general_filtered_out.to_csv(\"WV_general_filtered.csv\", index=False)"
   ]
  },
  {
   "cell_type": "code",
   "execution_count": 43,
   "id": "b3d042ff",
   "metadata": {},
   "outputs": [
    {
     "name": "stdout",
     "output_type": "stream",
     "text": [
      "primary: 14, general: 348, combined: 14\n"
     ]
    }
   ],
   "source": [
    "print(f\"primary: {len(primary_precincts)}, general: {len(general_precincts)}, combined: {len(combined)}\")"
   ]
  },
  {
   "cell_type": "code",
   "execution_count": 44,
   "id": "9900725d",
   "metadata": {},
   "outputs": [
    {
     "name": "stdout",
     "output_type": "stream",
     "text": [
      "primary: 1, general: 6\n"
     ]
    }
   ],
   "source": [
    "print(f\"primary: {len(pri_combined_df['county'].unique())}, general: {len(gen_combined_df['county'].unique())}\")\n"
   ]
  },
  {
   "cell_type": "code",
   "execution_count": 45,
   "id": "b12d639e",
   "metadata": {},
   "outputs": [
    {
     "ename": "KeyError",
     "evalue": "'jurisdiction'",
     "output_type": "error",
     "traceback": [
      "\u001b[1;31m---------------------------------------------------------------------------\u001b[0m",
      "\u001b[1;31mKeyError\u001b[0m                                  Traceback (most recent call last)",
      "File \u001b[1;32mc:\\Users\\ADMIN\\AppData\\Local\\Programs\\Python\\Python311\\Lib\\site-packages\\pandas\\core\\indexes\\base.py:3802\u001b[0m, in \u001b[0;36mIndex.get_loc\u001b[1;34m(self, key)\u001b[0m\n\u001b[0;32m   3801\u001b[0m \u001b[38;5;28;01mtry\u001b[39;00m:\n\u001b[1;32m-> 3802\u001b[0m     \u001b[38;5;28;01mreturn\u001b[39;00m \u001b[38;5;28;43mself\u001b[39;49m\u001b[38;5;241;43m.\u001b[39;49m\u001b[43m_engine\u001b[49m\u001b[38;5;241;43m.\u001b[39;49m\u001b[43mget_loc\u001b[49m\u001b[43m(\u001b[49m\u001b[43mcasted_key\u001b[49m\u001b[43m)\u001b[49m\n\u001b[0;32m   3803\u001b[0m \u001b[38;5;28;01mexcept\u001b[39;00m \u001b[38;5;167;01mKeyError\u001b[39;00m \u001b[38;5;28;01mas\u001b[39;00m err:\n",
      "File \u001b[1;32mindex.pyx:153\u001b[0m, in \u001b[0;36mpandas._libs.index.IndexEngine.get_loc\u001b[1;34m()\u001b[0m\n",
      "File \u001b[1;32mindex.pyx:182\u001b[0m, in \u001b[0;36mpandas._libs.index.IndexEngine.get_loc\u001b[1;34m()\u001b[0m\n",
      "File \u001b[1;32mpandas\\\\_libs\\\\hashtable_class_helper.pxi:7081\u001b[0m, in \u001b[0;36mpandas._libs.hashtable.PyObjectHashTable.get_item\u001b[1;34m()\u001b[0m\n",
      "File \u001b[1;32mpandas\\\\_libs\\\\hashtable_class_helper.pxi:7089\u001b[0m, in \u001b[0;36mpandas._libs.hashtable.PyObjectHashTable.get_item\u001b[1;34m()\u001b[0m\n",
      "\u001b[1;31mKeyError\u001b[0m: 'jurisdiction'",
      "\nThe above exception was the direct cause of the following exception:\n",
      "\u001b[1;31mKeyError\u001b[0m                                  Traceback (most recent call last)",
      "Cell \u001b[1;32mIn[45], line 1\u001b[0m\n\u001b[1;32m----> 1\u001b[0m \u001b[43mpri_combined_df\u001b[49m\u001b[43m[\u001b[49m\u001b[38;5;124;43m'\u001b[39;49m\u001b[38;5;124;43mjurisdiction\u001b[39;49m\u001b[38;5;124;43m'\u001b[39;49m\u001b[43m]\u001b[49m\u001b[38;5;241m.\u001b[39munique()\n",
      "File \u001b[1;32mc:\\Users\\ADMIN\\AppData\\Local\\Programs\\Python\\Python311\\Lib\\site-packages\\pandas\\core\\frame.py:4090\u001b[0m, in \u001b[0;36mDataFrame.__getitem__\u001b[1;34m(self, key)\u001b[0m\n\u001b[0;32m   4088\u001b[0m \u001b[38;5;28;01mif\u001b[39;00m \u001b[38;5;28mself\u001b[39m\u001b[38;5;241m.\u001b[39mcolumns\u001b[38;5;241m.\u001b[39mnlevels \u001b[38;5;241m>\u001b[39m \u001b[38;5;241m1\u001b[39m:\n\u001b[0;32m   4089\u001b[0m     \u001b[38;5;28;01mreturn\u001b[39;00m \u001b[38;5;28mself\u001b[39m\u001b[38;5;241m.\u001b[39m_getitem_multilevel(key)\n\u001b[1;32m-> 4090\u001b[0m indexer \u001b[38;5;241m=\u001b[39m \u001b[38;5;28;43mself\u001b[39;49m\u001b[38;5;241;43m.\u001b[39;49m\u001b[43mcolumns\u001b[49m\u001b[38;5;241;43m.\u001b[39;49m\u001b[43mget_loc\u001b[49m\u001b[43m(\u001b[49m\u001b[43mkey\u001b[49m\u001b[43m)\u001b[49m\n\u001b[0;32m   4091\u001b[0m \u001b[38;5;28;01mif\u001b[39;00m is_integer(indexer):\n\u001b[0;32m   4092\u001b[0m     indexer \u001b[38;5;241m=\u001b[39m [indexer]\n",
      "File \u001b[1;32mc:\\Users\\ADMIN\\AppData\\Local\\Programs\\Python\\Python311\\Lib\\site-packages\\pandas\\core\\indexes\\base.py:3809\u001b[0m, in \u001b[0;36mIndex.get_loc\u001b[1;34m(self, key)\u001b[0m\n\u001b[0;32m   3804\u001b[0m     \u001b[38;5;28;01mif\u001b[39;00m \u001b[38;5;28misinstance\u001b[39m(casted_key, \u001b[38;5;28mslice\u001b[39m) \u001b[38;5;129;01mor\u001b[39;00m (\n\u001b[0;32m   3805\u001b[0m         \u001b[38;5;28misinstance\u001b[39m(casted_key, abc\u001b[38;5;241m.\u001b[39mIterable)\n\u001b[0;32m   3806\u001b[0m         \u001b[38;5;129;01mand\u001b[39;00m \u001b[38;5;28many\u001b[39m(\u001b[38;5;28misinstance\u001b[39m(x, \u001b[38;5;28mslice\u001b[39m) \u001b[38;5;28;01mfor\u001b[39;00m x \u001b[38;5;129;01min\u001b[39;00m casted_key)\n\u001b[0;32m   3807\u001b[0m     ):\n\u001b[0;32m   3808\u001b[0m         \u001b[38;5;28;01mraise\u001b[39;00m InvalidIndexError(key)\n\u001b[1;32m-> 3809\u001b[0m     \u001b[38;5;28;01mraise\u001b[39;00m \u001b[38;5;167;01mKeyError\u001b[39;00m(key) \u001b[38;5;28;01mfrom\u001b[39;00m\u001b[38;5;250m \u001b[39m\u001b[38;5;21;01merr\u001b[39;00m\n\u001b[0;32m   3810\u001b[0m \u001b[38;5;28;01mexcept\u001b[39;00m \u001b[38;5;167;01mTypeError\u001b[39;00m:\n\u001b[0;32m   3811\u001b[0m     \u001b[38;5;66;03m# If we have a listlike key, _check_indexing_error will raise\u001b[39;00m\n\u001b[0;32m   3812\u001b[0m     \u001b[38;5;66;03m#  InvalidIndexError. Otherwise we fall through and re-raise\u001b[39;00m\n\u001b[0;32m   3813\u001b[0m     \u001b[38;5;66;03m#  the TypeError.\u001b[39;00m\n\u001b[0;32m   3814\u001b[0m     \u001b[38;5;28mself\u001b[39m\u001b[38;5;241m.\u001b[39m_check_indexing_error(key)\n",
      "\u001b[1;31mKeyError\u001b[0m: 'jurisdiction'"
     ]
    }
   ],
   "source": [
    "pri_combined_df['jurisdiction'].unique()"
   ]
  },
  {
   "cell_type": "code",
   "execution_count": null,
   "id": "0fb1a12f",
   "metadata": {},
   "outputs": [
    {
     "data": {
      "text/plain": [
       "array(['CARSON CITY', 'CHURCHILL', 'CLARK', 'DOUGLAS', 'ELKO',\n",
       "       'ESMERALDA', 'EUREKA', 'HUMBOLDT', 'LANDER', 'LINCOLN', 'LYON',\n",
       "       'MINERAL', 'NYE', 'PERSHING', 'STOREY', 'WASHOE', 'WHITE PINE'],\n",
       "      dtype=object)"
      ]
     },
     "execution_count": 56,
     "metadata": {},
     "output_type": "execute_result"
    }
   ],
   "source": [
    "gen_combined_df['county'].unique()"
   ]
  },
  {
   "cell_type": "code",
   "execution_count": null,
   "id": "b28d499d",
   "metadata": {},
   "outputs": [
    {
     "name": "stdout",
     "output_type": "stream",
     "text": [
      "Counties in primary but not in general: 1\n",
      "{'YE'}\n"
     ]
    }
   ],
   "source": [
    "primary_counties = set(pri_combined_df['jurisdiction'].dropna().str.strip().str.upper())\n",
    "general_counties = set(gen_combined_df['county'].dropna().str.strip().str.upper())\n",
    "\n",
    "diff = primary_counties - general_counties\n",
    "print(f\"Counties in primary but not in general: {len(diff)}\")\n",
    "print(diff)\n"
   ]
  }
 ],
 "metadata": {
  "kernelspec": {
   "display_name": "Python 3",
   "language": "python",
   "name": "python3"
  },
  "language_info": {
   "codemirror_mode": {
    "name": "ipython",
    "version": 3
   },
   "file_extension": ".py",
   "mimetype": "text/x-python",
   "name": "python",
   "nbconvert_exporter": "python",
   "pygments_lexer": "ipython3",
   "version": "3.11.2"
  }
 },
 "nbformat": 4,
 "nbformat_minor": 5
}
