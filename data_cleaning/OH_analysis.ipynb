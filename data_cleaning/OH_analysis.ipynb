{
 "cells": [
  {
   "cell_type": "code",
   "execution_count": 2,
   "id": "c23f548e",
   "metadata": {},
   "outputs": [],
   "source": [
    "import pandas as pd\n",
    "import glob\n",
    "import os\n",
    "from pprint import pprint"
   ]
  },
  {
   "cell_type": "code",
   "execution_count": 3,
   "id": "b5f083f3",
   "metadata": {},
   "outputs": [],
   "source": [
    "all_files = glob.glob(r\"C:\\Huy Phan\\College\\VoterTurnout\\data\\OH.xlsx\")"
   ]
  },
  {
   "cell_type": "code",
   "execution_count": null,
   "id": "487fae61",
   "metadata": {},
   "outputs": [
    {
     "name": "stdout",
     "output_type": "stream",
     "text": [
      "Contains missing values? True\n",
      "Rows with missing values:\n",
      "      Unnamed: 0     precinct  gen_rep_TRUMP  gen_dem_CLINTON  \\\n",
      "627          628    BUTLERAHG            NaN              NaN   \n",
      "1047        1048  CLERMONTAIC          304.0            128.0   \n",
      "6828        6829      PIKEAAM            NaN              NaN   \n",
      "8864        8865      WOODAEI          406.0            332.0   \n",
      "\n",
      "      gen_rep_JOHNSON  gen_dem_STEIN  pri_dem_CLINTON  pri_dem_LA.FUENTE  \\\n",
      "627               NaN            NaN              5.0                0.0   \n",
      "1047             11.0            3.0              NaN                NaN   \n",
      "6828              NaN            NaN             27.0                0.0   \n",
      "8864             46.0            6.0              NaN                NaN   \n",
      "\n",
      "      pri_dem_SANDERS  pri_rep_BUSH  ...  pri_rep_CRUZ  pri_rep_FIORINA  \\\n",
      "627               4.0           0.0  ...           7.0              0.0   \n",
      "1047              NaN           NaN  ...           NaN              NaN   \n",
      "6828             20.0           0.0  ...          13.0              0.0   \n",
      "8864              NaN           NaN  ...           NaN              NaN   \n",
      "\n",
      "      pri_rep_HUCKABEE  pri_rep_KASICH  pri_rep_RUBIO  pri_rep_SANTORUM  \\\n",
      "627                0.0             8.0            1.0               0.0   \n",
      "1047               NaN             NaN            NaN               NaN   \n",
      "6828               0.0            39.0            4.0               0.0   \n",
      "8864               NaN             NaN            NaN               NaN   \n",
      "\n",
      "      pri_rep_TRUMP  REP_primary_total  DEM_primary_total  general_total  \n",
      "627            23.0                 39                  9              0  \n",
      "1047            NaN                  0                  0            446  \n",
      "6828           68.0                125                 47              0  \n",
      "8864            NaN                  0                  0            790  \n",
      "\n",
      "[4 rows x 22 columns]\n"
     ]
    },
    {
     "ename": "",
     "evalue": "",
     "output_type": "error",
     "traceback": [
      "\u001b[1;31mThe Kernel crashed while executing code in the current cell or a previous cell. \n",
      "\u001b[1;31mPlease review the code in the cell(s) to identify a possible cause of the failure. \n",
      "\u001b[1;31mClick <a href='https://aka.ms/vscodeJupyterKernelCrash'>here</a> for more info. \n",
      "\u001b[1;31mView Jupyter <a href='command:jupyter.viewOutput'>log</a> for further details."
     ]
    }
   ],
   "source": [
    "\n",
    "# Get the Excel file\n",
    "all_files = glob.glob(r\"C:\\Huy Phan\\College\\VoterTurnout\\data\\OH.xlsx\")\n",
    "\n",
    "# Read the first (or only) sheet\n",
    "df = pd.read_excel(all_files[0])\n",
    "\n",
    "# Check for any missing values\n",
    "has_na = df.isna().any().any()\n",
    "print(\"Contains missing values?\", has_na)\n",
    "\n",
    "# Print rows that have any NaN values\n",
    "if has_na:\n",
    "    missing_rows = df[df.isna().any(axis=1)]\n",
    "    print(\"Rows with missing values:\")\n",
    "    print(missing_rows)\n"
   ]
  }
 ],
 "metadata": {
  "kernelspec": {
   "display_name": "Python 3",
   "language": "python",
   "name": "python3"
  },
  "language_info": {
   "codemirror_mode": {
    "name": "ipython",
    "version": 3
   },
   "file_extension": ".py",
   "mimetype": "text/x-python",
   "name": "python",
   "nbconvert_exporter": "python",
   "pygments_lexer": "ipython3",
   "version": "3.11.2"
  }
 },
 "nbformat": 4,
 "nbformat_minor": 5
}
