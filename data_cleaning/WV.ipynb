{
 "cells": [
  {
   "cell_type": "code",
   "execution_count": 16,
   "id": "ad1be0fa",
   "metadata": {},
   "outputs": [],
   "source": [
    "# Import all the libraries\n",
    "import pandas as pd\n",
    "import glob\n",
    "import os\n",
    "import re\n",
    "from pprint import pprint"
   ]
  },
  {
   "cell_type": "code",
   "execution_count": 17,
   "id": "c263c4df",
   "metadata": {},
   "outputs": [],
   "source": [
    "#Get all CSV files in the folder of GA\n",
    "all_files = glob.glob(r\"C:\\Huy Phan\\College\\VoterTurnout\\data\\WV\\*.csv\")\n",
    "\n",
    "# Files that contain both 'precinct' and 'general' in the filename\n",
    "general_files = [\n",
    "    f for f in all_files\n",
    "    if all(word in f.lower() for word in ['general','precinct'])\n",
    "]\n",
    "\n",
    "# Files that contain both 'precinct' and 'primary' in the filename\n",
    "primary_files = [\n",
    "    f for f in all_files\n",
    "    if all(word in f.lower() for word in ['primary','precinct'])\n",
    "]\n"
   ]
  },
  {
   "cell_type": "code",
   "execution_count": 18,
   "id": "60d49ea6",
   "metadata": {},
   "outputs": [
    {
     "name": "stdout",
     "output_type": "stream",
     "text": [
      "General files:\n",
      "C:\\Huy Phan\\College\\VoterTurnout\\data\\WV\\20161108__wv__general__cabell__precinct.csv\n",
      "C:\\Huy Phan\\College\\VoterTurnout\\data\\WV\\20161108__wv__general__doddridge__precinct.csv\n",
      "C:\\Huy Phan\\College\\VoterTurnout\\data\\WV\\20161108__wv__general__kanawha__precinct.csv\n",
      "C:\\Huy Phan\\College\\VoterTurnout\\data\\WV\\20161108__wv__general__marshall__precinct.csv\n",
      "C:\\Huy Phan\\College\\VoterTurnout\\data\\WV\\20161108__wv__general__nicholas__precinct.csv\n",
      "C:\\Huy Phan\\College\\VoterTurnout\\data\\WV\\20161108__wv__general__webster__precinct.csv\n"
     ]
    }
   ],
   "source": [
    "print(\"General files:\")\n",
    "for f in general_files:\n",
    "    print(f)\n"
   ]
  },
  {
   "cell_type": "code",
   "execution_count": 19,
   "id": "4ab13110",
   "metadata": {},
   "outputs": [
    {
     "name": "stdout",
     "output_type": "stream",
     "text": [
      "\n",
      "Primary files:\n",
      "C:\\Huy Phan\\College\\VoterTurnout\\data\\WV\\20160510__wv__primary__webster__precinct.csv\n"
     ]
    }
   ],
   "source": [
    "print(\"\\nPrimary files:\")\n",
    "for f in primary_files:\n",
    "    print(f)"
   ]
  },
  {
   "cell_type": "code",
   "execution_count": 20,
   "id": "ff5df6c7",
   "metadata": {},
   "outputs": [
    {
     "data": {
      "application/vnd.microsoft.datawrangler.viewer.v0+json": {
       "columns": [
        {
         "name": "index",
         "rawType": "int64",
         "type": "integer"
        },
        {
         "name": "county",
         "rawType": "object",
         "type": "string"
        },
        {
         "name": "precinct",
         "rawType": "object",
         "type": "string"
        },
        {
         "name": "office",
         "rawType": "object",
         "type": "string"
        },
        {
         "name": "district",
         "rawType": "float64",
         "type": "float"
        },
        {
         "name": "candidate",
         "rawType": "object",
         "type": "string"
        },
        {
         "name": "party",
         "rawType": "object",
         "type": "string"
        },
        {
         "name": "votes",
         "rawType": "int64",
         "type": "integer"
        }
       ],
       "ref": "9120ab90-2f61-470a-9784-44ce1401c511",
       "rows": [
        [
         "0",
         "Webster",
         "WEBSTER2",
         "President",
         null,
         "Hillary Clinton",
         "Democratic",
         "45"
        ],
        [
         "1",
         "Webster",
         "WEBSTER3",
         "President",
         null,
         "Hillary Clinton",
         "Democratic",
         "20"
        ],
        [
         "2",
         "Webster",
         "WEBSTER4",
         "President",
         null,
         "Hillary Clinton",
         "Democratic",
         "49"
        ],
        [
         "3",
         "Webster",
         "WEBSTER5",
         "President",
         null,
         "Hillary Clinton",
         "Democratic",
         "12"
        ],
        [
         "4",
         "Webster",
         "WEBSTER8",
         "President",
         null,
         "Hillary Clinton",
         "Democratic",
         "57"
        ],
        [
         "5",
         "Webster",
         "WEBSTER10",
         "President",
         null,
         "Hillary Clinton",
         "Democratic",
         "5"
        ],
        [
         "6",
         "Webster",
         "WEBSTER15",
         "President",
         null,
         "Hillary Clinton",
         "Democratic",
         "53"
        ],
        [
         "7",
         "Webster",
         "WEBSTER18",
         "President",
         null,
         "Hillary Clinton",
         "Democratic",
         "8"
        ],
        [
         "8",
         "Webster",
         "WEBSTER21",
         "President",
         null,
         "Hillary Clinton",
         "Democratic",
         "24"
        ],
        [
         "9",
         "Webster",
         "WEBSTER22",
         "President",
         null,
         "Hillary Clinton",
         "Democratic",
         "19"
        ],
        [
         "10",
         "Webster",
         "WEBSTER23",
         "President",
         null,
         "Hillary Clinton",
         "Democratic",
         "35"
        ],
        [
         "11",
         "Webster",
         "WEBSTER24",
         "President",
         null,
         "Hillary Clinton",
         "Democratic",
         "38"
        ],
        [
         "12",
         "Webster",
         "WEBSTER27",
         "President",
         null,
         "Hillary Clinton",
         "Democratic",
         "18"
        ],
        [
         "13",
         "Webster",
         "WEBSTER29",
         "President",
         null,
         "Hillary Clinton",
         "Democratic",
         "9"
        ],
        [
         "14",
         "Webster",
         "WEBSTER2",
         "President",
         null,
         "Martin J. O'Malley",
         "Democratic",
         "5"
        ],
        [
         "15",
         "Webster",
         "WEBSTER3",
         "President",
         null,
         "Martin J. O'Malley",
         "Democratic",
         "3"
        ],
        [
         "16",
         "Webster",
         "WEBSTER4",
         "President",
         null,
         "Martin J. O'Malley",
         "Democratic",
         "3"
        ],
        [
         "17",
         "Webster",
         "WEBSTER5",
         "President",
         null,
         "Martin J. O'Malley",
         "Democratic",
         "0"
        ],
        [
         "18",
         "Webster",
         "WEBSTER8",
         "President",
         null,
         "Martin J. O'Malley",
         "Democratic",
         "2"
        ],
        [
         "19",
         "Webster",
         "WEBSTER10",
         "President",
         null,
         "Martin J. O'Malley",
         "Democratic",
         "1"
        ],
        [
         "20",
         "Webster",
         "WEBSTER15",
         "President",
         null,
         "Martin J. O'Malley",
         "Democratic",
         "2"
        ],
        [
         "21",
         "Webster",
         "WEBSTER18",
         "President",
         null,
         "Martin J. O'Malley",
         "Democratic",
         "3"
        ],
        [
         "22",
         "Webster",
         "WEBSTER21",
         "President",
         null,
         "Martin J. O'Malley",
         "Democratic",
         "2"
        ],
        [
         "23",
         "Webster",
         "WEBSTER22",
         "President",
         null,
         "Martin J. O'Malley",
         "Democratic",
         "2"
        ],
        [
         "24",
         "Webster",
         "WEBSTER23",
         "President",
         null,
         "Martin J. O'Malley",
         "Democratic",
         "5"
        ],
        [
         "25",
         "Webster",
         "WEBSTER24",
         "President",
         null,
         "Martin J. O'Malley",
         "Democratic",
         "0"
        ],
        [
         "26",
         "Webster",
         "WEBSTER27",
         "President",
         null,
         "Martin J. O'Malley",
         "Democratic",
         "3"
        ],
        [
         "27",
         "Webster",
         "WEBSTER29",
         "President",
         null,
         "Martin J. O'Malley",
         "Democratic",
         "1"
        ],
        [
         "28",
         "Webster",
         "WEBSTER2",
         "President",
         null,
         "Roque Rocky de la Fuente",
         "Democratic",
         "2"
        ],
        [
         "29",
         "Webster",
         "WEBSTER3",
         "President",
         null,
         "Roque Rocky de la Fuente",
         "Democratic",
         "1"
        ],
        [
         "30",
         "Webster",
         "WEBSTER4",
         "President",
         null,
         "Roque Rocky de la Fuente",
         "Democratic",
         "1"
        ],
        [
         "31",
         "Webster",
         "WEBSTER5",
         "President",
         null,
         "Roque Rocky de la Fuente",
         "Democratic",
         "0"
        ],
        [
         "32",
         "Webster",
         "WEBSTER8",
         "President",
         null,
         "Roque Rocky de la Fuente",
         "Democratic",
         "1"
        ],
        [
         "33",
         "Webster",
         "WEBSTER10",
         "President",
         null,
         "Roque Rocky de la Fuente",
         "Democratic",
         "0"
        ],
        [
         "34",
         "Webster",
         "WEBSTER15",
         "President",
         null,
         "Roque Rocky de la Fuente",
         "Democratic",
         "3"
        ],
        [
         "35",
         "Webster",
         "WEBSTER18",
         "President",
         null,
         "Roque Rocky de la Fuente",
         "Democratic",
         "0"
        ],
        [
         "36",
         "Webster",
         "WEBSTER21",
         "President",
         null,
         "Roque Rocky de la Fuente",
         "Democratic",
         "0"
        ],
        [
         "37",
         "Webster",
         "WEBSTER22",
         "President",
         null,
         "Roque Rocky de la Fuente",
         "Democratic",
         "0"
        ],
        [
         "38",
         "Webster",
         "WEBSTER23",
         "President",
         null,
         "Roque Rocky de la Fuente",
         "Democratic",
         "0"
        ],
        [
         "39",
         "Webster",
         "WEBSTER24",
         "President",
         null,
         "Roque Rocky de la Fuente",
         "Democratic",
         "1"
        ],
        [
         "40",
         "Webster",
         "WEBSTER27",
         "President",
         null,
         "Roque Rocky de la Fuente",
         "Democratic",
         "0"
        ],
        [
         "41",
         "Webster",
         "WEBSTER29",
         "President",
         null,
         "Roque Rocky de la Fuente",
         "Democratic",
         "0"
        ],
        [
         "42",
         "Webster",
         "WEBSTER2",
         "President",
         null,
         "Bennie Sanders",
         "Democratic",
         "91"
        ],
        [
         "43",
         "Webster",
         "WEBSTER3",
         "President",
         null,
         "Bennie Sanders",
         "Democratic",
         "75"
        ],
        [
         "44",
         "Webster",
         "WEBSTER4",
         "President",
         null,
         "Bennie Sanders",
         "Democratic",
         "76"
        ],
        [
         "45",
         "Webster",
         "WEBSTER5",
         "President",
         null,
         "Bennie Sanders",
         "Democratic",
         "64"
        ],
        [
         "46",
         "Webster",
         "WEBSTER8",
         "President",
         null,
         "Bennie Sanders",
         "Democratic",
         "75"
        ],
        [
         "47",
         "Webster",
         "WEBSTER10",
         "President",
         null,
         "Bennie Sanders",
         "Democratic",
         "11"
        ],
        [
         "48",
         "Webster",
         "WEBSTER15",
         "President",
         null,
         "Bennie Sanders",
         "Democratic",
         "104"
        ],
        [
         "49",
         "Webster",
         "WEBSTER18",
         "President",
         null,
         "Bennie Sanders",
         "Democratic",
         "28"
        ]
       ],
       "shape": {
        "columns": 7,
        "rows": 238
       }
      },
      "text/html": [
       "<div>\n",
       "<style scoped>\n",
       "    .dataframe tbody tr th:only-of-type {\n",
       "        vertical-align: middle;\n",
       "    }\n",
       "\n",
       "    .dataframe tbody tr th {\n",
       "        vertical-align: top;\n",
       "    }\n",
       "\n",
       "    .dataframe thead th {\n",
       "        text-align: right;\n",
       "    }\n",
       "</style>\n",
       "<table border=\"1\" class=\"dataframe\">\n",
       "  <thead>\n",
       "    <tr style=\"text-align: right;\">\n",
       "      <th></th>\n",
       "      <th>county</th>\n",
       "      <th>precinct</th>\n",
       "      <th>office</th>\n",
       "      <th>district</th>\n",
       "      <th>candidate</th>\n",
       "      <th>party</th>\n",
       "      <th>votes</th>\n",
       "    </tr>\n",
       "  </thead>\n",
       "  <tbody>\n",
       "    <tr>\n",
       "      <th>0</th>\n",
       "      <td>Webster</td>\n",
       "      <td>WEBSTER2</td>\n",
       "      <td>President</td>\n",
       "      <td>NaN</td>\n",
       "      <td>Hillary Clinton</td>\n",
       "      <td>Democratic</td>\n",
       "      <td>45</td>\n",
       "    </tr>\n",
       "    <tr>\n",
       "      <th>1</th>\n",
       "      <td>Webster</td>\n",
       "      <td>WEBSTER3</td>\n",
       "      <td>President</td>\n",
       "      <td>NaN</td>\n",
       "      <td>Hillary Clinton</td>\n",
       "      <td>Democratic</td>\n",
       "      <td>20</td>\n",
       "    </tr>\n",
       "    <tr>\n",
       "      <th>2</th>\n",
       "      <td>Webster</td>\n",
       "      <td>WEBSTER4</td>\n",
       "      <td>President</td>\n",
       "      <td>NaN</td>\n",
       "      <td>Hillary Clinton</td>\n",
       "      <td>Democratic</td>\n",
       "      <td>49</td>\n",
       "    </tr>\n",
       "    <tr>\n",
       "      <th>3</th>\n",
       "      <td>Webster</td>\n",
       "      <td>WEBSTER5</td>\n",
       "      <td>President</td>\n",
       "      <td>NaN</td>\n",
       "      <td>Hillary Clinton</td>\n",
       "      <td>Democratic</td>\n",
       "      <td>12</td>\n",
       "    </tr>\n",
       "    <tr>\n",
       "      <th>4</th>\n",
       "      <td>Webster</td>\n",
       "      <td>WEBSTER8</td>\n",
       "      <td>President</td>\n",
       "      <td>NaN</td>\n",
       "      <td>Hillary Clinton</td>\n",
       "      <td>Democratic</td>\n",
       "      <td>57</td>\n",
       "    </tr>\n",
       "    <tr>\n",
       "      <th>...</th>\n",
       "      <td>...</td>\n",
       "      <td>...</td>\n",
       "      <td>...</td>\n",
       "      <td>...</td>\n",
       "      <td>...</td>\n",
       "      <td>...</td>\n",
       "      <td>...</td>\n",
       "    </tr>\n",
       "    <tr>\n",
       "      <th>233</th>\n",
       "      <td>Webster</td>\n",
       "      <td>WEBSTER22</td>\n",
       "      <td>President</td>\n",
       "      <td>NaN</td>\n",
       "      <td>Mike Huckabee</td>\n",
       "      <td>Republican</td>\n",
       "      <td>0</td>\n",
       "    </tr>\n",
       "    <tr>\n",
       "      <th>234</th>\n",
       "      <td>Webster</td>\n",
       "      <td>WEBSTER23</td>\n",
       "      <td>President</td>\n",
       "      <td>NaN</td>\n",
       "      <td>Mike Huckabee</td>\n",
       "      <td>Republican</td>\n",
       "      <td>0</td>\n",
       "    </tr>\n",
       "    <tr>\n",
       "      <th>235</th>\n",
       "      <td>Webster</td>\n",
       "      <td>WEBSTER24</td>\n",
       "      <td>President</td>\n",
       "      <td>NaN</td>\n",
       "      <td>Mike Huckabee</td>\n",
       "      <td>Republican</td>\n",
       "      <td>0</td>\n",
       "    </tr>\n",
       "    <tr>\n",
       "      <th>236</th>\n",
       "      <td>Webster</td>\n",
       "      <td>WEBSTER27</td>\n",
       "      <td>President</td>\n",
       "      <td>NaN</td>\n",
       "      <td>Mike Huckabee</td>\n",
       "      <td>Republican</td>\n",
       "      <td>0</td>\n",
       "    </tr>\n",
       "    <tr>\n",
       "      <th>237</th>\n",
       "      <td>Webster</td>\n",
       "      <td>WEBSTER29</td>\n",
       "      <td>President</td>\n",
       "      <td>NaN</td>\n",
       "      <td>Mike Huckabee</td>\n",
       "      <td>Republican</td>\n",
       "      <td>1</td>\n",
       "    </tr>\n",
       "  </tbody>\n",
       "</table>\n",
       "<p>238 rows × 7 columns</p>\n",
       "</div>"
      ],
      "text/plain": [
       "      county   precinct     office  district        candidate       party  \\\n",
       "0    Webster   WEBSTER2  President       NaN  Hillary Clinton  Democratic   \n",
       "1    Webster   WEBSTER3  President       NaN  Hillary Clinton  Democratic   \n",
       "2    Webster   WEBSTER4  President       NaN  Hillary Clinton  Democratic   \n",
       "3    Webster   WEBSTER5  President       NaN  Hillary Clinton  Democratic   \n",
       "4    Webster   WEBSTER8  President       NaN  Hillary Clinton  Democratic   \n",
       "..       ...        ...        ...       ...              ...         ...   \n",
       "233  Webster  WEBSTER22  President       NaN    Mike Huckabee  Republican   \n",
       "234  Webster  WEBSTER23  President       NaN    Mike Huckabee  Republican   \n",
       "235  Webster  WEBSTER24  President       NaN    Mike Huckabee  Republican   \n",
       "236  Webster  WEBSTER27  President       NaN    Mike Huckabee  Republican   \n",
       "237  Webster  WEBSTER29  President       NaN    Mike Huckabee  Republican   \n",
       "\n",
       "     votes  \n",
       "0       45  \n",
       "1       20  \n",
       "2       49  \n",
       "3       12  \n",
       "4       57  \n",
       "..     ...  \n",
       "233      0  \n",
       "234      0  \n",
       "235      0  \n",
       "236      0  \n",
       "237      1  \n",
       "\n",
       "[238 rows x 7 columns]"
      ]
     },
     "execution_count": 20,
     "metadata": {},
     "output_type": "execute_result"
    }
   ],
   "source": [
    "# Process primary files\n",
    "primary_df_list = []\n",
    "\n",
    "for file in primary_files:\n",
    "    try:\n",
    "        df = pd.read_csv(file)\n",
    "        # Filtering out only President \n",
    "        if 'office' in df.columns:\n",
    "            df = df[df[\"office\"] == \"President\"]\n",
    "            \n",
    "        # Combine precinct as county + precinct\n",
    "        df[\"precinct\"] = df[\"county\"].astype(str) + df[\"precinct\"].astype(str)\n",
    "        df[\"precinct\"] = df[\"precinct\"].str.upper()\n",
    "\n",
    "        # Cleaning maybe total precinct\n",
    "        if 'precinct' in df.columns:\n",
    "            df['precinct'] = df['precinct'].astype(str)                  \n",
    "            df = df[df['precinct'].str.upper() != \"TOTAL\"]               \n",
    "            df = df[df['precinct'].str.strip().str.upper() != \"TOTAL\"]   \n",
    "            df = df[df['precinct'].str.upper() != \"NAN\"]                \n",
    "            df = df[~df['precinct'].str.upper().str.contains(r\"\\w*TOTAL\\w*\", na=False)]   \n",
    "\n",
    "        if 'county' in df.columns:\n",
    "            df['county'] = df['county'].astype(str)                  \n",
    "            df = df[df['county'].str.upper() != \"TOTAL\"]               \n",
    "            df = df[df['county'].str.strip().str.upper() != \"TOTAL\"]   \n",
    "            df = df[df['county'].str.upper() != \"NAN\"]       \n",
    "            df = df[~df['county'].str.upper().str.contains(r\"\\w*TOTAL\\w*\", na=False)]               \n",
    "        \n",
    "        # Dropping duplicates value\n",
    "        df = df.drop_duplicates()\n",
    "        primary_df_list.append(df)\n",
    "\n",
    "    except Exception as e:\n",
    "        print(f\"Error in {file}: {e}\")\n",
    "\n",
    "# Combine all cleaned files\n",
    "pri_combined_df = pd.concat(primary_df_list, ignore_index=True)\n",
    "pri_combined_df"
   ]
  },
  {
   "cell_type": "code",
   "execution_count": 21,
   "id": "bbe34b76",
   "metadata": {},
   "outputs": [],
   "source": [
    "# Checking any suspicious precinct, county\n",
    "suspicious_precincts = pri_combined_df[\n",
    "    pri_combined_df[\"precinct\"].isna() |\n",
    "    pri_combined_df[\"precinct\"].str.strip().str.upper().str.contains(r\"\\w*TOTAL\\w*\", na=False) |\n",
    "    pri_combined_df[\"precinct\"].str.strip().str.upper().isin([\"NONE\", \"NAN\"]) |\n",
    "    pri_combined_df[\"county\"].isna() |\n",
    "    pri_combined_df[\"county\"].str.strip().str.upper().str.contains(r\"\\w*TOTAL\\w*\", na=False) |\n",
    "    pri_combined_df[\"county\"].str.strip().str.upper().isin([\"NONE\", \"NAN\"])\n",
    "]"
   ]
  },
  {
   "cell_type": "code",
   "execution_count": 22,
   "id": "f0e1e913",
   "metadata": {},
   "outputs": [
    {
     "data": {
      "application/vnd.microsoft.datawrangler.viewer.v0+json": {
       "columns": [
        {
         "name": "index",
         "rawType": "int64",
         "type": "integer"
        },
        {
         "name": "precinct",
         "rawType": "object",
         "type": "string"
        },
        {
         "name": "party",
         "rawType": "object",
         "type": "string"
        },
        {
         "name": "candidate",
         "rawType": "object",
         "type": "string"
        },
        {
         "name": "votes",
         "rawType": "int64",
         "type": "integer"
        }
       ],
       "ref": "80c56546-d877-4369-90c4-54e98ceddbea",
       "rows": [
        [
         "0",
         "WEBSTER2",
         "Democratic",
         "Hillary Clinton",
         "45"
        ],
        [
         "1",
         "WEBSTER3",
         "Democratic",
         "Hillary Clinton",
         "20"
        ],
        [
         "2",
         "WEBSTER4",
         "Democratic",
         "Hillary Clinton",
         "49"
        ],
        [
         "3",
         "WEBSTER5",
         "Democratic",
         "Hillary Clinton",
         "12"
        ],
        [
         "4",
         "WEBSTER8",
         "Democratic",
         "Hillary Clinton",
         "57"
        ],
        [
         "5",
         "WEBSTER10",
         "Democratic",
         "Hillary Clinton",
         "5"
        ],
        [
         "6",
         "WEBSTER15",
         "Democratic",
         "Hillary Clinton",
         "53"
        ],
        [
         "7",
         "WEBSTER18",
         "Democratic",
         "Hillary Clinton",
         "8"
        ],
        [
         "8",
         "WEBSTER21",
         "Democratic",
         "Hillary Clinton",
         "24"
        ],
        [
         "9",
         "WEBSTER22",
         "Democratic",
         "Hillary Clinton",
         "19"
        ],
        [
         "10",
         "WEBSTER23",
         "Democratic",
         "Hillary Clinton",
         "35"
        ],
        [
         "11",
         "WEBSTER24",
         "Democratic",
         "Hillary Clinton",
         "38"
        ],
        [
         "12",
         "WEBSTER27",
         "Democratic",
         "Hillary Clinton",
         "18"
        ],
        [
         "13",
         "WEBSTER29",
         "Democratic",
         "Hillary Clinton",
         "9"
        ],
        [
         "14",
         "WEBSTER2",
         "Democratic",
         "Martin J. O'Malley",
         "5"
        ],
        [
         "15",
         "WEBSTER3",
         "Democratic",
         "Martin J. O'Malley",
         "3"
        ],
        [
         "16",
         "WEBSTER4",
         "Democratic",
         "Martin J. O'Malley",
         "3"
        ],
        [
         "17",
         "WEBSTER5",
         "Democratic",
         "Martin J. O'Malley",
         "0"
        ],
        [
         "18",
         "WEBSTER8",
         "Democratic",
         "Martin J. O'Malley",
         "2"
        ],
        [
         "19",
         "WEBSTER10",
         "Democratic",
         "Martin J. O'Malley",
         "1"
        ],
        [
         "20",
         "WEBSTER15",
         "Democratic",
         "Martin J. O'Malley",
         "2"
        ],
        [
         "21",
         "WEBSTER18",
         "Democratic",
         "Martin J. O'Malley",
         "3"
        ],
        [
         "22",
         "WEBSTER21",
         "Democratic",
         "Martin J. O'Malley",
         "2"
        ],
        [
         "23",
         "WEBSTER22",
         "Democratic",
         "Martin J. O'Malley",
         "2"
        ],
        [
         "24",
         "WEBSTER23",
         "Democratic",
         "Martin J. O'Malley",
         "5"
        ],
        [
         "25",
         "WEBSTER24",
         "Democratic",
         "Martin J. O'Malley",
         "0"
        ],
        [
         "26",
         "WEBSTER27",
         "Democratic",
         "Martin J. O'Malley",
         "3"
        ],
        [
         "27",
         "WEBSTER29",
         "Democratic",
         "Martin J. O'Malley",
         "1"
        ],
        [
         "28",
         "WEBSTER2",
         "Democratic",
         "Roque Rocky de la Fuente",
         "2"
        ],
        [
         "29",
         "WEBSTER3",
         "Democratic",
         "Roque Rocky de la Fuente",
         "1"
        ],
        [
         "30",
         "WEBSTER4",
         "Democratic",
         "Roque Rocky de la Fuente",
         "1"
        ],
        [
         "31",
         "WEBSTER5",
         "Democratic",
         "Roque Rocky de la Fuente",
         "0"
        ],
        [
         "32",
         "WEBSTER8",
         "Democratic",
         "Roque Rocky de la Fuente",
         "1"
        ],
        [
         "33",
         "WEBSTER10",
         "Democratic",
         "Roque Rocky de la Fuente",
         "0"
        ],
        [
         "34",
         "WEBSTER15",
         "Democratic",
         "Roque Rocky de la Fuente",
         "3"
        ],
        [
         "35",
         "WEBSTER18",
         "Democratic",
         "Roque Rocky de la Fuente",
         "0"
        ],
        [
         "36",
         "WEBSTER21",
         "Democratic",
         "Roque Rocky de la Fuente",
         "0"
        ],
        [
         "37",
         "WEBSTER22",
         "Democratic",
         "Roque Rocky de la Fuente",
         "0"
        ],
        [
         "38",
         "WEBSTER23",
         "Democratic",
         "Roque Rocky de la Fuente",
         "0"
        ],
        [
         "39",
         "WEBSTER24",
         "Democratic",
         "Roque Rocky de la Fuente",
         "1"
        ],
        [
         "40",
         "WEBSTER27",
         "Democratic",
         "Roque Rocky de la Fuente",
         "0"
        ],
        [
         "41",
         "WEBSTER29",
         "Democratic",
         "Roque Rocky de la Fuente",
         "0"
        ],
        [
         "42",
         "WEBSTER2",
         "Democratic",
         "Bennie Sanders",
         "91"
        ],
        [
         "43",
         "WEBSTER3",
         "Democratic",
         "Bennie Sanders",
         "75"
        ],
        [
         "44",
         "WEBSTER4",
         "Democratic",
         "Bennie Sanders",
         "76"
        ],
        [
         "45",
         "WEBSTER5",
         "Democratic",
         "Bennie Sanders",
         "64"
        ],
        [
         "46",
         "WEBSTER8",
         "Democratic",
         "Bennie Sanders",
         "75"
        ],
        [
         "47",
         "WEBSTER10",
         "Democratic",
         "Bennie Sanders",
         "11"
        ],
        [
         "48",
         "WEBSTER15",
         "Democratic",
         "Bennie Sanders",
         "104"
        ],
        [
         "49",
         "WEBSTER18",
         "Democratic",
         "Bennie Sanders",
         "28"
        ]
       ],
       "shape": {
        "columns": 4,
        "rows": 238
       }
      },
      "text/html": [
       "<div>\n",
       "<style scoped>\n",
       "    .dataframe tbody tr th:only-of-type {\n",
       "        vertical-align: middle;\n",
       "    }\n",
       "\n",
       "    .dataframe tbody tr th {\n",
       "        vertical-align: top;\n",
       "    }\n",
       "\n",
       "    .dataframe thead th {\n",
       "        text-align: right;\n",
       "    }\n",
       "</style>\n",
       "<table border=\"1\" class=\"dataframe\">\n",
       "  <thead>\n",
       "    <tr style=\"text-align: right;\">\n",
       "      <th></th>\n",
       "      <th>precinct</th>\n",
       "      <th>party</th>\n",
       "      <th>candidate</th>\n",
       "      <th>votes</th>\n",
       "    </tr>\n",
       "  </thead>\n",
       "  <tbody>\n",
       "    <tr>\n",
       "      <th>0</th>\n",
       "      <td>WEBSTER2</td>\n",
       "      <td>Democratic</td>\n",
       "      <td>Hillary Clinton</td>\n",
       "      <td>45</td>\n",
       "    </tr>\n",
       "    <tr>\n",
       "      <th>1</th>\n",
       "      <td>WEBSTER3</td>\n",
       "      <td>Democratic</td>\n",
       "      <td>Hillary Clinton</td>\n",
       "      <td>20</td>\n",
       "    </tr>\n",
       "    <tr>\n",
       "      <th>2</th>\n",
       "      <td>WEBSTER4</td>\n",
       "      <td>Democratic</td>\n",
       "      <td>Hillary Clinton</td>\n",
       "      <td>49</td>\n",
       "    </tr>\n",
       "    <tr>\n",
       "      <th>3</th>\n",
       "      <td>WEBSTER5</td>\n",
       "      <td>Democratic</td>\n",
       "      <td>Hillary Clinton</td>\n",
       "      <td>12</td>\n",
       "    </tr>\n",
       "    <tr>\n",
       "      <th>4</th>\n",
       "      <td>WEBSTER8</td>\n",
       "      <td>Democratic</td>\n",
       "      <td>Hillary Clinton</td>\n",
       "      <td>57</td>\n",
       "    </tr>\n",
       "    <tr>\n",
       "      <th>...</th>\n",
       "      <td>...</td>\n",
       "      <td>...</td>\n",
       "      <td>...</td>\n",
       "      <td>...</td>\n",
       "    </tr>\n",
       "    <tr>\n",
       "      <th>233</th>\n",
       "      <td>WEBSTER22</td>\n",
       "      <td>Republican</td>\n",
       "      <td>Mike Huckabee</td>\n",
       "      <td>0</td>\n",
       "    </tr>\n",
       "    <tr>\n",
       "      <th>234</th>\n",
       "      <td>WEBSTER23</td>\n",
       "      <td>Republican</td>\n",
       "      <td>Mike Huckabee</td>\n",
       "      <td>0</td>\n",
       "    </tr>\n",
       "    <tr>\n",
       "      <th>235</th>\n",
       "      <td>WEBSTER24</td>\n",
       "      <td>Republican</td>\n",
       "      <td>Mike Huckabee</td>\n",
       "      <td>0</td>\n",
       "    </tr>\n",
       "    <tr>\n",
       "      <th>236</th>\n",
       "      <td>WEBSTER27</td>\n",
       "      <td>Republican</td>\n",
       "      <td>Mike Huckabee</td>\n",
       "      <td>0</td>\n",
       "    </tr>\n",
       "    <tr>\n",
       "      <th>237</th>\n",
       "      <td>WEBSTER29</td>\n",
       "      <td>Republican</td>\n",
       "      <td>Mike Huckabee</td>\n",
       "      <td>1</td>\n",
       "    </tr>\n",
       "  </tbody>\n",
       "</table>\n",
       "<p>238 rows × 4 columns</p>\n",
       "</div>"
      ],
      "text/plain": [
       "      precinct       party        candidate  votes\n",
       "0     WEBSTER2  Democratic  Hillary Clinton     45\n",
       "1     WEBSTER3  Democratic  Hillary Clinton     20\n",
       "2     WEBSTER4  Democratic  Hillary Clinton     49\n",
       "3     WEBSTER5  Democratic  Hillary Clinton     12\n",
       "4     WEBSTER8  Democratic  Hillary Clinton     57\n",
       "..         ...         ...              ...    ...\n",
       "233  WEBSTER22  Republican    Mike Huckabee      0\n",
       "234  WEBSTER23  Republican    Mike Huckabee      0\n",
       "235  WEBSTER24  Republican    Mike Huckabee      0\n",
       "236  WEBSTER27  Republican    Mike Huckabee      0\n",
       "237  WEBSTER29  Republican    Mike Huckabee      1\n",
       "\n",
       "[238 rows x 4 columns]"
      ]
     },
     "execution_count": 22,
     "metadata": {},
     "output_type": "execute_result"
    }
   ],
   "source": [
    "# Select only the relevant columns\n",
    "primary_data = pri_combined_df[[\"precinct\", \"party\", \"candidate\", \"votes\"]]\n",
    "\n",
    "primary_data"
   ]
  },
  {
   "cell_type": "code",
   "execution_count": 23,
   "id": "dc2ffa15",
   "metadata": {},
   "outputs": [
    {
     "data": {
      "application/vnd.microsoft.datawrangler.viewer.v0+json": {
       "columns": [
        {
         "name": "candidate",
         "rawType": "object",
         "type": "string"
        },
        {
         "name": "count",
         "rawType": "int64",
         "type": "integer"
        }
       ],
       "ref": "16971f15-cba5-40e1-98c7-bbb62b509cd8",
       "rows": [
        [
         "Hillary Clinton",
         "14"
        ],
        [
         "John R. Kasich",
         "14"
        ],
        [
         "Carly Fionina",
         "14"
        ],
        [
         "Donald J. Trump",
         "14"
        ],
        [
         "Marco Rubio",
         "14"
        ],
        [
         "Chris Christie",
         "14"
        ],
        [
         "Ted Cruz",
         "14"
        ],
        [
         "Rand Paul",
         "14"
        ],
        [
         "Ben Carson",
         "14"
        ],
        [
         "Martin J. O'Malley",
         "14"
        ],
        [
         "Jeb Bush",
         "14"
        ],
        [
         "David E. Hall",
         "14"
        ],
        [
         "Paul T. Farrell. Jr.",
         "14"
        ],
        [
         "Keith Judd",
         "14"
        ],
        [
         "Bennie Sanders",
         "14"
        ],
        [
         "Roque Rocky de la Fuente",
         "14"
        ],
        [
         "Mike Huckabee",
         "14"
        ]
       ],
       "shape": {
        "columns": 1,
        "rows": 17
       }
      },
      "text/plain": [
       "candidate\n",
       "Hillary Clinton             14\n",
       "John R. Kasich              14\n",
       "Carly Fionina               14\n",
       "Donald J. Trump             14\n",
       "Marco Rubio                 14\n",
       "Chris Christie              14\n",
       "Ted Cruz                    14\n",
       "Rand Paul                   14\n",
       "Ben Carson                  14\n",
       "Martin J. O'Malley          14\n",
       "Jeb Bush                    14\n",
       "David E. Hall               14\n",
       "Paul T. Farrell. Jr.        14\n",
       "Keith Judd                  14\n",
       "Bennie Sanders              14\n",
       "Roque Rocky de la Fuente    14\n",
       "Mike Huckabee               14\n",
       "Name: count, dtype: int64"
      ]
     },
     "execution_count": 23,
     "metadata": {},
     "output_type": "execute_result"
    }
   ],
   "source": [
    "# Viewing candidate data\n",
    "primary_data[\"candidate\"].value_counts(dropna=False)"
   ]
  },
  {
   "cell_type": "code",
   "execution_count": 24,
   "id": "5eef8778",
   "metadata": {},
   "outputs": [
    {
     "name": "stderr",
     "output_type": "stream",
     "text": [
      "C:\\Users\\ADMIN\\AppData\\Local\\Temp\\ipykernel_22308\\2142710986.py:4: SettingWithCopyWarning: \n",
      "A value is trying to be set on a copy of a slice from a DataFrame.\n",
      "Try using .loc[row_indexer,col_indexer] = value instead\n",
      "\n",
      "See the caveats in the documentation: https://pandas.pydata.org/pandas-docs/stable/user_guide/indexing.html#returning-a-view-versus-a-copy\n",
      "  primary_data[\"candidate\"] = primary_data[\"candidate\"].astype(str).str.upper()\n"
     ]
    },
    {
     "data": {
      "application/vnd.microsoft.datawrangler.viewer.v0+json": {
       "columns": [
        {
         "name": "candidate",
         "rawType": "object",
         "type": "string"
        },
        {
         "name": "count",
         "rawType": "int64",
         "type": "integer"
        }
       ],
       "ref": "50c0e64f-f8c1-49e5-97c3-beedf39f78aa",
       "rows": [
        [
         "CLINTON",
         "14"
        ],
        [
         "KASICH",
         "14"
        ],
        [
         "FIORINA",
         "14"
        ],
        [
         "TRUMP",
         "14"
        ],
        [
         "RUBIO",
         "14"
        ],
        [
         "CHRISTIE",
         "14"
        ],
        [
         "CRUZ",
         "14"
        ],
        [
         "PAUL",
         "14"
        ],
        [
         "CARSON",
         "14"
        ],
        [
         "O'MALLEY",
         "14"
        ],
        [
         "BUSH",
         "14"
        ],
        [
         "HALL",
         "14"
        ],
        [
         "FARRELL",
         "14"
        ],
        [
         "JUDD",
         "14"
        ],
        [
         "SANDERS",
         "14"
        ],
        [
         "FUENTE",
         "14"
        ],
        [
         "HUCKABEE",
         "14"
        ]
       ],
       "shape": {
        "columns": 1,
        "rows": 17
       }
      },
      "text/plain": [
       "candidate\n",
       "CLINTON     14\n",
       "KASICH      14\n",
       "FIORINA     14\n",
       "TRUMP       14\n",
       "RUBIO       14\n",
       "CHRISTIE    14\n",
       "CRUZ        14\n",
       "PAUL        14\n",
       "CARSON      14\n",
       "O'MALLEY    14\n",
       "BUSH        14\n",
       "HALL        14\n",
       "FARRELL     14\n",
       "JUDD        14\n",
       "SANDERS     14\n",
       "FUENTE      14\n",
       "HUCKABEE    14\n",
       "Name: count, dtype: int64"
      ]
     },
     "execution_count": 24,
     "metadata": {},
     "output_type": "execute_result"
    }
   ],
   "source": [
    "# Cleaning Candidates\n",
    "\n",
    "# Turning all primary data to uppercase\n",
    "primary_data[\"candidate\"] = primary_data[\"candidate\"].astype(str).str.upper()\n",
    "\n",
    "unwanted_keywords = [\n",
    "    r\"\\w*VOTE\\w*\",\n",
    "    r\"\\w*UNCOM\\w*\",\n",
    "    r\"\\w*TOTAL\\w*\",\n",
    "    r\"\\w*ATTERING\\w*\",\n",
    "    r\"\\w*UNINSTRUCTED\\w*\",\n",
    "    r\"UNCOMMITTED\", r\"OTHER\",r\"Total Votes Cast\",r\"No Preference\"\n",
    "]\n",
    "\n",
    "pattern = \"|\".join(unwanted_keywords)\n",
    "\n",
    "# Assuming candidate column is already string and uppercase\n",
    "primary_data = primary_data[~primary_data[\"candidate\"].str.upper().str.contains(pattern, regex=True, na=False)]\n",
    "\n",
    "#fIXING DE LA FUENTE\n",
    "# primary_data.loc[\n",
    "#     (\n",
    "#         primary_data[\"candidate\"].str.contains(\"rocky.*fuente\", case=False, na=False) |\n",
    "#         primary_data[\"candidate\"].str.contains(\"LA FUENTE\", case=False, na=False) |\n",
    "#         primary_data[\"candidate\"].str.contains(\"\\w*Fuque\\w*\", case=False, na=False)\n",
    "#     ),\n",
    "#     \"candidate\"\n",
    "# ] = \"LA FUENTE\"\n",
    "\n",
    "# # Fixing williams\n",
    "primary_data.loc[\n",
    "    primary_data[\"candidate\"].str.contains(\"FARRELL\", case=False, na=False),\n",
    "    \"candidate\"\n",
    "] = \"FARRELL\"\n",
    "\n",
    "# # Fixing williams\n",
    "primary_data.loc[\n",
    "    primary_data[\"candidate\"].str.contains(\"FIONINA\", case=False, na=False),\n",
    "    \"candidate\"\n",
    "] = \"FIORINA\"\n",
    "\n",
    "primary_data.loc[:, \"candidate\"] = primary_data[\"candidate\"].replace({\n",
    "    \"Donald I. Trump\": \"Donald J. Trump\",\n",
    "})\n",
    "\n",
    "# # Fixing the , candidate\n",
    "# primary_data[\"candidate\"] = (\n",
    "#     primary_data[\"candidate\"].str.split(\",\")\n",
    "#     .str[0]\n",
    "#     .str.strip()\n",
    "#     )\n",
    "\n",
    "\n",
    "# #Selecting only last name\n",
    "primary_data[\"candidate\"] = primary_data[\"candidate\"].str.split().str[-1]\n",
    "\n",
    "# # Fixing Christie\n",
    "# primary_data.loc[\n",
    "#     primary_data[\"candidate\"].str.contains(\"CHRISTLE\", case=False, na=False),\n",
    "#     \"candidate\"\n",
    "# ] = \"CHRISTIE\"\n",
    "\n",
    "# # Fixing KASICH\n",
    "# primary_data.loc[\n",
    "#     primary_data[\"candidate\"].str.contains(\"KAISCH\", case=False, na=False),\n",
    "#     \"candidate\"\n",
    "# ] = \"CHRISTIE\"\n",
    "\n",
    "# # Fixing O'MALLEY\n",
    "# primary_data.loc[\n",
    "#     primary_data[\"candidate\"].str.contains(\"O'MALLEY\", case=False, na=False),\n",
    "#     \"candidate\"\n",
    "# ] = \"O'MAILEY\"\n",
    "\n",
    "# # Fixing O'MALLEY\n",
    "# primary_data.loc[\n",
    "#     primary_data[\"candidate\"].str.contains(\"PATAKL\", case=False, na=False),\n",
    "#     \"candidate\"\n",
    "# ] = \"PATAKI\"\n",
    "\n",
    "# # Fixing O'MALLEY\n",
    "# primary_data.loc[\n",
    "#     primary_data[\"candidate\"].str.contains(\"RUBLO\", case=False, na=False),\n",
    "#     \"candidate\"\n",
    "# ] = \"RUBIO\"\n",
    "\n",
    "# # Fixing Huckabee\n",
    "# primary_data.loc[\n",
    "#     primary_data[\"candidate\"].str.contains(\"\\w*ABEE\\w*\", case=False, na=False),\n",
    "#     \"candidate\"\n",
    "# ] = \"HUCKABEE\"\n",
    "\n",
    "# # Fixing Fiorina\n",
    "# primary_data.loc[\n",
    "#     primary_data[\"candidate\"].str.contains(\"\\w*ORINA\\W*\", case=False, na=False),\n",
    "#     \"candidate\"\n",
    "# ] = \"FIORINA\"\n",
    "\n",
    "# # Fixing Gray\n",
    "# primary_data.loc[\n",
    "#     primary_data[\"candidate\"].str.contains(\"GREY\", case=False, na=False),\n",
    "#     \"candidate\"\n",
    "# ] = \"GRAY\"\n",
    "\n",
    "# # Fixing Wilson\n",
    "# primary_data.loc[\n",
    "#     primary_data[\"candidate\"].str.contains(\"WISON\", case=False, na=False),\n",
    "#     \"candidate\"\n",
    "# ] = \"WILSON\"\n",
    "\n",
    "\n",
    "# # Fixing separator \n",
    "# primary_data[\"candidate\"] = (\n",
    "#     primary_data[\"candidate\"]\n",
    "#     .str.split(r\"\\s*(?:and|/|&|–|-|\\+)\\s*\", n=1, expand=True)[0]\n",
    "#     .str.strip()\n",
    "#     .str.upper()\n",
    "# )\n",
    "\n",
    "# # Fixing McMullin\n",
    "\n",
    "# primary_data.loc[\n",
    "#     (\n",
    "#         primary_data[\"candidate\"].str.contains(\"MCMULLIN\", case=False, na=False) |\n",
    "#         primary_data[\"candidate\"].str.contains(\"EVAN MCMULLEN\", case=False, na=False)\n",
    "#     ),\n",
    "#     \"candidate\"\n",
    "# ] = \"MCMULLIN\"\n",
    "\n",
    "# primary_data.loc[\n",
    "#     primary_data[\"candidate\"].str.contains(\"De La Fuen\", case=False, na=False),\n",
    "#     \"candidate\"\n",
    "# ] = \"FUENTE D\"\n",
    "\n",
    "# primary_data.loc[:,\"candidate\"] = (\n",
    "#     primary_data[\"candidate\"].str.split().str[0].str.upper()\n",
    "# )\n",
    "\n",
    "primary_data[\"candidate\"].value_counts(dropna=False)"
   ]
  },
  {
   "cell_type": "code",
   "execution_count": 25,
   "id": "dcc76af7",
   "metadata": {},
   "outputs": [
    {
     "data": {
      "application/vnd.microsoft.datawrangler.viewer.v0+json": {
       "columns": [
        {
         "name": "party",
         "rawType": "object",
         "type": "string"
        },
        {
         "name": "count",
         "rawType": "int64",
         "type": "integer"
        }
       ],
       "ref": "4f883139-1205-448f-a478-4f6a93abe8dc",
       "rows": [
        [
         "Republican",
         "154"
        ],
        [
         "Democratic",
         "84"
        ]
       ],
       "shape": {
        "columns": 1,
        "rows": 2
       }
      },
      "text/plain": [
       "party\n",
       "Republican    154\n",
       "Democratic     84\n",
       "Name: count, dtype: int64"
      ]
     },
     "execution_count": 25,
     "metadata": {},
     "output_type": "execute_result"
    }
   ],
   "source": [
    "# Viewing Party\n",
    "primary_data[\"party\"].value_counts(dropna=False)"
   ]
  },
  {
   "cell_type": "code",
   "execution_count": 26,
   "id": "582aa6c5",
   "metadata": {},
   "outputs": [
    {
     "data": {
      "application/vnd.microsoft.datawrangler.viewer.v0+json": {
       "columns": [
        {
         "name": "party",
         "rawType": "object",
         "type": "string"
        },
        {
         "name": "count",
         "rawType": "int64",
         "type": "integer"
        }
       ],
       "ref": "687ce1a1-4d60-49e6-90c4-f9dbaa32fa1a",
       "rows": [
        [
         "Republican",
         "154"
        ],
        [
         "Democratic",
         "84"
        ]
       ],
       "shape": {
        "columns": 1,
        "rows": 2
       }
      },
      "text/plain": [
       "party\n",
       "Republican    154\n",
       "Democratic     84\n",
       "Name: count, dtype: int64"
      ]
     },
     "execution_count": 26,
     "metadata": {},
     "output_type": "execute_result"
    }
   ],
   "source": [
    "#=====================================\n",
    "# This function is used to look up party\n",
    "# for the candidate in the same df\n",
    "#=====================================\n",
    "def fill_party_from_data(row, df):\n",
    "    if pd.notna(row[\"party\"]):\n",
    "        return row[\"party\"]\n",
    "    \n",
    "    # Try to find other rows with the same candidate and known party\n",
    "    matches = df[(df[\"candidate\"] == row[\"candidate\"]) & (df[\"party\"].notna())]\n",
    "    if not matches.empty:\n",
    "        return matches[\"party\"].iloc[0]  # Return the first match's party\n",
    "    else:\n",
    "        return None  # Still unknown\n",
    "\n",
    "#=====================================\n",
    "# Example usage (uncomment and modify for your workflow)\n",
    "#=====================================\n",
    "# Fill party using internal data\n",
    "# primary_data[\"party\"] = primary_data.apply(\n",
    "#     lambda row: fill_party_from_data(row, primary_data),\n",
    "#     axis=1\n",
    "# )\n",
    "\n",
    "primary_data[\"party\"].value_counts(dropna=False)\n"
   ]
  },
  {
   "cell_type": "code",
   "execution_count": 27,
   "id": "34361751",
   "metadata": {},
   "outputs": [
    {
     "data": {
      "application/vnd.microsoft.datawrangler.viewer.v0+json": {
       "columns": [
        {
         "name": "party",
         "rawType": "object",
         "type": "string"
        },
        {
         "name": "count",
         "rawType": "int64",
         "type": "integer"
        }
       ],
       "ref": "9b399059-f2bd-4df6-8306-1202ca116bb1",
       "rows": [
        [
         "REP",
         "154"
        ],
        [
         "DEM",
         "84"
        ]
       ],
       "shape": {
        "columns": 1,
        "rows": 2
       }
      },
      "text/plain": [
       "party\n",
       "REP    154\n",
       "DEM     84\n",
       "Name: count, dtype: int64"
      ]
     },
     "execution_count": 27,
     "metadata": {},
     "output_type": "execute_result"
    }
   ],
   "source": [
    "# Cleaning Party\n",
    "# Turning all general data party to uppercase\n",
    "primary_data[\"party\"] = primary_data[\"party\"].astype(str).str.upper()\n",
    "\n",
    "# primary_data[\"party\"] = primary_data.apply(\n",
    "#     lambda row: fill_party_from_data(row, primary_data),\n",
    "#     axis=1\n",
    "# )\n",
    "primary_data[\"party\"] = (\n",
    "    primary_data[\"party\"]\n",
    "    .replace({\n",
    "        \"REPUBLICAN\": \"REP\",\n",
    "        \"R\": \"REP\",\n",
    "        \"DEMOCRATIC\": \"DEM\",\n",
    "        \"DEMOCRAT\":\"DEM\",\n",
    "        \"DEM\": \"DEM\",\n",
    "        \"D\": \"DEM\",\n",
    "        \"GREEN\": \"GRN\",\n",
    "        \"G\": \"GREEN\",\n",
    "        \"GREEN-RAINBOW\":\"GRN\",\n",
    "        \"LIBERTARIAN\": \"LIB\",\n",
    "        \"LBT\": \"LIB\",\n",
    "        \"L\": \"LIB\",\n",
    "        \"CONSTITUTION\": \"CON\",\n",
    "        \"NP\": \"IND\",\n",
    "        \"NON\": \"IND\",\n",
    "        \"WRI\": \"IND\",\n",
    "        \"WRITE-IN\": \"IND\",\n",
    "        \"ONA\": \"IND\",\n",
    "        \"GEN\": \"IND\",\n",
    "        \"NONE\":\"UNK\"\n",
    "    })\n",
    ")\n",
    "primary_data[\"party\"].value_counts(dropna=False)"
   ]
  },
  {
   "cell_type": "code",
   "execution_count": 28,
   "id": "a359cd18",
   "metadata": {},
   "outputs": [
    {
     "data": {
      "application/vnd.microsoft.datawrangler.viewer.v0+json": {
       "columns": [
        {
         "name": "index",
         "rawType": "int64",
         "type": "integer"
        },
        {
         "name": "precinct",
         "rawType": "object",
         "type": "string"
        },
        {
         "name": "pri_dem_CLINTON",
         "rawType": "int64",
         "type": "integer"
        },
        {
         "name": "pri_dem_FARRELL",
         "rawType": "int64",
         "type": "integer"
        },
        {
         "name": "pri_dem_FUENTE",
         "rawType": "int64",
         "type": "integer"
        },
        {
         "name": "pri_dem_JUDD",
         "rawType": "int64",
         "type": "integer"
        },
        {
         "name": "pri_dem_O'MALLEY",
         "rawType": "int64",
         "type": "integer"
        },
        {
         "name": "pri_dem_SANDERS",
         "rawType": "int64",
         "type": "integer"
        },
        {
         "name": "pri_rep_BUSH",
         "rawType": "int64",
         "type": "integer"
        },
        {
         "name": "pri_rep_CARSON",
         "rawType": "int64",
         "type": "integer"
        },
        {
         "name": "pri_rep_CHRISTIE",
         "rawType": "int64",
         "type": "integer"
        },
        {
         "name": "pri_rep_CRUZ",
         "rawType": "int64",
         "type": "integer"
        },
        {
         "name": "pri_rep_FIORINA",
         "rawType": "int64",
         "type": "integer"
        },
        {
         "name": "pri_rep_HALL",
         "rawType": "int64",
         "type": "integer"
        },
        {
         "name": "pri_rep_HUCKABEE",
         "rawType": "int64",
         "type": "integer"
        },
        {
         "name": "pri_rep_KASICH",
         "rawType": "int64",
         "type": "integer"
        },
        {
         "name": "pri_rep_PAUL",
         "rawType": "int64",
         "type": "integer"
        },
        {
         "name": "pri_rep_RUBIO",
         "rawType": "int64",
         "type": "integer"
        },
        {
         "name": "pri_rep_TRUMP",
         "rawType": "int64",
         "type": "integer"
        }
       ],
       "ref": "dae7d39c-9886-43ef-b0d0-ef2544f672ba",
       "rows": [
        [
         "0",
         "WEBSTER10",
         "5",
         "1",
         "0",
         "3",
         "1",
         "11",
         "1",
         "0",
         "0",
         "1",
         "0",
         "0",
         "0",
         "3",
         "0",
         "0",
         "7"
        ],
        [
         "1",
         "WEBSTER15",
         "53",
         "24",
         "3",
         "8",
         "2",
         "104",
         "1",
         "0",
         "0",
         "3",
         "0",
         "0",
         "1",
         "2",
         "1",
         "0",
         "49"
        ],
        [
         "2",
         "WEBSTER18",
         "8",
         "13",
         "0",
         "2",
         "3",
         "28",
         "1",
         "1",
         "0",
         "3",
         "0",
         "0",
         "0",
         "0",
         "0",
         "0",
         "26"
        ],
        [
         "3",
         "WEBSTER2",
         "45",
         "20",
         "2",
         "6",
         "5",
         "91",
         "0",
         "0",
         "0",
         "0",
         "0",
         "0",
         "1",
         "0",
         "0",
         "0",
         "40"
        ],
        [
         "4",
         "WEBSTER21",
         "24",
         "16",
         "0",
         "3",
         "2",
         "59",
         "1",
         "0",
         "0",
         "2",
         "0",
         "0",
         "0",
         "3",
         "0",
         "0",
         "26"
        ],
        [
         "5",
         "WEBSTER22",
         "19",
         "12",
         "0",
         "4",
         "2",
         "52",
         "0",
         "0",
         "0",
         "2",
         "1",
         "0",
         "0",
         "1",
         "1",
         "0",
         "63"
        ],
        [
         "6",
         "WEBSTER23",
         "35",
         "43",
         "0",
         "5",
         "5",
         "71",
         "2",
         "0",
         "0",
         "2",
         "0",
         "0",
         "0",
         "1",
         "0",
         "2",
         "43"
        ],
        [
         "7",
         "WEBSTER24",
         "38",
         "11",
         "1",
         "2",
         "0",
         "57",
         "1",
         "0",
         "0",
         "2",
         "1",
         "0",
         "0",
         "3",
         "1",
         "1",
         "37"
        ],
        [
         "8",
         "WEBSTER27",
         "18",
         "9",
         "0",
         "0",
         "3",
         "39",
         "1",
         "0",
         "0",
         "4",
         "0",
         "0",
         "0",
         "2",
         "0",
         "0",
         "18"
        ],
        [
         "9",
         "WEBSTER29",
         "9",
         "5",
         "0",
         "0",
         "1",
         "39",
         "0",
         "2",
         "0",
         "0",
         "0",
         "0",
         "1",
         "0",
         "0",
         "0",
         "10"
        ],
        [
         "10",
         "WEBSTER3",
         "20",
         "29",
         "1",
         "6",
         "3",
         "75",
         "1",
         "0",
         "0",
         "3",
         "0",
         "0",
         "0",
         "0",
         "0",
         "0",
         "33"
        ],
        [
         "11",
         "WEBSTER4",
         "49",
         "21",
         "1",
         "1",
         "3",
         "76",
         "1",
         "0",
         "0",
         "0",
         "0",
         "0",
         "0",
         "0",
         "0",
         "1",
         "17"
        ],
        [
         "12",
         "WEBSTER5",
         "12",
         "19",
         "0",
         "2",
         "0",
         "64",
         "0",
         "1",
         "0",
         "2",
         "0",
         "0",
         "1",
         "2",
         "0",
         "0",
         "19"
        ],
        [
         "13",
         "WEBSTER8",
         "57",
         "26",
         "1",
         "2",
         "2",
         "75",
         "0",
         "0",
         "0",
         "6",
         "0",
         "1",
         "0",
         "1",
         "0",
         "0",
         "41"
        ]
       ],
       "shape": {
        "columns": 18,
        "rows": 14
       }
      },
      "text/html": [
       "<div>\n",
       "<style scoped>\n",
       "    .dataframe tbody tr th:only-of-type {\n",
       "        vertical-align: middle;\n",
       "    }\n",
       "\n",
       "    .dataframe tbody tr th {\n",
       "        vertical-align: top;\n",
       "    }\n",
       "\n",
       "    .dataframe thead th {\n",
       "        text-align: right;\n",
       "    }\n",
       "</style>\n",
       "<table border=\"1\" class=\"dataframe\">\n",
       "  <thead>\n",
       "    <tr style=\"text-align: right;\">\n",
       "      <th>candidate_column</th>\n",
       "      <th>precinct</th>\n",
       "      <th>pri_dem_CLINTON</th>\n",
       "      <th>pri_dem_FARRELL</th>\n",
       "      <th>pri_dem_FUENTE</th>\n",
       "      <th>pri_dem_JUDD</th>\n",
       "      <th>pri_dem_O'MALLEY</th>\n",
       "      <th>pri_dem_SANDERS</th>\n",
       "      <th>pri_rep_BUSH</th>\n",
       "      <th>pri_rep_CARSON</th>\n",
       "      <th>pri_rep_CHRISTIE</th>\n",
       "      <th>pri_rep_CRUZ</th>\n",
       "      <th>pri_rep_FIORINA</th>\n",
       "      <th>pri_rep_HALL</th>\n",
       "      <th>pri_rep_HUCKABEE</th>\n",
       "      <th>pri_rep_KASICH</th>\n",
       "      <th>pri_rep_PAUL</th>\n",
       "      <th>pri_rep_RUBIO</th>\n",
       "      <th>pri_rep_TRUMP</th>\n",
       "    </tr>\n",
       "  </thead>\n",
       "  <tbody>\n",
       "    <tr>\n",
       "      <th>0</th>\n",
       "      <td>WEBSTER10</td>\n",
       "      <td>5</td>\n",
       "      <td>1</td>\n",
       "      <td>0</td>\n",
       "      <td>3</td>\n",
       "      <td>1</td>\n",
       "      <td>11</td>\n",
       "      <td>1</td>\n",
       "      <td>0</td>\n",
       "      <td>0</td>\n",
       "      <td>1</td>\n",
       "      <td>0</td>\n",
       "      <td>0</td>\n",
       "      <td>0</td>\n",
       "      <td>3</td>\n",
       "      <td>0</td>\n",
       "      <td>0</td>\n",
       "      <td>7</td>\n",
       "    </tr>\n",
       "    <tr>\n",
       "      <th>1</th>\n",
       "      <td>WEBSTER15</td>\n",
       "      <td>53</td>\n",
       "      <td>24</td>\n",
       "      <td>3</td>\n",
       "      <td>8</td>\n",
       "      <td>2</td>\n",
       "      <td>104</td>\n",
       "      <td>1</td>\n",
       "      <td>0</td>\n",
       "      <td>0</td>\n",
       "      <td>3</td>\n",
       "      <td>0</td>\n",
       "      <td>0</td>\n",
       "      <td>1</td>\n",
       "      <td>2</td>\n",
       "      <td>1</td>\n",
       "      <td>0</td>\n",
       "      <td>49</td>\n",
       "    </tr>\n",
       "    <tr>\n",
       "      <th>2</th>\n",
       "      <td>WEBSTER18</td>\n",
       "      <td>8</td>\n",
       "      <td>13</td>\n",
       "      <td>0</td>\n",
       "      <td>2</td>\n",
       "      <td>3</td>\n",
       "      <td>28</td>\n",
       "      <td>1</td>\n",
       "      <td>1</td>\n",
       "      <td>0</td>\n",
       "      <td>3</td>\n",
       "      <td>0</td>\n",
       "      <td>0</td>\n",
       "      <td>0</td>\n",
       "      <td>0</td>\n",
       "      <td>0</td>\n",
       "      <td>0</td>\n",
       "      <td>26</td>\n",
       "    </tr>\n",
       "    <tr>\n",
       "      <th>3</th>\n",
       "      <td>WEBSTER2</td>\n",
       "      <td>45</td>\n",
       "      <td>20</td>\n",
       "      <td>2</td>\n",
       "      <td>6</td>\n",
       "      <td>5</td>\n",
       "      <td>91</td>\n",
       "      <td>0</td>\n",
       "      <td>0</td>\n",
       "      <td>0</td>\n",
       "      <td>0</td>\n",
       "      <td>0</td>\n",
       "      <td>0</td>\n",
       "      <td>1</td>\n",
       "      <td>0</td>\n",
       "      <td>0</td>\n",
       "      <td>0</td>\n",
       "      <td>40</td>\n",
       "    </tr>\n",
       "    <tr>\n",
       "      <th>4</th>\n",
       "      <td>WEBSTER21</td>\n",
       "      <td>24</td>\n",
       "      <td>16</td>\n",
       "      <td>0</td>\n",
       "      <td>3</td>\n",
       "      <td>2</td>\n",
       "      <td>59</td>\n",
       "      <td>1</td>\n",
       "      <td>0</td>\n",
       "      <td>0</td>\n",
       "      <td>2</td>\n",
       "      <td>0</td>\n",
       "      <td>0</td>\n",
       "      <td>0</td>\n",
       "      <td>3</td>\n",
       "      <td>0</td>\n",
       "      <td>0</td>\n",
       "      <td>26</td>\n",
       "    </tr>\n",
       "    <tr>\n",
       "      <th>5</th>\n",
       "      <td>WEBSTER22</td>\n",
       "      <td>19</td>\n",
       "      <td>12</td>\n",
       "      <td>0</td>\n",
       "      <td>4</td>\n",
       "      <td>2</td>\n",
       "      <td>52</td>\n",
       "      <td>0</td>\n",
       "      <td>0</td>\n",
       "      <td>0</td>\n",
       "      <td>2</td>\n",
       "      <td>1</td>\n",
       "      <td>0</td>\n",
       "      <td>0</td>\n",
       "      <td>1</td>\n",
       "      <td>1</td>\n",
       "      <td>0</td>\n",
       "      <td>63</td>\n",
       "    </tr>\n",
       "    <tr>\n",
       "      <th>6</th>\n",
       "      <td>WEBSTER23</td>\n",
       "      <td>35</td>\n",
       "      <td>43</td>\n",
       "      <td>0</td>\n",
       "      <td>5</td>\n",
       "      <td>5</td>\n",
       "      <td>71</td>\n",
       "      <td>2</td>\n",
       "      <td>0</td>\n",
       "      <td>0</td>\n",
       "      <td>2</td>\n",
       "      <td>0</td>\n",
       "      <td>0</td>\n",
       "      <td>0</td>\n",
       "      <td>1</td>\n",
       "      <td>0</td>\n",
       "      <td>2</td>\n",
       "      <td>43</td>\n",
       "    </tr>\n",
       "    <tr>\n",
       "      <th>7</th>\n",
       "      <td>WEBSTER24</td>\n",
       "      <td>38</td>\n",
       "      <td>11</td>\n",
       "      <td>1</td>\n",
       "      <td>2</td>\n",
       "      <td>0</td>\n",
       "      <td>57</td>\n",
       "      <td>1</td>\n",
       "      <td>0</td>\n",
       "      <td>0</td>\n",
       "      <td>2</td>\n",
       "      <td>1</td>\n",
       "      <td>0</td>\n",
       "      <td>0</td>\n",
       "      <td>3</td>\n",
       "      <td>1</td>\n",
       "      <td>1</td>\n",
       "      <td>37</td>\n",
       "    </tr>\n",
       "    <tr>\n",
       "      <th>8</th>\n",
       "      <td>WEBSTER27</td>\n",
       "      <td>18</td>\n",
       "      <td>9</td>\n",
       "      <td>0</td>\n",
       "      <td>0</td>\n",
       "      <td>3</td>\n",
       "      <td>39</td>\n",
       "      <td>1</td>\n",
       "      <td>0</td>\n",
       "      <td>0</td>\n",
       "      <td>4</td>\n",
       "      <td>0</td>\n",
       "      <td>0</td>\n",
       "      <td>0</td>\n",
       "      <td>2</td>\n",
       "      <td>0</td>\n",
       "      <td>0</td>\n",
       "      <td>18</td>\n",
       "    </tr>\n",
       "    <tr>\n",
       "      <th>9</th>\n",
       "      <td>WEBSTER29</td>\n",
       "      <td>9</td>\n",
       "      <td>5</td>\n",
       "      <td>0</td>\n",
       "      <td>0</td>\n",
       "      <td>1</td>\n",
       "      <td>39</td>\n",
       "      <td>0</td>\n",
       "      <td>2</td>\n",
       "      <td>0</td>\n",
       "      <td>0</td>\n",
       "      <td>0</td>\n",
       "      <td>0</td>\n",
       "      <td>1</td>\n",
       "      <td>0</td>\n",
       "      <td>0</td>\n",
       "      <td>0</td>\n",
       "      <td>10</td>\n",
       "    </tr>\n",
       "    <tr>\n",
       "      <th>10</th>\n",
       "      <td>WEBSTER3</td>\n",
       "      <td>20</td>\n",
       "      <td>29</td>\n",
       "      <td>1</td>\n",
       "      <td>6</td>\n",
       "      <td>3</td>\n",
       "      <td>75</td>\n",
       "      <td>1</td>\n",
       "      <td>0</td>\n",
       "      <td>0</td>\n",
       "      <td>3</td>\n",
       "      <td>0</td>\n",
       "      <td>0</td>\n",
       "      <td>0</td>\n",
       "      <td>0</td>\n",
       "      <td>0</td>\n",
       "      <td>0</td>\n",
       "      <td>33</td>\n",
       "    </tr>\n",
       "    <tr>\n",
       "      <th>11</th>\n",
       "      <td>WEBSTER4</td>\n",
       "      <td>49</td>\n",
       "      <td>21</td>\n",
       "      <td>1</td>\n",
       "      <td>1</td>\n",
       "      <td>3</td>\n",
       "      <td>76</td>\n",
       "      <td>1</td>\n",
       "      <td>0</td>\n",
       "      <td>0</td>\n",
       "      <td>0</td>\n",
       "      <td>0</td>\n",
       "      <td>0</td>\n",
       "      <td>0</td>\n",
       "      <td>0</td>\n",
       "      <td>0</td>\n",
       "      <td>1</td>\n",
       "      <td>17</td>\n",
       "    </tr>\n",
       "    <tr>\n",
       "      <th>12</th>\n",
       "      <td>WEBSTER5</td>\n",
       "      <td>12</td>\n",
       "      <td>19</td>\n",
       "      <td>0</td>\n",
       "      <td>2</td>\n",
       "      <td>0</td>\n",
       "      <td>64</td>\n",
       "      <td>0</td>\n",
       "      <td>1</td>\n",
       "      <td>0</td>\n",
       "      <td>2</td>\n",
       "      <td>0</td>\n",
       "      <td>0</td>\n",
       "      <td>1</td>\n",
       "      <td>2</td>\n",
       "      <td>0</td>\n",
       "      <td>0</td>\n",
       "      <td>19</td>\n",
       "    </tr>\n",
       "    <tr>\n",
       "      <th>13</th>\n",
       "      <td>WEBSTER8</td>\n",
       "      <td>57</td>\n",
       "      <td>26</td>\n",
       "      <td>1</td>\n",
       "      <td>2</td>\n",
       "      <td>2</td>\n",
       "      <td>75</td>\n",
       "      <td>0</td>\n",
       "      <td>0</td>\n",
       "      <td>0</td>\n",
       "      <td>6</td>\n",
       "      <td>0</td>\n",
       "      <td>1</td>\n",
       "      <td>0</td>\n",
       "      <td>1</td>\n",
       "      <td>0</td>\n",
       "      <td>0</td>\n",
       "      <td>41</td>\n",
       "    </tr>\n",
       "  </tbody>\n",
       "</table>\n",
       "</div>"
      ],
      "text/plain": [
       "candidate_column   precinct  pri_dem_CLINTON  pri_dem_FARRELL  pri_dem_FUENTE  \\\n",
       "0                 WEBSTER10                5                1               0   \n",
       "1                 WEBSTER15               53               24               3   \n",
       "2                 WEBSTER18                8               13               0   \n",
       "3                  WEBSTER2               45               20               2   \n",
       "4                 WEBSTER21               24               16               0   \n",
       "5                 WEBSTER22               19               12               0   \n",
       "6                 WEBSTER23               35               43               0   \n",
       "7                 WEBSTER24               38               11               1   \n",
       "8                 WEBSTER27               18                9               0   \n",
       "9                 WEBSTER29                9                5               0   \n",
       "10                 WEBSTER3               20               29               1   \n",
       "11                 WEBSTER4               49               21               1   \n",
       "12                 WEBSTER5               12               19               0   \n",
       "13                 WEBSTER8               57               26               1   \n",
       "\n",
       "candidate_column  pri_dem_JUDD  pri_dem_O'MALLEY  pri_dem_SANDERS  \\\n",
       "0                            3                 1               11   \n",
       "1                            8                 2              104   \n",
       "2                            2                 3               28   \n",
       "3                            6                 5               91   \n",
       "4                            3                 2               59   \n",
       "5                            4                 2               52   \n",
       "6                            5                 5               71   \n",
       "7                            2                 0               57   \n",
       "8                            0                 3               39   \n",
       "9                            0                 1               39   \n",
       "10                           6                 3               75   \n",
       "11                           1                 3               76   \n",
       "12                           2                 0               64   \n",
       "13                           2                 2               75   \n",
       "\n",
       "candidate_column  pri_rep_BUSH  pri_rep_CARSON  pri_rep_CHRISTIE  \\\n",
       "0                            1               0                 0   \n",
       "1                            1               0                 0   \n",
       "2                            1               1                 0   \n",
       "3                            0               0                 0   \n",
       "4                            1               0                 0   \n",
       "5                            0               0                 0   \n",
       "6                            2               0                 0   \n",
       "7                            1               0                 0   \n",
       "8                            1               0                 0   \n",
       "9                            0               2                 0   \n",
       "10                           1               0                 0   \n",
       "11                           1               0                 0   \n",
       "12                           0               1                 0   \n",
       "13                           0               0                 0   \n",
       "\n",
       "candidate_column  pri_rep_CRUZ  pri_rep_FIORINA  pri_rep_HALL  \\\n",
       "0                            1                0             0   \n",
       "1                            3                0             0   \n",
       "2                            3                0             0   \n",
       "3                            0                0             0   \n",
       "4                            2                0             0   \n",
       "5                            2                1             0   \n",
       "6                            2                0             0   \n",
       "7                            2                1             0   \n",
       "8                            4                0             0   \n",
       "9                            0                0             0   \n",
       "10                           3                0             0   \n",
       "11                           0                0             0   \n",
       "12                           2                0             0   \n",
       "13                           6                0             1   \n",
       "\n",
       "candidate_column  pri_rep_HUCKABEE  pri_rep_KASICH  pri_rep_PAUL  \\\n",
       "0                                0               3             0   \n",
       "1                                1               2             1   \n",
       "2                                0               0             0   \n",
       "3                                1               0             0   \n",
       "4                                0               3             0   \n",
       "5                                0               1             1   \n",
       "6                                0               1             0   \n",
       "7                                0               3             1   \n",
       "8                                0               2             0   \n",
       "9                                1               0             0   \n",
       "10                               0               0             0   \n",
       "11                               0               0             0   \n",
       "12                               1               2             0   \n",
       "13                               0               1             0   \n",
       "\n",
       "candidate_column  pri_rep_RUBIO  pri_rep_TRUMP  \n",
       "0                             0              7  \n",
       "1                             0             49  \n",
       "2                             0             26  \n",
       "3                             0             40  \n",
       "4                             0             26  \n",
       "5                             0             63  \n",
       "6                             2             43  \n",
       "7                             1             37  \n",
       "8                             0             18  \n",
       "9                             0             10  \n",
       "10                            0             33  \n",
       "11                            1             17  \n",
       "12                            0             19  \n",
       "13                            0             41  "
      ]
     },
     "execution_count": 28,
     "metadata": {},
     "output_type": "execute_result"
    }
   ],
   "source": [
    "primary_data.loc[:,\"candidate_column\"] = (\n",
    "    \"pri_\" +\n",
    "    primary_data[\"party\"].str.lower() + \"_\" +\n",
    "    primary_data[\"candidate\"]\n",
    ")\n",
    "\n",
    "# pivot the table\n",
    "primary_result = primary_data.pivot_table(\n",
    "    index=\"precinct\",\n",
    "    columns=\"candidate_column\",\n",
    "    values=\"votes\",\n",
    "    aggfunc=\"sum\",  \n",
    "    fill_value=0\n",
    ").reset_index()\n",
    "\n",
    "primary_result"
   ]
  },
  {
   "cell_type": "code",
   "execution_count": 30,
   "id": "f1ef9692",
   "metadata": {},
   "outputs": [
    {
     "data": {
      "application/vnd.microsoft.datawrangler.viewer.v0+json": {
       "columns": [
        {
         "name": "index",
         "rawType": "int64",
         "type": "integer"
        },
        {
         "name": "county",
         "rawType": "object",
         "type": "string"
        },
        {
         "name": "precinct",
         "rawType": "object",
         "type": "string"
        },
        {
         "name": "office",
         "rawType": "object",
         "type": "string"
        },
        {
         "name": "district",
         "rawType": "float64",
         "type": "float"
        },
        {
         "name": "candidate",
         "rawType": "object",
         "type": "string"
        },
        {
         "name": "party",
         "rawType": "object",
         "type": "unknown"
        },
        {
         "name": "votes",
         "rawType": "int64",
         "type": "integer"
        }
       ],
       "ref": "d53ff649-a53f-4722-b16e-ac4c9100a4ae",
       "rows": [
        [
         "0",
         "CABELL",
         "CABELLPCT 1 - CENTRAL CITY ELEM",
         "President",
         null,
         "Donald J. Trump",
         "REP",
         "317"
        ],
        [
         "1",
         "CABELL",
         "CABELLPCT 2 - CENTRAL CITY ELEM",
         "President",
         null,
         "Donald J. Trump",
         "REP",
         "99"
        ],
        [
         "2",
         "CABELL",
         "CABELLPCT 3 - DEPT OF TRANS",
         "President",
         null,
         "Donald J. Trump",
         "REP",
         "202"
        ],
        [
         "3",
         "CABELL",
         "CABELLPCT 4 - MUSEUM OF RADIO",
         "President",
         null,
         "Donald J. Trump",
         "REP",
         "178"
        ],
        [
         "4",
         "CABELL",
         "CABELLPCT 5 - DEPT OF TRANS",
         "President",
         null,
         "Donald J. Trump",
         "REP",
         "96"
        ],
        [
         "5",
         "CABELL",
         "CABELLPCT 6 - HUNTINGTON MIDDLE",
         "President",
         null,
         "Donald J. Trump",
         "REP",
         "249"
        ],
        [
         "6",
         "CABELL",
         "CABELLPCT 7A - SOUTHSIDE ELEM",
         "President",
         null,
         "Donald J. Trump",
         "REP",
         "244"
        ],
        [
         "7",
         "CABELL",
         "CABELLPCT 7B - SOUTHSIDE ELEM",
         "President",
         null,
         "Donald J. Trump",
         "REP",
         "247"
        ],
        [
         "8",
         "CABELL",
         "CABELLPCT 8 - WOODLANDS RET COMM",
         "President",
         null,
         "Donald J. Trump",
         "REP",
         "190"
        ],
        [
         "9",
         "CABELL",
         "CABELLPCT 9 - HTGN CITY HALL",
         "President",
         null,
         "Donald J. Trump",
         "REP",
         "178"
        ],
        [
         "10",
         "CABELL",
         "CABELLPCT 10 -HUNTINGTON MIDDLE",
         "President",
         null,
         "Donald J. Trump",
         "REP",
         "81"
        ],
        [
         "11",
         "CABELL",
         "CABELLPCT 11 -FIRST PRES CHURC",
         "President",
         null,
         "Donald J. Trump",
         "REP",
         "68"
        ],
        [
         "12",
         "CABELL",
         "CABELLPCT 12 - AD LEWIS COMM",
         "President",
         null,
         "Donald J. Trump",
         "REP",
         "90"
        ],
        [
         "13",
         "CABELL",
         "CABELLPCT 13 - BARNETT CENTER",
         "President",
         null,
         "Donald J. Trump",
         "REP",
         "167"
        ],
        [
         "14",
         "CABELL",
         "CABELLPCT 14 - MEADOWS ELEM SCH",
         "President",
         null,
         "Donald J. Trump",
         "REP",
         "350"
        ],
        [
         "15",
         "CABELL",
         "CABELLPCT 15 -FIRST PRES CHURCH",
         "President",
         null,
         "Donald J. Trump",
         "REP",
         "40"
        ],
        [
         "16",
         "CABELL",
         "CABELLPCT 16 - SR LIFE ENRICH",
         "President",
         null,
         "Donald J. Trump",
         "REP",
         "16"
        ],
        [
         "17",
         "CABELL",
         "CABELLPCT 17 - SPRING HILL ELEM",
         "President",
         null,
         "Donald J. Trump",
         "REP",
         "99"
        ],
        [
         "18",
         "CABELL",
         "CABELLPCT 18 - MEADOWS ELEM",
         "President",
         null,
         "Donald J. Trump",
         "REP",
         "111"
        ],
        [
         "19",
         "CABELL",
         "CABELLPCT 19 - HIGHLAWN ELEM",
         "President",
         null,
         "Donald J. Trump",
         "REP",
         "135"
        ],
        [
         "20",
         "CABELL",
         "CABELLPCT 20 - COMM OF GRACE",
         "President",
         null,
         "Donald J. Trump",
         "REP",
         "115"
        ],
        [
         "21",
         "CABELL",
         "CABELLPCT 21 - FAIRFIELD E COMM",
         "President",
         null,
         "Donald J. Trump",
         "REP",
         "98"
        ],
        [
         "22",
         "CABELL",
         "CABELLPCT 22 - HUNTINGTON HIGH",
         "President",
         null,
         "Donald J. Trump",
         "REP",
         "379"
        ],
        [
         "23",
         "CABELL",
         "CABELLPCT 23 - FAIRFIELD E COMM",
         "President",
         null,
         "Donald J. Trump",
         "REP",
         "142"
        ],
        [
         "24",
         "CABELL",
         "CABELLPCT 24 - LIGHTHOUSE BAPT",
         "President",
         null,
         "Donald J. Trump",
         "REP",
         "132"
        ],
        [
         "25",
         "CABELL",
         "CABELLPCT 25 - BEV HILLS CHURCH",
         "President",
         null,
         "Donald J. Trump",
         "REP",
         "168"
        ],
        [
         "26",
         "CABELL",
         "CABELLPCT 26 - HIGHLAWN ELEM",
         "President",
         null,
         "Donald J. Trump",
         "REP",
         "242"
        ],
        [
         "27",
         "CABELL",
         "CABELLPCT 27 - COMM OF GRACE",
         "President",
         null,
         "Donald J. Trump",
         "REP",
         "144"
        ],
        [
         "28",
         "CABELL",
         "CABELLPCT 28 -ODD FELLOWS LODGE",
         "President",
         null,
         "Donald J. Trump",
         "REP",
         "168"
        ],
        [
         "29",
         "CABELL",
         "CABELLPCT 29 - HTGN EAST MIDDLE",
         "President",
         null,
         "Donald J. Trump",
         "REP",
         "215"
        ],
        [
         "30",
         "CABELL",
         "CABELLPCT 30 - HTGN EAST MIDDLE",
         "President",
         null,
         "Donald J. Trump",
         "REP",
         "256"
        ],
        [
         "31",
         "CABELL",
         "CABELLPCT 31 - HTGN EAST MIDDLE",
         "President",
         null,
         "Donald J. Trump",
         "REP",
         "395"
        ],
        [
         "32",
         "CABELL",
         "CABELLPCT 32 - GUYANDOTTE ELEM",
         "President",
         null,
         "Donald J. Trump",
         "REP",
         "171"
        ],
        [
         "33",
         "CABELL",
         "CABELLPCT 33 - GUYANDOTTE ELEM",
         "President",
         null,
         "Donald J. Trump",
         "REP",
         "165"
        ],
        [
         "34",
         "CABELL",
         "CABELLPCT 34 - ALTIZER ELEM",
         "President",
         null,
         "Donald J. Trump",
         "REP",
         "285"
        ],
        [
         "35",
         "CABELL",
         "CABELLPCT 35 - HUNTINGTON HIGH",
         "President",
         null,
         "Donald J. Trump",
         "REP",
         "309"
        ],
        [
         "36",
         "CABELL",
         "CABELLPCT 36 - HITE SAUNDERS",
         "President",
         null,
         "Donald J. Trump",
         "REP",
         "484"
        ],
        [
         "37",
         "CABELL",
         "CABELLPCT 37 - HITE SAUNDERS",
         "President",
         null,
         "Donald J. Trump",
         "REP",
         "281"
        ],
        [
         "38",
         "CABELL",
         "CABELLPCT 38 -CABELL CO VO-TECH",
         "President",
         null,
         "Donald J. Trump",
         "REP",
         "160"
        ],
        [
         "39",
         "CABELL",
         "CABELLPCT 39 -CABELL CO VO-TECH",
         "President",
         null,
         "Donald J. Trump",
         "REP",
         "347"
        ],
        [
         "40",
         "CABELL",
         "CABELLPCT 40 -CABELL CO VO-TECH",
         "President",
         null,
         "Donald J. Trump",
         "REP",
         "238"
        ],
        [
         "41",
         "CABELL",
         "CABELLPCT 41A - CABELL CO 4-H",
         "President",
         null,
         "Donald J. Trump",
         "REP",
         "302"
        ],
        [
         "42",
         "CABELL",
         "CABELLPCT 41B - CABELL CO 4-H",
         "President",
         null,
         "Donald J. Trump",
         "REP",
         "315"
        ],
        [
         "43",
         "CABELL",
         "CABELLPCT 42 -B'VILLE COMM BLDG",
         "President",
         null,
         "Donald J. Trump",
         "REP",
         "461"
        ],
        [
         "44",
         "CABELL",
         "CABELLPCT 43-B'VILLE MIDDLE SCH",
         "President",
         null,
         "Donald J. Trump",
         "REP",
         "335"
        ],
        [
         "45",
         "CABELL",
         "CABELLPCT 44 - B'VILLE ELEM SCH",
         "President",
         null,
         "Donald J. Trump",
         "REP",
         "239"
        ],
        [
         "46",
         "CABELL",
         "CABELLPCT 45 - B'VILLE ELEM SCH",
         "President",
         null,
         "Donald J. Trump",
         "REP",
         "348"
        ],
        [
         "47",
         "CABELL",
         "CABELLPCT 46-B'VILLE MIDDLE SCH",
         "President",
         null,
         "Donald J. Trump",
         "REP",
         "643"
        ],
        [
         "48",
         "CABELL",
         "CABELLPCT 47 - DAVIS CREEK ELEM",
         "President",
         null,
         "Donald J. Trump",
         "REP",
         "339"
        ],
        [
         "49",
         "CABELL",
         "CABELLPCT 48 - DAVIS CREEK ELEM",
         "President",
         null,
         "Donald J. Trump",
         "REP",
         "223"
        ]
       ],
       "shape": {
        "columns": 7,
        "rows": 2029
       }
      },
      "text/html": [
       "<div>\n",
       "<style scoped>\n",
       "    .dataframe tbody tr th:only-of-type {\n",
       "        vertical-align: middle;\n",
       "    }\n",
       "\n",
       "    .dataframe tbody tr th {\n",
       "        vertical-align: top;\n",
       "    }\n",
       "\n",
       "    .dataframe thead th {\n",
       "        text-align: right;\n",
       "    }\n",
       "</style>\n",
       "<table border=\"1\" class=\"dataframe\">\n",
       "  <thead>\n",
       "    <tr style=\"text-align: right;\">\n",
       "      <th></th>\n",
       "      <th>county</th>\n",
       "      <th>precinct</th>\n",
       "      <th>office</th>\n",
       "      <th>district</th>\n",
       "      <th>candidate</th>\n",
       "      <th>party</th>\n",
       "      <th>votes</th>\n",
       "    </tr>\n",
       "  </thead>\n",
       "  <tbody>\n",
       "    <tr>\n",
       "      <th>0</th>\n",
       "      <td>CABELL</td>\n",
       "      <td>CABELLPCT 1 - CENTRAL CITY ELEM</td>\n",
       "      <td>President</td>\n",
       "      <td>NaN</td>\n",
       "      <td>Donald J. Trump</td>\n",
       "      <td>REP</td>\n",
       "      <td>317</td>\n",
       "    </tr>\n",
       "    <tr>\n",
       "      <th>1</th>\n",
       "      <td>CABELL</td>\n",
       "      <td>CABELLPCT 2 - CENTRAL CITY ELEM</td>\n",
       "      <td>President</td>\n",
       "      <td>NaN</td>\n",
       "      <td>Donald J. Trump</td>\n",
       "      <td>REP</td>\n",
       "      <td>99</td>\n",
       "    </tr>\n",
       "    <tr>\n",
       "      <th>2</th>\n",
       "      <td>CABELL</td>\n",
       "      <td>CABELLPCT 3 - DEPT OF TRANS</td>\n",
       "      <td>President</td>\n",
       "      <td>NaN</td>\n",
       "      <td>Donald J. Trump</td>\n",
       "      <td>REP</td>\n",
       "      <td>202</td>\n",
       "    </tr>\n",
       "    <tr>\n",
       "      <th>3</th>\n",
       "      <td>CABELL</td>\n",
       "      <td>CABELLPCT 4 - MUSEUM OF RADIO</td>\n",
       "      <td>President</td>\n",
       "      <td>NaN</td>\n",
       "      <td>Donald J. Trump</td>\n",
       "      <td>REP</td>\n",
       "      <td>178</td>\n",
       "    </tr>\n",
       "    <tr>\n",
       "      <th>4</th>\n",
       "      <td>CABELL</td>\n",
       "      <td>CABELLPCT 5 - DEPT OF TRANS</td>\n",
       "      <td>President</td>\n",
       "      <td>NaN</td>\n",
       "      <td>Donald J. Trump</td>\n",
       "      <td>REP</td>\n",
       "      <td>96</td>\n",
       "    </tr>\n",
       "    <tr>\n",
       "      <th>...</th>\n",
       "      <td>...</td>\n",
       "      <td>...</td>\n",
       "      <td>...</td>\n",
       "      <td>...</td>\n",
       "      <td>...</td>\n",
       "      <td>...</td>\n",
       "      <td>...</td>\n",
       "    </tr>\n",
       "    <tr>\n",
       "      <th>2024</th>\n",
       "      <td>WEBSTER</td>\n",
       "      <td>WEBSTER23</td>\n",
       "      <td>President</td>\n",
       "      <td>NaN</td>\n",
       "      <td>Darrell L. Castle</td>\n",
       "      <td>NaN</td>\n",
       "      <td>1</td>\n",
       "    </tr>\n",
       "    <tr>\n",
       "      <th>2025</th>\n",
       "      <td>WEBSTER</td>\n",
       "      <td>WEBSTER24</td>\n",
       "      <td>President</td>\n",
       "      <td>NaN</td>\n",
       "      <td>Darrell L. Castle</td>\n",
       "      <td>NaN</td>\n",
       "      <td>0</td>\n",
       "    </tr>\n",
       "    <tr>\n",
       "      <th>2026</th>\n",
       "      <td>WEBSTER</td>\n",
       "      <td>WEBSTER27</td>\n",
       "      <td>President</td>\n",
       "      <td>NaN</td>\n",
       "      <td>Darrell L. Castle</td>\n",
       "      <td>NaN</td>\n",
       "      <td>1</td>\n",
       "    </tr>\n",
       "    <tr>\n",
       "      <th>2027</th>\n",
       "      <td>WEBSTER</td>\n",
       "      <td>WEBSTER29</td>\n",
       "      <td>President</td>\n",
       "      <td>NaN</td>\n",
       "      <td>Darrell L. Castle</td>\n",
       "      <td>NaN</td>\n",
       "      <td>0</td>\n",
       "    </tr>\n",
       "    <tr>\n",
       "      <th>2028</th>\n",
       "      <td>WEBSTER</td>\n",
       "      <td>WEBSTERTOTAL</td>\n",
       "      <td>President</td>\n",
       "      <td>NaN</td>\n",
       "      <td>Darrell L. Castle</td>\n",
       "      <td>NaN</td>\n",
       "      <td>8</td>\n",
       "    </tr>\n",
       "  </tbody>\n",
       "</table>\n",
       "<p>2029 rows × 7 columns</p>\n",
       "</div>"
      ],
      "text/plain": [
       "       county                         precinct     office  district  \\\n",
       "0      CABELL  CABELLPCT 1 - CENTRAL CITY ELEM  President       NaN   \n",
       "1      CABELL  CABELLPCT 2 - CENTRAL CITY ELEM  President       NaN   \n",
       "2      CABELL      CABELLPCT 3 - DEPT OF TRANS  President       NaN   \n",
       "3      CABELL    CABELLPCT 4 - MUSEUM OF RADIO  President       NaN   \n",
       "4      CABELL      CABELLPCT 5 - DEPT OF TRANS  President       NaN   \n",
       "...       ...                              ...        ...       ...   \n",
       "2024  WEBSTER                        WEBSTER23  President       NaN   \n",
       "2025  WEBSTER                        WEBSTER24  President       NaN   \n",
       "2026  WEBSTER                        WEBSTER27  President       NaN   \n",
       "2027  WEBSTER                        WEBSTER29  President       NaN   \n",
       "2028  WEBSTER                     WEBSTERTOTAL  President       NaN   \n",
       "\n",
       "              candidate party  votes  \n",
       "0       Donald J. Trump   REP    317  \n",
       "1       Donald J. Trump   REP     99  \n",
       "2       Donald J. Trump   REP    202  \n",
       "3       Donald J. Trump   REP    178  \n",
       "4       Donald J. Trump   REP     96  \n",
       "...                 ...   ...    ...  \n",
       "2024  Darrell L. Castle   NaN      1  \n",
       "2025  Darrell L. Castle   NaN      0  \n",
       "2026  Darrell L. Castle   NaN      1  \n",
       "2027  Darrell L. Castle   NaN      0  \n",
       "2028  Darrell L. Castle   NaN      8  \n",
       "\n",
       "[2029 rows x 7 columns]"
      ]
     },
     "execution_count": 30,
     "metadata": {},
     "output_type": "execute_result"
    }
   ],
   "source": [
    "# Process general files\n",
    "general_df_list = []\n",
    "\n",
    "for file in general_files:\n",
    "    try:\n",
    "        df = pd.read_csv(file)\n",
    "        \n",
    "        # Combine precinct as county + precinct\n",
    "        df[\"precinct\"] = df[\"county\"].astype(str) + df[\"precinct\"].astype(str)\n",
    "        df[\"precinct\"] = df[\"precinct\"].str.upper()\n",
    "        df[\"county\"] = df[\"county\"].str.upper()\n",
    "\n",
    "        # Cleaning maybe total precinct\n",
    "        if 'precinct' in df.columns:\n",
    "            df['precinct'] = df['precinct'].astype(str)                  \n",
    "            df = df[df['precinct'].str.upper() != \"TOTAL\"]               \n",
    "            df = df[df['precinct'].str.strip().str.upper() != \"TOTAL\"]   \n",
    "            df = df[df['precinct'].str.upper() != \"NAN\"]                \n",
    "        \n",
    "        if 'county' in df.columns:\n",
    "            df['county'] = df['county'].astype(str)                  \n",
    "            df = df[df['county'].str.upper() != \"TOTAL\"]               \n",
    "            df = df[df['county'].str.strip().str.upper() != \"TOTAL\"]   \n",
    "            df = df[df['county'].str.upper() != \"NAN\"]       \n",
    "            df = df[~df['county'].str.upper().str.contains(r\"\\w*TOTAL\\w*\", na=False)]      \n",
    "            \n",
    "        # Filtering out only President \n",
    "        if 'office' in df.columns:\n",
    "            df = df[df[\"office\"] == \"President\"]\n",
    "        \n",
    "        # Dropping duplicates value\n",
    "        df = df.drop_duplicates()\n",
    "        \n",
    "        general_df_list.append(df)\n",
    "\n",
    "    except Exception as e:\n",
    "        print(f\"Error in {file}: {e}\")\n",
    "\n",
    "# Combine all cleaned files\n",
    "gen_combined_df = pd.concat(general_df_list, ignore_index=True)\n",
    "# Checking any suspicious precinct\n",
    "suspicious_precincts = gen_combined_df[\n",
    "    gen_combined_df[\"precinct\"].str.strip().str.upper().isin([\"TOTAL\", \"NAN\"])\n",
    "]\n",
    "gen_combined_df\n"
   ]
  },
  {
   "cell_type": "code",
   "execution_count": 31,
   "id": "1bbbd54d",
   "metadata": {},
   "outputs": [
    {
     "data": {
      "application/vnd.microsoft.datawrangler.viewer.v0+json": {
       "columns": [
        {
         "name": "index",
         "rawType": "int64",
         "type": "integer"
        },
        {
         "name": "precinct",
         "rawType": "object",
         "type": "string"
        },
        {
         "name": "party",
         "rawType": "object",
         "type": "unknown"
        },
        {
         "name": "candidate",
         "rawType": "object",
         "type": "string"
        },
        {
         "name": "votes",
         "rawType": "int64",
         "type": "integer"
        }
       ],
       "ref": "59097213-db02-4119-ad8c-d8d16f56280b",
       "rows": [
        [
         "0",
         "CABELLPCT 1 - CENTRAL CITY ELEM",
         "REP",
         "Donald J. Trump",
         "317"
        ],
        [
         "1",
         "CABELLPCT 2 - CENTRAL CITY ELEM",
         "REP",
         "Donald J. Trump",
         "99"
        ],
        [
         "2",
         "CABELLPCT 3 - DEPT OF TRANS",
         "REP",
         "Donald J. Trump",
         "202"
        ],
        [
         "3",
         "CABELLPCT 4 - MUSEUM OF RADIO",
         "REP",
         "Donald J. Trump",
         "178"
        ],
        [
         "4",
         "CABELLPCT 5 - DEPT OF TRANS",
         "REP",
         "Donald J. Trump",
         "96"
        ],
        [
         "5",
         "CABELLPCT 6 - HUNTINGTON MIDDLE",
         "REP",
         "Donald J. Trump",
         "249"
        ],
        [
         "6",
         "CABELLPCT 7A - SOUTHSIDE ELEM",
         "REP",
         "Donald J. Trump",
         "244"
        ],
        [
         "7",
         "CABELLPCT 7B - SOUTHSIDE ELEM",
         "REP",
         "Donald J. Trump",
         "247"
        ],
        [
         "8",
         "CABELLPCT 8 - WOODLANDS RET COMM",
         "REP",
         "Donald J. Trump",
         "190"
        ],
        [
         "9",
         "CABELLPCT 9 - HTGN CITY HALL",
         "REP",
         "Donald J. Trump",
         "178"
        ],
        [
         "10",
         "CABELLPCT 10 -HUNTINGTON MIDDLE",
         "REP",
         "Donald J. Trump",
         "81"
        ],
        [
         "11",
         "CABELLPCT 11 -FIRST PRES CHURC",
         "REP",
         "Donald J. Trump",
         "68"
        ],
        [
         "12",
         "CABELLPCT 12 - AD LEWIS COMM",
         "REP",
         "Donald J. Trump",
         "90"
        ],
        [
         "13",
         "CABELLPCT 13 - BARNETT CENTER",
         "REP",
         "Donald J. Trump",
         "167"
        ],
        [
         "14",
         "CABELLPCT 14 - MEADOWS ELEM SCH",
         "REP",
         "Donald J. Trump",
         "350"
        ],
        [
         "15",
         "CABELLPCT 15 -FIRST PRES CHURCH",
         "REP",
         "Donald J. Trump",
         "40"
        ],
        [
         "16",
         "CABELLPCT 16 - SR LIFE ENRICH",
         "REP",
         "Donald J. Trump",
         "16"
        ],
        [
         "17",
         "CABELLPCT 17 - SPRING HILL ELEM",
         "REP",
         "Donald J. Trump",
         "99"
        ],
        [
         "18",
         "CABELLPCT 18 - MEADOWS ELEM",
         "REP",
         "Donald J. Trump",
         "111"
        ],
        [
         "19",
         "CABELLPCT 19 - HIGHLAWN ELEM",
         "REP",
         "Donald J. Trump",
         "135"
        ],
        [
         "20",
         "CABELLPCT 20 - COMM OF GRACE",
         "REP",
         "Donald J. Trump",
         "115"
        ],
        [
         "21",
         "CABELLPCT 21 - FAIRFIELD E COMM",
         "REP",
         "Donald J. Trump",
         "98"
        ],
        [
         "22",
         "CABELLPCT 22 - HUNTINGTON HIGH",
         "REP",
         "Donald J. Trump",
         "379"
        ],
        [
         "23",
         "CABELLPCT 23 - FAIRFIELD E COMM",
         "REP",
         "Donald J. Trump",
         "142"
        ],
        [
         "24",
         "CABELLPCT 24 - LIGHTHOUSE BAPT",
         "REP",
         "Donald J. Trump",
         "132"
        ],
        [
         "25",
         "CABELLPCT 25 - BEV HILLS CHURCH",
         "REP",
         "Donald J. Trump",
         "168"
        ],
        [
         "26",
         "CABELLPCT 26 - HIGHLAWN ELEM",
         "REP",
         "Donald J. Trump",
         "242"
        ],
        [
         "27",
         "CABELLPCT 27 - COMM OF GRACE",
         "REP",
         "Donald J. Trump",
         "144"
        ],
        [
         "28",
         "CABELLPCT 28 -ODD FELLOWS LODGE",
         "REP",
         "Donald J. Trump",
         "168"
        ],
        [
         "29",
         "CABELLPCT 29 - HTGN EAST MIDDLE",
         "REP",
         "Donald J. Trump",
         "215"
        ],
        [
         "30",
         "CABELLPCT 30 - HTGN EAST MIDDLE",
         "REP",
         "Donald J. Trump",
         "256"
        ],
        [
         "31",
         "CABELLPCT 31 - HTGN EAST MIDDLE",
         "REP",
         "Donald J. Trump",
         "395"
        ],
        [
         "32",
         "CABELLPCT 32 - GUYANDOTTE ELEM",
         "REP",
         "Donald J. Trump",
         "171"
        ],
        [
         "33",
         "CABELLPCT 33 - GUYANDOTTE ELEM",
         "REP",
         "Donald J. Trump",
         "165"
        ],
        [
         "34",
         "CABELLPCT 34 - ALTIZER ELEM",
         "REP",
         "Donald J. Trump",
         "285"
        ],
        [
         "35",
         "CABELLPCT 35 - HUNTINGTON HIGH",
         "REP",
         "Donald J. Trump",
         "309"
        ],
        [
         "36",
         "CABELLPCT 36 - HITE SAUNDERS",
         "REP",
         "Donald J. Trump",
         "484"
        ],
        [
         "37",
         "CABELLPCT 37 - HITE SAUNDERS",
         "REP",
         "Donald J. Trump",
         "281"
        ],
        [
         "38",
         "CABELLPCT 38 -CABELL CO VO-TECH",
         "REP",
         "Donald J. Trump",
         "160"
        ],
        [
         "39",
         "CABELLPCT 39 -CABELL CO VO-TECH",
         "REP",
         "Donald J. Trump",
         "347"
        ],
        [
         "40",
         "CABELLPCT 40 -CABELL CO VO-TECH",
         "REP",
         "Donald J. Trump",
         "238"
        ],
        [
         "41",
         "CABELLPCT 41A - CABELL CO 4-H",
         "REP",
         "Donald J. Trump",
         "302"
        ],
        [
         "42",
         "CABELLPCT 41B - CABELL CO 4-H",
         "REP",
         "Donald J. Trump",
         "315"
        ],
        [
         "43",
         "CABELLPCT 42 -B'VILLE COMM BLDG",
         "REP",
         "Donald J. Trump",
         "461"
        ],
        [
         "44",
         "CABELLPCT 43-B'VILLE MIDDLE SCH",
         "REP",
         "Donald J. Trump",
         "335"
        ],
        [
         "45",
         "CABELLPCT 44 - B'VILLE ELEM SCH",
         "REP",
         "Donald J. Trump",
         "239"
        ],
        [
         "46",
         "CABELLPCT 45 - B'VILLE ELEM SCH",
         "REP",
         "Donald J. Trump",
         "348"
        ],
        [
         "47",
         "CABELLPCT 46-B'VILLE MIDDLE SCH",
         "REP",
         "Donald J. Trump",
         "643"
        ],
        [
         "48",
         "CABELLPCT 47 - DAVIS CREEK ELEM",
         "REP",
         "Donald J. Trump",
         "339"
        ],
        [
         "49",
         "CABELLPCT 48 - DAVIS CREEK ELEM",
         "REP",
         "Donald J. Trump",
         "223"
        ]
       ],
       "shape": {
        "columns": 4,
        "rows": 2029
       }
      },
      "text/html": [
       "<div>\n",
       "<style scoped>\n",
       "    .dataframe tbody tr th:only-of-type {\n",
       "        vertical-align: middle;\n",
       "    }\n",
       "\n",
       "    .dataframe tbody tr th {\n",
       "        vertical-align: top;\n",
       "    }\n",
       "\n",
       "    .dataframe thead th {\n",
       "        text-align: right;\n",
       "    }\n",
       "</style>\n",
       "<table border=\"1\" class=\"dataframe\">\n",
       "  <thead>\n",
       "    <tr style=\"text-align: right;\">\n",
       "      <th></th>\n",
       "      <th>precinct</th>\n",
       "      <th>party</th>\n",
       "      <th>candidate</th>\n",
       "      <th>votes</th>\n",
       "    </tr>\n",
       "  </thead>\n",
       "  <tbody>\n",
       "    <tr>\n",
       "      <th>0</th>\n",
       "      <td>CABELLPCT 1 - CENTRAL CITY ELEM</td>\n",
       "      <td>REP</td>\n",
       "      <td>Donald J. Trump</td>\n",
       "      <td>317</td>\n",
       "    </tr>\n",
       "    <tr>\n",
       "      <th>1</th>\n",
       "      <td>CABELLPCT 2 - CENTRAL CITY ELEM</td>\n",
       "      <td>REP</td>\n",
       "      <td>Donald J. Trump</td>\n",
       "      <td>99</td>\n",
       "    </tr>\n",
       "    <tr>\n",
       "      <th>2</th>\n",
       "      <td>CABELLPCT 3 - DEPT OF TRANS</td>\n",
       "      <td>REP</td>\n",
       "      <td>Donald J. Trump</td>\n",
       "      <td>202</td>\n",
       "    </tr>\n",
       "    <tr>\n",
       "      <th>3</th>\n",
       "      <td>CABELLPCT 4 - MUSEUM OF RADIO</td>\n",
       "      <td>REP</td>\n",
       "      <td>Donald J. Trump</td>\n",
       "      <td>178</td>\n",
       "    </tr>\n",
       "    <tr>\n",
       "      <th>4</th>\n",
       "      <td>CABELLPCT 5 - DEPT OF TRANS</td>\n",
       "      <td>REP</td>\n",
       "      <td>Donald J. Trump</td>\n",
       "      <td>96</td>\n",
       "    </tr>\n",
       "    <tr>\n",
       "      <th>...</th>\n",
       "      <td>...</td>\n",
       "      <td>...</td>\n",
       "      <td>...</td>\n",
       "      <td>...</td>\n",
       "    </tr>\n",
       "    <tr>\n",
       "      <th>2024</th>\n",
       "      <td>WEBSTER23</td>\n",
       "      <td>NaN</td>\n",
       "      <td>Darrell L. Castle</td>\n",
       "      <td>1</td>\n",
       "    </tr>\n",
       "    <tr>\n",
       "      <th>2025</th>\n",
       "      <td>WEBSTER24</td>\n",
       "      <td>NaN</td>\n",
       "      <td>Darrell L. Castle</td>\n",
       "      <td>0</td>\n",
       "    </tr>\n",
       "    <tr>\n",
       "      <th>2026</th>\n",
       "      <td>WEBSTER27</td>\n",
       "      <td>NaN</td>\n",
       "      <td>Darrell L. Castle</td>\n",
       "      <td>1</td>\n",
       "    </tr>\n",
       "    <tr>\n",
       "      <th>2027</th>\n",
       "      <td>WEBSTER29</td>\n",
       "      <td>NaN</td>\n",
       "      <td>Darrell L. Castle</td>\n",
       "      <td>0</td>\n",
       "    </tr>\n",
       "    <tr>\n",
       "      <th>2028</th>\n",
       "      <td>WEBSTERTOTAL</td>\n",
       "      <td>NaN</td>\n",
       "      <td>Darrell L. Castle</td>\n",
       "      <td>8</td>\n",
       "    </tr>\n",
       "  </tbody>\n",
       "</table>\n",
       "<p>2029 rows × 4 columns</p>\n",
       "</div>"
      ],
      "text/plain": [
       "                             precinct party          candidate  votes\n",
       "0     CABELLPCT 1 - CENTRAL CITY ELEM   REP    Donald J. Trump    317\n",
       "1     CABELLPCT 2 - CENTRAL CITY ELEM   REP    Donald J. Trump     99\n",
       "2         CABELLPCT 3 - DEPT OF TRANS   REP    Donald J. Trump    202\n",
       "3       CABELLPCT 4 - MUSEUM OF RADIO   REP    Donald J. Trump    178\n",
       "4         CABELLPCT 5 - DEPT OF TRANS   REP    Donald J. Trump     96\n",
       "...                               ...   ...                ...    ...\n",
       "2024                        WEBSTER23   NaN  Darrell L. Castle      1\n",
       "2025                        WEBSTER24   NaN  Darrell L. Castle      0\n",
       "2026                        WEBSTER27   NaN  Darrell L. Castle      1\n",
       "2027                        WEBSTER29   NaN  Darrell L. Castle      0\n",
       "2028                     WEBSTERTOTAL   NaN  Darrell L. Castle      8\n",
       "\n",
       "[2029 rows x 4 columns]"
      ]
     },
     "execution_count": 31,
     "metadata": {},
     "output_type": "execute_result"
    }
   ],
   "source": [
    "# Select only the relevant columns\n",
    "general_data = gen_combined_df[[\"precinct\", \"party\", \"candidate\", \"votes\"]]\n",
    "\n",
    "general_data"
   ]
  },
  {
   "cell_type": "code",
   "execution_count": 32,
   "id": "38fba0f1",
   "metadata": {},
   "outputs": [
    {
     "name": "stderr",
     "output_type": "stream",
     "text": [
      "C:\\Users\\ADMIN\\AppData\\Local\\Temp\\ipykernel_22308\\1743146100.py:2: SettingWithCopyWarning: \n",
      "A value is trying to be set on a copy of a slice from a DataFrame.\n",
      "Try using .loc[row_indexer,col_indexer] = value instead\n",
      "\n",
      "See the caveats in the documentation: https://pandas.pydata.org/pandas-docs/stable/user_guide/indexing.html#returning-a-view-versus-a-copy\n",
      "  general_data[\"candidate\"] = general_data[\"candidate\"].astype(str).str.upper()\n"
     ]
    },
    {
     "data": {
      "application/vnd.microsoft.datawrangler.viewer.v0+json": {
       "columns": [
        {
         "name": "candidate",
         "rawType": "object",
         "type": "string"
        },
        {
         "name": "count",
         "rawType": "int64",
         "type": "integer"
        }
       ],
       "ref": "93e5c963-3382-4303-aa82-5f95cbdd7980",
       "rows": [
        [
         "DARRELL L. CASTLE",
         "355"
        ],
        [
         "DONALD J. TRUMP",
         "348"
        ],
        [
         "HILLARY CLINTON",
         "348"
        ],
        [
         "GARY JOHNSON",
         "348"
        ],
        [
         "JILL STEIN",
         "339"
        ],
        [
         "WRITE-INS",
         "291"
        ]
       ],
       "shape": {
        "columns": 1,
        "rows": 6
       }
      },
      "text/plain": [
       "candidate\n",
       "DARRELL L. CASTLE    355\n",
       "DONALD J. TRUMP      348\n",
       "HILLARY CLINTON      348\n",
       "GARY JOHNSON         348\n",
       "JILL STEIN           339\n",
       "WRITE-INS            291\n",
       "Name: count, dtype: int64"
      ]
     },
     "execution_count": 32,
     "metadata": {},
     "output_type": "execute_result"
    }
   ],
   "source": [
    "# Viewing candidate data\n",
    "general_data[\"candidate\"] = general_data[\"candidate\"].astype(str).str.upper()\n",
    "general_data[\"candidate\"].value_counts(dropna=False)"
   ]
  },
  {
   "cell_type": "code",
   "execution_count": 34,
   "id": "90417a20",
   "metadata": {},
   "outputs": [
    {
     "name": "stderr",
     "output_type": "stream",
     "text": [
      "C:\\Users\\ADMIN\\AppData\\Local\\Temp\\ipykernel_22308\\2515688606.py:4: SettingWithCopyWarning: \n",
      "A value is trying to be set on a copy of a slice from a DataFrame.\n",
      "Try using .loc[row_indexer,col_indexer] = value instead\n",
      "\n",
      "See the caveats in the documentation: https://pandas.pydata.org/pandas-docs/stable/user_guide/indexing.html#returning-a-view-versus-a-copy\n",
      "  general_data[\"candidate\"] = general_data[\"candidate\"].astype(str).str.upper()\n"
     ]
    },
    {
     "data": {
      "application/vnd.microsoft.datawrangler.viewer.v0+json": {
       "columns": [
        {
         "name": "candidate",
         "rawType": "object",
         "type": "string"
        },
        {
         "name": "count",
         "rawType": "int64",
         "type": "integer"
        }
       ],
       "ref": "7daeb70d-9c86-4008-bfc4-e95c18e5e29f",
       "rows": [
        [
         "CASTLE",
         "355"
        ],
        [
         "TRUMP",
         "348"
        ],
        [
         "CLINTON",
         "348"
        ],
        [
         "JOHNSON",
         "348"
        ],
        [
         "STEIN",
         "339"
        ]
       ],
       "shape": {
        "columns": 1,
        "rows": 5
       }
      },
      "text/plain": [
       "candidate\n",
       "CASTLE     355\n",
       "TRUMP      348\n",
       "CLINTON    348\n",
       "JOHNSON    348\n",
       "STEIN      339\n",
       "Name: count, dtype: int64"
      ]
     },
     "execution_count": 34,
     "metadata": {},
     "output_type": "execute_result"
    }
   ],
   "source": [
    "# Cleaning Candidates\n",
    "\n",
    "# Turning all general data to uppercase\n",
    "general_data[\"candidate\"] = general_data[\"candidate\"].astype(str).str.upper()\n",
    "\n",
    "\n",
    "unwanted_keywords = [\n",
    "    r\"\\w*VOTE\\w*\",\n",
    "    r\"\\w*UNCOM\\w*\",\n",
    "    r\"\\w*TOTAL\\w*\",\n",
    "    r\"\\w*WRITE-INS\\w*\",\n",
    "    r\"NAN\",\n",
    "    r\"UNCERTIFIED\",\n",
    "    r\"UNVERIFIED\",\n",
    "    r\"NONE OF THE ABOVE\",\n",
    "    r\"LBT\",\n",
    "    r\"DEM\",\n",
    "    r\"REP\",\n",
    "    r\"GRN\",\n",
    "    r\"NAN\",\n",
    "    r\"\\w*CANDIDATES\\w*\",\n",
    "    \"SCATTERING\"\n",
    "]\n",
    "\n",
    "# Fixing FUENTE\n",
    "general_data.loc[\n",
    "    general_data[\"candidate\"].str.contains(\"\\w*FUENTE\\w*\", case=False, na=False),\n",
    "    \"candidate\"\n",
    "] = \"FUENTE\"\n",
    "pattern = \"|\".join(unwanted_keywords)\n",
    "\n",
    "# FILTER OUT TRASH WORDS\n",
    "general_data = general_data[~general_data[\"candidate\"].str.upper().str.contains(pattern, regex=True, na=False)]\n",
    "\n",
    "# # Fixing Darrell Castle\"\n",
    "# general_data.loc[\n",
    "#     general_data[\"candidate\"].str.contains(\"\\w*ASTLE\\w*\", case=False, na=False),\n",
    "#     \"candidate\"\n",
    "# ] = \"CASTLE\"\n",
    "\n",
    "general_data.loc[\n",
    "    general_data[\"candidate\"].str.contains(\"\\w*ATUREN\\w*\", case=False, na=False),\n",
    "    \"candidate\"\n",
    "] = \"MATUREN\"\n",
    "\n",
    "general_data.loc[\n",
    "    general_data[\"candidate\"].str.contains(\"\\w*OLTYSIK\\w*\", case=False, na=False),\n",
    "    \"candidate\"\n",
    "] = \"SOLTYSIK\"\n",
    "\n",
    "general_data.loc[\n",
    "    general_data[\"candidate\"].str.contains(\"\\w*MALDONADO\\w*\", case=False, na=False),\n",
    "    \"candidate\"\n",
    "] = \"MALDONADO\"\n",
    "\n",
    "# # Fixing mixed president + vice_president by /\n",
    "# general_data[\"candidate\"] = (\n",
    "#     general_data[\"candidate\"].str.split(\"/\")\n",
    "#     .str[0]\n",
    "#     .str.strip()\n",
    "#     )\n",
    "\n",
    "# #Selecting only last name\n",
    "# general_data[\"candidate\"] = general_data[\"candidate\"].str.split().str[-1]\n",
    "\n",
    "# Fixing the & candidate\n",
    "general_data[\"candidate\"] = (\n",
    "    general_data[\"candidate\"].str.split(\"&\")\n",
    "    .str[0]\n",
    "    .str.strip()\n",
    "    )\n",
    "\n",
    "\n",
    "\n",
    "\n",
    "# # Fixing Cubbler\n",
    "# general_data.loc[\n",
    "#     ( \n",
    "#         general_data[\"candidate\"].str.contains(\"\\w*UBBIER\\w*\", case=False, na=False)|\n",
    "#         general_data[\"candidate\"].str.contains(\"\\w*UBLER\\w*\", case=False, na=False)|\n",
    "#         general_data[\"candidate\"].str.contains(\"\\w*OBBLER\\w*\", case=False, na=False),\n",
    "#     \"candidate\")\n",
    "# ] = \"CUBBLER\"\n",
    "\n",
    "\n",
    "# Fixing Kotlikoff\n",
    "general_data.loc[\n",
    "    general_data[\"candidate\"].str.contains(\"\\w*LIKOFF\\w*\", case=False, na=False),\n",
    "    \"candidate\"\n",
    "] = \"KOTLIKOFF\"\n",
    "\n",
    "# Fixing Valdivia\n",
    "general_data.loc[\n",
    "    general_data[\"candidate\"].str.contains(\"\\w*KENISTON\\W*\", case=False, na=False),\n",
    "    \"candidate\"\n",
    "] = \"KENISTON\"\n",
    "\n",
    "# Fixing HOEFLING\n",
    "general_data.loc[\n",
    "    general_data[\"candidate\"].str.contains(\"\\w*HOEFFLING\", case=False, na=False),\n",
    "    \"candidate\"\n",
    "] = \"HOEFLING\"\n",
    "\n",
    "general_data.loc[\n",
    "    general_data[\"candidate\"].str.contains(\"\\w*SCHOENKE\", case=False, na=False),\n",
    "    \"candidate\"\n",
    "] = \"SCHOENKE\"\n",
    "\n",
    "\n",
    "# Fixing McMullin\n",
    "general_data.loc[\n",
    "    general_data[\"candidate\"].str.contains(\"MCMULLIN\", case=False, na=False) ,\n",
    "    \"candidate\"\n",
    "] = \"MCMULLIN\"\n",
    "\n",
    "general_data.loc[\n",
    "    general_data[\"candidate\"].str.contains(\"FOX\", case=False, na=False) ,\n",
    "    \"candidate\"\n",
    "] = \"FOX\"\n",
    "\n",
    "# Fixing LASTNAME + First name Initial\n",
    "# general_data.loc[:,\"candidate\"] = (\n",
    "#     general_data[\"candidate\"].str.split().str[0].str.upper()\n",
    "# )\n",
    "\n",
    "\n",
    "# #Selecting only last name\n",
    "general_data[\"candidate\"] = general_data[\"candidate\"].str.split().str[-1]\n",
    "\n",
    "general_data[\"candidate\"].value_counts(dropna=False)"
   ]
  },
  {
   "cell_type": "code",
   "execution_count": 35,
   "id": "a22405a6",
   "metadata": {},
   "outputs": [
    {
     "data": {
      "application/vnd.microsoft.datawrangler.viewer.v0+json": {
       "columns": [
        {
         "name": "party",
         "rawType": "object",
         "type": "unknown"
        },
        {
         "name": "count",
         "rawType": "int64",
         "type": "integer"
        }
       ],
       "ref": "c82ca703-0efa-4927-aac5-22d933f81a8c",
       "rows": [
        [
         "CST",
         "340"
        ],
        [
         "REP",
         "333"
        ],
        [
         "DEM",
         "333"
        ],
        [
         "LIB",
         "333"
        ],
        [
         "MTN",
         "324"
        ],
        [
         null,
         "75"
        ]
       ],
       "shape": {
        "columns": 1,
        "rows": 6
       }
      },
      "text/plain": [
       "party\n",
       "CST    340\n",
       "REP    333\n",
       "DEM    333\n",
       "LIB    333\n",
       "MTN    324\n",
       "NaN     75\n",
       "Name: count, dtype: int64"
      ]
     },
     "execution_count": 35,
     "metadata": {},
     "output_type": "execute_result"
    }
   ],
   "source": [
    "# Viewing Party\n",
    "general_data[\"party\"].value_counts(dropna=False)"
   ]
  },
  {
   "cell_type": "code",
   "execution_count": 37,
   "id": "21d7595b",
   "metadata": {},
   "outputs": [
    {
     "data": {
      "application/vnd.microsoft.datawrangler.viewer.v0+json": {
       "columns": [
        {
         "name": "party",
         "rawType": "object",
         "type": "string"
        },
        {
         "name": "count",
         "rawType": "int64",
         "type": "integer"
        }
       ],
       "ref": "d158ee90-a0a1-4239-9e9c-bcc27a4e624c",
       "rows": [
        [
         "REP",
         "348"
        ],
        [
         "DEM",
         "348"
        ],
        [
         "LIB",
         "348"
        ],
        [
         "CST",
         "340"
        ],
        [
         "MTN",
         "324"
        ],
        [
         "GRN",
         "15"
        ],
        [
         "CON",
         "15"
        ]
       ],
       "shape": {
        "columns": 1,
        "rows": 7
       }
      },
      "text/plain": [
       "party\n",
       "REP    348\n",
       "DEM    348\n",
       "LIB    348\n",
       "CST    340\n",
       "MTN    324\n",
       "GRN     15\n",
       "CON     15\n",
       "Name: count, dtype: int64"
      ]
     },
     "execution_count": 37,
     "metadata": {},
     "output_type": "execute_result"
    }
   ],
   "source": [
    "#=====================================\n",
    "# This function is used to look up party\n",
    "# for the candidate in the same df\n",
    "#=====================================\n",
    "def fill_party_from_data(row, df):\n",
    "    if pd.notna(row[\"party\"]):\n",
    "        return row[\"party\"]\n",
    "    \n",
    "    # Try to find other rows with the same candidate and known party\n",
    "    matches = df[(df[\"candidate\"] == row[\"candidate\"]) & (df[\"party\"].notna())]\n",
    "    if not matches.empty:\n",
    "        return matches[\"party\"].iloc[0]  # Return the first match's party\n",
    "    else:\n",
    "        return None  # Still unknown\n",
    "    \n",
    "\n",
    "#=====================================\n",
    "# Function to fill remaining missing party from master lookup\n",
    "#=====================================\n",
    "def fill_party_from_master(df, master_df):\n",
    "    party_map = master_df.set_index(\"candidate\")[\"party\"].to_dict()\n",
    "    df[\"party\"] = df.apply(\n",
    "        lambda row: party_map.get(row[\"candidate\"], row[\"party\"])\n",
    "        if pd.isna(row[\"party\"]) else row[\"party\"],\n",
    "        axis=1\n",
    "    )\n",
    "    return df\n",
    "\n",
    "\n",
    "#=====================================\n",
    "# Function to update the master candidate-party CSV\n",
    "#=====================================\n",
    "def update_master_candidate_party(df, master_path):\n",
    "    # Read the existing master file\n",
    "    master_df = pd.read_csv(master_path)\n",
    "\n",
    "    # Filter and combine only known party entries (exclude 'UNK')\n",
    "    new_data = (\n",
    "        df[[\"candidate\", \"party\"]]\n",
    "        .dropna()\n",
    "        .query('party != \"UNK\"')\n",
    "        .drop_duplicates()\n",
    "    )\n",
    "\n",
    "    # Merge with master and remove duplicates by candidate\n",
    "    updated_master = pd.concat([master_df, new_data]).drop_duplicates(subset=\"candidate\")\n",
    "\n",
    "    # Save updated version\n",
    "    updated_master.to_csv(master_path, index=False)\n",
    "\n",
    "\n",
    "#=====================================\n",
    "# Example usage (uncomment and modify for your workflow)\n",
    "#=====================================\n",
    "# Fill party using internal data\n",
    "# general_data[\"party\"] = general_data.apply(\n",
    "#     lambda row: fill_party_from_data(row, general_data),\n",
    "#     axis=1\n",
    "# )\n",
    "\n",
    "# # Fill remaining party using general master CSV\n",
    "master_party_df = pd.read_csv(r\"C:\\Huy Phan\\College\\VoterTurnout\\data\\cleaned_data\\gen_can_party.csv\") # USE YOUR OWN ADDRESS\n",
    "general_data = fill_party_from_master(general_data, master_party_df)\n",
    "general_data[\"party\"].value_counts(dropna=False)\n"
   ]
  },
  {
   "cell_type": "code",
   "execution_count": 38,
   "id": "8bb5d275",
   "metadata": {},
   "outputs": [
    {
     "data": {
      "application/vnd.microsoft.datawrangler.viewer.v0+json": {
       "columns": [
        {
         "name": "party",
         "rawType": "object",
         "type": "string"
        },
        {
         "name": "count",
         "rawType": "int64",
         "type": "integer"
        }
       ],
       "ref": "2c48766b-01da-44ea-b67b-5884519a623d",
       "rows": [
        [
         "CON",
         "355"
        ],
        [
         "REP",
         "348"
        ],
        [
         "DEM",
         "348"
        ],
        [
         "LIB",
         "348"
        ],
        [
         "GRN",
         "339"
        ]
       ],
       "shape": {
        "columns": 1,
        "rows": 5
       }
      },
      "text/plain": [
       "party\n",
       "CON    355\n",
       "REP    348\n",
       "DEM    348\n",
       "LIB    348\n",
       "GRN    339\n",
       "Name: count, dtype: int64"
      ]
     },
     "execution_count": 38,
     "metadata": {},
     "output_type": "execute_result"
    }
   ],
   "source": [
    "# Cleaning Party\n",
    "# Turning all general data party to uppercase\n",
    "general_data[\"party\"] = general_data[\"party\"].astype(str).str.upper()\n",
    "\n",
    "general_data[\"party\"] = (\n",
    "    general_data[\"party\"]\n",
    "    .replace({\n",
    "        \"REPUBLICAN\": \"REP\",\n",
    "        \"R\": \"REP\",\n",
    "        \"DEMOCRATIC\": \"DEM\",\n",
    "        \"DEMOCRAT\":\"DEM\",\n",
    "        \"DEM\": \"DEM\",\n",
    "        \"D\": \"DEM\",\n",
    "        \"GREEN\": \"GRN\",\n",
    "        \"G\": \"GRN\",\n",
    "        \"WGR\":\"GRN\",\n",
    "        \"GREEN AND RAINBOW\":\"GRN\",\n",
    "        \"GREEN-RAINBOW\":\"GRN\",\n",
    "        \"MTN\":\"GRN\",\n",
    "        \"LIBERTARIAN\": \"LIB\",\n",
    "        \"LIBERTARIN\":\"LIB\",\n",
    "        \"LPN\":\"LIB\",\n",
    "        \"LBT\": \"LIB\",\n",
    "        \"L\": \"LIB\",\n",
    "        \"IAP\":\"CON\",\n",
    "        \"CONSTITUTION\": \"CON\",\n",
    "        \"CST\":\"CON\",\n",
    "        \"AMERICAN DELTA\":\"AMD\",\n",
    "        \"PROHIBITION\":\"PRO\",\n",
    "        \"NP\": \"IND\",\n",
    "        \"NON\": \"IND\",\n",
    "        \"WRI\": \"IND\",\n",
    "        \"WRITE-IN\": \"IND\",\n",
    "        \"ONA\": \"IND\",\n",
    "        \"GEN\": \"IND\",\n",
    "        \"NONE\":\"UNK\",\n",
    "        \"NPA\":\"IND\",\n",
    "        \"UST\":\"CON\",\n",
    "        \"NPP\":\"IND\",\n",
    "        \"(WRITE-IN)\":\"IND\"\n",
    "    })\n",
    ")\n",
    "\n",
    "general_data[\"party\"].value_counts(dropna=False)"
   ]
  },
  {
   "cell_type": "code",
   "execution_count": 39,
   "id": "ff4a4970",
   "metadata": {},
   "outputs": [],
   "source": [
    "# UPDATE MASTER FILE, CAREFUL\n",
    "update_master_candidate_party(general_data, r\"C:\\Huy Phan\\College\\VoterTurnout\\data\\cleaned_data\\gen_can_party.csv\")"
   ]
  },
  {
   "cell_type": "code",
   "execution_count": 40,
   "id": "daaed088",
   "metadata": {},
   "outputs": [
    {
     "data": {
      "application/vnd.microsoft.datawrangler.viewer.v0+json": {
       "columns": [
        {
         "name": "index",
         "rawType": "int64",
         "type": "integer"
        },
        {
         "name": "precinct",
         "rawType": "object",
         "type": "string"
        },
        {
         "name": "gen_con_CASTLE",
         "rawType": "int64",
         "type": "integer"
        },
        {
         "name": "gen_dem_CLINTON",
         "rawType": "int64",
         "type": "integer"
        },
        {
         "name": "gen_grn_STEIN",
         "rawType": "int64",
         "type": "integer"
        },
        {
         "name": "gen_lib_JOHNSON",
         "rawType": "int64",
         "type": "integer"
        },
        {
         "name": "gen_rep_TRUMP",
         "rawType": "int64",
         "type": "integer"
        }
       ],
       "ref": "73214c06-1cfa-4936-8536-388fe448a924",
       "rows": [
        [
         "0",
         "CABELLCT 65 -MILTON MIDDLE SCH",
         "1",
         "65",
         "5",
         "11",
         "330"
        ],
        [
         "1",
         "CABELLNAN",
         "182",
         "11447",
         "397",
         "1209",
         "19850"
        ],
        [
         "2",
         "CABELLPCT 1 - CENTRAL CITY ELEM",
         "7",
         "201",
         "15",
         "22",
         "317"
        ],
        [
         "3",
         "CABELLPCT 10 -HUNTINGTON MIDDLE",
         "1",
         "236",
         "3",
         "6",
         "81"
        ],
        [
         "4",
         "CABELLPCT 11 -FIRST PRES CHURC",
         "0",
         "116",
         "8",
         "8",
         "68"
        ],
        [
         "5",
         "CABELLPCT 12 - AD LEWIS COMM",
         "0",
         "331",
         "11",
         "11",
         "90"
        ],
        [
         "6",
         "CABELLPCT 13 - BARNETT CENTER",
         "0",
         "275",
         "10",
         "24",
         "167"
        ],
        [
         "7",
         "CABELLPCT 14 - MEADOWS ELEM SCH",
         "3",
         "354",
         "10",
         "40",
         "350"
        ],
        [
         "8",
         "CABELLPCT 15 -FIRST PRES CHURCH",
         "1",
         "69",
         "8",
         "7",
         "40"
        ],
        [
         "9",
         "CABELLPCT 16 - SR LIFE ENRICH",
         "3",
         "320",
         "2",
         "8",
         "16"
        ],
        [
         "10",
         "CABELLPCT 17 - SPRING HILL ELEM",
         "0",
         "199",
         "8",
         "11",
         "99"
        ],
        [
         "11",
         "CABELLPCT 18 - MEADOWS ELEM",
         "0",
         "155",
         "1",
         "20",
         "111"
        ],
        [
         "12",
         "CABELLPCT 19 - HIGHLAWN ELEM",
         "1",
         "158",
         "6",
         "15",
         "135"
        ],
        [
         "13",
         "CABELLPCT 2 - CENTRAL CITY ELEM",
         "4",
         "68",
         "8",
         "7",
         "99"
        ],
        [
         "14",
         "CABELLPCT 20 - COMM OF GRACE",
         "4",
         "136",
         "8",
         "14",
         "115"
        ],
        [
         "15",
         "CABELLPCT 21 - FAIRFIELD E COMM",
         "0",
         "155",
         "2",
         "7",
         "98"
        ],
        [
         "16",
         "CABELLPCT 22 - HUNTINGTON HIGH",
         "1",
         "256",
         "3",
         "37",
         "379"
        ],
        [
         "17",
         "CABELLPCT 23 - FAIRFIELD E COMM",
         "2",
         "128",
         "10",
         "18",
         "142"
        ],
        [
         "18",
         "CABELLPCT 24 - LIGHTHOUSE BAPT",
         "2",
         "137",
         "4",
         "16",
         "132"
        ],
        [
         "19",
         "CABELLPCT 25 - BEV HILLS CHURCH",
         "6",
         "193",
         "10",
         "16",
         "168"
        ],
        [
         "20",
         "CABELLPCT 26 - HIGHLAWN ELEM",
         "3",
         "229",
         "6",
         "26",
         "242"
        ],
        [
         "21",
         "CABELLPCT 27 - COMM OF GRACE",
         "1",
         "104",
         "1",
         "8",
         "144"
        ],
        [
         "22",
         "CABELLPCT 28 -ODD FELLOWS LODGE",
         "1",
         "183",
         "5",
         "20",
         "168"
        ],
        [
         "23",
         "CABELLPCT 29 - HTGN EAST MIDDLE",
         "5",
         "155",
         "8",
         "19",
         "215"
        ],
        [
         "24",
         "CABELLPCT 3 - DEPT OF TRANS",
         "4",
         "178",
         "10",
         "15",
         "202"
        ],
        [
         "25",
         "CABELLPCT 30 - HTGN EAST MIDDLE",
         "4",
         "160",
         "6",
         "12",
         "256"
        ],
        [
         "26",
         "CABELLPCT 31 - HTGN EAST MIDDLE",
         "1",
         "257",
         "12",
         "35",
         "395"
        ],
        [
         "27",
         "CABELLPCT 32 - GUYANDOTTE ELEM",
         "3",
         "99",
         "6",
         "15",
         "171"
        ],
        [
         "28",
         "CABELLPCT 33 - GUYANDOTTE ELEM",
         "2",
         "52",
         "1",
         "7",
         "165"
        ],
        [
         "29",
         "CABELLPCT 34 - ALTIZER ELEM",
         "3",
         "129",
         "6",
         "16",
         "285"
        ],
        [
         "30",
         "CABELLPCT 35 - HUNTINGTON HIGH",
         "2",
         "155",
         "7",
         "19",
         "309"
        ],
        [
         "31",
         "CABELLPCT 36 - HITE SAUNDERS",
         "7",
         "135",
         "6",
         "23",
         "484"
        ],
        [
         "32",
         "CABELLPCT 37 - HITE SAUNDERS",
         "2",
         "156",
         "1",
         "16",
         "281"
        ],
        [
         "33",
         "CABELLPCT 38 -CABELL CO VO-TECH",
         "1",
         "114",
         "3",
         "9",
         "160"
        ],
        [
         "34",
         "CABELLPCT 39 -CABELL CO VO-TECH",
         "1",
         "176",
         "5",
         "28",
         "347"
        ],
        [
         "35",
         "CABELLPCT 4 - MUSEUM OF RADIO",
         "0",
         "93",
         "6",
         "19",
         "178"
        ],
        [
         "36",
         "CABELLPCT 40 -CABELL CO VO-TECH",
         "4",
         "187",
         "11",
         "22",
         "238"
        ],
        [
         "37",
         "CABELLPCT 41A - CABELL CO 4-H",
         "1",
         "182",
         "4",
         "16",
         "302"
        ],
        [
         "38",
         "CABELLPCT 41B - CABELL CO 4-H",
         "2",
         "202",
         "2",
         "22",
         "315"
        ],
        [
         "39",
         "CABELLPCT 42 -B'VILLE COMM BLDG",
         "3",
         "235",
         "5",
         "29",
         "461"
        ],
        [
         "40",
         "CABELLPCT 43-B'VILLE MIDDLE SCH",
         "3",
         "167",
         "7",
         "19",
         "335"
        ],
        [
         "41",
         "CABELLPCT 44 - B'VILLE ELEM SCH",
         "2",
         "143",
         "5",
         "14",
         "239"
        ],
        [
         "42",
         "CABELLPCT 45 - B'VILLE ELEM SCH",
         "1",
         "155",
         "7",
         "16",
         "348"
        ],
        [
         "43",
         "CABELLPCT 46-B'VILLE MIDDLE SCH",
         "5",
         "287",
         "3",
         "23",
         "643"
        ],
        [
         "44",
         "CABELLPCT 47 - DAVIS CREEK ELEM",
         "2",
         "168",
         "5",
         "15",
         "339"
        ],
        [
         "45",
         "CABELLPCT 48 - DAVIS CREEK ELEM",
         "1",
         "67",
         "0",
         "10",
         "223"
        ],
        [
         "46",
         "CABELLPCT 49 - MARTHA ELEM SCH",
         "3",
         "176",
         "5",
         "14",
         "700"
        ],
        [
         "47",
         "CABELLPCT 5 - DEPT OF TRANS",
         "0",
         "82",
         "4",
         "11",
         "96"
        ],
        [
         "48",
         "CABELLPCT 50A - SALT ROCK ELEM",
         "7",
         "56",
         "3",
         "13",
         "437"
        ],
        [
         "49",
         "CABELLPCT 50B - SALT ROCK ELEM",
         "3",
         "76",
         "3",
         "11",
         "355"
        ]
       ],
       "shape": {
        "columns": 6,
        "rows": 348
       }
      },
      "text/html": [
       "<div>\n",
       "<style scoped>\n",
       "    .dataframe tbody tr th:only-of-type {\n",
       "        vertical-align: middle;\n",
       "    }\n",
       "\n",
       "    .dataframe tbody tr th {\n",
       "        vertical-align: top;\n",
       "    }\n",
       "\n",
       "    .dataframe thead th {\n",
       "        text-align: right;\n",
       "    }\n",
       "</style>\n",
       "<table border=\"1\" class=\"dataframe\">\n",
       "  <thead>\n",
       "    <tr style=\"text-align: right;\">\n",
       "      <th>candidate_column</th>\n",
       "      <th>precinct</th>\n",
       "      <th>gen_con_CASTLE</th>\n",
       "      <th>gen_dem_CLINTON</th>\n",
       "      <th>gen_grn_STEIN</th>\n",
       "      <th>gen_lib_JOHNSON</th>\n",
       "      <th>gen_rep_TRUMP</th>\n",
       "    </tr>\n",
       "  </thead>\n",
       "  <tbody>\n",
       "    <tr>\n",
       "      <th>0</th>\n",
       "      <td>CABELLCT 65 -MILTON MIDDLE SCH</td>\n",
       "      <td>1</td>\n",
       "      <td>65</td>\n",
       "      <td>5</td>\n",
       "      <td>11</td>\n",
       "      <td>330</td>\n",
       "    </tr>\n",
       "    <tr>\n",
       "      <th>1</th>\n",
       "      <td>CABELLNAN</td>\n",
       "      <td>182</td>\n",
       "      <td>11447</td>\n",
       "      <td>397</td>\n",
       "      <td>1209</td>\n",
       "      <td>19850</td>\n",
       "    </tr>\n",
       "    <tr>\n",
       "      <th>2</th>\n",
       "      <td>CABELLPCT 1 - CENTRAL CITY ELEM</td>\n",
       "      <td>7</td>\n",
       "      <td>201</td>\n",
       "      <td>15</td>\n",
       "      <td>22</td>\n",
       "      <td>317</td>\n",
       "    </tr>\n",
       "    <tr>\n",
       "      <th>3</th>\n",
       "      <td>CABELLPCT 10 -HUNTINGTON MIDDLE</td>\n",
       "      <td>1</td>\n",
       "      <td>236</td>\n",
       "      <td>3</td>\n",
       "      <td>6</td>\n",
       "      <td>81</td>\n",
       "    </tr>\n",
       "    <tr>\n",
       "      <th>4</th>\n",
       "      <td>CABELLPCT 11 -FIRST PRES CHURC</td>\n",
       "      <td>0</td>\n",
       "      <td>116</td>\n",
       "      <td>8</td>\n",
       "      <td>8</td>\n",
       "      <td>68</td>\n",
       "    </tr>\n",
       "    <tr>\n",
       "      <th>...</th>\n",
       "      <td>...</td>\n",
       "      <td>...</td>\n",
       "      <td>...</td>\n",
       "      <td>...</td>\n",
       "      <td>...</td>\n",
       "      <td>...</td>\n",
       "    </tr>\n",
       "    <tr>\n",
       "      <th>343</th>\n",
       "      <td>WEBSTER3</td>\n",
       "      <td>0</td>\n",
       "      <td>39</td>\n",
       "      <td>6</td>\n",
       "      <td>6</td>\n",
       "      <td>191</td>\n",
       "    </tr>\n",
       "    <tr>\n",
       "      <th>344</th>\n",
       "      <td>WEBSTER4</td>\n",
       "      <td>0</td>\n",
       "      <td>81</td>\n",
       "      <td>2</td>\n",
       "      <td>7</td>\n",
       "      <td>144</td>\n",
       "    </tr>\n",
       "    <tr>\n",
       "      <th>345</th>\n",
       "      <td>WEBSTER5</td>\n",
       "      <td>1</td>\n",
       "      <td>31</td>\n",
       "      <td>5</td>\n",
       "      <td>5</td>\n",
       "      <td>143</td>\n",
       "    </tr>\n",
       "    <tr>\n",
       "      <th>346</th>\n",
       "      <td>WEBSTER8</td>\n",
       "      <td>1</td>\n",
       "      <td>53</td>\n",
       "      <td>2</td>\n",
       "      <td>5</td>\n",
       "      <td>232</td>\n",
       "    </tr>\n",
       "    <tr>\n",
       "      <th>347</th>\n",
       "      <td>WEBSTERTOTAL</td>\n",
       "      <td>8</td>\n",
       "      <td>554</td>\n",
       "      <td>30</td>\n",
       "      <td>82</td>\n",
       "      <td>2302</td>\n",
       "    </tr>\n",
       "  </tbody>\n",
       "</table>\n",
       "<p>348 rows × 6 columns</p>\n",
       "</div>"
      ],
      "text/plain": [
       "candidate_column                         precinct  gen_con_CASTLE  \\\n",
       "0                  CABELLCT 65 -MILTON MIDDLE SCH               1   \n",
       "1                                       CABELLNAN             182   \n",
       "2                 CABELLPCT 1 - CENTRAL CITY ELEM               7   \n",
       "3                 CABELLPCT 10 -HUNTINGTON MIDDLE               1   \n",
       "4                  CABELLPCT 11 -FIRST PRES CHURC               0   \n",
       "..                                            ...             ...   \n",
       "343                                      WEBSTER3               0   \n",
       "344                                      WEBSTER4               0   \n",
       "345                                      WEBSTER5               1   \n",
       "346                                      WEBSTER8               1   \n",
       "347                                  WEBSTERTOTAL               8   \n",
       "\n",
       "candidate_column  gen_dem_CLINTON  gen_grn_STEIN  gen_lib_JOHNSON  \\\n",
       "0                              65              5               11   \n",
       "1                           11447            397             1209   \n",
       "2                             201             15               22   \n",
       "3                             236              3                6   \n",
       "4                             116              8                8   \n",
       "..                            ...            ...              ...   \n",
       "343                            39              6                6   \n",
       "344                            81              2                7   \n",
       "345                            31              5                5   \n",
       "346                            53              2                5   \n",
       "347                           554             30               82   \n",
       "\n",
       "candidate_column  gen_rep_TRUMP  \n",
       "0                           330  \n",
       "1                         19850  \n",
       "2                           317  \n",
       "3                            81  \n",
       "4                            68  \n",
       "..                          ...  \n",
       "343                         191  \n",
       "344                         144  \n",
       "345                         143  \n",
       "346                         232  \n",
       "347                        2302  \n",
       "\n",
       "[348 rows x 6 columns]"
      ]
     },
     "execution_count": 40,
     "metadata": {},
     "output_type": "execute_result"
    }
   ],
   "source": [
    "general_data[\"candidate_column\"] = (\n",
    "    \"gen_\" +\n",
    "    general_data[\"party\"].str.lower() + \"_\" +\n",
    "    general_data[\"candidate\"].str.split().str[-1].str.upper()\n",
    ")\n",
    "\n",
    "# pivot the table\n",
    "general_result = general_data.pivot_table(\n",
    "    index=\"precinct\",\n",
    "    columns=\"candidate_column\",\n",
    "    values=\"votes\",\n",
    "    aggfunc=\"sum\",  \n",
    "    fill_value=0\n",
    ").reset_index()\n",
    "\n",
    "general_result"
   ]
  },
  {
   "cell_type": "code",
   "execution_count": 41,
   "id": "6686d34b",
   "metadata": {},
   "outputs": [],
   "source": [
    "# Merge\n",
    "combined = pd.merge(primary_result, general_result, on=\"precinct\", how=\"inner\")\n",
    "\n",
    "# Convert DEM primary columns to numeric and calculate total\n",
    "dem_cols = combined.filter(like=\"pri_dem_\").columns\n",
    "combined[dem_cols] = combined[dem_cols].apply(pd.to_numeric, errors=\"coerce\")\n",
    "combined[\"dem_primary_total\"] = combined[dem_cols].sum(axis=1)\n",
    "\n",
    "# Convert general election columns to numeric and calculate total\n",
    "gen_cols = combined.filter(like=\"gen_\").columns\n",
    "combined[gen_cols] = combined[gen_cols].apply(pd.to_numeric, errors=\"coerce\")\n",
    "combined[\"general_total\"] = combined[gen_cols].sum(axis=1)\n",
    "\n",
    "# Convert all numeric columns to int\n",
    "for col in combined.columns[1:]:\n",
    "    combined[col] = pd.to_numeric(combined[col], errors='coerce').fillna(0).astype(int)\n",
    "\n",
    "# Identify filtered-out precincts\n",
    "primary_precincts = set(primary_result[\"precinct\"])\n",
    "general_precincts = set(general_result[\"precinct\"])\n",
    "combined_precincts = set(combined[\"precinct\"])\n",
    "\n",
    "primary_filtered_out = primary_precincts - combined_precincts\n",
    "general_filtered_out = general_precincts - combined_precincts\n",
    "\n",
    "\n"
   ]
  },
  {
   "cell_type": "code",
   "execution_count": 42,
   "id": "a6797e92",
   "metadata": {},
   "outputs": [],
   "source": [
    "\n",
    "\n",
    "combined.to_csv(\"WV.csv\", index=False)\n",
    "# Step 3: Identify unmatched precincts and retrieve full rows\n",
    "combined_precincts = set(combined[\"precinct\"])\n",
    "\n",
    "# Rows in primary_result but not in combined\n",
    "primary_filtered_out = primary_result[~primary_result[\"precinct\"].isin(combined_precincts)]\n",
    "primary_filtered_out.to_csv(\"WV_primary_filtered.csv\", index=False)\n",
    "\n",
    "# Rows in general_result but not in combined\n",
    "general_filtered_out = general_result[~general_result[\"precinct\"].isin(combined_precincts)]\n",
    "general_filtered_out.to_csv(\"WV_general_filtered.csv\", index=False)"
   ]
  },
  {
   "cell_type": "code",
   "execution_count": 43,
   "id": "b3d042ff",
   "metadata": {},
   "outputs": [
    {
     "name": "stdout",
     "output_type": "stream",
     "text": [
      "primary: 14, general: 348, combined: 14\n"
     ]
    }
   ],
   "source": [
    "print(f\"primary: {len(primary_precincts)}, general: {len(general_precincts)}, combined: {len(combined)}\")"
   ]
  },
  {
   "cell_type": "code",
   "execution_count": 44,
   "id": "9900725d",
   "metadata": {},
   "outputs": [
    {
     "name": "stdout",
     "output_type": "stream",
     "text": [
      "primary: 1, general: 6\n"
     ]
    }
   ],
   "source": [
    "print(f\"primary: {len(pri_combined_df['county'].unique())}, general: {len(gen_combined_df['county'].unique())}\")\n"
   ]
  },
  {
   "cell_type": "code",
   "execution_count": 45,
   "id": "b12d639e",
   "metadata": {},
   "outputs": [
    {
     "ename": "KeyError",
     "evalue": "'jurisdiction'",
     "output_type": "error",
     "traceback": [
      "\u001b[1;31m---------------------------------------------------------------------------\u001b[0m",
      "\u001b[1;31mKeyError\u001b[0m                                  Traceback (most recent call last)",
      "File \u001b[1;32mc:\\Users\\ADMIN\\AppData\\Local\\Programs\\Python\\Python311\\Lib\\site-packages\\pandas\\core\\indexes\\base.py:3802\u001b[0m, in \u001b[0;36mIndex.get_loc\u001b[1;34m(self, key)\u001b[0m\n\u001b[0;32m   3801\u001b[0m \u001b[38;5;28;01mtry\u001b[39;00m:\n\u001b[1;32m-> 3802\u001b[0m     \u001b[38;5;28;01mreturn\u001b[39;00m \u001b[38;5;28;43mself\u001b[39;49m\u001b[38;5;241;43m.\u001b[39;49m\u001b[43m_engine\u001b[49m\u001b[38;5;241;43m.\u001b[39;49m\u001b[43mget_loc\u001b[49m\u001b[43m(\u001b[49m\u001b[43mcasted_key\u001b[49m\u001b[43m)\u001b[49m\n\u001b[0;32m   3803\u001b[0m \u001b[38;5;28;01mexcept\u001b[39;00m \u001b[38;5;167;01mKeyError\u001b[39;00m \u001b[38;5;28;01mas\u001b[39;00m err:\n",
      "File \u001b[1;32mindex.pyx:153\u001b[0m, in \u001b[0;36mpandas._libs.index.IndexEngine.get_loc\u001b[1;34m()\u001b[0m\n",
      "File \u001b[1;32mindex.pyx:182\u001b[0m, in \u001b[0;36mpandas._libs.index.IndexEngine.get_loc\u001b[1;34m()\u001b[0m\n",
      "File \u001b[1;32mpandas\\\\_libs\\\\hashtable_class_helper.pxi:7081\u001b[0m, in \u001b[0;36mpandas._libs.hashtable.PyObjectHashTable.get_item\u001b[1;34m()\u001b[0m\n",
      "File \u001b[1;32mpandas\\\\_libs\\\\hashtable_class_helper.pxi:7089\u001b[0m, in \u001b[0;36mpandas._libs.hashtable.PyObjectHashTable.get_item\u001b[1;34m()\u001b[0m\n",
      "\u001b[1;31mKeyError\u001b[0m: 'jurisdiction'",
      "\nThe above exception was the direct cause of the following exception:\n",
      "\u001b[1;31mKeyError\u001b[0m                                  Traceback (most recent call last)",
      "Cell \u001b[1;32mIn[45], line 1\u001b[0m\n\u001b[1;32m----> 1\u001b[0m \u001b[43mpri_combined_df\u001b[49m\u001b[43m[\u001b[49m\u001b[38;5;124;43m'\u001b[39;49m\u001b[38;5;124;43mjurisdiction\u001b[39;49m\u001b[38;5;124;43m'\u001b[39;49m\u001b[43m]\u001b[49m\u001b[38;5;241m.\u001b[39munique()\n",
      "File \u001b[1;32mc:\\Users\\ADMIN\\AppData\\Local\\Programs\\Python\\Python311\\Lib\\site-packages\\pandas\\core\\frame.py:4090\u001b[0m, in \u001b[0;36mDataFrame.__getitem__\u001b[1;34m(self, key)\u001b[0m\n\u001b[0;32m   4088\u001b[0m \u001b[38;5;28;01mif\u001b[39;00m \u001b[38;5;28mself\u001b[39m\u001b[38;5;241m.\u001b[39mcolumns\u001b[38;5;241m.\u001b[39mnlevels \u001b[38;5;241m>\u001b[39m \u001b[38;5;241m1\u001b[39m:\n\u001b[0;32m   4089\u001b[0m     \u001b[38;5;28;01mreturn\u001b[39;00m \u001b[38;5;28mself\u001b[39m\u001b[38;5;241m.\u001b[39m_getitem_multilevel(key)\n\u001b[1;32m-> 4090\u001b[0m indexer \u001b[38;5;241m=\u001b[39m \u001b[38;5;28;43mself\u001b[39;49m\u001b[38;5;241;43m.\u001b[39;49m\u001b[43mcolumns\u001b[49m\u001b[38;5;241;43m.\u001b[39;49m\u001b[43mget_loc\u001b[49m\u001b[43m(\u001b[49m\u001b[43mkey\u001b[49m\u001b[43m)\u001b[49m\n\u001b[0;32m   4091\u001b[0m \u001b[38;5;28;01mif\u001b[39;00m is_integer(indexer):\n\u001b[0;32m   4092\u001b[0m     indexer \u001b[38;5;241m=\u001b[39m [indexer]\n",
      "File \u001b[1;32mc:\\Users\\ADMIN\\AppData\\Local\\Programs\\Python\\Python311\\Lib\\site-packages\\pandas\\core\\indexes\\base.py:3809\u001b[0m, in \u001b[0;36mIndex.get_loc\u001b[1;34m(self, key)\u001b[0m\n\u001b[0;32m   3804\u001b[0m     \u001b[38;5;28;01mif\u001b[39;00m \u001b[38;5;28misinstance\u001b[39m(casted_key, \u001b[38;5;28mslice\u001b[39m) \u001b[38;5;129;01mor\u001b[39;00m (\n\u001b[0;32m   3805\u001b[0m         \u001b[38;5;28misinstance\u001b[39m(casted_key, abc\u001b[38;5;241m.\u001b[39mIterable)\n\u001b[0;32m   3806\u001b[0m         \u001b[38;5;129;01mand\u001b[39;00m \u001b[38;5;28many\u001b[39m(\u001b[38;5;28misinstance\u001b[39m(x, \u001b[38;5;28mslice\u001b[39m) \u001b[38;5;28;01mfor\u001b[39;00m x \u001b[38;5;129;01min\u001b[39;00m casted_key)\n\u001b[0;32m   3807\u001b[0m     ):\n\u001b[0;32m   3808\u001b[0m         \u001b[38;5;28;01mraise\u001b[39;00m InvalidIndexError(key)\n\u001b[1;32m-> 3809\u001b[0m     \u001b[38;5;28;01mraise\u001b[39;00m \u001b[38;5;167;01mKeyError\u001b[39;00m(key) \u001b[38;5;28;01mfrom\u001b[39;00m\u001b[38;5;250m \u001b[39m\u001b[38;5;21;01merr\u001b[39;00m\n\u001b[0;32m   3810\u001b[0m \u001b[38;5;28;01mexcept\u001b[39;00m \u001b[38;5;167;01mTypeError\u001b[39;00m:\n\u001b[0;32m   3811\u001b[0m     \u001b[38;5;66;03m# If we have a listlike key, _check_indexing_error will raise\u001b[39;00m\n\u001b[0;32m   3812\u001b[0m     \u001b[38;5;66;03m#  InvalidIndexError. Otherwise we fall through and re-raise\u001b[39;00m\n\u001b[0;32m   3813\u001b[0m     \u001b[38;5;66;03m#  the TypeError.\u001b[39;00m\n\u001b[0;32m   3814\u001b[0m     \u001b[38;5;28mself\u001b[39m\u001b[38;5;241m.\u001b[39m_check_indexing_error(key)\n",
      "\u001b[1;31mKeyError\u001b[0m: 'jurisdiction'"
     ]
    }
   ],
   "source": [
    "pri_combined_df['jurisdiction'].unique()"
   ]
  },
  {
   "cell_type": "code",
   "execution_count": null,
   "id": "0fb1a12f",
   "metadata": {},
   "outputs": [
    {
     "data": {
      "text/plain": [
       "array(['CARSON CITY', 'CHURCHILL', 'CLARK', 'DOUGLAS', 'ELKO',\n",
       "       'ESMERALDA', 'EUREKA', 'HUMBOLDT', 'LANDER', 'LINCOLN', 'LYON',\n",
       "       'MINERAL', 'NYE', 'PERSHING', 'STOREY', 'WASHOE', 'WHITE PINE'],\n",
       "      dtype=object)"
      ]
     },
     "execution_count": 56,
     "metadata": {},
     "output_type": "execute_result"
    }
   ],
   "source": [
    "gen_combined_df['county'].unique()"
   ]
  },
  {
   "cell_type": "code",
   "execution_count": null,
   "id": "b28d499d",
   "metadata": {},
   "outputs": [
    {
     "name": "stdout",
     "output_type": "stream",
     "text": [
      "Counties in primary but not in general: 1\n",
      "{'YE'}\n"
     ]
    }
   ],
   "source": [
    "primary_counties = set(pri_combined_df['jurisdiction'].dropna().str.strip().str.upper())\n",
    "general_counties = set(gen_combined_df['county'].dropna().str.strip().str.upper())\n",
    "\n",
    "diff = primary_counties - general_counties\n",
    "print(f\"Counties in primary but not in general: {len(diff)}\")\n",
    "print(diff)\n"
   ]
  }
 ],
 "metadata": {
  "kernelspec": {
   "display_name": "Python 3",
   "language": "python",
   "name": "python3"
  },
  "language_info": {
   "codemirror_mode": {
    "name": "ipython",
    "version": 3
   },
   "file_extension": ".py",
   "mimetype": "text/x-python",
   "name": "python",
   "nbconvert_exporter": "python",
   "pygments_lexer": "ipython3",
   "version": "3.11.2"
  }
 },
 "nbformat": 4,
 "nbformat_minor": 5
}
