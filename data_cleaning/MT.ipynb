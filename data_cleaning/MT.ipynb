{
 "cells": [
  {
   "cell_type": "code",
   "execution_count": 1,
   "id": "ad1be0fa",
   "metadata": {},
   "outputs": [],
   "source": [
    "# Import all the libraries\n",
    "import pandas as pd\n",
    "import glob\n",
    "import os\n",
    "import re\n",
    "from pprint import pprint"
   ]
  },
  {
   "cell_type": "code",
   "execution_count": 2,
   "id": "c263c4df",
   "metadata": {},
   "outputs": [],
   "source": [
    "#Get all CSV files in the folder of GA\n",
    "all_files = glob.glob(r\"C:\\Huy Phan\\College\\VoterTurnout\\data\\MT\\*.csv\")\n",
    "\n",
    "# Files that contain both 'precinct' and 'general' in the filename\n",
    "general_files = [\n",
    "    f for f in all_files\n",
    "    if all(word in f.lower() for word in ['precinct', 'general'])\n",
    "]\n",
    "\n",
    "\n",
    "# Files that contain both 'precinct' and 'primary' in the filename\n",
    "primary_files = [\n",
    "    f for f in all_files\n",
    "    if all(word in f.lower() for word in ['precinct', 'primary'])\n",
    "]\n"
   ]
  },
  {
   "cell_type": "code",
   "execution_count": 3,
   "id": "60d49ea6",
   "metadata": {},
   "outputs": [
    {
     "name": "stdout",
     "output_type": "stream",
     "text": [
      "General files:\n",
      "C:\\Huy Phan\\College\\VoterTurnout\\data\\MT\\20161108__mt__general__precinct.csv\n"
     ]
    }
   ],
   "source": [
    "print(\"General files:\")\n",
    "for f in general_files:\n",
    "    print(f)\n"
   ]
  },
  {
   "cell_type": "code",
   "execution_count": 4,
   "id": "4ab13110",
   "metadata": {},
   "outputs": [
    {
     "name": "stdout",
     "output_type": "stream",
     "text": [
      "\n",
      "Primary files:\n",
      "C:\\Huy Phan\\College\\VoterTurnout\\data\\MT\\20160607__mt__primary__precinct.csv\n"
     ]
    }
   ],
   "source": [
    "print(\"\\nPrimary files:\")\n",
    "for f in primary_files:\n",
    "    print(f)"
   ]
  },
  {
   "cell_type": "code",
   "execution_count": 5,
   "id": "ff5df6c7",
   "metadata": {},
   "outputs": [],
   "source": [
    "# Process primary files\n",
    "primary_df_list = []\n",
    "\n",
    "for file in primary_files:\n",
    "    try:\n",
    "        df = pd.read_csv(file)\n",
    "        \n",
    "            \n",
    "        # Combine precinct as county + precinct\n",
    "        df[\"precinct\"] = df[\"county\"].astype(str) + df[\"precinct\"].astype(str)\n",
    "        df[\"precinct\"] = df[\"precinct\"].str.upper()\n",
    "        df[\"county\"] = df[\"county\"].str.upper()\n",
    "\n",
    "        # Cleaning maybe total precinct\n",
    "        if 'precinct' in df.columns:\n",
    "            df['precinct'] = df['precinct'].astype(str)                  \n",
    "            df = df[df['precinct'].str.upper() != \"TOTAL\"]               \n",
    "            df = df[df['precinct'].str.strip().str.upper() != \"TOTAL\"]   \n",
    "            df = df[df['precinct'].str.upper() != \"NAN\"]                \n",
    "            df = df[~df['precinct'].str.upper().str.contains(r\"\\w*TOTAL\\w*\", na=False)]   \n",
    "\n",
    "        if 'county' in df.columns:\n",
    "            df['county'] = df['county'].astype(str)                  \n",
    "            df = df[df['county'].str.upper() != \"TOTAL\"]               \n",
    "            df = df[df['county'].str.strip().str.upper() != \"TOTAL\"]   \n",
    "            df = df[df['county'].str.upper() != \"NAN\"]       \n",
    "            df = df[~df['county'].str.upper().str.contains(r\"\\w*TOTAL\\w*\", na=False)]               \n",
    "        # Filtering out only President \n",
    "        if 'office' in df.columns:\n",
    "            df = df[df[\"office\"].str.upper() == \"PRESIDENT\"]\n",
    "            \n",
    "        # Dropping duplicates value\n",
    "        df = df.drop_duplicates()\n",
    "        \n",
    "        primary_df_list.append(df)\n",
    "\n",
    "    except Exception as e:\n",
    "        print(f\"Error in {file}: {e}\")\n",
    "\n",
    "# Combine all cleaned files\n",
    "pri_combined_df = pd.concat(primary_df_list, ignore_index=True)\n",
    "\n"
   ]
  },
  {
   "cell_type": "code",
   "execution_count": 6,
   "id": "2ef83fe2",
   "metadata": {},
   "outputs": [],
   "source": [
    "## Cleaning precinct, county name\n",
    "# Fixing Cubbler\n",
    "# pri_combined_df.loc[\n",
    "#     ( \n",
    "#         pri_combined_df[\"county\"].str.contains(\"\\w*F120\\w*\", case=False, na=False)|\n",
    "#         pri_combined_df[\"county\"].str.contains(\"\\w*STONE\\w*\", case=False, na=False)|\n",
    "#         pri_combined_df[\"county\"].str.contains(\"\\w*OBBLER\\w*\", case=False, na=False),\n",
    "#     \"county\")\n",
    "# ] = \"STONE\""
   ]
  },
  {
   "cell_type": "code",
   "execution_count": 7,
   "id": "bbe34b76",
   "metadata": {},
   "outputs": [],
   "source": [
    "# Checking any suspicious precinct, county\n",
    "suspicious_precincts = pri_combined_df[\n",
    "    pri_combined_df[\"precinct\"].isna() |\n",
    "    pri_combined_df[\"precinct\"].str.strip().str.upper().str.contains(r\"\\w*TOTAL\\w*\", na=False) |\n",
    "    pri_combined_df[\"precinct\"].str.strip().str.upper().isin([\"NONE\", \"NAN\"]) |\n",
    "    pri_combined_df[\"county\"].isna() |\n",
    "    pri_combined_df[\"county\"].str.strip().str.upper().str.contains(r\"\\w*TOTAL\\w*\", na=False) |\n",
    "    pri_combined_df[\"county\"].str.strip().str.upper().isin([\"NONE\", \"NAN\"])\n",
    "]"
   ]
  },
  {
   "cell_type": "code",
   "execution_count": 8,
   "id": "f0e1e913",
   "metadata": {},
   "outputs": [
    {
     "data": {
      "application/vnd.microsoft.datawrangler.viewer.v0+json": {
       "columns": [
        {
         "name": "index",
         "rawType": "int64",
         "type": "integer"
        },
        {
         "name": "precinct",
         "rawType": "object",
         "type": "string"
        },
        {
         "name": "party",
         "rawType": "object",
         "type": "string"
        },
        {
         "name": "candidate",
         "rawType": "object",
         "type": "string"
        },
        {
         "name": "votes",
         "rawType": "int64",
         "type": "integer"
        }
       ],
       "ref": "c8984b0c-6190-449c-95e4-8723930a6942",
       "rows": [
        [
         "0",
         "BEAVERHEADPRECINCT 01",
         "REP",
         "JEB BUSH",
         "10"
        ],
        [
         "1",
         "BEAVERHEADPRECINCT 12",
         "REP",
         "JEB BUSH",
         "16"
        ],
        [
         "2",
         "BEAVERHEADPRECINCT 14",
         "REP",
         "JEB BUSH",
         "3"
        ],
        [
         "3",
         "BEAVERHEADPRECINCT 17",
         "REP",
         "JEB BUSH",
         "3"
        ],
        [
         "4",
         "BEAVERHEADPRECINCT 19",
         "REP",
         "JEB BUSH",
         "0"
        ],
        [
         "5",
         "BEAVERHEADPRECINCT 02",
         "REP",
         "JEB BUSH",
         "9"
        ],
        [
         "6",
         "BEAVERHEADPRECINCT 20",
         "REP",
         "JEB BUSH",
         "0"
        ],
        [
         "7",
         "BEAVERHEADPRECINCT 21",
         "REP",
         "JEB BUSH",
         "4"
        ],
        [
         "8",
         "BEAVERHEADPRECINCT 23",
         "REP",
         "JEB BUSH",
         "2"
        ],
        [
         "9",
         "BEAVERHEADPRECINCT 03",
         "REP",
         "JEB BUSH",
         "11"
        ],
        [
         "10",
         "BEAVERHEADPRECINCT 04",
         "REP",
         "JEB BUSH",
         "5"
        ],
        [
         "11",
         "BEAVERHEADPRECINCT 05",
         "REP",
         "JEB BUSH",
         "2"
        ],
        [
         "12",
         "BEAVERHEADPRECINCT 06",
         "REP",
         "JEB BUSH",
         "7"
        ],
        [
         "13",
         "BEAVERHEADPRECINCT 07",
         "REP",
         "JEB BUSH",
         "3"
        ],
        [
         "14",
         "BEAVERHEADPRECINCT 08",
         "REP",
         "JEB BUSH",
         "2"
        ],
        [
         "15",
         "BEAVERHEADPRECINCT 09",
         "REP",
         "JEB BUSH",
         "14"
        ],
        [
         "16",
         "BEAVERHEADPRECINCT 01",
         "DEM",
         "HILLARY CLINTON",
         "27"
        ],
        [
         "17",
         "BEAVERHEADPRECINCT 12",
         "DEM",
         "HILLARY CLINTON",
         "38"
        ],
        [
         "18",
         "BEAVERHEADPRECINCT 14",
         "DEM",
         "HILLARY CLINTON",
         "27"
        ],
        [
         "19",
         "BEAVERHEADPRECINCT 17",
         "DEM",
         "HILLARY CLINTON",
         "8"
        ],
        [
         "20",
         "BEAVERHEADPRECINCT 19",
         "DEM",
         "HILLARY CLINTON",
         "2"
        ],
        [
         "21",
         "BEAVERHEADPRECINCT 02",
         "DEM",
         "HILLARY CLINTON",
         "22"
        ],
        [
         "22",
         "BEAVERHEADPRECINCT 20",
         "DEM",
         "HILLARY CLINTON",
         "1"
        ],
        [
         "23",
         "BEAVERHEADPRECINCT 21",
         "DEM",
         "HILLARY CLINTON",
         "11"
        ],
        [
         "24",
         "BEAVERHEADPRECINCT 23",
         "DEM",
         "HILLARY CLINTON",
         "6"
        ],
        [
         "25",
         "BEAVERHEADPRECINCT 03",
         "DEM",
         "HILLARY CLINTON",
         "36"
        ],
        [
         "26",
         "BEAVERHEADPRECINCT 04",
         "DEM",
         "HILLARY CLINTON",
         "10"
        ],
        [
         "27",
         "BEAVERHEADPRECINCT 05",
         "DEM",
         "HILLARY CLINTON",
         "1"
        ],
        [
         "28",
         "BEAVERHEADPRECINCT 06",
         "DEM",
         "HILLARY CLINTON",
         "27"
        ],
        [
         "29",
         "BEAVERHEADPRECINCT 07",
         "DEM",
         "HILLARY CLINTON",
         "11"
        ],
        [
         "30",
         "BEAVERHEADPRECINCT 08",
         "DEM",
         "HILLARY CLINTON",
         "2"
        ],
        [
         "31",
         "BEAVERHEADPRECINCT 09",
         "DEM",
         "HILLARY CLINTON",
         "15"
        ],
        [
         "32",
         "BEAVERHEADPRECINCT 01",
         "REP",
         "TED CRUZ",
         "18"
        ],
        [
         "33",
         "BEAVERHEADPRECINCT 12",
         "REP",
         "TED CRUZ",
         "11"
        ],
        [
         "34",
         "BEAVERHEADPRECINCT 14",
         "REP",
         "TED CRUZ",
         "12"
        ],
        [
         "35",
         "BEAVERHEADPRECINCT 17",
         "REP",
         "TED CRUZ",
         "2"
        ],
        [
         "36",
         "BEAVERHEADPRECINCT 19",
         "REP",
         "TED CRUZ",
         "4"
        ],
        [
         "37",
         "BEAVERHEADPRECINCT 02",
         "REP",
         "TED CRUZ",
         "38"
        ],
        [
         "38",
         "BEAVERHEADPRECINCT 20",
         "REP",
         "TED CRUZ",
         "3"
        ],
        [
         "39",
         "BEAVERHEADPRECINCT 21",
         "REP",
         "TED CRUZ",
         "7"
        ],
        [
         "40",
         "BEAVERHEADPRECINCT 23",
         "REP",
         "TED CRUZ",
         "5"
        ],
        [
         "41",
         "BEAVERHEADPRECINCT 03",
         "REP",
         "TED CRUZ",
         "35"
        ],
        [
         "42",
         "BEAVERHEADPRECINCT 04",
         "REP",
         "TED CRUZ",
         "13"
        ],
        [
         "43",
         "BEAVERHEADPRECINCT 05",
         "REP",
         "TED CRUZ",
         "7"
        ],
        [
         "44",
         "BEAVERHEADPRECINCT 06",
         "REP",
         "TED CRUZ",
         "17"
        ],
        [
         "45",
         "BEAVERHEADPRECINCT 07",
         "REP",
         "TED CRUZ",
         "16"
        ],
        [
         "46",
         "BEAVERHEADPRECINCT 08",
         "REP",
         "TED CRUZ",
         "3"
        ],
        [
         "47",
         "BEAVERHEADPRECINCT 09",
         "REP",
         "TED CRUZ",
         "12"
        ],
        [
         "48",
         "BEAVERHEADPRECINCT 01",
         "REP",
         "JOHN R. KASICH",
         "30"
        ],
        [
         "49",
         "BEAVERHEADPRECINCT 12",
         "REP",
         "JOHN R. KASICH",
         "30"
        ]
       ],
       "shape": {
        "columns": 4,
        "rows": 6174
       }
      },
      "text/html": [
       "<div>\n",
       "<style scoped>\n",
       "    .dataframe tbody tr th:only-of-type {\n",
       "        vertical-align: middle;\n",
       "    }\n",
       "\n",
       "    .dataframe tbody tr th {\n",
       "        vertical-align: top;\n",
       "    }\n",
       "\n",
       "    .dataframe thead th {\n",
       "        text-align: right;\n",
       "    }\n",
       "</style>\n",
       "<table border=\"1\" class=\"dataframe\">\n",
       "  <thead>\n",
       "    <tr style=\"text-align: right;\">\n",
       "      <th></th>\n",
       "      <th>precinct</th>\n",
       "      <th>party</th>\n",
       "      <th>candidate</th>\n",
       "      <th>votes</th>\n",
       "    </tr>\n",
       "  </thead>\n",
       "  <tbody>\n",
       "    <tr>\n",
       "      <th>0</th>\n",
       "      <td>BEAVERHEADPRECINCT 01</td>\n",
       "      <td>REP</td>\n",
       "      <td>JEB BUSH</td>\n",
       "      <td>10</td>\n",
       "    </tr>\n",
       "    <tr>\n",
       "      <th>1</th>\n",
       "      <td>BEAVERHEADPRECINCT 12</td>\n",
       "      <td>REP</td>\n",
       "      <td>JEB BUSH</td>\n",
       "      <td>16</td>\n",
       "    </tr>\n",
       "    <tr>\n",
       "      <th>2</th>\n",
       "      <td>BEAVERHEADPRECINCT 14</td>\n",
       "      <td>REP</td>\n",
       "      <td>JEB BUSH</td>\n",
       "      <td>3</td>\n",
       "    </tr>\n",
       "    <tr>\n",
       "      <th>3</th>\n",
       "      <td>BEAVERHEADPRECINCT 17</td>\n",
       "      <td>REP</td>\n",
       "      <td>JEB BUSH</td>\n",
       "      <td>3</td>\n",
       "    </tr>\n",
       "    <tr>\n",
       "      <th>4</th>\n",
       "      <td>BEAVERHEADPRECINCT 19</td>\n",
       "      <td>REP</td>\n",
       "      <td>JEB BUSH</td>\n",
       "      <td>0</td>\n",
       "    </tr>\n",
       "    <tr>\n",
       "      <th>...</th>\n",
       "      <td>...</td>\n",
       "      <td>...</td>\n",
       "      <td>...</td>\n",
       "      <td>...</td>\n",
       "    </tr>\n",
       "    <tr>\n",
       "      <th>6169</th>\n",
       "      <td>YELLOWSTONE55.1</td>\n",
       "      <td>DEM</td>\n",
       "      <td>NO PREFERENCE</td>\n",
       "      <td>2</td>\n",
       "    </tr>\n",
       "    <tr>\n",
       "      <th>6170</th>\n",
       "      <td>YELLOWSTONE40-45</td>\n",
       "      <td>DEM</td>\n",
       "      <td>NO PREFERENCE</td>\n",
       "      <td>6</td>\n",
       "    </tr>\n",
       "    <tr>\n",
       "      <th>6171</th>\n",
       "      <td>YELLOWSTONE56.2</td>\n",
       "      <td>DEM</td>\n",
       "      <td>NO PREFERENCE</td>\n",
       "      <td>50</td>\n",
       "    </tr>\n",
       "    <tr>\n",
       "      <th>6172</th>\n",
       "      <td>YELLOWSTONE56.1</td>\n",
       "      <td>DEM</td>\n",
       "      <td>NO PREFERENCE</td>\n",
       "      <td>5</td>\n",
       "    </tr>\n",
       "    <tr>\n",
       "      <th>6173</th>\n",
       "      <td>YELLOWSTONE54.2</td>\n",
       "      <td>DEM</td>\n",
       "      <td>NO PREFERENCE</td>\n",
       "      <td>10</td>\n",
       "    </tr>\n",
       "  </tbody>\n",
       "</table>\n",
       "<p>6174 rows × 4 columns</p>\n",
       "</div>"
      ],
      "text/plain": [
       "                   precinct party      candidate  votes\n",
       "0     BEAVERHEADPRECINCT 01   REP       JEB BUSH     10\n",
       "1     BEAVERHEADPRECINCT 12   REP       JEB BUSH     16\n",
       "2     BEAVERHEADPRECINCT 14   REP       JEB BUSH      3\n",
       "3     BEAVERHEADPRECINCT 17   REP       JEB BUSH      3\n",
       "4     BEAVERHEADPRECINCT 19   REP       JEB BUSH      0\n",
       "...                     ...   ...            ...    ...\n",
       "6169        YELLOWSTONE55.1   DEM  NO PREFERENCE      2\n",
       "6170       YELLOWSTONE40-45   DEM  NO PREFERENCE      6\n",
       "6171        YELLOWSTONE56.2   DEM  NO PREFERENCE     50\n",
       "6172        YELLOWSTONE56.1   DEM  NO PREFERENCE      5\n",
       "6173        YELLOWSTONE54.2   DEM  NO PREFERENCE     10\n",
       "\n",
       "[6174 rows x 4 columns]"
      ]
     },
     "execution_count": 8,
     "metadata": {},
     "output_type": "execute_result"
    }
   ],
   "source": [
    "# Select only the relevant columns\n",
    "primary_data = pri_combined_df[[\"precinct\", \"party\", \"candidate\", \"votes\"]]\n",
    "\n",
    "primary_data"
   ]
  },
  {
   "cell_type": "code",
   "execution_count": 9,
   "id": "dc2ffa15",
   "metadata": {},
   "outputs": [
    {
     "data": {
      "application/vnd.microsoft.datawrangler.viewer.v0+json": {
       "columns": [
        {
         "name": "candidate",
         "rawType": "object",
         "type": "string"
        },
        {
         "name": "count",
         "rawType": "int64",
         "type": "integer"
        }
       ],
       "ref": "b697ce5b-a456-4895-8c11-e770ee10e57c",
       "rows": [
        [
         "NO PREFERENCE",
         "1372"
        ],
        [
         "JEB BUSH",
         "686"
        ],
        [
         "HILLARY CLINTON",
         "686"
        ],
        [
         "TED CRUZ",
         "686"
        ],
        [
         "JOHN R. KASICH",
         "686"
        ],
        [
         "MARCO RUBIO",
         "686"
        ],
        [
         "BERNIE SANDERS",
         "686"
        ],
        [
         "DONALD J. TRUMP",
         "686"
        ]
       ],
       "shape": {
        "columns": 1,
        "rows": 8
       }
      },
      "text/plain": [
       "candidate\n",
       "NO PREFERENCE      1372\n",
       "JEB BUSH            686\n",
       "HILLARY CLINTON     686\n",
       "TED CRUZ            686\n",
       "JOHN R. KASICH      686\n",
       "MARCO RUBIO         686\n",
       "BERNIE SANDERS      686\n",
       "DONALD J. TRUMP     686\n",
       "Name: count, dtype: int64"
      ]
     },
     "execution_count": 9,
     "metadata": {},
     "output_type": "execute_result"
    }
   ],
   "source": [
    "# Viewing candidate data\n",
    "primary_data[\"candidate\"].value_counts(dropna=False)"
   ]
  },
  {
   "cell_type": "code",
   "execution_count": 10,
   "id": "5eef8778",
   "metadata": {},
   "outputs": [
    {
     "name": "stderr",
     "output_type": "stream",
     "text": [
      "C:\\Users\\ADMIN\\AppData\\Local\\Temp\\ipykernel_36524\\4046708412.py:33: SettingWithCopyWarning: \n",
      "A value is trying to be set on a copy of a slice from a DataFrame.\n",
      "Try using .loc[row_indexer,col_indexer] = value instead\n",
      "\n",
      "See the caveats in the documentation: https://pandas.pydata.org/pandas-docs/stable/user_guide/indexing.html#returning-a-view-versus-a-copy\n",
      "  primary_data[\"candidate\"] = primary_data[\"candidate\"].astype(str).str.upper()\n",
      "C:\\Users\\ADMIN\\AppData\\Local\\Temp\\ipykernel_36524\\4046708412.py:43: SettingWithCopyWarning: \n",
      "A value is trying to be set on a copy of a slice from a DataFrame.\n",
      "Try using .loc[row_indexer,col_indexer] = value instead\n",
      "\n",
      "See the caveats in the documentation: https://pandas.pydata.org/pandas-docs/stable/user_guide/indexing.html#returning-a-view-versus-a-copy\n",
      "  primary_data[\"candidate\"] = primary_data[\"candidate\"].str.split().str[-1]\n"
     ]
    },
    {
     "data": {
      "application/vnd.microsoft.datawrangler.viewer.v0+json": {
       "columns": [
        {
         "name": "candidate",
         "rawType": "object",
         "type": "string"
        },
        {
         "name": "count",
         "rawType": "int64",
         "type": "integer"
        }
       ],
       "ref": "28f49f59-5508-4913-ba21-9d8a89329395",
       "rows": [
        [
         "BUSH",
         "686"
        ],
        [
         "CLINTON",
         "686"
        ],
        [
         "CRUZ",
         "686"
        ],
        [
         "KASICH",
         "686"
        ],
        [
         "RUBIO",
         "686"
        ],
        [
         "SANDERS",
         "686"
        ],
        [
         "TRUMP",
         "686"
        ]
       ],
       "shape": {
        "columns": 1,
        "rows": 7
       }
      },
      "text/plain": [
       "candidate\n",
       "BUSH       686\n",
       "CLINTON    686\n",
       "CRUZ       686\n",
       "KASICH     686\n",
       "RUBIO      686\n",
       "SANDERS    686\n",
       "TRUMP      686\n",
       "Name: count, dtype: int64"
      ]
     },
     "execution_count": 10,
     "metadata": {},
     "output_type": "execute_result"
    }
   ],
   "source": [
    "# Cleaning Candidates\n",
    "\n",
    "# Turning all primary data to uppercase\n",
    "# primary_data[\"candidate\"] = primary_data[\"candidate\"].astype(str).str.upper()\n",
    "\n",
    "# unwanted_keywords = [\n",
    "#     r\"\\w*VOTE\\w*\",\n",
    "#     r\"\\w*UNCOM\\w*\",\n",
    "#     r\"\\w*TOTAL\\w*\",\n",
    "#     r\"Blank Votes\", r\"All Others\",r\"Total Votes Cast\",r\"No Preference\"\n",
    "# ]\n",
    "\n",
    "# pattern = \"|\".join(unwanted_keywords)\n",
    "\n",
    "# # Assuming candidate column is already string and uppercase\n",
    "# primary_data = primary_data[~primary_data[\"candidate\"].str.upper().str.contains(pattern, regex=True, na=False)]\n",
    "\n",
    "#fIXING DE LA FUENTE\n",
    "# primary_data.loc[\n",
    "#     (\n",
    "#         primary_data[\"candidate\"].str.contains(\"rocky.*fuente\", case=False, na=False) |\n",
    "#         primary_data[\"candidate\"].str.contains(\"LA FUENTE\", case=False, na=False) |\n",
    "#         primary_data[\"candidate\"].str.contains(\"\\w*Fuque\\w*\", case=False, na=False)\n",
    "#     ),\n",
    "#     \"candidate\"\n",
    "# ] = \"LA FUENTE\"\n",
    "\n",
    "\n",
    "# primary_data.loc[:, \"candidate\"] = primary_data[\"candidate\"].replace({\n",
    "#     \"Donald I. Trump\": \"Donald J. Trump\",\n",
    "# })\n",
    "\n",
    "primary_data[\"candidate\"] = primary_data[\"candidate\"].astype(str).str.upper()\n",
    "# # Fixing the , candidate\n",
    "# primary_data[\"candidate\"] = (\n",
    "#     primary_data[\"candidate\"].str.split(\",\")\n",
    "#     .str[0]\n",
    "#     .str.strip()\n",
    "#     )\n",
    "\n",
    "primary_data = primary_data[~primary_data[\"candidate\"].isin([\"NO PREFERENCE\"])] \n",
    "# #Selecting only last name\n",
    "primary_data[\"candidate\"] = primary_data[\"candidate\"].str.split().str[-1]\n",
    "\n",
    "# Fixing Christie\n",
    "primary_data.loc[\n",
    "    primary_data[\"candidate\"].str.contains(\"CHRISTLE\", case=False, na=False),\n",
    "    \"candidate\"\n",
    "] = \"CHRISTIE\"\n",
    "\n",
    "# Fixing KASICH\n",
    "primary_data.loc[\n",
    "    primary_data[\"candidate\"].str.contains(\"KAISCH\", case=False, na=False),\n",
    "    \"candidate\"\n",
    "] = \"CHRISTIE\"\n",
    "\n",
    "# Fixing O'MALLEY\n",
    "primary_data.loc[\n",
    "    primary_data[\"candidate\"].str.contains(\"O'MALLEY\", case=False, na=False),\n",
    "    \"candidate\"\n",
    "] = \"O'MAILEY\"\n",
    "\n",
    "# Fixing O'MALLEY\n",
    "primary_data.loc[\n",
    "    primary_data[\"candidate\"].str.contains(\"PATAKL\", case=False, na=False),\n",
    "    \"candidate\"\n",
    "] = \"PATAKI\"\n",
    "\n",
    "# Fixing O'MALLEY\n",
    "primary_data.loc[\n",
    "    primary_data[\"candidate\"].str.contains(\"RUBLO\", case=False, na=False),\n",
    "    \"candidate\"\n",
    "] = \"RUBIO\"\n",
    "\n",
    "# # Fixing Huckabee\n",
    "# primary_data.loc[\n",
    "#     primary_data[\"candidate\"].str.contains(\"\\w*ABEE\\w*\", case=False, na=False),\n",
    "#     \"candidate\"\n",
    "# ] = \"HUCKABEE\"\n",
    "\n",
    "# # Fixing Fiorina\n",
    "# primary_data.loc[\n",
    "#     primary_data[\"candidate\"].str.contains(\"\\w*ORINA\\W*\", case=False, na=False),\n",
    "#     \"candidate\"\n",
    "# ] = \"FIORINA\"\n",
    "\n",
    "# # Fixing Gray\n",
    "# primary_data.loc[\n",
    "#     primary_data[\"candidate\"].str.contains(\"GREY\", case=False, na=False),\n",
    "#     \"candidate\"\n",
    "# ] = \"GRAY\"\n",
    "\n",
    "# # Fixing Wilson\n",
    "# primary_data.loc[\n",
    "#     primary_data[\"candidate\"].str.contains(\"WISON\", case=False, na=False),\n",
    "#     \"candidate\"\n",
    "# ] = \"WILSON\"\n",
    "\n",
    "\n",
    "# # Fixing separator \n",
    "# primary_data[\"candidate\"] = (\n",
    "#     primary_data[\"candidate\"]\n",
    "#     .str.split(r\"\\s*(?:and|/|&|–|-|\\+)\\s*\", n=1, expand=True)[0]\n",
    "#     .str.strip()\n",
    "#     .str.upper()\n",
    "# )\n",
    "\n",
    "# # Fixing McMullin\n",
    "\n",
    "# primary_data.loc[\n",
    "#     (\n",
    "#         primary_data[\"candidate\"].str.contains(\"MCMULLIN\", case=False, na=False) |\n",
    "#         primary_data[\"candidate\"].str.contains(\"EVAN MCMULLEN\", case=False, na=False)\n",
    "#     ),\n",
    "#     \"candidate\"\n",
    "# ] = \"MCMULLIN\"\n",
    "\n",
    "# primary_data.loc[\n",
    "#     primary_data[\"candidate\"].str.contains(\"De La Fuen\", case=False, na=False),\n",
    "#     \"candidate\"\n",
    "# ] = \"FUENTE D\"\n",
    "\n",
    "## SPLITTINNG BY ,\n",
    "# primary_data.loc[:,\"candidate\"] = (\n",
    "#     primary_data[\"candidate\"].str.split().str[0].str.upper()\n",
    "# )\n",
    "\n",
    "primary_data[\"candidate\"].value_counts(dropna=False)"
   ]
  },
  {
   "cell_type": "code",
   "execution_count": 11,
   "id": "dcc76af7",
   "metadata": {},
   "outputs": [
    {
     "data": {
      "application/vnd.microsoft.datawrangler.viewer.v0+json": {
       "columns": [
        {
         "name": "party",
         "rawType": "object",
         "type": "string"
        },
        {
         "name": "count",
         "rawType": "int64",
         "type": "integer"
        }
       ],
       "ref": "bb1d52bf-483c-4d8e-a995-cef703c792de",
       "rows": [
        [
         "REP",
         "3430"
        ],
        [
         "DEM",
         "1372"
        ]
       ],
       "shape": {
        "columns": 1,
        "rows": 2
       }
      },
      "text/plain": [
       "party\n",
       "REP    3430\n",
       "DEM    1372\n",
       "Name: count, dtype: int64"
      ]
     },
     "execution_count": 11,
     "metadata": {},
     "output_type": "execute_result"
    }
   ],
   "source": [
    "# Viewing Party\n",
    "primary_data[\"party\"].value_counts(dropna=False)"
   ]
  },
  {
   "cell_type": "code",
   "execution_count": 12,
   "id": "582aa6c5",
   "metadata": {},
   "outputs": [
    {
     "data": {
      "application/vnd.microsoft.datawrangler.viewer.v0+json": {
       "columns": [
        {
         "name": "party",
         "rawType": "object",
         "type": "string"
        },
        {
         "name": "count",
         "rawType": "int64",
         "type": "integer"
        }
       ],
       "ref": "b1b4b745-e7d4-45cb-828c-8572864ff83d",
       "rows": [
        [
         "REP",
         "3430"
        ],
        [
         "DEM",
         "1372"
        ]
       ],
       "shape": {
        "columns": 1,
        "rows": 2
       }
      },
      "text/plain": [
       "party\n",
       "REP    3430\n",
       "DEM    1372\n",
       "Name: count, dtype: int64"
      ]
     },
     "execution_count": 12,
     "metadata": {},
     "output_type": "execute_result"
    }
   ],
   "source": [
    "#=====================================\n",
    "# This function is used to look up party\n",
    "# for the candidate in the same df\n",
    "#=====================================\n",
    "def fill_party_from_data(row, df):\n",
    "    if pd.notna(row[\"party\"]):\n",
    "        return row[\"party\"]\n",
    "    \n",
    "    # Try to find other rows with the same candidate and known party\n",
    "    matches = df[(df[\"candidate\"] == row[\"candidate\"]) & (df[\"party\"].notna())]\n",
    "    if not matches.empty:\n",
    "        return matches[\"party\"].iloc[0]  # Return the first match's party\n",
    "    else:\n",
    "        return None  # Still unknown\n",
    "\n",
    "#=====================================\n",
    "# Example usage (uncomment and modify for your workflow)\n",
    "#=====================================\n",
    "# Fill party using internal data\n",
    "# primary_data[\"party\"] = primary_data.apply(\n",
    "#     lambda row: fill_party_from_data(row, primary_data),\n",
    "#     axis=1\n",
    "# )\n",
    "\n",
    "primary_data[\"party\"].value_counts(dropna=False)\n"
   ]
  },
  {
   "cell_type": "code",
   "execution_count": 13,
   "id": "34361751",
   "metadata": {},
   "outputs": [
    {
     "name": "stderr",
     "output_type": "stream",
     "text": [
      "C:\\Users\\ADMIN\\AppData\\Local\\Temp\\ipykernel_36524\\2220816968.py:3: SettingWithCopyWarning: \n",
      "A value is trying to be set on a copy of a slice from a DataFrame.\n",
      "Try using .loc[row_indexer,col_indexer] = value instead\n",
      "\n",
      "See the caveats in the documentation: https://pandas.pydata.org/pandas-docs/stable/user_guide/indexing.html#returning-a-view-versus-a-copy\n",
      "  primary_data[\"party\"] = primary_data[\"party\"].astype(str).str.upper()\n",
      "C:\\Users\\ADMIN\\AppData\\Local\\Temp\\ipykernel_36524\\2220816968.py:5: SettingWithCopyWarning: \n",
      "A value is trying to be set on a copy of a slice from a DataFrame.\n",
      "Try using .loc[row_indexer,col_indexer] = value instead\n",
      "\n",
      "See the caveats in the documentation: https://pandas.pydata.org/pandas-docs/stable/user_guide/indexing.html#returning-a-view-versus-a-copy\n",
      "  primary_data[\"party\"] = primary_data.apply(\n",
      "C:\\Users\\ADMIN\\AppData\\Local\\Temp\\ipykernel_36524\\2220816968.py:9: SettingWithCopyWarning: \n",
      "A value is trying to be set on a copy of a slice from a DataFrame.\n",
      "Try using .loc[row_indexer,col_indexer] = value instead\n",
      "\n",
      "See the caveats in the documentation: https://pandas.pydata.org/pandas-docs/stable/user_guide/indexing.html#returning-a-view-versus-a-copy\n",
      "  primary_data[\"party\"] = (\n"
     ]
    },
    {
     "data": {
      "application/vnd.microsoft.datawrangler.viewer.v0+json": {
       "columns": [
        {
         "name": "party",
         "rawType": "object",
         "type": "string"
        },
        {
         "name": "count",
         "rawType": "int64",
         "type": "integer"
        }
       ],
       "ref": "0f35cbf9-d1da-4096-92c5-e0d3a68fab44",
       "rows": [
        [
         "REP",
         "3430"
        ],
        [
         "DEM",
         "1372"
        ]
       ],
       "shape": {
        "columns": 1,
        "rows": 2
       }
      },
      "text/plain": [
       "party\n",
       "REP    3430\n",
       "DEM    1372\n",
       "Name: count, dtype: int64"
      ]
     },
     "execution_count": 13,
     "metadata": {},
     "output_type": "execute_result"
    }
   ],
   "source": [
    "# Cleaning Party\n",
    "# Turning all general data party to uppercase\n",
    "primary_data[\"party\"] = primary_data[\"party\"].astype(str).str.upper()\n",
    "\n",
    "primary_data[\"party\"] = primary_data.apply(\n",
    "    lambda row: fill_party_from_data(row, primary_data),\n",
    "    axis=1\n",
    ")\n",
    "primary_data[\"party\"] = (\n",
    "    primary_data[\"party\"]\n",
    "    .replace({\n",
    "        \"REPUBLICAN\": \"REP\",\n",
    "        \"R\": \"REP\",\n",
    "        \"DEMOCRATIC\": \"DEM\",\n",
    "        \"DEMOCRAT\":\"DEM\",\n",
    "        \"DEM\": \"DEM\",\n",
    "        \"D\": \"DEM\",\n",
    "        \"GREEN\": \"GRN\",\n",
    "        \"G\": \"GREEN\",\n",
    "        \"GREEN-RAINBOW\":\"GRN\",\n",
    "        \"LIBERTARIAN\": \"LIB\",\n",
    "        \"LBT\": \"LIB\",\n",
    "        \"L\": \"LIB\",\n",
    "        \"CONSTITUTION\": \"CON\",\n",
    "        \"NP\": \"IND\",\n",
    "        \"NON\": \"IND\",\n",
    "        \"WRI\": \"IND\",\n",
    "        \"WRITE-IN\": \"IND\",\n",
    "        \"ONA\": \"IND\",\n",
    "        \"GEN\": \"IND\",\n",
    "        \"NONE\":\"UNK\"\n",
    "    })\n",
    ")\n",
    "primary_data[\"party\"].value_counts(dropna=False)"
   ]
  },
  {
   "cell_type": "code",
   "execution_count": 14,
   "id": "a359cd18",
   "metadata": {},
   "outputs": [
    {
     "name": "stderr",
     "output_type": "stream",
     "text": [
      "C:\\Users\\ADMIN\\AppData\\Local\\Temp\\ipykernel_36524\\2521670330.py:1: SettingWithCopyWarning: \n",
      "A value is trying to be set on a copy of a slice from a DataFrame.\n",
      "Try using .loc[row_indexer,col_indexer] = value instead\n",
      "\n",
      "See the caveats in the documentation: https://pandas.pydata.org/pandas-docs/stable/user_guide/indexing.html#returning-a-view-versus-a-copy\n",
      "  primary_data.loc[:,\"candidate_column\"] = (\n"
     ]
    },
    {
     "data": {
      "application/vnd.microsoft.datawrangler.viewer.v0+json": {
       "columns": [
        {
         "name": "index",
         "rawType": "int64",
         "type": "integer"
        },
        {
         "name": "precinct",
         "rawType": "object",
         "type": "string"
        },
        {
         "name": "pri_dem_CLINTON",
         "rawType": "int64",
         "type": "integer"
        },
        {
         "name": "pri_dem_SANDERS",
         "rawType": "int64",
         "type": "integer"
        },
        {
         "name": "pri_rep_BUSH",
         "rawType": "int64",
         "type": "integer"
        },
        {
         "name": "pri_rep_CRUZ",
         "rawType": "int64",
         "type": "integer"
        },
        {
         "name": "pri_rep_KASICH",
         "rawType": "int64",
         "type": "integer"
        },
        {
         "name": "pri_rep_RUBIO",
         "rawType": "int64",
         "type": "integer"
        },
        {
         "name": "pri_rep_TRUMP",
         "rawType": "int64",
         "type": "integer"
        }
       ],
       "ref": "a07bb9f2-72d5-4c2e-a312-af43ca30142f",
       "rows": [
        [
         "0",
         "BEAVERHEADPRECINCT 01",
         "27",
         "44",
         "10",
         "18",
         "30",
         "8",
         "78"
        ],
        [
         "1",
         "BEAVERHEADPRECINCT 02",
         "22",
         "50",
         "9",
         "38",
         "23",
         "13",
         "252"
        ],
        [
         "2",
         "BEAVERHEADPRECINCT 03",
         "36",
         "33",
         "11",
         "35",
         "35",
         "18",
         "269"
        ],
        [
         "3",
         "BEAVERHEADPRECINCT 04",
         "10",
         "7",
         "5",
         "13",
         "7",
         "5",
         "76"
        ],
        [
         "4",
         "BEAVERHEADPRECINCT 05",
         "1",
         "1",
         "2",
         "7",
         "5",
         "2",
         "56"
        ],
        [
         "5",
         "BEAVERHEADPRECINCT 06",
         "27",
         "34",
         "7",
         "17",
         "24",
         "11",
         "157"
        ],
        [
         "6",
         "BEAVERHEADPRECINCT 07",
         "11",
         "13",
         "3",
         "16",
         "18",
         "7",
         "120"
        ],
        [
         "7",
         "BEAVERHEADPRECINCT 08",
         "2",
         "4",
         "2",
         "3",
         "6",
         "3",
         "37"
        ],
        [
         "8",
         "BEAVERHEADPRECINCT 09",
         "15",
         "29",
         "14",
         "12",
         "10",
         "7",
         "143"
        ],
        [
         "9",
         "BEAVERHEADPRECINCT 12",
         "38",
         "36",
         "16",
         "11",
         "30",
         "9",
         "148"
        ],
        [
         "10",
         "BEAVERHEADPRECINCT 14",
         "27",
         "41",
         "3",
         "12",
         "13",
         "6",
         "94"
        ],
        [
         "11",
         "BEAVERHEADPRECINCT 17",
         "8",
         "10",
         "3",
         "2",
         "2",
         "0",
         "44"
        ],
        [
         "12",
         "BEAVERHEADPRECINCT 19",
         "2",
         "7",
         "0",
         "4",
         "4",
         "2",
         "67"
        ],
        [
         "13",
         "BEAVERHEADPRECINCT 20",
         "1",
         "0",
         "0",
         "3",
         "2",
         "3",
         "51"
        ],
        [
         "14",
         "BEAVERHEADPRECINCT 21",
         "11",
         "6",
         "4",
         "7",
         "3",
         "3",
         "55"
        ],
        [
         "15",
         "BEAVERHEADPRECINCT 23",
         "6",
         "8",
         "2",
         "5",
         "1",
         "1",
         "52"
        ],
        [
         "16",
         "BIG HORNPRECINCT #1",
         "8",
         "11",
         "2",
         "5",
         "1",
         "2",
         "46"
        ],
        [
         "17",
         "BIG HORNPRECINCT #10",
         "3",
         "2",
         "0",
         "1",
         "2",
         "3",
         "22"
        ],
        [
         "18",
         "BIG HORNPRECINCT #14",
         "18",
         "16",
         "0",
         "0",
         "0",
         "1",
         "12"
        ],
        [
         "19",
         "BIG HORNPRECINCT #15",
         "30",
         "50",
         "0",
         "4",
         "0",
         "0",
         "24"
        ],
        [
         "20",
         "BIG HORNPRECINCT #17",
         "32",
         "34",
         "1",
         "5",
         "3",
         "3",
         "83"
        ],
        [
         "21",
         "BIG HORNPRECINCT #18",
         "20",
         "28",
         "0",
         "12",
         "3",
         "2",
         "79"
        ],
        [
         "22",
         "BIG HORNPRECINCT #19",
         "34",
         "55",
         "5",
         "16",
         "1",
         "5",
         "122"
        ],
        [
         "23",
         "BIG HORNPRECINCT #2",
         "8",
         "10",
         "1",
         "2",
         "1",
         "1",
         "22"
        ],
        [
         "24",
         "BIG HORNPRECINCT #21",
         "54",
         "35",
         "1",
         "1",
         "4",
         "0",
         "24"
        ],
        [
         "25",
         "BIG HORNPRECINCT #25",
         "9",
         "8",
         "0",
         "1",
         "0",
         "2",
         "17"
        ],
        [
         "26",
         "BIG HORNPRECINCT #26",
         "23",
         "37",
         "0",
         "6",
         "1",
         "2",
         "15"
        ],
        [
         "27",
         "BIG HORNPRECINCT #3",
         "7",
         "10",
         "0",
         "2",
         "1",
         "0",
         "45"
        ],
        [
         "28",
         "BIG HORNPRECINCT #4",
         "5",
         "5",
         "0",
         "5",
         "1",
         "0",
         "30"
        ],
        [
         "29",
         "BIG HORNPRECINCT #4N",
         "5",
         "10",
         "2",
         "3",
         "0",
         "1",
         "58"
        ],
        [
         "30",
         "BIG HORNPRECINCT #5",
         "26",
         "21",
         "1",
         "8",
         "1",
         "2",
         "14"
        ],
        [
         "31",
         "BIG HORNPRECINCT #6",
         "4",
         "6",
         "0",
         "1",
         "0",
         "0",
         "22"
        ],
        [
         "32",
         "BIG HORNPRECINCT #7",
         "101",
         "108",
         "1",
         "4",
         "2",
         "1",
         "18"
        ],
        [
         "33",
         "BIG HORNPRECINCT #8",
         "10",
         "15",
         "0",
         "2",
         "1",
         "2",
         "45"
        ],
        [
         "34",
         "BIG HORNPRECINCT #9",
         "17",
         "25",
         "0",
         "0",
         "0",
         "1",
         "6"
        ],
        [
         "35",
         "BLAINEBELKNAP 3-32",
         "49",
         "73",
         "1",
         "0",
         "0",
         "0",
         "13"
        ],
        [
         "36",
         "BLAINECHINOOK 11-33",
         "66",
         "103",
         "5",
         "21",
         "8",
         "10",
         "138"
        ],
        [
         "37",
         "BLAINEHARLEM 8-32",
         "52",
         "52",
         "0",
         "7",
         "1",
         "6",
         "45"
        ],
        [
         "38",
         "BLAINEHARLEM 9-32",
         "18",
         "24",
         "0",
         "0",
         "0",
         "0",
         "2"
        ],
        [
         "39",
         "BLAINEHAYS 15-32",
         "51",
         "91",
         "2",
         "1",
         "0",
         "0",
         "8"
        ],
        [
         "40",
         "BLAINENO CHINOOK 13-33",
         "7",
         "9",
         "0",
         "4",
         "3",
         "0",
         "38"
        ],
        [
         "41",
         "BLAINESO CHINOOK 10-32",
         "29",
         "39",
         "6",
         "15",
         "6",
         "2",
         "135"
        ],
        [
         "42",
         "BLAINETURNER 1-33",
         "8",
         "15",
         "2",
         "4",
         "7",
         "2",
         "109"
        ],
        [
         "43",
         "BROADWATERPRECINCT 1",
         "42",
         "74",
         "5",
         "21",
         "19",
         "5",
         "203"
        ],
        [
         "44",
         "BROADWATERPRECINCT 11",
         "41",
         "49",
         "4",
         "29",
         "11",
         "9",
         "255"
        ],
        [
         "45",
         "BROADWATERPRECINCT 12",
         "46",
         "53",
         "15",
         "27",
         "12",
         "20",
         "200"
        ],
        [
         "46",
         "BROADWATERPRECINCT 13",
         "18",
         "36",
         "7",
         "40",
         "3",
         "6",
         "200"
        ],
        [
         "47",
         "BROADWATERPRECINCT 7",
         "43",
         "45",
         "10",
         "26",
         "9",
         "7",
         "147"
        ],
        [
         "48",
         "CARBONP 1",
         "41",
         "43",
         "2",
         "16",
         "8",
         "8",
         "152"
        ],
        [
         "49",
         "CARBONP 10",
         "60",
         "82",
         "1",
         "11",
         "10",
         "3",
         "45"
        ]
       ],
       "shape": {
        "columns": 8,
        "rows": 692
       }
      },
      "text/html": [
       "<div>\n",
       "<style scoped>\n",
       "    .dataframe tbody tr th:only-of-type {\n",
       "        vertical-align: middle;\n",
       "    }\n",
       "\n",
       "    .dataframe tbody tr th {\n",
       "        vertical-align: top;\n",
       "    }\n",
       "\n",
       "    .dataframe thead th {\n",
       "        text-align: right;\n",
       "    }\n",
       "</style>\n",
       "<table border=\"1\" class=\"dataframe\">\n",
       "  <thead>\n",
       "    <tr style=\"text-align: right;\">\n",
       "      <th>candidate_column</th>\n",
       "      <th>precinct</th>\n",
       "      <th>pri_dem_CLINTON</th>\n",
       "      <th>pri_dem_SANDERS</th>\n",
       "      <th>pri_rep_BUSH</th>\n",
       "      <th>pri_rep_CRUZ</th>\n",
       "      <th>pri_rep_KASICH</th>\n",
       "      <th>pri_rep_RUBIO</th>\n",
       "      <th>pri_rep_TRUMP</th>\n",
       "    </tr>\n",
       "  </thead>\n",
       "  <tbody>\n",
       "    <tr>\n",
       "      <th>0</th>\n",
       "      <td>BEAVERHEADPRECINCT 01</td>\n",
       "      <td>27</td>\n",
       "      <td>44</td>\n",
       "      <td>10</td>\n",
       "      <td>18</td>\n",
       "      <td>30</td>\n",
       "      <td>8</td>\n",
       "      <td>78</td>\n",
       "    </tr>\n",
       "    <tr>\n",
       "      <th>1</th>\n",
       "      <td>BEAVERHEADPRECINCT 02</td>\n",
       "      <td>22</td>\n",
       "      <td>50</td>\n",
       "      <td>9</td>\n",
       "      <td>38</td>\n",
       "      <td>23</td>\n",
       "      <td>13</td>\n",
       "      <td>252</td>\n",
       "    </tr>\n",
       "    <tr>\n",
       "      <th>2</th>\n",
       "      <td>BEAVERHEADPRECINCT 03</td>\n",
       "      <td>36</td>\n",
       "      <td>33</td>\n",
       "      <td>11</td>\n",
       "      <td>35</td>\n",
       "      <td>35</td>\n",
       "      <td>18</td>\n",
       "      <td>269</td>\n",
       "    </tr>\n",
       "    <tr>\n",
       "      <th>3</th>\n",
       "      <td>BEAVERHEADPRECINCT 04</td>\n",
       "      <td>10</td>\n",
       "      <td>7</td>\n",
       "      <td>5</td>\n",
       "      <td>13</td>\n",
       "      <td>7</td>\n",
       "      <td>5</td>\n",
       "      <td>76</td>\n",
       "    </tr>\n",
       "    <tr>\n",
       "      <th>4</th>\n",
       "      <td>BEAVERHEADPRECINCT 05</td>\n",
       "      <td>1</td>\n",
       "      <td>1</td>\n",
       "      <td>2</td>\n",
       "      <td>7</td>\n",
       "      <td>5</td>\n",
       "      <td>2</td>\n",
       "      <td>56</td>\n",
       "    </tr>\n",
       "    <tr>\n",
       "      <th>...</th>\n",
       "      <td>...</td>\n",
       "      <td>...</td>\n",
       "      <td>...</td>\n",
       "      <td>...</td>\n",
       "      <td>...</td>\n",
       "      <td>...</td>\n",
       "      <td>...</td>\n",
       "      <td>...</td>\n",
       "    </tr>\n",
       "    <tr>\n",
       "      <th>687</th>\n",
       "      <td>YELLOWSTONE55.4</td>\n",
       "      <td>131</td>\n",
       "      <td>134</td>\n",
       "      <td>6</td>\n",
       "      <td>33</td>\n",
       "      <td>12</td>\n",
       "      <td>9</td>\n",
       "      <td>250</td>\n",
       "    </tr>\n",
       "    <tr>\n",
       "      <th>688</th>\n",
       "      <td>YELLOWSTONE55.5</td>\n",
       "      <td>199</td>\n",
       "      <td>164</td>\n",
       "      <td>11</td>\n",
       "      <td>82</td>\n",
       "      <td>47</td>\n",
       "      <td>15</td>\n",
       "      <td>421</td>\n",
       "    </tr>\n",
       "    <tr>\n",
       "      <th>689</th>\n",
       "      <td>YELLOWSTONE56.1</td>\n",
       "      <td>22</td>\n",
       "      <td>34</td>\n",
       "      <td>2</td>\n",
       "      <td>15</td>\n",
       "      <td>8</td>\n",
       "      <td>7</td>\n",
       "      <td>106</td>\n",
       "    </tr>\n",
       "    <tr>\n",
       "      <th>690</th>\n",
       "      <td>YELLOWSTONE56.2</td>\n",
       "      <td>274</td>\n",
       "      <td>318</td>\n",
       "      <td>21</td>\n",
       "      <td>138</td>\n",
       "      <td>63</td>\n",
       "      <td>30</td>\n",
       "      <td>882</td>\n",
       "    </tr>\n",
       "    <tr>\n",
       "      <th>691</th>\n",
       "      <td>YELLOWSTONE56.3</td>\n",
       "      <td>82</td>\n",
       "      <td>65</td>\n",
       "      <td>10</td>\n",
       "      <td>31</td>\n",
       "      <td>29</td>\n",
       "      <td>10</td>\n",
       "      <td>261</td>\n",
       "    </tr>\n",
       "  </tbody>\n",
       "</table>\n",
       "<p>692 rows × 8 columns</p>\n",
       "</div>"
      ],
      "text/plain": [
       "candidate_column               precinct  pri_dem_CLINTON  pri_dem_SANDERS  \\\n",
       "0                 BEAVERHEADPRECINCT 01               27               44   \n",
       "1                 BEAVERHEADPRECINCT 02               22               50   \n",
       "2                 BEAVERHEADPRECINCT 03               36               33   \n",
       "3                 BEAVERHEADPRECINCT 04               10                7   \n",
       "4                 BEAVERHEADPRECINCT 05                1                1   \n",
       "..                                  ...              ...              ...   \n",
       "687                     YELLOWSTONE55.4              131              134   \n",
       "688                     YELLOWSTONE55.5              199              164   \n",
       "689                     YELLOWSTONE56.1               22               34   \n",
       "690                     YELLOWSTONE56.2              274              318   \n",
       "691                     YELLOWSTONE56.3               82               65   \n",
       "\n",
       "candidate_column  pri_rep_BUSH  pri_rep_CRUZ  pri_rep_KASICH  pri_rep_RUBIO  \\\n",
       "0                           10            18              30              8   \n",
       "1                            9            38              23             13   \n",
       "2                           11            35              35             18   \n",
       "3                            5            13               7              5   \n",
       "4                            2             7               5              2   \n",
       "..                         ...           ...             ...            ...   \n",
       "687                          6            33              12              9   \n",
       "688                         11            82              47             15   \n",
       "689                          2            15               8              7   \n",
       "690                         21           138              63             30   \n",
       "691                         10            31              29             10   \n",
       "\n",
       "candidate_column  pri_rep_TRUMP  \n",
       "0                            78  \n",
       "1                           252  \n",
       "2                           269  \n",
       "3                            76  \n",
       "4                            56  \n",
       "..                          ...  \n",
       "687                         250  \n",
       "688                         421  \n",
       "689                         106  \n",
       "690                         882  \n",
       "691                         261  \n",
       "\n",
       "[692 rows x 8 columns]"
      ]
     },
     "execution_count": 14,
     "metadata": {},
     "output_type": "execute_result"
    }
   ],
   "source": [
    "primary_data.loc[:,\"candidate_column\"] = (\n",
    "    \"pri_\" +\n",
    "    primary_data[\"party\"].str.lower() + \"_\" +\n",
    "    primary_data[\"candidate\"]\n",
    ")\n",
    "\n",
    "# pivot the table\n",
    "primary_result = primary_data.pivot_table(\n",
    "    index=\"precinct\",\n",
    "    columns=\"candidate_column\",\n",
    "    values=\"votes\",\n",
    "    aggfunc=\"sum\",  \n",
    "    fill_value=0\n",
    ").reset_index()\n",
    "\n",
    "primary_result"
   ]
  },
  {
   "cell_type": "code",
   "execution_count": 15,
   "id": "f1ef9692",
   "metadata": {},
   "outputs": [
    {
     "data": {
      "text/plain": [
       "['C:\\\\Huy Phan\\\\College\\\\VoterTurnout\\\\data\\\\MT\\\\20161108__mt__general__precinct.csv']"
      ]
     },
     "execution_count": 15,
     "metadata": {},
     "output_type": "execute_result"
    }
   ],
   "source": [
    "# Process general files\n",
    "general_df_list = []\n",
    "\n",
    "for file in general_files:\n",
    "    try:\n",
    "        df = pd.read_csv(file)\n",
    "        \n",
    "        # Combine precinct as county + precinct\n",
    "        df[\"precinct\"] = df[\"county\"].astype(str) + df[\"precinct\"].astype(str)\n",
    "        df[\"precinct\"] = df[\"precinct\"].str.upper()\n",
    "        df[\"county\"] = df[\"county\"].str.upper()\n",
    "\n",
    "        # Cleaning maybe total precinct\n",
    "        if 'precinct' in df.columns:\n",
    "            df['precinct'] = df['precinct'].astype(str)                  \n",
    "            df = df[df['precinct'].str.upper() != \"TOTAL\"]               \n",
    "            df = df[df['precinct'].str.strip().str.upper() != \"TOTAL\"]   \n",
    "            df = df[df['precinct'].str.upper() != \"NAN\"]                \n",
    "        \n",
    "        if 'county' in df.columns:\n",
    "            df['county'] = df['county'].astype(str)                  \n",
    "            df = df[df['county'].str.upper() != \"TOTAL\"]               \n",
    "            df = df[df['county'].str.strip().str.upper() != \"TOTAL\"]   \n",
    "            df = df[df['county'].str.upper() != \"NAN\"]       \n",
    "            df = df[~df['county'].str.upper().str.contains(r\"\\w*TOTAL\\w*\", na=False)]      \n",
    "            \n",
    "        # Filtering out only President \n",
    "        if 'office' in df.columns:\n",
    "            df = df[df[\"office\"].str.upper() == \"PRESIDENT\"]\n",
    "        \n",
    "        # Dropping duplicates value\n",
    "        df = df.drop_duplicates()\n",
    "        \n",
    "        general_df_list.append(df)\n",
    "\n",
    "    except Exception as e:\n",
    "        print(f\"Error in {file}: {e}\")\n",
    "\n",
    "# Combine all cleaned files\n",
    "gen_combined_df = pd.concat(general_df_list, ignore_index=True)\n",
    "\n",
    "# Checking any suspicious precinct\n",
    "suspicious_precincts = gen_combined_df[\n",
    "    gen_combined_df[\"precinct\"].str.strip().str.upper().isin([\"TOTAL\", \"NAN\"])\n",
    "]\n",
    "general_files\n"
   ]
  },
  {
   "cell_type": "code",
   "execution_count": 16,
   "id": "1bbbd54d",
   "metadata": {},
   "outputs": [
    {
     "data": {
      "application/vnd.microsoft.datawrangler.viewer.v0+json": {
       "columns": [
        {
         "name": "index",
         "rawType": "int64",
         "type": "integer"
        },
        {
         "name": "precinct",
         "rawType": "object",
         "type": "string"
        },
        {
         "name": "party",
         "rawType": "object",
         "type": "string"
        },
        {
         "name": "candidate",
         "rawType": "object",
         "type": "string"
        },
        {
         "name": "votes",
         "rawType": "int64",
         "type": "integer"
        }
       ],
       "ref": "7170616e-926d-447a-bbf8-eea5e1fa9dde",
       "rows": [
        [
         "0",
         "BEAVERHEADPRECINCT 01",
         "Democrat",
         "Hillary Clinton",
         "175"
        ],
        [
         "1",
         "BEAVERHEADPRECINCT 12",
         "Democrat",
         "Hillary Clinton",
         "157"
        ],
        [
         "2",
         "BEAVERHEADPRECINCT 14",
         "Democrat",
         "Hillary Clinton",
         "125"
        ],
        [
         "3",
         "BEAVERHEADPRECINCT 17",
         "Democrat",
         "Hillary Clinton",
         "18"
        ],
        [
         "4",
         "BEAVERHEADPRECINCT 19",
         "Democrat",
         "Hillary Clinton",
         "14"
        ],
        [
         "5",
         "BEAVERHEADPRECINCT 02",
         "Democrat",
         "Hillary Clinton",
         "127"
        ],
        [
         "6",
         "BEAVERHEADPRECINCT 20",
         "Democrat",
         "Hillary Clinton",
         "2"
        ],
        [
         "7",
         "BEAVERHEADPRECINCT 21",
         "Democrat",
         "Hillary Clinton",
         "25"
        ],
        [
         "8",
         "BEAVERHEADPRECINCT 23",
         "Democrat",
         "Hillary Clinton",
         "29"
        ],
        [
         "9",
         "BEAVERHEADPRECINCT 03",
         "Democrat",
         "Hillary Clinton",
         "158"
        ],
        [
         "10",
         "BEAVERHEADPRECINCT 04",
         "Democrat",
         "Hillary Clinton",
         "34"
        ],
        [
         "11",
         "BEAVERHEADPRECINCT 05",
         "Democrat",
         "Hillary Clinton",
         "9"
        ],
        [
         "12",
         "BEAVERHEADPRECINCT 06",
         "Democrat",
         "Hillary Clinton",
         "129"
        ],
        [
         "13",
         "BEAVERHEADPRECINCT 07",
         "Democrat",
         "Hillary Clinton",
         "40"
        ],
        [
         "14",
         "BEAVERHEADPRECINCT 08",
         "Democrat",
         "Hillary Clinton",
         "14"
        ],
        [
         "15",
         "BEAVERHEADPRECINCT 09",
         "Democrat",
         "Hillary Clinton",
         "87"
        ],
        [
         "16",
         "BEAVERHEADPRECINCT 01",
         "American Delta",
         "Rocky Roque de la Fuenta",
         "1"
        ],
        [
         "17",
         "BEAVERHEADPRECINCT 12",
         "American Delta",
         "Rocky Roque de la Fuenta",
         "2"
        ],
        [
         "18",
         "BEAVERHEADPRECINCT 14",
         "American Delta",
         "Rocky Roque de la Fuenta",
         "2"
        ],
        [
         "19",
         "BEAVERHEADPRECINCT 17",
         "American Delta",
         "Rocky Roque de la Fuenta",
         "2"
        ],
        [
         "20",
         "BEAVERHEADPRECINCT 19",
         "American Delta",
         "Rocky Roque de la Fuenta",
         "1"
        ],
        [
         "21",
         "BEAVERHEADPRECINCT 02",
         "American Delta",
         "Rocky Roque de la Fuenta",
         "4"
        ],
        [
         "22",
         "BEAVERHEADPRECINCT 20",
         "American Delta",
         "Rocky Roque de la Fuenta",
         "0"
        ],
        [
         "23",
         "BEAVERHEADPRECINCT 21",
         "American Delta",
         "Rocky Roque de la Fuenta",
         "0"
        ],
        [
         "24",
         "BEAVERHEADPRECINCT 23",
         "American Delta",
         "Rocky Roque de la Fuenta",
         "0"
        ],
        [
         "25",
         "BEAVERHEADPRECINCT 03",
         "American Delta",
         "Rocky Roque de la Fuenta",
         "0"
        ],
        [
         "26",
         "BEAVERHEADPRECINCT 04",
         "American Delta",
         "Rocky Roque de la Fuenta",
         "0"
        ],
        [
         "27",
         "BEAVERHEADPRECINCT 05",
         "American Delta",
         "Rocky Roque de la Fuenta",
         "0"
        ],
        [
         "28",
         "BEAVERHEADPRECINCT 06",
         "American Delta",
         "Rocky Roque de la Fuenta",
         "2"
        ],
        [
         "29",
         "BEAVERHEADPRECINCT 07",
         "American Delta",
         "Rocky Roque de la Fuenta",
         "2"
        ],
        [
         "30",
         "BEAVERHEADPRECINCT 08",
         "American Delta",
         "Rocky Roque de la Fuenta",
         "1"
        ],
        [
         "31",
         "BEAVERHEADPRECINCT 09",
         "American Delta",
         "Rocky Roque de la Fuenta",
         "1"
        ],
        [
         "32",
         "BEAVERHEADPRECINCT 01",
         "Libertarian",
         "Gary Johnson",
         "48"
        ],
        [
         "33",
         "BEAVERHEADPRECINCT 12",
         "Libertarian",
         "Gary Johnson",
         "21"
        ],
        [
         "34",
         "BEAVERHEADPRECINCT 14",
         "Libertarian",
         "Gary Johnson",
         "27"
        ],
        [
         "35",
         "BEAVERHEADPRECINCT 17",
         "Libertarian",
         "Gary Johnson",
         "3"
        ],
        [
         "36",
         "BEAVERHEADPRECINCT 19",
         "Libertarian",
         "Gary Johnson",
         "6"
        ],
        [
         "37",
         "BEAVERHEADPRECINCT 02",
         "Libertarian",
         "Gary Johnson",
         "35"
        ],
        [
         "38",
         "BEAVERHEADPRECINCT 20",
         "Libertarian",
         "Gary Johnson",
         "0"
        ],
        [
         "39",
         "BEAVERHEADPRECINCT 21",
         "Libertarian",
         "Gary Johnson",
         "10"
        ],
        [
         "40",
         "BEAVERHEADPRECINCT 23",
         "Libertarian",
         "Gary Johnson",
         "5"
        ],
        [
         "41",
         "BEAVERHEADPRECINCT 03",
         "Libertarian",
         "Gary Johnson",
         "32"
        ],
        [
         "42",
         "BEAVERHEADPRECINCT 04",
         "Libertarian",
         "Gary Johnson",
         "6"
        ],
        [
         "43",
         "BEAVERHEADPRECINCT 05",
         "Libertarian",
         "Gary Johnson",
         "4"
        ],
        [
         "44",
         "BEAVERHEADPRECINCT 06",
         "Libertarian",
         "Gary Johnson",
         "35"
        ],
        [
         "45",
         "BEAVERHEADPRECINCT 07",
         "Libertarian",
         "Gary Johnson",
         "12"
        ],
        [
         "46",
         "BEAVERHEADPRECINCT 08",
         "Libertarian",
         "Gary Johnson",
         "2"
        ],
        [
         "47",
         "BEAVERHEADPRECINCT 09",
         "Libertarian",
         "Gary Johnson",
         "19"
        ],
        [
         "48",
         "BEAVERHEADPRECINCT 01",
         "Green",
         "Jill Stein",
         "15"
        ],
        [
         "49",
         "BEAVERHEADPRECINCT 12",
         "Green",
         "Jill Stein",
         "2"
        ]
       ],
       "shape": {
        "columns": 4,
        "rows": 3430
       }
      },
      "text/html": [
       "<div>\n",
       "<style scoped>\n",
       "    .dataframe tbody tr th:only-of-type {\n",
       "        vertical-align: middle;\n",
       "    }\n",
       "\n",
       "    .dataframe tbody tr th {\n",
       "        vertical-align: top;\n",
       "    }\n",
       "\n",
       "    .dataframe thead th {\n",
       "        text-align: right;\n",
       "    }\n",
       "</style>\n",
       "<table border=\"1\" class=\"dataframe\">\n",
       "  <thead>\n",
       "    <tr style=\"text-align: right;\">\n",
       "      <th></th>\n",
       "      <th>precinct</th>\n",
       "      <th>party</th>\n",
       "      <th>candidate</th>\n",
       "      <th>votes</th>\n",
       "    </tr>\n",
       "  </thead>\n",
       "  <tbody>\n",
       "    <tr>\n",
       "      <th>0</th>\n",
       "      <td>BEAVERHEADPRECINCT 01</td>\n",
       "      <td>Democrat</td>\n",
       "      <td>Hillary Clinton</td>\n",
       "      <td>175</td>\n",
       "    </tr>\n",
       "    <tr>\n",
       "      <th>1</th>\n",
       "      <td>BEAVERHEADPRECINCT 12</td>\n",
       "      <td>Democrat</td>\n",
       "      <td>Hillary Clinton</td>\n",
       "      <td>157</td>\n",
       "    </tr>\n",
       "    <tr>\n",
       "      <th>2</th>\n",
       "      <td>BEAVERHEADPRECINCT 14</td>\n",
       "      <td>Democrat</td>\n",
       "      <td>Hillary Clinton</td>\n",
       "      <td>125</td>\n",
       "    </tr>\n",
       "    <tr>\n",
       "      <th>3</th>\n",
       "      <td>BEAVERHEADPRECINCT 17</td>\n",
       "      <td>Democrat</td>\n",
       "      <td>Hillary Clinton</td>\n",
       "      <td>18</td>\n",
       "    </tr>\n",
       "    <tr>\n",
       "      <th>4</th>\n",
       "      <td>BEAVERHEADPRECINCT 19</td>\n",
       "      <td>Democrat</td>\n",
       "      <td>Hillary Clinton</td>\n",
       "      <td>14</td>\n",
       "    </tr>\n",
       "    <tr>\n",
       "      <th>...</th>\n",
       "      <td>...</td>\n",
       "      <td>...</td>\n",
       "      <td>...</td>\n",
       "      <td>...</td>\n",
       "    </tr>\n",
       "    <tr>\n",
       "      <th>3425</th>\n",
       "      <td>YELLOWSTONE55.1</td>\n",
       "      <td>Republican</td>\n",
       "      <td>Donald Trump</td>\n",
       "      <td>385</td>\n",
       "    </tr>\n",
       "    <tr>\n",
       "      <th>3426</th>\n",
       "      <td>YELLOWSTONE40-45</td>\n",
       "      <td>Republican</td>\n",
       "      <td>Donald Trump</td>\n",
       "      <td>626</td>\n",
       "    </tr>\n",
       "    <tr>\n",
       "      <th>3427</th>\n",
       "      <td>YELLOWSTONE56.2</td>\n",
       "      <td>Republican</td>\n",
       "      <td>Donald Trump</td>\n",
       "      <td>2144</td>\n",
       "    </tr>\n",
       "    <tr>\n",
       "      <th>3428</th>\n",
       "      <td>YELLOWSTONE56.1</td>\n",
       "      <td>Republican</td>\n",
       "      <td>Donald Trump</td>\n",
       "      <td>235</td>\n",
       "    </tr>\n",
       "    <tr>\n",
       "      <th>3429</th>\n",
       "      <td>YELLOWSTONE54.2</td>\n",
       "      <td>Republican</td>\n",
       "      <td>Donald Trump</td>\n",
       "      <td>616</td>\n",
       "    </tr>\n",
       "  </tbody>\n",
       "</table>\n",
       "<p>3430 rows × 4 columns</p>\n",
       "</div>"
      ],
      "text/plain": [
       "                   precinct       party        candidate  votes\n",
       "0     BEAVERHEADPRECINCT 01    Democrat  Hillary Clinton    175\n",
       "1     BEAVERHEADPRECINCT 12    Democrat  Hillary Clinton    157\n",
       "2     BEAVERHEADPRECINCT 14    Democrat  Hillary Clinton    125\n",
       "3     BEAVERHEADPRECINCT 17    Democrat  Hillary Clinton     18\n",
       "4     BEAVERHEADPRECINCT 19    Democrat  Hillary Clinton     14\n",
       "...                     ...         ...              ...    ...\n",
       "3425        YELLOWSTONE55.1  Republican     Donald Trump    385\n",
       "3426       YELLOWSTONE40-45  Republican     Donald Trump    626\n",
       "3427        YELLOWSTONE56.2  Republican     Donald Trump   2144\n",
       "3428        YELLOWSTONE56.1  Republican     Donald Trump    235\n",
       "3429        YELLOWSTONE54.2  Republican     Donald Trump    616\n",
       "\n",
       "[3430 rows x 4 columns]"
      ]
     },
     "execution_count": 16,
     "metadata": {},
     "output_type": "execute_result"
    }
   ],
   "source": [
    "# Select only the relevant columns\n",
    "general_data = gen_combined_df[[\"precinct\", \"party\", \"candidate\", \"votes\"]]\n",
    "\n",
    "general_data"
   ]
  },
  {
   "cell_type": "code",
   "execution_count": 17,
   "id": "38fba0f1",
   "metadata": {},
   "outputs": [
    {
     "data": {
      "application/vnd.microsoft.datawrangler.viewer.v0+json": {
       "columns": [
        {
         "name": "candidate",
         "rawType": "object",
         "type": "string"
        },
        {
         "name": "count",
         "rawType": "int64",
         "type": "integer"
        }
       ],
       "ref": "35b8c735-7295-4743-b644-b48b16c19f59",
       "rows": [
        [
         "Hillary Clinton",
         "686"
        ],
        [
         "Rocky Roque de la Fuenta",
         "686"
        ],
        [
         "Gary Johnson",
         "686"
        ],
        [
         "Jill Stein",
         "686"
        ],
        [
         "Donald Trump",
         "686"
        ]
       ],
       "shape": {
        "columns": 1,
        "rows": 5
       }
      },
      "text/plain": [
       "candidate\n",
       "Hillary Clinton             686\n",
       "Rocky Roque de la Fuenta    686\n",
       "Gary Johnson                686\n",
       "Jill Stein                  686\n",
       "Donald Trump                686\n",
       "Name: count, dtype: int64"
      ]
     },
     "execution_count": 17,
     "metadata": {},
     "output_type": "execute_result"
    }
   ],
   "source": [
    "# Viewing candidate data\n",
    "general_data[\"candidate\"].value_counts(dropna=False)"
   ]
  },
  {
   "cell_type": "code",
   "execution_count": 18,
   "id": "90417a20",
   "metadata": {},
   "outputs": [
    {
     "name": "stderr",
     "output_type": "stream",
     "text": [
      "C:\\Users\\ADMIN\\AppData\\Local\\Temp\\ipykernel_36524\\3495485265.py:4: SettingWithCopyWarning: \n",
      "A value is trying to be set on a copy of a slice from a DataFrame.\n",
      "Try using .loc[row_indexer,col_indexer] = value instead\n",
      "\n",
      "See the caveats in the documentation: https://pandas.pydata.org/pandas-docs/stable/user_guide/indexing.html#returning-a-view-versus-a-copy\n",
      "  general_data[\"candidate\"] = general_data[\"candidate\"].astype(str).str.upper()\n",
      "C:\\Users\\ADMIN\\AppData\\Local\\Temp\\ipykernel_36524\\3495485265.py:107: SettingWithCopyWarning: \n",
      "A value is trying to be set on a copy of a slice from a DataFrame.\n",
      "Try using .loc[row_indexer,col_indexer] = value instead\n",
      "\n",
      "See the caveats in the documentation: https://pandas.pydata.org/pandas-docs/stable/user_guide/indexing.html#returning-a-view-versus-a-copy\n",
      "  general_data[\"candidate\"] = general_data[\"candidate\"].str.split().str[-1]\n"
     ]
    },
    {
     "data": {
      "application/vnd.microsoft.datawrangler.viewer.v0+json": {
       "columns": [
        {
         "name": "candidate",
         "rawType": "object",
         "type": "string"
        },
        {
         "name": "count",
         "rawType": "int64",
         "type": "integer"
        }
       ],
       "ref": "d3fa6e22-4906-4806-9696-eb5e3c630e6a",
       "rows": [
        [
         "CLINTON",
         "686"
        ],
        [
         "FUENTE",
         "686"
        ],
        [
         "JOHNSON",
         "686"
        ],
        [
         "STEIN",
         "686"
        ],
        [
         "TRUMP",
         "686"
        ]
       ],
       "shape": {
        "columns": 1,
        "rows": 5
       }
      },
      "text/plain": [
       "candidate\n",
       "CLINTON    686\n",
       "FUENTE     686\n",
       "JOHNSON    686\n",
       "STEIN      686\n",
       "TRUMP      686\n",
       "Name: count, dtype: int64"
      ]
     },
     "execution_count": 18,
     "metadata": {},
     "output_type": "execute_result"
    }
   ],
   "source": [
    "# Cleaning Candidates\n",
    "\n",
    "# Turning all general data to uppercase\n",
    "general_data[\"candidate\"] = general_data[\"candidate\"].astype(str).str.upper()\n",
    "\n",
    "\n",
    "# unwanted_keywords = [\n",
    "#     r\"\\w*VOTE\\w*\",\n",
    "#     r\"\\w*UNCOM\\w*\",\n",
    "#     r\"\\w*TOTAL\\w*\",\n",
    "#     r\"\\w*WRITE[\\s-]\\w*\",\n",
    "#     r\"NAN\",\n",
    "#     r\"UNCERTIFIED\",\n",
    "#     r\"UNVERIFIED\",\n",
    "#     r\"NONE OF THE ABOVE\",\n",
    "#     r\"LBT\",\n",
    "#     r\"DEM\",\n",
    "#     r\"REP\",\n",
    "#     r\"GRN\",\n",
    "#     r\"NAN\"\n",
    "\n",
    "# ]\n",
    "\n",
    "# Fixing FUENTE\n",
    "general_data.loc[\n",
    "    general_data[\"candidate\"].str.contains(\"\\w*Fuenta\\w*\", case=False, na=False),\n",
    "    \"candidate\"\n",
    "] = \"FUENTE\"\n",
    "# pattern = \"|\".join(unwanted_keywords)\n",
    "\n",
    "# # FILTER OUT TRASH WORDS\n",
    "# general_data = general_data[~general_data[\"candidate\"].str.upper().str.contains(pattern, regex=True, na=False)]\n",
    "\n",
    "# # Fixing Darrell Castle\"\n",
    "# general_data.loc[\n",
    "#     general_data[\"candidate\"].str.contains(\"\\w*ASTLE\\w*\", case=False, na=False),\n",
    "#     \"candidate\"\n",
    "# ] = \"CASTLE\"\n",
    "\n",
    "# general_data.loc[\n",
    "#     general_data[\"candidate\"].str.contains(\"\\w*ATUREN\\w*\", case=False, na=False),\n",
    "#     \"candidate\"\n",
    "# ] = \"MATUREN\"\n",
    "\n",
    "# # Fixing mixed president + vice_president by /\n",
    "# general_data[\"candidate\"] = (\n",
    "#     general_data[\"candidate\"].str.split(\"/\")\n",
    "#     .str[0]\n",
    "#     .str.strip()\n",
    "#     )\n",
    "\n",
    "# #Selecting only last name\n",
    "# general_data[\"candidate\"] = general_data[\"candidate\"].str.split().str[-1]\n",
    "\n",
    "# # Fixing the , candidate\n",
    "# # general_data[\"candidate\"] = (\n",
    "# #     general_data[\"candidate\"].str.split(\",\")\n",
    "# #     .str[0]\n",
    "# #     .str.strip()\n",
    "# #     )\n",
    "\n",
    "\n",
    "\n",
    "\n",
    "# # Fixing Cubbler\n",
    "# general_data.loc[\n",
    "#     ( \n",
    "#         general_data[\"candidate\"].str.contains(\"\\w*UBBIER\\w*\", case=False, na=False)|\n",
    "#         general_data[\"candidate\"].str.contains(\"\\w*UBLER\\w*\", case=False, na=False)|\n",
    "#         general_data[\"candidate\"].str.contains(\"\\w*OBBLER\\w*\", case=False, na=False),\n",
    "#     \"candidate\")\n",
    "# ] = \"CUBBLER\"\n",
    "\n",
    "\n",
    "# # Fixing Kotlikoff\n",
    "# general_data.loc[\n",
    "#     general_data[\"candidate\"].str.contains(\"\\w*TIKOFF\\w*\", case=False, na=False),\n",
    "#     \"candidate\"\n",
    "# ] = \"KOTLIKOFF\"\n",
    "\n",
    "# # Fixing Valdivia\n",
    "# general_data.loc[\n",
    "#     general_data[\"candidate\"].str.contains(\"\\w*VALDIVA\\W*\", case=False, na=False),\n",
    "#     \"candidate\"\n",
    "# ] = \"VALDIVIA\"\n",
    "\n",
    "# # Fixing HOEFLING\n",
    "# general_data.loc[\n",
    "#     general_data[\"candidate\"].str.contains(\"\\w*HOEFFLING\", case=False, na=False),\n",
    "#     \"candidate\"\n",
    "# ] = \"HOEFLING\"\n",
    "\n",
    "\n",
    "# # Fixing McMullin\n",
    "# general_data.loc[\n",
    "#     general_data[\"candidate\"].str.contains(\"MCMULLEN\", case=False, na=False) ,\n",
    "#     \"candidate\"\n",
    "# ] = \"MCMULLIN\"\n",
    "\n",
    "# Fixing LASTNAME + First name Initial\n",
    "# general_data.loc[:,\"candidate\"] = (\n",
    "#     general_data[\"candidate\"].str.split().str[0].str.upper()\n",
    "# )\n",
    "\n",
    "\n",
    "# #Selecting only last name\n",
    "general_data[\"candidate\"] = general_data[\"candidate\"].str.split().str[-1]\n",
    "\n",
    "general_data[\"candidate\"].value_counts(dropna=False)"
   ]
  },
  {
   "cell_type": "code",
   "execution_count": 19,
   "id": "a22405a6",
   "metadata": {},
   "outputs": [
    {
     "data": {
      "application/vnd.microsoft.datawrangler.viewer.v0+json": {
       "columns": [
        {
         "name": "party",
         "rawType": "object",
         "type": "string"
        },
        {
         "name": "count",
         "rawType": "int64",
         "type": "integer"
        }
       ],
       "ref": "e6774fb1-3ae5-44a6-ae79-37b4e2e3f018",
       "rows": [
        [
         "Democrat",
         "686"
        ],
        [
         "American Delta",
         "686"
        ],
        [
         "Libertarian",
         "686"
        ],
        [
         "Green",
         "686"
        ],
        [
         "Republican",
         "686"
        ]
       ],
       "shape": {
        "columns": 1,
        "rows": 5
       }
      },
      "text/plain": [
       "party\n",
       "Democrat          686\n",
       "American Delta    686\n",
       "Libertarian       686\n",
       "Green             686\n",
       "Republican        686\n",
       "Name: count, dtype: int64"
      ]
     },
     "execution_count": 19,
     "metadata": {},
     "output_type": "execute_result"
    }
   ],
   "source": [
    "# Viewing Party\n",
    "general_data[\"party\"].value_counts(dropna=False)"
   ]
  },
  {
   "cell_type": "code",
   "execution_count": 20,
   "id": "21d7595b",
   "metadata": {},
   "outputs": [
    {
     "data": {
      "application/vnd.microsoft.datawrangler.viewer.v0+json": {
       "columns": [
        {
         "name": "party",
         "rawType": "object",
         "type": "string"
        },
        {
         "name": "count",
         "rawType": "int64",
         "type": "integer"
        }
       ],
       "ref": "98b16143-887a-4295-9ac3-57840c235d19",
       "rows": [
        [
         "Democrat",
         "686"
        ],
        [
         "American Delta",
         "686"
        ],
        [
         "Libertarian",
         "686"
        ],
        [
         "Green",
         "686"
        ],
        [
         "Republican",
         "686"
        ]
       ],
       "shape": {
        "columns": 1,
        "rows": 5
       }
      },
      "text/plain": [
       "party\n",
       "Democrat          686\n",
       "American Delta    686\n",
       "Libertarian       686\n",
       "Green             686\n",
       "Republican        686\n",
       "Name: count, dtype: int64"
      ]
     },
     "execution_count": 20,
     "metadata": {},
     "output_type": "execute_result"
    }
   ],
   "source": [
    "#=====================================\n",
    "# This function is used to look up party\n",
    "# for the candidate in the same df\n",
    "#=====================================\n",
    "def fill_party_from_data(row, df):\n",
    "    if pd.notna(row[\"party\"]):\n",
    "        return row[\"party\"]\n",
    "    \n",
    "    # Try to find other rows with the same candidate and known party\n",
    "    matches = df[(df[\"candidate\"] == row[\"candidate\"]) & (df[\"party\"].notna())]\n",
    "    if not matches.empty:\n",
    "        return matches[\"party\"].iloc[0]  # Return the first match's party\n",
    "    else:\n",
    "        return None  # Still unknown\n",
    "    \n",
    "\n",
    "#=====================================\n",
    "# Function to update the master candidate-party CSV\n",
    "#=====================================\n",
    "def update_master_candidate_party(df, master_path):\n",
    "    # Read the existing master file\n",
    "    master_df = pd.read_csv(master_path)\n",
    "\n",
    "    # Filter and combine only known party entries (exclude 'UNK')\n",
    "    new_data = (\n",
    "        df[[\"candidate\", \"party\"]]\n",
    "        .dropna()\n",
    "        .query('party != \"UNK\"')\n",
    "        .drop_duplicates()\n",
    "    )\n",
    "\n",
    "    # Merge with master and remove duplicates by candidate\n",
    "    updated_master = pd.concat([master_df, new_data]).drop_duplicates(subset=\"candidate\")\n",
    "\n",
    "    # Save updated version\n",
    "    updated_master.to_csv(master_path, index=False)\n",
    "\n",
    "\n",
    "#=====================================\n",
    "# Function to update the master candidate-party CSV\n",
    "#=====================================\n",
    "def update_master_candidate_party(df, master_path):\n",
    "    # Read the existing master file\n",
    "    master_df = pd.read_csv(master_path)\n",
    "\n",
    "    # Filter and combine only known party entries (exclude 'UNK')\n",
    "    new_data = (\n",
    "        df[[\"candidate\", \"party\"]]\n",
    "        .dropna()\n",
    "        .query('party != \"UNK\"')\n",
    "        .drop_duplicates()\n",
    "    )\n",
    "\n",
    "    # Merge with master and remove duplicates by candidate\n",
    "    updated_master = pd.concat([master_df, new_data]).drop_duplicates(subset=\"candidate\")\n",
    "\n",
    "    # Save updated version\n",
    "    updated_master.to_csv(master_path, index=False)\n",
    "\n",
    "\n",
    "#=====================================\n",
    "# Example usage (uncomment and modify for your workflow)\n",
    "#=====================================\n",
    "# Fill party using internal data\n",
    "# general_data[\"party\"] = general_data.apply(\n",
    "#     lambda row: fill_party_from_data(row, general_data),\n",
    "#     axis=1\n",
    "# )\n",
    "\n",
    "# # Fill remaining party using general master CSV\n",
    "# master_party_df = pd.read_csv(r\"C:\\Huy Phan\\College\\VoterTurnout\\data\\cleaned_data\\gen_can_party.csv\") # USE YOUR OWN ADDRESS\n",
    "# general_data = fill_party_from_master(general_data, master_party_df)\n",
    "general_data[\"party\"].value_counts(dropna=False)\n"
   ]
  },
  {
   "cell_type": "code",
   "execution_count": 21,
   "id": "8bb5d275",
   "metadata": {},
   "outputs": [
    {
     "name": "stderr",
     "output_type": "stream",
     "text": [
      "C:\\Users\\ADMIN\\AppData\\Local\\Temp\\ipykernel_36524\\3171940742.py:3: SettingWithCopyWarning: \n",
      "A value is trying to be set on a copy of a slice from a DataFrame.\n",
      "Try using .loc[row_indexer,col_indexer] = value instead\n",
      "\n",
      "See the caveats in the documentation: https://pandas.pydata.org/pandas-docs/stable/user_guide/indexing.html#returning-a-view-versus-a-copy\n",
      "  general_data[\"party\"] = general_data[\"party\"].astype(str).str.upper()\n",
      "C:\\Users\\ADMIN\\AppData\\Local\\Temp\\ipykernel_36524\\3171940742.py:5: SettingWithCopyWarning: \n",
      "A value is trying to be set on a copy of a slice from a DataFrame.\n",
      "Try using .loc[row_indexer,col_indexer] = value instead\n",
      "\n",
      "See the caveats in the documentation: https://pandas.pydata.org/pandas-docs/stable/user_guide/indexing.html#returning-a-view-versus-a-copy\n",
      "  general_data[\"party\"] = (\n"
     ]
    },
    {
     "data": {
      "application/vnd.microsoft.datawrangler.viewer.v0+json": {
       "columns": [
        {
         "name": "party",
         "rawType": "object",
         "type": "string"
        },
        {
         "name": "count",
         "rawType": "int64",
         "type": "integer"
        }
       ],
       "ref": "9e429e57-2119-4d01-9cab-d5e9192ce4cd",
       "rows": [
        [
         "DEM",
         "686"
        ],
        [
         "AMD",
         "686"
        ],
        [
         "LIB",
         "686"
        ],
        [
         "GRN",
         "686"
        ],
        [
         "REP",
         "686"
        ]
       ],
       "shape": {
        "columns": 1,
        "rows": 5
       }
      },
      "text/plain": [
       "party\n",
       "DEM    686\n",
       "AMD    686\n",
       "LIB    686\n",
       "GRN    686\n",
       "REP    686\n",
       "Name: count, dtype: int64"
      ]
     },
     "execution_count": 21,
     "metadata": {},
     "output_type": "execute_result"
    }
   ],
   "source": [
    "# Cleaning Party\n",
    "# Turning all general data party to uppercase\n",
    "general_data[\"party\"] = general_data[\"party\"].astype(str).str.upper()\n",
    "\n",
    "general_data[\"party\"] = (\n",
    "    general_data[\"party\"]\n",
    "    .replace({\n",
    "        \"REPUBLICAN\": \"REP\",\n",
    "        \"R\": \"REP\",\n",
    "        \"DEMOCRATIC\": \"DEM\",\n",
    "        \"DEMOCRAT\":\"DEM\",\n",
    "        \"DEM\": \"DEM\",\n",
    "        \"D\": \"DEM\",\n",
    "        \"GREEN\": \"GRN\",\n",
    "        \"G\": \"GRN\",\n",
    "        \"GREEN AND RAINBOW\":\"GRN\",\n",
    "        \"GREEN-RAINBOW\":\"GRN\",\n",
    "        \"LIBERTARIAN\": \"LIB\",\n",
    "        \"LIBERTARIN\":\"LIB\",\n",
    "        \"LBT\": \"LIB\",\n",
    "        \"L\": \"LIB\",\n",
    "        \"CONSTITUTION\": \"CON\",\n",
    "        \"AMERICAN DELTA\":\"AMD\",\n",
    "        \"PROHIBITION\":\"PRO\",\n",
    "        \"NP\": \"IND\",\n",
    "        \"NON\": \"IND\",\n",
    "        \"WRI\": \"IND\",\n",
    "        \"WRITE-IN\": \"IND\",\n",
    "        \"ONA\": \"IND\",\n",
    "        \"GEN\": \"IND\",\n",
    "        \"NONE\":\"UNK\",\n",
    "        \"NPA\":\"IND\",\n",
    "        \"UST\":\"CON\",\n",
    "        \"(WRITE-IN)\":\"IND\"\n",
    "    })\n",
    ")\n",
    "\n",
    "general_data[\"party\"].value_counts(dropna=False)"
   ]
  },
  {
   "cell_type": "code",
   "execution_count": 22,
   "id": "ff4a4970",
   "metadata": {},
   "outputs": [],
   "source": [
    "# UPDATE MASTER FILE, CAREFUL\n",
    "update_master_candidate_party(general_data, r\"C:\\Huy Phan\\College\\VoterTurnout\\data\\cleaned_data\\gen_can_party.csv\")"
   ]
  },
  {
   "cell_type": "code",
   "execution_count": 23,
   "id": "daaed088",
   "metadata": {},
   "outputs": [
    {
     "name": "stderr",
     "output_type": "stream",
     "text": [
      "C:\\Users\\ADMIN\\AppData\\Local\\Temp\\ipykernel_36524\\1829951435.py:1: SettingWithCopyWarning: \n",
      "A value is trying to be set on a copy of a slice from a DataFrame.\n",
      "Try using .loc[row_indexer,col_indexer] = value instead\n",
      "\n",
      "See the caveats in the documentation: https://pandas.pydata.org/pandas-docs/stable/user_guide/indexing.html#returning-a-view-versus-a-copy\n",
      "  general_data[\"candidate_column\"] = (\n"
     ]
    },
    {
     "data": {
      "application/vnd.microsoft.datawrangler.viewer.v0+json": {
       "columns": [
        {
         "name": "index",
         "rawType": "int64",
         "type": "integer"
        },
        {
         "name": "precinct",
         "rawType": "object",
         "type": "string"
        },
        {
         "name": "gen_amd_FUENTE",
         "rawType": "int64",
         "type": "integer"
        },
        {
         "name": "gen_dem_CLINTON",
         "rawType": "int64",
         "type": "integer"
        },
        {
         "name": "gen_grn_STEIN",
         "rawType": "int64",
         "type": "integer"
        },
        {
         "name": "gen_lib_JOHNSON",
         "rawType": "int64",
         "type": "integer"
        },
        {
         "name": "gen_rep_TRUMP",
         "rawType": "int64",
         "type": "integer"
        }
       ],
       "ref": "86e57936-5017-46b7-a482-8221a8fb5d87",
       "rows": [
        [
         "0",
         "BEAVERHEADPRECINCT 01",
         "1",
         "175",
         "15",
         "48",
         "203"
        ],
        [
         "1",
         "BEAVERHEADPRECINCT 02",
         "4",
         "127",
         "16",
         "35",
         "551"
        ],
        [
         "2",
         "BEAVERHEADPRECINCT 03",
         "0",
         "158",
         "5",
         "32",
         "507"
        ],
        [
         "3",
         "BEAVERHEADPRECINCT 04",
         "0",
         "34",
         "1",
         "6",
         "131"
        ],
        [
         "4",
         "BEAVERHEADPRECINCT 05",
         "0",
         "9",
         "1",
         "4",
         "99"
        ],
        [
         "5",
         "BEAVERHEADPRECINCT 06",
         "2",
         "129",
         "10",
         "35",
         "324"
        ],
        [
         "6",
         "BEAVERHEADPRECINCT 07",
         "2",
         "40",
         "4",
         "12",
         "231"
        ],
        [
         "7",
         "BEAVERHEADPRECINCT 08",
         "1",
         "14",
         "0",
         "2",
         "56"
        ],
        [
         "8",
         "BEAVERHEADPRECINCT 09",
         "1",
         "87",
         "4",
         "19",
         "300"
        ],
        [
         "9",
         "BEAVERHEADPRECINCT 12",
         "2",
         "157",
         "2",
         "21",
         "270"
        ],
        [
         "10",
         "BEAVERHEADPRECINCT 14",
         "2",
         "125",
         "7",
         "27",
         "225"
        ],
        [
         "11",
         "BEAVERHEADPRECINCT 17",
         "2",
         "18",
         "1",
         "3",
         "82"
        ],
        [
         "12",
         "BEAVERHEADPRECINCT 19",
         "1",
         "14",
         "1",
         "6",
         "92"
        ],
        [
         "13",
         "BEAVERHEADPRECINCT 20",
         "0",
         "2",
         "1",
         "0",
         "74"
        ],
        [
         "14",
         "BEAVERHEADPRECINCT 21",
         "0",
         "25",
         "2",
         "10",
         "117"
        ],
        [
         "15",
         "BEAVERHEADPRECINCT 23",
         "0",
         "29",
         "0",
         "5",
         "91"
        ],
        [
         "16",
         "BIG HORNPRECINCT #1",
         "0",
         "56",
         "0",
         "4",
         "93"
        ],
        [
         "17",
         "BIG HORNPRECINCT #10",
         "0",
         "12",
         "1",
         "1",
         "49"
        ],
        [
         "18",
         "BIG HORNPRECINCT #14",
         "1",
         "70",
         "2",
         "7",
         "51"
        ],
        [
         "19",
         "BIG HORNPRECINCT #15",
         "3",
         "129",
         "7",
         "21",
         "107"
        ],
        [
         "20",
         "BIG HORNPRECINCT #17",
         "1",
         "116",
         "3",
         "15",
         "200"
        ],
        [
         "21",
         "BIG HORNPRECINCT #18",
         "1",
         "81",
         "5",
         "26",
         "194"
        ],
        [
         "22",
         "BIG HORNPRECINCT #19",
         "2",
         "172",
         "7",
         "35",
         "269"
        ],
        [
         "23",
         "BIG HORNPRECINCT #2",
         "0",
         "46",
         "0",
         "7",
         "56"
        ],
        [
         "24",
         "BIG HORNPRECINCT #21",
         "2",
         "228",
         "6",
         "4",
         "93"
        ],
        [
         "25",
         "BIG HORNPRECINCT #25",
         "1",
         "64",
         "1",
         "1",
         "57"
        ],
        [
         "26",
         "BIG HORNPRECINCT #26",
         "3",
         "224",
         "7",
         "11",
         "73"
        ],
        [
         "27",
         "BIG HORNPRECINCT #3",
         "0",
         "20",
         "0",
         "3",
         "114"
        ],
        [
         "28",
         "BIG HORNPRECINCT #4",
         "0",
         "13",
         "2",
         "2",
         "60"
        ],
        [
         "29",
         "BIG HORNPRECINCT #4N",
         "0",
         "16",
         "0",
         "4",
         "124"
        ],
        [
         "30",
         "BIG HORNPRECINCT #5",
         "0",
         "136",
         "2",
         "4",
         "48"
        ],
        [
         "31",
         "BIG HORNPRECINCT #6",
         "0",
         "14",
         "0",
         "2",
         "50"
        ],
        [
         "32",
         "BIG HORNPRECINCT #7",
         "6",
         "554",
         "25",
         "30",
         "89"
        ],
        [
         "33",
         "BIG HORNPRECINCT #8",
         "0",
         "46",
         "2",
         "5",
         "98"
        ],
        [
         "34",
         "BIG HORNPRECINCT #9",
         "1",
         "97",
         "1",
         "3",
         "28"
        ],
        [
         "35",
         "BLAINEBELKNAP 3-32",
         "2",
         "300",
         "17",
         "11",
         "35"
        ],
        [
         "36",
         "BLAINECHINOOK 11-33",
         "2",
         "172",
         "11",
         "37",
         "381"
        ],
        [
         "37",
         "BLAINEHARLEM 8-32",
         "2",
         "152",
         "11",
         "9",
         "113"
        ],
        [
         "38",
         "BLAINEHARLEM 9-32",
         "5",
         "126",
         "14",
         "3",
         "12"
        ],
        [
         "39",
         "BLAINEHAYS 15-32",
         "10",
         "350",
         "19",
         "11",
         "43"
        ],
        [
         "40",
         "BLAINENO CHINOOK 13-33",
         "0",
         "16",
         "0",
         "3",
         "97"
        ],
        [
         "41",
         "BLAINESO CHINOOK 10-32",
         "3",
         "54",
         "1",
         "19",
         "370"
        ],
        [
         "42",
         "BLAINETURNER 1-33",
         "2",
         "32",
         "0",
         "9",
         "217"
        ],
        [
         "43",
         "BROADWATERPRECINCT 1",
         "2",
         "150",
         "5",
         "24",
         "484"
        ],
        [
         "44",
         "BROADWATERPRECINCT 11",
         "0",
         "100",
         "6",
         "30",
         "513"
        ],
        [
         "45",
         "BROADWATERPRECINCT 12",
         "1",
         "132",
         "11",
         "42",
         "485"
        ],
        [
         "46",
         "BROADWATERPRECINCT 13",
         "1",
         "86",
         "10",
         "39",
         "532"
        ],
        [
         "47",
         "BROADWATERPRECINCT 7",
         "1",
         "105",
         "5",
         "34",
         "334"
        ],
        [
         "48",
         "CARBONP 1",
         "1",
         "100",
         "3",
         "19",
         "402"
        ],
        [
         "49",
         "CARBONP 10",
         "3",
         "221",
         "11",
         "28",
         "161"
        ]
       ],
       "shape": {
        "columns": 6,
        "rows": 686
       }
      },
      "text/html": [
       "<div>\n",
       "<style scoped>\n",
       "    .dataframe tbody tr th:only-of-type {\n",
       "        vertical-align: middle;\n",
       "    }\n",
       "\n",
       "    .dataframe tbody tr th {\n",
       "        vertical-align: top;\n",
       "    }\n",
       "\n",
       "    .dataframe thead th {\n",
       "        text-align: right;\n",
       "    }\n",
       "</style>\n",
       "<table border=\"1\" class=\"dataframe\">\n",
       "  <thead>\n",
       "    <tr style=\"text-align: right;\">\n",
       "      <th>candidate_column</th>\n",
       "      <th>precinct</th>\n",
       "      <th>gen_amd_FUENTE</th>\n",
       "      <th>gen_dem_CLINTON</th>\n",
       "      <th>gen_grn_STEIN</th>\n",
       "      <th>gen_lib_JOHNSON</th>\n",
       "      <th>gen_rep_TRUMP</th>\n",
       "    </tr>\n",
       "  </thead>\n",
       "  <tbody>\n",
       "    <tr>\n",
       "      <th>0</th>\n",
       "      <td>BEAVERHEADPRECINCT 01</td>\n",
       "      <td>1</td>\n",
       "      <td>175</td>\n",
       "      <td>15</td>\n",
       "      <td>48</td>\n",
       "      <td>203</td>\n",
       "    </tr>\n",
       "    <tr>\n",
       "      <th>1</th>\n",
       "      <td>BEAVERHEADPRECINCT 02</td>\n",
       "      <td>4</td>\n",
       "      <td>127</td>\n",
       "      <td>16</td>\n",
       "      <td>35</td>\n",
       "      <td>551</td>\n",
       "    </tr>\n",
       "    <tr>\n",
       "      <th>2</th>\n",
       "      <td>BEAVERHEADPRECINCT 03</td>\n",
       "      <td>0</td>\n",
       "      <td>158</td>\n",
       "      <td>5</td>\n",
       "      <td>32</td>\n",
       "      <td>507</td>\n",
       "    </tr>\n",
       "    <tr>\n",
       "      <th>3</th>\n",
       "      <td>BEAVERHEADPRECINCT 04</td>\n",
       "      <td>0</td>\n",
       "      <td>34</td>\n",
       "      <td>1</td>\n",
       "      <td>6</td>\n",
       "      <td>131</td>\n",
       "    </tr>\n",
       "    <tr>\n",
       "      <th>4</th>\n",
       "      <td>BEAVERHEADPRECINCT 05</td>\n",
       "      <td>0</td>\n",
       "      <td>9</td>\n",
       "      <td>1</td>\n",
       "      <td>4</td>\n",
       "      <td>99</td>\n",
       "    </tr>\n",
       "    <tr>\n",
       "      <th>...</th>\n",
       "      <td>...</td>\n",
       "      <td>...</td>\n",
       "      <td>...</td>\n",
       "      <td>...</td>\n",
       "      <td>...</td>\n",
       "      <td>...</td>\n",
       "    </tr>\n",
       "    <tr>\n",
       "      <th>681</th>\n",
       "      <td>YELLOWSTONE55.4</td>\n",
       "      <td>4</td>\n",
       "      <td>344</td>\n",
       "      <td>16</td>\n",
       "      <td>87</td>\n",
       "      <td>731</td>\n",
       "    </tr>\n",
       "    <tr>\n",
       "      <th>682</th>\n",
       "      <td>YELLOWSTONE55.5</td>\n",
       "      <td>5</td>\n",
       "      <td>501</td>\n",
       "      <td>11</td>\n",
       "      <td>115</td>\n",
       "      <td>1027</td>\n",
       "    </tr>\n",
       "    <tr>\n",
       "      <th>683</th>\n",
       "      <td>YELLOWSTONE56.1</td>\n",
       "      <td>0</td>\n",
       "      <td>64</td>\n",
       "      <td>5</td>\n",
       "      <td>20</td>\n",
       "      <td>235</td>\n",
       "    </tr>\n",
       "    <tr>\n",
       "      <th>684</th>\n",
       "      <td>YELLOWSTONE56.2</td>\n",
       "      <td>14</td>\n",
       "      <td>849</td>\n",
       "      <td>51</td>\n",
       "      <td>150</td>\n",
       "      <td>2144</td>\n",
       "    </tr>\n",
       "    <tr>\n",
       "      <th>685</th>\n",
       "      <td>YELLOWSTONE56.3</td>\n",
       "      <td>6</td>\n",
       "      <td>215</td>\n",
       "      <td>6</td>\n",
       "      <td>35</td>\n",
       "      <td>523</td>\n",
       "    </tr>\n",
       "  </tbody>\n",
       "</table>\n",
       "<p>686 rows × 6 columns</p>\n",
       "</div>"
      ],
      "text/plain": [
       "candidate_column               precinct  gen_amd_FUENTE  gen_dem_CLINTON  \\\n",
       "0                 BEAVERHEADPRECINCT 01               1              175   \n",
       "1                 BEAVERHEADPRECINCT 02               4              127   \n",
       "2                 BEAVERHEADPRECINCT 03               0              158   \n",
       "3                 BEAVERHEADPRECINCT 04               0               34   \n",
       "4                 BEAVERHEADPRECINCT 05               0                9   \n",
       "..                                  ...             ...              ...   \n",
       "681                     YELLOWSTONE55.4               4              344   \n",
       "682                     YELLOWSTONE55.5               5              501   \n",
       "683                     YELLOWSTONE56.1               0               64   \n",
       "684                     YELLOWSTONE56.2              14              849   \n",
       "685                     YELLOWSTONE56.3               6              215   \n",
       "\n",
       "candidate_column  gen_grn_STEIN  gen_lib_JOHNSON  gen_rep_TRUMP  \n",
       "0                            15               48            203  \n",
       "1                            16               35            551  \n",
       "2                             5               32            507  \n",
       "3                             1                6            131  \n",
       "4                             1                4             99  \n",
       "..                          ...              ...            ...  \n",
       "681                          16               87            731  \n",
       "682                          11              115           1027  \n",
       "683                           5               20            235  \n",
       "684                          51              150           2144  \n",
       "685                           6               35            523  \n",
       "\n",
       "[686 rows x 6 columns]"
      ]
     },
     "execution_count": 23,
     "metadata": {},
     "output_type": "execute_result"
    }
   ],
   "source": [
    "general_data[\"candidate_column\"] = (\n",
    "    \"gen_\" +\n",
    "    general_data[\"party\"].str.lower() + \"_\" +\n",
    "    general_data[\"candidate\"].str.split().str[-1].str.upper()\n",
    ")\n",
    "\n",
    "# pivot the table\n",
    "general_result = general_data.pivot_table(\n",
    "    index=\"precinct\",\n",
    "    columns=\"candidate_column\",\n",
    "    values=\"votes\",\n",
    "    aggfunc=\"sum\",  \n",
    "    fill_value=0\n",
    ").reset_index()\n",
    "\n",
    "general_result"
   ]
  },
  {
   "cell_type": "code",
   "execution_count": 24,
   "id": "6686d34b",
   "metadata": {},
   "outputs": [
    {
     "data": {
      "application/vnd.microsoft.datawrangler.viewer.v0+json": {
       "columns": [
        {
         "name": "index",
         "rawType": "int64",
         "type": "integer"
        },
        {
         "name": "precinct",
         "rawType": "object",
         "type": "string"
        },
        {
         "name": "pri_dem_CLINTON",
         "rawType": "int32",
         "type": "integer"
        },
        {
         "name": "pri_dem_SANDERS",
         "rawType": "int32",
         "type": "integer"
        },
        {
         "name": "pri_rep_BUSH",
         "rawType": "int32",
         "type": "integer"
        },
        {
         "name": "pri_rep_CRUZ",
         "rawType": "int32",
         "type": "integer"
        },
        {
         "name": "pri_rep_KASICH",
         "rawType": "int32",
         "type": "integer"
        },
        {
         "name": "pri_rep_RUBIO",
         "rawType": "int32",
         "type": "integer"
        },
        {
         "name": "pri_rep_TRUMP",
         "rawType": "int32",
         "type": "integer"
        },
        {
         "name": "gen_amd_FUENTE",
         "rawType": "int32",
         "type": "integer"
        },
        {
         "name": "gen_dem_CLINTON",
         "rawType": "int32",
         "type": "integer"
        },
        {
         "name": "gen_grn_STEIN",
         "rawType": "int32",
         "type": "integer"
        },
        {
         "name": "gen_lib_JOHNSON",
         "rawType": "int32",
         "type": "integer"
        },
        {
         "name": "gen_rep_TRUMP",
         "rawType": "int32",
         "type": "integer"
        },
        {
         "name": "dem_primary_total",
         "rawType": "int32",
         "type": "integer"
        },
        {
         "name": "rep_primary_total",
         "rawType": "int32",
         "type": "integer"
        },
        {
         "name": "dem_general_total",
         "rawType": "int32",
         "type": "integer"
        },
        {
         "name": "rep_general_total",
         "rawType": "int32",
         "type": "integer"
        }
       ],
       "ref": "b3587539-0aa9-47b9-804f-d7d5c12f794f",
       "rows": [
        [
         "0",
         "BEAVERHEADPRECINCT 01",
         "27",
         "44",
         "10",
         "18",
         "30",
         "8",
         "78",
         "1",
         "175",
         "15",
         "48",
         "203",
         "71",
         "144",
         "175",
         "203"
        ],
        [
         "1",
         "BEAVERHEADPRECINCT 02",
         "22",
         "50",
         "9",
         "38",
         "23",
         "13",
         "252",
         "4",
         "127",
         "16",
         "35",
         "551",
         "72",
         "335",
         "127",
         "551"
        ],
        [
         "2",
         "BEAVERHEADPRECINCT 03",
         "36",
         "33",
         "11",
         "35",
         "35",
         "18",
         "269",
         "0",
         "158",
         "5",
         "32",
         "507",
         "69",
         "368",
         "158",
         "507"
        ],
        [
         "3",
         "BEAVERHEADPRECINCT 04",
         "10",
         "7",
         "5",
         "13",
         "7",
         "5",
         "76",
         "0",
         "34",
         "1",
         "6",
         "131",
         "17",
         "106",
         "34",
         "131"
        ],
        [
         "4",
         "BEAVERHEADPRECINCT 05",
         "1",
         "1",
         "2",
         "7",
         "5",
         "2",
         "56",
         "0",
         "9",
         "1",
         "4",
         "99",
         "2",
         "72",
         "9",
         "99"
        ],
        [
         "5",
         "BEAVERHEADPRECINCT 06",
         "27",
         "34",
         "7",
         "17",
         "24",
         "11",
         "157",
         "2",
         "129",
         "10",
         "35",
         "324",
         "61",
         "216",
         "129",
         "324"
        ],
        [
         "6",
         "BEAVERHEADPRECINCT 07",
         "11",
         "13",
         "3",
         "16",
         "18",
         "7",
         "120",
         "2",
         "40",
         "4",
         "12",
         "231",
         "24",
         "164",
         "40",
         "231"
        ],
        [
         "7",
         "BEAVERHEADPRECINCT 08",
         "2",
         "4",
         "2",
         "3",
         "6",
         "3",
         "37",
         "1",
         "14",
         "0",
         "2",
         "56",
         "6",
         "51",
         "14",
         "56"
        ],
        [
         "8",
         "BEAVERHEADPRECINCT 09",
         "15",
         "29",
         "14",
         "12",
         "10",
         "7",
         "143",
         "1",
         "87",
         "4",
         "19",
         "300",
         "44",
         "186",
         "87",
         "300"
        ],
        [
         "9",
         "BEAVERHEADPRECINCT 12",
         "38",
         "36",
         "16",
         "11",
         "30",
         "9",
         "148",
         "2",
         "157",
         "2",
         "21",
         "270",
         "74",
         "214",
         "157",
         "270"
        ],
        [
         "10",
         "BEAVERHEADPRECINCT 14",
         "27",
         "41",
         "3",
         "12",
         "13",
         "6",
         "94",
         "2",
         "125",
         "7",
         "27",
         "225",
         "68",
         "128",
         "125",
         "225"
        ],
        [
         "11",
         "BEAVERHEADPRECINCT 17",
         "8",
         "10",
         "3",
         "2",
         "2",
         "0",
         "44",
         "2",
         "18",
         "1",
         "3",
         "82",
         "18",
         "51",
         "18",
         "82"
        ],
        [
         "12",
         "BEAVERHEADPRECINCT 19",
         "2",
         "7",
         "0",
         "4",
         "4",
         "2",
         "67",
         "1",
         "14",
         "1",
         "6",
         "92",
         "9",
         "77",
         "14",
         "92"
        ],
        [
         "13",
         "BEAVERHEADPRECINCT 20",
         "1",
         "0",
         "0",
         "3",
         "2",
         "3",
         "51",
         "0",
         "2",
         "1",
         "0",
         "74",
         "1",
         "59",
         "2",
         "74"
        ],
        [
         "14",
         "BEAVERHEADPRECINCT 21",
         "11",
         "6",
         "4",
         "7",
         "3",
         "3",
         "55",
         "0",
         "25",
         "2",
         "10",
         "117",
         "17",
         "72",
         "25",
         "117"
        ],
        [
         "15",
         "BEAVERHEADPRECINCT 23",
         "6",
         "8",
         "2",
         "5",
         "1",
         "1",
         "52",
         "0",
         "29",
         "0",
         "5",
         "91",
         "14",
         "61",
         "29",
         "91"
        ],
        [
         "16",
         "BIG HORNPRECINCT #1",
         "8",
         "11",
         "2",
         "5",
         "1",
         "2",
         "46",
         "0",
         "56",
         "0",
         "4",
         "93",
         "19",
         "56",
         "56",
         "93"
        ],
        [
         "17",
         "BIG HORNPRECINCT #10",
         "3",
         "2",
         "0",
         "1",
         "2",
         "3",
         "22",
         "0",
         "12",
         "1",
         "1",
         "49",
         "5",
         "28",
         "12",
         "49"
        ],
        [
         "18",
         "BIG HORNPRECINCT #14",
         "18",
         "16",
         "0",
         "0",
         "0",
         "1",
         "12",
         "1",
         "70",
         "2",
         "7",
         "51",
         "34",
         "13",
         "70",
         "51"
        ],
        [
         "19",
         "BIG HORNPRECINCT #15",
         "30",
         "50",
         "0",
         "4",
         "0",
         "0",
         "24",
         "3",
         "129",
         "7",
         "21",
         "107",
         "80",
         "28",
         "129",
         "107"
        ],
        [
         "20",
         "BIG HORNPRECINCT #17",
         "32",
         "34",
         "1",
         "5",
         "3",
         "3",
         "83",
         "1",
         "116",
         "3",
         "15",
         "200",
         "66",
         "95",
         "116",
         "200"
        ],
        [
         "21",
         "BIG HORNPRECINCT #18",
         "20",
         "28",
         "0",
         "12",
         "3",
         "2",
         "79",
         "1",
         "81",
         "5",
         "26",
         "194",
         "48",
         "96",
         "81",
         "194"
        ],
        [
         "22",
         "BIG HORNPRECINCT #19",
         "34",
         "55",
         "5",
         "16",
         "1",
         "5",
         "122",
         "2",
         "172",
         "7",
         "35",
         "269",
         "89",
         "149",
         "172",
         "269"
        ],
        [
         "23",
         "BIG HORNPRECINCT #2",
         "8",
         "10",
         "1",
         "2",
         "1",
         "1",
         "22",
         "0",
         "46",
         "0",
         "7",
         "56",
         "18",
         "27",
         "46",
         "56"
        ],
        [
         "24",
         "BIG HORNPRECINCT #21",
         "54",
         "35",
         "1",
         "1",
         "4",
         "0",
         "24",
         "2",
         "228",
         "6",
         "4",
         "93",
         "89",
         "30",
         "228",
         "93"
        ],
        [
         "25",
         "BIG HORNPRECINCT #25",
         "9",
         "8",
         "0",
         "1",
         "0",
         "2",
         "17",
         "1",
         "64",
         "1",
         "1",
         "57",
         "17",
         "20",
         "64",
         "57"
        ],
        [
         "26",
         "BIG HORNPRECINCT #26",
         "23",
         "37",
         "0",
         "6",
         "1",
         "2",
         "15",
         "3",
         "224",
         "7",
         "11",
         "73",
         "60",
         "24",
         "224",
         "73"
        ],
        [
         "27",
         "BIG HORNPRECINCT #3",
         "7",
         "10",
         "0",
         "2",
         "1",
         "0",
         "45",
         "0",
         "20",
         "0",
         "3",
         "114",
         "17",
         "48",
         "20",
         "114"
        ],
        [
         "28",
         "BIG HORNPRECINCT #4",
         "5",
         "5",
         "0",
         "5",
         "1",
         "0",
         "30",
         "0",
         "13",
         "2",
         "2",
         "60",
         "10",
         "36",
         "13",
         "60"
        ],
        [
         "29",
         "BIG HORNPRECINCT #4N",
         "5",
         "10",
         "2",
         "3",
         "0",
         "1",
         "58",
         "0",
         "16",
         "0",
         "4",
         "124",
         "15",
         "64",
         "16",
         "124"
        ],
        [
         "30",
         "BIG HORNPRECINCT #5",
         "26",
         "21",
         "1",
         "8",
         "1",
         "2",
         "14",
         "0",
         "136",
         "2",
         "4",
         "48",
         "47",
         "26",
         "136",
         "48"
        ],
        [
         "31",
         "BIG HORNPRECINCT #6",
         "4",
         "6",
         "0",
         "1",
         "0",
         "0",
         "22",
         "0",
         "14",
         "0",
         "2",
         "50",
         "10",
         "23",
         "14",
         "50"
        ],
        [
         "32",
         "BIG HORNPRECINCT #7",
         "101",
         "108",
         "1",
         "4",
         "2",
         "1",
         "18",
         "6",
         "554",
         "25",
         "30",
         "89",
         "209",
         "26",
         "554",
         "89"
        ],
        [
         "33",
         "BIG HORNPRECINCT #8",
         "10",
         "15",
         "0",
         "2",
         "1",
         "2",
         "45",
         "0",
         "46",
         "2",
         "5",
         "98",
         "25",
         "50",
         "46",
         "98"
        ],
        [
         "34",
         "BIG HORNPRECINCT #9",
         "17",
         "25",
         "0",
         "0",
         "0",
         "1",
         "6",
         "1",
         "97",
         "1",
         "3",
         "28",
         "42",
         "7",
         "97",
         "28"
        ],
        [
         "35",
         "BLAINEBELKNAP 3-32",
         "49",
         "73",
         "1",
         "0",
         "0",
         "0",
         "13",
         "2",
         "300",
         "17",
         "11",
         "35",
         "122",
         "14",
         "300",
         "35"
        ],
        [
         "36",
         "BLAINECHINOOK 11-33",
         "66",
         "103",
         "5",
         "21",
         "8",
         "10",
         "138",
         "2",
         "172",
         "11",
         "37",
         "381",
         "169",
         "182",
         "172",
         "381"
        ],
        [
         "37",
         "BLAINEHARLEM 8-32",
         "52",
         "52",
         "0",
         "7",
         "1",
         "6",
         "45",
         "2",
         "152",
         "11",
         "9",
         "113",
         "104",
         "59",
         "152",
         "113"
        ],
        [
         "38",
         "BLAINEHARLEM 9-32",
         "18",
         "24",
         "0",
         "0",
         "0",
         "0",
         "2",
         "5",
         "126",
         "14",
         "3",
         "12",
         "42",
         "2",
         "126",
         "12"
        ],
        [
         "39",
         "BLAINEHAYS 15-32",
         "51",
         "91",
         "2",
         "1",
         "0",
         "0",
         "8",
         "10",
         "350",
         "19",
         "11",
         "43",
         "142",
         "11",
         "350",
         "43"
        ],
        [
         "40",
         "BLAINENO CHINOOK 13-33",
         "7",
         "9",
         "0",
         "4",
         "3",
         "0",
         "38",
         "0",
         "16",
         "0",
         "3",
         "97",
         "16",
         "45",
         "16",
         "97"
        ],
        [
         "41",
         "BLAINESO CHINOOK 10-32",
         "29",
         "39",
         "6",
         "15",
         "6",
         "2",
         "135",
         "3",
         "54",
         "1",
         "19",
         "370",
         "68",
         "164",
         "54",
         "370"
        ],
        [
         "42",
         "BLAINETURNER 1-33",
         "8",
         "15",
         "2",
         "4",
         "7",
         "2",
         "109",
         "2",
         "32",
         "0",
         "9",
         "217",
         "23",
         "124",
         "32",
         "217"
        ],
        [
         "43",
         "BROADWATERPRECINCT 1",
         "42",
         "74",
         "5",
         "21",
         "19",
         "5",
         "203",
         "2",
         "150",
         "5",
         "24",
         "484",
         "116",
         "253",
         "150",
         "484"
        ],
        [
         "44",
         "BROADWATERPRECINCT 11",
         "41",
         "49",
         "4",
         "29",
         "11",
         "9",
         "255",
         "0",
         "100",
         "6",
         "30",
         "513",
         "90",
         "308",
         "100",
         "513"
        ],
        [
         "45",
         "BROADWATERPRECINCT 12",
         "46",
         "53",
         "15",
         "27",
         "12",
         "20",
         "200",
         "1",
         "132",
         "11",
         "42",
         "485",
         "99",
         "274",
         "132",
         "485"
        ],
        [
         "46",
         "BROADWATERPRECINCT 13",
         "18",
         "36",
         "7",
         "40",
         "3",
         "6",
         "200",
         "1",
         "86",
         "10",
         "39",
         "532",
         "54",
         "256",
         "86",
         "532"
        ],
        [
         "47",
         "BROADWATERPRECINCT 7",
         "43",
         "45",
         "10",
         "26",
         "9",
         "7",
         "147",
         "1",
         "105",
         "5",
         "34",
         "334",
         "88",
         "199",
         "105",
         "334"
        ],
        [
         "48",
         "CARBONP 1",
         "41",
         "43",
         "2",
         "16",
         "8",
         "8",
         "152",
         "1",
         "100",
         "3",
         "19",
         "402",
         "84",
         "186",
         "100",
         "402"
        ],
        [
         "49",
         "CARBONP 10",
         "60",
         "82",
         "1",
         "11",
         "10",
         "3",
         "45",
         "3",
         "221",
         "11",
         "28",
         "161",
         "142",
         "70",
         "221",
         "161"
        ]
       ],
       "shape": {
        "columns": 17,
        "rows": 662
       }
      },
      "text/html": [
       "<div>\n",
       "<style scoped>\n",
       "    .dataframe tbody tr th:only-of-type {\n",
       "        vertical-align: middle;\n",
       "    }\n",
       "\n",
       "    .dataframe tbody tr th {\n",
       "        vertical-align: top;\n",
       "    }\n",
       "\n",
       "    .dataframe thead th {\n",
       "        text-align: right;\n",
       "    }\n",
       "</style>\n",
       "<table border=\"1\" class=\"dataframe\">\n",
       "  <thead>\n",
       "    <tr style=\"text-align: right;\">\n",
       "      <th>candidate_column</th>\n",
       "      <th>precinct</th>\n",
       "      <th>pri_dem_CLINTON</th>\n",
       "      <th>pri_dem_SANDERS</th>\n",
       "      <th>pri_rep_BUSH</th>\n",
       "      <th>pri_rep_CRUZ</th>\n",
       "      <th>pri_rep_KASICH</th>\n",
       "      <th>pri_rep_RUBIO</th>\n",
       "      <th>pri_rep_TRUMP</th>\n",
       "      <th>gen_amd_FUENTE</th>\n",
       "      <th>gen_dem_CLINTON</th>\n",
       "      <th>gen_grn_STEIN</th>\n",
       "      <th>gen_lib_JOHNSON</th>\n",
       "      <th>gen_rep_TRUMP</th>\n",
       "      <th>dem_primary_total</th>\n",
       "      <th>rep_primary_total</th>\n",
       "      <th>dem_general_total</th>\n",
       "      <th>rep_general_total</th>\n",
       "    </tr>\n",
       "  </thead>\n",
       "  <tbody>\n",
       "    <tr>\n",
       "      <th>0</th>\n",
       "      <td>BEAVERHEADPRECINCT 01</td>\n",
       "      <td>27</td>\n",
       "      <td>44</td>\n",
       "      <td>10</td>\n",
       "      <td>18</td>\n",
       "      <td>30</td>\n",
       "      <td>8</td>\n",
       "      <td>78</td>\n",
       "      <td>1</td>\n",
       "      <td>175</td>\n",
       "      <td>15</td>\n",
       "      <td>48</td>\n",
       "      <td>203</td>\n",
       "      <td>71</td>\n",
       "      <td>144</td>\n",
       "      <td>175</td>\n",
       "      <td>203</td>\n",
       "    </tr>\n",
       "    <tr>\n",
       "      <th>1</th>\n",
       "      <td>BEAVERHEADPRECINCT 02</td>\n",
       "      <td>22</td>\n",
       "      <td>50</td>\n",
       "      <td>9</td>\n",
       "      <td>38</td>\n",
       "      <td>23</td>\n",
       "      <td>13</td>\n",
       "      <td>252</td>\n",
       "      <td>4</td>\n",
       "      <td>127</td>\n",
       "      <td>16</td>\n",
       "      <td>35</td>\n",
       "      <td>551</td>\n",
       "      <td>72</td>\n",
       "      <td>335</td>\n",
       "      <td>127</td>\n",
       "      <td>551</td>\n",
       "    </tr>\n",
       "    <tr>\n",
       "      <th>2</th>\n",
       "      <td>BEAVERHEADPRECINCT 03</td>\n",
       "      <td>36</td>\n",
       "      <td>33</td>\n",
       "      <td>11</td>\n",
       "      <td>35</td>\n",
       "      <td>35</td>\n",
       "      <td>18</td>\n",
       "      <td>269</td>\n",
       "      <td>0</td>\n",
       "      <td>158</td>\n",
       "      <td>5</td>\n",
       "      <td>32</td>\n",
       "      <td>507</td>\n",
       "      <td>69</td>\n",
       "      <td>368</td>\n",
       "      <td>158</td>\n",
       "      <td>507</td>\n",
       "    </tr>\n",
       "    <tr>\n",
       "      <th>3</th>\n",
       "      <td>BEAVERHEADPRECINCT 04</td>\n",
       "      <td>10</td>\n",
       "      <td>7</td>\n",
       "      <td>5</td>\n",
       "      <td>13</td>\n",
       "      <td>7</td>\n",
       "      <td>5</td>\n",
       "      <td>76</td>\n",
       "      <td>0</td>\n",
       "      <td>34</td>\n",
       "      <td>1</td>\n",
       "      <td>6</td>\n",
       "      <td>131</td>\n",
       "      <td>17</td>\n",
       "      <td>106</td>\n",
       "      <td>34</td>\n",
       "      <td>131</td>\n",
       "    </tr>\n",
       "    <tr>\n",
       "      <th>4</th>\n",
       "      <td>BEAVERHEADPRECINCT 05</td>\n",
       "      <td>1</td>\n",
       "      <td>1</td>\n",
       "      <td>2</td>\n",
       "      <td>7</td>\n",
       "      <td>5</td>\n",
       "      <td>2</td>\n",
       "      <td>56</td>\n",
       "      <td>0</td>\n",
       "      <td>9</td>\n",
       "      <td>1</td>\n",
       "      <td>4</td>\n",
       "      <td>99</td>\n",
       "      <td>2</td>\n",
       "      <td>72</td>\n",
       "      <td>9</td>\n",
       "      <td>99</td>\n",
       "    </tr>\n",
       "    <tr>\n",
       "      <th>...</th>\n",
       "      <td>...</td>\n",
       "      <td>...</td>\n",
       "      <td>...</td>\n",
       "      <td>...</td>\n",
       "      <td>...</td>\n",
       "      <td>...</td>\n",
       "      <td>...</td>\n",
       "      <td>...</td>\n",
       "      <td>...</td>\n",
       "      <td>...</td>\n",
       "      <td>...</td>\n",
       "      <td>...</td>\n",
       "      <td>...</td>\n",
       "      <td>...</td>\n",
       "      <td>...</td>\n",
       "      <td>...</td>\n",
       "      <td>...</td>\n",
       "    </tr>\n",
       "    <tr>\n",
       "      <th>657</th>\n",
       "      <td>YELLOWSTONE55.4</td>\n",
       "      <td>131</td>\n",
       "      <td>134</td>\n",
       "      <td>6</td>\n",
       "      <td>33</td>\n",
       "      <td>12</td>\n",
       "      <td>9</td>\n",
       "      <td>250</td>\n",
       "      <td>4</td>\n",
       "      <td>344</td>\n",
       "      <td>16</td>\n",
       "      <td>87</td>\n",
       "      <td>731</td>\n",
       "      <td>265</td>\n",
       "      <td>310</td>\n",
       "      <td>344</td>\n",
       "      <td>731</td>\n",
       "    </tr>\n",
       "    <tr>\n",
       "      <th>658</th>\n",
       "      <td>YELLOWSTONE55.5</td>\n",
       "      <td>199</td>\n",
       "      <td>164</td>\n",
       "      <td>11</td>\n",
       "      <td>82</td>\n",
       "      <td>47</td>\n",
       "      <td>15</td>\n",
       "      <td>421</td>\n",
       "      <td>5</td>\n",
       "      <td>501</td>\n",
       "      <td>11</td>\n",
       "      <td>115</td>\n",
       "      <td>1027</td>\n",
       "      <td>363</td>\n",
       "      <td>576</td>\n",
       "      <td>501</td>\n",
       "      <td>1027</td>\n",
       "    </tr>\n",
       "    <tr>\n",
       "      <th>659</th>\n",
       "      <td>YELLOWSTONE56.1</td>\n",
       "      <td>22</td>\n",
       "      <td>34</td>\n",
       "      <td>2</td>\n",
       "      <td>15</td>\n",
       "      <td>8</td>\n",
       "      <td>7</td>\n",
       "      <td>106</td>\n",
       "      <td>0</td>\n",
       "      <td>64</td>\n",
       "      <td>5</td>\n",
       "      <td>20</td>\n",
       "      <td>235</td>\n",
       "      <td>56</td>\n",
       "      <td>138</td>\n",
       "      <td>64</td>\n",
       "      <td>235</td>\n",
       "    </tr>\n",
       "    <tr>\n",
       "      <th>660</th>\n",
       "      <td>YELLOWSTONE56.2</td>\n",
       "      <td>274</td>\n",
       "      <td>318</td>\n",
       "      <td>21</td>\n",
       "      <td>138</td>\n",
       "      <td>63</td>\n",
       "      <td>30</td>\n",
       "      <td>882</td>\n",
       "      <td>14</td>\n",
       "      <td>849</td>\n",
       "      <td>51</td>\n",
       "      <td>150</td>\n",
       "      <td>2144</td>\n",
       "      <td>592</td>\n",
       "      <td>1134</td>\n",
       "      <td>849</td>\n",
       "      <td>2144</td>\n",
       "    </tr>\n",
       "    <tr>\n",
       "      <th>661</th>\n",
       "      <td>YELLOWSTONE56.3</td>\n",
       "      <td>82</td>\n",
       "      <td>65</td>\n",
       "      <td>10</td>\n",
       "      <td>31</td>\n",
       "      <td>29</td>\n",
       "      <td>10</td>\n",
       "      <td>261</td>\n",
       "      <td>6</td>\n",
       "      <td>215</td>\n",
       "      <td>6</td>\n",
       "      <td>35</td>\n",
       "      <td>523</td>\n",
       "      <td>147</td>\n",
       "      <td>341</td>\n",
       "      <td>215</td>\n",
       "      <td>523</td>\n",
       "    </tr>\n",
       "  </tbody>\n",
       "</table>\n",
       "<p>662 rows × 17 columns</p>\n",
       "</div>"
      ],
      "text/plain": [
       "candidate_column               precinct  pri_dem_CLINTON  pri_dem_SANDERS  \\\n",
       "0                 BEAVERHEADPRECINCT 01               27               44   \n",
       "1                 BEAVERHEADPRECINCT 02               22               50   \n",
       "2                 BEAVERHEADPRECINCT 03               36               33   \n",
       "3                 BEAVERHEADPRECINCT 04               10                7   \n",
       "4                 BEAVERHEADPRECINCT 05                1                1   \n",
       "..                                  ...              ...              ...   \n",
       "657                     YELLOWSTONE55.4              131              134   \n",
       "658                     YELLOWSTONE55.5              199              164   \n",
       "659                     YELLOWSTONE56.1               22               34   \n",
       "660                     YELLOWSTONE56.2              274              318   \n",
       "661                     YELLOWSTONE56.3               82               65   \n",
       "\n",
       "candidate_column  pri_rep_BUSH  pri_rep_CRUZ  pri_rep_KASICH  pri_rep_RUBIO  \\\n",
       "0                           10            18              30              8   \n",
       "1                            9            38              23             13   \n",
       "2                           11            35              35             18   \n",
       "3                            5            13               7              5   \n",
       "4                            2             7               5              2   \n",
       "..                         ...           ...             ...            ...   \n",
       "657                          6            33              12              9   \n",
       "658                         11            82              47             15   \n",
       "659                          2            15               8              7   \n",
       "660                         21           138              63             30   \n",
       "661                         10            31              29             10   \n",
       "\n",
       "candidate_column  pri_rep_TRUMP  gen_amd_FUENTE  gen_dem_CLINTON  \\\n",
       "0                            78               1              175   \n",
       "1                           252               4              127   \n",
       "2                           269               0              158   \n",
       "3                            76               0               34   \n",
       "4                            56               0                9   \n",
       "..                          ...             ...              ...   \n",
       "657                         250               4              344   \n",
       "658                         421               5              501   \n",
       "659                         106               0               64   \n",
       "660                         882              14              849   \n",
       "661                         261               6              215   \n",
       "\n",
       "candidate_column  gen_grn_STEIN  gen_lib_JOHNSON  gen_rep_TRUMP  \\\n",
       "0                            15               48            203   \n",
       "1                            16               35            551   \n",
       "2                             5               32            507   \n",
       "3                             1                6            131   \n",
       "4                             1                4             99   \n",
       "..                          ...              ...            ...   \n",
       "657                          16               87            731   \n",
       "658                          11              115           1027   \n",
       "659                           5               20            235   \n",
       "660                          51              150           2144   \n",
       "661                           6               35            523   \n",
       "\n",
       "candidate_column  dem_primary_total  rep_primary_total  dem_general_total  \\\n",
       "0                                71                144                175   \n",
       "1                                72                335                127   \n",
       "2                                69                368                158   \n",
       "3                                17                106                 34   \n",
       "4                                 2                 72                  9   \n",
       "..                              ...                ...                ...   \n",
       "657                             265                310                344   \n",
       "658                             363                576                501   \n",
       "659                              56                138                 64   \n",
       "660                             592               1134                849   \n",
       "661                             147                341                215   \n",
       "\n",
       "candidate_column  rep_general_total  \n",
       "0                               203  \n",
       "1                               551  \n",
       "2                               507  \n",
       "3                               131  \n",
       "4                                99  \n",
       "..                              ...  \n",
       "657                             731  \n",
       "658                            1027  \n",
       "659                             235  \n",
       "660                            2144  \n",
       "661                             523  \n",
       "\n",
       "[662 rows x 17 columns]"
      ]
     },
     "execution_count": 24,
     "metadata": {},
     "output_type": "execute_result"
    }
   ],
   "source": [
    "# Merge\n",
    "combined = pd.merge(primary_result, general_result, on=\"precinct\", how=\"inner\")\n",
    "\n",
    "# Convert DEM primary columns to numeric and calculate total\n",
    "dem_cols = combined.filter(like=\"pri_dem_\").columns\n",
    "combined[dem_cols] = combined[dem_cols].apply(pd.to_numeric, errors=\"coerce\")\n",
    "combined[\"dem_primary_total\"] = combined[dem_cols].sum(axis=1)\n",
    "\n",
    "rep_cols = combined.filter(like=\"pri_rep_\").columns\n",
    "combined[rep_cols] = combined[rep_cols].apply(pd.to_numeric, errors=\"coerce\")\n",
    "combined[\"rep_primary_total\"] = combined[rep_cols].sum(axis=1)\n",
    "\n",
    "# Convert general election columns to numeric and calculate total\n",
    "\n",
    "gdem_cols = combined.filter(like=\"gen_dem_\").columns\n",
    "combined[gdem_cols] = combined[gdem_cols].apply(pd.to_numeric, errors=\"coerce\")\n",
    "combined[\"dem_general_total\"] = combined[gdem_cols].sum(axis=1)\n",
    "\n",
    "grep_cols = combined.filter(like=\"gen_rep_\").columns\n",
    "combined[grep_cols] = combined[grep_cols].apply(pd.to_numeric, errors=\"coerce\")\n",
    "combined[\"rep_general_total\"] = combined[grep_cols].sum(axis=1)\n",
    "\n",
    "# Convert all numeric columns to int\n",
    "for col in combined.columns[1:]:\n",
    "    combined[col] = pd.to_numeric(combined[col], errors='coerce').fillna(0).astype(int)\n",
    "\n",
    "# Identify filtered-out precincts\n",
    "primary_precincts = set(primary_result[\"precinct\"])\n",
    "general_precincts = set(general_result[\"precinct\"])\n",
    "combined_precincts = set(combined[\"precinct\"])\n",
    "\n",
    "primary_filtered_out = primary_precincts - combined_precincts\n",
    "general_filtered_out = general_precincts - combined_precincts\n",
    "\n",
    "\n",
    "combined"
   ]
  },
  {
   "cell_type": "code",
   "execution_count": 25,
   "id": "a6797e92",
   "metadata": {},
   "outputs": [],
   "source": [
    "\n",
    "\n",
    "combined.to_csv(\"MT.csv\", index=False)\n",
    "# Step 3: Identify unmatched precincts and retrieve full rows\n",
    "combined_precincts = set(combined[\"precinct\"])\n",
    "\n",
    "# Rows in primary_result but not in combined\n",
    "primary_filtered_out = primary_result[~primary_result[\"precinct\"].isin(combined_precincts)]\n",
    "primary_filtered_out.to_csv(\"MT_primary_filtered.csv\", index=False)\n",
    "\n",
    "# Rows in general_result but not in combined\n",
    "general_filtered_out = general_result[~general_result[\"precinct\"].isin(combined_precincts)]\n",
    "general_filtered_out.to_csv(\"MT_general_filtered.csv\", index=False)"
   ]
  },
  {
   "cell_type": "code",
   "execution_count": 26,
   "id": "b3d042ff",
   "metadata": {},
   "outputs": [
    {
     "name": "stdout",
     "output_type": "stream",
     "text": [
      "primary: 692, general: 686, combined: 662\n"
     ]
    }
   ],
   "source": [
    "print(f\"primary: {len(primary_precincts)}, general: {len(general_precincts)}, combined: {len(combined)}\")"
   ]
  },
  {
   "cell_type": "code",
   "execution_count": 27,
   "id": "9900725d",
   "metadata": {},
   "outputs": [
    {
     "name": "stdout",
     "output_type": "stream",
     "text": [
      "primary: 56, general: 56\n"
     ]
    }
   ],
   "source": [
    "print(f\"primary: {len(pri_combined_df['county'].unique())}, general: {len(gen_combined_df['county'].unique())}\")\n"
   ]
  },
  {
   "cell_type": "code",
   "execution_count": 28,
   "id": "b12d639e",
   "metadata": {},
   "outputs": [
    {
     "data": {
      "text/plain": [
       "array(['BEAVERHEAD', 'BIG HORN', 'BLAINE', 'BROADWATER', 'CARBON',\n",
       "       'CARTER', 'CASCADE', 'CHOUTEAU', 'CUSTER', 'DANIELS', 'DAWSON',\n",
       "       'DEER LODGE', 'FALLON', 'FERGUS', 'FLATHEAD', 'GALLATIN',\n",
       "       'GARFIELD', 'GLACIER', 'GOLDEN VALLEY', 'GRANITE', 'HILL',\n",
       "       'JEFFERSON', 'JUDITH BASIN', 'LAKE', 'LEWIS & CLARK', 'LIBERTY',\n",
       "       'LINCOLN', 'MADISON', 'MCCONE', 'MEAGHER', 'MINERAL', 'MISSOULA',\n",
       "       'MUSSELSHELL', 'PARK', 'PETROLEUM', 'PHILLIPS', 'PONDERA',\n",
       "       'POWDER RIVER', 'POWELL', 'PRAIRIE', 'RAVALLI', 'RICHLAND',\n",
       "       'ROOSEVELT', 'ROSEBUD', 'SANDERS', 'SHERIDAN', 'SILVER BOW',\n",
       "       'STILLWATER', 'SWEET GRASS', 'TETON', 'TOOLE', 'TREASURE',\n",
       "       'VALLEY', 'WHEATLAND', 'WIBAUX', 'YELLOWSTONE'], dtype=object)"
      ]
     },
     "execution_count": 28,
     "metadata": {},
     "output_type": "execute_result"
    }
   ],
   "source": [
    "pri_combined_df['county'].unique()"
   ]
  },
  {
   "cell_type": "code",
   "execution_count": 29,
   "id": "0fb1a12f",
   "metadata": {},
   "outputs": [
    {
     "data": {
      "text/plain": [
       "array(['BEAVERHEAD', 'BIG HORN', 'BLAINE', 'BROADWATER', 'CARBON',\n",
       "       'CARTER', 'CASCADE', 'CHOUTEAU', 'CUSTER', 'DANIELS', 'DAWSON',\n",
       "       'DEER LODGE', 'FALLON', 'FERGUS', 'FLATHEAD', 'GALLATIN',\n",
       "       'GARFIELD', 'GLACIER', 'GOLDEN VALLEY', 'GRANITE', 'HILL',\n",
       "       'JEFFERSON', 'JUDITH BASIN', 'LAKE', 'LEWIS & CLARK', 'LIBERTY',\n",
       "       'LINCOLN', 'MADISON', 'MCCONE', 'MEAGHER', 'MINERAL', 'MISSOULA',\n",
       "       'MUSSELSHELL', 'PARK', 'PETROLEUM', 'PHILLIPS', 'PONDERA',\n",
       "       'POWDER RIVER', 'POWELL', 'PRAIRIE', 'RAVALLI', 'RICHLAND',\n",
       "       'ROOSEVELT', 'ROSEBUD', 'SANDERS', 'SHERIDAN', 'SILVER BOW',\n",
       "       'STILLWATER', 'SWEET GRASS', 'TETON', 'TOOLE', 'TREASURE',\n",
       "       'VALLEY', 'WHEATLAND', 'WIBAUX', 'YELLOWSTONE'], dtype=object)"
      ]
     },
     "execution_count": 29,
     "metadata": {},
     "output_type": "execute_result"
    }
   ],
   "source": [
    "gen_combined_df['county'].unique()"
   ]
  },
  {
   "cell_type": "code",
   "execution_count": 30,
   "id": "b28d499d",
   "metadata": {},
   "outputs": [
    {
     "name": "stdout",
     "output_type": "stream",
     "text": [
      "Counties in primary but not in general: 0\n",
      "set()\n"
     ]
    }
   ],
   "source": [
    "primary_counties = set(pri_combined_df['county'].dropna().str.strip().str.upper())\n",
    "general_counties = set(gen_combined_df['county'].dropna().str.strip().str.upper())\n",
    "\n",
    "diff = primary_counties - general_counties\n",
    "print(f\"Counties in primary but not in general: {len(diff)}\")\n",
    "print(diff)\n"
   ]
  }
 ],
 "metadata": {
  "kernelspec": {
   "display_name": "Python 3",
   "language": "python",
   "name": "python3"
  },
  "language_info": {
   "codemirror_mode": {
    "name": "ipython",
    "version": 3
   },
   "file_extension": ".py",
   "mimetype": "text/x-python",
   "name": "python",
   "nbconvert_exporter": "python",
   "pygments_lexer": "ipython3",
   "version": "3.11.2"
  }
 },
 "nbformat": 4,
 "nbformat_minor": 5
}
